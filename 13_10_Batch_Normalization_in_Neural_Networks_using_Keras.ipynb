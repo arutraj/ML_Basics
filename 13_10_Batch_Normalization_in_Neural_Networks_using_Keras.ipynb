{
  "nbformat": 4,
  "nbformat_minor": 0,
  "metadata": {
    "kernelspec": {
      "name": "python3",
      "display_name": "Python 3"
    },
    "language_info": {
      "codemirror_mode": {
        "name": "ipython",
        "version": 3
      },
      "file_extension": ".py",
      "mimetype": "text/x-python",
      "name": "python",
      "nbconvert_exporter": "python",
      "pygments_lexer": "ipython3",
      "version": "3.6.5"
    },
    "colab": {
      "provenance": [],
      "machine_shape": "hm",
      "include_colab_link": true
    },
    "accelerator": "GPU"
  },
  "cells": [
    {
      "cell_type": "markdown",
      "metadata": {
        "id": "view-in-github",
        "colab_type": "text"
      },
      "source": [
        "<a href=\"https://colab.research.google.com/github/arutraj/ML_Basics/blob/main/13_10_Batch_Normalization_in_Neural_Networks_using_Keras.ipynb\" target=\"_parent\"><img src=\"https://colab.research.google.com/assets/colab-badge.svg\" alt=\"Open In Colab\"/></a>"
      ]
    },
    {
      "cell_type": "code",
      "metadata": {
        "id": "7Stn_DSAco5O"
      },
      "source": [
        "# %tensorflow_version 1.x"
      ],
      "execution_count": null,
      "outputs": []
    },
    {
      "cell_type": "markdown",
      "metadata": {
        "id": "xR7hbyyfuG9N"
      },
      "source": [
        "# Steps to solve Emergency vs Non-Emergency vehicle classification problem using Batch Normalization\n",
        "\n",
        "<ol>1. Loading the dataset</ol>\n",
        "<ol>2. Pre-processing the data</ol>\n",
        "<ol>3. Creating training and validation set</ol>\n",
        "<ol>4. Defining the model architecture</ol>\n",
        "<ol> <ol>* Adding batch normalization layer(s) </ol></ol>\n",
        "<ol>5. Compiling the model</ol>\n",
        "<ol>6. Training the model</ol>\n",
        "<ol>7. Evaluating model performance</ol>"
      ]
    },
    {
      "cell_type": "markdown",
      "metadata": {
        "id": "xq6rlm_puG9U"
      },
      "source": [
        "## 1. Loading the dataset"
      ]
    },
    {
      "cell_type": "code",
      "metadata": {
        "scrolled": true,
        "id": "XPYT-SDjuG9a"
      },
      "source": [
        "# import necessary libraries and functions\n",
        "import numpy as np\n",
        "import pandas as pd\n",
        "import matplotlib.pyplot as plt\n",
        "%matplotlib inline\n",
        "\n",
        "# importing layers from keras\n",
        "from keras.layers import Dense, InputLayer\n",
        "from keras.models import Sequential\n",
        "# importing adam optimizer from keras optimizer module\n",
        "from keras.optimizers import Adam\n",
        "\n",
        "# train_test_split to create training and validation set\n",
        "from sklearn.model_selection import train_test_split\n",
        "# accuracy_score to calculate the accuracy of predictions\n",
        "from sklearn.metrics import accuracy_score"
      ],
      "execution_count": 15,
      "outputs": []
    },
    {
      "cell_type": "code",
      "metadata": {
        "id": "-UaxENuHvEjb",
        "outputId": "4aea6ead-4b49-4e96-a0de-92c4365ca984",
        "colab": {
          "base_uri": "https://localhost:8080/"
        }
      },
      "source": [
        "from google.colab import drive\n",
        "drive.mount('/content/drive')"
      ],
      "execution_count": 2,
      "outputs": [
        {
          "output_type": "stream",
          "name": "stdout",
          "text": [
            "Mounted at /content/drive\n"
          ]
        }
      ]
    },
    {
      "cell_type": "code",
      "metadata": {
        "id": "huxIDEqgvKZj",
        "outputId": "b1fb0b40-eb2f-433e-85d7-425c54568bc2",
        "colab": {
          "base_uri": "https://localhost:8080/"
        }
      },
      "source": [
        "!ls /content/drive/MyDrive/AnalyticsVidya/DeepLearning/images/*jpg |wc -l"
      ],
      "execution_count": 3,
      "outputs": [
        {
          "output_type": "stream",
          "name": "stdout",
          "text": [
            "2352\n"
          ]
        }
      ]
    },
    {
      "cell_type": "code",
      "metadata": {
        "id": "WZdipKFauG9t"
      },
      "source": [
        "# reading the csv file\n",
        "data = pd.read_csv('/content/emergency_classification.csv')"
      ],
      "execution_count": 14,
      "outputs": []
    },
    {
      "cell_type": "code",
      "metadata": {
        "id": "7pOqqh5GuG94"
      },
      "source": [
        "# create random number generator\n",
        "seed = 42"
      ],
      "execution_count": 5,
      "outputs": []
    },
    {
      "cell_type": "code",
      "metadata": {
        "id": "AMZyTsx3uG-W"
      },
      "source": [
        "# load images and store it in numpy array\n",
        "\n",
        "# empty list to store the images\n",
        "X = []\n",
        "# iterating over each image\n",
        "for img_name in data.image_names:\n",
        "    # loading the image using its name\n",
        "    img = plt.imread('/content/drive/MyDrive/AnalyticsVidya/DeepLearning/images/' + img_name)\n",
        "    # saving each image in the list\n",
        "    X.append(img)\n",
        "\n",
        "# converting the list of images into array\n",
        "X=np.array(X)\n",
        "\n",
        "# storing the target variable in separate variable\n",
        "y = data.emergency_or_not.values"
      ],
      "execution_count": 6,
      "outputs": []
    },
    {
      "cell_type": "markdown",
      "metadata": {
        "id": "IYNJtBXLuG-x"
      },
      "source": [
        "## 2. Pre-processing the data"
      ]
    },
    {
      "cell_type": "code",
      "metadata": {
        "scrolled": true,
        "id": "JsEZNNE_uG-2",
        "outputId": "deb09e9c-2e28-4e00-9500-26505cce4790",
        "colab": {
          "base_uri": "https://localhost:8080/"
        }
      },
      "source": [
        "# converting 3 dimensional image to 1 dimensional image\n",
        "X = X.reshape(X.shape[0], 224*224*3)\n",
        "X.shape"
      ],
      "execution_count": 7,
      "outputs": [
        {
          "output_type": "execute_result",
          "data": {
            "text/plain": [
              "(2352, 150528)"
            ]
          },
          "metadata": {},
          "execution_count": 7
        }
      ]
    },
    {
      "cell_type": "code",
      "metadata": {
        "id": "wI3hNx3uuG_L",
        "outputId": "9da01cee-8b07-42f1-87c8-5f1b6e75a7f3",
        "colab": {
          "base_uri": "https://localhost:8080/"
        }
      },
      "source": [
        "# normalizing the pixel values\n",
        "X = X / X.max()\n",
        "\n",
        "# minimum and maximum pixel values of images after normalizing\n",
        "X.min(), X.max()"
      ],
      "execution_count": 8,
      "outputs": [
        {
          "output_type": "execute_result",
          "data": {
            "text/plain": [
              "(0.0, 1.0)"
            ]
          },
          "metadata": {},
          "execution_count": 8
        }
      ]
    },
    {
      "cell_type": "markdown",
      "metadata": {
        "id": "Scbo48PLuG_b"
      },
      "source": [
        "## 3. Creating training and validation set"
      ]
    },
    {
      "cell_type": "code",
      "metadata": {
        "id": "-UmSQzb1uG_d"
      },
      "source": [
        "# creating a training and validation set\n",
        "X_train, X_valid, y_train, y_valid=train_test_split(X,y,test_size=0.3, random_state=seed)"
      ],
      "execution_count": 9,
      "outputs": []
    },
    {
      "cell_type": "code",
      "metadata": {
        "id": "xTC-FgDjuG_k",
        "outputId": "d53baea0-c6ec-4a71-ad68-6c2a792795a9",
        "colab": {
          "base_uri": "https://localhost:8080/"
        }
      },
      "source": [
        "# shape of training and validation set\n",
        "(X_train.shape, y_train.shape), (X_valid.shape, y_valid.shape)"
      ],
      "execution_count": 10,
      "outputs": [
        {
          "output_type": "execute_result",
          "data": {
            "text/plain": [
              "(((1646, 150528), (1646,)), ((706, 150528), (706,)))"
            ]
          },
          "metadata": {},
          "execution_count": 10
        }
      ]
    },
    {
      "cell_type": "markdown",
      "metadata": {
        "id": "vskdq-4huG_r"
      },
      "source": [
        "## 4. Defining the model architecture\n",
        "\n",
        "### <ol>Without Batch Normalization</ol>"
      ]
    },
    {
      "cell_type": "code",
      "metadata": {
        "id": "tLqmJg8PuHBs",
        "outputId": "604d391b-afce-4d95-9af9-619f849b6d54",
        "colab": {
          "base_uri": "https://localhost:8080/"
        }
      },
      "source": [
        "# defining the model architecture\n",
        "model=Sequential()\n",
        "\n",
        "model.add(InputLayer(input_shape=(224*224*3,)))\n",
        "model.add(Dense(100, activation='sigmoid'))\n",
        "model.add(Dense(100, activation='sigmoid'))\n",
        "model.add(Dense(units=1, activation='sigmoid'))\n",
        "\n",
        "model.summary()"
      ],
      "execution_count": 12,
      "outputs": [
        {
          "output_type": "stream",
          "name": "stdout",
          "text": [
            "Model: \"sequential\"\n",
            "_________________________________________________________________\n",
            " Layer (type)                Output Shape              Param #   \n",
            "=================================================================\n",
            " dense (Dense)               (None, 100)               15052900  \n",
            "                                                                 \n",
            " dense_1 (Dense)             (None, 100)               10100     \n",
            "                                                                 \n",
            " dense_2 (Dense)             (None, 1)                 101       \n",
            "                                                                 \n",
            "=================================================================\n",
            "Total params: 15063101 (57.46 MB)\n",
            "Trainable params: 15063101 (57.46 MB)\n",
            "Non-trainable params: 0 (0.00 Byte)\n",
            "_________________________________________________________________\n"
          ]
        }
      ]
    },
    {
      "cell_type": "markdown",
      "metadata": {
        "id": "FS__sDNVrjOs"
      },
      "source": [
        "## 5. Compiling the model"
      ]
    },
    {
      "cell_type": "code",
      "metadata": {
        "id": "BGovpAw_uHBp"
      },
      "source": [
        "# defining the adam optimizer and setting the learning rate as 10^-5\n",
        "adam = Adam(learning_rate=1e-5)"
      ],
      "execution_count": 18,
      "outputs": []
    },
    {
      "cell_type": "code",
      "metadata": {
        "id": "pcEUdq_Tri5x"
      },
      "source": [
        "# compiling the model\n",
        "\n",
        "# defining loss as binary crossentropy\n",
        "# defining optimizer as Adam\n",
        "# defining metrics as accuracy\n",
        "\n",
        "model.compile(loss='binary_crossentropy', optimizer=adam, metrics=['accuracy'])"
      ],
      "execution_count": 15,
      "outputs": []
    },
    {
      "cell_type": "markdown",
      "metadata": {
        "id": "UJ6D8X0JtD7f"
      },
      "source": [
        "## 6. Training the model"
      ]
    },
    {
      "cell_type": "code",
      "metadata": {
        "scrolled": false,
        "id": "KL7PHbMRuHBy",
        "outputId": "48f1e284-389e-4c87-fb7a-17fe6168f6b4",
        "colab": {
          "base_uri": "https://localhost:8080/"
        }
      },
      "source": [
        "# training the model for 50 epochs\n",
        "\n",
        "model_history = model.fit(X_train, y_train, epochs=50, batch_size=128,validation_data=(X_valid,y_valid))"
      ],
      "execution_count": 16,
      "outputs": [
        {
          "output_type": "stream",
          "name": "stdout",
          "text": [
            "Epoch 1/50\n",
            "13/13 [==============================] - 9s 473ms/step - loss: 0.6683 - accuracy: 0.5923 - val_loss: 0.6520 - val_accuracy: 0.6643\n",
            "Epoch 2/50\n",
            "13/13 [==============================] - 1s 120ms/step - loss: 0.6412 - accuracy: 0.6586 - val_loss: 0.6502 - val_accuracy: 0.5992\n",
            "Epoch 3/50\n",
            "13/13 [==============================] - 1s 114ms/step - loss: 0.6253 - accuracy: 0.6616 - val_loss: 0.6257 - val_accuracy: 0.6615\n",
            "Epoch 4/50\n",
            "13/13 [==============================] - 1s 96ms/step - loss: 0.6183 - accuracy: 0.6665 - val_loss: 0.6098 - val_accuracy: 0.6884\n",
            "Epoch 5/50\n",
            "13/13 [==============================] - 1s 90ms/step - loss: 0.6018 - accuracy: 0.6944 - val_loss: 0.6071 - val_accuracy: 0.6686\n",
            "Epoch 6/50\n",
            "13/13 [==============================] - 1s 111ms/step - loss: 0.5971 - accuracy: 0.7084 - val_loss: 0.6105 - val_accuracy: 0.6629\n",
            "Epoch 7/50\n",
            "13/13 [==============================] - 1s 98ms/step - loss: 0.5893 - accuracy: 0.7047 - val_loss: 0.6013 - val_accuracy: 0.6756\n",
            "Epoch 8/50\n",
            "13/13 [==============================] - 1s 117ms/step - loss: 0.5818 - accuracy: 0.7284 - val_loss: 0.6018 - val_accuracy: 0.6728\n",
            "Epoch 9/50\n",
            "13/13 [==============================] - 1s 107ms/step - loss: 0.5818 - accuracy: 0.7193 - val_loss: 0.5893 - val_accuracy: 0.6870\n",
            "Epoch 10/50\n",
            "13/13 [==============================] - 2s 144ms/step - loss: 0.5750 - accuracy: 0.7187 - val_loss: 0.5858 - val_accuracy: 0.7011\n",
            "Epoch 11/50\n",
            "13/13 [==============================] - 2s 128ms/step - loss: 0.5688 - accuracy: 0.7290 - val_loss: 0.5827 - val_accuracy: 0.6941\n",
            "Epoch 12/50\n",
            "13/13 [==============================] - 2s 134ms/step - loss: 0.5649 - accuracy: 0.7321 - val_loss: 0.5867 - val_accuracy: 0.6969\n",
            "Epoch 13/50\n",
            "13/13 [==============================] - 1s 113ms/step - loss: 0.5581 - accuracy: 0.7375 - val_loss: 0.5995 - val_accuracy: 0.6799\n",
            "Epoch 14/50\n",
            "13/13 [==============================] - 1s 94ms/step - loss: 0.5618 - accuracy: 0.7369 - val_loss: 0.5915 - val_accuracy: 0.6799\n",
            "Epoch 15/50\n",
            "13/13 [==============================] - 1s 118ms/step - loss: 0.5560 - accuracy: 0.7309 - val_loss: 0.5765 - val_accuracy: 0.6955\n",
            "Epoch 16/50\n",
            "13/13 [==============================] - 1s 118ms/step - loss: 0.5475 - accuracy: 0.7515 - val_loss: 0.5738 - val_accuracy: 0.7040\n",
            "Epoch 17/50\n",
            "13/13 [==============================] - 1s 114ms/step - loss: 0.5487 - accuracy: 0.7400 - val_loss: 0.5720 - val_accuracy: 0.6969\n",
            "Epoch 18/50\n",
            "13/13 [==============================] - 1s 89ms/step - loss: 0.5417 - accuracy: 0.7552 - val_loss: 0.5755 - val_accuracy: 0.7054\n",
            "Epoch 19/50\n",
            "13/13 [==============================] - 1s 91ms/step - loss: 0.5385 - accuracy: 0.7618 - val_loss: 0.5743 - val_accuracy: 0.7040\n",
            "Epoch 20/50\n",
            "13/13 [==============================] - 1s 120ms/step - loss: 0.5353 - accuracy: 0.7643 - val_loss: 0.5837 - val_accuracy: 0.6898\n",
            "Epoch 21/50\n",
            "13/13 [==============================] - 2s 186ms/step - loss: 0.5357 - accuracy: 0.7612 - val_loss: 0.5844 - val_accuracy: 0.6856\n",
            "Epoch 22/50\n",
            "13/13 [==============================] - 2s 190ms/step - loss: 0.5316 - accuracy: 0.7576 - val_loss: 0.5750 - val_accuracy: 0.7025\n",
            "Epoch 23/50\n",
            "13/13 [==============================] - 1s 90ms/step - loss: 0.5263 - accuracy: 0.7704 - val_loss: 0.5669 - val_accuracy: 0.7011\n",
            "Epoch 24/50\n",
            "13/13 [==============================] - 1s 90ms/step - loss: 0.5228 - accuracy: 0.7740 - val_loss: 0.5670 - val_accuracy: 0.7040\n",
            "Epoch 25/50\n",
            "13/13 [==============================] - 1s 113ms/step - loss: 0.5212 - accuracy: 0.7679 - val_loss: 0.5647 - val_accuracy: 0.6997\n",
            "Epoch 26/50\n",
            "13/13 [==============================] - 1s 87ms/step - loss: 0.5184 - accuracy: 0.7734 - val_loss: 0.5624 - val_accuracy: 0.7054\n",
            "Epoch 27/50\n",
            "13/13 [==============================] - 1s 111ms/step - loss: 0.5141 - accuracy: 0.7837 - val_loss: 0.5719 - val_accuracy: 0.6969\n",
            "Epoch 28/50\n",
            "13/13 [==============================] - 1s 91ms/step - loss: 0.5132 - accuracy: 0.7770 - val_loss: 0.5670 - val_accuracy: 0.7040\n",
            "Epoch 29/50\n",
            "13/13 [==============================] - 1s 93ms/step - loss: 0.5119 - accuracy: 0.7801 - val_loss: 0.5614 - val_accuracy: 0.7040\n",
            "Epoch 30/50\n",
            "13/13 [==============================] - 2s 193ms/step - loss: 0.5074 - accuracy: 0.7861 - val_loss: 0.5585 - val_accuracy: 0.7096\n",
            "Epoch 31/50\n",
            "13/13 [==============================] - 2s 176ms/step - loss: 0.5076 - accuracy: 0.7868 - val_loss: 0.5575 - val_accuracy: 0.7068\n",
            "Epoch 32/50\n",
            "13/13 [==============================] - 2s 141ms/step - loss: 0.5000 - accuracy: 0.7843 - val_loss: 0.5584 - val_accuracy: 0.7040\n",
            "Epoch 33/50\n",
            "13/13 [==============================] - 1s 116ms/step - loss: 0.4981 - accuracy: 0.7916 - val_loss: 0.5606 - val_accuracy: 0.7068\n",
            "Epoch 34/50\n",
            "13/13 [==============================] - 1s 87ms/step - loss: 0.4971 - accuracy: 0.7892 - val_loss: 0.5805 - val_accuracy: 0.6941\n",
            "Epoch 35/50\n",
            "13/13 [==============================] - 1s 118ms/step - loss: 0.4958 - accuracy: 0.7977 - val_loss: 0.5678 - val_accuracy: 0.7025\n",
            "Epoch 36/50\n",
            "13/13 [==============================] - 1s 108ms/step - loss: 0.4955 - accuracy: 0.7874 - val_loss: 0.5870 - val_accuracy: 0.6870\n",
            "Epoch 37/50\n",
            "13/13 [==============================] - 1s 113ms/step - loss: 0.4898 - accuracy: 0.7953 - val_loss: 0.5568 - val_accuracy: 0.7082\n",
            "Epoch 38/50\n",
            "13/13 [==============================] - 1s 90ms/step - loss: 0.4850 - accuracy: 0.7977 - val_loss: 0.5534 - val_accuracy: 0.7054\n",
            "Epoch 39/50\n",
            "13/13 [==============================] - 1s 90ms/step - loss: 0.4817 - accuracy: 0.8038 - val_loss: 0.5548 - val_accuracy: 0.7054\n",
            "Epoch 40/50\n",
            "13/13 [==============================] - 2s 128ms/step - loss: 0.4831 - accuracy: 0.8026 - val_loss: 0.5582 - val_accuracy: 0.7110\n",
            "Epoch 41/50\n",
            "13/13 [==============================] - 2s 189ms/step - loss: 0.4796 - accuracy: 0.8032 - val_loss: 0.5668 - val_accuracy: 0.7054\n",
            "Epoch 42/50\n",
            "13/13 [==============================] - 2s 125ms/step - loss: 0.4734 - accuracy: 0.8129 - val_loss: 0.5600 - val_accuracy: 0.7125\n",
            "Epoch 43/50\n",
            "13/13 [==============================] - 1s 90ms/step - loss: 0.4726 - accuracy: 0.8068 - val_loss: 0.5599 - val_accuracy: 0.7125\n",
            "Epoch 44/50\n",
            "13/13 [==============================] - 1s 90ms/step - loss: 0.4679 - accuracy: 0.8147 - val_loss: 0.5629 - val_accuracy: 0.6997\n",
            "Epoch 45/50\n",
            "13/13 [==============================] - 1s 93ms/step - loss: 0.4659 - accuracy: 0.8129 - val_loss: 0.5522 - val_accuracy: 0.7139\n",
            "Epoch 46/50\n",
            "13/13 [==============================] - 1s 94ms/step - loss: 0.4632 - accuracy: 0.8214 - val_loss: 0.5606 - val_accuracy: 0.7068\n",
            "Epoch 47/50\n",
            "13/13 [==============================] - 1s 92ms/step - loss: 0.4637 - accuracy: 0.8177 - val_loss: 0.5663 - val_accuracy: 0.6997\n",
            "Epoch 48/50\n",
            "13/13 [==============================] - 1s 92ms/step - loss: 0.4660 - accuracy: 0.8135 - val_loss: 0.5591 - val_accuracy: 0.7068\n",
            "Epoch 49/50\n",
            "13/13 [==============================] - 1s 91ms/step - loss: 0.4586 - accuracy: 0.8183 - val_loss: 0.5582 - val_accuracy: 0.7096\n",
            "Epoch 50/50\n",
            "13/13 [==============================] - 1s 95ms/step - loss: 0.4539 - accuracy: 0.8256 - val_loss: 0.5465 - val_accuracy: 0.7110\n"
          ]
        }
      ]
    },
    {
      "cell_type": "markdown",
      "metadata": {
        "id": "4nItUUcYtYiw"
      },
      "source": [
        "## 7. Evaluating model performance"
      ]
    },
    {
      "cell_type": "code",
      "source": [
        "y_pred = model.predict(X_valid)[:,0]\n",
        "y_pred = np.where(y_pred < 0.5, 0, 1)"
      ],
      "metadata": {
        "colab": {
          "base_uri": "https://localhost:8080/"
        },
        "id": "FKNd2ysyM3M9",
        "outputId": "ae18bf17-9550-436d-a125-0c037d82c644"
      },
      "execution_count": 17,
      "outputs": [
        {
          "output_type": "stream",
          "name": "stdout",
          "text": [
            "23/23 [==============================] - 1s 22ms/step\n"
          ]
        }
      ]
    },
    {
      "cell_type": "code",
      "source": [],
      "metadata": {
        "id": "oEaMLiUVPu7u"
      },
      "execution_count": null,
      "outputs": []
    },
    {
      "cell_type": "code",
      "metadata": {
        "id": "Wbfb8_MWuHB4",
        "outputId": "94c6a4b4-d3cf-4d5b-8bc4-717f9c38c668",
        "colab": {
          "base_uri": "https://localhost:8080/"
        }
      },
      "source": [
        "# accuracy on validation set\n",
        "print('Accuracy on validation set:', accuracy_score(y_valid, y_pred), '%')"
      ],
      "execution_count": 18,
      "outputs": [
        {
          "output_type": "stream",
          "name": "stdout",
          "text": [
            "Accuracy on validation set: 0.7110481586402266 %\n"
          ]
        }
      ]
    },
    {
      "cell_type": "code",
      "metadata": {
        "id": "UDXYXYMox5Ih",
        "outputId": "82e2d65a-6482-4799-f86b-c09bccaa4c7c",
        "colab": {
          "base_uri": "https://localhost:8080/",
          "height": 472
        }
      },
      "source": [
        "# summarize history for loss\n",
        "plt.plot(model_history.history['loss'])\n",
        "plt.plot(model_history.history['val_loss'])\n",
        "plt.title('model loss')\n",
        "plt.ylabel('loss')\n",
        "plt.xlabel('epoch')\n",
        "plt.legend(['train', 'validation'], loc='upper right')\n",
        "plt.show()"
      ],
      "execution_count": 19,
      "outputs": [
        {
          "output_type": "display_data",
          "data": {
            "text/plain": [
              "<Figure size 640x480 with 1 Axes>"
            ],
            "image/png": "[encoded data removed]"
          },
          "metadata": {}
        }
      ]
    },
    {
      "cell_type": "markdown",
      "metadata": {
        "id": "wN6Pop-YOI2K"
      },
      "source": [
        "## Defining the model architecture\n",
        "\n",
        "### <ol>With Batch Normalization</ol>"
      ]
    },
    {
      "cell_type": "code",
      "metadata": {
        "id": "7NmU-XRjM2BG"
      },
      "source": [
        "# importing batch normalization layer\n",
        "from keras.layers import BatchNormalization"
      ],
      "execution_count": 11,
      "outputs": []
    },
    {
      "cell_type": "code",
      "metadata": {
        "id": "ddxvL8rUM1-w",
        "outputId": "791e7ae7-6eaf-4c5f-ce68-92c5430cf17c",
        "colab": {
          "base_uri": "https://localhost:8080/"
        }
      },
      "source": [
        "# defining the model architecture and adding batch normalization layers\n",
        "model=Sequential()\n",
        "\n",
        "model.add(InputLayer(input_shape=(224*224*3,)))\n",
        "model.add(Dense(100, activation='sigmoid'))\n",
        "model.add(Dense(100, activation='sigmoid'))\n",
        "model.add(BatchNormalization())\n",
        "model.add(Dense(units=1, activation='sigmoid'))\n",
        "\n",
        "model.summary()"
      ],
      "execution_count": 17,
      "outputs": [
        {
          "output_type": "stream",
          "name": "stdout",
          "text": [
            "Model: \"sequential_1\"\n",
            "_________________________________________________________________\n",
            " Layer (type)                Output Shape              Param #   \n",
            "=================================================================\n",
            " dense_3 (Dense)             (None, 100)               15052900  \n",
            "                                                                 \n",
            " dense_4 (Dense)             (None, 100)               10100     \n",
            "                                                                 \n",
            " batch_normalization_1 (Bat  (None, 100)               400       \n",
            " chNormalization)                                                \n",
            "                                                                 \n",
            " dense_5 (Dense)             (None, 1)                 101       \n",
            "                                                                 \n",
            "=================================================================\n",
            "Total params: 15063501 (57.46 MB)\n",
            "Trainable params: 15063301 (57.46 MB)\n",
            "Non-trainable params: 200 (800.00 Byte)\n",
            "_________________________________________________________________\n"
          ]
        }
      ]
    },
    {
      "cell_type": "markdown",
      "metadata": {
        "id": "5Rlqln-DOTl9"
      },
      "source": [
        "## Compiling the model"
      ]
    },
    {
      "cell_type": "code",
      "metadata": {
        "id": "Lr-vkqvLM18e"
      },
      "source": [
        "# compiling the model\n",
        "\n",
        "# defining loss as binary crossentropy\n",
        "# defining optimizer as Adam\n",
        "# defining metrics as accuracy\n",
        "\n",
        "model.compile(loss='binary_crossentropy', optimizer=adam, metrics=['accuracy'])"
      ],
      "execution_count": 19,
      "outputs": []
    },
    {
      "cell_type": "markdown",
      "metadata": {
        "id": "WVOtoVWDOVmD"
      },
      "source": [
        "## Training the model"
      ]
    },
    {
      "cell_type": "code",
      "metadata": {
        "id": "Xs8LUEmCM16E",
        "colab": {
          "base_uri": "https://localhost:8080/"
        },
        "outputId": "0b691381-5f2c-477f-be60-07039f58d343"
      },
      "source": [
        "# training the model for 50 epochs using Batch Normalization\n",
        "model_history = model.fit(X_train, y_train, epochs=50, batch_size=128,validation_data=(X_valid,y_valid))"
      ],
      "execution_count": 20,
      "outputs": [
        {
          "output_type": "stream",
          "name": "stdout",
          "text": [
            "Epoch 1/50\n",
            "13/13 [==============================] - 5s 158ms/step - loss: 0.6923 - accuracy: 0.6312 - val_loss: 0.7482 - val_accuracy: 0.4391\n",
            "Epoch 2/50\n",
            "13/13 [==============================] - 1s 51ms/step - loss: 0.5391 - accuracy: 0.7242 - val_loss: 0.7328 - val_accuracy: 0.4391\n",
            "Epoch 3/50\n",
            "13/13 [==============================] - 1s 50ms/step - loss: 0.4784 - accuracy: 0.7825 - val_loss: 0.7264 - val_accuracy: 0.4391\n",
            "Epoch 4/50\n",
            "13/13 [==============================] - 1s 50ms/step - loss: 0.4159 - accuracy: 0.8244 - val_loss: 0.7165 - val_accuracy: 0.4391\n",
            "Epoch 5/50\n",
            "13/13 [==============================] - 1s 53ms/step - loss: 0.3684 - accuracy: 0.8554 - val_loss: 0.7160 - val_accuracy: 0.4391\n",
            "Epoch 6/50\n",
            "13/13 [==============================] - 1s 50ms/step - loss: 0.3280 - accuracy: 0.8761 - val_loss: 0.7102 - val_accuracy: 0.4391\n",
            "Epoch 7/50\n",
            "13/13 [==============================] - 1s 52ms/step - loss: 0.2863 - accuracy: 0.9113 - val_loss: 0.6895 - val_accuracy: 0.4504\n",
            "Epoch 8/50\n",
            "13/13 [==============================] - 1s 51ms/step - loss: 0.2486 - accuracy: 0.9392 - val_loss: 0.6811 - val_accuracy: 0.4830\n",
            "Epoch 9/50\n",
            "13/13 [==============================] - 1s 51ms/step - loss: 0.2236 - accuracy: 0.9459 - val_loss: 0.6996 - val_accuracy: 0.4405\n",
            "Epoch 10/50\n",
            "13/13 [==============================] - 1s 51ms/step - loss: 0.2030 - accuracy: 0.9569 - val_loss: 0.6875 - val_accuracy: 0.4561\n",
            "Epoch 11/50\n",
            "13/13 [==============================] - 1s 52ms/step - loss: 0.1799 - accuracy: 0.9721 - val_loss: 0.6593 - val_accuracy: 0.6572\n",
            "Epoch 12/50\n",
            "13/13 [==============================] - 1s 52ms/step - loss: 0.1599 - accuracy: 0.9769 - val_loss: 0.6579 - val_accuracy: 0.6360\n",
            "Epoch 13/50\n",
            "13/13 [==============================] - 1s 52ms/step - loss: 0.1481 - accuracy: 0.9824 - val_loss: 0.6523 - val_accuracy: 0.6870\n",
            "Epoch 14/50\n",
            "13/13 [==============================] - 1s 53ms/step - loss: 0.1337 - accuracy: 0.9854 - val_loss: 0.6560 - val_accuracy: 0.5637\n",
            "Epoch 15/50\n",
            "13/13 [==============================] - 1s 52ms/step - loss: 0.1193 - accuracy: 0.9909 - val_loss: 0.6410 - val_accuracy: 0.6941\n",
            "Epoch 16/50\n",
            "13/13 [==============================] - 1s 53ms/step - loss: 0.1122 - accuracy: 0.9921 - val_loss: 0.6303 - val_accuracy: 0.7309\n",
            "Epoch 17/50\n",
            "13/13 [==============================] - 1s 52ms/step - loss: 0.1088 - accuracy: 0.9885 - val_loss: 0.6322 - val_accuracy: 0.7025\n",
            "Epoch 18/50\n",
            "13/13 [==============================] - 1s 51ms/step - loss: 0.0984 - accuracy: 0.9945 - val_loss: 0.6348 - val_accuracy: 0.6771\n",
            "Epoch 19/50\n",
            "13/13 [==============================] - 1s 51ms/step - loss: 0.0886 - accuracy: 0.9957 - val_loss: 0.6293 - val_accuracy: 0.6728\n",
            "Epoch 20/50\n",
            "13/13 [==============================] - 1s 51ms/step - loss: 0.0798 - accuracy: 0.9970 - val_loss: 0.6107 - val_accuracy: 0.7295\n",
            "Epoch 21/50\n",
            "13/13 [==============================] - 1s 50ms/step - loss: 0.0728 - accuracy: 0.9970 - val_loss: 0.6025 - val_accuracy: 0.7280\n",
            "Epoch 22/50\n",
            "13/13 [==============================] - 1s 53ms/step - loss: 0.0689 - accuracy: 0.9964 - val_loss: 0.5959 - val_accuracy: 0.7351\n",
            "Epoch 23/50\n",
            "13/13 [==============================] - 1s 51ms/step - loss: 0.0668 - accuracy: 0.9976 - val_loss: 0.6172 - val_accuracy: 0.6671\n",
            "Epoch 24/50\n",
            "13/13 [==============================] - 1s 51ms/step - loss: 0.0640 - accuracy: 0.9957 - val_loss: 0.6010 - val_accuracy: 0.7082\n",
            "Epoch 25/50\n",
            "13/13 [==============================] - 1s 50ms/step - loss: 0.0629 - accuracy: 0.9951 - val_loss: 0.5756 - val_accuracy: 0.7380\n",
            "Epoch 26/50\n",
            "13/13 [==============================] - 1s 50ms/step - loss: 0.0555 - accuracy: 0.9970 - val_loss: 0.5730 - val_accuracy: 0.7436\n",
            "Epoch 27/50\n",
            "13/13 [==============================] - 1s 50ms/step - loss: 0.0538 - accuracy: 0.9976 - val_loss: 0.5855 - val_accuracy: 0.7153\n",
            "Epoch 28/50\n",
            "13/13 [==============================] - 1s 50ms/step - loss: 0.0523 - accuracy: 0.9976 - val_loss: 0.5641 - val_accuracy: 0.7210\n",
            "Epoch 29/50\n",
            "13/13 [==============================] - 1s 51ms/step - loss: 0.0507 - accuracy: 0.9976 - val_loss: 0.5544 - val_accuracy: 0.7380\n",
            "Epoch 30/50\n",
            "13/13 [==============================] - 1s 51ms/step - loss: 0.0503 - accuracy: 0.9957 - val_loss: 0.5573 - val_accuracy: 0.7266\n",
            "Epoch 31/50\n",
            "13/13 [==============================] - 1s 50ms/step - loss: 0.0450 - accuracy: 0.9957 - val_loss: 0.5909 - val_accuracy: 0.6856\n",
            "Epoch 32/50\n",
            "13/13 [==============================] - 1s 51ms/step - loss: 0.0445 - accuracy: 0.9970 - val_loss: 0.5414 - val_accuracy: 0.7266\n",
            "Epoch 33/50\n",
            "13/13 [==============================] - 1s 53ms/step - loss: 0.0416 - accuracy: 0.9970 - val_loss: 0.5377 - val_accuracy: 0.7309\n",
            "Epoch 34/50\n",
            "13/13 [==============================] - 1s 52ms/step - loss: 0.0407 - accuracy: 0.9976 - val_loss: 0.5326 - val_accuracy: 0.7394\n",
            "Epoch 35/50\n",
            "13/13 [==============================] - 1s 51ms/step - loss: 0.0394 - accuracy: 0.9970 - val_loss: 0.5545 - val_accuracy: 0.7224\n",
            "Epoch 36/50\n",
            "13/13 [==============================] - 1s 52ms/step - loss: 0.0358 - accuracy: 0.9982 - val_loss: 0.5527 - val_accuracy: 0.7167\n",
            "Epoch 37/50\n",
            "13/13 [==============================] - 1s 51ms/step - loss: 0.0348 - accuracy: 0.9976 - val_loss: 0.5274 - val_accuracy: 0.7436\n",
            "Epoch 38/50\n",
            "13/13 [==============================] - 1s 50ms/step - loss: 0.0340 - accuracy: 0.9976 - val_loss: 0.5369 - val_accuracy: 0.7266\n",
            "Epoch 39/50\n",
            "13/13 [==============================] - 1s 50ms/step - loss: 0.0316 - accuracy: 0.9976 - val_loss: 0.5666 - val_accuracy: 0.7153\n",
            "Epoch 40/50\n",
            "13/13 [==============================] - 1s 50ms/step - loss: 0.0316 - accuracy: 0.9982 - val_loss: 0.5326 - val_accuracy: 0.7365\n",
            "Epoch 41/50\n",
            "13/13 [==============================] - 1s 51ms/step - loss: 0.0324 - accuracy: 0.9982 - val_loss: 0.5497 - val_accuracy: 0.7280\n",
            "Epoch 42/50\n",
            "13/13 [==============================] - 1s 50ms/step - loss: 0.0290 - accuracy: 0.9970 - val_loss: 0.5348 - val_accuracy: 0.7465\n",
            "Epoch 43/50\n",
            "13/13 [==============================] - 1s 50ms/step - loss: 0.0325 - accuracy: 0.9951 - val_loss: 0.5416 - val_accuracy: 0.7465\n",
            "Epoch 44/50\n",
            "13/13 [==============================] - 1s 52ms/step - loss: 0.0285 - accuracy: 0.9976 - val_loss: 0.5563 - val_accuracy: 0.7436\n",
            "Epoch 45/50\n",
            "13/13 [==============================] - 1s 50ms/step - loss: 0.0320 - accuracy: 0.9964 - val_loss: 0.5646 - val_accuracy: 0.7380\n",
            "Epoch 46/50\n",
            "13/13 [==============================] - 1s 51ms/step - loss: 0.0284 - accuracy: 0.9964 - val_loss: 0.6137 - val_accuracy: 0.7224\n",
            "Epoch 47/50\n",
            "13/13 [==============================] - 1s 50ms/step - loss: 0.0276 - accuracy: 0.9976 - val_loss: 0.5845 - val_accuracy: 0.7365\n",
            "Epoch 48/50\n",
            "13/13 [==============================] - 1s 51ms/step - loss: 0.0258 - accuracy: 0.9970 - val_loss: 0.5812 - val_accuracy: 0.7394\n",
            "Epoch 49/50\n",
            "13/13 [==============================] - 1s 51ms/step - loss: 0.0234 - accuracy: 0.9976 - val_loss: 0.6291 - val_accuracy: 0.7153\n",
            "Epoch 50/50\n",
            "13/13 [==============================] - 1s 50ms/step - loss: 0.0265 - accuracy: 0.9976 - val_loss: 0.6188 - val_accuracy: 0.7266\n"
          ]
        }
      ]
    },
    {
      "cell_type": "markdown",
      "metadata": {
        "id": "g6GrNmZEObWs"
      },
      "source": [
        "## Evaluating model performance"
      ]
    },
    {
      "cell_type": "code",
      "source": [
        "y_pred = model.predict(X_valid)[:,0]\n",
        "y_pred = np.where(y_pred < 0.5, 0, 1)"
      ],
      "metadata": {
        "id": "wmnXLAEXRZOB",
        "colab": {
          "base_uri": "https://localhost:8080/"
        },
        "outputId": "e1bacbfa-de01-4500-f1b4-e88172b06049"
      },
      "execution_count": 21,
      "outputs": [
        {
          "output_type": "stream",
          "name": "stdout",
          "text": [
            "23/23 [==============================] - 0s 8ms/step\n"
          ]
        }
      ]
    },
    {
      "cell_type": "code",
      "metadata": {
        "id": "zPQi5OXcM13o",
        "colab": {
          "base_uri": "https://localhost:8080/"
        },
        "outputId": "4cba0687-d44c-491d-bba0-3c14ca504ebd"
      },
      "source": [
        "# accuracy on validation set\n",
        "print('Accuracy on validation set:', accuracy_score(y_valid, y_pred), '%')"
      ],
      "execution_count": 22,
      "outputs": [
        {
          "output_type": "stream",
          "name": "stdout",
          "text": [
            "Accuracy on validation set: 0.726628895184136 %\n"
          ]
        }
      ]
    },
    {
      "cell_type": "code",
      "metadata": {
        "id": "pamDczIVM102",
        "colab": {
          "base_uri": "https://localhost:8080/",
          "height": 472
        },
        "outputId": "9fcdf98a-43cb-44fe-b5c4-1e121bd81abb"
      },
      "source": [
        "# summarize history for loss\n",
        "plt.plot(model_history.history['loss'])\n",
        "plt.plot(model_history.history['val_loss'])\n",
        "plt.title('model loss')\n",
        "plt.ylabel('loss')\n",
        "plt.xlabel('epoch')\n",
        "plt.legend(['train', 'validation'], loc='upper right')\n",
        "plt.show()"
      ],
      "execution_count": 23,
      "outputs": [
        {
          "output_type": "display_data",
          "data": {
            "text/plain": [
              "<Figure size 640x480 with 1 Axes>"
            ],
            "image/png": "[encoded data removed]"
          },
          "metadata": {}
        }
      ]
    },
    {
      "cell_type": "code",
      "metadata": {
        "id": "_uNSCCqJPZHp"
      },
      "source": [],
      "execution_count": null,
      "outputs": []
    }
  ]
}