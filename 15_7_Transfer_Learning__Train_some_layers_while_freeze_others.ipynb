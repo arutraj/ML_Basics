{
  "cells": [
    {
      "cell_type": "markdown",
      "metadata": {
        "id": "view-in-github",
        "colab_type": "text"
      },
      "source": [
        "<a href=\"https://colab.research.google.com/github/arutraj/ML_Basics/blob/main/15_7_Transfer_Learning__Train_some_layers_while_freeze_others.ipynb\" target=\"_parent\"><img src=\"https://colab.research.google.com/assets/colab-badge.svg\" alt=\"Open In Colab\"/></a>"
      ]
    },
    {
      "cell_type": "code",
      "execution_count": null,
      "metadata": {
        "colab": {
          "base_uri": "https://localhost:8080/",
          "height": 34
        },
        "id": "k_zZkCi8LTjW",
        "outputId": "773498e1-a96f-404b-fa73-dd7e882c4260"
      },
      "outputs": [
        {
          "name": "stdout",
          "output_type": "stream",
          "text": [
            "TensorFlow 1.x selected.\n"
          ]
        }
      ],
      "source": []
    },
    {
      "cell_type": "markdown",
      "metadata": {
        "id": "iMnQo7P_7LWr"
      },
      "source": [
        "## Transfer Learning: Train some layers while freeze others\n",
        "\n",
        "1. Import necessary libraries\n",
        "2. Load the data\n",
        "3. Pre-Process the data\n",
        "4. Load weights of pretrained model and freeze few layers\n",
        "5. Train the model\n",
        "6. Get predictions"
      ]
    },
    {
      "cell_type": "markdown",
      "metadata": {
        "id": "GhKQy59w7LXQ"
      },
      "source": [
        "## 1. Import neccessary libraries"
      ]
    },
    {
      "cell_type": "markdown",
      "metadata": {
        "id": "A-aLz3kd7LXU"
      },
      "source": [
        "Here we will import the required libraries and functions."
      ]
    },
    {
      "cell_type": "code",
      "execution_count": 1,
      "metadata": {
        "id": "wqvacIQ37LXY"
      },
      "outputs": [],
      "source": [
        "# import necessary libraries for plotting images\n",
        "import numpy as np\n",
        "import matplotlib.pyplot as plt\n",
        "# plot in jupyter notebook itself\n",
        "%matplotlib inline\n",
        "from glob import glob\n",
        "import pandas as pd\n",
        "from sklearn.model_selection import train_test_split\n",
        "from sklearn.metrics import accuracy_score\n",
        "\n",
        "from keras.models import Model\n",
        "from keras.utils import to_categorical\n",
        "#used to preprocess data according to VGG16\n",
        "from keras.applications.vgg16 import preprocess_input\n",
        "#for instantiating the model and loading the weights and biases\n",
        "from keras.applications.vgg16 import VGG16\n",
        "from keras.models import Sequential\n",
        "from keras.layers import Dense, InputLayer"
      ]
    },
    {
      "cell_type": "markdown",
      "metadata": {
        "id": "a3Bk_xGH7LXm"
      },
      "source": [
        "## 2. Load the data"
      ]
    },
    {
      "cell_type": "code",
      "execution_count": 2,
      "metadata": {
        "colab": {
          "base_uri": "https://localhost:8080/"
        },
        "id": "x_VY_HZ5hm-z",
        "outputId": "b762687d-68fd-4321-dd76-e2e3632513fc"
      },
      "outputs": [
        {
          "output_type": "stream",
          "name": "stdout",
          "text": [
            "Mounted at /content/drive\n"
          ]
        }
      ],
      "source": [
        "from google.colab import drive\n",
        "drive.mount('/content/drive')"
      ]
    },
    {
      "cell_type": "code",
      "execution_count": 3,
      "metadata": {
        "colab": {
          "base_uri": "https://localhost:8080/"
        },
        "id": "1bb6wmB1hmvk",
        "outputId": "25f2935d-4cb9-4d82-e12b-461b0b547241",
        "scrolled": true
      },
      "outputs": [
        {
          "output_type": "stream",
          "name": "stdout",
          "text": [
            "2352\n"
          ]
        }
      ],
      "source": [
        "# unzipping the Dataset.zip file\n",
        "#!unzip /content/drive/My\\ Drive/Dataset.zip\n",
        "!ls /content/drive/MyDrive/AnalyticsVidya/DeepLearning/images/*jpg |wc -l"
      ]
    },
    {
      "cell_type": "code",
      "execution_count": 4,
      "metadata": {
        "id": "bBoa3LGa7LXq"
      },
      "outputs": [],
      "source": [
        "#reading the csv file containing data labels\n",
        "data = pd.read_csv('/content/emergency_classification.csv')"
      ]
    },
    {
      "cell_type": "code",
      "execution_count": 5,
      "metadata": {
        "id": "IniNNq067LYF"
      },
      "outputs": [],
      "source": [
        "# create an empty python list\n",
        "X = []\n",
        "\n",
        "# go through all the image locations one by one\n",
        "for img_name in data.image_names:\n",
        "    # read the image from location\n",
        "    img = plt.imread('/content/drive/MyDrive/AnalyticsVidya/DeepLearning/images/' + img_name)\n",
        "    # pile it one over the other\n",
        "    X.append(img)\n",
        "\n",
        "# convert this python list to a single numpy array\n",
        "X = np.array(X)"
      ]
    },
    {
      "cell_type": "code",
      "execution_count": 6,
      "metadata": {
        "id": "3Vvni78T7LYP"
      },
      "outputs": [],
      "source": [
        "#getting the labels for images\n",
        "y = data.emergency_or_not.values"
      ]
    },
    {
      "cell_type": "markdown",
      "metadata": {
        "id": "uf5qmAzL7LY8"
      },
      "source": [
        "## 3. Pre-Process the data"
      ]
    },
    {
      "cell_type": "markdown",
      "metadata": {
        "id": "XVsVf1nq7LZA"
      },
      "source": [
        "Steps :\n",
        "1. Pre-process the data as per model's requirement\n",
        "2. Prepare training and validation set"
      ]
    },
    {
      "cell_type": "code",
      "execution_count": 7,
      "metadata": {
        "id": "r_5xd5KU7LZR"
      },
      "outputs": [],
      "source": [
        "#preprocess input images accordiing to requirements of VGG16 model\n",
        "X = preprocess_input(X)"
      ]
    },
    {
      "cell_type": "code",
      "execution_count": 8,
      "metadata": {
        "id": "FMh45iEDEbfk"
      },
      "outputs": [],
      "source": [
        "#converting label to categorical i.e instead of 0/1 labels we have 2 columns emergency and non-emergency\n",
        "# with only one of them is true for every image\n",
        "y = to_categorical(y)"
      ]
    },
    {
      "cell_type": "code",
      "execution_count": 9,
      "metadata": {
        "id": "FsCCm9bc7LZm"
      },
      "outputs": [],
      "source": [
        "# splitting the dataset into training and validation sets\n",
        "X_train, X_valid, y_train, y_valid = train_test_split(X, y, test_size=0.3, random_state=42)"
      ]
    },
    {
      "cell_type": "markdown",
      "metadata": {
        "id": "4DMgEvEB7LZx"
      },
      "source": [
        "## 4. Load weights of pretrained model and freeze few layers"
      ]
    },
    {
      "cell_type": "code",
      "execution_count": 10,
      "metadata": {
        "colab": {
          "base_uri": "https://localhost:8080/"
        },
        "id": "LO8o8o59riLT",
        "outputId": "d36f397b-fff5-4fe6-ff01-584f6079d6dd"
      },
      "outputs": [
        {
          "output_type": "stream",
          "name": "stdout",
          "text": [
            "Downloading data from https://storage.googleapis.com/tensorflow/keras-applications/vgg16/vgg16_weights_tf_dim_ordering_tf_kernels.h5\n",
            "553467096/553467096 [==============================] - 24s 0us/step\n"
          ]
        }
      ],
      "source": [
        "base_model = VGG16(weights='imagenet')"
      ]
    },
    {
      "cell_type": "code",
      "execution_count": 11,
      "metadata": {
        "colab": {
          "base_uri": "https://localhost:8080/"
        },
        "id": "CBJHIJGZRo72",
        "outputId": "1cf0cc27-30e6-425e-84fa-784ae2695a68"
      },
      "outputs": [
        {
          "output_type": "stream",
          "name": "stdout",
          "text": [
            "Model: \"vgg16\"\n",
            "_________________________________________________________________\n",
            " Layer (type)                Output Shape              Param #   \n",
            "=================================================================\n",
            " input_1 (InputLayer)        [(None, 224, 224, 3)]     0         \n",
            "                                                                 \n",
            " block1_conv1 (Conv2D)       (None, 224, 224, 64)      1792      \n",
            "                                                                 \n",
            " block1_conv2 (Conv2D)       (None, 224, 224, 64)      36928     \n",
            "                                                                 \n",
            " block1_pool (MaxPooling2D)  (None, 112, 112, 64)      0         \n",
            "                                                                 \n",
            " block2_conv1 (Conv2D)       (None, 112, 112, 128)     73856     \n",
            "                                                                 \n",
            " block2_conv2 (Conv2D)       (None, 112, 112, 128)     147584    \n",
            "                                                                 \n",
            " block2_pool (MaxPooling2D)  (None, 56, 56, 128)       0         \n",
            "                                                                 \n",
            " block3_conv1 (Conv2D)       (None, 56, 56, 256)       295168    \n",
            "                                                                 \n",
            " block3_conv2 (Conv2D)       (None, 56, 56, 256)       590080    \n",
            "                                                                 \n",
            " block3_conv3 (Conv2D)       (None, 56, 56, 256)       590080    \n",
            "                                                                 \n",
            " block3_pool (MaxPooling2D)  (None, 28, 28, 256)       0         \n",
            "                                                                 \n",
            " block4_conv1 (Conv2D)       (None, 28, 28, 512)       1180160   \n",
            "                                                                 \n",
            " block4_conv2 (Conv2D)       (None, 28, 28, 512)       2359808   \n",
            "                                                                 \n",
            " block4_conv3 (Conv2D)       (None, 28, 28, 512)       2359808   \n",
            "                                                                 \n",
            " block4_pool (MaxPooling2D)  (None, 14, 14, 512)       0         \n",
            "                                                                 \n",
            " block5_conv1 (Conv2D)       (None, 14, 14, 512)       2359808   \n",
            "                                                                 \n",
            " block5_conv2 (Conv2D)       (None, 14, 14, 512)       2359808   \n",
            "                                                                 \n",
            " block5_conv3 (Conv2D)       (None, 14, 14, 512)       2359808   \n",
            "                                                                 \n",
            " block5_pool (MaxPooling2D)  (None, 7, 7, 512)         0         \n",
            "                                                                 \n",
            " flatten (Flatten)           (None, 25088)             0         \n",
            "                                                                 \n",
            " fc1 (Dense)                 (None, 4096)              102764544 \n",
            "                                                                 \n",
            " fc2 (Dense)                 (None, 4096)              16781312  \n",
            "                                                                 \n",
            " predictions (Dense)         (None, 1000)              4097000   \n",
            "                                                                 \n",
            "=================================================================\n",
            "Total params: 138357544 (527.79 MB)\n",
            "Trainable params: 138357544 (527.79 MB)\n",
            "Non-trainable params: 0 (0.00 Byte)\n",
            "_________________________________________________________________\n"
          ]
        }
      ],
      "source": [
        "base_model.summary()"
      ]
    },
    {
      "cell_type": "code",
      "execution_count": 12,
      "metadata": {
        "colab": {
          "base_uri": "https://localhost:8080/"
        },
        "id": "mznXb8witOZV",
        "outputId": "69d27ccc-74e8-4457-bdd4-3deb7a779ef8"
      },
      "outputs": [
        {
          "output_type": "stream",
          "name": "stdout",
          "text": [
            "Model: \"model\"\n",
            "_________________________________________________________________\n",
            " Layer (type)                Output Shape              Param #   \n",
            "=================================================================\n",
            " input_1 (InputLayer)        [(None, 224, 224, 3)]     0         \n",
            "                                                                 \n",
            " block1_conv1 (Conv2D)       (None, 224, 224, 64)      1792      \n",
            "                                                                 \n",
            " block1_conv2 (Conv2D)       (None, 224, 224, 64)      36928     \n",
            "                                                                 \n",
            " block1_pool (MaxPooling2D)  (None, 112, 112, 64)      0         \n",
            "                                                                 \n",
            " block2_conv1 (Conv2D)       (None, 112, 112, 128)     73856     \n",
            "                                                                 \n",
            " block2_conv2 (Conv2D)       (None, 112, 112, 128)     147584    \n",
            "                                                                 \n",
            " block2_pool (MaxPooling2D)  (None, 56, 56, 128)       0         \n",
            "                                                                 \n",
            " block3_conv1 (Conv2D)       (None, 56, 56, 256)       295168    \n",
            "                                                                 \n",
            " block3_conv2 (Conv2D)       (None, 56, 56, 256)       590080    \n",
            "                                                                 \n",
            " block3_conv3 (Conv2D)       (None, 56, 56, 256)       590080    \n",
            "                                                                 \n",
            " block3_pool (MaxPooling2D)  (None, 28, 28, 256)       0         \n",
            "                                                                 \n",
            " block4_conv1 (Conv2D)       (None, 28, 28, 512)       1180160   \n",
            "                                                                 \n",
            " block4_conv2 (Conv2D)       (None, 28, 28, 512)       2359808   \n",
            "                                                                 \n",
            " block4_conv3 (Conv2D)       (None, 28, 28, 512)       2359808   \n",
            "                                                                 \n",
            " block4_pool (MaxPooling2D)  (None, 14, 14, 512)       0         \n",
            "                                                                 \n",
            " block5_conv1 (Conv2D)       (None, 14, 14, 512)       2359808   \n",
            "                                                                 \n",
            " block5_conv2 (Conv2D)       (None, 14, 14, 512)       2359808   \n",
            "                                                                 \n",
            " block5_conv3 (Conv2D)       (None, 14, 14, 512)       2359808   \n",
            "                                                                 \n",
            " block5_pool (MaxPooling2D)  (None, 7, 7, 512)         0         \n",
            "                                                                 \n",
            " flatten (Flatten)           (None, 25088)             0         \n",
            "                                                                 \n",
            " fc1 (Dense)                 (None, 100)               2508900   \n",
            "                                                                 \n",
            " prediction (Dense)          (None, 2)                 202       \n",
            "                                                                 \n",
            "=================================================================\n",
            "Total params: 17223790 (65.70 MB)\n",
            "Trainable params: 17223790 (65.70 MB)\n",
            "Non-trainable params: 0 (0.00 Byte)\n",
            "_________________________________________________________________\n"
          ]
        }
      ],
      "source": [
        "# creating our own model\n",
        "x = Dense(100, activation='relu', name='fc1')(base_model.layers[-4].output)\n",
        "y = Dense(2, activation='softmax', name='prediction')(x)\n",
        "my_model = Model(base_model.input, y)\n",
        "my_model.summary()"
      ]
    },
    {
      "cell_type": "code",
      "execution_count": 13,
      "metadata": {
        "colab": {
          "base_uri": "https://localhost:8080/"
        },
        "id": "TV3UIzGPvBiq",
        "outputId": "c3d6e43f-428e-4176-f218-5828d54a3b30"
      },
      "outputs": [
        {
          "output_type": "execute_result",
          "data": {
            "text/plain": [
              "[<keras.src.engine.input_layer.InputLayer at 0x7da555fc4700>,\n",
              " <keras.src.layers.convolutional.conv2d.Conv2D at 0x7da555fc6e90>,\n",
              " <keras.src.layers.convolutional.conv2d.Conv2D at 0x7da555fc7610>,\n",
              " <keras.src.layers.pooling.max_pooling2d.MaxPooling2D at 0x7da5556d4520>,\n",
              " <keras.src.layers.convolutional.conv2d.Conv2D at 0x7da555fc7820>,\n",
              " <keras.src.layers.convolutional.conv2d.Conv2D at 0x7da5556d5330>,\n",
              " <keras.src.layers.pooling.max_pooling2d.MaxPooling2D at 0x7da5556d68f0>,\n",
              " <keras.src.layers.convolutional.conv2d.Conv2D at 0x7da5556d7160>,\n",
              " <keras.src.layers.convolutional.conv2d.Conv2D at 0x7da5556d5180>,\n",
              " <keras.src.layers.convolutional.conv2d.Conv2D at 0x7da5556d7e50>,\n",
              " <keras.src.layers.pooling.max_pooling2d.MaxPooling2D at 0x7da555740ca0>,\n",
              " <keras.src.layers.convolutional.conv2d.Conv2D at 0x7da5556d52d0>,\n",
              " <keras.src.layers.convolutional.conv2d.Conv2D at 0x7da555741c90>,\n",
              " <keras.src.layers.convolutional.conv2d.Conv2D at 0x7da5557427a0>,\n",
              " <keras.src.layers.pooling.max_pooling2d.MaxPooling2D at 0x7da555743850>,\n",
              " <keras.src.layers.convolutional.conv2d.Conv2D at 0x7da555743e20>,\n",
              " <keras.src.layers.convolutional.conv2d.Conv2D at 0x7da5557435e0>,\n",
              " <keras.src.layers.convolutional.conv2d.Conv2D at 0x7da55575c2b0>,\n",
              " <keras.src.layers.pooling.max_pooling2d.MaxPooling2D at 0x7da55575e2f0>,\n",
              " <keras.src.layers.reshaping.flatten.Flatten at 0x7da55575eb60>,\n",
              " <keras.src.layers.core.dense.Dense at 0x7da555771510>,\n",
              " <keras.src.layers.core.dense.Dense at 0x7da555771810>]"
            ]
          },
          "metadata": {},
          "execution_count": 13
        }
      ],
      "source": [
        "my_model.layers"
      ]
    },
    {
      "cell_type": "code",
      "execution_count": 14,
      "metadata": {
        "colab": {
          "base_uri": "https://localhost:8080/"
        },
        "id": "ezdO9HtWL0r3",
        "outputId": "7a034051-629f-4ce7-ff34-c3006d6339bc"
      },
      "outputs": [
        {
          "output_type": "execute_result",
          "data": {
            "text/plain": [
              "22"
            ]
          },
          "metadata": {},
          "execution_count": 14
        }
      ],
      "source": [
        "len(my_model.layers)"
      ]
    },
    {
      "cell_type": "code",
      "execution_count": 21,
      "metadata": {
        "id": "wTHs5YCTr2bn"
      },
      "outputs": [],
      "source": [
        "# to set the first 15 layers to non-trainable (weights will not be updated) FREEZE the first few layers\n",
        "for layer in my_model.layers[:16]:\n",
        "    layer.trainable = False"
      ]
    },
    {
      "cell_type": "code",
      "execution_count": 22,
      "metadata": {
        "id": "FjLMQ96R7Lb1"
      },
      "outputs": [],
      "source": [
        "# compile the model\n",
        "my_model.compile(optimizer='sgd', metrics=['accuracy'], loss='categorical_crossentropy')"
      ]
    },
    {
      "cell_type": "markdown",
      "metadata": {
        "id": "dEE0lJ1pTJBh"
      },
      "source": [
        "## 5. Training the model"
      ]
    },
    {
      "cell_type": "code",
      "execution_count": 23,
      "metadata": {
        "colab": {
          "base_uri": "https://localhost:8080/"
        },
        "id": "THtHpHrE7Lb-",
        "outputId": "89711c6c-b6f9-4ea9-f391-4b01aceb5301",
        "scrolled": true
      },
      "outputs": [
        {
          "output_type": "stream",
          "name": "stdout",
          "text": [
            "Epoch 1/10\n",
            "52/52 [==============================] - 12s 210ms/step - loss: 0.6785 - accuracy: 0.5863 - val_loss: 0.6862 - val_accuracy: 0.5609\n",
            "Epoch 2/10\n",
            "52/52 [==============================] - 10s 195ms/step - loss: 0.6784 - accuracy: 0.5863 - val_loss: 0.6864 - val_accuracy: 0.5609\n",
            "Epoch 3/10\n",
            "52/52 [==============================] - 10s 198ms/step - loss: 0.6784 - accuracy: 0.5863 - val_loss: 0.6866 - val_accuracy: 0.5609\n",
            "Epoch 4/10\n",
            "52/52 [==============================] - 10s 197ms/step - loss: 0.6783 - accuracy: 0.5863 - val_loss: 0.6866 - val_accuracy: 0.5609\n",
            "Epoch 5/10\n",
            "52/52 [==============================] - 10s 193ms/step - loss: 0.6783 - accuracy: 0.5863 - val_loss: 0.6867 - val_accuracy: 0.5609\n",
            "Epoch 6/10\n",
            "52/52 [==============================] - 10s 191ms/step - loss: 0.6783 - accuracy: 0.5863 - val_loss: 0.6868 - val_accuracy: 0.5609\n",
            "Epoch 7/10\n",
            "52/52 [==============================] - 10s 190ms/step - loss: 0.6783 - accuracy: 0.5863 - val_loss: 0.6868 - val_accuracy: 0.5609\n",
            "Epoch 8/10\n",
            "52/52 [==============================] - 10s 191ms/step - loss: 0.6783 - accuracy: 0.5863 - val_loss: 0.6869 - val_accuracy: 0.5609\n",
            "Epoch 9/10\n",
            "52/52 [==============================] - 10s 190ms/step - loss: 0.6782 - accuracy: 0.5863 - val_loss: 0.6869 - val_accuracy: 0.5609\n",
            "Epoch 10/10\n",
            "52/52 [==============================] - 10s 191ms/step - loss: 0.6783 - accuracy: 0.5863 - val_loss: 0.6870 - val_accuracy: 0.5609\n"
          ]
        },
        {
          "output_type": "execute_result",
          "data": {
            "text/plain": [
              "<keras.src.callbacks.History at 0x7da555771360>"
            ]
          },
          "metadata": {},
          "execution_count": 23
        }
      ],
      "source": [
        "# training the model\n",
        "my_model.fit(X_train, y_train, epochs=10, validation_data=(X_valid, y_valid))"
      ]
    },
    {
      "cell_type": "markdown",
      "metadata": {
        "id": "cooberaE7LcD"
      },
      "source": [
        "## 6. Get Predictions"
      ]
    },
    {
      "cell_type": "code",
      "execution_count": 24,
      "metadata": {
        "colab": {
          "base_uri": "https://localhost:8080/"
        },
        "id": "8PV5cC9-7LcE",
        "outputId": "ea995814-5680-4815-ea22-ca663ba36292"
      },
      "outputs": [
        {
          "output_type": "stream",
          "name": "stdout",
          "text": [
            "23/23 [==============================] - 3s 125ms/step\n"
          ]
        }
      ],
      "source": [
        "# get predictions\n",
        "predictions = my_model.predict(X_valid)\n",
        "predicted_class = np.argmax(predictions,axis=1)"
      ]
    },
    {
      "cell_type": "code",
      "execution_count": 25,
      "metadata": {
        "colab": {
          "base_uri": "https://localhost:8080/"
        },
        "id": "F-V9tGe2q5IN",
        "outputId": "1756d0cd-a452-4c62-ff47-a135f28359b3"
      },
      "outputs": [
        {
          "output_type": "execute_result",
          "data": {
            "text/plain": [
              "0.5609065155807366"
            ]
          },
          "metadata": {},
          "execution_count": 25
        }
      ],
      "source": [
        "# checking the performance of model on validation set\n",
        "accuracy_score(y_valid[:,1], predicted_class)"
      ]
    },
    {
      "cell_type": "markdown",
      "metadata": {
        "id": "O6HB2c3DMpnZ"
      },
      "source": [
        "## Steps to use transfer learning where we train some layers while freeze others\n",
        "\n",
        "1. Import necessary libraries\n",
        "2. Load the data\n",
        "3. Pre-Process the data\n",
        "4. Load weights of pretrained model and freeze few layers\n",
        "5. Train the model\n",
        "6. Get predictions"
      ]
    },
    {
      "cell_type": "code",
      "execution_count": null,
      "metadata": {
        "id": "JHj3RKSM7LcL"
      },
      "outputs": [],
      "source": []
    }
  ],
  "metadata": {
    "accelerator": "GPU",
    "colab": {
      "machine_shape": "hm",
      "provenance": [],
      "include_colab_link": true
    },
    "kernelspec": {
      "display_name": "Python 3 (ipykernel)",
      "language": "python",
      "name": "python3"
    },
    "language_info": {
      "codemirror_mode": {
        "name": "ipython",
        "version": 3
      },
      "file_extension": ".py",
      "mimetype": "text/x-python",
      "name": "python",
      "nbconvert_exporter": "python",
      "pygments_lexer": "ipython3",
      "version": "3.11.5"
    }
  },
  "nbformat": 4,
  "nbformat_minor": 0
}