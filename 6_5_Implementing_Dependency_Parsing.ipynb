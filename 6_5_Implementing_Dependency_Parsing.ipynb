{
  "nbformat": 4,
  "nbformat_minor": 0,
  "metadata": {
    "kernelspec": {
      "display_name": "Python 3",
      "language": "python",
      "name": "python3"
    },
    "language_info": {
      "codemirror_mode": {
        "name": "ipython",
        "version": 3
      },
      "file_extension": ".py",
      "mimetype": "text/x-python",
      "name": "python",
      "nbconvert_exporter": "python",
      "pygments_lexer": "ipython3",
      "version": "3.6.7"
    },
    "colab": {
      "provenance": [],
      "include_colab_link": true
    }
  },
  "cells": [
    {
      "cell_type": "markdown",
      "metadata": {
        "id": "view-in-github",
        "colab_type": "text"
      },
      "source": [
        "<a href=\"https://colab.research.google.com/github/arutraj/ML_Basics/blob/main/6_5_Implementing_Dependency_Parsing.ipynb\" target=\"_parent\"><img src=\"https://colab.research.google.com/assets/colab-badge.svg\" alt=\"Open In Colab\"/></a>"
      ]
    },
    {
      "cell_type": "code",
      "metadata": {
        "id": "cyYe9ISdkLHb"
      },
      "source": [
        "import spacy"
      ],
      "execution_count": 1,
      "outputs": []
    },
    {
      "cell_type": "code",
      "metadata": {
        "id": "1e2nUHRpkLHn"
      },
      "source": [
        "# Loading the model\n",
        "nlp=spacy.load('en_core_web_sm')"
      ],
      "execution_count": 2,
      "outputs": []
    },
    {
      "cell_type": "code",
      "metadata": {
        "id": "3ddcfIwakLHx"
      },
      "source": [
        "# Defining the string\n",
        "#text=\"I will wear a white shirt on Monday tucked in.\"\n",
        "text=\"On the coming Tuesday, I will be attending a conference on Natural Language Processing in Berlin.\""
      ],
      "execution_count": 25,
      "outputs": []
    },
    {
      "cell_type": "code",
      "metadata": {
        "id": "FOhND_2ckLH5"
      },
      "source": [
        "# Creating Doc object\n",
        "doc=nlp(text)"
      ],
      "execution_count": 26,
      "outputs": []
    },
    {
      "cell_type": "code",
      "metadata": {
        "id": "alk8jkknkLID",
        "colab": {
          "base_uri": "https://localhost:8080/"
        },
        "outputId": "a8ae0d3e-9053-4524-e13c-1e296092d6ef"
      },
      "source": [
        "# Getting dependency tags\n",
        "for token in doc:\n",
        "    print(token.text,'=>',token.dep_)"
      ],
      "execution_count": 27,
      "outputs": [
        {
          "output_type": "stream",
          "name": "stdout",
          "text": [
            "On => prep\n",
            "the => det\n",
            "coming => amod\n",
            "Tuesday => pobj\n",
            ", => punct\n",
            "I => nsubj\n",
            "will => aux\n",
            "be => aux\n",
            "attending => ROOT\n",
            "a => det\n",
            "conference => dobj\n",
            "on => prep\n",
            "Natural => compound\n",
            "Language => compound\n",
            "Processing => pobj\n",
            "in => prep\n",
            "Berlin => pobj\n",
            ". => punct\n"
          ]
        }
      ]
    },
    {
      "cell_type": "code",
      "metadata": {
        "id": "VgnATZLPkLIP"
      },
      "source": [
        "# Importing visualizer\n",
        "from spacy import displacy"
      ],
      "execution_count": 17,
      "outputs": []
    },
    {
      "cell_type": "code",
      "metadata": {
        "id": "qZAg0YtSkLId",
        "colab": {
          "base_uri": "https://localhost:8080/",
          "height": 528
        },
        "outputId": "17285b98-5967-4067-dd4c-02f9750dd6ea"
      },
      "source": [
        "# Visualizing dependency tree\n",
        "displacy.render(doc,jupyter=True)"
      ],
      "execution_count": 28,
      "outputs": [
        {
          "output_type": "display_data",
          "data": {
            "text/plain": [
              "<IPython.core.display.HTML object>"
            ],
            "text/html": [
              "<span class=\"tex2jax_ignore\"><svg xmlns=\"http://www.w3.org/2000/svg\" xmlns:xlink=\"http://www.w3.org/1999/xlink\" xml:lang=\"en\" id=\"3b128fdbf55849688879d90dec7a0633-0\" class=\"displacy\" width=\"2850\" height=\"487.0\" direction=\"ltr\" style=\"max-width: none; height: 487.0px; color: #000000; background: #ffffff; font-family: Arial; direction: ltr\">\n",
              "<text class=\"displacy-token\" fill=\"currentColor\" text-anchor=\"middle\" y=\"397.0\">\n",
              "    <tspan class=\"displacy-word\" fill=\"currentColor\" x=\"50\">On</tspan>\n",
              "    <tspan class=\"displacy-tag\" dy=\"2em\" fill=\"currentColor\" x=\"50\">ADP</tspan>\n",
              "</text>\n",
              "\n",
              "<text class=\"displacy-token\" fill=\"currentColor\" text-anchor=\"middle\" y=\"397.0\">\n",
              "    <tspan class=\"displacy-word\" fill=\"currentColor\" x=\"225\">the</tspan>\n",
              "    <tspan class=\"displacy-tag\" dy=\"2em\" fill=\"currentColor\" x=\"225\">DET</tspan>\n",
              "</text>\n",
              "\n",
              "<text class=\"displacy-token\" fill=\"currentColor\" text-anchor=\"middle\" y=\"397.0\">\n",
              "    <tspan class=\"displacy-word\" fill=\"currentColor\" x=\"400\">coming</tspan>\n",
              "    <tspan class=\"displacy-tag\" dy=\"2em\" fill=\"currentColor\" x=\"400\">ADJ</tspan>\n",
              "</text>\n",
              "\n",
              "<text class=\"displacy-token\" fill=\"currentColor\" text-anchor=\"middle\" y=\"397.0\">\n",
              "    <tspan class=\"displacy-word\" fill=\"currentColor\" x=\"575\">Tuesday,</tspan>\n",
              "    <tspan class=\"displacy-tag\" dy=\"2em\" fill=\"currentColor\" x=\"575\">PROPN</tspan>\n",
              "</text>\n",
              "\n",
              "<text class=\"displacy-token\" fill=\"currentColor\" text-anchor=\"middle\" y=\"397.0\">\n",
              "    <tspan class=\"displacy-word\" fill=\"currentColor\" x=\"750\">I</tspan>\n",
              "    <tspan class=\"displacy-tag\" dy=\"2em\" fill=\"currentColor\" x=\"750\">PRON</tspan>\n",
              "</text>\n",
              "\n",
              "<text class=\"displacy-token\" fill=\"currentColor\" text-anchor=\"middle\" y=\"397.0\">\n",
              "    <tspan class=\"displacy-word\" fill=\"currentColor\" x=\"925\">will</tspan>\n",
              "    <tspan class=\"displacy-tag\" dy=\"2em\" fill=\"currentColor\" x=\"925\">AUX</tspan>\n",
              "</text>\n",
              "\n",
              "<text class=\"displacy-token\" fill=\"currentColor\" text-anchor=\"middle\" y=\"397.0\">\n",
              "    <tspan class=\"displacy-word\" fill=\"currentColor\" x=\"1100\">be</tspan>\n",
              "    <tspan class=\"displacy-tag\" dy=\"2em\" fill=\"currentColor\" x=\"1100\">AUX</tspan>\n",
              "</text>\n",
              "\n",
              "<text class=\"displacy-token\" fill=\"currentColor\" text-anchor=\"middle\" y=\"397.0\">\n",
              "    <tspan class=\"displacy-word\" fill=\"currentColor\" x=\"1275\">attending</tspan>\n",
              "    <tspan class=\"displacy-tag\" dy=\"2em\" fill=\"currentColor\" x=\"1275\">VERB</tspan>\n",
              "</text>\n",
              "\n",
              "<text class=\"displacy-token\" fill=\"currentColor\" text-anchor=\"middle\" y=\"397.0\">\n",
              "    <tspan class=\"displacy-word\" fill=\"currentColor\" x=\"1450\">a</tspan>\n",
              "    <tspan class=\"displacy-tag\" dy=\"2em\" fill=\"currentColor\" x=\"1450\">DET</tspan>\n",
              "</text>\n",
              "\n",
              "<text class=\"displacy-token\" fill=\"currentColor\" text-anchor=\"middle\" y=\"397.0\">\n",
              "    <tspan class=\"displacy-word\" fill=\"currentColor\" x=\"1625\">conference</tspan>\n",
              "    <tspan class=\"displacy-tag\" dy=\"2em\" fill=\"currentColor\" x=\"1625\">NOUN</tspan>\n",
              "</text>\n",
              "\n",
              "<text class=\"displacy-token\" fill=\"currentColor\" text-anchor=\"middle\" y=\"397.0\">\n",
              "    <tspan class=\"displacy-word\" fill=\"currentColor\" x=\"1800\">on</tspan>\n",
              "    <tspan class=\"displacy-tag\" dy=\"2em\" fill=\"currentColor\" x=\"1800\">ADP</tspan>\n",
              "</text>\n",
              "\n",
              "<text class=\"displacy-token\" fill=\"currentColor\" text-anchor=\"middle\" y=\"397.0\">\n",
              "    <tspan class=\"displacy-word\" fill=\"currentColor\" x=\"1975\">Natural</tspan>\n",
              "    <tspan class=\"displacy-tag\" dy=\"2em\" fill=\"currentColor\" x=\"1975\">PROPN</tspan>\n",
              "</text>\n",
              "\n",
              "<text class=\"displacy-token\" fill=\"currentColor\" text-anchor=\"middle\" y=\"397.0\">\n",
              "    <tspan class=\"displacy-word\" fill=\"currentColor\" x=\"2150\">Language</tspan>\n",
              "    <tspan class=\"displacy-tag\" dy=\"2em\" fill=\"currentColor\" x=\"2150\">PROPN</tspan>\n",
              "</text>\n",
              "\n",
              "<text class=\"displacy-token\" fill=\"currentColor\" text-anchor=\"middle\" y=\"397.0\">\n",
              "    <tspan class=\"displacy-word\" fill=\"currentColor\" x=\"2325\">Processing</tspan>\n",
              "    <tspan class=\"displacy-tag\" dy=\"2em\" fill=\"currentColor\" x=\"2325\">PROPN</tspan>\n",
              "</text>\n",
              "\n",
              "<text class=\"displacy-token\" fill=\"currentColor\" text-anchor=\"middle\" y=\"397.0\">\n",
              "    <tspan class=\"displacy-word\" fill=\"currentColor\" x=\"2500\">in</tspan>\n",
              "    <tspan class=\"displacy-tag\" dy=\"2em\" fill=\"currentColor\" x=\"2500\">ADP</tspan>\n",
              "</text>\n",
              "\n",
              "<text class=\"displacy-token\" fill=\"currentColor\" text-anchor=\"middle\" y=\"397.0\">\n",
              "    <tspan class=\"displacy-word\" fill=\"currentColor\" x=\"2675\">Berlin.</tspan>\n",
              "    <tspan class=\"displacy-tag\" dy=\"2em\" fill=\"currentColor\" x=\"2675\">PROPN</tspan>\n",
              "</text>\n",
              "\n",
              "<g class=\"displacy-arrow\">\n",
              "    <path class=\"displacy-arc\" id=\"arrow-3b128fdbf55849688879d90dec7a0633-0-0\" stroke-width=\"2px\" d=\"M70,352.0 C70,2.0 1275.0,2.0 1275.0,352.0\" fill=\"none\" stroke=\"currentColor\"/>\n",
              "    <text dy=\"1.25em\" style=\"font-size: 0.8em; letter-spacing: 1px\">\n",
              "        <textPath xlink:href=\"#arrow-3b128fdbf55849688879d90dec7a0633-0-0\" class=\"displacy-label\" startOffset=\"50%\" side=\"left\" fill=\"currentColor\" text-anchor=\"middle\">prep</textPath>\n",
              "    </text>\n",
              "    <path class=\"displacy-arrowhead\" d=\"M70,354.0 L62,342.0 78,342.0\" fill=\"currentColor\"/>\n",
              "</g>\n",
              "\n",
              "<g class=\"displacy-arrow\">\n",
              "    <path class=\"displacy-arc\" id=\"arrow-3b128fdbf55849688879d90dec7a0633-0-1\" stroke-width=\"2px\" d=\"M245,352.0 C245,177.0 565.0,177.0 565.0,352.0\" fill=\"none\" stroke=\"currentColor\"/>\n",
              "    <text dy=\"1.25em\" style=\"font-size: 0.8em; letter-spacing: 1px\">\n",
              "        <textPath xlink:href=\"#arrow-3b128fdbf55849688879d90dec7a0633-0-1\" class=\"displacy-label\" startOffset=\"50%\" side=\"left\" fill=\"currentColor\" text-anchor=\"middle\">det</textPath>\n",
              "    </text>\n",
              "    <path class=\"displacy-arrowhead\" d=\"M245,354.0 L237,342.0 253,342.0\" fill=\"currentColor\"/>\n",
              "</g>\n",
              "\n",
              "<g class=\"displacy-arrow\">\n",
              "    <path class=\"displacy-arc\" id=\"arrow-3b128fdbf55849688879d90dec7a0633-0-2\" stroke-width=\"2px\" d=\"M420,352.0 C420,264.5 560.0,264.5 560.0,352.0\" fill=\"none\" stroke=\"currentColor\"/>\n",
              "    <text dy=\"1.25em\" style=\"font-size: 0.8em; letter-spacing: 1px\">\n",
              "        <textPath xlink:href=\"#arrow-3b128fdbf55849688879d90dec7a0633-0-2\" class=\"displacy-label\" startOffset=\"50%\" side=\"left\" fill=\"currentColor\" text-anchor=\"middle\">amod</textPath>\n",
              "    </text>\n",
              "    <path class=\"displacy-arrowhead\" d=\"M420,354.0 L412,342.0 428,342.0\" fill=\"currentColor\"/>\n",
              "</g>\n",
              "\n",
              "<g class=\"displacy-arrow\">\n",
              "    <path class=\"displacy-arc\" id=\"arrow-3b128fdbf55849688879d90dec7a0633-0-3\" stroke-width=\"2px\" d=\"M70,352.0 C70,89.5 570.0,89.5 570.0,352.0\" fill=\"none\" stroke=\"currentColor\"/>\n",
              "    <text dy=\"1.25em\" style=\"font-size: 0.8em; letter-spacing: 1px\">\n",
              "        <textPath xlink:href=\"#arrow-3b128fdbf55849688879d90dec7a0633-0-3\" class=\"displacy-label\" startOffset=\"50%\" side=\"left\" fill=\"currentColor\" text-anchor=\"middle\">pobj</textPath>\n",
              "    </text>\n",
              "    <path class=\"displacy-arrowhead\" d=\"M570.0,354.0 L578.0,342.0 562.0,342.0\" fill=\"currentColor\"/>\n",
              "</g>\n",
              "\n",
              "<g class=\"displacy-arrow\">\n",
              "    <path class=\"displacy-arc\" id=\"arrow-3b128fdbf55849688879d90dec7a0633-0-4\" stroke-width=\"2px\" d=\"M770,352.0 C770,89.5 1270.0,89.5 1270.0,352.0\" fill=\"none\" stroke=\"currentColor\"/>\n",
              "    <text dy=\"1.25em\" style=\"font-size: 0.8em; letter-spacing: 1px\">\n",
              "        <textPath xlink:href=\"#arrow-3b128fdbf55849688879d90dec7a0633-0-4\" class=\"displacy-label\" startOffset=\"50%\" side=\"left\" fill=\"currentColor\" text-anchor=\"middle\">nsubj</textPath>\n",
              "    </text>\n",
              "    <path class=\"displacy-arrowhead\" d=\"M770,354.0 L762,342.0 778,342.0\" fill=\"currentColor\"/>\n",
              "</g>\n",
              "\n",
              "<g class=\"displacy-arrow\">\n",
              "    <path class=\"displacy-arc\" id=\"arrow-3b128fdbf55849688879d90dec7a0633-0-5\" stroke-width=\"2px\" d=\"M945,352.0 C945,177.0 1265.0,177.0 1265.0,352.0\" fill=\"none\" stroke=\"currentColor\"/>\n",
              "    <text dy=\"1.25em\" style=\"font-size: 0.8em; letter-spacing: 1px\">\n",
              "        <textPath xlink:href=\"#arrow-3b128fdbf55849688879d90dec7a0633-0-5\" class=\"displacy-label\" startOffset=\"50%\" side=\"left\" fill=\"currentColor\" text-anchor=\"middle\">aux</textPath>\n",
              "    </text>\n",
              "    <path class=\"displacy-arrowhead\" d=\"M945,354.0 L937,342.0 953,342.0\" fill=\"currentColor\"/>\n",
              "</g>\n",
              "\n",
              "<g class=\"displacy-arrow\">\n",
              "    <path class=\"displacy-arc\" id=\"arrow-3b128fdbf55849688879d90dec7a0633-0-6\" stroke-width=\"2px\" d=\"M1120,352.0 C1120,264.5 1260.0,264.5 1260.0,352.0\" fill=\"none\" stroke=\"currentColor\"/>\n",
              "    <text dy=\"1.25em\" style=\"font-size: 0.8em; letter-spacing: 1px\">\n",
              "        <textPath xlink:href=\"#arrow-3b128fdbf55849688879d90dec7a0633-0-6\" class=\"displacy-label\" startOffset=\"50%\" side=\"left\" fill=\"currentColor\" text-anchor=\"middle\">aux</textPath>\n",
              "    </text>\n",
              "    <path class=\"displacy-arrowhead\" d=\"M1120,354.0 L1112,342.0 1128,342.0\" fill=\"currentColor\"/>\n",
              "</g>\n",
              "\n",
              "<g class=\"displacy-arrow\">\n",
              "    <path class=\"displacy-arc\" id=\"arrow-3b128fdbf55849688879d90dec7a0633-0-7\" stroke-width=\"2px\" d=\"M1470,352.0 C1470,264.5 1610.0,264.5 1610.0,352.0\" fill=\"none\" stroke=\"currentColor\"/>\n",
              "    <text dy=\"1.25em\" style=\"font-size: 0.8em; letter-spacing: 1px\">\n",
              "        <textPath xlink:href=\"#arrow-3b128fdbf55849688879d90dec7a0633-0-7\" class=\"displacy-label\" startOffset=\"50%\" side=\"left\" fill=\"currentColor\" text-anchor=\"middle\">det</textPath>\n",
              "    </text>\n",
              "    <path class=\"displacy-arrowhead\" d=\"M1470,354.0 L1462,342.0 1478,342.0\" fill=\"currentColor\"/>\n",
              "</g>\n",
              "\n",
              "<g class=\"displacy-arrow\">\n",
              "    <path class=\"displacy-arc\" id=\"arrow-3b128fdbf55849688879d90dec7a0633-0-8\" stroke-width=\"2px\" d=\"M1295,352.0 C1295,177.0 1615.0,177.0 1615.0,352.0\" fill=\"none\" stroke=\"currentColor\"/>\n",
              "    <text dy=\"1.25em\" style=\"font-size: 0.8em; letter-spacing: 1px\">\n",
              "        <textPath xlink:href=\"#arrow-3b128fdbf55849688879d90dec7a0633-0-8\" class=\"displacy-label\" startOffset=\"50%\" side=\"left\" fill=\"currentColor\" text-anchor=\"middle\">dobj</textPath>\n",
              "    </text>\n",
              "    <path class=\"displacy-arrowhead\" d=\"M1615.0,354.0 L1623.0,342.0 1607.0,342.0\" fill=\"currentColor\"/>\n",
              "</g>\n",
              "\n",
              "<g class=\"displacy-arrow\">\n",
              "    <path class=\"displacy-arc\" id=\"arrow-3b128fdbf55849688879d90dec7a0633-0-9\" stroke-width=\"2px\" d=\"M1645,352.0 C1645,264.5 1785.0,264.5 1785.0,352.0\" fill=\"none\" stroke=\"currentColor\"/>\n",
              "    <text dy=\"1.25em\" style=\"font-size: 0.8em; letter-spacing: 1px\">\n",
              "        <textPath xlink:href=\"#arrow-3b128fdbf55849688879d90dec7a0633-0-9\" class=\"displacy-label\" startOffset=\"50%\" side=\"left\" fill=\"currentColor\" text-anchor=\"middle\">prep</textPath>\n",
              "    </text>\n",
              "    <path class=\"displacy-arrowhead\" d=\"M1785.0,354.0 L1793.0,342.0 1777.0,342.0\" fill=\"currentColor\"/>\n",
              "</g>\n",
              "\n",
              "<g class=\"displacy-arrow\">\n",
              "    <path class=\"displacy-arc\" id=\"arrow-3b128fdbf55849688879d90dec7a0633-0-10\" stroke-width=\"2px\" d=\"M1995,352.0 C1995,264.5 2135.0,264.5 2135.0,352.0\" fill=\"none\" stroke=\"currentColor\"/>\n",
              "    <text dy=\"1.25em\" style=\"font-size: 0.8em; letter-spacing: 1px\">\n",
              "        <textPath xlink:href=\"#arrow-3b128fdbf55849688879d90dec7a0633-0-10\" class=\"displacy-label\" startOffset=\"50%\" side=\"left\" fill=\"currentColor\" text-anchor=\"middle\">compound</textPath>\n",
              "    </text>\n",
              "    <path class=\"displacy-arrowhead\" d=\"M1995,354.0 L1987,342.0 2003,342.0\" fill=\"currentColor\"/>\n",
              "</g>\n",
              "\n",
              "<g class=\"displacy-arrow\">\n",
              "    <path class=\"displacy-arc\" id=\"arrow-3b128fdbf55849688879d90dec7a0633-0-11\" stroke-width=\"2px\" d=\"M2170,352.0 C2170,264.5 2310.0,264.5 2310.0,352.0\" fill=\"none\" stroke=\"currentColor\"/>\n",
              "    <text dy=\"1.25em\" style=\"font-size: 0.8em; letter-spacing: 1px\">\n",
              "        <textPath xlink:href=\"#arrow-3b128fdbf55849688879d90dec7a0633-0-11\" class=\"displacy-label\" startOffset=\"50%\" side=\"left\" fill=\"currentColor\" text-anchor=\"middle\">compound</textPath>\n",
              "    </text>\n",
              "    <path class=\"displacy-arrowhead\" d=\"M2170,354.0 L2162,342.0 2178,342.0\" fill=\"currentColor\"/>\n",
              "</g>\n",
              "\n",
              "<g class=\"displacy-arrow\">\n",
              "    <path class=\"displacy-arc\" id=\"arrow-3b128fdbf55849688879d90dec7a0633-0-12\" stroke-width=\"2px\" d=\"M1820,352.0 C1820,177.0 2315.0,177.0 2315.0,352.0\" fill=\"none\" stroke=\"currentColor\"/>\n",
              "    <text dy=\"1.25em\" style=\"font-size: 0.8em; letter-spacing: 1px\">\n",
              "        <textPath xlink:href=\"#arrow-3b128fdbf55849688879d90dec7a0633-0-12\" class=\"displacy-label\" startOffset=\"50%\" side=\"left\" fill=\"currentColor\" text-anchor=\"middle\">pobj</textPath>\n",
              "    </text>\n",
              "    <path class=\"displacy-arrowhead\" d=\"M2315.0,354.0 L2323.0,342.0 2307.0,342.0\" fill=\"currentColor\"/>\n",
              "</g>\n",
              "\n",
              "<g class=\"displacy-arrow\">\n",
              "    <path class=\"displacy-arc\" id=\"arrow-3b128fdbf55849688879d90dec7a0633-0-13\" stroke-width=\"2px\" d=\"M1645,352.0 C1645,89.5 2495.0,89.5 2495.0,352.0\" fill=\"none\" stroke=\"currentColor\"/>\n",
              "    <text dy=\"1.25em\" style=\"font-size: 0.8em; letter-spacing: 1px\">\n",
              "        <textPath xlink:href=\"#arrow-3b128fdbf55849688879d90dec7a0633-0-13\" class=\"displacy-label\" startOffset=\"50%\" side=\"left\" fill=\"currentColor\" text-anchor=\"middle\">prep</textPath>\n",
              "    </text>\n",
              "    <path class=\"displacy-arrowhead\" d=\"M2495.0,354.0 L2503.0,342.0 2487.0,342.0\" fill=\"currentColor\"/>\n",
              "</g>\n",
              "\n",
              "<g class=\"displacy-arrow\">\n",
              "    <path class=\"displacy-arc\" id=\"arrow-3b128fdbf55849688879d90dec7a0633-0-14\" stroke-width=\"2px\" d=\"M2520,352.0 C2520,264.5 2660.0,264.5 2660.0,352.0\" fill=\"none\" stroke=\"currentColor\"/>\n",
              "    <text dy=\"1.25em\" style=\"font-size: 0.8em; letter-spacing: 1px\">\n",
              "        <textPath xlink:href=\"#arrow-3b128fdbf55849688879d90dec7a0633-0-14\" class=\"displacy-label\" startOffset=\"50%\" side=\"left\" fill=\"currentColor\" text-anchor=\"middle\">pobj</textPath>\n",
              "    </text>\n",
              "    <path class=\"displacy-arrowhead\" d=\"M2660.0,354.0 L2668.0,342.0 2652.0,342.0\" fill=\"currentColor\"/>\n",
              "</g>\n",
              "</svg></span>"
            ]
          },
          "metadata": {}
        }
      ]
    },
    {
      "cell_type": "code",
      "metadata": {
        "id": "Xk1rAKNNkLIs",
        "colab": {
          "base_uri": "https://localhost:8080/"
        },
        "outputId": "c120a1be-8e21-42a0-a63c-c7ea2165f4eb"
      },
      "source": [
        "# Getting head word\n",
        "for token in doc:\n",
        "    print(token.text,'=>',token.head.text)"
      ],
      "execution_count": 29,
      "outputs": [
        {
          "output_type": "stream",
          "name": "stdout",
          "text": [
            "On => attending\n",
            "the => Tuesday\n",
            "coming => Tuesday\n",
            "Tuesday => On\n",
            ", => attending\n",
            "I => attending\n",
            "will => attending\n",
            "be => attending\n",
            "attending => attending\n",
            "a => conference\n",
            "conference => attending\n",
            "on => conference\n",
            "Natural => Language\n",
            "Language => Processing\n",
            "Processing => on\n",
            "in => conference\n",
            "Berlin => in\n",
            ". => attending\n"
          ]
        }
      ]
    },
    {
      "cell_type": "code",
      "metadata": {
        "id": "W95_MGrKkLI2",
        "colab": {
          "base_uri": "https://localhost:8080/"
        },
        "outputId": "30d1aabc-6d07-407f-a519-ba5cceb721d4"
      },
      "source": [
        "# Getting immediate children\n",
        "for token in doc:\n",
        "    print(token.text,'=>',token.children)"
      ],
      "execution_count": 30,
      "outputs": [
        {
          "output_type": "stream",
          "name": "stdout",
          "text": [
            "On => <generator object at 0x7be2970654e0>\n",
            "the => <generator object at 0x7be2970654e0>\n",
            "coming => <generator object at 0x7be2970654e0>\n",
            "Tuesday => <generator object at 0x7be2970654e0>\n",
            ", => <generator object at 0x7be2970654e0>\n",
            "I => <generator object at 0x7be2970654e0>\n",
            "will => <generator object at 0x7be2970654e0>\n",
            "be => <generator object at 0x7be2970654e0>\n",
            "attending => <generator object at 0x7be2970654e0>\n",
            "a => <generator object at 0x7be2970654e0>\n",
            "conference => <generator object at 0x7be2970654e0>\n",
            "on => <generator object at 0x7be2970654e0>\n",
            "Natural => <generator object at 0x7be2970654e0>\n",
            "Language => <generator object at 0x7be2970654e0>\n",
            "Processing => <generator object at 0x7be2970654e0>\n",
            "in => <generator object at 0x7be2970654e0>\n",
            "Berlin => <generator object at 0x7be2970654e0>\n",
            ". => <generator object at 0x7be2970654e0>\n"
          ]
        }
      ]
    },
    {
      "cell_type": "code",
      "metadata": {
        "id": "lSyf6uyXkLI_",
        "colab": {
          "base_uri": "https://localhost:8080/"
        },
        "outputId": "d92da924-9218-43c3-cce6-a97d0246d090"
      },
      "source": [
        "# Getting immediate children\n",
        "for token in doc:\n",
        "    print(token.text,'=>',[child.text for child in token.children])"
      ],
      "execution_count": 31,
      "outputs": [
        {
          "output_type": "stream",
          "name": "stdout",
          "text": [
            "On => ['Tuesday']\n",
            "the => []\n",
            "coming => []\n",
            "Tuesday => ['the', 'coming']\n",
            ", => []\n",
            "I => []\n",
            "will => []\n",
            "be => []\n",
            "attending => ['On', ',', 'I', 'will', 'be', 'conference', '.']\n",
            "a => []\n",
            "conference => ['a', 'on', 'in']\n",
            "on => ['Processing']\n",
            "Natural => []\n",
            "Language => ['Natural']\n",
            "Processing => ['Language']\n",
            "in => ['Berlin']\n",
            "Berlin => []\n",
            ". => []\n"
          ]
        }
      ]
    },
    {
      "cell_type": "code",
      "metadata": {
        "id": "eUnk0p34kLJG",
        "colab": {
          "base_uri": "https://localhost:8080/"
        },
        "outputId": "9bc0c2c9-a6cb-480b-abbc-b40981afed42"
      },
      "source": [
        "# Getting left and right children\n",
        "for token in doc:\n",
        "    print(token.text,'=>',token.lefts,'=>',token.rights)"
      ],
      "execution_count": 33,
      "outputs": [
        {
          "output_type": "stream",
          "name": "stdout",
          "text": [
            "On => <generator object at 0x7be297065620> => <generator object at 0x7be2970656c0>\n",
            "the => <generator object at 0x7be297065620> => <generator object at 0x7be2970656c0>\n",
            "coming => <generator object at 0x7be297065620> => <generator object at 0x7be2970656c0>\n",
            "Tuesday => <generator object at 0x7be297065620> => <generator object at 0x7be2970656c0>\n",
            ", => <generator object at 0x7be297065620> => <generator object at 0x7be2970656c0>\n",
            "I => <generator object at 0x7be297065620> => <generator object at 0x7be2970656c0>\n",
            "will => <generator object at 0x7be297065620> => <generator object at 0x7be2970656c0>\n",
            "be => <generator object at 0x7be297065620> => <generator object at 0x7be2970656c0>\n",
            "attending => <generator object at 0x7be297065620> => <generator object at 0x7be2970656c0>\n",
            "a => <generator object at 0x7be297065620> => <generator object at 0x7be2970656c0>\n",
            "conference => <generator object at 0x7be297065620> => <generator object at 0x7be2970656c0>\n",
            "on => <generator object at 0x7be297065620> => <generator object at 0x7be2970656c0>\n",
            "Natural => <generator object at 0x7be297065620> => <generator object at 0x7be2970656c0>\n",
            "Language => <generator object at 0x7be297065620> => <generator object at 0x7be2970656c0>\n",
            "Processing => <generator object at 0x7be297065620> => <generator object at 0x7be2970656c0>\n",
            "in => <generator object at 0x7be297065620> => <generator object at 0x7be2970656c0>\n",
            "Berlin => <generator object at 0x7be297065620> => <generator object at 0x7be2970656c0>\n",
            ". => <generator object at 0x7be297065620> => <generator object at 0x7be2970656c0>\n"
          ]
        }
      ]
    },
    {
      "cell_type": "code",
      "metadata": {
        "id": "L4M1lUDNkLJO",
        "colab": {
          "base_uri": "https://localhost:8080/"
        },
        "outputId": "045ef80f-c85e-4187-b0a2-52c03f14c954"
      },
      "source": [
        "# Getting left children\n",
        "for token in doc:\n",
        "    print(token.text,'=>',token.n_lefts,'=>',[left for left in token.lefts])"
      ],
      "execution_count": 34,
      "outputs": [
        {
          "output_type": "stream",
          "name": "stdout",
          "text": [
            "On => 0 => []\n",
            "the => 0 => []\n",
            "coming => 0 => []\n",
            "Tuesday => 2 => [the, coming]\n",
            ", => 0 => []\n",
            "I => 0 => []\n",
            "will => 0 => []\n",
            "be => 0 => []\n",
            "attending => 5 => [On, ,, I, will, be]\n",
            "a => 0 => []\n",
            "conference => 1 => [a]\n",
            "on => 0 => []\n",
            "Natural => 0 => []\n",
            "Language => 1 => [Natural]\n",
            "Processing => 1 => [Language]\n",
            "in => 0 => []\n",
            "Berlin => 0 => []\n",
            ". => 0 => []\n"
          ]
        }
      ]
    },
    {
      "cell_type": "code",
      "metadata": {
        "id": "8YTJlA-ikLJX",
        "colab": {
          "base_uri": "https://localhost:8080/"
        },
        "outputId": "5abf1beb-152c-4589-acf8-c70e466c48ea"
      },
      "source": [
        "# Getting right children\n",
        "for token in doc:\n",
        "    print(token.text,'=>',token.n_rights,'=>',[right for right in token.rights])"
      ],
      "execution_count": 35,
      "outputs": [
        {
          "output_type": "stream",
          "name": "stdout",
          "text": [
            "On => 1 => [Tuesday]\n",
            "the => 0 => []\n",
            "coming => 0 => []\n",
            "Tuesday => 0 => []\n",
            ", => 0 => []\n",
            "I => 0 => []\n",
            "will => 0 => []\n",
            "be => 0 => []\n",
            "attending => 2 => [conference, .]\n",
            "a => 0 => []\n",
            "conference => 2 => [on, in]\n",
            "on => 1 => [Processing]\n",
            "Natural => 0 => []\n",
            "Language => 0 => []\n",
            "Processing => 0 => []\n",
            "in => 1 => [Berlin]\n",
            "Berlin => 0 => []\n",
            ". => 0 => []\n"
          ]
        }
      ]
    },
    {
      "cell_type": "code",
      "metadata": {
        "id": "aIqiN6oZ-Xan"
      },
      "source": [],
      "execution_count": null,
      "outputs": []
    }
  ]
}