{
  "cells": [
    {
      "cell_type": "markdown",
      "metadata": {
        "id": "view-in-github",
        "colab_type": "text"
      },
      "source": [
        "<a href=\"https://colab.research.google.com/github/arutraj/ML_Basics/blob/main/15_4_Transfer_Learning.ipynb\" target=\"_parent\"><img src=\"https://colab.research.google.com/assets/colab-badge.svg\" alt=\"Open In Colab\"/></a>"
      ]
    },
    {
      "cell_type": "markdown",
      "metadata": {
        "id": "ptp7FGAWlrp9"
      },
      "source": [
        "# Transfer Learning"
      ]
    },
    {
      "cell_type": "markdown",
      "metadata": {
        "id": "XHOltjt-lrqA"
      },
      "source": [
        "<tr>\n",
        "    <td><img src=\"images/imagenet_challenge.png\" alt=\"drawing\" style=\"width:500px;\" align=\"left\"/></td>\n",
        "    <td><img src=\"images/screenshot.png\" alt=\"drawing\" style=\"width:500px;\" align=\"left\"/></td>\n",
        "</tr>"
      ]
    },
    {
      "cell_type": "markdown",
      "metadata": {
        "id": "ysQ1EYHjlrqC"
      },
      "source": [
        "## Classification Problem - Emergency vs Non-emergency Vehicle Classification"
      ]
    },
    {
      "cell_type": "markdown",
      "metadata": {
        "id": "i70CRNy8lrqF"
      },
      "source": [
        "<img src='images/emergency_vs_non.png'>"
      ]
    },
    {
      "cell_type": "markdown",
      "metadata": {
        "id": "aKEERr7qlrqI"
      },
      "source": [
        "\n",
        "[Source](https://www.slideshare.net/xavigiro/image-classification-on-imagenet-d1l4-2017-upc-deep-learning-for-computer-vision/)"
      ]
    },
    {
      "cell_type": "markdown",
      "metadata": {
        "id": "zEk4ZIdmlrqJ"
      },
      "source": [
        "Table of Contents\n",
        "1. <font color='blue'>Import neccessary libraries\n",
        "2. Load the data</font>\n",
        "3. <font color='#999900'>Preprocess the data</font>\n",
        "4. <font color='red'>Load weights of pre-trained model\n",
        "5. Fine tune the model for the current problem</font>\n",
        "6. <font color='blue'>Get predictions</font>"
      ]
    },
    {
      "cell_type": "markdown",
      "metadata": {
        "id": "TvERcG9VlrqK"
      },
      "source": [
        "## 1. Import neccessary libraries"
      ]
    },
    {
      "cell_type": "markdown",
      "metadata": {
        "id": "vMFhpnlJlrqQ"
      },
      "source": [
        "Here we will import the required libraries and functions."
      ]
    },
    {
      "cell_type": "code",
      "execution_count": 2,
      "metadata": {
        "id": "IsiS1-BqlrqT"
      },
      "outputs": [],
      "source": [
        "# import necessary libraries for plotting images\n",
        "import numpy as np\n",
        "import matplotlib.pyplot as plt\n",
        "# plot in jupyter notebook itself\n",
        "%matplotlib inline\n",
        "from glob import glob\n",
        "import pandas as pd\n",
        "from sklearn.model_selection import train_test_split\n",
        "from skimage.transform import resize\n",
        "\n",
        "from tensorflow.keras.utils import to_categorical\n",
        "#used to preprocess data according to VGG16\n",
        "from keras.applications.vgg16 import preprocess_input\n",
        "#for instantiating the model and loading the weights and biases\n",
        "from keras.applications.vgg16 import VGG16\n",
        "from keras.applications.resnet50 import ResNet50\n",
        "from keras.models import Sequential\n",
        "from keras.layers import Dense, InputLayer"
      ]
    },
    {
      "cell_type": "markdown",
      "metadata": {
        "id": "vmnl8Ezslrqd"
      },
      "source": [
        "## 2. Load the data"
      ]
    },
    {
      "cell_type": "code",
      "execution_count": 4,
      "metadata": {
        "colab": {
          "base_uri": "https://localhost:8080/"
        },
        "id": "y99qy90L1XsC",
        "outputId": "4cf2eaae-9aea-4d77-f7a9-492ce3ac93fa"
      },
      "outputs": [
        {
          "output_type": "stream",
          "name": "stdout",
          "text": [
            "Mounted at /content/drive\n"
          ]
        }
      ],
      "source": [
        "from google.colab import drive\n",
        "drive.mount('/content/drive')"
      ]
    },
    {
      "cell_type": "code",
      "execution_count": 5,
      "metadata": {
        "colab": {
          "base_uri": "https://localhost:8080/"
        },
        "collapsed": true,
        "id": "cV5F9sJt165I",
        "jupyter": {
          "outputs_hidden": true
        },
        "outputId": "34d613af-6e0d-4853-bf73-016b0945d482"
      },
      "outputs": [
        {
          "output_type": "stream",
          "name": "stdout",
          "text": [
            "2352\n"
          ]
        }
      ],
      "source": [
        "#!unzip /content/drive/MyDrive/AV/Images/Dataset.zip\n",
        "!ls /content/drive/MyDrive/AnalyticsVidya/DeepLearning/images/*jpg |wc -l"
      ]
    },
    {
      "cell_type": "code",
      "execution_count": 7,
      "metadata": {
        "id": "aYQHgceIlrqf"
      },
      "outputs": [],
      "source": [
        "#reading the csv file containing data labels\n",
        "data = pd.read_csv('/content/emergency_classification.csv')"
      ]
    },
    {
      "cell_type": "code",
      "execution_count": 8,
      "metadata": {
        "colab": {
          "base_uri": "https://localhost:8080/",
          "height": 206
        },
        "id": "c-D09gM_lrqn",
        "outputId": "86e147c4-9b94-463f-98f4-ef568bdb150a"
      },
      "outputs": [
        {
          "output_type": "execute_result",
          "data": {
            "text/plain": [
              "  image_names  emergency_or_not\n",
              "0       0.jpg                 1\n",
              "1       1.jpg                 1\n",
              "2       2.jpg                 1\n",
              "3       3.jpg                 1\n",
              "4       4.jpg                 1"
            ],
            "text/html": [
              "\n",
              "  <div id=\"df-476c52a0-b443-48e8-acd3-66655fd09794\" class=\"colab-df-container\">\n",
              "    <div>\n",
              "<style scoped>\n",
              "    .dataframe tbody tr th:only-of-type {\n",
              "        vertical-align: middle;\n",
              "    }\n",
              "\n",
              "    .dataframe tbody tr th {\n",
              "        vertical-align: top;\n",
              "    }\n",
              "\n",
              "    .dataframe thead th {\n",
              "        text-align: right;\n",
              "    }\n",
              "</style>\n",
              "<table border=\"1\" class=\"dataframe\">\n",
              "  <thead>\n",
              "    <tr style=\"text-align: right;\">\n",
              "      <th></th>\n",
              "      <th>image_names</th>\n",
              "      <th>emergency_or_not</th>\n",
              "    </tr>\n",
              "  </thead>\n",
              "  <tbody>\n",
              "    <tr>\n",
              "      <th>0</th>\n",
              "      <td>0.jpg</td>\n",
              "      <td>1</td>\n",
              "    </tr>\n",
              "    <tr>\n",
              "      <th>1</th>\n",
              "      <td>1.jpg</td>\n",
              "      <td>1</td>\n",
              "    </tr>\n",
              "    <tr>\n",
              "      <th>2</th>\n",
              "      <td>2.jpg</td>\n",
              "      <td>1</td>\n",
              "    </tr>\n",
              "    <tr>\n",
              "      <th>3</th>\n",
              "      <td>3.jpg</td>\n",
              "      <td>1</td>\n",
              "    </tr>\n",
              "    <tr>\n",
              "      <th>4</th>\n",
              "      <td>4.jpg</td>\n",
              "      <td>1</td>\n",
              "    </tr>\n",
              "  </tbody>\n",
              "</table>\n",
              "</div>\n",
              "    <div class=\"colab-df-buttons\">\n",
              "\n",
              "  <div class=\"colab-df-container\">\n",
              "    <button class=\"colab-df-convert\" onclick=\"convertToInteractive('df-476c52a0-b443-48e8-acd3-66655fd09794')\"\n",
              "            title=\"Convert this dataframe to an interactive table.\"\n",
              "            style=\"display:none;\">\n",
              "\n",
              "  <svg xmlns=\"http://www.w3.org/2000/svg\" height=\"24px\" viewBox=\"0 -960 960 960\">\n",
              "    <path d=\"M120-120v-720h720v720H120Zm60-500h600v-160H180v160Zm220 220h160v-160H400v160Zm0 220h160v-160H400v160ZM180-400h160v-160H180v160Zm440 0h160v-160H620v160ZM180-180h160v-160H180v160Zm440 0h160v-160H620v160Z\"/>\n",
              "  </svg>\n",
              "    </button>\n",
              "\n",
              "  <style>\n",
              "    .colab-df-container {\n",
              "      display:flex;\n",
              "      gap: 12px;\n",
              "    }\n",
              "\n",
              "    .colab-df-convert {\n",
              "      background-color: #E8F0FE;\n",
              "      border: none;\n",
              "      border-radius: 50%;\n",
              "      cursor: pointer;\n",
              "      display: none;\n",
              "      fill: #1967D2;\n",
              "      height: 32px;\n",
              "      padding: 0 0 0 0;\n",
              "      width: 32px;\n",
              "    }\n",
              "\n",
              "    .colab-df-convert:hover {\n",
              "      background-color: #E2EBFA;\n",
              "      box-shadow: 0px 1px 2px rgba(60, 64, 67, 0.3), 0px 1px 3px 1px rgba(60, 64, 67, 0.15);\n",
              "      fill: #174EA6;\n",
              "    }\n",
              "\n",
              "    .colab-df-buttons div {\n",
              "      margin-bottom: 4px;\n",
              "    }\n",
              "\n",
              "    [theme=dark] .colab-df-convert {\n",
              "      background-color: #3B4455;\n",
              "      fill: #D2E3FC;\n",
              "    }\n",
              "\n",
              "    [theme=dark] .colab-df-convert:hover {\n",
              "      background-color: #434B5C;\n",
              "      box-shadow: 0px 1px 3px 1px rgba(0, 0, 0, 0.15);\n",
              "      filter: drop-shadow(0px 1px 2px rgba(0, 0, 0, 0.3));\n",
              "      fill: #FFFFFF;\n",
              "    }\n",
              "  </style>\n",
              "\n",
              "    <script>\n",
              "      const buttonEl =\n",
              "        document.querySelector('#df-476c52a0-b443-48e8-acd3-66655fd09794 button.colab-df-convert');\n",
              "      buttonEl.style.display =\n",
              "        google.colab.kernel.accessAllowed ? 'block' : 'none';\n",
              "\n",
              "      async function convertToInteractive(key) {\n",
              "        const element = document.querySelector('#df-476c52a0-b443-48e8-acd3-66655fd09794');\n",
              "        const dataTable =\n",
              "          await google.colab.kernel.invokeFunction('convertToInteractive',\n",
              "                                                    [key], {});\n",
              "        if (!dataTable) return;\n",
              "\n",
              "        const docLinkHtml = 'Like what you see? Visit the ' +\n",
              "          '<a target=\"_blank\" href=https://colab.research.google.com/notebooks/data_table.ipynb>data table notebook</a>'\n",
              "          + ' to learn more about interactive tables.';\n",
              "        element.innerHTML = '';\n",
              "        dataTable['output_type'] = 'display_data';\n",
              "        await google.colab.output.renderOutput(dataTable, element);\n",
              "        const docLink = document.createElement('div');\n",
              "        docLink.innerHTML = docLinkHtml;\n",
              "        element.appendChild(docLink);\n",
              "      }\n",
              "    </script>\n",
              "  </div>\n",
              "\n",
              "\n",
              "<div id=\"df-da2f88b1-f9d1-47ff-a502-6e4a9cdd85e0\">\n",
              "  <button class=\"colab-df-quickchart\" onclick=\"quickchart('df-da2f88b1-f9d1-47ff-a502-6e4a9cdd85e0')\"\n",
              "            title=\"Suggest charts\"\n",
              "            style=\"display:none;\">\n",
              "\n",
              "<svg xmlns=\"http://www.w3.org/2000/svg\" height=\"24px\"viewBox=\"0 0 24 24\"\n",
              "     width=\"24px\">\n",
              "    <g>\n",
              "        <path d=\"M19 3H5c-1.1 0-2 .9-2 2v14c0 1.1.9 2 2 2h14c1.1 0 2-.9 2-2V5c0-1.1-.9-2-2-2zM9 17H7v-7h2v7zm4 0h-2V7h2v10zm4 0h-2v-4h2v4z\"/>\n",
              "    </g>\n",
              "</svg>\n",
              "  </button>\n",
              "\n",
              "<style>\n",
              "  .colab-df-quickchart {\n",
              "      --bg-color: #E8F0FE;\n",
              "      --fill-color: #1967D2;\n",
              "      --hover-bg-color: #E2EBFA;\n",
              "      --hover-fill-color: #174EA6;\n",
              "      --disabled-fill-color: #AAA;\n",
              "      --disabled-bg-color: #DDD;\n",
              "  }\n",
              "\n",
              "  [theme=dark] .colab-df-quickchart {\n",
              "      --bg-color: #3B4455;\n",
              "      --fill-color: #D2E3FC;\n",
              "      --hover-bg-color: #434B5C;\n",
              "      --hover-fill-color: #FFFFFF;\n",
              "      --disabled-bg-color: #3B4455;\n",
              "      --disabled-fill-color: #666;\n",
              "  }\n",
              "\n",
              "  .colab-df-quickchart {\n",
              "    background-color: var(--bg-color);\n",
              "    border: none;\n",
              "    border-radius: 50%;\n",
              "    cursor: pointer;\n",
              "    display: none;\n",
              "    fill: var(--fill-color);\n",
              "    height: 32px;\n",
              "    padding: 0;\n",
              "    width: 32px;\n",
              "  }\n",
              "\n",
              "  .colab-df-quickchart:hover {\n",
              "    background-color: var(--hover-bg-color);\n",
              "    box-shadow: 0 1px 2px rgba(60, 64, 67, 0.3), 0 1px 3px 1px rgba(60, 64, 67, 0.15);\n",
              "    fill: var(--button-hover-fill-color);\n",
              "  }\n",
              "\n",
              "  .colab-df-quickchart-complete:disabled,\n",
              "  .colab-df-quickchart-complete:disabled:hover {\n",
              "    background-color: var(--disabled-bg-color);\n",
              "    fill: var(--disabled-fill-color);\n",
              "    box-shadow: none;\n",
              "  }\n",
              "\n",
              "  .colab-df-spinner {\n",
              "    border: 2px solid var(--fill-color);\n",
              "    border-color: transparent;\n",
              "    border-bottom-color: var(--fill-color);\n",
              "    animation:\n",
              "      spin 1s steps(1) infinite;\n",
              "  }\n",
              "\n",
              "  @keyframes spin {\n",
              "    0% {\n",
              "      border-color: transparent;\n",
              "      border-bottom-color: var(--fill-color);\n",
              "      border-left-color: var(--fill-color);\n",
              "    }\n",
              "    20% {\n",
              "      border-color: transparent;\n",
              "      border-left-color: var(--fill-color);\n",
              "      border-top-color: var(--fill-color);\n",
              "    }\n",
              "    30% {\n",
              "      border-color: transparent;\n",
              "      border-left-color: var(--fill-color);\n",
              "      border-top-color: var(--fill-color);\n",
              "      border-right-color: var(--fill-color);\n",
              "    }\n",
              "    40% {\n",
              "      border-color: transparent;\n",
              "      border-right-color: var(--fill-color);\n",
              "      border-top-color: var(--fill-color);\n",
              "    }\n",
              "    60% {\n",
              "      border-color: transparent;\n",
              "      border-right-color: var(--fill-color);\n",
              "    }\n",
              "    80% {\n",
              "      border-color: transparent;\n",
              "      border-right-color: var(--fill-color);\n",
              "      border-bottom-color: var(--fill-color);\n",
              "    }\n",
              "    90% {\n",
              "      border-color: transparent;\n",
              "      border-bottom-color: var(--fill-color);\n",
              "    }\n",
              "  }\n",
              "</style>\n",
              "\n",
              "  <script>\n",
              "    async function quickchart(key) {\n",
              "      const quickchartButtonEl =\n",
              "        document.querySelector('#' + key + ' button');\n",
              "      quickchartButtonEl.disabled = true;  // To prevent multiple clicks.\n",
              "      quickchartButtonEl.classList.add('colab-df-spinner');\n",
              "      try {\n",
              "        const charts = await google.colab.kernel.invokeFunction(\n",
              "            'suggestCharts', [key], {});\n",
              "      } catch (error) {\n",
              "        console.error('Error during call to suggestCharts:', error);\n",
              "      }\n",
              "      quickchartButtonEl.classList.remove('colab-df-spinner');\n",
              "      quickchartButtonEl.classList.add('colab-df-quickchart-complete');\n",
              "    }\n",
              "    (() => {\n",
              "      let quickchartButtonEl =\n",
              "        document.querySelector('#df-da2f88b1-f9d1-47ff-a502-6e4a9cdd85e0 button');\n",
              "      quickchartButtonEl.style.display =\n",
              "        google.colab.kernel.accessAllowed ? 'block' : 'none';\n",
              "    })();\n",
              "  </script>\n",
              "</div>\n",
              "\n",
              "    </div>\n",
              "  </div>\n"
            ],
            "application/vnd.google.colaboratory.intrinsic+json": {
              "type": "dataframe",
              "variable_name": "data",
              "summary": "{\n  \"name\": \"data\",\n  \"rows\": 2352,\n  \"fields\": [\n    {\n      \"column\": \"image_names\",\n      \"properties\": {\n        \"dtype\": \"string\",\n        \"num_unique_values\": 2352,\n        \"samples\": [\n          \"1960.jpg\",\n          \"668.jpg\",\n          \"2082.jpg\"\n        ],\n        \"semantic_type\": \"\",\n        \"description\": \"\"\n      }\n    },\n    {\n      \"column\": \"emergency_or_not\",\n      \"properties\": {\n        \"dtype\": \"number\",\n        \"std\": 0,\n        \"min\": 0,\n        \"max\": 1,\n        \"num_unique_values\": 2,\n        \"samples\": [\n          0,\n          1\n        ],\n        \"semantic_type\": \"\",\n        \"description\": \"\"\n      }\n    }\n  ]\n}"
            }
          },
          "metadata": {},
          "execution_count": 8
        }
      ],
      "source": [
        "data.head()"
      ]
    },
    {
      "cell_type": "code",
      "execution_count": 9,
      "metadata": {
        "id": "irZc5Uhnlrqu"
      },
      "outputs": [],
      "source": [
        "# create an empty python list\n",
        "X = []\n",
        "\n",
        "# go through all the image locations one by one\n",
        "for img_name in data.image_names:\n",
        "    # read the image from location\n",
        "    img = plt.imread('/content/drive/MyDrive/AnalyticsVidya/DeepLearning/images/' + img_name)\n",
        "    # pile it one over the other\n",
        "    X.append(img)\n",
        "\n",
        "# convert this python list to a single numpy array\n",
        "X = np.array(X)"
      ]
    },
    {
      "cell_type": "code",
      "execution_count": 10,
      "metadata": {
        "id": "eKuThONElrq2"
      },
      "outputs": [],
      "source": [
        "#getting the labels for images\n",
        "y = data['emergency_or_not'].values"
      ]
    },
    {
      "cell_type": "code",
      "source": [
        "y"
      ],
      "metadata": {
        "colab": {
          "base_uri": "https://localhost:8080/"
        },
        "id": "5wBxiBJ6dmsQ",
        "outputId": "8766d9ec-fd6e-4445-82eb-f1d2e9e28d7c"
      },
      "execution_count": 15,
      "outputs": [
        {
          "output_type": "execute_result",
          "data": {
            "text/plain": [
              "array([[0., 1.],\n",
              "       [0., 1.],\n",
              "       [0., 1.],\n",
              "       ...,\n",
              "       [1., 0.],\n",
              "       [1., 0.],\n",
              "       [1., 0.]], dtype=float32)"
            ]
          },
          "metadata": {},
          "execution_count": 15
        }
      ]
    },
    {
      "cell_type": "code",
      "execution_count": 11,
      "metadata": {
        "id": "soH_wuQilrq8"
      },
      "outputs": [],
      "source": [
        "#converting label to categorical i.e instead of 0/1 labels we have 2 columns emergency and non-emergency ,\n",
        "#with only one of them is true for every image\n",
        "y = to_categorical(y)"
      ]
    },
    {
      "cell_type": "code",
      "source": [
        "y"
      ],
      "metadata": {
        "colab": {
          "base_uri": "https://localhost:8080/"
        },
        "id": "yfurFBYmdYp5",
        "outputId": "cc208b91-c016-4e55-d100-14181cdd85ba"
      },
      "execution_count": 14,
      "outputs": [
        {
          "output_type": "execute_result",
          "data": {
            "text/plain": [
              "array([[0., 1.],\n",
              "       [0., 1.],\n",
              "       [0., 1.],\n",
              "       ...,\n",
              "       [1., 0.],\n",
              "       [1., 0.],\n",
              "       [1., 0.]], dtype=float32)"
            ]
          },
          "metadata": {},
          "execution_count": 14
        }
      ]
    },
    {
      "cell_type": "markdown",
      "metadata": {
        "id": "guRKuMTelrrO"
      },
      "source": [
        "## 3. Pre-Process Data"
      ]
    },
    {
      "cell_type": "markdown",
      "metadata": {
        "id": "fx3J83-9lrrP"
      },
      "source": [
        "Steps :\n",
        "1. Pre-process the data as per model's requirement\n",
        "2. Prepare training and validation set"
      ]
    },
    {
      "cell_type": "code",
      "execution_count": 28,
      "metadata": {
        "colab": {
          "base_uri": "https://localhost:8080/"
        },
        "id": "jdzmfy4ZlrrR",
        "outputId": "0a111f99-9c7c-4137-d36d-ea68d2064ab7",
        "scrolled": true
      },
      "outputs": [
        {
          "output_type": "execute_result",
          "data": {
            "text/plain": [
              "(-233.558, 27.381004)"
            ]
          },
          "metadata": {},
          "execution_count": 28
        }
      ],
      "source": [
        "#show maximum and minimum values for the image array\n",
        "X.min(), X.max()"
      ]
    },
    {
      "cell_type": "code",
      "execution_count": 27,
      "metadata": {
        "id": "fHbdGHTelrrX"
      },
      "outputs": [],
      "source": [
        "#preprocess input images accordiing to requirements of VGG16 model\n",
        "X = preprocess_input(X, data_format=None)\n",
        "#X = preprocess_input(X, mode='tf')\n",
        "#preprocess_input?"
      ]
    },
    {
      "cell_type": "code",
      "source": [
        "X.min(), X.max()"
      ],
      "metadata": {
        "colab": {
          "base_uri": "https://localhost:8080/"
        },
        "collapsed": true,
        "id": "DbhHCPXRd36X",
        "outputId": "692ea713-310d-471f-bd1f-4f2adf6d39c4"
      },
      "execution_count": 29,
      "outputs": [
        {
          "output_type": "execute_result",
          "data": {
            "text/plain": [
              "(-233.558, 27.381004)"
            ]
          },
          "metadata": {},
          "execution_count": 29
        }
      ]
    },
    {
      "cell_type": "code",
      "execution_count": 30,
      "metadata": {
        "colab": {
          "base_uri": "https://localhost:8080/"
        },
        "id": "UCBB5CFKlrrd",
        "outputId": "c213c52d-6544-40ae-a12a-e7be7b2d91f2"
      },
      "outputs": [
        {
          "output_type": "execute_result",
          "data": {
            "text/plain": [
              "(-233.558, 27.381004)"
            ]
          },
          "metadata": {},
          "execution_count": 30
        }
      ],
      "source": [
        "#print minimum and maximum values present in the array\n",
        "X.min(), X.max()"
      ]
    },
    {
      "cell_type": "code",
      "execution_count": 31,
      "metadata": {
        "id": "ZCSZe5pYlrrl"
      },
      "outputs": [],
      "source": [
        "# splitting the dataset into training and validation sets\n",
        "X_train, X_valid, y_train, y_valid = train_test_split(X, y, test_size=0.3, random_state=42)"
      ]
    },
    {
      "cell_type": "markdown",
      "metadata": {
        "id": "E_Y8th6blrrq"
      },
      "source": [
        "## 4. Load weights of pretrained model"
      ]
    },
    {
      "cell_type": "code",
      "execution_count": 32,
      "metadata": {
        "colab": {
          "base_uri": "https://localhost:8080/"
        },
        "id": "XTokrmhRlrrs",
        "outputId": "ebb9b0e6-057c-43cc-f95e-1c87bafa938b"
      },
      "outputs": [
        {
          "output_type": "stream",
          "name": "stdout",
          "text": [
            "Downloading data from https://storage.googleapis.com/tensorflow/keras-applications/vgg16/vgg16_weights_tf_dim_ordering_tf_kernels.h5\n",
            "553467096/553467096 [==============================] - 24s 0us/step\n"
          ]
        }
      ],
      "source": [
        "# creating model with pre trained imagenet weights\n",
        "base_model = VGG16(weights='imagenet')"
      ]
    },
    {
      "cell_type": "code",
      "execution_count": 33,
      "metadata": {
        "colab": {
          "base_uri": "https://localhost:8080/"
        },
        "id": "aBJkY7-Dlrr9",
        "outputId": "0a502534-4cf0-4bc4-f535-ef03e6565dde"
      },
      "outputs": [
        {
          "output_type": "stream",
          "name": "stdout",
          "text": [
            "Model: \"vgg16\"\n",
            "_________________________________________________________________\n",
            " Layer (type)                Output Shape              Param #   \n",
            "=================================================================\n",
            " input_1 (InputLayer)        [(None, 224, 224, 3)]     0         \n",
            "                                                                 \n",
            " block1_conv1 (Conv2D)       (None, 224, 224, 64)      1792      \n",
            "                                                                 \n",
            " block1_conv2 (Conv2D)       (None, 224, 224, 64)      36928     \n",
            "                                                                 \n",
            " block1_pool (MaxPooling2D)  (None, 112, 112, 64)      0         \n",
            "                                                                 \n",
            " block2_conv1 (Conv2D)       (None, 112, 112, 128)     73856     \n",
            "                                                                 \n",
            " block2_conv2 (Conv2D)       (None, 112, 112, 128)     147584    \n",
            "                                                                 \n",
            " block2_pool (MaxPooling2D)  (None, 56, 56, 128)       0         \n",
            "                                                                 \n",
            " block3_conv1 (Conv2D)       (None, 56, 56, 256)       295168    \n",
            "                                                                 \n",
            " block3_conv2 (Conv2D)       (None, 56, 56, 256)       590080    \n",
            "                                                                 \n",
            " block3_conv3 (Conv2D)       (None, 56, 56, 256)       590080    \n",
            "                                                                 \n",
            " block3_pool (MaxPooling2D)  (None, 28, 28, 256)       0         \n",
            "                                                                 \n",
            " block4_conv1 (Conv2D)       (None, 28, 28, 512)       1180160   \n",
            "                                                                 \n",
            " block4_conv2 (Conv2D)       (None, 28, 28, 512)       2359808   \n",
            "                                                                 \n",
            " block4_conv3 (Conv2D)       (None, 28, 28, 512)       2359808   \n",
            "                                                                 \n",
            " block4_pool (MaxPooling2D)  (None, 14, 14, 512)       0         \n",
            "                                                                 \n",
            " block5_conv1 (Conv2D)       (None, 14, 14, 512)       2359808   \n",
            "                                                                 \n",
            " block5_conv2 (Conv2D)       (None, 14, 14, 512)       2359808   \n",
            "                                                                 \n",
            " block5_conv3 (Conv2D)       (None, 14, 14, 512)       2359808   \n",
            "                                                                 \n",
            " block5_pool (MaxPooling2D)  (None, 7, 7, 512)         0         \n",
            "                                                                 \n",
            " flatten (Flatten)           (None, 25088)             0         \n",
            "                                                                 \n",
            " fc1 (Dense)                 (None, 4096)              102764544 \n",
            "                                                                 \n",
            " fc2 (Dense)                 (None, 4096)              16781312  \n",
            "                                                                 \n",
            " predictions (Dense)         (None, 1000)              4097000   \n",
            "                                                                 \n",
            "=================================================================\n",
            "Total params: 138357544 (527.79 MB)\n",
            "Trainable params: 138357544 (527.79 MB)\n",
            "Non-trainable params: 0 (0.00 Byte)\n",
            "_________________________________________________________________\n"
          ]
        }
      ],
      "source": [
        "#shows model summary\n",
        "base_model.summary()"
      ]
    },
    {
      "cell_type": "markdown",
      "metadata": {
        "id": "ayq6rleblrsC"
      },
      "source": [
        "<img src=\"images/original_vgg_model_input.png\" alt=\"drawing\" style=\"width:500px;\"/>"
      ]
    },
    {
      "cell_type": "markdown",
      "metadata": {
        "id": "2rmLuaPklrsD"
      },
      "source": [
        "<img src=\"images/original_vgg_model_knowledge_layer.png\" alt=\"drawing\" style=\"width:500px;\"/>"
      ]
    },
    {
      "cell_type": "markdown",
      "metadata": {
        "id": "rGOKxCHelrsF"
      },
      "source": [
        "<img src=\"images/original_vgg_model_top_layer.png\" alt=\"drawing\" style=\"width:500px;\"/>"
      ]
    },
    {
      "cell_type": "code",
      "execution_count": 34,
      "metadata": {
        "colab": {
          "base_uri": "https://localhost:8080/"
        },
        "id": "gAYaxYJvlrsG",
        "outputId": "dac27656-9f6c-4270-f9a0-00e602249ced"
      },
      "outputs": [
        {
          "output_type": "stream",
          "name": "stdout",
          "text": [
            "Downloading data from https://storage.googleapis.com/tensorflow/keras-applications/vgg16/vgg16_weights_tf_dim_ordering_tf_kernels_notop.h5\n",
            "58889256/58889256 [==============================] - 4s 0us/step\n"
          ]
        }
      ],
      "source": [
        "# creating a VGG16 model with imagenet pretrained weights , accepting input of shape (224,224,3)\n",
        "# also remove the final layers from model(include_top= False)\n",
        "base_model = VGG16(weights='imagenet', input_shape=(224, 224, 3), include_top=False)"
      ]
    },
    {
      "cell_type": "code",
      "execution_count": 35,
      "metadata": {
        "colab": {
          "base_uri": "https://localhost:8080/"
        },
        "id": "_IvLqsVdlrsK",
        "outputId": "06446108-b011-4829-a6d5-baf3ea190576"
      },
      "outputs": [
        {
          "output_type": "stream",
          "name": "stdout",
          "text": [
            "Model: \"vgg16\"\n",
            "_________________________________________________________________\n",
            " Layer (type)                Output Shape              Param #   \n",
            "=================================================================\n",
            " input_2 (InputLayer)        [(None, 224, 224, 3)]     0         \n",
            "                                                                 \n",
            " block1_conv1 (Conv2D)       (None, 224, 224, 64)      1792      \n",
            "                                                                 \n",
            " block1_conv2 (Conv2D)       (None, 224, 224, 64)      36928     \n",
            "                                                                 \n",
            " block1_pool (MaxPooling2D)  (None, 112, 112, 64)      0         \n",
            "                                                                 \n",
            " block2_conv1 (Conv2D)       (None, 112, 112, 128)     73856     \n",
            "                                                                 \n",
            " block2_conv2 (Conv2D)       (None, 112, 112, 128)     147584    \n",
            "                                                                 \n",
            " block2_pool (MaxPooling2D)  (None, 56, 56, 128)       0         \n",
            "                                                                 \n",
            " block3_conv1 (Conv2D)       (None, 56, 56, 256)       295168    \n",
            "                                                                 \n",
            " block3_conv2 (Conv2D)       (None, 56, 56, 256)       590080    \n",
            "                                                                 \n",
            " block3_conv3 (Conv2D)       (None, 56, 56, 256)       590080    \n",
            "                                                                 \n",
            " block3_pool (MaxPooling2D)  (None, 28, 28, 256)       0         \n",
            "                                                                 \n",
            " block4_conv1 (Conv2D)       (None, 28, 28, 512)       1180160   \n",
            "                                                                 \n",
            " block4_conv2 (Conv2D)       (None, 28, 28, 512)       2359808   \n",
            "                                                                 \n",
            " block4_conv3 (Conv2D)       (None, 28, 28, 512)       2359808   \n",
            "                                                                 \n",
            " block4_pool (MaxPooling2D)  (None, 14, 14, 512)       0         \n",
            "                                                                 \n",
            " block5_conv1 (Conv2D)       (None, 14, 14, 512)       2359808   \n",
            "                                                                 \n",
            " block5_conv2 (Conv2D)       (None, 14, 14, 512)       2359808   \n",
            "                                                                 \n",
            " block5_conv3 (Conv2D)       (None, 14, 14, 512)       2359808   \n",
            "                                                                 \n",
            " block5_pool (MaxPooling2D)  (None, 7, 7, 512)         0         \n",
            "                                                                 \n",
            "=================================================================\n",
            "Total params: 14714688 (56.13 MB)\n",
            "Trainable params: 14714688 (56.13 MB)\n",
            "Non-trainable params: 0 (0.00 Byte)\n",
            "_________________________________________________________________\n"
          ]
        }
      ],
      "source": [
        "# show model summary\n",
        "base_model.summary()"
      ]
    },
    {
      "cell_type": "markdown",
      "metadata": {
        "id": "SvHZ13yjlrsQ"
      },
      "source": [
        "## 5. Fine tune the model for the current problem\n",
        "Steps:-\n",
        "1. Extract features\n",
        "2. Flatten the data\n",
        "3. Rescale features\n",
        "4. Create a Neural Network Model\n",
        "5. Compile the model\n",
        "6. Train and Validate the model"
      ]
    },
    {
      "cell_type": "code",
      "execution_count": 36,
      "metadata": {
        "id": "GurOAG72lrsQ",
        "colab": {
          "base_uri": "https://localhost:8080/"
        },
        "outputId": "cf8bde3c-0bea-49c4-a078-4aa9172e4d85"
      },
      "outputs": [
        {
          "output_type": "stream",
          "name": "stdout",
          "text": [
            "52/52 [==============================] - 17s 186ms/step\n",
            "23/23 [==============================] - 4s 173ms/step\n"
          ]
        }
      ],
      "source": [
        "# extract features using the pretrained VGG16 model\n",
        "# for training set\n",
        "base_model_pred = base_model.predict(X_train)\n",
        "#for validation set\n",
        "base_model_pred_valid = base_model.predict(X_valid)"
      ]
    },
    {
      "cell_type": "code",
      "execution_count": 37,
      "metadata": {
        "colab": {
          "base_uri": "https://localhost:8080/"
        },
        "id": "WrXzGgVmlrsU",
        "outputId": "c63cb3a5-51fd-4aa5-baba-551d80985589"
      },
      "outputs": [
        {
          "output_type": "execute_result",
          "data": {
            "text/plain": [
              "(1646, 7, 7, 512)"
            ]
          },
          "metadata": {},
          "execution_count": 37
        }
      ],
      "source": [
        "#show shape of predictions\n",
        "base_model_pred.shape"
      ]
    },
    {
      "cell_type": "code",
      "execution_count": 38,
      "metadata": {
        "id": "N0_2meWslrsa"
      },
      "outputs": [],
      "source": [
        "# flattening the model output to one dimension for every sample of training set\n",
        "base_model_pred = base_model_pred.reshape(1646, 7*7*512)"
      ]
    },
    {
      "cell_type": "code",
      "execution_count": 39,
      "metadata": {
        "colab": {
          "base_uri": "https://localhost:8080/"
        },
        "id": "Sln6l-d0lrse",
        "outputId": "8d503d2d-96a3-432e-b38f-49af9effc75d"
      },
      "outputs": [
        {
          "output_type": "execute_result",
          "data": {
            "text/plain": [
              "(1646, 25088)"
            ]
          },
          "metadata": {},
          "execution_count": 39
        }
      ],
      "source": [
        "base_model_pred.shape"
      ]
    },
    {
      "cell_type": "code",
      "execution_count": 40,
      "metadata": {
        "colab": {
          "base_uri": "https://localhost:8080/"
        },
        "id": "Dq-GkBxclrsj",
        "outputId": "88fed2f9-d015-417e-8942-e8e760014025"
      },
      "outputs": [
        {
          "output_type": "execute_result",
          "data": {
            "text/plain": [
              "(706, 7, 7, 512)"
            ]
          },
          "metadata": {},
          "execution_count": 40
        }
      ],
      "source": [
        "base_model_pred_valid.shape"
      ]
    },
    {
      "cell_type": "code",
      "execution_count": 41,
      "metadata": {
        "id": "LNYjAfSHlrsq"
      },
      "outputs": [],
      "source": [
        "# flattening the model output to one dimension for every sample of validation set\n",
        "base_model_pred_valid = base_model_pred_valid.reshape(706, 7*7*512)"
      ]
    },
    {
      "cell_type": "code",
      "execution_count": 42,
      "metadata": {
        "colab": {
          "base_uri": "https://localhost:8080/"
        },
        "id": "GyR-CDHwlrst",
        "outputId": "112c7d87-faf6-4306-e168-92313f8c4104"
      },
      "outputs": [
        {
          "output_type": "execute_result",
          "data": {
            "text/plain": [
              "(706, 25088)"
            ]
          },
          "metadata": {},
          "execution_count": 42
        }
      ],
      "source": [
        "base_model_pred_valid.shape"
      ]
    },
    {
      "cell_type": "code",
      "execution_count": 43,
      "metadata": {
        "colab": {
          "base_uri": "https://localhost:8080/"
        },
        "id": "TWoIUd8Plrsz",
        "outputId": "37117c20-9421-4b8c-db5c-ead28ffce79a"
      },
      "outputs": [
        {
          "output_type": "execute_result",
          "data": {
            "text/plain": [
              "(0.0, 721.34357)"
            ]
          },
          "metadata": {},
          "execution_count": 43
        }
      ],
      "source": [
        "# checking the min and max of the extracted features\n",
        "base_model_pred.min(), base_model_pred.max()"
      ]
    },
    {
      "cell_type": "code",
      "execution_count": 44,
      "metadata": {
        "id": "brDx1EoIlrs4"
      },
      "outputs": [],
      "source": [
        "#get maximum value from generated features\n",
        "max_val = base_model_pred.max()"
      ]
    },
    {
      "cell_type": "code",
      "source": [
        "max_val"
      ],
      "metadata": {
        "colab": {
          "base_uri": "https://localhost:8080/"
        },
        "id": "5DGuCQpkjh1i",
        "outputId": "63a81586-3190-49cd-d101-5172a3455e8c"
      },
      "execution_count": 45,
      "outputs": [
        {
          "output_type": "execute_result",
          "data": {
            "text/plain": [
              "721.34357"
            ]
          },
          "metadata": {},
          "execution_count": 45
        }
      ]
    },
    {
      "cell_type": "code",
      "execution_count": 46,
      "metadata": {
        "colab": {
          "base_uri": "https://localhost:8080/"
        },
        "id": "WaFxDnlnlrs7",
        "outputId": "bfd9e24e-8528-4d4b-c42b-ac29db2fcb35"
      },
      "outputs": [
        {
          "output_type": "execute_result",
          "data": {
            "text/plain": [
              "(0.0, 1.0)"
            ]
          },
          "metadata": {},
          "execution_count": 46
        }
      ],
      "source": [
        "#normalizing features generated from the VGG16 model to [0,1]\n",
        "base_model_pred = base_model_pred / max_val\n",
        "base_model_pred_valid = base_model_pred_valid / max_val\n",
        "base_model_pred.min(), base_model_pred.max()"
      ]
    },
    {
      "cell_type": "code",
      "execution_count": 47,
      "metadata": {
        "id": "6k55Jg4Glrs_"
      },
      "outputs": [],
      "source": [
        "#create a sequential model\n",
        "model = Sequential()\n",
        "# add input layer to the model that accepts input of shape 7*7*512\n",
        "model.add(InputLayer((7*7*512, )))\n",
        "# add fully connected layer with 1024 neurons and relu activation\n",
        "model.add(Dense(units=1024, activation='relu'))\n",
        "# add fully connected layer with 2 neurons and relu activation\n",
        "model.add(Dense(units=2, activation='softmax'))"
      ]
    },
    {
      "cell_type": "code",
      "execution_count": 50,
      "metadata": {
        "id": "3bhwTJLtlrtC"
      },
      "outputs": [],
      "source": [
        "# compile the model\n",
        "model.compile(optimizer='adam', metrics=['accuracy'], loss='categorical_crossentropy')"
      ]
    },
    {
      "cell_type": "code",
      "execution_count": 51,
      "metadata": {
        "colab": {
          "base_uri": "https://localhost:8080/"
        },
        "id": "uTDqD5ZclrtH",
        "outputId": "02393f0b-7493-4ed8-f315-4128ebe96573"
      },
      "outputs": [
        {
          "output_type": "stream",
          "name": "stdout",
          "text": [
            "Model: \"sequential\"\n",
            "_________________________________________________________________\n",
            " Layer (type)                Output Shape              Param #   \n",
            "=================================================================\n",
            " dense (Dense)               (None, 1024)              25691136  \n",
            "                                                                 \n",
            " dense_1 (Dense)             (None, 2)                 2050      \n",
            "                                                                 \n",
            "=================================================================\n",
            "Total params: 25693186 (98.01 MB)\n",
            "Trainable params: 25693186 (98.01 MB)\n",
            "Non-trainable params: 0 (0.00 Byte)\n",
            "_________________________________________________________________\n"
          ]
        }
      ],
      "source": [
        "model.summary()"
      ]
    },
    {
      "cell_type": "code",
      "execution_count": 52,
      "metadata": {
        "colab": {
          "base_uri": "https://localhost:8080/"
        },
        "id": "r2F82qfxlrtL",
        "outputId": "aa85c4a7-a3e0-4f2e-93df-f818ebebcf81",
        "scrolled": true
      },
      "outputs": [
        {
          "output_type": "stream",
          "name": "stdout",
          "text": [
            "Epoch 1/10\n",
            "52/52 [==============================] - 3s 18ms/step - loss: 0.2345 - accuracy: 0.9101 - val_loss: 0.1285 - val_accuracy: 0.9518\n",
            "Epoch 2/10\n",
            "52/52 [==============================] - 1s 11ms/step - loss: 0.0420 - accuracy: 0.9903 - val_loss: 0.1213 - val_accuracy: 0.9589\n",
            "Epoch 3/10\n",
            "52/52 [==============================] - 1s 11ms/step - loss: 0.0198 - accuracy: 0.9945 - val_loss: 0.1393 - val_accuracy: 0.9518\n",
            "Epoch 4/10\n",
            "52/52 [==============================] - 1s 11ms/step - loss: 0.0162 - accuracy: 0.9970 - val_loss: 0.1454 - val_accuracy: 0.9476\n",
            "Epoch 5/10\n",
            "52/52 [==============================] - 1s 11ms/step - loss: 0.0238 - accuracy: 0.9970 - val_loss: 0.1307 - val_accuracy: 0.9561\n",
            "Epoch 6/10\n",
            "52/52 [==============================] - 1s 11ms/step - loss: 0.0107 - accuracy: 0.9964 - val_loss: 0.1370 - val_accuracy: 0.9490\n",
            "Epoch 7/10\n",
            "52/52 [==============================] - 1s 11ms/step - loss: 0.0073 - accuracy: 0.9976 - val_loss: 0.1460 - val_accuracy: 0.9561\n",
            "Epoch 8/10\n",
            "52/52 [==============================] - 1s 11ms/step - loss: 0.0091 - accuracy: 0.9976 - val_loss: 0.1399 - val_accuracy: 0.9518\n",
            "Epoch 9/10\n",
            "52/52 [==============================] - 1s 11ms/step - loss: 0.0098 - accuracy: 0.9964 - val_loss: 0.1601 - val_accuracy: 0.9533\n",
            "Epoch 10/10\n",
            "52/52 [==============================] - 1s 11ms/step - loss: 0.0104 - accuracy: 0.9957 - val_loss: 0.1437 - val_accuracy: 0.9504\n"
          ]
        },
        {
          "output_type": "execute_result",
          "data": {
            "text/plain": [
              "<keras.src.callbacks.History at 0x798d13fd1b40>"
            ]
          },
          "metadata": {},
          "execution_count": 52
        }
      ],
      "source": [
        "# train model using features generated from VGG16 model\n",
        "model.fit(base_model_pred, y_train, epochs=10, validation_data=(base_model_pred_valid, y_valid))"
      ]
    },
    {
      "cell_type": "markdown",
      "metadata": {
        "id": "oVGLtjcUlrtO"
      },
      "source": [
        "## 6. Get Predictions"
      ]
    },
    {
      "cell_type": "code",
      "execution_count": 53,
      "metadata": {
        "id": "PX8LimgYlrtP",
        "outputId": "eaa2da0b-d03e-4db2-dc4a-cf9159837ad3",
        "colab": {
          "base_uri": "https://localhost:8080/"
        }
      },
      "outputs": [
        {
          "output_type": "stream",
          "name": "stdout",
          "text": [
            "23/23 [==============================] - 0s 2ms/step\n"
          ]
        },
        {
          "output_type": "execute_result",
          "data": {
            "text/plain": [
              "array([1, 0, 0, ..., 0, 1, 0])"
            ]
          },
          "metadata": {},
          "execution_count": 53
        }
      ],
      "source": [
        "# get predictions\n",
        "predictions = model.predict(base_model_pred_valid)\n",
        "\n",
        "predictions = predictions.reshape(-1,)\n",
        "\n",
        "# converting probabilities to classes\n",
        "predictions_int = predictions >= 0.5\n",
        "predictions_int = predictions_int.astype(int)\n",
        "#show predictions\n",
        "predictions_int"
      ]
    },
    {
      "cell_type": "markdown",
      "metadata": {
        "id": "FvIuV0ielrtV"
      },
      "source": [
        "## Summary of the video\n",
        "\n",
        "1. <font color='blue'>Import neccessary libraries\n",
        "2. Load the data</font>\n",
        "3. <font color='#999900'>Preprocess the data</font>\n",
        "4. <font color='red'>Load weights of pre-trained model\n",
        "5. Fine tune the model for the current problem</font>\n",
        "6. <font color='blue'>Get predictions</font>"
      ]
    },
    {
      "cell_type": "code",
      "execution_count": null,
      "metadata": {
        "id": "h9Jo-mCllrtY"
      },
      "outputs": [],
      "source": []
    }
  ],
  "metadata": {
    "colab": {
      "provenance": [],
      "machine_shape": "hm",
      "gpuType": "T4",
      "include_colab_link": true
    },
    "kernelspec": {
      "display_name": "Python 3",
      "name": "python3"
    },
    "language_info": {
      "codemirror_mode": {
        "name": "ipython",
        "version": 3
      },
      "file_extension": ".py",
      "mimetype": "text/x-python",
      "name": "python",
      "nbconvert_exporter": "python",
      "pygments_lexer": "ipython3",
      "version": "3.11.5"
    },
    "accelerator": "GPU"
  },
  "nbformat": 4,
  "nbformat_minor": 0
}