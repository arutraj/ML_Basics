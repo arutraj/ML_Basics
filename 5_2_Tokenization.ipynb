{
  "nbformat": 4,
  "nbformat_minor": 0,
  "metadata": {
    "kernelspec": {
      "display_name": "Python 3",
      "language": "python",
      "name": "python3"
    },
    "language_info": {
      "codemirror_mode": {
        "name": "ipython",
        "version": 3
      },
      "file_extension": ".py",
      "mimetype": "text/x-python",
      "name": "python",
      "nbconvert_exporter": "python",
      "pygments_lexer": "ipython3",
      "version": "3.6.7"
    },
    "colab": {
      "provenance": [],
      "include_colab_link": true
    }
  },
  "cells": [
    {
      "cell_type": "markdown",
      "metadata": {
        "id": "view-in-github",
        "colab_type": "text"
      },
      "source": [
        "<a href=\"https://colab.research.google.com/github/arutraj/ML_Basics/blob/main/5_2_Tokenization.ipynb\" target=\"_parent\"><img src=\"https://colab.research.google.com/assets/colab-badge.svg\" alt=\"Open In Colab\"/></a>"
      ]
    },
    {
      "cell_type": "code",
      "metadata": {
        "id": "RtF6PxC6i7Kw"
      },
      "source": [
        "# Defining string\n",
        "text= \"I'm working as a Data Scientist in the U.S. and earning $140,000.\""
      ],
      "execution_count": 19,
      "outputs": []
    },
    {
      "cell_type": "code",
      "metadata": {
        "id": "zI-hr_Lti7K6",
        "colab": {
          "base_uri": "https://localhost:8080/"
        },
        "outputId": "fee50481-499d-409a-f534-a1caa029b03b"
      },
      "source": [
        "# Whitespace Tokenizer\n",
        "print(text.split())"
      ],
      "execution_count": 20,
      "outputs": [
        {
          "output_type": "stream",
          "name": "stdout",
          "text": [
            "[\"I'm\", 'working', 'as', 'a', 'Data', 'Scientist', 'in', 'the', 'U.S.', 'and', 'earning', '$140,000.']\n"
          ]
        }
      ]
    },
    {
      "cell_type": "code",
      "metadata": {
        "id": "QwOeOOd8i7LE"
      },
      "source": [
        "import spacy"
      ],
      "execution_count": 21,
      "outputs": []
    },
    {
      "cell_type": "markdown",
      "metadata": {
        "id": "nRkbF65Di7LM"
      },
      "source": [
        "Models in spaCy for English Language as of release 2.3.1:\n",
        "- **en_core_web_sm:** 11MB\n",
        "- **en_core_web_md:** 48MB\n",
        "- **en_core_web_lg:** 746MB"
      ]
    },
    {
      "cell_type": "code",
      "metadata": {
        "id": "uNMIGwtgi7LO"
      },
      "source": [
        "# Loading model\n",
        "nlp=spacy.load('en_core_web_sm')"
      ],
      "execution_count": 22,
      "outputs": []
    },
    {
      "cell_type": "code",
      "metadata": {
        "id": "W_V6pOrri7LV"
      },
      "source": [
        "# creating Doc object\n",
        "doc=nlp(text)"
      ],
      "execution_count": 5,
      "outputs": []
    },
    {
      "cell_type": "code",
      "metadata": {
        "id": "ZfhUAFNxi7Ld",
        "colab": {
          "base_uri": "https://localhost:8080/"
        },
        "outputId": "0ed66fe3-268e-4fef-eac0-9826fa45e6da"
      },
      "source": [
        "doc"
      ],
      "execution_count": 6,
      "outputs": [
        {
          "output_type": "execute_result",
          "data": {
            "text/plain": [
              "I'm working as a Data Scientist in the U.S. and earning $140,000."
            ]
          },
          "metadata": {},
          "execution_count": 6
        }
      ]
    },
    {
      "cell_type": "code",
      "metadata": {
        "id": "is99sNori7Ll",
        "colab": {
          "base_uri": "https://localhost:8080/"
        },
        "outputId": "a688f5d0-123e-4253-c5b4-6792bdd9eb73"
      },
      "source": [
        "type(doc)"
      ],
      "execution_count": 7,
      "outputs": [
        {
          "output_type": "execute_result",
          "data": {
            "text/plain": [
              "spacy.tokens.doc.Doc"
            ]
          },
          "metadata": {},
          "execution_count": 7
        }
      ]
    },
    {
      "cell_type": "code",
      "metadata": {
        "id": "TArL0yPei7Lt",
        "colab": {
          "base_uri": "https://localhost:8080/"
        },
        "outputId": "04a72c92-64a6-42a4-a3bb-db6901a925fe"
      },
      "source": [
        "# spaCy Tokenizer\n",
        "print([token for token in doc])"
      ],
      "execution_count": 18,
      "outputs": [
        {
          "output_type": "stream",
          "name": "stdout",
          "text": [
            "[I, 'm, working, as, a, Data, Scientist, in, the, U.S., and, earning, $, 140,000, .]\n"
          ]
        }
      ]
    },
    {
      "cell_type": "code",
      "metadata": {
        "id": "0DTjZrDyi7L2",
        "colab": {
          "base_uri": "https://localhost:8080/"
        },
        "outputId": "b5b54d0c-a271-43d1-a3d8-e99e402bd85c"
      },
      "source": [
        "# Type of token\n",
        "[type(token) for token in doc]"
      ],
      "execution_count": 9,
      "outputs": [
        {
          "output_type": "execute_result",
          "data": {
            "text/plain": [
              "[spacy.tokens.token.Token,\n",
              " spacy.tokens.token.Token,\n",
              " spacy.tokens.token.Token,\n",
              " spacy.tokens.token.Token,\n",
              " spacy.tokens.token.Token,\n",
              " spacy.tokens.token.Token,\n",
              " spacy.tokens.token.Token,\n",
              " spacy.tokens.token.Token,\n",
              " spacy.tokens.token.Token,\n",
              " spacy.tokens.token.Token,\n",
              " spacy.tokens.token.Token,\n",
              " spacy.tokens.token.Token,\n",
              " spacy.tokens.token.Token,\n",
              " spacy.tokens.token.Token,\n",
              " spacy.tokens.token.Token]"
            ]
          },
          "metadata": {},
          "execution_count": 9
        }
      ]
    },
    {
      "cell_type": "code",
      "metadata": {
        "scrolled": true,
        "id": "WDDbkA7wi7L9",
        "colab": {
          "base_uri": "https://localhost:8080/"
        },
        "outputId": "c74781e6-762b-4d82-bfa5-839782e9adc6"
      },
      "source": [
        "# Tokens as string\n",
        "print([token.text for token in doc])"
      ],
      "execution_count": 10,
      "outputs": [
        {
          "output_type": "stream",
          "name": "stdout",
          "text": [
            "['I', \"'m\", 'working', 'as', 'a', 'Data', 'Scientist', 'in', 'the', 'U.S.', 'and', 'earning', '$', '140,000', '.']\n"
          ]
        }
      ]
    },
    {
      "cell_type": "code",
      "metadata": {
        "id": "zwLhE_pBi7MF",
        "colab": {
          "base_uri": "https://localhost:8080/"
        },
        "outputId": "e233cf69-fc61-4a84-d978-63112dc8edf2"
      },
      "source": [
        "# Comparing Whitespace and spaCy Tokenizer\n",
        "\n",
        "# Whitespace Tokenizer\n",
        "print(text.split())\n",
        "\n",
        "# spaCy Tokenizer\n",
        "print([token.text for token in doc])"
      ],
      "execution_count": 11,
      "outputs": [
        {
          "output_type": "stream",
          "name": "stdout",
          "text": [
            "[\"I'm\", 'working', 'as', 'a', 'Data', 'Scientist', 'in', 'the', 'U.S.', 'and', 'earning', '$140,000.']\n",
            "['I', \"'m\", 'working', 'as', 'a', 'Data', 'Scientist', 'in', 'the', 'U.S.', 'and', 'earning', '$', '140,000', '.']\n"
          ]
        }
      ]
    },
    {
      "cell_type": "code",
      "metadata": {
        "id": "i1Wi4Ewfi7MM",
        "colab": {
          "base_uri": "https://localhost:8080/"
        },
        "outputId": "d4484c01-dc48-45f1-b13c-9859eb617cc1"
      },
      "source": [
        "# No. of Tokens in Whitespace Tokenizer\n",
        "print(len(text.split()))\n",
        "\n",
        "# No. of Tokens in spaCy's Tokenizer\n",
        "print(len(doc))"
      ],
      "execution_count": 12,
      "outputs": [
        {
          "output_type": "stream",
          "name": "stdout",
          "text": [
            "12\n",
            "15\n"
          ]
        }
      ]
    },
    {
      "cell_type": "code",
      "metadata": {
        "id": "KvLyXUp7i7MU",
        "colab": {
          "base_uri": "https://localhost:8080/"
        },
        "outputId": "87b82d41-ca8b-4bbe-d2e7-b49580ebd3dd"
      },
      "source": [
        "text=\"My phone has a 20% battery left.\"\n",
        "\n",
        "# Whitespace Tokenizer\n",
        "print(text.split())\n",
        "\n",
        "# spaCy Tokenizer\n",
        "print([token.text for token in nlp(text)])"
      ],
      "execution_count": 13,
      "outputs": [
        {
          "output_type": "stream",
          "name": "stdout",
          "text": [
            "['My', 'phone', 'has', 'a', '20%', 'battery', 'left.']\n",
            "['My', 'phone', 'has', 'a', '20', '%', 'battery', 'left', '.']\n"
          ]
        }
      ]
    },
    {
      "cell_type": "code",
      "metadata": {
        "id": "jsNGne55i7Mb",
        "colab": {
          "base_uri": "https://localhost:8080/"
        },
        "outputId": "bf71cf30-7060-47d6-bc62-be7a5b62d631"
      },
      "source": [
        "text=\"I ran 10km today.\"\n",
        "\n",
        "# Whitespace Tokenizer\n",
        "print(text.split())\n",
        "\n",
        "# spaCy Tokenizer\n",
        "print([token.text for token in nlp(text)])"
      ],
      "execution_count": 14,
      "outputs": [
        {
          "output_type": "stream",
          "name": "stdout",
          "text": [
            "['I', 'ran', '10km', 'today.']\n",
            "['I', 'ran', '10', 'km', 'today', '.']\n"
          ]
        }
      ]
    },
    {
      "cell_type": "code",
      "metadata": {
        "id": "xzwC7j9Si7Mi",
        "colab": {
          "base_uri": "https://localhost:8080/"
        },
        "outputId": "c5ed2e7f-6268-49c8-8584-6337610e33ba"
      },
      "source": [
        "text=\"I know HTML, CSS, JavaScript, C++, and Node.js.\"\n",
        "\n",
        "# Whitespace Tokenizer\n",
        "print(text.split())\n",
        "\n",
        "# spaCy Tokenizer\n",
        "print([token.text for token in nlp(text)])"
      ],
      "execution_count": 15,
      "outputs": [
        {
          "output_type": "stream",
          "name": "stdout",
          "text": [
            "['I', 'know', 'HTML,', 'CSS,', 'JavaScript,', 'C++,', 'and', 'Node.js.']\n",
            "['I', 'know', 'HTML', ',', 'CSS', ',', 'JavaScript', ',', 'C++', ',', 'and', 'Node.js', '.']\n"
          ]
        }
      ]
    },
    {
      "cell_type": "code",
      "source": [
        "text=\"Just in a few years, natural language processing has evolved into something so powerful and impactful, which no one could have imagined.\"\n",
        "\n",
        "# Whitespace Tokenizer\n",
        "print(text.split())\n",
        "# No. of Tokens in Whitespace Tokenizer\n",
        "print(len(text.split()))\n",
        "\n",
        "# spaCy Tokenizer\n",
        "print([token.text for token in nlp(text)])\n",
        "# No. of Tokens in spaCy's Tokenizer\n",
        "print(len(nlp(text)))"
      ],
      "metadata": {
        "colab": {
          "base_uri": "https://localhost:8080/"
        },
        "id": "P2Qy2uPWDOn4",
        "outputId": "59a0e98d-b2f6-4190-e2ef-19dde43bbc1f"
      },
      "execution_count": 23,
      "outputs": [
        {
          "output_type": "stream",
          "name": "stdout",
          "text": [
            "['Just', 'in', 'a', 'few', 'years,', 'natural', 'language', 'processing', 'has', 'evolved', 'into', 'something', 'so', 'powerful', 'and', 'impactful,', 'which', 'no', 'one', 'could', 'have', 'imagined.']\n",
            "22\n",
            "['Just', 'in', 'a', 'few', 'years', ',', 'natural', 'language', 'processing', 'has', 'evolved', 'into', 'something', 'so', 'powerful', 'and', 'impactful', ',', 'which', 'no', 'one', 'could', 'have', 'imagined', '.']\n",
            "25\n"
          ]
        }
      ]
    },
    {
      "cell_type": "code",
      "metadata": {
        "id": "Fd5Tyzks5SAB"
      },
      "source": [],
      "execution_count": null,
      "outputs": []
    }
  ]
}