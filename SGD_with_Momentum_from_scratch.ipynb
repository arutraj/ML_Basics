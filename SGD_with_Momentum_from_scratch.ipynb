{
  "nbformat": 4,
  "nbformat_minor": 0,
  "metadata": {
    "colab": {
      "provenance": [],
      "include_colab_link": true
    },
    "kernelspec": {
      "name": "python3",
      "display_name": "Python 3"
    }
  },
  "cells": [
    {
      "cell_type": "markdown",
      "metadata": {
        "id": "view-in-github",
        "colab_type": "text"
      },
      "source": [
        "<a href=\"https://colab.research.google.com/github/arutraj/ML_Basics/blob/main/SGD_with_Momentum_from_scratch.ipynb\" target=\"_parent\"><img src=\"https://colab.research.google.com/assets/colab-badge.svg\" alt=\"Open In Colab\"/></a>"
      ]
    },
    {
      "cell_type": "code",
      "metadata": {
        "id": "-U6QxT9SKnIo"
      },
      "source": [
        "# importing libraries\n",
        "import numpy as np\n",
        "import matplotlib.pyplot as plt\n",
        "%matplotlib inline"
      ],
      "execution_count": 1,
      "outputs": []
    },
    {
      "cell_type": "code",
      "metadata": {
        "id": "Q_tNkgt4Ks97",
        "outputId": "62159f3b-c4df-4041-d363-3637a5e95c05",
        "colab": {
          "base_uri": "https://localhost:8080/"
        }
      },
      "source": [
        "# creating the input array\n",
        "X=np.array([[1,0,1,0], [1,0,1,1], [0,1,0,1]])\n",
        "\n",
        "# converting the input in matrix form\n",
        "X = X.T\n",
        "print ('\\n Input:')\n",
        "print(X)\n",
        "\n",
        "# shape of input array\n",
        "print('\\n Shape of Input:', X.shape)"
      ],
      "execution_count": 2,
      "outputs": [
        {
          "output_type": "stream",
          "name": "stdout",
          "text": [
            "\n",
            " Input:\n",
            "[[1 1 0]\n",
            " [0 0 1]\n",
            " [1 1 0]\n",
            " [0 1 1]]\n",
            "\n",
            " Shape of Input: (4, 3)\n"
          ]
        }
      ]
    },
    {
      "cell_type": "code",
      "metadata": {
        "id": "6Aq3qt5-Ku8P",
        "outputId": "b7332d01-c8b1-4116-ef8d-5b5cc075e3d5",
        "colab": {
          "base_uri": "https://localhost:8080/"
        }
      },
      "source": [
        "# creating the output array\n",
        "y=np.array([[1],[1],[0]])\n",
        "\n",
        "# output in matrix form\n",
        "y = y.T\n",
        "\n",
        "print ('\\n Actual Output:')\n",
        "print(y)\n",
        "\n",
        "# shape of output array\n",
        "print('\\n Shape of Output:', y.shape)"
      ],
      "execution_count": 3,
      "outputs": [
        {
          "output_type": "stream",
          "name": "stdout",
          "text": [
            "\n",
            " Actual Output:\n",
            "[[1 1 0]]\n",
            "\n",
            " Shape of Output: (1, 3)\n"
          ]
        }
      ]
    },
    {
      "cell_type": "code",
      "metadata": {
        "id": "yxWmLt_xKwTv"
      },
      "source": [
        "# defining the Sigmoid Function\n",
        "def sigmoid (x):\n",
        "    return 1/(1 + np.exp(-x))"
      ],
      "execution_count": 4,
      "outputs": []
    },
    {
      "cell_type": "code",
      "metadata": {
        "id": "wCUU3aqLKyKD"
      },
      "source": [
        "# defining the hyperparameters of the model\n",
        "lr=0.01 # learning rate\n",
        "inputlayer_neurons = X.shape[0] # number of features in data set\n",
        "hiddenlayer_neurons = 3 # number of hidden layers neurons\n",
        "output_neurons = 1 # number of neurons at output layer\n",
        "\n",
        "epochs = 10000 # number of epochs"
      ],
      "execution_count": 5,
      "outputs": []
    },
    {
      "cell_type": "code",
      "metadata": {
        "id": "bRnl_7ZhK3Wb"
      },
      "source": [
        "# initializing weight\n",
        "w_ih=np.random.uniform(size=(inputlayer_neurons,hiddenlayer_neurons))\n",
        "w_ho=np.random.uniform(size=(hiddenlayer_neurons,output_neurons))"
      ],
      "execution_count": 6,
      "outputs": []
    },
    {
      "cell_type": "code",
      "metadata": {
        "id": "i6l2COvAK5-t"
      },
      "source": [
        "# defining the momentum parameters\n",
        "beta = 0.9\n",
        "v_ho = 0\n",
        "v_ih = 0"
      ],
      "execution_count": 7,
      "outputs": []
    },
    {
      "cell_type": "code",
      "metadata": {
        "id": "pYnsl_1CK7aj"
      },
      "source": [
        "error_momentum = []\n",
        "for i in range(epochs):\n",
        "    # Forward Propogation\n",
        "\n",
        "    # hidden layer activations\n",
        "    hidden_layer_input=np.dot(w_ih.T,X)\n",
        "    hiddenlayer_activations = sigmoid(hidden_layer_input)\n",
        "    # calculating the output\n",
        "    output_layer_input=np.dot(w_ho.T,hiddenlayer_activations)\n",
        "    output = sigmoid(output_layer_input)\n",
        "\n",
        "\n",
        "    # Backward Propagation\n",
        "\n",
        "    # calculating error\n",
        "    error = np.square(y-output)/2\n",
        "    error_wrt_output = -(y-output)\n",
        "    output_wrt_Z2 = np.multiply(output,(1-output))\n",
        "    Z2_wrt_who = hiddenlayer_activations\n",
        "    # rate of change of error w.r.t weight between output and hidden layer\n",
        "    error_wrt_who = np.dot(Z2_wrt_who,(error_wrt_output*output_wrt_Z2).T)\n",
        "    Z2_wrt_h1 = w_ho\n",
        "    h1_wrt_Z1 = np.multiply(hiddenlayer_activations,(1-hiddenlayer_activations))\n",
        "    Z1_wrt_wih = X\n",
        "    # rate of change of error w.r.t weights between input and hidden layer\n",
        "    error_wrt_wih = np.dot(Z1_wrt_wih,(h1_wrt_Z1*np.dot(Z2_wrt_h1,(error_wrt_output*output_wrt_Z2))).T)\n",
        "\n",
        "    # weighted gradient\n",
        "    v_ho = beta * v_ho + (1-beta)*error_wrt_who\n",
        "    w_ho = w_ho - lr * v_ho\n",
        "    v_ih = beta * v_ih + (1-beta)*error_wrt_wih\n",
        "    w_ih = w_ih - lr * v_ih\n",
        "\n",
        "    # appending the error of each epoch\n",
        "    error_momentum.append(np.average(error))"
      ],
      "execution_count": 8,
      "outputs": []
    },
    {
      "cell_type": "code",
      "metadata": {
        "id": "iP7QX42ZK9Ko",
        "outputId": "5c623744-65db-43f2-a5df-89d5079bc431",
        "colab": {
          "base_uri": "https://localhost:8080/",
          "height": 447
        }
      },
      "source": [
        "# visualizing the error after each epoch\n",
        "plt.plot(np.arange(1,epochs+1), np.array(error_momentum))"
      ],
      "execution_count": 9,
      "outputs": [
        {
          "output_type": "execute_result",
          "data": {
            "text/plain": [
              "[<matplotlib.lines.Line2D at 0x7d76143c0a60>]"
            ]
          },
          "metadata": {},
          "execution_count": 9
        },
        {
          "output_type": "display_data",
          "data": {
            "text/plain": [
              "<Figure size 640x480 with 1 Axes>"
            ],
            "image/png": "[encoded data removed]"
          },
          "metadata": {}
        }
      ]
    },
    {
      "cell_type": "code",
      "metadata": {
        "id": "azJpDs-4K_FK"
      },
      "source": [],
      "execution_count": null,
      "outputs": []
    }
  ]
}