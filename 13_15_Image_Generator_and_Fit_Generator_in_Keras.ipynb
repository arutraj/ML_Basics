{
  "nbformat": 4,
  "nbformat_minor": 0,
  "metadata": {
    "accelerator": "GPU",
    "colab": {
      "provenance": [],
      "machine_shape": "hm",
      "gpuType": "T4",
      "include_colab_link": true
    },
    "kernelspec": {
      "display_name": "Python 3",
      "name": "python3"
    },
    "language_info": {
      "codemirror_mode": {
        "name": "ipython",
        "version": 3
      },
      "file_extension": ".py",
      "mimetype": "text/x-python",
      "name": "python",
      "nbconvert_exporter": "python",
      "pygments_lexer": "ipython3",
      "version": "3.6.5"
    }
  },
  "cells": [
    {
      "cell_type": "markdown",
      "metadata": {
        "id": "view-in-github",
        "colab_type": "text"
      },
      "source": [
        "<a href=\"https://colab.research.google.com/github/arutraj/ML_Basics/blob/main/13_15_Image_Generator_and_Fit_Generator_in_Keras.ipynb\" target=\"_parent\"><img src=\"https://colab.research.google.com/assets/colab-badge.svg\" alt=\"Open In Colab\"/></a>"
      ]
    },
    {
      "cell_type": "code",
      "metadata": {
        "id": "1P6j-C2bTYes"
      },
      "source": [
        "# %tensorflow_version 1.x"
      ],
      "execution_count": null,
      "outputs": []
    },
    {
      "cell_type": "code",
      "source": [
        "import tensorflow as tf"
      ],
      "metadata": {
        "id": "1I44ybYnfs_J"
      },
      "execution_count": 2,
      "outputs": []
    },
    {
      "cell_type": "code",
      "source": [
        "tf.__version__"
      ],
      "metadata": {
        "colab": {
          "base_uri": "https://localhost:8080/",
          "height": 35
        },
        "id": "bJjaYs7FfpeP",
        "outputId": "c512b777-f29d-4bef-e8d4-1c71803f8154"
      },
      "execution_count": 3,
      "outputs": [
        {
          "output_type": "execute_result",
          "data": {
            "text/plain": [
              "'2.15.0'"
            ],
            "application/vnd.google.colaboratory.intrinsic+json": {
              "type": "string"
            }
          },
          "metadata": {},
          "execution_count": 3
        }
      ]
    },
    {
      "cell_type": "code",
      "source": [
        "import keras"
      ],
      "metadata": {
        "id": "s-SQ1KNYhYPy"
      },
      "execution_count": 4,
      "outputs": []
    },
    {
      "cell_type": "code",
      "source": [
        "keras.__version__"
      ],
      "metadata": {
        "colab": {
          "base_uri": "https://localhost:8080/",
          "height": 35
        },
        "id": "V_Tfo_pFiB9C",
        "outputId": "7e2f6625-fa2f-4f38-c603-f194c3143ffe"
      },
      "execution_count": 5,
      "outputs": [
        {
          "output_type": "execute_result",
          "data": {
            "text/plain": [
              "'2.15.0'"
            ],
            "application/vnd.google.colaboratory.intrinsic+json": {
              "type": "string"
            }
          },
          "metadata": {},
          "execution_count": 5
        }
      ]
    },
    {
      "cell_type": "markdown",
      "metadata": {
        "id": "tgzzqRXTv7UG"
      },
      "source": [
        "### 1. Importing Libraries and Data preprocessing"
      ]
    },
    {
      "cell_type": "code",
      "metadata": {
        "id": "yMXknA6I5g6k",
        "scrolled": true,
        "trusted": true
      },
      "source": [
        "# import necessary libraries\n",
        "import numpy as np\n",
        "import pandas as pd\n",
        "import matplotlib.pyplot as plt\n",
        "%matplotlib inline\n",
        "from tqdm import tqdm\n",
        "\n",
        "from sklearn.model_selection import train_test_split\n",
        "from sklearn.metrics import accuracy_score"
      ],
      "execution_count": 6,
      "outputs": []
    },
    {
      "cell_type": "code",
      "metadata": {
        "id": "TiFgP2zG1PT5",
        "outputId": "f78f1ffa-712d-4577-f245-248f3c3d8735",
        "colab": {
          "base_uri": "https://localhost:8080/"
        }
      },
      "source": [
        "from google.colab import drive\n",
        "drive.mount('/content/drive')"
      ],
      "execution_count": 1,
      "outputs": [
        {
          "output_type": "stream",
          "name": "stdout",
          "text": [
            "Mounted at /content/drive\n"
          ]
        }
      ]
    },
    {
      "cell_type": "code",
      "metadata": {
        "id": "AitlsLNU1PQz",
        "outputId": "1c8b99a8-1321-42a2-d244-98dd002968a9",
        "colab": {
          "base_uri": "https://localhost:8080/"
        }
      },
      "source": [
        "!ls /content/drive/MyDrive/AnalyticsVidya/DeepLearning/images/*jpg |wc -l"
      ],
      "execution_count": 7,
      "outputs": [
        {
          "output_type": "stream",
          "name": "stdout",
          "text": [
            "2352\n"
          ]
        }
      ]
    },
    {
      "cell_type": "code",
      "metadata": {
        "id": "ANnf-lUd5g6v",
        "trusted": true
      },
      "source": [
        "# set seed\n",
        "seed = 42"
      ],
      "execution_count": 8,
      "outputs": []
    },
    {
      "cell_type": "code",
      "metadata": {
        "id": "-SpTX9z95g61",
        "trusted": true
      },
      "source": [
        "# load csv file\n",
        "data = pd.read_csv('/content/emergency_classification.csv')"
      ],
      "execution_count": 9,
      "outputs": []
    },
    {
      "cell_type": "code",
      "metadata": {
        "id": "MWvmRr0P5g66",
        "trusted": true
      },
      "source": [
        "# load images and store it in numpy array\n",
        "\n",
        "# empty list to store the images\n",
        "X = []\n",
        "# iterating over each image\n",
        "for img_name in data.image_names:\n",
        "    # loading the image using its name\n",
        "    img = plt.imread('/content/drive/MyDrive/AnalyticsVidya/DeepLearning/images/' + img_name)\n",
        "    # normalizing the pixel values\n",
        "    img = img/255\n",
        "    # saving each image in the list\n",
        "    X.append(img)\n",
        "\n",
        "# converting the list of images into array\n",
        "X=np.array(X)\n",
        "\n",
        "# storing the target variable in separate variable\n",
        "y = data.emergency_or_not.values"
      ],
      "execution_count": 10,
      "outputs": []
    },
    {
      "cell_type": "code",
      "metadata": {
        "id": "ik_W3Q4w5g7I",
        "trusted": true,
        "outputId": "5e3bc061-f9e2-4a5b-e6a5-43897c5006da",
        "colab": {
          "base_uri": "https://localhost:8080/"
        }
      },
      "source": [
        "# creating a training and validation set\n",
        "X_train, X_valid, y_train, y_valid=train_test_split(X,y,test_size=0.3, random_state=seed)\n",
        "\n",
        "print(\"X_train:\", X_train.shape, \"X_valid:\", X_valid.shape)\n",
        "print(\"y_train:\", y_train.shape, \"y_valid:\", y_valid.shape)"
      ],
      "execution_count": 11,
      "outputs": [
        {
          "output_type": "stream",
          "name": "stdout",
          "text": [
            "X_train: (1646, 224, 224, 3) X_valid: (706, 224, 224, 3)\n",
            "y_train: (1646,) y_valid: (706,)\n"
          ]
        }
      ]
    },
    {
      "cell_type": "markdown",
      "metadata": {
        "id": "4_81e7Wi_ZA8"
      },
      "source": [
        "## Image Augmentation using Keras (ImageDataGenerator)"
      ]
    },
    {
      "cell_type": "code",
      "metadata": {
        "id": "R9QLfVkZF7v8"
      },
      "source": [
        "from keras.preprocessing.image import ImageDataGenerator"
      ],
      "execution_count": 12,
      "outputs": []
    },
    {
      "cell_type": "code",
      "metadata": {
        "id": "0rNjmODlF7iC"
      },
      "source": [
        "image_augmentation = ImageDataGenerator(rotation_range=30, width_shift_range=40, height_shift_range=40,\n",
        "                              horizontal_flip=True, vertical_flip=True, fill_mode=\"nearest\")"
      ],
      "execution_count": 13,
      "outputs": []
    },
    {
      "cell_type": "code",
      "metadata": {
        "id": "w7U_9KpJ7tVs"
      },
      "source": [
        "image_augmentation.fit(X_train)"
      ],
      "execution_count": 14,
      "outputs": []
    },
    {
      "cell_type": "markdown",
      "metadata": {
        "id": "7W7AKs0s5g7M"
      },
      "source": [
        "### 2. Model Building"
      ]
    },
    {
      "cell_type": "code",
      "metadata": {
        "id": "RRxcjdUn4k9J"
      },
      "source": [
        "# importing functions from keras to define the neural network architecture\n",
        "from keras.layers import Dense, InputLayer, Dropout, BatchNormalization, Flatten\n",
        "from keras.models import Sequential\n",
        "# importing adam optimizer from keras optimizer module\n",
        "from keras.optimizers import Adam"
      ],
      "execution_count": 15,
      "outputs": []
    },
    {
      "cell_type": "code",
      "metadata": {
        "id": "3cc_CF0f4sK9"
      },
      "source": [
        "# defining the adam optimizer and setting the learning rate as 10^-5\n",
        "adam = Adam(learning_rate = 1e-5)"
      ],
      "execution_count": 16,
      "outputs": []
    },
    {
      "cell_type": "code",
      "metadata": {
        "trusted": true,
        "id": "WueKMOgDGQMo"
      },
      "source": [
        "# defining and compiling the model architecture\n",
        "model=Sequential()\n",
        "model.add(InputLayer(input_shape=(224,224,3)))\n",
        "model.add(Flatten())\n",
        "model.add(Dense(100, activation='sigmoid'))\n",
        "model.add(BatchNormalization())\n",
        "model.add(Dropout(rate=0.5))\n",
        "model.add(Dense(100, activation='sigmoid'))\n",
        "model.add(BatchNormalization())\n",
        "model.add(Dropout(rate=0.5))\n",
        "model.add(Dense(units=1, activation='sigmoid'))\n",
        "\n",
        "model.compile(loss='binary_crossentropy', optimizer=adam, metrics=['accuracy'])"
      ],
      "execution_count": 17,
      "outputs": []
    },
    {
      "cell_type": "code",
      "metadata": {
        "id": "uZjXJLdU5g8V",
        "trusted": true,
        "outputId": "4a3c2de9-5165-490f-9cba-775805b44c33",
        "colab": {
          "base_uri": "https://localhost:8080/"
        }
      },
      "source": [
        "# fits the model on batches with real-time data augmentation:\n",
        "model_history = model.fit_generator(image_augmentation.flow(X_train, y_train, batch_size=128), validation_data=(X_valid, y_valid), epochs=50)"
      ],
      "execution_count": 18,
      "outputs": [
        {
          "output_type": "stream",
          "name": "stderr",
          "text": [
            "<ipython-input-18-de442eb42c9e>:2: UserWarning: `Model.fit_generator` is deprecated and will be removed in a future version. Please use `Model.fit`, which supports generators.\n",
            "  model_history = model.fit_generator(image_augmentation.flow(X_train, y_train, batch_size=128), validation_data=(X_valid, y_valid), epochs=50)\n"
          ]
        },
        {
          "output_type": "stream",
          "name": "stdout",
          "text": [
            "Epoch 1/50\n",
            "13/13 [==============================] - 20s 1s/step - loss: 1.0780 - accuracy: 0.5255 - val_loss: 0.7383 - val_accuracy: 0.4391\n",
            "Epoch 2/50\n",
            "13/13 [==============================] - 17s 1s/step - loss: 0.9710 - accuracy: 0.5559 - val_loss: 0.7386 - val_accuracy: 0.4391\n",
            "Epoch 3/50\n",
            "13/13 [==============================] - 17s 1s/step - loss: 0.9488 - accuracy: 0.5826 - val_loss: 0.7212 - val_accuracy: 0.4391\n",
            "Epoch 4/50\n",
            "13/13 [==============================] - 16s 1s/step - loss: 0.9487 - accuracy: 0.5608 - val_loss: 0.7213 - val_accuracy: 0.4391\n",
            "Epoch 5/50\n",
            "13/13 [==============================] - 16s 1s/step - loss: 0.9420 - accuracy: 0.5717 - val_loss: 0.7125 - val_accuracy: 0.4391\n",
            "Epoch 6/50\n",
            "13/13 [==============================] - 16s 1s/step - loss: 0.8973 - accuracy: 0.5680 - val_loss: 0.7128 - val_accuracy: 0.4391\n",
            "Epoch 7/50\n",
            "13/13 [==============================] - 17s 1s/step - loss: 0.9655 - accuracy: 0.5358 - val_loss: 0.7059 - val_accuracy: 0.4419\n",
            "Epoch 8/50\n",
            "13/13 [==============================] - 16s 1s/step - loss: 0.8834 - accuracy: 0.5948 - val_loss: 0.7050 - val_accuracy: 0.4448\n",
            "Epoch 9/50\n",
            "13/13 [==============================] - 16s 1s/step - loss: 0.8986 - accuracy: 0.5717 - val_loss: 0.6955 - val_accuracy: 0.4646\n",
            "Epoch 10/50\n",
            "13/13 [==============================] - 16s 1s/step - loss: 0.8662 - accuracy: 0.5881 - val_loss: 0.6870 - val_accuracy: 0.5227\n",
            "Epoch 11/50\n",
            "13/13 [==============================] - 16s 1s/step - loss: 0.8697 - accuracy: 0.5765 - val_loss: 0.6997 - val_accuracy: 0.4575\n",
            "Epoch 12/50\n",
            "13/13 [==============================] - 17s 1s/step - loss: 0.9036 - accuracy: 0.5601 - val_loss: 0.7142 - val_accuracy: 0.4476\n",
            "Epoch 13/50\n",
            "13/13 [==============================] - 16s 1s/step - loss: 0.8777 - accuracy: 0.5735 - val_loss: 0.6779 - val_accuracy: 0.5567\n",
            "Epoch 14/50\n",
            "13/13 [==============================] - 16s 1s/step - loss: 0.8653 - accuracy: 0.5814 - val_loss: 0.6675 - val_accuracy: 0.6133\n",
            "Epoch 15/50\n",
            "13/13 [==============================] - 16s 1s/step - loss: 0.8331 - accuracy: 0.5784 - val_loss: 0.6797 - val_accuracy: 0.5567\n",
            "Epoch 16/50\n",
            "13/13 [==============================] - 16s 1s/step - loss: 0.9218 - accuracy: 0.5541 - val_loss: 0.6865 - val_accuracy: 0.5184\n",
            "Epoch 17/50\n",
            "13/13 [==============================] - 16s 1s/step - loss: 0.9072 - accuracy: 0.5644 - val_loss: 0.6857 - val_accuracy: 0.5340\n",
            "Epoch 18/50\n",
            "13/13 [==============================] - 17s 1s/step - loss: 0.8992 - accuracy: 0.5553 - val_loss: 0.6763 - val_accuracy: 0.5652\n",
            "Epoch 19/50\n",
            "13/13 [==============================] - 16s 1s/step - loss: 0.8627 - accuracy: 0.5923 - val_loss: 0.6960 - val_accuracy: 0.5340\n",
            "Epoch 20/50\n",
            "13/13 [==============================] - 17s 1s/step - loss: 0.8329 - accuracy: 0.5887 - val_loss: 0.6887 - val_accuracy: 0.5482\n",
            "Epoch 21/50\n",
            "13/13 [==============================] - 17s 1s/step - loss: 0.8607 - accuracy: 0.5632 - val_loss: 0.6445 - val_accuracy: 0.6331\n",
            "Epoch 22/50\n",
            "13/13 [==============================] - 17s 1s/step - loss: 0.8365 - accuracy: 0.5930 - val_loss: 0.6554 - val_accuracy: 0.6119\n",
            "Epoch 23/50\n",
            "13/13 [==============================] - 16s 1s/step - loss: 0.8816 - accuracy: 0.5668 - val_loss: 0.6759 - val_accuracy: 0.5864\n",
            "Epoch 24/50\n",
            "13/13 [==============================] - 16s 1s/step - loss: 0.8688 - accuracy: 0.5851 - val_loss: 0.6659 - val_accuracy: 0.5921\n",
            "Epoch 25/50\n",
            "13/13 [==============================] - 17s 1s/step - loss: 0.8822 - accuracy: 0.5620 - val_loss: 0.6386 - val_accuracy: 0.6487\n",
            "Epoch 26/50\n",
            "13/13 [==============================] - 16s 1s/step - loss: 0.8741 - accuracy: 0.5705 - val_loss: 0.6299 - val_accuracy: 0.6558\n",
            "Epoch 27/50\n",
            "13/13 [==============================] - 16s 1s/step - loss: 0.8590 - accuracy: 0.5687 - val_loss: 0.6196 - val_accuracy: 0.6473\n",
            "Epoch 28/50\n",
            "13/13 [==============================] - 16s 1s/step - loss: 0.8614 - accuracy: 0.5705 - val_loss: 0.6212 - val_accuracy: 0.6558\n",
            "Epoch 29/50\n",
            "13/13 [==============================] - 16s 1s/step - loss: 0.8475 - accuracy: 0.5614 - val_loss: 0.6417 - val_accuracy: 0.6006\n",
            "Epoch 30/50\n",
            "13/13 [==============================] - 17s 1s/step - loss: 0.8779 - accuracy: 0.5814 - val_loss: 0.6383 - val_accuracy: 0.6020\n",
            "Epoch 31/50\n",
            "13/13 [==============================] - 16s 1s/step - loss: 0.8661 - accuracy: 0.5723 - val_loss: 0.6230 - val_accuracy: 0.6615\n",
            "Epoch 32/50\n",
            "13/13 [==============================] - 17s 1s/step - loss: 0.8794 - accuracy: 0.5516 - val_loss: 0.6494 - val_accuracy: 0.6034\n",
            "Epoch 33/50\n",
            "13/13 [==============================] - 16s 1s/step - loss: 0.8787 - accuracy: 0.5851 - val_loss: 0.6975 - val_accuracy: 0.5807\n",
            "Epoch 34/50\n",
            "13/13 [==============================] - 17s 1s/step - loss: 0.8481 - accuracy: 0.5948 - val_loss: 0.6745 - val_accuracy: 0.6091\n",
            "Epoch 35/50\n",
            "13/13 [==============================] - 17s 1s/step - loss: 0.8312 - accuracy: 0.5996 - val_loss: 0.6354 - val_accuracy: 0.6431\n",
            "Epoch 36/50\n",
            "13/13 [==============================] - 17s 1s/step - loss: 0.8813 - accuracy: 0.5838 - val_loss: 0.6514 - val_accuracy: 0.6190\n",
            "Epoch 37/50\n",
            "13/13 [==============================] - 17s 1s/step - loss: 0.8519 - accuracy: 0.5844 - val_loss: 0.6798 - val_accuracy: 0.6076\n",
            "Epoch 38/50\n",
            "13/13 [==============================] - 16s 1s/step - loss: 0.8975 - accuracy: 0.5425 - val_loss: 0.7263 - val_accuracy: 0.5552\n",
            "Epoch 39/50\n",
            "13/13 [==============================] - 16s 1s/step - loss: 0.8398 - accuracy: 0.5869 - val_loss: 0.7054 - val_accuracy: 0.5892\n",
            "Epoch 40/50\n",
            "13/13 [==============================] - 17s 1s/step - loss: 0.8526 - accuracy: 0.5729 - val_loss: 0.6823 - val_accuracy: 0.6006\n",
            "Epoch 41/50\n",
            "13/13 [==============================] - 16s 1s/step - loss: 0.8335 - accuracy: 0.5942 - val_loss: 0.7214 - val_accuracy: 0.5751\n",
            "Epoch 42/50\n",
            "13/13 [==============================] - 16s 1s/step - loss: 0.8368 - accuracy: 0.5832 - val_loss: 0.6395 - val_accuracy: 0.6459\n",
            "Epoch 43/50\n",
            "13/13 [==============================] - 16s 1s/step - loss: 0.8329 - accuracy: 0.6045 - val_loss: 0.6100 - val_accuracy: 0.6813\n",
            "Epoch 44/50\n",
            "13/13 [==============================] - 16s 1s/step - loss: 0.8400 - accuracy: 0.5765 - val_loss: 0.6088 - val_accuracy: 0.6558\n",
            "Epoch 45/50\n",
            "13/13 [==============================] - 16s 1s/step - loss: 0.8632 - accuracy: 0.5778 - val_loss: 0.6055 - val_accuracy: 0.6728\n",
            "Epoch 46/50\n",
            "13/13 [==============================] - 16s 1s/step - loss: 0.8745 - accuracy: 0.5656 - val_loss: 0.6135 - val_accuracy: 0.6558\n",
            "Epoch 47/50\n",
            "13/13 [==============================] - 16s 1s/step - loss: 0.7997 - accuracy: 0.5972 - val_loss: 0.6265 - val_accuracy: 0.6431\n",
            "Epoch 48/50\n",
            "13/13 [==============================] - 16s 1s/step - loss: 0.8204 - accuracy: 0.5954 - val_loss: 0.6288 - val_accuracy: 0.6516\n",
            "Epoch 49/50\n",
            "13/13 [==============================] - 16s 1s/step - loss: 0.8425 - accuracy: 0.5808 - val_loss: 0.6242 - val_accuracy: 0.6671\n",
            "Epoch 50/50\n",
            "13/13 [==============================] - 17s 1s/step - loss: 0.8370 - accuracy: 0.5863 - val_loss: 0.6274 - val_accuracy: 0.6544\n"
          ]
        }
      ]
    },
    {
      "cell_type": "code",
      "metadata": {
        "id": "VZvqoE-V-c4i",
        "outputId": "7c47df4b-e011-4e08-bdde-10adf7cc520c",
        "colab": {
          "base_uri": "https://localhost:8080/",
          "height": 489
        }
      },
      "source": [
        "y_pred = model.predict(X_valid)[:,0]\n",
        "y_pred = np.where(y_pred<0.5, 0, 1)# summarize history for loss\n",
        "plt.plot(model_history.history['loss'])\n",
        "plt.plot(model_history.history['val_loss'])\n",
        "plt.title('model loss')\n",
        "plt.ylabel('loss')\n",
        "plt.xlabel('epoch')\n",
        "plt.legend(['train', 'validation'], loc='upper right')\n",
        "plt.show()"
      ],
      "execution_count": 19,
      "outputs": [
        {
          "output_type": "stream",
          "name": "stdout",
          "text": [
            "23/23 [==============================] - 0s 7ms/step\n"
          ]
        },
        {
          "output_type": "display_data",
          "data": {
            "text/plain": [
              "<Figure size 640x480 with 1 Axes>"
            ],
            "image/png": "[encoded data removed]"
          },
          "metadata": {}
        }
      ]
    },
    {
      "cell_type": "code",
      "metadata": {
        "id": "Dg--s8EO-esp",
        "outputId": "2a27937a-ba0c-4842-c172-de87747cb6ff",
        "colab": {
          "base_uri": "https://localhost:8080/",
          "height": 472
        }
      },
      "source": [
        "# summarize history for accuracy\n",
        "plt.plot(model_history.history['accuracy'])\n",
        "plt.plot(model_history.history['val_accuracy'])\n",
        "plt.title('model accuracy')\n",
        "plt.ylabel('accuracy')\n",
        "plt.xlabel('epoch')\n",
        "plt.legend(['train', 'validation'], loc='upper right')\n",
        "plt.show()"
      ],
      "execution_count": 20,
      "outputs": [
        {
          "output_type": "display_data",
          "data": {
            "text/plain": [
              "<Figure size 640x480 with 1 Axes>"
            ],
            "image/png": "[encoded data removed]"
          },
          "metadata": {}
        }
      ]
    },
    {
      "cell_type": "code",
      "source": [
        "y_train_pred = model.predict(X_train)[:,0]\n",
        "y_train_pred = np.where(y_train_pred<0.5, 0, 1)"
      ],
      "metadata": {
        "id": "1mb5_O9-fLiD",
        "colab": {
          "base_uri": "https://localhost:8080/"
        },
        "outputId": "afd1b9de-34f7-480f-8ff9-9d031c789fb1"
      },
      "execution_count": 21,
      "outputs": [
        {
          "output_type": "stream",
          "name": "stdout",
          "text": [
            "52/52 [==============================] - 0s 7ms/step\n"
          ]
        }
      ]
    },
    {
      "cell_type": "code",
      "source": [
        "y_pred = model.predict(X_valid)[:,0]\n",
        "y_pred = np.where(y_pred<0.5, 0, 1)"
      ],
      "metadata": {
        "id": "Hcph22cer0IH",
        "colab": {
          "base_uri": "https://localhost:8080/"
        },
        "outputId": "4ec0f3ff-2d4e-497f-e286-c73fe4e71c12"
      },
      "execution_count": 22,
      "outputs": [
        {
          "output_type": "stream",
          "name": "stdout",
          "text": [
            "23/23 [==============================] - 0s 8ms/step\n"
          ]
        }
      ]
    },
    {
      "cell_type": "code",
      "metadata": {
        "id": "KZnBDHXpuUod",
        "trusted": true,
        "colab": {
          "base_uri": "https://localhost:8080/"
        },
        "outputId": "c2058f97-c09b-46fa-c7d0-d5334c1c8605"
      },
      "source": [
        "print('Training Accuracy: ', accuracy_score(y_train, y_train_pred))\n",
        "print('\\nValidation Accuracy: ', accuracy_score(y_valid, y_pred))"
      ],
      "execution_count": 23,
      "outputs": [
        {
          "output_type": "stream",
          "name": "stdout",
          "text": [
            "Training Accuracy:  0.68408262454435\n",
            "\n",
            "Validation Accuracy:  0.6543909348441926\n"
          ]
        }
      ]
    },
    {
      "cell_type": "code",
      "metadata": {
        "id": "Z1h1aKDUXWzE"
      },
      "source": [],
      "execution_count": null,
      "outputs": []
    }
  ]
}