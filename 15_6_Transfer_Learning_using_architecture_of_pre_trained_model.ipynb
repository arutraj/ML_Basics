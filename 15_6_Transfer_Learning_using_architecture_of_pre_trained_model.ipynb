{
  "cells": [
    {
      "cell_type": "markdown",
      "metadata": {
        "id": "view-in-github",
        "colab_type": "text"
      },
      "source": [
        "<a href=\"https://colab.research.google.com/github/arutraj/ML_Basics/blob/main/15_6_Transfer_Learning_using_architecture_of_pre_trained_model.ipynb\" target=\"_parent\"><img src=\"https://colab.research.google.com/assets/colab-badge.svg\" alt=\"Open In Colab\"/></a>"
      ]
    },
    {
      "cell_type": "code",
      "execution_count": 15,
      "metadata": {
        "colab": {
          "base_uri": "https://localhost:8080/",
          "height": 35
        },
        "id": "HBAs6cQ7G8RM",
        "outputId": "1e83dcd3-0fc9-4db9-867e-9961169efdd5"
      },
      "outputs": [
        {
          "output_type": "execute_result",
          "data": {
            "text/plain": [
              "'2.15.0'"
            ],
            "application/vnd.google.colaboratory.intrinsic+json": {
              "type": "string"
            }
          },
          "metadata": {},
          "execution_count": 15
        }
      ],
      "source": [
        "# %tensorflow_version 1.x\n",
        "import tensorflow\n",
        "tensorflow.__version__"
      ]
    },
    {
      "cell_type": "markdown",
      "metadata": {
        "id": "iMnQo7P_7LWr"
      },
      "source": [
        "## Transfer Learning using architecture of pre-trained model\n",
        "\n",
        "1. Import necessary libraries\n",
        "2. Load the data\n",
        "3. Pre-Process the data\n",
        "4. Load the architecture of pretrained model\n",
        "5. Train the model\n",
        "6. Get predictions"
      ]
    },
    {
      "cell_type": "markdown",
      "metadata": {
        "id": "GhKQy59w7LXQ"
      },
      "source": [
        "## 1. Import neccessary libraries"
      ]
    },
    {
      "cell_type": "markdown",
      "metadata": {
        "id": "A-aLz3kd7LXU"
      },
      "source": [
        "Here we will import the required libraries and functions."
      ]
    },
    {
      "cell_type": "code",
      "execution_count": 1,
      "metadata": {
        "id": "wqvacIQ37LXY"
      },
      "outputs": [],
      "source": [
        "# import necessary libraries for plotting images\n",
        "import numpy as np\n",
        "import matplotlib.pyplot as plt\n",
        "# plot in jupyter notebook itself\n",
        "%matplotlib inline\n",
        "from glob import glob\n",
        "import pandas as pd\n",
        "from sklearn.model_selection import train_test_split\n",
        "from sklearn.metrics import accuracy_score\n",
        "\n",
        "from keras.models import Model\n",
        "from keras.utils import to_categorical\n",
        "#used to preprocess data according to VGG16\n",
        "from keras.applications.vgg16 import preprocess_input\n",
        "#for instantiating the model and loading the weights and biases\n",
        "from keras.applications.vgg16 import VGG16\n",
        "from keras.models import Sequential\n",
        "from keras.layers import Dense, InputLayer"
      ]
    },
    {
      "cell_type": "markdown",
      "metadata": {
        "id": "a3Bk_xGH7LXm"
      },
      "source": [
        "## 2. Load the data"
      ]
    },
    {
      "cell_type": "code",
      "execution_count": 2,
      "metadata": {
        "colab": {
          "base_uri": "https://localhost:8080/"
        },
        "id": "x_VY_HZ5hm-z",
        "outputId": "b89c6342-a416-4aca-d263-e975d7330172"
      },
      "outputs": [
        {
          "output_type": "stream",
          "name": "stdout",
          "text": [
            "Mounted at /content/drive\n"
          ]
        }
      ],
      "source": [
        "from google.colab import drive\n",
        "drive.mount('/content/drive')"
      ]
    },
    {
      "cell_type": "code",
      "execution_count": 3,
      "metadata": {
        "colab": {
          "base_uri": "https://localhost:8080/"
        },
        "id": "1bb6wmB1hmvk",
        "outputId": "93a3f19a-7ce8-487c-d03c-11633a7a5267",
        "scrolled": true
      },
      "outputs": [
        {
          "output_type": "stream",
          "name": "stdout",
          "text": [
            "2352\n"
          ]
        }
      ],
      "source": [
        "# unzipping the Dataset.zip file\n",
        "#!unzip /content/drive/My\\ Drive/Dataset.zip\n",
        "!ls /content/drive/MyDrive/AnalyticsVidya/DeepLearning/images/*jpg |wc -l"
      ]
    },
    {
      "cell_type": "code",
      "execution_count": 4,
      "metadata": {
        "id": "bBoa3LGa7LXq"
      },
      "outputs": [],
      "source": [
        "#reading the csv file containing data labels\n",
        "data = pd.read_csv('/content/emergency_classification.csv')"
      ]
    },
    {
      "cell_type": "code",
      "execution_count": 5,
      "metadata": {
        "id": "IniNNq067LYF"
      },
      "outputs": [],
      "source": [
        "# create an empty python list\n",
        "X = []\n",
        "\n",
        "# go through all the image locations one by one\n",
        "for img_name in data.image_names:\n",
        "    # read the image from location\n",
        "    img = plt.imread('/content/drive/MyDrive/AnalyticsVidya/DeepLearning/images/' + img_name)\n",
        "    # pile it one over the other\n",
        "    X.append(img)\n",
        "\n",
        "# convert this python list to a single numpy array\n",
        "X = np.array(X)"
      ]
    },
    {
      "cell_type": "code",
      "execution_count": 6,
      "metadata": {
        "id": "3Vvni78T7LYP"
      },
      "outputs": [],
      "source": [
        "#getting the labels for images\n",
        "y = data.emergency_or_not.values"
      ]
    },
    {
      "cell_type": "markdown",
      "metadata": {
        "id": "uf5qmAzL7LY8"
      },
      "source": [
        "## 3. Pre-Process the data"
      ]
    },
    {
      "cell_type": "markdown",
      "metadata": {
        "id": "XVsVf1nq7LZA"
      },
      "source": [
        "Steps :\n",
        "1. Pre-process the data as per model's requirement\n",
        "2. Prepare training and validation set"
      ]
    },
    {
      "cell_type": "code",
      "execution_count": 7,
      "metadata": {
        "id": "r_5xd5KU7LZR"
      },
      "outputs": [],
      "source": [
        "#preprocess input images accordiing to requirements of VGG16 model\n",
        "X = preprocess_input(X)"
      ]
    },
    {
      "cell_type": "code",
      "execution_count": 8,
      "metadata": {
        "id": "E6l8ry2I6fLH"
      },
      "outputs": [],
      "source": [
        "#converting label to categorical i.e instead of 0/1 labels we have 2 columns emergency and non-emergency\n",
        "# with only one of them is true for every image\n",
        "y = to_categorical(y)"
      ]
    },
    {
      "cell_type": "code",
      "execution_count": 9,
      "metadata": {
        "id": "FsCCm9bc7LZm"
      },
      "outputs": [],
      "source": [
        "# splitting the dataset into training and validation sets\n",
        "X_train, X_valid, y_train, y_valid = train_test_split(X, y, test_size=0.3, random_state=42)"
      ]
    },
    {
      "cell_type": "markdown",
      "metadata": {
        "id": "4DMgEvEB7LZx"
      },
      "source": [
        "## 4. Load the architecture of pretrained model"
      ]
    },
    {
      "cell_type": "code",
      "execution_count": 10,
      "metadata": {
        "colab": {
          "base_uri": "https://localhost:8080/"
        },
        "id": "bqtH_K4f7LZz",
        "outputId": "4ceb4846-1fab-4e7b-9b4e-4893599f6ffa"
      },
      "outputs": [
        {
          "output_type": "stream",
          "name": "stdout",
          "text": [
            "Downloading data from https://storage.googleapis.com/tensorflow/keras-applications/vgg16/vgg16_weights_tf_dim_ordering_tf_kernels.h5\n",
            "553467096/553467096 [==============================] - 3s 0us/step\n"
          ]
        }
      ],
      "source": [
        "# creating model with pre trained imagenet weights\n",
        "base_model = VGG16(weights='imagenet')"
      ]
    },
    {
      "cell_type": "code",
      "execution_count": 16,
      "metadata": {
        "colab": {
          "base_uri": "https://localhost:8080/"
        },
        "id": "7KcP5C9l7LZ8",
        "outputId": "bc243855-54e2-4dcc-c0c4-b0cd5ecdf13b"
      },
      "outputs": [
        {
          "output_type": "stream",
          "name": "stdout",
          "text": [
            "Model: \"vgg16\"\n",
            "_________________________________________________________________\n",
            " Layer (type)                Output Shape              Param #   \n",
            "=================================================================\n",
            " input_1 (InputLayer)        [(None, 224, 224, 3)]     0         \n",
            "                                                                 \n",
            " block1_conv1 (Conv2D)       (None, 224, 224, 64)      1792      \n",
            "                                                                 \n",
            " block1_conv2 (Conv2D)       (None, 224, 224, 64)      36928     \n",
            "                                                                 \n",
            " block1_pool (MaxPooling2D)  (None, 112, 112, 64)      0         \n",
            "                                                                 \n",
            " block2_conv1 (Conv2D)       (None, 112, 112, 128)     73856     \n",
            "                                                                 \n",
            " block2_conv2 (Conv2D)       (None, 112, 112, 128)     147584    \n",
            "                                                                 \n",
            " block2_pool (MaxPooling2D)  (None, 56, 56, 128)       0         \n",
            "                                                                 \n",
            " block3_conv1 (Conv2D)       (None, 56, 56, 256)       295168    \n",
            "                                                                 \n",
            " block3_conv2 (Conv2D)       (None, 56, 56, 256)       590080    \n",
            "                                                                 \n",
            " block3_conv3 (Conv2D)       (None, 56, 56, 256)       590080    \n",
            "                                                                 \n",
            " block3_pool (MaxPooling2D)  (None, 28, 28, 256)       0         \n",
            "                                                                 \n",
            " block4_conv1 (Conv2D)       (None, 28, 28, 512)       1180160   \n",
            "                                                                 \n",
            " block4_conv2 (Conv2D)       (None, 28, 28, 512)       2359808   \n",
            "                                                                 \n",
            " block4_conv3 (Conv2D)       (None, 28, 28, 512)       2359808   \n",
            "                                                                 \n",
            " block4_pool (MaxPooling2D)  (None, 14, 14, 512)       0         \n",
            "                                                                 \n",
            " block5_conv1 (Conv2D)       (None, 14, 14, 512)       2359808   \n",
            "                                                                 \n",
            " block5_conv2 (Conv2D)       (None, 14, 14, 512)       2359808   \n",
            "                                                                 \n",
            " block5_conv3 (Conv2D)       (None, 14, 14, 512)       2359808   \n",
            "                                                                 \n",
            " block5_pool (MaxPooling2D)  (None, 7, 7, 512)         0         \n",
            "                                                                 \n",
            " flatten (Flatten)           (None, 25088)             0         \n",
            "                                                                 \n",
            " fc1 (Dense)                 (None, 4096)              102764544 \n",
            "                                                                 \n",
            " fc2 (Dense)                 (None, 4096)              16781312  \n",
            "                                                                 \n",
            " predictions (Dense)         (None, 1000)              4097000   \n",
            "                                                                 \n",
            "=================================================================\n",
            "Total params: 138357544 (527.79 MB)\n",
            "Trainable params: 138357544 (527.79 MB)\n",
            "Non-trainable params: 0 (0.00 Byte)\n",
            "_________________________________________________________________\n"
          ]
        }
      ],
      "source": [
        "#shows model summary\n",
        "base_model.summary()"
      ]
    },
    {
      "cell_type": "code",
      "execution_count": 17,
      "metadata": {
        "colab": {
          "base_uri": "https://localhost:8080/"
        },
        "id": "QC0-nMWFlvG2",
        "outputId": "25694e6a-cf08-428b-e8b5-542c5039f3cf"
      },
      "outputs": [
        {
          "output_type": "stream",
          "name": "stdout",
          "text": [
            "Model: \"model\"\n",
            "_________________________________________________________________\n",
            " Layer (type)                Output Shape              Param #   \n",
            "=================================================================\n",
            " input_1 (InputLayer)        [(None, 224, 224, 3)]     0         \n",
            "                                                                 \n",
            " block1_conv1 (Conv2D)       (None, 224, 224, 64)      1792      \n",
            "                                                                 \n",
            " block1_conv2 (Conv2D)       (None, 224, 224, 64)      36928     \n",
            "                                                                 \n",
            " block1_pool (MaxPooling2D)  (None, 112, 112, 64)      0         \n",
            "                                                                 \n",
            " block2_conv1 (Conv2D)       (None, 112, 112, 128)     73856     \n",
            "                                                                 \n",
            " block2_conv2 (Conv2D)       (None, 112, 112, 128)     147584    \n",
            "                                                                 \n",
            " block2_pool (MaxPooling2D)  (None, 56, 56, 128)       0         \n",
            "                                                                 \n",
            " block3_conv1 (Conv2D)       (None, 56, 56, 256)       295168    \n",
            "                                                                 \n",
            " block3_conv2 (Conv2D)       (None, 56, 56, 256)       590080    \n",
            "                                                                 \n",
            " block3_conv3 (Conv2D)       (None, 56, 56, 256)       590080    \n",
            "                                                                 \n",
            " block3_pool (MaxPooling2D)  (None, 28, 28, 256)       0         \n",
            "                                                                 \n",
            " block4_conv1 (Conv2D)       (None, 28, 28, 512)       1180160   \n",
            "                                                                 \n",
            " block4_conv2 (Conv2D)       (None, 28, 28, 512)       2359808   \n",
            "                                                                 \n",
            " block4_conv3 (Conv2D)       (None, 28, 28, 512)       2359808   \n",
            "                                                                 \n",
            " block4_pool (MaxPooling2D)  (None, 14, 14, 512)       0         \n",
            "                                                                 \n",
            " block5_conv1 (Conv2D)       (None, 14, 14, 512)       2359808   \n",
            "                                                                 \n",
            " block5_conv2 (Conv2D)       (None, 14, 14, 512)       2359808   \n",
            "                                                                 \n",
            " block5_conv3 (Conv2D)       (None, 14, 14, 512)       2359808   \n",
            "                                                                 \n",
            " block5_pool (MaxPooling2D)  (None, 7, 7, 512)         0         \n",
            "                                                                 \n",
            " flatten (Flatten)           (None, 25088)             0         \n",
            "                                                                 \n",
            " fc1 (Dense)                 (None, 100)               2508900   \n",
            "                                                                 \n",
            " prediction (Dense)          (None, 2)                 202       \n",
            "                                                                 \n",
            "=================================================================\n",
            "Total params: 17223790 (65.70 MB)\n",
            "Trainable params: 17223790 (65.70 MB)\n",
            "Non-trainable params: 0 (0.00 Byte)\n",
            "_________________________________________________________________\n"
          ]
        }
      ],
      "source": [
        "# creating our own model\n",
        "x = Dense(100, activation='relu', name='fc1')(base_model.layers[-4].output)\n",
        "y = Dense(2, activation='softmax', name='prediction')(x)\n",
        "my_model = Model(base_model.input, y)\n",
        "my_model.summary()"
      ]
    },
    {
      "cell_type": "code",
      "execution_count": 18,
      "metadata": {
        "id": "FjLMQ96R7Lb1"
      },
      "outputs": [],
      "source": [
        "# compile the model\n",
        "my_model.compile(optimizer='adam', metrics=['accuracy'], loss='categorical_crossentropy')"
      ]
    },
    {
      "cell_type": "markdown",
      "metadata": {
        "id": "OVfit0i9klBv"
      },
      "source": [
        "## 5. Train the model"
      ]
    },
    {
      "cell_type": "code",
      "execution_count": 19,
      "metadata": {
        "colab": {
          "base_uri": "https://localhost:8080/"
        },
        "id": "THtHpHrE7Lb-",
        "outputId": "e33b09e1-da3a-4eee-a5c7-0b388a19438e",
        "scrolled": true
      },
      "outputs": [
        {
          "output_type": "stream",
          "name": "stdout",
          "text": [
            "Epoch 1/10\n",
            "52/52 [==============================] - 59s 666ms/step - loss: 17.6259 - accuracy: 0.5966 - val_loss: 0.7176 - val_accuracy: 0.6062\n",
            "Epoch 2/10\n",
            "52/52 [==============================] - 23s 434ms/step - loss: 0.6117 - accuracy: 0.6999 - val_loss: 0.4990 - val_accuracy: 0.7635\n",
            "Epoch 3/10\n",
            "52/52 [==============================] - 22s 433ms/step - loss: 0.5194 - accuracy: 0.7527 - val_loss: 0.5635 - val_accuracy: 0.7195\n",
            "Epoch 4/10\n",
            "52/52 [==============================] - 23s 435ms/step - loss: 0.5131 - accuracy: 0.7704 - val_loss: 0.4392 - val_accuracy: 0.8059\n",
            "Epoch 5/10\n",
            "52/52 [==============================] - 23s 447ms/step - loss: 0.5692 - accuracy: 0.7412 - val_loss: 0.5213 - val_accuracy: 0.7380\n",
            "Epoch 6/10\n",
            "52/52 [==============================] - 23s 452ms/step - loss: 0.4891 - accuracy: 0.7728 - val_loss: 0.4790 - val_accuracy: 0.7606\n",
            "Epoch 7/10\n",
            "52/52 [==============================] - 23s 445ms/step - loss: 0.4653 - accuracy: 0.7995 - val_loss: 0.4551 - val_accuracy: 0.7975\n",
            "Epoch 8/10\n",
            "52/52 [==============================] - 23s 444ms/step - loss: 0.4401 - accuracy: 0.7983 - val_loss: 0.4491 - val_accuracy: 0.7918\n",
            "Epoch 9/10\n",
            "52/52 [==============================] - 23s 446ms/step - loss: 0.4019 - accuracy: 0.8098 - val_loss: 0.4797 - val_accuracy: 0.8130\n",
            "Epoch 10/10\n",
            "52/52 [==============================] - 23s 448ms/step - loss: 0.3931 - accuracy: 0.8238 - val_loss: 0.4548 - val_accuracy: 0.8017\n"
          ]
        },
        {
          "output_type": "execute_result",
          "data": {
            "text/plain": [
              "<keras.src.callbacks.History at 0x7e26de2d3f10>"
            ]
          },
          "metadata": {},
          "execution_count": 19
        }
      ],
      "source": [
        "# training the model\n",
        "my_model.fit(X_train, y_train, epochs=10, validation_data=(X_valid, y_valid))"
      ]
    },
    {
      "cell_type": "markdown",
      "metadata": {
        "id": "cooberaE7LcD"
      },
      "source": [
        "## 6. Get Predictions"
      ]
    },
    {
      "cell_type": "code",
      "execution_count": 20,
      "metadata": {
        "colab": {
          "base_uri": "https://localhost:8080/"
        },
        "id": "8PV5cC9-7LcE",
        "outputId": "4bb7a766-ad5e-461a-b977-9ddeca56b451"
      },
      "outputs": [
        {
          "output_type": "stream",
          "name": "stdout",
          "text": [
            "23/23 [==============================] - 3s 121ms/step\n"
          ]
        }
      ],
      "source": [
        "# get predictions\n",
        "predictions = my_model.predict(X_valid)\n",
        "predicted_class = np.argmax(predictions,axis=1)"
      ]
    },
    {
      "cell_type": "code",
      "execution_count": null,
      "metadata": {
        "colab": {
          "base_uri": "https://localhost:8080/",
          "height": 34
        },
        "id": "F-V9tGe2q5IN",
        "outputId": "d4177d1c-5303-4f96-96e1-b253c823080a"
      },
      "outputs": [
        {
          "data": {
            "text/plain": [
              "0.9405099150141643"
            ]
          },
          "execution_count": 17,
          "metadata": {
            "tags": []
          },
          "output_type": "execute_result"
        }
      ],
      "source": [
        "# checking the performance of model on validation set\n",
        "accuracy_score(y_valid[:,1], predicted_class)"
      ]
    },
    {
      "cell_type": "markdown",
      "metadata": {
        "id": "x0jagqcwKpI4"
      },
      "source": [
        "## Steps to use the architecture of pre-trained model\n",
        "\n",
        "1. Import necessary libraries\n",
        "2. Load the data\n",
        "3. Pre-Process the data\n",
        "4. Load the architecture of pretrained model\n",
        "5. Train the model\n",
        "6. Get predictions"
      ]
    },
    {
      "cell_type": "code",
      "execution_count": null,
      "metadata": {
        "id": "_OKHCQtAGP_4"
      },
      "outputs": [],
      "source": []
    }
  ],
  "metadata": {
    "accelerator": "GPU",
    "colab": {
      "machine_shape": "hm",
      "provenance": [],
      "include_colab_link": true
    },
    "kernelspec": {
      "display_name": "Python 3 (ipykernel)",
      "language": "python",
      "name": "python3"
    },
    "language_info": {
      "codemirror_mode": {
        "name": "ipython",
        "version": 3
      },
      "file_extension": ".py",
      "mimetype": "text/x-python",
      "name": "python",
      "nbconvert_exporter": "python",
      "pygments_lexer": "ipython3",
      "version": "3.11.5"
    }
  },
  "nbformat": 4,
  "nbformat_minor": 0
}