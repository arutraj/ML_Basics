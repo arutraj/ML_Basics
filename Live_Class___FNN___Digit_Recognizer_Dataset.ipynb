{
  "nbformat": 4,
  "nbformat_minor": 0,
  "metadata": {
    "colab": {
      "provenance": [],
      "include_colab_link": true
    },
    "kernelspec": {
      "name": "python3",
      "display_name": "Python 3"
    },
    "language_info": {
      "name": "python"
    }
  },
  "cells": [
    {
      "cell_type": "markdown",
      "metadata": {
        "id": "view-in-github",
        "colab_type": "text"
      },
      "source": [
        "<a href=\"https://colab.research.google.com/github/arutraj/ML_Basics/blob/main/Live_Class___FNN___Digit_Recognizer_Dataset.ipynb\" target=\"_parent\"><img src=\"https://colab.research.google.com/assets/colab-badge.svg\" alt=\"Open In Colab\"/></a>"
      ]
    },
    {
      "cell_type": "markdown",
      "source": [
        "# Digit Recognizer Dataset Introduction\n",
        "###It contains the following info:\n",
        "The data files train.csv and test.csv contain gray-scale images of hand-drawn digits, from zero through nine.\n",
        "\n",
        "Each image is 28 pixels in height and 28 pixels in width, for a total of 784 pixels in total. Each pixel has a single pixel-value associated with it, indicating the lightness or darkness of that pixel, with higher numbers meaning darker. This pixel-value is an integer between 0 and 255, inclusive.\n",
        "\n",
        "The training data set, (train.csv), has 785 columns. The first column, called \"label\", is the digit that was drawn by the user. The rest of the columns contain the pixel-values of the associated image.\n",
        "\n",
        "Each pixel column in the training set has a name like pixelx, where x is an integer between 0 and 783, inclusive. To locate this pixel on the image, suppose that we have decomposed x as x = i * 28 + j, where i and j are integers between 0 and 27, inclusive. Then pixelx is located on row i and column j of a 28 x 28 matrix, (indexing by zero).\n",
        "\n",
        "For example, pixel31 indicates the pixel that is in the fourth column from the left, and the second row from the top, as in the ascii-diagram below."
      ],
      "metadata": {
        "id": "0I4ejzNk_C8o"
      }
    },
    {
      "cell_type": "code",
      "source": [
        "from google.colab import drive\n",
        "drive.mount('/content/drive')"
      ],
      "metadata": {
        "colab": {
          "base_uri": "https://localhost:8080/"
        },
        "id": "4d0LYY2A1BGm",
        "outputId": "29235461-425f-4ed5-ee98-8e0960906d43"
      },
      "execution_count": 1,
      "outputs": [
        {
          "output_type": "stream",
          "name": "stdout",
          "text": [
            "Mounted at /content/drive\n"
          ]
        }
      ]
    },
    {
      "cell_type": "code",
      "source": [
        "import torch                        # The core package of Torch\n",
        "import torch.nn as nn               # The nn package is used for building neural networks\n",
        "import torch.nn.functional as F     # Contains all the functions in the torch.nn library\n",
        "\n",
        "from sklearn.model_selection import train_test_split\n",
        "\n",
        "import pandas as pd\n",
        "import numpy as np\n",
        "import matplotlib.pyplot as plt"
      ],
      "metadata": {
        "id": "H7hrdSoK_KJf"
      },
      "execution_count": 2,
      "outputs": []
    },
    {
      "cell_type": "code",
      "source": [
        "#@title Mount Google drive for datasets access\n",
        "from google.colab import drive\n",
        "drive.mount('/content/drive')"
      ],
      "metadata": {
        "id": "6o5VjqS7FMWx",
        "colab": {
          "base_uri": "https://localhost:8080/"
        },
        "outputId": "c4d4ff78-cbdd-4801-c0e3-3d0d07146c18"
      },
      "execution_count": null,
      "outputs": [
        {
          "output_type": "stream",
          "name": "stdout",
          "text": [
            "Mounted at /content/drive\n"
          ]
        }
      ]
    },
    {
      "cell_type": "markdown",
      "source": [
        "###Load data\n",
        "As input information I have two CSV files:\n",
        "\n",
        "####**train.csv** - contains information about 42 000 (60% of the whole MNIST dataset) gray-scale images of hand-drawn digits (from 0 to 9).\n",
        "First column is the digit. The rest 784 columns represent pixels of hand-drawn digit (each image has 28 x 28 pixels shape). The value of each pixel-column is an intager between 0 and 255 - represent darkness or lightness of the given pixel.\n",
        "####**test.csv** - contains information about 28 000 gray-scale images of hand-drawn digits (from 0 to 9). Doesn't contain labels."
      ],
      "metadata": {
        "id": "ODsetZzHHO3E"
      }
    },
    {
      "cell_type": "code",
      "source": [
        "# read data\n",
        "#prefix_path = '/content/drive/MyDrive/IK_live_class/Datasets'\n",
        "train_data = pd.read_csv('/content/drive/MyDrive/DeepLEarning/train.csv')\n",
        "test = pd.read_csv('/content/drive/MyDrive/DeepLEarning/test.csv')\n",
        "\n",
        "# check that we loaded data correctly\n",
        "print(\"Train data shape:\", train_data.shape)\n",
        "print(\"Test data shape:\", test.shape)"
      ],
      "metadata": {
        "id": "kiaBpyVx_N1m",
        "colab": {
          "base_uri": "https://localhost:8080/"
        },
        "outputId": "492358d4-99fb-4b4d-d95b-6029caaa9b57"
      },
      "execution_count": 3,
      "outputs": [
        {
          "output_type": "stream",
          "name": "stdout",
          "text": [
            "Train data shape: (42000, 785)\n",
            "Test data shape: (28000, 784)\n"
          ]
        }
      ]
    },
    {
      "cell_type": "code",
      "source": [
        "train_data.head(10)"
      ],
      "metadata": {
        "colab": {
          "base_uri": "https://localhost:8080/",
          "height": 412
        },
        "id": "BTLOiWkN3K8z",
        "outputId": "3d14c586-267e-4280-c4d0-48db407e69fd"
      },
      "execution_count": 5,
      "outputs": [
        {
          "output_type": "execute_result",
          "data": {
            "text/plain": [
              "   label  pixel0  pixel1  pixel2  pixel3  pixel4  pixel5  pixel6  pixel7  \\\n",
              "0      1       0       0       0       0       0       0       0       0   \n",
              "1      0       0       0       0       0       0       0       0       0   \n",
              "2      1       0       0       0       0       0       0       0       0   \n",
              "3      4       0       0       0       0       0       0       0       0   \n",
              "4      0       0       0       0       0       0       0       0       0   \n",
              "5      0       0       0       0       0       0       0       0       0   \n",
              "6      7       0       0       0       0       0       0       0       0   \n",
              "7      3       0       0       0       0       0       0       0       0   \n",
              "8      5       0       0       0       0       0       0       0       0   \n",
              "9      3       0       0       0       0       0       0       0       0   \n",
              "\n",
              "   pixel8  ...  pixel774  pixel775  pixel776  pixel777  pixel778  pixel779  \\\n",
              "0       0  ...         0         0         0         0         0         0   \n",
              "1       0  ...         0         0         0         0         0         0   \n",
              "2       0  ...         0         0         0         0         0         0   \n",
              "3       0  ...         0         0         0         0         0         0   \n",
              "4       0  ...         0         0         0         0         0         0   \n",
              "5       0  ...         0         0         0         0         0         0   \n",
              "6       0  ...         0         0         0         0         0         0   \n",
              "7       0  ...         0         0         0         0         0         0   \n",
              "8       0  ...         0         0         0         0         0         0   \n",
              "9       0  ...         0         0         0         0         0         0   \n",
              "\n",
              "   pixel780  pixel781  pixel782  pixel783  \n",
              "0         0         0         0         0  \n",
              "1         0         0         0         0  \n",
              "2         0         0         0         0  \n",
              "3         0         0         0         0  \n",
              "4         0         0         0         0  \n",
              "5         0         0         0         0  \n",
              "6         0         0         0         0  \n",
              "7         0         0         0         0  \n",
              "8         0         0         0         0  \n",
              "9         0         0         0         0  \n",
              "\n",
              "[10 rows x 785 columns]"
            ],
            "text/html": [
              "\n",
              "  <div id=\"df-64911ce8-4a86-4f11-95b9-d1f02996f680\" class=\"colab-df-container\">\n",
              "    <div>\n",
              "<style scoped>\n",
              "    .dataframe tbody tr th:only-of-type {\n",
              "        vertical-align: middle;\n",
              "    }\n",
              "\n",
              "    .dataframe tbody tr th {\n",
              "        vertical-align: top;\n",
              "    }\n",
              "\n",
              "    .dataframe thead th {\n",
              "        text-align: right;\n",
              "    }\n",
              "</style>\n",
              "<table border=\"1\" class=\"dataframe\">\n",
              "  <thead>\n",
              "    <tr style=\"text-align: right;\">\n",
              "      <th></th>\n",
              "      <th>label</th>\n",
              "      <th>pixel0</th>\n",
              "      <th>pixel1</th>\n",
              "      <th>pixel2</th>\n",
              "      <th>pixel3</th>\n",
              "      <th>pixel4</th>\n",
              "      <th>pixel5</th>\n",
              "      <th>pixel6</th>\n",
              "      <th>pixel7</th>\n",
              "      <th>pixel8</th>\n",
              "      <th>...</th>\n",
              "      <th>pixel774</th>\n",
              "      <th>pixel775</th>\n",
              "      <th>pixel776</th>\n",
              "      <th>pixel777</th>\n",
              "      <th>pixel778</th>\n",
              "      <th>pixel779</th>\n",
              "      <th>pixel780</th>\n",
              "      <th>pixel781</th>\n",
              "      <th>pixel782</th>\n",
              "      <th>pixel783</th>\n",
              "    </tr>\n",
              "  </thead>\n",
              "  <tbody>\n",
              "    <tr>\n",
              "      <th>0</th>\n",
              "      <td>1</td>\n",
              "      <td>0</td>\n",
              "      <td>0</td>\n",
              "      <td>0</td>\n",
              "      <td>0</td>\n",
              "      <td>0</td>\n",
              "      <td>0</td>\n",
              "      <td>0</td>\n",
              "      <td>0</td>\n",
              "      <td>0</td>\n",
              "      <td>...</td>\n",
              "      <td>0</td>\n",
              "      <td>0</td>\n",
              "      <td>0</td>\n",
              "      <td>0</td>\n",
              "      <td>0</td>\n",
              "      <td>0</td>\n",
              "      <td>0</td>\n",
              "      <td>0</td>\n",
              "      <td>0</td>\n",
              "      <td>0</td>\n",
              "    </tr>\n",
              "    <tr>\n",
              "      <th>1</th>\n",
              "      <td>0</td>\n",
              "      <td>0</td>\n",
              "      <td>0</td>\n",
              "      <td>0</td>\n",
              "      <td>0</td>\n",
              "      <td>0</td>\n",
              "      <td>0</td>\n",
              "      <td>0</td>\n",
              "      <td>0</td>\n",
              "      <td>0</td>\n",
              "      <td>...</td>\n",
              "      <td>0</td>\n",
              "      <td>0</td>\n",
              "      <td>0</td>\n",
              "      <td>0</td>\n",
              "      <td>0</td>\n",
              "      <td>0</td>\n",
              "      <td>0</td>\n",
              "      <td>0</td>\n",
              "      <td>0</td>\n",
              "      <td>0</td>\n",
              "    </tr>\n",
              "    <tr>\n",
              "      <th>2</th>\n",
              "      <td>1</td>\n",
              "      <td>0</td>\n",
              "      <td>0</td>\n",
              "      <td>0</td>\n",
              "      <td>0</td>\n",
              "      <td>0</td>\n",
              "      <td>0</td>\n",
              "      <td>0</td>\n",
              "      <td>0</td>\n",
              "      <td>0</td>\n",
              "      <td>...</td>\n",
              "      <td>0</td>\n",
              "      <td>0</td>\n",
              "      <td>0</td>\n",
              "      <td>0</td>\n",
              "      <td>0</td>\n",
              "      <td>0</td>\n",
              "      <td>0</td>\n",
              "      <td>0</td>\n",
              "      <td>0</td>\n",
              "      <td>0</td>\n",
              "    </tr>\n",
              "    <tr>\n",
              "      <th>3</th>\n",
              "      <td>4</td>\n",
              "      <td>0</td>\n",
              "      <td>0</td>\n",
              "      <td>0</td>\n",
              "      <td>0</td>\n",
              "      <td>0</td>\n",
              "      <td>0</td>\n",
              "      <td>0</td>\n",
              "      <td>0</td>\n",
              "      <td>0</td>\n",
              "      <td>...</td>\n",
              "      <td>0</td>\n",
              "      <td>0</td>\n",
              "      <td>0</td>\n",
              "      <td>0</td>\n",
              "      <td>0</td>\n",
              "      <td>0</td>\n",
              "      <td>0</td>\n",
              "      <td>0</td>\n",
              "      <td>0</td>\n",
              "      <td>0</td>\n",
              "    </tr>\n",
              "    <tr>\n",
              "      <th>4</th>\n",
              "      <td>0</td>\n",
              "      <td>0</td>\n",
              "      <td>0</td>\n",
              "      <td>0</td>\n",
              "      <td>0</td>\n",
              "      <td>0</td>\n",
              "      <td>0</td>\n",
              "      <td>0</td>\n",
              "      <td>0</td>\n",
              "      <td>0</td>\n",
              "      <td>...</td>\n",
              "      <td>0</td>\n",
              "      <td>0</td>\n",
              "      <td>0</td>\n",
              "      <td>0</td>\n",
              "      <td>0</td>\n",
              "      <td>0</td>\n",
              "      <td>0</td>\n",
              "      <td>0</td>\n",
              "      <td>0</td>\n",
              "      <td>0</td>\n",
              "    </tr>\n",
              "    <tr>\n",
              "      <th>5</th>\n",
              "      <td>0</td>\n",
              "      <td>0</td>\n",
              "      <td>0</td>\n",
              "      <td>0</td>\n",
              "      <td>0</td>\n",
              "      <td>0</td>\n",
              "      <td>0</td>\n",
              "      <td>0</td>\n",
              "      <td>0</td>\n",
              "      <td>0</td>\n",
              "      <td>...</td>\n",
              "      <td>0</td>\n",
              "      <td>0</td>\n",
              "      <td>0</td>\n",
              "      <td>0</td>\n",
              "      <td>0</td>\n",
              "      <td>0</td>\n",
              "      <td>0</td>\n",
              "      <td>0</td>\n",
              "      <td>0</td>\n",
              "      <td>0</td>\n",
              "    </tr>\n",
              "    <tr>\n",
              "      <th>6</th>\n",
              "      <td>7</td>\n",
              "      <td>0</td>\n",
              "      <td>0</td>\n",
              "      <td>0</td>\n",
              "      <td>0</td>\n",
              "      <td>0</td>\n",
              "      <td>0</td>\n",
              "      <td>0</td>\n",
              "      <td>0</td>\n",
              "      <td>0</td>\n",
              "      <td>...</td>\n",
              "      <td>0</td>\n",
              "      <td>0</td>\n",
              "      <td>0</td>\n",
              "      <td>0</td>\n",
              "      <td>0</td>\n",
              "      <td>0</td>\n",
              "      <td>0</td>\n",
              "      <td>0</td>\n",
              "      <td>0</td>\n",
              "      <td>0</td>\n",
              "    </tr>\n",
              "    <tr>\n",
              "      <th>7</th>\n",
              "      <td>3</td>\n",
              "      <td>0</td>\n",
              "      <td>0</td>\n",
              "      <td>0</td>\n",
              "      <td>0</td>\n",
              "      <td>0</td>\n",
              "      <td>0</td>\n",
              "      <td>0</td>\n",
              "      <td>0</td>\n",
              "      <td>0</td>\n",
              "      <td>...</td>\n",
              "      <td>0</td>\n",
              "      <td>0</td>\n",
              "      <td>0</td>\n",
              "      <td>0</td>\n",
              "      <td>0</td>\n",
              "      <td>0</td>\n",
              "      <td>0</td>\n",
              "      <td>0</td>\n",
              "      <td>0</td>\n",
              "      <td>0</td>\n",
              "    </tr>\n",
              "    <tr>\n",
              "      <th>8</th>\n",
              "      <td>5</td>\n",
              "      <td>0</td>\n",
              "      <td>0</td>\n",
              "      <td>0</td>\n",
              "      <td>0</td>\n",
              "      <td>0</td>\n",
              "      <td>0</td>\n",
              "      <td>0</td>\n",
              "      <td>0</td>\n",
              "      <td>0</td>\n",
              "      <td>...</td>\n",
              "      <td>0</td>\n",
              "      <td>0</td>\n",
              "      <td>0</td>\n",
              "      <td>0</td>\n",
              "      <td>0</td>\n",
              "      <td>0</td>\n",
              "      <td>0</td>\n",
              "      <td>0</td>\n",
              "      <td>0</td>\n",
              "      <td>0</td>\n",
              "    </tr>\n",
              "    <tr>\n",
              "      <th>9</th>\n",
              "      <td>3</td>\n",
              "      <td>0</td>\n",
              "      <td>0</td>\n",
              "      <td>0</td>\n",
              "      <td>0</td>\n",
              "      <td>0</td>\n",
              "      <td>0</td>\n",
              "      <td>0</td>\n",
              "      <td>0</td>\n",
              "      <td>0</td>\n",
              "      <td>...</td>\n",
              "      <td>0</td>\n",
              "      <td>0</td>\n",
              "      <td>0</td>\n",
              "      <td>0</td>\n",
              "      <td>0</td>\n",
              "      <td>0</td>\n",
              "      <td>0</td>\n",
              "      <td>0</td>\n",
              "      <td>0</td>\n",
              "      <td>0</td>\n",
              "    </tr>\n",
              "  </tbody>\n",
              "</table>\n",
              "<p>10 rows × 785 columns</p>\n",
              "</div>\n",
              "    <div class=\"colab-df-buttons\">\n",
              "\n",
              "  <div class=\"colab-df-container\">\n",
              "    <button class=\"colab-df-convert\" onclick=\"convertToInteractive('df-64911ce8-4a86-4f11-95b9-d1f02996f680')\"\n",
              "            title=\"Convert this dataframe to an interactive table.\"\n",
              "            style=\"display:none;\">\n",
              "\n",
              "  <svg xmlns=\"http://www.w3.org/2000/svg\" height=\"24px\" viewBox=\"0 -960 960 960\">\n",
              "    <path d=\"M120-120v-720h720v720H120Zm60-500h600v-160H180v160Zm220 220h160v-160H400v160Zm0 220h160v-160H400v160ZM180-400h160v-160H180v160Zm440 0h160v-160H620v160ZM180-180h160v-160H180v160Zm440 0h160v-160H620v160Z\"/>\n",
              "  </svg>\n",
              "    </button>\n",
              "\n",
              "  <style>\n",
              "    .colab-df-container {\n",
              "      display:flex;\n",
              "      gap: 12px;\n",
              "    }\n",
              "\n",
              "    .colab-df-convert {\n",
              "      background-color: #E8F0FE;\n",
              "      border: none;\n",
              "      border-radius: 50%;\n",
              "      cursor: pointer;\n",
              "      display: none;\n",
              "      fill: #1967D2;\n",
              "      height: 32px;\n",
              "      padding: 0 0 0 0;\n",
              "      width: 32px;\n",
              "    }\n",
              "\n",
              "    .colab-df-convert:hover {\n",
              "      background-color: #E2EBFA;\n",
              "      box-shadow: 0px 1px 2px rgba(60, 64, 67, 0.3), 0px 1px 3px 1px rgba(60, 64, 67, 0.15);\n",
              "      fill: #174EA6;\n",
              "    }\n",
              "\n",
              "    .colab-df-buttons div {\n",
              "      margin-bottom: 4px;\n",
              "    }\n",
              "\n",
              "    [theme=dark] .colab-df-convert {\n",
              "      background-color: #3B4455;\n",
              "      fill: #D2E3FC;\n",
              "    }\n",
              "\n",
              "    [theme=dark] .colab-df-convert:hover {\n",
              "      background-color: #434B5C;\n",
              "      box-shadow: 0px 1px 3px 1px rgba(0, 0, 0, 0.15);\n",
              "      filter: drop-shadow(0px 1px 2px rgba(0, 0, 0, 0.3));\n",
              "      fill: #FFFFFF;\n",
              "    }\n",
              "  </style>\n",
              "\n",
              "    <script>\n",
              "      const buttonEl =\n",
              "        document.querySelector('#df-64911ce8-4a86-4f11-95b9-d1f02996f680 button.colab-df-convert');\n",
              "      buttonEl.style.display =\n",
              "        google.colab.kernel.accessAllowed ? 'block' : 'none';\n",
              "\n",
              "      async function convertToInteractive(key) {\n",
              "        const element = document.querySelector('#df-64911ce8-4a86-4f11-95b9-d1f02996f680');\n",
              "        const dataTable =\n",
              "          await google.colab.kernel.invokeFunction('convertToInteractive',\n",
              "                                                    [key], {});\n",
              "        if (!dataTable) return;\n",
              "\n",
              "        const docLinkHtml = 'Like what you see? Visit the ' +\n",
              "          '<a target=\"_blank\" href=https://colab.research.google.com/notebooks/data_table.ipynb>data table notebook</a>'\n",
              "          + ' to learn more about interactive tables.';\n",
              "        element.innerHTML = '';\n",
              "        dataTable['output_type'] = 'display_data';\n",
              "        await google.colab.output.renderOutput(dataTable, element);\n",
              "        const docLink = document.createElement('div');\n",
              "        docLink.innerHTML = docLinkHtml;\n",
              "        element.appendChild(docLink);\n",
              "      }\n",
              "    </script>\n",
              "  </div>\n",
              "\n",
              "\n",
              "<div id=\"df-9793718f-f69f-40e4-88a9-72f1707b93d7\">\n",
              "  <button class=\"colab-df-quickchart\" onclick=\"quickchart('df-9793718f-f69f-40e4-88a9-72f1707b93d7')\"\n",
              "            title=\"Suggest charts\"\n",
              "            style=\"display:none;\">\n",
              "\n",
              "<svg xmlns=\"http://www.w3.org/2000/svg\" height=\"24px\"viewBox=\"0 0 24 24\"\n",
              "     width=\"24px\">\n",
              "    <g>\n",
              "        <path d=\"M19 3H5c-1.1 0-2 .9-2 2v14c0 1.1.9 2 2 2h14c1.1 0 2-.9 2-2V5c0-1.1-.9-2-2-2zM9 17H7v-7h2v7zm4 0h-2V7h2v10zm4 0h-2v-4h2v4z\"/>\n",
              "    </g>\n",
              "</svg>\n",
              "  </button>\n",
              "\n",
              "<style>\n",
              "  .colab-df-quickchart {\n",
              "      --bg-color: #E8F0FE;\n",
              "      --fill-color: #1967D2;\n",
              "      --hover-bg-color: #E2EBFA;\n",
              "      --hover-fill-color: #174EA6;\n",
              "      --disabled-fill-color: #AAA;\n",
              "      --disabled-bg-color: #DDD;\n",
              "  }\n",
              "\n",
              "  [theme=dark] .colab-df-quickchart {\n",
              "      --bg-color: #3B4455;\n",
              "      --fill-color: #D2E3FC;\n",
              "      --hover-bg-color: #434B5C;\n",
              "      --hover-fill-color: #FFFFFF;\n",
              "      --disabled-bg-color: #3B4455;\n",
              "      --disabled-fill-color: #666;\n",
              "  }\n",
              "\n",
              "  .colab-df-quickchart {\n",
              "    background-color: var(--bg-color);\n",
              "    border: none;\n",
              "    border-radius: 50%;\n",
              "    cursor: pointer;\n",
              "    display: none;\n",
              "    fill: var(--fill-color);\n",
              "    height: 32px;\n",
              "    padding: 0;\n",
              "    width: 32px;\n",
              "  }\n",
              "\n",
              "  .colab-df-quickchart:hover {\n",
              "    background-color: var(--hover-bg-color);\n",
              "    box-shadow: 0 1px 2px rgba(60, 64, 67, 0.3), 0 1px 3px 1px rgba(60, 64, 67, 0.15);\n",
              "    fill: var(--button-hover-fill-color);\n",
              "  }\n",
              "\n",
              "  .colab-df-quickchart-complete:disabled,\n",
              "  .colab-df-quickchart-complete:disabled:hover {\n",
              "    background-color: var(--disabled-bg-color);\n",
              "    fill: var(--disabled-fill-color);\n",
              "    box-shadow: none;\n",
              "  }\n",
              "\n",
              "  .colab-df-spinner {\n",
              "    border: 2px solid var(--fill-color);\n",
              "    border-color: transparent;\n",
              "    border-bottom-color: var(--fill-color);\n",
              "    animation:\n",
              "      spin 1s steps(1) infinite;\n",
              "  }\n",
              "\n",
              "  @keyframes spin {\n",
              "    0% {\n",
              "      border-color: transparent;\n",
              "      border-bottom-color: var(--fill-color);\n",
              "      border-left-color: var(--fill-color);\n",
              "    }\n",
              "    20% {\n",
              "      border-color: transparent;\n",
              "      border-left-color: var(--fill-color);\n",
              "      border-top-color: var(--fill-color);\n",
              "    }\n",
              "    30% {\n",
              "      border-color: transparent;\n",
              "      border-left-color: var(--fill-color);\n",
              "      border-top-color: var(--fill-color);\n",
              "      border-right-color: var(--fill-color);\n",
              "    }\n",
              "    40% {\n",
              "      border-color: transparent;\n",
              "      border-right-color: var(--fill-color);\n",
              "      border-top-color: var(--fill-color);\n",
              "    }\n",
              "    60% {\n",
              "      border-color: transparent;\n",
              "      border-right-color: var(--fill-color);\n",
              "    }\n",
              "    80% {\n",
              "      border-color: transparent;\n",
              "      border-right-color: var(--fill-color);\n",
              "      border-bottom-color: var(--fill-color);\n",
              "    }\n",
              "    90% {\n",
              "      border-color: transparent;\n",
              "      border-bottom-color: var(--fill-color);\n",
              "    }\n",
              "  }\n",
              "</style>\n",
              "\n",
              "  <script>\n",
              "    async function quickchart(key) {\n",
              "      const quickchartButtonEl =\n",
              "        document.querySelector('#' + key + ' button');\n",
              "      quickchartButtonEl.disabled = true;  // To prevent multiple clicks.\n",
              "      quickchartButtonEl.classList.add('colab-df-spinner');\n",
              "      try {\n",
              "        const charts = await google.colab.kernel.invokeFunction(\n",
              "            'suggestCharts', [key], {});\n",
              "      } catch (error) {\n",
              "        console.error('Error during call to suggestCharts:', error);\n",
              "      }\n",
              "      quickchartButtonEl.classList.remove('colab-df-spinner');\n",
              "      quickchartButtonEl.classList.add('colab-df-quickchart-complete');\n",
              "    }\n",
              "    (() => {\n",
              "      let quickchartButtonEl =\n",
              "        document.querySelector('#df-9793718f-f69f-40e4-88a9-72f1707b93d7 button');\n",
              "      quickchartButtonEl.style.display =\n",
              "        google.colab.kernel.accessAllowed ? 'block' : 'none';\n",
              "    })();\n",
              "  </script>\n",
              "</div>\n",
              "\n",
              "    </div>\n",
              "  </div>\n"
            ],
            "application/vnd.google.colaboratory.intrinsic+json": {
              "type": "dataframe",
              "variable_name": "train_data"
            }
          },
          "metadata": {},
          "execution_count": 5
        }
      ]
    },
    {
      "cell_type": "code",
      "source": [
        "train_data.label.dtype"
      ],
      "metadata": {
        "colab": {
          "base_uri": "https://localhost:8080/"
        },
        "id": "v6rA_N4T3SDw",
        "outputId": "5681ac3a-82aa-4354-a5dc-9d96b2989976"
      },
      "execution_count": 6,
      "outputs": [
        {
          "output_type": "execute_result",
          "data": {
            "text/plain": [
              "dtype('int64')"
            ]
          },
          "metadata": {},
          "execution_count": 6
        }
      ]
    },
    {
      "cell_type": "code",
      "source": [
        "# balanced dataset\n",
        "label_counts  = train_data[\"label\"].value_counts().sort_index()\n",
        "label_counts.plot.bar()\n",
        "plt.hlines(xmin = -1, xmax = 10, y = 4000, linestyles='dotted')\n"
      ],
      "metadata": {
        "id": "Rqft4cQh_Q8Q",
        "colab": {
          "base_uri": "https://localhost:8080/",
          "height": 461
        },
        "outputId": "9f32415a-38e3-4c43-cfde-88c3eaa2b22e"
      },
      "execution_count": 4,
      "outputs": [
        {
          "output_type": "execute_result",
          "data": {
            "text/plain": [
              "<matplotlib.collections.LineCollection at 0x7d944bb56cb0>"
            ]
          },
          "metadata": {},
          "execution_count": 4
        },
        {
          "output_type": "display_data",
          "data": {
            "text/plain": [
              "<Figure size 640x480 with 1 Axes>"
            ],
            "image/png": "[encoded data removed]"
          },
          "metadata": {}
        }
      ]
    },
    {
      "cell_type": "markdown",
      "source": [
        "Split labels and features of training dataset and convert to numpy array:"
      ],
      "metadata": {
        "id": "7sdDlP1THflm"
      }
    },
    {
      "cell_type": "code",
      "source": [
        "train_all = train_data.iloc[:,1:]     # only features (pixels)\n",
        "train_all_label = train_data[\"label\"] # labels\n",
        "\n",
        "# convert to numpy array\n",
        "train_all_numpy = train_all.to_numpy()\n",
        "train_all_label_numpy = train_all_label.to_numpy()\n",
        "test_numpy = test.to_numpy()"
      ],
      "metadata": {
        "id": "Z1oUMY3BA1su"
      },
      "execution_count": 7,
      "outputs": []
    },
    {
      "cell_type": "markdown",
      "source": [
        "visualize some train examples with it's labels:"
      ],
      "metadata": {
        "id": "BbnrZMr9Hmli"
      }
    },
    {
      "cell_type": "code",
      "source": [
        "# unsigned int\n",
        "def plot_img(data, label):\n",
        "    fig, axs = plt.subplots(3, 3) # 9 images\n",
        "    k = 0\n",
        "    for i in range(3):\n",
        "        for j in range(3):\n",
        "            axs[i, j].imshow(data[k].astype('uint8').reshape(28, 28))   # plot image\n",
        "            axs[i, j].set_ylabel(\"label:\" + str(label[k].item()))       # print label\n",
        "            k +=1\n",
        "plot_img(train_all_numpy, train_all_label_numpy)"
      ],
      "metadata": {
        "id": "I8o0asPqA4gA",
        "colab": {
          "base_uri": "https://localhost:8080/",
          "height": 433
        },
        "outputId": "824223ed-4438-4cbb-80a2-1bcc51dd080a"
      },
      "execution_count": 9,
      "outputs": [
        {
          "output_type": "display_data",
          "data": {
            "text/plain": [
              "<Figure size 640x480 with 9 Axes>"
            ],
            "image/png": "[encoded data removed]"
          },
          "metadata": {}
        }
      ]
    },
    {
      "cell_type": "markdown",
      "source": [
        "###Train and validation\n",
        "check model on unseen data before submitting it.\n",
        "Since we don't have labels in test dataset, we will randomly split my training data on training and validation datasets in proportion 8:2.\n",
        "To do so, we will be using train_test_split function from sklearn module:"
      ],
      "metadata": {
        "id": "CuNtg1W_HqVO"
      }
    },
    {
      "cell_type": "code",
      "source": [
        "# split train on train and validation .. never use validation in back\n",
        "\n",
        "train, validation, train_label, validation_label = train_test_split(train_all_numpy, train_all_label_numpy, test_size=0.2)\n",
        "\n",
        "print(train.shape)\n",
        "print(train_label.shape)\n",
        "print(validation.shape)\n",
        "print(validation_label.shape)"
      ],
      "metadata": {
        "id": "e86V0pu1A7px",
        "colab": {
          "base_uri": "https://localhost:8080/"
        },
        "outputId": "9020a8dc-9504-46fa-e327-a6abfe34baf4"
      },
      "execution_count": 11,
      "outputs": [
        {
          "output_type": "stream",
          "name": "stdout",
          "text": [
            "(33600, 784)\n",
            "(33600,)\n",
            "(8400, 784)\n",
            "(8400,)\n"
          ]
        }
      ]
    },
    {
      "cell_type": "markdown",
      "source": [
        "Check if both datasets represent all classes in fair proportion:"
      ],
      "metadata": {
        "id": "RWtw63HyH8aH"
      }
    },
    {
      "cell_type": "code",
      "source": [
        "unique, counts_train = np.unique(train_label, return_counts=True)\n",
        "plt.subplot(1, 2, 1)\n",
        "plt.bar(unique, counts_train/len(train_label))\n",
        "unique, counts_val = np.unique(validation_label, return_counts=True)\n",
        "plt.subplot(1, 2, 2)\n",
        "plt.bar(unique, counts_val/len(validation_label))\n",
        "#print (np.asarray((unique, counts_train/len(train_label), counts_val/len(validation_label))).T)"
      ],
      "metadata": {
        "id": "VfEto8BbBB8-",
        "colab": {
          "base_uri": "https://localhost:8080/",
          "height": 447
        },
        "outputId": "8ee7fddd-805e-4ea9-c2ba-7c9d6e7dd7a8"
      },
      "execution_count": 12,
      "outputs": [
        {
          "output_type": "execute_result",
          "data": {
            "text/plain": [
              "<BarContainer object of 10 artists>"
            ]
          },
          "metadata": {},
          "execution_count": 12
        },
        {
          "output_type": "display_data",
          "data": {
            "text/plain": [
              "<Figure size 640x480 with 2 Axes>"
            ],
            "image/png": "[encoded data removed]"
          },
          "metadata": {}
        }
      ]
    },
    {
      "cell_type": "markdown",
      "source": [
        "###Tensors\n",
        "Tensor is a multi-dimensional matrix containing elements of a single data type. To use PyTorch, we need to covert our data to tensors."
      ],
      "metadata": {
        "id": "hpg7VrQNIIgK"
      }
    },
    {
      "cell_type": "code",
      "source": [
        "train_all_tensor = torch.as_tensor(train_all_numpy).type(torch.FloatTensor)\n",
        "train_all_label_tensor = torch.as_tensor(train_all_label_numpy)\n",
        "test_tensor = torch.as_tensor(test_numpy).type(torch.FloatTensor)\n",
        "\n",
        "train_tensor = torch.as_tensor(train).type(torch.FloatTensor)\n",
        "train_label = torch.as_tensor(train_label)\n",
        "\n",
        "validation_tensor = torch.as_tensor(validation).type(torch.FloatTensor)\n",
        "validation_label = torch.as_tensor(validation_label)"
      ],
      "metadata": {
        "id": "4bUYdHsbBE8E"
      },
      "execution_count": 13,
      "outputs": []
    },
    {
      "cell_type": "markdown",
      "source": [
        "###FNN\n",
        "Let's build the model"
      ],
      "metadata": {
        "id": "IO4Q_lF7Ib6c"
      }
    },
    {
      "cell_type": "code",
      "source": [
        "                   # nn.Module - Base class for all neural network modules.\n",
        "class FNet(nn.Module):\n",
        "    def __init__(self):\n",
        "        super(FNet, self).__init__()\n",
        "                   # 784 inputs, connects to hidden layer with 600 nodes\n",
        "        self.fc1 = nn.Linear(in_features=784, out_features=600)\n",
        "                   # 600 nodes connects to hidden layer with 500 nodes\n",
        "        self.fc2 = nn.Linear(in_features=600, out_features=500)\n",
        "                   # 500 nodes connects to hidden layer with 250 nodes\n",
        "        self.fc3 = nn.Linear(in_features=500, out_features=250)\n",
        "                   # connection between the last hidden layer\n",
        "                   # and the output layer (with 10 nodes)\n",
        "        self.fc4 = nn.Linear(in_features=250, out_features=10)\n",
        "\n",
        "    def forward(self, x):\n",
        "        x = x.view(-1,784)          # Put all the entries of the image in the vector\n",
        "        x = F.relu(self.fc1(x))     # Input x into first layer and apply a ReLU\n",
        "                                    # to the nodes in this layer\n",
        "        x = F.relu(self.fc2(x))\n",
        "        x = F.relu(self.fc3(x))\n",
        "        x = self.fc4(x)\n",
        "        return x"
      ],
      "metadata": {
        "id": "zcLlfTHaBLDf"
      },
      "execution_count": 14,
      "outputs": []
    },
    {
      "cell_type": "markdown",
      "source": [
        "###Layers\n",
        "A fully connected neural network consists of a series of fully connected layers.\n",
        "The first layer takes the 784 (28 x 28) input pixels and connects to the first 600 node hidden layer. Then we have 600 to 500 hidden layer, 500 to 250 hidden layer and in the end the connection between the last hidden layer and the output layer (with 10 nodes).\n",
        "\n",
        "input: 784 (image shape)\n",
        "3 hidden layers (600, 500, 250 nodes)\n",
        "output: 10 neurons for each possible class\n",
        "I use nn.Linear to constructs a fully connected layer. The first argument is the number of nodes in layer l and the next argument is the number of nodes in layer l+1.\n",
        "\n",
        "###Forward method\n",
        "First, I need to reshape tensor x, so I use the view function for it.\n",
        "Second, input data x into the first fully connected layer (self.fc1(x)) and then apply a ReLU activation to the nodes in this layer using. Because of the hierarchical nature of this network, we replace x at each stage, feeding it into the next layer.\n",
        "We do this through our three fully connected layers, except for the last one.\n",
        "As activation function, I am using ReLU (The Rectified Linear Unit). It gives an output 0 if x is negative and x otherwise. The purpose of the activation function is to introduce non-linearity into the network (non-linear means that the output can not be reproduced from a linear combination of the inputs). To do it in code, I am using F.relu - applies the rectified linear unit function element-wise.\n",
        "\n"
      ],
      "metadata": {
        "id": "n_U2RrPxIgrS"
      }
    },
    {
      "cell_type": "markdown",
      "source": [
        "###Accuracy\n",
        "Before start the training process, let's define an accuracy function.\n",
        "#####Accuracy - fraction of the time classifier is correct."
      ],
      "metadata": {
        "id": "mHncgiDvJDfb"
      }
    },
    {
      "cell_type": "code",
      "source": [
        "def get_accuracy(predictions, true_labels):\n",
        "    _, predicted = torch.max(predictions, 1)\n",
        "    corrects = (predicted == true_labels).sum()\n",
        "    accuracy = 100.0 * corrects/len(true_labels)\n",
        "    return accuracy.item()"
      ],
      "metadata": {
        "id": "ZfAtxL9CBP18"
      },
      "execution_count": 15,
      "outputs": []
    },
    {
      "cell_type": "markdown",
      "source": [
        "###Training function\n",
        "###Training process:\n",
        "\n",
        "1.   Do a forward pass\n",
        "2.   Calculate loss function\n",
        "3.   Calculate the gradients\n",
        "4.   Change the weights based on gradients\n",
        "\n",
        "The entire training of the network is based on minimizing the loss function. An optimizer determines, based on the loss function, how each parameter should change.\n",
        "The optimizer solves the credit assignment problem: how do we assign credit to the parameters when the network performs poorly?"
      ],
      "metadata": {
        "id": "xDYLAij2JS5Q"
      }
    },
    {
      "cell_type": "code",
      "source": [
        "#@title Using GPU for faster training\n",
        "cuda = torch.cuda.is_available()\n",
        "cuda"
      ],
      "metadata": {
        "id": "zriUaBkgXNok",
        "colab": {
          "base_uri": "https://localhost:8080/"
        },
        "outputId": "eb3e74d3-f610-49de-ba02-182724d120d3"
      },
      "execution_count": 16,
      "outputs": [
        {
          "output_type": "execute_result",
          "data": {
            "text/plain": [
              "False"
            ]
          },
          "metadata": {},
          "execution_count": 16
        }
      ]
    },
    {
      "cell_type": "code",
      "source": [
        "def training (dataloader, epochs, model, criterion, optimizer):\n",
        "\n",
        "    train_accuracies, train_losses = [], []\n",
        "\n",
        "    # set the train mode # automaite gradient state tracking is set to ON  ;; eval mode will be set to OFF\n",
        "    model.train()\n",
        "    if cuda:\n",
        "      model.to(\"cuda\")\n",
        "\n",
        "    # loop over training dataset multiple times\n",
        "    for epoch in range(epochs):\n",
        "\n",
        "        train_loss = 0\n",
        "        train_accuracy = 0\n",
        "        num_batch = 0\n",
        "\n",
        "        # iterate over all batches\n",
        "        for data, labels in dataloader:\n",
        "\n",
        "            # put all tensors on GPU\n",
        "            if cuda:\n",
        "              data = data.to(\"cuda\")\n",
        "              labels = labels.to(\"cuda\")\n",
        "\n",
        "            # zero the parameters gradient to not accumulate gradients from previous iteration\n",
        "            optimizer.zero_grad()\n",
        "\n",
        "            # put data into the model\n",
        "            predictions = net(data)\n",
        "\n",
        "            # calculate loss\n",
        "            loss = criterion(predictions, labels)\n",
        "\n",
        "            # calculate accuracy\n",
        "            accurasy = get_accuracy(predictions, labels)\n",
        "\n",
        "            # compute gradients # chain rule\n",
        "            loss.backward()\n",
        "\n",
        "            # change the weights\n",
        "            optimizer.step()\n",
        "\n",
        "            num_batch += 1\n",
        "            train_loss += loss.item()\n",
        "            train_accuracy += accurasy\n",
        "\n",
        "        epoch_accuracy = train_accuracy/num_batch\n",
        "        epoch_loss = train_loss/num_batch\n",
        "        train_accuracies.append(epoch_accuracy)\n",
        "        train_losses.append(epoch_loss)\n",
        "\n",
        "        print(\"Epoch: {}/{} \".format(epoch + 1, epochs),\n",
        "              \"Training Loss: {:.4f} \".format(epoch_loss),\n",
        "              \"Training accuracy: {:.4f}\".format(epoch_accuracy))\n",
        "\n",
        "    return train_accuracies, train_losses"
      ],
      "metadata": {
        "id": "aji_0kUfBWxU"
      },
      "execution_count": 17,
      "outputs": []
    },
    {
      "cell_type": "code",
      "source": [
        "torch.manual_seed(0)                                      # set seed to make results reproducible\n",
        "\n",
        "batch_size = 128                                          # Set the batch_size\n",
        "train_dataset = torch.utils.data.TensorDataset(train_tensor, train_label)\n",
        "trainloader = torch.utils.data.DataLoader(train_dataset, batch_size = batch_size, shuffle = True)\n",
        "\n",
        "\n",
        "epochs = 40                                               # set number of epohs\n",
        "\n",
        "net = FNet()                                              # initialize network\n",
        "criterion = nn.CrossEntropyLoss()                         # set criterion\n",
        "optimizer = torch.optim.Adam(net.parameters(), lr = 3e-4) # set optimizer\n",
        "\n",
        "                                                          # start training process\n",
        "train_accuracies, train_losses = training(trainloader, epochs, net, criterion, optimizer)"
      ],
      "metadata": {
        "id": "oKbr7uWGBcPE",
        "colab": {
          "base_uri": "https://localhost:8080/"
        },
        "outputId": "b84ee964-b493-4d35-e5a5-8d4f859674f2"
      },
      "execution_count": 18,
      "outputs": [
        {
          "output_type": "stream",
          "name": "stdout",
          "text": [
            "Epoch: 1/40  Training Loss: 0.3021  Training accuracy: 91.3231\n",
            "Epoch: 2/40  Training Loss: 0.0886  Training accuracy: 97.3028\n",
            "Epoch: 3/40  Training Loss: 0.0544  Training accuracy: 98.1761\n",
            "Epoch: 4/40  Training Loss: 0.0307  Training accuracy: 99.0019\n",
            "Epoch: 5/40  Training Loss: 0.0356  Training accuracy: 98.8890\n",
            "Epoch: 6/40  Training Loss: 0.0293  Training accuracy: 99.0524\n",
            "Epoch: 7/40  Training Loss: 0.0284  Training accuracy: 99.0346\n",
            "Epoch: 8/40  Training Loss: 0.0172  Training accuracy: 99.4356\n",
            "Epoch: 9/40  Training Loss: 0.0244  Training accuracy: 99.2009\n",
            "Epoch: 10/40  Training Loss: 0.0183  Training accuracy: 99.3762\n",
            "Epoch: 11/40  Training Loss: 0.0187  Training accuracy: 99.4594\n",
            "Epoch: 12/40  Training Loss: 0.0190  Training accuracy: 99.4297\n",
            "Epoch: 13/40  Training Loss: 0.0140  Training accuracy: 99.5663\n",
            "Epoch: 14/40  Training Loss: 0.0215  Training accuracy: 99.3376\n",
            "Epoch: 15/40  Training Loss: 0.0197  Training accuracy: 99.3435\n",
            "Epoch: 16/40  Training Loss: 0.0160  Training accuracy: 99.5158\n",
            "Epoch: 17/40  Training Loss: 0.0166  Training accuracy: 99.5069\n",
            "Epoch: 18/40  Training Loss: 0.0155  Training accuracy: 99.5455\n",
            "Epoch: 19/40  Training Loss: 0.0082  Training accuracy: 99.7505\n",
            "Epoch: 20/40  Training Loss: 0.0113  Training accuracy: 99.6703\n",
            "Epoch: 21/40  Training Loss: 0.0156  Training accuracy: 99.5425\n",
            "Epoch: 22/40  Training Loss: 0.0175  Training accuracy: 99.5544\n",
            "Epoch: 23/40  Training Loss: 0.0206  Training accuracy: 99.4742\n",
            "Epoch: 24/40  Training Loss: 0.0121  Training accuracy: 99.6465\n",
            "Epoch: 25/40  Training Loss: 0.0063  Training accuracy: 99.8069\n",
            "Epoch: 26/40  Training Loss: 0.0040  Training accuracy: 99.8693\n",
            "Epoch: 27/40  Training Loss: 0.0083  Training accuracy: 99.7980\n",
            "Epoch: 28/40  Training Loss: 0.0134  Training accuracy: 99.6465\n",
            "Epoch: 29/40  Training Loss: 0.0121  Training accuracy: 99.6406\n",
            "Epoch: 30/40  Training Loss: 0.0131  Training accuracy: 99.6376\n",
            "Epoch: 31/40  Training Loss: 0.0103  Training accuracy: 99.7713\n",
            "Epoch: 32/40  Training Loss: 0.0053  Training accuracy: 99.8426\n",
            "Epoch: 33/40  Training Loss: 0.0068  Training accuracy: 99.8426\n",
            "Epoch: 34/40  Training Loss: 0.0036  Training accuracy: 99.8871\n",
            "Epoch: 35/40  Training Loss: 0.0223  Training accuracy: 99.4386\n",
            "Epoch: 36/40  Training Loss: 0.0113  Training accuracy: 99.6851\n",
            "Epoch: 37/40  Training Loss: 0.0113  Training accuracy: 99.6970\n",
            "Epoch: 38/40  Training Loss: 0.0052  Training accuracy: 99.8574\n",
            "Epoch: 39/40  Training Loss: 0.0040  Training accuracy: 99.8901\n",
            "Epoch: 40/40  Training Loss: 0.0097  Training accuracy: 99.7713\n"
          ]
        }
      ]
    },
    {
      "cell_type": "code",
      "source": [
        "def train_curves(epochs, train_losses, train_accuracies):\n",
        "    iters = range(1, epochs+1)\n",
        "    fig, (ax1, ax2) = plt.subplots(ncols=2, figsize=(15, 5))\n",
        "    fig.suptitle('Training Curve')\n",
        "    ax1.plot(iters, train_losses)\n",
        "    ax1.set_xlabel(\"Iterations\")\n",
        "    ax1.set_ylabel(\"Loss\")\n",
        "    ax2.plot(iters, train_accuracies, color = 'g')\n",
        "    ax2.set_xlabel(\"Iterations\")\n",
        "    ax2.set_ylabel(\"Training Accuracy\")\n",
        "    plt.show()\n",
        "\n",
        "train_curves(epochs, train_losses, train_accuracies)"
      ],
      "metadata": {
        "id": "9iF61Cn9Beum",
        "colab": {
          "base_uri": "https://localhost:8080/",
          "height": 514
        },
        "outputId": "982423dc-31bb-45c2-9802-66309c58f90a"
      },
      "execution_count": 19,
      "outputs": [
        {
          "output_type": "display_data",
          "data": {
            "text/plain": [
              "<Figure size 1500x500 with 2 Axes>"
            ],
            "image/png": "[encoded data removed]"
          },
          "metadata": {}
        }
      ]
    },
    {
      "cell_type": "code",
      "source": [
        "from sklearn.metrics import confusion_matrix"
      ],
      "metadata": {
        "id": "OyYdyI3CD4hd"
      },
      "execution_count": 20,
      "outputs": []
    },
    {
      "cell_type": "code",
      "source": [
        "# set net in test (evaluation) mode\n",
        "net.eval()\n",
        "# Putting the model back on CPU\n",
        "if cuda:\n",
        "  net = net.cpu()\n",
        "# get predictions\n",
        "val_predictions = net(validation_tensor)\n",
        "val_loss = criterion(val_predictions, validation_label)\n",
        "val_accurasy = get_accuracy(val_predictions, validation_label)\n",
        "\n",
        "print(\"Loss: \", str(val_loss.item()), \"Accuracy: \", str(val_accurasy))\n",
        "\n",
        "# to get class with the maximum score as prediction\n",
        "_, val_predicted = torch.max(val_predictions.data,1)\n",
        "\n",
        "# confusion matrix\n",
        "confusion_matrix(validation_label, val_predicted)"
      ],
      "metadata": {
        "id": "cyGpNu1OCoJz",
        "colab": {
          "base_uri": "https://localhost:8080/"
        },
        "outputId": "156c979f-2505-4903-e2c5-4996796bf501"
      },
      "execution_count": 21,
      "outputs": [
        {
          "output_type": "stream",
          "name": "stdout",
          "text": [
            "Loss:  0.21115818619728088 Accuracy:  97.01190185546875\n"
          ]
        },
        {
          "output_type": "execute_result",
          "data": {
            "text/plain": [
              "array([[827,   0,   1,   2,   0,   1,   4,   0,   1,   0],\n",
              "       [  0, 938,   2,   1,   1,   0,   0,   2,   2,   1],\n",
              "       [  2,   0, 783,   5,   1,   1,   0,   7,   5,   0],\n",
              "       [  0,   0,   6, 823,   0,  44,   0,   4,   9,   2],\n",
              "       [  2,   0,   4,   0, 773,   1,   6,   0,   5,  18],\n",
              "       [  3,   0,   0,   3,   1, 752,   4,   0,   4,   1],\n",
              "       [  3,   0,   0,   0,   2,   8, 794,   1,   1,   0],\n",
              "       [  1,   3,   2,   1,   2,   1,   0, 864,   2,  11],\n",
              "       [  0,   4,   3,   3,   1,  16,   1,   2, 773,   4],\n",
              "       [  1,   1,   0,   4,   5,   6,   1,   1,   4, 822]])"
            ]
          },
          "metadata": {},
          "execution_count": 21
        }
      ]
    },
    {
      "cell_type": "code",
      "source": [
        "plot_img(validation, val_predicted)"
      ],
      "metadata": {
        "id": "5wJyy8o6CsXU",
        "colab": {
          "base_uri": "https://localhost:8080/",
          "height": 433
        },
        "outputId": "123916e0-c9b5-4047-cf12-481cf4c68f80"
      },
      "execution_count": 22,
      "outputs": [
        {
          "output_type": "display_data",
          "data": {
            "text/plain": [
              "<Figure size 640x480 with 9 Axes>"
            ],
            "image/png": "[encoded data removed]"
          },
          "metadata": {}
        }
      ]
    },
    {
      "cell_type": "code",
      "source": [
        "# wrong predicted\n",
        "\n",
        "val_wrong = validation[validation_label != val_predicted]\n",
        "val_lab_wrong = val_predicted[validation_label != val_predicted]\n",
        "\n",
        "plot_img(val_wrong, val_lab_wrong)"
      ],
      "metadata": {
        "id": "8iAjfJmPEiPI",
        "colab": {
          "base_uri": "https://localhost:8080/",
          "height": 433
        },
        "outputId": "8c0b4083-c25a-4a4b-dc95-6546d2c3db47"
      },
      "execution_count": 23,
      "outputs": [
        {
          "output_type": "display_data",
          "data": {
            "text/plain": [
              "<Figure size 640x480 with 9 Axes>"
            ],
            "image/png": "[encoded data removed]"
          },
          "metadata": {}
        }
      ]
    },
    {
      "cell_type": "code",
      "source": [
        "torch.manual_seed(0)                                      # set seed to make results reproducible\n",
        "\n",
        "batch_size = 128                                          # Set the batch_size\n",
        "train_all_dataset = torch.utils.data.TensorDataset(train_all_tensor, train_all_label_tensor)\n",
        "trainloader = torch.utils.data.DataLoader(train_dataset, batch_size = batch_size, shuffle = True)\n",
        "\n",
        "epochs = 40                                               # set number of epohs\n",
        "\n",
        "net = FNet()                                              # initialize network\n",
        "criterion = nn.CrossEntropyLoss()                         # set criterion\n",
        "optimizer = torch.optim.Adam(net.parameters(), lr = 3e-4) # set optimizer\n",
        "\n",
        "                                                          # start training process\n",
        "train_accuracies, train_losses = training(trainloader, epochs, net, criterion, optimizer)"
      ],
      "metadata": {
        "id": "td-OG2YWEmRH",
        "colab": {
          "base_uri": "https://localhost:8080/"
        },
        "outputId": "2d38327e-9fce-4684-831d-a88e74b38e89"
      },
      "execution_count": 24,
      "outputs": [
        {
          "output_type": "stream",
          "name": "stdout",
          "text": [
            "Epoch: 1/40  Training Loss: 0.3021  Training accuracy: 91.3231\n",
            "Epoch: 2/40  Training Loss: 0.0886  Training accuracy: 97.3028\n",
            "Epoch: 3/40  Training Loss: 0.0544  Training accuracy: 98.1761\n",
            "Epoch: 4/40  Training Loss: 0.0307  Training accuracy: 99.0019\n",
            "Epoch: 5/40  Training Loss: 0.0356  Training accuracy: 98.8890\n",
            "Epoch: 6/40  Training Loss: 0.0293  Training accuracy: 99.0524\n",
            "Epoch: 7/40  Training Loss: 0.0284  Training accuracy: 99.0346\n",
            "Epoch: 8/40  Training Loss: 0.0172  Training accuracy: 99.4356\n",
            "Epoch: 9/40  Training Loss: 0.0244  Training accuracy: 99.2009\n",
            "Epoch: 10/40  Training Loss: 0.0183  Training accuracy: 99.3762\n",
            "Epoch: 11/40  Training Loss: 0.0187  Training accuracy: 99.4594\n",
            "Epoch: 12/40  Training Loss: 0.0190  Training accuracy: 99.4297\n",
            "Epoch: 13/40  Training Loss: 0.0140  Training accuracy: 99.5663\n",
            "Epoch: 14/40  Training Loss: 0.0215  Training accuracy: 99.3376\n",
            "Epoch: 15/40  Training Loss: 0.0197  Training accuracy: 99.3435\n",
            "Epoch: 16/40  Training Loss: 0.0160  Training accuracy: 99.5158\n",
            "Epoch: 17/40  Training Loss: 0.0166  Training accuracy: 99.5069\n",
            "Epoch: 18/40  Training Loss: 0.0155  Training accuracy: 99.5455\n",
            "Epoch: 19/40  Training Loss: 0.0082  Training accuracy: 99.7505\n",
            "Epoch: 20/40  Training Loss: 0.0113  Training accuracy: 99.6703\n",
            "Epoch: 21/40  Training Loss: 0.0156  Training accuracy: 99.5425\n",
            "Epoch: 22/40  Training Loss: 0.0175  Training accuracy: 99.5544\n",
            "Epoch: 23/40  Training Loss: 0.0206  Training accuracy: 99.4742\n",
            "Epoch: 24/40  Training Loss: 0.0121  Training accuracy: 99.6465\n",
            "Epoch: 25/40  Training Loss: 0.0063  Training accuracy: 99.8069\n",
            "Epoch: 26/40  Training Loss: 0.0040  Training accuracy: 99.8693\n",
            "Epoch: 27/40  Training Loss: 0.0083  Training accuracy: 99.7980\n",
            "Epoch: 28/40  Training Loss: 0.0134  Training accuracy: 99.6465\n",
            "Epoch: 29/40  Training Loss: 0.0121  Training accuracy: 99.6406\n",
            "Epoch: 30/40  Training Loss: 0.0131  Training accuracy: 99.6376\n",
            "Epoch: 31/40  Training Loss: 0.0103  Training accuracy: 99.7713\n",
            "Epoch: 32/40  Training Loss: 0.0053  Training accuracy: 99.8426\n",
            "Epoch: 33/40  Training Loss: 0.0068  Training accuracy: 99.8426\n",
            "Epoch: 34/40  Training Loss: 0.0036  Training accuracy: 99.8871\n",
            "Epoch: 35/40  Training Loss: 0.0223  Training accuracy: 99.4386\n",
            "Epoch: 36/40  Training Loss: 0.0113  Training accuracy: 99.6851\n",
            "Epoch: 37/40  Training Loss: 0.0113  Training accuracy: 99.6970\n",
            "Epoch: 38/40  Training Loss: 0.0052  Training accuracy: 99.8574\n",
            "Epoch: 39/40  Training Loss: 0.0040  Training accuracy: 99.8901\n",
            "Epoch: 40/40  Training Loss: 0.0097  Training accuracy: 99.7713\n"
          ]
        }
      ]
    },
    {
      "cell_type": "code",
      "source": [
        "train_curves(epochs, train_losses, train_accuracies)"
      ],
      "metadata": {
        "id": "NE-Euki8ExS4",
        "colab": {
          "base_uri": "https://localhost:8080/",
          "height": 514
        },
        "outputId": "e2b305cc-f81b-45d4-e03c-3ac1260bf3ff"
      },
      "execution_count": 25,
      "outputs": [
        {
          "output_type": "display_data",
          "data": {
            "text/plain": [
              "<Figure size 1500x500 with 2 Axes>"
            ],
            "image/png": "[encoded data removed]"
          },
          "metadata": {}
        }
      ]
    },
    {
      "cell_type": "code",
      "source": [
        "# set net in test (evaluation) mode\n",
        "net.eval()\n",
        "net = net.cpu()\n",
        "\n",
        "# get predictions for test data\n",
        "test_predictions = net(test_tensor)\n",
        "\n",
        "# to get class with the maximum score as prediction\n",
        "_, test_predicted = torch.max(test_predictions.data,1)\n",
        "\n",
        "# Save results in the required format\n",
        "output = pd.DataFrame({'ImageId': test.index + 1,\n",
        "                       'Label': test_predicted})\n",
        "output.head(20)"
      ],
      "metadata": {
        "id": "GwKe5bELGH3T",
        "colab": {
          "base_uri": "https://localhost:8080/",
          "height": 676
        },
        "outputId": "52ea9c2e-c941-4283-9f6f-f805411f5244"
      },
      "execution_count": 26,
      "outputs": [
        {
          "output_type": "execute_result",
          "data": {
            "text/plain": [
              "    ImageId  Label\n",
              "0         1      2\n",
              "1         2      0\n",
              "2         3      9\n",
              "3         4      0\n",
              "4         5      3\n",
              "5         6      7\n",
              "6         7      0\n",
              "7         8      3\n",
              "8         9      0\n",
              "9        10      3\n",
              "10       11      5\n",
              "11       12      7\n",
              "12       13      4\n",
              "13       14      0\n",
              "14       15      4\n",
              "15       16      5\n",
              "16       17      3\n",
              "17       18      1\n",
              "18       19      9\n",
              "19       20      0"
            ],
            "text/html": [
              "\n",
              "  <div id=\"df-d7efc0bc-deff-441c-b754-2b544dbd33b5\" class=\"colab-df-container\">\n",
              "    <div>\n",
              "<style scoped>\n",
              "    .dataframe tbody tr th:only-of-type {\n",
              "        vertical-align: middle;\n",
              "    }\n",
              "\n",
              "    .dataframe tbody tr th {\n",
              "        vertical-align: top;\n",
              "    }\n",
              "\n",
              "    .dataframe thead th {\n",
              "        text-align: right;\n",
              "    }\n",
              "</style>\n",
              "<table border=\"1\" class=\"dataframe\">\n",
              "  <thead>\n",
              "    <tr style=\"text-align: right;\">\n",
              "      <th></th>\n",
              "      <th>ImageId</th>\n",
              "      <th>Label</th>\n",
              "    </tr>\n",
              "  </thead>\n",
              "  <tbody>\n",
              "    <tr>\n",
              "      <th>0</th>\n",
              "      <td>1</td>\n",
              "      <td>2</td>\n",
              "    </tr>\n",
              "    <tr>\n",
              "      <th>1</th>\n",
              "      <td>2</td>\n",
              "      <td>0</td>\n",
              "    </tr>\n",
              "    <tr>\n",
              "      <th>2</th>\n",
              "      <td>3</td>\n",
              "      <td>9</td>\n",
              "    </tr>\n",
              "    <tr>\n",
              "      <th>3</th>\n",
              "      <td>4</td>\n",
              "      <td>0</td>\n",
              "    </tr>\n",
              "    <tr>\n",
              "      <th>4</th>\n",
              "      <td>5</td>\n",
              "      <td>3</td>\n",
              "    </tr>\n",
              "    <tr>\n",
              "      <th>5</th>\n",
              "      <td>6</td>\n",
              "      <td>7</td>\n",
              "    </tr>\n",
              "    <tr>\n",
              "      <th>6</th>\n",
              "      <td>7</td>\n",
              "      <td>0</td>\n",
              "    </tr>\n",
              "    <tr>\n",
              "      <th>7</th>\n",
              "      <td>8</td>\n",
              "      <td>3</td>\n",
              "    </tr>\n",
              "    <tr>\n",
              "      <th>8</th>\n",
              "      <td>9</td>\n",
              "      <td>0</td>\n",
              "    </tr>\n",
              "    <tr>\n",
              "      <th>9</th>\n",
              "      <td>10</td>\n",
              "      <td>3</td>\n",
              "    </tr>\n",
              "    <tr>\n",
              "      <th>10</th>\n",
              "      <td>11</td>\n",
              "      <td>5</td>\n",
              "    </tr>\n",
              "    <tr>\n",
              "      <th>11</th>\n",
              "      <td>12</td>\n",
              "      <td>7</td>\n",
              "    </tr>\n",
              "    <tr>\n",
              "      <th>12</th>\n",
              "      <td>13</td>\n",
              "      <td>4</td>\n",
              "    </tr>\n",
              "    <tr>\n",
              "      <th>13</th>\n",
              "      <td>14</td>\n",
              "      <td>0</td>\n",
              "    </tr>\n",
              "    <tr>\n",
              "      <th>14</th>\n",
              "      <td>15</td>\n",
              "      <td>4</td>\n",
              "    </tr>\n",
              "    <tr>\n",
              "      <th>15</th>\n",
              "      <td>16</td>\n",
              "      <td>5</td>\n",
              "    </tr>\n",
              "    <tr>\n",
              "      <th>16</th>\n",
              "      <td>17</td>\n",
              "      <td>3</td>\n",
              "    </tr>\n",
              "    <tr>\n",
              "      <th>17</th>\n",
              "      <td>18</td>\n",
              "      <td>1</td>\n",
              "    </tr>\n",
              "    <tr>\n",
              "      <th>18</th>\n",
              "      <td>19</td>\n",
              "      <td>9</td>\n",
              "    </tr>\n",
              "    <tr>\n",
              "      <th>19</th>\n",
              "      <td>20</td>\n",
              "      <td>0</td>\n",
              "    </tr>\n",
              "  </tbody>\n",
              "</table>\n",
              "</div>\n",
              "    <div class=\"colab-df-buttons\">\n",
              "\n",
              "  <div class=\"colab-df-container\">\n",
              "    <button class=\"colab-df-convert\" onclick=\"convertToInteractive('df-d7efc0bc-deff-441c-b754-2b544dbd33b5')\"\n",
              "            title=\"Convert this dataframe to an interactive table.\"\n",
              "            style=\"display:none;\">\n",
              "\n",
              "  <svg xmlns=\"http://www.w3.org/2000/svg\" height=\"24px\" viewBox=\"0 -960 960 960\">\n",
              "    <path d=\"M120-120v-720h720v720H120Zm60-500h600v-160H180v160Zm220 220h160v-160H400v160Zm0 220h160v-160H400v160ZM180-400h160v-160H180v160Zm440 0h160v-160H620v160ZM180-180h160v-160H180v160Zm440 0h160v-160H620v160Z\"/>\n",
              "  </svg>\n",
              "    </button>\n",
              "\n",
              "  <style>\n",
              "    .colab-df-container {\n",
              "      display:flex;\n",
              "      gap: 12px;\n",
              "    }\n",
              "\n",
              "    .colab-df-convert {\n",
              "      background-color: #E8F0FE;\n",
              "      border: none;\n",
              "      border-radius: 50%;\n",
              "      cursor: pointer;\n",
              "      display: none;\n",
              "      fill: #1967D2;\n",
              "      height: 32px;\n",
              "      padding: 0 0 0 0;\n",
              "      width: 32px;\n",
              "    }\n",
              "\n",
              "    .colab-df-convert:hover {\n",
              "      background-color: #E2EBFA;\n",
              "      box-shadow: 0px 1px 2px rgba(60, 64, 67, 0.3), 0px 1px 3px 1px rgba(60, 64, 67, 0.15);\n",
              "      fill: #174EA6;\n",
              "    }\n",
              "\n",
              "    .colab-df-buttons div {\n",
              "      margin-bottom: 4px;\n",
              "    }\n",
              "\n",
              "    [theme=dark] .colab-df-convert {\n",
              "      background-color: #3B4455;\n",
              "      fill: #D2E3FC;\n",
              "    }\n",
              "\n",
              "    [theme=dark] .colab-df-convert:hover {\n",
              "      background-color: #434B5C;\n",
              "      box-shadow: 0px 1px 3px 1px rgba(0, 0, 0, 0.15);\n",
              "      filter: drop-shadow(0px 1px 2px rgba(0, 0, 0, 0.3));\n",
              "      fill: #FFFFFF;\n",
              "    }\n",
              "  </style>\n",
              "\n",
              "    <script>\n",
              "      const buttonEl =\n",
              "        document.querySelector('#df-d7efc0bc-deff-441c-b754-2b544dbd33b5 button.colab-df-convert');\n",
              "      buttonEl.style.display =\n",
              "        google.colab.kernel.accessAllowed ? 'block' : 'none';\n",
              "\n",
              "      async function convertToInteractive(key) {\n",
              "        const element = document.querySelector('#df-d7efc0bc-deff-441c-b754-2b544dbd33b5');\n",
              "        const dataTable =\n",
              "          await google.colab.kernel.invokeFunction('convertToInteractive',\n",
              "                                                    [key], {});\n",
              "        if (!dataTable) return;\n",
              "\n",
              "        const docLinkHtml = 'Like what you see? Visit the ' +\n",
              "          '<a target=\"_blank\" href=https://colab.research.google.com/notebooks/data_table.ipynb>data table notebook</a>'\n",
              "          + ' to learn more about interactive tables.';\n",
              "        element.innerHTML = '';\n",
              "        dataTable['output_type'] = 'display_data';\n",
              "        await google.colab.output.renderOutput(dataTable, element);\n",
              "        const docLink = document.createElement('div');\n",
              "        docLink.innerHTML = docLinkHtml;\n",
              "        element.appendChild(docLink);\n",
              "      }\n",
              "    </script>\n",
              "  </div>\n",
              "\n",
              "\n",
              "<div id=\"df-531fbc5a-0e6d-4889-a556-cb169829d885\">\n",
              "  <button class=\"colab-df-quickchart\" onclick=\"quickchart('df-531fbc5a-0e6d-4889-a556-cb169829d885')\"\n",
              "            title=\"Suggest charts\"\n",
              "            style=\"display:none;\">\n",
              "\n",
              "<svg xmlns=\"http://www.w3.org/2000/svg\" height=\"24px\"viewBox=\"0 0 24 24\"\n",
              "     width=\"24px\">\n",
              "    <g>\n",
              "        <path d=\"M19 3H5c-1.1 0-2 .9-2 2v14c0 1.1.9 2 2 2h14c1.1 0 2-.9 2-2V5c0-1.1-.9-2-2-2zM9 17H7v-7h2v7zm4 0h-2V7h2v10zm4 0h-2v-4h2v4z\"/>\n",
              "    </g>\n",
              "</svg>\n",
              "  </button>\n",
              "\n",
              "<style>\n",
              "  .colab-df-quickchart {\n",
              "      --bg-color: #E8F0FE;\n",
              "      --fill-color: #1967D2;\n",
              "      --hover-bg-color: #E2EBFA;\n",
              "      --hover-fill-color: #174EA6;\n",
              "      --disabled-fill-color: #AAA;\n",
              "      --disabled-bg-color: #DDD;\n",
              "  }\n",
              "\n",
              "  [theme=dark] .colab-df-quickchart {\n",
              "      --bg-color: #3B4455;\n",
              "      --fill-color: #D2E3FC;\n",
              "      --hover-bg-color: #434B5C;\n",
              "      --hover-fill-color: #FFFFFF;\n",
              "      --disabled-bg-color: #3B4455;\n",
              "      --disabled-fill-color: #666;\n",
              "  }\n",
              "\n",
              "  .colab-df-quickchart {\n",
              "    background-color: var(--bg-color);\n",
              "    border: none;\n",
              "    border-radius: 50%;\n",
              "    cursor: pointer;\n",
              "    display: none;\n",
              "    fill: var(--fill-color);\n",
              "    height: 32px;\n",
              "    padding: 0;\n",
              "    width: 32px;\n",
              "  }\n",
              "\n",
              "  .colab-df-quickchart:hover {\n",
              "    background-color: var(--hover-bg-color);\n",
              "    box-shadow: 0 1px 2px rgba(60, 64, 67, 0.3), 0 1px 3px 1px rgba(60, 64, 67, 0.15);\n",
              "    fill: var(--button-hover-fill-color);\n",
              "  }\n",
              "\n",
              "  .colab-df-quickchart-complete:disabled,\n",
              "  .colab-df-quickchart-complete:disabled:hover {\n",
              "    background-color: var(--disabled-bg-color);\n",
              "    fill: var(--disabled-fill-color);\n",
              "    box-shadow: none;\n",
              "  }\n",
              "\n",
              "  .colab-df-spinner {\n",
              "    border: 2px solid var(--fill-color);\n",
              "    border-color: transparent;\n",
              "    border-bottom-color: var(--fill-color);\n",
              "    animation:\n",
              "      spin 1s steps(1) infinite;\n",
              "  }\n",
              "\n",
              "  @keyframes spin {\n",
              "    0% {\n",
              "      border-color: transparent;\n",
              "      border-bottom-color: var(--fill-color);\n",
              "      border-left-color: var(--fill-color);\n",
              "    }\n",
              "    20% {\n",
              "      border-color: transparent;\n",
              "      border-left-color: var(--fill-color);\n",
              "      border-top-color: var(--fill-color);\n",
              "    }\n",
              "    30% {\n",
              "      border-color: transparent;\n",
              "      border-left-color: var(--fill-color);\n",
              "      border-top-color: var(--fill-color);\n",
              "      border-right-color: var(--fill-color);\n",
              "    }\n",
              "    40% {\n",
              "      border-color: transparent;\n",
              "      border-right-color: var(--fill-color);\n",
              "      border-top-color: var(--fill-color);\n",
              "    }\n",
              "    60% {\n",
              "      border-color: transparent;\n",
              "      border-right-color: var(--fill-color);\n",
              "    }\n",
              "    80% {\n",
              "      border-color: transparent;\n",
              "      border-right-color: var(--fill-color);\n",
              "      border-bottom-color: var(--fill-color);\n",
              "    }\n",
              "    90% {\n",
              "      border-color: transparent;\n",
              "      border-bottom-color: var(--fill-color);\n",
              "    }\n",
              "  }\n",
              "</style>\n",
              "\n",
              "  <script>\n",
              "    async function quickchart(key) {\n",
              "      const quickchartButtonEl =\n",
              "        document.querySelector('#' + key + ' button');\n",
              "      quickchartButtonEl.disabled = true;  // To prevent multiple clicks.\n",
              "      quickchartButtonEl.classList.add('colab-df-spinner');\n",
              "      try {\n",
              "        const charts = await google.colab.kernel.invokeFunction(\n",
              "            'suggestCharts', [key], {});\n",
              "      } catch (error) {\n",
              "        console.error('Error during call to suggestCharts:', error);\n",
              "      }\n",
              "      quickchartButtonEl.classList.remove('colab-df-spinner');\n",
              "      quickchartButtonEl.classList.add('colab-df-quickchart-complete');\n",
              "    }\n",
              "    (() => {\n",
              "      let quickchartButtonEl =\n",
              "        document.querySelector('#df-531fbc5a-0e6d-4889-a556-cb169829d885 button');\n",
              "      quickchartButtonEl.style.display =\n",
              "        google.colab.kernel.accessAllowed ? 'block' : 'none';\n",
              "    })();\n",
              "  </script>\n",
              "</div>\n",
              "\n",
              "    </div>\n",
              "  </div>\n"
            ],
            "application/vnd.google.colaboratory.intrinsic+json": {
              "type": "dataframe",
              "variable_name": "output",
              "summary": "{\n  \"name\": \"output\",\n  \"rows\": 28000,\n  \"fields\": [\n    {\n      \"column\": \"ImageId\",\n      \"properties\": {\n        \"dtype\": \"number\",\n        \"std\": 8083,\n        \"min\": 1,\n        \"max\": 28000,\n        \"num_unique_values\": 28000,\n        \"samples\": [\n          18407,\n          5035,\n          18326\n        ],\n        \"semantic_type\": \"\",\n        \"description\": \"\"\n      }\n    },\n    {\n      \"column\": \"Label\",\n      \"properties\": {\n        \"dtype\": \"number\",\n        \"std\": 2,\n        \"min\": 0,\n        \"max\": 9,\n        \"num_unique_values\": 10,\n        \"samples\": [\n          6,\n          0,\n          5\n        ],\n        \"semantic_type\": \"\",\n        \"description\": \"\"\n      }\n    }\n  ]\n}"
            }
          },
          "metadata": {},
          "execution_count": 26
        }
      ]
    },
    {
      "cell_type": "code",
      "source": [
        "test_predictions.min(), test_predictions.max()"
      ],
      "metadata": {
        "id": "010aS1bNW5te",
        "colab": {
          "base_uri": "https://localhost:8080/"
        },
        "outputId": "787c5163-f885-4323-8b84-ba0f5bf03545"
      },
      "execution_count": 27,
      "outputs": [
        {
          "output_type": "execute_result",
          "data": {
            "text/plain": [
              "(tensor(-85.2453, grad_fn=<MinBackward1>),\n",
              " tensor(102.1349, grad_fn=<MaxBackward1>))"
            ]
          },
          "metadata": {},
          "execution_count": 27
        }
      ]
    }
  ]
}