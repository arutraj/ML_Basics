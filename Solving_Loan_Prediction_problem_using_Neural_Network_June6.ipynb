{
  "nbformat": 4,
  "nbformat_minor": 0,
  "metadata": {
    "kernelspec": {
      "name": "python3",
      "display_name": "Python 3"
    },
    "language_info": {
      "codemirror_mode": {
        "name": "ipython",
        "version": 3
      },
      "file_extension": ".py",
      "mimetype": "text/x-python",
      "name": "python",
      "nbconvert_exporter": "python",
      "pygments_lexer": "ipython3",
      "version": "3.6.5"
    },
    "colab": {
      "provenance": [],
      "include_colab_link": true
    },
    "accelerator": "GPU"
  },
  "cells": [
    {
      "cell_type": "markdown",
      "metadata": {
        "id": "view-in-github",
        "colab_type": "text"
      },
      "source": [
        "<a href=\"https://colab.research.google.com/github/arutraj/ML_Basics/blob/main/Solving_Loan_Prediction_problem_using_Neural_Network_June6.ipynb\" target=\"_parent\"><img src=\"https://colab.research.google.com/assets/colab-badge.svg\" alt=\"Open In Colab\"/></a>"
      ]
    },
    {
      "cell_type": "code",
      "metadata": {
        "id": "N1174ZAOqvyo",
        "colab": {
          "base_uri": "https://localhost:8080/",
          "height": 34
        },
        "outputId": "5a28a8c9-a48d-402d-f0db-a5690f272aa4"
      },
      "source": [
        "%tensorflow_version 1.x"
      ],
      "execution_count": null,
      "outputs": [
        {
          "output_type": "stream",
          "text": [
            "TensorFlow 1.x selected.\n"
          ],
          "name": "stdout"
        }
      ]
    },
    {
      "cell_type": "markdown",
      "metadata": {
        "id": "WjKX7h16glKA"
      },
      "source": [
        "# Steps to build a Neural Network using Keras\n",
        "\n",
        "<ol>1. Loading the dataset</ol>\n",
        "<ol>2. Creating training and validation set</ol>\n",
        "<ol>3. Defining the architecture of the model</ol>\n",
        "<ol>4. Compiling the model (defining loss function, optimizer)</ol>\n",
        "<ol>5. Training the model</ol>\n",
        "<ol>6. Evaluating model performance on training and validation set</ol>"
      ]
    },
    {
      "cell_type": "markdown",
      "metadata": {
        "id": "56f3bnnIglKI"
      },
      "source": [
        "## 1. Loading the dataset"
      ]
    },
    {
      "cell_type": "code",
      "source": [
        "from google.colab import drive\n",
        "drive.mount('/content/drive')"
      ],
      "metadata": {
        "colab": {
          "base_uri": "https://localhost:8080/"
        },
        "id": "ghJNp2H-agYx",
        "outputId": "63b844cc-699d-4213-dfe4-4b9739608973"
      },
      "execution_count": 1,
      "outputs": [
        {
          "output_type": "stream",
          "name": "stdout",
          "text": [
            "Mounted at /content/drive\n"
          ]
        }
      ]
    },
    {
      "cell_type": "code",
      "metadata": {
        "id": "as3tljzfglKN"
      },
      "source": [
        "# importing the required libraries\n",
        "import pandas as pd\n",
        "import numpy as np\n",
        "import sklearn\n",
        "from sklearn.model_selection import train_test_split\n",
        "from sklearn.metrics import accuracy_score\n",
        "import matplotlib.pyplot as plt\n",
        "%matplotlib inline"
      ],
      "execution_count": 2,
      "outputs": []
    },
    {
      "cell_type": "code",
      "metadata": {
        "id": "Bzp09t1S_07z",
        "colab": {
          "base_uri": "https://localhost:8080/"
        },
        "outputId": "dd80a4cb-3a87-4d98-d82e-a83606fefd5b"
      },
      "source": [
        "# check version on sklearn\n",
        "print('Version of sklearn:', sklearn.__version__)"
      ],
      "execution_count": null,
      "outputs": [
        {
          "output_type": "stream",
          "name": "stdout",
          "text": [
            "Version of sklearn: 1.2.2\n"
          ]
        }
      ]
    },
    {
      "cell_type": "code",
      "metadata": {
        "id": "UXQcz5rtglKe"
      },
      "source": [
        "# loading the pre-processed dataset\n",
        "data = pd.read_csv('/loan_prediction_data.csv')"
      ],
      "execution_count": 50,
      "outputs": []
    },
    {
      "cell_type": "code",
      "metadata": {
        "scrolled": false,
        "id": "ntuq8jfzglKp",
        "colab": {
          "base_uri": "https://localhost:8080/",
          "height": 206
        },
        "outputId": "dc5147cf-dd1f-435e-b6fa-d1803cab8011"
      },
      "source": [
        "# looking at the first five rows of the dataset\n",
        "data.head()"
      ],
      "execution_count": 51,
      "outputs": [
        {
          "output_type": "execute_result",
          "data": {
            "text/plain": [
              "    Loan_ID  Gender  Married  Dependents  Education  Self_Employed  \\\n",
              "0  LP001002     0.0      0.0    0.000000        1.0            0.0   \n",
              "1  LP001003     0.0      1.0    0.333333        1.0            0.0   \n",
              "2  LP001005     0.0      1.0    0.000000        1.0            1.0   \n",
              "3  LP001006     0.0      1.0    0.000000        0.0            0.0   \n",
              "4  LP001008     0.0      0.0    0.000000        1.0            0.0   \n",
              "\n",
              "   ApplicantIncome  CoapplicantIncome  LoanAmount  Loan_Amount_Term  \\\n",
              "0         0.070489           0.000000    0.198860           0.74359   \n",
              "1         0.054830           0.036192    0.172214           0.74359   \n",
              "2         0.035250           0.000000    0.082489           0.74359   \n",
              "3         0.030093           0.056592    0.160637           0.74359   \n",
              "4         0.072356           0.000000    0.191027           0.74359   \n",
              "\n",
              "   Credit_History  Property_Area  Loan_Status  \n",
              "0             1.0            1.0          1.0  \n",
              "1             1.0            0.0          0.0  \n",
              "2             1.0            1.0          1.0  \n",
              "3             1.0            1.0          1.0  \n",
              "4             1.0            1.0          1.0  "
            ],
            "text/html": [
              "\n",
              "  <div id=\"df-ca854553-f3c2-4a8e-a930-0a9efe01ad43\" class=\"colab-df-container\">\n",
              "    <div>\n",
              "<style scoped>\n",
              "    .dataframe tbody tr th:only-of-type {\n",
              "        vertical-align: middle;\n",
              "    }\n",
              "\n",
              "    .dataframe tbody tr th {\n",
              "        vertical-align: top;\n",
              "    }\n",
              "\n",
              "    .dataframe thead th {\n",
              "        text-align: right;\n",
              "    }\n",
              "</style>\n",
              "<table border=\"1\" class=\"dataframe\">\n",
              "  <thead>\n",
              "    <tr style=\"text-align: right;\">\n",
              "      <th></th>\n",
              "      <th>Loan_ID</th>\n",
              "      <th>Gender</th>\n",
              "      <th>Married</th>\n",
              "      <th>Dependents</th>\n",
              "      <th>Education</th>\n",
              "      <th>Self_Employed</th>\n",
              "      <th>ApplicantIncome</th>\n",
              "      <th>CoapplicantIncome</th>\n",
              "      <th>LoanAmount</th>\n",
              "      <th>Loan_Amount_Term</th>\n",
              "      <th>Credit_History</th>\n",
              "      <th>Property_Area</th>\n",
              "      <th>Loan_Status</th>\n",
              "    </tr>\n",
              "  </thead>\n",
              "  <tbody>\n",
              "    <tr>\n",
              "      <th>0</th>\n",
              "      <td>LP001002</td>\n",
              "      <td>0.0</td>\n",
              "      <td>0.0</td>\n",
              "      <td>0.000000</td>\n",
              "      <td>1.0</td>\n",
              "      <td>0.0</td>\n",
              "      <td>0.070489</td>\n",
              "      <td>0.000000</td>\n",
              "      <td>0.198860</td>\n",
              "      <td>0.74359</td>\n",
              "      <td>1.0</td>\n",
              "      <td>1.0</td>\n",
              "      <td>1.0</td>\n",
              "    </tr>\n",
              "    <tr>\n",
              "      <th>1</th>\n",
              "      <td>LP001003</td>\n",
              "      <td>0.0</td>\n",
              "      <td>1.0</td>\n",
              "      <td>0.333333</td>\n",
              "      <td>1.0</td>\n",
              "      <td>0.0</td>\n",
              "      <td>0.054830</td>\n",
              "      <td>0.036192</td>\n",
              "      <td>0.172214</td>\n",
              "      <td>0.74359</td>\n",
              "      <td>1.0</td>\n",
              "      <td>0.0</td>\n",
              "      <td>0.0</td>\n",
              "    </tr>\n",
              "    <tr>\n",
              "      <th>2</th>\n",
              "      <td>LP001005</td>\n",
              "      <td>0.0</td>\n",
              "      <td>1.0</td>\n",
              "      <td>0.000000</td>\n",
              "      <td>1.0</td>\n",
              "      <td>1.0</td>\n",
              "      <td>0.035250</td>\n",
              "      <td>0.000000</td>\n",
              "      <td>0.082489</td>\n",
              "      <td>0.74359</td>\n",
              "      <td>1.0</td>\n",
              "      <td>1.0</td>\n",
              "      <td>1.0</td>\n",
              "    </tr>\n",
              "    <tr>\n",
              "      <th>3</th>\n",
              "      <td>LP001006</td>\n",
              "      <td>0.0</td>\n",
              "      <td>1.0</td>\n",
              "      <td>0.000000</td>\n",
              "      <td>0.0</td>\n",
              "      <td>0.0</td>\n",
              "      <td>0.030093</td>\n",
              "      <td>0.056592</td>\n",
              "      <td>0.160637</td>\n",
              "      <td>0.74359</td>\n",
              "      <td>1.0</td>\n",
              "      <td>1.0</td>\n",
              "      <td>1.0</td>\n",
              "    </tr>\n",
              "    <tr>\n",
              "      <th>4</th>\n",
              "      <td>LP001008</td>\n",
              "      <td>0.0</td>\n",
              "      <td>0.0</td>\n",
              "      <td>0.000000</td>\n",
              "      <td>1.0</td>\n",
              "      <td>0.0</td>\n",
              "      <td>0.072356</td>\n",
              "      <td>0.000000</td>\n",
              "      <td>0.191027</td>\n",
              "      <td>0.74359</td>\n",
              "      <td>1.0</td>\n",
              "      <td>1.0</td>\n",
              "      <td>1.0</td>\n",
              "    </tr>\n",
              "  </tbody>\n",
              "</table>\n",
              "</div>\n",
              "    <div class=\"colab-df-buttons\">\n",
              "\n",
              "  <div class=\"colab-df-container\">\n",
              "    <button class=\"colab-df-convert\" onclick=\"convertToInteractive('df-ca854553-f3c2-4a8e-a930-0a9efe01ad43')\"\n",
              "            title=\"Convert this dataframe to an interactive table.\"\n",
              "            style=\"display:none;\">\n",
              "\n",
              "  <svg xmlns=\"http://www.w3.org/2000/svg\" height=\"24px\" viewBox=\"0 -960 960 960\">\n",
              "    <path d=\"M120-120v-720h720v720H120Zm60-500h600v-160H180v160Zm220 220h160v-160H400v160Zm0 220h160v-160H400v160ZM180-400h160v-160H180v160Zm440 0h160v-160H620v160ZM180-180h160v-160H180v160Zm440 0h160v-160H620v160Z\"/>\n",
              "  </svg>\n",
              "    </button>\n",
              "\n",
              "  <style>\n",
              "    .colab-df-container {\n",
              "      display:flex;\n",
              "      gap: 12px;\n",
              "    }\n",
              "\n",
              "    .colab-df-convert {\n",
              "      background-color: #E8F0FE;\n",
              "      border: none;\n",
              "      border-radius: 50%;\n",
              "      cursor: pointer;\n",
              "      display: none;\n",
              "      fill: #1967D2;\n",
              "      height: 32px;\n",
              "      padding: 0 0 0 0;\n",
              "      width: 32px;\n",
              "    }\n",
              "\n",
              "    .colab-df-convert:hover {\n",
              "      background-color: #E2EBFA;\n",
              "      box-shadow: 0px 1px 2px rgba(60, 64, 67, 0.3), 0px 1px 3px 1px rgba(60, 64, 67, 0.15);\n",
              "      fill: #174EA6;\n",
              "    }\n",
              "\n",
              "    .colab-df-buttons div {\n",
              "      margin-bottom: 4px;\n",
              "    }\n",
              "\n",
              "    [theme=dark] .colab-df-convert {\n",
              "      background-color: #3B4455;\n",
              "      fill: #D2E3FC;\n",
              "    }\n",
              "\n",
              "    [theme=dark] .colab-df-convert:hover {\n",
              "      background-color: #434B5C;\n",
              "      box-shadow: 0px 1px 3px 1px rgba(0, 0, 0, 0.15);\n",
              "      filter: drop-shadow(0px 1px 2px rgba(0, 0, 0, 0.3));\n",
              "      fill: #FFFFFF;\n",
              "    }\n",
              "  </style>\n",
              "\n",
              "    <script>\n",
              "      const buttonEl =\n",
              "        document.querySelector('#df-ca854553-f3c2-4a8e-a930-0a9efe01ad43 button.colab-df-convert');\n",
              "      buttonEl.style.display =\n",
              "        google.colab.kernel.accessAllowed ? 'block' : 'none';\n",
              "\n",
              "      async function convertToInteractive(key) {\n",
              "        const element = document.querySelector('#df-ca854553-f3c2-4a8e-a930-0a9efe01ad43');\n",
              "        const dataTable =\n",
              "          await google.colab.kernel.invokeFunction('convertToInteractive',\n",
              "                                                    [key], {});\n",
              "        if (!dataTable) return;\n",
              "\n",
              "        const docLinkHtml = 'Like what you see? Visit the ' +\n",
              "          '<a target=\"_blank\" href=https://colab.research.google.com/notebooks/data_table.ipynb>data table notebook</a>'\n",
              "          + ' to learn more about interactive tables.';\n",
              "        element.innerHTML = '';\n",
              "        dataTable['output_type'] = 'display_data';\n",
              "        await google.colab.output.renderOutput(dataTable, element);\n",
              "        const docLink = document.createElement('div');\n",
              "        docLink.innerHTML = docLinkHtml;\n",
              "        element.appendChild(docLink);\n",
              "      }\n",
              "    </script>\n",
              "  </div>\n",
              "\n",
              "\n",
              "<div id=\"df-6d5900de-80e5-4577-bfcd-d95eb444b560\">\n",
              "  <button class=\"colab-df-quickchart\" onclick=\"quickchart('df-6d5900de-80e5-4577-bfcd-d95eb444b560')\"\n",
              "            title=\"Suggest charts\"\n",
              "            style=\"display:none;\">\n",
              "\n",
              "<svg xmlns=\"http://www.w3.org/2000/svg\" height=\"24px\"viewBox=\"0 0 24 24\"\n",
              "     width=\"24px\">\n",
              "    <g>\n",
              "        <path d=\"M19 3H5c-1.1 0-2 .9-2 2v14c0 1.1.9 2 2 2h14c1.1 0 2-.9 2-2V5c0-1.1-.9-2-2-2zM9 17H7v-7h2v7zm4 0h-2V7h2v10zm4 0h-2v-4h2v4z\"/>\n",
              "    </g>\n",
              "</svg>\n",
              "  </button>\n",
              "\n",
              "<style>\n",
              "  .colab-df-quickchart {\n",
              "      --bg-color: #E8F0FE;\n",
              "      --fill-color: #1967D2;\n",
              "      --hover-bg-color: #E2EBFA;\n",
              "      --hover-fill-color: #174EA6;\n",
              "      --disabled-fill-color: #AAA;\n",
              "      --disabled-bg-color: #DDD;\n",
              "  }\n",
              "\n",
              "  [theme=dark] .colab-df-quickchart {\n",
              "      --bg-color: #3B4455;\n",
              "      --fill-color: #D2E3FC;\n",
              "      --hover-bg-color: #434B5C;\n",
              "      --hover-fill-color: #FFFFFF;\n",
              "      --disabled-bg-color: #3B4455;\n",
              "      --disabled-fill-color: #666;\n",
              "  }\n",
              "\n",
              "  .colab-df-quickchart {\n",
              "    background-color: var(--bg-color);\n",
              "    border: none;\n",
              "    border-radius: 50%;\n",
              "    cursor: pointer;\n",
              "    display: none;\n",
              "    fill: var(--fill-color);\n",
              "    height: 32px;\n",
              "    padding: 0;\n",
              "    width: 32px;\n",
              "  }\n",
              "\n",
              "  .colab-df-quickchart:hover {\n",
              "    background-color: var(--hover-bg-color);\n",
              "    box-shadow: 0 1px 2px rgba(60, 64, 67, 0.3), 0 1px 3px 1px rgba(60, 64, 67, 0.15);\n",
              "    fill: var(--button-hover-fill-color);\n",
              "  }\n",
              "\n",
              "  .colab-df-quickchart-complete:disabled,\n",
              "  .colab-df-quickchart-complete:disabled:hover {\n",
              "    background-color: var(--disabled-bg-color);\n",
              "    fill: var(--disabled-fill-color);\n",
              "    box-shadow: none;\n",
              "  }\n",
              "\n",
              "  .colab-df-spinner {\n",
              "    border: 2px solid var(--fill-color);\n",
              "    border-color: transparent;\n",
              "    border-bottom-color: var(--fill-color);\n",
              "    animation:\n",
              "      spin 1s steps(1) infinite;\n",
              "  }\n",
              "\n",
              "  @keyframes spin {\n",
              "    0% {\n",
              "      border-color: transparent;\n",
              "      border-bottom-color: var(--fill-color);\n",
              "      border-left-color: var(--fill-color);\n",
              "    }\n",
              "    20% {\n",
              "      border-color: transparent;\n",
              "      border-left-color: var(--fill-color);\n",
              "      border-top-color: var(--fill-color);\n",
              "    }\n",
              "    30% {\n",
              "      border-color: transparent;\n",
              "      border-left-color: var(--fill-color);\n",
              "      border-top-color: var(--fill-color);\n",
              "      border-right-color: var(--fill-color);\n",
              "    }\n",
              "    40% {\n",
              "      border-color: transparent;\n",
              "      border-right-color: var(--fill-color);\n",
              "      border-top-color: var(--fill-color);\n",
              "    }\n",
              "    60% {\n",
              "      border-color: transparent;\n",
              "      border-right-color: var(--fill-color);\n",
              "    }\n",
              "    80% {\n",
              "      border-color: transparent;\n",
              "      border-right-color: var(--fill-color);\n",
              "      border-bottom-color: var(--fill-color);\n",
              "    }\n",
              "    90% {\n",
              "      border-color: transparent;\n",
              "      border-bottom-color: var(--fill-color);\n",
              "    }\n",
              "  }\n",
              "</style>\n",
              "\n",
              "  <script>\n",
              "    async function quickchart(key) {\n",
              "      const quickchartButtonEl =\n",
              "        document.querySelector('#' + key + ' button');\n",
              "      quickchartButtonEl.disabled = true;  // To prevent multiple clicks.\n",
              "      quickchartButtonEl.classList.add('colab-df-spinner');\n",
              "      try {\n",
              "        const charts = await google.colab.kernel.invokeFunction(\n",
              "            'suggestCharts', [key], {});\n",
              "      } catch (error) {\n",
              "        console.error('Error during call to suggestCharts:', error);\n",
              "      }\n",
              "      quickchartButtonEl.classList.remove('colab-df-spinner');\n",
              "      quickchartButtonEl.classList.add('colab-df-quickchart-complete');\n",
              "    }\n",
              "    (() => {\n",
              "      let quickchartButtonEl =\n",
              "        document.querySelector('#df-6d5900de-80e5-4577-bfcd-d95eb444b560 button');\n",
              "      quickchartButtonEl.style.display =\n",
              "        google.colab.kernel.accessAllowed ? 'block' : 'none';\n",
              "    })();\n",
              "  </script>\n",
              "</div>\n",
              "\n",
              "    </div>\n",
              "  </div>\n"
            ],
            "application/vnd.google.colaboratory.intrinsic+json": {
              "type": "dataframe",
              "variable_name": "data",
              "summary": "{\n  \"name\": \"data\",\n  \"rows\": 614,\n  \"fields\": [\n    {\n      \"column\": \"Loan_ID\",\n      \"properties\": {\n        \"dtype\": \"string\",\n        \"num_unique_values\": 614,\n        \"samples\": [\n          \"LP002139\",\n          \"LP002223\",\n          \"LP001570\"\n        ],\n        \"semantic_type\": \"\",\n        \"description\": \"\"\n      }\n    },\n    {\n      \"column\": \"Gender\",\n      \"properties\": {\n        \"dtype\": \"number\",\n        \"std\": 0.38649728461761046,\n        \"min\": 0.0,\n        \"max\": 1.0,\n        \"num_unique_values\": 2,\n        \"samples\": [\n          1.0,\n          0.0\n        ],\n        \"semantic_type\": \"\",\n        \"description\": \"\"\n      }\n    },\n    {\n      \"column\": \"Married\",\n      \"properties\": {\n        \"dtype\": \"number\",\n        \"std\": 0.47637346810166864,\n        \"min\": 0.0,\n        \"max\": 1.0,\n        \"num_unique_values\": 2,\n        \"samples\": [\n          1.0,\n          0.0\n        ],\n        \"semantic_type\": \"\",\n        \"description\": \"\"\n      }\n    },\n    {\n      \"column\": \"Dependents\",\n      \"properties\": {\n        \"dtype\": \"number\",\n        \"std\": 0.33654113081155484,\n        \"min\": 0.0,\n        \"max\": 1.0,\n        \"num_unique_values\": 4,\n        \"samples\": [\n          0.3333333333333333,\n          1.0\n        ],\n        \"semantic_type\": \"\",\n        \"description\": \"\"\n      }\n    },\n    {\n      \"column\": \"Education\",\n      \"properties\": {\n        \"dtype\": \"number\",\n        \"std\": 0.4133886943339805,\n        \"min\": 0.0,\n        \"max\": 1.0,\n        \"num_unique_values\": 2,\n        \"samples\": [\n          0.0,\n          1.0\n        ],\n        \"semantic_type\": \"\",\n        \"description\": \"\"\n      }\n    },\n    {\n      \"column\": \"Self_Employed\",\n      \"properties\": {\n        \"dtype\": \"number\",\n        \"std\": 0.3404460655491334,\n        \"min\": 0.0,\n        \"max\": 1.0,\n        \"num_unique_values\": 2,\n        \"samples\": [\n          1.0,\n          0.0\n        ],\n        \"semantic_type\": \"\",\n        \"description\": \"\"\n      }\n    },\n    {\n      \"column\": \"ApplicantIncome\",\n      \"properties\": {\n        \"dtype\": \"number\",\n        \"std\": 0.07556019385760271,\n        \"min\": 0.0,\n        \"max\": 1.0,\n        \"num_unique_values\": 505,\n        \"samples\": [\n          0.1012121212121212,\n          0.0518491032776747\n        ],\n        \"semantic_type\": \"\",\n        \"description\": \"\"\n      }\n    },\n    {\n      \"column\": \"CoapplicantIncome\",\n      \"properties\": {\n        \"dtype\": \"number\",\n        \"std\": 0.0702293990261883,\n        \"min\": 0.0,\n        \"max\": 1.0,\n        \"num_unique_values\": 287,\n        \"samples\": [\n          0.0441596467228262,\n          0.0490076079391364\n        ],\n        \"semantic_type\": \"\",\n        \"description\": \"\"\n      }\n    },\n    {\n      \"column\": \"LoanAmount\",\n      \"properties\": {\n        \"dtype\": \"number\",\n        \"std\": 0.12161717465006727,\n        \"min\": 0.0,\n        \"max\": 1.0,\n        \"num_unique_values\": 204,\n        \"samples\": [\n          0.1678726483357453,\n          0.492040520984081\n        ],\n        \"semantic_type\": \"\",\n        \"description\": \"\"\n      }\n    },\n    {\n      \"column\": \"Loan_Amount_Term\",\n      \"properties\": {\n        \"dtype\": \"number\",\n        \"std\": 0.13766801082836128,\n        \"min\": 0.0,\n        \"max\": 1.0,\n        \"num_unique_values\": 10,\n        \"samples\": [\n          0.1538461538461538,\n          0.2307692307692307\n        ],\n        \"semantic_type\": \"\",\n        \"description\": \"\"\n      }\n    },\n    {\n      \"column\": \"Credit_History\",\n      \"properties\": {\n        \"dtype\": \"number\",\n        \"std\": 0.3523386063582998,\n        \"min\": 0.0,\n        \"max\": 1.0,\n        \"num_unique_values\": 2,\n        \"samples\": [\n          0.0,\n          1.0\n        ],\n        \"semantic_type\": \"\",\n        \"description\": \"\"\n      }\n    },\n    {\n      \"column\": \"Property_Area\",\n      \"properties\": {\n        \"dtype\": \"number\",\n        \"std\": 0.39374101739259926,\n        \"min\": 0.0,\n        \"max\": 1.0,\n        \"num_unique_values\": 3,\n        \"samples\": [\n          1.0,\n          0.0\n        ],\n        \"semantic_type\": \"\",\n        \"description\": \"\"\n      }\n    },\n    {\n      \"column\": \"Loan_Status\",\n      \"properties\": {\n        \"dtype\": \"number\",\n        \"std\": 0.46397268871800085,\n        \"min\": 0.0,\n        \"max\": 1.0,\n        \"num_unique_values\": 2,\n        \"samples\": [\n          0.0,\n          1.0\n        ],\n        \"semantic_type\": \"\",\n        \"description\": \"\"\n      }\n    }\n  ]\n}"
            }
          },
          "metadata": {},
          "execution_count": 51
        }
      ]
    },
    {
      "cell_type": "code",
      "metadata": {
        "id": "2iqbEhkaglK0",
        "colab": {
          "base_uri": "https://localhost:8080/"
        },
        "outputId": "174f4e32-4ab7-4815-8af3-29ca55245760"
      },
      "source": [
        "# checking missing values\n",
        "data.isnull().sum()"
      ],
      "execution_count": 52,
      "outputs": [
        {
          "output_type": "execute_result",
          "data": {
            "text/plain": [
              "Loan_ID              0\n",
              "Gender               0\n",
              "Married              0\n",
              "Dependents           0\n",
              "Education            0\n",
              "Self_Employed        0\n",
              "ApplicantIncome      0\n",
              "CoapplicantIncome    0\n",
              "LoanAmount           0\n",
              "Loan_Amount_Term     0\n",
              "Credit_History       0\n",
              "Property_Area        0\n",
              "Loan_Status          0\n",
              "dtype: int64"
            ]
          },
          "metadata": {},
          "execution_count": 52
        }
      ]
    },
    {
      "cell_type": "code",
      "metadata": {
        "id": "QOnBYzGnglK-",
        "colab": {
          "base_uri": "https://localhost:8080/"
        },
        "outputId": "b376fa56-93ba-4fe9-bf9d-ebf835248129"
      },
      "source": [
        "# checking the data type\n",
        "data.dtypes"
      ],
      "execution_count": 6,
      "outputs": [
        {
          "output_type": "execute_result",
          "data": {
            "text/plain": [
              "Loan_ID               object\n",
              "Gender               float64\n",
              "Married              float64\n",
              "Dependents           float64\n",
              "Education            float64\n",
              "Self_Employed        float64\n",
              "ApplicantIncome      float64\n",
              "CoapplicantIncome    float64\n",
              "LoanAmount           float64\n",
              "Loan_Amount_Term     float64\n",
              "Credit_History       float64\n",
              "Property_Area        float64\n",
              "Loan_Status          float64\n",
              "dtype: object"
            ]
          },
          "metadata": {},
          "execution_count": 6
        }
      ]
    },
    {
      "cell_type": "code",
      "metadata": {
        "id": "TYuwXXuNglLI"
      },
      "source": [
        "# removing the loan_ID since these are just the unique values\n",
        "data = data.drop('Loan_ID', axis=1)"
      ],
      "execution_count": 53,
      "outputs": []
    },
    {
      "cell_type": "code",
      "metadata": {
        "id": "r7XkDkLqglLQ",
        "colab": {
          "base_uri": "https://localhost:8080/"
        },
        "outputId": "d327278d-e092-4432-ca5c-b98cd51d1acb"
      },
      "source": [
        "# looking at the shape of the data\n",
        "data.shape"
      ],
      "execution_count": 54,
      "outputs": [
        {
          "output_type": "execute_result",
          "data": {
            "text/plain": [
              "(614, 12)"
            ]
          },
          "metadata": {},
          "execution_count": 54
        }
      ]
    },
    {
      "cell_type": "code",
      "metadata": {
        "id": "wy5U75eiglLZ"
      },
      "source": [
        "# separating the independent and dependent variables\n",
        "\n",
        "# storing all the independent variables as X\n",
        "X = data.drop('Loan_Status', axis=1)\n",
        "\n",
        "# storing the dependent variable as y\n",
        "y = data['Loan_Status']"
      ],
      "execution_count": 55,
      "outputs": []
    },
    {
      "cell_type": "code",
      "metadata": {
        "scrolled": true,
        "id": "73Z_cXPVglLi",
        "colab": {
          "base_uri": "https://localhost:8080/"
        },
        "outputId": "666d0703-4dd6-471e-9486-2fcee467e707"
      },
      "source": [
        "# shape of independent and dependent variables\n",
        "X.shape, y.shape"
      ],
      "execution_count": 56,
      "outputs": [
        {
          "output_type": "execute_result",
          "data": {
            "text/plain": [
              "((614, 11), (614,))"
            ]
          },
          "metadata": {},
          "execution_count": 56
        }
      ]
    },
    {
      "cell_type": "markdown",
      "metadata": {
        "id": "2tIAIoEZglLr"
      },
      "source": [
        "## 2. Creating training and validation set"
      ]
    },
    {
      "cell_type": "code",
      "metadata": {
        "id": "4jvMxwYZglLu"
      },
      "source": [
        "# Creating training and validation set\n",
        "\n",
        "# stratify will make sure that the distribution of classes in train and validation set it similar\n",
        "# random state to regenerate the same train and validation set\n",
        "# test size 0.2 will keep 20% data in validation and remaining 80% in train set\n",
        "\n",
        "X_train,X_test,y_train,y_test = train_test_split(X,y,stratify=data['Loan_Status'],random_state=10,test_size=0.2)"
      ],
      "execution_count": 57,
      "outputs": []
    },
    {
      "cell_type": "code",
      "metadata": {
        "id": "3HG0SIb2glL3",
        "colab": {
          "base_uri": "https://localhost:8080/"
        },
        "outputId": "c7e39a16-fe92-44b5-b6f1-4712cb37a6d9"
      },
      "source": [
        "# shape of training and validation set\n",
        "(X_train.shape, y_train.shape), (X_test.shape, y_test.shape)"
      ],
      "execution_count": 58,
      "outputs": [
        {
          "output_type": "execute_result",
          "data": {
            "text/plain": [
              "(((491, 11), (491,)), ((123, 11), (123,)))"
            ]
          },
          "metadata": {},
          "execution_count": 58
        }
      ]
    },
    {
      "cell_type": "markdown",
      "metadata": {
        "id": "e9PNy3T1glL_"
      },
      "source": [
        "## 3. Defining the architecture of the model"
      ]
    },
    {
      "cell_type": "code",
      "metadata": {
        "scrolled": true,
        "id": "IsccfqUYglMC",
        "colab": {
          "base_uri": "https://localhost:8080/"
        },
        "outputId": "019654f2-bbb8-4649-ff3f-6e42d5305f63"
      },
      "source": [
        "# checking the version of keras\n",
        "import keras\n",
        "print(keras.__version__)"
      ],
      "execution_count": 59,
      "outputs": [
        {
          "output_type": "stream",
          "name": "stdout",
          "text": [
            "2.15.0\n"
          ]
        }
      ]
    },
    {
      "cell_type": "code",
      "metadata": {
        "id": "XMLvwm5wglMK",
        "colab": {
          "base_uri": "https://localhost:8080/"
        },
        "outputId": "8bc633c2-246e-4404-feda-b3592182bf87"
      },
      "source": [
        "# checking the version of tensorflow\n",
        "import tensorflow as tf\n",
        "print(tf.__version__)"
      ],
      "execution_count": null,
      "outputs": [
        {
          "output_type": "stream",
          "name": "stdout",
          "text": [
            "2.15.0\n"
          ]
        }
      ]
    },
    {
      "cell_type": "markdown",
      "metadata": {
        "id": "LbHAzzxZglMR"
      },
      "source": [
        "### a. Create a model\n",
        "\n",
        "<img src='https://drive.google.com/uc?id=1iZNZ3kwSHRNf-Irn3DZmMuBb6K-Lro7w'>"
      ]
    },
    {
      "cell_type": "code",
      "metadata": {
        "id": "O-Pl7OO8glMT"
      },
      "source": [
        "# importing the sequential model\n",
        "from keras.models import Sequential"
      ],
      "execution_count": 14,
      "outputs": []
    },
    {
      "cell_type": "markdown",
      "metadata": {
        "id": "q6SQ3N1NglMZ"
      },
      "source": [
        "### b. Defining different layers\n",
        "\n",
        "<img src='https://drive.google.com/uc?id=16X6De2hua1XJBe3dfmUUeGTgP6PbXEpc'>"
      ]
    },
    {
      "cell_type": "code",
      "metadata": {
        "scrolled": true,
        "id": "NDU-YCD0glMb"
      },
      "source": [
        "# importing different layers from keras\n",
        "from keras.layers import InputLayer, Dense"
      ],
      "execution_count": 15,
      "outputs": []
    },
    {
      "cell_type": "markdown",
      "metadata": {
        "id": "c1I4EF-9glMj"
      },
      "source": [
        "<img src='https://drive.google.com/uc?id=1tsy4B6G0UN4-J4L4roOdoWQiZMUdgw2a'>"
      ]
    },
    {
      "cell_type": "code",
      "metadata": {
        "id": "xtOwk66BglMl",
        "colab": {
          "base_uri": "https://localhost:8080/"
        },
        "outputId": "a2bfef3b-0b38-414f-89c4-429589225b76"
      },
      "source": [
        "# number of input neurons\n",
        "X_train.shape"
      ],
      "execution_count": 16,
      "outputs": [
        {
          "output_type": "execute_result",
          "data": {
            "text/plain": [
              "(491, 11)"
            ]
          },
          "metadata": {},
          "execution_count": 16
        }
      ]
    },
    {
      "cell_type": "code",
      "metadata": {
        "scrolled": true,
        "id": "dA2TqMbsglMq",
        "colab": {
          "base_uri": "https://localhost:8080/"
        },
        "outputId": "b34f3e7e-15a1-428c-ac7e-50173e87d0cc"
      },
      "source": [
        "# number of features in the data\n",
        "X_train.shape[1]"
      ],
      "execution_count": 17,
      "outputs": [
        {
          "output_type": "execute_result",
          "data": {
            "text/plain": [
              "11"
            ]
          },
          "metadata": {},
          "execution_count": 17
        }
      ]
    },
    {
      "cell_type": "code",
      "metadata": {
        "id": "ajgIDiLSglMx"
      },
      "source": [
        "# defining input neurons\n",
        "input_neurons = X_train.shape[1]"
      ],
      "execution_count": 18,
      "outputs": []
    },
    {
      "cell_type": "markdown",
      "metadata": {
        "id": "urOAaBuNglM4"
      },
      "source": [
        "<img src='https://drive.google.com/uc?id=1xL_hM9rGItZjsZ8Lofwzw_9fZUi4bgJo'>"
      ]
    },
    {
      "cell_type": "code",
      "metadata": {
        "id": "fu76LxuVglM6"
      },
      "source": [
        "# number of output neurons\n",
        "\n",
        "# since loan prediction is a binary classification problem, we will have single neuron in the output layer"
      ],
      "execution_count": null,
      "outputs": []
    },
    {
      "cell_type": "code",
      "metadata": {
        "id": "taMhxkl4glNB"
      },
      "source": [
        "# define number of output neurons\n",
        "output_neurons = 1"
      ],
      "execution_count": 19,
      "outputs": []
    },
    {
      "cell_type": "code",
      "metadata": {
        "id": "cHsm2c7kglNF"
      },
      "source": [
        "# number of hidden layers and hidden neurons\n",
        "\n",
        "# It is a hyperparameter and we can pick the hidden layers and hidden neurons on our own"
      ],
      "execution_count": null,
      "outputs": []
    },
    {
      "cell_type": "code",
      "metadata": {
        "id": "sMqdeXysqztM"
      },
      "source": [
        "# define hidden layers and neuron in each layer\n",
        "number_of_hidden_layers = 2\n",
        "neuron_hidden_layer_1 = 10\n",
        "neuron_hidden_layer_2 = 5"
      ],
      "execution_count": 20,
      "outputs": []
    },
    {
      "cell_type": "code",
      "metadata": {
        "id": "HKTCB3K1glNQ"
      },
      "source": [
        "# activation function of different layers\n",
        "\n",
        "# for now I have picked relu as an activation function for hidden layers, you can change it as well\n",
        "# since it is a binary classification problem, I have used sigmoid activation function in the final layer"
      ],
      "execution_count": null,
      "outputs": []
    },
    {
      "cell_type": "code",
      "metadata": {
        "id": "lJeV8sQyq1rj"
      },
      "source": [
        "# defining the architecture of the model\n",
        "model = Sequential()\n",
        "model.add(InputLayer(input_shape=(input_neurons,)))\n",
        "model.add(Dense(units=neuron_hidden_layer_1, activation='relu'))\n",
        "model.add(Dense(units=neuron_hidden_layer_2, activation='relu'))\n",
        "model.add(Dense(units=output_neurons, activation='sigmoid'))"
      ],
      "execution_count": 21,
      "outputs": []
    },
    {
      "cell_type": "code",
      "metadata": {
        "id": "E9tXg_08q3n0",
        "outputId": "1263908d-defc-4266-ebb7-42f57775c1ca",
        "colab": {
          "base_uri": "https://localhost:8080/"
        }
      },
      "source": [
        "# summary of the model\n",
        "model.summary()"
      ],
      "execution_count": 22,
      "outputs": [
        {
          "output_type": "stream",
          "name": "stdout",
          "text": [
            "Model: \"sequential\"\n",
            "_________________________________________________________________\n",
            " Layer (type)                Output Shape              Param #   \n",
            "=================================================================\n",
            " dense (Dense)               (None, 10)                120       \n",
            "                                                                 \n",
            " dense_1 (Dense)             (None, 5)                 55        \n",
            "                                                                 \n",
            " dense_2 (Dense)             (None, 1)                 6         \n",
            "                                                                 \n",
            "=================================================================\n",
            "Total params: 181 (724.00 Byte)\n",
            "Trainable params: 181 (724.00 Byte)\n",
            "Non-trainable params: 0 (0.00 Byte)\n",
            "_________________________________________________________________\n"
          ]
        }
      ]
    },
    {
      "cell_type": "code",
      "source": [
        "from keras import Input, Model\n",
        "from keras.models import Sequential\n",
        "from keras.layers import InputLayer, Dense, concatenate"
      ],
      "metadata": {
        "id": "aHuGycG3Iyw5"
      },
      "execution_count": 61,
      "outputs": []
    },
    {
      "cell_type": "code",
      "source": [
        "X_train.shape"
      ],
      "metadata": {
        "colab": {
          "base_uri": "https://localhost:8080/"
        },
        "id": "Xk-x70e4PwSQ",
        "outputId": "c2afef69-3ffb-4218-d572-fd28f587b59f"
      },
      "execution_count": 62,
      "outputs": [
        {
          "output_type": "execute_result",
          "data": {
            "text/plain": [
              "(491, 11)"
            ]
          },
          "metadata": {},
          "execution_count": 62
        }
      ]
    },
    {
      "cell_type": "code",
      "source": [
        "X_train.shape[1]"
      ],
      "metadata": {
        "colab": {
          "base_uri": "https://localhost:8080/"
        },
        "id": "zpigzADQPwNi",
        "outputId": "c9ffdd16-5e0b-4b33-fd64-80515acb70fd"
      },
      "execution_count": 64,
      "outputs": [
        {
          "output_type": "execute_result",
          "data": {
            "text/plain": [
              "11"
            ]
          },
          "metadata": {},
          "execution_count": 64
        }
      ]
    },
    {
      "cell_type": "code",
      "source": [
        "input_neurons = X_train.shape[1]"
      ],
      "metadata": {
        "id": "zTJXFJqAPwJ4"
      },
      "execution_count": 65,
      "outputs": []
    },
    {
      "cell_type": "code",
      "source": [
        "output_neurons = 1"
      ],
      "metadata": {
        "id": "dxFeTVmRQB04"
      },
      "execution_count": 66,
      "outputs": []
    },
    {
      "cell_type": "code",
      "source": [
        "number_of_hidden_layers = 2\n",
        "neuron_hidden_layer_1_1 = 10\n",
        "neuron_hidden_layer_1_2 = 10\n",
        "neuron_hidden_layer_2 = 5"
      ],
      "metadata": {
        "id": "vUeo8hM8QBwa"
      },
      "execution_count": 70,
      "outputs": []
    },
    {
      "cell_type": "code",
      "source": [
        "x = Input(shape=(input_neurons,))\n",
        "hidden1_1 = Dense(units=neuron_hidden_layer_1_1, activation='relu')(x)\n",
        "hidden1_2 = Dense(units=neuron_hidden_layer_1_2, activation='relu')(x)\n",
        "\n",
        "combined = concatenate([hidden1_1, hidden1_2])\n",
        "\n",
        "hidden2 = Dense(units=neuron_hidden_layer_2, activation='relu')(combined)\n",
        "output = Dense(units=output_neurons, activation='sigmoid')(hidden2)\n",
        "\n",
        "model_functional = Model(x, output)"
      ],
      "metadata": {
        "id": "W6ivwRPeQTKG"
      },
      "execution_count": 71,
      "outputs": []
    },
    {
      "cell_type": "code",
      "source": [
        "model_functional.summary()"
      ],
      "metadata": {
        "colab": {
          "base_uri": "https://localhost:8080/"
        },
        "id": "tW15w9EFQTFK",
        "outputId": "a7d4d6e6-b6bf-49bc-95e9-1fcc2ba44a88"
      },
      "execution_count": 72,
      "outputs": [
        {
          "output_type": "stream",
          "name": "stdout",
          "text": [
            "Model: \"model_1\"\n",
            "__________________________________________________________________________________________________\n",
            " Layer (type)                Output Shape                 Param #   Connected to                  \n",
            "==================================================================================================\n",
            " input_5 (InputLayer)        [(None, 11)]                 0         []                            \n",
            "                                                                                                  \n",
            " dense_6 (Dense)             (None, 10)                   120       ['input_5[0][0]']             \n",
            "                                                                                                  \n",
            " dense_7 (Dense)             (None, 10)                   120       ['input_5[0][0]']             \n",
            "                                                                                                  \n",
            " concatenate (Concatenate)   (None, 20)                   0         ['dense_6[0][0]',             \n",
            "                                                                     'dense_7[0][0]']             \n",
            "                                                                                                  \n",
            " dense_8 (Dense)             (None, 5)                    105       ['concatenate[0][0]']         \n",
            "                                                                                                  \n",
            " dense_9 (Dense)             (None, 1)                    6         ['dense_8[0][0]']             \n",
            "                                                                                                  \n",
            "==================================================================================================\n",
            "Total params: 351 (1.37 KB)\n",
            "Trainable params: 351 (1.37 KB)\n",
            "Non-trainable params: 0 (0.00 Byte)\n",
            "__________________________________________________________________________________________________\n"
          ]
        }
      ]
    },
    {
      "cell_type": "code",
      "source": [
        "model_functional.compile(loss='binary_crossentropy', optimizer = 'Adam',metrics = ['accuracy'])"
      ],
      "metadata": {
        "id": "XKowtGU8QBsD"
      },
      "execution_count": 73,
      "outputs": []
    },
    {
      "cell_type": "code",
      "source": [
        "model_history = model_functional.fit(X_train, y_train, validation_data=(X_test, y_test), epochs=50)"
      ],
      "metadata": {
        "colab": {
          "base_uri": "https://localhost:8080/"
        },
        "id": "ITyQlfWiRhcW",
        "outputId": "e21f3aca-a0c6-4db6-d043-c0505c74ff9e"
      },
      "execution_count": 74,
      "outputs": [
        {
          "output_type": "stream",
          "name": "stdout",
          "text": [
            "Epoch 1/50\n",
            "16/16 [==============================] - 5s 44ms/step - loss: 0.6895 - accuracy: 0.6253 - val_loss: 0.6840 - val_accuracy: 0.6504\n",
            "Epoch 2/50\n",
            "16/16 [==============================] - 0s 18ms/step - loss: 0.6749 - accuracy: 0.6986 - val_loss: 0.6651 - val_accuracy: 0.6585\n",
            "Epoch 3/50\n",
            "16/16 [==============================] - 0s 23ms/step - loss: 0.6585 - accuracy: 0.7047 - val_loss: 0.6475 - val_accuracy: 0.6911\n",
            "Epoch 4/50\n",
            "16/16 [==============================] - 0s 22ms/step - loss: 0.6416 - accuracy: 0.7026 - val_loss: 0.6298 - val_accuracy: 0.7154\n",
            "Epoch 5/50\n",
            "16/16 [==============================] - 0s 12ms/step - loss: 0.6261 - accuracy: 0.7006 - val_loss: 0.6102 - val_accuracy: 0.7154\n",
            "Epoch 6/50\n",
            "16/16 [==============================] - 0s 15ms/step - loss: 0.6099 - accuracy: 0.6965 - val_loss: 0.5911 - val_accuracy: 0.7154\n",
            "Epoch 7/50\n",
            "16/16 [==============================] - 0s 15ms/step - loss: 0.5944 - accuracy: 0.7149 - val_loss: 0.5768 - val_accuracy: 0.7236\n",
            "Epoch 8/50\n",
            "16/16 [==============================] - 0s 28ms/step - loss: 0.5817 - accuracy: 0.7475 - val_loss: 0.5637 - val_accuracy: 0.7480\n",
            "Epoch 9/50\n",
            "16/16 [==============================] - 0s 17ms/step - loss: 0.5695 - accuracy: 0.7597 - val_loss: 0.5523 - val_accuracy: 0.7561\n",
            "Epoch 10/50\n",
            "16/16 [==============================] - 0s 6ms/step - loss: 0.5602 - accuracy: 0.7658 - val_loss: 0.5420 - val_accuracy: 0.7724\n",
            "Epoch 11/50\n",
            "16/16 [==============================] - 0s 6ms/step - loss: 0.5515 - accuracy: 0.7678 - val_loss: 0.5339 - val_accuracy: 0.7724\n",
            "Epoch 12/50\n",
            "16/16 [==============================] - 0s 7ms/step - loss: 0.5432 - accuracy: 0.7760 - val_loss: 0.5260 - val_accuracy: 0.7886\n",
            "Epoch 13/50\n",
            "16/16 [==============================] - 0s 8ms/step - loss: 0.5362 - accuracy: 0.7780 - val_loss: 0.5184 - val_accuracy: 0.7886\n",
            "Epoch 14/50\n",
            "16/16 [==============================] - 0s 6ms/step - loss: 0.5285 - accuracy: 0.7821 - val_loss: 0.5126 - val_accuracy: 0.7967\n",
            "Epoch 15/50\n",
            "16/16 [==============================] - 0s 6ms/step - loss: 0.5218 - accuracy: 0.7821 - val_loss: 0.5065 - val_accuracy: 0.8049\n",
            "Epoch 16/50\n",
            "16/16 [==============================] - 0s 6ms/step - loss: 0.5154 - accuracy: 0.7882 - val_loss: 0.5009 - val_accuracy: 0.8130\n",
            "Epoch 17/50\n",
            "16/16 [==============================] - 0s 7ms/step - loss: 0.5090 - accuracy: 0.8065 - val_loss: 0.4968 - val_accuracy: 0.8130\n",
            "Epoch 18/50\n",
            "16/16 [==============================] - 0s 7ms/step - loss: 0.5035 - accuracy: 0.8086 - val_loss: 0.4936 - val_accuracy: 0.8130\n",
            "Epoch 19/50\n",
            "16/16 [==============================] - 0s 6ms/step - loss: 0.4976 - accuracy: 0.8086 - val_loss: 0.4901 - val_accuracy: 0.8130\n",
            "Epoch 20/50\n",
            "16/16 [==============================] - 0s 7ms/step - loss: 0.4924 - accuracy: 0.8086 - val_loss: 0.4862 - val_accuracy: 0.8130\n",
            "Epoch 21/50\n",
            "16/16 [==============================] - 0s 8ms/step - loss: 0.4881 - accuracy: 0.8086 - val_loss: 0.4832 - val_accuracy: 0.8130\n",
            "Epoch 22/50\n",
            "16/16 [==============================] - 0s 7ms/step - loss: 0.4844 - accuracy: 0.8106 - val_loss: 0.4806 - val_accuracy: 0.8130\n",
            "Epoch 23/50\n",
            "16/16 [==============================] - 0s 6ms/step - loss: 0.4812 - accuracy: 0.8106 - val_loss: 0.4783 - val_accuracy: 0.8130\n",
            "Epoch 24/50\n",
            "16/16 [==============================] - 0s 8ms/step - loss: 0.4781 - accuracy: 0.8106 - val_loss: 0.4766 - val_accuracy: 0.8130\n",
            "Epoch 25/50\n",
            "16/16 [==============================] - 0s 7ms/step - loss: 0.4760 - accuracy: 0.8086 - val_loss: 0.4754 - val_accuracy: 0.8130\n",
            "Epoch 26/50\n",
            "16/16 [==============================] - 0s 7ms/step - loss: 0.4746 - accuracy: 0.8106 - val_loss: 0.4735 - val_accuracy: 0.8130\n",
            "Epoch 27/50\n",
            "16/16 [==============================] - 0s 7ms/step - loss: 0.4729 - accuracy: 0.8106 - val_loss: 0.4729 - val_accuracy: 0.8130\n",
            "Epoch 28/50\n",
            "16/16 [==============================] - 0s 6ms/step - loss: 0.4700 - accuracy: 0.8106 - val_loss: 0.4728 - val_accuracy: 0.8130\n",
            "Epoch 29/50\n",
            "16/16 [==============================] - 0s 6ms/step - loss: 0.4688 - accuracy: 0.8106 - val_loss: 0.4711 - val_accuracy: 0.8130\n",
            "Epoch 30/50\n",
            "16/16 [==============================] - 0s 9ms/step - loss: 0.4673 - accuracy: 0.8086 - val_loss: 0.4714 - val_accuracy: 0.8130\n",
            "Epoch 31/50\n",
            "16/16 [==============================] - 0s 7ms/step - loss: 0.4664 - accuracy: 0.8126 - val_loss: 0.4713 - val_accuracy: 0.8130\n",
            "Epoch 32/50\n",
            "16/16 [==============================] - 0s 6ms/step - loss: 0.4658 - accuracy: 0.8106 - val_loss: 0.4708 - val_accuracy: 0.8130\n",
            "Epoch 33/50\n",
            "16/16 [==============================] - 0s 6ms/step - loss: 0.4658 - accuracy: 0.8106 - val_loss: 0.4697 - val_accuracy: 0.8130\n",
            "Epoch 34/50\n",
            "16/16 [==============================] - 0s 8ms/step - loss: 0.4633 - accuracy: 0.8147 - val_loss: 0.4707 - val_accuracy: 0.8130\n",
            "Epoch 35/50\n",
            "16/16 [==============================] - 0s 7ms/step - loss: 0.4624 - accuracy: 0.8147 - val_loss: 0.4713 - val_accuracy: 0.8130\n",
            "Epoch 36/50\n",
            "16/16 [==============================] - 0s 6ms/step - loss: 0.4627 - accuracy: 0.8147 - val_loss: 0.4717 - val_accuracy: 0.8130\n",
            "Epoch 37/50\n",
            "16/16 [==============================] - 0s 6ms/step - loss: 0.4609 - accuracy: 0.8147 - val_loss: 0.4700 - val_accuracy: 0.8130\n",
            "Epoch 38/50\n",
            "16/16 [==============================] - 0s 9ms/step - loss: 0.4613 - accuracy: 0.8126 - val_loss: 0.4703 - val_accuracy: 0.8130\n",
            "Epoch 39/50\n",
            "16/16 [==============================] - 0s 6ms/step - loss: 0.4598 - accuracy: 0.8147 - val_loss: 0.4718 - val_accuracy: 0.8130\n",
            "Epoch 40/50\n",
            "16/16 [==============================] - 0s 6ms/step - loss: 0.4593 - accuracy: 0.8147 - val_loss: 0.4717 - val_accuracy: 0.8130\n",
            "Epoch 41/50\n",
            "16/16 [==============================] - 0s 6ms/step - loss: 0.4590 - accuracy: 0.8147 - val_loss: 0.4713 - val_accuracy: 0.8130\n",
            "Epoch 42/50\n",
            "16/16 [==============================] - 0s 7ms/step - loss: 0.4569 - accuracy: 0.8147 - val_loss: 0.4729 - val_accuracy: 0.8130\n",
            "Epoch 43/50\n",
            "16/16 [==============================] - 0s 7ms/step - loss: 0.4572 - accuracy: 0.8167 - val_loss: 0.4733 - val_accuracy: 0.8130\n",
            "Epoch 44/50\n",
            "16/16 [==============================] - 0s 7ms/step - loss: 0.4568 - accuracy: 0.8167 - val_loss: 0.4729 - val_accuracy: 0.8130\n",
            "Epoch 45/50\n",
            "16/16 [==============================] - 0s 6ms/step - loss: 0.4556 - accuracy: 0.8167 - val_loss: 0.4727 - val_accuracy: 0.8130\n",
            "Epoch 46/50\n",
            "16/16 [==============================] - 0s 7ms/step - loss: 0.4549 - accuracy: 0.8167 - val_loss: 0.4722 - val_accuracy: 0.8130\n",
            "Epoch 47/50\n",
            "16/16 [==============================] - 0s 9ms/step - loss: 0.4545 - accuracy: 0.8167 - val_loss: 0.4740 - val_accuracy: 0.8130\n",
            "Epoch 48/50\n",
            "16/16 [==============================] - 0s 7ms/step - loss: 0.4540 - accuracy: 0.8167 - val_loss: 0.4730 - val_accuracy: 0.8130\n",
            "Epoch 49/50\n",
            "16/16 [==============================] - 0s 6ms/step - loss: 0.4541 - accuracy: 0.8167 - val_loss: 0.4724 - val_accuracy: 0.8130\n",
            "Epoch 50/50\n",
            "16/16 [==============================] - 0s 7ms/step - loss: 0.4529 - accuracy: 0.8167 - val_loss: 0.4727 - val_accuracy: 0.8130\n"
          ]
        }
      ]
    },
    {
      "cell_type": "code",
      "source": [
        "prediction = model_functional.predict(X_test)"
      ],
      "metadata": {
        "colab": {
          "base_uri": "https://localhost:8080/"
        },
        "id": "NLq-tAMIRhYh",
        "outputId": "7a221967-7964-4f52-e42f-ea47753131d6"
      },
      "execution_count": 75,
      "outputs": [
        {
          "output_type": "stream",
          "name": "stdout",
          "text": [
            "4/4 [==============================] - 0s 8ms/step\n"
          ]
        }
      ]
    },
    {
      "cell_type": "code",
      "source": [
        "prediction = prediction.reshape(123,)"
      ],
      "metadata": {
        "id": "---yX6ZLQBm-"
      },
      "execution_count": 76,
      "outputs": []
    },
    {
      "cell_type": "code",
      "source": [
        "prediction_int = prediction >= 0.5\n",
        "prediction_int = prediction_int.astype(int)\n"
      ],
      "metadata": {
        "id": "LyVhdqLQSntt"
      },
      "execution_count": 77,
      "outputs": []
    },
    {
      "cell_type": "code",
      "source": [
        "accuracy_score(y_test,prediction_int)"
      ],
      "metadata": {
        "colab": {
          "base_uri": "https://localhost:8080/"
        },
        "id": "BwexTwdjSnof",
        "outputId": "3e40dabe-ce02-466c-d9b0-76ea6640a1e8"
      },
      "execution_count": 78,
      "outputs": [
        {
          "output_type": "execute_result",
          "data": {
            "text/plain": [
              "0.8130081300813008"
            ]
          },
          "metadata": {},
          "execution_count": 78
        }
      ]
    },
    {
      "cell_type": "code",
      "source": [
        "# summarize history for loss\n",
        "plt.plot(model_history.history['loss'])\n",
        "plt.plot(model_history.history['val_loss'])\n",
        "plt.title('model loss')\n",
        "plt.ylabel('loss')\n",
        "plt.xlabel('epoch')\n",
        "plt.legend(['train', 'validation'], loc='upper left')\n",
        "plt.show()\n",
        "\n"
      ],
      "metadata": {
        "colab": {
          "base_uri": "https://localhost:8080/",
          "height": 472
        },
        "id": "4R1yCwALS1HC",
        "outputId": "c79183a7-729a-4178-f981-eab4c7840a06"
      },
      "execution_count": 79,
      "outputs": [
        {
          "output_type": "display_data",
          "data": {
            "text/plain": [
              "<Figure size 640x480 with 1 Axes>"
            ],
            "image/png": "[encoded data removed]"
          },
          "metadata": {}
        }
      ]
    },
    {
      "cell_type": "code",
      "source": [
        "# summarize history for loss\n",
        "plt.plot(model_history.history['accuracy'])\n",
        "plt.plot(model_history.history['val_accuracy'])\n",
        "plt.title('model accuracy')\n",
        "plt.ylabel('accuracy')\n",
        "plt.xlabel('epoch')\n",
        "plt.legend(['train', 'validation'], loc='upper left')\n",
        "plt.show()\n"
      ],
      "metadata": {
        "colab": {
          "base_uri": "https://localhost:8080/",
          "height": 472
        },
        "id": "x9pmQDGMSnj5",
        "outputId": "94b9eb07-fa70-4480-ea7b-32ce1ccb6fde"
      },
      "execution_count": 80,
      "outputs": [
        {
          "output_type": "display_data",
          "data": {
            "text/plain": [
              "<Figure size 640x480 with 1 Axes>"
            ],
            "image/png": "[encoded data removed]"
          },
          "metadata": {}
        }
      ]
    },
    {
      "cell_type": "code",
      "source": [],
      "metadata": {
        "id": "YAVqY82QPv3H"
      },
      "execution_count": null,
      "outputs": []
    },
    {
      "cell_type": "code",
      "source": [
        "x = Input(shape=(input_neurons,))\n",
        "hidden1 = Dense(units=neuron_hidden_layer_1, activation='relu')(x)\n",
        "hidden2 = Dense(units=neuron_hidden_layer_2, activation='relu')(hidden1)\n",
        "output = Dense(units=output_neurons, activation='sigmoid')(hidden2)\n",
        "\n",
        "model_functional = Model(x, output)"
      ],
      "metadata": {
        "id": "mq664YU1JDkN"
      },
      "execution_count": 35,
      "outputs": []
    },
    {
      "cell_type": "code",
      "source": [
        "model_functional.summary()"
      ],
      "metadata": {
        "colab": {
          "base_uri": "https://localhost:8080/"
        },
        "id": "E8jZ4WF6MZZk",
        "outputId": "170b64fc-0068-4e3f-df03-83cb9ebfa0ba"
      },
      "execution_count": 36,
      "outputs": [
        {
          "output_type": "stream",
          "name": "stdout",
          "text": [
            "Model: \"model\"\n",
            "_________________________________________________________________\n",
            " Layer (type)                Output Shape              Param #   \n",
            "=================================================================\n",
            " input_2 (InputLayer)        [(None, 11)]              0         \n",
            "                                                                 \n",
            " dense_3 (Dense)             (None, 10)                120       \n",
            "                                                                 \n",
            " dense_4 (Dense)             (None, 5)                 55        \n",
            "                                                                 \n",
            " dense_5 (Dense)             (None, 1)                 6         \n",
            "                                                                 \n",
            "=================================================================\n",
            "Total params: 181 (724.00 Byte)\n",
            "Trainable params: 181 (724.00 Byte)\n",
            "Non-trainable params: 0 (0.00 Byte)\n",
            "_________________________________________________________________\n"
          ]
        }
      ]
    },
    {
      "cell_type": "code",
      "source": [
        "model_functional.compile(loss='binary_crossentropy', optimizer = 'Adam',metrics = ['accuracy'])"
      ],
      "metadata": {
        "id": "53giFDBNMmAd"
      },
      "execution_count": 39,
      "outputs": []
    },
    {
      "cell_type": "code",
      "source": [
        "model_history = model_functional.fit(X_train, y_train, validation_data=(X_test, y_test), epochs=50)"
      ],
      "metadata": {
        "colab": {
          "base_uri": "https://localhost:8080/"
        },
        "id": "MHrb-NSaM8Lg",
        "outputId": "1fad84ed-d849-4053-8b75-e2b5929396cf"
      },
      "execution_count": 40,
      "outputs": [
        {
          "output_type": "stream",
          "name": "stdout",
          "text": [
            "Epoch 1/50\n",
            "16/16 [==============================] - 1s 16ms/step - loss: 0.6377 - accuracy: 0.6660 - val_loss: 0.6388 - val_accuracy: 0.6667\n",
            "Epoch 2/50\n",
            "16/16 [==============================] - 0s 6ms/step - loss: 0.6192 - accuracy: 0.6721 - val_loss: 0.6239 - val_accuracy: 0.6911\n",
            "Epoch 3/50\n",
            "16/16 [==============================] - 0s 6ms/step - loss: 0.6055 - accuracy: 0.6864 - val_loss: 0.6110 - val_accuracy: 0.6911\n",
            "Epoch 4/50\n",
            "16/16 [==============================] - 0s 5ms/step - loss: 0.5950 - accuracy: 0.6864 - val_loss: 0.6014 - val_accuracy: 0.6911\n",
            "Epoch 5/50\n",
            "16/16 [==============================] - 0s 6ms/step - loss: 0.5883 - accuracy: 0.6864 - val_loss: 0.5943 - val_accuracy: 0.6911\n",
            "Epoch 6/50\n",
            "16/16 [==============================] - 0s 6ms/step - loss: 0.5819 - accuracy: 0.6864 - val_loss: 0.5880 - val_accuracy: 0.6911\n",
            "Epoch 7/50\n",
            "16/16 [==============================] - 0s 6ms/step - loss: 0.5759 - accuracy: 0.6864 - val_loss: 0.5812 - val_accuracy: 0.6911\n",
            "Epoch 8/50\n",
            "16/16 [==============================] - 0s 7ms/step - loss: 0.5697 - accuracy: 0.6864 - val_loss: 0.5742 - val_accuracy: 0.6992\n",
            "Epoch 9/50\n",
            "16/16 [==============================] - 0s 8ms/step - loss: 0.5632 - accuracy: 0.7088 - val_loss: 0.5669 - val_accuracy: 0.7154\n",
            "Epoch 10/50\n",
            "16/16 [==============================] - 0s 6ms/step - loss: 0.5565 - accuracy: 0.7271 - val_loss: 0.5588 - val_accuracy: 0.7154\n",
            "Epoch 11/50\n",
            "16/16 [==============================] - 0s 6ms/step - loss: 0.5501 - accuracy: 0.7495 - val_loss: 0.5500 - val_accuracy: 0.7398\n",
            "Epoch 12/50\n",
            "16/16 [==============================] - 0s 6ms/step - loss: 0.5427 - accuracy: 0.7576 - val_loss: 0.5421 - val_accuracy: 0.7317\n",
            "Epoch 13/50\n",
            "16/16 [==============================] - 0s 9ms/step - loss: 0.5338 - accuracy: 0.7739 - val_loss: 0.5321 - val_accuracy: 0.7805\n",
            "Epoch 14/50\n",
            "16/16 [==============================] - 0s 10ms/step - loss: 0.5262 - accuracy: 0.7984 - val_loss: 0.5228 - val_accuracy: 0.8130\n",
            "Epoch 15/50\n",
            "16/16 [==============================] - 0s 9ms/step - loss: 0.5170 - accuracy: 0.8106 - val_loss: 0.5134 - val_accuracy: 0.8130\n",
            "Epoch 16/50\n",
            "16/16 [==============================] - 0s 11ms/step - loss: 0.5089 - accuracy: 0.8106 - val_loss: 0.5044 - val_accuracy: 0.8130\n",
            "Epoch 17/50\n",
            "16/16 [==============================] - 0s 10ms/step - loss: 0.5016 - accuracy: 0.8106 - val_loss: 0.4970 - val_accuracy: 0.8130\n",
            "Epoch 18/50\n",
            "16/16 [==============================] - 0s 10ms/step - loss: 0.4959 - accuracy: 0.8106 - val_loss: 0.4914 - val_accuracy: 0.8130\n",
            "Epoch 19/50\n",
            "16/16 [==============================] - 0s 9ms/step - loss: 0.4916 - accuracy: 0.8106 - val_loss: 0.4879 - val_accuracy: 0.8130\n",
            "Epoch 20/50\n",
            "16/16 [==============================] - 0s 9ms/step - loss: 0.4864 - accuracy: 0.8126 - val_loss: 0.4835 - val_accuracy: 0.8130\n",
            "Epoch 21/50\n",
            "16/16 [==============================] - 0s 8ms/step - loss: 0.4843 - accuracy: 0.8126 - val_loss: 0.4807 - val_accuracy: 0.8130\n",
            "Epoch 22/50\n",
            "16/16 [==============================] - 0s 10ms/step - loss: 0.4829 - accuracy: 0.8126 - val_loss: 0.4794 - val_accuracy: 0.8130\n",
            "Epoch 23/50\n",
            "16/16 [==============================] - 0s 10ms/step - loss: 0.4779 - accuracy: 0.8106 - val_loss: 0.4771 - val_accuracy: 0.8130\n",
            "Epoch 24/50\n",
            "16/16 [==============================] - 0s 9ms/step - loss: 0.4770 - accuracy: 0.8126 - val_loss: 0.4759 - val_accuracy: 0.8130\n",
            "Epoch 25/50\n",
            "16/16 [==============================] - 0s 9ms/step - loss: 0.4742 - accuracy: 0.8126 - val_loss: 0.4741 - val_accuracy: 0.8130\n",
            "Epoch 26/50\n",
            "16/16 [==============================] - 0s 8ms/step - loss: 0.4722 - accuracy: 0.8126 - val_loss: 0.4734 - val_accuracy: 0.8130\n",
            "Epoch 27/50\n",
            "16/16 [==============================] - 0s 8ms/step - loss: 0.4709 - accuracy: 0.8126 - val_loss: 0.4721 - val_accuracy: 0.8130\n",
            "Epoch 28/50\n",
            "16/16 [==============================] - 0s 8ms/step - loss: 0.4700 - accuracy: 0.8126 - val_loss: 0.4712 - val_accuracy: 0.8130\n",
            "Epoch 29/50\n",
            "16/16 [==============================] - 0s 10ms/step - loss: 0.4693 - accuracy: 0.8126 - val_loss: 0.4710 - val_accuracy: 0.8130\n",
            "Epoch 30/50\n",
            "16/16 [==============================] - 0s 8ms/step - loss: 0.4676 - accuracy: 0.8126 - val_loss: 0.4704 - val_accuracy: 0.8130\n",
            "Epoch 31/50\n",
            "16/16 [==============================] - 0s 10ms/step - loss: 0.4671 - accuracy: 0.8126 - val_loss: 0.4703 - val_accuracy: 0.8130\n",
            "Epoch 32/50\n",
            "16/16 [==============================] - 0s 10ms/step - loss: 0.4665 - accuracy: 0.8106 - val_loss: 0.4698 - val_accuracy: 0.8130\n",
            "Epoch 33/50\n",
            "16/16 [==============================] - 0s 10ms/step - loss: 0.4655 - accuracy: 0.8106 - val_loss: 0.4696 - val_accuracy: 0.8130\n",
            "Epoch 34/50\n",
            "16/16 [==============================] - 0s 10ms/step - loss: 0.4656 - accuracy: 0.8126 - val_loss: 0.4699 - val_accuracy: 0.8130\n",
            "Epoch 35/50\n",
            "16/16 [==============================] - 0s 14ms/step - loss: 0.4661 - accuracy: 0.8106 - val_loss: 0.4700 - val_accuracy: 0.8130\n",
            "Epoch 36/50\n",
            "16/16 [==============================] - 0s 9ms/step - loss: 0.4641 - accuracy: 0.8106 - val_loss: 0.4702 - val_accuracy: 0.8130\n",
            "Epoch 37/50\n",
            "16/16 [==============================] - 0s 12ms/step - loss: 0.4631 - accuracy: 0.8106 - val_loss: 0.4696 - val_accuracy: 0.8130\n",
            "Epoch 38/50\n",
            "16/16 [==============================] - 0s 9ms/step - loss: 0.4633 - accuracy: 0.8106 - val_loss: 0.4699 - val_accuracy: 0.8130\n",
            "Epoch 39/50\n",
            "16/16 [==============================] - 0s 9ms/step - loss: 0.4632 - accuracy: 0.8106 - val_loss: 0.4701 - val_accuracy: 0.8130\n",
            "Epoch 40/50\n",
            "16/16 [==============================] - 0s 9ms/step - loss: 0.4623 - accuracy: 0.8106 - val_loss: 0.4704 - val_accuracy: 0.8130\n",
            "Epoch 41/50\n",
            "16/16 [==============================] - 0s 15ms/step - loss: 0.4619 - accuracy: 0.8106 - val_loss: 0.4704 - val_accuracy: 0.8130\n",
            "Epoch 42/50\n",
            "16/16 [==============================] - 0s 10ms/step - loss: 0.4611 - accuracy: 0.8106 - val_loss: 0.4707 - val_accuracy: 0.8130\n",
            "Epoch 43/50\n",
            "16/16 [==============================] - 0s 11ms/step - loss: 0.4616 - accuracy: 0.8106 - val_loss: 0.4711 - val_accuracy: 0.8130\n",
            "Epoch 44/50\n",
            "16/16 [==============================] - 0s 7ms/step - loss: 0.4612 - accuracy: 0.8106 - val_loss: 0.4712 - val_accuracy: 0.8130\n",
            "Epoch 45/50\n",
            "16/16 [==============================] - 0s 7ms/step - loss: 0.4609 - accuracy: 0.8106 - val_loss: 0.4712 - val_accuracy: 0.8130\n",
            "Epoch 46/50\n",
            "16/16 [==============================] - 0s 6ms/step - loss: 0.4611 - accuracy: 0.8106 - val_loss: 0.4708 - val_accuracy: 0.8130\n",
            "Epoch 47/50\n",
            "16/16 [==============================] - 0s 7ms/step - loss: 0.4611 - accuracy: 0.8106 - val_loss: 0.4712 - val_accuracy: 0.8130\n",
            "Epoch 48/50\n",
            "16/16 [==============================] - 0s 8ms/step - loss: 0.4597 - accuracy: 0.8106 - val_loss: 0.4716 - val_accuracy: 0.8130\n",
            "Epoch 49/50\n",
            "16/16 [==============================] - 0s 6ms/step - loss: 0.4594 - accuracy: 0.8106 - val_loss: 0.4717 - val_accuracy: 0.8130\n",
            "Epoch 50/50\n",
            "16/16 [==============================] - 0s 6ms/step - loss: 0.4594 - accuracy: 0.8106 - val_loss: 0.4716 - val_accuracy: 0.8130\n"
          ]
        }
      ]
    },
    {
      "cell_type": "code",
      "source": [
        "prediction = model_functional.predict(X_test)"
      ],
      "metadata": {
        "colab": {
          "base_uri": "https://localhost:8080/"
        },
        "id": "vI66pYgtNIKk",
        "outputId": "07ec1b6e-d06d-4cdd-9a2f-79923b825a46"
      },
      "execution_count": 41,
      "outputs": [
        {
          "output_type": "stream",
          "name": "stdout",
          "text": [
            "4/4 [==============================] - 0s 6ms/step\n"
          ]
        }
      ]
    },
    {
      "cell_type": "code",
      "source": [
        "prediction = prediction.reshape(123,)"
      ],
      "metadata": {
        "id": "xSYBRY43NNUJ"
      },
      "execution_count": 43,
      "outputs": []
    },
    {
      "cell_type": "code",
      "source": [
        "prediction_int = prediction >= 0.5\n",
        "prediction_int = prediction_int.astype(int)"
      ],
      "metadata": {
        "id": "pTCeu7suNW9d"
      },
      "execution_count": 45,
      "outputs": []
    },
    {
      "cell_type": "code",
      "source": [
        "accuracy_score(y_test,prediction_int)"
      ],
      "metadata": {
        "colab": {
          "base_uri": "https://localhost:8080/"
        },
        "id": "yPdtpNyKNr5h",
        "outputId": "593da0ef-057b-4a4b-8a76-b88383766eeb"
      },
      "execution_count": 47,
      "outputs": [
        {
          "output_type": "execute_result",
          "data": {
            "text/plain": [
              "0.8130081300813008"
            ]
          },
          "metadata": {},
          "execution_count": 47
        }
      ]
    },
    {
      "cell_type": "code",
      "source": [
        "# summarize history for loss\n",
        "plt.plot(model_history.history['loss'])\n",
        "plt.plot(model_history.history['val_loss'])\n",
        "plt.title('model loss')\n",
        "plt.ylabel('loss')\n",
        "plt.xlabel('epoch')\n",
        "plt.legend(['train', 'validation'], loc='upper left')\n",
        "plt.show()"
      ],
      "metadata": {
        "colab": {
          "base_uri": "https://localhost:8080/",
          "height": 472
        },
        "id": "losOITVdOK4l",
        "outputId": "a8469263-fd7e-4552-b46f-dc872b62237c"
      },
      "execution_count": 48,
      "outputs": [
        {
          "output_type": "display_data",
          "data": {
            "text/plain": [
              "<Figure size 640x480 with 1 Axes>"
            ],
            "image/png": "[encoded data removed]"
          },
          "metadata": {}
        }
      ]
    },
    {
      "cell_type": "code",
      "source": [
        "# summarize history for loss\n",
        "plt.plot(model_history.history['accuracy'])\n",
        "plt.plot(model_history.history['val_accuracy'])\n",
        "plt.title('model accuracy')\n",
        "plt.ylabel('accuracy')\n",
        "plt.xlabel('epoch')\n",
        "plt.legend(['train', 'validation'], loc='upper left')\n",
        "plt.show()"
      ],
      "metadata": {
        "colab": {
          "base_uri": "https://localhost:8080/",
          "height": 472
        },
        "id": "RqGCdkqVOaQK",
        "outputId": "340df5cc-0365-4c99-f05f-7ba6ffd84e94"
      },
      "execution_count": 49,
      "outputs": [
        {
          "output_type": "display_data",
          "data": {
            "text/plain": [
              "<Figure size 640x480 with 1 Axes>"
            ],
            "image/png": "[encoded data removed]"
          },
          "metadata": {}
        }
      ]
    },
    {
      "cell_type": "code",
      "metadata": {
        "id": "PnsVNEbZglNf",
        "outputId": "f5682c52-96ca-4e6a-df2c-448ac7db4460",
        "colab": {
          "base_uri": "https://localhost:8080/"
        }
      },
      "source": [
        "# number of parameters between input and first hidden layer\n",
        "\n",
        "input_neurons*neuron_hidden_layer_1"
      ],
      "execution_count": 23,
      "outputs": [
        {
          "output_type": "execute_result",
          "data": {
            "text/plain": [
              "110"
            ]
          },
          "metadata": {},
          "execution_count": 23
        }
      ]
    },
    {
      "cell_type": "code",
      "metadata": {
        "scrolled": true,
        "id": "npisFmvIglNl",
        "outputId": "6e996074-0757-4979-fab1-932439a8a024",
        "colab": {
          "base_uri": "https://localhost:8080/"
        }
      },
      "source": [
        "# number of parameters between input and first hidden layer\n",
        "\n",
        "# adding the bias for each neuron of first hidden layer\n",
        "\n",
        "input_neurons*neuron_hidden_layer_1 + 10"
      ],
      "execution_count": 24,
      "outputs": [
        {
          "output_type": "execute_result",
          "data": {
            "text/plain": [
              "120"
            ]
          },
          "metadata": {},
          "execution_count": 24
        }
      ]
    },
    {
      "cell_type": "code",
      "metadata": {
        "id": "j37Xpr-8glNq",
        "outputId": "3e8f5b8f-3904-4e13-b4af-308febe97222",
        "colab": {
          "base_uri": "https://localhost:8080/"
        }
      },
      "source": [
        "# number of parameters between first and second hidden layer\n",
        "\n",
        "neuron_hidden_layer_1*neuron_hidden_layer_2 + 5"
      ],
      "execution_count": 25,
      "outputs": [
        {
          "output_type": "execute_result",
          "data": {
            "text/plain": [
              "55"
            ]
          },
          "metadata": {},
          "execution_count": 25
        }
      ]
    },
    {
      "cell_type": "code",
      "metadata": {
        "id": "UXrvaFnXglNu",
        "outputId": "1018ce78-b2d7-4984-ade2-5f3af8d3d884",
        "colab": {
          "base_uri": "https://localhost:8080/"
        }
      },
      "source": [
        "# number of parameters between second hidden and output layer\n",
        "\n",
        "neuron_hidden_layer_2*output_neurons + 1"
      ],
      "execution_count": 26,
      "outputs": [
        {
          "output_type": "execute_result",
          "data": {
            "text/plain": [
              "6"
            ]
          },
          "metadata": {},
          "execution_count": 26
        }
      ]
    },
    {
      "cell_type": "markdown",
      "metadata": {
        "id": "xm1bbbE_glNz"
      },
      "source": [
        "## 4. Compiling the model (defining loss function, optimizer)"
      ]
    },
    {
      "cell_type": "code",
      "metadata": {
        "id": "P6hqkDWIglN0"
      },
      "source": [
        "# compiling the model\n",
        "\n",
        "# loss as binary_crossentropy, since we have binary classification problem\n",
        "# defining the optimizer as adam\n",
        "# Evaluation metric as accuracy\n",
        "\n",
        "model.compile(loss='binary_crossentropy',optimizer='Adam',metrics=['accuracy'])"
      ],
      "execution_count": 27,
      "outputs": []
    },
    {
      "cell_type": "markdown",
      "metadata": {
        "id": "T1oVMpRMglN5"
      },
      "source": [
        "## 5. Training the model"
      ]
    },
    {
      "cell_type": "code",
      "metadata": {
        "id": "pViJI3-TglN6",
        "outputId": "c9aa9b38-7623-4867-de23-4897aecc4a88",
        "colab": {
          "base_uri": "https://localhost:8080/"
        }
      },
      "source": [
        "# training the model\n",
        "\n",
        "# passing the independent and dependent features for training set for training the model\n",
        "\n",
        "# validation data will be evaluated at the end of each epoch\n",
        "\n",
        "# setting the epochs as 50\n",
        "\n",
        "# storing the trained model in model_history variable which will be used to visualize the training process\n",
        "\n",
        "model_history = model.fit(X_train, y_train, validation_data=(X_test, y_test), epochs=50)"
      ],
      "execution_count": 28,
      "outputs": [
        {
          "output_type": "stream",
          "name": "stdout",
          "text": [
            "Epoch 1/50\n",
            "16/16 [==============================] - 4s 29ms/step - loss: 0.7356 - accuracy: 0.3340 - val_loss: 0.7248 - val_accuracy: 0.3577\n",
            "Epoch 2/50\n",
            "16/16 [==============================] - 0s 9ms/step - loss: 0.7103 - accuracy: 0.3809 - val_loss: 0.6997 - val_accuracy: 0.4065\n",
            "Epoch 3/50\n",
            "16/16 [==============================] - 0s 9ms/step - loss: 0.6906 - accuracy: 0.5845 - val_loss: 0.6800 - val_accuracy: 0.6098\n",
            "Epoch 4/50\n",
            "16/16 [==============================] - 0s 8ms/step - loss: 0.6751 - accuracy: 0.6741 - val_loss: 0.6662 - val_accuracy: 0.6748\n",
            "Epoch 5/50\n",
            "16/16 [==============================] - 0s 13ms/step - loss: 0.6642 - accuracy: 0.6823 - val_loss: 0.6531 - val_accuracy: 0.6911\n",
            "Epoch 6/50\n",
            "16/16 [==============================] - 0s 10ms/step - loss: 0.6525 - accuracy: 0.6864 - val_loss: 0.6439 - val_accuracy: 0.6911\n",
            "Epoch 7/50\n",
            "16/16 [==============================] - 0s 11ms/step - loss: 0.6436 - accuracy: 0.6864 - val_loss: 0.6355 - val_accuracy: 0.6911\n",
            "Epoch 8/50\n",
            "16/16 [==============================] - 0s 12ms/step - loss: 0.6349 - accuracy: 0.6864 - val_loss: 0.6279 - val_accuracy: 0.6911\n",
            "Epoch 9/50\n",
            "16/16 [==============================] - 0s 9ms/step - loss: 0.6272 - accuracy: 0.6864 - val_loss: 0.6212 - val_accuracy: 0.6911\n",
            "Epoch 10/50\n",
            "16/16 [==============================] - 0s 9ms/step - loss: 0.6206 - accuracy: 0.6864 - val_loss: 0.6166 - val_accuracy: 0.6911\n",
            "Epoch 11/50\n",
            "16/16 [==============================] - 0s 11ms/step - loss: 0.6167 - accuracy: 0.6864 - val_loss: 0.6120 - val_accuracy: 0.6911\n",
            "Epoch 12/50\n",
            "16/16 [==============================] - 0s 9ms/step - loss: 0.6121 - accuracy: 0.6864 - val_loss: 0.6088 - val_accuracy: 0.6911\n",
            "Epoch 13/50\n",
            "16/16 [==============================] - 0s 13ms/step - loss: 0.6082 - accuracy: 0.6864 - val_loss: 0.6059 - val_accuracy: 0.6911\n",
            "Epoch 14/50\n",
            "16/16 [==============================] - 0s 10ms/step - loss: 0.6046 - accuracy: 0.6864 - val_loss: 0.6027 - val_accuracy: 0.6911\n",
            "Epoch 15/50\n",
            "16/16 [==============================] - 0s 9ms/step - loss: 0.6008 - accuracy: 0.6864 - val_loss: 0.5992 - val_accuracy: 0.6911\n",
            "Epoch 16/50\n",
            "16/16 [==============================] - 0s 9ms/step - loss: 0.5959 - accuracy: 0.6864 - val_loss: 0.5955 - val_accuracy: 0.6911\n",
            "Epoch 17/50\n",
            "16/16 [==============================] - 0s 7ms/step - loss: 0.5908 - accuracy: 0.6884 - val_loss: 0.5916 - val_accuracy: 0.6911\n",
            "Epoch 18/50\n",
            "16/16 [==============================] - 0s 7ms/step - loss: 0.5845 - accuracy: 0.6884 - val_loss: 0.5859 - val_accuracy: 0.6911\n",
            "Epoch 19/50\n",
            "16/16 [==============================] - 0s 7ms/step - loss: 0.5757 - accuracy: 0.6884 - val_loss: 0.5803 - val_accuracy: 0.6911\n",
            "Epoch 20/50\n",
            "16/16 [==============================] - 0s 8ms/step - loss: 0.5699 - accuracy: 0.6925 - val_loss: 0.5767 - val_accuracy: 0.6992\n",
            "Epoch 21/50\n",
            "16/16 [==============================] - 0s 8ms/step - loss: 0.5637 - accuracy: 0.7067 - val_loss: 0.5719 - val_accuracy: 0.6992\n",
            "Epoch 22/50\n",
            "16/16 [==============================] - 0s 6ms/step - loss: 0.5582 - accuracy: 0.7149 - val_loss: 0.5675 - val_accuracy: 0.6992\n",
            "Epoch 23/50\n",
            "16/16 [==============================] - 0s 6ms/step - loss: 0.5516 - accuracy: 0.7189 - val_loss: 0.5630 - val_accuracy: 0.6992\n",
            "Epoch 24/50\n",
            "16/16 [==============================] - 0s 5ms/step - loss: 0.5465 - accuracy: 0.7413 - val_loss: 0.5602 - val_accuracy: 0.7073\n",
            "Epoch 25/50\n",
            "16/16 [==============================] - 0s 6ms/step - loss: 0.5409 - accuracy: 0.7536 - val_loss: 0.5567 - val_accuracy: 0.7236\n",
            "Epoch 26/50\n",
            "16/16 [==============================] - 0s 6ms/step - loss: 0.5357 - accuracy: 0.7597 - val_loss: 0.5532 - val_accuracy: 0.7480\n",
            "Epoch 27/50\n",
            "16/16 [==============================] - 0s 7ms/step - loss: 0.5312 - accuracy: 0.7719 - val_loss: 0.5484 - val_accuracy: 0.7480\n",
            "Epoch 28/50\n",
            "16/16 [==============================] - 0s 6ms/step - loss: 0.5263 - accuracy: 0.7739 - val_loss: 0.5445 - val_accuracy: 0.7480\n",
            "Epoch 29/50\n",
            "16/16 [==============================] - 0s 7ms/step - loss: 0.5218 - accuracy: 0.7902 - val_loss: 0.5405 - val_accuracy: 0.7724\n",
            "Epoch 30/50\n",
            "16/16 [==============================] - 0s 7ms/step - loss: 0.5173 - accuracy: 0.7943 - val_loss: 0.5363 - val_accuracy: 0.7805\n",
            "Epoch 31/50\n",
            "16/16 [==============================] - 0s 6ms/step - loss: 0.5126 - accuracy: 0.7943 - val_loss: 0.5322 - val_accuracy: 0.7967\n",
            "Epoch 32/50\n",
            "16/16 [==============================] - 0s 6ms/step - loss: 0.5090 - accuracy: 0.8024 - val_loss: 0.5274 - val_accuracy: 0.7967\n",
            "Epoch 33/50\n",
            "16/16 [==============================] - 0s 7ms/step - loss: 0.5053 - accuracy: 0.8065 - val_loss: 0.5234 - val_accuracy: 0.7967\n",
            "Epoch 34/50\n",
            "16/16 [==============================] - 0s 6ms/step - loss: 0.5012 - accuracy: 0.8106 - val_loss: 0.5207 - val_accuracy: 0.8049\n",
            "Epoch 35/50\n",
            "16/16 [==============================] - 0s 6ms/step - loss: 0.4980 - accuracy: 0.8106 - val_loss: 0.5167 - val_accuracy: 0.8049\n",
            "Epoch 36/50\n",
            "16/16 [==============================] - 0s 7ms/step - loss: 0.4954 - accuracy: 0.8106 - val_loss: 0.5141 - val_accuracy: 0.8130\n",
            "Epoch 37/50\n",
            "16/16 [==============================] - 0s 8ms/step - loss: 0.4926 - accuracy: 0.8106 - val_loss: 0.5117 - val_accuracy: 0.8130\n",
            "Epoch 38/50\n",
            "16/16 [==============================] - 0s 8ms/step - loss: 0.4901 - accuracy: 0.8106 - val_loss: 0.5091 - val_accuracy: 0.8130\n",
            "Epoch 39/50\n",
            "16/16 [==============================] - 0s 8ms/step - loss: 0.4874 - accuracy: 0.8106 - val_loss: 0.5070 - val_accuracy: 0.8130\n",
            "Epoch 40/50\n",
            "16/16 [==============================] - 0s 6ms/step - loss: 0.4873 - accuracy: 0.8106 - val_loss: 0.5058 - val_accuracy: 0.8130\n",
            "Epoch 41/50\n",
            "16/16 [==============================] - 0s 6ms/step - loss: 0.4829 - accuracy: 0.8106 - val_loss: 0.5025 - val_accuracy: 0.8130\n",
            "Epoch 42/50\n",
            "16/16 [==============================] - 0s 6ms/step - loss: 0.4813 - accuracy: 0.8106 - val_loss: 0.5007 - val_accuracy: 0.8130\n",
            "Epoch 43/50\n",
            "16/16 [==============================] - 0s 6ms/step - loss: 0.4795 - accuracy: 0.8106 - val_loss: 0.4996 - val_accuracy: 0.8130\n",
            "Epoch 44/50\n",
            "16/16 [==============================] - 0s 7ms/step - loss: 0.4779 - accuracy: 0.8106 - val_loss: 0.4974 - val_accuracy: 0.8130\n",
            "Epoch 45/50\n",
            "16/16 [==============================] - 0s 6ms/step - loss: 0.4768 - accuracy: 0.8106 - val_loss: 0.4956 - val_accuracy: 0.8130\n",
            "Epoch 46/50\n",
            "16/16 [==============================] - 0s 7ms/step - loss: 0.4745 - accuracy: 0.8106 - val_loss: 0.4938 - val_accuracy: 0.8130\n",
            "Epoch 47/50\n",
            "16/16 [==============================] - 0s 6ms/step - loss: 0.4732 - accuracy: 0.8106 - val_loss: 0.4922 - val_accuracy: 0.8130\n",
            "Epoch 48/50\n",
            "16/16 [==============================] - 0s 7ms/step - loss: 0.4723 - accuracy: 0.8106 - val_loss: 0.4911 - val_accuracy: 0.8130\n",
            "Epoch 49/50\n",
            "16/16 [==============================] - 0s 7ms/step - loss: 0.4706 - accuracy: 0.8106 - val_loss: 0.4897 - val_accuracy: 0.8130\n",
            "Epoch 50/50\n",
            "16/16 [==============================] - 0s 7ms/step - loss: 0.4707 - accuracy: 0.8106 - val_loss: 0.4883 - val_accuracy: 0.8130\n"
          ]
        }
      ]
    },
    {
      "cell_type": "markdown",
      "metadata": {
        "id": "hBZ_3aumglN9"
      },
      "source": [
        "## 6. Evaluating model performance on validation set"
      ]
    },
    {
      "cell_type": "code",
      "metadata": {
        "id": "qpBoHi7jglN_",
        "colab": {
          "base_uri": "https://localhost:8080/"
        },
        "outputId": "ed3721ca-229f-4973-dac9-f6fa6bcc1efa"
      },
      "source": [
        "# getting predictions for the validation set\n",
        "#prediction = model.predict_classes(X_test)\n",
        "prediction = np.where(model.predict(X_test) < 0.5, 0, 1)"
      ],
      "execution_count": 30,
      "outputs": [
        {
          "output_type": "stream",
          "name": "stdout",
          "text": [
            "4/4 [==============================] - 0s 3ms/step\n"
          ]
        }
      ]
    },
    {
      "cell_type": "code",
      "metadata": {
        "id": "jMapdscmglOD",
        "outputId": "48735195-6c9c-4ed3-80ab-7887d99f4b7b",
        "colab": {
          "base_uri": "https://localhost:8080/"
        }
      },
      "source": [
        "# calculating the accuracy on validation set\n",
        "accuracy_score(y_test, prediction)"
      ],
      "execution_count": 31,
      "outputs": [
        {
          "output_type": "execute_result",
          "data": {
            "text/plain": [
              "0.8130081300813008"
            ]
          },
          "metadata": {},
          "execution_count": 31
        }
      ]
    },
    {
      "cell_type": "markdown",
      "metadata": {
        "id": "rLvGzvLcglOH"
      },
      "source": [
        "### Visualizing the model performance"
      ]
    },
    {
      "cell_type": "code",
      "metadata": {
        "id": "68APv0UuglOI",
        "outputId": "69ab1c4f-fa34-4e60-d8ab-e706ac934ce9",
        "colab": {
          "base_uri": "https://localhost:8080/",
          "height": 472
        }
      },
      "source": [
        "# summarize history for loss\n",
        "plt.plot(model_history.history['loss'])\n",
        "plt.plot(model_history.history['val_loss'])\n",
        "plt.title('model loss')\n",
        "plt.ylabel('loss')\n",
        "plt.xlabel('epoch')\n",
        "plt.legend(['train', 'validation'], loc='upper left')\n",
        "plt.show()"
      ],
      "execution_count": 32,
      "outputs": [
        {
          "output_type": "display_data",
          "data": {
            "text/plain": [
              "<Figure size 640x480 with 1 Axes>"
            ],
            "image/png": "[encoded data removed]"
          },
          "metadata": {}
        }
      ]
    },
    {
      "cell_type": "code",
      "metadata": {
        "id": "AiKe0wBbglOM",
        "outputId": "3262465c-ddc9-4261-bf30-73a71079debc",
        "colab": {
          "base_uri": "https://localhost:8080/",
          "height": 472
        }
      },
      "source": [
        "# summarize history for accuracy\n",
        "plt.plot(model_history.history['accuracy'])\n",
        "plt.plot(model_history.history['val_accuracy'])\n",
        "plt.title('model accuracy')\n",
        "plt.ylabel('accuracy')\n",
        "plt.xlabel('epoch')\n",
        "plt.legend(['train', 'validation'], loc='upper left')\n",
        "plt.show()"
      ],
      "execution_count": 33,
      "outputs": [
        {
          "output_type": "display_data",
          "data": {
            "text/plain": [
              "<Figure size 640x480 with 1 Axes>"
            ],
            "image/png": "[encoded data removed]"
          },
          "metadata": {}
        }
      ]
    },
    {
      "cell_type": "code",
      "metadata": {
        "id": "tvVzU1Gwu7mb"
      },
      "source": [],
      "execution_count": null,
      "outputs": []
    }
  ]
}