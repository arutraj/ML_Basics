{
  "nbformat": 4,
  "nbformat_minor": 0,
  "metadata": {
    "kernelspec": {
      "name": "python3",
      "display_name": "Python 3"
    },
    "language_info": {
      "codemirror_mode": {
        "name": "ipython",
        "version": 3
      },
      "file_extension": ".py",
      "mimetype": "text/x-python",
      "name": "python",
      "nbconvert_exporter": "python",
      "pygments_lexer": "ipython3",
      "version": "3.6.5"
    },
    "colab": {
      "provenance": [],
      "include_colab_link": true
    },
    "accelerator": "GPU"
  },
  "cells": [
    {
      "cell_type": "markdown",
      "metadata": {
        "id": "view-in-github",
        "colab_type": "text"
      },
      "source": [
        "<a href=\"https://colab.research.google.com/github/arutraj/ML_Basics/blob/main/Weight_Initialization_Techniques_in_Keras.ipynb\" target=\"_parent\"><img src=\"https://colab.research.google.com/assets/colab-badge.svg\" alt=\"Open In Colab\"/></a>"
      ]
    },
    {
      "cell_type": "markdown",
      "metadata": {
        "id": "xR7hbyyfuG9N"
      },
      "source": [
        "# Steps to solve Emergency vs Non-Emergency vehicle classification\n",
        "\n",
        "<ol>1. Loading the dataset</ol>\n",
        "<ol>2. Pre-processing the data</ol>\n",
        "<ol>3. Creating training and validation set</ol>\n",
        "<ol>4. Defining the model architecture</ol>\n",
        "<ol><ol>Setting up the weight initialization technique</ol></ol>\n",
        "<ol>5. Compiling the model</ol>\n",
        "<ol>6. Training the model</ol>\n",
        "<ol>7. Evaluating model performance</ol>"
      ]
    },
    {
      "cell_type": "markdown",
      "metadata": {
        "id": "xq6rlm_puG9U"
      },
      "source": [
        "## 1. Loading the dataset"
      ]
    },
    {
      "cell_type": "code",
      "metadata": {
        "scrolled": true,
        "id": "XPYT-SDjuG9a"
      },
      "source": [
        "# import necessary libraries and functions\n",
        "import numpy as np\n",
        "import pandas as pd\n",
        "import matplotlib.pyplot as plt\n",
        "%matplotlib inline\n",
        "\n",
        "# importing layers from keras\n",
        "from keras.layers import Dense, InputLayer\n",
        "from keras.models import Sequential\n",
        "# importing adam optimizer from keras optimizer module\n",
        "from keras.optimizers import Adam\n",
        "\n",
        "# train_test_split to create training and validation set\n",
        "from sklearn.model_selection import train_test_split\n",
        "# accuracy_score to calculate the accuracy of predictions\n",
        "from sklearn.metrics import accuracy_score"
      ],
      "execution_count": 2,
      "outputs": []
    },
    {
      "cell_type": "code",
      "metadata": {
        "id": "-UaxENuHvEjb",
        "outputId": "6df49b02-4055-4062-ee21-7c90335a96e2",
        "colab": {
          "base_uri": "https://localhost:8080/"
        }
      },
      "source": [
        "from google.colab import drive\n",
        "drive.mount('/content/drive')"
      ],
      "execution_count": 1,
      "outputs": [
        {
          "output_type": "stream",
          "name": "stdout",
          "text": [
            "Mounted at /content/drive\n"
          ]
        }
      ]
    },
    {
      "cell_type": "code",
      "metadata": {
        "id": "huxIDEqgvKZj",
        "outputId": "4ad0e98d-c8eb-47f1-baef-7c4598f4acaa",
        "colab": {
          "base_uri": "https://localhost:8080/"
        },
        "collapsed": true
      },
      "source": [
        "# unzipping the Dataset.zip file\n",
        "!ls /content/drive/MyDrive/AnalyticsVidya/DeepLearning/images/*jpg |wc -l"
      ],
      "execution_count": 3,
      "outputs": [
        {
          "output_type": "stream",
          "name": "stdout",
          "text": [
            "2352\n"
          ]
        }
      ]
    },
    {
      "cell_type": "code",
      "metadata": {
        "id": "WZdipKFauG9t"
      },
      "source": [
        "# reading the csv file\n",
        "data = pd.read_csv('/content/emergency_classification.csv')"
      ],
      "execution_count": 4,
      "outputs": []
    },
    {
      "cell_type": "code",
      "metadata": {
        "id": "7pOqqh5GuG94"
      },
      "source": [
        "# defining the seed value\n",
        "seed = 42"
      ],
      "execution_count": 5,
      "outputs": []
    },
    {
      "cell_type": "code",
      "metadata": {
        "scrolled": true,
        "id": "_VeBsfEAuG-B",
        "outputId": "f823f30d-8f62-4869-db91-7801036b0f4b",
        "colab": {
          "base_uri": "https://localhost:8080/",
          "height": 206
        }
      },
      "source": [
        "# looking at first five rows of the data\n",
        "data.head()"
      ],
      "execution_count": 6,
      "outputs": [
        {
          "output_type": "execute_result",
          "data": {
            "text/plain": [
              "  image_names  emergency_or_not\n",
              "0       0.jpg                 1\n",
              "1       1.jpg                 1\n",
              "2       2.jpg                 1\n",
              "3       3.jpg                 1\n",
              "4       4.jpg                 1"
            ],
            "text/html": [
              "\n",
              "  <div id=\"df-07730819-0c43-44dd-be43-858df2da2513\" class=\"colab-df-container\">\n",
              "    <div>\n",
              "<style scoped>\n",
              "    .dataframe tbody tr th:only-of-type {\n",
              "        vertical-align: middle;\n",
              "    }\n",
              "\n",
              "    .dataframe tbody tr th {\n",
              "        vertical-align: top;\n",
              "    }\n",
              "\n",
              "    .dataframe thead th {\n",
              "        text-align: right;\n",
              "    }\n",
              "</style>\n",
              "<table border=\"1\" class=\"dataframe\">\n",
              "  <thead>\n",
              "    <tr style=\"text-align: right;\">\n",
              "      <th></th>\n",
              "      <th>image_names</th>\n",
              "      <th>emergency_or_not</th>\n",
              "    </tr>\n",
              "  </thead>\n",
              "  <tbody>\n",
              "    <tr>\n",
              "      <th>0</th>\n",
              "      <td>0.jpg</td>\n",
              "      <td>1</td>\n",
              "    </tr>\n",
              "    <tr>\n",
              "      <th>1</th>\n",
              "      <td>1.jpg</td>\n",
              "      <td>1</td>\n",
              "    </tr>\n",
              "    <tr>\n",
              "      <th>2</th>\n",
              "      <td>2.jpg</td>\n",
              "      <td>1</td>\n",
              "    </tr>\n",
              "    <tr>\n",
              "      <th>3</th>\n",
              "      <td>3.jpg</td>\n",
              "      <td>1</td>\n",
              "    </tr>\n",
              "    <tr>\n",
              "      <th>4</th>\n",
              "      <td>4.jpg</td>\n",
              "      <td>1</td>\n",
              "    </tr>\n",
              "  </tbody>\n",
              "</table>\n",
              "</div>\n",
              "    <div class=\"colab-df-buttons\">\n",
              "\n",
              "  <div class=\"colab-df-container\">\n",
              "    <button class=\"colab-df-convert\" onclick=\"convertToInteractive('df-07730819-0c43-44dd-be43-858df2da2513')\"\n",
              "            title=\"Convert this dataframe to an interactive table.\"\n",
              "            style=\"display:none;\">\n",
              "\n",
              "  <svg xmlns=\"http://www.w3.org/2000/svg\" height=\"24px\" viewBox=\"0 -960 960 960\">\n",
              "    <path d=\"M120-120v-720h720v720H120Zm60-500h600v-160H180v160Zm220 220h160v-160H400v160Zm0 220h160v-160H400v160ZM180-400h160v-160H180v160Zm440 0h160v-160H620v160ZM180-180h160v-160H180v160Zm440 0h160v-160H620v160Z\"/>\n",
              "  </svg>\n",
              "    </button>\n",
              "\n",
              "  <style>\n",
              "    .colab-df-container {\n",
              "      display:flex;\n",
              "      gap: 12px;\n",
              "    }\n",
              "\n",
              "    .colab-df-convert {\n",
              "      background-color: #E8F0FE;\n",
              "      border: none;\n",
              "      border-radius: 50%;\n",
              "      cursor: pointer;\n",
              "      display: none;\n",
              "      fill: #1967D2;\n",
              "      height: 32px;\n",
              "      padding: 0 0 0 0;\n",
              "      width: 32px;\n",
              "    }\n",
              "\n",
              "    .colab-df-convert:hover {\n",
              "      background-color: #E2EBFA;\n",
              "      box-shadow: 0px 1px 2px rgba(60, 64, 67, 0.3), 0px 1px 3px 1px rgba(60, 64, 67, 0.15);\n",
              "      fill: #174EA6;\n",
              "    }\n",
              "\n",
              "    .colab-df-buttons div {\n",
              "      margin-bottom: 4px;\n",
              "    }\n",
              "\n",
              "    [theme=dark] .colab-df-convert {\n",
              "      background-color: #3B4455;\n",
              "      fill: #D2E3FC;\n",
              "    }\n",
              "\n",
              "    [theme=dark] .colab-df-convert:hover {\n",
              "      background-color: #434B5C;\n",
              "      box-shadow: 0px 1px 3px 1px rgba(0, 0, 0, 0.15);\n",
              "      filter: drop-shadow(0px 1px 2px rgba(0, 0, 0, 0.3));\n",
              "      fill: #FFFFFF;\n",
              "    }\n",
              "  </style>\n",
              "\n",
              "    <script>\n",
              "      const buttonEl =\n",
              "        document.querySelector('#df-07730819-0c43-44dd-be43-858df2da2513 button.colab-df-convert');\n",
              "      buttonEl.style.display =\n",
              "        google.colab.kernel.accessAllowed ? 'block' : 'none';\n",
              "\n",
              "      async function convertToInteractive(key) {\n",
              "        const element = document.querySelector('#df-07730819-0c43-44dd-be43-858df2da2513');\n",
              "        const dataTable =\n",
              "          await google.colab.kernel.invokeFunction('convertToInteractive',\n",
              "                                                    [key], {});\n",
              "        if (!dataTable) return;\n",
              "\n",
              "        const docLinkHtml = 'Like what you see? Visit the ' +\n",
              "          '<a target=\"_blank\" href=https://colab.research.google.com/notebooks/data_table.ipynb>data table notebook</a>'\n",
              "          + ' to learn more about interactive tables.';\n",
              "        element.innerHTML = '';\n",
              "        dataTable['output_type'] = 'display_data';\n",
              "        await google.colab.output.renderOutput(dataTable, element);\n",
              "        const docLink = document.createElement('div');\n",
              "        docLink.innerHTML = docLinkHtml;\n",
              "        element.appendChild(docLink);\n",
              "      }\n",
              "    </script>\n",
              "  </div>\n",
              "\n",
              "\n",
              "<div id=\"df-e47fdf01-8752-4dc2-8ea6-8822fa1f1258\">\n",
              "  <button class=\"colab-df-quickchart\" onclick=\"quickchart('df-e47fdf01-8752-4dc2-8ea6-8822fa1f1258')\"\n",
              "            title=\"Suggest charts\"\n",
              "            style=\"display:none;\">\n",
              "\n",
              "<svg xmlns=\"http://www.w3.org/2000/svg\" height=\"24px\"viewBox=\"0 0 24 24\"\n",
              "     width=\"24px\">\n",
              "    <g>\n",
              "        <path d=\"M19 3H5c-1.1 0-2 .9-2 2v14c0 1.1.9 2 2 2h14c1.1 0 2-.9 2-2V5c0-1.1-.9-2-2-2zM9 17H7v-7h2v7zm4 0h-2V7h2v10zm4 0h-2v-4h2v4z\"/>\n",
              "    </g>\n",
              "</svg>\n",
              "  </button>\n",
              "\n",
              "<style>\n",
              "  .colab-df-quickchart {\n",
              "      --bg-color: #E8F0FE;\n",
              "      --fill-color: #1967D2;\n",
              "      --hover-bg-color: #E2EBFA;\n",
              "      --hover-fill-color: #174EA6;\n",
              "      --disabled-fill-color: #AAA;\n",
              "      --disabled-bg-color: #DDD;\n",
              "  }\n",
              "\n",
              "  [theme=dark] .colab-df-quickchart {\n",
              "      --bg-color: #3B4455;\n",
              "      --fill-color: #D2E3FC;\n",
              "      --hover-bg-color: #434B5C;\n",
              "      --hover-fill-color: #FFFFFF;\n",
              "      --disabled-bg-color: #3B4455;\n",
              "      --disabled-fill-color: #666;\n",
              "  }\n",
              "\n",
              "  .colab-df-quickchart {\n",
              "    background-color: var(--bg-color);\n",
              "    border: none;\n",
              "    border-radius: 50%;\n",
              "    cursor: pointer;\n",
              "    display: none;\n",
              "    fill: var(--fill-color);\n",
              "    height: 32px;\n",
              "    padding: 0;\n",
              "    width: 32px;\n",
              "  }\n",
              "\n",
              "  .colab-df-quickchart:hover {\n",
              "    background-color: var(--hover-bg-color);\n",
              "    box-shadow: 0 1px 2px rgba(60, 64, 67, 0.3), 0 1px 3px 1px rgba(60, 64, 67, 0.15);\n",
              "    fill: var(--button-hover-fill-color);\n",
              "  }\n",
              "\n",
              "  .colab-df-quickchart-complete:disabled,\n",
              "  .colab-df-quickchart-complete:disabled:hover {\n",
              "    background-color: var(--disabled-bg-color);\n",
              "    fill: var(--disabled-fill-color);\n",
              "    box-shadow: none;\n",
              "  }\n",
              "\n",
              "  .colab-df-spinner {\n",
              "    border: 2px solid var(--fill-color);\n",
              "    border-color: transparent;\n",
              "    border-bottom-color: var(--fill-color);\n",
              "    animation:\n",
              "      spin 1s steps(1) infinite;\n",
              "  }\n",
              "\n",
              "  @keyframes spin {\n",
              "    0% {\n",
              "      border-color: transparent;\n",
              "      border-bottom-color: var(--fill-color);\n",
              "      border-left-color: var(--fill-color);\n",
              "    }\n",
              "    20% {\n",
              "      border-color: transparent;\n",
              "      border-left-color: var(--fill-color);\n",
              "      border-top-color: var(--fill-color);\n",
              "    }\n",
              "    30% {\n",
              "      border-color: transparent;\n",
              "      border-left-color: var(--fill-color);\n",
              "      border-top-color: var(--fill-color);\n",
              "      border-right-color: var(--fill-color);\n",
              "    }\n",
              "    40% {\n",
              "      border-color: transparent;\n",
              "      border-right-color: var(--fill-color);\n",
              "      border-top-color: var(--fill-color);\n",
              "    }\n",
              "    60% {\n",
              "      border-color: transparent;\n",
              "      border-right-color: var(--fill-color);\n",
              "    }\n",
              "    80% {\n",
              "      border-color: transparent;\n",
              "      border-right-color: var(--fill-color);\n",
              "      border-bottom-color: var(--fill-color);\n",
              "    }\n",
              "    90% {\n",
              "      border-color: transparent;\n",
              "      border-bottom-color: var(--fill-color);\n",
              "    }\n",
              "  }\n",
              "</style>\n",
              "\n",
              "  <script>\n",
              "    async function quickchart(key) {\n",
              "      const quickchartButtonEl =\n",
              "        document.querySelector('#' + key + ' button');\n",
              "      quickchartButtonEl.disabled = true;  // To prevent multiple clicks.\n",
              "      quickchartButtonEl.classList.add('colab-df-spinner');\n",
              "      try {\n",
              "        const charts = await google.colab.kernel.invokeFunction(\n",
              "            'suggestCharts', [key], {});\n",
              "      } catch (error) {\n",
              "        console.error('Error during call to suggestCharts:', error);\n",
              "      }\n",
              "      quickchartButtonEl.classList.remove('colab-df-spinner');\n",
              "      quickchartButtonEl.classList.add('colab-df-quickchart-complete');\n",
              "    }\n",
              "    (() => {\n",
              "      let quickchartButtonEl =\n",
              "        document.querySelector('#df-e47fdf01-8752-4dc2-8ea6-8822fa1f1258 button');\n",
              "      quickchartButtonEl.style.display =\n",
              "        google.colab.kernel.accessAllowed ? 'block' : 'none';\n",
              "    })();\n",
              "  </script>\n",
              "</div>\n",
              "\n",
              "    </div>\n",
              "  </div>\n"
            ],
            "application/vnd.google.colaboratory.intrinsic+json": {
              "type": "dataframe",
              "variable_name": "data",
              "summary": "{\n  \"name\": \"data\",\n  \"rows\": 2352,\n  \"fields\": [\n    {\n      \"column\": \"image_names\",\n      \"properties\": {\n        \"dtype\": \"string\",\n        \"num_unique_values\": 2352,\n        \"samples\": [\n          \"1960.jpg\",\n          \"668.jpg\",\n          \"2082.jpg\"\n        ],\n        \"semantic_type\": \"\",\n        \"description\": \"\"\n      }\n    },\n    {\n      \"column\": \"emergency_or_not\",\n      \"properties\": {\n        \"dtype\": \"number\",\n        \"std\": 0,\n        \"min\": 0,\n        \"max\": 1,\n        \"num_unique_values\": 2,\n        \"samples\": [\n          0,\n          1\n        ],\n        \"semantic_type\": \"\",\n        \"description\": \"\"\n      }\n    }\n  ]\n}"
            }
          },
          "metadata": {},
          "execution_count": 6
        }
      ]
    },
    {
      "cell_type": "code",
      "metadata": {
        "id": "AMZyTsx3uG-W"
      },
      "source": [
        "# load images and store it in numpy array\n",
        "\n",
        "# empty list to store the images\n",
        "X = []\n",
        "# iterating over each image\n",
        "for img_name in data.image_names:\n",
        "    # loading the image using its name\n",
        "    img = plt.imread('/content/drive/MyDrive/AnalyticsVidya/DeepLearning/images/' + img_name)\n",
        "    # saving each image in the list\n",
        "    X.append(img)\n",
        "\n",
        "# converting the list of images into array\n",
        "X=np.array(X)\n",
        "\n",
        "# storing the target variable in separate variable\n",
        "y = data.emergency_or_not.values"
      ],
      "execution_count": 7,
      "outputs": []
    },
    {
      "cell_type": "code",
      "metadata": {
        "id": "csN5M_hzuG-d",
        "outputId": "988f832e-4d85-4d53-da2d-37d56938b31a",
        "colab": {
          "base_uri": "https://localhost:8080/"
        }
      },
      "source": [
        "# shape of the images\n",
        "X.shape"
      ],
      "execution_count": 8,
      "outputs": [
        {
          "output_type": "execute_result",
          "data": {
            "text/plain": [
              "(2352, 224, 224, 3)"
            ]
          },
          "metadata": {},
          "execution_count": 8
        }
      ]
    },
    {
      "cell_type": "markdown",
      "metadata": {
        "id": "IYNJtBXLuG-x"
      },
      "source": [
        "## 2. Pre-processing the data"
      ]
    },
    {
      "cell_type": "code",
      "metadata": {
        "scrolled": true,
        "id": "JsEZNNE_uG-2",
        "outputId": "3ca6798e-49bc-46d3-ceab-4c72b0cdf0a8",
        "colab": {
          "base_uri": "https://localhost:8080/"
        }
      },
      "source": [
        "# converting 3 dimensional image to 1 dimensional image\n",
        "X = X.reshape(X.shape[0], 224*224*3)\n",
        "X.shape"
      ],
      "execution_count": 9,
      "outputs": [
        {
          "output_type": "execute_result",
          "data": {
            "text/plain": [
              "(2352, 150528)"
            ]
          },
          "metadata": {},
          "execution_count": 9
        }
      ]
    },
    {
      "cell_type": "code",
      "metadata": {
        "id": "9y8rfKEguG-_",
        "outputId": "4e6b6eef-2cea-4833-d81f-37aa0f1a5e3b",
        "colab": {
          "base_uri": "https://localhost:8080/"
        }
      },
      "source": [
        "# minimum and maximum pixel values of images\n",
        "X.min(), X.max()"
      ],
      "execution_count": 10,
      "outputs": [
        {
          "output_type": "execute_result",
          "data": {
            "text/plain": [
              "(0, 255)"
            ]
          },
          "metadata": {},
          "execution_count": 10
        }
      ]
    },
    {
      "cell_type": "code",
      "metadata": {
        "id": "wI3hNx3uuG_L"
      },
      "source": [
        "# normalizing the pixel values\n",
        "X = X / X.max()"
      ],
      "execution_count": 11,
      "outputs": []
    },
    {
      "cell_type": "code",
      "metadata": {
        "id": "tghVTsVluG_S",
        "outputId": "0d76316d-d228-4bc7-daf7-2ac35323902e",
        "colab": {
          "base_uri": "https://localhost:8080/"
        }
      },
      "source": [
        "\n",
        "# minimum and maximum pixel values of images after normalizing\n",
        "X.min(), X.max()"
      ],
      "execution_count": 12,
      "outputs": [
        {
          "output_type": "execute_result",
          "data": {
            "text/plain": [
              "(0.0, 1.0)"
            ]
          },
          "metadata": {},
          "execution_count": 12
        }
      ]
    },
    {
      "cell_type": "markdown",
      "metadata": {
        "id": "Scbo48PLuG_b"
      },
      "source": [
        "## 3. Creating training and validation set"
      ]
    },
    {
      "cell_type": "code",
      "metadata": {
        "id": "-UmSQzb1uG_d"
      },
      "source": [
        "# creating a training and validation set\n",
        "X_train, X_valid, y_train, y_valid=train_test_split(X,y,test_size=0.3, random_state=seed)"
      ],
      "execution_count": 13,
      "outputs": []
    },
    {
      "cell_type": "code",
      "metadata": {
        "id": "xTC-FgDjuG_k",
        "outputId": "a0ff5c63-173f-4b3f-d322-693394d5b48f",
        "colab": {
          "base_uri": "https://localhost:8080/"
        }
      },
      "source": [
        "# shape of training and validation set\n",
        "(X_train.shape, y_train.shape), (X_valid.shape, y_valid.shape)"
      ],
      "execution_count": 14,
      "outputs": [
        {
          "output_type": "execute_result",
          "data": {
            "text/plain": [
              "(((1646, 150528), (1646,)), ((706, 150528), (706,)))"
            ]
          },
          "metadata": {},
          "execution_count": 14
        }
      ]
    },
    {
      "cell_type": "markdown",
      "metadata": {
        "id": "vskdq-4huG_r"
      },
      "source": [
        "## 4. Defining the model architecture"
      ]
    },
    {
      "cell_type": "markdown",
      "metadata": {
        "id": "nQ2oSVzvQ_rm"
      },
      "source": [
        "### Setting up the weight initialization technique"
      ]
    },
    {
      "cell_type": "code",
      "metadata": {
        "id": "h7LF7SxewwhV"
      },
      "source": [
        "# importing different initialization techniques\n",
        "from keras.initializers import random_normal, glorot_normal, he_normal"
      ],
      "execution_count": 15,
      "outputs": []
    },
    {
      "cell_type": "code",
      "metadata": {
        "id": "tLqmJg8PuHBs"
      },
      "source": [
        "# defining the model architecture\n",
        "model=Sequential()\n",
        "\n",
        "model.add(InputLayer(input_shape=(224*224*3,)))\n",
        "model.add(Dense(100, activation='sigmoid', kernel_initializer=he_normal(seed=seed)))\n",
        "model.add(Dense(100, activation='sigmoid', kernel_initializer=he_normal(seed=seed)))\n",
        "model.add(Dense(units=1, activation='sigmoid', kernel_initializer=he_normal(seed=seed)))"
      ],
      "execution_count": 16,
      "outputs": []
    },
    {
      "cell_type": "markdown",
      "metadata": {
        "id": "FS__sDNVrjOs"
      },
      "source": [
        "## 5. Compiling the model"
      ]
    },
    {
      "cell_type": "code",
      "metadata": {
        "id": "BGovpAw_uHBp",
        "colab": {
          "base_uri": "https://localhost:8080/"
        },
        "outputId": "966fa2e5-5d0b-4234-e9f5-32ba29e48f42"
      },
      "source": [
        "# defining the adam optimizer and setting the learning rate as 10^-5\n",
        "adam = Adam(lr=1e-5)"
      ],
      "execution_count": 17,
      "outputs": [
        {
          "output_type": "stream",
          "name": "stderr",
          "text": [
            "WARNING:absl:`lr` is deprecated in Keras optimizer, please use `learning_rate` or use the legacy optimizer, e.g.,tf.keras.optimizers.legacy.Adam.\n"
          ]
        }
      ]
    },
    {
      "cell_type": "code",
      "metadata": {
        "id": "pcEUdq_Tri5x"
      },
      "source": [
        "# compiling the model\n",
        "\n",
        "# defining loss as binary crossentropy\n",
        "# defining optimizer as Adam\n",
        "# defining metrics as accuracy\n",
        "\n",
        "model.compile(loss='binary_crossentropy', optimizer=adam, metrics=['accuracy'])"
      ],
      "execution_count": 18,
      "outputs": []
    },
    {
      "cell_type": "markdown",
      "metadata": {
        "id": "UJ6D8X0JtD7f"
      },
      "source": [
        "## 6. Training the model"
      ]
    },
    {
      "cell_type": "code",
      "metadata": {
        "scrolled": false,
        "id": "KL7PHbMRuHBy",
        "outputId": "d6677a46-95f8-4cfb-80d4-f922b4367718",
        "colab": {
          "base_uri": "https://localhost:8080/"
        }
      },
      "source": [
        "# training the model for 50 epochs\n",
        "model_history = model.fit(X_train, y_train, epochs=100, batch_size=128, validation_data=(X_valid,y_valid))"
      ],
      "execution_count": 19,
      "outputs": [
        {
          "output_type": "stream",
          "name": "stdout",
          "text": [
            "Epoch 1/100\n",
            "13/13 [==============================] - 9s 472ms/step - loss: 0.7363 - accuracy: 0.5765 - val_loss: 0.6863 - val_accuracy: 0.5609\n",
            "Epoch 2/100\n",
            "13/13 [==============================] - 2s 141ms/step - loss: 0.6853 - accuracy: 0.5863 - val_loss: 0.6857 - val_accuracy: 0.5609\n",
            "Epoch 3/100\n",
            "13/13 [==============================] - 2s 122ms/step - loss: 0.6820 - accuracy: 0.5863 - val_loss: 0.6891 - val_accuracy: 0.5609\n",
            "Epoch 4/100\n",
            "13/13 [==============================] - 1s 99ms/step - loss: 0.6790 - accuracy: 0.5863 - val_loss: 0.6859 - val_accuracy: 0.5609\n",
            "Epoch 5/100\n",
            "13/13 [==============================] - 1s 84ms/step - loss: 0.6787 - accuracy: 0.5863 - val_loss: 0.6888 - val_accuracy: 0.5609\n",
            "Epoch 6/100\n",
            "13/13 [==============================] - 1s 111ms/step - loss: 0.6789 - accuracy: 0.5863 - val_loss: 0.6865 - val_accuracy: 0.5609\n",
            "Epoch 7/100\n",
            "13/13 [==============================] - 1s 114ms/step - loss: 0.6785 - accuracy: 0.5863 - val_loss: 0.6892 - val_accuracy: 0.5609\n",
            "Epoch 8/100\n",
            "13/13 [==============================] - 1s 111ms/step - loss: 0.6788 - accuracy: 0.5863 - val_loss: 0.6858 - val_accuracy: 0.5609\n",
            "Epoch 9/100\n",
            "13/13 [==============================] - 1s 89ms/step - loss: 0.6802 - accuracy: 0.5863 - val_loss: 0.6863 - val_accuracy: 0.5609\n",
            "Epoch 10/100\n",
            "13/13 [==============================] - 1s 119ms/step - loss: 0.6791 - accuracy: 0.5863 - val_loss: 0.6866 - val_accuracy: 0.5609\n",
            "Epoch 11/100\n",
            "13/13 [==============================] - 1s 90ms/step - loss: 0.6795 - accuracy: 0.5863 - val_loss: 0.6870 - val_accuracy: 0.5609\n",
            "Epoch 12/100\n",
            "13/13 [==============================] - 2s 127ms/step - loss: 0.6788 - accuracy: 0.5863 - val_loss: 0.6865 - val_accuracy: 0.5609\n",
            "Epoch 13/100\n",
            "13/13 [==============================] - 2s 140ms/step - loss: 0.6784 - accuracy: 0.5863 - val_loss: 0.6902 - val_accuracy: 0.5609\n",
            "Epoch 14/100\n",
            "13/13 [==============================] - 2s 130ms/step - loss: 0.6798 - accuracy: 0.5863 - val_loss: 0.6857 - val_accuracy: 0.5609\n",
            "Epoch 15/100\n",
            "13/13 [==============================] - 1s 92ms/step - loss: 0.6789 - accuracy: 0.5863 - val_loss: 0.6901 - val_accuracy: 0.5609\n",
            "Epoch 16/100\n",
            "13/13 [==============================] - 1s 90ms/step - loss: 0.6797 - accuracy: 0.5863 - val_loss: 0.6857 - val_accuracy: 0.5609\n",
            "Epoch 17/100\n",
            "13/13 [==============================] - 1s 88ms/step - loss: 0.6790 - accuracy: 0.5863 - val_loss: 0.6882 - val_accuracy: 0.5609\n",
            "Epoch 18/100\n",
            "13/13 [==============================] - 1s 112ms/step - loss: 0.6785 - accuracy: 0.5863 - val_loss: 0.6858 - val_accuracy: 0.5609\n",
            "Epoch 19/100\n",
            "13/13 [==============================] - 1s 90ms/step - loss: 0.6791 - accuracy: 0.5863 - val_loss: 0.6876 - val_accuracy: 0.5609\n",
            "Epoch 20/100\n",
            "13/13 [==============================] - 1s 91ms/step - loss: 0.6787 - accuracy: 0.5863 - val_loss: 0.6867 - val_accuracy: 0.5609\n",
            "Epoch 21/100\n",
            "13/13 [==============================] - 1s 85ms/step - loss: 0.6789 - accuracy: 0.5863 - val_loss: 0.6877 - val_accuracy: 0.5609\n",
            "Epoch 22/100\n",
            "13/13 [==============================] - 1s 88ms/step - loss: 0.6794 - accuracy: 0.5863 - val_loss: 0.6874 - val_accuracy: 0.5609\n",
            "Epoch 23/100\n",
            "13/13 [==============================] - 1s 100ms/step - loss: 0.6790 - accuracy: 0.5863 - val_loss: 0.6858 - val_accuracy: 0.5609\n",
            "Epoch 24/100\n",
            "13/13 [==============================] - 4s 312ms/step - loss: 0.6792 - accuracy: 0.5863 - val_loss: 0.6882 - val_accuracy: 0.5609\n",
            "Epoch 25/100\n",
            "13/13 [==============================] - 2s 122ms/step - loss: 0.6793 - accuracy: 0.5863 - val_loss: 0.6880 - val_accuracy: 0.5609\n",
            "Epoch 26/100\n",
            "13/13 [==============================] - 1s 87ms/step - loss: 0.6789 - accuracy: 0.5863 - val_loss: 0.6876 - val_accuracy: 0.5609\n",
            "Epoch 27/100\n",
            "13/13 [==============================] - 1s 90ms/step - loss: 0.6814 - accuracy: 0.5863 - val_loss: 0.6915 - val_accuracy: 0.5609\n",
            "Epoch 28/100\n",
            "13/13 [==============================] - 1s 91ms/step - loss: 0.6782 - accuracy: 0.5863 - val_loss: 0.6857 - val_accuracy: 0.5609\n",
            "Epoch 29/100\n",
            "13/13 [==============================] - 1s 84ms/step - loss: 0.6799 - accuracy: 0.5863 - val_loss: 0.6924 - val_accuracy: 0.5609\n",
            "Epoch 30/100\n",
            "13/13 [==============================] - 1s 113ms/step - loss: 0.6818 - accuracy: 0.5863 - val_loss: 0.6857 - val_accuracy: 0.5609\n",
            "Epoch 31/100\n",
            "13/13 [==============================] - 1s 89ms/step - loss: 0.6817 - accuracy: 0.5863 - val_loss: 0.6896 - val_accuracy: 0.5609\n",
            "Epoch 32/100\n",
            "13/13 [==============================] - 1s 93ms/step - loss: 0.6807 - accuracy: 0.5863 - val_loss: 0.6873 - val_accuracy: 0.5609\n",
            "Epoch 33/100\n",
            "13/13 [==============================] - 2s 125ms/step - loss: 0.6802 - accuracy: 0.5863 - val_loss: 0.6863 - val_accuracy: 0.5609\n",
            "Epoch 34/100\n",
            "13/13 [==============================] - 2s 134ms/step - loss: 0.6791 - accuracy: 0.5863 - val_loss: 0.6874 - val_accuracy: 0.5609\n",
            "Epoch 35/100\n",
            "13/13 [==============================] - 2s 134ms/step - loss: 0.6786 - accuracy: 0.5863 - val_loss: 0.6873 - val_accuracy: 0.5609\n",
            "Epoch 36/100\n",
            "13/13 [==============================] - 1s 102ms/step - loss: 0.6787 - accuracy: 0.5863 - val_loss: 0.6870 - val_accuracy: 0.5609\n",
            "Epoch 37/100\n",
            "13/13 [==============================] - 1s 87ms/step - loss: 0.6787 - accuracy: 0.5863 - val_loss: 0.6874 - val_accuracy: 0.5609\n",
            "Epoch 38/100\n",
            "13/13 [==============================] - 1s 92ms/step - loss: 0.6790 - accuracy: 0.5863 - val_loss: 0.6860 - val_accuracy: 0.5609\n",
            "Epoch 39/100\n",
            "13/13 [==============================] - 1s 90ms/step - loss: 0.6791 - accuracy: 0.5863 - val_loss: 0.6880 - val_accuracy: 0.5609\n",
            "Epoch 40/100\n",
            "13/13 [==============================] - 1s 89ms/step - loss: 0.6801 - accuracy: 0.5863 - val_loss: 0.6885 - val_accuracy: 0.5609\n",
            "Epoch 41/100\n",
            "13/13 [==============================] - 1s 114ms/step - loss: 0.6787 - accuracy: 0.5863 - val_loss: 0.6865 - val_accuracy: 0.5609\n",
            "Epoch 42/100\n",
            "13/13 [==============================] - 1s 109ms/step - loss: 0.6791 - accuracy: 0.5863 - val_loss: 0.6872 - val_accuracy: 0.5609\n",
            "Epoch 43/100\n",
            "13/13 [==============================] - 1s 89ms/step - loss: 0.6796 - accuracy: 0.5863 - val_loss: 0.6880 - val_accuracy: 0.5609\n",
            "Epoch 44/100\n",
            "13/13 [==============================] - 1s 116ms/step - loss: 0.6810 - accuracy: 0.5863 - val_loss: 0.6865 - val_accuracy: 0.5609\n",
            "Epoch 45/100\n",
            "13/13 [==============================] - 2s 146ms/step - loss: 0.6811 - accuracy: 0.5863 - val_loss: 0.6877 - val_accuracy: 0.5609\n",
            "Epoch 46/100\n",
            "13/13 [==============================] - 2s 146ms/step - loss: 0.6791 - accuracy: 0.5863 - val_loss: 0.6887 - val_accuracy: 0.5609\n",
            "Epoch 47/100\n",
            "13/13 [==============================] - 1s 100ms/step - loss: 0.6805 - accuracy: 0.5863 - val_loss: 0.6863 - val_accuracy: 0.5609\n",
            "Epoch 48/100\n",
            "13/13 [==============================] - 1s 89ms/step - loss: 0.6807 - accuracy: 0.5863 - val_loss: 0.6869 - val_accuracy: 0.5609\n",
            "Epoch 49/100\n",
            "13/13 [==============================] - 1s 86ms/step - loss: 0.6789 - accuracy: 0.5863 - val_loss: 0.6865 - val_accuracy: 0.5609\n",
            "Epoch 50/100\n",
            "13/13 [==============================] - 1s 115ms/step - loss: 0.6795 - accuracy: 0.5863 - val_loss: 0.6870 - val_accuracy: 0.5609\n",
            "Epoch 51/100\n",
            "13/13 [==============================] - 1s 90ms/step - loss: 0.6787 - accuracy: 0.5863 - val_loss: 0.6859 - val_accuracy: 0.5609\n",
            "Epoch 52/100\n",
            "13/13 [==============================] - 1s 112ms/step - loss: 0.6791 - accuracy: 0.5863 - val_loss: 0.6919 - val_accuracy: 0.5609\n",
            "Epoch 53/100\n",
            "13/13 [==============================] - 1s 84ms/step - loss: 0.6802 - accuracy: 0.5863 - val_loss: 0.6857 - val_accuracy: 0.5609\n",
            "Epoch 54/100\n",
            "13/13 [==============================] - 1s 114ms/step - loss: 0.6788 - accuracy: 0.5863 - val_loss: 0.6911 - val_accuracy: 0.5609\n",
            "Epoch 55/100\n",
            "13/13 [==============================] - 1s 114ms/step - loss: 0.6790 - accuracy: 0.5863 - val_loss: 0.6860 - val_accuracy: 0.5609\n",
            "Epoch 56/100\n",
            "13/13 [==============================] - 2s 136ms/step - loss: 0.6796 - accuracy: 0.5863 - val_loss: 0.6873 - val_accuracy: 0.5609\n",
            "Epoch 57/100\n",
            "13/13 [==============================] - 2s 132ms/step - loss: 0.6796 - accuracy: 0.5863 - val_loss: 0.6876 - val_accuracy: 0.5609\n",
            "Epoch 58/100\n",
            "13/13 [==============================] - 1s 112ms/step - loss: 0.6798 - accuracy: 0.5863 - val_loss: 0.6867 - val_accuracy: 0.5609\n",
            "Epoch 59/100\n",
            "13/13 [==============================] - 1s 90ms/step - loss: 0.6791 - accuracy: 0.5863 - val_loss: 0.6879 - val_accuracy: 0.5609\n",
            "Epoch 60/100\n",
            "13/13 [==============================] - 1s 92ms/step - loss: 0.6790 - accuracy: 0.5863 - val_loss: 0.6862 - val_accuracy: 0.5609\n",
            "Epoch 61/100\n",
            "13/13 [==============================] - 1s 90ms/step - loss: 0.6787 - accuracy: 0.5863 - val_loss: 0.6877 - val_accuracy: 0.5609\n",
            "Epoch 62/100\n",
            "13/13 [==============================] - 1s 117ms/step - loss: 0.6794 - accuracy: 0.5863 - val_loss: 0.6863 - val_accuracy: 0.5609\n",
            "Epoch 63/100\n",
            "13/13 [==============================] - 1s 89ms/step - loss: 0.6804 - accuracy: 0.5863 - val_loss: 0.6859 - val_accuracy: 0.5609\n",
            "Epoch 64/100\n",
            "13/13 [==============================] - 1s 91ms/step - loss: 0.6783 - accuracy: 0.5863 - val_loss: 0.6921 - val_accuracy: 0.5609\n",
            "Epoch 65/100\n",
            "13/13 [==============================] - 1s 89ms/step - loss: 0.6789 - accuracy: 0.5863 - val_loss: 0.6858 - val_accuracy: 0.5609\n",
            "Epoch 66/100\n",
            "13/13 [==============================] - 1s 117ms/step - loss: 0.6798 - accuracy: 0.5863 - val_loss: 0.6887 - val_accuracy: 0.5609\n",
            "Epoch 67/100\n",
            "13/13 [==============================] - 2s 186ms/step - loss: 0.6786 - accuracy: 0.5863 - val_loss: 0.6859 - val_accuracy: 0.5609\n",
            "Epoch 68/100\n",
            "13/13 [==============================] - 2s 143ms/step - loss: 0.6794 - accuracy: 0.5863 - val_loss: 0.6893 - val_accuracy: 0.5609\n",
            "Epoch 69/100\n",
            "13/13 [==============================] - 1s 84ms/step - loss: 0.6788 - accuracy: 0.5863 - val_loss: 0.6867 - val_accuracy: 0.5609\n",
            "Epoch 70/100\n",
            "13/13 [==============================] - 1s 89ms/step - loss: 0.6790 - accuracy: 0.5863 - val_loss: 0.6862 - val_accuracy: 0.5609\n",
            "Epoch 71/100\n",
            "13/13 [==============================] - 1s 89ms/step - loss: 0.6786 - accuracy: 0.5863 - val_loss: 0.6876 - val_accuracy: 0.5609\n",
            "Epoch 72/100\n",
            "13/13 [==============================] - 1s 89ms/step - loss: 0.6788 - accuracy: 0.5863 - val_loss: 0.6864 - val_accuracy: 0.5609\n",
            "Epoch 73/100\n",
            "13/13 [==============================] - 1s 113ms/step - loss: 0.6804 - accuracy: 0.5863 - val_loss: 0.6892 - val_accuracy: 0.5609\n",
            "Epoch 74/100\n",
            "13/13 [==============================] - 1s 91ms/step - loss: 0.6786 - accuracy: 0.5863 - val_loss: 0.6868 - val_accuracy: 0.5609\n",
            "Epoch 75/100\n",
            "13/13 [==============================] - 1s 90ms/step - loss: 0.6787 - accuracy: 0.5863 - val_loss: 0.6894 - val_accuracy: 0.5609\n",
            "Epoch 76/100\n",
            "13/13 [==============================] - 1s 88ms/step - loss: 0.6793 - accuracy: 0.5863 - val_loss: 0.6879 - val_accuracy: 0.5609\n",
            "Epoch 77/100\n",
            "13/13 [==============================] - 1s 93ms/step - loss: 0.6790 - accuracy: 0.5863 - val_loss: 0.6859 - val_accuracy: 0.5609\n",
            "Epoch 78/100\n",
            "13/13 [==============================] - 2s 189ms/step - loss: 0.6795 - accuracy: 0.5863 - val_loss: 0.6874 - val_accuracy: 0.5609\n",
            "Epoch 79/100\n",
            "13/13 [==============================] - 2s 130ms/step - loss: 0.6791 - accuracy: 0.5863 - val_loss: 0.6859 - val_accuracy: 0.5609\n",
            "Epoch 80/100\n",
            "13/13 [==============================] - 1s 99ms/step - loss: 0.6789 - accuracy: 0.5863 - val_loss: 0.6908 - val_accuracy: 0.5609\n",
            "Epoch 81/100\n",
            "13/13 [==============================] - 1s 91ms/step - loss: 0.6794 - accuracy: 0.5863 - val_loss: 0.6866 - val_accuracy: 0.5609\n",
            "Epoch 82/100\n",
            "13/13 [==============================] - 1s 116ms/step - loss: 0.6790 - accuracy: 0.5863 - val_loss: 0.6872 - val_accuracy: 0.5609\n",
            "Epoch 83/100\n",
            "13/13 [==============================] - 1s 89ms/step - loss: 0.6790 - accuracy: 0.5863 - val_loss: 0.6871 - val_accuracy: 0.5609\n",
            "Epoch 84/100\n",
            "13/13 [==============================] - 1s 92ms/step - loss: 0.6786 - accuracy: 0.5863 - val_loss: 0.6889 - val_accuracy: 0.5609\n",
            "Epoch 85/100\n",
            "13/13 [==============================] - 1s 87ms/step - loss: 0.6785 - accuracy: 0.5863 - val_loss: 0.6858 - val_accuracy: 0.5609\n",
            "Epoch 86/100\n",
            "13/13 [==============================] - 1s 109ms/step - loss: 0.6790 - accuracy: 0.5863 - val_loss: 0.6895 - val_accuracy: 0.5609\n",
            "Epoch 87/100\n",
            "13/13 [==============================] - 1s 89ms/step - loss: 0.6797 - accuracy: 0.5863 - val_loss: 0.6868 - val_accuracy: 0.5609\n",
            "Epoch 88/100\n",
            "13/13 [==============================] - 1s 100ms/step - loss: 0.6789 - accuracy: 0.5863 - val_loss: 0.6887 - val_accuracy: 0.5609\n",
            "Epoch 89/100\n",
            "13/13 [==============================] - 2s 182ms/step - loss: 0.6793 - accuracy: 0.5863 - val_loss: 0.6858 - val_accuracy: 0.5609\n",
            "Epoch 90/100\n",
            "13/13 [==============================] - 2s 135ms/step - loss: 0.6791 - accuracy: 0.5863 - val_loss: 0.6886 - val_accuracy: 0.5609\n",
            "Epoch 91/100\n",
            "13/13 [==============================] - 1s 98ms/step - loss: 0.6800 - accuracy: 0.5863 - val_loss: 0.6857 - val_accuracy: 0.5609\n",
            "Epoch 92/100\n",
            "13/13 [==============================] - 1s 90ms/step - loss: 0.6807 - accuracy: 0.5863 - val_loss: 0.6889 - val_accuracy: 0.5609\n",
            "Epoch 93/100\n",
            "13/13 [==============================] - 1s 88ms/step - loss: 0.6802 - accuracy: 0.5863 - val_loss: 0.6858 - val_accuracy: 0.5609\n",
            "Epoch 94/100\n",
            "13/13 [==============================] - 1s 91ms/step - loss: 0.6795 - accuracy: 0.5863 - val_loss: 0.6888 - val_accuracy: 0.5609\n",
            "Epoch 95/100\n",
            "13/13 [==============================] - 1s 88ms/step - loss: 0.6788 - accuracy: 0.5863 - val_loss: 0.6864 - val_accuracy: 0.5609\n",
            "Epoch 96/100\n",
            "13/13 [==============================] - 1s 115ms/step - loss: 0.6807 - accuracy: 0.5863 - val_loss: 0.6858 - val_accuracy: 0.5609\n",
            "Epoch 97/100\n",
            "13/13 [==============================] - 1s 107ms/step - loss: 0.6798 - accuracy: 0.5863 - val_loss: 0.6901 - val_accuracy: 0.5609\n",
            "Epoch 98/100\n",
            "13/13 [==============================] - 1s 88ms/step - loss: 0.6808 - accuracy: 0.5863 - val_loss: 0.6857 - val_accuracy: 0.5609\n",
            "Epoch 99/100\n",
            "13/13 [==============================] - 1s 117ms/step - loss: 0.6798 - accuracy: 0.5863 - val_loss: 0.6887 - val_accuracy: 0.5609\n",
            "Epoch 100/100\n",
            "13/13 [==============================] - 1s 91ms/step - loss: 0.6789 - accuracy: 0.5863 - val_loss: 0.6860 - val_accuracy: 0.5609\n"
          ]
        }
      ]
    },
    {
      "cell_type": "markdown",
      "metadata": {
        "id": "4nItUUcYtYiw"
      },
      "source": [
        "## 8. Evaluating model performance"
      ]
    },
    {
      "cell_type": "code",
      "source": [
        "y_pred = model.predict(X_valid)\n",
        "y_pred = np.where(y_pred < 0.5, 0, 1)"
      ],
      "metadata": {
        "colab": {
          "base_uri": "https://localhost:8080/"
        },
        "id": "8QaAmvwqH32I",
        "outputId": "e9a45828-1e98-4f1a-db4d-b3e67dce5bb1"
      },
      "execution_count": 23,
      "outputs": [
        {
          "output_type": "stream",
          "name": "stdout",
          "text": [
            "23/23 [==============================] - 0s 12ms/step\n"
          ]
        }
      ]
    },
    {
      "cell_type": "code",
      "metadata": {
        "id": "Wbfb8_MWuHB4",
        "outputId": "93ee34db-2eb1-489b-9a72-3dfe2a501b23",
        "colab": {
          "base_uri": "https://localhost:8080/"
        }
      },
      "source": [
        "# accuracy on validation set\n",
        "print('Accuracy on validation set:', accuracy_score(y_valid, y_pred), '%')"
      ],
      "execution_count": 24,
      "outputs": [
        {
          "output_type": "stream",
          "name": "stdout",
          "text": [
            "Accuracy on validation set: 0.5609065155807366 %\n"
          ]
        }
      ]
    },
    {
      "cell_type": "code",
      "metadata": {
        "id": "UDXYXYMox5Ih",
        "outputId": "b0ac572a-9bd5-4597-c9ea-f747674887e3",
        "colab": {
          "base_uri": "https://localhost:8080/",
          "height": 472
        }
      },
      "source": [
        " # summarize history for loss\n",
        "plt.plot(model_history.history['loss'])\n",
        "plt.plot(model_history.history['val_loss'])\n",
        "plt.title('model loss')\n",
        "plt.ylabel('loss')\n",
        "plt.xlabel('epoch')\n",
        "plt.legend(['train', 'validation'], loc='upper right')\n",
        "plt.show()"
      ],
      "execution_count": 25,
      "outputs": [
        {
          "output_type": "display_data",
          "data": {
            "text/plain": [
              "<Figure size 640x480 with 1 Axes>"
            ],
            "image/png": "[encoded data removed]"
          },
          "metadata": {}
        }
      ]
    },
    {
      "cell_type": "markdown",
      "metadata": {
        "id": "t2KerPt9IJuP"
      },
      "source": [
        "### Comparison between random, glorot and he normal initialization\n",
        "![alt text](https://drive.google.com/uc?id=1eneZC2OxBaDmU2ikhboiIADbuBksC18L)"
      ]
    },
    {
      "cell_type": "code",
      "metadata": {
        "id": "OjXgzcFb33jI"
      },
      "source": [],
      "execution_count": null,
      "outputs": []
    }
  ]
}