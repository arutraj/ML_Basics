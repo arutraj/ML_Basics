{
  "nbformat": 4,
  "nbformat_minor": 0,
  "metadata": {
    "colab": {
      "provenance": [],
      "include_colab_link": true
    },
    "kernelspec": {
      "name": "python3",
      "display_name": "Python 3"
    },
    "accelerator": "GPU"
  },
  "cells": [
    {
      "cell_type": "markdown",
      "metadata": {
        "id": "view-in-github",
        "colab_type": "text"
      },
      "source": [
        "<a href=\"https://colab.research.google.com/github/arutraj/ML_Basics/blob/main/Mathematical_and_Matrix_operations_in_PyTorch.ipynb\" target=\"_parent\"><img src=\"https://colab.research.google.com/assets/colab-badge.svg\" alt=\"Open In Colab\"/></a>"
      ]
    },
    {
      "cell_type": "markdown",
      "metadata": {
        "id": "axNwiZFRXSnh"
      },
      "source": [
        "## Agenda for the Notebook\n",
        "\n",
        "1. Initializing Tensors\n",
        "    \n",
        "    <ol>1.1 Initializing 1D tensor</ol>\n",
        "\n",
        "    <ol>1.2 Initializing 2D tensor</ol>\n",
        "\n",
        "    <ol>1.3 Initializing 3D tensor</ol>\n",
        "\n",
        "    <ol>1.4 Randomly initializing tensors</ol>\n",
        "\n",
        "2. Mathematical Operations in PyTorch\n",
        "\n",
        "3. Matrix Operations in PyTorch\n",
        "    \n",
        "    <ol>3.1 Matrix addition</ol>\n",
        "\n",
        "    <ol>3.2 Matrix subtraction</ol>\n",
        "\n",
        "    <ol>3.3 Matrix multiplication</ol>\n",
        "\n",
        "    <ol>3.4 Matrix division</ol>\n",
        "\n",
        "    <ol>3.5 Transpose of a matrix</ol>\n",
        "\n",
        "    <ol>3.6 Reshaping 2d tensors</ol>\n",
        "\n",
        "4. Converting NumPy arrays to PyTorch Tensors\n",
        "\n",
        "4. Converting PyTorch Tensors to NumPy array\n",
        "\n",
        "4. Using tensor on GPU"
      ]
    },
    {
      "cell_type": "markdown",
      "metadata": {
        "id": "tFxmOcOuGluZ"
      },
      "source": [
        "## 1. Initializing Tensors"
      ]
    },
    {
      "cell_type": "code",
      "metadata": {
        "id": "m_a1H1iY5wbe",
        "outputId": "29e0096f-803e-46fb-aaf0-e24729587830",
        "colab": {
          "base_uri": "https://localhost:8080/"
        }
      },
      "source": [
        "# importing PyTorch library and checking its version\n",
        "import torch\n",
        "print(torch.__version__)"
      ],
      "execution_count": 1,
      "outputs": [
        {
          "output_type": "stream",
          "name": "stdout",
          "text": [
            "2.3.0+cu121\n"
          ]
        }
      ]
    },
    {
      "cell_type": "markdown",
      "metadata": {
        "id": "PyVCzbUnmd5P"
      },
      "source": [
        "### 1.1 Initializing a 1D tensor"
      ]
    },
    {
      "cell_type": "code",
      "metadata": {
        "id": "z6-iZ0GT7RMv",
        "outputId": "5f3e3ee8-07e5-40d9-d532-7fdbfe6dbb2d",
        "colab": {
          "base_uri": "https://localhost:8080/"
        }
      },
      "source": [
        "# initializing a 1D tensor   takes in python list\n",
        "one_d_tensor = torch.tensor([1])\n",
        "print(one_d_tensor)"
      ],
      "execution_count": 2,
      "outputs": [
        {
          "output_type": "stream",
          "name": "stdout",
          "text": [
            "tensor([1])\n"
          ]
        }
      ]
    },
    {
      "cell_type": "code",
      "metadata": {
        "id": "omnIpJQb8QUT",
        "outputId": "9b7eeb99-8ead-4836-dd46-571bebf97429",
        "colab": {
          "base_uri": "https://localhost:8080/"
        }
      },
      "source": [
        "# type of initialized tensor\n",
        "type(one_d_tensor)"
      ],
      "execution_count": 3,
      "outputs": [
        {
          "output_type": "execute_result",
          "data": {
            "text/plain": [
              "torch.Tensor"
            ]
          },
          "metadata": {},
          "execution_count": 3
        }
      ]
    },
    {
      "cell_type": "code",
      "metadata": {
        "id": "l4OJTtSav05t",
        "outputId": "9eb25348-28f0-4d3e-8d8a-a2c80645c311",
        "colab": {
          "base_uri": "https://localhost:8080/"
        }
      },
      "source": [
        "# data type of the tensor -float; bool .. but this is int64\n",
        "one_d_tensor.dtype"
      ],
      "execution_count": 4,
      "outputs": [
        {
          "output_type": "execute_result",
          "data": {
            "text/plain": [
              "torch.int64"
            ]
          },
          "metadata": {},
          "execution_count": 4
        }
      ]
    },
    {
      "cell_type": "markdown",
      "metadata": {
        "id": "dOPRTounv7hN"
      },
      "source": [
        "Refer this documentation to look at different data types supported by torch: https://pytorch.org/docs/stable/tensors.html"
      ]
    },
    {
      "cell_type": "code",
      "metadata": {
        "id": "wYTt-Ae3ZUka",
        "outputId": "896c7a3c-8902-4bd0-e926-223781c77c2a",
        "colab": {
          "base_uri": "https://localhost:8080/"
        }
      },
      "source": [
        "# shape of 1d tensor\n",
        "one_d_tensor.shape"
      ],
      "execution_count": 5,
      "outputs": [
        {
          "output_type": "execute_result",
          "data": {
            "text/plain": [
              "torch.Size([1])"
            ]
          },
          "metadata": {},
          "execution_count": 5
        }
      ]
    },
    {
      "cell_type": "markdown",
      "metadata": {
        "id": "9sOFoc5dnW1U"
      },
      "source": [
        "### 1.2 Initializing 2D tensor"
      ]
    },
    {
      "cell_type": "code",
      "metadata": {
        "id": "LfykS8Z3nWj5",
        "outputId": "18259642-9d54-4737-aae9-51b89fe146bd",
        "colab": {
          "base_uri": "https://localhost:8080/"
        }
      },
      "source": [
        "# initializing a 2D tensor - passing in 2 vectors\n",
        "two_d_tensor = torch.tensor([[1, 2], [3, 4]])\n",
        "print(two_d_tensor)"
      ],
      "execution_count": 6,
      "outputs": [
        {
          "output_type": "stream",
          "name": "stdout",
          "text": [
            "tensor([[1, 2],\n",
            "        [3, 4]])\n"
          ]
        }
      ]
    },
    {
      "cell_type": "code",
      "metadata": {
        "id": "ebgoTDALnWg3",
        "outputId": "7e45e315-e4dc-4f2c-cb48-966c74f6bbf3",
        "colab": {
          "base_uri": "https://localhost:8080/"
        }
      },
      "source": [
        "# shape of 2d tensor\n",
        "two_d_tensor.shape"
      ],
      "execution_count": 7,
      "outputs": [
        {
          "output_type": "execute_result",
          "data": {
            "text/plain": [
              "torch.Size([2, 2])"
            ]
          },
          "metadata": {},
          "execution_count": 7
        }
      ]
    },
    {
      "cell_type": "markdown",
      "metadata": {
        "id": "LQiOn44doY1f"
      },
      "source": [
        "### 1.3 Initializing a 3D tensor"
      ]
    },
    {
      "cell_type": "code",
      "metadata": {
        "id": "aBW2n6uPoYZE",
        "outputId": "01e242e7-8572-4f79-fb3f-e496c78ab152",
        "colab": {
          "base_uri": "https://localhost:8080/"
        }
      },
      "source": [
        "# initializing a 1D tensor\n",
        "three_d_tensor = torch.tensor([[[1, 2], [4, 5]],\n",
        "                               [[10, 11], [13, 14]]])\n",
        "print(three_d_tensor)"
      ],
      "execution_count": 11,
      "outputs": [
        {
          "output_type": "stream",
          "name": "stdout",
          "text": [
            "tensor([[[ 1,  2],\n",
            "         [ 4,  5]],\n",
            "\n",
            "        [[10, 11],\n",
            "         [13, 14]]])\n"
          ]
        }
      ]
    },
    {
      "cell_type": "code",
      "metadata": {
        "id": "Ou0REhwZnVl8",
        "outputId": "2e1c6301-5658-4b8a-a09e-433ebba662e7",
        "colab": {
          "base_uri": "https://localhost:8080/"
        }
      },
      "source": [
        "# shape of 3d tensor\n",
        "three_d_tensor.shape"
      ],
      "execution_count": 12,
      "outputs": [
        {
          "output_type": "execute_result",
          "data": {
            "text/plain": [
              "torch.Size([2, 2, 2])"
            ]
          },
          "metadata": {},
          "execution_count": 12
        }
      ]
    },
    {
      "cell_type": "markdown",
      "metadata": {
        "id": "UKYsBBeLEQYj"
      },
      "source": [
        "![alt text](https://drive.google.com/uc?id=1V5UH7i_qjdHsuj_B1gluYVPRNG2wiK21)"
      ]
    },
    {
      "cell_type": "markdown",
      "metadata": {
        "id": "5tN8xnHFqMJZ"
      },
      "source": [
        "### 1.4 Randomly initializing tensors"
      ]
    },
    {
      "cell_type": "code",
      "metadata": {
        "id": "XaPD3KJAq_8l",
        "outputId": "fba2d875-94fc-42a1-d4b6-870dfd9ff5e9",
        "colab": {
          "base_uri": "https://localhost:8080/"
        }
      },
      "source": [
        "# setting the random seed for PyTorch\n",
        "torch.manual_seed(42)\n",
        "# 1d tensor of random numbers\n",
        "random_1d_tensor = torch.randn(3)  # randn() mean = 0 ; sd = 1  ; init with 3 values\n",
        "random_1d_tensor"
      ],
      "execution_count": 27,
      "outputs": [
        {
          "output_type": "execute_result",
          "data": {
            "text/plain": [
              "tensor([ 2.2082, -0.6380,  0.4617])"
            ]
          },
          "metadata": {},
          "execution_count": 27
        }
      ]
    },
    {
      "cell_type": "code",
      "metadata": {
        "id": "hdnaFKytqCHn",
        "outputId": "ddb326c1-dfdf-49e4-9f68-6489278b2e6f",
        "colab": {
          "base_uri": "https://localhost:8080/"
        }
      },
      "source": [
        "# setting the random seed for PyTorch\n",
        "torch.manual_seed(42)\n",
        "# 2d tensor of random numbers\n",
        "random_2d_tensor = torch.randn(3,3)\n",
        "random_2d_tensor"
      ],
      "execution_count": 30,
      "outputs": [
        {
          "output_type": "execute_result",
          "data": {
            "text/plain": [
              "tensor([[ 0.3367,  0.1288,  0.2345],\n",
              "        [ 0.2303, -1.1229, -0.1863],\n",
              "        [ 2.2082, -0.6380,  0.4617]])"
            ]
          },
          "metadata": {},
          "execution_count": 30
        }
      ]
    },
    {
      "cell_type": "code",
      "metadata": {
        "id": "IFcinrHkq0IZ",
        "outputId": "2710675b-a5ff-4888-e863-259c76c513a9",
        "colab": {
          "base_uri": "https://localhost:8080/"
        }
      },
      "source": [
        "# setting the random seed for PyTorch\n",
        "torch.manual_seed(42)\n",
        "# 3d tensor of random numbers\n",
        "random_3d_tensor = torch.randn(2,3,3)\n",
        "random_3d_tensor"
      ],
      "execution_count": 32,
      "outputs": [
        {
          "output_type": "execute_result",
          "data": {
            "text/plain": [
              "tensor([[[ 1.9269,  1.4873, -0.4974],\n",
              "         [ 0.4396, -0.7581,  1.0783],\n",
              "         [ 0.8008,  1.6806,  0.3559]],\n",
              "\n",
              "        [[-0.6866,  0.6105,  1.3347],\n",
              "         [-0.2316,  0.0418, -0.2516],\n",
              "         [ 0.8599, -0.3097, -0.3957]]])"
            ]
          },
          "metadata": {},
          "execution_count": 32
        }
      ]
    },
    {
      "cell_type": "markdown",
      "metadata": {
        "id": "q-fHkIM68ZDt"
      },
      "source": [
        "## 2. Mathematical Operations in PyTorch"
      ]
    },
    {
      "cell_type": "code",
      "metadata": {
        "id": "Xww_Ili68Vsc",
        "outputId": "11f7b35e-320c-41fc-a874-5e6c6bdcc61f",
        "colab": {
          "base_uri": "https://localhost:8080/"
        }
      },
      "source": [
        "# initializing two tensors\n",
        "a = torch.tensor(7)\n",
        "b = torch.tensor(2)\n",
        "print(a,b)"
      ],
      "execution_count": 43,
      "outputs": [
        {
          "output_type": "stream",
          "name": "stdout",
          "text": [
            "tensor(7) tensor(2)\n"
          ]
        }
      ]
    },
    {
      "cell_type": "code",
      "metadata": {
        "id": "ID15e2h0_uk4",
        "outputId": "a8170a1a-2655-452a-8195-db955e3e27d6",
        "colab": {
          "base_uri": "https://localhost:8080/"
        }
      },
      "source": [
        "# addition\n",
        "#print(a+b)\n",
        "print(torch.add(a,b))\n",
        "\n",
        "# subtraction\n",
        "print(b-a)\n",
        "\n",
        "# multiplication\n",
        "print(a*b)\n",
        "\n",
        "# division\n",
        "print(a/b)"
      ],
      "execution_count": 45,
      "outputs": [
        {
          "output_type": "stream",
          "name": "stdout",
          "text": [
            "tensor(9)\n",
            "tensor(-5)\n",
            "tensor(14)\n",
            "tensor(3.5000)\n"
          ]
        }
      ]
    },
    {
      "cell_type": "markdown",
      "metadata": {
        "id": "wVFhWgOZAFF-"
      },
      "source": [
        "## 3. Matrix Operations in PyTorch"
      ]
    },
    {
      "cell_type": "code",
      "metadata": {
        "id": "MLQfya3SHkFt"
      },
      "source": [
        "# setting the random seed for pytorch and initializing two 2d tensors\n",
        "torch.manual_seed(42)\n",
        "a = torch.randn(3,3)\n",
        "b = torch.randn(3,3)"
      ],
      "execution_count": 69,
      "outputs": []
    },
    {
      "cell_type": "code",
      "metadata": {
        "id": "j6hHA20ariLR",
        "outputId": "0c3de25e-acf5-48f2-bca4-6fa87613f23d",
        "colab": {
          "base_uri": "https://localhost:8080/"
        }
      },
      "source": [
        "# printing first matrix\n",
        "print(a)"
      ],
      "execution_count": 63,
      "outputs": [
        {
          "output_type": "stream",
          "name": "stdout",
          "text": [
            "tensor([[ 0.3367,  0.1288,  0.2345],\n",
            "        [ 0.2303, -1.1229, -0.1863],\n",
            "        [ 2.2082, -0.6380,  0.4617]])\n"
          ]
        }
      ]
    },
    {
      "cell_type": "code",
      "metadata": {
        "id": "r5MO-ZZvrmEZ",
        "outputId": "b9b8a321-1cdf-44e9-a32b-08ad9661b603",
        "colab": {
          "base_uri": "https://localhost:8080/"
        }
      },
      "source": [
        "# printing second matrix\n",
        "print(b)"
      ],
      "execution_count": 67,
      "outputs": [
        {
          "output_type": "stream",
          "name": "stdout",
          "text": [
            "tensor([[ 0.2674,  0.5349,  0.8094,  1.1103, -1.6898],\n",
            "        [-0.9890,  0.9580,  1.3221,  0.8172, -0.7658],\n",
            "        [-0.7506,  1.3525,  0.6863, -0.3278,  0.7950]])\n"
          ]
        }
      ]
    },
    {
      "cell_type": "markdown",
      "metadata": {
        "id": "MISPxCbErWm0"
      },
      "source": [
        "### 3.1 Matrix addition"
      ]
    },
    {
      "cell_type": "code",
      "metadata": {
        "id": "oiGB7IOxrbRn",
        "outputId": "786a3a01-ece3-400f-e179-94d158f826a0",
        "colab": {
          "base_uri": "https://localhost:8080/",
          "height": 193
        }
      },
      "source": [
        "# adding two matrices using torch.add\n",
        "addition = torch.add(a,b)\n",
        "#addition = a + b\n",
        "print(addition)"
      ],
      "execution_count": 58,
      "outputs": [
        {
          "output_type": "error",
          "ename": "RuntimeError",
          "evalue": "The size of tensor a (3) must match the size of tensor b (5) at non-singleton dimension 1",
          "traceback": [
            "\u001b[0;31m---------------------------------------------------------------------------\u001b[0m",
            "\u001b[0;31mRuntimeError\u001b[0m                              Traceback (most recent call last)",
            "\u001b[0;32m<ipython-input-58-8ac142eb5c2f>\u001b[0m in \u001b[0;36m<cell line: 2>\u001b[0;34m()\u001b[0m\n\u001b[1;32m      1\u001b[0m \u001b[0;31m# adding two matrices using torch.add\u001b[0m\u001b[0;34m\u001b[0m\u001b[0;34m\u001b[0m\u001b[0m\n\u001b[0;32m----> 2\u001b[0;31m \u001b[0maddition\u001b[0m \u001b[0;34m=\u001b[0m \u001b[0mtorch\u001b[0m\u001b[0;34m.\u001b[0m\u001b[0madd\u001b[0m\u001b[0;34m(\u001b[0m\u001b[0ma\u001b[0m\u001b[0;34m,\u001b[0m\u001b[0mb\u001b[0m\u001b[0;34m)\u001b[0m\u001b[0;34m\u001b[0m\u001b[0;34m\u001b[0m\u001b[0m\n\u001b[0m\u001b[1;32m      3\u001b[0m \u001b[0;31m#addition = a + b\u001b[0m\u001b[0;34m\u001b[0m\u001b[0;34m\u001b[0m\u001b[0m\n\u001b[1;32m      4\u001b[0m \u001b[0mprint\u001b[0m\u001b[0;34m(\u001b[0m\u001b[0maddition\u001b[0m\u001b[0;34m)\u001b[0m\u001b[0;34m\u001b[0m\u001b[0;34m\u001b[0m\u001b[0m\n",
            "\u001b[0;31mRuntimeError\u001b[0m: The size of tensor a (3) must match the size of tensor b (5) at non-singleton dimension 1"
          ]
        }
      ]
    },
    {
      "cell_type": "markdown",
      "metadata": {
        "id": "DnMkC0Njr64D"
      },
      "source": [
        "### 3.2 Matrix subtraction"
      ]
    },
    {
      "cell_type": "code",
      "metadata": {
        "id": "oWNCUGpXrbPC",
        "outputId": "35dca60a-1454-43c2-bff3-3c145e0a0c9c",
        "colab": {
          "base_uri": "https://localhost:8080/"
        }
      },
      "source": [
        "# subtracting one matrix from the other using torch.sub\n",
        "#subtraction = torch.sub(a,b)\n",
        "subtraction = (b-a)\n",
        "print(subtraction)"
      ],
      "execution_count": 53,
      "outputs": [
        {
          "output_type": "stream",
          "name": "stdout",
          "text": [
            "tensor([[-0.0693,  0.4061,  0.5749],\n",
            "        [ 0.8800, -0.5669, -0.8026],\n",
            "        [-1.2502,  1.9601,  0.3555]])\n"
          ]
        }
      ]
    },
    {
      "cell_type": "markdown",
      "metadata": {
        "id": "4w0m19KYsm_A"
      },
      "source": [
        "### 3.3 Matrix Multiplication"
      ]
    },
    {
      "cell_type": "code",
      "metadata": {
        "id": "-eeSm5F2rbJl",
        "outputId": "97aa6590-b1d7-4cc6-8563-6f9124ae04c8",
        "colab": {
          "base_uri": "https://localhost:8080/"
        }
      },
      "source": [
        "# matrix multiplication using torch.mm\n",
        "# this is similar to dot product\n",
        "\n",
        "dot_product = torch.mm(a,b)\n",
        "print(dot_product)"
      ],
      "execution_count": 59,
      "outputs": [
        {
          "output_type": "stream",
          "name": "stdout",
          "text": [
            "tensor([[-0.2134,  0.6206,  0.6037,  0.4022, -0.4812],\n",
            "        [ 1.3119, -1.2045, -1.4260, -0.6008,  0.3226],\n",
            "        [ 0.8748,  1.1944,  1.2606,  1.7791, -2.8758]])\n"
          ]
        }
      ]
    },
    {
      "cell_type": "markdown",
      "metadata": {
        "id": "B8ynzyNcTA7i"
      },
      "source": [
        "**NOTE:**\n",
        "\n",
        "If first input is a (pxq) tensor and second input is a (qxr) tensor, output will be a (pxr) tensor."
      ]
    },
    {
      "cell_type": "code",
      "metadata": {
        "id": "FzAwIA9Lu54L",
        "outputId": "982cfc41-7901-40ce-f613-bfb792e01ca3",
        "colab": {
          "base_uri": "https://localhost:8080/"
        }
      },
      "source": [
        "# matrix multiplication using torch.matmul\n",
        "\n",
        "matrix_multiplication = torch.matmul(a,b)\n",
        "print(matrix_multiplication)"
      ],
      "execution_count": 60,
      "outputs": [
        {
          "output_type": "stream",
          "name": "stdout",
          "text": [
            "tensor([[-0.2134,  0.6206,  0.6037,  0.4022, -0.4812],\n",
            "        [ 1.3119, -1.2045, -1.4260, -0.6008,  0.3226],\n",
            "        [ 0.8748,  1.1944,  1.2606,  1.7791, -2.8758]])\n"
          ]
        }
      ]
    },
    {
      "cell_type": "markdown",
      "metadata": {
        "id": "d04HRX5VvTd4"
      },
      "source": [
        "**NOTE:**\n",
        "\n",
        "torch.mm performs matrix product of two tensors. The behavior depends on the dimensionality of the tensors as follows:\n",
        "\n",
        "\n",
        "*   If both tensors are 1-dimensional, the dot product (scalar) is returned.\n",
        "*   If both arguments are 2-dimensional, the matrix-matrix product is returned.\n",
        "\n",
        "For more details on this, refer the official documentation of torch.matmul: https://pytorch.org/docs/stable/torch.html#torch.matmul"
      ]
    },
    {
      "cell_type": "code",
      "metadata": {
        "id": "_5WIOCfMtMoH",
        "outputId": "a65fd0bd-992b-4e79-a75c-81e4d89f88c6",
        "colab": {
          "base_uri": "https://localhost:8080/"
        }
      },
      "source": [
        "# matrix multiplication using torch.mul\n",
        "# this performs elementwise multiplication\n",
        "\n",
        "elementwise_multiplication = torch.mul(a,b)\n",
        "print(elementwise_multiplication)"
      ],
      "execution_count": 65,
      "outputs": [
        {
          "output_type": "stream",
          "name": "stdout",
          "text": [
            "tensor([[ 0.0900,  0.0689,  0.1898],\n",
            "        [ 0.2557,  1.8974,  0.1843],\n",
            "        [ 2.1154, -0.8435,  0.3773]])\n"
          ]
        }
      ]
    },
    {
      "cell_type": "markdown",
      "metadata": {
        "id": "DLEPdo9RwPK-"
      },
      "source": [
        "### 3.4 Matrix division"
      ]
    },
    {
      "cell_type": "code",
      "metadata": {
        "id": "MC7O7h_VtMeX",
        "outputId": "1d3ab59f-daf8-42b1-98d3-6d33349d776f",
        "colab": {
          "base_uri": "https://localhost:8080/"
        }
      },
      "source": [
        "# dividing one matrix by the other using torch.div\n",
        "division = torch.div(a,b)\n",
        "print(division)"
      ],
      "execution_count": 70,
      "outputs": [
        {
          "output_type": "stream",
          "name": "stdout",
          "text": [
            "tensor([[ 1.2594,  0.2408,  0.2897],\n",
            "        [ 0.2075,  0.6645,  0.1884],\n",
            "        [ 2.3051, -0.4826,  0.5649]])\n"
          ]
        }
      ]
    },
    {
      "cell_type": "markdown",
      "metadata": {
        "id": "qx7VeauyYWY3"
      },
      "source": [
        "### 3.5 Transpose of a matrix"
      ]
    },
    {
      "cell_type": "code",
      "metadata": {
        "id": "kNOsYDXZTAMo",
        "outputId": "2389551b-542c-4d6e-a00b-7eb0937854db",
        "colab": {
          "base_uri": "https://localhost:8080/"
        }
      },
      "source": [
        "# calculating the transpose of a 2d tensor in PyTorch\n",
        "# original matrix\n",
        "print(a, '\\n')\n",
        "\n",
        "# matrix transpose\n",
        "torch.t(a)"
      ],
      "execution_count": 71,
      "outputs": [
        {
          "output_type": "stream",
          "name": "stdout",
          "text": [
            "tensor([[ 0.3367,  0.1288,  0.2345],\n",
            "        [ 0.2303, -1.1229, -0.1863],\n",
            "        [ 2.2082, -0.6380,  0.4617]]) \n",
            "\n"
          ]
        },
        {
          "output_type": "execute_result",
          "data": {
            "text/plain": [
              "tensor([[ 0.3367,  0.2303,  2.2082],\n",
              "        [ 0.1288, -1.1229, -0.6380],\n",
              "        [ 0.2345, -0.1863,  0.4617]])"
            ]
          },
          "metadata": {},
          "execution_count": 71
        }
      ]
    },
    {
      "cell_type": "markdown",
      "metadata": {
        "id": "JerI0EHqT5D-"
      },
      "source": [
        "### 3.6 Reshaping 2d tensors"
      ]
    },
    {
      "cell_type": "code",
      "metadata": {
        "id": "6lQCxxCjTyPx",
        "outputId": "9b09901a-09dc-4ecc-87af-8d223318141a",
        "colab": {
          "base_uri": "https://localhost:8080/"
        }
      },
      "source": [
        "# setting the random seed for pytorch\n",
        "torch.manual_seed(42)\n",
        "\n",
        "# initializing tensor\n",
        "a = torch.randn(2,4)\n",
        "\n",
        "print(a)\n",
        "a.shape"
      ],
      "execution_count": 72,
      "outputs": [
        {
          "output_type": "stream",
          "name": "stdout",
          "text": [
            "tensor([[ 0.3367,  0.1288,  0.2345,  0.2303],\n",
            "        [-1.1229, -0.1863,  2.2082, -0.6380]])\n"
          ]
        },
        {
          "output_type": "execute_result",
          "data": {
            "text/plain": [
              "torch.Size([2, 4])"
            ]
          },
          "metadata": {},
          "execution_count": 72
        }
      ]
    },
    {
      "cell_type": "code",
      "metadata": {
        "id": "HQ4pGCReUCem",
        "outputId": "baee8a21-0b2a-46a8-9ec2-e36efab39f1a",
        "colab": {
          "base_uri": "https://localhost:8080/"
        }
      },
      "source": [
        "# reshaping tensor using reshape function\n",
        "b = a.reshape(8,1)\n",
        "\n",
        "print(b)\n",
        "b.shape"
      ],
      "execution_count": 76,
      "outputs": [
        {
          "output_type": "stream",
          "name": "stdout",
          "text": [
            "tensor([[ 0.3367],\n",
            "        [ 0.1288],\n",
            "        [ 0.2345],\n",
            "        [ 0.2303],\n",
            "        [-1.1229],\n",
            "        [-0.1863],\n",
            "        [ 2.2082],\n",
            "        [-0.6380]])\n"
          ]
        },
        {
          "output_type": "execute_result",
          "data": {
            "text/plain": [
              "torch.Size([8, 1])"
            ]
          },
          "metadata": {},
          "execution_count": 76
        }
      ]
    },
    {
      "cell_type": "code",
      "metadata": {
        "id": "Z84DECbxUouI",
        "outputId": "d6c2fe1b-c6dc-480c-93a5-c0cef702edae",
        "colab": {
          "base_uri": "https://localhost:8080/"
        }
      },
      "source": [
        "# reshaping tensor using view function\n",
        "b = a.view(8,1)\n",
        "\n",
        "print(b)\n",
        "b.shape"
      ],
      "execution_count": 78,
      "outputs": [
        {
          "output_type": "stream",
          "name": "stdout",
          "text": [
            "tensor([[ 0.3367],\n",
            "        [ 0.1288],\n",
            "        [ 0.2345],\n",
            "        [ 0.2303],\n",
            "        [-1.1229],\n",
            "        [-0.1863],\n",
            "        [ 2.2082],\n",
            "        [-0.6380]])\n"
          ]
        },
        {
          "output_type": "execute_result",
          "data": {
            "text/plain": [
              "torch.Size([8, 1])"
            ]
          },
          "metadata": {},
          "execution_count": 78
        }
      ]
    },
    {
      "cell_type": "code",
      "metadata": {
        "id": "AzXjV4OgNYIR",
        "outputId": "04a1fd57-2f2a-4867-a3a9-785d87d7b819",
        "colab": {
          "base_uri": "https://localhost:8080/"
        }
      },
      "source": [
        "# sum of values in tensor\n",
        "print(b.sum())"
      ],
      "execution_count": 81,
      "outputs": [
        {
          "output_type": "stream",
          "name": "stdout",
          "text": [
            "tensor(1.1913)\n"
          ]
        }
      ]
    },
    {
      "cell_type": "code",
      "metadata": {
        "id": "fXfz3u4KN6xG",
        "outputId": "b1695a8b-6117-49bb-8651-c93e7da3cb68",
        "colab": {
          "base_uri": "https://localhost:8080/"
        }
      },
      "source": [
        "# average of values in tensor\n",
        "print(torch.sum(b))"
      ],
      "execution_count": 84,
      "outputs": [
        {
          "output_type": "stream",
          "name": "stdout",
          "text": [
            "tensor(1.1913)\n"
          ]
        }
      ]
    },
    {
      "cell_type": "markdown",
      "metadata": {
        "id": "rokieVCySG-U"
      },
      "source": [
        "To learn more about other operations in pytorch, refer this link: https://pytorch.org/docs/stable/torch.html"
      ]
    },
    {
      "cell_type": "markdown",
      "metadata": {
        "id": "-QeactZFU03V"
      },
      "source": [
        "## 4. Converting NumPy arrays to PyTorch tensors"
      ]
    },
    {
      "cell_type": "code",
      "metadata": {
        "id": "n-sP_dlHUxP_",
        "outputId": "d5c17b5f-9bae-4fc3-896f-2a27e598e1ad",
        "colab": {
          "base_uri": "https://localhost:8080/",
          "height": 52
        }
      },
      "source": [
        "# importing numpy library\n",
        "import numpy as np\n",
        "\n",
        "# initializing a numpy array\n",
        "a = np.array([[1,2],[3,4]])\n",
        "print(a)"
      ],
      "execution_count": null,
      "outputs": [
        {
          "output_type": "stream",
          "text": [
            "[[1 2]\n",
            " [3 4]]\n"
          ],
          "name": "stdout"
        }
      ]
    },
    {
      "cell_type": "code",
      "metadata": {
        "id": "Ymi57mLIU-8A",
        "outputId": "2a61ea68-7108-4c90-cee6-e8780a7a753a",
        "colab": {
          "base_uri": "https://localhost:8080/",
          "height": 34
        }
      },
      "source": [
        "type(a)"
      ],
      "execution_count": null,
      "outputs": [
        {
          "output_type": "execute_result",
          "data": {
            "text/plain": [
              "numpy.ndarray"
            ]
          },
          "metadata": {
            "tags": []
          },
          "execution_count": 35
        }
      ]
    },
    {
      "cell_type": "code",
      "metadata": {
        "id": "R-PoEavgVHOk",
        "outputId": "2c72c0bf-8ec5-47c6-9e3b-38c8f2538825",
        "colab": {
          "base_uri": "https://localhost:8080/",
          "height": 52
        }
      },
      "source": [
        "# converting the numpy array to tensor\n",
        "array_to_tensor = torch.from_numpy(a)\n",
        "print(array_to_tensor)"
      ],
      "execution_count": null,
      "outputs": [
        {
          "output_type": "stream",
          "text": [
            "tensor([[1, 2],\n",
            "        [3, 4]])\n"
          ],
          "name": "stdout"
        }
      ]
    },
    {
      "cell_type": "code",
      "metadata": {
        "id": "jums6AzYVOwA",
        "outputId": "c0ee17e2-02f5-4163-e63d-1fc6f3046b9b",
        "colab": {
          "base_uri": "https://localhost:8080/",
          "height": 34
        }
      },
      "source": [
        "type(array_to_tensor)"
      ],
      "execution_count": null,
      "outputs": [
        {
          "output_type": "execute_result",
          "data": {
            "text/plain": [
              "torch.Tensor"
            ]
          },
          "metadata": {
            "tags": []
          },
          "execution_count": 37
        }
      ]
    },
    {
      "cell_type": "markdown",
      "metadata": {
        "id": "IchyVbUq6GjT"
      },
      "source": [
        "## 5. Converting PyTorch tensors to NumPy arrays"
      ]
    },
    {
      "cell_type": "code",
      "metadata": {
        "outputId": "8408ed29-0887-48e4-9884-a19e22bd1cb4",
        "id": "voMAfw046Gjg",
        "colab": {
          "base_uri": "https://localhost:8080/",
          "height": 69
        }
      },
      "source": [
        "# initializing a pytorch tensor\n",
        "a = torch.tensor([[1,2],[3,4]])\n",
        "print(a)\n",
        "\n",
        "type(a)"
      ],
      "execution_count": null,
      "outputs": [
        {
          "output_type": "stream",
          "text": [
            "tensor([[1, 2],\n",
            "        [3, 4]])\n"
          ],
          "name": "stdout"
        },
        {
          "output_type": "execute_result",
          "data": {
            "text/plain": [
              "torch.Tensor"
            ]
          },
          "metadata": {
            "tags": []
          },
          "execution_count": 38
        }
      ]
    },
    {
      "cell_type": "code",
      "metadata": {
        "outputId": "7eb7dac2-0ba7-4237-99f6-cd3c8cabf154",
        "id": "OWS1xbkW6GkB",
        "colab": {
          "base_uri": "https://localhost:8080/",
          "height": 69
        }
      },
      "source": [
        "# converting pytorch tensor to numpy array\n",
        "tensor_to_array = a.numpy()\n",
        "print(tensor_to_array)\n",
        "\n",
        "type(tensor_to_array)"
      ],
      "execution_count": null,
      "outputs": [
        {
          "output_type": "stream",
          "text": [
            "[[1 2]\n",
            " [3 4]]\n"
          ],
          "name": "stdout"
        },
        {
          "output_type": "execute_result",
          "data": {
            "text/plain": [
              "numpy.ndarray"
            ]
          },
          "metadata": {
            "tags": []
          },
          "execution_count": 39
        }
      ]
    },
    {
      "cell_type": "markdown",
      "metadata": {
        "id": "CdFtXweZ61Vd"
      },
      "source": [
        "## 6. Using tensors on GPU"
      ]
    },
    {
      "cell_type": "code",
      "metadata": {
        "id": "UU53V6Ed6x_R",
        "outputId": "877aa7ec-c26f-434e-ffb4-1a8f866b7d0c",
        "colab": {
          "base_uri": "https://localhost:8080/",
          "height": 34
        }
      },
      "source": [
        "# checking if GPU is available\n",
        "if torch.cuda.is_available():\n",
        "  print('GPU is available')\n",
        "else:\n",
        "  print('GPU is not available')"
      ],
      "execution_count": null,
      "outputs": [
        {
          "output_type": "stream",
          "text": [
            "GPU is available\n"
          ],
          "name": "stdout"
        }
      ]
    },
    {
      "cell_type": "code",
      "metadata": {
        "id": "VqVJp6Ug7kHO"
      },
      "source": [
        "# sending the tensors to GPU\n",
        "a = torch.tensor([[1,2],[3,4]])\n",
        "b = torch.tensor([[1,2],[3,4]])\n",
        "a = a.cuda()\n",
        "b = b.cuda()"
      ],
      "execution_count": null,
      "outputs": []
    },
    {
      "cell_type": "code",
      "metadata": {
        "id": "YLkt22iL713l",
        "outputId": "d9440c5c-a583-4bb3-9083-1aca86423c88",
        "colab": {
          "base_uri": "https://localhost:8080/",
          "height": 52
        }
      },
      "source": [
        "# performing some operation on GPU\n",
        "c = a+b\n",
        "print(c)"
      ],
      "execution_count": null,
      "outputs": [
        {
          "output_type": "stream",
          "text": [
            "tensor([[2, 4],\n",
            "        [6, 8]], device='cuda:0')\n"
          ],
          "name": "stdout"
        }
      ]
    },
    {
      "cell_type": "code",
      "metadata": {
        "id": "ucaAOExf732m",
        "outputId": "dffc2fc4-5eb9-4129-fd36-5269b9bf11bf",
        "colab": {
          "base_uri": "https://localhost:8080/",
          "height": 52
        }
      },
      "source": [
        "# moving the results back to CPU\n",
        "c = c.cpu()\n",
        "print(c)"
      ],
      "execution_count": null,
      "outputs": [
        {
          "output_type": "stream",
          "text": [
            "tensor([[2, 4],\n",
            "        [6, 8]])\n"
          ],
          "name": "stdout"
        }
      ]
    },
    {
      "cell_type": "code",
      "metadata": {
        "id": "apg788ScJBcC"
      },
      "source": [],
      "execution_count": null,
      "outputs": []
    }
  ]
}