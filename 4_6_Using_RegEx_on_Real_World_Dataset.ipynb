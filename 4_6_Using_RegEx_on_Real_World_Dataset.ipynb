{
  "nbformat": 4,
  "nbformat_minor": 0,
  "metadata": {
    "kernelspec": {
      "display_name": "Python 3",
      "language": "python",
      "name": "python3"
    },
    "language_info": {
      "codemirror_mode": {
        "name": "ipython",
        "version": 3
      },
      "file_extension": ".py",
      "mimetype": "text/x-python",
      "name": "python",
      "nbconvert_exporter": "python",
      "pygments_lexer": "ipython3",
      "version": "3.6.7"
    },
    "colab": {
      "provenance": [],
      "include_colab_link": true
    }
  },
  "cells": [
    {
      "cell_type": "markdown",
      "metadata": {
        "id": "view-in-github",
        "colab_type": "text"
      },
      "source": [
        "<a href=\"https://colab.research.google.com/github/arutraj/ML_Basics/blob/main/4_6_Using_RegEx_on_Real_World_Dataset.ipynb\" target=\"_parent\"><img src=\"https://colab.research.google.com/assets/colab-badge.svg\" alt=\"Open In Colab\"/></a>"
      ]
    },
    {
      "cell_type": "markdown",
      "metadata": {
        "id": "xtjqI_mfujh2"
      },
      "source": [
        "# Table of Contents\n",
        " 1. About the Dataset\n",
        " 2. Regex for Cleaning Text Data\n",
        " 3. Regex for Text Data Extraction\n",
        " 4. Regex Challenge\n"
      ]
    },
    {
      "cell_type": "markdown",
      "metadata": {
        "id": "cBHdRHrJujh5"
      },
      "source": [
        "## 1. About the Dataset"
      ]
    },
    {
      "cell_type": "code",
      "metadata": {
        "id": "PW7kNj8Xujh8",
        "colab": {
          "base_uri": "https://localhost:8080/",
          "height": 434
        },
        "outputId": "bca1b993-2bf0-4719-d73b-34e2509a3118"
      },
      "source": [
        "import pandas as pd\n",
        "\n",
        "#Loading the dataset\n",
        "df = pd.read_csv(\"/content/tweets.csv\", encoding = \"ISO-8859-1\")\n",
        "\n",
        "# Printing first 5 rows\n",
        "df.head()"
      ],
      "execution_count": 2,
      "outputs": [
        {
          "output_type": "execute_result",
          "data": {
            "text/plain": [
              "                                                text favorited  favoriteCount  \\\n",
              "0  RT @rssurjewala: Critical question: Was PayTM ...     False            0.0   \n",
              "1  RT @Hemant_80: Did you vote on #Demonetization...     False            0.0   \n",
              "2  RT @roshankar: Former FinSec, RBI Dy Governor,...     False            0.0   \n",
              "3  RT @ANI_news: Gurugram (Haryana): Post office ...     False            0.0   \n",
              "4  RT @satishacharya: Reddy Wedding! @mail_today ...     False            0.0   \n",
              "\n",
              "  replyToSN              created truncated  replyToSID            id  \\\n",
              "0       NaN  2016-11-23 18:40:30     False         NaN  8.014957e+17   \n",
              "1       NaN  2016-11-23 18:40:29     False         NaN  8.014957e+17   \n",
              "2       NaN  2016-11-23 18:40:03     False         NaN  8.014955e+17   \n",
              "3       NaN  2016-11-23 18:39:59     False         NaN  8.014955e+17   \n",
              "4       NaN  2016-11-23 18:39:39     False         NaN  8.014954e+17   \n",
              "\n",
              "   replyToUID                                       statusSource  \\\n",
              "0         NaN  <a href=\"http://twitter.com/download/android\" ...   \n",
              "1         NaN  <a href=\"http://twitter.com/download/android\" ...   \n",
              "2         NaN  <a href=\"http://twitter.com/download/android\" ...   \n",
              "3         NaN  <a href=\"http://twitter.com/download/android\" ...   \n",
              "4         NaN  <a href=\"http://cpimharyana.com\" rel=\"nofollow...   \n",
              "\n",
              "        screenName  retweetCount isRetweet retweeted  \n",
              "0  HASHTAGFARZIWAL         331.0      True     False  \n",
              "1   PRAMODKAUSHIK9          66.0      True     False  \n",
              "2  rahulja13034944          12.0      True     False  \n",
              "3        deeptiyvd         338.0      True     False  \n",
              "4        CPIMBadli         120.0      True     False  "
            ],
            "text/html": [
              "\n",
              "  <div id=\"df-64ca6502-f8fa-4171-874e-1e2315c14a9a\" class=\"colab-df-container\">\n",
              "    <div>\n",
              "<style scoped>\n",
              "    .dataframe tbody tr th:only-of-type {\n",
              "        vertical-align: middle;\n",
              "    }\n",
              "\n",
              "    .dataframe tbody tr th {\n",
              "        vertical-align: top;\n",
              "    }\n",
              "\n",
              "    .dataframe thead th {\n",
              "        text-align: right;\n",
              "    }\n",
              "</style>\n",
              "<table border=\"1\" class=\"dataframe\">\n",
              "  <thead>\n",
              "    <tr style=\"text-align: right;\">\n",
              "      <th></th>\n",
              "      <th>text</th>\n",
              "      <th>favorited</th>\n",
              "      <th>favoriteCount</th>\n",
              "      <th>replyToSN</th>\n",
              "      <th>created</th>\n",
              "      <th>truncated</th>\n",
              "      <th>replyToSID</th>\n",
              "      <th>id</th>\n",
              "      <th>replyToUID</th>\n",
              "      <th>statusSource</th>\n",
              "      <th>screenName</th>\n",
              "      <th>retweetCount</th>\n",
              "      <th>isRetweet</th>\n",
              "      <th>retweeted</th>\n",
              "    </tr>\n",
              "  </thead>\n",
              "  <tbody>\n",
              "    <tr>\n",
              "      <th>0</th>\n",
              "      <td>RT @rssurjewala: Critical question: Was PayTM ...</td>\n",
              "      <td>False</td>\n",
              "      <td>0.0</td>\n",
              "      <td>NaN</td>\n",
              "      <td>2016-11-23 18:40:30</td>\n",
              "      <td>False</td>\n",
              "      <td>NaN</td>\n",
              "      <td>8.014957e+17</td>\n",
              "      <td>NaN</td>\n",
              "      <td>&lt;a href=\"http://twitter.com/download/android\" ...</td>\n",
              "      <td>HASHTAGFARZIWAL</td>\n",
              "      <td>331.0</td>\n",
              "      <td>True</td>\n",
              "      <td>False</td>\n",
              "    </tr>\n",
              "    <tr>\n",
              "      <th>1</th>\n",
              "      <td>RT @Hemant_80: Did you vote on #Demonetization...</td>\n",
              "      <td>False</td>\n",
              "      <td>0.0</td>\n",
              "      <td>NaN</td>\n",
              "      <td>2016-11-23 18:40:29</td>\n",
              "      <td>False</td>\n",
              "      <td>NaN</td>\n",
              "      <td>8.014957e+17</td>\n",
              "      <td>NaN</td>\n",
              "      <td>&lt;a href=\"http://twitter.com/download/android\" ...</td>\n",
              "      <td>PRAMODKAUSHIK9</td>\n",
              "      <td>66.0</td>\n",
              "      <td>True</td>\n",
              "      <td>False</td>\n",
              "    </tr>\n",
              "    <tr>\n",
              "      <th>2</th>\n",
              "      <td>RT @roshankar: Former FinSec, RBI Dy Governor,...</td>\n",
              "      <td>False</td>\n",
              "      <td>0.0</td>\n",
              "      <td>NaN</td>\n",
              "      <td>2016-11-23 18:40:03</td>\n",
              "      <td>False</td>\n",
              "      <td>NaN</td>\n",
              "      <td>8.014955e+17</td>\n",
              "      <td>NaN</td>\n",
              "      <td>&lt;a href=\"http://twitter.com/download/android\" ...</td>\n",
              "      <td>rahulja13034944</td>\n",
              "      <td>12.0</td>\n",
              "      <td>True</td>\n",
              "      <td>False</td>\n",
              "    </tr>\n",
              "    <tr>\n",
              "      <th>3</th>\n",
              "      <td>RT @ANI_news: Gurugram (Haryana): Post office ...</td>\n",
              "      <td>False</td>\n",
              "      <td>0.0</td>\n",
              "      <td>NaN</td>\n",
              "      <td>2016-11-23 18:39:59</td>\n",
              "      <td>False</td>\n",
              "      <td>NaN</td>\n",
              "      <td>8.014955e+17</td>\n",
              "      <td>NaN</td>\n",
              "      <td>&lt;a href=\"http://twitter.com/download/android\" ...</td>\n",
              "      <td>deeptiyvd</td>\n",
              "      <td>338.0</td>\n",
              "      <td>True</td>\n",
              "      <td>False</td>\n",
              "    </tr>\n",
              "    <tr>\n",
              "      <th>4</th>\n",
              "      <td>RT @satishacharya: Reddy Wedding! @mail_today ...</td>\n",
              "      <td>False</td>\n",
              "      <td>0.0</td>\n",
              "      <td>NaN</td>\n",
              "      <td>2016-11-23 18:39:39</td>\n",
              "      <td>False</td>\n",
              "      <td>NaN</td>\n",
              "      <td>8.014954e+17</td>\n",
              "      <td>NaN</td>\n",
              "      <td>&lt;a href=\"http://cpimharyana.com\" rel=\"nofollow...</td>\n",
              "      <td>CPIMBadli</td>\n",
              "      <td>120.0</td>\n",
              "      <td>True</td>\n",
              "      <td>False</td>\n",
              "    </tr>\n",
              "  </tbody>\n",
              "</table>\n",
              "</div>\n",
              "    <div class=\"colab-df-buttons\">\n",
              "\n",
              "  <div class=\"colab-df-container\">\n",
              "    <button class=\"colab-df-convert\" onclick=\"convertToInteractive('df-64ca6502-f8fa-4171-874e-1e2315c14a9a')\"\n",
              "            title=\"Convert this dataframe to an interactive table.\"\n",
              "            style=\"display:none;\">\n",
              "\n",
              "  <svg xmlns=\"http://www.w3.org/2000/svg\" height=\"24px\" viewBox=\"0 -960 960 960\">\n",
              "    <path d=\"M120-120v-720h720v720H120Zm60-500h600v-160H180v160Zm220 220h160v-160H400v160Zm0 220h160v-160H400v160ZM180-400h160v-160H180v160Zm440 0h160v-160H620v160ZM180-180h160v-160H180v160Zm440 0h160v-160H620v160Z\"/>\n",
              "  </svg>\n",
              "    </button>\n",
              "\n",
              "  <style>\n",
              "    .colab-df-container {\n",
              "      display:flex;\n",
              "      gap: 12px;\n",
              "    }\n",
              "\n",
              "    .colab-df-convert {\n",
              "      background-color: #E8F0FE;\n",
              "      border: none;\n",
              "      border-radius: 50%;\n",
              "      cursor: pointer;\n",
              "      display: none;\n",
              "      fill: #1967D2;\n",
              "      height: 32px;\n",
              "      padding: 0 0 0 0;\n",
              "      width: 32px;\n",
              "    }\n",
              "\n",
              "    .colab-df-convert:hover {\n",
              "      background-color: #E2EBFA;\n",
              "      box-shadow: 0px 1px 2px rgba(60, 64, 67, 0.3), 0px 1px 3px 1px rgba(60, 64, 67, 0.15);\n",
              "      fill: #174EA6;\n",
              "    }\n",
              "\n",
              "    .colab-df-buttons div {\n",
              "      margin-bottom: 4px;\n",
              "    }\n",
              "\n",
              "    [theme=dark] .colab-df-convert {\n",
              "      background-color: #3B4455;\n",
              "      fill: #D2E3FC;\n",
              "    }\n",
              "\n",
              "    [theme=dark] .colab-df-convert:hover {\n",
              "      background-color: #434B5C;\n",
              "      box-shadow: 0px 1px 3px 1px rgba(0, 0, 0, 0.15);\n",
              "      filter: drop-shadow(0px 1px 2px rgba(0, 0, 0, 0.3));\n",
              "      fill: #FFFFFF;\n",
              "    }\n",
              "  </style>\n",
              "\n",
              "    <script>\n",
              "      const buttonEl =\n",
              "        document.querySelector('#df-64ca6502-f8fa-4171-874e-1e2315c14a9a button.colab-df-convert');\n",
              "      buttonEl.style.display =\n",
              "        google.colab.kernel.accessAllowed ? 'block' : 'none';\n",
              "\n",
              "      async function convertToInteractive(key) {\n",
              "        const element = document.querySelector('#df-64ca6502-f8fa-4171-874e-1e2315c14a9a');\n",
              "        const dataTable =\n",
              "          await google.colab.kernel.invokeFunction('convertToInteractive',\n",
              "                                                    [key], {});\n",
              "        if (!dataTable) return;\n",
              "\n",
              "        const docLinkHtml = 'Like what you see? Visit the ' +\n",
              "          '<a target=\"_blank\" href=https://colab.research.google.com/notebooks/data_table.ipynb>data table notebook</a>'\n",
              "          + ' to learn more about interactive tables.';\n",
              "        element.innerHTML = '';\n",
              "        dataTable['output_type'] = 'display_data';\n",
              "        await google.colab.output.renderOutput(dataTable, element);\n",
              "        const docLink = document.createElement('div');\n",
              "        docLink.innerHTML = docLinkHtml;\n",
              "        element.appendChild(docLink);\n",
              "      }\n",
              "    </script>\n",
              "  </div>\n",
              "\n",
              "\n",
              "<div id=\"df-392efa47-b690-4986-895a-61b19aef405d\">\n",
              "  <button class=\"colab-df-quickchart\" onclick=\"quickchart('df-392efa47-b690-4986-895a-61b19aef405d')\"\n",
              "            title=\"Suggest charts\"\n",
              "            style=\"display:none;\">\n",
              "\n",
              "<svg xmlns=\"http://www.w3.org/2000/svg\" height=\"24px\"viewBox=\"0 0 24 24\"\n",
              "     width=\"24px\">\n",
              "    <g>\n",
              "        <path d=\"M19 3H5c-1.1 0-2 .9-2 2v14c0 1.1.9 2 2 2h14c1.1 0 2-.9 2-2V5c0-1.1-.9-2-2-2zM9 17H7v-7h2v7zm4 0h-2V7h2v10zm4 0h-2v-4h2v4z\"/>\n",
              "    </g>\n",
              "</svg>\n",
              "  </button>\n",
              "\n",
              "<style>\n",
              "  .colab-df-quickchart {\n",
              "      --bg-color: #E8F0FE;\n",
              "      --fill-color: #1967D2;\n",
              "      --hover-bg-color: #E2EBFA;\n",
              "      --hover-fill-color: #174EA6;\n",
              "      --disabled-fill-color: #AAA;\n",
              "      --disabled-bg-color: #DDD;\n",
              "  }\n",
              "\n",
              "  [theme=dark] .colab-df-quickchart {\n",
              "      --bg-color: #3B4455;\n",
              "      --fill-color: #D2E3FC;\n",
              "      --hover-bg-color: #434B5C;\n",
              "      --hover-fill-color: #FFFFFF;\n",
              "      --disabled-bg-color: #3B4455;\n",
              "      --disabled-fill-color: #666;\n",
              "  }\n",
              "\n",
              "  .colab-df-quickchart {\n",
              "    background-color: var(--bg-color);\n",
              "    border: none;\n",
              "    border-radius: 50%;\n",
              "    cursor: pointer;\n",
              "    display: none;\n",
              "    fill: var(--fill-color);\n",
              "    height: 32px;\n",
              "    padding: 0;\n",
              "    width: 32px;\n",
              "  }\n",
              "\n",
              "  .colab-df-quickchart:hover {\n",
              "    background-color: var(--hover-bg-color);\n",
              "    box-shadow: 0 1px 2px rgba(60, 64, 67, 0.3), 0 1px 3px 1px rgba(60, 64, 67, 0.15);\n",
              "    fill: var(--button-hover-fill-color);\n",
              "  }\n",
              "\n",
              "  .colab-df-quickchart-complete:disabled,\n",
              "  .colab-df-quickchart-complete:disabled:hover {\n",
              "    background-color: var(--disabled-bg-color);\n",
              "    fill: var(--disabled-fill-color);\n",
              "    box-shadow: none;\n",
              "  }\n",
              "\n",
              "  .colab-df-spinner {\n",
              "    border: 2px solid var(--fill-color);\n",
              "    border-color: transparent;\n",
              "    border-bottom-color: var(--fill-color);\n",
              "    animation:\n",
              "      spin 1s steps(1) infinite;\n",
              "  }\n",
              "\n",
              "  @keyframes spin {\n",
              "    0% {\n",
              "      border-color: transparent;\n",
              "      border-bottom-color: var(--fill-color);\n",
              "      border-left-color: var(--fill-color);\n",
              "    }\n",
              "    20% {\n",
              "      border-color: transparent;\n",
              "      border-left-color: var(--fill-color);\n",
              "      border-top-color: var(--fill-color);\n",
              "    }\n",
              "    30% {\n",
              "      border-color: transparent;\n",
              "      border-left-color: var(--fill-color);\n",
              "      border-top-color: var(--fill-color);\n",
              "      border-right-color: var(--fill-color);\n",
              "    }\n",
              "    40% {\n",
              "      border-color: transparent;\n",
              "      border-right-color: var(--fill-color);\n",
              "      border-top-color: var(--fill-color);\n",
              "    }\n",
              "    60% {\n",
              "      border-color: transparent;\n",
              "      border-right-color: var(--fill-color);\n",
              "    }\n",
              "    80% {\n",
              "      border-color: transparent;\n",
              "      border-right-color: var(--fill-color);\n",
              "      border-bottom-color: var(--fill-color);\n",
              "    }\n",
              "    90% {\n",
              "      border-color: transparent;\n",
              "      border-bottom-color: var(--fill-color);\n",
              "    }\n",
              "  }\n",
              "</style>\n",
              "\n",
              "  <script>\n",
              "    async function quickchart(key) {\n",
              "      const quickchartButtonEl =\n",
              "        document.querySelector('#' + key + ' button');\n",
              "      quickchartButtonEl.disabled = true;  // To prevent multiple clicks.\n",
              "      quickchartButtonEl.classList.add('colab-df-spinner');\n",
              "      try {\n",
              "        const charts = await google.colab.kernel.invokeFunction(\n",
              "            'suggestCharts', [key], {});\n",
              "      } catch (error) {\n",
              "        console.error('Error during call to suggestCharts:', error);\n",
              "      }\n",
              "      quickchartButtonEl.classList.remove('colab-df-spinner');\n",
              "      quickchartButtonEl.classList.add('colab-df-quickchart-complete');\n",
              "    }\n",
              "    (() => {\n",
              "      let quickchartButtonEl =\n",
              "        document.querySelector('#df-392efa47-b690-4986-895a-61b19aef405d button');\n",
              "      quickchartButtonEl.style.display =\n",
              "        google.colab.kernel.accessAllowed ? 'block' : 'none';\n",
              "    })();\n",
              "  </script>\n",
              "</div>\n",
              "\n",
              "    </div>\n",
              "  </div>\n"
            ],
            "application/vnd.google.colaboratory.intrinsic+json": {
              "type": "dataframe",
              "variable_name": "df",
              "summary": "{\n  \"name\": \"df\",\n  \"rows\": 5157,\n  \"fields\": [\n    {\n      \"column\": \"text\",\n      \"properties\": {\n        \"dtype\": \"string\",\n        \"num_unique_values\": 5154,\n        \"samples\": [\n          \"RT @Stupidosaur: @wikileaks Some US thugs,whom I tried to approach as friends during demonetization, spoke about radicalization option fo I\\u00c2\\u0085\",\n          \"RT @coomarashish: C-Voter on #Demonetization:\\r\\nOnly 22% happy with implementation, when asked to mark the same, 66% says 'Good'.\\r\\n@manakgupta\\u00c2\\u0085\",\n          \"RT @RNTata2000: Some further thoughts on implementation of demonetization program. https://t.co/RZdicKvFS7\"\n        ],\n        \"semantic_type\": \"\",\n        \"description\": \"\"\n      }\n    },\n    {\n      \"column\": \"favorited\",\n      \"properties\": {\n        \"dtype\": \"category\",\n        \"num_unique_values\": 1,\n        \"samples\": [\n          false\n        ],\n        \"semantic_type\": \"\",\n        \"description\": \"\"\n      }\n    },\n    {\n      \"column\": \"favoriteCount\",\n      \"properties\": {\n        \"dtype\": \"number\",\n        \"std\": 48.42003858954878,\n        \"min\": 0.0,\n        \"max\": 3166.0,\n        \"num_unique_values\": 83,\n        \"samples\": [\n          34.0\n        ],\n        \"semantic_type\": \"\",\n        \"description\": \"\"\n      }\n    },\n    {\n      \"column\": \"replyToSN\",\n      \"properties\": {\n        \"dtype\": \"category\",\n        \"num_unique_values\": 673,\n        \"samples\": [\n          \"anshud2843\"\n        ],\n        \"semantic_type\": \"\",\n        \"description\": \"\"\n      }\n    },\n    {\n      \"column\": \"created\",\n      \"properties\": {\n        \"dtype\": \"object\",\n        \"num_unique_values\": 5033,\n        \"samples\": [\n          \"2016-11-22 13:38:31\"\n        ],\n        \"semantic_type\": \"\",\n        \"description\": \"\"\n      }\n    },\n    {\n      \"column\": \"truncated\",\n      \"properties\": {\n        \"dtype\": \"category\",\n        \"num_unique_values\": 2,\n        \"samples\": [\n          true\n        ],\n        \"semantic_type\": \"\",\n        \"description\": \"\"\n      }\n    },\n    {\n      \"column\": \"replyToSID\",\n      \"properties\": {\n        \"dtype\": \"number\",\n        \"std\": 3.889768390001894e+16,\n        \"min\": 22096326007.0,\n        \"max\": 8.554541262760837e+17,\n        \"num_unique_values\": 831,\n        \"samples\": [\n          8.531224284735488e+17\n        ],\n        \"semantic_type\": \"\",\n        \"description\": \"\"\n      }\n    },\n    {\n      \"column\": \"id\",\n      \"properties\": {\n        \"dtype\": \"number\",\n        \"std\": 2.6201990319359636e+16,\n        \"min\": 8.010168078259405e+17,\n        \"max\": 8.554728794078167e+17,\n        \"num_unique_values\": 5147,\n        \"samples\": [\n          8.013257466732913e+17\n        ],\n        \"semantic_type\": \"\",\n        \"description\": \"\"\n      }\n    },\n    {\n      \"column\": \"replyToUID\",\n      \"properties\": {\n        \"dtype\": \"number\",\n        \"std\": 1.8030978071111197e+17,\n        \"min\": 1917731.0,\n        \"max\": 8.542509997662413e+17,\n        \"num_unique_values\": 673,\n        \"samples\": [\n          1602416263.0\n        ],\n        \"semantic_type\": \"\",\n        \"description\": \"\"\n      }\n    },\n    {\n      \"column\": \"statusSource\",\n      \"properties\": {\n        \"dtype\": \"category\",\n        \"num_unique_values\": 117,\n        \"samples\": [\n          \"<a href=\\\"http://bitcoinagile.com\\\" rel=\\\"nofollow\\\">bitcoinagile</a>\"\n        ],\n        \"semantic_type\": \"\",\n        \"description\": \"\"\n      }\n    },\n    {\n      \"column\": \"screenName\",\n      \"properties\": {\n        \"dtype\": \"string\",\n        \"num_unique_values\": 3975,\n        \"samples\": [\n          \"becca_savory\"\n        ],\n        \"semantic_type\": \"\",\n        \"description\": \"\"\n      }\n    },\n    {\n      \"column\": \"retweetCount\",\n      \"properties\": {\n        \"dtype\": \"number\",\n        \"std\": 134.5214697389906,\n        \"min\": 0.0,\n        \"max\": 5170.0,\n        \"num_unique_values\": 217,\n        \"samples\": [\n          1104.0\n        ],\n        \"semantic_type\": \"\",\n        \"description\": \"\"\n      }\n    },\n    {\n      \"column\": \"isRetweet\",\n      \"properties\": {\n        \"dtype\": \"category\",\n        \"num_unique_values\": 2,\n        \"samples\": [\n          false\n        ],\n        \"semantic_type\": \"\",\n        \"description\": \"\"\n      }\n    },\n    {\n      \"column\": \"retweeted\",\n      \"properties\": {\n        \"dtype\": \"category\",\n        \"num_unique_values\": 1,\n        \"samples\": [\n          false\n        ],\n        \"semantic_type\": \"\",\n        \"description\": \"\"\n      }\n    }\n  ]\n}"
            }
          },
          "metadata": {},
          "execution_count": 2
        }
      ]
    },
    {
      "cell_type": "code",
      "metadata": {
        "id": "weuH_j1dujiM",
        "colab": {
          "base_uri": "https://localhost:8080/"
        },
        "outputId": "f8b3232e-5911-4c20-fb95-145b509b83d9"
      },
      "source": [
        "# Looking at some Tweets\n",
        "for index, tweet in enumerate(df[\"text\"][10:18]):\n",
        "    print(index+1,\".\",tweet)"
      ],
      "execution_count": 4,
      "outputs": [
        {
          "output_type": "stream",
          "name": "stdout",
          "text": [
            "1 . Many opposition leaders are with @narendramodi on the #Demonetization \r\n",
            "And respect their decision,but support opposition just b'coz of party\n",
            "2 . RT @Joydas: Question in Narendra Modi App where PM is taking feedback if people support his #DeMonetization strategy https://t.co/pYgK8Rmg7r\n",
            "3 . @Jaggesh2 Bharat band on 28??<ed><U+00A0><U+00BD><ed><U+00B8><U+0082>Those who  are protesting #demonetization  are all different party leaders.\n",
            "4 . RT @Atheist_Krishna: The effect of #Demonetization !!\r\n",
            ". https://t.co/A8of7zh2f5\n",
            "5 . RT @sona2905: When I explained #Demonetization to myself and tried to put it down in my words which are not laced with any heavy technicalÂ\n",
            "6 . RT @Dipankar_cpiml: The Modi app on #DeMonetization proves once again that the govt is totally indifferent to the mounting misery and hardsÂ\n",
            "7 . RT @Atheist_Krishna: BEFORE and AFTER Gandhi ji heard they are standing there against #Demonetization\r\n",
            ". https://t.co/9NheK63TPg\n",
            "8 . RT @pGurus1: #Demonetization The co-operative banking sector in Kerala is as good as a tax haven. Is Kerala a Black Money HQ? https://t.co/Â\n"
          ]
        }
      ]
    },
    {
      "cell_type": "markdown",
      "metadata": {
        "id": "AtyGrQGjujiV"
      },
      "source": [
        "## 2. Regex for Cleaning Text Data"
      ]
    },
    {
      "cell_type": "code",
      "metadata": {
        "id": "6d09OY74ujiY"
      },
      "source": [
        "import re"
      ],
      "execution_count": 5,
      "outputs": []
    },
    {
      "cell_type": "markdown",
      "metadata": {
        "id": "OjgVp4Vnujif"
      },
      "source": [
        "### a. Removing `RT`"
      ]
    },
    {
      "cell_type": "code",
      "metadata": {
        "scrolled": true,
        "id": "KNhY2zWBujih",
        "colab": {
          "base_uri": "https://localhost:8080/"
        },
        "outputId": "0eed88fa-04d3-4f4f-b38b-c9efdf594dca"
      },
      "source": [
        "# Removing RT from a single Tweet\n",
        "text = \"RT @Joydas: Question in Narendra Modi App where PM is taking feedback if people support his #DeMonetization strategy https://t.co/pYgK8Rmg7r\"\n",
        "clean_text = re.sub('RT ','', text)\n",
        "\n",
        "print(\"Text before:\\n\", text)\n",
        "print(\"Text after:\\n\", clean_text)"
      ],
      "execution_count": 6,
      "outputs": [
        {
          "output_type": "stream",
          "name": "stdout",
          "text": [
            "Text before:\n",
            " RT @Joydas: Question in Narendra Modi App where PM is taking feedback if people support his #DeMonetization strategy https://t.co/pYgK8Rmg7r\n",
            "Text after:\n",
            " @Joydas: Question in Narendra Modi App where PM is taking feedback if people support his #DeMonetization strategy https://t.co/pYgK8Rmg7r\n"
          ]
        }
      ]
    },
    {
      "cell_type": "code",
      "metadata": {
        "id": "GiIlLK4pujip",
        "colab": {
          "base_uri": "https://localhost:8080/"
        },
        "outputId": "8644ef68-301f-493b-c100-eb83a9a89466"
      },
      "source": [
        "# Tweets before removal\n",
        "df['text'].head()"
      ],
      "execution_count": 7,
      "outputs": [
        {
          "output_type": "execute_result",
          "data": {
            "text/plain": [
              "0    RT @rssurjewala: Critical question: Was PayTM ...\n",
              "1    RT @Hemant_80: Did you vote on #Demonetization...\n",
              "2    RT @roshankar: Former FinSec, RBI Dy Governor,...\n",
              "3    RT @ANI_news: Gurugram (Haryana): Post office ...\n",
              "4    RT @satishacharya: Reddy Wedding! @mail_today ...\n",
              "Name: text, dtype: object"
            ]
          },
          "metadata": {},
          "execution_count": 7
        }
      ]
    },
    {
      "cell_type": "code",
      "metadata": {
        "id": "e_sg0D20ujix"
      },
      "source": [
        "# Removing RT from all the tweets\n",
        "df['text']=df['text'].apply(lambda x: re.sub('RT ','',x))"
      ],
      "execution_count": 8,
      "outputs": []
    },
    {
      "cell_type": "code",
      "metadata": {
        "id": "Q68p9HTauji3",
        "colab": {
          "base_uri": "https://localhost:8080/"
        },
        "outputId": "c71a48f9-e982-4a52-9e85-706ac20cee94"
      },
      "source": [
        "# Tweets after removal\n",
        "df['text'].head()"
      ],
      "execution_count": 9,
      "outputs": [
        {
          "output_type": "execute_result",
          "data": {
            "text/plain": [
              "0    @rssurjewala: Critical question: Was PayTM inf...\n",
              "1    @Hemant_80: Did you vote on #Demonetization on...\n",
              "2    @roshankar: Former FinSec, RBI Dy Governor, CB...\n",
              "3    @ANI_news: Gurugram (Haryana): Post office emp...\n",
              "4    @satishacharya: Reddy Wedding! @mail_today car...\n",
              "Name: text, dtype: object"
            ]
          },
          "metadata": {},
          "execution_count": 9
        }
      ]
    },
    {
      "cell_type": "markdown",
      "metadata": {
        "id": "sINitCy_uji8"
      },
      "source": [
        "### b. Removing `<U+..>` like symbols"
      ]
    },
    {
      "cell_type": "code",
      "metadata": {
        "scrolled": true,
        "id": "2Y1wOhYHuji-",
        "colab": {
          "base_uri": "https://localhost:8080/"
        },
        "outputId": "9281faf7-c317-4d84-e14c-2bd3d8da1965"
      },
      "source": [
        "# Removing <U+..> like symbols from a single tweet\n",
        "text = \"@Jaggesh2 Bharat band on 28??<ed><U+00A0><U+00BD><ed><U+00B8><U+0082>Those who  are protesting #demonetization  are all different party leaders\"\n",
        "clean_text = re.sub('<U\\+[A-Z0-9]+>','', text)\n",
        "\n",
        "print(\"Text before:\\n\", text)\n",
        "print(\"Text after:\\n\", clean_text)"
      ],
      "execution_count": 10,
      "outputs": [
        {
          "output_type": "stream",
          "name": "stdout",
          "text": [
            "Text before:\n",
            " @Jaggesh2 Bharat band on 28??<ed><U+00A0><U+00BD><ed><U+00B8><U+0082>Those who  are protesting #demonetization  are all different party leaders\n",
            "Text after:\n",
            " @Jaggesh2 Bharat band on 28??<ed><ed>Those who  are protesting #demonetization  are all different party leaders\n"
          ]
        }
      ]
    },
    {
      "cell_type": "markdown",
      "metadata": {
        "id": "TSNVcp5RujjE"
      },
      "source": [
        "**Note** that although we have gotten rid of majority of symbols, `<ed>` is still present. I leave this as an exercise for you to try out."
      ]
    },
    {
      "cell_type": "code",
      "metadata": {
        "id": "IUqQlbBWujjG"
      },
      "source": [
        "# Removing <U+..> like symbols from all the tweets\n",
        "df['text']=df['text'].apply(lambda x: re.sub('<U\\+[A-Z0-9]+>', '', x))"
      ],
      "execution_count": 11,
      "outputs": []
    },
    {
      "cell_type": "markdown",
      "metadata": {
        "id": "zQIbv4blujjL"
      },
      "source": [
        "### c. Fixing the `&` and `&amp;`"
      ]
    },
    {
      "cell_type": "code",
      "metadata": {
        "id": "xLK7LE-7ujjM",
        "colab": {
          "base_uri": "https://localhost:8080/"
        },
        "outputId": "e6ee85d8-6631-4ca8-cb58-85c97b111cb8"
      },
      "source": [
        "# Replacing &amp with & in a single tweet\n",
        "text = \"RT @harshkkapoor: #DeMonetization survey results after 24 hours 5Lacs opinions Amazing response &amp; Commitment in fight against Blackmoney\"\n",
        "clean_text = re.sub('&amp;','&', text)\n",
        "\n",
        "print(\"Text before:\\n\", text)\n",
        "print(\"Text after:\\n\", clean_text)"
      ],
      "execution_count": 12,
      "outputs": [
        {
          "output_type": "stream",
          "name": "stdout",
          "text": [
            "Text before:\n",
            " RT @harshkkapoor: #DeMonetization survey results after 24 hours 5Lacs opinions Amazing response &amp; Commitment in fight against Blackmoney\n",
            "Text after:\n",
            " RT @harshkkapoor: #DeMonetization survey results after 24 hours 5Lacs opinions Amazing response & Commitment in fight against Blackmoney\n"
          ]
        }
      ]
    },
    {
      "cell_type": "code",
      "metadata": {
        "id": "IBiob-YlujjT",
        "colab": {
          "base_uri": "https://localhost:8080/"
        },
        "outputId": "0ada6122-0227-49d5-9f06-fc793bddecce"
      },
      "source": [
        "# Replacing &amp with & in all the tweets\n",
        "df['text']=df['text'].apply(lambda x: re.sub('&amp', '&', x))\n",
        "df['text']"
      ],
      "execution_count": 63,
      "outputs": [
        {
          "output_type": "execute_result",
          "data": {
            "text/plain": [
              "0       @rssurjewala: Critical question: Was PayTM inf...\n",
              "1       @Hemant_80: Did you vote on #Demonetization on...\n",
              "2       @roshankar: Former FinSec, RBI Dy Governor, CB...\n",
              "3       @ANI_news: Gurugram (Haryana): Post office emp...\n",
              "4       @satishacharya: Reddy Wedding! @mail_today car...\n",
              "                              ...                        \n",
              "5152    @thehill To The Hill. Shame on you for your an...\n",
              "5153    @saxenavishakha: Ghost of demonetization retur...\n",
              "5154    N d modi fans-d true nationalists of the count...\n",
              "5155    @Stupidosaur: @Vidyut B team of BJP. CIA baby....\n",
              "5156    @Vidyut B team of BJP. CIA baby. CCTV, EVM but...\n",
              "Name: text, Length: 5157, dtype: object"
            ]
          },
          "metadata": {},
          "execution_count": 63
        }
      ]
    },
    {
      "cell_type": "markdown",
      "metadata": {
        "id": "GMo38GVFujja"
      },
      "source": [
        "## 3. Regex for Text Data Extraction\n",
        "### a. Extracting platform type of tweets"
      ]
    },
    {
      "cell_type": "code",
      "metadata": {
        "id": "jEJO4BGhujjc"
      },
      "source": [
        "# Getting number of tweets per platform type\n",
        "platform_count = df[\"statusSource\"].value_counts()"
      ],
      "execution_count": 14,
      "outputs": []
    },
    {
      "cell_type": "code",
      "metadata": {
        "scrolled": true,
        "id": "PFQ7XI7cujjh",
        "colab": {
          "base_uri": "https://localhost:8080/"
        },
        "outputId": "80dbaf66-ae64-48e4-fe45-9906c50a47be"
      },
      "source": [
        "platform_count"
      ],
      "execution_count": 15,
      "outputs": [
        {
          "output_type": "execute_result",
          "data": {
            "text/plain": [
              "statusSource\n",
              "<a href=\"http://twitter.com/download/android\" rel=\"nofollow\">Twitter for Android</a>      1838\n",
              "<a href=\"http://twitter.com\" rel=\"nofollow\">Twitter Web Client</a>                        1394\n",
              "<a href=\"http://twitter.com/download/iphone\" rel=\"nofollow\">Twitter for iPhone</a>         534\n",
              "<a href=\"http://www.facebook.com/twitter\" rel=\"nofollow\">Facebook</a>                      166\n",
              "<a href=\"https://about.twitter.com/products/tweetdeck\" rel=\"nofollow\">TweetDeck</a>        139\n",
              "                                                                                          ... \n",
              "<a href=\"http://www.agileminder.com\" rel=\"nofollow\">agileminderbot</a>                       1\n",
              "<a href=\"http://novapress.net.ru/\" rel=\"nofollow\">NovaPress Publisher</a>                    1\n",
              "<a href=\"http://www.quora.com/\" rel=\"nofollow\">Quora</a>                                     1\n",
              "<a href=\"http://imploded-explode.com\" rel=\"nofollow\">IEHIAutoPost</a>                        1\n",
              "<a href=\"https://twitter.com/download/android\" rel=\"nofollow\">Twitter for  Android</a>       1\n",
              "Name: count, Length: 117, dtype: int64"
            ]
          },
          "metadata": {},
          "execution_count": 15
        }
      ]
    },
    {
      "cell_type": "code",
      "metadata": {
        "id": "yPtNZx1hujjn",
        "colab": {
          "base_uri": "https://localhost:8080/"
        },
        "outputId": "9d73d52a-4a84-4f5f-ff6b-d427e3eff7e5"
      },
      "source": [
        "#List platforms that have more than 100 tweets\n",
        "top_platforms = platform_count.loc[platform_count>50]\n",
        "top_platforms"
      ],
      "execution_count": 48,
      "outputs": [
        {
          "output_type": "execute_result",
          "data": {
            "text/plain": [
              "statusSource\n",
              "<a href=\"http://twitter.com/download/android\" rel=\"nofollow\">Twitter for Android</a>    1838\n",
              "<a href=\"http://twitter.com\" rel=\"nofollow\">Twitter Web Client</a>                      1394\n",
              "<a href=\"http://twitter.com/download/iphone\" rel=\"nofollow\">Twitter for iPhone</a>       534\n",
              "<a href=\"http://www.facebook.com/twitter\" rel=\"nofollow\">Facebook</a>                    166\n",
              "<a href=\"https://about.twitter.com/products/tweetdeck\" rel=\"nofollow\">TweetDeck</a>      139\n",
              "<a href=\"http://www.google.com/\" rel=\"nofollow\">Google</a>                               101\n",
              "<a href=\"http://onlywire.com/\" rel=\"nofollow\">OnlyWire / Official App</a>                 85\n",
              "<a href=\"https://mobile.twitter.com\" rel=\"nofollow\">Twitter Lite</a>                      82\n",
              "<a href=\"http://www.hootsuite.com\" rel=\"nofollow\">Hootsuite</a>                           69\n",
              "<a href=\"http://ifttt.com\" rel=\"nofollow\">IFTTT</a>                                       64\n",
              "<a href=\"http://www.twitter.com\" rel=\"nofollow\">Twitter for Windows Phone</a>             56\n",
              "Name: count, dtype: int64"
            ]
          },
          "metadata": {},
          "execution_count": 48
        }
      ]
    },
    {
      "cell_type": "code",
      "metadata": {
        "id": "uI6HYcpaujjt",
        "colab": {
          "base_uri": "https://localhost:8080/"
        },
        "outputId": "dbc5c960-8783-4318-f38b-7453e20b6eff"
      },
      "source": [
        "def platform_type(x):\n",
        "    ser = re.search( r\"android|iphone|web|windows|mobile|google|facebook|ipad|tweetdeck|onlywire\", x, re.IGNORECASE)\n",
        "    if ser:\n",
        "        return ser.group()\n",
        "    else:\n",
        "        return None\n",
        "\n",
        "#reset index of the series\n",
        "#top_platforms = top_platforms.reset_index()['index']\n",
        "top_platforms = top_platforms.reset_index()['statusSource']\n",
        "\n",
        "#extract platform types\n",
        "top_platforms.apply(lambda x: platform_type(x))"
      ],
      "execution_count": 49,
      "outputs": [
        {
          "output_type": "execute_result",
          "data": {
            "text/plain": [
              "0       android\n",
              "1           Web\n",
              "2        iphone\n",
              "3      facebook\n",
              "4     tweetdeck\n",
              "5        google\n",
              "6      onlywire\n",
              "7        mobile\n",
              "8          None\n",
              "9          None\n",
              "10      Windows\n",
              "Name: statusSource, dtype: object"
            ]
          },
          "metadata": {},
          "execution_count": 49
        }
      ]
    },
    {
      "cell_type": "code",
      "source": [
        "#top_platforms = top_platforms.reset_index()['statusSource']\n",
        "top_platforms"
      ],
      "metadata": {
        "colab": {
          "base_uri": "https://localhost:8080/"
        },
        "id": "frICNmvUyrDj",
        "outputId": "80429b1d-3e65-4ffd-9edc-8986fff0fd31"
      },
      "execution_count": 43,
      "outputs": [
        {
          "output_type": "execute_result",
          "data": {
            "text/plain": [
              "0    <a href=\"http://twitter.com/download/android\" ...\n",
              "1    <a href=\"http://twitter.com\" rel=\"nofollow\">Tw...\n",
              "2    <a href=\"http://twitter.com/download/iphone\" r...\n",
              "3    <a href=\"http://www.facebook.com/twitter\" rel=...\n",
              "4    <a href=\"https://about.twitter.com/products/tw...\n",
              "5    <a href=\"http://www.google.com/\" rel=\"nofollow...\n",
              "Name: statusSource, dtype: object"
            ]
          },
          "metadata": {},
          "execution_count": 43
        }
      ]
    },
    {
      "cell_type": "code",
      "source": [
        "top_platforms.apply(lambda x: platform_type(x))\n"
      ],
      "metadata": {
        "colab": {
          "base_uri": "https://localhost:8080/"
        },
        "id": "XvFaksVMyxkS",
        "outputId": "046d3028-e534-4f39-8e5f-97c26403122c"
      },
      "execution_count": 44,
      "outputs": [
        {
          "output_type": "execute_result",
          "data": {
            "text/plain": [
              "0      android\n",
              "1          Web\n",
              "2       iphone\n",
              "3     facebook\n",
              "4    tweetdeck\n",
              "5       google\n",
              "Name: statusSource, dtype: object"
            ]
          },
          "metadata": {},
          "execution_count": 44
        }
      ]
    },
    {
      "cell_type": "markdown",
      "metadata": {
        "id": "GPYLjXMPujjz"
      },
      "source": [
        "### b. Extracting hashtags from the tweets"
      ]
    },
    {
      "cell_type": "code",
      "metadata": {
        "id": "q5YAxA2Bujj0",
        "colab": {
          "base_uri": "https://localhost:8080/"
        },
        "outputId": "5b45346e-7f15-4afd-d125-a6c0873607b6"
      },
      "source": [
        "# Extract first hashtag from a tweet\n",
        "text = \"RT @Atheist_Krishna: The effect of #Demonetization !!\\r\\n. https://t.co/A8of7zh2f5\"\n",
        "hashtag = re.search('#\\w+', text)\n",
        "\n",
        "print(\"Tweet:\\n\", text)\n",
        "print(\"Hashtag:\\n\", hashtag.group())"
      ],
      "execution_count": 50,
      "outputs": [
        {
          "output_type": "stream",
          "name": "stdout",
          "text": [
            "Tweet:\n",
            " RT @Atheist_Krishna: The effect of #Demonetization !!\r\n",
            ". https://t.co/A8of7zh2f5\n",
            "Hashtag:\n",
            " #Demonetization\n"
          ]
        }
      ]
    },
    {
      "cell_type": "code",
      "metadata": {
        "id": "3v8pCJY_ujj4",
        "colab": {
          "base_uri": "https://localhost:8080/"
        },
        "outputId": "d4978be1-6a5f-4c4f-e873-e5fc9151cbab"
      },
      "source": [
        "# Extract multiple hastags from a tweet\n",
        "text = \"\"\"RT @kapil_kausik: #Doltiwal I mean #JaiChandKejriwal is \"hurt\" by #Demonetization as the same has rendered USELESS <ed><U+00A0><U+00BD><ed><U+00B1><U+0089> \"acquired funds\" No wo\"\"\"\n",
        "hashtags = re.findall('#\\w+', text)\n",
        "\n",
        "print(\"Tweet:\\n\", text)\n",
        "print(\"Hashtag:\\n\", hashtags)"
      ],
      "execution_count": 59,
      "outputs": [
        {
          "output_type": "stream",
          "name": "stdout",
          "text": [
            "Tweet:\n",
            " RT @kapil_kausik: #Doltiwal I mean #JaiChandKejriwal is \"hurt\" by #Demonetization as the same has rendered USELESS <ed><U+00A0><U+00BD><ed><U+00B1><U+0089> \"acquired funds\" No wo\n",
            "Hashtag:\n",
            " ['#Doltiwal', '#JaiChandKejriwal', '#Demonetization']\n"
          ]
        }
      ]
    },
    {
      "cell_type": "code",
      "metadata": {
        "id": "ylPqdl0Lujj9",
        "colab": {
          "base_uri": "https://localhost:8080/"
        },
        "outputId": "9777e927-b426-42d7-d56f-832a15c197c5"
      },
      "source": [
        "df['hashtags']=df['text'].apply(lambda x: re.findall('#\\w+', x))\n",
        "df['hashtags']"
      ],
      "execution_count": 62,
      "outputs": [
        {
          "output_type": "execute_result",
          "data": {
            "text/plain": [
              "0                      [#Demonetization]\n",
              "1                      [#Demonetization]\n",
              "2                      [#Demonetization]\n",
              "3                      [#demonetization]\n",
              "4       [#demonetization, #ReddyWedding]\n",
              "                      ...               \n",
              "5152                                  []\n",
              "5153                                  []\n",
              "5154                                  []\n",
              "5155                                  []\n",
              "5156                                  []\n",
              "Name: hashtags, Length: 5157, dtype: object"
            ]
          },
          "metadata": {},
          "execution_count": 62
        }
      ]
    },
    {
      "cell_type": "code",
      "metadata": {
        "id": "Hvv7NXB4ujkC",
        "colab": {
          "base_uri": "https://localhost:8080/",
          "height": 206
        },
        "outputId": "5313e107-133e-4000-a3de-5fdc184c87aa"
      },
      "source": [
        "df[['text','hashtags']].head()"
      ],
      "execution_count": 61,
      "outputs": [
        {
          "output_type": "execute_result",
          "data": {
            "text/plain": [
              "                                                text  \\\n",
              "0  @rssurjewala: Critical question: Was PayTM inf...   \n",
              "1  @Hemant_80: Did you vote on #Demonetization on...   \n",
              "2  @roshankar: Former FinSec, RBI Dy Governor, CB...   \n",
              "3  @ANI_news: Gurugram (Haryana): Post office emp...   \n",
              "4  @satishacharya: Reddy Wedding! @mail_today car...   \n",
              "\n",
              "                           hashtags  \n",
              "0                 [#Demonetization]  \n",
              "1                 [#Demonetization]  \n",
              "2                 [#Demonetization]  \n",
              "3                 [#demonetization]  \n",
              "4  [#demonetization, #ReddyWedding]  "
            ],
            "text/html": [
              "\n",
              "  <div id=\"df-a0c5d47b-3c2d-47b3-86b1-459cb7c4a17e\" class=\"colab-df-container\">\n",
              "    <div>\n",
              "<style scoped>\n",
              "    .dataframe tbody tr th:only-of-type {\n",
              "        vertical-align: middle;\n",
              "    }\n",
              "\n",
              "    .dataframe tbody tr th {\n",
              "        vertical-align: top;\n",
              "    }\n",
              "\n",
              "    .dataframe thead th {\n",
              "        text-align: right;\n",
              "    }\n",
              "</style>\n",
              "<table border=\"1\" class=\"dataframe\">\n",
              "  <thead>\n",
              "    <tr style=\"text-align: right;\">\n",
              "      <th></th>\n",
              "      <th>text</th>\n",
              "      <th>hashtags</th>\n",
              "    </tr>\n",
              "  </thead>\n",
              "  <tbody>\n",
              "    <tr>\n",
              "      <th>0</th>\n",
              "      <td>@rssurjewala: Critical question: Was PayTM inf...</td>\n",
              "      <td>[#Demonetization]</td>\n",
              "    </tr>\n",
              "    <tr>\n",
              "      <th>1</th>\n",
              "      <td>@Hemant_80: Did you vote on #Demonetization on...</td>\n",
              "      <td>[#Demonetization]</td>\n",
              "    </tr>\n",
              "    <tr>\n",
              "      <th>2</th>\n",
              "      <td>@roshankar: Former FinSec, RBI Dy Governor, CB...</td>\n",
              "      <td>[#Demonetization]</td>\n",
              "    </tr>\n",
              "    <tr>\n",
              "      <th>3</th>\n",
              "      <td>@ANI_news: Gurugram (Haryana): Post office emp...</td>\n",
              "      <td>[#demonetization]</td>\n",
              "    </tr>\n",
              "    <tr>\n",
              "      <th>4</th>\n",
              "      <td>@satishacharya: Reddy Wedding! @mail_today car...</td>\n",
              "      <td>[#demonetization, #ReddyWedding]</td>\n",
              "    </tr>\n",
              "  </tbody>\n",
              "</table>\n",
              "</div>\n",
              "    <div class=\"colab-df-buttons\">\n",
              "\n",
              "  <div class=\"colab-df-container\">\n",
              "    <button class=\"colab-df-convert\" onclick=\"convertToInteractive('df-a0c5d47b-3c2d-47b3-86b1-459cb7c4a17e')\"\n",
              "            title=\"Convert this dataframe to an interactive table.\"\n",
              "            style=\"display:none;\">\n",
              "\n",
              "  <svg xmlns=\"http://www.w3.org/2000/svg\" height=\"24px\" viewBox=\"0 -960 960 960\">\n",
              "    <path d=\"M120-120v-720h720v720H120Zm60-500h600v-160H180v160Zm220 220h160v-160H400v160Zm0 220h160v-160H400v160ZM180-400h160v-160H180v160Zm440 0h160v-160H620v160ZM180-180h160v-160H180v160Zm440 0h160v-160H620v160Z\"/>\n",
              "  </svg>\n",
              "    </button>\n",
              "\n",
              "  <style>\n",
              "    .colab-df-container {\n",
              "      display:flex;\n",
              "      gap: 12px;\n",
              "    }\n",
              "\n",
              "    .colab-df-convert {\n",
              "      background-color: #E8F0FE;\n",
              "      border: none;\n",
              "      border-radius: 50%;\n",
              "      cursor: pointer;\n",
              "      display: none;\n",
              "      fill: #1967D2;\n",
              "      height: 32px;\n",
              "      padding: 0 0 0 0;\n",
              "      width: 32px;\n",
              "    }\n",
              "\n",
              "    .colab-df-convert:hover {\n",
              "      background-color: #E2EBFA;\n",
              "      box-shadow: 0px 1px 2px rgba(60, 64, 67, 0.3), 0px 1px 3px 1px rgba(60, 64, 67, 0.15);\n",
              "      fill: #174EA6;\n",
              "    }\n",
              "\n",
              "    .colab-df-buttons div {\n",
              "      margin-bottom: 4px;\n",
              "    }\n",
              "\n",
              "    [theme=dark] .colab-df-convert {\n",
              "      background-color: #3B4455;\n",
              "      fill: #D2E3FC;\n",
              "    }\n",
              "\n",
              "    [theme=dark] .colab-df-convert:hover {\n",
              "      background-color: #434B5C;\n",
              "      box-shadow: 0px 1px 3px 1px rgba(0, 0, 0, 0.15);\n",
              "      filter: drop-shadow(0px 1px 2px rgba(0, 0, 0, 0.3));\n",
              "      fill: #FFFFFF;\n",
              "    }\n",
              "  </style>\n",
              "\n",
              "    <script>\n",
              "      const buttonEl =\n",
              "        document.querySelector('#df-a0c5d47b-3c2d-47b3-86b1-459cb7c4a17e button.colab-df-convert');\n",
              "      buttonEl.style.display =\n",
              "        google.colab.kernel.accessAllowed ? 'block' : 'none';\n",
              "\n",
              "      async function convertToInteractive(key) {\n",
              "        const element = document.querySelector('#df-a0c5d47b-3c2d-47b3-86b1-459cb7c4a17e');\n",
              "        const dataTable =\n",
              "          await google.colab.kernel.invokeFunction('convertToInteractive',\n",
              "                                                    [key], {});\n",
              "        if (!dataTable) return;\n",
              "\n",
              "        const docLinkHtml = 'Like what you see? Visit the ' +\n",
              "          '<a target=\"_blank\" href=https://colab.research.google.com/notebooks/data_table.ipynb>data table notebook</a>'\n",
              "          + ' to learn more about interactive tables.';\n",
              "        element.innerHTML = '';\n",
              "        dataTable['output_type'] = 'display_data';\n",
              "        await google.colab.output.renderOutput(dataTable, element);\n",
              "        const docLink = document.createElement('div');\n",
              "        docLink.innerHTML = docLinkHtml;\n",
              "        element.appendChild(docLink);\n",
              "      }\n",
              "    </script>\n",
              "  </div>\n",
              "\n",
              "\n",
              "<div id=\"df-a5194040-f1ab-470d-b9bf-ca1537126cde\">\n",
              "  <button class=\"colab-df-quickchart\" onclick=\"quickchart('df-a5194040-f1ab-470d-b9bf-ca1537126cde')\"\n",
              "            title=\"Suggest charts\"\n",
              "            style=\"display:none;\">\n",
              "\n",
              "<svg xmlns=\"http://www.w3.org/2000/svg\" height=\"24px\"viewBox=\"0 0 24 24\"\n",
              "     width=\"24px\">\n",
              "    <g>\n",
              "        <path d=\"M19 3H5c-1.1 0-2 .9-2 2v14c0 1.1.9 2 2 2h14c1.1 0 2-.9 2-2V5c0-1.1-.9-2-2-2zM9 17H7v-7h2v7zm4 0h-2V7h2v10zm4 0h-2v-4h2v4z\"/>\n",
              "    </g>\n",
              "</svg>\n",
              "  </button>\n",
              "\n",
              "<style>\n",
              "  .colab-df-quickchart {\n",
              "      --bg-color: #E8F0FE;\n",
              "      --fill-color: #1967D2;\n",
              "      --hover-bg-color: #E2EBFA;\n",
              "      --hover-fill-color: #174EA6;\n",
              "      --disabled-fill-color: #AAA;\n",
              "      --disabled-bg-color: #DDD;\n",
              "  }\n",
              "\n",
              "  [theme=dark] .colab-df-quickchart {\n",
              "      --bg-color: #3B4455;\n",
              "      --fill-color: #D2E3FC;\n",
              "      --hover-bg-color: #434B5C;\n",
              "      --hover-fill-color: #FFFFFF;\n",
              "      --disabled-bg-color: #3B4455;\n",
              "      --disabled-fill-color: #666;\n",
              "  }\n",
              "\n",
              "  .colab-df-quickchart {\n",
              "    background-color: var(--bg-color);\n",
              "    border: none;\n",
              "    border-radius: 50%;\n",
              "    cursor: pointer;\n",
              "    display: none;\n",
              "    fill: var(--fill-color);\n",
              "    height: 32px;\n",
              "    padding: 0;\n",
              "    width: 32px;\n",
              "  }\n",
              "\n",
              "  .colab-df-quickchart:hover {\n",
              "    background-color: var(--hover-bg-color);\n",
              "    box-shadow: 0 1px 2px rgba(60, 64, 67, 0.3), 0 1px 3px 1px rgba(60, 64, 67, 0.15);\n",
              "    fill: var(--button-hover-fill-color);\n",
              "  }\n",
              "\n",
              "  .colab-df-quickchart-complete:disabled,\n",
              "  .colab-df-quickchart-complete:disabled:hover {\n",
              "    background-color: var(--disabled-bg-color);\n",
              "    fill: var(--disabled-fill-color);\n",
              "    box-shadow: none;\n",
              "  }\n",
              "\n",
              "  .colab-df-spinner {\n",
              "    border: 2px solid var(--fill-color);\n",
              "    border-color: transparent;\n",
              "    border-bottom-color: var(--fill-color);\n",
              "    animation:\n",
              "      spin 1s steps(1) infinite;\n",
              "  }\n",
              "\n",
              "  @keyframes spin {\n",
              "    0% {\n",
              "      border-color: transparent;\n",
              "      border-bottom-color: var(--fill-color);\n",
              "      border-left-color: var(--fill-color);\n",
              "    }\n",
              "    20% {\n",
              "      border-color: transparent;\n",
              "      border-left-color: var(--fill-color);\n",
              "      border-top-color: var(--fill-color);\n",
              "    }\n",
              "    30% {\n",
              "      border-color: transparent;\n",
              "      border-left-color: var(--fill-color);\n",
              "      border-top-color: var(--fill-color);\n",
              "      border-right-color: var(--fill-color);\n",
              "    }\n",
              "    40% {\n",
              "      border-color: transparent;\n",
              "      border-right-color: var(--fill-color);\n",
              "      border-top-color: var(--fill-color);\n",
              "    }\n",
              "    60% {\n",
              "      border-color: transparent;\n",
              "      border-right-color: var(--fill-color);\n",
              "    }\n",
              "    80% {\n",
              "      border-color: transparent;\n",
              "      border-right-color: var(--fill-color);\n",
              "      border-bottom-color: var(--fill-color);\n",
              "    }\n",
              "    90% {\n",
              "      border-color: transparent;\n",
              "      border-bottom-color: var(--fill-color);\n",
              "    }\n",
              "  }\n",
              "</style>\n",
              "\n",
              "  <script>\n",
              "    async function quickchart(key) {\n",
              "      const quickchartButtonEl =\n",
              "        document.querySelector('#' + key + ' button');\n",
              "      quickchartButtonEl.disabled = true;  // To prevent multiple clicks.\n",
              "      quickchartButtonEl.classList.add('colab-df-spinner');\n",
              "      try {\n",
              "        const charts = await google.colab.kernel.invokeFunction(\n",
              "            'suggestCharts', [key], {});\n",
              "      } catch (error) {\n",
              "        console.error('Error during call to suggestCharts:', error);\n",
              "      }\n",
              "      quickchartButtonEl.classList.remove('colab-df-spinner');\n",
              "      quickchartButtonEl.classList.add('colab-df-quickchart-complete');\n",
              "    }\n",
              "    (() => {\n",
              "      let quickchartButtonEl =\n",
              "        document.querySelector('#df-a5194040-f1ab-470d-b9bf-ca1537126cde button');\n",
              "      quickchartButtonEl.style.display =\n",
              "        google.colab.kernel.accessAllowed ? 'block' : 'none';\n",
              "    })();\n",
              "  </script>\n",
              "</div>\n",
              "\n",
              "    </div>\n",
              "  </div>\n"
            ],
            "application/vnd.google.colaboratory.intrinsic+json": {
              "type": "dataframe",
              "summary": "{\n  \"name\": \"df[['text','hashtags']]\",\n  \"rows\": 5,\n  \"fields\": [\n    {\n      \"column\": \"text\",\n      \"properties\": {\n        \"dtype\": \"string\",\n        \"num_unique_values\": 5,\n        \"samples\": [\n          \"@Hemant_80: Did you vote on #Demonetization on Modi survey app?\",\n          \"@satishacharya: Reddy Wedding! @mail_today cartoon #demonetization #ReddyWedding https://t.co/u7gLNrq31F\",\n          \"@roshankar: Former FinSec, RBI Dy Governor, CBDT Chair + Harvard Professor lambaste #Demonetization.\\r\\n\\r\\nIf not for Aam Aadmi, listen to th\\u00c2\\u0085\"\n        ],\n        \"semantic_type\": \"\",\n        \"description\": \"\"\n      }\n    },\n    {\n      \"column\": \"hashtags\",\n      \"properties\": {\n        \"dtype\": \"object\",\n        \"semantic_type\": \"\",\n        \"description\": \"\"\n      }\n    }\n  ]\n}"
            }
          },
          "metadata": {},
          "execution_count": 61
        }
      ]
    },
    {
      "cell_type": "markdown",
      "metadata": {
        "id": "jGXFs7YIujkH"
      },
      "source": [
        "## 4. Regex Challenge\n",
        "\n",
        "Now that you have learned all the concepts regarding regex and have also seen it in action, it's time for you to utilize that to solve a challenge all by yourself. Here are some of the tasks that you have to do -\n",
        "\n",
        "### a. Removing URLs from tweets\n",
        "\n",
        "**Difficulty - Easy**\n",
        "\n",
        "There are multiple URLs present in individual tweet's `text` and they don't neccessarily provide useful information so we can get rid of them. For example -  \n",
        "\n",
        "*@Joydas: Question in Narendra Modi App where PM is taking feedback if people support his #DeMonetization strategy https://t.co/pYgK8Rmg7r*\n",
        "\n",
        "\n",
        "We can very well remove the URL as it isn't providing much useful information.\n"
      ]
    },
    {
      "cell_type": "code",
      "metadata": {
        "id": "o6I4k1QuujkJ",
        "colab": {
          "base_uri": "https://localhost:8080/"
        },
        "outputId": "db5e96fd-ff8b-4443-b70f-dcc74aa4dfec"
      },
      "source": [
        "# Your Code Here\n",
        "text = \"@Joydas: Question in Narendra Modi App where PM is taking feedback if people support his #DeMonetization strategy https://t.co/pYgK8Rmg7r\"\n",
        "urltag = re.search('http[s]?:\\/\\/.*?\\/[a-zA-Z-_]+.*', text)\n",
        "cleantag = re.sub('http[s]?:\\/\\/.*?\\/[a-zA-Z-_]+.*', '', text)\n",
        "\n",
        "print(\"withurl:\\n\", text)\n",
        "print(\"cleantag:\\n\", urltag.group())\n",
        "print(cleantag)\n"
      ],
      "execution_count": 65,
      "outputs": [
        {
          "output_type": "stream",
          "name": "stdout",
          "text": [
            "withurl:\n",
            " @Joydas: Question in Narendra Modi App where PM is taking feedback if people support his #DeMonetization strategy https://t.co/pYgK8Rmg7r\n",
            "cleantag:\n",
            " https://t.co/pYgK8Rmg7r\n",
            "@Joydas: Question in Narendra Modi App where PM is taking feedback if people support his #DeMonetization strategy \n"
          ]
        }
      ]
    },
    {
      "cell_type": "markdown",
      "metadata": {
        "id": "5Fbl6z9iujkO"
      },
      "source": [
        "### b. Extract Top 100 mentions\n",
        "\n",
        "**Difficulty - Medium**\n",
        "\n",
        "Many of the tweets have mentions of people in the form *@username*, for example see the following tweet -\n",
        "\n",
        "*@Joydas: Question in Narendra Modi App where PM is taking feedback if people support his #DeMonetization strategy https://t.co/pYgK8Rmg7r*\n",
        "\n",
        "Here *@Joydas* is a mention. You need to extract mentions from all the tweets and find which are the top 100 usernames."
      ]
    },
    {
      "cell_type": "code",
      "metadata": {
        "id": "tdgcC6-uujkO"
      },
      "source": [
        "# Your Code Here\n"
      ],
      "execution_count": null,
      "outputs": []
    },
    {
      "cell_type": "markdown",
      "metadata": {
        "id": "JXEq-Oz7ujkU"
      },
      "source": [
        "### Solution - 1"
      ]
    },
    {
      "cell_type": "code",
      "metadata": {
        "scrolled": false,
        "id": "CWcHrpR0ujkV",
        "colab": {
          "base_uri": "https://localhost:8080/",
          "height": 35
        },
        "outputId": "4eb5c244-e823-450f-edd5-3b990af844cc"
      },
      "source": [
        "# Removing URLs from a single tweet\n",
        "text='@Joydas: Question in Narendra Modi App where PM is taking feedback if people support his #DeMonetization strategy https://t.co/pYgK8Rmg7r'\n",
        "re.sub('https?://[A-Za-z0-9.-/]+','',text)"
      ],
      "execution_count": 66,
      "outputs": [
        {
          "output_type": "execute_result",
          "data": {
            "text/plain": [
              "'@Joydas: Question in Narendra Modi App where PM is taking feedback if people support his #DeMonetization strategy '"
            ],
            "application/vnd.google.colaboratory.intrinsic+json": {
              "type": "string"
            }
          },
          "metadata": {},
          "execution_count": 66
        }
      ]
    },
    {
      "cell_type": "code",
      "metadata": {
        "id": "oUQZzLmKujka"
      },
      "source": [
        "# Removing URLs from all the tweets\n",
        "df['text']=df['text'].apply(lambda x: re.sub('https?://[A-Za-z0-9.-/]+','',x))"
      ],
      "execution_count": 67,
      "outputs": []
    },
    {
      "cell_type": "markdown",
      "metadata": {
        "id": "peWMajlnujkf"
      },
      "source": [
        "### Solution - 2"
      ]
    },
    {
      "cell_type": "code",
      "metadata": {
        "id": "GXC_o_qWujkf"
      },
      "source": [
        "# Function for extracting mentions from the tweet\n",
        "def mention(x):\n",
        "    found=re.findall(r'@\\w+',x)\n",
        "    if found:\n",
        "        return found\n",
        "    return None"
      ],
      "execution_count": 68,
      "outputs": []
    },
    {
      "cell_type": "code",
      "metadata": {
        "id": "qFVUzUwEujkk"
      },
      "source": [
        "# Extract mentions from all the tweets\n",
        "arr=df['text'].apply(lambda x : mention(x))"
      ],
      "execution_count": 69,
      "outputs": []
    },
    {
      "cell_type": "code",
      "metadata": {
        "id": "wnIgw1uQujko",
        "colab": {
          "base_uri": "https://localhost:8080/"
        },
        "outputId": "d5b224da-d03c-4271-f437-6678ddbc4b76"
      },
      "source": [
        "arr"
      ],
      "execution_count": 70,
      "outputs": [
        {
          "output_type": "execute_result",
          "data": {
            "text/plain": [
              "0                      [@rssurjewala]\n",
              "1                        [@Hemant_80]\n",
              "2                        [@roshankar]\n",
              "3                         [@ANI_news]\n",
              "4       [@satishacharya, @mail_today]\n",
              "                    ...              \n",
              "5152                       [@thehill]\n",
              "5153                [@saxenavishakha]\n",
              "5154                             None\n",
              "5155          [@Stupidosaur, @Vidyut]\n",
              "5156                        [@Vidyut]\n",
              "Name: text, Length: 5157, dtype: object"
            ]
          },
          "metadata": {},
          "execution_count": 70
        }
      ]
    },
    {
      "cell_type": "code",
      "metadata": {
        "id": "vHVrtGl6ujks"
      },
      "source": [
        "# Combining all the mentions into a list\n",
        "mentions_arr=[]\n",
        "\n",
        "for x in arr:\n",
        "    if x != None:\n",
        "        mentions_arr.extend(x)"
      ],
      "execution_count": 71,
      "outputs": []
    },
    {
      "cell_type": "code",
      "metadata": {
        "id": "mNCou9Vpujkw",
        "colab": {
          "base_uri": "https://localhost:8080/"
        },
        "outputId": "d6a5f6f3-97f5-4dae-9a00-8a298f2ca44f"
      },
      "source": [
        "mentions_arr[:10]"
      ],
      "execution_count": 72,
      "outputs": [
        {
          "output_type": "execute_result",
          "data": {
            "text/plain": [
              "['@rssurjewala',\n",
              " '@Hemant_80',\n",
              " '@roshankar',\n",
              " '@ANI_news',\n",
              " '@satishacharya',\n",
              " '@mail_today',\n",
              " '@DerekScissors1',\n",
              " '@ambazaarmag',\n",
              " '@gauravcsawant',\n",
              " '@Joydeep_911']"
            ]
          },
          "metadata": {},
          "execution_count": 72
        }
      ]
    },
    {
      "cell_type": "code",
      "metadata": {
        "id": "0aQEFM9Sujkz"
      },
      "source": [
        "# Getting top 100 mentions\n",
        "mentions_count=pd.Series(mentions_arr).value_counts().head(100)"
      ],
      "execution_count": 74,
      "outputs": []
    },
    {
      "cell_type": "code",
      "metadata": {
        "id": "dkn8PNDOujk4",
        "colab": {
          "base_uri": "https://localhost:8080/"
        },
        "outputId": "73b39963-289b-4ec7-9769-c66a1c8ed1d0"
      },
      "source": [
        "mentions_count"
      ],
      "execution_count": 75,
      "outputs": [
        {
          "output_type": "execute_result",
          "data": {
            "text/plain": [
              "@narendramodi      326\n",
              "@YouTube           143\n",
              "@PMOIndia           99\n",
              "@ArvindKejriwal     83\n",
              "@arunjaitley        39\n",
              "                  ... \n",
              "@UIDAI               6\n",
              "@pGurus1             6\n",
              "@aartic02            6\n",
              "@WG_Burton           6\n",
              "@s_navroop           6\n",
              "Name: count, Length: 100, dtype: int64"
            ]
          },
          "metadata": {},
          "execution_count": 75
        }
      ]
    },
    {
      "cell_type": "code",
      "metadata": {
        "id": "4ylIvY7Uwqtg"
      },
      "source": [],
      "execution_count": null,
      "outputs": []
    }
  ]
}