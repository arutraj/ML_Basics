{
  "cells": [
    {
      "cell_type": "markdown",
      "metadata": {
        "id": "view-in-github",
        "colab_type": "text"
      },
      "source": [
        "<a href=\"https://colab.research.google.com/github/arutraj/ML_Basics/blob/main/CNN_and_hyperparameter_tuning_in_Keras.ipynb\" target=\"_parent\"><img src=\"https://colab.research.google.com/assets/colab-badge.svg\" alt=\"Open In Colab\"/></a>"
      ]
    },
    {
      "cell_type": "code",
      "execution_count": null,
      "metadata": {
        "colab": {
          "base_uri": "https://localhost:8080/"
        },
        "id": "-JkenOoojxcW",
        "outputId": "38dfd001-66c3-43b3-ffbf-2d295590629b"
      },
      "outputs": [
        {
          "name": "stdout",
          "output_type": "stream",
          "text": [
            "Colab only includes TensorFlow 2.x; %tensorflow_version has no effect.\n"
          ]
        }
      ],
      "source": [
        "%tensorflow_version 2.x"
      ]
    },
    {
      "cell_type": "markdown",
      "metadata": {
        "id": "IxgcP-B3ejGc"
      },
      "source": [
        "# Steps to build CNN to solve Emergency vs Non-Emergency vehicle classification problem\n",
        "\n",
        "1. Loading the Dataset\n",
        "2. Pre-processing the Data\n",
        "3. Creating Training and Validation set\n",
        "4. Defining the Model Architecture\n",
        "5. Compiling the Model\n",
        "6. Training the Model\n",
        "7. Evaluating model performance"
      ]
    },
    {
      "cell_type": "markdown",
      "metadata": {
        "id": "hNWck_ZahKLA"
      },
      "source": [
        "## 1. Loading the Dataset"
      ]
    },
    {
      "cell_type": "code",
      "execution_count": 43,
      "metadata": {
        "id": "Kf2C4oSfhKLH"
      },
      "outputs": [],
      "source": [
        "# import necessary libraries and functions\n",
        "import numpy as np\n",
        "import pandas as pd\n",
        "import matplotlib.pyplot as plt\n",
        "%matplotlib inline\n",
        "\n",
        "# importing layers from keras\n",
        "from keras.layers import Dense, InputLayer, BatchNormalization, Dropout\n",
        "from keras.models import Sequential\n",
        "# importing adam optimizer from keras optimizer module\n",
        "from keras.optimizers import Adam\n",
        "\n",
        "# train_test_split to create training and validation set\n",
        "from sklearn.model_selection import train_test_split\n",
        "# accuracy_score to calculate the accuracy of predictions\n",
        "from sklearn.metrics import accuracy_score"
      ]
    },
    {
      "cell_type": "code",
      "execution_count": null,
      "metadata": {
        "colab": {
          "base_uri": "https://localhost:8080/"
        },
        "id": "x_VY_HZ5hm-z",
        "outputId": "cab0e784-7ca5-4922-b731-a9f2e74899d5"
      },
      "outputs": [
        {
          "name": "stdout",
          "output_type": "stream",
          "text": [
            "Mounted at /content/drive\n"
          ]
        }
      ],
      "source": [
        "from google.colab import drive\n",
        "drive.mount('/content/drive')"
      ]
    },
    {
      "cell_type": "code",
      "execution_count": 91,
      "metadata": {
        "colab": {
          "base_uri": "https://localhost:8080/"
        },
        "id": "1bb6wmB1hmvk",
        "outputId": "acdb02b5-6006-450b-c4b7-97623a5e6d82"
      },
      "outputs": [
        {
          "output_type": "stream",
          "name": "stdout",
          "text": [
            "2352\n"
          ]
        }
      ],
      "source": [
        "# unzipping the Dataset.zip file\n",
        "#!unzip /content/drive/My\\ Drive/Dataset.zip\n",
        "!ls /content/drive/MyDrive/AnalyticsVidya/DeepLearning/images/*jpg |wc -l"
      ]
    },
    {
      "cell_type": "code",
      "execution_count": 92,
      "metadata": {
        "id": "ZCK0i2SAhKLa"
      },
      "outputs": [],
      "source": [
        "# create random number generator\n",
        "seed = 42"
      ]
    },
    {
      "cell_type": "code",
      "execution_count": 93,
      "metadata": {
        "id": "_MKVrwevhKLk"
      },
      "outputs": [],
      "source": [
        "# reading the csv file\n",
        "data = pd.read_csv('/content/emergency_classification.csv')"
      ]
    },
    {
      "cell_type": "code",
      "execution_count": 48,
      "metadata": {
        "id": "OUcBZmDLhKLt"
      },
      "outputs": [],
      "source": [
        "# load images and store it in numpy array\n",
        "\n",
        "# empty list to store the images\n",
        "X = []\n",
        "# iterating over each image\n",
        "for img_name in data.image_names:\n",
        "    # loading the image using its name\n",
        "    img = plt.imread('/content/drive/MyDrive/AnalyticsVidya/DeepLearning/images/' + img_name)\n",
        "    # saving each image in the list\n",
        "    X.append(img)\n",
        "\n",
        "# converting the list of images into array\n",
        "X=np.array(X)\n",
        "\n",
        "# storing the target variable in separate variable\n",
        "y = data.emergency_or_not.values"
      ]
    },
    {
      "cell_type": "code",
      "execution_count": 49,
      "metadata": {
        "colab": {
          "base_uri": "https://localhost:8080/"
        },
        "id": "teJk4rIThKL2",
        "outputId": "7485677b-b0c2-428a-ed8e-bcb114410cbb"
      },
      "outputs": [
        {
          "output_type": "execute_result",
          "data": {
            "text/plain": [
              "(2352, 224, 224, 3)"
            ]
          },
          "metadata": {},
          "execution_count": 49
        }
      ],
      "source": [
        "# shape of the images\n",
        "X.shape"
      ]
    },
    {
      "cell_type": "markdown",
      "metadata": {
        "id": "nKxqxL45ijJX"
      },
      "source": [
        "## 2. Pre-processing the Data"
      ]
    },
    {
      "cell_type": "code",
      "execution_count": null,
      "metadata": {
        "id": "Ei6lZu3JFStn"
      },
      "outputs": [],
      "source": [
        "# since we are using CNN, we do not have to resize the images into 1D array."
      ]
    },
    {
      "cell_type": "code",
      "execution_count": 50,
      "metadata": {
        "id": "9HXsTHmJhKL_"
      },
      "outputs": [],
      "source": [
        "# normalizing the pixel values\n",
        "X = X / X.max()"
      ]
    },
    {
      "cell_type": "markdown",
      "metadata": {
        "id": "WDM9Hjsiisyl"
      },
      "source": [
        "## 3. Creating Training and Validation set"
      ]
    },
    {
      "cell_type": "code",
      "execution_count": 51,
      "metadata": {
        "id": "JIO9W5ihhKMF"
      },
      "outputs": [],
      "source": [
        "# creating a training and validation set\n",
        "X_train, X_valid, y_train, y_valid=train_test_split(X,y,test_size=0.3, random_state=seed)"
      ]
    },
    {
      "cell_type": "code",
      "execution_count": 52,
      "metadata": {
        "colab": {
          "base_uri": "https://localhost:8080/"
        },
        "id": "66pP0PgXiz5U",
        "outputId": "8782812d-f678-4d83-f2f5-87f1fe9edb91"
      },
      "outputs": [
        {
          "output_type": "execute_result",
          "data": {
            "text/plain": [
              "(((1646, 224, 224, 3), (1646,)), ((706, 224, 224, 3), (706,)))"
            ]
          },
          "metadata": {},
          "execution_count": 52
        }
      ],
      "source": [
        "# shape of training and validation set\n",
        "(X_train.shape, y_train.shape), (X_valid.shape, y_valid.shape)"
      ]
    },
    {
      "cell_type": "markdown",
      "metadata": {
        "id": "f_HSxXtVhKMO"
      },
      "source": [
        "## 4. Defining the Model Architecture"
      ]
    },
    {
      "cell_type": "markdown",
      "metadata": {
        "id": "-ckn_9ZSg_Um"
      },
      "source": [
        "![alt text](https://drive.google.com/uc?id=1qsops2ZfESuzjg7-V0rmOfVE0PtErYrJ)"
      ]
    },
    {
      "cell_type": "code",
      "execution_count": 53,
      "metadata": {
        "id": "8H-ihteG_y4_"
      },
      "outputs": [],
      "source": [
        "# importing the convolutional and flatten layer from keras\n",
        "from keras.layers import Conv2D, Flatten"
      ]
    },
    {
      "cell_type": "code",
      "execution_count": 54,
      "metadata": {
        "id": "elD4F16q_uRQ"
      },
      "outputs": [],
      "source": [
        "# defining the model architecture\n",
        "\n",
        "# creating a sequential model\n",
        "model = Sequential()\n",
        "\n",
        "# defining input layer with 3D input of shape (224,224,3)\n",
        "model.add(InputLayer(input_shape=(224, 224, 3)))\n",
        "\n",
        "# defining the first convolutional layer with 25 filters of size (5,5)\n",
        "model.add(Conv2D(25, (5, 5), activation='relu', strides=(1, 1), padding='valid'))\n",
        "# defining the second convolutional layer with 50 filters of size (5,5)\n",
        "model.add(Conv2D(50, (5, 5), activation='relu', strides=(1, 1), padding='valid'))\n",
        "\n",
        "# flattening the output from convolutional layers so that it can be forwarded to the dense layers\n",
        "model.add(Flatten())\n",
        "\n",
        "# defining the first dense or fully connected layer with 100 neurons\n",
        "model.add(Dense(units=100, activation='sigmoid'))\n",
        "# defining the output layer with 1 neuron since it is a binary classification problem\n",
        "model.add(Dense(units=1, activation='sigmoid'))"
      ]
    },
    {
      "cell_type": "code",
      "execution_count": 55,
      "metadata": {
        "colab": {
          "base_uri": "https://localhost:8080/"
        },
        "id": "BBwKWQjE_v4j",
        "outputId": "165afd02-6134-4e31-eca2-6de7b7b5c205"
      },
      "outputs": [
        {
          "output_type": "stream",
          "name": "stdout",
          "text": [
            "Model: \"sequential_2\"\n",
            "_________________________________________________________________\n",
            " Layer (type)                Output Shape              Param #   \n",
            "=================================================================\n",
            " conv2d_4 (Conv2D)           (None, 220, 220, 25)      1900      \n",
            "                                                                 \n",
            " conv2d_5 (Conv2D)           (None, 216, 216, 50)      31300     \n",
            "                                                                 \n",
            " flatten_2 (Flatten)         (None, 2332800)           0         \n",
            "                                                                 \n",
            " dense_4 (Dense)             (None, 100)               233280100 \n",
            "                                                                 \n",
            " dense_5 (Dense)             (None, 1)                 101       \n",
            "                                                                 \n",
            "=================================================================\n",
            "Total params: 233313401 (890.02 MB)\n",
            "Trainable params: 233313401 (890.02 MB)\n",
            "Non-trainable params: 0 (0.00 Byte)\n",
            "_________________________________________________________________\n"
          ]
        }
      ],
      "source": [
        "# printing summary of the model\n",
        "model.summary()"
      ]
    },
    {
      "cell_type": "markdown",
      "metadata": {
        "id": "l_9WzJ2akEXt"
      },
      "source": [
        "## Understanding the Architecture\n",
        "*  Input shape is (224,224,3) since images are of this shape\n",
        "*  We then applied 25 filters each of shape (5,5) and stride is (1,1)\n",
        "*  So the output from first convolutional layer is: **(224-5+1,224-5+1,25)** which is **(220,220,25)**\n",
        "*  We then applied 50 filters of shape (5,5) each with stride (1,1)\n",
        "*  Then the output is **(220-5+1,220-5+1,50)** which is **(216,216,50)**\n",
        "*  Then this output is flattened which resulted in 216 X 216 X 50 = 2332800 features\n",
        "*  Finally these features are passed through the fully connected layers.\n"
      ]
    },
    {
      "cell_type": "markdown",
      "metadata": {
        "id": "cLtyLYpykEUT"
      },
      "source": [
        "## Understanding the number of parameters of different layers\n",
        "\n",
        "1.   First Convolutional Layer\n",
        "    * Number of input channels = 3\n",
        "    * Number of filters = 25\n",
        "    * Filter Size = (5,5)\n",
        "    * Learnable parameters = **25 * 5 * 5 * 3 + 25** (1 bias for each filter) = **1900**\n",
        "2.   Second Convolutional Layer\n",
        "    * Number of input channels = 25\n",
        "    * Number of filters = 50\n",
        "    * Filter Size = (5,5)\n",
        "    * Learnable parameters = **50 * 5 * 5 * 25 + 50** (1 bias for each filter) = **31300**\n",
        "3.   First Fully Connected Layer\n",
        "    * Number of input features = 216 * 216 * 50 = 2332800\n",
        "    * Number of neurons in this hidden layer = 100\n",
        "    * Learnable parameters = **2332800 * 100 + 100** (1 bias for each neuron) = **233280100**\n",
        "3.   Output Layer\n",
        "    * Number of input features = 100\n",
        "    * Number of neurons in this layer = 1\n",
        "    * Learnable parameters = **100 * 1 + 1** (1 bias for each neuron) = **101**\n",
        "\n"
      ]
    },
    {
      "cell_type": "markdown",
      "metadata": {
        "id": "Ih1KTM7MF1-2"
      },
      "source": [
        "## 5. Compiling the Model"
      ]
    },
    {
      "cell_type": "code",
      "execution_count": 56,
      "metadata": {
        "id": "uXF1_OIWhKMg"
      },
      "outputs": [],
      "source": [
        "# compiling the model\n",
        "model.compile(loss='binary_crossentropy', optimizer=\"sgd\", metrics=['accuracy'])"
      ]
    },
    {
      "cell_type": "markdown",
      "metadata": {
        "id": "6L1-5Ik4GC1y"
      },
      "source": [
        "## 6. Training the Model"
      ]
    },
    {
      "cell_type": "code",
      "execution_count": 57,
      "metadata": {
        "colab": {
          "base_uri": "https://localhost:8080/"
        },
        "id": "JF4dEvsrhKMo",
        "outputId": "ec5a6b7d-1718-48a9-d44d-bb3642eabd87"
      },
      "outputs": [
        {
          "output_type": "stream",
          "name": "stdout",
          "text": [
            "Epoch 1/10\n",
            "13/13 [==============================] - 69s 5s/step - loss: 0.7289 - accuracy: 0.5541 - val_loss: 0.6567 - val_accuracy: 0.5765\n",
            "Epoch 2/10\n",
            "13/13 [==============================] - 66s 5s/step - loss: 0.6367 - accuracy: 0.6349 - val_loss: 0.6326 - val_accuracy: 0.6388\n",
            "Epoch 3/10\n",
            "13/13 [==============================] - 66s 5s/step - loss: 0.6254 - accuracy: 0.6525 - val_loss: 0.6066 - val_accuracy: 0.6728\n",
            "Epoch 4/10\n",
            "13/13 [==============================] - 67s 5s/step - loss: 0.6117 - accuracy: 0.6786 - val_loss: 0.5967 - val_accuracy: 0.6785\n",
            "Epoch 5/10\n",
            "13/13 [==============================] - 67s 5s/step - loss: 0.5865 - accuracy: 0.6859 - val_loss: 0.6022 - val_accuracy: 0.6728\n",
            "Epoch 6/10\n",
            "13/13 [==============================] - 67s 5s/step - loss: 0.5865 - accuracy: 0.6908 - val_loss: 0.5963 - val_accuracy: 0.6771\n",
            "Epoch 7/10\n",
            "13/13 [==============================] - 67s 5s/step - loss: 0.5768 - accuracy: 0.6993 - val_loss: 0.6085 - val_accuracy: 0.6714\n",
            "Epoch 8/10\n",
            "13/13 [==============================] - 66s 5s/step - loss: 0.5600 - accuracy: 0.7096 - val_loss: 0.5760 - val_accuracy: 0.6997\n",
            "Epoch 9/10\n",
            "13/13 [==============================] - 67s 5s/step - loss: 0.5546 - accuracy: 0.7217 - val_loss: 0.5844 - val_accuracy: 0.6926\n",
            "Epoch 10/10\n",
            "13/13 [==============================] - 67s 5s/step - loss: 0.5451 - accuracy: 0.7236 - val_loss: 0.5652 - val_accuracy: 0.7153\n"
          ]
        }
      ],
      "source": [
        "# training the model\n",
        "model_history = model.fit(X_train, y_train, epochs=10, batch_size=128,validation_data=(X_valid,y_valid))"
      ]
    },
    {
      "cell_type": "markdown",
      "metadata": {
        "id": "wmOIR4_PHKFE"
      },
      "source": [
        "## 7. Evaluating model performance"
      ]
    },
    {
      "cell_type": "code",
      "execution_count": 71,
      "metadata": {
        "colab": {
          "base_uri": "https://localhost:8080/",
          "height": 262
        },
        "id": "4VqAxVzGGXk9",
        "outputId": "e4829563-9671-488f-87ef-4b15ba51b833"
      },
      "outputs": [
        {
          "output_type": "stream",
          "name": "stdout",
          "text": [
            "52/52 [==============================] - 8s 154ms/step\n",
            "(1646, 1)\n",
            "52/52 [==============================] - 8s 151ms/step\n",
            "52/52 [==============================] - 8s 151ms/step\n"
          ]
        },
        {
          "output_type": "error",
          "ename": "TypeError",
          "evalue": "'<' not supported between instances of 'tuple' and 'float'",
          "traceback": [
            "\u001b[0;31m---------------------------------------------------------------------------\u001b[0m",
            "\u001b[0;31mTypeError\u001b[0m                                 Traceback (most recent call last)",
            "\u001b[0;32m<ipython-input-71-df95b4824e00>\u001b[0m in \u001b[0;36m<cell line: 7>\u001b[0;34m()\u001b[0m\n\u001b[1;32m      5\u001b[0m \u001b[0mprint\u001b[0m\u001b[0;34m(\u001b[0m\u001b[0mmodel\u001b[0m\u001b[0;34m.\u001b[0m\u001b[0mpredict\u001b[0m\u001b[0;34m(\u001b[0m\u001b[0mX_train\u001b[0m\u001b[0;34m)\u001b[0m\u001b[0;34m.\u001b[0m\u001b[0mshape\u001b[0m\u001b[0;34m)\u001b[0m\u001b[0;34m\u001b[0m\u001b[0;34m\u001b[0m\u001b[0m\n\u001b[1;32m      6\u001b[0m \u001b[0mmodel\u001b[0m\u001b[0;34m.\u001b[0m\u001b[0mpredict\u001b[0m\u001b[0;34m(\u001b[0m\u001b[0mX_train\u001b[0m\u001b[0;34m)\u001b[0m\u001b[0;34m.\u001b[0m\u001b[0mreshape\u001b[0m\u001b[0;34m(\u001b[0m\u001b[0;34m(\u001b[0m\u001b[0;34m-\u001b[0m\u001b[0;36m1\u001b[0m\u001b[0;34m,\u001b[0m \u001b[0;36m1\u001b[0m\u001b[0;34m)\u001b[0m\u001b[0;34m)\u001b[0m\u001b[0;34m\u001b[0m\u001b[0;34m\u001b[0m\u001b[0m\n\u001b[0;32m----> 7\u001b[0;31m \u001b[0mprint\u001b[0m\u001b[0;34m(\u001b[0m\u001b[0;34m'Accuracy on training set:'\u001b[0m\u001b[0;34m,\u001b[0m \u001b[0maccuracy_score\u001b[0m\u001b[0;34m(\u001b[0m\u001b[0my_train\u001b[0m\u001b[0;34m,\u001b[0m \u001b[0mnp\u001b[0m\u001b[0;34m.\u001b[0m\u001b[0mwhere\u001b[0m\u001b[0;34m(\u001b[0m\u001b[0mmodel\u001b[0m\u001b[0;34m.\u001b[0m\u001b[0mpredict\u001b[0m\u001b[0;34m(\u001b[0m\u001b[0mX_train\u001b[0m\u001b[0;34m)\u001b[0m\u001b[0;34m.\u001b[0m\u001b[0mreshape\u001b[0m\u001b[0;34m(\u001b[0m\u001b[0;34m(\u001b[0m\u001b[0;34m-\u001b[0m\u001b[0;36m1\u001b[0m\u001b[0;34m,\u001b[0m \u001b[0;36m1\u001b[0m\u001b[0;34m)\u001b[0m\u001b[0;34m)\u001b[0m\u001b[0;34m[\u001b[0m\u001b[0;34m:\u001b[0m\u001b[0;34m,\u001b[0m\u001b[0;36m0\u001b[0m\u001b[0;34m]\u001b[0m\u001b[0;34m)\u001b[0m \u001b[0;34m<\u001b[0m \u001b[0;36m0.5\u001b[0m\u001b[0;34m,\u001b[0m \u001b[0;36m0\u001b[0m\u001b[0;34m,\u001b[0m\u001b[0;36m1\u001b[0m\u001b[0;34m)\u001b[0m\u001b[0;34m.\u001b[0m\u001b[0mravel\u001b[0m\u001b[0;34m(\u001b[0m\u001b[0;34m)\u001b[0m\u001b[0;34m)\u001b[0m\u001b[0;34m\u001b[0m\u001b[0;34m\u001b[0m\u001b[0m\n\u001b[0m\u001b[1;32m      8\u001b[0m \u001b[0;31m#print('Accuracy on training set:', accuracy_score(y_train, np.where(model.predict(X_train)[:,0]) < 0.5, 0,1).ravel())\u001b[0m\u001b[0;34m\u001b[0m\u001b[0;34m\u001b[0m\u001b[0m\n",
            "\u001b[0;31mTypeError\u001b[0m: '<' not supported between instances of 'tuple' and 'float'"
          ]
        }
      ],
      "source": [
        "# accuracy on training set\n",
        "#print('Accuracy on training set:', accuracy_score(y_train, np.where(model.predict(X_train)[:,0]) < 0.5, 0,1))\n",
        "#print('Accuracy on training set:', accuracy_score(y_train, np.where((model.predict(X_train)>0.5).ravel())))\n",
        "#print('Accuracy on training set:', accuracy_score(y_train, model.predict(X_train)), '%')\n",
        "print(model.predict(X_train).shape)\n",
        "model.predict(X_train).reshape((-1, 1))\n",
        "print('Accuracy on training set:', accuracy_score(y_train, np.where(model.predict(X_train).reshape((-1, 1))[:,0]) < 0.5, 0,1).ravel())\n",
        "#print('Accuracy on training set:', accuracy_score(y_train, np.where(model.predict(X_train)[:,0]) < 0.5, 0,1).ravel())"
      ]
    },
    {
      "cell_type": "code",
      "source": [
        "# Reshape the prediction output to a 1D array\n",
        "y_pred = model.predict(X_train).reshape(-1)\n",
        "\n",
        "# Calculate the accuracy\n",
        "accuracy = accuracy_score(y_train, np.where(y_pred < 0.5, 0, 1))\n",
        "\n",
        "# Print the accuracy\n",
        "print('Accuracy on training set:', accuracy)"
      ],
      "metadata": {
        "colab": {
          "base_uri": "https://localhost:8080/"
        },
        "id": "BrEBtkZnw2_9",
        "outputId": "aa25c250-33c4-4680-fb3b-578946a84b26"
      },
      "execution_count": 94,
      "outputs": [
        {
          "output_type": "stream",
          "name": "stdout",
          "text": [
            "52/52 [==============================] - 12s 222ms/step\n",
            "Accuracy on training set: 0.6871202916160389\n"
          ]
        }
      ]
    },
    {
      "cell_type": "code",
      "execution_count": 73,
      "metadata": {
        "colab": {
          "base_uri": "https://localhost:8080/"
        },
        "id": "HG13Xm6bGXQg",
        "outputId": "0929fda3-2ab0-4ed5-f946-30edf2f64ef7"
      },
      "outputs": [
        {
          "output_type": "stream",
          "name": "stdout",
          "text": [
            "23/23 [==============================] - 4s 152ms/step\n",
            "Accuracy on training set: 0.7152974504249292\n"
          ]
        }
      ],
      "source": [
        "# accuracy on validation set\n",
        "#print('Accuracy on validation set:', accuracy_score(y_valid, np.where(model.predict(X_valid)[:,0]) < 0.5, 0,1))\n",
        "# Reshape the prediction output to a 1D array\n",
        "y_vpred = model.predict(X_valid).reshape(-1)\n",
        "\n",
        "# Calculate the accuracy\n",
        "accuracy = accuracy_score(y_valid, np.where(y_vpred < 0.5, 0, 1))\n",
        "\n",
        "# Print the accuracy\n",
        "print('Accuracy on training set:', accuracy)"
      ]
    },
    {
      "cell_type": "code",
      "execution_count": 95,
      "metadata": {
        "colab": {
          "base_uri": "https://localhost:8080/",
          "height": 472
        },
        "id": "jKrOiGaDGXLK",
        "outputId": "0eb8cdf0-480c-4777-f947-5879b7109d91"
      },
      "outputs": [
        {
          "output_type": "display_data",
          "data": {
            "text/plain": [
              "<Figure size 640x480 with 1 Axes>"
            ],
            "image/png": "[encoded data removed]"
          },
          "metadata": {}
        }
      ],
      "source": [
        "# summarize history for loss\n",
        "plt.plot(model_history.history['loss'])\n",
        "plt.plot(model_history.history['val_loss'])\n",
        "plt.title('model loss')\n",
        "plt.ylabel('loss')\n",
        "plt.xlabel('epoch')\n",
        "plt.legend(['train', 'validation'], loc='upper left')\n",
        "plt.show()"
      ]
    },
    {
      "cell_type": "code",
      "execution_count": 96,
      "metadata": {
        "colab": {
          "base_uri": "https://localhost:8080/",
          "height": 472
        },
        "id": "VNAd2anFHqjn",
        "outputId": "9574874c-fbc1-46f3-d63a-4f3ee50b8bbb"
      },
      "outputs": [
        {
          "output_type": "display_data",
          "data": {
            "text/plain": [
              "<Figure size 640x480 with 1 Axes>"
            ],
            "image/png": "[encoded data removed]"
          },
          "metadata": {}
        }
      ],
      "source": [
        "# summarize history for accuracy\n",
        "plt.plot(model_history.history['accuracy'])\n",
        "plt.plot(model_history.history['val_accuracy'])\n",
        "plt.title('model accuracy')\n",
        "plt.ylabel('accuracy')\n",
        "plt.xlabel('epoch')\n",
        "plt.legend(['train', 'validation'], loc='upper left')\n",
        "plt.show()"
      ]
    },
    {
      "cell_type": "markdown",
      "metadata": {
        "id": "Hd7JfLeiHtX2"
      },
      "source": [
        "## Adding Maxpool layer to reduce parameters"
      ]
    },
    {
      "cell_type": "code",
      "execution_count": 76,
      "metadata": {
        "id": "hxymlVBrIOQu"
      },
      "outputs": [],
      "source": [
        "# importing maxpool layer from keras\n",
        "from keras.layers import MaxPool2D"
      ]
    },
    {
      "cell_type": "code",
      "execution_count": 77,
      "metadata": {
        "id": "ouFTqkMuhKMw"
      },
      "outputs": [],
      "source": [
        "# defining the model architecture with maxpool layer\n",
        "model = Sequential()\n",
        "\n",
        "model.add(InputLayer(input_shape=(224, 224, 3)))\n",
        "\n",
        "model.add(Conv2D(25, (5, 5), activation='relu', strides=(1, 1), padding='valid'))\n",
        "model.add(Conv2D(50, (5, 5), activation='relu', strides=(1, 1), padding='valid'))\n",
        "# adding maxpool layer after the convolutional layers\n",
        "model.add(MaxPool2D(pool_size=(4, 4), padding='valid'))\n",
        "model.add(Flatten())\n",
        "\n",
        "model.add(Dense(units=100, activation='sigmoid'))\n",
        "model.add(Dense(units=1, activation='sigmoid'))\n",
        "\n",
        "# compiling the model\n",
        "model.compile(loss='binary_crossentropy', optimizer=\"sgd\", metrics=['accuracy'])"
      ]
    },
    {
      "cell_type": "code",
      "execution_count": 78,
      "metadata": {
        "colab": {
          "base_uri": "https://localhost:8080/"
        },
        "id": "8WRfKOU_hKM4",
        "outputId": "5474e7e0-ab02-4377-f07c-ecc494f8ce83"
      },
      "outputs": [
        {
          "output_type": "stream",
          "name": "stdout",
          "text": [
            "Model: \"sequential_3\"\n",
            "_________________________________________________________________\n",
            " Layer (type)                Output Shape              Param #   \n",
            "=================================================================\n",
            " conv2d_6 (Conv2D)           (None, 220, 220, 25)      1900      \n",
            "                                                                 \n",
            " conv2d_7 (Conv2D)           (None, 216, 216, 50)      31300     \n",
            "                                                                 \n",
            " max_pooling2d_1 (MaxPoolin  (None, 54, 54, 50)        0         \n",
            " g2D)                                                            \n",
            "                                                                 \n",
            " flatten_3 (Flatten)         (None, 145800)            0         \n",
            "                                                                 \n",
            " dense_6 (Dense)             (None, 100)               14580100  \n",
            "                                                                 \n",
            " dense_7 (Dense)             (None, 1)                 101       \n",
            "                                                                 \n",
            "=================================================================\n",
            "Total params: 14613401 (55.75 MB)\n",
            "Trainable params: 14613401 (55.75 MB)\n",
            "Non-trainable params: 0 (0.00 Byte)\n",
            "_________________________________________________________________\n"
          ]
        }
      ],
      "source": [
        "# summary of the model\n",
        "model.summary()"
      ]
    },
    {
      "cell_type": "code",
      "execution_count": 80,
      "metadata": {
        "colab": {
          "base_uri": "https://localhost:8080/"
        },
        "id": "F5ZLlBqQhKM9",
        "outputId": "69171908-4d18-4d49-b188-08062a4bc4f2"
      },
      "outputs": [
        {
          "output_type": "stream",
          "name": "stdout",
          "text": [
            "Epoch 1/10\n",
            "13/13 [==============================] - 65s 5s/step - loss: 0.6572 - accuracy: 0.6039 - val_loss: 0.6600 - val_accuracy: 0.5652\n",
            "Epoch 2/10\n",
            "13/13 [==============================] - 63s 5s/step - loss: 0.6342 - accuracy: 0.6495 - val_loss: 0.6442 - val_accuracy: 0.6062\n",
            "Epoch 3/10\n",
            "13/13 [==============================] - 63s 5s/step - loss: 0.6367 - accuracy: 0.6549 - val_loss: 0.6365 - val_accuracy: 0.6204\n",
            "Epoch 4/10\n",
            "13/13 [==============================] - 63s 5s/step - loss: 0.6193 - accuracy: 0.6567 - val_loss: 0.6036 - val_accuracy: 0.6912\n",
            "Epoch 5/10\n",
            "13/13 [==============================] - 63s 5s/step - loss: 0.6172 - accuracy: 0.6592 - val_loss: 0.6060 - val_accuracy: 0.6841\n",
            "Epoch 6/10\n",
            "13/13 [==============================] - 64s 5s/step - loss: 0.5933 - accuracy: 0.6938 - val_loss: 0.6354 - val_accuracy: 0.6289\n",
            "Epoch 7/10\n",
            "13/13 [==============================] - 63s 5s/step - loss: 0.5936 - accuracy: 0.6883 - val_loss: 0.6127 - val_accuracy: 0.6544\n",
            "Epoch 8/10\n",
            "13/13 [==============================] - 63s 5s/step - loss: 0.5886 - accuracy: 0.6968 - val_loss: 0.6436 - val_accuracy: 0.6218\n",
            "Epoch 9/10\n",
            "13/13 [==============================] - 64s 5s/step - loss: 0.6007 - accuracy: 0.6744 - val_loss: 0.5709 - val_accuracy: 0.7082\n",
            "Epoch 10/10\n",
            "13/13 [==============================] - 63s 5s/step - loss: 0.5754 - accuracy: 0.7035 - val_loss: 0.5715 - val_accuracy: 0.6912\n"
          ]
        }
      ],
      "source": [
        "# training the model\n",
        "model_history = model.fit(X_train, y_train, epochs=10, batch_size=128,validation_data=(X_valid,y_valid))"
      ]
    },
    {
      "cell_type": "code",
      "execution_count": 81,
      "metadata": {
        "colab": {
          "base_uri": "https://localhost:8080/"
        },
        "id": "zn7AeKZBApXC",
        "outputId": "884538c3-1a94-49e1-98b6-3c88c066c7a5"
      },
      "outputs": [
        {
          "output_type": "stream",
          "name": "stdout",
          "text": [
            "52/52 [==============================] - 6s 120ms/step\n",
            "Accuracy on training set: 0.7345078979343864\n"
          ]
        }
      ],
      "source": [
        "# accuracy on training set\n",
        "#print('Accuracy on training set:', accuracy_score(y_train, np.where(model.predict(X_train)[:,0]) < 0.5, 0,1))\n",
        "# Reshape the prediction output to a 1D array\n",
        "y_pred = model.predict(X_train).reshape(-1)\n",
        "\n",
        "# Calculate the accuracy\n",
        "accuracy = accuracy_score(y_train, np.where(y_pred < 0.5, 0, 1))\n",
        "\n",
        "# Print the accuracy\n",
        "print('Accuracy on training set:', accuracy)"
      ]
    },
    {
      "cell_type": "code",
      "execution_count": 82,
      "metadata": {
        "colab": {
          "base_uri": "https://localhost:8080/"
        },
        "id": "C0U4KLiIApXC",
        "outputId": "649c6d3f-b956-472f-b4ed-6b675f165453"
      },
      "outputs": [
        {
          "output_type": "stream",
          "name": "stdout",
          "text": [
            "23/23 [==============================] - 3s 108ms/step\n",
            "Accuracy on training set: 0.6912181303116147\n"
          ]
        }
      ],
      "source": [
        "# accuracy on validation set\n",
        "#print('Accuracy on validation set:', accuracy_score(y_valid, np.where(model.predict(X_valid)[:,0]) < 0.5, 0,1))\n",
        "# Reshape the prediction output to a 1D array\n",
        "y_vpred = model.predict(X_valid).reshape(-1)\n",
        "\n",
        "# Calculate the accuracy\n",
        "accuracy = accuracy_score(y_valid, np.where(y_vpred < 0.5, 0, 1))\n",
        "\n",
        "# Print the accuracy\n",
        "print('Accuracy on training set:', accuracy)"
      ]
    },
    {
      "cell_type": "code",
      "execution_count": 97,
      "metadata": {
        "colab": {
          "base_uri": "https://localhost:8080/",
          "height": 472
        },
        "id": "vYMP4z8FKJlK",
        "outputId": "853db367-521c-4ffe-f5d2-088e82a42bbb"
      },
      "outputs": [
        {
          "output_type": "display_data",
          "data": {
            "text/plain": [
              "<Figure size 640x480 with 1 Axes>"
            ],
            "image/png": "[encoded data removed]"
          },
          "metadata": {}
        }
      ],
      "source": [
        "# summarize history for loss\n",
        "plt.plot(model_history.history['loss'])\n",
        "plt.plot(model_history.history['val_loss'])\n",
        "plt.title('model loss')\n",
        "plt.ylabel('loss')\n",
        "plt.xlabel('epoch')\n",
        "plt.legend(['train', 'validation'], loc='upper left')\n",
        "plt.show()"
      ]
    },
    {
      "cell_type": "code",
      "execution_count": 98,
      "metadata": {
        "colab": {
          "base_uri": "https://localhost:8080/",
          "height": 472
        },
        "id": "CGUdACeiKJle",
        "outputId": "d446726a-1631-400b-e945-1aaaa355e848"
      },
      "outputs": [
        {
          "output_type": "display_data",
          "data": {
            "text/plain": [
              "<Figure size 640x480 with 1 Axes>"
            ],
            "image/png": "[encoded data removed]"
          },
          "metadata": {}
        }
      ],
      "source": [
        "# summarize history for accuracy\n",
        "plt.plot(model_history.history['accuracy'])\n",
        "plt.plot(model_history.history['val_accuracy'])\n",
        "plt.title('model accuracy')\n",
        "plt.ylabel('accuracy')\n",
        "plt.xlabel('epoch')\n",
        "plt.legend(['train', 'validation'], loc='upper left')\n",
        "plt.show()"
      ]
    },
    {
      "cell_type": "markdown",
      "metadata": {
        "id": "eobCjMm_hKNd"
      },
      "source": [
        "## Hyperparameter Tuning of Convolutional Neural Networks\n",
        "\n",
        "1. increase number of convolutional layers\n",
        "2. increase number of pooling layers\n",
        "3. increase number of convolutional filters\n",
        "4. change size of convolutional filters\n",
        "5. change pooling type\n",
        "6. change padding technique\n",
        "7. change stride\n",
        "\n",
        "#### Hyperparameters of fully connected layers\n",
        "\n",
        "1. change activation function of hidden layer\n",
        "2. increase hidden neurons\n",
        "3. increase hidden layers\n",
        "4. increase number of epochs\n",
        "5. change optimizer\n",
        "6. add batch normalization layer\n",
        "7. add dropout layer"
      ]
    },
    {
      "cell_type": "markdown",
      "metadata": {
        "id": "qG9SHyVzLfeA"
      },
      "source": [
        "## 1. Increasing number of convolutional layers"
      ]
    },
    {
      "cell_type": "code",
      "source": [
        "so far -\n",
        "# creating a sequential model\n",
        "#model = Sequential()\n",
        "\n",
        "# defining input layer with 3D input of shape (224,224,3)\n",
        "#model.add(InputLayer(input_shape=(224, 224, 3)))\n",
        "\n",
        "# defining the first convolutional layer with 25 filters of size (5,5)\n",
        "#model.add(Conv2D(25, (5, 5), activation='relu', strides=(1, 1), padding='valid'))\n",
        "# defining the second convolutional layer with 50 filters of size (5,5)\n",
        "#model.add(Conv2D(50, (5, 5), activation='relu', strides=(1, 1), padding='valid'))\n",
        "\n",
        "# flattening the output from convolutional layers so that it can be forwarded to the dense layers\n",
        "#model.add(Flatten())\n",
        "\n",
        "# defining the first dense or fully connected layer with 100 neurons\n",
        "#model.add(Dense(units=100, activation='sigmoid'))\n",
        "# defining the output layer with 1 neuron since it is a binary classification problem\n",
        "#model.add(Dense(units=1, activation='sigmoid'))"
      ],
      "metadata": {
        "id": "75WtK7fQ05Bj"
      },
      "execution_count": null,
      "outputs": []
    },
    {
      "cell_type": "code",
      "execution_count": 86,
      "metadata": {
        "id": "rLe_T2IxhKNl"
      },
      "outputs": [],
      "source": [
        "# increase number of convolutional layers\n",
        "\n",
        "model = Sequential()\n",
        "\n",
        "model.add(InputLayer(input_shape=(224, 224, 3)))\n",
        "\n",
        "model.add(Conv2D(25, (5, 5), activation='relu', strides=(1, 1), padding='valid'))\n",
        "model.add(Conv2D(50, (5, 5), activation='relu', strides=(1, 1), padding='valid'))\n",
        "model.add(Conv2D(50, (5, 5), activation='relu', strides=(1, 1), padding='valid'))\n",
        "model.add(MaxPool2D(pool_size=(4, 4), padding='valid'))\n",
        "\n",
        "model.add(Flatten())\n",
        "\n",
        "model.add(Dense(units=100, activation='sigmoid'))\n",
        "model.add(Dense(units=1, activation='sigmoid'))\n",
        "\n",
        "model.compile(loss='binary_crossentropy', optimizer=\"sgd\", metrics=['accuracy'])"
      ]
    },
    {
      "cell_type": "code",
      "execution_count": 99,
      "metadata": {
        "colab": {
          "base_uri": "https://localhost:8080/"
        },
        "id": "U1arli-EhKNq",
        "outputId": "b5e5f4c3-6ea3-4b7c-97f3-99598cc5b3a9"
      },
      "outputs": [
        {
          "output_type": "stream",
          "name": "stdout",
          "text": [
            "Model: \"sequential_5\"\n",
            "_________________________________________________________________\n",
            " Layer (type)                Output Shape              Param #   \n",
            "=================================================================\n",
            " conv2d_11 (Conv2D)          (None, 220, 220, 25)      1900      \n",
            "                                                                 \n",
            " conv2d_12 (Conv2D)          (None, 216, 216, 50)      31300     \n",
            "                                                                 \n",
            " conv2d_13 (Conv2D)          (None, 212, 212, 50)      62550     \n",
            "                                                                 \n",
            " max_pooling2d_3 (MaxPoolin  (None, 53, 53, 50)        0         \n",
            " g2D)                                                            \n",
            "                                                                 \n",
            " flatten_5 (Flatten)         (None, 140450)            0         \n",
            "                                                                 \n",
            " dense_10 (Dense)            (None, 100)               14045100  \n",
            "                                                                 \n",
            " dense_11 (Dense)            (None, 1)                 101       \n",
            "                                                                 \n",
            "=================================================================\n",
            "Total params: 14140951 (53.94 MB)\n",
            "Trainable params: 14140951 (53.94 MB)\n",
            "Non-trainable params: 0 (0.00 Byte)\n",
            "_________________________________________________________________\n"
          ]
        }
      ],
      "source": [
        "model.summary()"
      ]
    },
    {
      "cell_type": "code",
      "execution_count": 88,
      "metadata": {
        "colab": {
          "base_uri": "https://localhost:8080/"
        },
        "id": "eaoHuj0ohKNy",
        "outputId": "e74a112a-c839-4efc-f678-c061c6e7d970"
      },
      "outputs": [
        {
          "output_type": "stream",
          "name": "stdout",
          "text": [
            "Epoch 1/10\n",
            "13/13 [==============================] - 146s 11s/step - loss: 0.6762 - accuracy: 0.5863 - val_loss: 0.6788 - val_accuracy: 0.5609\n",
            "Epoch 2/10\n",
            "13/13 [==============================] - 144s 11s/step - loss: 0.6713 - accuracy: 0.5863 - val_loss: 0.6753 - val_accuracy: 0.5609\n",
            "Epoch 3/10\n",
            "13/13 [==============================] - 144s 11s/step - loss: 0.6663 - accuracy: 0.5863 - val_loss: 0.6646 - val_accuracy: 0.5822\n",
            "Epoch 4/10\n",
            "13/13 [==============================] - 145s 11s/step - loss: 0.6591 - accuracy: 0.6002 - val_loss: 0.6550 - val_accuracy: 0.6076\n",
            "Epoch 5/10\n",
            "13/13 [==============================] - 146s 11s/step - loss: 0.6486 - accuracy: 0.6294 - val_loss: 0.6598 - val_accuracy: 0.5694\n",
            "Epoch 6/10\n",
            "13/13 [==============================] - 145s 11s/step - loss: 0.6406 - accuracy: 0.6355 - val_loss: 0.6298 - val_accuracy: 0.6629\n",
            "Epoch 7/10\n",
            "13/13 [==============================] - 145s 11s/step - loss: 0.6415 - accuracy: 0.6318 - val_loss: 0.6245 - val_accuracy: 0.6756\n",
            "Epoch 8/10\n",
            "13/13 [==============================] - 145s 11s/step - loss: 0.6275 - accuracy: 0.6488 - val_loss: 0.6122 - val_accuracy: 0.6799\n",
            "Epoch 9/10\n",
            "13/13 [==============================] - 145s 11s/step - loss: 0.6302 - accuracy: 0.6428 - val_loss: 0.6197 - val_accuracy: 0.6530\n",
            "Epoch 10/10\n",
            "13/13 [==============================] - 145s 11s/step - loss: 0.6264 - accuracy: 0.6434 - val_loss: 0.6033 - val_accuracy: 0.6785\n"
          ]
        }
      ],
      "source": [
        "# training the model\n",
        "model_history = model.fit(X_train, y_train, epochs=10, batch_size=128,validation_data=(X_valid,y_valid))"
      ]
    },
    {
      "cell_type": "code",
      "execution_count": 89,
      "metadata": {
        "colab": {
          "base_uri": "https://localhost:8080/"
        },
        "id": "DASUQFC1ApXG",
        "outputId": "521f7cce-91b3-432b-ea1a-2f4895e5c3ba"
      },
      "outputs": [
        {
          "output_type": "stream",
          "name": "stdout",
          "text": [
            "52/52 [==============================] - 12s 225ms/step\n",
            "Accuracy on training set: 0.6871202916160389\n"
          ]
        }
      ],
      "source": [
        "# accuracy on training set\n",
        "#print('Accuracy on training set:', accuracy_score(y_train, np.where(model.predict(X_train)[:,0]) < 0.5, 0,1))\n",
        "# Reshape the prediction output to a 1D array\n",
        "y_pred = model.predict(X_train).reshape(-1)\n",
        "\n",
        "# Calculate the accuracy\n",
        "accuracy = accuracy_score(y_train, np.where(y_pred < 0.5, 0, 1))\n",
        "\n",
        "# Print the accuracy\n",
        "print('Accuracy on training set:', accuracy)"
      ]
    },
    {
      "cell_type": "code",
      "execution_count": 100,
      "metadata": {
        "colab": {
          "base_uri": "https://localhost:8080/"
        },
        "id": "7kdyFOS2ApXG",
        "outputId": "72ffdb63-0fd8-4423-a93d-193fcae764d4"
      },
      "outputs": [
        {
          "output_type": "stream",
          "name": "stdout",
          "text": [
            "23/23 [==============================] - 5s 211ms/step\n",
            "Accuracy on training set: 0.6784702549575071\n"
          ]
        }
      ],
      "source": [
        "# accuracy on validation set\n",
        "#print('Accuracy on validation set:', accuracy_score(y_valid, np.where(model.predict(X_valid)[:,0]) < 0.5, 0,1))\n",
        "# Reshape the prediction output to a 1D array\n",
        "y_vpred = model.predict(X_valid).reshape(-1)\n",
        "\n",
        "# Calculate the accuracy\n",
        "accuracy = accuracy_score(y_valid, np.where(y_vpred < 0.5, 0, 1))\n",
        "\n",
        "# Print the accuracy\n",
        "print('Accuracy on training set:', accuracy)"
      ]
    },
    {
      "cell_type": "markdown",
      "metadata": {
        "id": "EohJWvwLL2kk"
      },
      "source": [
        "## 2. Increasing number of pooling layers"
      ]
    },
    {
      "cell_type": "code",
      "execution_count": 101,
      "metadata": {
        "id": "l5BHQGyCNFTB"
      },
      "outputs": [],
      "source": [
        "# increase number of pooling layers\n",
        "\n",
        "model = Sequential()\n",
        "\n",
        "model.add(InputLayer(input_shape=(224, 224, 3)))\n",
        "\n",
        "model.add(Conv2D(25, (5, 5), activation='relu', strides=(1, 1), padding='valid'))\n",
        "model.add(MaxPool2D(pool_size=(4, 4), padding='valid'))\n",
        "model.add(Conv2D(50, (5, 5), activation='relu', strides=(1, 1), padding='valid'))\n",
        "model.add(MaxPool2D(pool_size=(4, 4), padding='valid'))\n",
        "\n",
        "model.add(Flatten())\n",
        "\n",
        "model.add(Dense(units=100, activation='sigmoid'))\n",
        "model.add(Dense(units=1, activation='sigmoid'))\n",
        "\n",
        "model.compile(loss='binary_crossentropy', optimizer=\"sgd\", metrics=['accuracy'])"
      ]
    },
    {
      "cell_type": "code",
      "execution_count": 102,
      "metadata": {
        "colab": {
          "base_uri": "https://localhost:8080/"
        },
        "id": "2M42qtGdNFQb",
        "outputId": "5c5bfa40-199c-4eb3-ce31-bb625a919edc"
      },
      "outputs": [
        {
          "output_type": "stream",
          "name": "stdout",
          "text": [
            "Model: \"sequential_6\"\n",
            "_________________________________________________________________\n",
            " Layer (type)                Output Shape              Param #   \n",
            "=================================================================\n",
            " conv2d_14 (Conv2D)          (None, 220, 220, 25)      1900      \n",
            "                                                                 \n",
            " max_pooling2d_4 (MaxPoolin  (None, 55, 55, 25)        0         \n",
            " g2D)                                                            \n",
            "                                                                 \n",
            " conv2d_15 (Conv2D)          (None, 51, 51, 50)        31300     \n",
            "                                                                 \n",
            " max_pooling2d_5 (MaxPoolin  (None, 12, 12, 50)        0         \n",
            " g2D)                                                            \n",
            "                                                                 \n",
            " flatten_6 (Flatten)         (None, 7200)              0         \n",
            "                                                                 \n",
            " dense_12 (Dense)            (None, 100)               720100    \n",
            "                                                                 \n",
            " dense_13 (Dense)            (None, 1)                 101       \n",
            "                                                                 \n",
            "=================================================================\n",
            "Total params: 753401 (2.87 MB)\n",
            "Trainable params: 753401 (2.87 MB)\n",
            "Non-trainable params: 0 (0.00 Byte)\n",
            "_________________________________________________________________\n"
          ]
        }
      ],
      "source": [
        "model.summary()"
      ]
    },
    {
      "cell_type": "code",
      "execution_count": 103,
      "metadata": {
        "colab": {
          "base_uri": "https://localhost:8080/"
        },
        "id": "u_XrOnOZNFNh",
        "outputId": "be9334c1-bc26-4bc8-81ca-ae0ac8d53c6e"
      },
      "outputs": [
        {
          "output_type": "stream",
          "name": "stdout",
          "text": [
            "Epoch 1/10\n",
            "13/13 [==============================] - 14s 1s/step - loss: 0.7232 - accuracy: 0.4429 - val_loss: 0.6908 - val_accuracy: 0.5567\n",
            "Epoch 2/10\n",
            "13/13 [==============================] - 12s 940ms/step - loss: 0.6828 - accuracy: 0.5863 - val_loss: 0.6876 - val_accuracy: 0.5609\n",
            "Epoch 3/10\n",
            "13/13 [==============================] - 12s 937ms/step - loss: 0.6793 - accuracy: 0.5863 - val_loss: 0.6885 - val_accuracy: 0.5609\n",
            "Epoch 4/10\n",
            "13/13 [==============================] - 12s 945ms/step - loss: 0.6781 - accuracy: 0.5863 - val_loss: 0.6874 - val_accuracy: 0.5609\n",
            "Epoch 5/10\n",
            "13/13 [==============================] - 12s 948ms/step - loss: 0.6768 - accuracy: 0.5863 - val_loss: 0.6861 - val_accuracy: 0.5609\n",
            "Epoch 6/10\n",
            "13/13 [==============================] - 12s 939ms/step - loss: 0.6763 - accuracy: 0.5863 - val_loss: 0.6851 - val_accuracy: 0.5609\n",
            "Epoch 7/10\n",
            "13/13 [==============================] - 12s 941ms/step - loss: 0.6752 - accuracy: 0.5863 - val_loss: 0.6836 - val_accuracy: 0.5609\n",
            "Epoch 8/10\n",
            "13/13 [==============================] - 12s 944ms/step - loss: 0.6741 - accuracy: 0.5863 - val_loss: 0.6829 - val_accuracy: 0.5609\n",
            "Epoch 9/10\n",
            "13/13 [==============================] - 12s 955ms/step - loss: 0.6734 - accuracy: 0.5863 - val_loss: 0.6825 - val_accuracy: 0.5609\n",
            "Epoch 10/10\n",
            "13/13 [==============================] - 12s 963ms/step - loss: 0.6722 - accuracy: 0.5863 - val_loss: 0.6813 - val_accuracy: 0.5609\n"
          ]
        }
      ],
      "source": [
        "# training the model\n",
        "model_history = model.fit(X_train, y_train, epochs=10, batch_size=128,validation_data=(X_valid,y_valid))"
      ]
    },
    {
      "cell_type": "code",
      "execution_count": 104,
      "metadata": {
        "colab": {
          "base_uri": "https://localhost:8080/"
        },
        "id": "eGlP1LDJApXH",
        "outputId": "9e7ec31f-5e40-401d-841e-4bb851db0e69"
      },
      "outputs": [
        {
          "output_type": "stream",
          "name": "stdout",
          "text": [
            "52/52 [==============================] - 2s 37ms/step\n",
            "Accuracy on training set: 0.586269744835966\n"
          ]
        }
      ],
      "source": [
        "# accuracy on training set  ## information loss with adding more pooling layers\n",
        "#print('Accuracy on training set:', accuracy_score(y_train, np.where(model.predict(X_train)[:,0]) < 0.5, 0,1))\n",
        "# Reshape the prediction output to a 1D array\n",
        "y_pred = model.predict(X_train).reshape(-1)\n",
        "\n",
        "# Calculate the accuracy\n",
        "accuracy = accuracy_score(y_train, np.where(y_pred < 0.5, 0, 1))\n",
        "\n",
        "# Print the accuracy\n",
        "print('Accuracy on training set:', accuracy)"
      ]
    },
    {
      "cell_type": "code",
      "execution_count": 105,
      "metadata": {
        "colab": {
          "base_uri": "https://localhost:8080/"
        },
        "id": "UknYe_yRApXH",
        "outputId": "d0290b2b-2d6c-4c68-d2bd-794afed5a493"
      },
      "outputs": [
        {
          "output_type": "stream",
          "name": "stdout",
          "text": [
            "23/23 [==============================] - 1s 34ms/step\n",
            "Accuracy on training set: 0.5609065155807366\n"
          ]
        }
      ],
      "source": [
        "# accuracy on validation set\n",
        "#print('Accuracy on validation set:', accuracy_score(y_valid, np.where(model.predict(X_valid)[:,0]) < 0.5, 0,1))\n",
        "# Reshape the prediction output to a 1D array\n",
        "y_vpred = model.predict(X_valid).reshape(-1)\n",
        "\n",
        "# Calculate the accuracy\n",
        "accuracy = accuracy_score(y_valid, np.where(y_vpred < 0.5, 0, 1))\n",
        "\n",
        "# Print the accuracy\n",
        "print('Accuracy on training set:', accuracy)"
      ]
    },
    {
      "cell_type": "markdown",
      "metadata": {
        "id": "570Net31NpiN"
      },
      "source": [
        "## 3. Increasing number of convolutional filters"
      ]
    },
    {
      "cell_type": "code",
      "execution_count": 106,
      "metadata": {
        "id": "8jwO0VbKhKN9"
      },
      "outputs": [],
      "source": [
        "# increase number of convolutional filters\n",
        "\n",
        "model = Sequential()\n",
        "\n",
        "model.add(InputLayer(input_shape=(224, 224, 3)))\n",
        "\n",
        "model.add(Conv2D(50, (5, 5), activation='relu', strides=(1, 1), padding='valid'))\n",
        "model.add(Conv2D(75, (5, 5), activation='relu', strides=(1, 1), padding='valid'))\n",
        "model.add(MaxPool2D(pool_size=(4, 4), padding='valid'))\n",
        "\n",
        "model.add(Flatten())\n",
        "\n",
        "model.add(Dense(units=100, activation='sigmoid'))\n",
        "model.add(Dense(units=1, activation='sigmoid'))\n",
        "\n",
        "model.compile(loss='binary_crossentropy', optimizer=\"sgd\", metrics=['accuracy'])"
      ]
    },
    {
      "cell_type": "code",
      "execution_count": 107,
      "metadata": {
        "colab": {
          "base_uri": "https://localhost:8080/"
        },
        "id": "nH2_XQPHN562",
        "outputId": "73405c12-4f48-4b1d-a47a-72fa89ca65c7"
      },
      "outputs": [
        {
          "output_type": "stream",
          "name": "stdout",
          "text": [
            "Model: \"sequential_7\"\n",
            "_________________________________________________________________\n",
            " Layer (type)                Output Shape              Param #   \n",
            "=================================================================\n",
            " conv2d_16 (Conv2D)          (None, 220, 220, 50)      3800      \n",
            "                                                                 \n",
            " conv2d_17 (Conv2D)          (None, 216, 216, 75)      93825     \n",
            "                                                                 \n",
            " max_pooling2d_6 (MaxPoolin  (None, 54, 54, 75)        0         \n",
            " g2D)                                                            \n",
            "                                                                 \n",
            " flatten_7 (Flatten)         (None, 218700)            0         \n",
            "                                                                 \n",
            " dense_14 (Dense)            (None, 100)               21870100  \n",
            "                                                                 \n",
            " dense_15 (Dense)            (None, 1)                 101       \n",
            "                                                                 \n",
            "=================================================================\n",
            "Total params: 21967826 (83.80 MB)\n",
            "Trainable params: 21967826 (83.80 MB)\n",
            "Non-trainable params: 0 (0.00 Byte)\n",
            "_________________________________________________________________\n"
          ]
        }
      ],
      "source": [
        "model.summary()"
      ]
    },
    {
      "cell_type": "code",
      "execution_count": 108,
      "metadata": {
        "colab": {
          "base_uri": "https://localhost:8080/"
        },
        "id": "FPAQ7FBhN_sf",
        "outputId": "abba4945-b118-407d-99ce-597f066f8fd5"
      },
      "outputs": [
        {
          "output_type": "stream",
          "name": "stdout",
          "text": [
            "Epoch 1/10\n",
            "13/13 [==============================] - 122s 9s/step - loss: 0.6766 - accuracy: 0.5863 - val_loss: 0.6773 - val_accuracy: 0.5609\n",
            "Epoch 2/10\n",
            "13/13 [==============================] - 120s 9s/step - loss: 0.6699 - accuracy: 0.5863 - val_loss: 0.6694 - val_accuracy: 0.5609\n",
            "Epoch 3/10\n",
            "13/13 [==============================] - 120s 9s/step - loss: 0.6617 - accuracy: 0.5875 - val_loss: 0.6599 - val_accuracy: 0.5737\n",
            "Epoch 4/10\n",
            "13/13 [==============================] - 120s 9s/step - loss: 0.6517 - accuracy: 0.6021 - val_loss: 0.6503 - val_accuracy: 0.6006\n",
            "Epoch 5/10\n",
            "13/13 [==============================] - 122s 9s/step - loss: 0.6439 - accuracy: 0.6422 - val_loss: 0.6381 - val_accuracy: 0.6487\n",
            "Epoch 6/10\n",
            "13/13 [==============================] - 122s 9s/step - loss: 0.6323 - accuracy: 0.6574 - val_loss: 0.6252 - val_accuracy: 0.6856\n",
            "Epoch 7/10\n",
            "13/13 [==============================] - 122s 9s/step - loss: 0.6227 - accuracy: 0.6628 - val_loss: 0.6156 - val_accuracy: 0.6756\n",
            "Epoch 8/10\n",
            "13/13 [==============================] - 122s 9s/step - loss: 0.6185 - accuracy: 0.6780 - val_loss: 0.6183 - val_accuracy: 0.6728\n",
            "Epoch 9/10\n",
            "13/13 [==============================] - 122s 9s/step - loss: 0.6170 - accuracy: 0.6622 - val_loss: 0.6472 - val_accuracy: 0.6034\n",
            "Epoch 10/10\n",
            "13/13 [==============================] - 121s 9s/step - loss: 0.5964 - accuracy: 0.6968 - val_loss: 0.5912 - val_accuracy: 0.7054\n"
          ]
        }
      ],
      "source": [
        "# training the model\n",
        "model_history = model.fit(X_train, y_train, epochs=10, batch_size=128,validation_data=(X_valid,y_valid))"
      ]
    },
    {
      "cell_type": "code",
      "execution_count": 109,
      "metadata": {
        "colab": {
          "base_uri": "https://localhost:8080/"
        },
        "id": "U4_-a2FVApXI",
        "outputId": "73f57b2f-4096-4a84-f7e9-d72115822636"
      },
      "outputs": [
        {
          "output_type": "stream",
          "name": "stdout",
          "text": [
            "52/52 [==============================] - 11s 215ms/step\n",
            "Accuracy on training set: 0.6950182260024301\n"
          ]
        }
      ],
      "source": [
        "# accuracy on training set\n",
        "#print('Accuracy on training set:', accuracy_score(y_train, np.where(model.predict(X_train)[:,0]) < 0.5, 0,1))\n",
        "# Reshape the prediction output to a 1D array\n",
        "y_pred = model.predict(X_train).reshape(-1)\n",
        "\n",
        "# Calculate the accuracy\n",
        "accuracy = accuracy_score(y_train, np.where(y_pred < 0.5, 0, 1))\n",
        "\n",
        "# Print the accuracy\n",
        "print('Accuracy on training set:', accuracy)"
      ]
    },
    {
      "cell_type": "code",
      "execution_count": 110,
      "metadata": {
        "colab": {
          "base_uri": "https://localhost:8080/"
        },
        "id": "a5eUkKRZApXI",
        "outputId": "a799bb3d-3feb-41b9-b44e-7e2b5d40b1bf"
      },
      "outputs": [
        {
          "output_type": "stream",
          "name": "stdout",
          "text": [
            "23/23 [==============================] - 5s 206ms/step\n",
            "Accuracy on training set: 0.7053824362606232\n"
          ]
        }
      ],
      "source": [
        "# accuracy on validation set\n",
        "#print('Accuracy on validation set:', accuracy_score(y_valid, np.where(model.predict(X_valid)[:,0]) < 0.5, 0,1))\n",
        "# Reshape the prediction output to a 1D array\n",
        "y_vpred = model.predict(X_valid).reshape(-1)\n",
        "\n",
        "# Calculate the accuracy\n",
        "accuracy = accuracy_score(y_valid, np.where(y_vpred < 0.5, 0, 1))\n",
        "\n",
        "# Print the accuracy\n",
        "print('Accuracy on training set:', accuracy)"
      ]
    },
    {
      "cell_type": "markdown",
      "metadata": {
        "id": "zJjMRdqpW2Rv"
      },
      "source": [
        "## 4. Changing size of convolutional filters"
      ]
    },
    {
      "cell_type": "code",
      "execution_count": 111,
      "metadata": {
        "id": "9of5ypRihKOH"
      },
      "outputs": [],
      "source": [
        "# change filter size for convolutional layer\n",
        "\n",
        "model = Sequential()\n",
        "\n",
        "model.add(InputLayer(input_shape=(224, 224, 3)))\n",
        "\n",
        "model.add(Conv2D(25, (3, 3), activation='relu', strides=(1, 1), padding='valid'))\n",
        "model.add(Conv2D(50, (3, 3), activation='relu', strides=(1, 1), padding='valid'))\n",
        "model.add(MaxPool2D(pool_size=(4, 4), padding='valid'))\n",
        "\n",
        "model.add(Flatten())\n",
        "\n",
        "model.add(Dense(units=100, activation='sigmoid'))\n",
        "model.add(Dense(units=1, activation='sigmoid'))\n",
        "\n",
        "model.compile(loss='binary_crossentropy', optimizer=\"sgd\", metrics=['accuracy'])"
      ]
    },
    {
      "cell_type": "code",
      "execution_count": 112,
      "metadata": {
        "colab": {
          "base_uri": "https://localhost:8080/"
        },
        "id": "Ax6l1FB9XZ1I",
        "outputId": "929f52a2-721b-4f18-9584-6e37c73a059f"
      },
      "outputs": [
        {
          "output_type": "stream",
          "name": "stdout",
          "text": [
            "Model: \"sequential_8\"\n",
            "_________________________________________________________________\n",
            " Layer (type)                Output Shape              Param #   \n",
            "=================================================================\n",
            " conv2d_18 (Conv2D)          (None, 222, 222, 25)      700       \n",
            "                                                                 \n",
            " conv2d_19 (Conv2D)          (None, 220, 220, 50)      11300     \n",
            "                                                                 \n",
            " max_pooling2d_7 (MaxPoolin  (None, 55, 55, 50)        0         \n",
            " g2D)                                                            \n",
            "                                                                 \n",
            " flatten_8 (Flatten)         (None, 151250)            0         \n",
            "                                                                 \n",
            " dense_16 (Dense)            (None, 100)               15125100  \n",
            "                                                                 \n",
            " dense_17 (Dense)            (None, 1)                 101       \n",
            "                                                                 \n",
            "=================================================================\n",
            "Total params: 15137201 (57.74 MB)\n",
            "Trainable params: 15137201 (57.74 MB)\n",
            "Non-trainable params: 0 (0.00 Byte)\n",
            "_________________________________________________________________\n"
          ]
        }
      ],
      "source": [
        "model.summary()"
      ]
    },
    {
      "cell_type": "code",
      "execution_count": 113,
      "metadata": {
        "colab": {
          "base_uri": "https://localhost:8080/"
        },
        "id": "HtwUPK-tXZ1l",
        "outputId": "64dbd5b7-6d83-40a3-b0f7-d167c4d5fa7c"
      },
      "outputs": [
        {
          "output_type": "stream",
          "name": "stdout",
          "text": [
            "Epoch 1/10\n",
            "13/13 [==============================] - 33s 2s/step - loss: 0.6876 - accuracy: 0.5601 - val_loss: 0.6755 - val_accuracy: 0.5510\n",
            "Epoch 2/10\n",
            "13/13 [==============================] - 31s 2s/step - loss: 0.6617 - accuracy: 0.6094 - val_loss: 0.6640 - val_accuracy: 0.6473\n",
            "Epoch 3/10\n",
            "13/13 [==============================] - 31s 2s/step - loss: 0.6528 - accuracy: 0.6264 - val_loss: 0.6488 - val_accuracy: 0.6388\n",
            "Epoch 4/10\n",
            "13/13 [==============================] - 32s 2s/step - loss: 0.6409 - accuracy: 0.6385 - val_loss: 0.6386 - val_accuracy: 0.6501\n",
            "Epoch 5/10\n",
            "13/13 [==============================] - 31s 2s/step - loss: 0.6357 - accuracy: 0.6452 - val_loss: 0.6289 - val_accuracy: 0.6799\n",
            "Epoch 6/10\n",
            "13/13 [==============================] - 32s 2s/step - loss: 0.6239 - accuracy: 0.6683 - val_loss: 0.6231 - val_accuracy: 0.6615\n",
            "Epoch 7/10\n",
            "13/13 [==============================] - 32s 2s/step - loss: 0.6246 - accuracy: 0.6567 - val_loss: 0.6161 - val_accuracy: 0.6785\n",
            "Epoch 8/10\n",
            "13/13 [==============================] - 31s 2s/step - loss: 0.6161 - accuracy: 0.6695 - val_loss: 0.6111 - val_accuracy: 0.6771\n",
            "Epoch 9/10\n",
            "13/13 [==============================] - 32s 2s/step - loss: 0.6065 - accuracy: 0.6762 - val_loss: 0.6275 - val_accuracy: 0.6374\n",
            "Epoch 10/10\n",
            "13/13 [==============================] - 32s 2s/step - loss: 0.6002 - accuracy: 0.6786 - val_loss: 0.5953 - val_accuracy: 0.6884\n"
          ]
        }
      ],
      "source": [
        "# training the model\n",
        "model_history = model.fit(X_train, y_train, epochs=10, batch_size=128,validation_data=(X_valid,y_valid))"
      ]
    },
    {
      "cell_type": "code",
      "execution_count": 114,
      "metadata": {
        "colab": {
          "base_uri": "https://localhost:8080/"
        },
        "id": "qkX06G7cApXI",
        "outputId": "839cc22e-0798-4e44-d70e-ac3164e01a90"
      },
      "outputs": [
        {
          "output_type": "stream",
          "name": "stdout",
          "text": [
            "52/52 [==============================] - 5s 84ms/step\n",
            "Accuracy on training set: 0.6950182260024301\n"
          ]
        }
      ],
      "source": [
        "# accuracy on training set\n",
        "#print('Accuracy on training set:', accuracy_score(y_train, np.where(model.predict(X_train)[:,0]) < 0.5, 0,1))\n",
        "# Reshape the prediction output to a 1D array\n",
        "y_pred = model.predict(X_train).reshape(-1)\n",
        "\n",
        "# Calculate the accuracy\n",
        "accuracy = accuracy_score(y_train, np.where(y_pred < 0.5, 0, 1))\n",
        "\n",
        "# Print the accuracy\n",
        "print('Accuracy on training set:', accuracy)"
      ]
    },
    {
      "cell_type": "code",
      "execution_count": 115,
      "metadata": {
        "colab": {
          "base_uri": "https://localhost:8080/"
        },
        "id": "FCcSee4qApXI",
        "outputId": "c2215251-15bf-459f-d5a9-b5a8a97834d3"
      },
      "outputs": [
        {
          "output_type": "stream",
          "name": "stdout",
          "text": [
            "23/23 [==============================] - 2s 81ms/step\n",
            "Accuracy on training set: 0.6883852691218131\n"
          ]
        }
      ],
      "source": [
        "# accuracy on validation set\n",
        "#print('Accuracy on validation set:', accuracy_score(y_valid, np.where(model.predict(X_valid)[:,0]) < 0.5, 0,1))\n",
        "# Reshape the prediction output to a 1D array\n",
        "y_vpred = model.predict(X_valid).reshape(-1)\n",
        "\n",
        "# Calculate the accuracy\n",
        "accuracy = accuracy_score(y_valid, np.where(y_vpred < 0.5, 0, 1))\n",
        "\n",
        "# Print the accuracy\n",
        "print('Accuracy on training set:', accuracy)"
      ]
    },
    {
      "cell_type": "markdown",
      "metadata": {
        "id": "MugTAmQ7XcLq"
      },
      "source": [
        "## 5. Changing pooling size"
      ]
    },
    {
      "cell_type": "code",
      "execution_count": 116,
      "metadata": {
        "id": "1TlepUXsX-Pt"
      },
      "outputs": [],
      "source": [
        "# change pooling size\n",
        "\n",
        "model = Sequential()\n",
        "\n",
        "model.add(InputLayer(input_shape=(224, 224, 3)))\n",
        "\n",
        "model.add(Conv2D(25, (5, 5), activation='relu', strides=(1, 1), padding='valid'))\n",
        "model.add(Conv2D(50, (5, 5), activation='relu', strides=(1, 1), padding='valid'))\n",
        "model.add(MaxPool2D(pool_size=(2, 2), padding='valid'))\n",
        "\n",
        "model.add(Flatten())\n",
        "\n",
        "model.add(Dense(units=100, activation='sigmoid'))\n",
        "model.add(Dense(units=1, activation='sigmoid'))\n",
        "\n",
        "model.compile(loss='binary_crossentropy', optimizer=\"sgd\", metrics=['accuracy'])"
      ]
    },
    {
      "cell_type": "code",
      "execution_count": 117,
      "metadata": {
        "colab": {
          "base_uri": "https://localhost:8080/"
        },
        "id": "u5c9xliOX-QN",
        "outputId": "821e7d55-e3b3-4dea-c459-fcb3a8fe8bc2"
      },
      "outputs": [
        {
          "output_type": "stream",
          "name": "stdout",
          "text": [
            "Model: \"sequential_9\"\n",
            "_________________________________________________________________\n",
            " Layer (type)                Output Shape              Param #   \n",
            "=================================================================\n",
            " conv2d_20 (Conv2D)          (None, 220, 220, 25)      1900      \n",
            "                                                                 \n",
            " conv2d_21 (Conv2D)          (None, 216, 216, 50)      31300     \n",
            "                                                                 \n",
            " max_pooling2d_8 (MaxPoolin  (None, 108, 108, 50)      0         \n",
            " g2D)                                                            \n",
            "                                                                 \n",
            " flatten_9 (Flatten)         (None, 583200)            0         \n",
            "                                                                 \n",
            " dense_18 (Dense)            (None, 100)               58320100  \n",
            "                                                                 \n",
            " dense_19 (Dense)            (None, 1)                 101       \n",
            "                                                                 \n",
            "=================================================================\n",
            "Total params: 58353401 (222.60 MB)\n",
            "Trainable params: 58353401 (222.60 MB)\n",
            "Non-trainable params: 0 (0.00 Byte)\n",
            "_________________________________________________________________\n"
          ]
        }
      ],
      "source": [
        "model.summary()"
      ]
    },
    {
      "cell_type": "code",
      "execution_count": 118,
      "metadata": {
        "colab": {
          "base_uri": "https://localhost:8080/"
        },
        "id": "ObaTC2H-X-Qb",
        "outputId": "6ee71a76-a4b7-4e08-b78c-b61dc00983c3"
      },
      "outputs": [
        {
          "output_type": "stream",
          "name": "stdout",
          "text": [
            "Epoch 1/10\n",
            "13/13 [==============================] - 68s 5s/step - loss: 0.6928 - accuracy: 0.5620 - val_loss: 0.6720 - val_accuracy: 0.5822\n",
            "Epoch 2/10\n",
            "13/13 [==============================] - 66s 5s/step - loss: 0.6568 - accuracy: 0.6045 - val_loss: 0.6462 - val_accuracy: 0.6544\n",
            "Epoch 3/10\n",
            "13/13 [==============================] - 66s 5s/step - loss: 0.6501 - accuracy: 0.6245 - val_loss: 0.7489 - val_accuracy: 0.5623\n",
            "Epoch 4/10\n",
            "13/13 [==============================] - 67s 5s/step - loss: 0.6364 - accuracy: 0.6349 - val_loss: 0.6366 - val_accuracy: 0.6261\n",
            "Epoch 5/10\n",
            "13/13 [==============================] - 66s 5s/step - loss: 0.6220 - accuracy: 0.6586 - val_loss: 0.6321 - val_accuracy: 0.6317\n",
            "Epoch 6/10\n",
            "13/13 [==============================] - 66s 5s/step - loss: 0.5995 - accuracy: 0.6908 - val_loss: 0.5910 - val_accuracy: 0.6955\n",
            "Epoch 7/10\n",
            "13/13 [==============================] - 66s 5s/step - loss: 0.5895 - accuracy: 0.6902 - val_loss: 0.6024 - val_accuracy: 0.6771\n",
            "Epoch 8/10\n",
            "13/13 [==============================] - 67s 5s/step - loss: 0.6192 - accuracy: 0.6622 - val_loss: 0.6873 - val_accuracy: 0.6006\n",
            "Epoch 9/10\n",
            "13/13 [==============================] - 67s 5s/step - loss: 0.5882 - accuracy: 0.6932 - val_loss: 0.5823 - val_accuracy: 0.6799\n",
            "Epoch 10/10\n",
            "13/13 [==============================] - 66s 5s/step - loss: 0.5896 - accuracy: 0.6908 - val_loss: 0.5759 - val_accuracy: 0.6912\n"
          ]
        }
      ],
      "source": [
        "# training the model\n",
        "model_history = model.fit(X_train, y_train, epochs=10, batch_size=128,validation_data=(X_valid,y_valid))"
      ]
    },
    {
      "cell_type": "code",
      "execution_count": 119,
      "metadata": {
        "colab": {
          "base_uri": "https://localhost:8080/",
          "height": 193
        },
        "id": "aDzJTfM8ApXJ",
        "outputId": "51fa4e9d-c637-4f83-9ca9-70467fc7d952"
      },
      "outputs": [
        {
          "output_type": "stream",
          "name": "stdout",
          "text": [
            "52/52 [==============================] - 7s 129ms/step\n"
          ]
        },
        {
          "output_type": "error",
          "ename": "TypeError",
          "evalue": "'<' not supported between instances of 'tuple' and 'float'",
          "traceback": [
            "\u001b[0;31m---------------------------------------------------------------------------\u001b[0m",
            "\u001b[0;31mTypeError\u001b[0m                                 Traceback (most recent call last)",
            "\u001b[0;32m<ipython-input-119-bde4af982b10>\u001b[0m in \u001b[0;36m<cell line: 2>\u001b[0;34m()\u001b[0m\n\u001b[1;32m      1\u001b[0m \u001b[0;31m# accuracy on training set\u001b[0m\u001b[0;34m\u001b[0m\u001b[0;34m\u001b[0m\u001b[0m\n\u001b[0;32m----> 2\u001b[0;31m \u001b[0mprint\u001b[0m\u001b[0;34m(\u001b[0m\u001b[0;34m'Accuracy on training set:'\u001b[0m\u001b[0;34m,\u001b[0m \u001b[0maccuracy_score\u001b[0m\u001b[0;34m(\u001b[0m\u001b[0my_train\u001b[0m\u001b[0;34m,\u001b[0m \u001b[0mnp\u001b[0m\u001b[0;34m.\u001b[0m\u001b[0mwhere\u001b[0m\u001b[0;34m(\u001b[0m\u001b[0mmodel\u001b[0m\u001b[0;34m.\u001b[0m\u001b[0mpredict\u001b[0m\u001b[0;34m(\u001b[0m\u001b[0mX_train\u001b[0m\u001b[0;34m)\u001b[0m\u001b[0;34m.\u001b[0m\u001b[0mreshape\u001b[0m\u001b[0;34m(\u001b[0m\u001b[0;34m-\u001b[0m\u001b[0;36m1\u001b[0m\u001b[0;34m)\u001b[0m\u001b[0;34m)\u001b[0m \u001b[0;34m<\u001b[0m \u001b[0;36m0.5\u001b[0m\u001b[0;34m,\u001b[0m \u001b[0;36m0\u001b[0m\u001b[0;34m,\u001b[0m\u001b[0;36m1\u001b[0m\u001b[0;34m)\u001b[0m\u001b[0;34m)\u001b[0m\u001b[0;34m\u001b[0m\u001b[0;34m\u001b[0m\u001b[0m\n\u001b[0m\u001b[1;32m      3\u001b[0m \u001b[0;34m\u001b[0m\u001b[0m\n",
            "\u001b[0;31mTypeError\u001b[0m: '<' not supported between instances of 'tuple' and 'float'"
          ]
        }
      ],
      "source": [
        "# accuracy on training set\n",
        "print('Accuracy on training set:', accuracy_score(y_train, np.where(model.predict(X_train).reshape(-1)) < 0.5, 0,1))\n",
        "\n"
      ]
    },
    {
      "cell_type": "code",
      "source": [
        "# Reshape the prediction output to a 1D array\n",
        "y_pred = model.predict(X_train).reshape(-1)\n",
        "\n",
        "# Calculate the accuracy\n",
        "accuracy = accuracy_score(y_train, np.where(y_pred < 0.5, 0, 1))\n",
        "\n",
        "# Print the accuracy\n",
        "print('Accuracy on training set:', accuracy)"
      ],
      "metadata": {
        "colab": {
          "base_uri": "https://localhost:8080/"
        },
        "id": "3n-ka65RyEqX",
        "outputId": "7b5f9b4a-9a3c-4d14-cd08-b4dadab07fe8"
      },
      "execution_count": 120,
      "outputs": [
        {
          "output_type": "stream",
          "name": "stdout",
          "text": [
            "52/52 [==============================] - 7s 126ms/step\n",
            "Accuracy on training set: 0.7205346294046172\n"
          ]
        }
      ]
    },
    {
      "cell_type": "code",
      "execution_count": 121,
      "metadata": {
        "colab": {
          "base_uri": "https://localhost:8080/"
        },
        "id": "1TQxemUZApXJ",
        "outputId": "28231502-39bb-4d08-87fc-b0641825d477"
      },
      "outputs": [
        {
          "output_type": "stream",
          "name": "stdout",
          "text": [
            "23/23 [==============================] - 3s 125ms/step\n",
            "Accuracy on training set: 0.6912181303116147\n"
          ]
        }
      ],
      "source": [
        "# accuracy on validation set\n",
        "#print('Accuracy on validation set:', accuracy_score(y_valid, np.where(model.predict(X_valid)[:,0]) < 0.5, 0,1))\n",
        "# Reshape the prediction output to a 1D array\n",
        "y_vpred = model.predict(X_valid).reshape(-1)\n",
        "\n",
        "# Calculate the accuracy\n",
        "accuracy = accuracy_score(y_valid, np.where(y_vpred < 0.5, 0, 1))\n",
        "\n",
        "# Print the accuracy\n",
        "print('Accuracy on training set:', accuracy)"
      ]
    },
    {
      "cell_type": "markdown",
      "metadata": {
        "id": "sOCZcGB5YQSx"
      },
      "source": [
        "## 6. Changing padding technique"
      ]
    },
    {
      "cell_type": "code",
      "execution_count": 122,
      "metadata": {
        "id": "pyvT1mT8hKOY"
      },
      "outputs": [],
      "source": [
        "# change padding technique\n",
        "\n",
        "model = Sequential()\n",
        "\n",
        "model.add(InputLayer(input_shape=(224, 224, 3)))\n",
        "\n",
        "model.add(Conv2D(25, (5, 5), activation='relu', strides=(1, 1), padding='same'))\n",
        "model.add(Conv2D(50, (5, 5), activation='relu', strides=(1, 1), padding='same'))\n",
        "model.add(MaxPool2D(pool_size=(4, 4), padding='valid'))\n",
        "\n",
        "model.add(Flatten())\n",
        "\n",
        "model.add(Dense(units=100, activation='sigmoid'))\n",
        "model.add(Dense(units=1, activation='sigmoid'))\n",
        "\n",
        "model.compile(loss='binary_crossentropy', optimizer=\"sgd\", metrics=['accuracy'])"
      ]
    },
    {
      "cell_type": "code",
      "execution_count": 123,
      "metadata": {
        "colab": {
          "base_uri": "https://localhost:8080/"
        },
        "id": "cf-z6vIBYyzH",
        "outputId": "209fcbf1-b914-405f-d949-b534eed485ab"
      },
      "outputs": [
        {
          "output_type": "stream",
          "name": "stdout",
          "text": [
            "Model: \"sequential_10\"\n",
            "_________________________________________________________________\n",
            " Layer (type)                Output Shape              Param #   \n",
            "=================================================================\n",
            " conv2d_22 (Conv2D)          (None, 224, 224, 25)      1900      \n",
            "                                                                 \n",
            " conv2d_23 (Conv2D)          (None, 224, 224, 50)      31300     \n",
            "                                                                 \n",
            " max_pooling2d_9 (MaxPoolin  (None, 56, 56, 50)        0         \n",
            " g2D)                                                            \n",
            "                                                                 \n",
            " flatten_10 (Flatten)        (None, 156800)            0         \n",
            "                                                                 \n",
            " dense_20 (Dense)            (None, 100)               15680100  \n",
            "                                                                 \n",
            " dense_21 (Dense)            (None, 1)                 101       \n",
            "                                                                 \n",
            "=================================================================\n",
            "Total params: 15713401 (59.94 MB)\n",
            "Trainable params: 15713401 (59.94 MB)\n",
            "Non-trainable params: 0 (0.00 Byte)\n",
            "_________________________________________________________________\n"
          ]
        }
      ],
      "source": [
        "model.summary()"
      ]
    },
    {
      "cell_type": "code",
      "execution_count": 124,
      "metadata": {
        "colab": {
          "base_uri": "https://localhost:8080/"
        },
        "id": "FfeXcq8xYyzp",
        "outputId": "b52126b7-c3d4-4434-9f56-3af476334651"
      },
      "outputs": [
        {
          "output_type": "stream",
          "name": "stdout",
          "text": [
            "Epoch 1/10\n",
            "13/13 [==============================] - 70s 5s/step - loss: 0.6851 - accuracy: 0.5510 - val_loss: 0.6852 - val_accuracy: 0.5609\n",
            "Epoch 2/10\n",
            "13/13 [==============================] - 67s 5s/step - loss: 0.6709 - accuracy: 0.5857 - val_loss: 0.6810 - val_accuracy: 0.5609\n",
            "Epoch 3/10\n",
            "13/13 [==============================] - 68s 5s/step - loss: 0.6618 - accuracy: 0.5923 - val_loss: 0.6627 - val_accuracy: 0.5708\n",
            "Epoch 4/10\n",
            "13/13 [==============================] - 68s 5s/step - loss: 0.6536 - accuracy: 0.6160 - val_loss: 0.6519 - val_accuracy: 0.5977\n",
            "Epoch 5/10\n",
            "13/13 [==============================] - 68s 5s/step - loss: 0.6436 - accuracy: 0.6361 - val_loss: 0.6377 - val_accuracy: 0.6671\n",
            "Epoch 6/10\n",
            "13/13 [==============================] - 68s 5s/step - loss: 0.6335 - accuracy: 0.6525 - val_loss: 0.6339 - val_accuracy: 0.6317\n",
            "Epoch 7/10\n",
            "13/13 [==============================] - 68s 5s/step - loss: 0.6245 - accuracy: 0.6598 - val_loss: 0.6189 - val_accuracy: 0.6686\n",
            "Epoch 8/10\n",
            "13/13 [==============================] - 68s 5s/step - loss: 0.6181 - accuracy: 0.6640 - val_loss: 0.6081 - val_accuracy: 0.6841\n",
            "Epoch 9/10\n",
            "13/13 [==============================] - 68s 5s/step - loss: 0.6062 - accuracy: 0.6871 - val_loss: 0.6020 - val_accuracy: 0.6827\n",
            "Epoch 10/10\n",
            "13/13 [==============================] - 68s 5s/step - loss: 0.6204 - accuracy: 0.6707 - val_loss: 0.6041 - val_accuracy: 0.6742\n"
          ]
        }
      ],
      "source": [
        "# training the model\n",
        "model_history = model.fit(X_train, y_train, epochs=10, batch_size=128,validation_data=(X_valid,y_valid))"
      ]
    },
    {
      "cell_type": "code",
      "execution_count": null,
      "metadata": {
        "colab": {
          "base_uri": "https://localhost:8080/",
          "height": 34
        },
        "id": "N3K4n3cIApXK",
        "outputId": "7581451c-b624-4e2e-8702-e351e8bac56f"
      },
      "outputs": [
        {
          "name": "stdout",
          "output_type": "stream",
          "text": [
            "Accuracy on training set: 0.6318347509113001 %\n"
          ]
        }
      ],
      "source": [
        "# accuracy on training set\n",
        "print('Accuracy on training set:', accuracy_score(y_train, np.where(model.predict(X_train)[:,0]) < 0.5, 0,1))\n"
      ]
    },
    {
      "cell_type": "code",
      "source": [
        "# Reshape the prediction output to a 1D array\n",
        "y_pred = model.predict(X_train).reshape(-1)\n",
        "\n",
        "# Calculate the accuracy\n",
        "accuracy = accuracy_score(y_train, np.where(y_pred < 0.5, 0, 1))\n",
        "\n",
        "# Print the accuracy\n",
        "print('Accuracy on training set:', accuracy)\n"
      ],
      "metadata": {
        "colab": {
          "base_uri": "https://localhost:8080/"
        },
        "id": "x4og5LRl3C4e",
        "outputId": "21bb27b9-9c8b-4fa4-b045-279fa4146175"
      },
      "execution_count": 125,
      "outputs": [
        {
          "output_type": "stream",
          "name": "stdout",
          "text": [
            "52/52 [==============================] - 7s 130ms/step\n",
            "Accuracy on training set: 0.6907654921020656\n"
          ]
        }
      ]
    },
    {
      "cell_type": "code",
      "execution_count": null,
      "metadata": {
        "colab": {
          "base_uri": "https://localhost:8080/",
          "height": 34
        },
        "id": "DuYTxNlLApXK",
        "outputId": "f6af5e11-f340-43df-cc88-08ed728239a1"
      },
      "outputs": [
        {
          "name": "stdout",
          "output_type": "stream",
          "text": [
            "Accuracy on validation set: 0.623229461756374 %\n"
          ]
        }
      ],
      "source": [
        "# accuracy on validation set\n",
        "print('Accuracy on validation set:', accuracy_score(y_valid, np.where(model.predict(X_valid)[:,0]) < 0.5, 0,1))\n"
      ]
    },
    {
      "cell_type": "code",
      "source": [
        "# Reshape the prediction output to a 1D array\n",
        "y_vpred = model.predict(X_valid).reshape(-1)\n",
        "\n",
        "# Calculate the accuracy\n",
        "accuracy = accuracy_score(y_valid, np.where(y_vpred < 0.5, 0, 1))\n",
        "\n",
        "# Print the accuracy\n",
        "print('Accuracy on training set:', accuracy)"
      ],
      "metadata": {
        "colab": {
          "base_uri": "https://localhost:8080/"
        },
        "id": "Vcmf6N0q3GYX",
        "outputId": "fef82d0b-463b-44f1-fbef-dde6a18f0ff4"
      },
      "execution_count": 126,
      "outputs": [
        {
          "output_type": "stream",
          "name": "stdout",
          "text": [
            "23/23 [==============================] - 3s 122ms/step\n",
            "Accuracy on training set: 0.6742209631728046\n"
          ]
        }
      ]
    },
    {
      "cell_type": "markdown",
      "metadata": {
        "id": "gSYrnrv-Y3qZ"
      },
      "source": [
        "## 7. Changing stride"
      ]
    },
    {
      "cell_type": "code",
      "execution_count": 127,
      "metadata": {
        "id": "9l6Qo3oehKOm"
      },
      "outputs": [],
      "source": [
        "# changing stride\n",
        "\n",
        "model = Sequential()\n",
        "\n",
        "model.add(InputLayer(input_shape=(224, 224, 3)))\n",
        "\n",
        "model.add(Conv2D(25, (5, 5), activation='relu', strides=(2, 2), padding='valid'))\n",
        "model.add(Conv2D(50, (5, 5), activation='relu', strides=(1, 1), padding='valid'))\n",
        "model.add(MaxPool2D(pool_size=(4, 4), padding='valid'))\n",
        "\n",
        "model.add(Flatten())\n",
        "\n",
        "model.add(Dense(units=100, activation='sigmoid'))\n",
        "model.add(Dense(units=1, activation='sigmoid'))\n",
        "\n",
        "model.compile(loss='binary_crossentropy', optimizer=\"sgd\", metrics=['accuracy'])"
      ]
    },
    {
      "cell_type": "code",
      "execution_count": 128,
      "metadata": {
        "colab": {
          "base_uri": "https://localhost:8080/"
        },
        "id": "tctf_89BhKO0",
        "outputId": "20c7140f-6132-4aa9-b47b-0479ee4ebf87"
      },
      "outputs": [
        {
          "output_type": "stream",
          "name": "stdout",
          "text": [
            "Model: \"sequential_11\"\n",
            "_________________________________________________________________\n",
            " Layer (type)                Output Shape              Param #   \n",
            "=================================================================\n",
            " conv2d_24 (Conv2D)          (None, 110, 110, 25)      1900      \n",
            "                                                                 \n",
            " conv2d_25 (Conv2D)          (None, 106, 106, 50)      31300     \n",
            "                                                                 \n",
            " max_pooling2d_10 (MaxPooli  (None, 26, 26, 50)        0         \n",
            " ng2D)                                                           \n",
            "                                                                 \n",
            " flatten_11 (Flatten)        (None, 33800)             0         \n",
            "                                                                 \n",
            " dense_22 (Dense)            (None, 100)               3380100   \n",
            "                                                                 \n",
            " dense_23 (Dense)            (None, 1)                 101       \n",
            "                                                                 \n",
            "=================================================================\n",
            "Total params: 3413401 (13.02 MB)\n",
            "Trainable params: 3413401 (13.02 MB)\n",
            "Non-trainable params: 0 (0.00 Byte)\n",
            "_________________________________________________________________\n"
          ]
        }
      ],
      "source": [
        "model.summary()"
      ]
    },
    {
      "cell_type": "code",
      "execution_count": 129,
      "metadata": {
        "colab": {
          "base_uri": "https://localhost:8080/"
        },
        "id": "Nb5q7nbpZ5ua",
        "outputId": "47385437-7962-45c5-c543-364bae26fc02"
      },
      "outputs": [
        {
          "output_type": "stream",
          "name": "stdout",
          "text": [
            "Epoch 1/10\n",
            "13/13 [==============================] - 19s 1s/step - loss: 0.7260 - accuracy: 0.5103 - val_loss: 0.6974 - val_accuracy: 0.5397\n",
            "Epoch 2/10\n",
            "13/13 [==============================] - 17s 1s/step - loss: 0.6835 - accuracy: 0.5765 - val_loss: 0.6883 - val_accuracy: 0.5368\n",
            "Epoch 3/10\n",
            "13/13 [==============================] - 17s 1s/step - loss: 0.6765 - accuracy: 0.5765 - val_loss: 0.6820 - val_accuracy: 0.5609\n",
            "Epoch 4/10\n",
            "13/13 [==============================] - 17s 1s/step - loss: 0.6710 - accuracy: 0.5863 - val_loss: 0.6747 - val_accuracy: 0.5609\n",
            "Epoch 5/10\n",
            "13/13 [==============================] - 17s 1s/step - loss: 0.6640 - accuracy: 0.5990 - val_loss: 0.6715 - val_accuracy: 0.5567\n",
            "Epoch 6/10\n",
            "13/13 [==============================] - 17s 1s/step - loss: 0.6583 - accuracy: 0.5966 - val_loss: 0.6582 - val_accuracy: 0.6020\n",
            "Epoch 7/10\n",
            "13/13 [==============================] - 17s 1s/step - loss: 0.6501 - accuracy: 0.6276 - val_loss: 0.6488 - val_accuracy: 0.6601\n",
            "Epoch 8/10\n",
            "13/13 [==============================] - 17s 1s/step - loss: 0.6430 - accuracy: 0.6397 - val_loss: 0.6474 - val_accuracy: 0.5977\n",
            "Epoch 9/10\n",
            "13/13 [==============================] - 17s 1s/step - loss: 0.6405 - accuracy: 0.6422 - val_loss: 0.6408 - val_accuracy: 0.6176\n",
            "Epoch 10/10\n",
            "13/13 [==============================] - 17s 1s/step - loss: 0.6290 - accuracy: 0.6561 - val_loss: 0.6255 - val_accuracy: 0.6785\n"
          ]
        }
      ],
      "source": [
        "# training the model\n",
        "model_history = model.fit(X_train, y_train, epochs=10, batch_size=128,validation_data=(X_valid,y_valid))"
      ]
    },
    {
      "cell_type": "code",
      "execution_count": null,
      "metadata": {
        "colab": {
          "base_uri": "https://localhost:8080/",
          "height": 34
        },
        "id": "G-deMLQHApXL",
        "outputId": "7581451c-b624-4e2e-8702-e351e8bac56f"
      },
      "outputs": [
        {
          "name": "stdout",
          "output_type": "stream",
          "text": [
            "Accuracy on training set: 0.6318347509113001 %\n"
          ]
        }
      ],
      "source": [
        "# accuracy on training set\n",
        "print('Accuracy on training set:', accuracy_score(y_train, np.where(model.predict(X_train)[:,0]) < 0.5, 0,1))"
      ]
    },
    {
      "cell_type": "code",
      "source": [
        "# Reshape the prediction output to a 1D array\n",
        "y_pred = model.predict(X_train).reshape(-1)\n",
        "\n",
        "# Calculate the accuracy\n",
        "accuracy = accuracy_score(y_train, np.where(y_pred < 0.5, 0, 1))\n",
        "\n",
        "# Print the accuracy\n",
        "print('Accuracy on training set:', accuracy)"
      ],
      "metadata": {
        "colab": {
          "base_uri": "https://localhost:8080/"
        },
        "id": "TJc16JCM4Sth",
        "outputId": "ca5cf270-effc-44d3-a44d-9e6be222626b"
      },
      "execution_count": 130,
      "outputs": [
        {
          "output_type": "stream",
          "name": "stdout",
          "text": [
            "52/52 [==============================] - 2s 31ms/step\n",
            "Accuracy on training set: 0.6749696233292831\n"
          ]
        }
      ]
    },
    {
      "cell_type": "code",
      "execution_count": null,
      "metadata": {
        "colab": {
          "base_uri": "https://localhost:8080/",
          "height": 34
        },
        "id": "LLq5Y9vGApXL",
        "outputId": "f6af5e11-f340-43df-cc88-08ed728239a1"
      },
      "outputs": [
        {
          "name": "stdout",
          "output_type": "stream",
          "text": [
            "Accuracy on validation set: 0.623229461756374 %\n"
          ]
        }
      ],
      "source": [
        "# accuracy on validation set\n",
        "print('Accuracy on validation set:', accuracy_score(y_valid, np.where(model.predict(X_valid)[:,0]) < 0.5, 0,1))"
      ]
    },
    {
      "cell_type": "code",
      "source": [
        "# Reshape the prediction output to a 1D array\n",
        "y_vpred = model.predict(X_valid).reshape(-1)\n",
        "\n",
        "# Calculate the accuracy\n",
        "accuracy = accuracy_score(y_valid, np.where(y_vpred < 0.5, 0, 1))\n",
        "\n",
        "# Print the accuracy\n",
        "print('Accuracy on validation set:', accuracy)"
      ],
      "metadata": {
        "colab": {
          "base_uri": "https://localhost:8080/"
        },
        "id": "LgJ_4AzY4Tuy",
        "outputId": "eb349822-771f-4597-a532-4eb342a00a2f"
      },
      "execution_count": 131,
      "outputs": [
        {
          "output_type": "stream",
          "name": "stdout",
          "text": [
            "23/23 [==============================] - 1s 30ms/step\n",
            "Accuracy on training set: 0.6784702549575071\n"
          ]
        }
      ]
    },
    {
      "cell_type": "markdown",
      "metadata": {
        "id": "8TUZlzVvb7EW"
      },
      "source": [
        "## Combining Hyperparameter tuning"
      ]
    },
    {
      "cell_type": "code",
      "execution_count": 132,
      "metadata": {
        "id": "D5fIqq0ocA5r"
      },
      "outputs": [],
      "source": [
        "# defining the model architecture with maxpool layer\n",
        "\n",
        "model = Sequential()\n",
        "\n",
        "model.add(InputLayer(input_shape=(224, 224, 3)))\n",
        "\n",
        "model.add(Conv2D(50, (5, 5), activation='relu', strides=(1, 1), padding='valid'))\n",
        "model.add(MaxPool2D(pool_size=(2, 2), padding='valid'))\n",
        "model.add(Conv2D(50, (5, 5), activation='relu', strides=(1, 1), padding='valid'))\n",
        "model.add(MaxPool2D(pool_size=(4, 4), padding='valid'))\n",
        "\n",
        "model.add(Flatten())\n",
        "\n",
        "model.add(Dense(units=100, activation='relu'))\n",
        "model.add(BatchNormalization())\n",
        "model.add(Dropout(rate=0.6))\n",
        "model.add(Dense(units=100, activation='relu'))\n",
        "model.add(BatchNormalization())\n",
        "model.add(Dropout(rate=0.6))\n",
        "model.add(Dense(units=1, activation='sigmoid'))\n",
        "\n",
        "# compiling the model\n",
        "model.compile(loss='binary_crossentropy', optimizer=\"adam\", metrics=['accuracy'])"
      ]
    },
    {
      "cell_type": "code",
      "execution_count": 133,
      "metadata": {
        "colab": {
          "base_uri": "https://localhost:8080/"
        },
        "id": "3-SYPJ7ccxO_",
        "outputId": "1bd98ccf-8aa7-4a5e-f7d5-fcfd931be49b"
      },
      "outputs": [
        {
          "output_type": "stream",
          "name": "stdout",
          "text": [
            "Model: \"sequential_12\"\n",
            "_________________________________________________________________\n",
            " Layer (type)                Output Shape              Param #   \n",
            "=================================================================\n",
            " conv2d_26 (Conv2D)          (None, 220, 220, 50)      3800      \n",
            "                                                                 \n",
            " max_pooling2d_11 (MaxPooli  (None, 110, 110, 50)      0         \n",
            " ng2D)                                                           \n",
            "                                                                 \n",
            " conv2d_27 (Conv2D)          (None, 106, 106, 50)      62550     \n",
            "                                                                 \n",
            " max_pooling2d_12 (MaxPooli  (None, 26, 26, 50)        0         \n",
            " ng2D)                                                           \n",
            "                                                                 \n",
            " flatten_12 (Flatten)        (None, 33800)             0         \n",
            "                                                                 \n",
            " dense_24 (Dense)            (None, 100)               3380100   \n",
            "                                                                 \n",
            " batch_normalization (Batch  (None, 100)               400       \n",
            " Normalization)                                                  \n",
            "                                                                 \n",
            " dropout (Dropout)           (None, 100)               0         \n",
            "                                                                 \n",
            " dense_25 (Dense)            (None, 100)               10100     \n",
            "                                                                 \n",
            " batch_normalization_1 (Bat  (None, 100)               400       \n",
            " chNormalization)                                                \n",
            "                                                                 \n",
            " dropout_1 (Dropout)         (None, 100)               0         \n",
            "                                                                 \n",
            " dense_26 (Dense)            (None, 1)                 101       \n",
            "                                                                 \n",
            "=================================================================\n",
            "Total params: 3457451 (13.19 MB)\n",
            "Trainable params: 3457051 (13.19 MB)\n",
            "Non-trainable params: 400 (1.56 KB)\n",
            "_________________________________________________________________\n"
          ]
        }
      ],
      "source": [
        "model.summary()"
      ]
    },
    {
      "cell_type": "code",
      "execution_count": 134,
      "metadata": {
        "colab": {
          "base_uri": "https://localhost:8080/"
        },
        "id": "z4r5Ujo4cxPg",
        "outputId": "bd2dab30-f5bc-40ff-dbe2-957dd0db2de6"
      },
      "outputs": [
        {
          "output_type": "stream",
          "name": "stdout",
          "text": [
            "Epoch 1/100\n",
            "13/13 [==============================] - 42s 3s/step - loss: 0.9127 - accuracy: 0.5911 - val_loss: 0.5754 - val_accuracy: 0.7365\n",
            "Epoch 2/100\n",
            "13/13 [==============================] - 39s 3s/step - loss: 0.6681 - accuracy: 0.7096 - val_loss: 0.5029 - val_accuracy: 0.7776\n",
            "Epoch 3/100\n",
            "13/13 [==============================] - 39s 3s/step - loss: 0.5851 - accuracy: 0.7558 - val_loss: 0.4843 - val_accuracy: 0.7805\n",
            "Epoch 4/100\n",
            "13/13 [==============================] - 39s 3s/step - loss: 0.5517 - accuracy: 0.7655 - val_loss: 0.4602 - val_accuracy: 0.8102\n",
            "Epoch 5/100\n",
            "13/13 [==============================] - 39s 3s/step - loss: 0.4590 - accuracy: 0.8056 - val_loss: 0.5358 - val_accuracy: 0.7266\n",
            "Epoch 6/100\n",
            "13/13 [==============================] - 39s 3s/step - loss: 0.4146 - accuracy: 0.8238 - val_loss: 1.2682 - val_accuracy: 0.4816\n",
            "Epoch 7/100\n",
            "13/13 [==============================] - 39s 3s/step - loss: 0.3605 - accuracy: 0.8578 - val_loss: 0.3832 - val_accuracy: 0.8357\n",
            "Epoch 8/100\n",
            "13/13 [==============================] - 39s 3s/step - loss: 0.3037 - accuracy: 0.8748 - val_loss: 0.4257 - val_accuracy: 0.8144\n",
            "Epoch 9/100\n",
            "13/13 [==============================] - 39s 3s/step - loss: 0.2576 - accuracy: 0.9022 - val_loss: 0.4131 - val_accuracy: 0.8045\n",
            "Epoch 10/100\n",
            "13/13 [==============================] - 39s 3s/step - loss: 0.2126 - accuracy: 0.9131 - val_loss: 0.5319 - val_accuracy: 0.7776\n",
            "Epoch 11/100\n",
            "13/13 [==============================] - 39s 3s/step - loss: 0.1883 - accuracy: 0.9307 - val_loss: 0.3794 - val_accuracy: 0.8272\n",
            "Epoch 12/100\n",
            "13/13 [==============================] - 39s 3s/step - loss: 0.1648 - accuracy: 0.9380 - val_loss: 0.3549 - val_accuracy: 0.8555\n",
            "Epoch 13/100\n",
            "13/13 [==============================] - 39s 3s/step - loss: 0.1379 - accuracy: 0.9502 - val_loss: 0.5342 - val_accuracy: 0.7890\n",
            "Epoch 14/100\n",
            "13/13 [==============================] - 39s 3s/step - loss: 0.1300 - accuracy: 0.9526 - val_loss: 0.5643 - val_accuracy: 0.8017\n",
            "Epoch 15/100\n",
            "13/13 [==============================] - 39s 3s/step - loss: 0.1108 - accuracy: 0.9605 - val_loss: 0.5117 - val_accuracy: 0.7918\n",
            "Epoch 16/100\n",
            "13/13 [==============================] - 39s 3s/step - loss: 0.1004 - accuracy: 0.9684 - val_loss: 0.4297 - val_accuracy: 0.8399\n",
            "Epoch 17/100\n",
            "13/13 [==============================] - 39s 3s/step - loss: 0.0894 - accuracy: 0.9721 - val_loss: 0.5342 - val_accuracy: 0.8088\n",
            "Epoch 18/100\n",
            "13/13 [==============================] - 39s 3s/step - loss: 0.0679 - accuracy: 0.9793 - val_loss: 1.3322 - val_accuracy: 0.6657\n",
            "Epoch 19/100\n",
            "13/13 [==============================] - 39s 3s/step - loss: 0.0725 - accuracy: 0.9787 - val_loss: 0.4398 - val_accuracy: 0.8456\n",
            "Epoch 20/100\n",
            "13/13 [==============================] - 39s 3s/step - loss: 0.0593 - accuracy: 0.9842 - val_loss: 0.5900 - val_accuracy: 0.8088\n",
            "Epoch 21/100\n",
            "13/13 [==============================] - 39s 3s/step - loss: 0.0589 - accuracy: 0.9848 - val_loss: 0.9712 - val_accuracy: 0.7606\n",
            "Epoch 22/100\n",
            "13/13 [==============================] - 39s 3s/step - loss: 0.0472 - accuracy: 0.9824 - val_loss: 0.5181 - val_accuracy: 0.8329\n",
            "Epoch 23/100\n",
            "13/13 [==============================] - 39s 3s/step - loss: 0.0363 - accuracy: 0.9903 - val_loss: 0.5123 - val_accuracy: 0.8442\n",
            "Epoch 24/100\n",
            "13/13 [==============================] - 39s 3s/step - loss: 0.0411 - accuracy: 0.9891 - val_loss: 0.4988 - val_accuracy: 0.8456\n",
            "Epoch 25/100\n",
            "13/13 [==============================] - 39s 3s/step - loss: 0.0303 - accuracy: 0.9921 - val_loss: 0.5263 - val_accuracy: 0.8442\n",
            "Epoch 26/100\n",
            "13/13 [==============================] - 39s 3s/step - loss: 0.0385 - accuracy: 0.9903 - val_loss: 0.4862 - val_accuracy: 0.8541\n",
            "Epoch 27/100\n",
            "13/13 [==============================] - 39s 3s/step - loss: 0.0270 - accuracy: 0.9964 - val_loss: 1.0708 - val_accuracy: 0.7436\n",
            "Epoch 28/100\n",
            "13/13 [==============================] - 39s 3s/step - loss: 0.0277 - accuracy: 0.9921 - val_loss: 0.5079 - val_accuracy: 0.8527\n",
            "Epoch 29/100\n",
            "13/13 [==============================] - 39s 3s/step - loss: 0.0326 - accuracy: 0.9921 - val_loss: 0.5430 - val_accuracy: 0.8442\n",
            "Epoch 30/100\n",
            "13/13 [==============================] - 39s 3s/step - loss: 0.0213 - accuracy: 0.9957 - val_loss: 1.5381 - val_accuracy: 0.6898\n",
            "Epoch 31/100\n",
            "13/13 [==============================] - 39s 3s/step - loss: 0.0324 - accuracy: 0.9939 - val_loss: 0.7371 - val_accuracy: 0.8059\n",
            "Epoch 32/100\n",
            "13/13 [==============================] - 39s 3s/step - loss: 0.0275 - accuracy: 0.9921 - val_loss: 0.6993 - val_accuracy: 0.8272\n",
            "Epoch 33/100\n",
            "13/13 [==============================] - 39s 3s/step - loss: 0.0185 - accuracy: 0.9970 - val_loss: 1.0237 - val_accuracy: 0.7720\n",
            "Epoch 34/100\n",
            "13/13 [==============================] - 39s 3s/step - loss: 0.0234 - accuracy: 0.9951 - val_loss: 0.6192 - val_accuracy: 0.8456\n",
            "Epoch 35/100\n",
            "13/13 [==============================] - 39s 3s/step - loss: 0.0213 - accuracy: 0.9951 - val_loss: 0.5478 - val_accuracy: 0.8513\n",
            "Epoch 36/100\n",
            "13/13 [==============================] - 39s 3s/step - loss: 0.0222 - accuracy: 0.9945 - val_loss: 0.5800 - val_accuracy: 0.8484\n",
            "Epoch 37/100\n",
            "13/13 [==============================] - 39s 3s/step - loss: 0.0136 - accuracy: 0.9982 - val_loss: 0.6069 - val_accuracy: 0.8470\n",
            "Epoch 38/100\n",
            "13/13 [==============================] - 39s 3s/step - loss: 0.0169 - accuracy: 0.9970 - val_loss: 0.6431 - val_accuracy: 0.8499\n",
            "Epoch 39/100\n",
            "13/13 [==============================] - 39s 3s/step - loss: 0.0165 - accuracy: 0.9957 - val_loss: 0.7199 - val_accuracy: 0.8300\n",
            "Epoch 40/100\n",
            "13/13 [==============================] - 39s 3s/step - loss: 0.0191 - accuracy: 0.9951 - val_loss: 0.6219 - val_accuracy: 0.8329\n",
            "Epoch 41/100\n",
            "13/13 [==============================] - 39s 3s/step - loss: 0.0178 - accuracy: 0.9964 - val_loss: 0.6386 - val_accuracy: 0.8456\n",
            "Epoch 42/100\n",
            "13/13 [==============================] - 39s 3s/step - loss: 0.0237 - accuracy: 0.9951 - val_loss: 0.7408 - val_accuracy: 0.8102\n",
            "Epoch 43/100\n",
            "13/13 [==============================] - 39s 3s/step - loss: 0.0201 - accuracy: 0.9957 - val_loss: 0.7496 - val_accuracy: 0.8456\n",
            "Epoch 44/100\n",
            "13/13 [==============================] - 39s 3s/step - loss: 0.0192 - accuracy: 0.9939 - val_loss: 0.7022 - val_accuracy: 0.8300\n",
            "Epoch 45/100\n",
            "13/13 [==============================] - 39s 3s/step - loss: 0.0227 - accuracy: 0.9915 - val_loss: 0.7409 - val_accuracy: 0.8272\n",
            "Epoch 46/100\n",
            "13/13 [==============================] - 39s 3s/step - loss: 0.0200 - accuracy: 0.9951 - val_loss: 0.7182 - val_accuracy: 0.8343\n",
            "Epoch 47/100\n",
            "13/13 [==============================] - 39s 3s/step - loss: 0.0251 - accuracy: 0.9951 - val_loss: 1.1803 - val_accuracy: 0.7805\n",
            "Epoch 48/100\n",
            "13/13 [==============================] - 40s 3s/step - loss: 0.0200 - accuracy: 0.9933 - val_loss: 0.6726 - val_accuracy: 0.8456\n",
            "Epoch 49/100\n",
            "13/13 [==============================] - 39s 3s/step - loss: 0.0179 - accuracy: 0.9964 - val_loss: 1.1765 - val_accuracy: 0.7819\n",
            "Epoch 50/100\n",
            "13/13 [==============================] - 39s 3s/step - loss: 0.0198 - accuracy: 0.9964 - val_loss: 0.7564 - val_accuracy: 0.8329\n",
            "Epoch 51/100\n",
            "13/13 [==============================] - 39s 3s/step - loss: 0.0096 - accuracy: 0.9982 - val_loss: 0.7815 - val_accuracy: 0.8541\n",
            "Epoch 52/100\n",
            "13/13 [==============================] - 39s 3s/step - loss: 0.0270 - accuracy: 0.9951 - val_loss: 0.6577 - val_accuracy: 0.8385\n",
            "Epoch 53/100\n",
            "13/13 [==============================] - 39s 3s/step - loss: 0.0229 - accuracy: 0.9933 - val_loss: 0.6419 - val_accuracy: 0.8442\n",
            "Epoch 54/100\n",
            "13/13 [==============================] - 39s 3s/step - loss: 0.0367 - accuracy: 0.9909 - val_loss: 1.0303 - val_accuracy: 0.8201\n",
            "Epoch 55/100\n",
            "13/13 [==============================] - 39s 3s/step - loss: 0.0329 - accuracy: 0.9903 - val_loss: 0.8388 - val_accuracy: 0.8258\n",
            "Epoch 56/100\n",
            "13/13 [==============================] - 39s 3s/step - loss: 0.0282 - accuracy: 0.9939 - val_loss: 1.0640 - val_accuracy: 0.8173\n",
            "Epoch 57/100\n",
            "13/13 [==============================] - 39s 3s/step - loss: 0.0242 - accuracy: 0.9939 - val_loss: 1.2338 - val_accuracy: 0.7790\n",
            "Epoch 58/100\n",
            "13/13 [==============================] - 39s 3s/step - loss: 0.0145 - accuracy: 0.9970 - val_loss: 0.8746 - val_accuracy: 0.8088\n",
            "Epoch 59/100\n",
            "13/13 [==============================] - 39s 3s/step - loss: 0.0312 - accuracy: 0.9939 - val_loss: 1.5616 - val_accuracy: 0.7493\n",
            "Epoch 60/100\n",
            "13/13 [==============================] - 39s 3s/step - loss: 0.0232 - accuracy: 0.9939 - val_loss: 1.6019 - val_accuracy: 0.7125\n",
            "Epoch 61/100\n",
            "13/13 [==============================] - 39s 3s/step - loss: 0.0259 - accuracy: 0.9939 - val_loss: 1.0404 - val_accuracy: 0.8045\n",
            "Epoch 62/100\n",
            "13/13 [==============================] - 39s 3s/step - loss: 0.0237 - accuracy: 0.9897 - val_loss: 1.0339 - val_accuracy: 0.7890\n",
            "Epoch 63/100\n",
            "13/13 [==============================] - 39s 3s/step - loss: 0.0123 - accuracy: 0.9964 - val_loss: 0.8024 - val_accuracy: 0.8244\n",
            "Epoch 64/100\n",
            "13/13 [==============================] - 39s 3s/step - loss: 0.0220 - accuracy: 0.9976 - val_loss: 0.8533 - val_accuracy: 0.8201\n",
            "Epoch 65/100\n",
            "13/13 [==============================] - 39s 3s/step - loss: 0.0186 - accuracy: 0.9964 - val_loss: 0.6969 - val_accuracy: 0.8442\n",
            "Epoch 66/100\n",
            "13/13 [==============================] - 39s 3s/step - loss: 0.0327 - accuracy: 0.9921 - val_loss: 1.1634 - val_accuracy: 0.7805\n",
            "Epoch 67/100\n",
            "13/13 [==============================] - 39s 3s/step - loss: 0.0250 - accuracy: 0.9964 - val_loss: 0.7204 - val_accuracy: 0.8414\n",
            "Epoch 68/100\n",
            "13/13 [==============================] - 39s 3s/step - loss: 0.0185 - accuracy: 0.9957 - val_loss: 1.1132 - val_accuracy: 0.7932\n",
            "Epoch 69/100\n",
            "13/13 [==============================] - 39s 3s/step - loss: 0.0178 - accuracy: 0.9964 - val_loss: 0.7731 - val_accuracy: 0.8286\n",
            "Epoch 70/100\n",
            "13/13 [==============================] - 39s 3s/step - loss: 0.0232 - accuracy: 0.9957 - val_loss: 0.8042 - val_accuracy: 0.8286\n",
            "Epoch 71/100\n",
            "13/13 [==============================] - 39s 3s/step - loss: 0.0095 - accuracy: 0.9976 - val_loss: 1.2574 - val_accuracy: 0.7833\n",
            "Epoch 72/100\n",
            "13/13 [==============================] - 39s 3s/step - loss: 0.0141 - accuracy: 0.9957 - val_loss: 1.2411 - val_accuracy: 0.7875\n",
            "Epoch 73/100\n",
            "13/13 [==============================] - 39s 3s/step - loss: 0.0143 - accuracy: 0.9957 - val_loss: 0.9814 - val_accuracy: 0.8215\n",
            "Epoch 74/100\n",
            "13/13 [==============================] - 39s 3s/step - loss: 0.0093 - accuracy: 0.9976 - val_loss: 0.7682 - val_accuracy: 0.8385\n",
            "Epoch 75/100\n",
            "13/13 [==============================] - 39s 3s/step - loss: 0.0117 - accuracy: 0.9970 - val_loss: 1.1893 - val_accuracy: 0.7989\n",
            "Epoch 76/100\n",
            "13/13 [==============================] - 39s 3s/step - loss: 0.0175 - accuracy: 0.9970 - val_loss: 1.0124 - val_accuracy: 0.8173\n",
            "Epoch 77/100\n",
            "13/13 [==============================] - 39s 3s/step - loss: 0.0186 - accuracy: 0.9933 - val_loss: 1.5276 - val_accuracy: 0.7705\n",
            "Epoch 78/100\n",
            "13/13 [==============================] - 39s 3s/step - loss: 0.0087 - accuracy: 0.9970 - val_loss: 0.8358 - val_accuracy: 0.8399\n",
            "Epoch 79/100\n",
            "13/13 [==============================] - 39s 3s/step - loss: 0.0087 - accuracy: 0.9982 - val_loss: 0.8728 - val_accuracy: 0.8272\n",
            "Epoch 80/100\n",
            "13/13 [==============================] - 39s 3s/step - loss: 0.0146 - accuracy: 0.9951 - val_loss: 1.0715 - val_accuracy: 0.8045\n",
            "Epoch 81/100\n",
            "13/13 [==============================] - 39s 3s/step - loss: 0.0306 - accuracy: 0.9951 - val_loss: 0.7647 - val_accuracy: 0.8258\n",
            "Epoch 82/100\n",
            "13/13 [==============================] - 39s 3s/step - loss: 0.0144 - accuracy: 0.9970 - val_loss: 0.9578 - val_accuracy: 0.8144\n",
            "Epoch 83/100\n",
            "13/13 [==============================] - 39s 3s/step - loss: 0.0129 - accuracy: 0.9970 - val_loss: 0.7917 - val_accuracy: 0.8399\n",
            "Epoch 84/100\n",
            "13/13 [==============================] - 39s 3s/step - loss: 0.0236 - accuracy: 0.9957 - val_loss: 0.8785 - val_accuracy: 0.8258\n",
            "Epoch 85/100\n",
            "13/13 [==============================] - 39s 3s/step - loss: 0.0146 - accuracy: 0.9970 - val_loss: 1.7081 - val_accuracy: 0.7521\n",
            "Epoch 86/100\n",
            "13/13 [==============================] - 39s 3s/step - loss: 0.0123 - accuracy: 0.9982 - val_loss: 0.9660 - val_accuracy: 0.8399\n",
            "Epoch 87/100\n",
            "13/13 [==============================] - 39s 3s/step - loss: 0.0169 - accuracy: 0.9970 - val_loss: 1.1329 - val_accuracy: 0.8201\n",
            "Epoch 88/100\n",
            "13/13 [==============================] - 39s 3s/step - loss: 0.0133 - accuracy: 0.9964 - val_loss: 0.9074 - val_accuracy: 0.8329\n",
            "Epoch 89/100\n",
            "13/13 [==============================] - 39s 3s/step - loss: 0.0154 - accuracy: 0.9964 - val_loss: 0.8499 - val_accuracy: 0.8371\n",
            "Epoch 90/100\n",
            "13/13 [==============================] - 39s 3s/step - loss: 0.0127 - accuracy: 0.9970 - val_loss: 0.6692 - val_accuracy: 0.8456\n",
            "Epoch 91/100\n",
            "13/13 [==============================] - 39s 3s/step - loss: 0.0112 - accuracy: 0.9976 - val_loss: 0.8441 - val_accuracy: 0.8215\n",
            "Epoch 92/100\n",
            "13/13 [==============================] - 39s 3s/step - loss: 0.0134 - accuracy: 0.9957 - val_loss: 0.6793 - val_accuracy: 0.8442\n",
            "Epoch 93/100\n",
            "13/13 [==============================] - 39s 3s/step - loss: 0.0060 - accuracy: 0.9976 - val_loss: 0.7150 - val_accuracy: 0.8414\n",
            "Epoch 94/100\n",
            "13/13 [==============================] - 39s 3s/step - loss: 0.0249 - accuracy: 0.9964 - val_loss: 0.7089 - val_accuracy: 0.8399\n",
            "Epoch 95/100\n",
            "13/13 [==============================] - 39s 3s/step - loss: 0.0120 - accuracy: 0.9970 - val_loss: 0.6872 - val_accuracy: 0.8598\n",
            "Epoch 96/100\n",
            "13/13 [==============================] - 40s 3s/step - loss: 0.0196 - accuracy: 0.9939 - val_loss: 1.0834 - val_accuracy: 0.7904\n",
            "Epoch 97/100\n",
            "13/13 [==============================] - 40s 3s/step - loss: 0.0141 - accuracy: 0.9957 - val_loss: 0.7740 - val_accuracy: 0.8428\n",
            "Epoch 98/100\n",
            "13/13 [==============================] - 40s 3s/step - loss: 0.0131 - accuracy: 0.9976 - val_loss: 0.8643 - val_accuracy: 0.8456\n",
            "Epoch 99/100\n",
            "13/13 [==============================] - 40s 3s/step - loss: 0.0142 - accuracy: 0.9970 - val_loss: 0.8513 - val_accuracy: 0.8428\n",
            "Epoch 100/100\n",
            "13/13 [==============================] - 40s 3s/step - loss: 0.0174 - accuracy: 0.9970 - val_loss: 0.7990 - val_accuracy: 0.8399\n"
          ]
        }
      ],
      "source": [
        "# training the model for 100 epochs\n",
        "model_history = model.fit(X_train, y_train, epochs=100, batch_size=128,validation_data=(X_valid,y_valid))"
      ]
    },
    {
      "cell_type": "code",
      "execution_count": null,
      "metadata": {
        "colab": {
          "base_uri": "https://localhost:8080/",
          "height": 34
        },
        "id": "5VbVeeYKApXL",
        "outputId": "7581451c-b624-4e2e-8702-e351e8bac56f"
      },
      "outputs": [
        {
          "name": "stdout",
          "output_type": "stream",
          "text": [
            "Accuracy on training set: 0.6318347509113001 %\n"
          ]
        }
      ],
      "source": [
        "# accuracy on training set\n",
        "print('Accuracy on training set:', accuracy_score(y_train, np.where(model.predict(X_train)[:,0]) < 0.5, 0,1))"
      ]
    },
    {
      "cell_type": "code",
      "source": [
        "# Reshape the prediction output to a 1D array\n",
        "y_pred = model.predict(X_train).reshape(-1)\n",
        "\n",
        "# Calculate the accuracy\n",
        "accuracy = accuracy_score(y_train, np.where(y_pred < 0.5, 0, 1))\n",
        "\n",
        "# Print the accuracy\n",
        "print('Accuracy on training set:', accuracy)"
      ],
      "metadata": {
        "colab": {
          "base_uri": "https://localhost:8080/"
        },
        "id": "cCb4H4hk6T9V",
        "outputId": "11f694bd-75cf-43a9-cdc0-d6bf42d41459"
      },
      "execution_count": 135,
      "outputs": [
        {
          "output_type": "stream",
          "name": "stdout",
          "text": [
            "52/52 [==============================] - 6s 110ms/step\n",
            "Accuracy on training set: 0.9975698663426489\n"
          ]
        }
      ]
    },
    {
      "cell_type": "code",
      "execution_count": null,
      "metadata": {
        "colab": {
          "base_uri": "https://localhost:8080/",
          "height": 34
        },
        "id": "IaK1bVBUApXM",
        "outputId": "f6af5e11-f340-43df-cc88-08ed728239a1"
      },
      "outputs": [
        {
          "name": "stdout",
          "output_type": "stream",
          "text": [
            "Accuracy on validation set: 0.623229461756374 %\n"
          ]
        }
      ],
      "source": [
        "# accuracy on validation set\n",
        "print('Accuracy on validation set:', accuracy_score(y_valid, np.where(model.predict(X_valid)[:,0]) < 0.5, 0,1))"
      ]
    },
    {
      "cell_type": "code",
      "source": [
        "# Reshape the prediction output to a 1D array\n",
        "y_vpred = model.predict(X_valid).reshape(-1)\n",
        "\n",
        "# Calculate the accuracy\n",
        "accuracy = accuracy_score(y_valid, np.where(y_vpred < 0.5, 0, 1))\n",
        "\n",
        "# Print the accuracy\n",
        "print('Accuracy on validation set:', accuracy)"
      ],
      "metadata": {
        "colab": {
          "base_uri": "https://localhost:8080/"
        },
        "id": "XD3jUdTK6VBJ",
        "outputId": "f3fbe574-eac7-42bb-eb0d-d0c12eae6a68"
      },
      "execution_count": 136,
      "outputs": [
        {
          "output_type": "stream",
          "name": "stdout",
          "text": [
            "23/23 [==============================] - 2s 103ms/step\n",
            "Accuracy on validation set: 0.839943342776204\n"
          ]
        }
      ]
    },
    {
      "cell_type": "code",
      "execution_count": 137,
      "metadata": {
        "colab": {
          "base_uri": "https://localhost:8080/",
          "height": 472
        },
        "id": "icyVeIn0eIPG",
        "outputId": "b580fa6c-762d-40ff-c4b9-444a7034daba"
      },
      "outputs": [
        {
          "output_type": "display_data",
          "data": {
            "text/plain": [
              "<Figure size 640x480 with 1 Axes>"
            ],
            "image/png": "[encoded data removed]"
          },
          "metadata": {}
        }
      ],
      "source": [
        "# summarize history for loss\n",
        "plt.plot(model_history.history['loss'])\n",
        "plt.plot(model_history.history['val_loss'])\n",
        "plt.title('model loss')\n",
        "plt.ylabel('loss')\n",
        "plt.xlabel('epoch')\n",
        "plt.legend(['train', 'validation'], loc='upper left')\n",
        "plt.show()"
      ]
    },
    {
      "cell_type": "code",
      "execution_count": 138,
      "metadata": {
        "colab": {
          "base_uri": "https://localhost:8080/",
          "height": 472
        },
        "id": "oYJOcjiNeIPu",
        "outputId": "f39eb565-6df2-4560-ef0c-d22c25914787"
      },
      "outputs": [
        {
          "output_type": "display_data",
          "data": {
            "text/plain": [
              "<Figure size 640x480 with 1 Axes>"
            ],
            "image/png": "[encoded data removed]"
          },
          "metadata": {}
        }
      ],
      "source": [
        "# summarize history for accuracy\n",
        "plt.plot(model_history.history['accuracy'])\n",
        "plt.plot(model_history.history['val_accuracy'])\n",
        "plt.title('model accuracy')\n",
        "plt.ylabel('accuracy')\n",
        "plt.xlabel('epoch')\n",
        "plt.legend(['train', 'validation'], loc='upper left')\n",
        "plt.show()"
      ]
    },
    {
      "cell_type": "code",
      "execution_count": null,
      "metadata": {
        "id": "wQ-rpxow7gzJ"
      },
      "outputs": [],
      "source": []
    }
  ],
  "metadata": {
    "accelerator": "TPU",
    "colab": {
      "gpuType": "V28",
      "machine_shape": "hm",
      "provenance": [],
      "include_colab_link": true
    },
    "kernelspec": {
      "display_name": "Python 3",
      "name": "python3"
    },
    "language_info": {
      "codemirror_mode": {
        "name": "ipython",
        "version": 3
      },
      "file_extension": ".py",
      "mimetype": "text/x-python",
      "name": "python",
      "nbconvert_exporter": "python",
      "pygments_lexer": "ipython3",
      "version": "3.11.5"
    }
  },
  "nbformat": 4,
  "nbformat_minor": 0
}