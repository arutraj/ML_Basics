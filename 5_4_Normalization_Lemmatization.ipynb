{
  "nbformat": 4,
  "nbformat_minor": 0,
  "metadata": {
    "kernelspec": {
      "display_name": "Python 3",
      "language": "python",
      "name": "python3"
    },
    "language_info": {
      "codemirror_mode": {
        "name": "ipython",
        "version": 3
      },
      "file_extension": ".py",
      "mimetype": "text/x-python",
      "name": "python",
      "nbconvert_exporter": "python",
      "pygments_lexer": "ipython3",
      "version": "3.6.7"
    },
    "colab": {
      "provenance": [],
      "include_colab_link": true
    }
  },
  "cells": [
    {
      "cell_type": "markdown",
      "metadata": {
        "id": "view-in-github",
        "colab_type": "text"
      },
      "source": [
        "<a href=\"https://colab.research.google.com/github/arutraj/ML_Basics/blob/main/5_4_Normalization_Lemmatization.ipynb\" target=\"_parent\"><img src=\"https://colab.research.google.com/assets/colab-badge.svg\" alt=\"Open In Colab\"/></a>"
      ]
    },
    {
      "cell_type": "markdown",
      "metadata": {
        "id": "3DuZXt_nkCo5"
      },
      "source": [
        "# Lemmatization in spaCy"
      ]
    },
    {
      "cell_type": "code",
      "metadata": {
        "id": "XE244nhmkCo7"
      },
      "source": [
        "# Defining the string\n",
        "text=\"The sky is clear and the stars are twinkling.\""
      ],
      "execution_count": 1,
      "outputs": []
    },
    {
      "cell_type": "code",
      "metadata": {
        "id": "YYEvC2bAkCpF"
      },
      "source": [
        "import spacy"
      ],
      "execution_count": 2,
      "outputs": []
    },
    {
      "cell_type": "code",
      "metadata": {
        "id": "xh54WXLCkCpM"
      },
      "source": [
        "# Loading spacy model\n",
        "nlp=spacy.load('en_core_web_sm')"
      ],
      "execution_count": 3,
      "outputs": []
    },
    {
      "cell_type": "code",
      "metadata": {
        "id": "6v42AYrMkCpU"
      },
      "source": [
        "# Creating doc object\n",
        "doc=nlp(text)"
      ],
      "execution_count": 4,
      "outputs": []
    },
    {
      "cell_type": "code",
      "metadata": {
        "id": "vZjxGGdtkCpc",
        "colab": {
          "base_uri": "https://localhost:8080/"
        },
        "outputId": "ef7ad8c5-5ede-4bb5-e677-398c064aad91"
      },
      "source": [
        "# Lemmatizing the text\n",
        "[(token.text,token.lemma_) for token in doc]"
      ],
      "execution_count": 5,
      "outputs": [
        {
          "output_type": "execute_result",
          "data": {
            "text/plain": [
              "[('The', 'the'),\n",
              " ('sky', 'sky'),\n",
              " ('is', 'be'),\n",
              " ('clear', 'clear'),\n",
              " ('and', 'and'),\n",
              " ('the', 'the'),\n",
              " ('stars', 'star'),\n",
              " ('are', 'be'),\n",
              " ('twinkling', 'twinkle'),\n",
              " ('.', '.')]"
            ]
          },
          "metadata": {},
          "execution_count": 5
        }
      ]
    },
    {
      "cell_type": "code",
      "metadata": {
        "id": "GKv3PEmKkCpk",
        "colab": {
          "base_uri": "https://localhost:8080/"
        },
        "outputId": "2394f144-ff11-4207-a433-a9a55ebe7290"
      },
      "source": [
        "text=\"The moon looks beautiful at night. It's hard to resist its beauty.\"\n",
        "\n",
        "# Creating doc object\n",
        "doc=nlp(text)\n",
        "\n",
        "# Lemmatizing the text\n",
        "[(token.text,token.lemma_) for token in doc]"
      ],
      "execution_count": 6,
      "outputs": [
        {
          "output_type": "execute_result",
          "data": {
            "text/plain": [
              "[('The', 'the'),\n",
              " ('moon', 'moon'),\n",
              " ('looks', 'look'),\n",
              " ('beautiful', 'beautiful'),\n",
              " ('at', 'at'),\n",
              " ('night', 'night'),\n",
              " ('.', '.'),\n",
              " ('It', 'it'),\n",
              " (\"'s\", 'be'),\n",
              " ('hard', 'hard'),\n",
              " ('to', 'to'),\n",
              " ('resist', 'resist'),\n",
              " ('its', 'its'),\n",
              " ('beauty', 'beauty'),\n",
              " ('.', '.')]"
            ]
          },
          "metadata": {},
          "execution_count": 6
        }
      ]
    },
    {
      "cell_type": "code",
      "metadata": {
        "id": "yT-SVRVGIS2m"
      },
      "source": [
        "with open('/content/switzerland.txt', 'r') as f:\n",
        "  content = f.read()"
      ],
      "execution_count": 7,
      "outputs": []
    },
    {
      "cell_type": "code",
      "source": [
        "content"
      ],
      "metadata": {
        "id": "WOyjX9LG1HGU",
        "colab": {
          "base_uri": "https://localhost:8080/",
          "height": 104
        },
        "outputId": "13abdc64-c19a-41b9-fbb4-34f56bc36ef9"
      },
      "execution_count": 8,
      "outputs": [
        {
          "output_type": "execute_result",
          "data": {
            "text/plain": [
              "\"Switzerland, officially the Swiss Confederation, is a country situated in the confluence of Western, Central, and Southern Europe. It is a federal republic composed of 26 cantons, with federal authorities based in Bern. Switzerland is a landlocked country bordered by Italy to the south, France to the west, Germany to the north, and Austria and Liechtenstein to the east. It is geographically divided among the Swiss Plateau, the Alps, and the Jura, spanning a total area of 41,285 km2 (15,940 sq mi), and land area of 39,997 km2 (15,443 sq mi). While the Alps occupy the greater part of the territory, the Swiss population of approximately 8.5 million is concentrated mostly on the plateau, where the largest cities and economic centres are located, among them Zürich, Geneva and Basel, where multiple international organisations are domiciled (such as FIFA, the UN's second-largest Office, and the Bank for International Settlements) and where the main international airports of Switzerland are.\\n\""
            ],
            "application/vnd.google.colaboratory.intrinsic+json": {
              "type": "string"
            }
          },
          "metadata": {},
          "execution_count": 8
        }
      ]
    },
    {
      "cell_type": "code",
      "source": [
        "doc = nlp(content)"
      ],
      "metadata": {
        "id": "jXhDPtyA1ILy"
      },
      "execution_count": 9,
      "outputs": []
    },
    {
      "cell_type": "code",
      "source": [
        "[(token.text, token.lemma_) for token in doc]"
      ],
      "metadata": {
        "id": "sAKrh_vt1L3W",
        "colab": {
          "base_uri": "https://localhost:8080/"
        },
        "outputId": "14ac3528-b7e7-4941-a692-3c0083484ffb"
      },
      "execution_count": 10,
      "outputs": [
        {
          "output_type": "execute_result",
          "data": {
            "text/plain": [
              "[('Switzerland', 'Switzerland'),\n",
              " (',', ','),\n",
              " ('officially', 'officially'),\n",
              " ('the', 'the'),\n",
              " ('Swiss', 'Swiss'),\n",
              " ('Confederation', 'Confederation'),\n",
              " (',', ','),\n",
              " ('is', 'be'),\n",
              " ('a', 'a'),\n",
              " ('country', 'country'),\n",
              " ('situated', 'situate'),\n",
              " ('in', 'in'),\n",
              " ('the', 'the'),\n",
              " ('confluence', 'confluence'),\n",
              " ('of', 'of'),\n",
              " ('Western', 'western'),\n",
              " (',', ','),\n",
              " ('Central', 'central'),\n",
              " (',', ','),\n",
              " ('and', 'and'),\n",
              " ('Southern', 'Southern'),\n",
              " ('Europe', 'Europe'),\n",
              " ('.', '.'),\n",
              " ('It', 'it'),\n",
              " ('is', 'be'),\n",
              " ('a', 'a'),\n",
              " ('federal', 'federal'),\n",
              " ('republic', 'republic'),\n",
              " ('composed', 'compose'),\n",
              " ('of', 'of'),\n",
              " ('26', '26'),\n",
              " ('cantons', 'canton'),\n",
              " (',', ','),\n",
              " ('with', 'with'),\n",
              " ('federal', 'federal'),\n",
              " ('authorities', 'authority'),\n",
              " ('based', 'base'),\n",
              " ('in', 'in'),\n",
              " ('Bern', 'Bern'),\n",
              " ('.', '.'),\n",
              " ('Switzerland', 'Switzerland'),\n",
              " ('is', 'be'),\n",
              " ('a', 'a'),\n",
              " ('landlocked', 'landlocked'),\n",
              " ('country', 'country'),\n",
              " ('bordered', 'border'),\n",
              " ('by', 'by'),\n",
              " ('Italy', 'Italy'),\n",
              " ('to', 'to'),\n",
              " ('the', 'the'),\n",
              " ('south', 'south'),\n",
              " (',', ','),\n",
              " ('France', 'France'),\n",
              " ('to', 'to'),\n",
              " ('the', 'the'),\n",
              " ('west', 'west'),\n",
              " (',', ','),\n",
              " ('Germany', 'Germany'),\n",
              " ('to', 'to'),\n",
              " ('the', 'the'),\n",
              " ('north', 'north'),\n",
              " (',', ','),\n",
              " ('and', 'and'),\n",
              " ('Austria', 'Austria'),\n",
              " ('and', 'and'),\n",
              " ('Liechtenstein', 'Liechtenstein'),\n",
              " ('to', 'to'),\n",
              " ('the', 'the'),\n",
              " ('east', 'east'),\n",
              " ('.', '.'),\n",
              " ('It', 'it'),\n",
              " ('is', 'be'),\n",
              " ('geographically', 'geographically'),\n",
              " ('divided', 'divide'),\n",
              " ('among', 'among'),\n",
              " ('the', 'the'),\n",
              " ('Swiss', 'Swiss'),\n",
              " ('Plateau', 'Plateau'),\n",
              " (',', ','),\n",
              " ('the', 'the'),\n",
              " ('Alps', 'Alps'),\n",
              " (',', ','),\n",
              " ('and', 'and'),\n",
              " ('the', 'the'),\n",
              " ('Jura', 'Jura'),\n",
              " (',', ','),\n",
              " ('spanning', 'span'),\n",
              " ('a', 'a'),\n",
              " ('total', 'total'),\n",
              " ('area', 'area'),\n",
              " ('of', 'of'),\n",
              " ('41,285', '41,285'),\n",
              " ('km2', 'km2'),\n",
              " ('(', '('),\n",
              " ('15,940', '15,940'),\n",
              " ('sq', 'sq'),\n",
              " ('mi', 'mi'),\n",
              " (')', ')'),\n",
              " (',', ','),\n",
              " ('and', 'and'),\n",
              " ('land', 'land'),\n",
              " ('area', 'area'),\n",
              " ('of', 'of'),\n",
              " ('39,997', '39,997'),\n",
              " ('km2', 'km2'),\n",
              " ('(', '('),\n",
              " ('15,443', '15,443'),\n",
              " ('sq', 'sq'),\n",
              " ('mi', 'mi'),\n",
              " (')', ')'),\n",
              " ('.', '.'),\n",
              " ('While', 'while'),\n",
              " ('the', 'the'),\n",
              " ('Alps', 'Alps'),\n",
              " ('occupy', 'occupy'),\n",
              " ('the', 'the'),\n",
              " ('greater', 'great'),\n",
              " ('part', 'part'),\n",
              " ('of', 'of'),\n",
              " ('the', 'the'),\n",
              " ('territory', 'territory'),\n",
              " (',', ','),\n",
              " ('the', 'the'),\n",
              " ('Swiss', 'swiss'),\n",
              " ('population', 'population'),\n",
              " ('of', 'of'),\n",
              " ('approximately', 'approximately'),\n",
              " ('8.5', '8.5'),\n",
              " ('million', 'million'),\n",
              " ('is', 'be'),\n",
              " ('concentrated', 'concentrate'),\n",
              " ('mostly', 'mostly'),\n",
              " ('on', 'on'),\n",
              " ('the', 'the'),\n",
              " ('plateau', 'plateau'),\n",
              " (',', ','),\n",
              " ('where', 'where'),\n",
              " ('the', 'the'),\n",
              " ('largest', 'large'),\n",
              " ('cities', 'city'),\n",
              " ('and', 'and'),\n",
              " ('economic', 'economic'),\n",
              " ('centres', 'centre'),\n",
              " ('are', 'be'),\n",
              " ('located', 'locate'),\n",
              " (',', ','),\n",
              " ('among', 'among'),\n",
              " ('them', 'they'),\n",
              " ('Zürich', 'Zürich'),\n",
              " (',', ','),\n",
              " ('Geneva', 'Geneva'),\n",
              " ('and', 'and'),\n",
              " ('Basel', 'Basel'),\n",
              " (',', ','),\n",
              " ('where', 'where'),\n",
              " ('multiple', 'multiple'),\n",
              " ('international', 'international'),\n",
              " ('organisations', 'organisation'),\n",
              " ('are', 'be'),\n",
              " ('domiciled', 'domicile'),\n",
              " ('(', '('),\n",
              " ('such', 'such'),\n",
              " ('as', 'as'),\n",
              " ('FIFA', 'FIFA'),\n",
              " (',', ','),\n",
              " ('the', 'the'),\n",
              " ('UN', 'UN'),\n",
              " (\"'s\", \"'s\"),\n",
              " ('second', 'second'),\n",
              " ('-', '-'),\n",
              " ('largest', 'large'),\n",
              " ('Office', 'office'),\n",
              " (',', ','),\n",
              " ('and', 'and'),\n",
              " ('the', 'the'),\n",
              " ('Bank', 'Bank'),\n",
              " ('for', 'for'),\n",
              " ('International', 'International'),\n",
              " ('Settlements', 'Settlements'),\n",
              " (')', ')'),\n",
              " ('and', 'and'),\n",
              " ('where', 'where'),\n",
              " ('the', 'the'),\n",
              " ('main', 'main'),\n",
              " ('international', 'international'),\n",
              " ('airports', 'airport'),\n",
              " ('of', 'of'),\n",
              " ('Switzerland', 'Switzerland'),\n",
              " ('are', 'be'),\n",
              " ('.', '.'),\n",
              " ('\\n', '\\n')]"
            ]
          },
          "metadata": {},
          "execution_count": 10
        }
      ]
    },
    {
      "cell_type": "code",
      "source": [],
      "metadata": {
        "id": "DmoZL1B01RgS"
      },
      "execution_count": null,
      "outputs": []
    }
  ]
}