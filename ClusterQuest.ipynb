{
  "nbformat": 4,
  "nbformat_minor": 0,
  "metadata": {
    "colab": {
      "provenance": [],
      "authorship_tag": "ABX9TyO8lOTblxyEmJn2eaS1Kwm5",
      "include_colab_link": true
    },
    "kernelspec": {
      "name": "python3",
      "display_name": "Python 3"
    },
    "language_info": {
      "name": "python"
    },
    "widgets": {
      "application/vnd.jupyter.widget-state+json": {
        "737881f5ad874c7781f5156378334eb0": {
          "model_module": "@jupyter-widgets/controls",
          "model_name": "HBoxModel",
          "model_module_version": "1.5.0",
          "state": {
            "_dom_classes": [],
            "_model_module": "@jupyter-widgets/controls",
            "_model_module_version": "1.5.0",
            "_model_name": "HBoxModel",
            "_view_count": null,
            "_view_module": "@jupyter-widgets/controls",
            "_view_module_version": "1.5.0",
            "_view_name": "HBoxView",
            "box_style": "",
            "children": [
              "IPY_MODEL_51cbd7585b934f2fa76fcba2bd85537b",
              "IPY_MODEL_5463b27c9bc548c487583a87117f6699",
              "IPY_MODEL_85322b659bca446dbc28e2ccd7b36a14"
            ],
            "layout": "IPY_MODEL_9a5894aaa5384f9f9d3e4627db110308"
          }
        },
        "51cbd7585b934f2fa76fcba2bd85537b": {
          "model_module": "@jupyter-widgets/controls",
          "model_name": "HTMLModel",
          "model_module_version": "1.5.0",
          "state": {
            "_dom_classes": [],
            "_model_module": "@jupyter-widgets/controls",
            "_model_module_version": "1.5.0",
            "_model_name": "HTMLModel",
            "_view_count": null,
            "_view_module": "@jupyter-widgets/controls",
            "_view_module_version": "1.5.0",
            "_view_name": "HTMLView",
            "description": "",
            "description_tooltip": null,
            "layout": "IPY_MODEL_339896cac71349b8a0af938d51920eb8",
            "placeholder": "​",
            "style": "IPY_MODEL_c5a36c9cbeb040119c9855fa3fd55825",
            "value": "Computing transition probabilities: 100%"
          }
        },
        "5463b27c9bc548c487583a87117f6699": {
          "model_module": "@jupyter-widgets/controls",
          "model_name": "FloatProgressModel",
          "model_module_version": "1.5.0",
          "state": {
            "_dom_classes": [],
            "_model_module": "@jupyter-widgets/controls",
            "_model_module_version": "1.5.0",
            "_model_name": "FloatProgressModel",
            "_view_count": null,
            "_view_module": "@jupyter-widgets/controls",
            "_view_module_version": "1.5.0",
            "_view_name": "ProgressView",
            "bar_style": "success",
            "description": "",
            "description_tooltip": null,
            "layout": "IPY_MODEL_306a99bd81f347c1a6e54d8e9c79e318",
            "max": 4266,
            "min": 0,
            "orientation": "horizontal",
            "style": "IPY_MODEL_2ecfed86aa404aebb79e84eb2a173157",
            "value": 4266
          }
        },
        "85322b659bca446dbc28e2ccd7b36a14": {
          "model_module": "@jupyter-widgets/controls",
          "model_name": "HTMLModel",
          "model_module_version": "1.5.0",
          "state": {
            "_dom_classes": [],
            "_model_module": "@jupyter-widgets/controls",
            "_model_module_version": "1.5.0",
            "_model_name": "HTMLModel",
            "_view_count": null,
            "_view_module": "@jupyter-widgets/controls",
            "_view_module_version": "1.5.0",
            "_view_name": "HTMLView",
            "description": "",
            "description_tooltip": null,
            "layout": "IPY_MODEL_78ea42b431694ab394a71f3aff736375",
            "placeholder": "​",
            "style": "IPY_MODEL_7aa99c88e7fc418082be6e832461e7d3",
            "value": " 4266/4266 [00:01&lt;00:00, 3714.66it/s]"
          }
        },
        "9a5894aaa5384f9f9d3e4627db110308": {
          "model_module": "@jupyter-widgets/base",
          "model_name": "LayoutModel",
          "model_module_version": "1.2.0",
          "state": {
            "_model_module": "@jupyter-widgets/base",
            "_model_module_version": "1.2.0",
            "_model_name": "LayoutModel",
            "_view_count": null,
            "_view_module": "@jupyter-widgets/base",
            "_view_module_version": "1.2.0",
            "_view_name": "LayoutView",
            "align_content": null,
            "align_items": null,
            "align_self": null,
            "border": null,
            "bottom": null,
            "display": null,
            "flex": null,
            "flex_flow": null,
            "grid_area": null,
            "grid_auto_columns": null,
            "grid_auto_flow": null,
            "grid_auto_rows": null,
            "grid_column": null,
            "grid_gap": null,
            "grid_row": null,
            "grid_template_areas": null,
            "grid_template_columns": null,
            "grid_template_rows": null,
            "height": null,
            "justify_content": null,
            "justify_items": null,
            "left": null,
            "margin": null,
            "max_height": null,
            "max_width": null,
            "min_height": null,
            "min_width": null,
            "object_fit": null,
            "object_position": null,
            "order": null,
            "overflow": null,
            "overflow_x": null,
            "overflow_y": null,
            "padding": null,
            "right": null,
            "top": null,
            "visibility": null,
            "width": null
          }
        },
        "339896cac71349b8a0af938d51920eb8": {
          "model_module": "@jupyter-widgets/base",
          "model_name": "LayoutModel",
          "model_module_version": "1.2.0",
          "state": {
            "_model_module": "@jupyter-widgets/base",
            "_model_module_version": "1.2.0",
            "_model_name": "LayoutModel",
            "_view_count": null,
            "_view_module": "@jupyter-widgets/base",
            "_view_module_version": "1.2.0",
            "_view_name": "LayoutView",
            "align_content": null,
            "align_items": null,
            "align_self": null,
            "border": null,
            "bottom": null,
            "display": null,
            "flex": null,
            "flex_flow": null,
            "grid_area": null,
            "grid_auto_columns": null,
            "grid_auto_flow": null,
            "grid_auto_rows": null,
            "grid_column": null,
            "grid_gap": null,
            "grid_row": null,
            "grid_template_areas": null,
            "grid_template_columns": null,
            "grid_template_rows": null,
            "height": null,
            "justify_content": null,
            "justify_items": null,
            "left": null,
            "margin": null,
            "max_height": null,
            "max_width": null,
            "min_height": null,
            "min_width": null,
            "object_fit": null,
            "object_position": null,
            "order": null,
            "overflow": null,
            "overflow_x": null,
            "overflow_y": null,
            "padding": null,
            "right": null,
            "top": null,
            "visibility": null,
            "width": null
          }
        },
        "c5a36c9cbeb040119c9855fa3fd55825": {
          "model_module": "@jupyter-widgets/controls",
          "model_name": "DescriptionStyleModel",
          "model_module_version": "1.5.0",
          "state": {
            "_model_module": "@jupyter-widgets/controls",
            "_model_module_version": "1.5.0",
            "_model_name": "DescriptionStyleModel",
            "_view_count": null,
            "_view_module": "@jupyter-widgets/base",
            "_view_module_version": "1.2.0",
            "_view_name": "StyleView",
            "description_width": ""
          }
        },
        "306a99bd81f347c1a6e54d8e9c79e318": {
          "model_module": "@jupyter-widgets/base",
          "model_name": "LayoutModel",
          "model_module_version": "1.2.0",
          "state": {
            "_model_module": "@jupyter-widgets/base",
            "_model_module_version": "1.2.0",
            "_model_name": "LayoutModel",
            "_view_count": null,
            "_view_module": "@jupyter-widgets/base",
            "_view_module_version": "1.2.0",
            "_view_name": "LayoutView",
            "align_content": null,
            "align_items": null,
            "align_self": null,
            "border": null,
            "bottom": null,
            "display": null,
            "flex": null,
            "flex_flow": null,
            "grid_area": null,
            "grid_auto_columns": null,
            "grid_auto_flow": null,
            "grid_auto_rows": null,
            "grid_column": null,
            "grid_gap": null,
            "grid_row": null,
            "grid_template_areas": null,
            "grid_template_columns": null,
            "grid_template_rows": null,
            "height": null,
            "justify_content": null,
            "justify_items": null,
            "left": null,
            "margin": null,
            "max_height": null,
            "max_width": null,
            "min_height": null,
            "min_width": null,
            "object_fit": null,
            "object_position": null,
            "order": null,
            "overflow": null,
            "overflow_x": null,
            "overflow_y": null,
            "padding": null,
            "right": null,
            "top": null,
            "visibility": null,
            "width": null
          }
        },
        "2ecfed86aa404aebb79e84eb2a173157": {
          "model_module": "@jupyter-widgets/controls",
          "model_name": "ProgressStyleModel",
          "model_module_version": "1.5.0",
          "state": {
            "_model_module": "@jupyter-widgets/controls",
            "_model_module_version": "1.5.0",
            "_model_name": "ProgressStyleModel",
            "_view_count": null,
            "_view_module": "@jupyter-widgets/base",
            "_view_module_version": "1.2.0",
            "_view_name": "StyleView",
            "bar_color": null,
            "description_width": ""
          }
        },
        "78ea42b431694ab394a71f3aff736375": {
          "model_module": "@jupyter-widgets/base",
          "model_name": "LayoutModel",
          "model_module_version": "1.2.0",
          "state": {
            "_model_module": "@jupyter-widgets/base",
            "_model_module_version": "1.2.0",
            "_model_name": "LayoutModel",
            "_view_count": null,
            "_view_module": "@jupyter-widgets/base",
            "_view_module_version": "1.2.0",
            "_view_name": "LayoutView",
            "align_content": null,
            "align_items": null,
            "align_self": null,
            "border": null,
            "bottom": null,
            "display": null,
            "flex": null,
            "flex_flow": null,
            "grid_area": null,
            "grid_auto_columns": null,
            "grid_auto_flow": null,
            "grid_auto_rows": null,
            "grid_column": null,
            "grid_gap": null,
            "grid_row": null,
            "grid_template_areas": null,
            "grid_template_columns": null,
            "grid_template_rows": null,
            "height": null,
            "justify_content": null,
            "justify_items": null,
            "left": null,
            "margin": null,
            "max_height": null,
            "max_width": null,
            "min_height": null,
            "min_width": null,
            "object_fit": null,
            "object_position": null,
            "order": null,
            "overflow": null,
            "overflow_x": null,
            "overflow_y": null,
            "padding": null,
            "right": null,
            "top": null,
            "visibility": null,
            "width": null
          }
        },
        "7aa99c88e7fc418082be6e832461e7d3": {
          "model_module": "@jupyter-widgets/controls",
          "model_name": "DescriptionStyleModel",
          "model_module_version": "1.5.0",
          "state": {
            "_model_module": "@jupyter-widgets/controls",
            "_model_module_version": "1.5.0",
            "_model_name": "DescriptionStyleModel",
            "_view_count": null,
            "_view_module": "@jupyter-widgets/base",
            "_view_module_version": "1.2.0",
            "_view_name": "StyleView",
            "description_width": ""
          }
        },
        "737ca8e57ca54862bd53e8968c5c68e0": {
          "model_module": "@jupyter-widgets/controls",
          "model_name": "HBoxModel",
          "model_module_version": "1.5.0",
          "state": {
            "_dom_classes": [],
            "_model_module": "@jupyter-widgets/controls",
            "_model_module_version": "1.5.0",
            "_model_name": "HBoxModel",
            "_view_count": null,
            "_view_module": "@jupyter-widgets/controls",
            "_view_module_version": "1.5.0",
            "_view_name": "HBoxView",
            "box_style": "",
            "children": [
              "IPY_MODEL_a590eee443e3461e80fd10577bcb7cfa",
              "IPY_MODEL_51b3c1c970bf453b8338018c25782f52",
              "IPY_MODEL_73dcc8e0babf4ad99003be25a5c9cbb8"
            ],
            "layout": "IPY_MODEL_7b53f61ca93649e2803d7d219fe16a18"
          }
        },
        "a590eee443e3461e80fd10577bcb7cfa": {
          "model_module": "@jupyter-widgets/controls",
          "model_name": "HTMLModel",
          "model_module_version": "1.5.0",
          "state": {
            "_dom_classes": [],
            "_model_module": "@jupyter-widgets/controls",
            "_model_module_version": "1.5.0",
            "_model_name": "HTMLModel",
            "_view_count": null,
            "_view_module": "@jupyter-widgets/controls",
            "_view_module_version": "1.5.0",
            "_view_name": "HTMLView",
            "description": "",
            "description_tooltip": null,
            "layout": "IPY_MODEL_2d20b8024de94cc8b5467b7b09a314d8",
            "placeholder": "​",
            "style": "IPY_MODEL_9a33254b3c4c447195ece96cb9b8f1d1",
            "value": "Processing: 100%"
          }
        },
        "51b3c1c970bf453b8338018c25782f52": {
          "model_module": "@jupyter-widgets/controls",
          "model_name": "FloatProgressModel",
          "model_module_version": "1.5.0",
          "state": {
            "_dom_classes": [],
            "_model_module": "@jupyter-widgets/controls",
            "_model_module_version": "1.5.0",
            "_model_name": "FloatProgressModel",
            "_view_count": null,
            "_view_module": "@jupyter-widgets/controls",
            "_view_module_version": "1.5.0",
            "_view_name": "ProgressView",
            "bar_style": "",
            "description": "",
            "description_tooltip": null,
            "layout": "IPY_MODEL_f88c0df7ca84485f82ba2499ad3cdfcd",
            "max": 3,
            "min": 0,
            "orientation": "horizontal",
            "style": "IPY_MODEL_56d5dad4d1274f87bd72b291e577a57b",
            "value": 3
          }
        },
        "73dcc8e0babf4ad99003be25a5c9cbb8": {
          "model_module": "@jupyter-widgets/controls",
          "model_name": "HTMLModel",
          "model_module_version": "1.5.0",
          "state": {
            "_dom_classes": [],
            "_model_module": "@jupyter-widgets/controls",
            "_model_module_version": "1.5.0",
            "_model_name": "HTMLModel",
            "_view_count": null,
            "_view_module": "@jupyter-widgets/controls",
            "_view_module_version": "1.5.0",
            "_view_name": "HTMLView",
            "description": "",
            "description_tooltip": null,
            "layout": "IPY_MODEL_dd7694cc215d4e50aec9a7295fc7fe99",
            "placeholder": "​",
            "style": "IPY_MODEL_97e16792071545f298331d8309b04fa7",
            "value": " 3/3 [00:10&lt;00:00,  3.74s/it]"
          }
        },
        "7b53f61ca93649e2803d7d219fe16a18": {
          "model_module": "@jupyter-widgets/base",
          "model_name": "LayoutModel",
          "model_module_version": "1.2.0",
          "state": {
            "_model_module": "@jupyter-widgets/base",
            "_model_module_version": "1.2.0",
            "_model_name": "LayoutModel",
            "_view_count": null,
            "_view_module": "@jupyter-widgets/base",
            "_view_module_version": "1.2.0",
            "_view_name": "LayoutView",
            "align_content": null,
            "align_items": null,
            "align_self": null,
            "border": null,
            "bottom": null,
            "display": null,
            "flex": null,
            "flex_flow": null,
            "grid_area": null,
            "grid_auto_columns": null,
            "grid_auto_flow": null,
            "grid_auto_rows": null,
            "grid_column": null,
            "grid_gap": null,
            "grid_row": null,
            "grid_template_areas": null,
            "grid_template_columns": null,
            "grid_template_rows": null,
            "height": null,
            "justify_content": null,
            "justify_items": null,
            "left": null,
            "margin": null,
            "max_height": null,
            "max_width": null,
            "min_height": null,
            "min_width": null,
            "object_fit": null,
            "object_position": null,
            "order": null,
            "overflow": null,
            "overflow_x": null,
            "overflow_y": null,
            "padding": null,
            "right": null,
            "top": null,
            "visibility": "hidden",
            "width": null
          }
        },
        "2d20b8024de94cc8b5467b7b09a314d8": {
          "model_module": "@jupyter-widgets/base",
          "model_name": "LayoutModel",
          "model_module_version": "1.2.0",
          "state": {
            "_model_module": "@jupyter-widgets/base",
            "_model_module_version": "1.2.0",
            "_model_name": "LayoutModel",
            "_view_count": null,
            "_view_module": "@jupyter-widgets/base",
            "_view_module_version": "1.2.0",
            "_view_name": "LayoutView",
            "align_content": null,
            "align_items": null,
            "align_self": null,
            "border": null,
            "bottom": null,
            "display": null,
            "flex": null,
            "flex_flow": null,
            "grid_area": null,
            "grid_auto_columns": null,
            "grid_auto_flow": null,
            "grid_auto_rows": null,
            "grid_column": null,
            "grid_gap": null,
            "grid_row": null,
            "grid_template_areas": null,
            "grid_template_columns": null,
            "grid_template_rows": null,
            "height": null,
            "justify_content": null,
            "justify_items": null,
            "left": null,
            "margin": null,
            "max_height": null,
            "max_width": null,
            "min_height": null,
            "min_width": null,
            "object_fit": null,
            "object_position": null,
            "order": null,
            "overflow": null,
            "overflow_x": null,
            "overflow_y": null,
            "padding": null,
            "right": null,
            "top": null,
            "visibility": null,
            "width": null
          }
        },
        "9a33254b3c4c447195ece96cb9b8f1d1": {
          "model_module": "@jupyter-widgets/controls",
          "model_name": "DescriptionStyleModel",
          "model_module_version": "1.5.0",
          "state": {
            "_model_module": "@jupyter-widgets/controls",
            "_model_module_version": "1.5.0",
            "_model_name": "DescriptionStyleModel",
            "_view_count": null,
            "_view_module": "@jupyter-widgets/base",
            "_view_module_version": "1.2.0",
            "_view_name": "StyleView",
            "description_width": ""
          }
        },
        "f88c0df7ca84485f82ba2499ad3cdfcd": {
          "model_module": "@jupyter-widgets/base",
          "model_name": "LayoutModel",
          "model_module_version": "1.2.0",
          "state": {
            "_model_module": "@jupyter-widgets/base",
            "_model_module_version": "1.2.0",
            "_model_name": "LayoutModel",
            "_view_count": null,
            "_view_module": "@jupyter-widgets/base",
            "_view_module_version": "1.2.0",
            "_view_name": "LayoutView",
            "align_content": null,
            "align_items": null,
            "align_self": null,
            "border": null,
            "bottom": null,
            "display": null,
            "flex": null,
            "flex_flow": null,
            "grid_area": null,
            "grid_auto_columns": null,
            "grid_auto_flow": null,
            "grid_auto_rows": null,
            "grid_column": null,
            "grid_gap": null,
            "grid_row": null,
            "grid_template_areas": null,
            "grid_template_columns": null,
            "grid_template_rows": null,
            "height": null,
            "justify_content": null,
            "justify_items": null,
            "left": null,
            "margin": null,
            "max_height": null,
            "max_width": null,
            "min_height": null,
            "min_width": null,
            "object_fit": null,
            "object_position": null,
            "order": null,
            "overflow": null,
            "overflow_x": null,
            "overflow_y": null,
            "padding": null,
            "right": null,
            "top": null,
            "visibility": null,
            "width": null
          }
        },
        "56d5dad4d1274f87bd72b291e577a57b": {
          "model_module": "@jupyter-widgets/controls",
          "model_name": "ProgressStyleModel",
          "model_module_version": "1.5.0",
          "state": {
            "_model_module": "@jupyter-widgets/controls",
            "_model_module_version": "1.5.0",
            "_model_name": "ProgressStyleModel",
            "_view_count": null,
            "_view_module": "@jupyter-widgets/base",
            "_view_module_version": "1.2.0",
            "_view_name": "StyleView",
            "bar_color": null,
            "description_width": ""
          }
        },
        "dd7694cc215d4e50aec9a7295fc7fe99": {
          "model_module": "@jupyter-widgets/base",
          "model_name": "LayoutModel",
          "model_module_version": "1.2.0",
          "state": {
            "_model_module": "@jupyter-widgets/base",
            "_model_module_version": "1.2.0",
            "_model_name": "LayoutModel",
            "_view_count": null,
            "_view_module": "@jupyter-widgets/base",
            "_view_module_version": "1.2.0",
            "_view_name": "LayoutView",
            "align_content": null,
            "align_items": null,
            "align_self": null,
            "border": null,
            "bottom": null,
            "display": null,
            "flex": null,
            "flex_flow": null,
            "grid_area": null,
            "grid_auto_columns": null,
            "grid_auto_flow": null,
            "grid_auto_rows": null,
            "grid_column": null,
            "grid_gap": null,
            "grid_row": null,
            "grid_template_areas": null,
            "grid_template_columns": null,
            "grid_template_rows": null,
            "height": null,
            "justify_content": null,
            "justify_items": null,
            "left": null,
            "margin": null,
            "max_height": null,
            "max_width": null,
            "min_height": null,
            "min_width": null,
            "object_fit": null,
            "object_position": null,
            "order": null,
            "overflow": null,
            "overflow_x": null,
            "overflow_y": null,
            "padding": null,
            "right": null,
            "top": null,
            "visibility": null,
            "width": null
          }
        },
        "97e16792071545f298331d8309b04fa7": {
          "model_module": "@jupyter-widgets/controls",
          "model_name": "DescriptionStyleModel",
          "model_module_version": "1.5.0",
          "state": {
            "_model_module": "@jupyter-widgets/controls",
            "_model_module_version": "1.5.0",
            "_model_name": "DescriptionStyleModel",
            "_view_count": null,
            "_view_module": "@jupyter-widgets/base",
            "_view_module_version": "1.2.0",
            "_view_name": "StyleView",
            "description_width": ""
          }
        },
        "a50c33ba2fe84d93bec57bee4a28b957": {
          "model_module": "@jupyter-widgets/controls",
          "model_name": "HBoxModel",
          "model_module_version": "1.5.0",
          "state": {
            "_dom_classes": [],
            "_model_module": "@jupyter-widgets/controls",
            "_model_module_version": "1.5.0",
            "_model_name": "HBoxModel",
            "_view_count": null,
            "_view_module": "@jupyter-widgets/controls",
            "_view_module_version": "1.5.0",
            "_view_name": "HBoxView",
            "box_style": "",
            "children": [
              "IPY_MODEL_6618f9439d9c451a93d310f3974bfa33",
              "IPY_MODEL_1fac338eb17a4dc2bd1771a174699202",
              "IPY_MODEL_b3ff43e0d2a240ffbef6f85c4183bd89"
            ],
            "layout": "IPY_MODEL_bce58435ca5a4866b4b6b1a9ef2ffff4"
          }
        },
        "6618f9439d9c451a93d310f3974bfa33": {
          "model_module": "@jupyter-widgets/controls",
          "model_name": "HTMLModel",
          "model_module_version": "1.5.0",
          "state": {
            "_dom_classes": [],
            "_model_module": "@jupyter-widgets/controls",
            "_model_module_version": "1.5.0",
            "_model_name": "HTMLModel",
            "_view_count": null,
            "_view_module": "@jupyter-widgets/controls",
            "_view_module_version": "1.5.0",
            "_view_name": "HTMLView",
            "description": "",
            "description_tooltip": null,
            "layout": "IPY_MODEL_0c574d42d00a47b08df3ca1da9f8d54c",
            "placeholder": "​",
            "style": "IPY_MODEL_874c2db6615a4d60918e356a59132c4a",
            "value": "Processing: 100%"
          }
        },
        "1fac338eb17a4dc2bd1771a174699202": {
          "model_module": "@jupyter-widgets/controls",
          "model_name": "FloatProgressModel",
          "model_module_version": "1.5.0",
          "state": {
            "_dom_classes": [],
            "_model_module": "@jupyter-widgets/controls",
            "_model_module_version": "1.5.0",
            "_model_name": "FloatProgressModel",
            "_view_count": null,
            "_view_module": "@jupyter-widgets/controls",
            "_view_module_version": "1.5.0",
            "_view_name": "ProgressView",
            "bar_style": "",
            "description": "",
            "description_tooltip": null,
            "layout": "IPY_MODEL_7485e8d572c44c209d5603b2896a4709",
            "max": 3,
            "min": 0,
            "orientation": "horizontal",
            "style": "IPY_MODEL_db35d743ae1e4db69ed7ac3946031c0d",
            "value": 3
          }
        },
        "b3ff43e0d2a240ffbef6f85c4183bd89": {
          "model_module": "@jupyter-widgets/controls",
          "model_name": "HTMLModel",
          "model_module_version": "1.5.0",
          "state": {
            "_dom_classes": [],
            "_model_module": "@jupyter-widgets/controls",
            "_model_module_version": "1.5.0",
            "_model_name": "HTMLModel",
            "_view_count": null,
            "_view_module": "@jupyter-widgets/controls",
            "_view_module_version": "1.5.0",
            "_view_name": "HTMLView",
            "description": "",
            "description_tooltip": null,
            "layout": "IPY_MODEL_a48d0de3314c4c45aed47c903a18f681",
            "placeholder": "​",
            "style": "IPY_MODEL_21a7bb28d10a406db3bca8c8f90a3e58",
            "value": " 3/3 [00:11&lt;00:00,  3.59s/it]"
          }
        },
        "bce58435ca5a4866b4b6b1a9ef2ffff4": {
          "model_module": "@jupyter-widgets/base",
          "model_name": "LayoutModel",
          "model_module_version": "1.2.0",
          "state": {
            "_model_module": "@jupyter-widgets/base",
            "_model_module_version": "1.2.0",
            "_model_name": "LayoutModel",
            "_view_count": null,
            "_view_module": "@jupyter-widgets/base",
            "_view_module_version": "1.2.0",
            "_view_name": "LayoutView",
            "align_content": null,
            "align_items": null,
            "align_self": null,
            "border": null,
            "bottom": null,
            "display": null,
            "flex": null,
            "flex_flow": null,
            "grid_area": null,
            "grid_auto_columns": null,
            "grid_auto_flow": null,
            "grid_auto_rows": null,
            "grid_column": null,
            "grid_gap": null,
            "grid_row": null,
            "grid_template_areas": null,
            "grid_template_columns": null,
            "grid_template_rows": null,
            "height": null,
            "justify_content": null,
            "justify_items": null,
            "left": null,
            "margin": null,
            "max_height": null,
            "max_width": null,
            "min_height": null,
            "min_width": null,
            "object_fit": null,
            "object_position": null,
            "order": null,
            "overflow": null,
            "overflow_x": null,
            "overflow_y": null,
            "padding": null,
            "right": null,
            "top": null,
            "visibility": "hidden",
            "width": null
          }
        },
        "0c574d42d00a47b08df3ca1da9f8d54c": {
          "model_module": "@jupyter-widgets/base",
          "model_name": "LayoutModel",
          "model_module_version": "1.2.0",
          "state": {
            "_model_module": "@jupyter-widgets/base",
            "_model_module_version": "1.2.0",
            "_model_name": "LayoutModel",
            "_view_count": null,
            "_view_module": "@jupyter-widgets/base",
            "_view_module_version": "1.2.0",
            "_view_name": "LayoutView",
            "align_content": null,
            "align_items": null,
            "align_self": null,
            "border": null,
            "bottom": null,
            "display": null,
            "flex": null,
            "flex_flow": null,
            "grid_area": null,
            "grid_auto_columns": null,
            "grid_auto_flow": null,
            "grid_auto_rows": null,
            "grid_column": null,
            "grid_gap": null,
            "grid_row": null,
            "grid_template_areas": null,
            "grid_template_columns": null,
            "grid_template_rows": null,
            "height": null,
            "justify_content": null,
            "justify_items": null,
            "left": null,
            "margin": null,
            "max_height": null,
            "max_width": null,
            "min_height": null,
            "min_width": null,
            "object_fit": null,
            "object_position": null,
            "order": null,
            "overflow": null,
            "overflow_x": null,
            "overflow_y": null,
            "padding": null,
            "right": null,
            "top": null,
            "visibility": null,
            "width": null
          }
        },
        "874c2db6615a4d60918e356a59132c4a": {
          "model_module": "@jupyter-widgets/controls",
          "model_name": "DescriptionStyleModel",
          "model_module_version": "1.5.0",
          "state": {
            "_model_module": "@jupyter-widgets/controls",
            "_model_module_version": "1.5.0",
            "_model_name": "DescriptionStyleModel",
            "_view_count": null,
            "_view_module": "@jupyter-widgets/base",
            "_view_module_version": "1.2.0",
            "_view_name": "StyleView",
            "description_width": ""
          }
        },
        "7485e8d572c44c209d5603b2896a4709": {
          "model_module": "@jupyter-widgets/base",
          "model_name": "LayoutModel",
          "model_module_version": "1.2.0",
          "state": {
            "_model_module": "@jupyter-widgets/base",
            "_model_module_version": "1.2.0",
            "_model_name": "LayoutModel",
            "_view_count": null,
            "_view_module": "@jupyter-widgets/base",
            "_view_module_version": "1.2.0",
            "_view_name": "LayoutView",
            "align_content": null,
            "align_items": null,
            "align_self": null,
            "border": null,
            "bottom": null,
            "display": null,
            "flex": null,
            "flex_flow": null,
            "grid_area": null,
            "grid_auto_columns": null,
            "grid_auto_flow": null,
            "grid_auto_rows": null,
            "grid_column": null,
            "grid_gap": null,
            "grid_row": null,
            "grid_template_areas": null,
            "grid_template_columns": null,
            "grid_template_rows": null,
            "height": null,
            "justify_content": null,
            "justify_items": null,
            "left": null,
            "margin": null,
            "max_height": null,
            "max_width": null,
            "min_height": null,
            "min_width": null,
            "object_fit": null,
            "object_position": null,
            "order": null,
            "overflow": null,
            "overflow_x": null,
            "overflow_y": null,
            "padding": null,
            "right": null,
            "top": null,
            "visibility": null,
            "width": null
          }
        },
        "db35d743ae1e4db69ed7ac3946031c0d": {
          "model_module": "@jupyter-widgets/controls",
          "model_name": "ProgressStyleModel",
          "model_module_version": "1.5.0",
          "state": {
            "_model_module": "@jupyter-widgets/controls",
            "_model_module_version": "1.5.0",
            "_model_name": "ProgressStyleModel",
            "_view_count": null,
            "_view_module": "@jupyter-widgets/base",
            "_view_module_version": "1.2.0",
            "_view_name": "StyleView",
            "bar_color": null,
            "description_width": ""
          }
        },
        "a48d0de3314c4c45aed47c903a18f681": {
          "model_module": "@jupyter-widgets/base",
          "model_name": "LayoutModel",
          "model_module_version": "1.2.0",
          "state": {
            "_model_module": "@jupyter-widgets/base",
            "_model_module_version": "1.2.0",
            "_model_name": "LayoutModel",
            "_view_count": null,
            "_view_module": "@jupyter-widgets/base",
            "_view_module_version": "1.2.0",
            "_view_name": "LayoutView",
            "align_content": null,
            "align_items": null,
            "align_self": null,
            "border": null,
            "bottom": null,
            "display": null,
            "flex": null,
            "flex_flow": null,
            "grid_area": null,
            "grid_auto_columns": null,
            "grid_auto_flow": null,
            "grid_auto_rows": null,
            "grid_column": null,
            "grid_gap": null,
            "grid_row": null,
            "grid_template_areas": null,
            "grid_template_columns": null,
            "grid_template_rows": null,
            "height": null,
            "justify_content": null,
            "justify_items": null,
            "left": null,
            "margin": null,
            "max_height": null,
            "max_width": null,
            "min_height": null,
            "min_width": null,
            "object_fit": null,
            "object_position": null,
            "order": null,
            "overflow": null,
            "overflow_x": null,
            "overflow_y": null,
            "padding": null,
            "right": null,
            "top": null,
            "visibility": null,
            "width": null
          }
        },
        "21a7bb28d10a406db3bca8c8f90a3e58": {
          "model_module": "@jupyter-widgets/controls",
          "model_name": "DescriptionStyleModel",
          "model_module_version": "1.5.0",
          "state": {
            "_model_module": "@jupyter-widgets/controls",
            "_model_module_version": "1.5.0",
            "_model_name": "DescriptionStyleModel",
            "_view_count": null,
            "_view_module": "@jupyter-widgets/base",
            "_view_module_version": "1.2.0",
            "_view_name": "StyleView",
            "description_width": ""
          }
        }
      }
    }
  },
  "cells": [
    {
      "cell_type": "markdown",
      "metadata": {
        "id": "view-in-github",
        "colab_type": "text"
      },
      "source": [
        "<a href=\"https://colab.research.google.com/github/arutraj/ML_Basics/blob/main/ClusterQuest.ipynb\" target=\"_parent\"><img src=\"https://colab.research.google.com/assets/colab-badge.svg\" alt=\"Open In Colab\"/></a>"
      ]
    },
    {
      "cell_type": "code",
      "source": [
        "# prompt: mount google drive\n",
        "\n",
        "from google.colab import drive\n",
        "drive.mount('/content/drive')\n"
      ],
      "metadata": {
        "colab": {
          "base_uri": "https://localhost:8080/"
        },
        "id": "ra_3S9pwi1HT",
        "outputId": "218e6059-fc88-4756-bea2-147048dac9a4"
      },
      "execution_count": 1,
      "outputs": [
        {
          "output_type": "stream",
          "name": "stdout",
          "text": [
            "Drive already mounted at /content/drive; to attempt to forcibly remount, call drive.mount(\"/content/drive\", force_remount=True).\n"
          ]
        }
      ]
    },
    {
      "cell_type": "code",
      "source": [
        "!pip install networkx --upgrade"
      ],
      "metadata": {
        "colab": {
          "base_uri": "https://localhost:8080/"
        },
        "id": "tP3xGiRAJ-Wk",
        "outputId": "ab648aa5-6480-4147-c836-e5f78f4705ed"
      },
      "execution_count": 2,
      "outputs": [
        {
          "output_type": "stream",
          "name": "stdout",
          "text": [
            "Requirement already satisfied: networkx in /usr/local/lib/python3.10/dist-packages (3.3)\n"
          ]
        }
      ]
    },
    {
      "cell_type": "code",
      "source": [
        "!pip install matplotlib --upgrade"
      ],
      "metadata": {
        "colab": {
          "base_uri": "https://localhost:8080/"
        },
        "id": "jQyc9O8uJjuI",
        "outputId": "c9c637c2-d8a4-463c-fee8-787355c63e9e"
      },
      "execution_count": 3,
      "outputs": [
        {
          "output_type": "stream",
          "name": "stdout",
          "text": [
            "Requirement already satisfied: matplotlib in /usr/local/lib/python3.10/dist-packages (3.7.1)\n",
            "Collecting matplotlib\n",
            "  Downloading matplotlib-3.9.0-cp310-cp310-manylinux_2_17_x86_64.manylinux2014_x86_64.whl (8.3 MB)\n",
            "\u001b[2K     \u001b[90m━━━━━━━━━━━━━━━━━━━━━━━━━━━━━━━━━━━━━━━━\u001b[0m \u001b[32m8.3/8.3 MB\u001b[0m \u001b[31m14.0 MB/s\u001b[0m eta \u001b[36m0:00:00\u001b[0m\n",
            "\u001b[?25hRequirement already satisfied: contourpy>=1.0.1 in /usr/local/lib/python3.10/dist-packages (from matplotlib) (1.2.1)\n",
            "Requirement already satisfied: cycler>=0.10 in /usr/local/lib/python3.10/dist-packages (from matplotlib) (0.12.1)\n",
            "Requirement already satisfied: fonttools>=4.22.0 in /usr/local/lib/python3.10/dist-packages (from matplotlib) (4.51.0)\n",
            "Requirement already satisfied: kiwisolver>=1.3.1 in /usr/local/lib/python3.10/dist-packages (from matplotlib) (1.4.5)\n",
            "Requirement already satisfied: numpy>=1.23 in /usr/local/lib/python3.10/dist-packages (from matplotlib) (1.25.2)\n",
            "Requirement already satisfied: packaging>=20.0 in /usr/local/lib/python3.10/dist-packages (from matplotlib) (24.0)\n",
            "Requirement already satisfied: pillow>=8 in /usr/local/lib/python3.10/dist-packages (from matplotlib) (9.4.0)\n",
            "Requirement already satisfied: pyparsing>=2.3.1 in /usr/local/lib/python3.10/dist-packages (from matplotlib) (3.1.2)\n",
            "Requirement already satisfied: python-dateutil>=2.7 in /usr/local/lib/python3.10/dist-packages (from matplotlib) (2.8.2)\n",
            "Requirement already satisfied: six>=1.5 in /usr/local/lib/python3.10/dist-packages (from python-dateutil>=2.7->matplotlib) (1.16.0)\n",
            "Installing collected packages: matplotlib\n",
            "  Attempting uninstall: matplotlib\n",
            "    Found existing installation: matplotlib 3.7.1\n",
            "    Uninstalling matplotlib-3.7.1:\n",
            "      Successfully uninstalled matplotlib-3.7.1\n",
            "Successfully installed matplotlib-3.9.0\n"
          ]
        }
      ]
    },
    {
      "cell_type": "code",
      "source": [
        "!pip install pycaret"
      ],
      "metadata": {
        "colab": {
          "base_uri": "https://localhost:8080/",
          "height": 1000
        },
        "id": "psYJux-xSXdu",
        "outputId": "45abc400-6656-4cf0-ed96-aa33861dbf2d"
      },
      "execution_count": 4,
      "outputs": [
        {
          "output_type": "stream",
          "name": "stdout",
          "text": [
            "Collecting pycaret\n",
            "  Downloading pycaret-3.3.2-py3-none-any.whl (486 kB)\n",
            "\u001b[2K     \u001b[90m━━━━━━━━━━━━━━━━━━━━━━━━━━━━━━━━━━━━━━━━\u001b[0m \u001b[32m486.1/486.1 kB\u001b[0m \u001b[31m4.3 MB/s\u001b[0m eta \u001b[36m0:00:00\u001b[0m\n",
            "\u001b[?25hRequirement already satisfied: ipython>=5.5.0 in /usr/local/lib/python3.10/dist-packages (from pycaret) (7.34.0)\n",
            "Requirement already satisfied: ipywidgets>=7.6.5 in /usr/local/lib/python3.10/dist-packages (from pycaret) (7.7.1)\n",
            "Requirement already satisfied: tqdm>=4.62.0 in /usr/local/lib/python3.10/dist-packages (from pycaret) (4.66.4)\n",
            "Requirement already satisfied: numpy<1.27,>=1.21 in /usr/local/lib/python3.10/dist-packages (from pycaret) (1.25.2)\n",
            "Requirement already satisfied: pandas<2.2.0 in /usr/local/lib/python3.10/dist-packages (from pycaret) (2.0.3)\n",
            "Requirement already satisfied: jinja2>=3 in /usr/local/lib/python3.10/dist-packages (from pycaret) (3.1.4)\n",
            "Requirement already satisfied: scipy<=1.11.4,>=1.6.1 in /usr/local/lib/python3.10/dist-packages (from pycaret) (1.11.4)\n",
            "Collecting joblib<1.4,>=1.2.0 (from pycaret)\n",
            "  Downloading joblib-1.3.2-py3-none-any.whl (302 kB)\n",
            "\u001b[2K     \u001b[90m━━━━━━━━━━━━━━━━━━━━━━━━━━━━━━━━━━━━━━━━\u001b[0m \u001b[32m302.2/302.2 kB\u001b[0m \u001b[31m11.9 MB/s\u001b[0m eta \u001b[36m0:00:00\u001b[0m\n",
            "\u001b[?25hCollecting scikit-learn>1.4.0 (from pycaret)\n",
            "  Downloading scikit_learn-1.5.0-cp310-cp310-manylinux_2_17_x86_64.manylinux2014_x86_64.whl (13.3 MB)\n",
            "\u001b[2K     \u001b[90m━━━━━━━━━━━━━━━━━━━━━━━━━━━━━━━━━━━━━━━━\u001b[0m \u001b[32m13.3/13.3 MB\u001b[0m \u001b[31m20.1 MB/s\u001b[0m eta \u001b[36m0:00:00\u001b[0m\n",
            "\u001b[?25hCollecting pyod>=1.1.3 (from pycaret)\n",
            "  Downloading pyod-1.1.3.tar.gz (160 kB)\n",
            "\u001b[2K     \u001b[90m━━━━━━━━━━━━━━━━━━━━━━━━━━━━━━━━━━━━━━━━\u001b[0m \u001b[32m160.5/160.5 kB\u001b[0m \u001b[31m11.9 MB/s\u001b[0m eta \u001b[36m0:00:00\u001b[0m\n",
            "\u001b[?25h  Preparing metadata (setup.py) ... \u001b[?25l\u001b[?25hdone\n",
            "Collecting imbalanced-learn>=0.12.0 (from pycaret)\n",
            "  Downloading imbalanced_learn-0.12.3-py3-none-any.whl (258 kB)\n",
            "\u001b[2K     \u001b[90m━━━━━━━━━━━━━━━━━━━━━━━━━━━━━━━━━━━━━━━━\u001b[0m \u001b[32m258.3/258.3 kB\u001b[0m \u001b[31m14.9 MB/s\u001b[0m eta \u001b[36m0:00:00\u001b[0m\n",
            "\u001b[?25hCollecting category-encoders>=2.4.0 (from pycaret)\n",
            "  Downloading category_encoders-2.6.3-py2.py3-none-any.whl (81 kB)\n",
            "\u001b[2K     \u001b[90m━━━━━━━━━━━━━━━━━━━━━━━━━━━━━━━━━━━━━━━━\u001b[0m \u001b[32m81.9/81.9 kB\u001b[0m \u001b[31m5.3 MB/s\u001b[0m eta \u001b[36m0:00:00\u001b[0m\n",
            "\u001b[?25hRequirement already satisfied: lightgbm>=3.0.0 in /usr/local/lib/python3.10/dist-packages (from pycaret) (4.1.0)\n",
            "Requirement already satisfied: numba>=0.55.0 in /usr/local/lib/python3.10/dist-packages (from pycaret) (0.58.1)\n",
            "Requirement already satisfied: requests>=2.27.1 in /usr/local/lib/python3.10/dist-packages (from pycaret) (2.31.0)\n",
            "Requirement already satisfied: psutil>=5.9.0 in /usr/local/lib/python3.10/dist-packages (from pycaret) (5.9.5)\n",
            "Requirement already satisfied: markupsafe>=2.0.1 in /usr/local/lib/python3.10/dist-packages (from pycaret) (2.1.5)\n",
            "Requirement already satisfied: importlib-metadata>=4.12.0 in /usr/local/lib/python3.10/dist-packages (from pycaret) (7.1.0)\n",
            "Requirement already satisfied: nbformat>=4.2.0 in /usr/local/lib/python3.10/dist-packages (from pycaret) (5.10.4)\n",
            "Requirement already satisfied: cloudpickle in /usr/local/lib/python3.10/dist-packages (from pycaret) (2.2.1)\n",
            "Collecting deprecation>=2.1.0 (from pycaret)\n",
            "  Downloading deprecation-2.1.0-py2.py3-none-any.whl (11 kB)\n",
            "Collecting xxhash (from pycaret)\n",
            "  Downloading xxhash-3.4.1-cp310-cp310-manylinux_2_17_x86_64.manylinux2014_x86_64.whl (194 kB)\n",
            "\u001b[2K     \u001b[90m━━━━━━━━━━━━━━━━━━━━━━━━━━━━━━━━━━━━━━━━\u001b[0m \u001b[32m194.1/194.1 kB\u001b[0m \u001b[31m5.2 MB/s\u001b[0m eta \u001b[36m0:00:00\u001b[0m\n",
            "\u001b[?25hCollecting matplotlib<3.8.0 (from pycaret)\n",
            "  Downloading matplotlib-3.7.5-cp310-cp310-manylinux_2_17_x86_64.manylinux2014_x86_64.whl (11.6 MB)\n",
            "\u001b[2K     \u001b[90m━━━━━━━━━━━━━━━━━━━━━━━━━━━━━━━━━━━━━━━━\u001b[0m \u001b[32m11.6/11.6 MB\u001b[0m \u001b[31m19.5 MB/s\u001b[0m eta \u001b[36m0:00:00\u001b[0m\n",
            "\u001b[?25hCollecting scikit-plot>=0.3.7 (from pycaret)\n",
            "  Downloading scikit_plot-0.3.7-py3-none-any.whl (33 kB)\n",
            "Requirement already satisfied: yellowbrick>=1.4 in /usr/local/lib/python3.10/dist-packages (from pycaret) (1.5)\n",
            "Requirement already satisfied: plotly>=5.14.0 in /usr/local/lib/python3.10/dist-packages (from pycaret) (5.15.0)\n",
            "Collecting kaleido>=0.2.1 (from pycaret)\n",
            "  Downloading kaleido-0.2.1-py2.py3-none-manylinux1_x86_64.whl (79.9 MB)\n",
            "\u001b[2K     \u001b[90m━━━━━━━━━━━━━━━━━━━━━━━━━━━━━━━━━━━━━━━━\u001b[0m \u001b[32m79.9/79.9 MB\u001b[0m \u001b[31m5.2 MB/s\u001b[0m eta \u001b[36m0:00:00\u001b[0m\n",
            "\u001b[?25hCollecting schemdraw==0.15 (from pycaret)\n",
            "  Downloading schemdraw-0.15-py3-none-any.whl (106 kB)\n",
            "\u001b[2K     \u001b[90m━━━━━━━━━━━━━━━━━━━━━━━━━━━━━━━━━━━━━━━━\u001b[0m \u001b[32m106.8/106.8 kB\u001b[0m \u001b[31m9.8 MB/s\u001b[0m eta \u001b[36m0:00:00\u001b[0m\n",
            "\u001b[?25hCollecting plotly-resampler>=0.8.3.1 (from pycaret)\n",
            "  Downloading plotly_resampler-0.10.0-py3-none-any.whl (80 kB)\n",
            "\u001b[2K     \u001b[90m━━━━━━━━━━━━━━━━━━━━━━━━━━━━━━━━━━━━━━━━\u001b[0m \u001b[32m80.7/80.7 kB\u001b[0m \u001b[31m8.8 MB/s\u001b[0m eta \u001b[36m0:00:00\u001b[0m\n",
            "\u001b[?25hRequirement already satisfied: statsmodels>=0.12.1 in /usr/local/lib/python3.10/dist-packages (from pycaret) (0.14.2)\n",
            "Collecting sktime==0.26.0 (from pycaret)\n",
            "  Downloading sktime-0.26.0-py3-none-any.whl (21.8 MB)\n",
            "\u001b[2K     \u001b[90m━━━━━━━━━━━━━━━━━━━━━━━━━━━━━━━━━━━━━━━━\u001b[0m \u001b[32m21.8/21.8 MB\u001b[0m \u001b[31m49.0 MB/s\u001b[0m eta \u001b[36m0:00:00\u001b[0m\n",
            "\u001b[?25hCollecting tbats>=1.1.3 (from pycaret)\n",
            "  Downloading tbats-1.1.3-py3-none-any.whl (44 kB)\n",
            "\u001b[2K     \u001b[90m━━━━━━━━━━━━━━━━━━━━━━━━━━━━━━━━━━━━━━━━\u001b[0m \u001b[32m44.0/44.0 kB\u001b[0m \u001b[31m4.7 MB/s\u001b[0m eta \u001b[36m0:00:00\u001b[0m\n",
            "\u001b[?25hCollecting pmdarima>=2.0.4 (from pycaret)\n",
            "  Downloading pmdarima-2.0.4-cp310-cp310-manylinux_2_17_x86_64.manylinux2014_x86_64.manylinux_2_28_x86_64.whl (2.1 MB)\n",
            "\u001b[2K     \u001b[90m━━━━━━━━━━━━━━━━━━━━━━━━━━━━━━━━━━━━━━━━\u001b[0m \u001b[32m2.1/2.1 MB\u001b[0m \u001b[31m75.6 MB/s\u001b[0m eta \u001b[36m0:00:00\u001b[0m\n",
            "\u001b[?25hCollecting wurlitzer (from pycaret)\n",
            "  Downloading wurlitzer-3.1.0-py3-none-any.whl (8.4 kB)\n",
            "Requirement already satisfied: packaging in /usr/local/lib/python3.10/dist-packages (from sktime==0.26.0->pycaret) (24.0)\n",
            "Collecting scikit-base<0.8.0 (from sktime==0.26.0->pycaret)\n",
            "  Downloading scikit_base-0.7.8-py3-none-any.whl (130 kB)\n",
            "\u001b[2K     \u001b[90m━━━━━━━━━━━━━━━━━━━━━━━━━━━━━━━━━━━━━━━━\u001b[0m \u001b[32m130.1/130.1 kB\u001b[0m \u001b[31m14.6 MB/s\u001b[0m eta \u001b[36m0:00:00\u001b[0m\n",
            "\u001b[?25hCollecting scikit-learn>1.4.0 (from pycaret)\n",
            "  Downloading scikit_learn-1.4.2-cp310-cp310-manylinux_2_17_x86_64.manylinux2014_x86_64.whl (12.1 MB)\n",
            "\u001b[2K     \u001b[90m━━━━━━━━━━━━━━━━━━━━━━━━━━━━━━━━━━━━━━━━\u001b[0m \u001b[32m12.1/12.1 MB\u001b[0m \u001b[31m69.4 MB/s\u001b[0m eta \u001b[36m0:00:00\u001b[0m\n",
            "\u001b[?25hRequirement already satisfied: patsy>=0.5.1 in /usr/local/lib/python3.10/dist-packages (from category-encoders>=2.4.0->pycaret) (0.5.6)\n",
            "Requirement already satisfied: threadpoolctl>=2.0.0 in /usr/local/lib/python3.10/dist-packages (from imbalanced-learn>=0.12.0->pycaret) (3.5.0)\n",
            "Requirement already satisfied: zipp>=0.5 in /usr/local/lib/python3.10/dist-packages (from importlib-metadata>=4.12.0->pycaret) (3.18.2)\n",
            "Requirement already satisfied: setuptools>=18.5 in /usr/local/lib/python3.10/dist-packages (from ipython>=5.5.0->pycaret) (67.7.2)\n",
            "Collecting jedi>=0.16 (from ipython>=5.5.0->pycaret)\n",
            "  Downloading jedi-0.19.1-py2.py3-none-any.whl (1.6 MB)\n",
            "\u001b[2K     \u001b[90m━━━━━━━━━━━━━━━━━━━━━━━━━━━━━━━━━━━━━━━━\u001b[0m \u001b[32m1.6/1.6 MB\u001b[0m \u001b[31m51.2 MB/s\u001b[0m eta \u001b[36m0:00:00\u001b[0m\n",
            "\u001b[?25hRequirement already satisfied: decorator in /usr/local/lib/python3.10/dist-packages (from ipython>=5.5.0->pycaret) (4.4.2)\n",
            "Requirement already satisfied: pickleshare in /usr/local/lib/python3.10/dist-packages (from ipython>=5.5.0->pycaret) (0.7.5)\n",
            "Requirement already satisfied: traitlets>=4.2 in /usr/local/lib/python3.10/dist-packages (from ipython>=5.5.0->pycaret) (5.7.1)\n",
            "Requirement already satisfied: prompt-toolkit!=3.0.0,!=3.0.1,<3.1.0,>=2.0.0 in /usr/local/lib/python3.10/dist-packages (from ipython>=5.5.0->pycaret) (3.0.43)\n",
            "Requirement already satisfied: pygments in /usr/local/lib/python3.10/dist-packages (from ipython>=5.5.0->pycaret) (2.16.1)\n",
            "Requirement already satisfied: backcall in /usr/local/lib/python3.10/dist-packages (from ipython>=5.5.0->pycaret) (0.2.0)\n",
            "Requirement already satisfied: matplotlib-inline in /usr/local/lib/python3.10/dist-packages (from ipython>=5.5.0->pycaret) (0.1.7)\n",
            "Requirement already satisfied: pexpect>4.3 in /usr/local/lib/python3.10/dist-packages (from ipython>=5.5.0->pycaret) (4.9.0)\n",
            "Requirement already satisfied: ipykernel>=4.5.1 in /usr/local/lib/python3.10/dist-packages (from ipywidgets>=7.6.5->pycaret) (5.5.6)\n",
            "Requirement already satisfied: ipython-genutils~=0.2.0 in /usr/local/lib/python3.10/dist-packages (from ipywidgets>=7.6.5->pycaret) (0.2.0)\n",
            "Requirement already satisfied: widgetsnbextension~=3.6.0 in /usr/local/lib/python3.10/dist-packages (from ipywidgets>=7.6.5->pycaret) (3.6.6)\n",
            "Requirement already satisfied: jupyterlab-widgets>=1.0.0 in /usr/local/lib/python3.10/dist-packages (from ipywidgets>=7.6.5->pycaret) (3.0.10)\n",
            "Requirement already satisfied: contourpy>=1.0.1 in /usr/local/lib/python3.10/dist-packages (from matplotlib<3.8.0->pycaret) (1.2.1)\n",
            "Requirement already satisfied: cycler>=0.10 in /usr/local/lib/python3.10/dist-packages (from matplotlib<3.8.0->pycaret) (0.12.1)\n",
            "Requirement already satisfied: fonttools>=4.22.0 in /usr/local/lib/python3.10/dist-packages (from matplotlib<3.8.0->pycaret) (4.51.0)\n",
            "Requirement already satisfied: kiwisolver>=1.0.1 in /usr/local/lib/python3.10/dist-packages (from matplotlib<3.8.0->pycaret) (1.4.5)\n",
            "Requirement already satisfied: pillow>=6.2.0 in /usr/local/lib/python3.10/dist-packages (from matplotlib<3.8.0->pycaret) (9.4.0)\n",
            "Requirement already satisfied: pyparsing>=2.3.1 in /usr/local/lib/python3.10/dist-packages (from matplotlib<3.8.0->pycaret) (3.1.2)\n",
            "Requirement already satisfied: python-dateutil>=2.7 in /usr/local/lib/python3.10/dist-packages (from matplotlib<3.8.0->pycaret) (2.8.2)\n",
            "Requirement already satisfied: fastjsonschema>=2.15 in /usr/local/lib/python3.10/dist-packages (from nbformat>=4.2.0->pycaret) (2.19.1)\n",
            "Requirement already satisfied: jsonschema>=2.6 in /usr/local/lib/python3.10/dist-packages (from nbformat>=4.2.0->pycaret) (4.19.2)\n",
            "Requirement already satisfied: jupyter-core!=5.0.*,>=4.12 in /usr/local/lib/python3.10/dist-packages (from nbformat>=4.2.0->pycaret) (5.7.2)\n",
            "Requirement already satisfied: llvmlite<0.42,>=0.41.0dev0 in /usr/local/lib/python3.10/dist-packages (from numba>=0.55.0->pycaret) (0.41.1)\n",
            "Requirement already satisfied: pytz>=2020.1 in /usr/local/lib/python3.10/dist-packages (from pandas<2.2.0->pycaret) (2023.4)\n",
            "Requirement already satisfied: tzdata>=2022.1 in /usr/local/lib/python3.10/dist-packages (from pandas<2.2.0->pycaret) (2024.1)\n",
            "Requirement already satisfied: tenacity>=6.2.0 in /usr/local/lib/python3.10/dist-packages (from plotly>=5.14.0->pycaret) (8.3.0)\n",
            "Collecting dash>=2.9.0 (from plotly-resampler>=0.8.3.1->pycaret)\n",
            "  Downloading dash-2.17.0-py3-none-any.whl (7.5 MB)\n",
            "\u001b[2K     \u001b[90m━━━━━━━━━━━━━━━━━━━━━━━━━━━━━━━━━━━━━━━━\u001b[0m \u001b[32m7.5/7.5 MB\u001b[0m \u001b[31m37.8 MB/s\u001b[0m eta \u001b[36m0:00:00\u001b[0m\n",
            "\u001b[?25hCollecting orjson<4.0.0,>=3.8.0 (from plotly-resampler>=0.8.3.1->pycaret)\n",
            "  Downloading orjson-3.10.3-cp310-cp310-manylinux_2_17_x86_64.manylinux2014_x86_64.whl (142 kB)\n",
            "\u001b[2K     \u001b[90m━━━━━━━━━━━━━━━━━━━━━━━━━━━━━━━━━━━━━━━━\u001b[0m \u001b[32m142.5/142.5 kB\u001b[0m \u001b[31m10.6 MB/s\u001b[0m eta \u001b[36m0:00:00\u001b[0m\n",
            "\u001b[?25hCollecting tsdownsample>=0.1.3 (from plotly-resampler>=0.8.3.1->pycaret)\n",
            "  Downloading tsdownsample-0.1.3-cp310-cp310-manylinux_2_17_x86_64.manylinux2014_x86_64.whl (2.1 MB)\n",
            "\u001b[2K     \u001b[90m━━━━━━━━━━━━━━━━━━━━━━━━━━━━━━━━━━━━━━━━\u001b[0m \u001b[32m2.1/2.1 MB\u001b[0m \u001b[31m51.3 MB/s\u001b[0m eta \u001b[36m0:00:00\u001b[0m\n",
            "\u001b[?25hRequirement already satisfied: Cython!=0.29.18,!=0.29.31,>=0.29 in /usr/local/lib/python3.10/dist-packages (from pmdarima>=2.0.4->pycaret) (3.0.10)\n",
            "Requirement already satisfied: urllib3 in /usr/local/lib/python3.10/dist-packages (from pmdarima>=2.0.4->pycaret) (2.0.7)\n",
            "Requirement already satisfied: six in /usr/local/lib/python3.10/dist-packages (from pyod>=1.1.3->pycaret) (1.16.0)\n",
            "Requirement already satisfied: charset-normalizer<4,>=2 in /usr/local/lib/python3.10/dist-packages (from requests>=2.27.1->pycaret) (3.3.2)\n",
            "Requirement already satisfied: idna<4,>=2.5 in /usr/local/lib/python3.10/dist-packages (from requests>=2.27.1->pycaret) (3.7)\n",
            "Requirement already satisfied: certifi>=2017.4.17 in /usr/local/lib/python3.10/dist-packages (from requests>=2.27.1->pycaret) (2024.2.2)\n",
            "Requirement already satisfied: Flask<3.1,>=1.0.4 in /usr/local/lib/python3.10/dist-packages (from dash>=2.9.0->plotly-resampler>=0.8.3.1->pycaret) (2.2.5)\n",
            "Requirement already satisfied: Werkzeug<3.1 in /usr/local/lib/python3.10/dist-packages (from dash>=2.9.0->plotly-resampler>=0.8.3.1->pycaret) (3.0.3)\n",
            "Collecting dash-html-components==2.0.0 (from dash>=2.9.0->plotly-resampler>=0.8.3.1->pycaret)\n",
            "  Downloading dash_html_components-2.0.0-py3-none-any.whl (4.1 kB)\n",
            "Collecting dash-core-components==2.0.0 (from dash>=2.9.0->plotly-resampler>=0.8.3.1->pycaret)\n",
            "  Downloading dash_core_components-2.0.0-py3-none-any.whl (3.8 kB)\n",
            "Collecting dash-table==5.0.0 (from dash>=2.9.0->plotly-resampler>=0.8.3.1->pycaret)\n",
            "  Downloading dash_table-5.0.0-py3-none-any.whl (3.9 kB)\n",
            "Requirement already satisfied: typing-extensions>=4.1.1 in /usr/local/lib/python3.10/dist-packages (from dash>=2.9.0->plotly-resampler>=0.8.3.1->pycaret) (4.11.0)\n",
            "Collecting retrying (from dash>=2.9.0->plotly-resampler>=0.8.3.1->pycaret)\n",
            "  Downloading retrying-1.3.4-py3-none-any.whl (11 kB)\n",
            "Requirement already satisfied: nest-asyncio in /usr/local/lib/python3.10/dist-packages (from dash>=2.9.0->plotly-resampler>=0.8.3.1->pycaret) (1.6.0)\n",
            "Requirement already satisfied: jupyter-client in /usr/local/lib/python3.10/dist-packages (from ipykernel>=4.5.1->ipywidgets>=7.6.5->pycaret) (6.1.12)\n",
            "Requirement already satisfied: tornado>=4.2 in /usr/local/lib/python3.10/dist-packages (from ipykernel>=4.5.1->ipywidgets>=7.6.5->pycaret) (6.3.3)\n",
            "Requirement already satisfied: parso<0.9.0,>=0.8.3 in /usr/local/lib/python3.10/dist-packages (from jedi>=0.16->ipython>=5.5.0->pycaret) (0.8.4)\n",
            "Requirement already satisfied: attrs>=22.2.0 in /usr/local/lib/python3.10/dist-packages (from jsonschema>=2.6->nbformat>=4.2.0->pycaret) (23.2.0)\n",
            "Requirement already satisfied: jsonschema-specifications>=2023.03.6 in /usr/local/lib/python3.10/dist-packages (from jsonschema>=2.6->nbformat>=4.2.0->pycaret) (2023.12.1)\n",
            "Requirement already satisfied: referencing>=0.28.4 in /usr/local/lib/python3.10/dist-packages (from jsonschema>=2.6->nbformat>=4.2.0->pycaret) (0.35.1)\n",
            "Requirement already satisfied: rpds-py>=0.7.1 in /usr/local/lib/python3.10/dist-packages (from jsonschema>=2.6->nbformat>=4.2.0->pycaret) (0.18.1)\n",
            "Requirement already satisfied: platformdirs>=2.5 in /usr/local/lib/python3.10/dist-packages (from jupyter-core!=5.0.*,>=4.12->nbformat>=4.2.0->pycaret) (4.2.2)\n",
            "Requirement already satisfied: ptyprocess>=0.5 in /usr/local/lib/python3.10/dist-packages (from pexpect>4.3->ipython>=5.5.0->pycaret) (0.7.0)\n",
            "Requirement already satisfied: wcwidth in /usr/local/lib/python3.10/dist-packages (from prompt-toolkit!=3.0.0,!=3.0.1,<3.1.0,>=2.0.0->ipython>=5.5.0->pycaret) (0.2.13)\n",
            "Requirement already satisfied: notebook>=4.4.1 in /usr/local/lib/python3.10/dist-packages (from widgetsnbextension~=3.6.0->ipywidgets>=7.6.5->pycaret) (6.5.5)\n",
            "Requirement already satisfied: itsdangerous>=2.0 in /usr/local/lib/python3.10/dist-packages (from Flask<3.1,>=1.0.4->dash>=2.9.0->plotly-resampler>=0.8.3.1->pycaret) (2.2.0)\n",
            "Requirement already satisfied: click>=8.0 in /usr/local/lib/python3.10/dist-packages (from Flask<3.1,>=1.0.4->dash>=2.9.0->plotly-resampler>=0.8.3.1->pycaret) (8.1.7)\n",
            "Requirement already satisfied: pyzmq<25,>=17 in /usr/local/lib/python3.10/dist-packages (from notebook>=4.4.1->widgetsnbextension~=3.6.0->ipywidgets>=7.6.5->pycaret) (24.0.1)\n",
            "Requirement already satisfied: argon2-cffi in /usr/local/lib/python3.10/dist-packages (from notebook>=4.4.1->widgetsnbextension~=3.6.0->ipywidgets>=7.6.5->pycaret) (23.1.0)\n",
            "Requirement already satisfied: nbconvert>=5 in /usr/local/lib/python3.10/dist-packages (from notebook>=4.4.1->widgetsnbextension~=3.6.0->ipywidgets>=7.6.5->pycaret) (6.5.4)\n",
            "Requirement already satisfied: Send2Trash>=1.8.0 in /usr/local/lib/python3.10/dist-packages (from notebook>=4.4.1->widgetsnbextension~=3.6.0->ipywidgets>=7.6.5->pycaret) (1.8.3)\n",
            "Requirement already satisfied: terminado>=0.8.3 in /usr/local/lib/python3.10/dist-packages (from notebook>=4.4.1->widgetsnbextension~=3.6.0->ipywidgets>=7.6.5->pycaret) (0.18.1)\n",
            "Requirement already satisfied: prometheus-client in /usr/local/lib/python3.10/dist-packages (from notebook>=4.4.1->widgetsnbextension~=3.6.0->ipywidgets>=7.6.5->pycaret) (0.20.0)\n",
            "Requirement already satisfied: nbclassic>=0.4.7 in /usr/local/lib/python3.10/dist-packages (from notebook>=4.4.1->widgetsnbextension~=3.6.0->ipywidgets>=7.6.5->pycaret) (1.0.0)\n",
            "Requirement already satisfied: jupyter-server>=1.8 in /usr/local/lib/python3.10/dist-packages (from nbclassic>=0.4.7->notebook>=4.4.1->widgetsnbextension~=3.6.0->ipywidgets>=7.6.5->pycaret) (1.24.0)\n",
            "Requirement already satisfied: notebook-shim>=0.2.3 in /usr/local/lib/python3.10/dist-packages (from nbclassic>=0.4.7->notebook>=4.4.1->widgetsnbextension~=3.6.0->ipywidgets>=7.6.5->pycaret) (0.2.4)\n",
            "Requirement already satisfied: lxml in /usr/local/lib/python3.10/dist-packages (from nbconvert>=5->notebook>=4.4.1->widgetsnbextension~=3.6.0->ipywidgets>=7.6.5->pycaret) (4.9.4)\n",
            "Requirement already satisfied: beautifulsoup4 in /usr/local/lib/python3.10/dist-packages (from nbconvert>=5->notebook>=4.4.1->widgetsnbextension~=3.6.0->ipywidgets>=7.6.5->pycaret) (4.12.3)\n",
            "Requirement already satisfied: bleach in /usr/local/lib/python3.10/dist-packages (from nbconvert>=5->notebook>=4.4.1->widgetsnbextension~=3.6.0->ipywidgets>=7.6.5->pycaret) (6.1.0)\n",
            "Requirement already satisfied: defusedxml in /usr/local/lib/python3.10/dist-packages (from nbconvert>=5->notebook>=4.4.1->widgetsnbextension~=3.6.0->ipywidgets>=7.6.5->pycaret) (0.7.1)\n",
            "Requirement already satisfied: entrypoints>=0.2.2 in /usr/local/lib/python3.10/dist-packages (from nbconvert>=5->notebook>=4.4.1->widgetsnbextension~=3.6.0->ipywidgets>=7.6.5->pycaret) (0.4)\n",
            "Requirement already satisfied: jupyterlab-pygments in /usr/local/lib/python3.10/dist-packages (from nbconvert>=5->notebook>=4.4.1->widgetsnbextension~=3.6.0->ipywidgets>=7.6.5->pycaret) (0.3.0)\n",
            "Requirement already satisfied: mistune<2,>=0.8.1 in /usr/local/lib/python3.10/dist-packages (from nbconvert>=5->notebook>=4.4.1->widgetsnbextension~=3.6.0->ipywidgets>=7.6.5->pycaret) (0.8.4)\n",
            "Requirement already satisfied: nbclient>=0.5.0 in /usr/local/lib/python3.10/dist-packages (from nbconvert>=5->notebook>=4.4.1->widgetsnbextension~=3.6.0->ipywidgets>=7.6.5->pycaret) (0.10.0)\n",
            "Requirement already satisfied: pandocfilters>=1.4.1 in /usr/local/lib/python3.10/dist-packages (from nbconvert>=5->notebook>=4.4.1->widgetsnbextension~=3.6.0->ipywidgets>=7.6.5->pycaret) (1.5.1)\n",
            "Requirement already satisfied: tinycss2 in /usr/local/lib/python3.10/dist-packages (from nbconvert>=5->notebook>=4.4.1->widgetsnbextension~=3.6.0->ipywidgets>=7.6.5->pycaret) (1.3.0)\n",
            "Requirement already satisfied: argon2-cffi-bindings in /usr/local/lib/python3.10/dist-packages (from argon2-cffi->notebook>=4.4.1->widgetsnbextension~=3.6.0->ipywidgets>=7.6.5->pycaret) (21.2.0)\n",
            "Requirement already satisfied: anyio<4,>=3.1.0 in /usr/local/lib/python3.10/dist-packages (from jupyter-server>=1.8->nbclassic>=0.4.7->notebook>=4.4.1->widgetsnbextension~=3.6.0->ipywidgets>=7.6.5->pycaret) (3.7.1)\n",
            "Requirement already satisfied: websocket-client in /usr/local/lib/python3.10/dist-packages (from jupyter-server>=1.8->nbclassic>=0.4.7->notebook>=4.4.1->widgetsnbextension~=3.6.0->ipywidgets>=7.6.5->pycaret) (1.8.0)\n",
            "Requirement already satisfied: cffi>=1.0.1 in /usr/local/lib/python3.10/dist-packages (from argon2-cffi-bindings->argon2-cffi->notebook>=4.4.1->widgetsnbextension~=3.6.0->ipywidgets>=7.6.5->pycaret) (1.16.0)\n",
            "Requirement already satisfied: soupsieve>1.2 in /usr/local/lib/python3.10/dist-packages (from beautifulsoup4->nbconvert>=5->notebook>=4.4.1->widgetsnbextension~=3.6.0->ipywidgets>=7.6.5->pycaret) (2.5)\n",
            "Requirement already satisfied: webencodings in /usr/local/lib/python3.10/dist-packages (from bleach->nbconvert>=5->notebook>=4.4.1->widgetsnbextension~=3.6.0->ipywidgets>=7.6.5->pycaret) (0.5.1)\n",
            "Requirement already satisfied: sniffio>=1.1 in /usr/local/lib/python3.10/dist-packages (from anyio<4,>=3.1.0->jupyter-server>=1.8->nbclassic>=0.4.7->notebook>=4.4.1->widgetsnbextension~=3.6.0->ipywidgets>=7.6.5->pycaret) (1.3.1)\n",
            "Requirement already satisfied: exceptiongroup in /usr/local/lib/python3.10/dist-packages (from anyio<4,>=3.1.0->jupyter-server>=1.8->nbclassic>=0.4.7->notebook>=4.4.1->widgetsnbextension~=3.6.0->ipywidgets>=7.6.5->pycaret) (1.2.1)\n",
            "Requirement already satisfied: pycparser in /usr/local/lib/python3.10/dist-packages (from cffi>=1.0.1->argon2-cffi-bindings->argon2-cffi->notebook>=4.4.1->widgetsnbextension~=3.6.0->ipywidgets>=7.6.5->pycaret) (2.22)\n",
            "Building wheels for collected packages: pyod\n",
            "  Building wheel for pyod (setup.py) ... \u001b[?25l\u001b[?25hdone\n",
            "  Created wheel for pyod: filename=pyod-1.1.3-py3-none-any.whl size=190250 sha256=a881eea1942d998530bf2160341fdb4ef4ec37bc37a98c2656d32092c360e21a\n",
            "  Stored in directory: /root/.cache/pip/wheels/05/f8/db/124d43bec122d6ec0ab3713fadfe25ebed8af52ec561682b4e\n",
            "Successfully built pyod\n",
            "Installing collected packages: kaleido, dash-table, dash-html-components, dash-core-components, xxhash, wurlitzer, tsdownsample, scikit-base, schemdraw, retrying, orjson, joblib, jedi, deprecation, scikit-learn, matplotlib, sktime, scikit-plot, pyod, imbalanced-learn, dash, pmdarima, plotly-resampler, category-encoders, tbats, pycaret\n",
            "  Attempting uninstall: joblib\n",
            "    Found existing installation: joblib 1.4.2\n",
            "    Uninstalling joblib-1.4.2:\n",
            "      Successfully uninstalled joblib-1.4.2\n",
            "  Attempting uninstall: scikit-learn\n",
            "    Found existing installation: scikit-learn 1.2.2\n",
            "    Uninstalling scikit-learn-1.2.2:\n",
            "      Successfully uninstalled scikit-learn-1.2.2\n",
            "  Attempting uninstall: matplotlib\n",
            "    Found existing installation: matplotlib 3.9.0\n",
            "    Uninstalling matplotlib-3.9.0:\n",
            "      Successfully uninstalled matplotlib-3.9.0\n",
            "  Attempting uninstall: imbalanced-learn\n",
            "    Found existing installation: imbalanced-learn 0.10.1\n",
            "    Uninstalling imbalanced-learn-0.10.1:\n",
            "      Successfully uninstalled imbalanced-learn-0.10.1\n",
            "Successfully installed category-encoders-2.6.3 dash-2.17.0 dash-core-components-2.0.0 dash-html-components-2.0.0 dash-table-5.0.0 deprecation-2.1.0 imbalanced-learn-0.12.3 jedi-0.19.1 joblib-1.3.2 kaleido-0.2.1 matplotlib-3.7.5 orjson-3.10.3 plotly-resampler-0.10.0 pmdarima-2.0.4 pycaret-3.3.2 pyod-1.1.3 retrying-1.3.4 schemdraw-0.15 scikit-base-0.7.8 scikit-learn-1.4.2 scikit-plot-0.3.7 sktime-0.26.0 tbats-1.1.3 tsdownsample-0.1.3 wurlitzer-3.1.0 xxhash-3.4.1\n"
          ]
        },
        {
          "output_type": "display_data",
          "data": {
            "application/vnd.colab-display-data+json": {
              "pip_warning": {
                "packages": [
                  "matplotlib",
                  "mpl_toolkits"
                ]
              },
              "id": "431b08f7844a4825851c4694ed11b10c"
            }
          },
          "metadata": {}
        }
      ]
    },
    {
      "cell_type": "code",
      "source": [
        "!pip install igraph"
      ],
      "metadata": {
        "colab": {
          "base_uri": "https://localhost:8080/"
        },
        "id": "-JOHz_h0BrSm",
        "outputId": "c9f99fd9-80f4-432b-f1ae-3c8279106514"
      },
      "execution_count": 4,
      "outputs": [
        {
          "output_type": "stream",
          "name": "stdout",
          "text": [
            "Collecting igraph\n",
            "  Downloading igraph-0.11.5-cp39-abi3-manylinux_2_17_x86_64.manylinux2014_x86_64.whl (3.3 MB)\n",
            "\u001b[2K     \u001b[90m━━━━━━━━━━━━━━━━━━━━━━━━━━━━━━━━━━━━━━━━\u001b[0m \u001b[32m3.3/3.3 MB\u001b[0m \u001b[31m28.6 MB/s\u001b[0m eta \u001b[36m0:00:00\u001b[0m\n",
            "\u001b[?25hCollecting texttable>=1.6.2 (from igraph)\n",
            "  Downloading texttable-1.7.0-py2.py3-none-any.whl (10 kB)\n",
            "Installing collected packages: texttable, igraph\n",
            "Successfully installed igraph-0.11.5 texttable-1.7.0\n"
          ]
        }
      ]
    },
    {
      "cell_type": "code",
      "source": [
        "import pandas as pd\n",
        "import numpy as np\n",
        "import random\n",
        "import networkx as nx\n",
        "from tqdm import tqdm\n",
        "import re\n",
        "import matplotlib.pyplot as plt"
      ],
      "metadata": {
        "id": "NLTR7-EBTf07"
      },
      "execution_count": 2,
      "outputs": []
    },
    {
      "cell_type": "code",
      "source": [
        "from igraph import Graph\n",
        "igraph_fb = Graph.Read('/content/drive/MyDrive/facebook_combined.txt', directed = False)"
      ],
      "metadata": {
        "id": "P7MXYk3pKKss"
      },
      "execution_count": 3,
      "outputs": []
    },
    {
      "cell_type": "code",
      "source": [
        "import networkx as nx\n",
        "import matplotlib.pyplot as plt\n",
        "\n",
        "G1 =nx.read_edgelist(\"/content/drive/MyDrive/facebook_combined.txt\", create_using = nx.Graph(), nodetype=int)"
      ],
      "metadata": {
        "id": "0hv--kknLiAf"
      },
      "execution_count": 22,
      "outputs": []
    },
    {
      "cell_type": "code",
      "source": [
        "print(nx.info(G1))"
      ],
      "metadata": {
        "colab": {
          "base_uri": "https://localhost:8080/"
        },
        "id": "PH6JtB8zLq5f",
        "outputId": "be844598-3d48-4b19-9f91-08d338138fab"
      },
      "execution_count": 23,
      "outputs": [
        {
          "output_type": "stream",
          "name": "stdout",
          "text": [
            "Graph with 4039 nodes and 88234 edges\n"
          ]
        }
      ]
    },
    {
      "cell_type": "code",
      "source": [
        "pos = nx.spring_layout(G1)\n",
        "betCent = nx.betweenness_centrality(G1, normalized=True, endpoints=True)\n",
        "node_color = [20000.0 * G1.degree(v) for v in G1]\n",
        "node_size =  [v * 10000 for v in betCent.values()]\n",
        "plt.figure(figsize=(20,20))\n",
        "nx.draw_networkx(G1, pos=pos, with_labels=False,\n",
        "                 node_color=node_color,\n",
        "                 node_size=node_size )\n",
        "plt.axis('off')\n",
        "sorted(betCent, key=betCent.get, reverse=True)[:5]"
      ],
      "metadata": {
        "colab": {
          "base_uri": "https://localhost:8080/",
          "height": 356
        },
        "id": "gJbUWRwBLy3f",
        "outputId": "8940dd40-0ccc-4d6c-d3c7-1b3339607c23"
      },
      "execution_count": 24,
      "outputs": [
        {
          "output_type": "error",
          "ename": "KeyboardInterrupt",
          "evalue": "",
          "traceback": [
            "\u001b[0;31m---------------------------------------------------------------------------\u001b[0m",
            "\u001b[0;31mKeyboardInterrupt\u001b[0m                         Traceback (most recent call last)",
            "\u001b[0;32m<ipython-input-24-e636de361d8d>\u001b[0m in \u001b[0;36m<cell line: 2>\u001b[0;34m()\u001b[0m\n\u001b[1;32m      1\u001b[0m \u001b[0mpos\u001b[0m \u001b[0;34m=\u001b[0m \u001b[0mnx\u001b[0m\u001b[0;34m.\u001b[0m\u001b[0mspring_layout\u001b[0m\u001b[0;34m(\u001b[0m\u001b[0mG1\u001b[0m\u001b[0;34m)\u001b[0m\u001b[0;34m\u001b[0m\u001b[0;34m\u001b[0m\u001b[0m\n\u001b[0;32m----> 2\u001b[0;31m \u001b[0mbetCent\u001b[0m \u001b[0;34m=\u001b[0m \u001b[0mnx\u001b[0m\u001b[0;34m.\u001b[0m\u001b[0mbetweenness_centrality\u001b[0m\u001b[0;34m(\u001b[0m\u001b[0mG1\u001b[0m\u001b[0;34m,\u001b[0m \u001b[0mnormalized\u001b[0m\u001b[0;34m=\u001b[0m\u001b[0;32mTrue\u001b[0m\u001b[0;34m,\u001b[0m \u001b[0mendpoints\u001b[0m\u001b[0;34m=\u001b[0m\u001b[0;32mTrue\u001b[0m\u001b[0;34m)\u001b[0m\u001b[0;34m\u001b[0m\u001b[0;34m\u001b[0m\u001b[0m\n\u001b[0m\u001b[1;32m      3\u001b[0m \u001b[0mnode_color\u001b[0m \u001b[0;34m=\u001b[0m \u001b[0;34m[\u001b[0m\u001b[0;36m20000.0\u001b[0m \u001b[0;34m*\u001b[0m \u001b[0mG1\u001b[0m\u001b[0;34m.\u001b[0m\u001b[0mdegree\u001b[0m\u001b[0;34m(\u001b[0m\u001b[0mv\u001b[0m\u001b[0;34m)\u001b[0m \u001b[0;32mfor\u001b[0m \u001b[0mv\u001b[0m \u001b[0;32min\u001b[0m \u001b[0mG1\u001b[0m\u001b[0;34m]\u001b[0m\u001b[0;34m\u001b[0m\u001b[0;34m\u001b[0m\u001b[0m\n\u001b[1;32m      4\u001b[0m \u001b[0mnode_size\u001b[0m \u001b[0;34m=\u001b[0m  \u001b[0;34m[\u001b[0m\u001b[0mv\u001b[0m \u001b[0;34m*\u001b[0m \u001b[0;36m10000\u001b[0m \u001b[0;32mfor\u001b[0m \u001b[0mv\u001b[0m \u001b[0;32min\u001b[0m \u001b[0mbetCent\u001b[0m\u001b[0;34m.\u001b[0m\u001b[0mvalues\u001b[0m\u001b[0;34m(\u001b[0m\u001b[0;34m)\u001b[0m\u001b[0;34m]\u001b[0m\u001b[0;34m\u001b[0m\u001b[0;34m\u001b[0m\u001b[0m\n\u001b[1;32m      5\u001b[0m \u001b[0mplt\u001b[0m\u001b[0;34m.\u001b[0m\u001b[0mfigure\u001b[0m\u001b[0;34m(\u001b[0m\u001b[0mfigsize\u001b[0m\u001b[0;34m=\u001b[0m\u001b[0;34m(\u001b[0m\u001b[0;36m20\u001b[0m\u001b[0;34m,\u001b[0m\u001b[0;36m20\u001b[0m\u001b[0;34m)\u001b[0m\u001b[0;34m)\u001b[0m\u001b[0;34m\u001b[0m\u001b[0;34m\u001b[0m\u001b[0m\n",
            "\u001b[0;32m/usr/local/lib/python3.10/dist-packages/networkx/utils/decorators.py\u001b[0m in \u001b[0;36mfunc\u001b[0;34m(_argmap__wrapper, *args, **kwargs)\u001b[0m\n\u001b[1;32m    843\u001b[0m \u001b[0;34m\u001b[0m\u001b[0m\n\u001b[1;32m    844\u001b[0m         \u001b[0;32mdef\u001b[0m \u001b[0mfunc\u001b[0m\u001b[0;34m(\u001b[0m\u001b[0;34m*\u001b[0m\u001b[0margs\u001b[0m\u001b[0;34m,\u001b[0m \u001b[0m__wrapper\u001b[0m\u001b[0;34m=\u001b[0m\u001b[0;32mNone\u001b[0m\u001b[0;34m,\u001b[0m \u001b[0;34m**\u001b[0m\u001b[0mkwargs\u001b[0m\u001b[0;34m)\u001b[0m\u001b[0;34m:\u001b[0m\u001b[0;34m\u001b[0m\u001b[0;34m\u001b[0m\u001b[0m\n\u001b[0;32m--> 845\u001b[0;31m             \u001b[0;32mreturn\u001b[0m \u001b[0margmap\u001b[0m\u001b[0;34m.\u001b[0m\u001b[0m_lazy_compile\u001b[0m\u001b[0;34m(\u001b[0m\u001b[0m__wrapper\u001b[0m\u001b[0;34m)\u001b[0m\u001b[0;34m(\u001b[0m\u001b[0;34m*\u001b[0m\u001b[0margs\u001b[0m\u001b[0;34m,\u001b[0m \u001b[0;34m**\u001b[0m\u001b[0mkwargs\u001b[0m\u001b[0;34m)\u001b[0m\u001b[0;34m\u001b[0m\u001b[0;34m\u001b[0m\u001b[0m\n\u001b[0m\u001b[1;32m    846\u001b[0m \u001b[0;34m\u001b[0m\u001b[0m\n\u001b[1;32m    847\u001b[0m         \u001b[0;31m# standard function-wrapping stuff\u001b[0m\u001b[0;34m\u001b[0m\u001b[0;34m\u001b[0m\u001b[0m\n",
            "\u001b[0;32m/usr/local/lib/python3.10/dist-packages/networkx/utils/decorators.py\u001b[0m in \u001b[0;36margmap_betweenness_centrality_26\u001b[0;34m(G, k, normalized, weight, endpoints, seed)\u001b[0m\n\u001b[1;32m      2\u001b[0m \u001b[0;32mimport\u001b[0m \u001b[0mcollections\u001b[0m\u001b[0;34m\u001b[0m\u001b[0;34m\u001b[0m\u001b[0m\n\u001b[1;32m      3\u001b[0m \u001b[0;32mimport\u001b[0m \u001b[0mgzip\u001b[0m\u001b[0;34m\u001b[0m\u001b[0;34m\u001b[0m\u001b[0m\n\u001b[0;32m----> 4\u001b[0;31m \u001b[0;32mimport\u001b[0m \u001b[0minspect\u001b[0m\u001b[0;34m\u001b[0m\u001b[0;34m\u001b[0m\u001b[0m\n\u001b[0m\u001b[1;32m      5\u001b[0m \u001b[0;32mimport\u001b[0m \u001b[0mitertools\u001b[0m\u001b[0;34m\u001b[0m\u001b[0;34m\u001b[0m\u001b[0m\n\u001b[1;32m      6\u001b[0m \u001b[0;32mimport\u001b[0m \u001b[0mre\u001b[0m\u001b[0;34m\u001b[0m\u001b[0;34m\u001b[0m\u001b[0m\n",
            "\u001b[0;32m/usr/local/lib/python3.10/dist-packages/networkx/algorithms/centrality/betweenness.py\u001b[0m in \u001b[0;36mbetweenness_centrality\u001b[0;34m(G, k, normalized, weight, endpoints, seed)\u001b[0m\n\u001b[1;32m    128\u001b[0m         \u001b[0;31m# single source shortest paths\u001b[0m\u001b[0;34m\u001b[0m\u001b[0;34m\u001b[0m\u001b[0m\n\u001b[1;32m    129\u001b[0m         \u001b[0;32mif\u001b[0m \u001b[0mweight\u001b[0m \u001b[0;32mis\u001b[0m \u001b[0;32mNone\u001b[0m\u001b[0;34m:\u001b[0m  \u001b[0;31m# use BFS\u001b[0m\u001b[0;34m\u001b[0m\u001b[0;34m\u001b[0m\u001b[0m\n\u001b[0;32m--> 130\u001b[0;31m             \u001b[0mS\u001b[0m\u001b[0;34m,\u001b[0m \u001b[0mP\u001b[0m\u001b[0;34m,\u001b[0m \u001b[0msigma\u001b[0m\u001b[0;34m,\u001b[0m \u001b[0m_\u001b[0m \u001b[0;34m=\u001b[0m \u001b[0m_single_source_shortest_path_basic\u001b[0m\u001b[0;34m(\u001b[0m\u001b[0mG\u001b[0m\u001b[0;34m,\u001b[0m \u001b[0ms\u001b[0m\u001b[0;34m)\u001b[0m\u001b[0;34m\u001b[0m\u001b[0;34m\u001b[0m\u001b[0m\n\u001b[0m\u001b[1;32m    131\u001b[0m         \u001b[0;32melse\u001b[0m\u001b[0;34m:\u001b[0m  \u001b[0;31m# use Dijkstra's algorithm\u001b[0m\u001b[0;34m\u001b[0m\u001b[0;34m\u001b[0m\u001b[0m\n\u001b[1;32m    132\u001b[0m             \u001b[0mS\u001b[0m\u001b[0;34m,\u001b[0m \u001b[0mP\u001b[0m\u001b[0;34m,\u001b[0m \u001b[0msigma\u001b[0m\u001b[0;34m,\u001b[0m \u001b[0m_\u001b[0m \u001b[0;34m=\u001b[0m \u001b[0m_single_source_dijkstra_path_basic\u001b[0m\u001b[0;34m(\u001b[0m\u001b[0mG\u001b[0m\u001b[0;34m,\u001b[0m \u001b[0ms\u001b[0m\u001b[0;34m,\u001b[0m \u001b[0mweight\u001b[0m\u001b[0;34m)\u001b[0m\u001b[0;34m\u001b[0m\u001b[0;34m\u001b[0m\u001b[0m\n",
            "\u001b[0;32m/usr/local/lib/python3.10/dist-packages/networkx/algorithms/centrality/betweenness.py\u001b[0m in \u001b[0;36m_single_source_shortest_path_basic\u001b[0;34m(G, s)\u001b[0m\n\u001b[1;32m    270\u001b[0m         \u001b[0msigmav\u001b[0m \u001b[0;34m=\u001b[0m \u001b[0msigma\u001b[0m\u001b[0;34m[\u001b[0m\u001b[0mv\u001b[0m\u001b[0;34m]\u001b[0m\u001b[0;34m\u001b[0m\u001b[0;34m\u001b[0m\u001b[0m\n\u001b[1;32m    271\u001b[0m         \u001b[0;32mfor\u001b[0m \u001b[0mw\u001b[0m \u001b[0;32min\u001b[0m \u001b[0mG\u001b[0m\u001b[0;34m[\u001b[0m\u001b[0mv\u001b[0m\u001b[0;34m]\u001b[0m\u001b[0;34m:\u001b[0m\u001b[0;34m\u001b[0m\u001b[0;34m\u001b[0m\u001b[0m\n\u001b[0;32m--> 272\u001b[0;31m             \u001b[0;32mif\u001b[0m \u001b[0mw\u001b[0m \u001b[0;32mnot\u001b[0m \u001b[0;32min\u001b[0m \u001b[0mD\u001b[0m\u001b[0;34m:\u001b[0m\u001b[0;34m\u001b[0m\u001b[0;34m\u001b[0m\u001b[0m\n\u001b[0m\u001b[1;32m    273\u001b[0m                 \u001b[0mQ\u001b[0m\u001b[0;34m.\u001b[0m\u001b[0mappend\u001b[0m\u001b[0;34m(\u001b[0m\u001b[0mw\u001b[0m\u001b[0;34m)\u001b[0m\u001b[0;34m\u001b[0m\u001b[0;34m\u001b[0m\u001b[0m\n\u001b[1;32m    274\u001b[0m                 \u001b[0mD\u001b[0m\u001b[0;34m[\u001b[0m\u001b[0mw\u001b[0m\u001b[0;34m]\u001b[0m \u001b[0;34m=\u001b[0m \u001b[0mDv\u001b[0m \u001b[0;34m+\u001b[0m \u001b[0;36m1\u001b[0m\u001b[0;34m\u001b[0m\u001b[0;34m\u001b[0m\u001b[0m\n",
            "\u001b[0;31mKeyboardInterrupt\u001b[0m: "
          ]
        }
      ]
    },
    {
      "cell_type": "code",
      "source": [],
      "metadata": {
        "id": "fw0P4sagLylT"
      },
      "execution_count": null,
      "outputs": []
    },
    {
      "cell_type": "code",
      "execution_count": 4,
      "metadata": {
        "id": "FMwaGam1iHSM"
      },
      "outputs": [],
      "source": [
        "import networkx as nx\n",
        "nx_graph = nx.read_edgelist('/content/drive/MyDrive/facebook_combined.txt')\n",
        "\n"
      ]
    },
    {
      "cell_type": "code",
      "source": [
        "!cd drive/\n"
      ],
      "metadata": {
        "id": "FjIH0MlqdVJS"
      },
      "execution_count": 86,
      "outputs": []
    },
    {
      "cell_type": "code",
      "source": [
        "print(nx_graph.number_of_nodes())\n",
        "nx_graph.number_of_edges()"
      ],
      "metadata": {
        "colab": {
          "base_uri": "https://localhost:8080/"
        },
        "id": "aPGvXj4_Kezb",
        "outputId": "c8ae54b5-45d1-4142-b9f3-69eca44bf828"
      },
      "execution_count": 5,
      "outputs": [
        {
          "output_type": "stream",
          "name": "stdout",
          "text": [
            "4039\n"
          ]
        },
        {
          "output_type": "execute_result",
          "data": {
            "text/plain": [
              "88234"
            ]
          },
          "metadata": {},
          "execution_count": 5
        }
      ]
    },
    {
      "cell_type": "code",
      "source": [
        "node_degree = nx_graph.degree()\n",
        "#node_degreei = igraph_fb.degree()\n",
        "print(node_degree)\n",
        "#print(node_degreei)"
      ],
      "metadata": {
        "colab": {
          "base_uri": "https://localhost:8080/"
        },
        "id": "0oAlEPT4jXXY",
        "outputId": "4d131c22-db20-452d-c286-d3334ea6387a"
      },
      "execution_count": 6,
      "outputs": [
        {
          "output_type": "stream",
          "name": "stdout",
          "text": [
            "[('0', 347), ('1', 17), ('2', 10), ('3', 17), ('4', 10), ('5', 13), ('6', 6), ('7', 20), ('8', 8), ('9', 57), ('10', 10), ('11', 1), ('12', 1), ('13', 31), ('14', 15), ('15', 1), ('16', 9), ('17', 13), ('18', 1), ('19', 16), ('20', 15), ('21', 65), ('22', 11), ('23', 17), ('24', 16), ('25', 69), ('26', 68), ('27', 5), ('28', 13), ('29', 13), ('30', 17), ('31', 23), ('32', 6), ('33', 2), ('34', 5), ('35', 2), ('36', 11), ('37', 1), ('38', 9), ('39', 15), ('40', 44), ('41', 24), ('42', 2), ('43', 1), ('44', 6), ('45', 12), ('46', 5), ('47', 2), ('48', 22), ('49', 4), ('50', 11), ('51', 7), ('52', 2), ('53', 31), ('54', 8), ('55', 17), ('56', 78), ('57', 15), ('58', 12), ('59', 19), ('60', 8), ('61', 3), ('62', 26), ('63', 6), ('64', 7), ('65', 12), ('66', 15), ('67', 76), ('68', 9), ('69', 10), ('70', 2), ('71', 3), ('72', 24), ('73', 10), ('74', 1), ('75', 14), ('76', 3), ('77', 6), ('78', 9), ('79', 12), ('80', 23), ('81', 3), ('82', 34), ('83', 7), ('84', 13), ('85', 14), ('86', 6), ('87', 13), ('88', 20), ('89', 8), ('90', 2), ('91', 8), ('92', 21), ('93', 8), ('94', 22), ('95', 6), ('96', 9), ('97', 3), ('98', 49), ('99', 13), ('100', 9), ('101', 19), ('102', 6), ('103', 16), ('104', 32), ('105', 14), ('106', 8), ('107', 1045), ('108', 13), ('109', 37), ('110', 5), ('111', 14), ('112', 3), ('113', 40), ('114', 1), ('115', 21), ('116', 17), ('117', 6), ('118', 36), ('119', 62), ('120', 4), ('121', 12), ('122', 63), ('123', 18), ('124', 4), ('125', 4), ('126', 7), ('127', 16), ('128', 28), ('129', 7), ('130', 16), ('131', 7), ('132', 16), ('133', 18), ('134', 19), ('135', 10), ('136', 133), ('137', 16), ('138', 2), ('139', 9), ('140', 11), ('141', 28), ('142', 43), ('143', 12), ('144', 15), ('145', 2), ('146', 10), ('147', 6), ('148', 20), ('149', 14), ('150', 11), ('151', 7), ('152', 5), ('153', 2), ('154', 2), ('155', 3), ('156', 12), ('157', 3), ('158', 25), ('159', 14), ('160', 2), ('161', 25), ('162', 8), ('163', 6), ('164', 3), ('165', 11), ('166', 4), ('167', 7), ('168', 11), ('169', 38), ('170', 46), ('171', 22), ('172', 41), ('173', 12), ('174', 4), ('175', 17), ('176', 14), ('177', 11), ('178', 13), ('179', 3), ('180', 20), ('181', 10), ('182', 3), ('183', 2), ('184', 18), ('185', 26), ('186', 44), ('187', 16), ('188', 48), ('189', 7), ('190', 4), ('191', 3), ('192', 5), ('193', 5), ('194', 19), ('195', 9), ('196', 13), ('197', 16), ('198', 12), ('199', 47), ('200', 57), ('201', 4), ('202', 4), ('203', 57), ('204', 22), ('205', 2), ('206', 4), ('207', 3), ('208', 7), ('209', 1), ('210', 1), ('211', 30), ('212', 18), ('213', 39), ('214', 17), ('215', 1), ('216', 2), ('217', 8), ('218', 9), ('219', 6), ('220', 4), ('221', 8), ('222', 11), ('223', 27), ('224', 28), ('225', 10), ('226', 14), ('227', 15), ('228', 3), ('229', 6), ('230', 9), ('231', 21), ('232', 25), ('233', 2), ('234', 2), ('235', 5), ('236', 37), ('237', 7), ('238', 23), ('239', 59), ('240', 3), ('241', 2), ('242', 24), ('243', 8), ('244', 2), ('245', 5), ('246', 14), ('247', 3), ('248', 21), ('249', 24), ('250', 5), ('251', 14), ('252', 65), ('253', 3), ('254', 17), ('255', 2), ('256', 2), ('257', 18), ('258', 15), ('259', 8), ('260', 8), ('261', 38), ('262', 4), ('263', 7), ('264', 5), ('265', 27), ('266', 18), ('267', 2), ('268', 11), ('269', 6), ('270', 4), ('271', 73), ('272', 45), ('273', 9), ('274', 14), ('275', 10), ('276', 18), ('277', 65), ('278', 10), ('279', 2), ('280', 43), ('281', 16), ('282', 2), ('283', 5), ('284', 16), ('285', 47), ('286', 2), ('287', 1), ('288', 4), ('289', 4), ('290', 14), ('291', 36), ('292', 1), ('293', 3), ('294', 3), ('295', 10), ('296', 7), ('297', 25), ('298', 11), ('299', 20), ('300', 7), ('301', 3), ('302', 20), ('303', 21), ('304', 55), ('305', 2), ('306', 9), ('307', 4), ('308', 24), ('309', 10), ('310', 13), ('311', 7), ('312', 26), ('313', 37), ('314', 13), ('315', 56), ('316', 2), ('317', 7), ('318', 11), ('319', 8), ('320', 21), ('321', 3), ('322', 72), ('323', 39), ('324', 26), ('325', 39), ('326', 19), ('327', 4), ('328', 9), ('329', 30), ('330', 16), ('331', 20), ('332', 43), ('333', 8), ('334', 28), ('335', 1), ('336', 3), ('337', 9), ('338', 7), ('339', 27), ('340', 6), ('341', 12), ('342', 34), ('343', 18), ('344', 9), ('345', 16), ('346', 27), ('347', 7), ('348', 229), ('414', 159), ('428', 115), ('1684', 792), ('1912', 755), ('2814', 2), ('2838', 4), ('2885', 4), ('3003', 4), ('3173', 18), ('3290', 5), ('353', 102), ('363', 96), ('366', 97), ('376', 133), ('389', 48), ('420', 34), ('475', 122), ('483', 231), ('484', 107), ('517', 104), ('526', 98), ('538', 87), ('563', 91), ('566', 85), ('580', 84), ('596', 46), ('601', 25), ('606', 91), ('629', 11), ('637', 115), ('641', 66), ('649', 5), ('651', 73), ('896', 126), ('897', 66), ('898', 38), ('899', 3), ('900', 13), ('901', 34), ('902', 46), ('903', 34), ('904', 3), ('905', 17), ('906', 78), ('907', 13), ('908', 32), ('909', 12), ('910', 5), ('911', 1), ('912', 9), ('913', 44), ('914', 16), ('915', 35), ('916', 147), ('917', 130), ('918', 1), ('919', 29), ('920', 13), ('921', 106), ('922', 30), ('923', 8), ('924', 45), ('925', 167), ('926', 21), ('927', 75), ('928', 9), ('929', 5), ('930', 52), ('931', 15), ('932', 63), ('933', 25), ('934', 82), ('935', 7), ('936', 37), ('937', 7), ('938', 29), ('939', 17), ('940', 17), ('941', 54), ('942', 65), ('943', 12), ('944', 37), ('945', 4), ('946', 166), ('947', 115), ('948', 38), ('949', 23), ('950', 10), ('951', 20), ('952', 84), ('953', 109), ('954', 55), ('955', 10), ('956', 10), ('957', 65), ('958', 24), ('959', 46), ('960', 103), ('961', 13), ('962', 27), ('963', 33), ('964', 26), ('965', 16), ('966', 115), ('967', 107), ('968', 40), ('969', 32), ('970', 15), ('971', 34), ('972', 21), ('973', 18), ('974', 11), ('975', 54), ('976', 24), ('977', 26), ('978', 104), ('979', 10), ('980', 128), ('981', 47), ('982', 68), ('983', 62), ('984', 42), ('985', 7), ('986', 11), ('987', 6), ('988', 41), ('989', 35), ('990', 29), ('991', 19), ('992', 31), ('993', 154), ('994', 27), ('995', 66), ('996', 4), ('997', 96), ('998', 9), ('999', 77), ('1000', 16), ('1001', 39), ('1002', 4), ('1003', 95), ('1004', 120), ('1005', 14), ('1006', 142), ('1007', 16), ('1008', 8), ('1009', 57), ('1010', 36), ('1011', 32), ('1012', 32), ('1013', 12), ('1014', 99), ('1015', 36), ('1016', 9), ('1017', 149), ('1018', 51), ('1019', 58), ('1020', 58), ('1021', 61), ('1022', 4), ('1023', 9), ('1024', 85), ('1025', 29), ('1026', 80), ('1027', 3), ('1028', 67), ('1029', 79), ('1030', 11), ('1031', 4), ('1032', 79), ('1033', 17), ('1034', 3), ('1035', 26), ('1036', 58), ('1037', 37), ('1038', 5), ('1039', 27), ('1040', 67), ('1041', 48), ('1042', 15), ('1043', 12), ('1044', 28), ('1045', 12), ('1046', 3), ('1047', 65), ('1048', 106), ('1049', 82), ('1050', 11), ('1051', 46), ('1052', 63), ('1053', 8), ('1054', 54), ('1055', 14), ('1056', 65), ('1057', 5), ('1058', 7), ('1059', 165), ('1060', 51), ('1061', 10), ('1062', 22), ('1063', 22), ('1064', 27), ('1065', 2), ('1066', 68), ('1067', 76), ('1068', 49), ('1069', 21), ('1070', 78), ('1071', 3), ('1072', 26), ('1073', 10), ('1074', 63), ('1075', 80), ('1076', 142), ('1077', 15), ('1078', 183), ('1079', 123), ('1080', 60), ('1081', 30), ('1082', 57), ('1083', 106), ('1084', 15), ('1085', 66), ('1086', 205), ('1087', 7), ('1088', 14), ('1089', 14), ('1090', 13), ('1091', 20), ('1092', 50), ('1093', 9), ('1094', 11), ('1095', 24), ('1096', 1), ('1097', 36), ('1098', 23), ('1099', 56), ('1100', 64), ('1101', 123), ('1102', 51), ('1103', 8), ('1104', 109), ('1105', 4), ('1106', 27), ('1107', 141), ('1108', 43), ('1109', 38), ('1110', 70), ('1111', 9), ('1112', 54), ('1113', 47), ('1114', 38), ('1115', 36), ('1116', 29), ('1117', 122), ('1118', 35), ('1119', 1), ('1120', 51), ('1121', 24), ('1122', 49), ('1123', 71), ('1124', 130), ('1125', 117), ('1126', 198), ('1127', 21), ('1128', 98), ('1129', 60), ('1130', 66), ('1131', 32), ('1132', 142), ('1133', 6), ('1134', 11), ('1135', 68), ('1136', 33), ('1137', 29), ('1138', 14), ('1139', 24), ('1140', 9), ('1141', 18), ('1142', 33), ('1143', 14), ('1144', 21), ('1145', 1), ('1146', 147), ('1147', 5), ('1148', 65), ('1149', 102), ('1150', 14), ('1151', 6), ('1152', 17), ('1153', 139), ('1154', 9), ('1155', 45), ('1156', 99), ('1157', 5), ('1158', 66), ('1159', 61), ('1160', 88), ('1161', 19), ('1162', 8), ('1163', 100), ('1164', 27), ('1165', 26), ('1166', 57), ('1167', 28), ('1168', 6), ('1169', 19), ('1170', 36), ('1171', 24), ('1172', 113), ('1173', 115), ('1174', 18), ('1175', 132), ('1176', 2), ('1177', 15), ('1178', 13), ('1179', 45), ('1180', 45), ('1181', 89), ('1182', 66), ('1183', 34), ('1184', 158), ('1185', 156), ('1186', 17), ('1187', 20), ('1188', 32), ('1189', 38), ('1190', 39), ('1191', 110), ('1192', 97), ('1193', 9), ('1194', 4), ('1195', 49), ('1196', 26), ('1197', 15), ('1198', 83), ('1199', 217), ('1200', 4), ('1201', 58), ('1202', 9), ('1203', 8), ('1204', 107), ('1205', 102), ('1206', 1), ('1207', 72), ('1208', 3), ('1209', 76), ('1210', 40), ('1211', 173), ('1212', 26), ('1213', 20), ('1214', 114), ('1215', 43), ('1216', 36), ('1217', 47), ('1218', 11), ('1219', 54), ('1220', 9), ('1221', 71), ('1222', 142), ('1223', 22), ('1224', 2), ('1225', 30), ('1226', 35), ('1227', 84), ('1228', 23), ('1229', 47), ('1230', 125), ('1231', 74), ('1232', 29), ('1233', 2), ('1234', 15), ('1235', 107), ('1236', 43), ('1237', 60), ('1238', 152), ('1239', 9), ('1240', 7), ('1241', 20), ('1242', 93), ('1243', 112), ('1244', 12), ('1245', 40), ('1246', 35), ('1247', 24), ('1248', 8), ('1249', 15), ('1250', 137), ('1251', 12), ('1252', 3), ('1253', 3), ('1254', 6), ('1255', 124), ('1256', 135), ('1257', 55), ('1258', 42), ('1259', 47), ('1260', 38), ('1261', 68), ('1262', 2), ('1263', 6), ('1264', 5), ('1265', 31), ('1266', 13), ('1267', 120), ('1268', 11), ('1269', 126), ('1270', 2), ('1271', 96), ('1272', 84), ('1273', 64), ('1274', 25), ('1275', 57), ('1276', 2), ('1277', 124), ('1278', 36), ('1279', 44), ('1280', 76), ('1281', 41), ('1282', 68), ('1283', 32), ('1284', 60), ('1285', 55), ('1286', 23), ('1287', 66), ('1288', 92), ('1289', 85), ('1290', 87), ('1291', 113), ('1292', 55), ('1293', 48), ('1294', 22), ('1295', 5), ('1296', 25), ('1297', 6), ('1298', 71), ('1299', 31), ('1300', 31), ('1301', 6), ('1302', 107), ('1303', 48), ('1304', 38), ('1305', 104), ('1306', 26), ('1307', 31), ('1308', 20), ('1309', 43), ('1310', 27), ('1311', 24), ('1312', 80), ('1313', 34), ('1314', 26), ('1315', 44), ('1316', 32), ('1317', 21), ('1318', 41), ('1319', 27), ('1320', 64), ('1321', 25), ('1322', 90), ('1323', 77), ('1324', 40), ('1325', 18), ('1326', 2), ('1327', 49), ('1328', 20), ('1329', 136), ('1330', 122), ('1331', 146), ('1332', 42), ('1333', 33), ('1334', 100), ('1335', 128), ('1336', 55), ('1337', 36), ('1338', 68), ('1339', 100), ('1340', 63), ('1341', 123), ('1342', 10), ('1343', 37), ('1344', 91), ('1345', 97), ('1346', 5), ('1347', 74), ('1348', 37), ('1349', 42), ('1350', 33), ('1351', 67), ('1352', 234), ('1353', 3), ('1354', 5), ('1355', 37), ('1356', 20), ('1357', 31), ('1358', 77), ('1359', 84), ('1360', 37), ('1361', 137), ('1362', 3), ('1363', 21), ('1364', 12), ('1365', 42), ('1366', 66), ('1367', 166), ('1368', 10), ('1369', 53), ('1370', 112), ('1371', 37), ('1372', 7), ('1373', 73), ('1374', 42), ('1375', 74), ('1376', 182), ('1377', 190), ('1378', 32), ('1379', 51), ('1380', 85), ('1381', 27), ('1382', 41), ('1383', 4), ('1384', 12), ('1385', 15), ('1386', 1), ('1387', 9), ('1388', 84), ('1389', 46), ('1390', 193), ('1391', 175), ('1392', 37), ('1393', 53), ('1394', 2), ('1395', 2), ('1396', 54), ('1397', 16), ('1398', 44), ('1399', 178), ('1400', 22), ('1401', 12), ('1402', 74), ('1403', 9), ('1404', 50), ('1405', 50), ('1406', 31), ('1407', 37), ('1408', 34), ('1409', 106), ('1410', 21), ('1411', 10), ('1412', 22), ('1413', 60), ('1414', 8), ('1415', 30), ('1416', 111), ('1417', 5), ('1418', 21), ('1419', 24), ('1420', 148), ('1421', 24), ('1422', 14), ('1423', 61), ('1424', 19), ('1425', 34), ('1426', 64), ('1427', 66), ('1428', 29), ('1429', 38), ('1430', 2), ('1431', 220), ('1432', 55), ('1433', 23), ('1434', 15), ('1435', 56), ('1436', 30), ('1437', 56), ('1438', 34), ('1439', 21), ('1440', 28), ('1441', 16), ('1442', 5), ('1443', 9), ('1444', 32), ('1445', 9), ('1446', 36), ('1447', 142), ('1448', 52), ('1449', 90), ('1450', 23), ('1451', 31), ('1452', 34), ('1453', 28), ('1454', 52), ('1455', 5), ('1456', 132), ('1457', 62), ('1458', 33), ('1459', 102), ('1460', 46), ('1461', 8), ('1462', 84), ('1463', 10), ('1464', 26), ('1465', 108), ('1466', 1), ('1467', 124), ('1468', 31), ('1469', 57), ('1470', 71), ('1471', 169), ('1472', 90), ('1473', 54), ('1474', 4), ('1475', 72), ('1476', 5), ('1477', 9), ('1478', 17), ('1479', 84), ('1480', 93), ('1481', 17), ('1482', 49), ('1483', 96), ('1484', 22), ('1485', 47), ('1486', 5), ('1487', 63), ('1488', 135), ('1489', 22), ('1490', 9), ('1491', 125), ('1492', 13), ('1493', 26), ('1494', 26), ('1495', 67), ('1496', 48), ('1497', 29), ('1498', 6), ('1499', 12), ('1500', 29), ('1501', 18), ('1502', 70), ('1503', 28), ('1504', 58), ('1505', 59), ('1506', 8), ('1507', 37), ('1508', 33), ('1509', 131), ('1510', 4), ('1511', 30), ('1512', 34), ('1513', 52), ('1514', 35), ('1515', 69), ('1516', 159), ('1517', 36), ('1518', 14), ('1519', 33), ('1520', 117), ('1521', 6), ('1522', 156), ('1523', 69), ('1524', 41), ('1525', 57), ('1526', 22), ('1527', 12), ('1528', 70), ('1529', 42), ('1530', 105), ('1531', 22), ('1532', 39), ('1533', 35), ('1534', 33), ('1535', 64), ('1536', 82), ('1537', 19), ('1538', 72), ('1539', 79), ('1540', 69), ('1541', 33), ('1542', 55), ('1543', 33), ('1544', 15), ('1545', 43), ('1546', 3), ('1547', 122), ('1548', 38), ('1549', 49), ('1550', 38), ('1551', 171), ('1552', 7), ('1553', 37), ('1554', 160), ('1555', 35), ('1556', 25), ('1557', 151), ('1558', 2), ('1559', 186), ('1560', 1), ('1561', 25), ('1562', 10), ('1563', 112), ('1564', 16), ('1565', 44), ('1566', 20), ('1567', 33), ('1568', 29), ('1569', 48), ('1570', 124), ('1571', 60), ('1572', 43), ('1573', 89), ('1574', 67), ('1575', 20), ('1576', 66), ('1577', 170), ('1578', 36), ('1579', 5), ('1580', 83), ('1581', 1), ('1582', 41), ('1583', 97), ('1584', 211), ('1585', 20), ('1586', 3), ('1587', 53), ('1588', 23), ('1589', 205), ('1590', 88), ('1591', 95), ('1592', 25), ('1593', 32), ('1594', 16), ('1595', 39), ('1596', 77), ('1597', 112), ('1598', 136), ('1599', 11), ('1600', 117), ('1601', 32), ('1602', 12), ('1603', 145), ('1604', 148), ('1605', 90), ('1606', 31), ('1607', 5), ('1608', 117), ('1609', 92), ('1610', 179), ('1611', 72), ('1612', 190), ('1613', 182), ('1614', 71), ('1615', 24), ('1616', 50), ('1617', 117), ('1618', 24), ('1619', 114), ('1620', 128), ('1621', 189), ('1622', 177), ('1623', 100), ('1624', 35), ('1625', 25), ('1626', 37), ('1627', 3), ('1628', 82), ('1629', 22), ('1630', 67), ('1631', 9), ('1632', 79), ('1633', 23), ('1634', 38), ('1635', 34), ('1636', 77), ('1637', 99), ('1638', 34), ('1639', 78), ('1640', 8), ('1641', 14), ('1642', 28), ('1643', 100), ('1644', 69), ('1645', 56), ('1646', 18), ('1647', 50), ('1648', 25), ('1649', 35), ('1650', 21), ('1651', 4), ('1652', 81), ('1653', 74), ('1654', 7), ('1655', 56), ('1656', 34), ('1657', 5), ('1658', 19), ('1659', 82), ('1660', 24), ('1661', 80), ('1662', 146), ('1663', 235), ('1664', 6), ('1665', 127), ('1666', 36), ('1667', 27), ('1668', 122), ('1669', 137), ('1670', 11), ('1671', 32), ('1672', 25), ('1673', 40), ('1674', 25), ('1675', 117), ('1676', 16), ('1677', 36), ('1678', 18), ('1679', 27), ('1680', 61), ('1681', 25), ('1682', 38), ('1683', 123), ('1685', 93), ('1686', 35), ('1687', 43), ('1688', 95), ('1689', 124), ('1690', 2), ('1691', 60), ('1692', 50), ('1693', 3), ('1694', 34), ('1695', 30), ('1696', 12), ('1697', 8), ('1698', 19), ('1699', 42), ('1700', 17), ('1701', 7), ('1702', 45), ('1703', 70), ('1704', 25), ('1705', 27), ('1706', 42), ('1707', 185), ('1708', 10), ('1709', 62), ('1710', 15), ('1711', 5), ('1712', 105), ('1713', 4), ('1714', 187), ('1715', 65), ('1716', 60), ('1717', 139), ('1718', 155), ('1719', 19), ('1720', 49), ('1721', 115), ('1722', 56), ('1723', 49), ('1724', 59), ('1725', 51), ('1726', 21), ('1727', 32), ('1728', 32), ('1729', 80), ('1730', 226), ('1731', 8), ('1732', 48), ('1733', 38), ('1734', 49), ('1735', 109), ('1736', 156), ('1737', 79), ('1738', 26), ('1739', 14), ('1740', 37), ('1741', 104), ('1742', 79), ('1743', 26), ('1744', 37), ('1745', 19), ('1746', 202), ('1747', 22), ('1748', 13), ('1749', 13), ('1750', 126), ('1751', 50), ('1752', 115), ('1753', 82), ('1754', 57), ('1755', 2), ('1756', 16), ('1757', 131), ('1758', 27), ('1759', 6), ('1760', 3), ('1761', 121), ('1762', 4), ('1763', 32), ('1764', 25), ('1765', 66), ('1766', 40), ('1767', 36), ('1768', 209), ('1769', 25), ('1770', 47), ('1771', 20), ('1772', 61), ('1773', 23), ('1774', 40), ('1775', 8), ('1776', 5), ('1777', 5), ('1778', 38), ('1779', 22), ('1780', 20), ('1781', 26), ('1782', 67), ('1783', 121), ('1784', 17), ('1785', 30), ('1786', 97), ('1787', 38), ('1788', 10), ('1789', 103), ('1790', 38), ('1791', 131), ('1792', 6), ('1793', 145), ('1794', 57), ('1795', 89), ('1796', 71), ('1797', 5), ('1798', 34), ('1799', 152), ('1800', 245), ('1801', 23), ('1802', 12), ('1803', 25), ('1804', 195), ('1805', 22), ('1806', 32), ('1807', 51), ('1808', 14), ('1809', 113), ('1810', 102), ('1811', 63), ('1812', 44), ('1813', 156), ('1814', 10), ('1815', 24), ('1816', 131), ('1817', 15), ('1818', 30), ('1819', 88), ('1820', 67), ('1821', 27), ('1822', 12), ('1823', 127), ('1824', 58), ('1825', 29), ('1826', 102), ('1827', 201), ('1828', 56), ('1829', 16), ('1830', 16), ('1831', 42), ('1832', 46), ('1833', 191), ('1834', 1), ('1835', 182), ('1836', 25), ('1837', 38), ('1838', 6), ('1839', 165), ('1840', 10), ('1841', 49), ('1842', 119), ('1843', 40), ('1844', 70), ('1845', 101), ('1846', 38), ('1847', 26), ('1848', 36), ('1849', 119), ('1850', 29), ('1851', 42), ('1852', 22), ('1853', 12), ('1854', 2), ('1855', 6), ('1856', 4), ('1857', 73), ('1858', 29), ('1859', 46), ('1860', 17), ('1861', 99), ('1862', 54), ('1863', 49), ('1864', 107), ('1865', 8), ('1866', 31), ('1867', 123), ('1868', 121), ('1869', 15), ('1870', 23), ('1871', 82), ('1872', 50), ('1873', 41), ('1874', 13), ('1875', 28), ('1876', 56), ('1877', 64), ('1878', 35), ('1879', 150), ('1880', 32), ('1881', 53), ('1882', 51), ('1883', 18), ('1884', 32), ('1885', 28), ('1886', 105), ('1887', 11), ('1888', 254), ('1889', 15), ('1890', 6), ('1891', 71), ('1892', 12), ('1893', 83), ('1894', 63), ('1895', 37), ('1896', 9), ('1897', 36), ('1898', 101), ('1899', 79), ('1900', 26), ('1901', 14), ('1902', 130), ('1903', 40), ('1904', 30), ('1905', 11), ('1906', 22), ('1907', 30), ('1908', 10), ('1909', 41), ('1910', 31), ('1911', 39), ('1926', 134), ('1932', 95), ('1939', 79), ('1945', 146), ('1951', 64), ('1955', 92), ('1972', 70), ('1973', 65), ('1976', 39), ('1991', 49), ('1995', 63), ('1998', 54), ('2001', 60), ('2004', 50), ('2007', 171), ('2009', 45), ('2018', 55), ('2024', 53), ('2027', 44), ('2032', 147), ('2038', 123), ('2039', 112), ('2042', 96), ('2054', 163), ('2068', 141), ('2071', 123), ('2072', 129), ('2081', 172), ('2102', 132), ('2111', 184), ('2116', 65), ('2117', 142), ('2127', 112), ('2128', 92), ('2133', 159), ('2135', 88), ('2138', 138), ('2143', 102), ('2153', 139), ('2157', 39), ('2171', 66), ('2174', 120), ('2180', 114), ('2183', 134), ('2187', 148), ('2189', 113), ('2199', 175), ('2203', 100), ('2223', 116), ('2224', 129), ('2225', 42), ('2247', 122), ('2250', 109), ('2254', 90), ('2264', 75), ('2267', 83), ('2268', 130), ('2279', 129), ('2283', 161), ('2284', 56), ('2289', 160), ('2292', 142), ('2302', 123), ('2319', 122), ('2327', 125), ('2336', 150), ('2337', 35), ('2364', 65), ('2378', 50), ('2384', 188), ('2398', 108), ('2417', 70), ('2436', 94), ('2445', 70), ('2447', 49), ('2451', 109), ('2458', 99), ('2459', 46), ('2461', 124), ('2463', 126), ('2471', 132), ('2472', 77), ('2475', 97), ('2491', 121), ('2494', 39), ('2498', 94), ('2502', 43), ('2508', 98), ('2510', 138), ('2511', 140), ('2529', 36), ('2533', 99), ('2538', 56), ('2543', 294), ('2547', 54), ('2571', 30), ('2583', 46), ('2589', 79), ('2598', 164), ('2617', 114), ('2629', 127), ('2635', 20), ('2636', 38), ('2640', 56), ('2643', 100), ('2647', 48), ('2649', 122), ('2653', 72), ('2660', 38), ('2704', 2), ('2740', 2), ('427', 9), ('464', 5), ('549', 7), ('351', 5), ('364', 9), ('393', 7), ('399', 8), ('441', 8), ('476', 6), ('501', 8), ('564', 9), ('349', 5), ('350', 21), ('352', 23), ('354', 26), ('355', 39), ('356', 3), ('357', 18), ('358', 1), ('359', 26), ('360', 43), ('361', 23), ('362', 19), ('365', 6), ('367', 32), ('368', 34), ('369', 26), ('370', 71), ('371', 5), ('372', 17), ('373', 94), ('374', 68), ('375', 17), ('377', 2), ('378', 62), ('379', 2), ('380', 11), ('381', 12), ('382', 12), ('383', 3), ('384', 4), ('385', 8), ('386', 3), ('387', 36), ('388', 38), ('390', 6), ('391', 61), ('392', 39), ('394', 36), ('395', 77), ('396', 27), ('397', 47), ('398', 33), ('400', 73), ('401', 2), ('402', 57), ('403', 20), ('404', 51), ('405', 11), ('406', 4), ('407', 15), ('408', 55), ('409', 34), ('410', 15), ('411', 3), ('412', 99), ('413', 17), ('415', 26), ('416', 21), ('417', 62), ('418', 23), ('419', 57), ('421', 25), ('422', 60), ('423', 57), ('424', 17), ('425', 19), ('426', 18), ('429', 10), ('430', 38), ('431', 71), ('432', 55), ('433', 10), ('434', 33), ('435', 10), ('436', 60), ('437', 10), ('438', 71), ('439', 43), ('440', 14), ('442', 12), ('443', 2), ('444', 47), ('445', 27), ('446', 18), ('447', 1), ('448', 3), ('449', 10), ('450', 22), ('451', 25), ('452', 42), ('453', 5), ('454', 3), ('455', 37), ('456', 61), ('457', 20), ('458', 26), ('459', 10), ('460', 66), ('461', 53), ('462', 19), ('463', 43), ('465', 78), ('466', 9), ('467', 4), ('468', 2), ('469', 22), ('470', 16), ('471', 31), ('472', 5), ('473', 32), ('474', 20), ('477', 12), ('478', 8), ('479', 37), ('480', 7), ('481', 27), ('482', 34), ('485', 5), ('486', 16), ('487', 33), ('488', 28), ('489', 24), ('490', 13), ('491', 11), ('492', 65), ('493', 56), ('494', 23), ('495', 23), ('496', 40), ('497', 83), ('498', 6), ('499', 3), ('500', 83), ('502', 11), ('503', 58), ('504', 43), ('505', 13), ('506', 72), ('507', 65), ('508', 16), ('509', 15), ('510', 26), ('511', 30), ('512', 29), ('513', 89), ('514', 64), ('515', 61), ('516', 20), ('518', 19), ('519', 25), ('520', 50), ('521', 15), ('522', 11), ('523', 43), ('524', 64), ('525', 69), ('527', 46), ('528', 13), ('529', 9), ('530', 4), ('531', 40), ('532', 10), ('533', 6), ('534', 8), ('535', 12), ('536', 22), ('537', 40), ('539', 22), ('540', 8), ('541', 10), ('542', 58), ('543', 21), ('544', 67), ('545', 46), ('546', 30), ('547', 32), ('548', 32), ('550', 1), ('551', 17), ('552', 4), ('553', 85), ('554', 18), ('555', 38), ('556', 48), ('557', 37), ('558', 20), ('559', 83), ('560', 30), ('561', 81), ('562', 5), ('565', 20), ('567', 63), ('568', 12), ('569', 15), ('570', 35), ('571', 3), ('572', 4), ('591', 46), ('656', 3), ('669', 34), ('604', 35), ('645', 29), ('646', 13), ('666', 18), ('683', 33), ('587', 10), ('590', 14), ('614', 32), ('634', 16), ('680', 27), ('586', 7), ('610', 5), ('652', 4), ('673', 4), ('676', 18), ('620', 20), ('574', 11), ('630', 39), ('678', 26), ('593', 5), ('609', 30), ('573', 32), ('575', 12), ('576', 14), ('577', 22), ('578', 24), ('579', 39), ('581', 2), ('582', 21), ('583', 25), ('584', 15), ('585', 1), ('588', 14), ('589', 21), ('592', 41), ('594', 8), ('595', 19), ('597', 22), ('598', 16), ('599', 23), ('600', 24), ('602', 1), ('603', 18), ('605', 18), ('607', 1), ('608', 1), ('611', 16), ('612', 15), ('613', 1), ('615', 24), ('616', 19), ('617', 25), ('618', 24), ('619', 26), ('621', 7), ('622', 13), ('623', 17), ('624', 1), ('625', 21), ('626', 14), ('627', 24), ('628', 12), ('631', 11), ('632', 22), ('633', 15), ('635', 22), ('636', 25), ('638', 1), ('639', 11), ('640', 23), ('642', 2), ('643', 24), ('644', 25), ('647', 19), ('648', 2), ('650', 22), ('653', 28), ('654', 33), ('655', 6), ('657', 7), ('658', 24), ('659', 24), ('660', 3), ('661', 24), ('662', 24), ('663', 9), ('664', 17), ('665', 18), ('667', 3), ('668', 1), ('670', 23), ('671', 5), ('672', 8), ('674', 1), ('675', 23), ('677', 22), ('679', 7), ('681', 23), ('682', 13), ('684', 20), ('685', 17), ('1967', 2), ('3437', 547), ('3454', 14), ('3487', 10), ('3723', 8), ('3861', 16), ('3961', 7), ('3980', 59), ('3989', 6), ('4011', 4), ('4031', 11), ('686', 170), ('687', 28), ('688', 45), ('689', 8), ('690', 9), ('691', 6), ('692', 1), ('693', 14), ('694', 54), ('695', 41), ('696', 31), ('697', 52), ('698', 68), ('699', 2), ('700', 7), ('701', 21), ('702', 8), ('703', 43), ('704', 5), ('705', 69), ('706', 18), ('707', 10), ('708', 29), ('709', 17), ('710', 8), ('711', 20), ('712', 13), ('713', 71), ('714', 14), ('715', 10), ('716', 12), ('717', 4), ('718', 30), ('719', 64), ('720', 18), ('721', 5), ('722', 14), ('723', 12), ('724', 47), ('725', 8), ('726', 36), ('727', 26), ('728', 38), ('729', 13), ('730', 15), ('731', 26), ('732', 14), ('733', 8), ('734', 23), ('735', 5), ('736', 14), ('737', 16), ('738', 25), ('739', 29), ('740', 8), ('741', 17), ('742', 12), ('743', 3), ('744', 2), ('745', 57), ('746', 9), ('747', 57), ('748', 19), ('749', 2), ('750', 2), ('751', 12), ('752', 38), ('753', 13), ('754', 30), ('755', 19), ('756', 10), ('757', 4), ('758', 20), ('759', 10), ('760', 30), ('761', 8), ('762', 13), ('763', 14), ('764', 28), ('765', 14), ('766', 35), ('767', 8), ('768', 14), ('769', 15), ('770', 27), ('771', 15), ('772', 18), ('773', 36), ('774', 37), ('775', 2), ('776', 9), ('777', 18), ('778', 16), ('779', 18), ('780', 34), ('781', 52), ('782', 13), ('783', 18), ('784', 40), ('785', 3), ('786', 9), ('787', 29), ('788', 4), ('789', 13), ('790', 4), ('791', 7), ('792', 23), ('793', 20), ('794', 14), ('795', 18), ('796', 7), ('797', 26), ('798', 7), ('799', 12), ('800', 37), ('801', 1), ('802', 5), ('803', 20), ('804', 16), ('805', 66), ('806', 15), ('807', 20), ('808', 9), ('809', 18), ('810', 32), ('811', 9), ('812', 8), ('813', 10), ('814', 26), ('815', 39), ('816', 9), ('817', 24), ('818', 16), ('819', 37), ('820', 38), ('821', 9), ('822', 15), ('823', 56), ('824', 58), ('825', 6), ('826', 11), ('827', 45), ('828', 79), ('829', 34), ('830', 55), ('831', 15), ('832', 4), ('833', 15), ('834', 43), ('835', 20), ('836', 12), ('837', 13), ('838', 22), ('839', 15), ('840', 27), ('841', 2), ('842', 37), ('843', 13), ('844', 14), ('845', 23), ('846', 6), ('847', 27), ('848', 21), ('849', 30), ('850', 10), ('851', 4), ('852', 4), ('853', 44), ('854', 3), ('855', 4), ('856', 39), ('890', 7), ('857', 12), ('858', 5), ('859', 2), ('860', 2), ('861', 10), ('862', 24), ('863', 11), ('864', 5), ('865', 4), ('866', 5), ('867', 8), ('868', 4), ('869', 7), ('870', 7), ('871', 7), ('872', 7), ('873', 6), ('874', 7), ('875', 1), ('876', 11), ('877', 4), ('878', 10), ('879', 6), ('880', 8), ('881', 7), ('882', 8), ('883', 1), ('884', 4), ('885', 9), ('886', 8), ('887', 6), ('888', 9), ('889', 13), ('891', 1), ('892', 1), ('893', 4), ('894', 4), ('895', 6), ('3456', 51), ('3495', 56), ('3586', 44), ('3621', 11), ('3626', 8), ('3797', 43), ('3501', 50), ('3517', 17), ('3550', 19), ('3577', 52), ('3592', 13), ('3609', 27), ('3633', 65), ('3677', 50), ('3684', 67), ('3721', 30), ('3779', 19), ('3872', 14), ('3948', 59), ('2678', 9), ('2760', 11), ('2822', 14), ('2883', 15), ('2941', 11), ('2968', 13), ('3005', 43), ('3057', 17), ('3136', 62), ('3164', 10), ('3222', 15), ('3245', 14), ('3248', 31), ('3263', 58), ('3278', 19), ('3328', 18), ('3361', 14), ('3440', 26), ('3525', 36), ('3540', 34), ('3556', 13), ('3561', 14), ('3651', 32), ('3674', 38), ('3692', 38), ('3741', 18), ('3750', 29), ('3756', 61), ('3830', 108), ('3851', 59), ('3877', 55), ('3886', 29), ('3943', 25), ('3962', 39), ('2677', 15), ('2826', 10), ('2724', 70), ('2752', 7), ('2775', 27), ('2869', 70), ('2892', 29), ('2962', 19), ('3001', 35), ('3019', 70), ('3100', 34), ('3162', 57), ('3168', 48), ('3233', 63), ('3295', 46), ('3304', 35), ('3331', 36), ('3366', 62), ('3404', 18), ('3406', 70), ('3412', 45), ('2813', 27), ('2971', 4), ('3034', 43), ('3178', 25), ('3410', 16), ('3420', 23), ('2976', 41), ('3011', 42), ('3179', 68), ('3289', 19), ('1920', 123), ('1941', 223), ('1948', 108), ('1959', 120), ('2028', 106), ('2047', 205), ('2053', 115), ('2065', 26), ('2087', 156), ('2125', 121), ('2132', 94), ('2134', 85), ('2148', 90), ('2149', 128), ('2169', 109), ('2191', 88), ('2194', 109), ('2196', 110), ('2198', 55), ('2239', 44), ('2266', 234), ('2282', 154), ('2285', 55), ('2293', 54), ('2315', 73), ('2328', 166), ('2332', 103), ('2333', 160), ('2338', 109), ('2347', 291), ('2351', 110), ('2368', 79), ('2372', 105), ('2385', 57), ('2399', 77), ('2420', 81), ('2496', 22), ('2501', 76), ('2509', 134), ('2512', 105), ('2516', 88), ('2530', 29), ('2542', 196), ('2555', 135), ('2567', 116), ('2592', 125), ('2597', 105), ('2608', 99), ('2642', 127), ('2725', 8), ('2734', 26), ('2764', 25), ('2964', 18), ('3020', 37), ('3062', 32), ('3079', 39), ('3165', 7), ('3205', 15), ('3258', 47), ('3386', 52), ('3409', 16), ('2693', 18), ('2979', 18), ('3101', 122), ('3265', 48), ('3385', 53), ('1913', 19), ('1916', 79), ('1940', 93), ('1947', 120), ('1954', 93), ('1994', 64), ('2002', 85), ('2010', 84), ('2026', 96), ('2052', 106), ('2062', 76), ('2101', 71), ('2137', 49), ('2144', 78), ('2151', 86), ('2163', 31), ('2176', 117), ('2215', 58), ('2241', 119), ('2246', 95), ('2273', 91), ('2294', 122), ('2295', 23), ('2298', 17), ('2343', 79), ('2344', 121), ('2355', 30), ('2377', 94), ('2389', 28), ('2394', 95), ('2413', 17), ('2419', 109), ('2465', 60), ('2468', 177), ('2519', 35), ('2544', 30), ('2582', 101), ('2588', 91), ('2594', 94), ('2605', 17), ('2609', 49), ('2616', 100), ('2903', 8), ('2938', 20), ('2999', 30), ('3201', 92), ('3319', 26), ('3355', 54), ('3097', 41), ('2707', 15), ('3111', 52), ('3186', 23), ('2661', 99), ('2662', 37), ('2663', 26), ('2664', 83), ('2665', 50), ('2666', 61), ('2667', 20), ('2668', 34), ('2669', 97), ('2670', 19), ('2671', 6), ('2672', 37), ('2673', 29), ('2674', 70), ('2675', 38), ('2676', 83), ('2679', 93), ('2680', 53), ('2681', 45), ('2682', 16), ('2683', 78), ('2684', 28), ('2685', 12), ('2686', 24), ('2687', 21), ('2688', 11), ('2689', 67), ('2690', 31), ('2691', 3), ('2692', 5), ('2694', 93), ('2695', 11), ('2696', 19), ('2697', 16), ('2698', 69), ('2699', 13), ('2700', 15), ('2701', 26), ('2702', 24), ('2703', 18), ('2705', 27), ('2706', 67), ('2708', 34), ('2709', 12), ('2710', 13), ('2711', 31), ('2712', 44), ('2713', 31), ('2714', 3), ('2715', 32), ('2716', 95), ('2717', 54), ('2718', 37), ('2719', 100), ('2720', 49), ('2721', 6), ('2722', 3), ('2723', 12), ('2726', 17), ('2727', 13), ('2728', 38), ('2729', 63), ('2730', 89), ('2731', 29), ('2732', 8), ('2733', 24), ('2735', 19), ('2736', 5), ('2737', 21), ('2738', 83), ('2739', 31), ('2741', 57), ('2742', 116), ('2743', 51), ('2744', 13), ('2745', 33), ('2746', 15), ('2747', 13), ('2748', 75), ('2749', 53), ('2750', 85), ('2751', 35), ('2753', 52), ('2754', 122), ('2755', 89), ('2756', 45), ('2757', 83), ('2758', 46), ('2759', 22), ('2761', 28), ('2762', 21), ('2763', 63), ('2765', 47), ('2766', 13), ('2767', 6), ('2768', 28), ('2769', 12), ('2770', 41), ('2771', 14), ('2772', 34), ('2773', 57), ('2774', 6), ('2776', 6), ('2777', 83), ('2778', 95), ('2779', 19), ('2780', 59), ('2781', 66), ('2782', 98), ('2783', 33), ('2784', 28), ('2785', 44), ('2786', 102), ('2787', 49), ('2788', 2), ('2789', 19), ('2790', 9), ('2791', 12), ('2792', 3), ('2793', 99), ('2794', 19), ('2795', 24), ('2796', 60), ('2797', 27), ('2798', 3), ('2799', 8), ('2800', 82), ('2801', 10), ('2802', 10), ('2803', 22), ('2804', 9), ('2805', 8), ('2806', 50), ('2807', 22), ('2808', 3), ('2809', 19), ('2810', 58), ('2811', 7), ('2812', 25), ('2815', 57), ('2816', 11), ('2817', 5), ('2818', 16), ('2819', 24), ('2820', 15), ('2821', 13), ('2823', 38), ('2824', 6), ('2825', 20), ('2827', 75), ('2828', 78), ('2829', 28), ('2830', 22), ('2831', 18), ('2832', 30), ('2833', 82), ('2834', 9), ('2835', 44), ('2836', 31), ('2837', 14), ('2839', 137), ('2840', 33), ('2841', 31), ('2842', 1), ('2843', 29), ('2844', 29), ('2845', 26), ('2846', 27), ('2847', 12), ('2848', 21), ('2849', 81), ('2850', 33), ('2851', 22), ('2852', 11), ('2853', 62), ('2854', 36), ('2855', 4), ('2856', 18), ('2857', 2), ('2858', 17), ('2859', 20), ('2860', 3), ('2861', 11), ('2862', 71), ('2863', 104), ('2864', 75), ('2865', 39), ('2866', 78), ('2867', 80), ('2868', 21), ('2870', 22), ('2871', 42), ('2872', 76), ('2873', 73), ('2874', 47), ('2875', 52), ('2876', 14), ('2877', 104), ('2878', 11), ('2879', 16), ('2880', 66), ('2881', 45), ('2882', 10), ('2884', 6), ('2886', 10), ('2887', 40), ('2888', 15), ('2889', 19), ('2890', 88), ('2891', 22), ('2893', 8), ('2894', 61), ('2895', 9), ('2896', 50), ('2897', 54), ('2898', 8), ('2899', 6), ('2900', 11), ('2901', 77), ('2902', 7), ('2904', 72), ('2905', 74), ('2906', 92), ('2907', 32), ('2908', 27), ('2909', 77), ('2910', 83), ('2911', 69), ('2912', 61), ('2913', 75), ('2914', 41), ('2915', 91), ('2916', 87), ('2917', 18), ('2918', 20), ('2919', 70), ('2920', 74), ('2921', 40), ('2922', 3), ('2923', 16), ('2924', 40), ('2925', 79), ('2926', 10), ('2927', 92), ('2928', 86), ('2929', 48), ('2930', 8), ('2931', 53), ('2932', 40), ('2933', 14), ('2934', 20), ('2935', 12), ('2936', 60), ('2937', 63), ('2939', 69), ('2940', 64), ('2942', 10), ('2943', 82), ('2944', 106), ('2945', 54), ('2946', 59), ('2947', 17), ('2948', 21), ('2949', 20), ('2950', 48), ('2951', 102), ('2952', 3), ('2953', 34), ('2954', 13), ('2955', 44), ('2956', 96), ('2957', 14), ('2958', 42), ('2959', 17), ('2960', 92), ('2961', 11), ('2963', 4), ('2965', 17), ('2966', 107), ('2967', 22), ('2969', 71), ('2970', 44), ('2972', 17), ('2973', 73), ('2974', 59), ('2975', 3), ('2977', 33), ('2978', 25), ('2980', 5), ('2981', 23), ('2982', 15), ('2983', 17), ('2984', 24), ('2985', 60), ('2986', 100), ('2987', 27), ('2988', 63), ('2989', 58), ('2990', 13), ('2991', 61), ('2992', 72), ('2993', 56), ('2994', 65), ('2995', 15), ('2996', 39), ('2997', 14), ('2998', 3), ('3000', 91), ('3002', 72), ('3004', 53), ('3006', 2), ('3007', 24), ('3008', 16), ('3009', 19), ('3010', 32), ('3012', 11), ('3013', 24), ('3014', 43), ('3015', 10), ('3016', 29), ('3017', 70), ('3018', 30), ('3021', 50), ('3022', 80), ('3023', 35), ('3024', 14), ('3025', 54), ('3026', 96), ('3027', 66), ('3028', 12), ('3029', 52), ('3030', 8), ('3031', 1), ('3032', 22), ('3033', 88), ('3035', 90), ('3036', 38), ('3037', 3), ('3038', 88), ('3039', 22), ('3040', 51), ('3041', 27), ('3042', 20), ('3043', 17), ('3044', 6), ('3045', 8), ('3046', 37), ('3047', 50), ('3048', 15), ('3049', 76), ('3050', 16), ('3051', 101), ('3052', 50), ('3053', 10), ('3054', 83), ('3055', 6), ('3056', 78), ('3058', 15), ('3059', 5), ('3060', 78), ('3061', 14), ('3063', 11), ('3064', 64), ('3065', 53), ('3066', 14), ('3067', 13), ('3068', 16), ('3069', 16), ('3070', 62), ('3071', 1), ('3072', 46), ('3073', 62), ('3074', 6), ('3075', 23), ('3076', 86), ('3077', 55), ('3078', 99), ('3080', 28), ('3081', 25), ('3082', 116), ('3083', 10), ('3084', 76), ('3085', 52), ('3086', 37), ('3087', 51), ('3088', 10), ('3089', 52), ('3090', 108), ('3091', 6), ('3092', 11), ('3093', 16), ('3094', 7), ('3095', 15), ('3096', 76), ('3098', 65), ('3099', 10), ('3102', 49), ('3103', 20), ('3104', 83), ('3105', 12), ('3106', 62), ('3107', 51), ('3108', 63), ('3109', 18), ('3110', 17), ('3112', 12), ('3113', 68), ('3114', 46), ('3115', 61), ('3116', 103), ('3117', 63), ('3118', 44), ('3119', 69), ('3120', 71), ('3121', 4), ('3122', 9), ('3123', 33), ('3124', 30), ('3125', 2), ('3126', 8), ('3127', 6), ('3128', 10), ('3129', 35), ('3130', 13), ('3131', 8), ('3132', 84), ('3133', 10), ('3134', 2), ('3135', 35), ('3137', 49), ('3138', 19), ('3139', 21), ('3140', 71), ('3141', 11), ('3142', 56), ('3143', 4), ('3144', 16), ('3145', 69), ('3146', 61), ('3147', 5), ('3148', 30), ('3149', 66), ('3150', 89), ('3151', 14), ('3152', 85), ('3153', 11), ('3154', 91), ('3155', 12), ('3156', 13), ('3157', 15), ('3158', 52), ('3159', 7), ('3160', 30), ('3161', 6), ('3163', 23), ('3166', 38), ('3167', 17), ('3169', 61), ('3170', 25), ('3171', 19), ('3172', 72), ('3174', 74), ('3175', 6), ('3176', 27), ('3177', 41), ('3180', 8), ('3181', 8), ('3182', 68), ('3183', 1), ('3184', 61), ('3185', 80), ('3187', 34), ('3188', 51), ('3189', 19), ('3190', 12), ('3191', 40), ('3192', 16), ('3193', 27), ('3194', 17), ('3195', 72), ('3196', 40), ('3197', 8), ('3198', 86), ('3199', 22), ('3200', 11), ('3202', 11), ('3203', 31), ('3204', 47), ('3206', 51), ('3207', 41), ('3208', 15), ('3209', 24), ('3210', 14), ('3211', 25), ('3212', 35), ('3213', 36), ('3214', 63), ('3215', 25), ('3216', 7), ('3217', 6), ('3218', 9), ('3219', 39), ('3220', 54), ('3221', 26), ('3223', 23), ('3224', 55), ('3225', 28), ('3226', 79), ('3227', 5), ('3228', 36), ('3229', 14), ('3230', 1), ('3231', 28), ('3232', 105), ('3234', 33), ('3235', 8), ('3236', 21), ('3237', 28), ('3238', 41), ('3239', 62), ('3240', 66), ('3241', 19), ('3242', 15), ('3243', 27), ('3244', 14), ('3246', 14), ('3247', 66), ('3249', 14), ('3250', 34), ('3251', 9), ('3252', 86), ('3253', 51), ('3254', 12), ('3255', 32), ('3256', 63), ('3257', 42), ('3259', 31), ('3260', 28), ('3261', 54), ('3262', 24), ('3264', 31), ('3266', 8), ('3267', 72), ('3268', 2), ('3269', 9), ('3270', 6), ('3271', 5), ('3272', 44), ('3273', 26), ('3274', 63), ('3275', 29), ('3276', 20), ('3277', 71), ('3279', 25), ('3280', 107), ('3281', 12), ('3282', 2), ('3283', 16), ('3284', 70), ('3285', 27), ('3286', 23), ('3287', 48), ('3288', 48), ('3291', 119), ('3292', 12), ('3293', 60), ('3294', 23), ('3296', 41), ('3297', 63), ('3298', 45), ('3299', 60), ('3300', 18), ('3301', 40), ('3302', 67), ('3303', 36), ('3305', 5), ('3306', 22), ('3307', 19), ('3308', 9), ('3309', 18), ('3310', 5), ('3311', 11), ('3312', 17), ('3313', 32), ('3314', 16), ('3315', 14), ('3316', 39), ('3317', 7), ('3318', 20), ('3320', 113), ('3321', 69), ('3322', 8), ('3323', 7), ('3324', 87), ('3325', 19), ('3326', 16), ('3327', 50), ('3329', 19), ('3330', 93), ('3332', 62), ('3333', 7), ('3334', 9), ('3335', 65), ('3336', 7), ('3337', 24), ('3338', 9), ('3339', 73), ('3340', 16), ('3341', 31), ('3342', 68), ('3343', 14), ('3344', 76), ('3345', 65), ('3346', 35), ('3347', 76), ('3348', 84), ('3349', 12), ('3350', 82), ('3351', 84), ('3352', 13), ('3353', 62), ('3354', 9), ('3356', 20), ('3357', 15), ('3358', 11), ('3359', 18), ('3360', 74), ('3362', 75), ('3363', 131), ('3364', 49), ('3365', 46), ('3367', 11), ('3368', 9), ('3369', 43), ('3370', 6), ('3371', 15), ('3372', 7), ('3373', 17), ('3374', 16), ('3375', 3), ('3376', 8), ('3377', 31), ('3378', 60), ('3379', 25), ('3380', 21), ('3381', 54), ('3382', 17), ('3383', 17), ('3384', 49), ('3387', 97), ('3388', 10), ('3389', 7), ('3390', 25), ('3391', 53), ('3392', 17), ('3393', 19), ('3394', 31), ('3395', 38), ('3396', 76), ('3397', 115), ('3398', 8), ('3399', 37), ('3400', 35), ('3401', 8), ('3402', 15), ('3403', 52), ('3405', 13), ('3407', 2), ('3408', 2), ('3411', 62), ('3413', 3), ('3414', 18), ('3415', 29), ('3416', 53), ('3417', 89), ('3418', 10), ('3419', 63), ('3421', 20), ('3422', 40), ('3423', 16), ('3424', 7), ('3425', 10), ('3426', 113), ('3427', 9), ('3428', 8), ('3429', 5), ('3430', 21), ('3431', 23), ('3432', 6), ('3433', 65), ('3434', 107), ('3435', 49), ('3436', 7), ('2003', 48), ('2031', 53), ('2155', 41), ('2185', 17), ('2325', 79), ('2330', 48), ('1914', 47), ('1915', 11), ('1917', 190), ('1918', 161), ('1919', 55), ('1921', 40), ('1922', 15), ('1923', 56), ('1924', 6), ('1925', 125), ('1927', 55), ('1928', 23), ('1929', 151), ('1930', 13), ('1931', 39), ('1933', 11), ('1934', 12), ('1935', 50), ('1936', 22), ('1937', 4), ('1938', 189), ('1942', 39), ('1943', 192), ('1944', 29), ('1946', 191), ('1949', 8), ('1950', 12), ('1952', 17), ('1953', 123), ('1956', 8), ('1957', 39), ('1958', 34), ('1960', 43), ('1961', 7), ('1962', 187), ('1963', 86), ('1964', 96), ('1965', 20), ('1966', 172), ('1968', 35), ('1969', 4), ('1970', 72), ('1971', 176), ('1974', 7), ('1975', 36), ('1977', 9), ('1978', 15), ('1979', 176), ('1980', 57), ('1981', 55), ('1982', 19), ('1983', 199), ('1984', 178), ('1985', 224), ('1986', 153), ('1987', 36), ('1988', 24), ('1989', 87), ('1990', 20), ('1992', 15), ('1993', 203), ('1996', 4), ('1997', 135), ('1999', 34), ('2000', 33), ('2005', 155), ('2006', 52), ('2008', 7), ('2011', 40), ('2012', 15), ('2013', 9), ('2014', 10), ('2015', 5), ('2016', 18), ('2017', 7), ('2019', 19), ('2020', 158), ('2021', 31), ('2022', 50), ('2023', 25), ('2025', 30), ('2029', 34), ('2030', 187), ('2033', 173), ('2034', 8), ('2035', 30), ('2036', 21), ('2037', 173), ('2040', 152), ('2041', 8), ('2043', 174), ('2044', 25), ('2045', 176), ('2046', 123), ('2048', 17), ('2049', 37), ('2050', 23), ('2051', 9), ('2055', 73), ('2056', 115), ('2057', 42), ('2058', 76), ('2059', 193), ('2060', 106), ('2061', 48), ('2063', 141), ('2064', 186), ('2066', 9), ('2067', 33), ('2069', 168), ('2070', 13), ('2073', 195), ('2074', 162), ('2075', 48), ('2076', 17), ('2077', 126), ('2078', 204), ('2079', 1), ('2080', 9), ('2082', 18), ('2083', 147), ('2084', 141), ('2085', 30), ('2086', 136), ('2088', 198), ('2089', 23), ('2090', 189), ('2091', 34), ('2092', 43), ('2093', 177), ('2094', 7), ('2095', 154), ('2096', 21), ('2097', 38), ('2098', 117), ('2099', 16), ('2100', 6), ('2103', 184), ('2104', 181), ('2105', 11), ('2106', 4), ('2107', 37), ('2108', 164), ('2109', 135), ('2110', 43), ('2112', 160), ('2113', 10), ('2114', 15), ('2115', 136), ('2118', 188), ('2119', 15), ('2120', 23), ('2121', 158), ('2122', 146), ('2123', 203), ('2124', 169), ('2126', 54), ('2129', 38), ('2130', 11), ('2131', 198), ('2136', 74), ('2139', 178), ('2140', 171), ('2141', 24), ('2142', 221), ('2145', 43), ('2146', 24), ('2147', 41), ('2150', 192), ('2152', 18), ('2154', 160), ('2156', 27), ('2158', 10), ('2159', 48), ('2160', 24), ('2161', 82), ('2162', 15), ('2164', 92), ('2165', 128), ('2166', 9), ('2167', 5), ('2168', 3), ('2170', 18), ('2172', 193), ('2173', 30), ('2175', 8), ('2177', 11), ('2178', 3), ('2179', 94), ('2181', 17), ('2182', 8), ('2184', 186), ('2186', 18), ('2188', 194), ('2190', 168), ('2192', 41), ('2193', 14), ('2195', 1), ('2197', 22), ('2200', 173), ('2201', 190), ('2202', 49), ('2204', 4), ('2205', 14), ('2206', 210), ('2207', 22), ('2208', 22), ('2209', 36), ('2210', 98), ('2211', 54), ('2212', 140), ('2213', 103), ('2214', 27), ('2216', 133), ('2217', 13), ('2218', 205), ('2219', 5), ('2220', 195), ('2221', 41), ('2222', 46), ('2226', 51), ('2227', 7), ('2228', 32), ('2229', 207), ('2230', 5), ('2231', 36), ('2232', 71), ('2233', 222), ('2234', 29), ('2235', 70), ('2236', 37), ('2237', 124), ('2238', 13), ('2240', 201), ('2242', 40), ('2243', 59), ('2244', 200), ('2245', 7), ('2248', 18), ('2249', 19), ('2251', 9), ('2252', 10), ('2253', 157), ('2255', 10), ('2256', 7), ('2257', 155), ('2258', 49), ('2259', 55), ('2260', 20), ('2261', 129), ('2262', 14), ('2263', 7), ('2265', 11), ('2269', 1), ('2270', 15), ('2271', 180), ('2272', 29), ('2274', 35), ('2275', 185), ('2276', 154), ('2277', 16), ('2278', 174), ('2280', 59), ('2281', 9), ('2286', 24), ('2287', 68), ('2288', 21), ('2290', 184), ('2291', 17), ('2296', 34), ('2297', 38), ('2299', 155), ('2300', 122), ('2301', 10), ('2303', 29), ('2304', 66), ('2305', 16), ('2306', 113), ('2307', 141), ('2308', 156), ('2309', 199), ('2310', 23), ('2311', 51), ('2312', 16), ('2313', 85), ('2314', 19), ('2316', 10), ('2317', 36), ('2318', 37), ('2320', 16), ('2321', 7), ('2322', 46), ('2323', 183), ('2324', 197), ('2326', 180), ('2329', 124), ('2331', 190), ('2334', 139), ('2335', 34), ('2339', 182), ('2340', 198), ('2341', 26), ('2342', 28), ('2345', 52), ('2346', 36), ('2348', 151), ('2349', 18), ('2350', 28), ('2352', 168), ('2353', 86), ('2354', 177), ('2356', 172), ('2357', 13), ('2358', 6), ('2359', 147), ('2360', 12), ('2361', 45), ('2362', 25), ('2363', 167), ('2365', 55), ('2366', 36), ('2367', 50), ('2369', 197), ('2370', 158), ('2371', 36), ('2373', 12), ('2374', 168), ('2375', 6), ('2376', 179), ('2379', 36), ('2380', 3), ('2381', 176), ('2382', 2), ('2383', 24), ('2386', 139), ('2387', 50), ('2388', 6), ('2390', 49), ('2391', 72), ('2392', 92), ('2393', 32), ('2395', 179), ('2396', 69), ('2397', 35), ('2400', 19), ('2401', 21), ('2402', 15), ('2403', 17), ('2404', 170), ('2405', 20), ('2406', 36), ('2407', 89), ('2408', 153), ('2409', 178), ('2410', 207), ('2411', 32), ('2412', 31), ('2414', 183), ('2415', 41), ('2416', 37), ('2418', 117), ('2421', 8), ('2422', 5), ('2423', 165), ('2424', 11), ('2425', 36), ('2426', 18), ('2427', 25), ('2428', 191), ('2429', 86), ('2430', 146), ('2431', 5), ('2432', 28), ('2433', 147), ('2434', 91), ('2435', 27), ('2437', 5), ('2438', 68), ('2439', 10), ('2440', 34), ('2441', 4), ('2442', 3), ('2443', 23), ('2444', 16), ('2446', 161), ('2448', 33), ('2449', 46), ('2450', 12), ('2452', 10), ('2453', 14), ('2454', 16), ('2455', 16), ('2456', 8), ('2457', 1), ('2460', 169), ('2462', 96), ('2464', 202), ('2466', 11), ('2467', 130), ('2469', 135), ('2470', 1), ('2473', 49), ('2474', 26), ('2476', 36), ('2477', 113), ('2478', 93), ('2479', 46), ('2480', 27), ('2481', 3), ('2482', 160), ('2483', 3), ('2484', 126), ('2485', 137), ('2486', 18), ('2487', 9), ('2488', 39), ('2489', 108), ('2490', 15), ('2492', 178), ('2493', 6), ('2495', 145), ('2497', 25), ('2499', 93), ('2500', 181), ('2503', 16), ('2504', 151), ('2505', 5), ('2506', 124), ('2507', 201), ('2513', 15), ('2514', 9), ('2515', 13), ('2517', 6), ('2518', 48), ('2520', 165), ('2521', 141), ('2522', 14), ('2523', 17), ('2524', 13), ('2525', 35), ('2526', 191), ('2527', 4), ('2528', 7), ('2531', 23), ('2532', 106), ('2534', 18), ('2535', 11), ('2536', 63), ('2537', 95), ('2539', 140), ('2540', 31), ('2541', 2), ('2545', 9), ('2546', 144), ('2548', 8), ('2549', 161), ('2550', 162), ('2551', 158), ('2552', 112), ('2553', 173), ('2554', 93), ('2556', 131), ('2557', 31), ('2558', 22), ('2559', 165), ('2560', 201), ('2561', 155), ('2562', 14), ('2563', 110), ('2564', 188), ('2565', 4), ('2566', 26), ('2568', 11), ('2569', 1), ('2570', 21), ('2572', 19), ('2573', 152), ('2574', 103), ('2575', 141), ('2576', 45), ('2577', 20), ('2578', 164), ('2579', 116), ('2580', 6), ('2581', 24), ('2584', 15), ('2585', 40), ('2586', 187), ('2587', 19), ('2590', 197), ('2591', 96), ('2593', 185), ('2595', 3), ('2596', 1), ('2599', 14), ('2600', 182), ('2601', 190), ('2602', 198), ('2603', 68), ('2604', 196), ('2606', 75), ('2607', 195), ('2610', 51), ('2611', 207), ('2612', 28), ('2613', 31), ('2614', 17), ('2615', 185), ('2618', 23), ('2619', 164), ('2620', 55), ('2621', 6), ('2622', 21), ('2623', 130), ('2624', 188), ('2625', 186), ('2626', 34), ('2627', 41), ('2628', 28), ('2630', 173), ('2631', 116), ('2632', 7), ('2633', 41), ('2634', 5), ('2637', 35), ('2638', 166), ('2639', 37), ('2641', 19), ('2644', 27), ('2645', 54), ('2646', 135), ('2648', 48), ('2650', 18), ('2651', 7), ('2652', 49), ('2654', 151), ('2655', 168), ('2656', 16), ('2657', 52), ('2658', 36), ('2659', 58), ('3438', 24), ('3439', 9), ('3441', 6), ('3442', 45), ('3443', 22), ('3444', 5), ('3445', 7), ('3446', 11), ('3447', 6), ('3448', 47), ('3449', 45), ('3450', 18), ('3451', 1), ('3452', 16), ('3453', 1), ('3455', 38), ('3457', 6), ('3458', 20), ('3459', 15), ('3460', 28), ('3461', 8), ('3462', 20), ('3463', 24), ('3464', 31), ('3465', 16), ('3466', 26), ('3467', 3), ('3468', 29), ('3469', 28), ('3470', 16), ('3471', 25), ('3472', 15), ('3473', 17), ('3474', 18), ('3475', 32), ('3476', 15), ('3477', 6), ('3478', 17), ('3479', 15), ('3480', 25), ('3481', 14), ('3482', 13), ('3483', 13), ('3484', 15), ('3485', 19), ('3486', 30), ('3488', 47), ('3489', 5), ('3490', 15), ('3491', 23), ('3492', 9), ('3493', 19), ('3494', 4), ('3496', 19), ('3497', 24), ('3498', 18), ('3499', 21), ('3500', 20), ('3502', 8), ('3503', 13), ('3504', 8), ('3505', 25), ('3506', 48), ('3507', 9), ('3508', 24), ('3509', 22), ('3510', 20), ('3511', 22), ('3512', 13), ('3513', 6), ('3514', 41), ('3515', 11), ('3516', 14), ('3518', 33), ('3519', 17), ('3520', 10), ('3521', 58), ('3522', 9), ('3523', 14), ('3524', 16), ('3526', 30), ('3527', 23), ('3528', 36), ('3529', 35), ('3530', 8), ('3531', 9), ('3532', 15), ('3533', 15), ('3534', 23), ('3535', 19), ('3536', 11), ('3537', 4), ('3538', 20), ('3539', 10), ('3541', 12), ('3542', 33), ('3543', 10), ('3544', 5), ('3545', 83), ('3546', 16), ('3547', 13), ('3548', 8), ('3549', 15), ('3551', 9), ('3552', 7), ('3553', 33), ('3554', 21), ('3555', 20), ('3557', 31), ('3558', 38), ('3559', 27), ('3560', 3), ('3562', 15), ('3563', 17), ('3564', 17), ('3565', 4), ('3566', 9), ('3567', 14), ('3568', 35), ('3569', 26), ('3570', 1), ('3571', 17), ('3572', 8), ('3573', 22), ('3574', 15), ('3575', 3), ('3576', 42), ('3578', 24), ('3579', 16), ('3580', 9), ('3581', 12), ('3582', 3), ('3583', 10), ('3584', 49), ('3585', 8), ('3587', 17), ('3588', 4), ('3589', 2), ('3590', 27), ('3591', 19), ('3593', 47), ('3594', 12), ('3595', 14), ('3596', 86), ('3597', 3), ('3598', 11), ('3599', 33), ('3600', 7), ('3601', 21), ('3602', 17), ('3603', 9), ('3604', 76), ('3605', 39), ('3606', 5), ('3607', 8), ('3608', 19), ('3610', 15), ('3611', 57), ('3612', 19), ('3613', 15), ('3614', 10), ('3615', 20), ('3616', 12), ('3617', 33), ('3618', 20), ('3619', 4), ('3620', 16), ('3622', 12), ('3623', 19), ('3624', 14), ('3625', 37), ('3627', 19), ('3628', 23), ('3629', 37), ('3630', 13), ('3631', 10), ('3632', 6), ('3634', 22), ('3635', 27), ('3636', 25), ('3637', 5), ('3638', 11), ('3639', 12), ('3640', 42), ('3641', 10), ('3642', 23), ('3643', 24), ('3644', 13), ('3645', 18), ('3646', 17), ('3647', 8), ('3648', 21), ('3649', 15), ('3650', 1), ('3652', 7), ('3653', 4), ('3654', 12), ('3655', 15), ('3656', 22), ('3657', 13), ('3658', 16), ('3659', 10), ('3660', 6), ('3661', 6), ('3662', 17), ('3663', 14), ('3664', 10), ('3665', 6), ('3666', 9), ('3667', 23), ('3668', 11), ('3669', 7), ('3670', 22), ('3671', 9), ('3672', 47), ('3673', 4), ('3675', 14), ('3676', 5), ('3678', 5), ('3679', 13), ('3680', 43), ('3681', 10), ('3682', 9), ('3683', 17), ('3685', 15), ('3686', 4), ('3687', 33), ('3688', 2), ('3689', 3), ('3690', 26), ('3691', 3), ('3693', 29), ('3694', 5), ('3695', 15), ('3696', 15), ('3697', 21), ('3698', 18), ('3699', 3), ('3700', 7), ('3701', 15), ('3702', 38), ('3703', 15), ('3704', 2), ('3705', 38), ('3706', 25), ('3707', 24), ('3708', 15), ('3709', 1), ('3710', 26), ('3711', 29), ('3712', 8), ('3713', 26), ('3714', 26), ('3715', 14), ('3716', 7), ('3717', 3), ('3718', 27), ('3719', 23), ('3720', 10), ('3722', 33), ('3724', 6), ('3725', 19), ('3726', 15), ('3727', 6), ('3728', 28), ('3729', 1), ('3730', 28), ('3731', 40), ('3732', 2), ('3733', 3), ('3734', 49), ('3735', 16), ('3736', 12), ('3737', 39), ('3738', 30), ('3739', 15), ('3740', 27), ('3742', 5), ('3743', 19), ('3744', 3), ('3745', 6), ('3746', 2), ('3747', 22), ('3748', 1), ('3749', 6), ('3751', 6), ('3752', 19), ('3753', 25), ('3754', 8), ('3755', 8), ('3757', 17), ('3758', 44), ('3759', 19), ('3760', 17), ('3761', 21), ('3762', 17), ('3763', 12), ('3764', 29), ('3765', 4), ('3766', 10), ('3767', 10), ('3768', 23), ('3769', 13), ('3770', 10), ('3771', 7), ('3772', 8), ('3773', 14), ('3774', 18), ('3775', 9), ('3776', 19), ('3777', 10), ('3778', 13), ('3780', 16), ('3781', 4), ('3782', 32), ('3783', 13), ('3784', 12), ('3785', 19), ('3786', 21), ('3787', 5), ('3788', 12), ('3789', 8), ('3790', 45), ('3791', 21), ('3792', 15), ('3793', 49), ('3794', 35), ('3795', 5), ('3796', 11), ('3798', 1), ('3799', 14), ('3800', 49), ('3801', 3), ('3802', 16), ('3803', 21), ('3804', 49), ('3805', 5), ('3806', 6), ('3807', 2), ('3808', 2), ('3809', 16), ('3810', 35), ('3811', 3), ('3812', 7), ('3813', 7), ('3814', 8), ('3815', 15), ('3816', 3), ('3817', 12), ('3818', 14), ('3819', 13), ('3820', 1), ('3821', 26), ('3822', 30), ('3823', 14), ('3824', 50), ('3825', 27), ('3826', 32), ('3827', 8), ('3828', 28), ('3829', 37), ('3831', 25), ('3832', 12), ('3833', 32), ('3834', 7), ('3835', 26), ('3836', 22), ('3837', 17), ('3838', 61), ('3839', 5), ('3840', 12), ('3841', 33), ('3842', 41), ('3843', 8), ('3844', 5), ('3845', 20), ('3846', 2), ('3847', 13), ('3848', 6), ('3849', 5), ('3850', 20), ('3852', 22), ('3853', 1), ('3854', 2), ('3855', 15), ('3856', 1), ('3857', 11), ('3858', 32), ('3859', 6), ('3860', 37), ('3862', 19), ('3863', 11), ('3864', 7), ('3865', 4), ('3866', 19), ('3867', 26), ('3868', 18), ('3869', 32), ('3870', 26), ('3871', 8), ('3873', 38), ('3874', 14), ('3875', 2), ('3876', 9), ('3878', 10), ('3879', 2), ('3880', 10), ('3881', 18), ('3882', 4), ('3883', 15), ('3884', 34), ('3885', 2), ('3887', 5), ('3888', 10), ('3889', 15), ('3890', 5), ('3891', 24), ('3892', 13), ('3893', 6), ('3894', 9), ('3895', 13), ('3896', 21), ('3897', 4), ('3898', 16), ('3899', 7), ('3900', 34), ('3901', 8), ('3902', 42), ('3903', 18), ('3904', 7), ('3905', 8), ('3906', 44), ('3907', 26), ('3908', 7), ('3909', 22), ('3910', 4), ('3911', 7), ('3912', 15), ('3913', 18), ('3914', 8), ('3915', 22), ('3916', 7), ('3917', 15), ('3918', 31), ('3919', 12), ('3920', 16), ('3921', 30), ('3922', 2), ('3923', 7), ('3924', 41), ('3925', 5), ('3926', 43), ('3927', 24), ('3928', 3), ('3929', 15), ('3930', 47), ('3931', 22), ('3932', 8), ('3933', 22), ('3934', 10), ('3935', 1), ('3936', 6), ('3937', 14), ('3938', 83), ('3939', 4), ('3940', 11), ('3941', 7), ('3942', 2), ('3944', 13), ('3945', 34), ('3946', 4), ('3947', 32), ('3949', 12), ('3950', 16), ('3951', 35), ('3952', 4), ('3953', 4), ('3954', 4), ('3955', 3), ('3956', 24), ('3957', 18), ('3958', 9), ('3959', 2), ('3960', 17), ('3963', 6), ('3964', 15), ('3965', 4), ('3966', 47), ('3967', 16), ('3968', 46), ('3969', 25), ('3970', 6), ('3971', 47), ('3972', 18), ('3973', 8), ('3974', 1), ('3975', 15), ('3976', 15), ('3977', 6), ('3978', 4), ('3979', 12), ('3981', 8), ('3982', 14), ('3983', 2), ('3984', 1), ('3985', 6), ('3986', 9), ('3987', 2), ('3988', 7), ('3990', 4), ('3991', 3), ('3992', 3), ('3993', 6), ('3994', 11), ('3995', 9), ('3996', 4), ('3997', 11), ('3998', 14), ('3999', 4), ('4000', 9), ('4001', 2), ('4002', 7), ('4003', 5), ('4004', 10), ('4005', 3), ('4006', 2), ('4007', 4), ('4008', 1), ('4009', 10), ('4010', 1), ('4012', 2), ('4013', 6), ('4014', 12), ('4015', 1), ('4016', 4), ('4017', 9), ('4018', 7), ('4019', 8), ('4020', 8), ('4021', 11), ('4022', 1), ('4023', 18), ('4024', 1), ('4025', 4), ('4026', 9), ('4027', 7), ('4028', 2), ('4029', 2), ('4030', 19), ('4032', 2), ('4033', 3), ('4034', 2), ('4035', 1), ('4036', 2), ('4037', 4), ('4038', 9)]\n"
          ]
        }
      ]
    },
    {
      "cell_type": "code",
      "source": [
        "# captture nodes in 2 separate lists\n",
        "node_list_1 = []\n",
        "node_list_2 = []\n",
        "\n",
        "for i in tqdm(node_degree):\n",
        "  node_list_1.append(i[0])\n",
        "  node_list_2.append(i[1])\n",
        "\n",
        "fb_df = pd.DataFrame({'node_1': node_list_1, 'node_2': node_list_2})"
      ],
      "metadata": {
        "colab": {
          "base_uri": "https://localhost:8080/"
        },
        "id": "CySpBs7Y0BC5",
        "outputId": "a5c3cd95-a221-4a23-f095-dde5a9483347"
      },
      "execution_count": 7,
      "outputs": [
        {
          "output_type": "stream",
          "name": "stderr",
          "text": [
            "100%|██████████| 4039/4039 [00:00<00:00, 379898.05it/s]\n"
          ]
        }
      ]
    },
    {
      "cell_type": "code",
      "source": [
        "fb_df.head()"
      ],
      "metadata": {
        "colab": {
          "base_uri": "https://localhost:8080/",
          "height": 206
        },
        "id": "Z2i04sSc0Tg4",
        "outputId": "881a773d-362b-4bc2-c9c0-2c9c2f33c063"
      },
      "execution_count": 8,
      "outputs": [
        {
          "output_type": "execute_result",
          "data": {
            "text/plain": [
              "  node_1  node_2\n",
              "0      0     347\n",
              "1      1      17\n",
              "2      2      10\n",
              "3      3      17\n",
              "4      4      10"
            ],
            "text/html": [
              "\n",
              "  <div id=\"df-38085a97-39ed-4982-be29-a33539acf805\" class=\"colab-df-container\">\n",
              "    <div>\n",
              "<style scoped>\n",
              "    .dataframe tbody tr th:only-of-type {\n",
              "        vertical-align: middle;\n",
              "    }\n",
              "\n",
              "    .dataframe tbody tr th {\n",
              "        vertical-align: top;\n",
              "    }\n",
              "\n",
              "    .dataframe thead th {\n",
              "        text-align: right;\n",
              "    }\n",
              "</style>\n",
              "<table border=\"1\" class=\"dataframe\">\n",
              "  <thead>\n",
              "    <tr style=\"text-align: right;\">\n",
              "      <th></th>\n",
              "      <th>node_1</th>\n",
              "      <th>node_2</th>\n",
              "    </tr>\n",
              "  </thead>\n",
              "  <tbody>\n",
              "    <tr>\n",
              "      <th>0</th>\n",
              "      <td>0</td>\n",
              "      <td>347</td>\n",
              "    </tr>\n",
              "    <tr>\n",
              "      <th>1</th>\n",
              "      <td>1</td>\n",
              "      <td>17</td>\n",
              "    </tr>\n",
              "    <tr>\n",
              "      <th>2</th>\n",
              "      <td>2</td>\n",
              "      <td>10</td>\n",
              "    </tr>\n",
              "    <tr>\n",
              "      <th>3</th>\n",
              "      <td>3</td>\n",
              "      <td>17</td>\n",
              "    </tr>\n",
              "    <tr>\n",
              "      <th>4</th>\n",
              "      <td>4</td>\n",
              "      <td>10</td>\n",
              "    </tr>\n",
              "  </tbody>\n",
              "</table>\n",
              "</div>\n",
              "    <div class=\"colab-df-buttons\">\n",
              "\n",
              "  <div class=\"colab-df-container\">\n",
              "    <button class=\"colab-df-convert\" onclick=\"convertToInteractive('df-38085a97-39ed-4982-be29-a33539acf805')\"\n",
              "            title=\"Convert this dataframe to an interactive table.\"\n",
              "            style=\"display:none;\">\n",
              "\n",
              "  <svg xmlns=\"http://www.w3.org/2000/svg\" height=\"24px\" viewBox=\"0 -960 960 960\">\n",
              "    <path d=\"M120-120v-720h720v720H120Zm60-500h600v-160H180v160Zm220 220h160v-160H400v160Zm0 220h160v-160H400v160ZM180-400h160v-160H180v160Zm440 0h160v-160H620v160ZM180-180h160v-160H180v160Zm440 0h160v-160H620v160Z\"/>\n",
              "  </svg>\n",
              "    </button>\n",
              "\n",
              "  <style>\n",
              "    .colab-df-container {\n",
              "      display:flex;\n",
              "      gap: 12px;\n",
              "    }\n",
              "\n",
              "    .colab-df-convert {\n",
              "      background-color: #E8F0FE;\n",
              "      border: none;\n",
              "      border-radius: 50%;\n",
              "      cursor: pointer;\n",
              "      display: none;\n",
              "      fill: #1967D2;\n",
              "      height: 32px;\n",
              "      padding: 0 0 0 0;\n",
              "      width: 32px;\n",
              "    }\n",
              "\n",
              "    .colab-df-convert:hover {\n",
              "      background-color: #E2EBFA;\n",
              "      box-shadow: 0px 1px 2px rgba(60, 64, 67, 0.3), 0px 1px 3px 1px rgba(60, 64, 67, 0.15);\n",
              "      fill: #174EA6;\n",
              "    }\n",
              "\n",
              "    .colab-df-buttons div {\n",
              "      margin-bottom: 4px;\n",
              "    }\n",
              "\n",
              "    [theme=dark] .colab-df-convert {\n",
              "      background-color: #3B4455;\n",
              "      fill: #D2E3FC;\n",
              "    }\n",
              "\n",
              "    [theme=dark] .colab-df-convert:hover {\n",
              "      background-color: #434B5C;\n",
              "      box-shadow: 0px 1px 3px 1px rgba(0, 0, 0, 0.15);\n",
              "      filter: drop-shadow(0px 1px 2px rgba(0, 0, 0, 0.3));\n",
              "      fill: #FFFFFF;\n",
              "    }\n",
              "  </style>\n",
              "\n",
              "    <script>\n",
              "      const buttonEl =\n",
              "        document.querySelector('#df-38085a97-39ed-4982-be29-a33539acf805 button.colab-df-convert');\n",
              "      buttonEl.style.display =\n",
              "        google.colab.kernel.accessAllowed ? 'block' : 'none';\n",
              "\n",
              "      async function convertToInteractive(key) {\n",
              "        const element = document.querySelector('#df-38085a97-39ed-4982-be29-a33539acf805');\n",
              "        const dataTable =\n",
              "          await google.colab.kernel.invokeFunction('convertToInteractive',\n",
              "                                                    [key], {});\n",
              "        if (!dataTable) return;\n",
              "\n",
              "        const docLinkHtml = 'Like what you see? Visit the ' +\n",
              "          '<a target=\"_blank\" href=https://colab.research.google.com/notebooks/data_table.ipynb>data table notebook</a>'\n",
              "          + ' to learn more about interactive tables.';\n",
              "        element.innerHTML = '';\n",
              "        dataTable['output_type'] = 'display_data';\n",
              "        await google.colab.output.renderOutput(dataTable, element);\n",
              "        const docLink = document.createElement('div');\n",
              "        docLink.innerHTML = docLinkHtml;\n",
              "        element.appendChild(docLink);\n",
              "      }\n",
              "    </script>\n",
              "  </div>\n",
              "\n",
              "\n",
              "<div id=\"df-65d271ea-db55-46a3-a6f5-5f6dfe9325bf\">\n",
              "  <button class=\"colab-df-quickchart\" onclick=\"quickchart('df-65d271ea-db55-46a3-a6f5-5f6dfe9325bf')\"\n",
              "            title=\"Suggest charts\"\n",
              "            style=\"display:none;\">\n",
              "\n",
              "<svg xmlns=\"http://www.w3.org/2000/svg\" height=\"24px\"viewBox=\"0 0 24 24\"\n",
              "     width=\"24px\">\n",
              "    <g>\n",
              "        <path d=\"M19 3H5c-1.1 0-2 .9-2 2v14c0 1.1.9 2 2 2h14c1.1 0 2-.9 2-2V5c0-1.1-.9-2-2-2zM9 17H7v-7h2v7zm4 0h-2V7h2v10zm4 0h-2v-4h2v4z\"/>\n",
              "    </g>\n",
              "</svg>\n",
              "  </button>\n",
              "\n",
              "<style>\n",
              "  .colab-df-quickchart {\n",
              "      --bg-color: #E8F0FE;\n",
              "      --fill-color: #1967D2;\n",
              "      --hover-bg-color: #E2EBFA;\n",
              "      --hover-fill-color: #174EA6;\n",
              "      --disabled-fill-color: #AAA;\n",
              "      --disabled-bg-color: #DDD;\n",
              "  }\n",
              "\n",
              "  [theme=dark] .colab-df-quickchart {\n",
              "      --bg-color: #3B4455;\n",
              "      --fill-color: #D2E3FC;\n",
              "      --hover-bg-color: #434B5C;\n",
              "      --hover-fill-color: #FFFFFF;\n",
              "      --disabled-bg-color: #3B4455;\n",
              "      --disabled-fill-color: #666;\n",
              "  }\n",
              "\n",
              "  .colab-df-quickchart {\n",
              "    background-color: var(--bg-color);\n",
              "    border: none;\n",
              "    border-radius: 50%;\n",
              "    cursor: pointer;\n",
              "    display: none;\n",
              "    fill: var(--fill-color);\n",
              "    height: 32px;\n",
              "    padding: 0;\n",
              "    width: 32px;\n",
              "  }\n",
              "\n",
              "  .colab-df-quickchart:hover {\n",
              "    background-color: var(--hover-bg-color);\n",
              "    box-shadow: 0 1px 2px rgba(60, 64, 67, 0.3), 0 1px 3px 1px rgba(60, 64, 67, 0.15);\n",
              "    fill: var(--button-hover-fill-color);\n",
              "  }\n",
              "\n",
              "  .colab-df-quickchart-complete:disabled,\n",
              "  .colab-df-quickchart-complete:disabled:hover {\n",
              "    background-color: var(--disabled-bg-color);\n",
              "    fill: var(--disabled-fill-color);\n",
              "    box-shadow: none;\n",
              "  }\n",
              "\n",
              "  .colab-df-spinner {\n",
              "    border: 2px solid var(--fill-color);\n",
              "    border-color: transparent;\n",
              "    border-bottom-color: var(--fill-color);\n",
              "    animation:\n",
              "      spin 1s steps(1) infinite;\n",
              "  }\n",
              "\n",
              "  @keyframes spin {\n",
              "    0% {\n",
              "      border-color: transparent;\n",
              "      border-bottom-color: var(--fill-color);\n",
              "      border-left-color: var(--fill-color);\n",
              "    }\n",
              "    20% {\n",
              "      border-color: transparent;\n",
              "      border-left-color: var(--fill-color);\n",
              "      border-top-color: var(--fill-color);\n",
              "    }\n",
              "    30% {\n",
              "      border-color: transparent;\n",
              "      border-left-color: var(--fill-color);\n",
              "      border-top-color: var(--fill-color);\n",
              "      border-right-color: var(--fill-color);\n",
              "    }\n",
              "    40% {\n",
              "      border-color: transparent;\n",
              "      border-right-color: var(--fill-color);\n",
              "      border-top-color: var(--fill-color);\n",
              "    }\n",
              "    60% {\n",
              "      border-color: transparent;\n",
              "      border-right-color: var(--fill-color);\n",
              "    }\n",
              "    80% {\n",
              "      border-color: transparent;\n",
              "      border-right-color: var(--fill-color);\n",
              "      border-bottom-color: var(--fill-color);\n",
              "    }\n",
              "    90% {\n",
              "      border-color: transparent;\n",
              "      border-bottom-color: var(--fill-color);\n",
              "    }\n",
              "  }\n",
              "</style>\n",
              "\n",
              "  <script>\n",
              "    async function quickchart(key) {\n",
              "      const quickchartButtonEl =\n",
              "        document.querySelector('#' + key + ' button');\n",
              "      quickchartButtonEl.disabled = true;  // To prevent multiple clicks.\n",
              "      quickchartButtonEl.classList.add('colab-df-spinner');\n",
              "      try {\n",
              "        const charts = await google.colab.kernel.invokeFunction(\n",
              "            'suggestCharts', [key], {});\n",
              "      } catch (error) {\n",
              "        console.error('Error during call to suggestCharts:', error);\n",
              "      }\n",
              "      quickchartButtonEl.classList.remove('colab-df-spinner');\n",
              "      quickchartButtonEl.classList.add('colab-df-quickchart-complete');\n",
              "    }\n",
              "    (() => {\n",
              "      let quickchartButtonEl =\n",
              "        document.querySelector('#df-65d271ea-db55-46a3-a6f5-5f6dfe9325bf button');\n",
              "      quickchartButtonEl.style.display =\n",
              "        google.colab.kernel.accessAllowed ? 'block' : 'none';\n",
              "    })();\n",
              "  </script>\n",
              "</div>\n",
              "\n",
              "    </div>\n",
              "  </div>\n"
            ],
            "application/vnd.google.colaboratory.intrinsic+json": {
              "type": "dataframe",
              "variable_name": "fb_df",
              "summary": "{\n  \"name\": \"fb_df\",\n  \"rows\": 4039,\n  \"fields\": [\n    {\n      \"column\": \"node_1\",\n      \"properties\": {\n        \"dtype\": \"string\",\n        \"num_unique_values\": 4039,\n        \"samples\": [\n          \"2193\",\n          \"149\",\n          \"877\"\n        ],\n        \"semantic_type\": \"\",\n        \"description\": \"\"\n      }\n    },\n    {\n      \"column\": \"node_2\",\n      \"properties\": {\n        \"dtype\": \"number\",\n        \"std\": 52,\n        \"min\": 1,\n        \"max\": 1045,\n        \"num_unique_values\": 227,\n        \"samples\": [\n          31,\n          90,\n          69\n        ],\n        \"semantic_type\": \"\",\n        \"description\": \"\"\n      }\n    }\n  ]\n}"
            }
          },
          "metadata": {},
          "execution_count": 8
        }
      ]
    },
    {
      "cell_type": "code",
      "source": [
        "np.mean([d for _, d in fb_df.degree()])"
      ],
      "metadata": {
        "colab": {
          "base_uri": "https://localhost:8080/",
          "height": 263
        },
        "id": "G9RiVRDnJ6nt",
        "outputId": "f9316a8e-8b8a-43a9-d094-15ce6892ac84"
      },
      "execution_count": 21,
      "outputs": [
        {
          "output_type": "error",
          "ename": "AttributeError",
          "evalue": "'DataFrame' object has no attribute 'degree'",
          "traceback": [
            "\u001b[0;31m---------------------------------------------------------------------------\u001b[0m",
            "\u001b[0;31mAttributeError\u001b[0m                            Traceback (most recent call last)",
            "\u001b[0;32m<ipython-input-21-b94e677427fb>\u001b[0m in \u001b[0;36m<cell line: 1>\u001b[0;34m()\u001b[0m\n\u001b[0;32m----> 1\u001b[0;31m \u001b[0mnp\u001b[0m\u001b[0;34m.\u001b[0m\u001b[0mmean\u001b[0m\u001b[0;34m(\u001b[0m\u001b[0;34m[\u001b[0m\u001b[0md\u001b[0m \u001b[0;32mfor\u001b[0m \u001b[0m_\u001b[0m\u001b[0;34m,\u001b[0m \u001b[0md\u001b[0m \u001b[0;32min\u001b[0m \u001b[0mfb_df\u001b[0m\u001b[0;34m.\u001b[0m\u001b[0mdegree\u001b[0m\u001b[0;34m(\u001b[0m\u001b[0;34m)\u001b[0m\u001b[0;34m]\u001b[0m\u001b[0;34m)\u001b[0m\u001b[0;34m\u001b[0m\u001b[0;34m\u001b[0m\u001b[0m\n\u001b[0m",
            "\u001b[0;32m/usr/local/lib/python3.10/dist-packages/pandas/core/generic.py\u001b[0m in \u001b[0;36m__getattr__\u001b[0;34m(self, name)\u001b[0m\n\u001b[1;32m   5987\u001b[0m         ):\n\u001b[1;32m   5988\u001b[0m             \u001b[0;32mreturn\u001b[0m \u001b[0mself\u001b[0m\u001b[0;34m[\u001b[0m\u001b[0mname\u001b[0m\u001b[0;34m]\u001b[0m\u001b[0;34m\u001b[0m\u001b[0;34m\u001b[0m\u001b[0m\n\u001b[0;32m-> 5989\u001b[0;31m         \u001b[0;32mreturn\u001b[0m \u001b[0mobject\u001b[0m\u001b[0;34m.\u001b[0m\u001b[0m__getattribute__\u001b[0m\u001b[0;34m(\u001b[0m\u001b[0mself\u001b[0m\u001b[0;34m,\u001b[0m \u001b[0mname\u001b[0m\u001b[0;34m)\u001b[0m\u001b[0;34m\u001b[0m\u001b[0;34m\u001b[0m\u001b[0m\n\u001b[0m\u001b[1;32m   5990\u001b[0m \u001b[0;34m\u001b[0m\u001b[0m\n\u001b[1;32m   5991\u001b[0m     \u001b[0;32mdef\u001b[0m \u001b[0m__setattr__\u001b[0m\u001b[0;34m(\u001b[0m\u001b[0mself\u001b[0m\u001b[0;34m,\u001b[0m \u001b[0mname\u001b[0m\u001b[0;34m:\u001b[0m \u001b[0mstr\u001b[0m\u001b[0;34m,\u001b[0m \u001b[0mvalue\u001b[0m\u001b[0;34m)\u001b[0m \u001b[0;34m->\u001b[0m \u001b[0;32mNone\u001b[0m\u001b[0;34m:\u001b[0m\u001b[0;34m\u001b[0m\u001b[0;34m\u001b[0m\u001b[0m\n",
            "\u001b[0;31mAttributeError\u001b[0m: 'DataFrame' object has no attribute 'degree'"
          ]
        }
      ]
    },
    {
      "cell_type": "code",
      "source": [
        "# build graph\n",
        "G_data = nx.from_pandas_edgelist(fb_df, \"node_1\", \"node_2\", create_using=nx.Graph())"
      ],
      "metadata": {
        "id": "66BO87qEC033"
      },
      "execution_count": 9,
      "outputs": []
    },
    {
      "cell_type": "code",
      "source": [
        "from node2vec import Node2Vec\n",
        "\n",
        "# Generate walks\n",
        "node2vec = Node2Vec(G_data, dimensions=100, walk_length=16, num_walks=50)\n",
        "\n",
        "# train node2vec model\n",
        "n2w_model = node2vec.fit(window=7, min_count=1)"
      ],
      "metadata": {
        "colab": {
          "base_uri": "https://localhost:8080/",
          "height": 66,
          "referenced_widgets": [
            "737881f5ad874c7781f5156378334eb0",
            "51cbd7585b934f2fa76fcba2bd85537b",
            "5463b27c9bc548c487583a87117f6699",
            "85322b659bca446dbc28e2ccd7b36a14",
            "9a5894aaa5384f9f9d3e4627db110308",
            "339896cac71349b8a0af938d51920eb8",
            "c5a36c9cbeb040119c9855fa3fd55825",
            "306a99bd81f347c1a6e54d8e9c79e318",
            "2ecfed86aa404aebb79e84eb2a173157",
            "78ea42b431694ab394a71f3aff736375",
            "7aa99c88e7fc418082be6e832461e7d3"
          ]
        },
        "id": "1_oODcTlD-NG",
        "outputId": "cb1959af-ea33-41fd-a419-e26f5dfdc1fd"
      },
      "execution_count": 12,
      "outputs": [
        {
          "output_type": "display_data",
          "data": {
            "text/plain": [
              "Computing transition probabilities:   0%|          | 0/4266 [00:00<?, ?it/s]"
            ],
            "application/vnd.jupyter.widget-view+json": {
              "version_major": 2,
              "version_minor": 0,
              "model_id": "737881f5ad874c7781f5156378334eb0"
            }
          },
          "metadata": {
            "application/vnd.jupyter.widget-view+json": {
              "colab": {
                "custom_widget_manager": {
                  "url": "https://ssl.gstatic.com/colaboratory-static/widgets/colab-cdn-widget-manager/2b70e893a8ba7c0f/manager.min.js"
                }
              }
            }
          }
        },
        {
          "output_type": "stream",
          "name": "stderr",
          "text": [
            "Generating walks (CPU: 1): 100%|██████████| 50/50 [00:29<00:00,  1.70it/s]\n"
          ]
        }
      ]
    },
    {
      "cell_type": "code",
      "source": [
        "!pip install node2vec"
      ],
      "metadata": {
        "colab": {
          "base_uri": "https://localhost:8080/",
          "height": 618
        },
        "id": "s0uOorQeC-c8",
        "outputId": "1ba934bb-76c2-4ccd-a5b1-f849affd273f"
      },
      "execution_count": 17,
      "outputs": [
        {
          "output_type": "stream",
          "name": "stdout",
          "text": [
            "Collecting node2vec\n",
            "  Downloading node2vec-0.4.6-py3-none-any.whl (7.0 kB)\n",
            "Requirement already satisfied: gensim<5.0.0,>=4.1.2 in /usr/local/lib/python3.10/dist-packages (from node2vec) (4.3.2)\n",
            "Requirement already satisfied: joblib<2.0.0,>=1.1.0 in /usr/local/lib/python3.10/dist-packages (from node2vec) (1.3.2)\n",
            "Collecting networkx<3.0,>=2.5 (from node2vec)\n",
            "  Downloading networkx-2.8.8-py3-none-any.whl (2.0 MB)\n",
            "\u001b[2K     \u001b[90m━━━━━━━━━━━━━━━━━━━━━━━━━━━━━━━━━━━━━━━━\u001b[0m \u001b[32m2.0/2.0 MB\u001b[0m \u001b[31m6.4 MB/s\u001b[0m eta \u001b[36m0:00:00\u001b[0m\n",
            "\u001b[?25hRequirement already satisfied: numpy<2.0.0,>=1.19.5 in /usr/local/lib/python3.10/dist-packages (from node2vec) (1.25.2)\n",
            "Requirement already satisfied: tqdm<5.0.0,>=4.55.1 in /usr/local/lib/python3.10/dist-packages (from node2vec) (4.66.4)\n",
            "Requirement already satisfied: scipy>=1.7.0 in /usr/local/lib/python3.10/dist-packages (from gensim<5.0.0,>=4.1.2->node2vec) (1.11.4)\n",
            "Requirement already satisfied: smart-open>=1.8.1 in /usr/local/lib/python3.10/dist-packages (from gensim<5.0.0,>=4.1.2->node2vec) (6.4.0)\n",
            "Installing collected packages: networkx, node2vec\n",
            "  Attempting uninstall: networkx\n",
            "    Found existing installation: networkx 3.3\n",
            "    Uninstalling networkx-3.3:\n",
            "      Successfully uninstalled networkx-3.3\n",
            "\u001b[31mERROR: pip's dependency resolver does not currently take into account all the packages that are installed. This behaviour is the source of the following dependency conflicts.\n",
            "torch 2.3.0+cu121 requires nvidia-cublas-cu12==12.1.3.1; platform_system == \"Linux\" and platform_machine == \"x86_64\", which is not installed.\n",
            "torch 2.3.0+cu121 requires nvidia-cuda-cupti-cu12==12.1.105; platform_system == \"Linux\" and platform_machine == \"x86_64\", which is not installed.\n",
            "torch 2.3.0+cu121 requires nvidia-cuda-nvrtc-cu12==12.1.105; platform_system == \"Linux\" and platform_machine == \"x86_64\", which is not installed.\n",
            "torch 2.3.0+cu121 requires nvidia-cuda-runtime-cu12==12.1.105; platform_system == \"Linux\" and platform_machine == \"x86_64\", which is not installed.\n",
            "torch 2.3.0+cu121 requires nvidia-cudnn-cu12==8.9.2.26; platform_system == \"Linux\" and platform_machine == \"x86_64\", which is not installed.\n",
            "torch 2.3.0+cu121 requires nvidia-cufft-cu12==11.0.2.54; platform_system == \"Linux\" and platform_machine == \"x86_64\", which is not installed.\n",
            "torch 2.3.0+cu121 requires nvidia-curand-cu12==10.3.2.106; platform_system == \"Linux\" and platform_machine == \"x86_64\", which is not installed.\n",
            "torch 2.3.0+cu121 requires nvidia-cusolver-cu12==11.4.5.107; platform_system == \"Linux\" and platform_machine == \"x86_64\", which is not installed.\n",
            "torch 2.3.0+cu121 requires nvidia-cusparse-cu12==12.1.0.106; platform_system == \"Linux\" and platform_machine == \"x86_64\", which is not installed.\n",
            "torch 2.3.0+cu121 requires nvidia-nccl-cu12==2.20.5; platform_system == \"Linux\" and platform_machine == \"x86_64\", which is not installed.\n",
            "torch 2.3.0+cu121 requires nvidia-nvtx-cu12==12.1.105; platform_system == \"Linux\" and platform_machine == \"x86_64\", which is not installed.\u001b[0m\u001b[31m\n",
            "\u001b[0mSuccessfully installed networkx-2.8.8 node2vec-0.4.6\n"
          ]
        },
        {
          "output_type": "display_data",
          "data": {
            "application/vnd.colab-display-data+json": {
              "pip_warning": {
                "packages": [
                  "networkx"
                ]
              },
              "id": "f5047b2f0ebc44b987255110c5bf1535"
            }
          },
          "metadata": {}
        }
      ]
    },
    {
      "cell_type": "code",
      "source": [
        "from pycaret.clustering import *\n",
        "s = setup(fb_df)"
      ],
      "metadata": {
        "colab": {
          "base_uri": "https://localhost:8080/",
          "height": 551
        },
        "id": "8x0n5VaeSSWD",
        "outputId": "c6c1e055-70c3-4d6b-a298-b6187826c684"
      },
      "execution_count": 10,
      "outputs": [
        {
          "output_type": "display_data",
          "data": {
            "text/plain": [
              "<pandas.io.formats.style.Styler at 0x7d6bf3feffd0>"
            ],
            "text/html": [
              "<style type=\"text/css\">\n",
              "#T_07359_row5_col1 {\n",
              "  background-color: lightgreen;\n",
              "}\n",
              "</style>\n",
              "<table id=\"T_07359\" class=\"dataframe\">\n",
              "  <thead>\n",
              "    <tr>\n",
              "      <th class=\"blank level0\" >&nbsp;</th>\n",
              "      <th id=\"T_07359_level0_col0\" class=\"col_heading level0 col0\" >Description</th>\n",
              "      <th id=\"T_07359_level0_col1\" class=\"col_heading level0 col1\" >Value</th>\n",
              "    </tr>\n",
              "  </thead>\n",
              "  <tbody>\n",
              "    <tr>\n",
              "      <th id=\"T_07359_level0_row0\" class=\"row_heading level0 row0\" >0</th>\n",
              "      <td id=\"T_07359_row0_col0\" class=\"data row0 col0\" >Session id</td>\n",
              "      <td id=\"T_07359_row0_col1\" class=\"data row0 col1\" >8245</td>\n",
              "    </tr>\n",
              "    <tr>\n",
              "      <th id=\"T_07359_level0_row1\" class=\"row_heading level0 row1\" >1</th>\n",
              "      <td id=\"T_07359_row1_col0\" class=\"data row1 col0\" >Original data shape</td>\n",
              "      <td id=\"T_07359_row1_col1\" class=\"data row1 col1\" >(4039, 2)</td>\n",
              "    </tr>\n",
              "    <tr>\n",
              "      <th id=\"T_07359_level0_row2\" class=\"row_heading level0 row2\" >2</th>\n",
              "      <td id=\"T_07359_row2_col0\" class=\"data row2 col0\" >Transformed data shape</td>\n",
              "      <td id=\"T_07359_row2_col1\" class=\"data row2 col1\" >(4039, 4040)</td>\n",
              "    </tr>\n",
              "    <tr>\n",
              "      <th id=\"T_07359_level0_row3\" class=\"row_heading level0 row3\" >3</th>\n",
              "      <td id=\"T_07359_row3_col0\" class=\"data row3 col0\" >Numeric features</td>\n",
              "      <td id=\"T_07359_row3_col1\" class=\"data row3 col1\" >1</td>\n",
              "    </tr>\n",
              "    <tr>\n",
              "      <th id=\"T_07359_level0_row4\" class=\"row_heading level0 row4\" >4</th>\n",
              "      <td id=\"T_07359_row4_col0\" class=\"data row4 col0\" >Categorical features</td>\n",
              "      <td id=\"T_07359_row4_col1\" class=\"data row4 col1\" >1</td>\n",
              "    </tr>\n",
              "    <tr>\n",
              "      <th id=\"T_07359_level0_row5\" class=\"row_heading level0 row5\" >5</th>\n",
              "      <td id=\"T_07359_row5_col0\" class=\"data row5 col0\" >Preprocess</td>\n",
              "      <td id=\"T_07359_row5_col1\" class=\"data row5 col1\" >True</td>\n",
              "    </tr>\n",
              "    <tr>\n",
              "      <th id=\"T_07359_level0_row6\" class=\"row_heading level0 row6\" >6</th>\n",
              "      <td id=\"T_07359_row6_col0\" class=\"data row6 col0\" >Imputation type</td>\n",
              "      <td id=\"T_07359_row6_col1\" class=\"data row6 col1\" >simple</td>\n",
              "    </tr>\n",
              "    <tr>\n",
              "      <th id=\"T_07359_level0_row7\" class=\"row_heading level0 row7\" >7</th>\n",
              "      <td id=\"T_07359_row7_col0\" class=\"data row7 col0\" >Numeric imputation</td>\n",
              "      <td id=\"T_07359_row7_col1\" class=\"data row7 col1\" >mean</td>\n",
              "    </tr>\n",
              "    <tr>\n",
              "      <th id=\"T_07359_level0_row8\" class=\"row_heading level0 row8\" >8</th>\n",
              "      <td id=\"T_07359_row8_col0\" class=\"data row8 col0\" >Categorical imputation</td>\n",
              "      <td id=\"T_07359_row8_col1\" class=\"data row8 col1\" >mode</td>\n",
              "    </tr>\n",
              "    <tr>\n",
              "      <th id=\"T_07359_level0_row9\" class=\"row_heading level0 row9\" >9</th>\n",
              "      <td id=\"T_07359_row9_col0\" class=\"data row9 col0\" >Maximum one-hot encoding</td>\n",
              "      <td id=\"T_07359_row9_col1\" class=\"data row9 col1\" >-1</td>\n",
              "    </tr>\n",
              "    <tr>\n",
              "      <th id=\"T_07359_level0_row10\" class=\"row_heading level0 row10\" >10</th>\n",
              "      <td id=\"T_07359_row10_col0\" class=\"data row10 col0\" >Encoding method</td>\n",
              "      <td id=\"T_07359_row10_col1\" class=\"data row10 col1\" >None</td>\n",
              "    </tr>\n",
              "    <tr>\n",
              "      <th id=\"T_07359_level0_row11\" class=\"row_heading level0 row11\" >11</th>\n",
              "      <td id=\"T_07359_row11_col0\" class=\"data row11 col0\" >CPU Jobs</td>\n",
              "      <td id=\"T_07359_row11_col1\" class=\"data row11 col1\" >-1</td>\n",
              "    </tr>\n",
              "    <tr>\n",
              "      <th id=\"T_07359_level0_row12\" class=\"row_heading level0 row12\" >12</th>\n",
              "      <td id=\"T_07359_row12_col0\" class=\"data row12 col0\" >Use GPU</td>\n",
              "      <td id=\"T_07359_row12_col1\" class=\"data row12 col1\" >False</td>\n",
              "    </tr>\n",
              "    <tr>\n",
              "      <th id=\"T_07359_level0_row13\" class=\"row_heading level0 row13\" >13</th>\n",
              "      <td id=\"T_07359_row13_col0\" class=\"data row13 col0\" >Log Experiment</td>\n",
              "      <td id=\"T_07359_row13_col1\" class=\"data row13 col1\" >False</td>\n",
              "    </tr>\n",
              "    <tr>\n",
              "      <th id=\"T_07359_level0_row14\" class=\"row_heading level0 row14\" >14</th>\n",
              "      <td id=\"T_07359_row14_col0\" class=\"data row14 col0\" >Experiment Name</td>\n",
              "      <td id=\"T_07359_row14_col1\" class=\"data row14 col1\" >cluster-default-name</td>\n",
              "    </tr>\n",
              "    <tr>\n",
              "      <th id=\"T_07359_level0_row15\" class=\"row_heading level0 row15\" >15</th>\n",
              "      <td id=\"T_07359_row15_col0\" class=\"data row15 col0\" >USI</td>\n",
              "      <td id=\"T_07359_row15_col1\" class=\"data row15 col1\" >caa0</td>\n",
              "    </tr>\n",
              "  </tbody>\n",
              "</table>\n"
            ]
          },
          "metadata": {}
        }
      ]
    },
    {
      "cell_type": "code",
      "source": [
        "models()"
      ],
      "metadata": {
        "colab": {
          "base_uri": "https://localhost:8080/",
          "height": 332
        },
        "id": "HHIlYeQ0StkE",
        "outputId": "a607a145-0310-4877-c1dd-d22f2db3ebb5"
      },
      "execution_count": 15,
      "outputs": [
        {
          "output_type": "execute_result",
          "data": {
            "text/plain": [
              "                                       Name  \\\n",
              "ID                                            \n",
              "kmeans                   K-Means Clustering   \n",
              "ap                     Affinity Propagation   \n",
              "meanshift             Mean Shift Clustering   \n",
              "sc                      Spectral Clustering   \n",
              "hclust             Agglomerative Clustering   \n",
              "dbscan     Density-Based Spatial Clustering   \n",
              "optics                    OPTICS Clustering   \n",
              "birch                      Birch Clustering   \n",
              "\n",
              "                                                   Reference  \n",
              "ID                                                            \n",
              "kmeans                        sklearn.cluster._kmeans.KMeans  \n",
              "ap         sklearn.cluster._affinity_propagation.Affinity...  \n",
              "meanshift              sklearn.cluster._mean_shift.MeanShift  \n",
              "sc              sklearn.cluster._spectral.SpectralClustering  \n",
              "hclust     sklearn.cluster._agglomerative.AgglomerativeCl...  \n",
              "dbscan                        sklearn.cluster._dbscan.DBSCAN  \n",
              "optics                        sklearn.cluster._optics.OPTICS  \n",
              "birch                           sklearn.cluster._birch.Birch  "
            ],
            "text/html": [
              "\n",
              "  <div id=\"df-170c88ba-0d9b-4f43-b4fd-ac5b21740d61\" class=\"colab-df-container\">\n",
              "    <div>\n",
              "<style scoped>\n",
              "    .dataframe tbody tr th:only-of-type {\n",
              "        vertical-align: middle;\n",
              "    }\n",
              "\n",
              "    .dataframe tbody tr th {\n",
              "        vertical-align: top;\n",
              "    }\n",
              "\n",
              "    .dataframe thead th {\n",
              "        text-align: right;\n",
              "    }\n",
              "</style>\n",
              "<table border=\"1\" class=\"dataframe\">\n",
              "  <thead>\n",
              "    <tr style=\"text-align: right;\">\n",
              "      <th></th>\n",
              "      <th>Name</th>\n",
              "      <th>Reference</th>\n",
              "    </tr>\n",
              "    <tr>\n",
              "      <th>ID</th>\n",
              "      <th></th>\n",
              "      <th></th>\n",
              "    </tr>\n",
              "  </thead>\n",
              "  <tbody>\n",
              "    <tr>\n",
              "      <th>kmeans</th>\n",
              "      <td>K-Means Clustering</td>\n",
              "      <td>sklearn.cluster._kmeans.KMeans</td>\n",
              "    </tr>\n",
              "    <tr>\n",
              "      <th>ap</th>\n",
              "      <td>Affinity Propagation</td>\n",
              "      <td>sklearn.cluster._affinity_propagation.Affinity...</td>\n",
              "    </tr>\n",
              "    <tr>\n",
              "      <th>meanshift</th>\n",
              "      <td>Mean Shift Clustering</td>\n",
              "      <td>sklearn.cluster._mean_shift.MeanShift</td>\n",
              "    </tr>\n",
              "    <tr>\n",
              "      <th>sc</th>\n",
              "      <td>Spectral Clustering</td>\n",
              "      <td>sklearn.cluster._spectral.SpectralClustering</td>\n",
              "    </tr>\n",
              "    <tr>\n",
              "      <th>hclust</th>\n",
              "      <td>Agglomerative Clustering</td>\n",
              "      <td>sklearn.cluster._agglomerative.AgglomerativeCl...</td>\n",
              "    </tr>\n",
              "    <tr>\n",
              "      <th>dbscan</th>\n",
              "      <td>Density-Based Spatial Clustering</td>\n",
              "      <td>sklearn.cluster._dbscan.DBSCAN</td>\n",
              "    </tr>\n",
              "    <tr>\n",
              "      <th>optics</th>\n",
              "      <td>OPTICS Clustering</td>\n",
              "      <td>sklearn.cluster._optics.OPTICS</td>\n",
              "    </tr>\n",
              "    <tr>\n",
              "      <th>birch</th>\n",
              "      <td>Birch Clustering</td>\n",
              "      <td>sklearn.cluster._birch.Birch</td>\n",
              "    </tr>\n",
              "  </tbody>\n",
              "</table>\n",
              "</div>\n",
              "    <div class=\"colab-df-buttons\">\n",
              "\n",
              "  <div class=\"colab-df-container\">\n",
              "    <button class=\"colab-df-convert\" onclick=\"convertToInteractive('df-170c88ba-0d9b-4f43-b4fd-ac5b21740d61')\"\n",
              "            title=\"Convert this dataframe to an interactive table.\"\n",
              "            style=\"display:none;\">\n",
              "\n",
              "  <svg xmlns=\"http://www.w3.org/2000/svg\" height=\"24px\" viewBox=\"0 -960 960 960\">\n",
              "    <path d=\"M120-120v-720h720v720H120Zm60-500h600v-160H180v160Zm220 220h160v-160H400v160Zm0 220h160v-160H400v160ZM180-400h160v-160H180v160Zm440 0h160v-160H620v160ZM180-180h160v-160H180v160Zm440 0h160v-160H620v160Z\"/>\n",
              "  </svg>\n",
              "    </button>\n",
              "\n",
              "  <style>\n",
              "    .colab-df-container {\n",
              "      display:flex;\n",
              "      gap: 12px;\n",
              "    }\n",
              "\n",
              "    .colab-df-convert {\n",
              "      background-color: #E8F0FE;\n",
              "      border: none;\n",
              "      border-radius: 50%;\n",
              "      cursor: pointer;\n",
              "      display: none;\n",
              "      fill: #1967D2;\n",
              "      height: 32px;\n",
              "      padding: 0 0 0 0;\n",
              "      width: 32px;\n",
              "    }\n",
              "\n",
              "    .colab-df-convert:hover {\n",
              "      background-color: #E2EBFA;\n",
              "      box-shadow: 0px 1px 2px rgba(60, 64, 67, 0.3), 0px 1px 3px 1px rgba(60, 64, 67, 0.15);\n",
              "      fill: #174EA6;\n",
              "    }\n",
              "\n",
              "    .colab-df-buttons div {\n",
              "      margin-bottom: 4px;\n",
              "    }\n",
              "\n",
              "    [theme=dark] .colab-df-convert {\n",
              "      background-color: #3B4455;\n",
              "      fill: #D2E3FC;\n",
              "    }\n",
              "\n",
              "    [theme=dark] .colab-df-convert:hover {\n",
              "      background-color: #434B5C;\n",
              "      box-shadow: 0px 1px 3px 1px rgba(0, 0, 0, 0.15);\n",
              "      filter: drop-shadow(0px 1px 2px rgba(0, 0, 0, 0.3));\n",
              "      fill: #FFFFFF;\n",
              "    }\n",
              "  </style>\n",
              "\n",
              "    <script>\n",
              "      const buttonEl =\n",
              "        document.querySelector('#df-170c88ba-0d9b-4f43-b4fd-ac5b21740d61 button.colab-df-convert');\n",
              "      buttonEl.style.display =\n",
              "        google.colab.kernel.accessAllowed ? 'block' : 'none';\n",
              "\n",
              "      async function convertToInteractive(key) {\n",
              "        const element = document.querySelector('#df-170c88ba-0d9b-4f43-b4fd-ac5b21740d61');\n",
              "        const dataTable =\n",
              "          await google.colab.kernel.invokeFunction('convertToInteractive',\n",
              "                                                    [key], {});\n",
              "        if (!dataTable) return;\n",
              "\n",
              "        const docLinkHtml = 'Like what you see? Visit the ' +\n",
              "          '<a target=\"_blank\" href=https://colab.research.google.com/notebooks/data_table.ipynb>data table notebook</a>'\n",
              "          + ' to learn more about interactive tables.';\n",
              "        element.innerHTML = '';\n",
              "        dataTable['output_type'] = 'display_data';\n",
              "        await google.colab.output.renderOutput(dataTable, element);\n",
              "        const docLink = document.createElement('div');\n",
              "        docLink.innerHTML = docLinkHtml;\n",
              "        element.appendChild(docLink);\n",
              "      }\n",
              "    </script>\n",
              "  </div>\n",
              "\n",
              "\n",
              "<div id=\"df-998d2fd7-b882-4be8-b5a9-6fd750305849\">\n",
              "  <button class=\"colab-df-quickchart\" onclick=\"quickchart('df-998d2fd7-b882-4be8-b5a9-6fd750305849')\"\n",
              "            title=\"Suggest charts\"\n",
              "            style=\"display:none;\">\n",
              "\n",
              "<svg xmlns=\"http://www.w3.org/2000/svg\" height=\"24px\"viewBox=\"0 0 24 24\"\n",
              "     width=\"24px\">\n",
              "    <g>\n",
              "        <path d=\"M19 3H5c-1.1 0-2 .9-2 2v14c0 1.1.9 2 2 2h14c1.1 0 2-.9 2-2V5c0-1.1-.9-2-2-2zM9 17H7v-7h2v7zm4 0h-2V7h2v10zm4 0h-2v-4h2v4z\"/>\n",
              "    </g>\n",
              "</svg>\n",
              "  </button>\n",
              "\n",
              "<style>\n",
              "  .colab-df-quickchart {\n",
              "      --bg-color: #E8F0FE;\n",
              "      --fill-color: #1967D2;\n",
              "      --hover-bg-color: #E2EBFA;\n",
              "      --hover-fill-color: #174EA6;\n",
              "      --disabled-fill-color: #AAA;\n",
              "      --disabled-bg-color: #DDD;\n",
              "  }\n",
              "\n",
              "  [theme=dark] .colab-df-quickchart {\n",
              "      --bg-color: #3B4455;\n",
              "      --fill-color: #D2E3FC;\n",
              "      --hover-bg-color: #434B5C;\n",
              "      --hover-fill-color: #FFFFFF;\n",
              "      --disabled-bg-color: #3B4455;\n",
              "      --disabled-fill-color: #666;\n",
              "  }\n",
              "\n",
              "  .colab-df-quickchart {\n",
              "    background-color: var(--bg-color);\n",
              "    border: none;\n",
              "    border-radius: 50%;\n",
              "    cursor: pointer;\n",
              "    display: none;\n",
              "    fill: var(--fill-color);\n",
              "    height: 32px;\n",
              "    padding: 0;\n",
              "    width: 32px;\n",
              "  }\n",
              "\n",
              "  .colab-df-quickchart:hover {\n",
              "    background-color: var(--hover-bg-color);\n",
              "    box-shadow: 0 1px 2px rgba(60, 64, 67, 0.3), 0 1px 3px 1px rgba(60, 64, 67, 0.15);\n",
              "    fill: var(--button-hover-fill-color);\n",
              "  }\n",
              "\n",
              "  .colab-df-quickchart-complete:disabled,\n",
              "  .colab-df-quickchart-complete:disabled:hover {\n",
              "    background-color: var(--disabled-bg-color);\n",
              "    fill: var(--disabled-fill-color);\n",
              "    box-shadow: none;\n",
              "  }\n",
              "\n",
              "  .colab-df-spinner {\n",
              "    border: 2px solid var(--fill-color);\n",
              "    border-color: transparent;\n",
              "    border-bottom-color: var(--fill-color);\n",
              "    animation:\n",
              "      spin 1s steps(1) infinite;\n",
              "  }\n",
              "\n",
              "  @keyframes spin {\n",
              "    0% {\n",
              "      border-color: transparent;\n",
              "      border-bottom-color: var(--fill-color);\n",
              "      border-left-color: var(--fill-color);\n",
              "    }\n",
              "    20% {\n",
              "      border-color: transparent;\n",
              "      border-left-color: var(--fill-color);\n",
              "      border-top-color: var(--fill-color);\n",
              "    }\n",
              "    30% {\n",
              "      border-color: transparent;\n",
              "      border-left-color: var(--fill-color);\n",
              "      border-top-color: var(--fill-color);\n",
              "      border-right-color: var(--fill-color);\n",
              "    }\n",
              "    40% {\n",
              "      border-color: transparent;\n",
              "      border-right-color: var(--fill-color);\n",
              "      border-top-color: var(--fill-color);\n",
              "    }\n",
              "    60% {\n",
              "      border-color: transparent;\n",
              "      border-right-color: var(--fill-color);\n",
              "    }\n",
              "    80% {\n",
              "      border-color: transparent;\n",
              "      border-right-color: var(--fill-color);\n",
              "      border-bottom-color: var(--fill-color);\n",
              "    }\n",
              "    90% {\n",
              "      border-color: transparent;\n",
              "      border-bottom-color: var(--fill-color);\n",
              "    }\n",
              "  }\n",
              "</style>\n",
              "\n",
              "  <script>\n",
              "    async function quickchart(key) {\n",
              "      const quickchartButtonEl =\n",
              "        document.querySelector('#' + key + ' button');\n",
              "      quickchartButtonEl.disabled = true;  // To prevent multiple clicks.\n",
              "      quickchartButtonEl.classList.add('colab-df-spinner');\n",
              "      try {\n",
              "        const charts = await google.colab.kernel.invokeFunction(\n",
              "            'suggestCharts', [key], {});\n",
              "      } catch (error) {\n",
              "        console.error('Error during call to suggestCharts:', error);\n",
              "      }\n",
              "      quickchartButtonEl.classList.remove('colab-df-spinner');\n",
              "      quickchartButtonEl.classList.add('colab-df-quickchart-complete');\n",
              "    }\n",
              "    (() => {\n",
              "      let quickchartButtonEl =\n",
              "        document.querySelector('#df-998d2fd7-b882-4be8-b5a9-6fd750305849 button');\n",
              "      quickchartButtonEl.style.display =\n",
              "        google.colab.kernel.accessAllowed ? 'block' : 'none';\n",
              "    })();\n",
              "  </script>\n",
              "</div>\n",
              "\n",
              "    </div>\n",
              "  </div>\n"
            ],
            "application/vnd.google.colaboratory.intrinsic+json": {
              "type": "dataframe",
              "summary": "{\n  \"name\": \"models()\",\n  \"rows\": 8,\n  \"fields\": [\n    {\n      \"column\": \"ID\",\n      \"properties\": {\n        \"dtype\": \"string\",\n        \"num_unique_values\": 8,\n        \"samples\": [\n          \"ap\",\n          \"dbscan\",\n          \"kmeans\"\n        ],\n        \"semantic_type\": \"\",\n        \"description\": \"\"\n      }\n    },\n    {\n      \"column\": \"Name\",\n      \"properties\": {\n        \"dtype\": \"string\",\n        \"num_unique_values\": 8,\n        \"samples\": [\n          \"Affinity Propagation\",\n          \"Density-Based Spatial Clustering\",\n          \"K-Means Clustering\"\n        ],\n        \"semantic_type\": \"\",\n        \"description\": \"\"\n      }\n    },\n    {\n      \"column\": \"Reference\",\n      \"properties\": {\n        \"dtype\": \"string\",\n        \"num_unique_values\": 8,\n        \"samples\": [\n          \"sklearn.cluster._affinity_propagation.AffinityPropagation\",\n          \"sklearn.cluster._dbscan.DBSCAN\",\n          \"sklearn.cluster._kmeans.KMeans\"\n        ],\n        \"semantic_type\": \"\",\n        \"description\": \"\"\n      }\n    }\n  ]\n}"
            }
          },
          "metadata": {},
          "execution_count": 15
        }
      ]
    },
    {
      "cell_type": "code",
      "source": [
        "kmeans = create_model('kmeans', num_clusters = 6)"
      ],
      "metadata": {
        "colab": {
          "base_uri": "https://localhost:8080/",
          "height": 81,
          "referenced_widgets": [
            "737ca8e57ca54862bd53e8968c5c68e0",
            "a590eee443e3461e80fd10577bcb7cfa",
            "51b3c1c970bf453b8338018c25782f52",
            "73dcc8e0babf4ad99003be25a5c9cbb8",
            "7b53f61ca93649e2803d7d219fe16a18",
            "2d20b8024de94cc8b5467b7b09a314d8",
            "9a33254b3c4c447195ece96cb9b8f1d1",
            "f88c0df7ca84485f82ba2499ad3cdfcd",
            "56d5dad4d1274f87bd72b291e577a57b",
            "dd7694cc215d4e50aec9a7295fc7fe99",
            "97e16792071545f298331d8309b04fa7"
          ]
        },
        "id": "Q1cwlQTiS4I7",
        "outputId": "cd91f11e-e988-4154-edd3-b27aea918da7"
      },
      "execution_count": 16,
      "outputs": [
        {
          "output_type": "display_data",
          "data": {
            "text/plain": [
              "<IPython.core.display.HTML object>"
            ],
            "text/html": []
          },
          "metadata": {}
        },
        {
          "output_type": "display_data",
          "data": {
            "text/plain": [
              "<pandas.io.formats.style.Styler at 0x7e98bd47fbb0>"
            ],
            "text/html": [
              "<style type=\"text/css\">\n",
              "</style>\n",
              "<table id=\"T_1e164\" class=\"dataframe\">\n",
              "  <thead>\n",
              "    <tr>\n",
              "      <th class=\"blank level0\" >&nbsp;</th>\n",
              "      <th id=\"T_1e164_level0_col0\" class=\"col_heading level0 col0\" >Silhouette</th>\n",
              "      <th id=\"T_1e164_level0_col1\" class=\"col_heading level0 col1\" >Calinski-Harabasz</th>\n",
              "      <th id=\"T_1e164_level0_col2\" class=\"col_heading level0 col2\" >Davies-Bouldin</th>\n",
              "      <th id=\"T_1e164_level0_col3\" class=\"col_heading level0 col3\" >Homogeneity</th>\n",
              "      <th id=\"T_1e164_level0_col4\" class=\"col_heading level0 col4\" >Rand Index</th>\n",
              "      <th id=\"T_1e164_level0_col5\" class=\"col_heading level0 col5\" >Completeness</th>\n",
              "    </tr>\n",
              "  </thead>\n",
              "  <tbody>\n",
              "    <tr>\n",
              "      <th id=\"T_1e164_level0_row0\" class=\"row_heading level0 row0\" >0</th>\n",
              "      <td id=\"T_1e164_row0_col0\" class=\"data row0 col0\" >0.5925</td>\n",
              "      <td id=\"T_1e164_row0_col1\" class=\"data row0 col1\" >14790.0741</td>\n",
              "      <td id=\"T_1e164_row0_col2\" class=\"data row0 col2\" >0.4603</td>\n",
              "      <td id=\"T_1e164_row0_col3\" class=\"data row0 col3\" >0</td>\n",
              "      <td id=\"T_1e164_row0_col4\" class=\"data row0 col4\" >0</td>\n",
              "      <td id=\"T_1e164_row0_col5\" class=\"data row0 col5\" >0</td>\n",
              "    </tr>\n",
              "  </tbody>\n",
              "</table>\n"
            ]
          },
          "metadata": {}
        },
        {
          "output_type": "display_data",
          "data": {
            "text/plain": [
              "Processing:   0%|          | 0/3 [00:00<?, ?it/s]"
            ],
            "application/vnd.jupyter.widget-view+json": {
              "version_major": 2,
              "version_minor": 0,
              "model_id": "737ca8e57ca54862bd53e8968c5c68e0"
            }
          },
          "metadata": {
            "application/vnd.jupyter.widget-view+json": {
              "colab": {
                "custom_widget_manager": {
                  "url": "https://ssl.gstatic.com/colaboratory-static/widgets/colab-cdn-widget-manager/2b70e893a8ba7c0f/manager.min.js"
                }
              }
            }
          }
        },
        {
          "output_type": "display_data",
          "data": {
            "text/plain": [
              "<IPython.core.display.HTML object>"
            ],
            "text/html": []
          },
          "metadata": {}
        }
      ]
    },
    {
      "cell_type": "code",
      "source": [
        "kmeans_results = assign_model(kmeans)\n",
        "kmeans_results.head()"
      ],
      "metadata": {
        "colab": {
          "base_uri": "https://localhost:8080/",
          "height": 206
        },
        "id": "RXu-ZYlsTO12",
        "outputId": "3c43eb07-fe4c-48ce-e68f-3d9fc5119076"
      },
      "execution_count": 18,
      "outputs": [
        {
          "output_type": "execute_result",
          "data": {
            "text/plain": [
              "  node_1  node_2    Cluster\n",
              "0      0     347  Cluster 4\n",
              "1      1      17  Cluster 0\n",
              "2      2      10  Cluster 0\n",
              "3      3      17  Cluster 0\n",
              "4      4      10  Cluster 0"
            ],
            "text/html": [
              "\n",
              "  <div id=\"df-fb6f4a5e-20c8-4ab4-8211-c4f43b92cd78\" class=\"colab-df-container\">\n",
              "    <div>\n",
              "<style scoped>\n",
              "    .dataframe tbody tr th:only-of-type {\n",
              "        vertical-align: middle;\n",
              "    }\n",
              "\n",
              "    .dataframe tbody tr th {\n",
              "        vertical-align: top;\n",
              "    }\n",
              "\n",
              "    .dataframe thead th {\n",
              "        text-align: right;\n",
              "    }\n",
              "</style>\n",
              "<table border=\"1\" class=\"dataframe\">\n",
              "  <thead>\n",
              "    <tr style=\"text-align: right;\">\n",
              "      <th></th>\n",
              "      <th>node_1</th>\n",
              "      <th>node_2</th>\n",
              "      <th>Cluster</th>\n",
              "    </tr>\n",
              "  </thead>\n",
              "  <tbody>\n",
              "    <tr>\n",
              "      <th>0</th>\n",
              "      <td>0</td>\n",
              "      <td>347</td>\n",
              "      <td>Cluster 4</td>\n",
              "    </tr>\n",
              "    <tr>\n",
              "      <th>1</th>\n",
              "      <td>1</td>\n",
              "      <td>17</td>\n",
              "      <td>Cluster 0</td>\n",
              "    </tr>\n",
              "    <tr>\n",
              "      <th>2</th>\n",
              "      <td>2</td>\n",
              "      <td>10</td>\n",
              "      <td>Cluster 0</td>\n",
              "    </tr>\n",
              "    <tr>\n",
              "      <th>3</th>\n",
              "      <td>3</td>\n",
              "      <td>17</td>\n",
              "      <td>Cluster 0</td>\n",
              "    </tr>\n",
              "    <tr>\n",
              "      <th>4</th>\n",
              "      <td>4</td>\n",
              "      <td>10</td>\n",
              "      <td>Cluster 0</td>\n",
              "    </tr>\n",
              "  </tbody>\n",
              "</table>\n",
              "</div>\n",
              "    <div class=\"colab-df-buttons\">\n",
              "\n",
              "  <div class=\"colab-df-container\">\n",
              "    <button class=\"colab-df-convert\" onclick=\"convertToInteractive('df-fb6f4a5e-20c8-4ab4-8211-c4f43b92cd78')\"\n",
              "            title=\"Convert this dataframe to an interactive table.\"\n",
              "            style=\"display:none;\">\n",
              "\n",
              "  <svg xmlns=\"http://www.w3.org/2000/svg\" height=\"24px\" viewBox=\"0 -960 960 960\">\n",
              "    <path d=\"M120-120v-720h720v720H120Zm60-500h600v-160H180v160Zm220 220h160v-160H400v160Zm0 220h160v-160H400v160ZM180-400h160v-160H180v160Zm440 0h160v-160H620v160ZM180-180h160v-160H180v160Zm440 0h160v-160H620v160Z\"/>\n",
              "  </svg>\n",
              "    </button>\n",
              "\n",
              "  <style>\n",
              "    .colab-df-container {\n",
              "      display:flex;\n",
              "      gap: 12px;\n",
              "    }\n",
              "\n",
              "    .colab-df-convert {\n",
              "      background-color: #E8F0FE;\n",
              "      border: none;\n",
              "      border-radius: 50%;\n",
              "      cursor: pointer;\n",
              "      display: none;\n",
              "      fill: #1967D2;\n",
              "      height: 32px;\n",
              "      padding: 0 0 0 0;\n",
              "      width: 32px;\n",
              "    }\n",
              "\n",
              "    .colab-df-convert:hover {\n",
              "      background-color: #E2EBFA;\n",
              "      box-shadow: 0px 1px 2px rgba(60, 64, 67, 0.3), 0px 1px 3px 1px rgba(60, 64, 67, 0.15);\n",
              "      fill: #174EA6;\n",
              "    }\n",
              "\n",
              "    .colab-df-buttons div {\n",
              "      margin-bottom: 4px;\n",
              "    }\n",
              "\n",
              "    [theme=dark] .colab-df-convert {\n",
              "      background-color: #3B4455;\n",
              "      fill: #D2E3FC;\n",
              "    }\n",
              "\n",
              "    [theme=dark] .colab-df-convert:hover {\n",
              "      background-color: #434B5C;\n",
              "      box-shadow: 0px 1px 3px 1px rgba(0, 0, 0, 0.15);\n",
              "      filter: drop-shadow(0px 1px 2px rgba(0, 0, 0, 0.3));\n",
              "      fill: #FFFFFF;\n",
              "    }\n",
              "  </style>\n",
              "\n",
              "    <script>\n",
              "      const buttonEl =\n",
              "        document.querySelector('#df-fb6f4a5e-20c8-4ab4-8211-c4f43b92cd78 button.colab-df-convert');\n",
              "      buttonEl.style.display =\n",
              "        google.colab.kernel.accessAllowed ? 'block' : 'none';\n",
              "\n",
              "      async function convertToInteractive(key) {\n",
              "        const element = document.querySelector('#df-fb6f4a5e-20c8-4ab4-8211-c4f43b92cd78');\n",
              "        const dataTable =\n",
              "          await google.colab.kernel.invokeFunction('convertToInteractive',\n",
              "                                                    [key], {});\n",
              "        if (!dataTable) return;\n",
              "\n",
              "        const docLinkHtml = 'Like what you see? Visit the ' +\n",
              "          '<a target=\"_blank\" href=https://colab.research.google.com/notebooks/data_table.ipynb>data table notebook</a>'\n",
              "          + ' to learn more about interactive tables.';\n",
              "        element.innerHTML = '';\n",
              "        dataTable['output_type'] = 'display_data';\n",
              "        await google.colab.output.renderOutput(dataTable, element);\n",
              "        const docLink = document.createElement('div');\n",
              "        docLink.innerHTML = docLinkHtml;\n",
              "        element.appendChild(docLink);\n",
              "      }\n",
              "    </script>\n",
              "  </div>\n",
              "\n",
              "\n",
              "<div id=\"df-1e958d38-cfe1-4cee-9a0f-3eb72ddf3cbf\">\n",
              "  <button class=\"colab-df-quickchart\" onclick=\"quickchart('df-1e958d38-cfe1-4cee-9a0f-3eb72ddf3cbf')\"\n",
              "            title=\"Suggest charts\"\n",
              "            style=\"display:none;\">\n",
              "\n",
              "<svg xmlns=\"http://www.w3.org/2000/svg\" height=\"24px\"viewBox=\"0 0 24 24\"\n",
              "     width=\"24px\">\n",
              "    <g>\n",
              "        <path d=\"M19 3H5c-1.1 0-2 .9-2 2v14c0 1.1.9 2 2 2h14c1.1 0 2-.9 2-2V5c0-1.1-.9-2-2-2zM9 17H7v-7h2v7zm4 0h-2V7h2v10zm4 0h-2v-4h2v4z\"/>\n",
              "    </g>\n",
              "</svg>\n",
              "  </button>\n",
              "\n",
              "<style>\n",
              "  .colab-df-quickchart {\n",
              "      --bg-color: #E8F0FE;\n",
              "      --fill-color: #1967D2;\n",
              "      --hover-bg-color: #E2EBFA;\n",
              "      --hover-fill-color: #174EA6;\n",
              "      --disabled-fill-color: #AAA;\n",
              "      --disabled-bg-color: #DDD;\n",
              "  }\n",
              "\n",
              "  [theme=dark] .colab-df-quickchart {\n",
              "      --bg-color: #3B4455;\n",
              "      --fill-color: #D2E3FC;\n",
              "      --hover-bg-color: #434B5C;\n",
              "      --hover-fill-color: #FFFFFF;\n",
              "      --disabled-bg-color: #3B4455;\n",
              "      --disabled-fill-color: #666;\n",
              "  }\n",
              "\n",
              "  .colab-df-quickchart {\n",
              "    background-color: var(--bg-color);\n",
              "    border: none;\n",
              "    border-radius: 50%;\n",
              "    cursor: pointer;\n",
              "    display: none;\n",
              "    fill: var(--fill-color);\n",
              "    height: 32px;\n",
              "    padding: 0;\n",
              "    width: 32px;\n",
              "  }\n",
              "\n",
              "  .colab-df-quickchart:hover {\n",
              "    background-color: var(--hover-bg-color);\n",
              "    box-shadow: 0 1px 2px rgba(60, 64, 67, 0.3), 0 1px 3px 1px rgba(60, 64, 67, 0.15);\n",
              "    fill: var(--button-hover-fill-color);\n",
              "  }\n",
              "\n",
              "  .colab-df-quickchart-complete:disabled,\n",
              "  .colab-df-quickchart-complete:disabled:hover {\n",
              "    background-color: var(--disabled-bg-color);\n",
              "    fill: var(--disabled-fill-color);\n",
              "    box-shadow: none;\n",
              "  }\n",
              "\n",
              "  .colab-df-spinner {\n",
              "    border: 2px solid var(--fill-color);\n",
              "    border-color: transparent;\n",
              "    border-bottom-color: var(--fill-color);\n",
              "    animation:\n",
              "      spin 1s steps(1) infinite;\n",
              "  }\n",
              "\n",
              "  @keyframes spin {\n",
              "    0% {\n",
              "      border-color: transparent;\n",
              "      border-bottom-color: var(--fill-color);\n",
              "      border-left-color: var(--fill-color);\n",
              "    }\n",
              "    20% {\n",
              "      border-color: transparent;\n",
              "      border-left-color: var(--fill-color);\n",
              "      border-top-color: var(--fill-color);\n",
              "    }\n",
              "    30% {\n",
              "      border-color: transparent;\n",
              "      border-left-color: var(--fill-color);\n",
              "      border-top-color: var(--fill-color);\n",
              "      border-right-color: var(--fill-color);\n",
              "    }\n",
              "    40% {\n",
              "      border-color: transparent;\n",
              "      border-right-color: var(--fill-color);\n",
              "      border-top-color: var(--fill-color);\n",
              "    }\n",
              "    60% {\n",
              "      border-color: transparent;\n",
              "      border-right-color: var(--fill-color);\n",
              "    }\n",
              "    80% {\n",
              "      border-color: transparent;\n",
              "      border-right-color: var(--fill-color);\n",
              "      border-bottom-color: var(--fill-color);\n",
              "    }\n",
              "    90% {\n",
              "      border-color: transparent;\n",
              "      border-bottom-color: var(--fill-color);\n",
              "    }\n",
              "  }\n",
              "</style>\n",
              "\n",
              "  <script>\n",
              "    async function quickchart(key) {\n",
              "      const quickchartButtonEl =\n",
              "        document.querySelector('#' + key + ' button');\n",
              "      quickchartButtonEl.disabled = true;  // To prevent multiple clicks.\n",
              "      quickchartButtonEl.classList.add('colab-df-spinner');\n",
              "      try {\n",
              "        const charts = await google.colab.kernel.invokeFunction(\n",
              "            'suggestCharts', [key], {});\n",
              "      } catch (error) {\n",
              "        console.error('Error during call to suggestCharts:', error);\n",
              "      }\n",
              "      quickchartButtonEl.classList.remove('colab-df-spinner');\n",
              "      quickchartButtonEl.classList.add('colab-df-quickchart-complete');\n",
              "    }\n",
              "    (() => {\n",
              "      let quickchartButtonEl =\n",
              "        document.querySelector('#df-1e958d38-cfe1-4cee-9a0f-3eb72ddf3cbf button');\n",
              "      quickchartButtonEl.style.display =\n",
              "        google.colab.kernel.accessAllowed ? 'block' : 'none';\n",
              "    })();\n",
              "  </script>\n",
              "</div>\n",
              "\n",
              "    </div>\n",
              "  </div>\n"
            ],
            "application/vnd.google.colaboratory.intrinsic+json": {
              "type": "dataframe",
              "variable_name": "kmeans_results",
              "summary": "{\n  \"name\": \"kmeans_results\",\n  \"rows\": 4039,\n  \"fields\": [\n    {\n      \"column\": \"node_1\",\n      \"properties\": {\n        \"dtype\": \"category\",\n        \"num_unique_values\": 4039,\n        \"samples\": [\n          \"2193\",\n          \"149\",\n          \"877\"\n        ],\n        \"semantic_type\": \"\",\n        \"description\": \"\"\n      }\n    },\n    {\n      \"column\": \"node_2\",\n      \"properties\": {\n        \"dtype\": \"int32\",\n        \"num_unique_values\": 227,\n        \"samples\": [\n          31,\n          90,\n          69\n        ],\n        \"semantic_type\": \"\",\n        \"description\": \"\"\n      }\n    },\n    {\n      \"column\": \"Cluster\",\n      \"properties\": {\n        \"dtype\": \"category\",\n        \"num_unique_values\": 6,\n        \"samples\": [\n          \"Cluster 4\",\n          \"Cluster 0\",\n          \"Cluster 1\"\n        ],\n        \"semantic_type\": \"\",\n        \"description\": \"\"\n      }\n    }\n  ]\n}"
            }
          },
          "metadata": {},
          "execution_count": 18
        }
      ]
    },
    {
      "cell_type": "code",
      "source": [
        "plot_model(kmeans)"
      ],
      "metadata": {
        "colab": {
          "base_uri": "https://localhost:8080/",
          "height": 617
        },
        "id": "pT-wCVszTXk5",
        "outputId": "12d18f2d-df2b-4cf6-801f-2229d555316c"
      },
      "execution_count": 19,
      "outputs": [
        {
          "output_type": "display_data",
          "data": {
            "text/plain": [
              "<IPython.core.display.HTML object>"
            ],
            "text/html": []
          },
          "metadata": {}
        },
        {
          "output_type": "display_data",
          "data": {
            "text/html": [
              "<html>\n",
              "<head><meta charset=\"utf-8\" /></head>\n",
              "<body>\n",
              "    <div>            <script src=\"https://cdnjs.cloudflare.com/ajax/libs/mathjax/2.7.5/MathJax.js?config=TeX-AMS-MML_SVG\"></script><script type=\"text/javascript\">if (window.MathJax && window.MathJax.Hub && window.MathJax.Hub.Config) {window.MathJax.Hub.Config({SVG: {font: \"STIX-Web\"}});}</script>                <script type=\"text/javascript\">window.PlotlyConfig = {MathJaxConfig: 'local'};</script>\n",
              "        <script charset=\"utf-8\" src=\"https://cdn.plot.ly/plotly-2.24.1.min.js\"></script>                <div id=\"0ea788c3-4a8f-4f50-8cd0-0189a8e9052f\" class=\"plotly-graph-div\" style=\"height:600px; width:100%;\"></div>            <script type=\"text/javascript\">                                    window.PLOTLYENV=window.PLOTLYENV || {};                                    if (document.getElementById(\"0ea788c3-4a8f-4f50-8cd0-0189a8e9052f\")) {                    Plotly.newPlot(                        \"0ea788c3-4a8f-4f50-8cd0-0189a8e9052f\",                        [{\"customdata\":[[\"873\"],[\"2747\"],[\"2759\"],[\"2762\"],[\"2766\"],[\"2767\"],[\"2769\"],[\"2771\"],[\"2774\"],[\"2746\"],[\"2776\"],[\"2788\"],[\"2789\"],[\"2790\"],[\"2791\"],[\"2792\"],[\"2794\"],[\"2795\"],[\"2798\"],[\"2779\"],[\"2799\"],[\"2744\"],[\"2736\"],[\"2696\"],[\"2697\"],[\"2699\"],[\"2700\"],[\"2701\"],[\"2702\"],[\"2703\"],[\"2709\"],[\"2737\"],[\"2710\"],[\"2721\"],[\"2722\"],[\"2723\"],[\"2726\"],[\"2727\"],[\"2732\"],[\"2733\"],[\"2735\"],[\"2714\"],[\"2801\"],[\"2802\"],[\"2803\"],[\"2851\"],[\"2852\"],[\"2855\"],[\"2856\"],[\"2857\"],[\"2858\"],[\"2859\"],[\"2860\"],[\"2848\"],[\"2861\"],[\"2870\"],[\"2876\"],[\"2878\"],[\"2879\"],[\"2882\"],[\"2884\"],[\"2886\"],[\"2888\"],[\"2868\"],[\"2847\"],[\"2845\"],[\"2842\"],[\"2804\"],[\"2805\"],[\"2807\"],[\"2808\"],[\"2809\"],[\"2811\"],[\"2812\"],[\"2816\"],[\"2817\"],[\"2818\"],[\"2819\"],[\"2820\"],[\"2821\"],[\"2824\"],[\"2825\"],[\"2830\"],[\"2831\"],[\"2834\"],[\"2837\"],[\"2695\"],[\"2692\"],[\"2691\"],[\"2688\"],[\"3626\"],[\"3517\"],[\"3550\"],[\"3592\"],[\"3779\"],[\"3872\"],[\"2678\"],[\"2760\"],[\"3621\"],[\"2822\"],[\"2941\"],[\"2968\"],[\"3057\"],[\"3164\"],[\"3222\"],[\"3245\"],[\"3278\"],[\"3328\"],[\"2883\"],[\"895\"],[\"894\"],[\"893\"],[\"4037\"],[\"874\"],[\"875\"],[\"876\"],[\"877\"],[\"878\"],[\"879\"],[\"880\"],[\"881\"],[\"882\"],[\"883\"],[\"884\"],[\"885\"],[\"886\"],[\"887\"],[\"888\"],[\"889\"],[\"891\"],[\"892\"],[\"3361\"],[\"2889\"],[\"3440\"],[\"3561\"],[\"1913\"],[\"2295\"],[\"2298\"],[\"2413\"],[\"2605\"],[\"2903\"],[\"2938\"],[\"3319\"],[\"2979\"],[\"2707\"],[\"2663\"],[\"2667\"],[\"2670\"],[\"2671\"],[\"2682\"],[\"2685\"],[\"2686\"],[\"2687\"],[\"3186\"],[\"2693\"],[\"3409\"],[\"3205\"],[\"3741\"],[\"3943\"],[\"2677\"],[\"2826\"],[\"2752\"],[\"2962\"],[\"3404\"],[\"2971\"],[\"3178\"],[\"3410\"],[\"3420\"],[\"3289\"],[\"2065\"],[\"2496\"],[\"2725\"],[\"2734\"],[\"2764\"],[\"2964\"],[\"3165\"],[\"3556\"],[\"872\"],[\"2891\"],[\"2895\"],[\"3180\"],[\"3181\"],[\"3183\"],[\"3189\"],[\"3190\"],[\"3192\"],[\"3194\"],[\"3197\"],[\"3175\"],[\"3199\"],[\"3202\"],[\"3208\"],[\"3209\"],[\"3210\"],[\"3211\"],[\"3215\"],[\"3216\"],[\"3217\"],[\"3200\"],[\"3218\"],[\"3171\"],[\"3167\"],[\"3130\"],[\"3131\"],[\"3133\"],[\"3134\"],[\"3138\"],[\"3139\"],[\"3141\"],[\"3143\"],[\"3170\"],[\"3144\"],[\"3151\"],[\"3153\"],[\"3155\"],[\"3156\"],[\"3157\"],[\"3159\"],[\"3161\"],[\"3163\"],[\"3147\"],[\"3221\"],[\"3223\"],[\"3227\"],[\"3286\"],[\"3292\"],[\"3294\"],[\"3300\"],[\"3305\"],[\"3306\"],[\"3307\"],[\"3308\"],[\"3283\"],[\"3309\"],[\"3311\"],[\"3312\"],[\"3314\"],[\"3315\"],[\"3317\"],[\"3318\"],[\"3322\"],[\"3323\"],[\"3310\"],[\"3282\"],[\"3281\"],[\"3279\"],[\"3229\"],[\"3230\"],[\"3235\"],[\"3236\"],[\"3241\"],[\"3242\"],[\"3244\"],[\"3246\"],[\"3249\"],[\"3251\"],[\"3254\"],[\"3262\"],[\"3266\"],[\"3268\"],[\"3269\"],[\"3270\"],[\"3271\"],[\"3273\"],[\"3276\"],[\"3128\"],[\"3127\"],[\"3126\"],[\"3125\"],[\"2965\"],[\"2967\"],[\"2972\"],[\"2975\"],[\"2978\"],[\"2980\"],[\"2981\"],[\"2982\"],[\"2963\"],[\"2983\"],[\"2990\"],[\"2995\"],[\"2997\"],[\"2998\"],[\"3006\"],[\"3007\"],[\"3008\"],[\"3009\"],[\"2984\"],[\"2961\"],[\"2959\"],[\"2957\"],[\"2898\"],[\"2899\"],[\"2900\"],[\"2902\"],[\"2917\"],[\"2918\"],[\"2922\"],[\"2923\"],[\"2926\"],[\"2930\"],[\"2933\"],[\"2934\"],[\"2935\"],[\"2942\"],[\"2947\"],[\"2948\"],[\"2949\"],[\"2952\"],[\"2954\"],[\"3012\"],[\"2893\"],[\"3013\"],[\"3024\"],[\"3074\"],[\"3075\"],[\"3081\"],[\"3083\"],[\"3088\"],[\"3091\"],[\"3092\"],[\"3093\"],[\"3071\"],[\"3094\"],[\"3099\"],[\"3103\"],[\"3105\"],[\"3109\"],[\"3110\"],[\"3112\"],[\"3121\"],[\"3122\"],[\"3095\"],[\"3069\"],[\"3068\"],[\"3067\"],[\"3028\"],[\"3030\"],[\"3031\"],[\"3032\"],[\"3037\"],[\"3039\"],[\"3042\"],[\"3043\"],[\"3044\"],[\"3045\"],[\"3048\"],[\"3050\"],[\"3053\"],[\"3055\"],[\"3058\"],[\"3059\"],[\"3061\"],[\"3063\"],[\"3066\"],[\"3015\"],[\"871\"],[\"870\"],[\"869\"],[\"550\"],[\"551\"],[\"552\"],[\"554\"],[\"558\"],[\"562\"],[\"565\"],[\"568\"],[\"543\"],[\"569\"],[\"572\"],[\"656\"],[\"646\"],[\"666\"],[\"587\"],[\"590\"],[\"634\"],[\"586\"],[\"571\"],[\"610\"],[\"541\"],[\"539\"],[\"502\"],[\"505\"],[\"508\"],[\"509\"],[\"510\"],[\"516\"],[\"518\"],[\"519\"],[\"540\"],[\"521\"],[\"528\"],[\"529\"],[\"530\"],[\"532\"],[\"533\"],[\"534\"],[\"535\"],[\"536\"],[\"522\"],[\"652\"],[\"673\"],[\"676\"],[\"605\"],[\"607\"],[\"608\"],[\"611\"],[\"612\"],[\"613\"],[\"615\"],[\"616\"],[\"603\"],[\"617\"],[\"619\"],[\"621\"],[\"622\"],[\"623\"],[\"624\"],[\"625\"],[\"626\"],[\"627\"],[\"618\"],[\"602\"],[\"600\"],[\"599\"],[\"620\"],[\"574\"],[\"678\"],[\"593\"],[\"575\"],[\"576\"],[\"577\"],[\"578\"],[\"581\"],[\"582\"],[\"583\"],[\"584\"],[\"585\"],[\"588\"],[\"589\"],[\"594\"],[\"595\"],[\"597\"],[\"598\"],[\"499\"],[\"498\"],[\"495\"],[\"494\"],[\"369\"],[\"371\"],[\"372\"],[\"375\"],[\"377\"],[\"379\"],[\"380\"],[\"381\"],[\"365\"],[\"382\"],[\"384\"],[\"385\"],[\"386\"],[\"390\"],[\"401\"],[\"403\"],[\"405\"],[\"406\"],[\"383\"],[\"362\"],[\"361\"],[\"359\"],[\"2740\"],[\"427\"],[\"464\"],[\"549\"],[\"351\"],[\"364\"],[\"393\"],[\"399\"],[\"441\"],[\"476\"],[\"501\"],[\"564\"],[\"349\"],[\"350\"],[\"352\"],[\"354\"],[\"356\"],[\"357\"],[\"358\"],[\"407\"],[\"628\"],[\"410\"],[\"413\"],[\"458\"],[\"459\"],[\"462\"],[\"466\"],[\"467\"],[\"468\"],[\"469\"],[\"470\"],[\"457\"],[\"472\"],[\"477\"],[\"478\"],[\"480\"],[\"485\"],[\"486\"],[\"489\"],[\"490\"],[\"491\"],[\"474\"],[\"454\"],[\"453\"],[\"451\"],[\"415\"],[\"416\"],[\"418\"],[\"421\"],[\"424\"],[\"425\"],[\"426\"],[\"429\"],[\"433\"],[\"435\"],[\"437\"],[\"440\"],[\"442\"],[\"443\"],[\"446\"],[\"447\"],[\"448\"],[\"449\"],[\"450\"],[\"411\"],[\"631\"],[\"632\"],[\"633\"],[\"788\"],[\"789\"],[\"790\"],[\"791\"],[\"792\"],[\"793\"],[\"794\"],[\"795\"],[\"786\"],[\"796\"],[\"798\"],[\"799\"],[\"801\"],[\"802\"],[\"803\"],[\"804\"],[\"806\"],[\"807\"],[\"797\"],[\"785\"],[\"783\"],[\"782\"],[\"755\"],[\"756\"],[\"757\"],[\"758\"],[\"759\"],[\"761\"],[\"762\"],[\"763\"],[\"765\"],[\"767\"],[\"768\"],[\"769\"],[\"771\"],[\"772\"],[\"775\"],[\"776\"],[\"777\"],[\"778\"],[\"779\"],[\"808\"],[\"753\"],[\"809\"],[\"812\"],[\"850\"],[\"851\"],[\"852\"],[\"854\"],[\"855\"],[\"890\"],[\"857\"],[\"858\"],[\"848\"],[\"859\"],[\"861\"],[\"862\"],[\"863\"],[\"864\"],[\"865\"],[\"866\"],[\"867\"],[\"868\"],[\"860\"],[\"846\"],[\"845\"],[\"844\"],[\"813\"],[\"814\"],[\"816\"],[\"817\"],[\"818\"],[\"821\"],[\"822\"],[\"825\"],[\"826\"],[\"831\"],[\"832\"],[\"833\"],[\"835\"],[\"836\"],[\"837\"],[\"838\"],[\"839\"],[\"841\"],[\"843\"],[\"811\"],[\"3325\"],[\"751\"],[\"749\"],[\"670\"],[\"671\"],[\"672\"],[\"674\"],[\"675\"],[\"677\"],[\"679\"],[\"681\"],[\"668\"],[\"682\"],[\"685\"],[\"1967\"],[\"3454\"],[\"3487\"],[\"3723\"],[\"3861\"],[\"3961\"],[\"3989\"],[\"684\"],[\"667\"],[\"665\"],[\"664\"],[\"635\"],[\"636\"],[\"638\"],[\"639\"],[\"640\"],[\"642\"],[\"643\"],[\"644\"],[\"647\"],[\"648\"],[\"650\"],[\"655\"],[\"657\"],[\"658\"],[\"659\"],[\"660\"],[\"661\"],[\"662\"],[\"663\"],[\"4011\"],[\"750\"],[\"4031\"],[\"690\"],[\"727\"],[\"729\"],[\"730\"],[\"731\"],[\"732\"],[\"733\"],[\"734\"],[\"735\"],[\"725\"],[\"736\"],[\"738\"],[\"740\"],[\"741\"],[\"742\"],[\"743\"],[\"744\"],[\"746\"],[\"748\"],[\"737\"],[\"723\"],[\"722\"],[\"721\"],[\"691\"],[\"692\"],[\"693\"],[\"699\"],[\"700\"],[\"701\"],[\"702\"],[\"704\"],[\"706\"],[\"707\"],[\"709\"],[\"710\"],[\"711\"],[\"712\"],[\"714\"],[\"715\"],[\"716\"],[\"717\"],[\"720\"],[\"689\"],[\"2704\"],[\"3326\"],[\"3333\"],[\"3733\"],[\"3735\"],[\"3736\"],[\"3739\"],[\"3742\"],[\"3743\"],[\"3744\"],[\"3745\"],[\"3732\"],[\"3746\"],[\"3748\"],[\"3749\"],[\"3751\"],[\"3752\"],[\"3753\"],[\"3754\"],[\"3755\"],[\"3757\"],[\"3747\"],[\"3759\"],[\"3729\"],[\"3726\"],[\"3701\"],[\"3703\"],[\"3704\"],[\"3706\"],[\"3707\"],[\"3708\"],[\"3709\"],[\"3710\"],[\"3727\"],[\"3712\"],[\"3714\"],[\"3715\"],[\"3716\"],[\"3717\"],[\"3719\"],[\"3720\"],[\"3724\"],[\"3725\"],[\"3713\"],[\"3760\"],[\"3761\"],[\"3762\"],[\"3789\"],[\"3791\"],[\"3792\"],[\"3795\"],[\"3796\"],[\"3798\"],[\"3799\"],[\"3801\"],[\"3788\"],[\"3802\"],[\"3805\"],[\"3806\"],[\"3807\"],[\"3808\"],[\"3809\"],[\"3811\"],[\"3812\"],[\"3813\"],[\"3803\"],[\"3787\"],[\"3786\"],[\"3785\"],[\"3763\"],[\"3765\"],[\"3766\"],[\"3767\"],[\"3768\"],[\"3769\"],[\"3770\"],[\"3771\"],[\"3772\"],[\"3773\"],[\"3774\"],[\"3775\"],[\"3776\"],[\"3777\"],[\"3778\"],[\"3780\"],[\"3781\"],[\"3783\"],[\"3784\"],[\"3700\"],[\"3699\"],[\"3698\"],[\"3697\"],[\"3618\"],[\"3619\"],[\"3620\"],[\"3622\"],[\"3623\"],[\"3624\"],[\"3627\"],[\"3628\"],[\"3616\"],[\"3630\"],[\"3632\"],[\"3634\"],[\"3636\"],[\"3637\"],[\"3638\"],[\"3639\"],[\"3641\"],[\"3642\"],[\"3631\"],[\"3615\"],[\"3614\"],[\"3613\"],[\"3583\"],[\"3585\"],[\"3587\"],[\"3588\"],[\"3589\"],[\"3591\"],[\"3594\"],[\"3595\"],[\"3597\"],[\"3598\"],[\"3600\"],[\"3601\"],[\"3602\"],[\"3603\"],[\"3606\"],[\"3607\"],[\"3608\"],[\"3610\"],[\"3612\"],[\"3643\"],[\"3814\"],[\"3644\"],[\"3646\"],[\"3671\"],[\"3673\"],[\"3675\"],[\"3676\"],[\"3678\"],[\"3679\"],[\"3681\"],[\"3682\"],[\"3670\"],[\"3683\"],[\"3686\"],[\"3688\"],[\"3689\"],[\"3690\"],[\"3691\"],[\"3694\"],[\"3695\"],[\"3696\"],[\"3685\"],[\"3669\"],[\"3668\"],[\"3667\"],[\"3647\"],[\"3648\"],[\"3649\"],[\"3650\"],[\"3652\"],[\"3653\"],[\"3654\"],[\"3655\"],[\"3656\"],[\"3657\"],[\"3658\"],[\"3659\"],[\"3660\"],[\"3661\"],[\"3662\"],[\"3663\"],[\"3664\"],[\"3665\"],[\"3666\"],[\"3645\"],[\"3582\"],[\"3815\"],[\"3817\"],[\"3969\"],[\"3970\"],[\"3972\"],[\"3973\"],[\"3974\"],[\"3975\"],[\"3976\"],[\"3977\"],[\"3967\"],[\"3978\"],[\"3981\"],[\"3982\"],[\"3983\"],[\"3984\"],[\"3985\"],[\"3986\"],[\"3987\"],[\"3988\"],[\"3979\"],[\"3990\"],[\"3965\"],[\"3963\"],[\"3937\"],[\"3939\"],[\"3940\"],[\"3941\"],[\"3942\"],[\"3944\"],[\"3946\"],[\"3949\"],[\"3964\"],[\"3950\"],[\"3953\"],[\"3954\"],[\"3955\"],[\"3956\"],[\"3957\"],[\"3958\"],[\"3959\"],[\"3960\"],[\"3952\"],[\"3991\"],[\"3992\"],[\"3993\"],[\"4018\"],[\"4019\"],[\"4020\"],[\"4021\"],[\"4022\"],[\"4023\"],[\"4024\"],[\"4025\"],[\"4017\"],[\"4026\"],[\"4028\"],[\"4029\"],[\"4030\"],[\"4032\"],[\"4033\"],[\"4034\"],[\"4035\"],[\"4036\"],[\"4027\"],[\"4016\"],[\"4015\"],[\"4014\"],[\"3994\"],[\"3995\"],[\"3996\"],[\"3997\"],[\"3998\"],[\"3999\"],[\"4000\"],[\"4001\"],[\"4002\"],[\"4003\"],[\"4004\"],[\"4005\"],[\"4006\"],[\"4007\"],[\"4008\"],[\"4009\"],[\"4010\"],[\"4012\"],[\"4013\"],[\"3936\"],[\"3935\"],[\"3934\"],[\"3933\"],[\"3853\"],[\"3854\"],[\"3855\"],[\"3856\"],[\"3857\"],[\"3859\"],[\"3862\"],[\"3863\"],[\"3852\"],[\"3864\"],[\"3866\"],[\"3867\"],[\"3868\"],[\"3870\"],[\"3871\"],[\"3874\"],[\"3875\"],[\"3876\"],[\"3865\"],[\"3850\"],[\"3849\"],[\"3848\"],[\"3818\"],[\"3819\"],[\"3820\"],[\"3821\"],[\"3823\"],[\"3827\"],[\"3831\"],[\"3832\"],[\"3834\"],[\"3835\"],[\"3836\"],[\"3837\"],[\"3839\"],[\"3840\"],[\"3843\"],[\"3844\"],[\"3845\"],[\"3846\"],[\"3847\"],[\"3878\"],[\"3816\"],[\"3879\"],[\"3881\"],[\"3910\"],[\"3911\"],[\"3912\"],[\"3913\"],[\"3914\"],[\"3915\"],[\"3916\"],[\"3917\"],[\"3909\"],[\"3919\"],[\"3922\"],[\"3923\"],[\"3925\"],[\"3927\"],[\"3928\"],[\"3929\"],[\"3931\"],[\"3932\"],[\"3920\"],[\"3908\"],[\"3907\"],[\"3905\"],[\"3882\"],[\"3883\"],[\"3885\"],[\"3887\"],[\"3888\"],[\"3889\"],[\"3890\"],[\"3891\"],[\"3892\"],[\"3893\"],[\"3894\"],[\"3895\"],[\"3896\"],[\"3897\"],[\"3898\"],[\"3899\"],[\"3901\"],[\"3903\"],[\"3904\"],[\"3880\"],[\"3581\"],[\"3580\"],[\"3579\"],[\"2152\"],[\"2158\"],[\"2160\"],[\"2162\"],[\"2166\"],[\"2167\"],[\"2168\"],[\"2170\"],[\"2146\"],[\"2175\"],[\"2178\"],[\"2181\"],[\"2182\"],[\"2186\"],[\"2193\"],[\"2195\"],[\"2197\"],[\"2204\"],[\"2177\"],[\"2205\"],[\"2141\"],[\"2120\"],[\"2050\"],[\"2051\"],[\"2066\"],[\"2070\"],[\"2076\"],[\"2079\"],[\"2080\"],[\"2082\"],[\"2130\"],[\"2089\"],[\"2096\"],[\"2099\"],[\"2100\"],[\"2105\"],[\"2106\"],[\"2113\"],[\"2114\"],[\"2119\"],[\"2094\"],[\"2207\"],[\"2208\"],[\"2217\"],[\"2305\"],[\"2310\"],[\"2312\"],[\"2314\"],[\"2316\"],[\"2320\"],[\"2321\"],[\"2341\"],[\"2301\"],[\"2349\"],[\"2358\"],[\"2360\"],[\"2362\"],[\"2373\"],[\"2375\"],[\"2380\"],[\"2382\"],[\"2383\"],[\"2357\"],[\"2291\"],[\"2288\"],[\"2286\"],[\"2219\"],[\"2227\"],[\"2230\"],[\"2238\"],[\"2245\"],[\"2248\"],[\"2249\"],[\"2251\"],[\"2252\"],[\"2255\"],[\"2256\"],[\"2260\"],[\"2262\"],[\"2263\"],[\"2265\"],[\"2269\"],[\"2270\"],[\"2277\"],[\"2281\"],[\"2048\"],[\"2044\"],[\"2041\"],[\"2036\"],[\"3380\"],[\"3382\"],[\"3383\"],[\"3388\"],[\"3389\"],[\"3390\"],[\"3392\"],[\"3393\"],[\"3379\"],[\"3398\"],[\"3402\"],[\"3405\"],[\"3407\"],[\"3408\"],[\"3413\"],[\"3414\"],[\"3418\"],[\"3421\"],[\"3401\"],[\"3376\"],[\"3375\"],[\"3374\"],[\"3334\"],[\"3336\"],[\"3337\"],[\"3338\"],[\"3340\"],[\"3343\"],[\"3349\"],[\"3352\"],[\"3354\"],[\"3356\"],[\"3357\"],[\"3358\"],[\"3359\"],[\"3367\"],[\"3368\"],[\"3370\"],[\"3371\"],[\"3372\"],[\"3373\"],[\"3423\"],[\"2388\"],[\"3424\"],[\"3427\"],[\"1974\"],[\"1977\"],[\"1978\"],[\"1982\"],[\"1988\"],[\"1990\"],[\"1992\"],[\"1996\"],[\"1969\"],[\"2008\"],[\"2013\"],[\"2014\"],[\"2015\"],[\"2016\"],[\"2017\"],[\"2019\"],[\"2023\"],[\"2034\"],[\"2012\"],[\"1965\"],[\"1961\"],[\"1956\"],[\"3428\"],[\"3429\"],[\"3430\"],[\"3431\"],[\"3432\"],[\"3436\"],[\"2185\"],[\"1915\"],[\"1922\"],[\"1924\"],[\"1928\"],[\"1930\"],[\"1933\"],[\"1934\"],[\"1936\"],[\"1937\"],[\"1949\"],[\"1950\"],[\"1952\"],[\"3425\"],[\"2400\"],[\"2401\"],[\"2402\"],[\"3492\"],[\"3493\"],[\"3494\"],[\"3496\"],[\"3497\"],[\"3498\"],[\"3499\"],[\"3500\"],[\"3491\"],[\"3502\"],[\"3504\"],[\"3505\"],[\"3507\"],[\"3508\"],[\"3509\"],[\"3510\"],[\"3511\"],[\"3512\"],[\"3503\"],[\"3490\"],[\"3489\"],[\"3485\"],[\"3462\"],[\"3463\"],[\"3465\"],[\"3466\"],[\"3467\"],[\"3470\"],[\"3471\"],[\"3472\"],[\"3473\"],[\"3474\"],[\"3476\"],[\"3477\"],[\"3478\"],[\"3479\"],[\"3480\"],[\"3481\"],[\"3482\"],[\"3483\"],[\"3484\"],[\"3513\"],[\"3461\"],[\"3515\"],[\"3519\"],[\"3552\"],[\"3554\"],[\"3555\"],[\"3560\"],[\"3562\"],[\"3563\"],[\"3564\"],[\"3565\"],[\"3551\"],[\"3566\"],[\"3569\"],[\"3570\"],[\"3571\"],[\"3572\"],[\"3573\"],[\"3574\"],[\"3575\"],[\"3578\"],[\"3567\"],[\"3549\"],[\"3548\"],[\"3547\"],[\"3520\"],[\"3522\"],[\"3523\"],[\"3524\"],[\"3527\"],[\"3530\"],[\"3531\"],[\"3532\"],[\"3533\"],[\"3534\"],[\"3535\"],[\"3536\"],[\"3537\"],[\"3538\"],[\"3539\"],[\"3541\"],[\"3543\"],[\"3544\"],[\"3546\"],[\"3516\"],[\"3329\"],[\"3459\"],[\"3457\"],[\"2474\"],[\"2481\"],[\"2483\"],[\"2486\"],[\"2487\"],[\"2490\"],[\"2493\"],[\"2497\"],[\"2470\"],[\"2503\"],[\"2513\"],[\"2514\"],[\"2515\"],[\"2517\"],[\"2522\"],[\"2523\"],[\"2524\"],[\"2527\"],[\"2505\"],[\"2466\"],[\"2457\"],[\"2456\"],[\"2403\"],[\"2405\"],[\"2421\"],[\"2422\"],[\"2424\"],[\"2426\"],[\"2427\"],[\"2431\"],[\"2437\"],[\"2439\"],[\"2441\"],[\"2442\"],[\"2443\"],[\"2444\"],[\"2450\"],[\"2452\"],[\"2453\"],[\"2454\"],[\"2455\"],[\"2528\"],[\"3458\"],[\"2531\"],[\"2535\"],[\"2632\"],[\"2634\"],[\"2641\"],[\"2650\"],[\"2651\"],[\"2656\"],[\"3438\"],[\"3439\"],[\"2622\"],[\"3441\"],[\"3444\"],[\"3445\"],[\"3446\"],[\"3447\"],[\"3450\"],[\"3451\"],[\"3452\"],[\"3453\"],[\"3443\"],[\"2621\"],[\"2618\"],[\"2614\"],[\"2541\"],[\"2545\"],[\"2548\"],[\"2558\"],[\"2562\"],[\"2565\"],[\"2566\"],[\"2568\"],[\"2569\"],[\"2570\"],[\"2572\"],[\"2577\"],[\"2580\"],[\"2581\"],[\"2584\"],[\"2587\"],[\"2595\"],[\"2596\"],[\"2599\"],[\"2534\"],[\"2635\"],[\"4038\"],[\"1586\"],[\"2814\"],[\"1674\"],[\"2838\"],[\"1672\"],[\"2885\"],[\"3003\"],[\"1670\"],[\"1233\"],[\"1418\"],[\"3173\"],[\"3290\"],[\"1419\"],[\"1228\"],[\"1664\"],[\"1421\"],[\"1422\"],[\"1424\"],[\"1676\"],[\"1417\"],[\"1678\"],[\"347\"],[\"331\"],[\"1697\"],[\"1696\"],[\"333\"],[\"335\"],[\"1693\"],[\"336\"],[\"337\"],[\"1224\"],[\"1690\"],[\"340\"],[\"1414\"],[\"341\"],[\"343\"],[\"344\"],[\"345\"],[\"1681\"],[\"1234\"],[\"338\"],[\"1698\"],[\"1660\"],[\"1658\"],[\"1208\"],[\"907\"],[\"909\"],[\"910\"],[\"1633\"],[\"911\"],[\"912\"],[\"1631\"],[\"914\"],[\"1629\"],[\"1206\"],[\"1627\"],[\"918\"],[\"920\"],[\"1625\"],[\"923\"],[\"926\"],[\"905\"],[\"904\"],[\"900\"],[\"1640\"],[\"1657\"],[\"1430\"],[\"1220\"],[\"1218\"],[\"601\"],[\"1654\"],[\"629\"],[\"1433\"],[\"1223\"],[\"1651\"],[\"1648\"],[\"649\"],[\"1646\"],[\"1434\"],[\"1213\"],[\"1212\"],[\"1641\"],[\"899\"],[\"1650\"],[\"330\"],[\"328\"],[\"327\"],[\"1747\"],[\"1244\"],[\"1745\"],[\"278\"],[\"1743\"],[\"279\"],[\"281\"],[\"1739\"],[\"1738\"],[\"282\"],[\"283\"],[\"1241\"],[\"284\"],[\"287\"],[\"1731\"],[\"288\"],[\"289\"],[\"1748\"],[\"1749\"],[\"1247\"],[\"276\"],[\"264\"],[\"266\"],[\"267\"],[\"268\"],[\"1764\"],[\"269\"],[\"1762\"],[\"1249\"],[\"290\"],[\"1760\"],[\"270\"],[\"1756\"],[\"1248\"],[\"273\"],[\"1755\"],[\"274\"],[\"275\"],[\"1403\"],[\"1759\"],[\"292\"],[\"293\"],[\"1726\"],[\"1713\"],[\"1239\"],[\"314\"],[\"1711\"],[\"1710\"],[\"316\"],[\"1708\"],[\"317\"],[\"312\"],[\"318\"],[\"320\"],[\"1704\"],[\"321\"],[\"1412\"],[\"324\"],[\"326\"],[\"1701\"],[\"1700\"],[\"319\"],[\"1439\"],[\"311\"],[\"309\"],[\"294\"],[\"295\"],[\"296\"],[\"297\"],[\"298\"],[\"299\"],[\"300\"],[\"1240\"],[\"310\"],[\"301\"],[\"302\"],[\"303\"],[\"305\"],[\"306\"],[\"307\"],[\"1410\"],[\"1411\"],[\"308\"],[\"1719\"],[\"1769\"],[\"928\"],[\"931\"],[\"1027\"],[\"1138\"],[\"1486\"],[\"1030\"],[\"1031\"],[\"1033\"],[\"1034\"],[\"1035\"],[\"1038\"],[\"1531\"],[\"1134\"],[\"1133\"],[\"1489\"],[\"1490\"],[\"1492\"],[\"1493\"],[\"1494\"],[\"1139\"],[\"1140\"],[\"1141\"],[\"1484\"],[\"1005\"],[\"1007\"],[\"1008\"],[\"1151\"],[\"1013\"],[\"1476\"],[\"1477\"],[\"1478\"],[\"1042\"],[\"1016\"],[\"1147\"],[\"1537\"],[\"1145\"],[\"1481\"],[\"1022\"],[\"1144\"],[\"1143\"],[\"1023\"],[\"1150\"],[\"1152\"],[\"1043\"],[\"1046\"],[\"1062\"],[\"1063\"],[\"1094\"],[\"1065\"],[\"1093\"],[\"1521\"],[\"1091\"],[\"1069\"],[\"1518\"],[\"1090\"],[\"1089\"],[\"1088\"],[\"1087\"],[\"1071\"],[\"1084\"],[\"1072\"],[\"1073\"],[\"1526\"],[\"1095\"],[\"1096\"],[\"1510\"],[\"1498\"],[\"1499\"],[\"1501\"],[\"1127\"],[\"1050\"],[\"1121\"],[\"1119\"],[\"1506\"],[\"1045\"],[\"1111\"],[\"1055\"],[\"1105\"],[\"1527\"],[\"1057\"],[\"1103\"],[\"1058\"],[\"1061\"],[\"1098\"],[\"1053\"],[\"1544\"],[\"1154\"],[\"1546\"],[\"956\"],[\"1450\"],[\"1196\"],[\"1194\"],[\"958\"],[\"1602\"],[\"1193\"],[\"1599\"],[\"1455\"],[\"961\"],[\"964\"],[\"1594\"],[\"965\"],[\"1592\"],[\"1187\"],[\"1186\"],[\"970\"],[\"955\"],[\"1607\"],[\"1197\"],[\"951\"],[\"1203\"],[\"933\"],[\"1441\"],[\"935\"],[\"1442\"],[\"1443\"],[\"937\"],[\"1618\"],[\"1588\"],[\"1202\"],[\"1615\"],[\"940\"],[\"1445\"],[\"943\"],[\"945\"],[\"1200\"],[\"949\"],[\"950\"],[\"939\"],[\"972\"],[\"1346\"],[\"1585\"],[\"1561\"],[\"1560\"],[\"1466\"],[\"996\"],[\"1558\"],[\"1171\"],[\"1169\"],[\"1556\"],[\"991\"],[\"998\"],[\"1165\"],[\"1552\"],[\"1000\"],[\"1162\"],[\"1161\"],[\"1157\"],[\"1002\"],[\"1474\"],[\"1168\"],[\"929\"],[\"1562\"],[\"987\"],[\"973\"],[\"974\"],[\"1581\"],[\"976\"],[\"1579\"],[\"977\"],[\"1461\"],[\"1575\"],[\"1174\"],[\"979\"],[\"1178\"],[\"1177\"],[\"1176\"],[\"1464\"],[\"1566\"],[\"1564\"],[\"985\"],[\"986\"],[\"1463\"],[\"263\"],[\"286\"],[\"262\"],[\"89\"],[\"90\"],[\"91\"],[\"92\"],[\"1908\"],[\"93\"],[\"94\"],[\"95\"],[\"1906\"],[\"1905\"],[\"96\"],[\"97\"],[\"99\"],[\"100\"],[\"101\"],[\"1901\"],[\"1900\"],[\"88\"],[\"102\"],[\"87\"],[\"85\"],[\"69\"],[\"70\"],[\"71\"],[\"72\"],[\"73\"],[\"74\"],[\"75\"],[\"76\"],[\"77\"],[\"1387\"],[\"78\"],[\"79\"],[\"1286\"],[\"80\"],[\"81\"],[\"83\"],[\"84\"],[\"86\"],[\"103\"],[\"105\"],[\"106\"],[\"127\"],[\"1883\"],[\"129\"],[\"130\"],[\"131\"],[\"132\"],[\"1270\"],[\"133\"],[\"134\"],[\"135\"],[\"137\"],[\"138\"],[\"139\"],[\"140\"],[\"143\"],[\"144\"],[\"1874\"],[\"126\"],[\"125\"],[\"124\"],[\"1887\"],[\"1276\"],[\"108\"],[\"1896\"],[\"110\"],[\"1771\"],[\"111\"],[\"112\"],[\"114\"],[\"68\"],[\"115\"],[\"1892\"],[\"117\"],[\"1274\"],[\"120\"],[\"1890\"],[\"121\"],[\"1889\"],[\"123\"],[\"116\"],[\"1386\"],[\"66\"],[\"65\"],[\"17\"],[\"18\"],[\"19\"],[\"20\"],[\"1363\"],[\"1364\"],[\"22\"],[\"23\"],[\"1321\"],[\"1317\"],[\"1368\"],[\"24\"],[\"1314\"],[\"1311\"],[\"27\"],[\"28\"],[\"29\"],[\"16\"],[\"15\"],[\"14\"],[\"1362\"],[\"1342\"],[\"1\"],[\"2\"],[\"1353\"],[\"1354\"],[\"3\"],[\"4\"],[\"1356\"],[\"1308\"],[\"5\"],[\"7\"],[\"8\"],[\"10\"],[\"11\"],[\"12\"],[\"1328\"],[\"1326\"],[\"1325\"],[\"6\"],[\"145\"],[\"1372\"],[\"31\"],[\"51\"],[\"1295\"],[\"1294\"],[\"52\"],[\"54\"],[\"1383\"],[\"1384\"],[\"55\"],[\"1385\"],[\"57\"],[\"58\"],[\"59\"],[\"60\"],[\"61\"],[\"62\"],[\"63\"],[\"64\"],[\"1296\"],[\"50\"],[\"49\"],[\"1297\"],[\"32\"],[\"33\"],[\"34\"],[\"35\"],[\"36\"],[\"37\"],[\"38\"],[\"1306\"],[\"30\"],[\"39\"],[\"42\"],[\"43\"],[\"44\"],[\"45\"],[\"46\"],[\"47\"],[\"48\"],[\"1301\"],[\"41\"],[\"146\"],[\"1077\"],[\"1870\"],[\"1263\"],[\"221\"],[\"147\"],[\"225\"],[\"1262\"],[\"226\"],[\"1822\"],[\"227\"],[\"220\"],[\"228\"],[\"230\"],[\"231\"],[\"232\"],[\"233\"],[\"234\"],[\"235\"],[\"1817\"],[\"237\"],[\"229\"],[\"219\"],[\"218\"],[\"217\"],[\"196\"],[\"197\"],[\"1834\"],[\"198\"],[\"201\"],[\"202\"],[\"204\"],[\"205\"],[\"206\"],[\"207\"],[\"208\"],[\"209\"],[\"1830\"],[\"210\"],[\"212\"],[\"214\"],[\"1829\"],[\"215\"],[\"216\"],[\"1400\"],[\"1836\"],[\"1815\"],[\"238\"],[\"1252\"],[\"254\"],[\"1251\"],[\"1788\"],[\"255\"],[\"256\"],[\"257\"],[\"1784\"],[\"1792\"],[\"258\"],[\"1780\"],[\"1779\"],[\"259\"],[\"1777\"],[\"1776\"],[\"1775\"],[\"260\"],[\"1773\"],[\"1781\"],[\"253\"],[\"1253\"],[\"251\"],[\"1401\"],[\"240\"],[\"241\"],[\"1808\"],[\"242\"],[\"243\"],[\"244\"],[\"245\"],[\"1805\"],[\"246\"],[\"247\"],[\"1803\"],[\"1802\"],[\"1801\"],[\"248\"],[\"1254\"],[\"249\"],[\"1797\"],[\"250\"],[\"1814\"],[\"195\"],[\"222\"],[\"194\"],[\"163\"],[\"1397\"],[\"164\"],[\"165\"],[\"1855\"],[\"166\"],[\"167\"],[\"1854\"],[\"168\"],[\"171\"],[\"1853\"],[\"1852\"],[\"173\"],[\"174\"],[\"175\"],[\"176\"],[\"177\"],[\"162\"],[\"178\"],[\"161\"],[\"159\"],[\"148\"],[\"1869\"],[\"149\"],[\"1394\"],[\"1395\"],[\"150\"],[\"151\"],[\"1865\"],[\"152\"],[\"153\"],[\"1268\"],[\"154\"],[\"155\"],[\"156\"],[\"157\"],[\"158\"],[\"1860\"],[\"160\"],[\"179\"],[\"1856\"],[\"183\"],[\"184\"],[\"191\"],[\"1264\"],[\"187\"],[\"182\"],[\"192\"],[\"185\"],[\"1847\"],[\"189\"],[\"190\"],[\"181\"],[\"1266\"],[\"1840\"],[\"180\"],[\"193\"],[\"1838\"]],\"hovertemplate\":\"Cluster=Cluster 0\\u003cbr\\u003ePCA1=%{x}\\u003cbr\\u003ePCA2=%{y}\\u003cbr\\u003eFeature=%{customdata[0]}\\u003cextra\\u003e\\u003c\\u002fextra\\u003e\",\"legendgroup\":\"Cluster 0\",\"marker\":{\"color\":\"#636efa\",\"opacity\":0.5,\"symbol\":\"circle\"},\"mode\":\"markers\",\"name\":\"Cluster 0\",\"showlegend\":true,\"x\":[-37.691014325277834,-30.691014009851713,-21.69101360430384,-22.69101364936472,-30.691014009851713,-37.691014325277834,-31.69101405491259,-29.691013964790844,-37.691014325277834,-28.69101391972997,-37.691014325277834,-41.691014505521345,-24.69101373948647,-34.69101419009521,-31.69101405491259,-40.69101446046046,-24.69101373948647,-19.691013514182092,-40.69101446046046,-24.69101373948647,-35.69101423515608,-30.691014009851713,-38.69101437033872,-24.69101373948647,-27.69101387466909,-30.691014009851713,-28.69101391972997,-17.691013424060344,-19.691013514182092,-25.69101378454734,-31.69101405491259,-22.69101364936472,-30.691014009851713,-37.691014325277834,-40.69101446046046,-31.69101405491259,-26.691013829608217,-30.691014009851713,-35.69101423515608,-19.691013514182092,-24.69101373948647,-40.69101446046046,-33.69101414503434,-33.69101414503434,-21.69101360430384,-21.69101360430384,-32.691014099973465,-39.691014415399586,-25.69101378454734,-41.691014505521345,-26.691013829608217,-23.691013694425592,-40.69101446046046,-22.69101364936472,-32.691014099973465,-21.69101360430384,-29.691013964790844,-32.691014099973465,-27.69101387466909,-33.69101414503434,-37.691014325277834,-33.69101414503434,-28.69101391972997,-22.69101364936472,-31.69101405491259,-17.691013424060344,-42.69101455058222,-34.69101419009521,-35.69101423515608,-21.69101360430384,-40.69101446046046,-24.69101373948647,-36.69101428021696,-18.69101346912122,-32.691014099973465,-38.69101437033872,-27.69101387466909,-19.691013514182092,-28.69101391972997,-30.691014009851713,-37.691014325277834,-23.691013694425592,-21.69101360430384,-25.69101378454734,-34.69101419009521,-29.691013964790844,-32.691014099973465,-38.69101437033872,-40.69101446046046,-32.691014099973465,-35.69101423515608,-26.691013829608217,-24.69101373948647,-30.691014009851713,-24.69101373948647,-29.691013964790844,-34.69101419009521,-32.691014099973465,-32.691014099973465,-29.691013964790844,-32.691014099973465,-30.691014009851713,-26.691013829608217,-33.69101414503434,-28.69101391972997,-29.691013964790844,-24.69101373948647,-25.69101378454734,-28.69101391972997,-37.691014325277834,-39.691014415399586,-39.691014415399586,-39.691014415399586,-36.69101428021696,-42.69101455058222,-32.691014099973465,-39.691014415399586,-33.69101414503434,-37.691014325277834,-35.69101423515608,-36.69101428021696,-35.69101423515608,-42.69101455058222,-39.691014415399586,-34.69101419009521,-35.69101423515608,-37.691014325277834,-34.69101419009521,-30.691014009851713,-42.69101455058222,-42.69101455058222,-29.691013964790844,-24.69101373948647,-17.691013424060344,-29.691013964790844,-24.69101373948647,-20.691013559242965,-26.691013829608217,-26.691013829608217,-26.691013829608217,-35.69101423515608,-23.691013694425592,-17.691013424060344,-25.69101378454734,-28.69101391972997,-17.691013424060344,-23.691013694425592,-24.69101373948647,-37.691014325277834,-27.69101387466909,-31.69101405491259,-19.691013514182092,-22.69101364936472,-20.691013559242965,-25.69101378454734,-27.69101387466909,-28.69101391972997,-25.69101378454734,-18.69101346912122,-28.69101391972997,-33.69101414503434,-36.69101428021696,-24.69101373948647,-25.69101378454734,-39.691014415399586,-18.69101346912122,-27.69101387466909,-20.691013559242965,-24.69101373948647,-17.691013424060344,-21.69101360430384,-35.69101423515608,-17.691013424060344,-18.69101346912122,-25.69101378454734,-36.69101428021696,-30.691014009851713,-36.69101428021696,-21.69101360430384,-34.69101419009521,-35.69101423515608,-35.69101423515608,-42.69101455058222,-24.69101373948647,-31.69101405491259,-27.69101387466909,-26.691013829608217,-35.69101423515608,-37.691014325277834,-21.69101360430384,-32.691014099973465,-28.69101391972997,-19.691013514182092,-29.691013964790844,-18.69101346912122,-18.69101346912122,-36.69101428021696,-37.691014325277834,-32.691014099973465,-34.69101419009521,-24.69101373948647,-26.691013829608217,-30.691014009851713,-35.69101423515608,-33.69101414503434,-41.691014505521345,-24.69101373948647,-22.69101364936472,-32.691014099973465,-39.691014415399586,-18.69101346912122,-27.69101387466909,-29.691013964790844,-32.691014099973465,-31.69101405491259,-30.691014009851713,-28.69101391972997,-36.69101428021696,-37.691014325277834,-20.691013559242965,-38.69101437033872,-17.691013424060344,-20.691013559242965,-38.69101437033872,-20.691013559242965,-31.69101405491259,-20.691013559242965,-25.69101378454734,-38.69101437033872,-21.69101360430384,-24.69101373948647,-34.69101419009521,-27.69101387466909,-25.69101378454734,-32.691014099973465,-26.691013829608217,-27.69101387466909,-29.691013964790844,-36.69101428021696,-23.691013694425592,-35.69101423515608,-36.69101428021696,-38.69101437033872,-41.691014505521345,-31.69101405491259,-18.69101346912122,-29.691013964790844,-42.69101455058222,-35.69101423515608,-22.69101364936472,-24.69101373948647,-28.69101391972997,-29.691013964790844,-29.691013964790844,-29.691013964790844,-34.69101419009521,-31.69101405491259,-19.691013514182092,-35.69101423515608,-41.691014505521345,-34.69101419009521,-37.691014325277834,-38.69101437033872,-17.691013424060344,-23.691013694425592,-33.69101414503434,-37.691014325277834,-35.69101423515608,-41.691014505521345,-26.691013829608217,-21.69101360430384,-26.691013829608217,-40.69101446046046,-18.69101346912122,-38.69101437033872,-20.691013559242965,-28.69101391972997,-39.691014415399586,-26.691013829608217,-30.691014009851713,-28.69101391972997,-29.691013964790844,-40.69101446046046,-41.691014505521345,-19.691013514182092,-27.69101387466909,-24.69101373948647,-19.691013514182092,-32.691014099973465,-26.691013829608217,-29.691013964790844,-35.69101423515608,-37.691014325277834,-32.691014099973465,-36.69101428021696,-25.69101378454734,-23.691013694425592,-40.69101446046046,-27.69101387466909,-33.69101414503434,-35.69101423515608,-29.691013964790844,-23.691013694425592,-31.69101405491259,-33.69101414503434,-26.691013829608217,-22.69101364936472,-23.691013694425592,-40.69101446046046,-30.691014009851713,-32.691014099973465,-35.69101423515608,-19.691013514182092,-29.691013964790844,-37.691014325277834,-20.691013559242965,-18.69101346912122,-33.69101414503434,-33.69101414503434,-37.691014325277834,-32.691014099973465,-27.69101387466909,-42.69101455058222,-36.69101428021696,-33.69101414503434,-23.691013694425592,-31.69101405491259,-25.69101378454734,-26.691013829608217,-31.69101405491259,-39.691014415399586,-34.69101419009521,-28.69101391972997,-27.69101387466909,-27.69101387466909,-30.691014009851713,-31.69101405491259,-35.69101423515608,-42.69101455058222,-21.69101360430384,-40.69101446046046,-21.69101360430384,-23.691013694425592,-26.691013829608217,-37.691014325277834,-35.69101423515608,-28.69101391972997,-27.69101387466909,-33.69101414503434,-37.691014325277834,-28.69101391972997,-38.69101437033872,-29.691013964790844,-32.691014099973465,-29.691013964790844,-33.69101414503434,-36.69101428021696,-36.69101428021696,-36.69101428021696,-42.69101455058222,-26.691013829608217,-39.691014415399586,-25.69101378454734,-23.691013694425592,-38.69101437033872,-23.691013694425592,-31.69101405491259,-22.69101364936472,-28.69101391972997,-39.691014415399586,-40.69101446046046,-30.691014009851713,-25.69101378454734,-33.69101414503434,-29.691013964790844,-27.69101387466909,-36.69101428021696,-40.69101446046046,-38.69101437033872,-33.69101414503434,-21.69101360430384,-32.691014099973465,-30.691014009851713,-27.69101387466909,-28.69101391972997,-17.691013424060344,-23.691013694425592,-24.69101373948647,-18.69101346912122,-35.69101423515608,-28.69101391972997,-30.691014009851713,-34.69101419009521,-39.691014415399586,-33.69101414503434,-37.691014325277834,-35.69101423515608,-31.69101405491259,-21.69101360430384,-32.691014099973465,-39.691014415399586,-39.691014415399586,-25.69101378454734,-25.69101378454734,-42.69101455058222,-42.69101455058222,-27.69101387466909,-28.69101391972997,-42.69101455058222,-19.691013514182092,-24.69101373948647,-25.69101378454734,-18.69101346912122,-17.691013424060344,-36.69101428021696,-30.691014009851713,-26.691013829608217,-42.69101455058222,-22.69101364936472,-29.691013964790844,-19.691013514182092,-19.691013514182092,-42.69101455058222,-19.691013514182092,-20.691013559242965,-23.691013694425592,-32.691014099973465,-17.691013424060344,-38.69101437033872,-31.69101405491259,-29.691013964790844,-21.69101360430384,-19.691013514182092,-41.691014505521345,-22.69101364936472,-18.69101346912122,-28.69101391972997,-42.69101455058222,-29.691013964790844,-22.69101364936472,-35.69101423515608,-24.69101373948647,-21.69101360430384,-27.69101387466909,-40.69101446046046,-37.691014325277834,-20.691013559242965,-20.691013559242965,-17.691013424060344,-38.69101437033872,-26.691013829608217,-26.691013829608217,-41.691014505521345,-41.691014505521345,-32.691014099973465,-31.69101405491259,-37.691014325277834,-31.69101405491259,-39.691014415399586,-35.69101423515608,-40.69101446046046,-37.691014325277834,-41.691014505521345,-23.691013694425592,-32.691014099973465,-39.691014415399586,-40.69101446046046,-24.69101373948647,-20.691013559242965,-17.691013424060344,-41.691014505521345,-34.69101419009521,-38.69101437033872,-36.69101428021696,-38.69101437033872,-34.69101419009521,-36.69101428021696,-35.69101423515608,-35.69101423515608,-37.691014325277834,-35.69101423515608,-34.69101419009521,-38.69101437033872,-22.69101364936472,-20.691013559242965,-17.691013424060344,-40.69101446046046,-25.69101378454734,-42.69101455058222,-28.69101391972997,-31.69101405491259,-28.69101391972997,-26.691013829608217,-17.691013424060344,-33.69101414503434,-24.69101373948647,-34.69101419009521,-39.691014415399586,-41.691014505521345,-21.69101360430384,-27.69101387466909,-23.691013694425592,-38.69101437033872,-31.69101405491259,-35.69101423515608,-36.69101428021696,-38.69101437033872,-27.69101387466909,-19.691013514182092,-30.691014009851713,-32.691014099973465,-23.691013694425592,-40.69101446046046,-38.69101437033872,-18.69101346912122,-17.691013424060344,-22.69101364936472,-20.691013559242965,-18.69101346912122,-26.691013829608217,-24.69101373948647,-25.69101378454734,-33.69101414503434,-33.69101414503434,-33.69101414503434,-33.69101414503434,-29.691013964790844,-31.69101405491259,-41.691014505521345,-25.69101378454734,-42.69101455058222,-40.69101446046046,-33.69101414503434,-21.69101360430384,-40.69101446046046,-32.691014099973465,-21.69101360430384,-28.69101391972997,-39.691014415399586,-30.691014009851713,-39.691014415399586,-36.69101428021696,-20.691013559242965,-23.691013694425592,-29.691013964790844,-25.69101378454734,-34.69101419009521,-36.69101428021696,-36.69101428021696,-31.69101405491259,-42.69101455058222,-38.69101437033872,-23.691013694425592,-27.69101387466909,-28.69101391972997,-23.691013694425592,-17.691013424060344,-40.69101446046046,-25.69101378454734,-30.691014009851713,-24.69101373948647,-33.69101414503434,-39.691014415399586,-23.691013694425592,-33.69101414503434,-35.69101423515608,-30.691014009851713,-29.691013964790844,-29.691013964790844,-35.69101423515608,-29.691013964790844,-28.69101391972997,-28.69101391972997,-25.69101378454734,-41.691014505521345,-34.69101419009521,-25.69101378454734,-27.69101387466909,-25.69101378454734,-34.69101419009521,-30.691014009851713,-25.69101378454734,-35.69101423515608,-33.69101414503434,-39.691014415399586,-39.691014415399586,-40.69101446046046,-39.691014415399586,-36.69101428021696,-31.69101405491259,-38.69101437033872,-22.69101364936472,-41.691014505521345,-33.69101414503434,-19.691013514182092,-32.691014099973465,-38.69101437033872,-39.691014415399586,-38.69101437033872,-35.69101423515608,-39.691014415399586,-41.691014505521345,-37.691014325277834,-20.691013559242965,-29.691013964790844,-33.69101414503434,-17.691013424060344,-34.69101419009521,-19.691013514182092,-27.69101387466909,-34.69101419009521,-28.69101391972997,-37.691014325277834,-32.691014099973465,-28.69101391972997,-39.691014415399586,-28.69101391972997,-23.691013694425592,-31.69101405491259,-30.691014009851713,-21.69101360430384,-28.69101391972997,-41.691014505521345,-30.691014009851713,-34.69101419009521,-24.69101373948647,-31.69101405491259,-41.691014505521345,-20.691013559242965,-38.69101437033872,-35.69101423515608,-42.69101455058222,-20.691013559242965,-21.69101360430384,-36.69101428021696,-20.691013559242965,-42.69101455058222,-30.691014009851713,-26.691013829608217,-41.691014505521345,-29.691013964790844,-33.69101414503434,-35.69101423515608,-27.69101387466909,-36.69101428021696,-37.691014325277834,-23.691013694425592,-40.69101446046046,-25.69101378454734,-26.691013829608217,-21.69101360430384,-18.69101346912122,-42.69101455058222,-32.691014099973465,-20.691013559242965,-41.691014505521345,-19.691013514182092,-18.69101346912122,-24.69101373948647,-41.691014505521345,-21.69101360430384,-37.691014325277834,-36.69101428021696,-19.691013514182092,-19.691013514182092,-40.69101446046046,-19.691013514182092,-19.691013514182092,-34.69101419009521,-39.691014415399586,-41.691014505521345,-32.691014099973465,-34.69101419009521,-17.691013424060344,-30.691014009851713,-28.69101391972997,-17.691013424060344,-29.691013964790844,-35.69101423515608,-20.691013559242965,-38.69101437033872,-35.69101423515608,-29.691013964790844,-18.69101346912122,-35.69101423515608,-26.691013829608217,-31.69101405491259,-40.69101446046046,-41.691014505521345,-34.69101419009521,-24.69101373948647,-27.69101387466909,-31.69101405491259,-29.691013964790844,-38.69101437033872,-37.691014325277834,-42.69101455058222,-29.691013964790844,-41.691014505521345,-36.69101428021696,-22.69101364936472,-35.69101423515608,-38.69101437033872,-25.69101378454734,-33.69101414503434,-26.691013829608217,-35.69101423515608,-23.691013694425592,-30.691014009851713,-29.691013964790844,-33.69101414503434,-31.69101405491259,-39.691014415399586,-25.69101378454734,-35.69101423515608,-41.691014505521345,-27.69101387466909,-36.69101428021696,-40.69101446046046,-27.69101387466909,-31.69101405491259,-28.69101391972997,-38.69101437033872,-24.69101373948647,-40.69101446046046,-37.691014325277834,-41.691014505521345,-41.691014505521345,-42.69101455058222,-37.691014325277834,-37.691014325277834,-24.69101373948647,-18.69101346912122,-35.69101423515608,-35.69101423515608,-26.691013829608217,-21.69101360430384,-24.69101373948647,-42.69101455058222,-28.69101391972997,-28.69101391972997,-28.69101391972997,-41.691014505521345,-18.69101346912122,-19.691013514182092,-28.69101391972997,-42.69101455058222,-17.691013424060344,-37.691014325277834,-35.69101423515608,-17.691013424060344,-29.691013964790844,-36.69101428021696,-40.69101446046046,-20.691013559242965,-33.69101414503434,-37.691014325277834,-24.69101373948647,-17.691013424060344,-26.691013829608217,-22.69101364936472,-26.691013829608217,-35.69101423515608,-22.69101364936472,-28.69101391972997,-38.69101437033872,-32.691014099973465,-42.69101455058222,-29.691013964790844,-40.69101446046046,-31.69101405491259,-27.69101387466909,-38.69101437033871,-37.691014325277834,-41.69101450552133,-41.69101450552133,-27.69101387466909,-40.69101446046046,-36.691014280216955,-36.691014280216955,-22.69101364936472,-38.69101437033872,-22.69101364936472,-24.69101373948647,-31.69101405491259,-39.691014415399586,-33.69101414503434,-33.69101414503434,-20.691013559242965,-30.691014009851713,-33.69101414503434,-36.69101428021696,-35.69101423515608,-29.691013964790844,-25.69101378454734,-34.69101419009521,-24.69101373948647,-33.69101414503434,-30.691014009851713,-27.69101387466909,-39.691014415399586,-30.691014009851713,-31.69101405491259,-36.69101428021696,-40.69101446046046,-25.69101378454734,-22.69101364936472,-23.691013694425592,-39.691014415399586,-27.69101387466909,-31.69101405491259,-24.69101373948647,-29.691013964790844,-24.69101373948647,-20.691013559242965,-31.69101405491259,-30.691014009851713,-37.691014325277834,-21.69101360430384,-18.69101346912122,-38.69101437033872,-32.691014099973465,-31.69101405491259,-33.69101414503434,-20.691013559242965,-33.69101414503434,-23.691013694425592,-33.69101414503434,-28.69101391972997,-33.69101414503434,-35.69101423515608,-26.691013829608217,-39.691014415399586,-41.691014505521345,-24.69101373948647,-31.69101405491259,-29.691013964790844,-40.69101446046046,-32.691014099973465,-36.69101428021696,-22.69101364936472,-26.691013829608217,-34.69101419009521,-38.69101437033872,-35.69101423515608,-24.69101373948647,-28.69101391972997,-24.69101373948647,-19.691013514182092,-35.69101423515608,-30.691014009851713,-26.691013829608217,-34.69101419009521,-39.691014415399586,-29.691013964790844,-38.69101437033872,-38.69101437033872,-30.691014009851713,-33.69101414503434,-34.69101419009521,-21.69101360430384,-26.691013829608217,-39.691014415399586,-41.691014505521345,-40.69101446046046,-17.691013424060344,-40.69101446046046,-38.69101437033872,-28.69101391972997,-28.69101391972997,-28.69101391972997,-36.69101428021696,-32.691014099973465,-20.691013559242965,-35.69101423515608,-22.69101364936472,-28.69101391972997,-42.69101455058222,-36.69101428021696,-39.691014415399586,-31.69101405491259,-28.69101391972997,-21.69101360430384,-30.691014009851713,-27.69101387466909,-33.69101414503434,-37.691014325277834,-37.691014325277834,-26.691013829608217,-29.691013964790844,-33.69101414503434,-37.691014325277834,-34.69101419009521,-25.69101378454734,-40.69101446046046,-28.69101391972997,-31.69101405491259,-18.691013469121216,-37.691014325277834,-25.69101378454734,-35.69101423515608,-42.69101455058222,-28.69101391972997,-28.69101391972997,-37.691014325277834,-27.69101387466909,-39.691014415399586,-35.69101423515608,-29.691013964790844,-41.69101450552133,-42.69101455058222,-37.691014325277834,-34.69101419009521,-41.69101450552133,-36.691014280216955,-31.69101405491259,-39.691014415399586,-39.691014415399586,-37.691014325277834,-29.691013964790844,-39.691014415399586,-32.691014099973465,-36.691014280216955,-41.69101450552133,-30.691014009851717,-39.691014415399586,-31.69101405491259,-28.69101391972997,-27.69101387466909,-39.691014415399586,-39.691014415399586,-40.69101446046046,-19.691013514182092,-25.69101378454734,-34.69101419009521,-41.69101450552133,-26.691013829608217,-39.691014415399586,-40.69101446046046,-40.69101446046046,-37.691014325277834,-36.691014280216955,-35.69101423515608,-35.69101423515608,-32.691014099973465,-42.69101455058222,-25.69101378454734,-42.69101455058222,-39.691014415399586,-34.69101419009521,-34.69101419009521,-41.69101450552133,-41.69101450552133,-24.69101373948647,-41.69101450552133,-40.69101446046046,-41.69101450552133,-42.69101455058222,-41.69101450552133,-36.691014280216955,-39.691014415399586,-42.69101455058222,-31.69101405491259,-32.691014099973465,-34.69101419009521,-39.691014415399586,-32.691014099973465,-29.691013964790844,-39.691014415399586,-34.69101419009521,-41.69101450552133,-36.691014280216955,-38.69101437033871,-33.69101414503434,-40.69101446046046,-41.69101450552133,-39.691014415399586,-42.69101455058222,-33.69101414503434,-42.69101455058222,-41.69101450552133,-37.691014325277834,-37.691014325277834,-42.69101455058222,-33.69101414503434,-21.691013604303848,-42.69101455058222,-41.69101450552133,-28.69101391972997,-42.69101455058222,-32.691014099973465,-37.691014325277834,-24.69101373948647,-32.691014099973465,-21.691013604303848,-36.691014280216955,-24.69101373948647,-17.691013424060344,-25.69101378454734,-17.691013424060344,-35.69101423515608,-29.691013964790844,-41.69101450552133,-34.69101419009521,-39.691014415399586,-23.691013694425596,-38.69101437033871,-37.691014325277834,-29.691013964790844,-30.691014009851717,-42.69101455058222,-17.691013424060344,-29.691013964790844,-35.69101423515608,-18.691013469121216,-31.69101405491259,-36.691014280216955,-17.691013424060344,-21.691013604303848,-26.691013829608217,-38.69101437033871,-31.69101405491259,-35.69101423515608,-38.69101437033871,-23.691013694425596,-41.69101450552133,-30.691014009851717,-33.69101414503434,-40.69101446046046,-41.69101450552133,-25.69101378454734,-39.691014415399586,-36.691014280216955,-28.69101391972997,-25.69101378454734,-35.69101423515608,-21.691013604303848,-36.691014280216955,-28.69101391972997,-21.691013604303848,-31.69101405491259,-41.69101450552133,-36.691014280216955,-38.69101437033871,-19.691013514182092,-40.69101446046046,-28.69101391972997,-21.691013604303848,-35.69101423515608,-27.69101387466909,-36.691014280216955,-17.691013424060344,-35.69101423515608,-39.691014415399586,-28.69101391972997,-41.69101450552133,-38.69101437033871,-33.69101414503434,-28.69101391972997,-38.69101437033871,-19.691013514182092,-30.691014009851717,-37.691014325277834,-34.69101419009521,-30.691014009851717,-22.69101364936472,-39.691014415399586,-27.69101387466909,-36.691014280216955,-35.69101423515608,-25.69101378454734,-36.691014280216955,-33.69101414503434,-31.69101405491259,-34.69101419009521,-27.69101387466909,-25.69101378454734,-33.69101414503434,-19.691013514182092,-28.69101391972997,-34.69101419009521,-38.69101437033872,-40.69101446046046,-25.69101378454734,-19.691013514182092,-35.69101423515608,-40.69101446046046,-26.691013829608217,-35.69101423515608,-25.69101378454734,-29.691013964790844,-42.69101455058222,-21.69101360430384,-39.691014415399586,-32.691014099973465,-29.691013964790844,-19.691013514182092,-20.691013559242965,-20.691013559242965,-34.69101419009521,-34.69101419009521,-30.691014009851713,-26.691013829608217,-42.69101455058222,-34.69101419009521,-25.69101378454734,-32.691014099973465,-20.691013559242965,-22.69101364936472,-27.69101387466909,-37.691014325277834,-32.691014099973465,-39.691014415399586,-33.69101414503434,-28.69101391972997,-28.69101391972997,-36.69101428021696,-21.69101360430384,-21.69101360430384,-30.691014009851713,-27.69101387466909,-20.691013559242965,-27.69101387466909,-24.69101373948647,-33.69101414503434,-27.69101387466909,-36.69101428021696,-17.691013424060344,-33.69101414503434,-25.69101378454734,-37.691014325277834,-31.69101405491259,-18.69101346912122,-31.69101405491259,-37.691014325277834,-40.69101446046046,-41.691014505521345,-19.691013514182092,-30.691014009851713,-26.691013829608217,-22.69101364936472,-19.691013514182092,-38.69101437033872,-36.69101428021696,-38.69101437033872,-30.691014009851713,-36.69101428021696,-25.69101378454734,-24.69101373948647,-34.69101419009521,-33.69101414503434,-33.69101414503434,-36.69101428021696,-23.691013694425592,-29.691013964790844,-36.69101428021696,-32.691014099973465,-42.69101455058222,-28.69101391972997,-27.69101387466909,-34.69101419009521,-26.691013829608217,-18.69101346912122,-35.69101423515608,-22.69101364936472,-22.69101364936472,-26.691013829608217,-26.691013829608217,-33.69101414503434,-36.69101428021696,-18.69101346912122,-26.691013829608217,-24.69101373948647,-18.69101346912122,-35.69101423515608,-28.69101391972997,-30.691014009851713,-41.691014505521345,-41.691014505521345,-40.69101446046046,-25.69101378454734,-33.69101414503434,-23.691013694425592,-35.69101423515608,-35.69101423515608,-40.69101446046046,-27.69101387466909,-34.69101419009521,-36.69101428021696,-19.691013514182092,-34.69101419009521,-27.69101387466909,-29.691013964790844,-31.69101405491259,-30.691014009851713,-34.69101419009521,-23.691013694425592,-28.69101391972997,-32.691014099973465,-25.69101378454734,-32.691014099973465,-34.69101419009521,-37.691014325277834,-28.69101391972997,-36.69101428021696,-26.691013829608217,-27.69101387466909,-37.691014325277834,-36.69101428021696,-34.69101419009521,-36.69101428021696,-34.69101419009521,-28.69101391972997,-24.69101373948647,-19.691013514182092,-23.691013694425592,-28.69101391972997,-39.691014415399586,-39.691014415399586,-36.69101428021696,-34.69101419009521,-33.69101414503434,-38.69101437033872,-25.69101378454734,-36.69101428021696,-24.69101373948647,-18.69101346912122,-35.69101423515608,-28.69101391972997,-23.691013694425592,-36.69101428021696,-35.69101423515608,-35.69101423515608,-38.69101437033872,-22.69101364936472,-20.691013559242965,-37.691014325277834,-36.69101428021696,-26.691013829608217,-32.691014099973465,-28.69101391972997,-37.691014325277834,-20.691013559242965,-30.691014009851713,-32.691014099973465,-31.69101405491259,-21.69101360430384,-39.691014415399586,-35.69101423515608,-31.69101405491259,-26.691013829608217,-33.69101414503434,-24.69101373948647,-22.69101364936472,-28.69101391972997,-34.69101419009521,-24.69101373948647,-39.691014415399586,-24.69101373948647,-19.691013514182092,-25.69101378454734,-22.69101364936472,-23.691013694425592,-20.691013559242965,-35.69101423515608,-35.69101423515608,-18.69101346912122,-34.69101419009521,-19.691013514182092,-21.69101360430384,-23.691013694425592,-21.69101360430384,-30.691014009851713,-30.691014009851713,-28.69101391972997,-38.69101437033872,-24.69101373948647,-23.691013694425592,-19.691013514182092,-27.69101387466909,-17.691013424060344,-40.69101446046046,-27.69101387466909,-18.69101346912122,-28.69101391972997,-26.691013829608217,-25.69101378454734,-28.69101391972997,-37.691014325277834,-26.691013829608217,-28.69101391972997,-18.69101346912122,-29.691013964790844,-30.691014009851713,-30.691014009851713,-28.69101391972997,-37.691014325277834,-35.69101423515608,-32.691014099973465,-26.691013829608217,-36.69101428021696,-22.69101364936472,-23.691013694425592,-40.69101446046046,-28.69101391972997,-26.691013829608217,-26.691013829608217,-39.691014415399586,-34.69101419009521,-34.69101419009521,-17.691013424060344,-42.69101455058222,-26.691013829608217,-35.69101423515608,-21.69101360430384,-28.69101391972997,-40.69101446046046,-19.691013514182092,-29.691013964790844,-28.69101391972997,-35.69101423515608,-30.691014009851713,-33.69101414503434,-34.69101419009521,-29.691013964790844,-27.69101387466909,-20.691013559242965,-35.69101423515608,-34.69101419009521,-28.69101391972997,-28.69101391972997,-20.691013559242965,-24.69101373948647,-32.691014099973465,-39.691014415399586,-23.691013694425592,-33.69101414503434,-31.69101405491259,-33.69101414503434,-38.69101437033872,-27.69101387466909,-29.691013964790844,-24.69101373948647,-28.69101391972997,-37.691014325277834,-17.691013424060344,-40.69101446046046,-40.69101446046046,-25.69101378454734,-34.69101419009521,-28.69101391972997,-37.691014325277834,-18.69101346912122,-42.69101455058222,-27.69101387466909,-28.69101391972997,-34.69101419009521,-30.691014009851713,-37.691014325277834,-29.691013964790844,-26.691013829608217,-30.691014009851713,-39.691014415399586,-38.69101437033872,-32.691014099973465,-42.69101455058222,-35.69101423515608,-26.691013829608217,-23.691013694425592,-35.69101423515608,-38.69101437033872,-32.691014099973465,-25.69101378454734,-18.69101346912122,-38.69101437033872,-38.69101437033872,-33.69101414503434,-39.691014415399586,-40.69101446046046,-20.691013559242965,-27.69101387466909,-31.69101405491259,-33.69101414503434,-29.691013964790844,-27.69101387466909,-27.69101387466909,-36.69101428021696,-23.691013694425592,-20.691013559242965,-32.691014099973465,-36.69101428021696,-38.69101437033872,-24.69101373948647,-25.69101378454734,-36.69101428021696,-27.69101387466909,-19.691013514182092,-34.69101419009521,-22.69101364936472,-37.691014325277834,-38.69101437033872,-36.69101428021696,-32.691014099973465,-37.691014325277834,-25.69101378454734,-42.69101455058222,-27.69101387466909,-42.69101455058222,-21.69101360430384,-37.691014325277834,-20.691013559242965,-26.691013829608217,-41.691014505521345,-34.69101419009521,-35.69101423515608,-21.69101360430384,-29.691013964790844,-39.691014415399586,-17.691013424060344,-32.691014099973465,-42.69101455058222,-22.69101364936472,-24.69101373948647,-23.691013694425592,-37.691014325277834,-19.691013514182092,-28.69101391972997,-24.69101373948647,-40.69101446046046,-42.69101455058222,-29.691013964790844,-25.69101378454734,-23.691013694425592,-34.69101419009521,-40.69101446046046,-41.691014505521345,-18.69101346912122,-39.691014415399586,-18.69101346912122,-39.691014415399586,-39.691014415399586,-32.691014099973465,-41.691014505521345,-22.69101364936472,-25.69101378454734,-38.69101437033872,-19.691013514182092,-20.691013559242965,-37.691014325277834,-19.691013514182092,-29.691013964790844,-24.69101373948647,-27.69101387466909,-38.69101437033872,-25.69101378454734,-36.69101428021696,-23.691013694425592,-35.69101423515608,-31.69101405491259,-35.69101423515608,-42.69101455058222,-40.69101446046046,-40.69101446046046,-34.69101419009521,-41.691014505521345,-41.691014505521345,-37.691014325277834,-35.69101423515608,-31.69101405491259,-25.69101378454734,-34.69101419009521,-27.69101387466909,-18.69101346912122,-28.69101391972997,-36.69101428021696,-24.69101373948647,-19.691013514182092,-24.69101373948647,-40.69101446046046,-30.691014009851713,-31.69101405491259,-38.69101437033872,-20.691013559242965,-42.69101455058222,-34.69101419009521,-34.69101419009521,-27.69101387466909,-21.69101360430384,-42.69101455058222,-40.69101446046046,-42.69101455058222,-30.691014009851713,-18.69101346912122,-35.69101423515608,-22.69101364936472,-26.691013829608217,-40.69101446046046,-30.691014009851713,-35.69101423515608,-38.69101437033872,-41.691014505521345,-34.69101419009521,-32.691014099973465,-18.69101346912122,-36.69101428021696,-32.691014099973465,-20.691013559242965,-21.69101360430384,-39.691014415399586,-18.69101346912122,-38.69101437033872,-25.69101378454734,-28.69101391972997,-23.691013694425592,-17.691013424060344,-29.691013964790844,-40.69101446046046,-22.69101364936472,-27.69101387466909,-34.69101419009521,-39.691014415399586,-21.69101360430384,-31.69101405491259,-24.69101373948647,-33.69101414503434,-17.691013424060344,-41.691014505521345,-27.69101387466909,-29.691013964790844,-17.691013424060344,-41.691014505521345,-38.69101437033872,-23.691013694425592,-27.69101387466909,-42.69101455058222,-35.69101423515608,-39.691014415399586,-39.691014415399586,-30.691014009851713,-30.691014009851713,-19.691013514182092,-25.69101378454734,-38.69101437033872,-25.69101378454734,-41.691014505521345,-32.691014099973465,-18.69101346912122,-37.691014325277834,-39.691014415399586,-28.69101391972997,-29.691013964790844,-40.69101446046046,-39.691014415399586,-27.69101387466909,-35.69101423515608,-34.69101419009521,-41.691014505521345,-29.691013964790844,-33.69101414503434,-34.69101419009521,-37.691014325277834,-42.69101455058222,-40.69101446046046,-22.69101364936472,-39.691014415399586,-34.69101419009521,-30.691014009851713,-38.69101437033872,-28.69101391972997,-41.691014505521345,-33.69101414503434,-36.69101428021696,-17.691013424060344,-32.691014099973465,-22.69101364936472,-18.69101346912122,-40.69101446046046,-21.69101360430384,-17.691013424060344,-24.69101373948647,-36.69101428021696,-26.691013829608217,-35.69101423515608,-22.69101364936472,-36.69101428021696,-33.69101414503434,-40.69101446046046,-33.69101414503434,-36.69101428021696,-18.69101346912122,-32.691014099973465,-23.691013694425592,-36.69101428021696,-36.69101428021696,-30.691014009851713,-40.69101446046046,-23.691013694425592,-22.69101364936472,-41.691014505521345,-34.69101419009521,-39.691014415399586,-22.69101364936472,-33.69101414503434,-19.691013514182092,-24.69101373948647,-18.69101346912122,-34.69101419009521,-28.69101391972997,-40.69101446046046,-29.691013964790844,-38.69101437033872,-32.691014099973465,-39.691014415399586,-26.691013829608217,-40.69101446046046,-17.691013424060344,-38.69101437033872,-21.69101360430384,-32.691014099973465,-37.691014325277834,-21.69101360430384,-34.69101419009521,-30.691014009851713,-17.691013424060344,-17.691013424060344,-19.691013514182092,-34.69101419009521,-25.69101378454734,-21.69101360430384,-29.691013964790844,-27.69101387466909,-35.69101423515608,-37.691014325277834,-31.69101405491259,-38.69101437033872,-34.69101419009521,-26.691013829608217,-28.69101391972997,-34.69101419009521,-38.69101437033872,-24.69101373948647,-42.69101455058222,-26.691013829608217,-39.691014415399586,-22.69101364936472,-29.691013964790844,-34.69101419009521,-29.691013964790844,-26.691013829608217,-31.69101405491259,-40.69101446046046,-21.69101360430384,-21.69101360430384,-32.691014099973465,-41.691014505521345,-34.69101419009521,-37.691014325277834,-23.691013694425592,-22.69101364936472,-29.691013964790844,-30.691014009851713,-29.691013964790844,-29.691013964790844,-36.69101428021696,-40.69101446046046,-28.69101391972997,-17.691013424060344,-33.69101414503434,-21.69101360430384,-19.691013514182092,-42.69101455058222,-39.691014415399586,-37.691014325277834,-31.69101405491259,-25.69101378454734,-22.69101364936472,-32.691014099973465,-19.691013514182092,-42.69101455058222,-35.69101423515608,-31.69101405491259,-34.69101419009521,-29.691013964790844,-39.691014415399586,-31.69101405491259,-38.69101437033872,-35.69101423515608,-36.69101428021696,-33.69101414503434,-20.691013559242965,-35.69101423515608,-28.69101391972997,-34.69101419009521,-40.69101446046046,-33.69101414503434,-20.691013559242965,-17.691013424060344,-39.691014415399586,-19.691013514182092,-31.69101405491259,-34.69101419009521,-32.691014099973465,-38.69101437033872,-30.691014009851713,-17.691013424060344,-27.69101387466909,-27.69101387466909,-18.69101346912122,-23.691013694425592,-26.691013829608217,-28.69101391972997,-33.69101414503434,-38.69101437033872,-28.69101391972997,-23.691013694425592,-35.69101423515608,-18.69101346912122,-27.69101387466909,-36.69101428021696,-38.69101437033872,-34.69101419009521,-36.69101428021696,-19.691013514182092,-20.691013559242965,-34.69101419009521,-19.691013514182092,-26.691013829608217,-34.69101419009521,-31.69101405491259,-39.691014415399586,-39.691014415399586,-20.691013559242965,-33.69101414503434,-26.691013829608217,-22.69101364936472,-38.69101437033872,-23.691013694425592,-18.69101346912122,-42.69101455058222,-42.69101455058222,-39.691014415399586,-41.691014505521345,-19.691013514182092,-24.69101373948647,-18.69101346912122,-24.69101373948647,-34.69101419009521,-17.691013424060344,-36.69101428021696,-27.69101387466909,-35.69101423515608,-24.69101373948647,-38.69101437033872,-39.691014415399586,-39.691014415399586,-37.691014325277834,-38.69101437033872,-33.69101414503434,-37.691014325277834,-25.69101378454734,-32.691014099973465,-42.69101455058222,-19.691013514182092,-38.69101437033872,-17.691013424060344,-35.69101423515608,-23.691013694425592,-25.69101378454734,-33.69101414503434,-30.691014009851713,-28.69101391972997,-41.691014505521345,-17.691013424060344,-23.691013694425592,-27.69101387466909,-36.69101428021696,-32.691014099973465,-33.69101414503434,-36.69101428021696,-41.691014505521345,-39.691014415399586,-35.69101423515608,-41.691014505521345,-35.69101423515608,-22.69101364936472,-33.69101414503434,-35.69101423515608,-21.69101360430384,-37.691014325277834,-21.69101360430384,-32.691014099973465,-34.69101419009521,-40.69101446046046,-30.691014009851713,-34.69101419009521,-24.69101373948647,-29.691013964790844,-17.691013424060344,-23.691013694425592,-37.691014325277834,-30.691014009851713,-29.691013964790844,-33.69101414503434,-41.691014505521345,-40.69101446046046,-19.691013514182092,-33.69101414503434,-42.69101455058222,-29.691013964790844,-40.69101446046046,-37.691014325277834,-34.69101419009521,-34.69101419009521,-31.69101405491259,-20.691013559242965,-20.691013559242965,-40.69101446046046,-36.69101428021696,-30.691014009851713,-37.691014325277834,-27.69101387466909,-29.691013964790844,-35.69101423515608,-27.69101387466909,-25.69101378454734,-36.69101428021696,-27.69101387466909,-36.69101428021696,-27.69101387466909,-41.691014505521345,-25.69101378454734,-24.69101373948647,-33.69101414503434,-27.69101387466909,-41.691014505521345,-34.69101419009521,-32.691014099973465,-31.69101405491259,-28.69101391972997,-30.691014009851713,-36.69101428021696,-39.691014415399586,-39.691014415399586,-32.691014099973465,-41.691014505521345,-30.691014009851713,-34.69101419009521,-38.69101437033872,-23.691013694425592,-29.691013964790844,-40.69101446046046,-42.69101455058222,-34.69101419009521,-22.69101364936472,-31.69101405491259,-37.691014325277834,-18.69101346912122,-39.691014415399586,-37.691014325277834,-31.69101405491259,-28.69101391972997,-25.69101378454734,-26.691013829608217,-42.69101455058222,-28.69101391972997,-31.69101405491259,-30.691014009851713,-42.69101455058222,-27.69101387466909,-28.69101391972997,-22.69101364936472,-31.69101405491259,-32.691014099973465,-26.691013829608217,-18.69101346912122,-22.69101364936472,-33.69101414503434,-27.69101387466909,-17.691013424060344,-19.691013514182092,-38.69101437033872,-30.691014009851713,-30.691014009851713,-34.69101419009521,-42.69101455058222,-28.69101391972997,-40.69101446046046,-33.69101414503434,-26.691013829608217,-33.69101414503434,-40.69101446046046,-38.69101437033872,-26.691013829608217,-33.69101414503434,-23.691013694425592,-23.691013694425592,-30.691014009851713,-23.691013694425592,-35.69101423515608,-33.69101414503434,-42.69101455058222,-42.69101455058222,-23.691013694425592,-41.691014505521345,-25.69101378454734,-37.691014325277834,-41.691014505521345,-36.69101428021696,-20.691013559242965,-36.69101428021696,-38.69101437033872,-21.69101360430384,-41.691014505521345,-35.69101423515608,-39.691014415399586,-31.69101405491259,-26.691013829608217,-28.69101391972997,-28.69101391972997,-31.69101405491259,-24.69101373948647,-35.69101423515608,-40.69101446046046,-17.691013424060344,-37.691014325277834,-36.69101428021696,-18.69101346912122,-32.691014099973465,-39.691014415399586,-37.691014325277834,-37.691014325277834,-41.691014505521345,-38.69101437033872,-41.691014505521345,-32.691014099973465,-42.69101455058222,-34.69101419009521,-17.691013424060344,-26.691013829608217,-28.69101391972997,-41.691014505521345,-42.69101455058222,-37.691014325277834,-31.69101405491259,-38.69101437033872,-41.691014505521345,-21.69101360430384,-37.691014325277834,-19.691013514182092,-33.69101414503434,-28.69101391972997,-20.691013559242965,-37.691014325277834,-35.69101423515608,-37.691014325277834,-33.69101414503434,-41.691014505521345,-29.691013964790844,-31.69101405491259,-28.69101391972997,-39.691014415399586,-40.69101446046046,-34.69101419009521,-22.69101364936472,-18.69101346912122,-41.691014505521345,-41.691014505521345,-38.69101437033872,-28.69101391972997,-36.69101428021696,-37.691014325277834,-37.691014325277834,-34.69101419009521,-35.69101423515608,-30.691014009851713,-27.69101387466909,-42.69101455058222,-31.69101405491259,-39.691014415399586,-39.691014415399586,-21.69101360430384,-41.691014505521345,-39.691014415399586,-40.69101446046046,-36.69101428021696,-42.69101455058222,-27.69101387466909,-42.69101455058222,-25.69101378454734,-26.691013829608217,-27.69101387466909,-42.69101455058222,-41.691014505521345,-21.69101360430384,-18.69101346912122,-19.691013514182092,-20.691013559242965,-40.69101446046046,-26.691013829608217,-31.69101405491259,-33.69101414503434,-41.691014505521345,-41.691014505521345,-25.69101378454734,-26.691013829608217,-37.691014325277834,-28.69101391972997,-23.691013694425592,-21.69101360430384,-35.69101423515608,-38.69101437033872,-38.69101437033872,-35.69101423515608,-35.69101423515608,-20.691013559242965,-17.691013424060344,-40.69101446046046,-40.69101446046046,-29.691013964790844,-31.69101405491259,-40.69101446046046,-41.691014505521345,-29.691013964790844,-19.691013514182092,-35.69101423515608,-41.691014505521345,-38.69101437033872,-21.69101360430384,-29.691013964790844,-40.69101446046046,-18.69101346912122,-31.69101405491259,-20.691013559242965,-22.69101364936472,-37.691014325277834,-19.691013514182092,-38.69101437033872,-38.69101437033872,-33.69101414503434,-34.69101419009521,-32.691014099973465,-24.69101373948647,-37.691014325277834,-27.69101387466909,-40.69101446046046,-32.691014099973465,-37.691014325277834,-39.691014415399586,-36.69101428021696,-41.691014505521345,-32.691014099973465,-21.69101360430384,-31.69101405491259,-21.69101360430384,-31.69101405491259,-39.691014415399586,-26.691013829608217,-29.691013964790844,-32.691014099973465,-35.69101423515608,-30.691014009851713,-18.69101346912122,-29.691013964790844,-23.691013694425592,-28.69101391972997,-29.691013964790844,-41.691014505521345,-41.691014505521345,-32.691014099973465,-36.69101428021696,-35.69101423515608,-38.69101437033872,-41.691014505521345,-32.691014099973465,-41.691014505521345,-40.69101446046046,-31.69101405491259,-40.69101446046046,-18.69101346912122,-26.691013829608217,-41.691014505521345,-40.69101446046046,-39.691014415399586,-41.691014505521345,-25.69101378454734,-40.69101446046046,-38.69101437033872,-27.69101387466909,-40.69101446046046,-38.69101437033872,-17.691013424060344,-17.691013424060344,-36.69101428021696,-39.691014415399586,-33.69101414503434,-30.691014009851713,-33.69101414503434,-23.691013694425592,-38.69101437033872,-37.691014325277834],\"xaxis\":\"x\",\"y\":[-0.008977439454382577,-0.011613844287109997,-0.009298485380879096,-0.01581346790733396,0.02209627598826184,0.02367709540620361,0.009754001343322695,-0.012795591489846754,-0.00781577164076764,-0.021507448096246516,0.0056426260059134455,-0.022900023241086802,0.000035909393156957936,0.018290360577834,0.0014870053373814316,0.0004198213974352406,0.00004810483417727652,0.00026833036221576384,-0.00809778165425639,-0.0014283488361739607,-0.0013495729377526557,-0.012506159750676977,0.01098220684129201,-0.007815883208975189,0.00008603245909983606,0.011415930042868443,-0.004887848448628164,0.00964592304530055,0.0001597494112342163,0.00929530281375521,-0.019101191942018703,-0.0030713956804394506,0.009955786673477246,-0.016001213316324814,0.013225212849517302,0.03511662590928751,-0.005186161305177444,0.005628592771902257,0.008425410579346983,0.025932788661150577,-0.024259584943691424,-0.021194816816795796,-0.02324402215902241,0.0013755729125797145,-0.03339095476765867,0.007016637066513776,0.017146193731750522,-0.0035887839828308843,0.006749094338288635,-0.013366186683846848,-0.012196625760420486,-0.041298942772171526,-0.015534207356536973,-0.0046683503097447385,0.00638599544937996,-0.00437267452462505,0.009145623964562505,0.011299724653594525,-0.002045204091233446,-0.019277768526674025,0.03496682975572399,-0.014554444230680485,0.0052120199853410345,-0.01774032730258311,-0.005672767378453217,-0.011362884127580103,-0.0006071527157485521,-0.0023488076059532364,0.004806120231394416,0.0003688579142292921,-0.008352730761714323,-0.005875875268839908,0.037269389916184524,0.00949580295520201,-0.003820828843156145,-0.006874661764637194,-0.008663007115941515,-0.014280405453822548,0.012969930327184074,-0.010580251249072237,0.006586257366964253,-0.019276747094157505,0.009509542626905202,-0.01257489468034492,0.016344272190848948,-0.007679274454261465,0.0018917556792524461,0.024481783953916352,0.013320786932064987,-0.00776557159191368,0.007492139602724218,-0.0013556585540216801,-0.01191941348015739,-0.002623481075685372,0.03321055395062954,0.0010804034387397502,-0.020689977263691508,-0.01433891195198768,-0.010728117397346134,0.016709330333163692,-0.019637225983970313,0.005869690136514323,0.007005426452920356,-0.0001557352321786958,-0.02100694174589792,0.020221909359637892,0.0008286466760223554,0.029160697231982027,0.00685006167749346,0.01781511495654679,0.005892348519458523,0.005114883445993943,-0.005152477166952556,0.0022985852969650503,0.004561828260487537,-0.014841931483018307,0.016812108798947543,0.0077313813945359055,0.006042413669949219,-0.0408261089284527,0.025012329945713542,0.04814175980640621,0.010202632240767784,0.014903029499530514,0.008820049720271483,-0.007899111586953327,0.0073516793514102905,-0.041495969352561626,0.007612423565592866,-0.008476960922954498,0.0023391956620532764,0.0003449778711915713,0.0010148662993786077,-0.002495316418680349,0.005177967244972582,-0.01155167057315427,-0.030057830434974193,0.010605410145572454,-0.018090196774640365,-0.010291550596668449,0.019677249667014805,0.008298338447714536,-0.007996711921355235,0.02128058982269957,0.0031597834353268954,-0.032129461606919464,0.00890757355432803,0.02386683421368997,-0.004888093784855009,-0.01704420489000182,-0.00753804038572541,-0.003372079671042403,0.00678675979929341,-0.005092504568787096,-0.01431139174708707,0.010607506980822818,-0.012642809873921999,0.02778046006502179,0.026855753193813607,0.000676012104984845,0.0029813147587885104,0.014961883562341701,-0.013499099350254081,0.0019379821653749143,0.017669060127985928,-0.014791352405965071,-0.01812507994855709,0.004010343997773256,0.001075900679859488,0.018480458603277555,0.007300436828975919,-0.013957035745256587,-0.013598510224540748,-0.010883130964145633,0.010139465515594063,-0.005026024710673698,-0.035939390683206854,0.0059446893950473485,0.02426476716937156,0.013026288049309474,0.007734099984991717,0.027575282718007386,0.0034878909614547734,0.011102461972845902,0.004397627212079255,-0.0066973695296007885,-0.001374282789184992,-0.000020602464956431856,-0.014995705688800319,-0.02835061274347955,0.001879825464391354,0.0009396089327447339,-0.014596666972754191,0.0052356413752322134,-0.019705003429365053,0.023878384955998633,0.044410772868995266,-0.019070243187665398,-0.015016006964209034,0.009056595837069518,-0.012334127142169955,0.020038591550025846,0.0005398339152932228,0.023020264805738887,-0.0003110916949397864,-0.04238588366813233,-0.0004381500596704174,-0.009571180724582122,-0.004597200206327111,-0.017826568238771746,0.014833162436452104,0.017403353747221406,-0.012197714048650013,-0.024602873109923873,-0.01887398424089351,9.661055818817314e-6,0.010814275800968783,-0.003650824785155416,0.012645863105756869,-0.012929218219363273,0.0018056381268418175,0.00351557071400508,0.0012782458473835948,-0.008056985996635771,0.0014725856468987646,-0.02227275758460011,0.004489173278738471,-0.03196143399985489,0.007213413585769624,-0.0029810626084708974,0.00005220030696295886,-0.047253448939261186,0.030579124448004143,-0.019158105664324004,-0.014492659803450412,0.006023752764360524,-0.004172936204084724,-0.01638734785375635,-0.015540911880456136,-0.009990496383485563,0.0011114119787609823,0.027765305421518078,0.010688722861503226,0.013465568127620122,0.0015023944829749608,0.02233858840568559,-0.03819009408734203,0.017813100241292134,0.0018634000261533192,-0.009796628500132099,0.015012360286095323,-0.017772987162990982,-0.0205103169569939,-0.01600815204420629,0.01514078634922005,-0.00012748725885543865,-0.006842460665289377,-0.0047043108535541715,0.00830276600276074,-0.02159964211262534,0.0011054945166495249,0.02332795947882036,0.00957435615406826,-0.00703377429660398,-0.010938930989290507,-0.002197699551773811,0.03673931124756981,-0.010607756070530105,-0.019992395103588037,-0.014819081440509786,0.0120206414041495,0.0010930902547693013,-0.007415673822140474,0.003812919981497413,0.004349239635774626,0.019927668534137702,0.005070185218934834,-0.014960656202810316,-0.010733361340232644,-0.01420146677749633,0.015066788383276151,-0.010468125256718275,0.0039553810339030175,-0.0035520027462863646,-0.0050387804212670435,0.009016043750101666,0.021579696043042565,0.019597001123850547,-0.02311193579760718,0.008679048690083215,0.01840949674039273,0.00795784648885226,0.017396633480757474,-0.0029293719097382037,0.001912008383726991,-0.019358357325238242,-0.001513529742130466,-0.013659364027855064,0.015160873136147541,-0.010546749856612886,-0.013518841398039388,0.014351921478122552,-0.019391052245990057,0.0057379544065176286,0.007090796484386505,-0.03281774937534297,-0.0000624730010631153,0.0035762148308383975,0.000522982393799627,0.014828391026263498,-0.016675206106413824,-0.0024401174341563817,0.011874218636036982,-0.006235778576828824,0.02983111384784528,-0.0021467751047296764,-0.01821880398326777,0.005330745940656186,-0.03233664544117822,0.004510390755375517,0.01737538238082201,-0.004947594093386783,-0.003855231897398672,0.0055727387681438,-0.008701710028131342,-0.002355939462510281,-0.020234044617386676,-0.009173193172546406,0.004709159581058484,0.01884508644403647,-0.0034559392909585093,-0.009055265160202303,0.03063537434567436,0.0173744678441933,-0.026705927783577395,0.0013514422456231063,-0.00972101778883232,-0.0019017428895655411,-0.013406362916562454,0.002112713805477295,0.008600554030968781,0.011644526992429436,0.02731138473272973,0.02176502850540769,-0.02803953596307232,-0.016347827578220626,-0.0014692597804160455,-0.009190988163537778,0.0020615282860726096,-0.008058602890802548,0.01819685263122966,-0.02828995054288062,0.023129912522652448,-0.0031598026728572115,0.0009774090562620383,-0.024897665755974015,-0.024547788499463808,-0.008543159003930954,-0.0000563082886776674,0.03151153876484393,-0.010492480656467426,-0.004054289648763086,0.002169834831012927,0.0007181618333142253,0.00038251653832571366,-0.01208183679692548,-0.008160069492140098,0.006525174804062602,-0.02860976718966931,-0.0074074245013870405,0.009609464607277709,-0.021129652206565337,-0.00084912842863723,0.004738778258936884,-0.0015545245228406627,-0.012237121220309599,0.03380687318653458,0.014451742727477047,-0.010616996897138301,-0.03070460726722953,-0.033866386144737394,-0.010962280037728485,-0.032984808151388496,0.012946361136883307,0.012660697424292388,-0.008274043609729791,-0.004832487388003305,0.028499973769804055,-0.01293237679888073,-0.024128157074076492,0.009921451475817729,0.006267318244561676,-0.012158391062393348,0.004289368753788573,-0.02280281179340296,-0.008675568917208193,0.008265832031111468,0.009824314579947457,-0.02820943832192504,-0.012369500710097145,0.00905154187286015,-0.0031706100473923924,0.021925641721596664,0.029006041891761196,0.023920980816928512,-0.02358374195364363,0.01080709844877625,0.002739487645648211,0.019844112053395722,0.008177589025858386,0.012910926223537667,0.009237551242793853,0.021763289082296095,0.0018602988802048882,-0.010649328175447205,0.006816555687526854,0.008493889710747705,0.001872987953046197,0.009168164957745483,-0.00914746058483866,-0.016612472508517575,0.007011536909243593,0.0273196822751961,0.0019578191360911704,0.01130828202545548,-0.0034881202927717313,0.0056001100357222725,0.017287080147625374,-0.006279395719475643,-0.0031661626723594365,-0.007747948736994563,-0.010344239879749514,0.0008605421750033614,0.001155435809438649,-0.019619883538367324,-0.02764388079494202,-0.011823578262770668,0.02630079962089225,0.015756807895096533,0.019648404953244273,-0.007480497802364318,-0.039403679345701395,-0.008609098822729477,-0.006852179547737867,0.008393066649373625,-0.012329361082989829,0.00882888733291991,-0.022475241056811306,-0.008008958110252469,0.014056215835036905,-0.005445212063632851,0.0006333080427902648,-0.02010960390894698,-0.007360528396184552,-0.007262440601219157,0.015612014609428019,0.018614900477481128,0.0188071436259851,0.0026200879331896203,-0.009754235701282947,0.008273856414400696,-0.007945459765113043,0.016277201281365027,0.0011857889953387308,-0.004989679035125224,0.020233065864090707,0.016572980758823404,0.001546012839443551,0.0047558567728867894,0.0014187004301217303,0.026856803195693446,-0.012089251176805274,0.011059204468815783,-0.03519336270601413,0.01129982561747099,0.013112424629009026,-0.017448557121794387,0.01250694664568929,-0.004085746406426012,-0.004120128117264411,-0.004062886425392795,0.004193201162176476,-0.0092448632510161,-0.002610643235947262,-0.0041067311318542495,-0.008834765993374597,0.009125839557587527,0.0066185467742742735,0.01289239981748849,-0.01937098053732274,0.007005595735097173,0.005900314126781368,0.006722085841845428,-0.014644639379437531,-0.007178081751809429,0.001424293177766494,-0.0007050290560030917,0.000874958817189443,0.005308257794572182,-0.00976658473275735,-0.008034346054880152,0.01306290141040598,0.01051810975195807,-0.020492925983323296,-0.016089119074704047,-0.009025723254478039,-0.009479666727647055,0.013363459276855429,-0.007575239403690384,0.004281094671982247,-0.013519774007913973,0.015766258421317268,0.008820479129092717,0.008565372268020463,-0.020172322071364265,0.004791681403416114,-0.03197423786269891,0.019042101389986903,-0.028734077668288564,0.01677120215809697,-0.03283270723395149,0.026528979867309916,0.009720929143308816,-0.014824573232699461,0.010048484288709598,-0.02151276024428341,0.020802301562596603,-0.011089550318549128,-0.010486404987535284,0.00566128866201927,-0.0306647390342381,0.00039441870302204835,0.006939776828904715,-0.002116267626296271,-0.029988704053359183,0.0031996964837366533,-0.002905512242471029,0.0030424103559515137,0.0023206491447646314,0.021601418147821735,0.0158703840591049,0.0015995249866211504,-0.01882040748150797,-0.015923535848989707,0.00758338480571411,-0.011581581083334357,-0.013233323871079523,0.026983076376367297,0.012290688939411166,0.01670789022475899,-0.03692447880030066,-0.0188785213794733,0.022158223109487844,-0.012083483784821731,-0.015619715706167324,-0.01428846748364948,-0.0019715594061356875,-0.01612640137166799,0.011061006590883717,-0.019389184099948435,0.024980920085327412,0.022782484432339836,0.00013014077645758375,-0.016143416942192377,-0.013711272673135376,-0.013470104088094202,-0.02811012071976856,-0.02150878387361251,0.004575188863503216,-0.010913987821145029,0.0068264988061812835,0.014596993544340856,0.008199168742278613,0.02813124134714285,-0.015947715283269846,-0.015092988650273611,0.0017215456218359357,0.012165871028470554,0.007280755615708116,0.017036576948155555,0.033671895777194726,-0.0019005345928878848,-0.006272329186786472,0.0022336937863493755,-0.0033259816426162406,-0.00035118650410862303,0.003201612194737887,0.024513331523520424,0.0031290534700079567,-0.0006977385951484112,0.01724278864906187,0.0012701765761691285,-0.014601875685714085,0.03667425624637469,-0.02865650009522704,-0.002967567531454032,-0.007750205721603532,-0.009310616187371409,0.021769569333917965,-0.028409197696897665,0.010425847452287145,0.029306480289169146,0.0066334127096129205,-0.02740353236947343,0.0043688761733567515,-0.02468994240503736,0.030362258546378754,-0.020467782789852063,-0.011656998626854688,-0.01515883593137244,-0.01390606293775553,0.0024764127018328335,-0.030255344894210667,0.0059712478531083356,0.006769988263116249,-0.024255222327421517,0.00028898690641161864,0.011510761791106968,-0.0008186639610955435,0.0012489177741572943,-0.025859971927045214,0.005594477503819656,-0.005376185903715913,0.029230579426413182,-0.012941359329002138,0.0011934684495414972,-0.018871766858470345,-0.00012805027566944414,0.010855528860479463,0.000359977388031868,-0.022260381129222618,0.0004968149086731284,-0.027594644840544764,-0.006231502568687717,-0.020471101637717322,-0.007544100643180932,-0.0024634853970425634,-0.006428898194602173,0.02524594735096821,-0.02637706642333229,-0.01615300727077892,-0.016015255446294268,0.019496445923061212,0.014200026712127283,-0.008060014328130017,-0.010687308061313301,0.005945214843259909,-0.009838009327935484,0.0074506598211561935,-0.005451782172299641,0.01822822281099415,0.00777609699283952,-0.017955406900387078,-0.019418890818572402,-0.0005504309160282736,-0.0036199334542694733,-0.0025661426632786213,0.010761577964830835,-0.00939026838242754,-0.018764404105284602,-0.013363929498840596,-0.019919770319532605,-0.034107403790679384,0.0020581588824120853,-0.007227623462861538,-0.008197600145354056,-0.0013261233874287527,0.002223707473406474,0.005841298734127771,-0.009341099395627921,-0.013744435806161968,-0.019329214908764117,0.008156830158103296,0.021952639929539084,-0.003013555501003549,-0.003924162518751702,-0.0025479859932051934,-0.02315532779633534,0.013757932062419282,-0.006508648450127618,0.022103786616414732,0.01647108223231013,0.010288081275920024,0.02966714013908369,0.0065589869264296155,-0.005560761814017287,-0.00029722434863006526,-0.013654974022660651,0.00023646820483828022,-0.009558410694453182,-0.04109914441128076,0.00035143873335365756,0.008942022364365166,-0.010300188660504606,0.0002171983625852244,-0.009104362347245336,-0.02238311809595221,0.009070839944709749,-0.01779448803777103,0.017823269180075697,0.019771927766944215,0.006879591931966115,-0.0006793857819297655,0.001199363053818458,-0.006688296504708152,-0.01035506179338883,-0.01699125245589108,0.009536919796234673,-0.03324769900585173,0.008067207638393624,0.009560864171023737,-0.014562280286560297,-0.004515976317385837,0.013122941720784546,0.008093739091053657,0.007122929234589524,0.0003846776498301812,-0.018554849269550342,0.0220540637040252,-0.003848455276392038,-0.02370373817431468,-0.011170401079201956,-0.019537908707480824,0.0288135778630985,0.00032027601413833377,-0.0007943706319580428,0.019641704659418866,-0.010380969060969147,-0.01159177613742975,-0.01949158196724675,-0.02520520280844722,0.02322740060249646,0.0075611535496655285,0.012858564035931143,-0.0032454649758114334,-0.0007357269756335186,-0.0051548741041473455,0.006603588518943611,-0.02237806788098776,0.0005853297699117035,-0.00002286034527926751,0.0010490696680823717,-0.03301959063835004,-0.013325046170507138,0.017072105202057906,-0.01802602156638117,0.013146087481578287,-0.005219517026413754,0.003080377832366171,0.013107701665843062,0.010976860131576751,-0.008429069688167137,0.01354769439748039,-0.004648316566832618,-0.026225156899137833,0.02419293375860791,0.012924803397215164,0.001126247200190329,-0.016680327176081994,0.0022968173024835066,-0.035370137566945244,-0.01178018509505073,0.006939407579644676,0.02192902959683087,-0.03835726078545627,-0.010398947866752774,-0.01286864437567869,0.0006088625584331459,-0.001813521070293187,-0.004992041264326197,-0.024188941294368577,0.00781941873309744,0.011875820115924472,-0.0023124870342541935,-0.016077311370994742,0.028533376189884732,0.01800263140056729,0.02398993307060195,-0.040999437070211045,-0.002115025230110592,0.020408858199764346,0.016984285916424115,-0.0053572834708531265,-0.0063118826384927955,0.010538393610975172,-0.0040902428005608815,0.026393334194705253,0.013477373775589947,-0.0038461072231771596,-0.01842410465559396,0.011402983630164945,0.017800443351443006,-0.0013458160365756727,-0.008798033476898927,0.013639548291083185,-0.022180290155441054,-0.014286740084658155,-0.026423620038723176,-0.02464027303255959,-0.022123586162924088,-0.0025683469372726414,0.00322535197407087,-0.006909312004345709,0.034258036145250324,0.01034240315495324,-0.010547381006216794,-0.02660833789425491,0.011589356440210129,0.0025246094809783545,-0.000627499077866404,-0.00992455519731554,0.02235281534120996,0.005056246160486067,0.016745559101879297,0.0018611349061903651,-0.018763007852985788,0.0004441921846306714,-0.025774764442435635,0.02031487536800915,-0.026194911039955172,-0.009826395683952828,0.026949144827966467,-0.003400785751375996,-0.0024794605794780464,0.007721643031919899,-0.008901644543353744,0.0010390817222593986,0.01417416201364338,-0.02205039708713723,-0.002600010980615691,0.0026822051389963656,0.021032652266967884,-0.020509747636224773,0.0010668909391937668,0.0036447885556051478,-0.005518646650334097,0.001699524321952927,0.0294794237769385,-0.006684137938572266,0.0318417471513766,0.01535708697455475,-0.011953556198200984,-0.008097233290703712,0.005939883218201348,0.002259939037318845,0.007429024480479238,0.014556492306327449,-0.006888133374906233,0.015585729583000495,0.008767951793821506,0.029089510666028967,0.032523870229437674,-0.010427393800986303,-0.002312016942836508,-0.009910686221571015,-0.003539272289944953,-0.023239191040748508,0.00015264403856794984,-0.013172748686444392,0.008936756284868853,-0.0035498677785092713,-0.00021171622728621424,0.0004302565911360019,-0.0031875443378907224,0.004191580170163958,-0.023177245569378713,-0.0094544728593362,0.003389045344625333,-0.0015690212621826318,0.011582646782158292,0.0062550268456764025,0.020407596577688855,0.005386289620791801,-0.028788022898927408,0.0005279409454428214,-0.016639509155615722,0.04240358517349929,-0.016779795268217584,-0.039707328265864456,0.01258185271639785,0.020353000034528064,-0.010866605750127621,-0.02097142571622752,0.004366548508532785,0.026617757721565088,-0.00801007396163357,-0.008101579601347022,0.0037569473430700755,0.006583129661223821,0.01769180270817622,0.016610963998260186,0.039519356745601565,-0.016705869588668477,0.00420027160465278,-0.03423738970778092,-0.015093704548259795,-0.01729343324725189,0.006158909251849884,0.010476896502778674,0.01922473888131889,0.009484861598678796,0.018542955117098116,-0.002492871121790038,0.02090602570438326,0.002935565043692787,0.02158085463785673,0.013030918215845145,-0.00606576999136383,-0.006974975183934133,-0.014882935338022197,-0.021483018706331913,0.002222840324598614,0.012529513537052256,-0.00946546682511512,0.013401311751700083,0.013881859124777433,-0.007352432034947615,0.009173716101052125,-0.0071017114098121,0.006441547534887768,-0.013757228244149688,0.016883901865978084,0.016373154207331573,0.010053853791917597,-0.016942875323698373,-0.030252978561960308,0.002378835507501667,0.014125519936603877,0.0030642426864964005,0.03327396811448414,-0.0013650409724453273,-0.02384362443970538,0.01876396518397945,-0.0033940636015900856,0.004577115727933677,0.004434278817299201,0.006231362993273198,-0.033049165269908726,0.01498500572619755,0.0019810275359646913,-0.008677937453487486,-0.02313820281344819,-0.01662422990416258,0.02961029344499583,0.002335068770826588,0.007542431908027675,0.002742707267745793,-0.02217213364976432,-0.0130503343280649,0.0030496810937540755,0.013198584124962564,0.014512954710762587,0.003359288248072896,-0.013400495635806323,0.03017717974003569,0.03562327258376846,0.0020778184960985662,0.013882994444585338,-0.008430491818987872,0.0011379070850674484,-0.03508616069754225,-0.004993535400544306,0.01509195334965527,-0.011746098967924173,0.0026986974195812295,0.01110142874422518,0.03253556476204813,0.0008523768532514449,-0.010945755998980441,0.0000841657274081764,0.008147844939609078,0.017617510800536064,-0.03013881870100876,0.005896193853128026,0.007389369836299182,0.023445346533191382,0.021384909473934243,0.03792879836154012,-0.015097524033699565,-0.030211456267016424,-0.015071164078055059,-0.009840412484784363,0.01662613386154967,-0.018779259973064174,-0.003750536161214871,-0.01341394062581136,-0.000963149699774212,0.029030211599382252,0.013600235667030364,-0.0018983785848012541,-0.009857962062857906,-0.012367524925912999,0.011136229932755334,-0.0025398787607156612,0.012647798144934426,-0.021206629651895494,-0.005707857347061662,-0.013775703040433022,-0.005149326976079316,0.008281898022967188,-0.013056523358266528,-0.015629020106554398,0.008314203107077587,-0.0015889128015995038,0.003925936354078188,-0.018295366862339627,0.002920064983405639,0.003658675768679794,-0.008200397694746385,-0.002670554606052409,0.005837811240724467,-0.00905289536325597,-0.011767071492208334,0.02147442838480945,-0.0011307759094431416,-0.00930293686451056,-0.0067207020108283255,-0.02326622996373384,0.020207527352072412,0.00039453689062549557,-0.00033940233934457445,-0.004760768492457661,0.00025366194742265397,0.00014197121964205263,0.020150746005410464,0.030469204271837608,0.010379896787881655,-0.0042343145243145305,0.008759609723687363,0.0033887607130283193,0.013025643097106068,0.0025699127092352163,0.018851732187639747,0.009603578747089534,0.006201395136970145,0.017089137572182694,-0.018654319163855012,-0.009845230776501165,-0.0053214784035850995,0.013200875939033229,0.003992023452504979,0.0033320197112034133,0.0003396031514225478,0.01721003407359797,-0.016056842501259532,0.0002915567770651747,0.0009210106554647179,-0.023056317103289696,-0.009061528075441123,0.026289520317318613,-0.0001968175243699522,0.003557555066349232,0.0076695753828478225,-0.025634778985582574,0.01986602712102986,0.0013767113476989285,-0.01599627086651589,0.010347404221773871,0.020623540809154278,-0.018514524938913205,-0.02372094609054525,0.018888569271871276,0.018583808109023686,-0.008864748695073357,-0.016205794785533703,-0.01080077681557657,0.004307750059068191,0.028001439469513115,0.0020274245716114425,0.02100727951220451,0.022112149423495955,0.004233591577669633,0.04319406808690469,0.011064230741039054,-0.010063272299244846,-0.000797674595998454,0.015229685379983555,0.015289956469526429,-0.0023340105976548888,-0.011837880922803355,-0.015163025756000655,-0.016603701537752032,0.0099074475231037,0.007773364760750924,0.014931247837705481,0.016178083849361237,0.03119596545085035,0.01424949828769636,-0.001407426800169884,-0.004537030733492629,0.008007869682825033,-0.01264673554591327,-0.05083701411441559,0.003278676007709107,0.008816945403626644,0.0058847003547123945,-0.004850567653466223,0.006064754493000651,0.004363737670042749,0.018276971247617412,0.021363044271938983,0.0019017136220056679,-0.01372489486260063,-0.012510854951737685,0.033863213155558916,0.007429001086631533,-0.009936339998055087,0.007562747312820996,-0.005284196536690268,0.013157303681010216,-0.011926569477779222,0.016068104683306574,0.011847105137532019,-0.013346154073589503,0.010582890558833373,0.006216092546012975,0.017517312459423527,0.02447581949781145,0.008828905991146399,-0.003287196265303258,-0.01213878316808621,0.008886572143042224,-0.0221987266894101,-0.003926822667925448,-0.006801500461506768,-0.033286140772027024,0.0002545123709232834,0.02349230395753433,0.009136126846871147,-0.02447227871120896,0.013030154158324819,0.005244647851709784,0.006590950963978894,0.00624694883518702,0.004539150129806224,0.007321337564989368,0.01999054200908479,-0.026585758814553155,0.017846287347819265,0.018421533603674628,0.017259390374667727,0.000970326523954585,-0.0031399065382615456,0.0001945209181091322,-0.0060081186956535615,-0.03551070899196797,-0.005362341685957524,0.02309717025299984,0.007942089410031002,-0.017238626689370616,0.0019602534763982628,0.027921223592699447,0.02422085374459945,-0.009778072799792736,-0.01807055040361869,-0.006721024922566578,0.012203616328109195,-0.008427134504625119,0.004477898791997045,-0.011643354136084067,0.0045096516396401715,-0.015577986041863194,0.03780864152095485,0.005056529974416597,-0.01482141651573834,-0.013666791442899562,0.02036982565824452,0.007106913359720097,0.020005334101537715,-0.008123377367016812,0.016806848570521286,-0.03040389568062943,0.01314055994138697,0.006320433437166508,-0.014323865886864694,-0.042215749591888736,0.0028842168116682532,-0.029522500890583198,-0.013927270245443006,-0.028104277524507996,-0.03356744630131714,0.005705656628306208,-0.021551631482822964,0.014250261989830095,0.014058841644299304,0.01612623929942425,0.024527403650933113,0.002010958977032957,-0.017104125328725683,-0.0106366710575199,0.03433737971533319,0.029990405258839208,0.0032494386030259763,-0.0009538032118265514,0.0014438266104188037,-0.025870809363089577,-0.013668430177195998,0.011972206012341977,-0.00452012306284144,-0.03509132779947098,0.014033966931460019,-0.01246403423039605,-0.006982720137950589,-0.019605842304647184,0.01956998455800133,-0.002806312405086991,-0.0016507444147414966,0.030178675518530797,0.003941177917692967,-0.0018789257030085718,0.006971764848313851,-0.01051955823190616,0.0005783105451780807,0.012845968751308626,-0.0033974782528440896,-0.0081735547512836,-0.014106851318408402,0.009410224792398955,0.0026909726614880954,0.016478876516061728,0.03299161634435951,0.0008981718511413177,0.005800996555938291,-0.012663084603640688,-0.024092939706797985,0.0001536538918629381,-0.02198388850473098,0.021612759893678116,-0.02011786690865748,-0.008163748976323206,-0.020356849675668573,0.010655013826917765,0.023215002961278076,-0.003988489141767995,-0.004954623235948189,-0.02460958390999127,0.005345866313944082,0.0170395896341959,-0.0124889699562728,0.004217279306172661,-0.009132888839139871,-0.00892486334349452,0.013011849812819722,0.015384789847646952,-0.018823748552972804,-0.011953797948757052,-0.009534293171127072,-0.008919214182977654,0.024735380240692825,0.015122224435458314,-0.016748614045799,-0.016121781941193947,0.005843483521038546,-0.03394906516940048,0.0009681167424264743,-0.02513367446175935,0.01639842972120847,0.007067484540941689,0.00619240594937405,0.006392094684476883,0.016050192321121395,-0.007744866912813606,0.00020756291338430377,0.014287021879830032,0.005699796664120671,0.002224519304398212,-0.005566123563577807,-0.037200231214162945,-0.010595250543786721,-0.0033119858241248364,-0.013119046142903408,-0.003563014832914368,-0.03445787959892955,0.001647864029369551,0.012104780075885661,-0.006089271036403195,0.0014075750006900035,0.024340838699894424,0.034640924107570546,0.03526332531398932,-0.002458121776506193,0.02644719727170616,-0.007886503508063551,-0.0027883117968611764,-0.007010309929645154,0.012830441585727569,0.02177839800088909,-0.009958440417200157,0.0019008210377991547,0.01931719080854357,0.012143561541070111,-0.004277595773224792,0.01224441213225641,-0.018900506051785698,0.014371730351694317,0.02406325424374046,-0.0027726417592166363,0.01665049167922657,0.020187240153413482,-0.023940386933706367,0.014049463695268717,0.00016780342388408878,0.014959414772957527,-0.029043235205481546,0.018872446379611073,0.0007186419087381825,0.02655929766494444,-0.01375420285713446,-0.022081883732763263,-0.002745225528741951,0.027439595002381134,0.02039430516480197,-0.02626751654750191,0.019612127615704637,-0.024694177869944902,0.001283856244212236,-0.018200172966433743,-0.016371527607025968,0.012693786425616232,0.01760433576325545,0.008207553146908684,-0.0068684441016545516,0.005659741779814229,0.0007134954672608785,-0.010709530133926129,-0.022254693932663275,-0.02691269802799226,-0.000027548193443360896,0.010706896395903973,-0.004493765405000558,0.012326448046776954,-0.0037901388435437507,0.011137393487973367,0.0036996872323474283,-0.016122256591183787,-0.002807897063738952,0.009006464426168074,0.021865490965083223,0.021284382431620823,-0.009046473999572015,-0.005006495782536874,0.0030594328427829428,-0.00837930510281571,-0.0034148173627666085,0.021297269939758164,0.0002464840400258851,0.018433045332836264,-0.01409543478414415,0.0066345561704735986,-0.010310241179380501,0.006469228540320763,0.002700077959559801,0.009476643953468334,0.025439357581908732,0.011103239400476373,-0.011516845313412129,-0.01888650221072394,0.020417125391468584,-0.005870996770001774,-0.009171437304265664,0.01800488090830831,-0.009459618546514482,0.011908662600721915,-0.016909137923819775,-0.009799857458063369,-0.02291182242053634,-0.0062542536368904575,0.00045545247673484644,0.027075236148111397,-0.01713670007720293,-0.011471915077805013,-0.004953910951195588,0.0033072405310838556,0.0063551272744824866,0.025964411575798665,0.018647062578247015,-0.026186144851801804,0.0005799434229861754,-0.007074644044335963,-0.003378754713594231,0.005921632732927941,0.0008614482931162558,0.006333782213075542,-0.001695004542359167,0.009084541802658254,-0.013887542619226097,-0.02168816421939739,0.012057797517271884,0.026846372886389497,-0.00024249681138560687,0.0023080537150099805,0.012834055241754653,0.006099653235939621,-0.031147688710222263,-0.02174539992668361,-0.026517772158188867,-0.007467265462778712,0.0008981199264382756,-0.022867588002610306,-0.0035649011394074033,-0.015793961869776583,0.0006754478953073805,0.01564794900958519,-0.006784474813109107,-0.006254026850380146,-0.016413776625297402,0.01828423486677377,-0.0011638898403218032,0.02501872996682518,0.002551113783526873,-0.013966657296195879,0.02427396596743188,0.003976179759882002,-0.021121234062896354,-0.011931606086051332,-0.001450803173473824,-0.01964731938943398,-0.024443469920146454,-0.00914549345701764,0.005145849811152405,-0.015480140453365612,0.0008083088059296971,-0.00020194902886384454,-0.006130398002193816,-0.011879448464327468,0.004545705117462261,0.01219578099928062,-0.006951242803326302,0.011216463597066517,-0.00843167808806423,-0.009608014946149325,0.030889540741591868,0.019361748951866705,0.012617762856406848,0.01821903223982668,-0.005456884689570095,0.006952659420854432,0.009411265434672352,0.01848357255488316,-0.007634797922511128,0.004637636704341516,0.004814636714829995,9.1046364316595e-6,0.02720528876495668,0.02117695725859392,0.007049356794034414,-0.030274530167669362,-0.005437152774449313,-0.006323120037025737,0.004141759487196606,0.016135608733415126,-0.0021555906040552106,-0.006390158297098067,0.0092675876687617,0.004792873319665469,0.007399916057705473,-0.007187682707832255,0.008126395100227364,0.016983328056387508,-0.009965247479075966,0.004628206224631025,0.03125872534703461,0.024577905632011177,0.025109576725612627,-0.013738814759364806,-0.0027091588097679273,-0.009071024598901899,0.003168536413259548,-0.0065437132565984435,0.029823861345233283,-0.0284618476715343,0.008925428907235723,0.005322925707108411,-0.005603700639030403,-0.009984048249082056,-0.019907261499969835,0.008953765527974094,0.004229554774049448,0.013900675439345823,-0.01690378912054708,0.00344140883754436,-0.006836481944592869,0.00037687241317864087,-0.02675231704125851,-0.0025048815090925334,-0.015570797116535565,0.03866955782618397,0.002174364879465298,-0.012707482787484613,0.012522635819380611,0.012364673160586512,0.0059844742533481515,-0.031147817652867213,-0.022015504786039794,-0.012885017261471104,-0.006131854903318292,0.00754904146819402,-0.006949310606586341,-0.009121525463333348,0.002874933195436056,0.005688020809369834,0.009526489845752205,-0.007315778618222837,-0.019855697133327375,-0.013709819954408987,0.007803521201947198,-0.00016965857994939495,0.012620363010019913,-0.010439683969175833,0.007048307719786113,0.018515454666838193,-0.02500550928910128,0.010107484827452034,0.027037611477160547,0.00822982670762057,-0.0116675023022132,0.005199296222074624,0.009467283369594248,-0.0001070308054819777,0.011674200856531838,0.0010372833348644677,0.010827774161650015,-0.000898095492447432,0.015637777890713207,-0.02042497727521681,0.004603865186024568,-0.008571239732307006,0.013967638928768908,0.006532886746607668,-0.00944757483792802,0.001024789648884802,0.002969402046812985,-0.007981166172208606,-0.02602096543313426,0.009138718940496511,-0.014490260348572597,0.02648052712220203,-0.002079509126270265,-0.02776562554941274,-0.021981325539554068,0.014343526339839097,0.0061829949999964405,-0.013860147182917039,-0.007888301584607193,-0.018276759862600276,-0.004156547377667445,-0.006479096344510155,0.0076551421142175054,-0.015204497296975625,-0.012610905777940364,-0.015030928186634256,-0.026646570357719685,0.004145523931372936,-0.010753249646755593,-0.03012203168942782,0.0037353522278474414,0.012783308570630304,-0.0036330851055480185,-0.006285852788350249,-0.03936785236865756,0.00814299625662035,0.00895178865241087,0.02328532330191515,-0.0020232985156424517,-0.002454516406249839,0.0017651178069564388,-0.009477016552758028,0.004213859493574338,-0.013757889284544755,0.009568947273878262,-0.008081857889273465,-0.0043969146153367425,-0.009130828938411108,-0.008310977809001415,-0.013500627073095748,0.014162579402633208,0.0012010423006646057,-0.011834261878995968,-0.006888446663094413,0.01497016116442438,-0.007774664551994857,-0.04801862971593183,-0.0030082321629099442,-0.007903147200951179,0.0016851518428958464,-0.038825408362835136,0.011277550386173752,-0.01286813127091197,0.0005428132026427116,-0.0009613554671194959,0.03039172355230538,0.0331796076699285,0.0025951069888739795,0.004760247106185791,-0.008069797876519562,-0.008156205781752334,0.0008584987646011833,0.005407186041811208,0.005865439982703323,-0.013905091928003389,0.020888851230264082,-0.004611398589694717,0.011268431206397578,-0.016249060463482293,-0.00040549493679451957,0.0038352578629466194,0.007850317229548914,0.004442057851304968,0.003987259689537456,0.030729116707564157,0.03512759719388387,-0.01396252982277863,0.020890307681377247,0.027610181561542286,-0.02549397617599628,-0.004323541641164968,-0.01877510339154255,0.006807973525413626,-0.004842096518254971,0.01658813236514735,0.001502335509525168,0.0050042664122359505,0.00517936425651488,2.2497186945458713e-6,-0.016306760535441958,0.0032834157240263897,-0.022508563318754213,0.0016709898069031007,0.0246516635490799,0.0033785449984181895,-0.03738690152001188,-0.008337401722905544,-0.029755835522790083,0.01754483384975008,-0.02982958219112522,-0.008632893492252944,0.008635451766786012,-0.010723966500669764,0.004414985889062991,0.0021229254588870723,-0.010561231604336066,0.0054425511798778525,-0.002707196800302221,0.027080712693693325,0.002927976010626401,-0.0021218359688188865,0.0148506782762424,0.0031948513878695107,0.0077905821316744655,-0.0064025012189286665,0.019382893666397685,-0.00625582114646959,-0.014002793527101612,-0.0037881826572899392,-0.009472979728857961,-0.02156384986702996,0.005728985253652018,-0.0009833960938297037,-0.006828407334614838,-0.004646012977335234,0.013287158221480034,-0.014844505513075416,-0.014559677428384534,-0.009048051025974044,-0.016861581679702642,-0.0018037370771664828,-0.016645125879748257,-0.01701692182540852,0.006385987547223225,-0.010598663012270483,-0.008617013738383528,0.005153273623295108,-0.020318441484672742,-0.0024149929658570115,0.022624460188451673,0.009087453816243589,0.00986539198183762,-0.007681120155506856,-0.031018663143569818,0.022675172206098465,0.01703883880960057,-0.017663463596504853,0.02543931345971704,-0.00340088714835098,0.01376090444071863,-0.005759248725598124,-0.011136377270401865,-0.0035675636358888244,0.009347164251916746,-0.02455733673797151,-0.012589947117868526,-0.012227835976497627,-0.0010517763031621663,0.005014238825370093,-0.016823684845960255,0.0019858989822323257,0.005311640351452585,0.006003160648136205,0.020895126337268567,-0.0026639750422886867,0.013437026840040568,-0.0016230638826522708,0.011064578688109582,-0.01233049668622223,-0.008809529541604556,-0.011209961718361043,-0.008110052427465646,0.024166935164884402,0.002492635762673819,-0.012567451766108993,-0.01448051136124842,-0.0030248672614220607,0.0007993977879325459,-0.0230448047154463,-0.028957674815006867,-0.010088724155178213,0.016695948621667355,0.012612405178501575,0.015839224776250004,0.012609089792958033,0.006749100223202177,-0.001950431038361856,-0.014713016680577014,-0.023855081684406327,0.009240922510395518,-0.0030887546362974652,-0.007467999743247306,0.008252646027231407,0.0006653552739062657,-0.027621606329426788,0.00761415475276166,-0.02086923129554827,-0.006962764942334104,0.031169701043973264,-0.015060753730353222,0.031081973293322032,0.011565893336970159,-0.0049143417347751765,-0.010779270450960944,0.03456536022955204,0.010470807052642972,0.023375781981561074,-0.017707534080662342,-0.009857857778669266,-0.003858399014998961,-0.007168088858247498,0.009827527452688226,-0.00722871498998588,-0.0339898006878901,-0.0013982570262851557,0.00667260420885327,-0.021177822467673846,0.007053668087970878,0.026530834512703258,-0.015862707063207783,0.004561958810704847,0.0021812351997653476,0.01475400873978389,0.006218429832275007,-0.003936895299880463,0.0008681215802428001,0.020567759945468007,0.005740651339785083,-0.02023693297974648,0.013371323424907402,0.01831434159415863,0.017170893035775178,-0.006227952993669156,0.025837020634740193,0.0030696075955114494,-0.03146523928238897,0.00943144313090865,-0.01661975471643995,0.026406806654400587,-0.006852882146180912,0.01068710540650237,0.010513341790087685,-0.017404835144133605,0.018233136763509097,0.005743077589361963,-0.01574511132897565,0.0034104588522613937,0.0008186562493332527,0.007032516953960724,-0.01603431948294688,-0.0010074890957179282,0.021569125255045514,-0.006204877126726046,-0.012755687166335055,0.013346749423550063,0.009403667695211492,-0.0036265611841396297,-0.009221097799086218,0.015342291225801049,0.009920356617612057,-0.007486735036654436,0.0195025297959798,-0.0020245517916216305,0.005231785475458528,-0.0257021221626789,-0.004553436765016937,-0.02054881330879786,0.030818519071654747,0.03792527034212048,-0.020058290179547217,-0.013949462175810359,0.008341422403426522,-0.005565946210854685,-0.026996441911585414,-0.024552188948135836,0.005801684813960736,0.011789234293611613,0.011100773853393277,0.005824320351170917,0.01171354987805108,-0.03473495883330514,-0.020511782776635252,0.014485462326813971,0.008187562752150967,0.002670477175085035,-0.023214393269393892,-0.001688121441931734,-0.011595736491309098,-0.003151151092523409,0.011749869522414209,0.03430578062773472,-0.004516463680547653,-0.009667003758541005,0.0004863685433941218,0.004782587886695227,-0.0020601187907959423,-0.00958464964875155,-0.004701254158529739,-0.014816588034915415,-0.005818614454245736,-0.006214354918377561,0.012245077509965492,0.017705397121945795,-0.01023861767810544,0.009263034973630945,-0.034558066424791506,0.015528166286251387,0.007829882990194102,0.022540600530638128,-0.02850128109107604,-0.0016581532980872538,-0.02632477890162626,0.02444567500667221,-0.01231124808265698,0.00851403782571496,0.004673420447317351,0.022546420135963738,-0.026567018879272212,0.006126322526242606,0.010020809139004702,-0.02750184228103742,-0.029528123928513637,0.01744638304089781,-0.018775642308679823,0.011400077443369688,-0.05030155153839727,0.025553072931644032,0.016521042918912935,0.002581583062874398,-0.0034299555736019526,-0.01957542880005461,0.004976169584454218,0.007403750230325924,0.001249647217358641,-0.01765106311855405,-0.002077027733321557,-0.0151199329613935,0.0112923775190726,0.012899093641653321,0.011782488523254466,0.002037521749456492,0.00710665601380856,-0.017260791291403666,-0.034781563407745714,-0.01502315901933862,0.0077712544568606205,0.012307406290934336,-0.004844243383879256,-0.00771210522494736,-0.003178857411044998,-0.018400760323590126,-0.020726604794913835,0.004304377557357093,-0.008720802181211757,-0.010508218662811146,0.01872925657508136,0.02045733391523862,-0.010332412816829957,0.025063438734178052,0.008316125887639757,-0.005254940110874728,-0.014743292850591908,-0.03691533958818518,0.022678889137164336,0.0012948721564895109,-0.009932957286374118,-0.00016101427802222367,0.017466530683289024,-0.0077065428966904175,-0.0019504163627407478,0.008328733482613693,0.007623683413640025,-0.013803847800787982,-0.00402805666448373,0.016638174765727303,0.0014174721780352024,-0.0038194414619700094,0.016092437150519074,-0.001492626630766776,-0.015848821329284262,0.022792885705302898,0.010420411449215001,0.005431618176432484,0.012309834350924089,-0.014651894717160024,-0.030621841574699143,0.008585237379725129,-0.001741784371058902,0.027608078860390788,0.012000630350469757,0.00942762978845336,-0.0015462453889837765,0.010785842182787006,0.018999549091454754,0.04469195402279459,0.015663325416366173,0.029735627105351423,0.0030813855758727465,-0.01595019886064369,0.0330369134759393,0.02124668594299658,0.015077574052581838,0.009743412807158121,-0.041452888976017385,0.018590836974376527,0.013796066971119469,-0.03305494357074779,-0.0028631160137233785,0.040643255842210346,-0.0113786833409635,-0.014253334648202507,-0.0007579887207014068,0.014163470285895846,0.004195930550499677,-0.0003921291844810587,-0.03555785471231188,-0.009640847952147676,-0.0043639668786584224,0.02594674534501335,0.0344614596199116,-0.025512178664539104,-0.007503587772847456,0.0017488751044838862,-0.006501080024321687,0.025911837922857332,0.0021273408852567842,-0.012997286926020769,0.02148612963397258,-0.0034509661023371108,-0.007748283790567583,-0.011040074450499844,-0.014033622610888441,0.025355429011708345,0.00927028654821047,-0.007536981529311928,-0.008431937108701876,-0.00358110512703639,-0.006817170552531334,0.01274093859858068,-0.0008580241576884874,0.01343600520686223,0.002756817287477667,-0.025713780269395716,-0.012607303096538148,0.006896857663709466,-0.017980665547775256,-0.015171232924976545,-0.00568428124585274,0.008707387930009237,0.009721425977316208,-0.02377222902250935,-0.0024393738822647993,0.008650081904184656,0.014427630065182254,-0.011405901958580256,-0.009053166452463226,-0.005393170116107664,0.014547789042394422,-0.017894823791022786,-0.006174345284574456,0.006275610863684496,-0.007299892151089246,-0.008571932025660174,0.01744033399764367,0.009458271404452247,0.00443631236612888,0.0220099093929006,-0.002275495367474355,0.023537809185866024,-0.012219180751286415,0.010819637551940948,-0.02286035075192135,0.008903827935385399,0.02237417015688377,-0.006284290004618719,-0.0019122124406296646,-0.01108937808792736,-0.030923350603730502,-0.009613045991306121,-0.009757472289073366,0.003983056963977488,-0.029264206682539977,0.00005370283699142682,-0.027027945227117267,0.02605221564785112,-0.028260404761771312,0.032289240073506816,0.00990810089349198,0.006965799319957864,0.004678488705284157,0.0014087128686542407,0.023569175417252564,0.006120997159388091,-0.01684659147203882,0.03176668687055518,-0.007295694667605728,-0.003471548310315442,-0.0027739551354670276,-0.004235975362149059,-0.008856630851966108,-0.02372137335710053,-0.011241082986738475,0.010178326446461366,-0.025870374563144553,-0.028978849540537515,0.008199303455944124,0.012177708699200283,0.0025305287544203983,-0.029452599467463453,-0.012203452792864826,-0.007693309193412277,-0.002443006823302277,-0.012188776242628936,0.0005854711355971434,-0.0018797364806307176,0.019394726199192917,-0.018698881143023628,0.008642755065596846,-0.0037635776123229343,-0.03612898017351133,-0.016352713876098986,-0.032077394008771284,-0.01856887038870921,-0.011027773084314584,0.012516155061658969,-0.018735561658808058,0.01843480112043255,0.012252616943905843,-0.005400596480094287,0.03439787861129166,-0.010645883467488947,0.023698362815549635,0.011621418936080201,-0.007191852566732838,0.0022017563014125295,0.005117987387144755,-0.017684634408310092,0.000988224425833827,0.002471296312520851,0.011050923692394897,-0.023933695727390302,-0.000011279226855439161,-0.001562151017904939,-0.029604543541421096,0.02381045913509371,0.020990118956248024,0.009103187607683711,-0.02334230317199013,-0.0023869505252773447,-0.007412847373864144,0.011584573154272897,0.025200667629237724,-0.017151762620536505,0.00008531934034968583,-0.01427444361985061,0.030940242686593834,-0.0024495088194003674,0.028212645095733464,-0.023841352686523275,0.0070504609241442435,-0.009212733821479316,0.005918102661430124,-0.0033774144738292653,0.008637225157487945,0.008349331379014063],\"yaxis\":\"y\",\"type\":\"scattergl\",\"textposition\":\"top center\"},{\"customdata\":[[\"1329\"],[\"3116\"],[\"2122\"],[\"3291\"],[\"1117\"],[\"1509\"],[\"2165\"],[\"1173\"],[\"1101\"],[\"2951\"],[\"1107\"],[\"1925\"],[\"1104\"],[\"1361\"],[\"3363\"],[\"1467\"],[\"1172\"],[\"3280\"],[\"1929\"],[\"1204\"],[\"1330\"],[\"1267\"],[\"1238\"],[\"1079\"],[\"2241\"],[\"2261\"],[\"2294\"],[\"2257\"],[\"1083\"],[\"2344\"],[\"1341\"],[\"3051\"],[\"3082\"],[\"3434\"],[\"2419\"],[\"1465\"],[\"2786\"],[\"2237\"],[\"2582\"],[\"1335\"],[\"1214\"],[\"1269\"],[\"3090\"],[\"1331\"],[\"2216\"],[\"1205\"],[\"2213\"],[\"1250\"],[\"2212\"],[\"2115\"],[\"2098\"],[\"2109\"],[\"2056\"],[\"1256\"],[\"2754\"],[\"2046\"],[\"1230\"],[\"3397\"],[\"2040\"],[\"1305\"],[\"1986\"],[\"1416\"],[\"2877\"],[\"2863\"],[\"2966\"],[\"1277\"],[\"1146\"],[\"1153\"],[\"1149\"],[\"1191\"],[\"2742\"],[\"1291\"],[\"1456\"],[\"2138\"],[\"1997\"],[\"3320\"],[\"1302\"],[\"2839\"],[\"1255\"],[\"1420\"],[\"1124\"],[\"1125\"],[\"2005\"],[\"3232\"],[\"2095\"],[\"3426\"],[\"2086\"],[\"2084\"],[\"1243\"],[\"2083\"],[\"1222\"],[\"2060\"],[\"2944\"],[\"1235\"],[\"2077\"],[\"1459\"],[\"1491\"],[\"1370\"],[\"1953\"],[\"1175\"],[\"2176\"],[\"1488\"],[\"2063\"],[\"1409\"],[\"1132\"],[\"1447\"],[\"2143\"],[\"1076\"],[\"1570\"],[\"2623\"],[\"2631\"],[\"980\"],[\"2068\"],[\"978\"],[\"2646\"],[\"2654\"],[\"967\"],[\"966\"],[\"2071\"],[\"2039\"],[\"1598\"],[\"1600\"],[\"2038\"],[\"960\"],[\"1603\"],[\"1604\"],[\"2032\"],[\"953\"],[\"1608\"],[\"947\"],[\"1597\"],[\"1945\"],[\"2072\"],[\"2102\"],[\"2532\"],[\"1004\"],[\"2510\"],[\"2539\"],[\"2511\"],[\"1547\"],[\"2546\"],[\"2552\"],[\"2617\"],[\"2629\"],[\"1563\"],[\"2649\"],[\"2127\"],[\"2561\"],[\"1757\"],[\"1557\"],[\"2117\"],[\"993\"],[\"2573\"],[\"2574\"],[\"2575\"],[\"2579\"],[\"2556\"],[\"1617\"],[\"1619\"],[\"1620\"],[\"353\"],[\"1668\"],[\"1669\"],[\"1675\"],[\"428\"],[\"1810\"],[\"1683\"],[\"1809\"],[\"1689\"],[\"1799\"],[\"1816\"],[\"1712\"],[\"1718\"],[\"1721\"],[\"1735\"],[\"1741\"],[\"1793\"],[\"1791\"],[\"1789\"],[\"1750\"],[\"1783\"],[\"1752\"],[\"1717\"],[\"1823\"],[\"1665\"],[\"1826\"],[\"1926\"],[\"921\"],[\"917\"],[\"916\"],[\"1902\"],[\"896\"],[\"1898\"],[\"637\"],[\"2276\"],[\"1886\"],[\"1879\"],[\"136\"],[\"1868\"],[\"1867\"],[\"1864\"],[\"1849\"],[\"1845\"],[\"517\"],[\"484\"],[\"1842\"],[\"475\"],[\"1662\"],[\"376\"],[\"1006\"],[\"2521\"],[\"2563\"],[\"3830\"],[\"2224\"],[\"2372\"],[\"2247\"],[\"2386\"],[\"2351\"],[\"2250\"],[\"2268\"],[\"2279\"],[\"2338\"],[\"2292\"],[\"2302\"],[\"2319\"],[\"2282\"],[\"1048\"],[\"2196\"],[\"2194\"],[\"2327\"],[\"2408\"],[\"2336\"],[\"2169\"],[\"2149\"],[\"2509\"],[\"2512\"],[\"2359\"],[\"2555\"],[\"2153\"],[\"2174\"],[\"2052\"],[\"2299\"],[\"2300\"],[\"1947\"],[\"2180\"],[\"2306\"],[\"2307\"],[\"3101\"],[\"2418\"],[\"1520\"],[\"2187\"],[\"2329\"],[\"2334\"],[\"2348\"],[\"2642\"],[\"2189\"],[\"2223\"],[\"2597\"],[\"2592\"],[\"2567\"],[\"2183\"],[\"2125\"],[\"2332\"],[\"2053\"],[\"2451\"],[\"2461\"],[\"2467\"],[\"2469\"],[\"2463\"],[\"2477\"],[\"2471\"],[\"2484\"],[\"2485\"],[\"2489\"],[\"2495\"],[\"2491\"],[\"1017\"],[\"2504\"],[\"2506\"],[\"1530\"],[\"2398\"],[\"1761\"],[\"1948\"],[\"2430\"],[\"2433\"],[\"1959\"],[\"2028\"],[\"1920\"]],\"hovertemplate\":\"Cluster=Cluster 1\\u003cbr\\u003ePCA1=%{x}\\u003cbr\\u003ePCA2=%{y}\\u003cbr\\u003eFeature=%{customdata[0]}\\u003cextra\\u003e\\u003c\\u002fextra\\u003e\",\"legendgroup\":\"Cluster 1\",\"marker\":{\"color\":\"#EF553B\",\"opacity\":0.5,\"symbol\":\"circle\"},\"mode\":\"markers\",\"name\":\"Cluster 1\",\"showlegend\":true,\"x\":[92.30899153263589,59.30899004562701,102.30899198324462,75.308990766601,78.30899090178362,87.3089913073315,84.3089911721489,71.30899058635751,79.3089909468445,58.30899000056614,97.30899175794025,81.30899103696625,65.30899031599226,93.30899157769676,87.3089913073315,80.30899099190538,69.30899049623577,63.3089902258705,107.30899220854901,63.3089902258705,78.30899090178362,76.30899081166187,108.30899225360986,79.3089909468445,75.308990766601,85.30899121720975,78.30899090178362,111.30899238879248,62.30899018080963,77.30899085672274,79.3089909468445,57.308989955505254,72.30899063141838,63.3089902258705,65.30899031599226,64.30899027093139,58.30899000056614,80.30899099190538,57.308989955505254,84.3089911721489,70.30899054129664,82.30899108202712,64.30899027093139,102.30899198324462,89.30899139745324,58.30899000056614,59.30899004562701,93.30899157769676,96.30899171287938,92.30899153263589,73.30899067647925,91.30899148757501,71.30899058635751,91.30899148757501,78.30899090178362,79.3089909468445,81.30899103696625,71.30899058635751,108.30899225360986,60.30899009068787,109.30899229867073,67.30899040611399,60.30899009068787,60.30899009068787,63.3089902258705,80.30899099190538,103.30899202830548,95.3089916678185,58.30899000056614,66.30899036105312,72.30899063141838,69.30899049623577,88.30899135239237,94.30899162275762,91.30899148757501,69.30899049623577,63.3089902258705,93.30899157769676,80.30899099190538,104.30899207336637,86.30899126227062,73.30899067647925,111.30899238879248,61.30899013574876,110.3089923437316,69.30899049623577,92.30899153263589,97.30899175794025,68.30899045117489,103.30899202830548,98.30899180300112,62.30899018080963,62.30899018080963,63.3089902258705,82.30899108202712,58.30899000056614,81.30899103696625,68.30899045117489,79.3089909468445,88.30899135239237,73.30899067647925,91.30899148757501,97.30899175794025,62.30899018080963,98.30899180300112,98.30899180300112,58.30899000056614,98.30899180300112,80.30899099190538,86.30899126227062,72.30899063141838,84.3089911721489,97.30899175794025,60.30899009068787,91.30899148757501,107.30899220854901,63.3089902258705,71.30899058635751,79.3089909468445,68.30899045117489,92.30899153263589,73.30899067647925,79.3089909468445,59.30899004562701,101.30899193818375,104.30899207336637,103.30899202830548,65.30899031599226,73.30899067647925,71.30899058635751,68.30899045117489,102.30899198324462,85.30899121720975,88.30899135239237,62.30899018080963,76.30899081166187,94.30899162275762,96.30899171287938,96.30899171287938,78.30899090178362,100.30899189312287,68.30899045117489,70.30899054129664,83.308991127088,68.30899045117489,78.30899090178362,68.30899045117489,111.30899238879248,87.3089913073315,107.30899220854901,98.30899180300112,110.3089923437316,108.30899225360986,59.30899004562701,97.30899175794025,72.30899063141838,87.3089913073315,73.30899067647925,70.30899054129664,84.3089911721489,58.30899000056614,78.30899090178362,93.30899157769676,73.30899067647925,71.30899058635751,58.30899000056614,79.3089909468445,69.30899049623577,80.30899099190538,108.30899225360986,87.3089913073315,61.30899013574876,111.30899238879248,71.30899058635751,65.30899031599226,60.30899009068787,101.30899193818375,87.3089913073315,59.30899004562701,82.30899108202712,77.30899085672274,71.30899058635751,95.3089916678185,83.308991127088,83.308991127088,58.30899000056614,90.30899144251414,62.30899018080963,86.30899126227062,103.30899202830548,86.30899126227062,82.30899108202712,57.308989955505254,71.30899058635751,110.3089923437316,61.30899013574876,106.30899216348814,89.30899139745324,77.30899085672274,79.3089909468445,63.3089902258705,75.308990766601,57.308989955505254,60.30899009068787,63.3089902258705,75.308990766601,78.30899090178362,102.30899198324462,89.30899139745324,98.30899180300112,97.30899175794025,66.30899036105312,64.30899027093139,85.30899121720975,61.30899013574876,78.30899090178362,95.3089916678185,66.30899036105312,65.30899031599226,86.30899126227062,85.30899121720975,65.30899031599226,98.30899180300112,79.3089909468445,78.30899090178362,110.3089923437316,62.30899018080963,66.30899036105312,65.30899031599226,81.30899103696625,109.30899229867073,106.30899216348814,65.30899031599226,84.3089911721489,90.30899144251414,61.30899013574876,103.30899202830548,91.30899148757501,95.3089916678185,76.30899081166187,62.30899018080963,111.30899238879248,78.30899090178362,76.30899081166187,70.30899054129664,69.30899049623577,97.30899175794025,78.30899090178362,73.30899067647925,73.30899067647925,104.30899207336637,80.30899099190538,95.3089916678185,107.30899220854901,83.308991127088,69.30899049623577,72.30899063141838,61.30899013574876,81.30899103696625,72.30899063141838,90.30899144251414,77.30899085672274,59.30899004562701,71.30899058635751,65.30899031599226,80.30899099190538,86.30899126227062,91.30899148757501,82.30899108202712,69.30899049623577,88.30899135239237,82.30899108202712,93.30899157769676,64.30899027093139,101.30899193818375,77.30899085672274,105.30899211842724,107.30899220854901,80.30899099190538,61.30899013574876,64.30899027093139,77.30899085672274,64.30899027093139,102.30899198324462,103.30899202830548,76.30899081166187,62.30899018080963,79.3089909468445],\"xaxis\":\"x\",\"y\":[-0.028609094939292156,0.015597349577921468,-0.030490537354364078,-0.004656032634475776,-0.008921182709579391,0.015779016954267918,-0.020289390459124704,-0.011055246071232882,0.010303679671692538,0.005556935994798994,0.0019444914350937406,-0.018557847505243117,0.00995732484789146,-0.03470347785612651,0.0027308260196564197,0.0023894442805513765,0.01438890926408224,-0.003564890061064386,0.017674597468206196,0.012137842633083843,-0.006708607845671243,-0.00561585591120157,-0.021193636603007215,0.01006730482473052,0.0006575747125573059,0.010048653182205127,0.009444380927972016,0.009602449195230634,-0.009747838573354423,0.006747375533141978,-0.010349480875834946,-0.027730503061381435,0.0046433202206376785,0.028154416936762242,0.0025510203315057124,0.012216749524476994,0.0033991052210180102,0.008944878100583484,0.020258397283362116,0.0029040515467775524,0.012831099987208798,-0.014248450184637286,-0.004796376627931744,-0.021451365174131366,0.02988504724352522,-0.009180381988074365,0.06006624667642406,0.016096367632066223,0.02918564446759496,0.040056344395235075,0.002261217402524858,0.0038944888124256096,-0.009361127615810537,-0.01438072862650561,0.005558595908475057,0.007583914358813472,-0.002287687264639336,-0.015986547276758155,-0.015784053370003246,0.009387738993303491,0.014757021491259157,0.000935168597048638,0.014031492484942907,-0.024935721078832882,-0.015439861304457403,0.003515120632950036,0.00021526966648830004,0.010007596281228518,0.023875547162517736,0.015950675955548537,0.03049270191608849,-0.0014839900961440603,-0.021392252604735644,0.004959651442183805,0.018563823046445972,0.011975998667860224,-0.012390847191880685,0.003216852342058231,-0.0013284564400094074,-0.016029920807232836,-0.0037764673959748466,0.016492786590429,-0.03070874051602875,0.006175961388524699,-0.023861045293211966,0.0027327975560371086,-0.0034327347187340686,-0.005693227658161363,-0.02937720643596403,-0.03236529020579659,-0.004061101576384368,0.009642362329001968,0.0023625319009647613,0.007768526889434778,0.018378770039443996,-0.0029306539274197765,0.0004701908589256335,0.0077210844691493925,-0.009386473866366048,-0.020045247793731902,-0.00004149676434289277,0.023388298395335114,-0.02900782144410054,-0.008490617001979766,0.007221636934937701,-0.010706374268904055,0.007417085525736538,0.016900739913362925,-0.017473152562187438,0.01539912247315452,-0.013709710591294916,-0.0075298078609991595,0.0016149841315889343,0.0071570039996330485,0.009845163907739398,-0.015462780091235043,-0.00638174808171476,-0.025099864506707547,-0.01288519117063564,0.019280201588749213,0.004404009347625101,0.0027797125260012228,0.0001018830377502044,0.03817497653944022,-0.03001857728882852,-0.005612425935976001,-0.016434104767823088,-0.016692742754696552,0.006103764280964508,-0.008413854810648368,-0.0031189378229966045,0.02264411222848872,0.021566769567660113,0.017990831242296203,-0.020735438934376564,-0.015979169021799827,-0.010841130901971944,0.025617289500057646,-0.022307799440554537,0.01552438179166197,0.027160138333578686,-0.008583780120201208,0.030590971443827452,0.01712764215741092,0.028923469552477474,0.020523526134758305,-0.007795838144972161,0.0026373775505413974,0.018026643268508554,0.0005081223508882254,-0.007370605389171027,-0.007214274890911377,-0.008893928227381413,-0.015882787136014518,-0.018431352118407855,-0.01517515782763602,-0.0019423715391815558,-0.021090402700457773,0.018672329037036927,0.0056579732003811285,-0.020986479236206442,-0.017416541048764948,-0.017992039820989222,0.022783435920165445,0.022253400854513352,0.027399177597559787,0.008164984570439205,-0.021303706533545488,0.012010202881309218,0.00012769170942105487,-0.003950094060742736,0.009624776958003586,-0.013505809551289367,0.005191970258975991,-0.02205252653353636,-0.013839644662481346,0.004284760987293197,0.014000167934623902,0.01110242869447086,-0.0057082623217772875,0.005842282317562346,0.0010134277421355788,0.029640108298057674,0.009691062288803136,0.015226228961679763,0.021382788774737767,0.009972445298357722,0.026446446330563703,0.016689159132695502,0.006257572696939709,0.0032236534263247363,-0.006582848992219838,0.0009172088431840823,-0.002010516799626312,-0.009536087625333721,-0.015508585352595463,-0.03155548270293336,0.004823649118605212,-0.0114648242949387,-0.02137687534448011,-0.012668056370807696,0.0020690133141010683,0.0036065251254574523,0.004089271432833761,-0.019777314868223914,-0.0185496135707875,-0.0340002642887117,-0.0030747734681649957,-0.010502845495892078,0.010027975111705998,0.0034698799665273724,0.03833608951945809,-0.0030498958904096748,0.00658194540374679,0.005668550702664134,0.0006204450127096335,-0.0049800782409072,-0.004777660028263429,-0.004374069366169382,0.041407441810907324,-0.024039356253264234,0.004720546266022951,0.013016010705167457,0.007494110734768742,-0.002325336830839491,0.0016422305653541083,0.0016573867406886587,-0.010317115888750058,-0.004666934289274071,-0.0029568404290454126,0.015537943093478852,0.004459191073640796,-0.006460009450448567,-0.023364903186599045,0.01423814928065317,0.0007214343565533145,0.002423840317752658,-0.0323371769346795,-0.00975595723997033,-0.005174040251283893,-0.017982434664212107,0.03088132821278311,0.006808660227931213,0.020814004486777414,-0.00005745955189703322,0.011370475033074055,-0.0004970684156623735,-0.03412505417410873,0.012527861155696594,-0.00905742257930712,0.011770765627428412,0.017087252388317917,-0.002376220954286474,0.006187219263399971,0.01070922431643563,-0.005600410231169741,0.002811291451784068,0.014823874090387627,0.01198155412326763,-0.0036639699460840618,-0.02741461448211578,-0.0014054086877574416,0.008134275818287856,-0.007650345330982002,0.018649022609537443,0.008704865090943363,-0.013960025922274188,-0.0030417815036668677,0.011105245969889972,-0.021332899624916885,0.016562285218503687,0.010173050590361275,0.005744414744220463,0.00585603234157047,-0.008660472904263342,-0.017345392876426065,0.026492006877497268,-0.015013710040073892,0.0019710673411714305,0.018624997835566984,-0.018138688520270813,-0.016358967836418468,-0.0034523542646059343,0.0032629127271376723,0.0177863101981861,-0.010176914935938941,0.008985708847189043,0.008128516044349108],\"yaxis\":\"y\",\"type\":\"scattergl\",\"textposition\":\"top center\"},{\"customdata\":[[\"1684\"],[\"3437\"],[\"107\"],[\"1912\"]],\"hovertemplate\":\"Cluster=Cluster 2\\u003cbr\\u003ePCA1=%{x}\\u003cbr\\u003ePCA2=%{y}\\u003cbr\\u003eFeature=%{customdata[0]}\\u003cextra\\u003e\\u003c\\u002fextra\\u003e\",\"legendgroup\":\"Cluster 2\",\"marker\":{\"color\":\"#00cc96\",\"opacity\":0.5,\"symbol\":\"circle\"},\"mode\":\"markers\",\"name\":\"Cluster 2\",\"showlegend\":true,\"x\":[748.3090210925698,503.30901005265537,1001.3090324929709,711.3090194253173],\"xaxis\":\"x\",\"y\":[-0.004088743043439174,0.005213307482279065,-0.008827482449315745,0.0005299670248700697],\"yaxis\":\"y\",\"type\":\"scattergl\",\"textposition\":\"top center\"},{\"customdata\":[[\"3076\"],[\"1344\"],[\"239\"],[\"3078\"],[\"3267\"],[\"1261\"],[\"3113\"],[\"3256\"],[\"3185\"],[\"3284\"],[\"3152\"],[\"3252\"],[\"3132\"],[\"3150\"],[\"3149\"],[\"1338\"],[\"25\"],[\"1340\"],[\"252\"],[\"3140\"],[\"3277\"],[\"1290\"],[\"1312\"],[\"1289\"],[\"3070\"],[\"1339\"],[\"3145\"],[\"3073\"],[\"3274\"],[\"3154\"],[\"3146\"],[\"3064\"],[\"3115\"],[\"3184\"],[\"3108\"],[\"67\"],[\"3119\"],[\"3214\"],[\"3117\"],[\"3938\"],[\"1282\"],[\"3172\"],[\"119\"],[\"1284\"],[\"3098\"],[\"26\"],[\"3198\"],[\"1287\"],[\"3174\"],[\"3104\"],[\"3182\"],[\"3096\"],[\"3226\"],[\"21\"],[\"122\"],[\"3106\"],[\"3084\"],[\"3247\"],[\"1298\"],[\"56\"],[\"3838\"],[\"3169\"],[\"1323\"],[\"3239\"],[\"1320\"],[\"1334\"],[\"1322\"],[\"1288\"],[\"1271\"],[\"1272\"],[\"1273\"],[\"3120\"],[\"3195\"],[\"3240\"],[\"3360\"],[\"3293\"],[\"2429\"],[\"2434\"],[\"1040\"],[\"1135\"],[\"2438\"],[\"1032\"],[\"2058\"],[\"1029\"],[\"1028\"],[\"2055\"],[\"2462\"],[\"1026\"],[\"2478\"],[\"1024\"],[\"1130\"],[\"1021\"],[\"1148\"],[\"1014\"],[\"2536\"],[\"2537\"],[\"1003\"],[\"1989\"],[\"1156\"],[\"1158\"],[\"1159\"],[\"1970\"],[\"1160\"],[\"2554\"],[\"1964\"],[\"1963\"],[\"2499\"],[\"1163\"],[\"1129\"],[\"2407\"],[\"2280\"],[\"1075\"],[\"1080\"],[\"1074\"],[\"2287\"],[\"1085\"],[\"2304\"],[\"1070\"],[\"2243\"],[\"2235\"],[\"2232\"],[\"2313\"],[\"1067\"],[\"1066\"],[\"1128\"],[\"2210\"],[\"1100\"],[\"2179\"],[\"1056\"],[\"1110\"],[\"1052\"],[\"2164\"],[\"2161\"],[\"2136\"],[\"2391\"],[\"2392\"],[\"2396\"],[\"1049\"],[\"1123\"],[\"1047\"],[\"2353\"],[\"999\"],[\"997\"],[\"995\"],[\"3351\"],[\"3350\"],[\"1221\"],[\"563\"],[\"3348\"],[\"3347\"],[\"3345\"],[\"3344\"],[\"538\"],[\"3342\"],[\"526\"],[\"3339\"],[\"3335\"],[\"1227\"],[\"566\"],[\"366\"],[\"3330\"],[\"363\"],[\"1231\"],[\"3324\"],[\"3321\"],[\"3596\"],[\"1237\"],[\"3604\"],[\"322\"],[\"1242\"],[\"277\"],[\"3302\"],[\"3299\"],[\"3297\"],[\"3332\"],[\"3353\"],[\"580\"],[\"606\"],[\"2591\"],[\"2603\"],[\"2606\"],[\"2325\"],[\"983\"],[\"982\"],[\"3433\"],[\"1181\"],[\"1182\"],[\"3419\"],[\"3417\"],[\"3411\"],[\"1192\"],[\"957\"],[\"3396\"],[\"952\"],[\"1198\"],[\"3362\"],[\"641\"],[\"651\"],[\"3545\"],[\"897\"],[\"1209\"],[\"271\"],[\"906\"],[\"3378\"],[\"927\"],[\"932\"],[\"934\"],[\"3387\"],[\"942\"],[\"1207\"],[\"1345\"],[\"1280\"],[\"1347\"],[\"2853\"],[\"1426\"],[\"1423\"],[\"2862\"],[\"2864\"],[\"2866\"],[\"2867\"],[\"1427\"],[\"2872\"],[\"1571\"],[\"2880\"],[\"1574\"],[\"1413\"],[\"2890\"],[\"1576\"],[\"2894\"],[\"2873\"],[\"1580\"],[\"3633\"],[\"3684\"],[\"3233\"],[\"3019\"],[\"1535\"],[\"2869\"],[\"1536\"],[\"2827\"],[\"2828\"],[\"2849\"],[\"2724\"],[\"1539\"],[\"3851\"],[\"2833\"],[\"3756\"],[\"1540\"],[\"3136\"],[\"3948\"],[\"1538\"],[\"3366\"],[\"1583\"],[\"1591\"],[\"2919\"],[\"1630\"],[\"1632\"],[\"2920\"],[\"1636\"],[\"805\"],[\"1637\"],[\"1628\"],[\"1639\"],[\"1644\"],[\"1652\"],[\"1653\"],[\"1659\"],[\"2925\"],[\"1661\"],[\"2927\"],[\"1643\"],[\"1590\"],[\"1623\"],[\"2916\"],[\"1596\"],[\"1605\"],[\"1609\"],[\"2901\"],[\"2904\"],[\"2905\"],[\"1611\"],[\"1402\"],[\"2906\"],[\"2909\"],[\"2910\"],[\"2911\"],[\"2912\"],[\"2913\"],[\"828\"],[\"2915\"],[\"1614\"],[\"3406\"],[\"3060\"],[\"3179\"],[\"2738\"],[\"2664\"],[\"2661\"],[\"1475\"],[\"3201\"],[\"2616\"],[\"2748\"],[\"2666\"],[\"2594\"],[\"2750\"],[\"2465\"],[\"2394\"],[\"2755\"],[\"2377\"],[\"2757\"],[\"2343\"],[\"2588\"],[\"1472\"],[\"1479\"],[\"2669\"],[\"2698\"],[\"1487\"],[\"1495\"],[\"2694\"],[\"2689\"],[\"1502\"],[\"2683\"],[\"1480\"],[\"2716\"],[\"2719\"],[\"2676\"],[\"2674\"],[\"1483\"],[\"1505\"],[\"2729\"],[\"2730\"],[\"2679\"],[\"1515\"],[\"2273\"],[\"2246\"],[\"2501\"],[\"1462\"],[\"2420\"],[\"2399\"],[\"2793\"],[\"2368\"],[\"1457\"],[\"2516\"],[\"2796\"],[\"2800\"],[\"2191\"],[\"2148\"],[\"2134\"],[\"2132\"],[\"1449\"],[\"1528\"],[\"2315\"],[\"2782\"],[\"2781\"],[\"2780\"],[\"2763\"],[\"2151\"],[\"2144\"],[\"2101\"],[\"2062\"],[\"2026\"],[\"2010\"],[\"1470\"],[\"2002\"],[\"1994\"],[\"1954\"],[\"1940\"],[\"1916\"],[\"2777\"],[\"1523\"],[\"2778\"],[\"2608\"],[\"2928\"],[\"1680\"],[\"1573\"],[\"2706\"],[\"2643\"],[\"2985\"],[\"497\"],[\"2986\"],[\"492\"],[\"1861\"],[\"1871\"],[\"1857\"],[\"2988\"],[\"1373\"],[\"2653\"],[\"3035\"],[\"2991\"],[\"2992\"],[\"460\"],[\"1877\"],[\"465\"],[\"3033\"],[\"500\"],[\"507\"],[\"2458\"],[\"2472\"],[\"2475\"],[\"2498\"],[\"2508\"],[\"2533\"],[\"1844\"],[\"506\"],[\"525\"],[\"1972\"],[\"514\"],[\"1375\"],[\"2589\"],[\"3038\"],[\"2135\"],[\"513\"],[\"524\"],[\"1380\"],[\"1358\"],[\"2994\"],[\"395\"],[\"391\"],[\"3022\"],[\"2001\"],[\"1995\"],[\"1932\"],[\"1939\"],[\"2042\"],[\"1366\"],[\"1955\"],[\"370\"],[\"3017\"],[\"373\"],[\"378\"],[\"374\"],[\"1973\"],[\"1951\"],[\"456\"],[\"400\"],[\"1899\"],[\"1359\"],[\"438\"],[\"436\"],[\"1685\"],[\"2128\"],[\"1891\"],[\"431\"],[\"412\"],[\"2116\"],[\"3027\"],[\"3002\"],[\"1893\"],[\"1894\"],[\"422\"],[\"417\"],[\"3026\"],[\"3000\"],[\"544\"],[\"515\"],[\"2445\"],[\"3054\"],[\"3980\"],[\"1729\"],[\"2254\"],[\"1737\"],[\"1742\"],[\"2264\"],[\"1724\"],[\"1753\"],[\"2267\"],[\"2974\"],[\"1782\"],[\"1786\"],[\"1795\"],[\"1796\"],[\"1388\"],[\"1765\"],[\"3049\"],[\"2203\"],[\"1716\"],[\"1688\"],[\"3056\"],[\"1691\"],[\"2171\"],[\"1703\"],[\"2936\"],[\"2937\"],[\"698\"],[\"719\"],[\"2940\"],[\"713\"],[\"1709\"],[\"2943\"],[\"705\"],[\"1715\"],[\"2946\"],[\"2939\"],[\"2956\"],[\"1772\"],[\"559\"],[\"1351\"],[\"2969\"],[\"567\"],[\"561\"],[\"1820\"],[\"1819\"],[\"2960\"],[\"553\"],[\"2364\"],[\"2973\"],[\"1811\"],[\"2417\"],[\"2436\"]],\"hovertemplate\":\"Cluster=Cluster 3\\u003cbr\\u003ePCA1=%{x}\\u003cbr\\u003ePCA2=%{y}\\u003cbr\\u003eFeature=%{customdata[0]}\\u003cextra\\u003e\\u003c\\u002fextra\\u003e\",\"legendgroup\":\"Cluster 3\",\"marker\":{\"color\":\"#ab63fa\",\"opacity\":0.5,\"symbol\":\"circle\"},\"mode\":\"markers\",\"name\":\"Cluster 3\",\"showlegend\":true,\"x\":[42.30898927959214,47.308989504896516,15.308988062948522,55.30898986538352,28.308988648739895,24.3089884684964,24.3089884684964,19.308988243192022,36.30898900922689,26.308988558618143,41.30898923453127,42.30898927959214,40.30898918947039,45.308989414774764,22.308988378374643,24.3089884684964,25.308988513557267,19.308988243192022,21.308988333313767,27.308988603679015,27.308988603679015,43.30898932465301,36.30898900922689,41.30898923453127,18.308988198131143,56.308989910444396,25.308988513557267,18.308988198131143,19.308988243192022,47.308989504896516,17.308988153070274,20.308988288252895,17.308988153070274,17.308988153070274,19.308988243192022,32.30898882898339,25.308988513557267,19.308988243192022,19.308988243192022,39.30898914440952,24.3089884684964,28.308988648739895,18.308988198131143,16.308988108009395,21.308988333313767,24.3089884684964,42.30898927959214,22.308988378374643,30.308988738861647,39.30898914440952,24.3089884684964,32.30898882898339,35.30898896416602,21.308988333313767,19.308988243192022,18.308988198131143,32.30898882898339,22.308988378374643,27.308988603679015,34.30898891910515,17.308988153070274,17.308988153070274,33.30898887404427,18.308988198131143,20.308988288252895,56.308989910444396,46.30898945983564,48.308989549957396,52.308989730200885,40.30898918947039,20.308988288252895,27.308988603679015,28.308988648739895,22.308988378374643,30.308988738861647,16.308988108009395,42.30898927959214,47.308989504896516,23.30898842343552,24.3089884684964,24.3089884684964,35.30898896416602,32.30898882898339,35.30898896416602,23.30898842343552,29.308988693800767,52.308989730200885,36.30898900922689,49.30898959501827,41.30898923453127,22.308988378374643,17.308988153070274,21.308988333313767,55.30898986538352,19.308988243192022,51.30898968514001,51.30898968514001,43.30898932465301,55.30898986538352,22.308988378374643,17.308988153070274,28.308988648739895,44.30898936971389,49.30898959501827,52.308989730200885,42.30898927959214,49.30898959501827,56.308989910444396,16.308988108009395,45.308989414774764,15.308988062948522,36.30898900922689,16.308988108009395,19.308988243192022,24.3089884684964,22.308988378374643,22.308988378374643,34.30898891910515,15.308988062948522,26.308988558618143,27.308988603679015,41.30898923453127,32.30898882898339,24.3089884684964,54.30898982032264,54.30898982032264,20.308988288252895,50.30898964007914,21.308988333313767,26.308988558618143,19.308988243192022,48.308989549957396,38.30898909934864,30.308988738861647,28.308988648739895,48.308989549957396,25.308988513557267,38.30898909934864,27.308988603679015,21.308988333313767,42.30898927959214,33.30898887404427,52.308989730200885,22.308988378374643,40.30898918947039,38.30898909934864,27.308988603679015,47.308989504896516,40.30898918947039,32.30898882898339,21.308988333313767,32.30898882898339,43.30898932465301,24.3089884684964,54.30898982032264,29.308988693800767,21.308988333313767,40.30898918947039,41.30898923453127,53.308989775261765,49.30898959501827,52.308989730200885,30.308988738861647,43.30898932465301,25.308988513557267,42.30898927959214,16.308988108009395,32.30898882898339,28.308988648739895,49.30898959501827,21.308988333313767,23.30898842343552,16.308988108009395,19.308988243192022,18.308988198131143,18.308988198131143,40.30898918947039,47.308989504896516,52.308989730200885,24.3089884684964,31.30898878392252,35.30898896416602,18.308988198131143,24.3089884684964,21.308988333313767,45.308989414774764,22.308988378374643,19.308988243192022,45.308989414774764,18.308988198131143,53.308989775261765,21.308988333313767,32.30898882898339,40.30898918947039,39.30898914440952,31.30898878392252,22.308988378374643,29.308988693800767,39.30898914440952,22.308988378374643,32.30898882898339,29.308988693800767,34.30898891910515,16.308988108009395,31.30898878392252,19.308988243192022,38.30898909934864,53.308989775261765,21.308988333313767,28.308988648739895,53.308989775261765,32.30898882898339,30.308988738861647,18.308988198131143,20.308988288252895,17.308988153070274,27.308988603679015,31.30898878392252,34.30898891910515,36.30898900922689,22.308988378374643,32.30898882898339,16.308988108009395,22.308988378374643,23.30898842343552,16.308988108009395,44.30898936971389,22.308988378374643,17.308988153070274,29.308988693800767,39.30898914440952,21.308988333313767,23.30898842343552,19.308988243192022,26.308988558618143,20.308988288252895,26.308988558618143,38.30898909934864,31.30898878392252,34.30898891910515,37.308989054287764,26.308988558618143,35.30898896416602,15.308988062948522,38.30898909934864,17.308988153070274,25.308988513557267,18.308988198131143,15.308988062948522,28.308988648739895,18.308988198131143,53.308989775261765,51.30898968514001,26.308988558618143,23.30898842343552,35.30898896416602,30.308988738861647,33.30898887404427,22.308988378374643,55.30898986538352,38.30898909934864,34.30898891910515,25.308988513557267,37.308989054287764,30.308988738861647,38.30898909934864,35.30898896416602,36.30898900922689,48.308989549957396,56.308989910444396,44.30898936971389,56.308989910444396,43.30898932465301,33.30898887404427,46.30898945983564,48.308989549957396,33.30898887404427,28.308988648739895,30.308988738861647,28.308988648739895,30.308988738861647,48.308989549957396,33.30898887404427,39.30898914440952,25.308988513557267,17.308988153070274,31.30898878392252,35.30898896416602,47.308989504896516,27.308988603679015,26.308988558618143,34.30898891910515,24.3089884684964,39.30898914440952,39.30898914440952,55.30898986538352,28.308988648739895,48.308989549957396,56.308989910444396,31.30898878392252,17.308988153070274,50.30898964007914,41.30898923453127,16.308988108009395,51.30898968514001,45.308989414774764,50.30898964007914,39.30898914440952,35.30898896416602,47.308989504896516,46.30898945983564,40.30898918947039,53.308989775261765,25.308988513557267,19.308988243192022,23.30898842343552,49.30898959501827,23.30898842343552,26.308988558618143,34.30898891910515,49.30898959501827,51.30898968514001,56.308989910444396,39.30898914440952,26.308988558618143,52.308989730200885,15.308988062948522,19.308988243192022,45.308989414774764,49.30898959501827,25.308988513557267,47.308989504896516,51.30898968514001,32.30898882898339,40.30898918947039,37.308989054287764,33.30898887404427,55.30898986538352,35.30898896416602,18.308988198131143,44.30898936971389,16.308988108009395,38.30898909934864,44.30898936971389,46.30898945983564,41.30898923453127,50.30898964007914,46.30898945983564,26.308988558618143,29.308988693800767,54.30898982032264,22.308988378374643,15.308988062948522,19.308988243192022,42.30898927959214,34.30898891910515,27.308988603679015,32.30898882898339,52.308989730200885,40.30898918947039,27.308988603679015,41.30898923453127,20.308988288252895,49.30898959501827,49.30898959501827,35.30898896416602,39.30898914440952,25.308988513557267,51.30898968514001,55.30898986538352,42.30898927959214,17.308988153070274,45.308989414774764,23.30898842343552,56.308989910444396,16.308988108009395,39.30898914440952,56.308989910444396,21.308988333313767,55.30898986538352,38.30898909934864,29.308988693800767,19.308988243192022,29.308988693800767,28.308988648739895,46.30898945983564,17.308988153070274,28.308988648739895,22.308988378374643,20.308988288252895,34.30898891910515,44.30898936971389,39.30898914440952,21.308988333313767,55.30898986538352,33.30898887404427,53.308989775261765,50.30898964007914,54.30898982032264,55.30898986538352,26.308988558618143,28.308988648739895,25.308988513557267,26.308988558618143,20.308988288252895,30.308988738861647,35.30898896416602,44.30898936971389,44.30898936971389,45.308989414774764,20.308988288252895,41.30898923453127,33.30898887404427,21.308988333313767,33.30898887404427,17.308988153070274,36.30898900922689,16.308988108009395,19.308988243192022,51.30898968514001,35.30898896416602,52.308989730200885,22.308988378374643,48.308989549957396,27.308988603679015,26.308988558618143,50.30898964007914,18.308988198131143,24.3089884684964,21.308988333313767,20.308988288252895,17.308988153070274,29.308988693800767,35.30898896416602,40.30898918947039,27.308988603679015,16.308988108009395,49.30898959501827,48.308989549957396,27.308988603679015,27.308988603679015,55.30898986538352,21.308988333313767,22.308988378374643,28.308988648739895,39.30898914440952,19.308988243192022,16.308988108009395,18.308988198131143,52.308989730200885,47.308989504896516,23.30898842343552,17.308988153070274,26.308988558618143,39.30898914440952,15.308988062948522,36.30898900922689,46.30898945983564,35.30898896416602,35.30898896416602,31.30898878392252,15.308988062948522,38.30898909934864,39.30898914440952,15.308988062948522,23.30898842343552,53.308989775261765,45.308989414774764,27.308988603679015,40.30898918947039,22.308988378374643,32.30898882898339,56.308989910444396,16.308988108009395,51.30898968514001,34.30898891910515,16.308988108009395,22.308988378374643,26.308988558618143,16.308988108009395,19.308988243192022,24.3089884684964,20.308988288252895,20.308988288252895,27.308988603679015,18.308988198131143,38.30898909934864,25.308988513557267,21.308988333313767,15.308988062948522,25.308988513557267,52.308989730200885,17.308988153070274,39.30898914440952,23.30898842343552,27.308988603679015,19.308988243192022,37.308989054287764,23.30898842343552,44.30898936971389,48.308989549957396,41.30898923453127,21.308988333313767,29.308988693800767,19.308988243192022,26.308988558618143,50.30898964007914],\"xaxis\":\"x\",\"y\":[-0.0013969728875239474,0.010099077090558352,0.014254286807575145,-0.011397467606407459,0.017468499710566396,0.004624662967460686,0.006726796701729159,-0.008172232819975212,0.0075619301542920484,0.008592147440909626,0.0058460577934055956,0.0013439393748178791,-0.01608488792005872,0.007511456466113081,0.024120858686812997,-0.005396711368219013,-0.020523542638526168,0.017868573927301203,-0.029862230914497002,-0.026195673023366093,0.01842661659614458,0.023629708398016556,-0.010189302357238462,0.007213312436441163,0.013362907120555035,0.009481933871906463,-0.005966588593732116,0.022410949081909028,0.00016099967316760783,-0.013408005414134635,0.003951383851623088,-0.01912981885931669,0.015041220084429537,0.010006687889928463,-0.026352440271531864,-0.00042171519729970665,-0.01772860490120871,-0.02248072877211803,0.007239880093778436,0.007652232854561948,-0.007975169587100303,0.016798798721281868,0.008920836775141926,-0.042874574209583426,0.011215422731065853,0.0009938443591392704,0.023541159753381467,-0.01988972354198275,-0.0039556586494042005,0.007852168673382473,-0.005860686183838207,-0.010661230147366002,0.019687250004879576,0.00020445939726860884,-0.02661088382171251,-0.025351889541658762,-0.02635713083805826,0.004323101439639622,-0.03881017915030847,-0.013452843096114577,0.013432156239845474,0.0012503011195033789,0.0003215494002534689,-0.01881312331707489,-0.022440605598731338,-0.03213500706119832,0.0035945807888034228,-0.018856756502862705,0.019369626027033716,0.015674295018065332,0.04099723119294154,-0.012170449535268892,-0.010170333124730336,0.006876105766327054,0.024766314893792152,-0.026491470426798083,0.024886883759513947,-0.009492714452375985,-0.0104509661829196,0.02005491311339685,0.0018848081481167781,0.015141120799470881,0.0026044396232019038,0.01722039216960836,-0.014422333201720905,-0.010380029070579633,0.014273635348261756,0.0027330345361205204,0.013395502871758357,0.0019402976900279578,-0.0068347762805818285,0.0007638927539558252,0.003699564026030822,0.011823467608115725,0.00867292431120683,-0.013957921492630695,-0.002140549089337461,-0.017213404956429847,0.0009694264212412401,-0.014226577274214693,-0.01917715474020119,-0.01272596891663527,0.011148245294140548,-0.007691286809808717,0.011825327395759453,0.025623735872260717,-0.02176088507477129,-0.04356072007154693,-0.011673576978608552,0.016085347822326908,0.00668419984671869,0.025793187334295486,-0.019200254068967654,0.008990148474325988,0.002507505286176067,0.01007884897293944,-0.00017007617076733584,0.03147770591203115,-0.007092423398786596,0.00045987836288997815,0.02881959105566797,-0.002676300666726411,-0.02251097549145808,0.018403844785146683,0.002630845715941709,0.021477456433758414,0.03587157396742565,-0.020540789592058774,0.0040360119805021395,-0.00653747808946265,0.011478996903816556,-0.003919838596452995,0.011836539847493907,-0.00883348047206026,-0.0010374948471762295,-0.01990291527944968,-0.011741967149314005,-0.0005650809412563444,-0.01236965047926268,-0.004771930424112791,-0.03368075634293347,-0.020591333954791347,0.014434789479374854,-0.01655547849889025,0.006202985760313695,0.00030582327841243383,-0.013837140604220581,0.017651093046723073,-0.02136600395586344,-0.0027430691076993983,0.0051235622343193685,-0.011346635186129222,0.004605800994807844,0.005898989467692993,-0.032010358987744826,0.007013969567418383,0.032583179891879574,0.007803677916464818,-0.010133253823304926,0.01231148290667507,-0.009880358146968839,0.00495552178091235,0.023198683454169287,0.03171245322190469,-0.00029338107601828027,0.0357162196025285,-0.009648906876973921,-0.015527516285374967,0.045307697467103475,0.010342908075346048,-0.004321554785348367,-0.0024949062489545916,0.008752500338702398,0.004185099741596473,-0.024292911854523366,-0.004336159215448151,0.00197783343306841,0.0012545519027463256,0.005530652863537472,0.013977897370128235,-0.023635330747958747,-0.009544526156561341,-0.0198884502833113,0.00399575446369487,-0.01761696304629939,-0.020484262564234967,0.012735802233520242,-0.020712178824013574,0.03421186722643301,0.021276012202018867,0.00304488532481832,-0.01236673373215122,0.00004880372937114942,-0.010386890140515581,0.04785826179681752,-0.006848771509441112,0.0020331281310278304,0.0112414109742423,0.043013192440972285,0.006409174837650374,0.012728319897687818,-0.011442579731698042,-0.026272680119712535,0.0038283863320861,-0.011039958683176747,0.009813474266428694,-0.0004346177054150521,-0.03461501611259892,0.012358956454734402,0.02658405656860366,-0.022823245523140908,-0.0012849947523452955,0.02779214535407917,-0.007364646449755403,-0.003070173026889549,0.017716876362020836,0.008274454288568572,-0.015544937669565244,0.0033370274255430056,-0.013876735449338462,0.012184280673022001,-0.004252746138487866,-0.01542887594869294,-0.004576794451091638,0.03288071421229487,0.01098259317924888,0.03261669853422569,0.021799374726681628,0.0005969871798630594,-0.0003159289912216064,0.011227954936596257,-0.012330392736594545,-0.053426865899527276,0.010538763032422736,-0.0031963336016765866,-0.0011894956964031815,0.0012677076172402466,-0.0011214691720800095,0.010031098438567814,-0.013612753168181932,-0.005487631702492165,0.01277048025886691,-0.02571170269240573,0.019322589502612855,-0.03247276132639035,0.021831037115606713,0.008363928658259096,0.004427215490507798,-0.00419452248557521,-0.003347275211401235,0.011550174920536086,-0.01917253595753698,-0.021254215789887714,-0.01107686961384704,-0.04666942445456531,-0.005328184983750904,-0.008514401840129037,-0.010467283572272383,-0.028565878447454486,0.0026715996337944342,-0.014090431973196059,0.017864882403937816,0.01605055377426494,-0.006608276572694106,-0.007512030954612825,-0.016965603882840123,-0.01732805234341941,0.0014294952988643515,0.008324422535629645,-0.019747780362554822,0.05803752320875649,-0.005744665305397065,0.04501137352876802,0.006664645185563086,0.011476639919704162,0.003984064838966241,0.006725752958369261,-0.005665205315357053,-0.010940038301885375,0.011612342214638064,0.013408406816540222,0.0036330779511618816,0.007797632400100931,0.005221760788660149,-0.011998755264913605,-0.025277217531579407,-0.011531990817441128,0.0034485623633478497,-0.012751978194414757,0.023423605237476074,-0.007131785539306595,-0.015201177543939438,0.022592435143636232,0.008700360087938343,0.0005164101398790647,-0.010923149274888591,-0.006031517544806963,0.018446461464666823,0.01247428880981109,-0.021393325487067544,-0.008897916052888354,-0.016552412327551603,0.006063481166893595,-0.01166929127916542,0.03735990412821978,0.007475091424358321,0.004572260302501747,-0.005584258826687717,-0.000206609554418111,0.0050648669685401946,-0.0076658307514316775,-0.002475163693565769,-0.019968299352575127,-0.005157147513949205,0.005301204531371542,-0.014543606731989962,0.008436968965791478,-0.002997009710657324,-0.010367928414101587,0.01075885581481389,-0.016679072648767192,0.023814077637345138,0.002156794140875901,0.012664736726502424,-0.0029701765947997773,0.00676405625079292,-0.0026316832356367797,-0.014447485955630364,-0.015202395163006366,-0.02859751157103278,-0.033931193977549894,-0.021246600010721678,-0.020421205271623378,0.03265030170994173,0.014002886371087583,0.00509783374797421,0.009917143104116757,0.0179877131651925,-0.0034411831129986907,0.015103875272738588,0.015862825098867012,-0.017000927001637137,0.006749946487745905,0.006765746278280336,0.02110745146699078,0.022696982676573833,0.004887815416298062,-0.010357189750250875,-0.011770280280317133,0.02960183831162797,0.01697529049074846,0.018912430269929476,-0.020412741118642354,-0.023963308051499727,-0.01657299607496387,-0.007025788673219178,0.03831731738756008,-0.019272262318458383,0.012481447485731604,-0.020334036764189937,0.0012165150225511144,-0.014347206542944314,0.004028263642100172,-0.0023704438119544462,-0.013214248530566302,-0.007992063612713842,0.01591275139546379,-0.0013971556382560224,-0.017980363770789567,-0.010332161052226334,0.001394737790799423,-0.003993389463267632,0.01390356898528392,0.007713705017754249,0.03312661291191848,0.022983024577316238,-0.01991872244668501,-0.008307094250423848,-0.017312035543740275,0.0008558028394982228,-0.006744855385024957,0.01055538009426223,-0.019986484977341373,-0.006595386372872034,0.015502180257676882,0.0012938744736875486,0.014234546791042472,-0.034059699691000755,-0.0038099533938707264,0.007392863312865892,-0.0056067070409823215,-0.0050028521917765845,0.02150668764311141,0.004503222199526226,-0.0036844986045114787,-0.011290556238441017,0.016052077532575242,0.011220199413011313,0.015987507701955683,-0.03058480909189512,-0.010158550923160183,0.01394632231086466,0.00419130511437732,-0.027106783811862066,-0.010580803928482384,0.011443656542152889,0.0077466825029169255,-0.037630277581465414,0.025845859788356275,-0.010159890308465742,0.024491178570845262,0.00482206256937537,0.007119052617756217,0.0006832005983994808,-0.004560153984971434,-0.002752536208640744,0.018326318128227024,0.0032399139943546243,-0.017742585480747475,0.008713533256273432,-0.03827590363105674,-0.004989394363241153,0.013605916576193651,0.0002939937832977397,0.02532219713603533,-0.028091485541063718,-0.004172130842789194,-0.006210971361530556,-0.011851149439211816,0.015483609635569764,-0.012562166588263295,0.013882594058318407,0.00009491443020543014,-0.02881988790453286,-0.004607167055210505,0.0021159642213090116,0.0010565536827585112,-0.017734271869520177,-0.009340884497284213,-0.023250038910832674,-0.005963848499132323,0.008527107517410148,-0.0005284908904273388,-0.013447747778108334,0.03512518673360956,0.014224038005377151,-0.014121451294678646,0.014815127568879543,-0.017670714763703868,0.01615060168572042,0.006361991825878524,-0.011145453117918522,0.013119139163200951,0.003783515647764539,0.0119301597976728,0.00028058510551350903,0.024455247512666284,0.0024823125054229496,-0.014901250903552187,0.04231190329965224,-0.024215234623239077,-0.021106784577309017,0.0024471578458006003,0.020355317269595018,-0.016418000795252623,-0.0010379932532862718,0.004283366698850753,-0.0011585240758462524,0.015583171241509647,-0.0035730611442336005,-0.018569092179951285,0.023274313989238963,0.0075996125985955156,-0.012018035810944095,-0.001004039546595845,-0.006360135481310699,0.011258790935242876,-0.0009038665163443409,0.0026093721822300887,0.006593626381095426,-0.007714023005711702,-0.016342394584411578,0.016451421030855392,0.00775101727194688,-0.01781694906631259,0.00563925610817871,0.02022626876053483,0.01175954941609444,0.007343035230180663,0.02896072408807293,-0.0022181873056487797,-0.014501842085154646,-0.011379987606751171,-0.015474353045108824,-0.00682846998268313,0.02311717541354745,-0.018153191805194254,-0.015050542329161778,0.03526633538753579,-0.01797920000509594,0.01643717515699932,0.007179504693177987,0.013813003496783084,-0.005726176663573273,-0.015830316870398452,-0.03686254070356662,0.004670913753489521],\"yaxis\":\"y\",\"type\":\"scattergl\",\"textposition\":\"top center\"},{\"customdata\":[[\"2172\"],[\"2206\"],[\"2201\"],[\"2543\"],[\"2200\"],[\"2275\"],[\"2190\"],[\"2054\"],[\"2199\"],[\"2278\"],[\"2140\"],[\"2154\"],[\"2007\"],[\"2142\"],[\"2271\"],[\"2188\"],[\"2078\"],[\"2184\"],[\"2150\"],[\"2384\"],[\"2290\"],[\"2074\"],[\"2112\"],[\"2081\"],[\"1078\"],[\"2468\"],[\"2118\"],[\"2289\"],[\"2283\"],[\"2233\"],[\"2108\"],[\"2121\"],[\"2240\"],[\"2244\"],[\"2104\"],[\"2103\"],[\"2229\"],[\"1126\"],[\"1086\"],[\"2253\"],[\"2123\"],[\"2133\"],[\"2220\"],[\"2124\"],[\"2218\"],[\"2093\"],[\"2111\"],[\"2090\"],[\"1516\"],[\"2598\"],[\"2131\"],[\"2139\"],[\"2088\"],[\"2308\"],[\"348\"],[\"1522\"],[\"2073\"],[\"2630\"],[\"2625\"],[\"1827\"],[\"2624\"],[\"2619\"],[\"2615\"],[\"2611\"],[\"2607\"],[\"2638\"],[\"2604\"],[\"2602\"],[\"2601\"],[\"2600\"],[\"2593\"],[\"1835\"],[\"2590\"],[\"2586\"],[\"1839\"],[\"2578\"],[\"1833\"],[\"1577\"],[\"1813\"],[\"2655\"],[\"414\"],[\"1663\"],[\"483\"],[\"1707\"],[\"1714\"],[\"925\"],[\"686\"],[\"1622\"],[\"1730\"],[\"1621\"],[\"1736\"],[\"1746\"],[\"1613\"],[\"946\"],[\"1768\"],[\"1612\"],[\"1610\"],[\"1800\"],[\"1804\"],[\"1589\"],[\"1584\"],[\"1559\"],[\"2564\"],[\"1554\"],[\"1551\"],[\"2395\"],[\"2328\"],[\"2333\"],[\"2347\"],[\"2381\"],[\"2376\"],[\"2374\"],[\"2370\"],[\"2369\"],[\"2363\"],[\"1059\"],[\"2542\"],[\"2356\"],[\"2354\"],[\"2352\"],[\"2340\"],[\"2339\"],[\"2331\"],[\"2326\"],[\"2324\"],[\"2323\"],[\"2266\"],[\"2309\"],[\"2404\"],[\"2414\"],[\"2560\"],[\"2559\"],[\"2553\"],[\"2551\"],[\"2550\"],[\"2549\"],[\"2526\"],[\"2520\"],[\"2507\"],[\"2500\"],[\"2492\"],[\"2482\"],[\"2464\"],[\"2460\"],[\"2446\"],[\"1941\"],[\"2047\"],[\"2428\"],[\"2087\"],[\"2423\"],[\"1888\"],[\"2409\"],[\"2410\"],[\"0\"],[\"1979\"],[\"1390\"],[\"1399\"],[\"2043\"],[\"1211\"],[\"2037\"],[\"1431\"],[\"2020\"],[\"2045\"],[\"1377\"],[\"2033\"],[\"2030\"],[\"1184\"],[\"1185\"],[\"1983\"],[\"1984\"],[\"1985\"],[\"1376\"],[\"1352\"],[\"1367\"],[\"1471\"],[\"1966\"],[\"1993\"],[\"2059\"],[\"1918\"],[\"2069\"],[\"1946\"],[\"1199\"],[\"1943\"],[\"1938\"],[\"1391\"],[\"2064\"],[\"1971\"],[\"1917\"],[\"1962\"]],\"hovertemplate\":\"Cluster=Cluster 4\\u003cbr\\u003ePCA1=%{x}\\u003cbr\\u003ePCA2=%{y}\\u003cbr\\u003eFeature=%{customdata[0]}\\u003cextra\\u003e\\u003c\\u002fextra\\u003e\",\"legendgroup\":\"Cluster 4\",\"marker\":{\"color\":\"#FFA15A\",\"opacity\":0.5,\"symbol\":\"circle\"},\"mode\":\"markers\",\"name\":\"Cluster 4\",\"showlegend\":true,\"x\":[149.30899410110575,166.30899486714063,146.3089939659231,250.3089986522541,129.30899319988822,141.30899374061872,124.30899297458387,119.30899274927948,131.30899329001,130.30899324494914,127.30899310976649,116.3089926140969,127.30899310976649,177.3089953628102,136.30899351531434,150.30899414616664,160.30899459677536,142.3089937856796,148.30899405604487,144.30899387580135,140.30899369555786,118.30899270421861,116.3089926140969,128.3089931548274,139.30899365049697,133.30899338013174,144.30899387580135,116.3089926140969,117.30899265915777,178.3089954078711,120.30899279434036,114.30899252397512,157.3089944615927,156.30899441653185,137.30899356037523,140.30899369555786,163.30899473195797,154.30899432641013,161.30899464183622,113.30899247891425,159.30899455171448,115.30899256903602,151.3089941912275,125.30899301964475,161.30899464183622,133.30899338013174,140.30899369555786,145.30899392086224,115.30899256903602,120.30899279434036,154.30899432641013,134.30899342519263,154.30899432641013,112.30899243385338,185.30899572329722,112.30899243385338,151.3089941912275,129.30899319988822,142.3089937856796,157.3089944615927,144.30899387580135,120.30899279434036,141.30899374061872,163.30899473195797,151.3089941912275,122.30899288446213,152.30899423628838,154.30899432641013,146.3089939659231,138.30899360543611,141.30899374061872,138.30899360543611,153.30899428134924,143.30899383074046,121.30899283940123,120.30899279434036,147.30899401098398,126.30899306470562,112.30899243385338,124.30899297458387,115.30899256903602,191.30899599366245,187.308995813419,141.30899374061872,143.30899383074046,123.308992929523,126.30899306470562,133.30899338013174,182.3089955881146,145.30899392086224,112.30899243385338,158.3089945066536,138.30899360543611,122.30899288446213,165.3089948220797,146.3089939659231,135.30899347025345,201.3089964442712,151.3089941912275,161.30899464183622,167.30899491220146,142.3089937856796,144.30899387580135,116.3089926140969,127.30899310976649,135.30899347025345,122.30899288446213,116.3089926140969,247.30899851707147,132.30899333507088,135.30899347025345,124.30899297458387,114.30899252397512,153.30899428134924,123.308992929523,121.30899283940123,152.30899423628838,128.3089931548274,133.30899338013174,124.30899297458387,154.30899432641013,138.30899360543611,146.3089939659231,136.30899351531434,153.30899428134924,139.30899365049697,190.3089959486016,155.30899437147096,126.30899306470562,139.30899365049697,157.3089944615927,121.30899283940123,129.30899319988822,114.30899252397512,118.30899270421861,117.30899265915777,147.30899401098398,121.30899283940123,157.3089944615927,137.30899356037523,134.30899342519263,116.3089926140969,158.3089945066536,125.30899301964475,117.30899265915777,179.30899545293195,161.30899464183622,147.30899401098398,112.30899243385338,121.30899283940123,210.30899684981912,134.30899342519263,163.30899473195797,303.30900104048,132.30899333507088,149.30899410110575,134.30899342519263,130.30899324494914,129.30899319988822,129.30899319988822,176.30899531774935,114.30899252397512,132.30899333507088,146.3089939659231,129.30899319988822,143.30899383074046,114.30899252397512,112.30899243385338,155.30899437147096,134.30899342519263,180.30899549799287,138.30899360543611,190.3089959486016,122.30899288446213,125.30899301964475,128.3089931548274,159.30899455171448,149.30899410110575,117.30899265915777,124.30899297458387,147.30899401098398,173.30899518256675,148.30899405604487,145.30899392086224,131.30899329001,142.3089937856796,132.30899333507088,146.3089939659231,143.30899383074046],\"xaxis\":\"x\",\"y\":[-0.010394342592032181,0.027671060887072198,-0.004080443797769976,-0.003803821468289993,0.010624963010555766,0.00247349939499794,-0.008996887198576062,0.0033509733574270634,0.008204370102734893,-0.0028081569059878186,-0.003021858903516123,-0.00012049980438555275,-0.011054127427062735,-0.026810432476475743,0.0024130816658621103,0.0013475411296804997,-0.025572789633841603,0.027179059292844317,-0.0373315048389026,0.014620436137740186,-0.030728582672622247,-0.00483518946116921,-0.018183785361576287,-0.002137972452844565,-0.017174811098987594,0.018423740514836973,-0.023597772629916015,0.008260933306086928,0.00784451594836327,0.0005070439042090178,-0.006176699624513417,-0.020451167209096347,-0.006792304077884833,0.0050806329670443,-0.0010079301087561143,0.0045563032219610505,-0.006474807030707756,0.025911117474694437,-0.004089209626246839,-0.02694784366110261,-0.005576445201502655,-0.012925774137949325,-0.021397915645249902,0.0034948720468507056,-0.010706912193062105,0.01630647827692207,0.029126394199894413,0.0011178140044246965,-0.0008369944389531468,0.014616447258706804,-0.02646065742517937,0.004196569638184818,0.010667515489423992,0.0008384176938825026,-0.021112903140808617,0.0018526500477770052,0.007166176597950262,-0.007253807109152696,-0.004199579766533867,0.01314753389294501,-0.011047415096488985,0.042474963779523936,0.028796665588762566,0.0017839267836842533,0.019804830495238557,0.00030703392377437493,-0.036278574158544234,-0.015979458188168476,-0.010852655572073905,0.025249452371672098,-0.02040271092699568,-0.0144382474439265,-0.007248445069731485,-0.005128483681303725,0.007989889040935859,-0.021949703872530573,-0.01087860581367556,0.0031832623547265503,-0.000920097551209805,0.003068907575418214,0.02236585903245648,-0.021150297931033374,0.005990176057071071,-0.02372783074972341,-0.026182575166928637,0.0171446329938993,-0.0052382704005136515,-0.02540475644999496,-0.0007280091677214969,-0.017092626364465114,0.011770105247091859,0.014042622580336254,0.0028198264402579387,-0.043966701714044334,0.002264082882688305,0.015402640426357292,0.010177469456654606,-0.015735383133499148,-0.019695926357142617,-0.0013702118732923697,-0.012922966037035976,0.00281004563606124,0.02326003971150673,0.0013056628709295715,-0.006340402468736383,0.01318755206800611,0.00485156844870432,0.029289986910912492,-0.03449252910985246,-0.00805708387930469,0.017645248591582167,0.024601166590522583,0.011894536233910161,0.019742446865561404,0.012589103084192062,-0.013791885442803062,-0.02366802953539106,-0.0016280958140764475,-0.008287140702177977,0.004049217675325937,0.004838417729274695,-0.021116327538305227,-0.01575750894811876,-0.018262770646944,0.00019965345822241834,-0.0037615114379944818,0.007821700616181898,0.0028948372989069785,-0.003469348204324857,0.010336824222142169,-0.019535393705501558,0.026095149860245213,-0.012225415713099408,-0.02986325593668841,-0.002316813269911631,0.018780178313290805,0.02780247233552636,-0.00788770057934628,-0.00860056170547402,0.014881638501933855,0.00666185021907474,-0.008275158234736011,0.00914921670289612,0.020381664091970744,-0.02468100408817042,-0.019349758200314815,0.02177045382338979,-0.013020824653783063,0.00528256657213806,0.010778080786939752,-0.0024562413062058593,0.0087639507550927,-0.0034169933046011105,0.012250428537872659,-0.0008252032290288803,-0.01442117206232704,0.006129551424363902,0.03293953404690308,-0.01155411475967877,0.006783259084715144,0.013837055954858029,0.028562863433266368,-0.0054392548068372525,0.006113907933472082,0.015518071927206039,0.007364026843593499,0.009884208753996617,0.017745241395546296,-0.020770561257295723,0.006061469348377106,-0.0013400482249870563,0.00678364836313061,0.024885797575841393,-0.015389925606924888,-0.01090275604475387,0.00772822689347899,-0.020241953812410573,0.00023533066483300696,0.034393066797653006,-0.008877887421157348,-0.005565716744106111,-0.001264208754727381,0.028731770247545023,0.0021156750769520706,0.0008753628965293275,-0.0004084268254323102,0.014527715339431011,0.01802058195211542,-0.002067127656888878],\"yaxis\":\"y\",\"type\":\"scattergl\",\"textposition\":\"top center\"},{\"customdata\":[[\"3693\"],[\"3705\"],[\"261\"],[\"1774\"],[\"1770\"],[\"1758\"],[\"1763\"],[\"1389\"],[\"1766\"],[\"3207\"],[\"1767\"],[\"272\"],[\"265\"],[\"1283\"],[\"3702\"],[\"653\"],[\"2067\"],[\"2950\"],[\"1754\"],[\"3219\"],[\"1392\"],[\"1725\"],[\"1727\"],[\"291\"],[\"1728\"],[\"1278\"],[\"1279\"],[\"1732\"],[\"1733\"],[\"3672\"],[\"285\"],[\"1734\"],[\"3213\"],[\"1740\"],[\"3680\"],[\"280\"],[\"3212\"],[\"1744\"],[\"1778\"],[\"1751\"],[\"3687\"],[\"1281\"],[\"654\"],[\"3206\"],[\"3718\"],[\"3711\"],[\"683\"],[\"1382\"],[\"1821\"],[\"645\"],[\"604\"],[\"669\"],[\"591\"],[\"1824\"],[\"3758\"],[\"224\"],[\"223\"],[\"570\"],[\"1825\"],[\"3193\"],[\"3191\"],[\"2970\"],[\"1828\"],[\"3188\"],[\"560\"],[\"3187\"],[\"557\"],[\"213\"],[\"556\"],[\"211\"],[\"555\"],[\"1381\"],[\"1831\"],[\"1832\"],[\"3764\"],[\"1785\"],[\"1818\"],[\"236\"],[\"3204\"],[\"1787\"],[\"1790\"],[\"1794\"],[\"3203\"],[\"2953\"],[\"592\"],[\"1798\"],[\"3722\"],[\"1285\"],[\"579\"],[\"2955\"],[\"1806\"],[\"614\"],[\"3728\"],[\"3730\"],[\"3731\"],[\"573\"],[\"609\"],[\"3734\"],[\"630\"],[\"3196\"],[\"3737\"],[\"3738\"],[\"1812\"],[\"3740\"],[\"2958\"],[\"680\"],[\"1807\"],[\"687\"],[\"3220\"],[\"1723\"],[\"1655\"],[\"1656\"],[\"781\"],[\"780\"],[\"2924\"],[\"3250\"],[\"774\"],[\"3568\"],[\"1398\"],[\"773\"],[\"420\"],[\"389\"],[\"3559\"],[\"1265\"],[\"1666\"],[\"3576\"],[\"766\"],[\"1667\"],[\"764\"],[\"760\"],[\"1671\"],[\"1673\"],[\"3584\"],[\"754\"],[\"752\"],[\"1677\"],[\"770\"],[\"3558\"],[\"3557\"],[\"596\"],[\"1634\"],[\"3526\"],[\"1635\"],[\"3528\"],[\"3529\"],[\"908\"],[\"3261\"],[\"3260\"],[\"3259\"],[\"1638\"],[\"903\"],[\"902\"],[\"901\"],[\"3257\"],[\"800\"],[\"898\"],[\"3542\"],[\"1642\"],[\"2921\"],[\"3255\"],[\"1645\"],[\"1647\"],[\"1649\"],[\"787\"],[\"3253\"],[\"3553\"],[\"784\"],[\"1679\"],[\"3590\"],[\"3243\"],[\"3593\"],[\"3237\"],[\"3629\"],[\"323\"],[\"3234\"],[\"718\"],[\"1705\"],[\"3635\"],[\"1706\"],[\"3231\"],[\"1393\"],[\"3228\"],[\"3640\"],[\"315\"],[\"708\"],[\"313\"],[\"2945\"],[\"3225\"],[\"703\"],[\"3224\"],[\"1275\"],[\"697\"],[\"696\"],[\"304\"],[\"695\"],[\"694\"],[\"1720\"],[\"1722\"],[\"325\"],[\"688\"],[\"3625\"],[\"724\"],[\"2929\"],[\"2931\"],[\"747\"],[\"346\"],[\"745\"],[\"3599\"],[\"1682\"],[\"2932\"],[\"342\"],[\"1686\"],[\"1687\"],[\"3605\"],[\"739\"],[\"339\"],[\"1396\"],[\"3238\"],[\"3611\"],[\"1692\"],[\"1694\"],[\"334\"],[\"1695\"],[\"332\"],[\"3617\"],[\"728\"],[\"726\"],[\"329\"],[\"1699\"],[\"1702\"],[\"1292\"],[\"3794\"],[\"547\"],[\"1910\"],[\"1911\"],[\"3945\"],[\"1318\"],[\"3947\"],[\"1319\"],[\"3124\"],[\"3951\"],[\"3123\"],[\"3010\"],[\"1365\"],[\"3014\"],[\"82\"],[\"3016\"],[\"1976\"],[\"1991\"],[\"3018\"],[\"3021\"],[\"368\"],[\"367\"],[\"3966\"],[\"1998\"],[\"3968\"],[\"3114\"],[\"2004\"],[\"3971\"],[\"3118\"],[\"360\"],[\"387\"],[\"1909\"],[\"1897\"],[\"419\"],[\"104\"],[\"3004\"],[\"1369\"],[\"1315\"],[\"1903\"],[\"3918\"],[\"409\"],[\"98\"],[\"3921\"],[\"408\"],[\"388\"],[\"1904\"],[\"404\"],[\"3926\"],[\"1907\"],[\"402\"],[\"1316\"],[\"3930\"],[\"398\"],[\"397\"],[\"396\"],[\"3129\"],[\"394\"],[\"392\"],[\"3924\"],[\"1313\"],[\"3023\"],[\"2018\"],[\"3085\"],[\"2494\"],[\"3041\"],[\"1355\"],[\"2459\"],[\"2447\"],[\"1336\"],[\"3080\"],[\"3046\"],[\"3077\"],[\"2378\"],[\"3047\"],[\"2502\"],[\"2337\"],[\"1337\"],[\"2284\"],[\"3072\"],[\"9\"],[\"1350\"],[\"3052\"],[\"1349\"],[\"2225\"],[\"1348\"],[\"1343\"],[\"3065\"],[\"2157\"],[\"13\"],[\"2009\"],[\"3086\"],[\"3087\"],[\"2024\"],[\"355\"],[\"2027\"],[\"1324\"],[\"53\"],[\"3025\"],[\"3107\"],[\"3029\"],[\"1360\"],[\"1327\"],[\"3102\"],[\"2660\"],[\"2529\"],[\"3036\"],[\"1357\"],[\"2640\"],[\"2636\"],[\"40\"],[\"1332\"],[\"1333\"],[\"3089\"],[\"2583\"],[\"2571\"],[\"2547\"],[\"3040\"],[\"2538\"],[\"2647\"],[\"548\"],[\"423\"],[\"1895\"],[\"1848\"],[\"1850\"],[\"1374\"],[\"512\"],[\"511\"],[\"1851\"],[\"172\"],[\"3822\"],[\"3166\"],[\"3824\"],[\"3825\"],[\"3826\"],[\"520\"],[\"170\"],[\"3829\"],[\"169\"],[\"1299\"],[\"3833\"],[\"504\"],[\"503\"],[\"1300\"],[\"3160\"],[\"3158\"],[\"496\"],[\"1858\"],[\"3841\"],[\"3828\"],[\"3842\"],[\"1846\"],[\"523\"],[\"3782\"],[\"203\"],[\"546\"],[\"545\"],[\"200\"],[\"199\"],[\"1293\"],[\"542\"],[\"3790\"],[\"3177\"],[\"1837\"],[\"3793\"],[\"3810\"],[\"810\"],[\"3176\"],[\"1841\"],[\"531\"],[\"3800\"],[\"1843\"],[\"2977\"],[\"188\"],[\"3804\"],[\"527\"],[\"186\"],[\"1379\"],[\"1378\"],[\"537\"],[\"109\"],[\"1859\"],[\"1303\"],[\"1880\"],[\"452\"],[\"1881\"],[\"1882\"],[\"3884\"],[\"128\"],[\"1884\"],[\"1885\"],[\"445\"],[\"444\"],[\"2996\"],[\"439\"],[\"455\"],[\"1309\"],[\"1310\"],[\"118\"],[\"434\"],[\"432\"],[\"1371\"],[\"3900\"],[\"430\"],[\"3902\"],[\"113\"],[\"3137\"],[\"3135\"],[\"3906\"],[\"3142\"],[\"493\"],[\"2993\"],[\"1307\"],[\"1304\"],[\"1862\"],[\"488\"],[\"487\"],[\"1863\"],[\"482\"],[\"481\"],[\"479\"],[\"1866\"],[\"473\"],[\"471\"],[\"3858\"],[\"1878\"],[\"2987\"],[\"1872\"],[\"1873\"],[\"2989\"],[\"463\"],[\"142\"],[\"141\"],[\"1875\"],[\"3869\"],[\"461\"],[\"3148\"],[\"3873\"],[\"1876\"],[\"3860\"],[\"3264\"],[\"3506\"],[\"913\"],[\"2311\"],[\"1068\"],[\"3386\"],[\"3258\"],[\"1927\"],[\"2317\"],[\"2318\"],[\"3079\"],[\"1064\"],[\"2322\"],[\"2772\"],[\"2773\"],[\"1519\"],[\"1923\"],[\"1921\"],[\"3020\"],[\"2335\"],[\"1919\"],[\"2342\"],[\"2345\"],[\"2346\"],[\"1524\"],[\"1525\"],[\"2350\"],[\"1914\"],[\"2330\"],[\"3062\"],[\"2155\"],[\"2770\"],[\"3265\"],[\"1082\"],[\"1960\"],[\"1081\"],[\"1958\"],[\"2215\"],[\"1957\"],[\"2163\"],[\"2272\"],[\"2274\"],[\"1164\"],[\"2765\"],[\"1166\"],[\"1468\"],[\"2137\"],[\"1942\"],[\"1167\"],[\"1935\"],[\"2296\"],[\"2297\"],[\"1469\"],[\"1170\"],[\"1931\"],[\"2303\"],[\"2768\"],[\"1517\"],[\"3385\"],[\"1944\"],[\"2259\"],[\"2031\"],[\"1060\"],[\"2285\"],[\"1190\"],[\"2797\"],[\"2239\"],[\"2406\"],[\"2198\"],[\"1454\"],[\"1453\"],[\"3403\"],[\"2411\"],[\"2412\"],[\"1452\"],[\"2293\"],[\"2415\"],[\"1195\"],[\"3400\"],[\"3399\"],[\"1451\"],[\"1044\"],[\"2425\"],[\"2806\"],[\"3395\"],[\"3394\"],[\"1448\"],[\"2810\"],[\"1041\"],[\"2416\"],[\"2003\"],[\"1051\"],[\"1189\"],[\"2530\"],[\"3435\"],[\"2361\"],[\"2783\"],[\"2784\"],[\"2365\"],[\"2366\"],[\"2367\"],[\"2785\"],[\"1179\"],[\"2371\"],[\"1180\"],[\"2397\"],[\"2787\"],[\"1460\"],[\"2379\"],[\"1054\"],[\"2385\"],[\"3422\"],[\"2387\"],[\"1458\"],[\"2390\"],[\"1188\"],[\"3416\"],[\"2393\"],[\"3415\"],[\"1183\"],[\"2432\"],[\"2258\"],[\"2758\"],[\"1122\"],[\"2675\"],[\"1485\"],[\"1120\"],[\"2035\"],[\"1142\"],[\"2673\"],[\"2126\"],[\"2129\"],[\"1118\"],[\"2029\"],[\"2672\"],[\"2720\"],[\"2025\"],[\"1504\"],[\"2021\"],[\"2145\"],[\"1116\"],[\"2147\"],[\"1115\"],[\"1482\"],[\"2156\"],[\"1114\"],[\"2159\"],[\"1113\"],[\"2728\"],[\"2022\"],[\"1112\"],[\"2110\"],[\"2107\"],[\"2708\"],[\"2075\"],[\"2705\"],[\"2061\"],[\"2711\"],[\"1131\"],[\"1496\"],[\"1497\"],[\"2085\"],[\"2690\"],[\"2712\"],[\"2057\"],[\"2718\"],[\"2713\"],[\"2092\"],[\"2715\"],[\"1500\"],[\"1136\"],[\"2684\"],[\"2097\"],[\"1137\"],[\"2049\"],[\"1503\"],[\"2717\"],[\"2681\"],[\"2680\"],[\"2091\"],[\"2761\"],[\"2731\"],[\"2011\"],[\"1987\"],[\"2214\"],[\"2609\"],[\"1513\"],[\"2221\"],[\"2222\"],[\"2226\"],[\"1092\"],[\"2228\"],[\"2749\"],[\"1981\"],[\"2231\"],[\"1512\"],[\"2544\"],[\"2234\"],[\"2519\"],[\"2236\"],[\"2751\"],[\"1975\"],[\"2242\"],[\"1514\"],[\"2753\"],[\"2389\"],[\"2756\"],[\"1968\"],[\"2355\"],[\"1980\"],[\"2668\"],[\"2211\"],[\"2209\"],[\"2665\"],[\"1109\"],[\"1108\"],[\"2006\"],[\"2173\"],[\"2739\"],[\"1106\"],[\"1507\"],[\"2662\"],[\"2000\"],[\"1508\"],[\"1999\"],[\"1511\"],[\"1102\"],[\"2743\"],[\"2192\"],[\"3111\"],[\"3097\"],[\"1099\"],[\"2745\"],[\"2202\"],[\"3355\"],[\"1097\"],[\"1473\"],[\"1155\"],[\"2999\"],[\"2741\"],[\"3521\"],[\"1529\"],[\"2435\"],[\"2645\"],[\"1407\"],[\"2648\"],[\"1578\"],[\"2896\"],[\"2652\"],[\"1582\"],[\"1245\"],[\"975\"],[\"2657\"],[\"2658\"],[\"2659\"],[\"2644\"],[\"3303\"],[\"1587\"],[\"3442\"],[\"971\"],[\"3301\"],[\"969\"],[\"968\"],[\"1246\"],[\"3448\"],[\"3449\"],[\"1406\"],[\"1593\"],[\"1595\"],[\"2897\"],[\"963\"],[\"1408\"],[\"2887\"],[\"1229\"],[\"1567\"],[\"3327\"],[\"2610\"],[\"2871\"],[\"2612\"],[\"2613\"],[\"984\"],[\"1232\"],[\"1568\"],[\"2874\"],[\"2620\"],[\"2639\"],[\"1569\"],[\"2875\"],[\"1415\"],[\"3316\"],[\"2626\"],[\"2627\"],[\"2628\"],[\"1236\"],[\"1572\"],[\"2881\"],[\"2633\"],[\"3313\"],[\"2637\"],[\"981\"],[\"1565\"],[\"3455\"],[\"3298\"],[\"834\"],[\"936\"],[\"2914\"],[\"830\"],[\"829\"],[\"3275\"],[\"827\"],[\"930\"],[\"3272\"],[\"1257\"],[\"824\"],[\"823\"],[\"938\"],[\"1258\"],[\"1624\"],[\"922\"],[\"820\"],[\"819\"],[\"919\"],[\"1626\"],[\"1259\"],[\"3514\"],[\"815\"],[\"915\"],[\"3518\"],[\"1260\"],[\"924\"],[\"962\"],[\"3488\"],[\"1616\"],[\"1601\"],[\"3460\"],[\"959\"],[\"856\"],[\"853\"],[\"3464\"],[\"1405\"],[\"1606\"],[\"954\"],[\"3468\"],[\"3469\"],[\"849\"],[\"3486\"],[\"847\"],[\"1404\"],[\"3288\"],[\"3475\"],[\"948\"],[\"3287\"],[\"3285\"],[\"842\"],[\"944\"],[\"2907\"],[\"840\"],[\"941\"],[\"2908\"],[\"3296\"],[\"3391\"],[\"2865\"],[\"1225\"],[\"2480\"],[\"3001\"],[\"2823\"],[\"1438\"],[\"2892\"],[\"1437\"],[\"2775\"],[\"3377\"],[\"2488\"],[\"2829\"],[\"1020\"],[\"1436\"],[\"2479\"],[\"1019\"],[\"1018\"],[\"3962\"],[\"1435\"],[\"3886\"],[\"3877\"],[\"3369\"],[\"2832\"],[\"1015\"],[\"3365\"],[\"3750\"],[\"1012\"],[\"2518\"],[\"1210\"],[\"3364\"],[\"3381\"],[\"2476\"],[\"3011\"],[\"2976\"],[\"1039\"],[\"1532\"],[\"1037\"],[\"1036\"],[\"3034\"],[\"1446\"],[\"2448\"],[\"2449\"],[\"1533\"],[\"2813\"],[\"3100\"],[\"3412\"],[\"1534\"],[\"2815\"],[\"3331\"],[\"3384\"],[\"3304\"],[\"1444\"],[\"3295\"],[\"1440\"],[\"3168\"],[\"3162\"],[\"2473\"],[\"1025\"],[\"1201\"],[\"1226\"],[\"2835\"],[\"1010\"],[\"2844\"],[\"1555\"],[\"2846\"],[\"3721\"],[\"1429\"],[\"994\"],[\"3677\"],[\"3346\"],[\"3609\"],[\"2850\"],[\"2576\"],[\"992\"],[\"1553\"],[\"1428\"],[\"3501\"],[\"990\"],[\"989\"],[\"2585\"],[\"3341\"],[\"988\"],[\"2854\"],[\"3797\"],[\"1425\"],[\"3586\"],[\"3495\"],[\"3456\"],[\"3577\"],[\"1011\"],[\"2843\"],[\"1219\"],[\"1009\"],[\"2525\"],[\"2836\"],[\"3692\"],[\"3674\"],[\"3651\"],[\"1541\"],[\"1542\"],[\"3540\"],[\"3525\"],[\"1543\"],[\"1545\"],[\"1432\"],[\"2540\"],[\"3248\"],[\"1548\"],[\"1001\"],[\"2840\"],[\"1215\"],[\"1216\"],[\"1549\"],[\"1217\"],[\"2841\"],[\"1550\"],[\"2557\"],[\"3005\"],[\"3263\"],[\"2440\"]],\"hovertemplate\":\"Cluster=Cluster 5\\u003cbr\\u003ePCA1=%{x}\\u003cbr\\u003ePCA2=%{y}\\u003cbr\\u003eFeature=%{customdata[0]}\\u003cextra\\u003e\\u003c\\u002fextra\\u003e\",\"legendgroup\":\"Cluster 5\",\"marker\":{\"color\":\"#19d3f3\",\"opacity\":0.5,\"symbol\":\"circle\"},\"mode\":\"markers\",\"name\":\"Cluster 5\",\"showlegend\":true,\"x\":[-14.691013288877716,-5.691012883329847,-5.691012883329847,-3.691012793208098,3.308987522218026,-16.69101337899947,-11.691013153695096,2.3089874771571504,-3.691012793208098,-2.691012748147223,-7.691012973451597,1.3089874320962758,-16.69101337899947,-11.691013153695096,-5.691012883329847,-15.691013333938596,-10.691013108634221,4.3089875672789,13.308987972826772,-4.691012838268972,-6.691012928390722,7.308987702461524,-11.691013153695096,-7.691012973451597,-11.691013153695096,-7.691012973451597,0.3089873870354013,4.3089875672789,-5.691012883329847,3.308987522218026,3.308987522218026,5.308987612339775,-7.691012973451597,-6.691012928390722,-0.6910126580254735,-0.6910126580254735,-8.691013018512473,-6.691012928390722,-5.691012883329847,6.30898765740065,-10.691013108634221,-2.691012748147223,-10.691013108634221,7.308987702461524,-16.69101337899947,-14.691013288877716,-10.691013108634221,-2.691012748147223,-16.69101337899947,-14.691013288877716,-8.691013018512473,-9.691013063573347,2.3089874771571504,14.308988017887648,0.3089873870354013,-15.691013333938596,-16.69101337899947,-8.691013018512473,-14.691013288877716,-16.69101337899947,-3.691012793208098,0.3089873870354013,12.308987927765898,7.308987702461524,-13.691013243816844,-9.691013063573347,-6.691012928390722,-4.691012838268972,4.3089875672789,-13.691013243816844,-5.691012883329847,-16.69101337899947,-1.6910127030863484,2.3089874771571504,-14.691013288877716,-13.691013243816844,-13.691013243816844,-6.691012928390722,3.308987522218026,-5.691012883329847,-5.691012883329847,13.308987972826772,-12.691013198755972,-9.691013063573347,-2.691012748147223,-9.691013063573347,-10.691013108634221,11.308987882705024,-4.691012838268972,0.3089873870354013,-11.691013153695096,-11.691013153695096,-15.691013333938596,-15.691013333938596,-3.691012793208098,-11.691013153695096,-13.691013243816844,5.308987612339775,-4.691012838268972,-3.691012793208098,-4.691012838268972,-13.691013243816844,0.3089873870354013,-16.69101337899947,-1.6910127030863484,-16.69101337899947,7.308987702461524,-15.691013333938596,10.30898783764415,5.308987612339775,12.308987927765898,-9.691013063573347,8.308987747522398,-9.691013063573347,-3.691012793208098,-9.691013063573347,-6.691012928390722,-8.691013018512473,0.3089873870354013,-7.691012973451597,-9.691013063573347,4.3089875672789,-16.69101337899947,-12.691013198755972,-7.691012973451597,-1.6910127030863484,-8.691013018512473,-16.69101337899947,-15.691013333938596,-13.691013243816844,-11.691013153695096,-3.691012793208098,5.308987612339775,-13.691013243816844,-5.691012883329847,-7.691012973451597,-16.69101337899947,-5.691012883329847,-12.691013198755972,2.3089874771571504,-5.691012883329847,-13.691013243816844,-9.691013063573347,-7.691012973451597,-8.691013018512473,-11.691013153695096,10.30898783764415,-15.691013333938596,-12.691013198755972,-9.691013063573347,-9.691013063573347,2.3089874771571504,-9.691013063573347,-1.6910127030863484,-6.691012928390722,-5.691012883329847,-10.691013108634221,-15.691013333938596,-3.691012793208098,-11.691013153695096,12.308987927765898,6.30898765740065,-8.691013018512473,-14.691013288877716,7.308987702461524,-10.691013108634221,-3.691012793208098,-16.69101337899947,-16.69101337899947,-16.69101337899947,3.308987522218026,-15.691013333938596,-6.691012928390722,-4.691012838268972,-10.691013108634221,-13.691013243816844,-16.69101337899947,-16.69101337899947,-1.6910127030863484,-15.691013333938596,9.308987792583274,-7.691012973451597,-1.6910127030863484,12.308987927765898,-14.691013288877716,-6.691012928390722,10.30898783764415,-15.691013333938596,-0.6910126580254735,11.308987882705024,13.308987972826772,8.308987747522398,-12.691013198755972,11.308987882705024,-2.691012748147223,10.30898783764415,5.308987612339775,12.308987927765898,-4.691012838268972,1.3089874320962758,-6.691012928390722,3.308987522218026,4.3089875672789,9.308987792583274,13.308987972826772,-16.69101337899947,13.308987972826772,-10.691013108634221,-5.691012883329847,-3.691012793208098,-9.691013063573347,-8.691013018512473,-0.6910126580254735,-4.691012838268972,-14.691013288877716,-16.69101337899947,10.30898783764415,-2.691012748147223,13.308987972826772,6.30898765740065,-9.691013063573347,-15.691013333938596,-13.691013243816844,-0.6910126580254735,-10.691013108634221,-5.691012883329847,-7.691012973451597,-13.691013243816844,-1.6910127030863484,1.3089874320962758,11.308987882705024,-8.691013018512473,-11.691013153695096,-12.691013198755972,-4.691012838268972,-9.691013063573344,-2.691012748147223,-11.691013153695094,-16.69101337899947,-13.691013243816844,-8.69101301851247,-10.691013108634221,-11.691013153695096,-1.6910127030863484,-0.6910126580254735,-9.691013063573347,-14.691013288877716,-4.691012838268972,5.308987612339775,-13.691013243816844,6.30898765740065,-9.691013063573347,-11.691013153695096,3.308987522218026,10.30898783764415,2.3089874771571504,2.3089874771571504,6.30898765740065,3.308987522218026,0.3089873870354013,-0.6910126580254735,-7.691012973451597,-2.691012748147223,-7.691012973451597,13.308987972826772,-11.691013153695096,9.308987792583274,9.308987792583274,0.3089873870354013,-3.691012793208098,-12.691013198755972,-9.691013063573347,5.308987612339775,-13.691013243816844,11.308987882705024,-5.691012883329847,-13.691013243816844,7.308987702461524,-0.6910126580254735,-13.691013243816844,13.308987972826772,-11.691013153695096,3.308987522218026,-10.691013108634221,3.308987522218026,-16.69101337899947,-8.691013018512473,-7.691012973451597,-4.691012838268972,-2.691012748147223,-9.691013063573347,-8.691013018512473,11.308987882705024,8.308987747522398,-4.691012838268972,-16.69101337899947,-6.691012928390722,2.3089874771571504,5.308987612339775,11.308987882705024,-15.691013333938596,-6.691012928390722,11.308987882705024,6.30898765740065,6.30898765740065,-0.6910126580254735,-8.691013018512473,-7.691012973451597,12.308987927765898,2.3089874771571504,13.308987972826772,-10.691013108634221,6.30898765740065,-1.6910127030863484,-1.6910127030863484,-6.691012928390722,-6.691012928390722,9.308987792583274,-4.691012838268972,-12.691013198755972,1.3089874320962758,-6.691012928390722,7.308987702461524,9.308987792583274,-4.691012838268972,0.3089873870354013,-3.691012793208098,-12.691013198755972,10.30898783764415,7.308987702461524,8.308987747522398,-6.691012928390722,5.308987612339775,5.308987612339775,-5.691012883329847,-7.691012973451597,-5.691012883329847,-12.691013198755972,12.308987927765898,-5.691012883329847,0.3089873870354013,-1.6910127030863484,-10.691013108634221,8.308987747522398,2.3089874771571504,-13.691013243816844,10.30898783764415,7.308987702461524,12.308987927765898,4.3089875672789,-11.691013153695096,13.308987972826772,-6.691012928390722,-7.691012973451597,-14.691013288877716,-1.6910127030863484,-14.691013288877716,-13.691013243816844,-1.6910127030863484,-2.691012748147223,-13.691013243816844,-5.691012883329847,6.30898765740065,-16.69101337899947,-11.691013153695094,6.30898765740065,2.3089874771571504,-6.691012928390722,-5.691012883329847,-12.691013198755972,-11.691013153695094,-0.6910126580254735,14.308988017887648,-12.691013198755972,-13.691013243816844,8.308987747522398,-3.691012793208098,-14.691013288877716,-10.69101310863422,-15.691013333938596,-2.691012748147223,-5.691012883329847,-0.6910126580254735,-11.691013153695096,13.308987972826772,-13.691013243816844,2.3089874771571504,13.308987972826772,3.308987522218026,4.3089875672789,14.308988017887648,1.3089874320962758,-2.691012748147223,-5.691012883329847,5.308987612339775,-8.69101301851247,-11.691013153695096,-16.69101337899947,5.308987612339775,-3.691012793208098,5.308987612339775,-3.691012793208098,-10.691013108634221,4.3089875672789,5.308987612339775,2.3089874771571504,0.3089873870354013,7.308987702461524,-11.691013153695096,-3.691012793208098,-6.691012928390722,2.3089874771571504,4.3089875672789,-11.691013153695096,-1.6910127030863484,9.308987792583274,7.308987702461524,-9.691013063573344,-15.691013333938596,-11.691013153695096,-15.691013333938596,-16.69101337899947,3.308987522218026,-4.691012838268972,-0.6910126580254735,-6.691012928390722,-0.6910126580254735,-16.69101337899947,-7.691012973451597,-10.691013108634221,11.308987882705024,-6.691012928390722,-9.691013063573344,-5.691012883329847,-1.6910127030863484,-3.691012793208098,5.308987612339775,-8.691013018512473,0.3089873870354013,12.308987927765898,12.308987927765898,12.308987927765898,-12.691013198755972,-5.691012883329847,10.30898783764415,-15.691013333938596,-10.691013108634221,5.308987612339775,-9.691013063573347,-16.69101337899947,-6.691012928390722,-12.691013198755972,-11.691013153695096,-12.691013198755972,-11.691013153695094,-8.691013018512473,-16.69101337899947,6.30898765740065,-2.691012748147223,14.308988017887648,-0.6910126580254735,-0.6910126580254735,-15.691013333938596,-15.691013333938596,-11.691013153695094,9.308987792583274,-13.691013243816844,-5.691012883329847,12.308987927765898,-6.691012928390722,-12.691013198755972,4.3089875672789,0.3089873870354013,7.308987702461524,5.308987612339775,8.308987747522398,3.308987522218026,11.308987882705024,-7.691012973451597,-6.691012928390722,-4.691012838268972,-16.69101337899947,2.3089874771571504,-9.691013063573347,13.308987972826772,-10.691013108634221,12.308987927765898,-3.691012793208098,-6.691012928390722,-9.691013063573347,11.308987882705024,-15.691013333938596,8.308987747522398,-7.691012973451597,-2.691012748147223,13.308987972826772,-15.691013333938596,3.308987522218026,4.3089875672789,-11.691013153695096,-2.691012748147223,-2.691012748147223,4.3089875672789,13.308987972826772,-0.6910126580254735,-13.691013243816844,-9.691013063573347,14.308988017887648,-4.691012838268972,-12.691013198755972,-14.691013288877716,-8.691013018512473,-16.69101337899947,3.308987522218026,13.308987972826772,-12.691013198755972,5.308987612339775,-4.691012838268972,-15.691013333938596,6.30898765740065,-9.691013063573347,-5.691012883329847,13.308987972826772,-7.691012973451597,-4.691012838268972,-14.691013288877716,-15.691013333938596,-7.691012973451597,9.308987792583274,-14.691013288877716,11.308987882705024,9.308987792583274,7.308987702461524,11.308987882705024,-4.691012838268972,-16.69101337899947,0.3089873870354013,-7.691012973451597,11.308987882705024,8.308987747522398,-15.691013333938596,8.308987747522398,-11.691013153695096,-12.691013198755972,-9.691013063573347,10.30898783764415,-2.691012748147223,5.308987612339775,-8.691013018512473,-6.691012928390722,-12.691013198755972,-15.691013333938596,-7.691012973451597,6.30898765740065,-5.691012883329847,-12.691013198755972,8.308987747522398,14.308988017887648,4.3089875672789,-6.691012928390722,4.3089875672789,2.3089874771571504,-5.691012883329847,-14.691013288877716,5.308987612339775,1.3089874320962758,-10.691013108634221,-15.691013333938596,11.308987882705024,-7.691012973451597,6.30898765740065,0.3089873870354013,1.3089874320962758,-7.691012973451597,1.3089874320962758,-8.691013018512473,5.308987612339775,2.3089874771571504,-7.691012973451597,10.30898783764415,13.308987972826772,-3.691012793208098,6.30898765740065,-10.691013108634221,5.308987612339775,-11.691013153695096,9.308987792583274,-11.691013153695096,-14.691013288877716,-9.691013063573347,-15.691013333938596,5.308987612339775,2.3089874771571504,5.308987612339775,-5.691012883329847,3.308987522218026,7.308987702461524,-13.691013243816844,-10.691013108634221,-14.691013288877716,10.30898783764415,-5.691012883329847,-8.691013018512473,-9.691013063573347,-6.691012928390722,5.308987612339775,-13.691013243816844,14.308988017887648,-12.691013198755972,-0.6910126580254735,-14.691013288877716,-2.691012748147223,-7.691012973451597,5.308987612339775,-16.69101337899947,-5.691012883329847,4.3089875672789,3.308987522218026,-5.691012883329847,6.30898765740065,10.30898783764415,-0.6910126580254735,-6.691012928390722,-9.691013063573347,4.3089875672789,-16.69101337899947,4.3089875672789,-12.691013198755972,-11.691013153695096,4.3089875672789,-14.691013288877716,-13.691013243816844,-12.691013198755972,0.3089873870354013,-1.6910127030863484,-6.691012928390722,-12.691013198755972,-0.6910126580254735,-11.691013153695096,-14.691013288877716,-10.691013108634221,-15.691013333938596,-5.691012883329847,-14.691013288877716,-6.691012928390722,-15.691013333938596,10.30898783764415,1.3089874320962758,9.308987792583274,-9.691013063573347,-15.691013333938596,-14.691013288877716,-3.691012793208098,-7.691012973451597,-16.69101337899947,5.308987612339775,8.308987747522398,-2.691012748147223,2.3089874771571504,7.308987702461524,6.30898765740065,-11.691013153695096,9.308987792583274,11.308987882705024,-7.691012973451597,-9.691013063573347,-13.691013243816844,-14.691013288877716,-8.691013018512473,-6.691012928390722,-8.691013018512473,-7.691012973451597,-3.691012793208098,-8.691013018512473,8.308987747522398,-15.691013333938596,1.3089874320962758,-8.691013018512473,-13.691013243816844,13.308987972826772,-9.691013063573347,10.30898783764415,-7.691012973451597,6.30898765740065,-5.691012883329847,-0.6910126580254735,8.308987747522398,-13.691013243816844,-12.691013198755972,-16.69101337899947,-6.691012928390722,-6.691012928390722,-10.691013108634221,-10.691013108634221,-9.691013063573347,-13.691013243816844,7.308987702461524,7.308987702461524,-2.691012748147223,8.308987747522398,-2.691012748147223,12.308987927765898,-10.691013108634221,5.308987612339775,10.30898783764415,-7.691012973451597,10.30898783764415,1.3089874320962758,-13.691013243816844,13.308987972826772,14.308988017887648,-1.6910127030863484,-16.69101337899947,10.30898783764415,-6.691012928390722,4.3089875672789,-7.691012973451597,6.30898765740065,5.308987612339775,-2.691012748147223,-3.691012793208098,10.30898783764415,8.308987747522398,-7.691012973451597,14.308988017887648,-16.69101337899947,-7.691012973451597,9.308987792583274,1.3089874320962758,-9.691013063573347,-3.691012793208098,-11.691013153695096,-3.691012793208098,-8.691013018512473,3.308987522218026,1.3089874320962758,-12.691013198755972,-11.691013153695096,-4.691012838268972,10.30898783764415,-10.691013108634221,-9.691013063573347,-3.691012793208098,3.308987522218026,-10.691013108634221,6.30898765740065,7.308987702461524,-1.6910127030863484,-15.691013333938596,-12.691013198755972,-1.6910127030863484,-14.691013288877716,-14.691013288877716,3.308987522218026,11.308987882705024,-6.691012928390722,4.3089875672789,8.308987747522398,-13.691013243816844,-4.691012838268972,-9.691013063573347,-2.691012748147223,-15.691013333938596,-0.6910126580254735,-0.6910126580254735,1.3089874320962758,-2.691012748147223,-11.691013153695096,-8.691013018512473,3.308987522218026,0.3089873870354013,-5.691012883329847,1.3089874320962758,-0.6910126580254735,-6.691012928390722,-2.691012748147223,11.308987882705024,-9.691013063573347,-14.691013288877716,1.3089874320962758,8.308987747522398,0.3089873870354013,11.308987882705024,14.308988017887648,12.308987927765898,-14.691013288877716,-1.6910127030863484,-8.691013018512473,-13.691013243816844,-5.691012883329847,-6.691012928390722,-14.691013288877716,-6.691012928390722,3.308987522218026,-2.691012748147223,-4.691012838268972,-8.691013018512473,-10.691013108634221,-5.691012883329847,1.3089874320962758,-16.69101337899947,3.308987522218026,6.30898765740065,-11.691013153695096,-15.691013333938596,2.3089874771571504,-4.691012838268972,0.3089873870354013,-12.691013198755972,6.30898765740065,-12.691013198755972,11.308987882705024,-14.691013288877716,-15.691013333938596,-13.691013243816844,-13.691013243816844,-16.69101337899947,6.30898765740065,4.3089875672789,-11.691013153695096,-5.691012883329847,4.3089875672789,-16.69101337899947,-6.691012928390722,-6.691012928390722,-11.691013153695096,-16.69101337899947,10.30898783764415,-16.69101337899947,-2.691012748147223,9.308987792583274,-4.691012838268972,-13.691013243816844,-16.69101337899947,-8.691013018512473,-5.691012883329847,-9.691013063573347,-14.691013288877716,12.308987927765898,-16.69101337899947,-12.691013198755972,-4.691012838268972,-15.691013333938596,14.308988017887648,-13.691013243816844,2.3089874771571504,14.308988017887648,7.308987702461524,-4.691012838268972,12.308987927765898,-14.691013288877716,11.308987882705024,-0.6910126580254735,-13.691013243816844,-7.691012973451597,2.3089874771571504,-14.691013288877716,-11.691013153695096,4.3089875672789,-3.691012793208098,5.308987612339775,10.30898783764415,-7.691012973451597,-1.6910127030863484,-2.691012748147223,-16.69101337899947,-4.691012838268972,-6.691012928390722,14.308988017887648,-0.6910126580254735,-7.691012973451597,-10.691013108634221,2.3089874771571504,-8.691013018512473,-16.69101337899947,-9.691013063573347,1.3089874320962758,-10.691013108634221,13.308987972826772,-7.691012973451597,5.308987612339775,-8.691013018512473,-11.691013153695096,2.3089874771571504,-15.691013333938596,4.3089875672789,13.308987972826772,5.308987612339775,-14.691013288877716,14.308988017887648,-8.691013018512473,0.3089873870354013,-7.691012973451597,-14.691013288877716,-8.691013018512473,-16.69101337899947,-13.691013243816844,-5.691012883329847,-16.69101337899947,6.30898765740065,-8.691013018512473,-16.69101337899947,-10.691013108634221,1.3089874320962758,-12.691013198755972,-6.691012928390722,-14.691013288877716,6.30898765740065,-14.691013288877716,-8.691013018512473,-3.691012793208098,-12.691013198755972,-2.691012748147223,-7.691012973451597,-0.6910126580254735,-9.691013063573347,0.3089873870354013,12.308987927765898,7.308987702461524,8.308987747522398,-11.691013153695096,-14.691013288877716,10.30898783764415,13.308987972826772,-8.691013018512473,-12.691013198755972,-5.691012883329847,-5.691012883329847,-11.691013153695096,-10.691013108634221,11.308987882705024,-9.691013063573347,-7.691012973451597,-10.691013108634221,-0.6910126580254735,11.308987882705024,-12.691013198755972,-12.691013198755972,-5.691012883329847,-4.691012838268972,-10.691013108634221,-0.6910126580254735,-7.691012973451597,5.308987612339775,3.308987522218026,-12.691013198755972,-5.691012883329847,-12.691013198755972,-0.6910126580254735,14.308988017887648,-9.691013063573347],\"xaxis\":\"x\",\"y\":[-0.018858761926300652,-0.01047238594778049,0.007815133801783286,-0.013208608319743312,0.03338245940116345,-0.02718623390345566,-0.004644485216150166,0.022405261102478206,-0.005050097997920737,0.004885651321915869,-0.0046355626389967125,0.008791878263491017,-0.020101160114817954,0.003823355858175056,0.004933401279882801,-0.0160322016481831,0.00442946583950933,0.001379980541099818,0.010743883018505457,0.022557749673397385,0.0011402816793240446,0.019519097648862276,-0.02412249818682061,0.011344719501165472,0.009209530742080954,0.001662540261467297,-0.010020506868309775,0.021038257258999903,-0.014833431994238644,0.0013165584849468572,-0.021055815168948538,-0.017163080593781504,0.02370431169116234,-0.024272150101223144,-0.0025332855474301708,-0.0014183976812546842,0.021406403022457773,-0.015366207245701176,-0.014356446958772489,-0.0008911556110771556,-0.016376946161841318,0.0019244861852568736,0.0066766803522836215,-0.0020442678599088167,0.010888206281261206,-0.004221515633482728,-0.03007059507218627,0.0077361775883078385,-0.023936410735299087,0.04033201373165337,-0.008089303690690188,0.0024017501915635066,0.005646810087837703,0.0011096766513447437,0.01112437298119545,0.030321854013121197,0.010170805078269668,0.008721904354872526,0.010155779364556932,-0.020088261554492007,-0.016042785895647848,0.005011330189095889,0.020093817775139203,0.024452164860046807,0.0005891545231357702,0.01632503548200313,0.012341205148816956,-0.011907018937243413,-0.004001871324942092,0.00388590826025632,-0.00866393323303234,-0.016932164208415833,0.028236357998835566,-0.013218686571701352,0.0028822900272369293,0.016120267992499153,-0.0003461275072982794,0.02427907419131888,0.011128404791793172,-0.008990187300974159,-0.014486774787484958,0.010982215035320472,0.006017360628920516,0.01954464192318766,-0.023622721889766995,0.017197345364232553,0.009870753972521254,0.01118991069354777,-0.0017152046349357517,-0.002035064712150385,-0.0002305443717763635,-0.0019170782448676192,0.017999875763443855,-0.016787505277009056,0.01622648986634149,0.020167537187442994,0.003604219900774246,0.006301807599668534,0.005899925957886436,-3.3548228416237447e-6,-0.014913586175419043,0.01715204075178789,0.0031009245825565084,-0.008252299968368102,-0.009637734161140565,0.012181485918546528,-0.013302353024234936,0.011860634247262386,0.0034139927090962485,-0.007472515788740618,-0.006720266029368273,0.002300877576511255,-0.0259206775121017,-0.006634395705858794,0.007761585801576461,-0.016465533642448522,-0.009956595141624482,0.0015950887535062114,-0.0032271083105838315,0.004350306508786586,-0.0009567090405373975,0.019367159616692046,0.0023663263420922384,0.004024894439974853,0.001473903193486004,0.0038321243843395234,0.007356145334094873,-0.0009593805544828067,-0.009522591327820967,0.0022855684034354578,0.022615324877176272,0.003324580019997323,-0.00700796257311846,0.007978386663052539,0.0024718390968969323,-0.03110922793027666,-0.008059220469940016,0.012123281866604916,0.0191366323138168,0.0015477364654922334,0.01846809495579824,-0.015029343223175418,-0.001326261615749008,-0.005429493738420849,-0.00954959796082145,0.005192146417562603,0.007501718266330144,-0.0017885965462235587,0.0188895770959247,-0.01006791261600777,-0.000704206655539924,-0.01200334633141011,-0.003915498393863833,-0.00899939047958401,-0.018860345292276353,0.0066484265450485495,-0.010360738516712646,0.0014619928916236888,0.036477950534809664,-0.012916273160378548,0.00957980014121843,-0.0002147775524733019,-0.004512575854695047,-0.02539389955455898,-0.009910010032057144,-0.006189496918777853,0.003824362911418495,0.012400882693049188,-0.013409451816902507,-0.002501747182208105,0.0014370329995565814,0.003236245710641345,-0.01209716227301894,0.021870152511177333,-0.030044613888997925,-0.0068540840603656655,0.0015862110974705055,-0.009452288899921465,-0.0015167613342324875,0.02156919744325794,0.00035903632756776,-0.03028066511466573,0.003826576067976409,0.0131184740847474,0.008456807649412755,-0.005044010101285779,0.004691330941214741,0.007682267004979098,-0.019301462000234946,-0.013784821001029747,-0.00794970212575396,-0.006603638107754599,-0.02398354556104064,-0.0015441857279138219,0.038175411899536354,0.008642464427040137,0.012687167981709806,-0.008526233601052197,-0.01571385843037222,0.01025910224244463,-0.007557856780906878,0.02059520098354734,-0.009175115381953846,-0.013794286559512512,-0.0021438462622786715,-0.012273067521376961,0.01384101214958437,0.009392418655634971,0.028222737749089233,0.018589368394337,0.006782803889622311,0.022319207683655733,0.0031306048027200106,0.002103475298443135,0.011423225517588982,0.008771340608117014,0.0037187214968962563,0.0015886705555174009,-0.012372815369226462,-0.013968486526699549,-0.016394605633612818,0.0030246708906700713,-0.020719692429471224,-0.025332557748428304,0.0019329564254187948,0.003086967639852108,-0.007679206102491596,0.004052464077287363,0.008185203127139577,-0.004728411021773276,0.006623942974154094,-0.011830493116314532,-0.010359170689656472,0.02576609776447503,-0.013644530496953985,-0.03624728615996448,0.01968939000737419,-0.004064709605676886,0.015930365041665548,0.03662476581195524,0.03376828937292345,-0.009099102135491862,0.023760016923488662,0.008798198202557877,0.0029573290696968436,-0.02244414645558887,0.024359589504688275,0.029873740479894096,-0.009531125289106818,-0.007132996484740721,0.0013222941662064613,0.04262924052546826,-0.003233265065728509,0.00007672186003354903,-0.006900208032478635,0.012112089011461132,0.011254734224260448,0.00809269082060737,-0.009878723042713648,0.002285891614324094,-0.014231207029192994,0.021268342147427833,0.011875199513317001,0.009249639587119239,-0.004902509973779373,0.001127212657999907,-0.00811782196714955,0.011655080940269808,-0.006415553900100494,0.005396610930843565,-0.011740765387814673,-0.012341670088459931,0.023577155294407237,0.014605068989791414,0.0020987804180485183,-0.005496507347751651,0.01416440808255799,-0.000800312624063879,-0.0014935802702537174,0.016057000408448367,0.01660061575665289,0.0016367805186369528,0.00007199837875023834,-0.003825995958792256,-0.009608662737462602,-0.006045235484176301,-0.01812940627630168,-0.01601208085080231,-0.0023117221843811362,0.0030392996358984794,0.01801018229857641,0.02008601533604306,0.01848260862547268,-0.025579737875878136,0.006554923863069393,-0.015011079942269495,-0.0024884546802098574,-0.0006540931418321828,0.010867981307158943,0.015315430633113645,-0.02584193144383915,-0.0004337342810122436,-0.0022220794266036158,-0.03065452729451364,0.00650128947923557,-0.02681558226587171,-0.027475713950727843,0.006432132606130711,0.011563275997622928,-0.005391332550822977,-0.0043892882689097745,-0.008015144471795828,0.011357095991178909,0.01070011368782925,-0.015530721584553934,0.007474593211412892,-0.0017405599632999136,-0.017228057768336746,-0.003187352950011448,-0.0026774270848170835,0.02003325920894961,0.009193365504888017,0.0003087136251926216,-0.022367793036425204,-0.020109922906496217,0.0026262372078350187,0.007815095493017754,-0.010739016418971504,0.013190039691534294,0.03737736848533746,0.011671109881798336,-0.0006378767720240034,0.017660459654127034,0.02715579574725111,-0.00589454593303398,-0.0236495959530083,-0.01939192426387976,0.00034487392949826025,-0.003663649536349273,0.011868345089557033,0.027832765609770743,-0.006015710416557495,-0.00808400951382765,-0.013845579788663066,0.0023060009157307806,0.0030505158440601253,0.0028750461607140246,-0.025550531792800493,-0.009316814485725832,0.026845076566095208,0.010999603943995054,0.0087720698756191,0.004422410533423847,0.0012897494354044078,-0.008912549809817583,-0.007210448703856985,0.02063502437685534,0.008885821408028297,-0.02546661239518285,-0.0040223380799054185,-0.008673559690544064,0.0047625233128151725,0.02773848185223931,-0.016612936609919082,-0.004007747039927111,0.027991761319406998,-0.021492171957673754,-0.000328636043652057,-0.006360346890105703,-0.02753895530392545,-0.010070286283284397,0.023596637876819624,0.01605544356346625,0.008206754759890822,-0.01250801930722232,0.019979053141590472,-0.0029033012605920432,-0.00395395502992955,-0.013227451236163026,0.022684211618169355,-0.027916492647815108,-0.021104378015209785,-0.0006506600988883354,-0.0006711305489707449,0.003698789557565621,0.0124503453248338,0.0028890570156524993,0.012648728348405282,-0.002512011728916383,0.02418929801777857,0.004402958413554612,-0.02547963725141344,-0.00047720533196799874,-0.020358278224510903,0.016320225075394323,-0.033166860144016555,0.0014233928381592524,-0.02167990563795305,-0.014105607998161058,-0.020657450180996188,0.0009046716206533881,-0.005402378162008736,0.02603473783695293,-0.014433662054484915,-0.004722656809965984,-0.012435716210153071,-0.0039375088547129004,-0.001204187901358384,-0.011071993166189712,-0.005686275900785981,-0.021123591810313508,0.017514127668959094,0.00155250097671657,0.005520736339484772,0.013711289345506519,0.013256979744999502,-0.01582891956927557,-0.00648104304985397,0.0004344576349780505,0.013223213666429147,-0.0136978286616548,0.0014755922933782175,0.002237567825596738,-0.03218072193003927,-0.01365161010657221,-0.02590056234680556,-0.008989936663844823,-0.018726352912731038,-0.003776235690570513,0.006737457561435296,-0.031252046573108316,-0.016974097688723593,0.006142508698482777,0.03210085427523484,0.0068859248426581384,-0.0029685027984450952,0.008796594004698002,-0.014746953030598527,-0.004787675549562232,-0.0031867079197195414,-0.0008317301060937456,0.00015815113410664645,0.005539529791192099,0.026584643629497796,0.0008371233181631259,0.012923346020119107,0.007587691453938947,-0.001944522983838608,0.018001934932785072,-0.002491662023447493,-0.009274458969964828,-0.017703410137869385,-0.0032169396458811648,0.024202910694446828,0.011775625310343573,-0.02287030772216137,-0.01244124477289239,-0.010139178597144053,0.003353267184387291,0.002589023991806092,-0.02109932577966101,0.01450047212852396,0.003980376205479775,0.017745361995475613,-0.028661609898540524,0.002846764996691088,-0.0019141884616324211,0.0061927314210334945,-0.02154422329146034,0.014122105894143564,0.024727819697466454,-0.005877767029902142,-0.018217525330609243,-0.024214880927874678,0.0174835332938919,-0.005485035371440314,0.05116577762708137,-0.007761284806436693,-0.006871992219253657,0.02798806692242636,0.022997387619727507,0.028385291109695197,0.006835894892736367,0.01802221290519276,-0.004272868623743643,0.0031649953660038196,0.01783721869600584,-0.003939680330476768,-0.013394400946759515,0.016004578923834663,0.00278424697286834,0.0009830510966985161,0.0007668407828769255,0.004720769477731272,0.0085776249747283,-0.008832845999466188,-0.021829423536713143,-0.009226959738045546,0.015188947738370158,-0.007697396197509596,0.021205011937018674,-0.013193136203916662,0.030990051944529088,0.00748887381152736,0.0025311856020324287,-0.016864712821106985,0.02095024939799656,0.023901945176357898,0.017073044165124174,-0.003277690056066365,0.002413981383116716,0.018168609135777423,0.02192776599720604,-0.0004930614753795291,0.004362896795063518,-0.010270367288333925,-0.02404775133061395,-0.016142235641703744,-0.015222942362824074,-0.0359512624250542,-0.012693465688694908,-0.010348403764311925,-0.01888543093138741,0.021085787358340092,0.008194475359862395,0.00581439615757574,0.021617042055112057,0.01961823251167121,-0.03210560485033675,-0.008724456966499976,-0.01835377668896838,0.03445312240541485,-0.02300350508494881,-0.008132641094368367,0.006328488468324494,-0.002391943222446924,-0.021819293782162987,-0.04912948698241273,-0.007329854990975843,-0.00801067531813128,0.012616324324504076,0.010320287372068665,0.003652511152869217,0.009462788902849082,0.01768534084743477,0.0174106235311411,0.022284795682164998,-0.011030557863684998,-0.0016068757417738468,0.022529769327136066,0.0017040409248384636,0.009324303450938317,0.0033213785516933853,0.01038182316811515,0.0006247839949121815,0.004110663267117452,0.028221595470507704,0.021751950647435403,-0.011892521679466491,0.005919266352719379,0.015477054949533258,0.00020150094330498915,-0.00932626783471123,0.01989168008341766,0.02385554528615762,0.009992509589984336,-0.001556201498660334,-0.018531767841306293,0.005158109105561078,-0.017455780327763376,-0.00089681639281742,-0.00263137643356082,0.007910674178992714,0.018428951446772424,0.007589051830810599,0.021058945264900535,0.0023530136437871986,0.023820156630673453,0.031172256180946482,0.0009208086781229449,0.007367508428000066,-0.023602067518925223,-0.003692508328248484,0.026284634987262558,-0.021530921376080148,0.004564722923141634,0.0015814667568395373,-0.00128927511704885,0.005395647552542483,0.0004910613364255531,0.008889114616463797,-0.0063139213632661464,-0.000048992474897309094,0.0015954810834685582,-0.0038990066501734433,-0.01838717077203949,-0.003517282339066494,-0.011437159047380688,-0.013321604846263081,-0.011635429767351803,-0.014612819664948516,0.0001713107831259685,-0.024422509784632566,0.014131688961181357,-0.023835882794102738,-0.027146697832173945,0.008475790810007646,-0.016048818454277008,0.004021843398982128,-0.006778226330660249,0.007101685562127598,-0.028675169848662873,-0.0043403690303899685,-0.015872893804453607,-0.002673984820251348,-0.0029070442195147394,-0.015717153360773607,-0.008171176453076844,0.01624417757934338,-0.021461880346020125,0.016513059276332356,0.022757624521465597,-0.020680936616802006,-0.01841730968972515,-0.023623474754720628,0.006379977435825772,-0.0027635027940526636,-0.004757344196739863,0.006303066768273038,-0.01684229580856997,-0.014560553429704278,-0.0030185356641850036,-0.004519416030970418,0.014704305249508632,0.007401106612570895,0.01004554357306956,0.015869899106405915,-0.0023300247358104603,-0.022807292883899575,0.013546701595060306,-0.016480593381367963,-0.01450858613866442,-0.009591245100743388,0.0024288825186832767,0.013109002601476724,-0.019298465686742452,-0.00658190961110985,-0.0033093225631071867,0.008176492442195048,0.016627654619461172,-0.023022497507782232,0.005875045950185905,-0.0034614975873735075,-0.006350029495717174,0.004171726999775981,0.005659068858408945,-0.0009408860383774064,0.026079320775035622,-0.019016202630026152,-0.0031179278250609865,0.005816649124238632,-0.005781592099576498,0.013760970576923104,0.02456472470289727,-0.006806409092245106,0.006408176777984211,-0.004989029540983644,0.01784708269719025,0.005317814259612511,0.0055662068117660985,0.0045542952866046895,0.012754704371161394,-0.018853958580721707,-0.01964001268111918,0.014196060491535342,-0.0082653629257815,0.009255542743495191,-0.004158919609715277,0.02992145059711759,0.00038239689928467864,0.01873794440395003,-0.025040881532174125,0.0003659453113517086,-0.0023531031667008233,-0.026656859826487272,-0.003307519121401821,0.032679386018086565,0.0002282437401672352,0.0007736153315928251,-0.002078890511963637,0.018694708236071132,0.005777081091041792,-0.014984928992581869,-0.0069440024141343044,-0.007894124933753638,-0.000567674513211016,-0.007569327396130591,0.009992529910263087,0.005837139968052425,-0.0003127022787582265,0.003906411698963646,0.015081727661186551,0.007863449193251099,-0.023362265081531285,0.032425319872780474,-0.013491093667939949,0.015109049206636933,-0.007516098936569518,-0.010567350797708286,0.010797646127800072,-0.003941998156945442,-0.01354918233723673,-0.0046921745725225505,-0.013684152358545284,0.009340911150905561,0.0023779484245941463,-0.03792954115235653,0.019705874691268433,0.02788599965552774,-0.023876280143071967,-0.00434694168269154,0.01780107860362182,0.012870085322556441,0.017941723935860895,-0.015430753746986364,0.0010295807182177665,-0.0033166686240774295,-0.009339045343077546,-0.0046324880753178446,0.007045170266990489,0.0040184029057281235,0.012336609710545602,0.003037602593882973,0.0014592720464609054,0.01543672491774304,0.004710119296564567,0.012905023306211422,-0.01375905639363028,0.014310526453770263,0.009825399178152743,-0.01317995492230526,0.018144324298489705,-0.02284112189602922,0.005777160663025158,-0.022965685557449468,-0.0024861189079195003,-0.00924535363458903,-0.01733074289021098,-0.009374183258435646,-0.003937731784906077,0.0166621785173126,0.012299474813654829,0.00613270093485995,0.014500110553743093,-0.009829315033134075,0.009976888496526354,-0.029296412848925674,0.005092909589660603,0.00606304989138553,-0.025852965793035945,-0.008476572760466136,0.0012840567937522907,-0.002075739749348286,-0.005008880000342445,-0.02101254455069553,0.02648891683897533,0.03951622175034563,-0.013996064010427536,0.0038411877361074105,0.006917466607167937,0.000288592799056341,0.04038103575763641,0.00185952062973995,-0.02243798131327847,0.0033731193213868095,-0.019859702164180402,0.0069898852902278066,-0.006194679103161637,-0.021101217340527712,0.003022626296842901,0.015000531507424645,0.006404572782394413,-0.023016261196965936,-0.011396078343679504,-0.0011629881974959844,0.004997787855920973,-0.007832229954336325,0.012407193400041814,-0.008578126480476607,0.015240675946283672,0.0013252217419393475,0.019192599668879408,-0.020863236850550002,-0.0034592199238511426,-0.001024605656295524,-0.03180575871130573,0.016039883548546793,0.024497091268788723,-0.018110592253291685,0.009147192821410565,-0.01786447977154536,0.001031049791911355,0.01696663015377746,-0.02591519803549945,-0.00747857811962054,-0.0011581905230352437,0.008964258645854133,0.022175256052715878,0.001243527649219287,0.009080603137310088,0.023704103083859247,-0.013690746443325675,0.007340339831756429,-0.006996509489090773,0.011457055220512937,-0.0016315937268950487,0.0016542185699049052,0.01627960941954285,-0.005070179689203238,-0.010817823911381572,0.014290250681133968,0.03181710000459072,-0.001458619404392186,0.005409303854765423,0.014629114071537391,0.011214925948729944,0.0028572646188340842,0.04641246532770562,-0.00853586203409571,0.02077121548092945,0.0048689347846973,0.006020554536984902,-0.007201780763203974,-0.003256682420922513,0.020585135253296773,0.008085352471770316,0.019210906545338764,0.0038858466200099714,-0.021469037537270672,-0.001795645652605461,0.027396050485317413,-0.010726138619077782,0.008081352418836993,0.023309559176780157,-0.00705007212438843,0.025055182973427327,-0.010718685762963103,-0.03730849297990956,-0.00014241827470108483,-0.0036864185556475487,0.03463333371871087,-0.000776462576854783,-0.025197237817319678,-0.018913806206504798,-0.00404269074153978,-0.0028630219135637957,0.010348340297485988,-0.023706087633032204,0.0074330313440789135,0.02175701555670099,-0.015087779365409214,0.02160936196712376,-0.010492846461116303,0.014736471016832028,0.0031186051233390326,-0.015070448020866592,-0.0035475770997713952,0.029712488252386787,-0.041221565455599754,-0.0055696561861151,0.025526792061080425,-0.010633355376425662,-0.00005795791411217181,0.005465725703507477,-0.0014612997535861374,0.011629350368804924,0.016538793974217987,0.021837904312945293,-0.04317519295029499,-0.021534535632420762,-0.0010304904589422887,0.013388115122352053,0.008603587904200028,-0.02514105944198768,-0.027265598724133564,0.024128884854232997,0.008524257907952325,0.00538239649665129,-0.026798843679608813,0.0027013098654792905,0.007136931311627038,-0.00039204617592408585,-0.007205167994815565,-0.0043817582996498496,0.020751505578413328,0.023263474560430805,0.03617969470793764,0.00011300411011542899,-0.004685198829020088,-0.01042858582169038,0.02136977963903467,-0.022140502599645524,0.0077863408366936,-0.009497599649630222,0.002783698780563695,-0.011800743707700135,-0.009868828661960777,0.0030683231636008355,-0.00036829039249445904,0.0030180743674445157,-0.011808320633391116,0.003114401553823691,-0.015023423399225624,-0.0008383847789735233,-0.005721014276252815,-0.004338102194056813,-0.00100811173447943,-0.0054963966000505125,-0.0042749054615656154,-0.025354632823387752,0.02774777169937549,0.02667647910409462,0.0341757268762352,0.006540068525518322,0.006403401829903869,0.005706237566176204,-0.0206500008889198,-0.005088196840548214,-0.0027469880258866076,-0.01594808002636566,0.004335653872700972,0.009697382064712566,0.004689273151001101,0.005873907767768527,0.018464676612715628,0.008541623084604712,-0.011467649147496543,0.0038250732946145,-0.02571962374085448,-0.01166599999293813,0.014745978821323957,-0.036767832457268286,-0.004544527442395096,-0.003728345404965259,0.003752739875184538,-0.004895691349229767,0.025184759864311863,0.01290166162760338,-0.014362879459280707,0.008915459918311516,0.014425948082069508],\"yaxis\":\"y\",\"type\":\"scattergl\",\"textposition\":\"top center\"}],                        {\"template\":{\"data\":{\"histogram2dcontour\":[{\"type\":\"histogram2dcontour\",\"colorbar\":{\"outlinewidth\":0,\"ticks\":\"\"},\"colorscale\":[[0.0,\"#0d0887\"],[0.1111111111111111,\"#46039f\"],[0.2222222222222222,\"#7201a8\"],[0.3333333333333333,\"#9c179e\"],[0.4444444444444444,\"#bd3786\"],[0.5555555555555556,\"#d8576b\"],[0.6666666666666666,\"#ed7953\"],[0.7777777777777778,\"#fb9f3a\"],[0.8888888888888888,\"#fdca26\"],[1.0,\"#f0f921\"]]}],\"choropleth\":[{\"type\":\"choropleth\",\"colorbar\":{\"outlinewidth\":0,\"ticks\":\"\"}}],\"histogram2d\":[{\"type\":\"histogram2d\",\"colorbar\":{\"outlinewidth\":0,\"ticks\":\"\"},\"colorscale\":[[0.0,\"#0d0887\"],[0.1111111111111111,\"#46039f\"],[0.2222222222222222,\"#7201a8\"],[0.3333333333333333,\"#9c179e\"],[0.4444444444444444,\"#bd3786\"],[0.5555555555555556,\"#d8576b\"],[0.6666666666666666,\"#ed7953\"],[0.7777777777777778,\"#fb9f3a\"],[0.8888888888888888,\"#fdca26\"],[1.0,\"#f0f921\"]]}],\"heatmap\":[{\"type\":\"heatmap\",\"colorbar\":{\"outlinewidth\":0,\"ticks\":\"\"},\"colorscale\":[[0.0,\"#0d0887\"],[0.1111111111111111,\"#46039f\"],[0.2222222222222222,\"#7201a8\"],[0.3333333333333333,\"#9c179e\"],[0.4444444444444444,\"#bd3786\"],[0.5555555555555556,\"#d8576b\"],[0.6666666666666666,\"#ed7953\"],[0.7777777777777778,\"#fb9f3a\"],[0.8888888888888888,\"#fdca26\"],[1.0,\"#f0f921\"]]}],\"heatmapgl\":[{\"type\":\"heatmapgl\",\"colorbar\":{\"outlinewidth\":0,\"ticks\":\"\"},\"colorscale\":[[0.0,\"#0d0887\"],[0.1111111111111111,\"#46039f\"],[0.2222222222222222,\"#7201a8\"],[0.3333333333333333,\"#9c179e\"],[0.4444444444444444,\"#bd3786\"],[0.5555555555555556,\"#d8576b\"],[0.6666666666666666,\"#ed7953\"],[0.7777777777777778,\"#fb9f3a\"],[0.8888888888888888,\"#fdca26\"],[1.0,\"#f0f921\"]]}],\"contourcarpet\":[{\"type\":\"contourcarpet\",\"colorbar\":{\"outlinewidth\":0,\"ticks\":\"\"}}],\"contour\":[{\"type\":\"contour\",\"colorbar\":{\"outlinewidth\":0,\"ticks\":\"\"},\"colorscale\":[[0.0,\"#0d0887\"],[0.1111111111111111,\"#46039f\"],[0.2222222222222222,\"#7201a8\"],[0.3333333333333333,\"#9c179e\"],[0.4444444444444444,\"#bd3786\"],[0.5555555555555556,\"#d8576b\"],[0.6666666666666666,\"#ed7953\"],[0.7777777777777778,\"#fb9f3a\"],[0.8888888888888888,\"#fdca26\"],[1.0,\"#f0f921\"]]}],\"surface\":[{\"type\":\"surface\",\"colorbar\":{\"outlinewidth\":0,\"ticks\":\"\"},\"colorscale\":[[0.0,\"#0d0887\"],[0.1111111111111111,\"#46039f\"],[0.2222222222222222,\"#7201a8\"],[0.3333333333333333,\"#9c179e\"],[0.4444444444444444,\"#bd3786\"],[0.5555555555555556,\"#d8576b\"],[0.6666666666666666,\"#ed7953\"],[0.7777777777777778,\"#fb9f3a\"],[0.8888888888888888,\"#fdca26\"],[1.0,\"#f0f921\"]]}],\"mesh3d\":[{\"type\":\"mesh3d\",\"colorbar\":{\"outlinewidth\":0,\"ticks\":\"\"}}],\"scatter\":[{\"fillpattern\":{\"fillmode\":\"overlay\",\"size\":10,\"solidity\":0.2},\"type\":\"scatter\"}],\"parcoords\":[{\"type\":\"parcoords\",\"line\":{\"colorbar\":{\"outlinewidth\":0,\"ticks\":\"\"}}}],\"scatterpolargl\":[{\"type\":\"scatterpolargl\",\"marker\":{\"colorbar\":{\"outlinewidth\":0,\"ticks\":\"\"}}}],\"bar\":[{\"error_x\":{\"color\":\"#2a3f5f\"},\"error_y\":{\"color\":\"#2a3f5f\"},\"marker\":{\"line\":{\"color\":\"#E5ECF6\",\"width\":0.5},\"pattern\":{\"fillmode\":\"overlay\",\"size\":10,\"solidity\":0.2}},\"type\":\"bar\"}],\"scattergeo\":[{\"type\":\"scattergeo\",\"marker\":{\"colorbar\":{\"outlinewidth\":0,\"ticks\":\"\"}}}],\"scatterpolar\":[{\"type\":\"scatterpolar\",\"marker\":{\"colorbar\":{\"outlinewidth\":0,\"ticks\":\"\"}}}],\"histogram\":[{\"marker\":{\"pattern\":{\"fillmode\":\"overlay\",\"size\":10,\"solidity\":0.2}},\"type\":\"histogram\"}],\"scattergl\":[{\"type\":\"scattergl\",\"marker\":{\"colorbar\":{\"outlinewidth\":0,\"ticks\":\"\"}}}],\"scatter3d\":[{\"type\":\"scatter3d\",\"line\":{\"colorbar\":{\"outlinewidth\":0,\"ticks\":\"\"}},\"marker\":{\"colorbar\":{\"outlinewidth\":0,\"ticks\":\"\"}}}],\"scattermapbox\":[{\"type\":\"scattermapbox\",\"marker\":{\"colorbar\":{\"outlinewidth\":0,\"ticks\":\"\"}}}],\"scatterternary\":[{\"type\":\"scatterternary\",\"marker\":{\"colorbar\":{\"outlinewidth\":0,\"ticks\":\"\"}}}],\"scattercarpet\":[{\"type\":\"scattercarpet\",\"marker\":{\"colorbar\":{\"outlinewidth\":0,\"ticks\":\"\"}}}],\"carpet\":[{\"aaxis\":{\"endlinecolor\":\"#2a3f5f\",\"gridcolor\":\"white\",\"linecolor\":\"white\",\"minorgridcolor\":\"white\",\"startlinecolor\":\"#2a3f5f\"},\"baxis\":{\"endlinecolor\":\"#2a3f5f\",\"gridcolor\":\"white\",\"linecolor\":\"white\",\"minorgridcolor\":\"white\",\"startlinecolor\":\"#2a3f5f\"},\"type\":\"carpet\"}],\"table\":[{\"cells\":{\"fill\":{\"color\":\"#EBF0F8\"},\"line\":{\"color\":\"white\"}},\"header\":{\"fill\":{\"color\":\"#C8D4E3\"},\"line\":{\"color\":\"white\"}},\"type\":\"table\"}],\"barpolar\":[{\"marker\":{\"line\":{\"color\":\"#E5ECF6\",\"width\":0.5},\"pattern\":{\"fillmode\":\"overlay\",\"size\":10,\"solidity\":0.2}},\"type\":\"barpolar\"}],\"pie\":[{\"automargin\":true,\"type\":\"pie\"}]},\"layout\":{\"autotypenumbers\":\"strict\",\"colorway\":[\"#636efa\",\"#EF553B\",\"#00cc96\",\"#ab63fa\",\"#FFA15A\",\"#19d3f3\",\"#FF6692\",\"#B6E880\",\"#FF97FF\",\"#FECB52\"],\"font\":{\"color\":\"#2a3f5f\"},\"hovermode\":\"closest\",\"hoverlabel\":{\"align\":\"left\"},\"paper_bgcolor\":\"white\",\"plot_bgcolor\":\"#E5ECF6\",\"polar\":{\"bgcolor\":\"#E5ECF6\",\"angularaxis\":{\"gridcolor\":\"white\",\"linecolor\":\"white\",\"ticks\":\"\"},\"radialaxis\":{\"gridcolor\":\"white\",\"linecolor\":\"white\",\"ticks\":\"\"}},\"ternary\":{\"bgcolor\":\"#E5ECF6\",\"aaxis\":{\"gridcolor\":\"white\",\"linecolor\":\"white\",\"ticks\":\"\"},\"baxis\":{\"gridcolor\":\"white\",\"linecolor\":\"white\",\"ticks\":\"\"},\"caxis\":{\"gridcolor\":\"white\",\"linecolor\":\"white\",\"ticks\":\"\"}},\"coloraxis\":{\"colorbar\":{\"outlinewidth\":0,\"ticks\":\"\"}},\"colorscale\":{\"sequential\":[[0.0,\"#0d0887\"],[0.1111111111111111,\"#46039f\"],[0.2222222222222222,\"#7201a8\"],[0.3333333333333333,\"#9c179e\"],[0.4444444444444444,\"#bd3786\"],[0.5555555555555556,\"#d8576b\"],[0.6666666666666666,\"#ed7953\"],[0.7777777777777778,\"#fb9f3a\"],[0.8888888888888888,\"#fdca26\"],[1.0,\"#f0f921\"]],\"sequentialminus\":[[0.0,\"#0d0887\"],[0.1111111111111111,\"#46039f\"],[0.2222222222222222,\"#7201a8\"],[0.3333333333333333,\"#9c179e\"],[0.4444444444444444,\"#bd3786\"],[0.5555555555555556,\"#d8576b\"],[0.6666666666666666,\"#ed7953\"],[0.7777777777777778,\"#fb9f3a\"],[0.8888888888888888,\"#fdca26\"],[1.0,\"#f0f921\"]],\"diverging\":[[0,\"#8e0152\"],[0.1,\"#c51b7d\"],[0.2,\"#de77ae\"],[0.3,\"#f1b6da\"],[0.4,\"#fde0ef\"],[0.5,\"#f7f7f7\"],[0.6,\"#e6f5d0\"],[0.7,\"#b8e186\"],[0.8,\"#7fbc41\"],[0.9,\"#4d9221\"],[1,\"#276419\"]]},\"xaxis\":{\"gridcolor\":\"white\",\"linecolor\":\"white\",\"ticks\":\"\",\"title\":{\"standoff\":15},\"zerolinecolor\":\"white\",\"automargin\":true,\"zerolinewidth\":2},\"yaxis\":{\"gridcolor\":\"white\",\"linecolor\":\"white\",\"ticks\":\"\",\"title\":{\"standoff\":15},\"zerolinecolor\":\"white\",\"automargin\":true,\"zerolinewidth\":2},\"scene\":{\"xaxis\":{\"backgroundcolor\":\"#E5ECF6\",\"gridcolor\":\"white\",\"linecolor\":\"white\",\"showbackground\":true,\"ticks\":\"\",\"zerolinecolor\":\"white\",\"gridwidth\":2},\"yaxis\":{\"backgroundcolor\":\"#E5ECF6\",\"gridcolor\":\"white\",\"linecolor\":\"white\",\"showbackground\":true,\"ticks\":\"\",\"zerolinecolor\":\"white\",\"gridwidth\":2},\"zaxis\":{\"backgroundcolor\":\"#E5ECF6\",\"gridcolor\":\"white\",\"linecolor\":\"white\",\"showbackground\":true,\"ticks\":\"\",\"zerolinecolor\":\"white\",\"gridwidth\":2}},\"shapedefaults\":{\"line\":{\"color\":\"#2a3f5f\"}},\"annotationdefaults\":{\"arrowcolor\":\"#2a3f5f\",\"arrowhead\":0,\"arrowwidth\":1},\"geo\":{\"bgcolor\":\"white\",\"landcolor\":\"#E5ECF6\",\"subunitcolor\":\"white\",\"showland\":true,\"showlakes\":true,\"lakecolor\":\"white\"},\"title\":{\"x\":0.05},\"mapbox\":{\"style\":\"light\"}}},\"xaxis\":{\"anchor\":\"y\",\"domain\":[0.0,1.0],\"title\":{\"text\":\"PCA1\"}},\"yaxis\":{\"anchor\":\"x\",\"domain\":[0.0,1.0],\"title\":{\"text\":\"PCA2\"}},\"legend\":{\"title\":{\"text\":\"Cluster\"},\"tracegroupgap\":0},\"margin\":{\"t\":60},\"plot_bgcolor\":\"rgb(240,240,240)\",\"title\":{\"text\":\"2D Cluster PCA Plot\"},\"height\":600},                        {\"responsive\": true}                    ).then(function(){\n",
              "                            \n",
              "var gd = document.getElementById('0ea788c3-4a8f-4f50-8cd0-0189a8e9052f');\n",
              "var x = new MutationObserver(function (mutations, observer) {{\n",
              "        var display = window.getComputedStyle(gd).display;\n",
              "        if (!display || display === 'none') {{\n",
              "            console.log([gd, 'removed!']);\n",
              "            Plotly.purge(gd);\n",
              "            observer.disconnect();\n",
              "        }}\n",
              "}});\n",
              "\n",
              "// Listen for the removal of the full notebook cells\n",
              "var notebookContainer = gd.closest('#notebook-container');\n",
              "if (notebookContainer) {{\n",
              "    x.observe(notebookContainer, {childList: true});\n",
              "}}\n",
              "\n",
              "// Listen for the clearing of the current output cell\n",
              "var outputEl = gd.closest('.output');\n",
              "if (outputEl) {{\n",
              "    x.observe(outputEl, {childList: true});\n",
              "}}\n",
              "\n",
              "                        })                };                            </script>        </div>\n",
              "</body>\n",
              "</html>"
            ]
          },
          "metadata": {}
        }
      ]
    },
    {
      "cell_type": "code",
      "source": [
        "plot_model(kmeans, plot = 'tsne')"
      ],
      "metadata": {
        "colab": {
          "base_uri": "https://localhost:8080/",
          "height": 817
        },
        "id": "yla1aQzOTlV-",
        "outputId": "11f595d1-7ea9-40d7-e48b-30df6a6883c2"
      },
      "execution_count": 20,
      "outputs": [
        {
          "output_type": "display_data",
          "data": {
            "text/plain": [
              "<IPython.core.display.HTML object>"
            ],
            "text/html": []
          },
          "metadata": {}
        },
        {
          "output_type": "display_data",
          "data": {
            "text/html": [
              "<html>\n",
              "<head><meta charset=\"utf-8\" /></head>\n",
              "<body>\n",
              "    <div>            <script src=\"https://cdnjs.cloudflare.com/ajax/libs/mathjax/2.7.5/MathJax.js?config=TeX-AMS-MML_SVG\"></script><script type=\"text/javascript\">if (window.MathJax && window.MathJax.Hub && window.MathJax.Hub.Config) {window.MathJax.Hub.Config({SVG: {font: \"STIX-Web\"}});}</script>                <script type=\"text/javascript\">window.PlotlyConfig = {MathJaxConfig: 'local'};</script>\n",
              "        <script charset=\"utf-8\" src=\"https://cdn.plot.ly/plotly-2.24.1.min.js\"></script>                <div id=\"4be2f910-5788-4937-b96e-5b3c0ab46b08\" class=\"plotly-graph-div\" style=\"height:800px; width:900px;\"></div>            <script type=\"text/javascript\">                                    window.PLOTLYENV=window.PLOTLYENV || {};                                    if (document.getElementById(\"4be2f910-5788-4937-b96e-5b3c0ab46b08\")) {                    Plotly.newPlot(                        \"4be2f910-5788-4937-b96e-5b3c0ab46b08\",                        [{\"customdata\":[[\"873\"],[\"2747\"],[\"2759\"],[\"2762\"],[\"2766\"],[\"2767\"],[\"2769\"],[\"2771\"],[\"2774\"],[\"2746\"],[\"2776\"],[\"2788\"],[\"2789\"],[\"2790\"],[\"2791\"],[\"2792\"],[\"2794\"],[\"2795\"],[\"2798\"],[\"2779\"],[\"2799\"],[\"2744\"],[\"2736\"],[\"2696\"],[\"2697\"],[\"2699\"],[\"2700\"],[\"2701\"],[\"2702\"],[\"2703\"],[\"2709\"],[\"2737\"],[\"2710\"],[\"2721\"],[\"2722\"],[\"2723\"],[\"2726\"],[\"2727\"],[\"2732\"],[\"2733\"],[\"2735\"],[\"2714\"],[\"2801\"],[\"2802\"],[\"2803\"],[\"2851\"],[\"2852\"],[\"2855\"],[\"2856\"],[\"2857\"],[\"2858\"],[\"2859\"],[\"2860\"],[\"2848\"],[\"2861\"],[\"2870\"],[\"2876\"],[\"2878\"],[\"2879\"],[\"2882\"],[\"2884\"],[\"2886\"],[\"2888\"],[\"2868\"],[\"2847\"],[\"2845\"],[\"2842\"],[\"2804\"],[\"2805\"],[\"2807\"],[\"2808\"],[\"2809\"],[\"2811\"],[\"2812\"],[\"2816\"],[\"2817\"],[\"2818\"],[\"2819\"],[\"2820\"],[\"2821\"],[\"2824\"],[\"2825\"],[\"2830\"],[\"2831\"],[\"2834\"],[\"2837\"],[\"2695\"],[\"2692\"],[\"2691\"],[\"2688\"],[\"3626\"],[\"3517\"],[\"3550\"],[\"3592\"],[\"3779\"],[\"3872\"],[\"2678\"],[\"2760\"],[\"3621\"],[\"2822\"],[\"2941\"],[\"2968\"],[\"3057\"],[\"3164\"],[\"3222\"],[\"3245\"],[\"3278\"],[\"3328\"],[\"2883\"],[\"895\"],[\"894\"],[\"893\"],[\"4037\"],[\"874\"],[\"875\"],[\"876\"],[\"877\"],[\"878\"],[\"879\"],[\"880\"],[\"881\"],[\"882\"],[\"883\"],[\"884\"],[\"885\"],[\"886\"],[\"887\"],[\"888\"],[\"889\"],[\"891\"],[\"892\"],[\"3361\"],[\"2889\"],[\"3440\"],[\"3561\"],[\"1913\"],[\"2295\"],[\"2298\"],[\"2413\"],[\"2605\"],[\"2903\"],[\"2938\"],[\"3319\"],[\"2979\"],[\"2707\"],[\"2663\"],[\"2667\"],[\"2670\"],[\"2671\"],[\"2682\"],[\"2685\"],[\"2686\"],[\"2687\"],[\"3186\"],[\"2693\"],[\"3409\"],[\"3205\"],[\"3741\"],[\"3943\"],[\"2677\"],[\"2826\"],[\"2752\"],[\"2962\"],[\"3404\"],[\"2971\"],[\"3178\"],[\"3410\"],[\"3420\"],[\"3289\"],[\"2065\"],[\"2496\"],[\"2725\"],[\"2734\"],[\"2764\"],[\"2964\"],[\"3165\"],[\"3556\"],[\"872\"],[\"2891\"],[\"2895\"],[\"3180\"],[\"3181\"],[\"3183\"],[\"3189\"],[\"3190\"],[\"3192\"],[\"3194\"],[\"3197\"],[\"3175\"],[\"3199\"],[\"3202\"],[\"3208\"],[\"3209\"],[\"3210\"],[\"3211\"],[\"3215\"],[\"3216\"],[\"3217\"],[\"3200\"],[\"3218\"],[\"3171\"],[\"3167\"],[\"3130\"],[\"3131\"],[\"3133\"],[\"3134\"],[\"3138\"],[\"3139\"],[\"3141\"],[\"3143\"],[\"3170\"],[\"3144\"],[\"3151\"],[\"3153\"],[\"3155\"],[\"3156\"],[\"3157\"],[\"3159\"],[\"3161\"],[\"3163\"],[\"3147\"],[\"3221\"],[\"3223\"],[\"3227\"],[\"3286\"],[\"3292\"],[\"3294\"],[\"3300\"],[\"3305\"],[\"3306\"],[\"3307\"],[\"3308\"],[\"3283\"],[\"3309\"],[\"3311\"],[\"3312\"],[\"3314\"],[\"3315\"],[\"3317\"],[\"3318\"],[\"3322\"],[\"3323\"],[\"3310\"],[\"3282\"],[\"3281\"],[\"3279\"],[\"3229\"],[\"3230\"],[\"3235\"],[\"3236\"],[\"3241\"],[\"3242\"],[\"3244\"],[\"3246\"],[\"3249\"],[\"3251\"],[\"3254\"],[\"3262\"],[\"3266\"],[\"3268\"],[\"3269\"],[\"3270\"],[\"3271\"],[\"3273\"],[\"3276\"],[\"3128\"],[\"3127\"],[\"3126\"],[\"3125\"],[\"2965\"],[\"2967\"],[\"2972\"],[\"2975\"],[\"2978\"],[\"2980\"],[\"2981\"],[\"2982\"],[\"2963\"],[\"2983\"],[\"2990\"],[\"2995\"],[\"2997\"],[\"2998\"],[\"3006\"],[\"3007\"],[\"3008\"],[\"3009\"],[\"2984\"],[\"2961\"],[\"2959\"],[\"2957\"],[\"2898\"],[\"2899\"],[\"2900\"],[\"2902\"],[\"2917\"],[\"2918\"],[\"2922\"],[\"2923\"],[\"2926\"],[\"2930\"],[\"2933\"],[\"2934\"],[\"2935\"],[\"2942\"],[\"2947\"],[\"2948\"],[\"2949\"],[\"2952\"],[\"2954\"],[\"3012\"],[\"2893\"],[\"3013\"],[\"3024\"],[\"3074\"],[\"3075\"],[\"3081\"],[\"3083\"],[\"3088\"],[\"3091\"],[\"3092\"],[\"3093\"],[\"3071\"],[\"3094\"],[\"3099\"],[\"3103\"],[\"3105\"],[\"3109\"],[\"3110\"],[\"3112\"],[\"3121\"],[\"3122\"],[\"3095\"],[\"3069\"],[\"3068\"],[\"3067\"],[\"3028\"],[\"3030\"],[\"3031\"],[\"3032\"],[\"3037\"],[\"3039\"],[\"3042\"],[\"3043\"],[\"3044\"],[\"3045\"],[\"3048\"],[\"3050\"],[\"3053\"],[\"3055\"],[\"3058\"],[\"3059\"],[\"3061\"],[\"3063\"],[\"3066\"],[\"3015\"],[\"871\"],[\"870\"],[\"869\"],[\"550\"],[\"551\"],[\"552\"],[\"554\"],[\"558\"],[\"562\"],[\"565\"],[\"568\"],[\"543\"],[\"569\"],[\"572\"],[\"656\"],[\"646\"],[\"666\"],[\"587\"],[\"590\"],[\"634\"],[\"586\"],[\"571\"],[\"610\"],[\"541\"],[\"539\"],[\"502\"],[\"505\"],[\"508\"],[\"509\"],[\"510\"],[\"516\"],[\"518\"],[\"519\"],[\"540\"],[\"521\"],[\"528\"],[\"529\"],[\"530\"],[\"532\"],[\"533\"],[\"534\"],[\"535\"],[\"536\"],[\"522\"],[\"652\"],[\"673\"],[\"676\"],[\"605\"],[\"607\"],[\"608\"],[\"611\"],[\"612\"],[\"613\"],[\"615\"],[\"616\"],[\"603\"],[\"617\"],[\"619\"],[\"621\"],[\"622\"],[\"623\"],[\"624\"],[\"625\"],[\"626\"],[\"627\"],[\"618\"],[\"602\"],[\"600\"],[\"599\"],[\"620\"],[\"574\"],[\"678\"],[\"593\"],[\"575\"],[\"576\"],[\"577\"],[\"578\"],[\"581\"],[\"582\"],[\"583\"],[\"584\"],[\"585\"],[\"588\"],[\"589\"],[\"594\"],[\"595\"],[\"597\"],[\"598\"],[\"499\"],[\"498\"],[\"495\"],[\"494\"],[\"369\"],[\"371\"],[\"372\"],[\"375\"],[\"377\"],[\"379\"],[\"380\"],[\"381\"],[\"365\"],[\"382\"],[\"384\"],[\"385\"],[\"386\"],[\"390\"],[\"401\"],[\"403\"],[\"405\"],[\"406\"],[\"383\"],[\"362\"],[\"361\"],[\"359\"],[\"2740\"],[\"427\"],[\"464\"],[\"549\"],[\"351\"],[\"364\"],[\"393\"],[\"399\"],[\"441\"],[\"476\"],[\"501\"],[\"564\"],[\"349\"],[\"350\"],[\"352\"],[\"354\"],[\"356\"],[\"357\"],[\"358\"],[\"407\"],[\"628\"],[\"410\"],[\"413\"],[\"458\"],[\"459\"],[\"462\"],[\"466\"],[\"467\"],[\"468\"],[\"469\"],[\"470\"],[\"457\"],[\"472\"],[\"477\"],[\"478\"],[\"480\"],[\"485\"],[\"486\"],[\"489\"],[\"490\"],[\"491\"],[\"474\"],[\"454\"],[\"453\"],[\"451\"],[\"415\"],[\"416\"],[\"418\"],[\"421\"],[\"424\"],[\"425\"],[\"426\"],[\"429\"],[\"433\"],[\"435\"],[\"437\"],[\"440\"],[\"442\"],[\"443\"],[\"446\"],[\"447\"],[\"448\"],[\"449\"],[\"450\"],[\"411\"],[\"631\"],[\"632\"],[\"633\"],[\"788\"],[\"789\"],[\"790\"],[\"791\"],[\"792\"],[\"793\"],[\"794\"],[\"795\"],[\"786\"],[\"796\"],[\"798\"],[\"799\"],[\"801\"],[\"802\"],[\"803\"],[\"804\"],[\"806\"],[\"807\"],[\"797\"],[\"785\"],[\"783\"],[\"782\"],[\"755\"],[\"756\"],[\"757\"],[\"758\"],[\"759\"],[\"761\"],[\"762\"],[\"763\"],[\"765\"],[\"767\"],[\"768\"],[\"769\"],[\"771\"],[\"772\"],[\"775\"],[\"776\"],[\"777\"],[\"778\"],[\"779\"],[\"808\"],[\"753\"],[\"809\"],[\"812\"],[\"850\"],[\"851\"],[\"852\"],[\"854\"],[\"855\"],[\"890\"],[\"857\"],[\"858\"],[\"848\"],[\"859\"],[\"861\"],[\"862\"],[\"863\"],[\"864\"],[\"865\"],[\"866\"],[\"867\"],[\"868\"],[\"860\"],[\"846\"],[\"845\"],[\"844\"],[\"813\"],[\"814\"],[\"816\"],[\"817\"],[\"818\"],[\"821\"],[\"822\"],[\"825\"],[\"826\"],[\"831\"],[\"832\"],[\"833\"],[\"835\"],[\"836\"],[\"837\"],[\"838\"],[\"839\"],[\"841\"],[\"843\"],[\"811\"],[\"3325\"],[\"751\"],[\"749\"],[\"670\"],[\"671\"],[\"672\"],[\"674\"],[\"675\"],[\"677\"],[\"679\"],[\"681\"],[\"668\"],[\"682\"],[\"685\"],[\"1967\"],[\"3454\"],[\"3487\"],[\"3723\"],[\"3861\"],[\"3961\"],[\"3989\"],[\"684\"],[\"667\"],[\"665\"],[\"664\"],[\"635\"],[\"636\"],[\"638\"],[\"639\"],[\"640\"],[\"642\"],[\"643\"],[\"644\"],[\"647\"],[\"648\"],[\"650\"],[\"655\"],[\"657\"],[\"658\"],[\"659\"],[\"660\"],[\"661\"],[\"662\"],[\"663\"],[\"4011\"],[\"750\"],[\"4031\"],[\"690\"],[\"727\"],[\"729\"],[\"730\"],[\"731\"],[\"732\"],[\"733\"],[\"734\"],[\"735\"],[\"725\"],[\"736\"],[\"738\"],[\"740\"],[\"741\"],[\"742\"],[\"743\"],[\"744\"],[\"746\"],[\"748\"],[\"737\"],[\"723\"],[\"722\"],[\"721\"],[\"691\"],[\"692\"],[\"693\"],[\"699\"],[\"700\"],[\"701\"],[\"702\"],[\"704\"],[\"706\"],[\"707\"],[\"709\"],[\"710\"],[\"711\"],[\"712\"],[\"714\"],[\"715\"],[\"716\"],[\"717\"],[\"720\"],[\"689\"],[\"2704\"],[\"3326\"],[\"3333\"],[\"3733\"],[\"3735\"],[\"3736\"],[\"3739\"],[\"3742\"],[\"3743\"],[\"3744\"],[\"3745\"],[\"3732\"],[\"3746\"],[\"3748\"],[\"3749\"],[\"3751\"],[\"3752\"],[\"3753\"],[\"3754\"],[\"3755\"],[\"3757\"],[\"3747\"],[\"3759\"],[\"3729\"],[\"3726\"],[\"3701\"],[\"3703\"],[\"3704\"],[\"3706\"],[\"3707\"],[\"3708\"],[\"3709\"],[\"3710\"],[\"3727\"],[\"3712\"],[\"3714\"],[\"3715\"],[\"3716\"],[\"3717\"],[\"3719\"],[\"3720\"],[\"3724\"],[\"3725\"],[\"3713\"],[\"3760\"],[\"3761\"],[\"3762\"],[\"3789\"],[\"3791\"],[\"3792\"],[\"3795\"],[\"3796\"],[\"3798\"],[\"3799\"],[\"3801\"],[\"3788\"],[\"3802\"],[\"3805\"],[\"3806\"],[\"3807\"],[\"3808\"],[\"3809\"],[\"3811\"],[\"3812\"],[\"3813\"],[\"3803\"],[\"3787\"],[\"3786\"],[\"3785\"],[\"3763\"],[\"3765\"],[\"3766\"],[\"3767\"],[\"3768\"],[\"3769\"],[\"3770\"],[\"3771\"],[\"3772\"],[\"3773\"],[\"3774\"],[\"3775\"],[\"3776\"],[\"3777\"],[\"3778\"],[\"3780\"],[\"3781\"],[\"3783\"],[\"3784\"],[\"3700\"],[\"3699\"],[\"3698\"],[\"3697\"],[\"3618\"],[\"3619\"],[\"3620\"],[\"3622\"],[\"3623\"],[\"3624\"],[\"3627\"],[\"3628\"],[\"3616\"],[\"3630\"],[\"3632\"],[\"3634\"],[\"3636\"],[\"3637\"],[\"3638\"],[\"3639\"],[\"3641\"],[\"3642\"],[\"3631\"],[\"3615\"],[\"3614\"],[\"3613\"],[\"3583\"],[\"3585\"],[\"3587\"],[\"3588\"],[\"3589\"],[\"3591\"],[\"3594\"],[\"3595\"],[\"3597\"],[\"3598\"],[\"3600\"],[\"3601\"],[\"3602\"],[\"3603\"],[\"3606\"],[\"3607\"],[\"3608\"],[\"3610\"],[\"3612\"],[\"3643\"],[\"3814\"],[\"3644\"],[\"3646\"],[\"3671\"],[\"3673\"],[\"3675\"],[\"3676\"],[\"3678\"],[\"3679\"],[\"3681\"],[\"3682\"],[\"3670\"],[\"3683\"],[\"3686\"],[\"3688\"],[\"3689\"],[\"3690\"],[\"3691\"],[\"3694\"],[\"3695\"],[\"3696\"],[\"3685\"],[\"3669\"],[\"3668\"],[\"3667\"],[\"3647\"],[\"3648\"],[\"3649\"],[\"3650\"],[\"3652\"],[\"3653\"],[\"3654\"],[\"3655\"],[\"3656\"],[\"3657\"],[\"3658\"],[\"3659\"],[\"3660\"],[\"3661\"],[\"3662\"],[\"3663\"],[\"3664\"],[\"3665\"],[\"3666\"],[\"3645\"],[\"3582\"],[\"3815\"],[\"3817\"],[\"3969\"],[\"3970\"],[\"3972\"],[\"3973\"],[\"3974\"],[\"3975\"],[\"3976\"],[\"3977\"],[\"3967\"],[\"3978\"],[\"3981\"],[\"3982\"],[\"3983\"],[\"3984\"],[\"3985\"],[\"3986\"],[\"3987\"],[\"3988\"],[\"3979\"],[\"3990\"],[\"3965\"],[\"3963\"],[\"3937\"],[\"3939\"],[\"3940\"],[\"3941\"],[\"3942\"],[\"3944\"],[\"3946\"],[\"3949\"],[\"3964\"],[\"3950\"],[\"3953\"],[\"3954\"],[\"3955\"],[\"3956\"],[\"3957\"],[\"3958\"],[\"3959\"],[\"3960\"],[\"3952\"],[\"3991\"],[\"3992\"],[\"3993\"],[\"4018\"],[\"4019\"],[\"4020\"],[\"4021\"],[\"4022\"],[\"4023\"],[\"4024\"],[\"4025\"],[\"4017\"],[\"4026\"],[\"4028\"],[\"4029\"],[\"4030\"],[\"4032\"],[\"4033\"],[\"4034\"],[\"4035\"],[\"4036\"],[\"4027\"],[\"4016\"],[\"4015\"],[\"4014\"],[\"3994\"],[\"3995\"],[\"3996\"],[\"3997\"],[\"3998\"],[\"3999\"],[\"4000\"],[\"4001\"],[\"4002\"],[\"4003\"],[\"4004\"],[\"4005\"],[\"4006\"],[\"4007\"],[\"4008\"],[\"4009\"],[\"4010\"],[\"4012\"],[\"4013\"],[\"3936\"],[\"3935\"],[\"3934\"],[\"3933\"],[\"3853\"],[\"3854\"],[\"3855\"],[\"3856\"],[\"3857\"],[\"3859\"],[\"3862\"],[\"3863\"],[\"3852\"],[\"3864\"],[\"3866\"],[\"3867\"],[\"3868\"],[\"3870\"],[\"3871\"],[\"3874\"],[\"3875\"],[\"3876\"],[\"3865\"],[\"3850\"],[\"3849\"],[\"3848\"],[\"3818\"],[\"3819\"],[\"3820\"],[\"3821\"],[\"3823\"],[\"3827\"],[\"3831\"],[\"3832\"],[\"3834\"],[\"3835\"],[\"3836\"],[\"3837\"],[\"3839\"],[\"3840\"],[\"3843\"],[\"3844\"],[\"3845\"],[\"3846\"],[\"3847\"],[\"3878\"],[\"3816\"],[\"3879\"],[\"3881\"],[\"3910\"],[\"3911\"],[\"3912\"],[\"3913\"],[\"3914\"],[\"3915\"],[\"3916\"],[\"3917\"],[\"3909\"],[\"3919\"],[\"3922\"],[\"3923\"],[\"3925\"],[\"3927\"],[\"3928\"],[\"3929\"],[\"3931\"],[\"3932\"],[\"3920\"],[\"3908\"],[\"3907\"],[\"3905\"],[\"3882\"],[\"3883\"],[\"3885\"],[\"3887\"],[\"3888\"],[\"3889\"],[\"3890\"],[\"3891\"],[\"3892\"],[\"3893\"],[\"3894\"],[\"3895\"],[\"3896\"],[\"3897\"],[\"3898\"],[\"3899\"],[\"3901\"],[\"3903\"],[\"3904\"],[\"3880\"],[\"3581\"],[\"3580\"],[\"3579\"],[\"2152\"],[\"2158\"],[\"2160\"],[\"2162\"],[\"2166\"],[\"2167\"],[\"2168\"],[\"2170\"],[\"2146\"],[\"2175\"],[\"2178\"],[\"2181\"],[\"2182\"],[\"2186\"],[\"2193\"],[\"2195\"],[\"2197\"],[\"2204\"],[\"2177\"],[\"2205\"],[\"2141\"],[\"2120\"],[\"2050\"],[\"2051\"],[\"2066\"],[\"2070\"],[\"2076\"],[\"2079\"],[\"2080\"],[\"2082\"],[\"2130\"],[\"2089\"],[\"2096\"],[\"2099\"],[\"2100\"],[\"2105\"],[\"2106\"],[\"2113\"],[\"2114\"],[\"2119\"],[\"2094\"],[\"2207\"],[\"2208\"],[\"2217\"],[\"2305\"],[\"2310\"],[\"2312\"],[\"2314\"],[\"2316\"],[\"2320\"],[\"2321\"],[\"2341\"],[\"2301\"],[\"2349\"],[\"2358\"],[\"2360\"],[\"2362\"],[\"2373\"],[\"2375\"],[\"2380\"],[\"2382\"],[\"2383\"],[\"2357\"],[\"2291\"],[\"2288\"],[\"2286\"],[\"2219\"],[\"2227\"],[\"2230\"],[\"2238\"],[\"2245\"],[\"2248\"],[\"2249\"],[\"2251\"],[\"2252\"],[\"2255\"],[\"2256\"],[\"2260\"],[\"2262\"],[\"2263\"],[\"2265\"],[\"2269\"],[\"2270\"],[\"2277\"],[\"2281\"],[\"2048\"],[\"2044\"],[\"2041\"],[\"2036\"],[\"3380\"],[\"3382\"],[\"3383\"],[\"3388\"],[\"3389\"],[\"3390\"],[\"3392\"],[\"3393\"],[\"3379\"],[\"3398\"],[\"3402\"],[\"3405\"],[\"3407\"],[\"3408\"],[\"3413\"],[\"3414\"],[\"3418\"],[\"3421\"],[\"3401\"],[\"3376\"],[\"3375\"],[\"3374\"],[\"3334\"],[\"3336\"],[\"3337\"],[\"3338\"],[\"3340\"],[\"3343\"],[\"3349\"],[\"3352\"],[\"3354\"],[\"3356\"],[\"3357\"],[\"3358\"],[\"3359\"],[\"3367\"],[\"3368\"],[\"3370\"],[\"3371\"],[\"3372\"],[\"3373\"],[\"3423\"],[\"2388\"],[\"3424\"],[\"3427\"],[\"1974\"],[\"1977\"],[\"1978\"],[\"1982\"],[\"1988\"],[\"1990\"],[\"1992\"],[\"1996\"],[\"1969\"],[\"2008\"],[\"2013\"],[\"2014\"],[\"2015\"],[\"2016\"],[\"2017\"],[\"2019\"],[\"2023\"],[\"2034\"],[\"2012\"],[\"1965\"],[\"1961\"],[\"1956\"],[\"3428\"],[\"3429\"],[\"3430\"],[\"3431\"],[\"3432\"],[\"3436\"],[\"2185\"],[\"1915\"],[\"1922\"],[\"1924\"],[\"1928\"],[\"1930\"],[\"1933\"],[\"1934\"],[\"1936\"],[\"1937\"],[\"1949\"],[\"1950\"],[\"1952\"],[\"3425\"],[\"2400\"],[\"2401\"],[\"2402\"],[\"3492\"],[\"3493\"],[\"3494\"],[\"3496\"],[\"3497\"],[\"3498\"],[\"3499\"],[\"3500\"],[\"3491\"],[\"3502\"],[\"3504\"],[\"3505\"],[\"3507\"],[\"3508\"],[\"3509\"],[\"3510\"],[\"3511\"],[\"3512\"],[\"3503\"],[\"3490\"],[\"3489\"],[\"3485\"],[\"3462\"],[\"3463\"],[\"3465\"],[\"3466\"],[\"3467\"],[\"3470\"],[\"3471\"],[\"3472\"],[\"3473\"],[\"3474\"],[\"3476\"],[\"3477\"],[\"3478\"],[\"3479\"],[\"3480\"],[\"3481\"],[\"3482\"],[\"3483\"],[\"3484\"],[\"3513\"],[\"3461\"],[\"3515\"],[\"3519\"],[\"3552\"],[\"3554\"],[\"3555\"],[\"3560\"],[\"3562\"],[\"3563\"],[\"3564\"],[\"3565\"],[\"3551\"],[\"3566\"],[\"3569\"],[\"3570\"],[\"3571\"],[\"3572\"],[\"3573\"],[\"3574\"],[\"3575\"],[\"3578\"],[\"3567\"],[\"3549\"],[\"3548\"],[\"3547\"],[\"3520\"],[\"3522\"],[\"3523\"],[\"3524\"],[\"3527\"],[\"3530\"],[\"3531\"],[\"3532\"],[\"3533\"],[\"3534\"],[\"3535\"],[\"3536\"],[\"3537\"],[\"3538\"],[\"3539\"],[\"3541\"],[\"3543\"],[\"3544\"],[\"3546\"],[\"3516\"],[\"3329\"],[\"3459\"],[\"3457\"],[\"2474\"],[\"2481\"],[\"2483\"],[\"2486\"],[\"2487\"],[\"2490\"],[\"2493\"],[\"2497\"],[\"2470\"],[\"2503\"],[\"2513\"],[\"2514\"],[\"2515\"],[\"2517\"],[\"2522\"],[\"2523\"],[\"2524\"],[\"2527\"],[\"2505\"],[\"2466\"],[\"2457\"],[\"2456\"],[\"2403\"],[\"2405\"],[\"2421\"],[\"2422\"],[\"2424\"],[\"2426\"],[\"2427\"],[\"2431\"],[\"2437\"],[\"2439\"],[\"2441\"],[\"2442\"],[\"2443\"],[\"2444\"],[\"2450\"],[\"2452\"],[\"2453\"],[\"2454\"],[\"2455\"],[\"2528\"],[\"3458\"],[\"2531\"],[\"2535\"],[\"2632\"],[\"2634\"],[\"2641\"],[\"2650\"],[\"2651\"],[\"2656\"],[\"3438\"],[\"3439\"],[\"2622\"],[\"3441\"],[\"3444\"],[\"3445\"],[\"3446\"],[\"3447\"],[\"3450\"],[\"3451\"],[\"3452\"],[\"3453\"],[\"3443\"],[\"2621\"],[\"2618\"],[\"2614\"],[\"2541\"],[\"2545\"],[\"2548\"],[\"2558\"],[\"2562\"],[\"2565\"],[\"2566\"],[\"2568\"],[\"2569\"],[\"2570\"],[\"2572\"],[\"2577\"],[\"2580\"],[\"2581\"],[\"2584\"],[\"2587\"],[\"2595\"],[\"2596\"],[\"2599\"],[\"2534\"],[\"2635\"],[\"4038\"],[\"1586\"],[\"2814\"],[\"1674\"],[\"2838\"],[\"1672\"],[\"2885\"],[\"3003\"],[\"1670\"],[\"1233\"],[\"1418\"],[\"3173\"],[\"3290\"],[\"1419\"],[\"1228\"],[\"1664\"],[\"1421\"],[\"1422\"],[\"1424\"],[\"1676\"],[\"1417\"],[\"1678\"],[\"347\"],[\"331\"],[\"1697\"],[\"1696\"],[\"333\"],[\"335\"],[\"1693\"],[\"336\"],[\"337\"],[\"1224\"],[\"1690\"],[\"340\"],[\"1414\"],[\"341\"],[\"343\"],[\"344\"],[\"345\"],[\"1681\"],[\"1234\"],[\"338\"],[\"1698\"],[\"1660\"],[\"1658\"],[\"1208\"],[\"907\"],[\"909\"],[\"910\"],[\"1633\"],[\"911\"],[\"912\"],[\"1631\"],[\"914\"],[\"1629\"],[\"1206\"],[\"1627\"],[\"918\"],[\"920\"],[\"1625\"],[\"923\"],[\"926\"],[\"905\"],[\"904\"],[\"900\"],[\"1640\"],[\"1657\"],[\"1430\"],[\"1220\"],[\"1218\"],[\"601\"],[\"1654\"],[\"629\"],[\"1433\"],[\"1223\"],[\"1651\"],[\"1648\"],[\"649\"],[\"1646\"],[\"1434\"],[\"1213\"],[\"1212\"],[\"1641\"],[\"899\"],[\"1650\"],[\"330\"],[\"328\"],[\"327\"],[\"1747\"],[\"1244\"],[\"1745\"],[\"278\"],[\"1743\"],[\"279\"],[\"281\"],[\"1739\"],[\"1738\"],[\"282\"],[\"283\"],[\"1241\"],[\"284\"],[\"287\"],[\"1731\"],[\"288\"],[\"289\"],[\"1748\"],[\"1749\"],[\"1247\"],[\"276\"],[\"264\"],[\"266\"],[\"267\"],[\"268\"],[\"1764\"],[\"269\"],[\"1762\"],[\"1249\"],[\"290\"],[\"1760\"],[\"270\"],[\"1756\"],[\"1248\"],[\"273\"],[\"1755\"],[\"274\"],[\"275\"],[\"1403\"],[\"1759\"],[\"292\"],[\"293\"],[\"1726\"],[\"1713\"],[\"1239\"],[\"314\"],[\"1711\"],[\"1710\"],[\"316\"],[\"1708\"],[\"317\"],[\"312\"],[\"318\"],[\"320\"],[\"1704\"],[\"321\"],[\"1412\"],[\"324\"],[\"326\"],[\"1701\"],[\"1700\"],[\"319\"],[\"1439\"],[\"311\"],[\"309\"],[\"294\"],[\"295\"],[\"296\"],[\"297\"],[\"298\"],[\"299\"],[\"300\"],[\"1240\"],[\"310\"],[\"301\"],[\"302\"],[\"303\"],[\"305\"],[\"306\"],[\"307\"],[\"1410\"],[\"1411\"],[\"308\"],[\"1719\"],[\"1769\"],[\"928\"],[\"931\"],[\"1027\"],[\"1138\"],[\"1486\"],[\"1030\"],[\"1031\"],[\"1033\"],[\"1034\"],[\"1035\"],[\"1038\"],[\"1531\"],[\"1134\"],[\"1133\"],[\"1489\"],[\"1490\"],[\"1492\"],[\"1493\"],[\"1494\"],[\"1139\"],[\"1140\"],[\"1141\"],[\"1484\"],[\"1005\"],[\"1007\"],[\"1008\"],[\"1151\"],[\"1013\"],[\"1476\"],[\"1477\"],[\"1478\"],[\"1042\"],[\"1016\"],[\"1147\"],[\"1537\"],[\"1145\"],[\"1481\"],[\"1022\"],[\"1144\"],[\"1143\"],[\"1023\"],[\"1150\"],[\"1152\"],[\"1043\"],[\"1046\"],[\"1062\"],[\"1063\"],[\"1094\"],[\"1065\"],[\"1093\"],[\"1521\"],[\"1091\"],[\"1069\"],[\"1518\"],[\"1090\"],[\"1089\"],[\"1088\"],[\"1087\"],[\"1071\"],[\"1084\"],[\"1072\"],[\"1073\"],[\"1526\"],[\"1095\"],[\"1096\"],[\"1510\"],[\"1498\"],[\"1499\"],[\"1501\"],[\"1127\"],[\"1050\"],[\"1121\"],[\"1119\"],[\"1506\"],[\"1045\"],[\"1111\"],[\"1055\"],[\"1105\"],[\"1527\"],[\"1057\"],[\"1103\"],[\"1058\"],[\"1061\"],[\"1098\"],[\"1053\"],[\"1544\"],[\"1154\"],[\"1546\"],[\"956\"],[\"1450\"],[\"1196\"],[\"1194\"],[\"958\"],[\"1602\"],[\"1193\"],[\"1599\"],[\"1455\"],[\"961\"],[\"964\"],[\"1594\"],[\"965\"],[\"1592\"],[\"1187\"],[\"1186\"],[\"970\"],[\"955\"],[\"1607\"],[\"1197\"],[\"951\"],[\"1203\"],[\"933\"],[\"1441\"],[\"935\"],[\"1442\"],[\"1443\"],[\"937\"],[\"1618\"],[\"1588\"],[\"1202\"],[\"1615\"],[\"940\"],[\"1445\"],[\"943\"],[\"945\"],[\"1200\"],[\"949\"],[\"950\"],[\"939\"],[\"972\"],[\"1346\"],[\"1585\"],[\"1561\"],[\"1560\"],[\"1466\"],[\"996\"],[\"1558\"],[\"1171\"],[\"1169\"],[\"1556\"],[\"991\"],[\"998\"],[\"1165\"],[\"1552\"],[\"1000\"],[\"1162\"],[\"1161\"],[\"1157\"],[\"1002\"],[\"1474\"],[\"1168\"],[\"929\"],[\"1562\"],[\"987\"],[\"973\"],[\"974\"],[\"1581\"],[\"976\"],[\"1579\"],[\"977\"],[\"1461\"],[\"1575\"],[\"1174\"],[\"979\"],[\"1178\"],[\"1177\"],[\"1176\"],[\"1464\"],[\"1566\"],[\"1564\"],[\"985\"],[\"986\"],[\"1463\"],[\"263\"],[\"286\"],[\"262\"],[\"89\"],[\"90\"],[\"91\"],[\"92\"],[\"1908\"],[\"93\"],[\"94\"],[\"95\"],[\"1906\"],[\"1905\"],[\"96\"],[\"97\"],[\"99\"],[\"100\"],[\"101\"],[\"1901\"],[\"1900\"],[\"88\"],[\"102\"],[\"87\"],[\"85\"],[\"69\"],[\"70\"],[\"71\"],[\"72\"],[\"73\"],[\"74\"],[\"75\"],[\"76\"],[\"77\"],[\"1387\"],[\"78\"],[\"79\"],[\"1286\"],[\"80\"],[\"81\"],[\"83\"],[\"84\"],[\"86\"],[\"103\"],[\"105\"],[\"106\"],[\"127\"],[\"1883\"],[\"129\"],[\"130\"],[\"131\"],[\"132\"],[\"1270\"],[\"133\"],[\"134\"],[\"135\"],[\"137\"],[\"138\"],[\"139\"],[\"140\"],[\"143\"],[\"144\"],[\"1874\"],[\"126\"],[\"125\"],[\"124\"],[\"1887\"],[\"1276\"],[\"108\"],[\"1896\"],[\"110\"],[\"1771\"],[\"111\"],[\"112\"],[\"114\"],[\"68\"],[\"115\"],[\"1892\"],[\"117\"],[\"1274\"],[\"120\"],[\"1890\"],[\"121\"],[\"1889\"],[\"123\"],[\"116\"],[\"1386\"],[\"66\"],[\"65\"],[\"17\"],[\"18\"],[\"19\"],[\"20\"],[\"1363\"],[\"1364\"],[\"22\"],[\"23\"],[\"1321\"],[\"1317\"],[\"1368\"],[\"24\"],[\"1314\"],[\"1311\"],[\"27\"],[\"28\"],[\"29\"],[\"16\"],[\"15\"],[\"14\"],[\"1362\"],[\"1342\"],[\"1\"],[\"2\"],[\"1353\"],[\"1354\"],[\"3\"],[\"4\"],[\"1356\"],[\"1308\"],[\"5\"],[\"7\"],[\"8\"],[\"10\"],[\"11\"],[\"12\"],[\"1328\"],[\"1326\"],[\"1325\"],[\"6\"],[\"145\"],[\"1372\"],[\"31\"],[\"51\"],[\"1295\"],[\"1294\"],[\"52\"],[\"54\"],[\"1383\"],[\"1384\"],[\"55\"],[\"1385\"],[\"57\"],[\"58\"],[\"59\"],[\"60\"],[\"61\"],[\"62\"],[\"63\"],[\"64\"],[\"1296\"],[\"50\"],[\"49\"],[\"1297\"],[\"32\"],[\"33\"],[\"34\"],[\"35\"],[\"36\"],[\"37\"],[\"38\"],[\"1306\"],[\"30\"],[\"39\"],[\"42\"],[\"43\"],[\"44\"],[\"45\"],[\"46\"],[\"47\"],[\"48\"],[\"1301\"],[\"41\"],[\"146\"],[\"1077\"],[\"1870\"],[\"1263\"],[\"221\"],[\"147\"],[\"225\"],[\"1262\"],[\"226\"],[\"1822\"],[\"227\"],[\"220\"],[\"228\"],[\"230\"],[\"231\"],[\"232\"],[\"233\"],[\"234\"],[\"235\"],[\"1817\"],[\"237\"],[\"229\"],[\"219\"],[\"218\"],[\"217\"],[\"196\"],[\"197\"],[\"1834\"],[\"198\"],[\"201\"],[\"202\"],[\"204\"],[\"205\"],[\"206\"],[\"207\"],[\"208\"],[\"209\"],[\"1830\"],[\"210\"],[\"212\"],[\"214\"],[\"1829\"],[\"215\"],[\"216\"],[\"1400\"],[\"1836\"],[\"1815\"],[\"238\"],[\"1252\"],[\"254\"],[\"1251\"],[\"1788\"],[\"255\"],[\"256\"],[\"257\"],[\"1784\"],[\"1792\"],[\"258\"],[\"1780\"],[\"1779\"],[\"259\"],[\"1777\"],[\"1776\"],[\"1775\"],[\"260\"],[\"1773\"],[\"1781\"],[\"253\"],[\"1253\"],[\"251\"],[\"1401\"],[\"240\"],[\"241\"],[\"1808\"],[\"242\"],[\"243\"],[\"244\"],[\"245\"],[\"1805\"],[\"246\"],[\"247\"],[\"1803\"],[\"1802\"],[\"1801\"],[\"248\"],[\"1254\"],[\"249\"],[\"1797\"],[\"250\"],[\"1814\"],[\"195\"],[\"222\"],[\"194\"],[\"163\"],[\"1397\"],[\"164\"],[\"165\"],[\"1855\"],[\"166\"],[\"167\"],[\"1854\"],[\"168\"],[\"171\"],[\"1853\"],[\"1852\"],[\"173\"],[\"174\"],[\"175\"],[\"176\"],[\"177\"],[\"162\"],[\"178\"],[\"161\"],[\"159\"],[\"148\"],[\"1869\"],[\"149\"],[\"1394\"],[\"1395\"],[\"150\"],[\"151\"],[\"1865\"],[\"152\"],[\"153\"],[\"1268\"],[\"154\"],[\"155\"],[\"156\"],[\"157\"],[\"158\"],[\"1860\"],[\"160\"],[\"179\"],[\"1856\"],[\"183\"],[\"184\"],[\"191\"],[\"1264\"],[\"187\"],[\"182\"],[\"192\"],[\"185\"],[\"1847\"],[\"189\"],[\"190\"],[\"181\"],[\"1266\"],[\"1840\"],[\"180\"],[\"193\"],[\"1838\"]],\"hovertemplate\":\"Cluster=Cluster 0\\u003cbr\\u003e0=%{x}\\u003cbr\\u003e1=%{y}\\u003cbr\\u003e2=%{z}\\u003cbr\\u003eFeature=%{customdata[0]}\\u003cextra\\u003e\\u003c\\u002fextra\\u003e\",\"legendgroup\":\"Cluster 0\",\"marker\":{\"color\":\"#636efa\",\"opacity\":0.7,\"symbol\":\"circle\"},\"mode\":\"markers\",\"name\":\"Cluster 0\",\"scene\":\"scene\",\"showlegend\":true,\"x\":[-19.738733,-5.5480976,15.110782,7.3902636,-3.7040794,-20.712297,-22.433413,-6.4164896,-18.4209,1.6727173,-19.865067,-32.80711,6.0015965,-13.056043,-5.1053867,-28.593945,3.1229284,22.202398,-30.497528,6.9461493,-17.341042,-4.7209325,-22.220707,4.5587544,0.1013463,-6.508214,0.13906339,16.998276,20.123074,4.3359823,-6.72491,11.6112385,-6.4440417,-22.591164,-30.997528,-5.3788314,-0.52369004,-7.1299963,-15.039961,18.830612,5.2900233,-30.387749,-10.797862,-9.337727,11.035983,11.264347,-9.523008,-28.82028,6.498853,-36.3123,3.274561,8.754408,-29.20981,9.868186,-12.705448,9.267011,-4.2608485,-8.716261,-14.94454,-11.230877,-21.734623,-15.489835,-5.7726,8.833342,-7.4583483,15.819355,-44.361378,-11.299421,-15.9155655,13.543783,-31.141731,3.7189596,-23.607193,20.86842,-7.527474,-25.193687,0.44755825,20.283928,0.046770584,-5.321799,-19.910177,10.450963,26.128601,2.0129943,-14.565121,-4.1914735,-10.511076,-26.237223,-32.909122,-9.322583,-12.163684,-9.632576,6.2973876,-6.5366435,5.7843447,-4.518351,-13.83473,-8.733674,-6.9560714,-4.129937,-9.316021,-6.967821,-1.3024194,-15.033314,-0.18030384,-0.17019904,3.3794076,3.544117,-1.6769415,-23.070297,-28.55823,-25.162899,-25.48664,-22.01013,-38.633896,-7.5230727,-28.32262,-13.946248,-22.369654,-17.037714,-18.509552,-15.32285,-39.75971,-26.761282,-16.966112,-13.881144,-26.552979,-14.465796,-4.0590777,-38.320137,-41.505276,-2.5819752,3.8913817,13.301611,-10.124589,4.846559,12.84946,-3.0163698,1.1898781,-1.6369839,-13.81002,9.457029,14.274843,1.541883,-1.8239391,14.416867,9.880122,3.2391286,-17.128607,-18.114012,-7.3315725,21.462355,9.005633,7.880145,4.7684355,1.5581931,-5.4538255,3.6222246,27.34156,-8.782448,-9.906945,-23.50601,5.030249,5.288688,-28.142673,25.492933,4.9616714,11.287916,10.261567,10.646214,14.205689,-17.315296,17.48267,20.967253,2.5630696,-17.615667,-2.1417325,-18.1261,13.612238,-13.490421,-14.550909,-16.657541,-39.89085,5.1202173,-8.697913,-1.7000723,-2.0116372,-16.621195,-22.460945,8.957031,-9.7588215,-1.2980107,20.134518,-2.6855288,22.567514,25.231794,-19.740238,-24.046835,-10.0249815,-14.830153,5.562327,0.33828276,-6.525332,-14.55367,-7.417365,-33.416454,4.3529077,8.090206,-9.451589,-28.01908,24.37575,-3.9596536,-1.9267493,-11.255392,-6.748508,-6.2492085,-2.4205232,-19.957636,-21.541237,14.021232,-27.121986,14.462467,14.933472,-24.461292,9.461907,-7.5865483,12.819865,3.0578651,-25.795937,13.106267,5.2230797,-14.82177,0.86666316,4.718871,-10.650722,1.937577,-4.0957594,-4.5939603,-19.057747,11.2999735,-14.735532,-19.698555,-22.378405,-34.569496,-9.571118,22.717411,-5.629747,-39.41668,-15.836689,11.553048,6.9741917,1.5508308,-1.2401385,-0.87712485,-2.1520302,-13.640135,-6.388515,19.964804,-18.83271,-33.977592,-14.203928,-23.972336,-25.757132,12.000482,8.940711,-8.684974,-23.411766,-17.533842,-35.82266,0.85169166,11.776564,3.5276513,-29.529879,25.528717,-27.105732,10.037541,-2.8623633,-29.551079,-1.6983321,-2.8055513,-1.8780262,-4.653172,-32.36931,-34.26446,19.52188,3.528054,3.5919564,20.41888,-9.8026705,1.5200886,-8.134552,-15.288869,-20.970602,-8.14269,-18.354458,5.14308,10.08224,-30.775162,3.0550077,-8.136737,-11.281565,-5.1457043,5.9130745,-5.379374,-10.195796,-0.7341931,7.541163,5.7074847,-31.061344,-7.834386,-8.608186,-18.49879,19.958094,-3.5989478,-21.807045,13.41467,27.5367,-11.67445,-13.403616,-21.517,-8.525507,0.14568906,-42.969166,-18.445398,-9.828151,6.823342,-5.7714114,2.5434463,-0.011525527,-10.013531,-27.736322,-13.206922,-0.9886612,-2.8640933,1.0541147,-1.8146172,-6.2797904,-14.592578,-38.663666,9.037508,-30.712482,15.066662,7.415975,0.25499284,-26.353296,-18.861406,1.6254491,-6.521529,-15.775637,-24.444792,-1.2770473,-24.938263,-2.5953102,-6.269269,-6.0251064,-15.3430195,-17.779058,-18.285679,-22.604012,-38.695663,0.6896807,-25.973906,4.928879,10.254716,-29.215824,9.573689,-8.412517,10.497485,-3.851195,-29.999752,-31.751068,0.06563833,4.8573604,-9.19752,-3.4517057,-0.8676031,-20.604275,-30.1911,-22.708721,-11.137038,10.649865,-9.063046,-9.000628,0.26049617,-0.5130927,14.425474,8.151595,6.412622,28.499636,-15.804966,-4.412036,-11.931598,-13.128299,-26.787064,-12.04859,-18.083021,-17.083078,-5.55885,12.043371,-10.904988,-32.674816,-26.135466,5.20797,5.8548317,-43.977104,-36.940804,-0.25080955,-2.651944,-40.606262,21.01184,5.713368,5.4111104,24.477915,15.275874,-19.439596,-9.6347,2.3788016,-43.53313,12.860568,1.6194416,20.358257,20.636717,-45.428165,16.792908,15.256038,7.4825726,-10.315886,13.155689,-24.61439,-9.396799,-3.9766254,12.529914,32.19647,-34.44798,9.805296,24.641226,-0.08880464,-44.078876,-3.971681,11.195179,-20.31386,3.698261,10.493573,-0.16598766,-33.45918,-20.25085,11.762578,14.952342,15.099832,-24.207933,1.7710598,4.395741,-35.846104,-37.3161,-12.733069,-9.550119,-20.291704,-5.793202,-28.473516,-14.753094,-32.049385,-23.79075,-33.09192,8.182226,-7.9241104,-25.299637,-29.267786,4.0064707,15.888411,14.21377,-34.661175,-11.518775,-25.530613,-18.912962,-24.518305,-13.2592945,-22.659334,-11.730504,-20.148531,-22.544613,-19.144014,-14.783417,-24.572027,10.858155,12.260987,10.560748,-30.332258,3.5135486,-43.43107,-2.2316546,-5.3602986,-0.07893304,4.3622794,13.510659,-11.787355,5.914844,-15.023515,-27.932386,-34.999138,6.528032,4.761001,10.146111,-25.690517,-6.625345,-14.395668,-19.644094,-23.9838,-7.6265273,18.28527,-2.6894734,-9.532401,9.406876,-30.32977,-24.015675,24.002102,16.35819,10.650515,12.783374,29.92009,0.76110023,5.4671397,6.5619802,-10.990314,-11.446916,-10.676416,-10.103755,-8.821581,-7.672678,-33.488434,4.1741953,-40.790703,-30.480413,-11.206227,9.819981,-29.312052,-10.06116,10.441919,-7.231926,-29.229633,-7.021399,-26.770758,-18.361914,11.047014,7.966483,-5.1355877,3.7748382,-10.52221,-19.729185,-18.25197,-8.308735,-34.968967,-22.898323,6.461342,-0.6684184,-6.542886,9.696419,16.180891,-32.886295,3.0044382,-5.467079,5.0830455,-9.763963,-23.735582,11.288714,-22.003042,-10.6431465,-5.7057657,-4.5159364,-5.1164117,-19.518587,-23.06199,-1.0890802,3.5490046,6.4959574,-36.47354,-12.265792,5.701756,-1.6209686,5.2962804,-15.800611,-20.888254,7.2030025,-17.055096,-14.562402,-25.149067,-25.71801,-30.857656,-24.955101,-17.093025,-9.576459,-25.407804,9.223247,-36.951,-11.70643,15.495166,-11.743714,-23.185682,-31.851873,-24.62497,-18.222965,-28.109919,-30.945667,-20.826372,15.05306,-2.83757,-15.498592,14.981956,-9.910045,17.546492,-0.23754796,-13.513077,-6.526828,-22.542809,-21.205763,-0.5315192,-24.327124,0.09019856,8.144264,-7.0786257,-7.474293,11.459677,-3.6897006,-33.844463,-8.0132675,-11.869086,4.347567,-8.675196,-36.225235,13.541576,-25.564396,-18.874182,-38.893833,9.735804,9.301331,-21.494576,14.558109,-41.190113,-3.6131854,3.3781612,-33.21719,-4.559862,-9.894821,-17.600208,1.601123,-18.911272,-22.10743,8.088218,-30.382122,3.7228677,0.33844945,9.046537,24.67139,-41.739876,-12.491573,15.393752,-37.40925,19.484142,26.866093,8.815731,-33.394012,14.278712,-20.3529,-18.740929,16.106302,21.890936,-29.917156,18.815645,20.524387,-16.229733,-27.66504,-34.800938,-10.712797,-13.738859,13.725775,-7.8110476,0.103372015,12.663631,-4.890782,-15.2999735,11.707575,-25.35759,-14.767232,-2.4745889,24.924753,-14.784337,0.30911037,-3.632944,-30.523724,-35.110497,-11.692764,7.3092566,3.8461027,-10.672257,-15.082318,-26.53624,-22.10167,-41.373108,-4.636025,-34.347168,-22.125471,9.581103,-17.347784,-24.436708,4.1375537,-12.7765,-8.97773,-16.175688,8.585732,-3.653,-9.592468,-10.979276,-7.6287947,-27.39676,5.823548,-19.432158,-35.20152,2.4733033,-20.264198,-31.669863,-0.62732387,-15.192415,3.683549,-29.023752,3.942489,-32.51427,-19.63528,-34.76974,-35.775513,-39.902023,-22.937387,-20.708782,5.1017523,25.08305,-16.657545,-19.420609,2.0572066,7.886141,6.7107725,-41.416397,-22.802366,-0.5931774,-0.50187457,-35.230797,24.135235,19.34016,-5.5209436,-40.365665,15.3972025,-25.018623,-16.42431,13.09724,-0.78074616,-22.961187,-31.656279,11.287291,-8.413169,-20.313057,5.3334537,17.990618,-2.0604925,12.051403,0.22879378,-13.615833,9.763806,-4.4726276,-23.2857,-9.92715,-38.284306,-2.644701,-29.625847,-10.91216,0.29892218,-26.21313,-25.758177,-35.8897,-33.339993,0.53141534,-30.34965,-27.479404,-20.397821,13.175074,-24.144125,10.736341,3.9321206,-8.22794,-27.276613,-10.698422,-8.533195,12.94177,-3.1100125,-13.128336,-17.184288,-20.002512,-7.1381474,5.9953947,-13.779479,4.5400424,-6.873082,-8.613776,4.209436,-29.08451,-1.8299979,-8.364211,-21.253214,-33.349316,8.4623995,7.734927,8.96971,-26.605753,0.29629743,-8.013328,7.7379637,-4.2431026,6.455501,13.1647215,-6.6310234,-14.570008,-27.3433,8.765696,21.893906,-25.0038,-18.04122,-9.921537,-20.670162,18.22574,-9.45718,9.629445,-12.854784,1.329076,-15.845533,-15.882079,1.5932919,-29.278044,-33.03266,7.2147236,-13.764241,-6.0985055,-28.898983,-10.847802,-17.295246,9.996711,0.4302141,-12.795831,-27.07703,-18.67243,5.3699293,-0.4923516,7.6172867,17.941217,-18.269468,-4.8116527,1.5285462,-12.244911,-24.687239,-2.7618537,-23.525455,-24.412136,-5.754432,-12.341343,-12.760977,10.436375,1.5589594,-28.741545,-36.433407,-30.313692,16.765013,-28.465971,-28.566921,-0.40850702,-3.3633914,-1.2282306,-17.611223,-9.317694,10.977666,-18.717745,10.7026005,0.55110204,-40.691856,-20.301874,-26.465868,-5.9593234,2.6461303,11.033864,-24.53245,3.5832493,-11.147215,-21.40364,-18.829508,2.039222,-4.085405,-12.968589,-20.969429,-16.053015,4.524442,-31.299713,-1.9749156,-11.664031,27.115816,-24.556473,2.9805322,-13.92658,-39.772373,-3.9891841,-0.364656,-22.40972,-0.030320762,-26.036106,-17.380966,-2.8367152,-34.53041,-41.971996,-20.292698,-18.492258,-35.36442,-19.101023,-14.578513,-26.589998,-27.38293,-20.917162,-5.150516,-26.047403,-8.583065,-18.556557,-35.021214,-3.8977582,-28.075064,-10.0843725,-1.9107952,-0.4303496,-26.623762,-25.427404,-29.891712,19.63247,6.383829,-11.867985,-34.004635,6.608589,-29.220947,-29.985453,-31.853748,-23.65131,-16.25209,-17.42448,-16.818193,-8.077033,-45.25264,3.7641537,-42.9267,-31.855333,-12.516305,-14.089465,-34.653492,-34.55858,6.991849,-35.130085,-32.386066,-37.514107,-42.135803,-34.9413,-19.617968,-27.823397,-38.26035,-5.9420285,-9.426286,-11.884331,-30.133785,-9.7599745,-1.7512158,-29.620592,-15.065949,-35.68073,-19.598768,-24.573555,-16.292278,-31.187658,-33.631382,-24.742336,-40.456776,-13.014051,-39.89867,-35.42953,-19.589294,-19.664484,-40.911438,-11.349058,13.131652,-45.767395,-32.939503,-1.3544466,-39.28281,-10.789034,-24.165052,8.47659,-10.035776,10.370652,-20.455948,6.1658015,11.537706,1.9907919,12.868492,-16.160189,-6.470391,-35.60191,-12.816615,-27.891016,6.571746,-24.345144,-21.554617,-4.1062093,-9.560399,-39.616997,16.303637,-9.05187,-15.675525,27.422169,-8.22987,-17.762335,16.740248,13.809262,1.3844832,-24.603918,-5.4328156,-15.981162,-25.956072,7.8026,-33.727123,-5.1772404,-10.979848,-29.997746,-34.456406,6.401299,-28.037561,-18.87948,2.0569708,3.828733,-19.418098,11.16607,-18.41881,-3.874877,13.47072,-8.831228,-36.37699,-20.661524,-26.777658,19.772802,-33.705986,-9.660122,13.166995,-18.722364,6.6432214,-16.86869,15.428967,-17.831614,-25.586714,-2.494389,-35.554985,-26.869272,-17.911367,-3.084613,-24.410196,20.48393,-0.82616687,-21.796228,-16.364782,-6.294367,8.040987,-26.44395,4.759502,-19.759848,-17.784063,2.1722279,-18.534218,-12.22556,-4.5597625,-16.859003,-4.909135,3.0678136,-9.186204,18.6039,-1.3837019,-13.251177,-24.166237,-29.849874,-9.973252,22.136232,-15.339697,-30.783653,1.5723697,-15.92198,3.7201867,-6.882674,-37.60859,11.231668,-29.018946,-9.476677,-1.5440171,15.427412,12.792471,11.347173,-13.510869,-16.829716,-7.0052233,-2.4741175,-44.868164,-15.29423,3.8390086,-6.5435033,9.133737,8.152189,-4.0441628,-23.253866,-12.298037,-24.672522,-10.171059,-0.7083772,-4.9778805,-22.969252,14.723513,13.109278,-5.7422166,-1.0298648,11.531921,-1.6405672,4.0433316,-13.67142,2.4340198,-22.994473,12.69456,-15.537711,1.980214,-20.159334,-7.533579,23.010794,-8.724714,-18.839315,-30.96082,-35.348858,17.86017,-4.220651,1.9418516,8.674161,34.309155,-23.525888,-22.177528,-24.601805,-5.531062,-20.154203,4.275588,4.3603506,-17.240654,-10.811369,-16.395292,-18.0276,8.635196,-6.039034,-19.87213,-8.744044,-40.83067,-1.4240149,5.03173,-14.3114195,1.2042886,26.421608,-17.961264,7.651537,9.836346,0.118597455,2.4269238,-11.449514,-19.091509,24.167767,0.07804841,7.1031785,25.453197,-16.091713,3.2762084,-3.5133479,-35.585613,-34.14599,-30.81863,3.9227111,-12.188469,9.402756,-16.282131,-14.443735,-30.085209,-2.4169543,-14.402092,-18.528011,18.71764,-14.313013,3.757412,-4.037295,-6.987823,-6.8506107,-10.655401,9.232455,1.9963835,-9.667085,4.3405175,-10.545059,-13.589947,-22.232792,0.5037036,-17.586939,2.6760628,-1.2710999,-21.253292,-19.01897,-15.431118,-19.808258,-14.063217,-3.3636851,7.9312186,20.528755,7.6570005,-4.3728886,-28.518194,-28.028353,-19.132002,-16.552612,-17.688707,-23.001373,4.4029365,-21.153118,5.954823,31.623241,-17.07257,-1.1211159,6.8685017,-17.814606,-15.394869,-12.246601,-24.494303,10.792841,11.438197,-20.356176,-19.012327,1.5276641,-10.192398,-4.5336185,-24.124727,10.905753,-3.5515184,-8.012353,-9.621448,8.522642,-25.611753,-15.98773,-11.652229,4.9584446,-13.05477,6.296146,9.737733,1.9265511,-13.6165695,3.7190056,-28.902454,6.2350926,19.88665,5.608281,11.037022,6.47986,12.011007,-18.297962,-16.550669,25.11496,-13.820046,20.673168,11.801948,8.398336,15.753526,-7.810615,-5.118185,-1.7213002,-22.483831,3.9489133,8.576135,21.667997,0.57609206,15.171179,-28.437204,1.3207964,23.03591,1.3905516,2.7153466,4.6655407,-1.4295845,-25.30058,1.7346303,-4.156423,26.351152,-4.503234,-6.935447,-4.0485897,-0.38650322,-18.599377,-17.709238,-8.321688,-6.7495203,-18.290834,9.841583,5.9342,-31.771656,-2.8308136,-1.0409485,2.7257254,-26.570662,-13.107371,-12.315234,16.140247,-40.44422,0.71360505,-19.07126,8.022911,-1.0478089,-32.313923,19.61808,-3.088231,2.8845766,-18.586237,-4.4920683,-13.409386,-14.546925,0.12313542,-11.568992,6.5672717,-18.853935,-17.238846,1.5393678,-0.3894654,11.734725,8.988722,-14.326423,-27.072859,8.509231,-10.071008,-6.3280735,-12.400719,-23.91974,2.4895825,-1.6043079,6.1866865,-3.4206,-21.064018,12.002542,-31.645245,-29.094797,6.0751357,-11.299868,0.41816235,-20.98954,25.404812,-40.0516,0.48523548,-3.952651,-14.823514,-4.4792914,-22.219961,-6.913966,3.306525,-2.8999841,-29.25156,-24.533152,-5.773326,-40.71058,-18.428772,4.6703825,9.941592,-14.632912,-22.322563,-10.555496,6.7061996,22.373241,-23.088007,-23.059664,-14.669898,-24.421307,-30.997524,21.547049,-2.5033042,-6.0195947,-11.274248,-2.0961738,0.84948283,0.01934997,-19.144384,5.381437,11.75568,-12.031756,-22.052359,-22.036386,6.659388,6.415684,-17.933384,-1.2964537,21.13324,-10.141291,9.692179,-21.76558,-24.074137,-16.064154,-12.031931,-23.30201,5.972958,-46.04995,-8.008824,-36.596157,13.358809,-21.326174,17.81839,-0.6586517,-34.18759,-14.772363,-17.621687,11.758622,1.0858533,-24.733568,12.9290905,-8.404857,-40.46251,10.7674,4.927163,11.052531,-21.00066,19.640953,3.5902815,8.126231,-25.839958,-40.080936,-1.6697524,3.4000757,9.654457,-14.65466,-30.538868,-33.677174,23.601038,-25.778402,25.316853,-26.11949,-26.05212,-9.262082,-34.737362,8.7496805,3.6589308,-22.663704,17.71958,15.253407,-22.251928,18.97413,-1.9552046,8.054932,-3.6862888,-23.614866,2.7218263,-20.019323,10.225098,-16.115185,-10.179023,-13.284884,-45.586143,-33.16276,-33.234818,-11.9311905,-32.888466,-34.68931,-21.312422,-22.352453,-6.420399,5.0711455,-15.428064,-2.7175388,21.721767,-9.628185,-19.273657,5.84738,20.035479,6.370725,-30.853863,-7.61801,-9.734194,-26.418615,14.414507,-39.814793,-12.88654,-13.5215225,4.9588327,9.562096,-42.614967,-31.08458,-45.283447,-7.2825093,26.42435,-17.285975,9.541891,2.2382925,-31.577248,-8.186674,-15.907484,-24.707342,-33.268333,-16.098799,-15.96062,20.965384,-16.244867,-11.002873,18.396544,14.356309,-28.024607,19.062925,-25.339643,4.2231016,-0.41822746,7.640881,17.49019,-4.690577,-28.882038,11.72777,-4.6235776,-12.938729,-28.485392,10.00134,-8.555672,3.4643235,-11.086897,12.757935,-32.139133,-3.3651023,-3.4595504,12.226194,-33.067024,-26.187452,8.832067,-0.17179988,-40.508747,-19.567673,-27.102358,-29.634834,-4.370462,-7.6945143,19.034445,5.1285634,-23.163195,5.793074,-35.5084,-7.019989,20.322617,-22.87254,-29.515768,-0.98264974,-5.728471,-27.65048,-28.889309,-12.0662565,-18.040762,-14.8230095,-36.69336,1.1845757,-11.175319,-11.823743,-20.200481,-41.14749,-29.99522,9.814273,-27.160677,-14.272718,-10.161821,-22.810574,2.368668,-36.205856,-12.845901,-22.124489,15.439745,-13.516975,10.563294,19.996681,-31.774872,11.477084,14.902916,5.241219,-19.990868,0.52377224,-15.63139,9.690061,-18.511534,-12.213921,-31.536339,-13.022877,-18.795254,25.996428,-8.59187,8.361587,-19.325542,-19.992916,-13.560483,-29.868685,7.7655315,9.164584,-35.92876,-13.568134,-28.45496,12.8116045,-23.28696,16.93922,4.797384,23.656555,-15.234521,-0.711253,-29.486761,-3.3751016,-23.250628,-9.780286,-26.383745,-4.656451,-33.098614,15.31008,-27.944773,23.800955,-12.898231,-24.272568,7.830761,-11.061867,-6.6708713,13.794999,13.117201,21.096155,-13.300758,6.8124723,12.894376,-1.0337876,-0.81233317,-17.039211,-23.109325,-8.290105,-25.406784,-12.600591,1.6848913,-5.098713,-13.952977,-24.15844,6.1742783,-39.91717,4.564923,-25.493214,12.495779,-3.484596,-13.183985,1.0879719,1.9323887,-9.55205,-29.593073,8.311118,12.420159,-9.471058,-33.467438,-13.700422,-23.68637,7.2982388,11.617437,-4.6549177,-6.0797443,-0.33246362,-1.346564,-23.110628,-31.818382,-0.8851405,16.370457,-13.438396,11.1299925,16.909685,-38.56745,-26.8888,-23.98642,-5.138241,5.209348,11.380772,-8.535404,23.398247,-43.73902,-16.415209,-5.3891497,-11.916211,-3.154799,-28.816648,-9.708324,-27.332077,-16.740053,-18.201471,-10.680415,11.238323,-14.718136,-3.3704638,-15.497205,-28.734589,-7.7648892,8.856148,14.408735,-24.158995,21.782396,-6.0376706,-13.581947,-7.316706,-24.865341,-3.2008765,16.740204,0.0747681,1.7649254,25.22049,8.6458845,-1.1636811,-0.927015,-12.36599,-23.821898,0.9036278,8.579279,-15.877645,26.054028,-1.3662009,-21.267822,-19.796482,-16.162092,-20.19035,18.970589,14.126242,-13.6613655,18.806412,2.6826007,-13.309022,-9.668397,-26.592089,-28.27407,14.005595,-9.523947,1.9943196,9.393057,-24.854517,10.9859705,23.201418,-39.739002,-39.442116,-27.913523,-37.29729,21.448795,3.7181106,28.218536,4.2331862,-13.78735,13.934722,-20.08198,0.68860716,-18.800207,6.322431,-26.435709,-28.463926,-29.775927,-22.240494,-24.484226,-15.583989,-20.677885,6.207546,-10.768537,-39.36367,21.594866,-23.541636,14.678631,-15.186303,9.8056135,4.9541206,-10.278242,-4.317968,-2.9618497,-35.85776,12.814247,8.7705145,0.2237977,-18.615602,-7.3150673,-12.76504,-20.426247,-36.963474,-26.39268,-15.61558,-34.429417,-17.771406,9.822656,-14.355997,-14.395263,17.919172,-25.71211,11.165124,-7.515835,-13.760095,-29.652822,-0.24594319,-14.733262,5.0866036,-0.8746423,13.33205,9.847163,-24.503448,-4.364967,-4.0077972,-13.261946,-34.135075,-29.00233,19.267836,-12.415349,-45.284245,-4.973874,-30.614626,-25.018093,-12.569492,-15.021013,-7.28104,14.010254,15.194929,-29.530212,-19.560472,-7.7188287,-21.222797,-3.0747502,-8.52785,-17.446138,0.78838533,5.099256,-20.552244,5.30929,-19.674028,1.0550563,-35.771492,9.4851,6.67952,-10.220017,1.681588,-36.382103,-15.401586,-8.820394,-5.758362,1.665618,-4.129011,-18.824451,-26.258116,-29.428274,-8.566028,-36.75267,-8.509638,-14.423493,-25.553213,5.8408866,-19.223347,-30.428976,-37.750397,-13.04752,10.636227,-6.925431,-23.926546,24.255388,-27.665121,-21.914198,-7.548888,1.6674055,5.9471803,4.986761,-39.82136,-3.097387,-6.553872,-3.294631,-41.513054,0.19656537,-4.743983,11.32337,-12.265585,-11.080848,4.1974626,27.095348,8.61821,-12.353672,-1.4398997,16.116385,18.765873,-23.76456,-4.8727326,-8.457693,-15.053051,-40.27066,-3.1548285,-28.75771,-11.558712,6.604701,-13.800252,-28.790607,-27.790785,2.8277159,-13.770542,9.899953,10.681962,-3.7789857,9.899182,-17.805025,-24.817951,-38.653343,-39.54383,6.76286,-35.198185,4.89189,-23.382128,-37.13001,-17.82986,11.510988,-19.337898,-25.010105,14.321651,-34.908436,-20.73054,-27.446922,-5.377323,7.6243124,-6.5916405,-4.7974005,-6.267434,3.220968,-17.035505,-27.827017,10.41148,-23.815395,-16.906199,23.977942,-12.184923,-30.738838,-23.323109,-21.905947,-38.421318,-25.046782,-36.039078,-9.324054,-40.275604,-14.270975,14.963424,1.0799897,1.5801208,-34.203365,-40.353672,-24.16046,-7.941744,-26.054352,-38.560757,8.435409,-19.733809,21.564716,-12.957106,-1.3021231,15.21573,-20.508266,-17.643509,-22.767496,-11.321536,-34.106106,-9.64998,-7.62146,-5.056746,-28.308903,-31.64556,-19.334019,13.179452,23.496092,-32.827408,-33.06688,-21.993486,-2.5455034,-17.755167,-23.039799,-21.530462,-13.899305,-16.247314,-2.2272453,-1.5006652,-40.67337,-4.5091887,-26.991856,-25.714846,12.212332,-38.230137,-26.481909,-30.999195,-21.073803,-37.584766,3.1796787,-44.440456,5.2872853,-0.82987857,0.7865041,-38.461567,-34.21286,14.071962,24.027782,22.581192,14.19139,-29.141634,2.2737408,-3.614636,-12.265934,-33.90236,-32.335564,5.4353266,0.965532,-24.445784,-2.2017064,8.218825,11.510948,-16.863808,-24.047527,-21.613966,-15.762364,-17.346655,13.143924,16.096106,-29.395668,-31.085955,-1.6041762,-6.280578,-29.626966,-35.717842,1.0370624,20.903864,-20.028555,-35.71535,-24.945356,12.655289,-4.8664384,-32.94477,26.2979,-6.684234,16.521162,10.120546,-20.799715,15.967137,-27.135118,-25.48355,-12.217616,-14.182725,-7.0193353,3.9723332,-22.784554,0.1324913,-30.541454,-12.355463,-19.404947,-28.809923,-20.785511,-35.25325,-8.558557,12.609521,-4.4120126,10.851975,-3.2149706,-27.300303,2.061812,-0.7540496,-12.093461,-18.072727,-5.4615927,24.246466,-2.6470847,8.207155,-5.4123735,-0.9707167,-32.97984,-34.36965,-10.221741,-21.010027,-17.19634,-27.456238,-37.20624,-9.040536,-32.69525,-29.45429,-11.10245,-29.172783,24.706955,5.9485607,-34.125824,-29.96096,-28.287052,-32.63393,5.2933335,-31.368444,-22.13442,-6.437111,-29.56848,-22.806473,15.727302,11.336021,-19.834436,-29.193542,-9.906028,-5.480936,-12.917685,8.714575,-22.742529,-22.042427],\"y\":[13.436559,28.523882,36.070892,42.47702,5.753606,-18.469593,-8.655294,18.486288,19.752106,24.849539,16.12819,6.5520177,-14.961544,-15.087904,19.803818,6.5610237,17.633808,-14.420703,-5.3275485,-11.593482,-9.226394,-9.272369,17.670162,6.286292,-37.110607,13.956409,-11.077198,-32.413364,-31.343414,27.117018,-30.072134,-7.0873623,18.986216,-7.018636,-2.9662974,-32.799423,-24.338139,-32.652378,-15.1638155,-8.192968,1.0591413,19.511845,18.2065,-18.976662,-20.678528,-26.122236,21.605341,5.581096,-40.365765,13.352354,6.400297,24.113564,-5.241638,-11.0930805,1.1579673,16.484783,9.193729,-29.584,2.8769536,29.103216,8.809001,-27.5328,43.056206,-25.22864,4.433225,-19.249395,13.505026,16.362457,3.4128075,-30.506226,-1.6853048,30.18447,1.4230618,-18.96631,-20.99569,5.607179,-6.5093946,-25.065155,28.571463,6.7169976,26.506485,-16.09949,5.2903585,12.428104,-3.0727882,15.038571,-13.894745,-6.853124,-9.761742,27.733511,16.70861,-3.0987244,23.472437,-5.731625,-22.634937,-20.472801,-23.485569,16.349365,23.49703,-4.7699127,-28.311178,16.164225,-38.143444,-23.307734,37.572025,5.923555,-19.14618,23.30591,-29.177876,-9.384525,-31.657236,12.32822,2.6877275,-19.315926,0.8580593,-27.73963,-14.118892,14.973549,38.15871,38.46741,-38.54807,14.413951,14.959088,2.5349324,27.107418,-27.193499,-2.1465285,-11.072787,23.874666,24.042105,1.0366987,-18.76381,-25.542679,-1.2329673,25.301016,8.037842,20.107018,-26.115564,28.24392,-22.793758,9.049266,-7.084922,-18.301208,-27.492367,37.87093,-14.2646885,-31.910069,27.64369,10.81403,-10.603052,-25.46495,4.213277,17.922483,-15.3988495,39.61119,-0.64892477,19.493998,-29.199036,-4.4102573,-20.159756,-40.872314,-30.757288,-3.6688766,-29.399044,-22.212038,15.124042,-12.344723,25.578781,-26.608423,17.069477,10.289712,1.5575943,34.250546,-37.456284,-37.518627,-8.77346,-19.558004,-22.361162,30.21809,-4.895421,-31.223347,12.0670595,-1.7825965,-35.09913,19.983538,-32.385456,-19.810095,-34.463337,-8.0900755,39.52781,-25.28439,-16.004845,11.795761,-28.827742,-25.590286,-31.717514,13.486523,-21.488098,-10.328863,17.724949,-18.645737,-25.822474,26.123703,14.457399,21.219692,-25.609259,24.489687,-2.8788438,33.201405,-16.643215,24.066696,-37.9684,12.5156,25.93651,30.666634,11.817362,19.70659,33.467796,-27.235535,-27.807241,-27.243216,37.065678,-28.585485,-5.3196254,-24.477137,-31.23373,14.452322,15.141527,22.905516,28.160831,1.8717527,-1.8020517,38.549522,-36.144596,0.58994156,-31.205908,24.20047,-37.3681,0.13303204,-21.867414,-23.449226,-12.8553295,-11.832809,29.196331,-15.814196,33.89669,-21.125553,2.9232326,10.489483,-20.5736,-17.725422,-2.124838,1.4637475,-16.24366,-5.2296906,-17.269753,35.98561,23.101934,-27.144829,1.285112,33.55207,-32.983704,3.0834076,-5.3524966,37.779465,36.526752,31.078388,33.184742,8.373611,20.687508,6.4746523,15.116593,21.150917,-33.627884,6.655726,-21.312374,9.298054,14.832761,-33.646503,-19.41057,-16.195578,-23.35133,3.680397,-4.7656345,36.635468,25.321877,-1.6119694,5.1304555,41.243122,27.133566,-22.442524,16.95252,-20.37703,19.650892,30.190777,15.516753,-35.770237,-0.22703397,28.984804,-30.620409,24.073996,9.170794,9.389889,-9.05303,4.6636515,32.93885,-12.325422,24.991299,0.69193405,-38.081066,9.056216,35.32837,-31.915209,-4.5942106,-23.92429,11.831188,-6.9706073,1.3208385,-31.040497,-21.070068,-5.9710164,26.794676,-6.6044784,-15.602109,-12.162677,-3.607225,-24.67482,34.615303,-33.862957,9.2091055,-36.072174,14.487781,23.22081,32.834904,11.386422,-24.681702,-26.556747,22.089708,24.432718,22.225296,-9.933139,-41.047947,-21.490992,-39.352016,-18.45407,-36.278107,2.9525628,2.571611,-10.509636,-37.020123,32.02918,19.195189,23.325893,-0.59237105,12.920318,8.27617,18.217451,-20.594833,-1.4281768,3.421408,-23.46126,-16.45447,-43.34961,-24.537962,-29.492268,-21.350891,14.763785,33.135445,25.195442,-14.090503,-6.0884323,6.3887067,36.444786,-3.7651038,-9.808392,29.509901,5.5912175,5.1810956,3.928899,-1.78022,-14.382471,-30.006325,-22.765963,-36.598488,-21.165699,-24.147114,15.799737,-11.281451,-8.3749275,-1.4099824,-15.893816,3.622897,-16.086687,-7.84754,-15.216476,-11.661413,24.640892,-7.616185,-25.94898,-11.854427,-31.629023,0.14057504,-23.159628,-40.238777,8.588772,5.7245407,-10.799772,-0.26225868,-21.474838,37.31145,-4.7494516,-41.144505,33.792645,-26.115839,17.897837,13.063914,19.786398,-8.730408,-36.0136,-13.4425535,-21.690098,1.3807498,-6.904194,33.06804,-30.193613,33.63134,-20.287544,25.436472,-31.484455,22.237316,32.4629,34.849457,8.68515,-4.9969115,21.66044,0.76340306,-17.829323,7.404463,-21.753727,26.571283,-25.394865,-2.9722006,-26.8182,27.846403,14.560588,35.56239,-5.2143173,-25.637255,15.184227,-27.01213,-25.704668,-10.4439,0.8244388,9.646389,-34.50494,-39.83759,5.348452,29.106773,23.130148,25.525156,24.884188,7.5613894,17.141077,32.935677,37.563564,-9.645069,-28.59006,-8.633633,20.700022,-2.5926836,19.402395,-18.650368,9.296028,24.221207,-7.045819,20.119125,-33.526398,18.866907,-12.288258,-20.259787,-21.140146,-18.564083,13.925565,39.190025,-20.322409,-15.607449,0.46331677,14.839893,-15.000701,15.728051,-1.4406703,24.03434,-9.658104,9.054498,2.9678526,-10.238797,-28.585987,-27.074148,21.27394,20.029661,5.74861,-0.3273578,-9.567546,32.044735,14.314065,34.580555,-21.65437,-10.594383,5.860849,-28.403637,32.41434,-26.659796,16.01164,11.820934,-14.950247,25.365063,-30.886524,21.621723,28.75385,-0.71574444,19.59326,8.454751,-21.0841,41.044033,23.920694,-15.293657,34.047382,-23.489792,-29.997293,28.676666,0.9499138,-16.486242,28.140347,-22.15232,16.485966,-23.52642,5.8990808,-20.272215,16.595758,13.37818,-14.107475,-4.66909,24.39765,24.75544,-17.849459,12.532447,15.607799,-4.899304,-15.5007715,12.94063,18.50416,23.91529,-30.16613,-16.554983,-18.02475,-35.84328,10.579252,2.4403265,8.770394,30.802118,33.864094,-19.140814,13.180723,-26.070929,12.103362,13.326072,23.157322,31.131464,-33.921234,-3.5088136,5.8534603,5.424496,-14.027489,-37.23125,-12.240639,-22.487448,27.83816,12.081427,-35.065773,-41.981285,9.074545,37.744152,-13.7877245,30.055521,18.459812,20.54888,5.48129,-11.56307,8.928772,20.098907,-6.4993987,35.53995,-6.675855,-38.14842,-11.661786,-24.645922,-13.066035,22.04273,6.231421,-31.963629,12.580556,0.6559362,20.502045,35.51614,-37.76438,-27.279345,15.5373535,22.854696,13.914342,-37.17435,-30.68171,10.14074,-8.485774,-7.6547785,-31.602646,27.065798,6.3247538,20.216566,22.804424,1.1159183,-35.305244,28.392435,-21.912098,14.733241,15.313172,32.193916,-10.460303,-0.43760523,28.914316,11.324517,0.6387326,9.808905,-20.895023,4.947564,-4.702042,-33.088905,-8.977503,-13.623502,22.182312,-14.890951,20.859077,-19.853891,16.340628,19.365732,5.2378607,18.337425,-2.1869447,12.278434,-23.802038,-14.993128,-22.653189,17.846561,-0.53739876,-7.356545,-13.132105,9.204239,-28.121626,-9.408261,-15.872056,1.4804285,-6.424846,14.757964,22.534182,20.157253,-11.934837,-19.98314,-12.835165,26.089266,41.137814,4.8762765,16.850286,-18.5126,5.614374,-23.67058,21.417704,16.868364,-20.920635,-2.8759408,-30.044323,-21.83811,24.121794,26.45691,26.788933,-0.22794524,23.619808,33.121403,-32.525066,4.919535,-19.944138,4.371252,-20.008707,-14.559285,-32.68624,-15.105442,21.00823,-16.854515,-7.12523,16.549244,-6.3632665,2.4521165,16.836298,-32.329712,-30.889381,14.93771,29.959919,-15.224464,26.328236,12.198609,-24.303116,6.209276,31.063488,17.131979,-31.762728,-35.53843,35.54521,22.035507,10.248812,-24.81173,20.197855,17.966377,-13.159313,0.89845914,-8.765292,-6.4945774,-8.404579,9.610917,1.170104,4.1847396,-18.670258,32.470448,20.940052,33.751026,-18.210773,-29.212034,-35.922905,-18.848194,4.1304035,-8.91249,4.2278285,0.025543008,27.22116,20.166069,-17.091349,-17.132496,-38.335278,27.562414,-2.1854992,-19.725853,10.310121,-15.523465,-8.168508,-24.062534,1.8479737,-14.990747,18.412283,2.2275968,23.797743,-22.66321,-34.50054,-19.15598,27.16127,-6.2360854,11.171158,14.342354,17.448563,1.3972324,-20.365416,-12.529403,10.883996,33.520275,-17.623928,-12.022375,36.40059,0.17328814,18.379398,14.41647,37.221504,20.707092,2.8037817,14.767959,29.492344,35.162052,-10.993132,29.674135,-8.755746,1.7870214,-26.54563,-24.352005,-7.6003175,1.9124569,-24.411472,22.630745,30.58217,-15.7072935,-24.202473,37.426003,15.41652,15.219234,32.917156,22.131647,25.598381,8.736231,16.887506,-29.14802,-23.131056,-26.503075,10.279492,-7.6881227,-21.942396,0.80032265,-16.053694,-20.071829,5.157055,-24.854317,-1.417122,-13.754071,-8.496629,6.1616554,19.297348,-16.83896,-27.180872,-4.777221,-26.822554,16.225168,-37.374733,7.14393,-31.169155,32.64002,-26.207405,20.33612,-11.74202,22.203602,11.453167,-3.8180904,-5.1452007,-10.511331,37.657375,12.123955,-7.632566,-21.56424,11.317238,35.40544,28.487234,-11.0306015,-34.079,-16.182583,15.045984,12.803108,6.000627,-4.283223,7.8489017,-35.789524,-1.4395152,16.856644,18.647018,10.523348,15.246779,22.280699,9.085983,-11.9648905,1.0136877,-39.675438,-20.242264,7.7105007,-10.626215,18.521534,-12.999627,26.441917,-35.007652,8.288831,-9.580011,-18.765657,-33.401424,18.44741,-33.04139,-26.25505,4.9595532,-2.4187896,17.035414,-11.909959,-22.413162,-20.47401,-32.488743,-6.4138665,2.2004871,40.37844,-33.581978,20.928988,-4.875586,-22.901655,24.52162,22.60229,9.819655,25.28608,-1.6006292,-10.352811,11.3903265,-1.1576085,-11.905731,33.348454,21.317041,-5.8756175,0.5402694,28.43376,-13.856372,39.92706,-2.6810021,-8.296644,-13.009673,-0.96124893,8.019748,-20.092352,-15.825433,11.665735,-39.498466,-0.15102747,7.809218,3.1786504,-15.72999,30.418941,10.293017,-36.55069,4.793432,-1.7857183,37.343525,-22.0247,17.453955,-24.395006,-5.0696554,-18.854334,-16.734596,-3.636945,-14.19294,-12.040059,22.948711,-11.376642,-27.12435,31.40361,23.909111,8.265564,-2.177157,33.015648,-23.961185,18.380835,-20.809465,-11.987524,-30.733166,-10.446227,2.2163346,-19.96665,7.2931466,9.439033,28.948547,18.56464,27.96185,-8.3452,-24.355293,4.8584957,17.831198,-11.991457,-26.821743,-5.765267,-24.885588,1.6155967,-22.195213,-8.808545,-24.566534,-4.320865,26.817822,9.15069,-26.174547,9.927208,-2.629035,-6.4300575,32.444073,25.33728,-22.396435,19.371552,18.635986,-11.647064,-7.93737,21.056849,-24.799976,-15.620507,-24.346308,41.295746,3.9650106,23.804384,1.6669295,-2.816513,32.13523,31.047503,-22.576456,-6.562089,-17.058306,8.062501,18.187351,-10.782208,-19.98324,-14.9180355,-18.586687,16.882511,-1.0082346,25.311113,-15.363537,20.0788,-1.33907,19.340153,4.0847144,-35.35314,14.40192,-13.628066,-4.0057197,4.346527,32.97986,30.19361,12.678324,6.527969,-1.8378199,-22.404259,8.554146,-12.993826,26.470783,20.526678,28.835133,-3.5735269,15.019958,8.781962,21.615875,-8.971233,2.0247664,10.960746,-14.039503,8.660427,-43.081596,-15.131843,-13.654047,-15.676152,44.038685,-25.444836,21.1566,15.4954815,-19.103298,30.423134,27.902815,25.59729,-9.372434,23.783365,-21.532318,11.683258,-14.536042,-26.730543,34.56282,26.48445,3.9488084,5.4734225,2.1201727,-4.176491,-32.500187,36.93889,-27.583368,-21.769863,-28.748804,40.632084,-11.981033,25.642809,-3.0842824,-16.719135,-24.564323,11.143417,27.53465,15.251379,35.940308,-23.006302,3.6815453,40.872707,-26.721634,11.878581,11.863088,-28.354483,4.141247,25.978125,20.158577,15.696172,30.106003,20.61976,-17.149734,-33.238796,-24.1687,16.365557,-16.196102,-17.835989,-19.901958,-24.266928,28.758812,21.239933,18.238438,-21.083673,13.589654,-6.2623386,-33.445515,3.8002572,20.063597,-2.542061,-19.40779,-7.8136454,18.672842,28.466278,30.506971,34.621254,3.0350373,33.453262,24.147196,-24.677498,-4.5052657,-28.32267,2.3046317,-30.681862,2.9498675,35.674503,-1.737984,0.6776104,35.47493,-23.365206,10.561346,11.041272,-26.065746,3.897778,-21.680738,-32.723705,-19.671396,26.674963,-22.499784,-24.84875,13.31133,-16.985767,-11.865381,-19.90035,-7.622759,-32.07266,29.07561,-2.2502043,31.711575,3.2697477,26.350227,28.223299,13.379248,21.724648,-28.12938,-10.06411,17.654854,-10.678999,40.293533,30.79591,8.873878,1.519893,6.9209423,-11.825214,25.447771,16.536448,-0.69681036,-9.490246,2.4913516,-31.70601,-19.416376,-7.7314544,-32.198246,-27.400455,-18.340315,29.534609,-10.245111,-39.44441,28.96298,-3.5365524,-42.835087,-8.639759,-28.494455,-24.080404,-20.248428,-8.213264,32.845627,-8.77759,3.1617746,18.19465,22.062233,-15.1545,-33.344006,13.847009,5.330684,-16.135786,16.011307,3.4016466,0.96309847,-13.694515,38.22271,20.113,-32.242435,-16.922777,18.734062,8.507181,-29.374138,23.903965,8.79378,-15.462884,18.469374,-26.78736,28.653873,-31.215746,13.265742,-24.34404,25.917202,-36.23883,-14.256009,7.509098,10.713987,-36.826485,-22.068466,16.094627,18.443419,27.41747,-20.783197,38.55744,-22.645876,-32.59438,-2.3869047,-22.59523,11.880992,-25.360292,-23.6614,4.1264224,16.729895,12.175449,22.741722,7.889399,26.942902,-9.38265,27.0256,16.49628,-37.23104,-29.472406,21.315214,-36.888004,8.556277,-27.981186,6.7402916,26.893824,2.2194283,14.682308,13.972498,-1.4788244,-8.278482,-12.064468,-28.670595,-32.817913,-13.354064,-27.762775,28.83484,-4.3241916,-34.202545,-0.054347675,21.842943,26.41617,-6.088021,7.564264,27.733704,31.129852,28.593042,-22.104815,-30.096863,-29.181883,29.881456,-11.846301,-20.276888,11.722955,24.448698,-16.155365,-13.619772,14.231563,31.208532,-19.150738,-22.234169,-7.0815177,10.900064,-14.986827,16.06352,42.80776,-20.333414,41.93219,-15.402143,-21.531288,18.59237,-14.693883,-39.752865,32.95319,16.737204,12.915785,-20.12038,24.60451,-17.000277,4.467137,-8.776146,41.54417,38.185158,-16.94903,7.8001633,-42.70982,10.99205,23.02132,-22.006247,13.515759,27.156153,-8.572124,-5.3761597,-7.586768,15.182015,31.05711,-18.993715,21.848536,17.715765,-28.135618,10.656517,41.76504,-19.299461,-11.239534,4.594335,-16.059834,10.053731,0.47586232,-7.158679,-25.582607,-10.389762,23.431355,23.010536,-13.187903,-15.058117,8.475068,-10.011071,-31.245241,20.31654,21.11736,-27.106838,26.72516,-26.487288,-2.0988903,-9.550874,-17.429232,9.50961,-0.5025718,-31.254013,11.433599,-28.280958,-5.003125,-33.885532,-20.001987,-29.874807,13.376594,-36.64424,22.93234,-30.158426,-42.587883,-20.42052,35.709377,-4.266137,15.569084,-26.678865,2.5268073,-27.220942,31.130545,-0.3517265,18.342237,22.560066,8.874377,10.023,9.688723,11.638437,-16.68188,23.38351,-11.897713,-12.337004,-13.253653,25.843702,-16.439722,20.251328,-29.712324,18.263546,32.654587,-13.797701,24.16324,-4.509689,38.471645,-3.6361473,2.8755898,-26.564222,19.25845,31.595453,23.196714,-8.779365,7.4921517,-30.297825,5.7357874,-21.640512,21.095098,4.5867295,-24.817284,25.72867,3.1541545,1.6133575,-12.776662,37.095608,30.416903,-6.2414856,24.067822,-15.886508,-17.765368,4.9556527,-14.23467,-3.8242087,13.9375105,15.326808,25.008095,4.354673,-37.366287,3.0663424,-18.993364,9.013166,-9.77389,19.387087,4.008054,19.152111,13.923056,12.162899,38.45112,34.01979,7.383933,10.018627,-13.219783,23.91607,-14.71168,-25.196894,11.41285,8.074078,27.589779,15.091245,5.7661963,37.894753,18.386919,-14.137972,8.101183,-13.302954,31.078438,10.824245,-30.636353,-20.333855,7.5107574,-31.295202,0.85538346,36.399418,-1.7126155,27.987984,19.248991,-1.121276,6.2076597,-24.807688,-14.461908,-4.2513504,24.166368,14.048266,0.5456469,26.561808,-35.867977,29.417963,19.781599,20.929451,14.08588,-23.980213,-16.487875,-26.964525,-28.3144,-10.44431,-2.463919,25.794073,21.262827,40.471222,15.751616,-20.33436,-28.817867,4.1874795,7.1029334,12.483055,9.36972,-4.3117647,14.897402,2.8928015,18.570076,23.39192,-22.40565,8.286294,22.814732,16.940031,-19.93174,9.056624,27.615166,15.5317745,-10.550077,-0.16078357,-0.27507418,-15.887737,-30.661821,13.693097,-17.760984,-16.316652,-40.591667,-28.2257,27.964743,-27.140358,-27.818235,-12.3969345,20.696663,27.429968,8.864857,5.0010686,-5.4046445,-34.142086,-31.160608,25.256432,19.217651,-13.039807,-43.356644,-7.4718356,0.97046703,11.144091,0.08466128,-24.919155,38.42246,-13.3152,-37.820366,16.678362,-20.369144,-28.089947,-15.9024515,-11.210884,-0.61052513,-11.394941,-20.694149,-4.6928587,-33.71628,-6.094348,25.100739,-5.9950943,-15.186238,-36.571175,-15.5592,-25.472422,-16.54252,7.15194,36.22195,-9.634991,18.538883,38.757362,5.4279823,23.077986,5.6992073,-11.259221,-38.49168,-23.543413,3.6619666,13.27787,-6.962253,-18.733278,1.5980448,4.279416,26.74848,-7.2168245,-13.852759,9.277022,-20.675816,-26.014309,-1.2657841,-13.79918,37.37673,-22.616943,33.320877,-24.12196,-12.387964,-27.977268,43.46914,-19.022345,26.70874,10.08686,-7.342829,-5.0264645,-31.414766,-10.601567,-3.1669915,-14.410346,18.235909,-27.807878,-2.5892653,-16.561966,-6.911132,-5.412541,23.98897,4.652694,16.490353,6.5903325,-23.021652,-18.033712,-32.129787,-20.34207,33.04751,27.293064,-34.33387,16.749836,-28.803463,-13.964409,16.007833,6.5859637,-5.35344,-32.965614,14.2586355,-1.1610761,-33.71498,-23.573029,-22.720142,-3.1423848,-32.237526,-22.739922,42.31308,-29.336462,-8.494107,5.7085342,5.5306015,-33.871616,-29.03035,-19.20023,-28.567612,-21.929195,30.641188,-7.207649,-5.4170675,-30.640497,-15.85199,-13.639998,-6.8832507,29.615675,-19.875122,-38.01204,-14.611879,27.931005,12.088275,13.728157,-17.937798,21.052568,12.86147,-11.251125,-35.33932,8.338313,33.90332,18.190657,23.277752,16.46862,7.875635,-24.055046,8.13011,8.363817,31.880987,20.669022,27.704678,-16.963669,14.333254,-4.2344604,-1.9362338,26.719156,37.442154,42.73989,-41.222797,33.527893,-27.05131,10.704018,-19.397068,-18.561756,11.461485,15.299979,11.823542,-0.58843315,-10.838497,1.9312935,-29.055033,-28.856037,33.575283,-18.177698,-12.440578,31.097448,8.674016,4.0006638,-5.2096148,3.6494894,-28.637655,4.5596027,14.326832,31.529955,36.97491,-24.806267,-33.83013,-35.376286,23.263779,42.539764,-21.373774,-7.309962,14.699279,0.19948886,-29.204756,-2.0266287,2.4600415,-10.778695,-3.5723147,29.210545,-19.816935,-17.749058,-15.4118,-17.384428,-29.463215,30.904755,-36.38058,-39.72055,15.523085,5.9553466,-13.160152,33.302387,23.859085,-12.772151,33.84757,7.9961486,21.487852,-12.026305,16.753847,12.136594,-21.686907,-5.102192,-1.2041128,29.260057,-26.21318,-10.757923,24.141592,31.877932,21.709818,-33.141132,21.592276,14.440686,31.190971,-37.426746,9.519163,-7.744737,-0.29635683,31.738771,-18.765488,29.43673,21.64584,11.95757,34.49986,19.352835,-12.536005,10.109449,13.617878,-9.435016,8.084744,-15.769811,35.632126,10.756269,3.675856,33.886395,-1.5566976,-11.63748,22.997082,18.884935,6.536179,7.5673594,-16.286146,-2.281284,4.224434,-2.3250084,27.718523,-3.2958622,31.770725,-32.681152,1.8452553,12.284985,18.16203,-3.2614744,38.029976,-17.227661,19.112846,-6.6725535,-11.551713,-19.418953,12.643386,15.426738,3.8688421,-40.8139,14.145302,-33.95495,18.636326,-37.71618,-16.343386,12.172913,23.642555,-27.454447,-0.78205353,-18.516575,2.3369775,-22.511765,6.4229097,-4.388408,4.4371376,-18.012941,25.518476,25.727983,23.238966,-11.855357,-9.448124,-28.02457,26.727467,-17.218323,23.812178,-7.8615584,-18.300543,-19.97971,-3.9110749,0.2696754,-21.91094,-41.073257,17.859045,-19.709356,6.914035,4.397176,9.330187,40.722885,-9.547115,-9.209973,19.947792,26.929413,-19.560282,7.6167855,-14.978183,-6.059731,-43.07113,35.205284,-17.035496,24.960695,-0.10537147,-1.8196378,-17.97457,35.571907,29.60966,-21.007807,-37.443745,15.5343685,-1.9388936,26.97397,-30.6806,13.995353,-34.48836,-4.5769095,10.624822,-14.666299,25.705942,3.2147784,8.357081,21.167307,-41.36323,-37.603405,15.663702,-24.246708,-3.2348676,16.050165,25.362173,15.043514,13.446741,26.063187,-20.210081,-26.682138,-1.0039672,-4.9597354,24.116194,19.181576,-17.233902,27.394102,29.857393,-24.019321,30.509306,16.691605,-31.971739,-23.64447,-11.6080885,-26.15635,20.054943,-25.261883,26.678082,-6.824703,3.3595016,4.1093755,-6.0984464,29.69634,-8.089434,-24.106411,21.570309,-18.51616,21.251093,11.689037,-28.469606,-4.316086,-39.458324,-3.2057471,38.672745,-24.629835,-33.13443,13.367723,-38.0459,40.519695,-25.450985,23.576412,0.64504874,0.9885855,8.982849,-24.448385,22.357014,-32.193256,-41.184875,-23.153738,18.411793,-13.65304,21.331734,-18.335623,8.767461,32.674183,13.48637,-25.026299,-34.770733,34.252193,18.619383,2.7287598,17.964146,9.396363,20.528818,-9.694896,12.987043,-19.211563,-24.002712,-7.0662317,-6.2707696,22.60546,-40.333782,12.196939,-30.731808,-12.443568,21.59719,12.059205,9.963866,-37.419647,-16.623219,29.824867,13.726698,-7.314106,-30.71563,3.4957297,4.119308,-30.428759,21.632423,29.872223,30.121323,31.596212,-2.9628847,-33.90487,-26.465929,10.115627,-44.020035,-20.513908,28.073832,-29.279072,6.127548,30.91959,8.32242,-9.697267,1.577469,19.528769,21.229273,-15.653332,-1.0011581,2.7058704,40.927036,22.409513,9.571168,7.4657674,31.976692,-8.030208,-24.581772,32.77726,13.984342,-15.7127695,-13.724906,-32.49541,14.008501,-20.103235,13.245927,-42.956608,35.210724,16.695099,0.7297072,2.8559644,-19.547459,-14.731793,17.19817,16.374208,-12.814733,10.033695,-27.522068,-20.683079,20.457798,-15.467909,12.142276,-2.9971688,-14.439163,-10.640612,21.120226,5.186495,-14.164108,-4.7519655,-33.914227,23.311838,-22.912298,-31.226135,10.36676,13.590072,32.826202,-4.6018443,-13.325322,-0.011693992,-5.9026194,-2.4537795,-5.6773453,-37.248943,30.432667,18.815601,43.257473,16.678318,-14.510209,0.20809908,-34.422047,-14.578132,-7.5550156,24.336948,4.525049,25.506483,28.99806,20.895819,-10.99308,-19.65505,-24.559372,-41.109913,-14.830966,-42.898285,7.3923187,-12.3563,22.900797,-5.683497,14.917728,5.6406965,16.624836,43.199722,-7.879844,4.5790377,34.422512,-10.319881,-26.033077,-28.75272,8.394659,16.012959,-25.812454,-28.511187,-0.36623102,13.355408,-8.877606,4.0331674,11.317296,-15.837586,3.3568747,-9.961756,-15.03126,28.521881,-14.980276,-34.986378,10.874262,-9.523364,-6.503959,-14.398907,-0.7070218,36.738018,13.212042,-2.1467931,-11.065792],\"z\":[-18.8752,12.534872,-19.619099,2.8900208,-25.600355,5.2269454,-10.295358,-10.856926,-1.6530597,9.331528,20.978592,6.7263126,-23.404455,-15.310429,22.703465,-11.89944,21.489828,-35.221092,19.484343,-26.430498,7.276067,-21.951557,28.42639,30.599846,-11.167761,40.195995,37.10233,-22.563036,5.907555,-22.699465,-20.580488,-38.392414,-24.80642,26.389902,1.1552838,-3.668282,-26.321966,-11.44142,-1.6747553,-28.955502,30.483969,1.306483,34.874153,-13.808193,-30.073187,1.7005541,25.042933,-26.91407,14.579113,2.894192,-26.517105,27.020311,-5.942593,-14.938575,41.730545,16.560493,-38.833275,-0.1781356,-13.276621,13.610365,-13.059308,-24.93578,9.444103,33.492672,36.452023,-27.488964,-2.9022229,4.1428046,-22.271626,9.374273,10.300391,8.560544,18.04695,-14.739096,23.356306,16.188362,-21.311071,-7.4436226,-19.832157,31.942583,-17.481894,-26.430166,9.712139,20.453926,35.715847,13.332991,7.41837,22.523521,25.986511,9.262916,16.652113,26.671906,11.86606,-42.839394,19.152681,-12.620762,-21.578506,24.79697,12.318834,-23.997942,-10.610214,-28.80062,9.155334,-34.997387,-11.266595,33.06272,16.779556,26.86292,8.49128,36.20973,-12.933671,-17.318653,22.43353,-35.415558,25.791185,15.440673,16.311327,-32.086124,-6.062324,13.635706,-11.76511,-21.722092,-7.40146,-16.599949,-32.117744,-8.756804,20.17643,-28.059204,1.175419,3.6855109,-7.044875,24.75599,23.451378,-22.475107,-33.80763,-31.557884,15.067535,34.76079,33.91673,-31.365416,-29.923237,34.716427,-0.19417332,-12.329578,8.102896,-29.395353,-12.312979,13.259698,-10.470946,0.53660625,-2.7742763,36.79877,-31.974958,-17.168259,-17.28314,38.14676,-32.728928,-27.067797,20.788212,2.0043309,7.0452905,20.506304,32.511368,28.622856,-26.192286,12.227147,-14.818125,13.22246,-2.9851642,-22.590117,-36.227104,36.276814,18.805622,3.7830093,-0.6018702,26.014149,-17.451235,3.5574417,-11.8464985,41.3183,-5.9929357,21.596771,-2.0632505,10.655644,-20.9188,-19.947598,-8.148983,-1.7232585,-32.654022,12.731209,26.761696,-29.304092,-35.733185,-16.267462,18.78717,-2.0967827,-37.86496,-9.788364,31.095762,21.113644,-20.174467,28.317713,4.4539576,12.378468,-2.3527083,-13.636133,16.85951,-41.41611,-20.47199,6.499248,-14.836368,15.947533,16.717516,-14.031396,2.3381822,24.052713,-27.1193,-8.779854,-15.655489,-24.176966,24.422981,-11.215054,21.04393,31.212503,-14.787235,19.736101,19.825148,-23.45721,16.723177,-3.6170313,-27.590805,-22.654493,22.011108,-6.864185,-23.255323,14.035772,-36.145977,-7.12351,-29.171112,-2.4783788,12.773398,19.608784,24.04279,6.6904874,17.093977,-15.231144,13.188425,15.510326,26.459126,31.467249,28.606268,-22.476086,44.279293,-21.722858,31.392918,38.329678,-11.089841,5.063057,3.6042726,23.10046,15.848247,15.196175,-31.81176,-26.160583,5.8033857,2.63798,22.62731,24.904066,-4.5184445,-38.38776,-25.490028,-17.447529,-23.454964,3.3231947,11.921449,11.563835,42.747364,-30.75465,11.455325,-25.945501,-11.007958,27.241854,-11.614277,-8.16524,-8.932275,-3.1050625,-31.065546,-27.51645,-15.882753,-34.255936,5.9475617,-16.666725,-5.2056656,15.610245,-4.804861,37.62284,7.8817997,-15.356156,-15.475678,5.201766,14.741342,37.175117,-23.616985,32.2493,-27.458332,29.780685,25.665182,1.2873029,-20.420979,-2.5055754,-35.818333,-2.7099547,-8.997819,-28.906,7.867233,-24.934439,12.493773,27.130457,-29.328508,19.009483,-27.809338,0.82923895,-12.956822,13.932857,-25.742268,37.811703,-9.697229,11.632669,-4.9942384,-18.531713,4.892047,24.42801,-18.760347,-30.41573,-31.833094,4.439658,3.502866,23.245785,-6.3322253,-10.216467,-22.552923,-2.0038123,23.753077,-5.8188996,-31.000208,15.223891,28.07868,-24.163054,21.879204,-0.61894834,-13.485987,6.4558744,35.808613,-27.879927,-19.413765,-20.177494,-12.530025,15.024362,-16.58023,-24.215792,19.051828,-16.766264,2.143703,-26.456806,17.291582,1.8121737,-23.39133,3.5293903,-5.217353,30.075964,-14.103543,24.04486,-6.0564632,-32.35721,27.2414,10.256959,-31.710957,16.056622,-14.652088,-27.622444,22.186956,-6.012537,37.765453,-23.79068,30.927265,-15.040807,21.370396,-31.473621,-10.854436,20.230423,-15.183589,-19.977837,-25.436468,-13.167448,30.847544,11.55397,19.50316,-32.494255,-19.60337,22.190228,5.1436377,29.56015,28.198412,8.157144,8.147369,10.5185995,-40.684967,-24.401766,-5.2925243,5.161494,-25.42358,-9.943096,-8.225818,-29.652637,-20.477535,-14.96885,-27.375757,10.75034,-4.0809665,-25.91923,-29.774069,-22.935223,3.2096112,-15.1703005,26.685368,8.878056,-32.12583,1.0387658,-18.614492,30.70552,-3.157306,10.026905,-8.923168,29.575993,37.293594,-18.34305,-34.554928,0.3987856,7.2759733,-22.51959,21.980465,27.210571,11.766465,-27.902695,14.787272,-17.483225,-32.667133,31.365261,25.812056,2.1097782,15.075965,22.231833,7.847939,-9.426885,23.910799,16.539076,-21.762985,-6.3340483,-17.041805,-18.547272,3.3216333,-24.690449,-26.12427,-1.4421763,-5.631417,3.271761,-5.421816,32.866253,34.18261,29.961674,4.7837625,-6.1365714,-9.4761915,-27.558136,12.500134,6.0022445,5.589057,12.360643,4.7709184,-16.741405,-30.550648,-21.146435,6.3804727,-15.305371,-17.577314,-12.893619,18.569788,25.851824,7.480678,3.0178506,30.325985,-23.984922,-22.27575,19.815594,19.529167,-37.05996,13.281669,-22.45091,-19.824253,-15.065357,24.021048,-34.5036,-24.394108,-15.685841,-12.415404,10.112424,24.598127,25.090609,22.347094,13.567295,6.2441382,22.00282,-3.1448328,-22.17787,-16.23625,-19.648804,-28.579178,-23.441658,-8.707226,32.347202,17.717403,19.372356,-25.868479,7.8602695,20.187916,-29.928642,17.105442,32.058006,-9.505557,24.93726,10.501635,-14.290704,1.8901284,-6.7869854,-9.074597,-12.265864,39.60217,-3.275391,9.947052,9.478596,-21.185762,-32.17612,8.472544,21.329554,-20.742895,-36.400997,-19.057549,16.286575,8.24954,34.14859,-7.064876,-9.58455,8.534101,39.886497,9.152429,-8.657664,-30.64831,29.09202,36.532356,-10.965877,-14.689857,-21.245937,-12.81197,-10.613907,-4.183276,20.547108,-17.920128,16.464384,-25.349329,40.176117,8.715368,38.36138,-19.530188,21.611238,21.75297,9.066485,30.61931,-42.948208,-13.15146,6.49269,-8.058784,19.976696,-17.514397,-9.350693,-6.1856947,22.627169,-16.865063,18.984655,-15.026134,-37.583645,7.272131,-20.753105,-12.908648,-20.91923,-8.97348,-16.55969,0.050433915,24.540447,-19.51657,9.538112,20.895456,-7.8135695,9.777234,4.5341125,-0.7823289,22.70037,-30.716251,-10.292033,-6.620112,-17.213085,7.3273067,14.465099,-1.0696841,3.3915431,-0.80001557,12.693004,-22.393488,7.627431,-28.480701,-40.278046,2.1492827,-23.95875,1.4671402,-35.30011,-26.9664,-19.921776,-36.025784,-6.4309044,4.435878,15.766137,-19.210936,-14.56615,6.656458,-18.260763,-12.818644,-10.347433,19.24097,24.348238,38.105556,7.012409,-6.6197724,28.370275,25.813328,-16.645636,-11.398086,2.45776,-29.259085,-16.46289,-22.092735,15.639491,-36.825493,-22.064455,-17.449545,-25.031073,25.174902,6.046996,15.478356,17.61451,33.229828,-25.849932,-21.881207,-24.286594,-22.352415,-11.934142,-7.4890065,-10.135668,36.971546,12.951617,-1.3526685,-7.1447353,-0.72060746,7.200949,-16.558254,24.918247,-14.28681,12.832883,-23.43135,35.55112,27.84147,20.415596,27.675108,9.507112,-10.04456,34.47154,28.363977,24.062761,16.46048,21.212523,-3.6336465,-9.718192,-25.332245,19.472857,-23.789217,-6.5107408,-11.611236,22.297438,-1.4891162,34.787136,12.942489,32.525795,34.438828,3.8953393,-8.283952,-41.519726,-23.550549,12.103631,14.504421,31.345888,16.132603,-22.78994,-29.681198,-5.537786,0.41072991,4.1351314,18.61615,-1.612248,24.697874,-1.7219117,-12.206937,-33.48141,4.4752965,23.722935,32.845478,-31.464025,1.4822074,18.219902,-1.4379761,3.4576838,-13.463826,2.7399714,19.569038,3.3280976,-29.720682,-1.1013205,-18.223553,26.989784,-23.010721,-17.908997,20.664322,-11.087922,26.667952,24.339792,12.003378,22.972843,10.504826,-30.557283,19.15246,12.553343,9.310249,22.902908,30.266743,-9.793826,38.295994,-19.771793,25.134748,31.575293,30.904661,4.0524025,18.10824,10.740193,18.773438,26.884052,-6.4589686,-37.765717,-39.560863,-20.556519,-38.452805,9.273042,32.661278,5.402728,-1.3837001,-13.400015,-0.1897174,-6.799935,18.464777,6.6631174,2.0287127,18.637333,-2.704448,-0.38473645,-18.311132,13.985112,-34.167133,-6.210941,42.316807,-11.665851,6.8109922,11.622258,-15.607031,33.86313,-29.34271,1.686546,14.013204,-11.24339,-1.3200577,3.7181149,31.796993,2.5121129,11.651117,5.3063707,-11.068902,-28.603949,29.932041,26.462988,10.748955,-31.930975,35.846577,-22.989237,-14.192297,-34.56922,25.0455,-15.510382,22.31265,8.658735,-29.198849,29.644112,3.3445895,1.177944,12.358214,3.6619804,12.104738,4.3838005,-25.161663,7.237826,-6.693729,-6.0084863,5.035137,1.4415088,-18.179537,-30.0141,-23.189415,1.2815443,6.873774,6.2515817,-35.1223,-18.870872,13.655997,-11.686111,26.84774,8.335884,16.806889,-16.968145,18.323715,-2.9704657,22.546986,-28.765411,-28.057821,-32.78155,-38.906048,23.852804,26.402267,25.506174,31.363224,-19.558489,39.98235,32.44001,11.641262,18.679111,-14.035443,0.22549738,-25.72031,4.8408237,11.07832,25.503145,20.864794,12.500225,-11.150132,21.251919,3.3626873,-33.598316,-30.212734,-17.006533,15.058127,-17.800951,-9.057095,6.5973625,-30.76329,3.9478633,-5.2258816,7.6531854,-23.638474,-17.448812,-22.45975,-4.6598215,-20.633327,13.77985,-4.2214146,-8.554976,-37.66947,-5.553928,-2.4357777,4.8893123,38.253223,-27.923096,-3.5184193,42.86348,-22.256485,16.285015,-29.230457,-9.791701,17.351357,14.179714,-44.684185,-3.8247254,-24.606747,-4.6869006,10.419493,36.550472,-35.419697,-12.081084,13.63238,-21.401573,1.8846953,10.496794,-4.3514433,-17.844643,20.270578,-22.67298,-14.790824,26.061174,-0.630248,3.1525064,-17.074991,18.1237,-1.1934204,3.8113682,-0.4878733,10.914979,-43.376324,18.172968,12.722109,14.74639,-29.914307,36.228973,10.218735,-11.737528,3.1054056,-11.571459,-1.748781,11.481257,-31.125032,-13.479173,-17.775154,31.261185,17.730776,-0.8753237,-21.274332,-6.882041,-32.036823,-17.076962,-24.984707,-18.4701,-9.491598,28.533834,-1.0808867,-3.8486075,6.7690363,-11.940499,10.478799,-37.59717,-16.142282,24.005854,-14.802015,-31.131178,-2.8103247,-28.522648,-6.6924767,41.608173,-22.50823,31.259523,-5.1583724,-27.877106,15.419587,19.192057,-1.3733969,-15.259988,-1.5691401,-3.5104017,27.585293,-12.098561,-25.649977,24.908379,-23.274513,-2.7412918,16.074453,7.1909823,-4.6123605,-7.4140882,24.025501,-23.860641,-12.150696,8.752205,-20.56379,36.629147,-21.25845,28.76921,-20.24776,-26.684656,-29.027472,-17.429031,29.184258,6.501898,2.8455653,-28.348078,-26.173687,23.64939,-24.584787,-27.13459,14.8661995,-7.66899,14.65456,-3.598111,-23.303087,-30.763292,7.832528,20.958654,-5.836508,32.638317,-39.11062,7.3034153,-30.138353,-30.738428,4.129922,11.612765,11.533446,-22.466642,21.03077,34.91787,7.5274105,-18.409924,41.049263,-26.350952,26.949987,17.943892,-3.7600355,36.5988,39.778954,-22.278105,-1.9306452,16.988695,7.4920983,24.11429,10.992867,17.126997,-16.102154,17.068726,-21.665327,-30.370605,34.443134,22.507904,-11.609046,-3.960321,5.1389885,-1.318909,-37.36321,19.612856,9.014883,-16.446377,-8.486654,6.884223,-26.380085,-21.498882,7.7184114,-7.278279,-41.276833,-33.68324,-14.225897,-13.033294,12.298351,13.931294,-10.803792,-29.84595,-16.039524,0.5933857,19.086527,3.578095,33.8104,-5.145652,-24.15194,19.203102,31.625225,-20.437777,-5.502068,-9.801547,22.13008,-5.604582,-5.553927,19.217237,-5.2020526,-31.48258,40.7433,18.147068,15.790581,14.874593,-3.100568,10.113128,-7.227584,-11.302209,39.644188,-30.41224,-23.704485,-35.250744,2.8395433,7.987863,-12.887887,39.787804,11.137335,0.6481031,-24.204596,4.045118,-27.005693,22.44902,8.381312,1.1258405,-32.94051,24.079535,12.779328,3.8820205,35.47983,22.732775,27.362818,-17.701164,17.608591,-13.945545,-35.36624,-20.210653,17.123022,30.08576,20.26359,7.4116216,-0.23274657,16.808884,29.541288,-20.352324,-14.320595,2.380884,3.6366887,-10.048266,37.486626,-10.160441,5.788886,2.329122,-2.885832,-38.968597,-14.109947,-19.054453,35.91425,-32.261787,18.676384,-32.482216,-14.401801,16.232409,7.449758,-5.8929152,-22.337517,22.539196,22.772902,-18.047577,13.163555,13.478603,-31.974932,-34.971348,20.72591,-14.390984,37.978497,41.285126,30.525867,5.681174,21.199577,6.6476645,10.64683,19.897308,16.800756,29.451859,0.19409285,-27.211018,-11.363039,15.806473,-14.901467,-9.670918,19.510117,-41.12685,-30.563515,-25.316998,-14.097834,11.184178,-14.093264,34.318035,-26.497213,15.177044,-37.80454,35.506126,39.144043,-21.778093,-22.064299,-6.793338,-4.43956,10.951381,20.421072,-40.790215,23.664873,-23.269426,13.225042,-16.552607,16.37202,-32.601097,5.1337285,0.64501923,30.18322,-12.940317,10.035222,6.0597615,34.32985,-27.854845,36.2882,-1.4193895,-36.292385,15.763312,28.441923,-9.340765,-25.717594,-12.72658,3.2873828,-2.8939157,12.09126,13.493587,6.0570216,17.224527,-14.805008,-37.631767,3.8793433,-26.229372,2.094006,-4.540738,-8.377129,24.561552,0.466952,12.169931,14.400634,31.748596,6.5691247,10.614075,28.8217,-0.80497295,-42.84414,27.158579,21.982523,-2.9534369,17.470163,22.612549,27.863493,35.40597,13.673678,27.118965,-31.671028,2.867173,3.6958647,-23.836332,16.40524,-38.714657,32.552807,33.16089,23.85404,-31.456507,-22.965626,-18.914213,-19.74376,25.288233,22.35642,-7.1443667,22.166016,-37.415154,-8.830961,-26.732111,22.25346,16.799212,29.531477,26.731438,16.084906,-13.186005,-34.03781,-0.79125214,-25.683334,12.808944,17.167585,-9.037927,32.799694,-14.940637,34.033997,12.458842,-1.1924652,-7.974814,4.76308,-25.56355,26.663647,36.875854,24.279217,-4.43158,34.408695,18.520327,-18.078163,-8.810722,-11.343354,20.907278,17.38505,-11.202487,31.152838,3.0199265,-9.028251,29.65161,-7.826368,5.552918,35.64976,30.866379,-15.22216,-7.929983,-23.873186,16.232939,17.95614,-2.8735652,-33.015995,-8.884074,16.296864,41.070717,19.796974,3.017615,-16.8903,-13.997691,-23.868269,1.113831,31.481413,-16.856077,16.419518,9.3424,22.121054,-35.444458,-30.832699,11.038095,-2.3328295,-22.429678,10.491006,-15.124339,-17.84377,-38.151352,-21.929718,3.8078964,3.0679443,24.869322,22.792255,-10.235304,-7.0688887,8.12404,-8.458659,11.625576,24.29258,-31.848843,-7.140467,-10.830321,-24.212175,-8.1826315,-9.655837,-7.07379,-32.19844,24.26279,8.559827,1.2583748,-30.444878,-29.645329,30.732908,1.3832994,-0.07520482,40.84343,41.658,23.803955,20.53954,-3.0660465,34.36726,-14.678936,-6.626912,7.4205914,17.468151,-6.6977096,-25.914534,3.760727,34.447006,-24.605757,-2.730967,-13.004008,24.936588,19.563862,-37.41437,26.895662,-5.959428,-37.229595,0.9765537,-30.672417,-33.844353,17.804604,18.020727,20.235186,13.90328,12.163995,-39.098885,-27.760963,7.4062357,4.9746056,22.327837,-22.749756,15.625863,-13.804634,-38.006104,5.3874416,26.043484,-30.344816,41.315678,28.462688,-27.049698,-8.088523,30.586517,-0.3045689,6.3282394,-19.573956,-32.71671,26.068947,-18.017298,-11.210866,9.800925,27.291925,-0.96320075,-18.588875,26.364405,15.546768,-10.162241,-10.114374,16.766073,16.719229,9.666631,-6.8199625,-2.800688,27.169107,-15.279744,-9.686047,-20.584867,33.298412,7.096224,-10.585732,-16.930317,13.762868,-10.289141,-4.855773,-22.230352,0.10585328,20.16136,24.604631,-15.931248,-34.217205,-5.0885787,-37.08474,33.057655,-10.619914,-0.05082776,-0.29688558,-19.752447,-20.768919,23.74902,9.87295,16.00664,8.035671,-14.058452,-19.943615,29.737139,-14.598706,0.43305737,13.054584,28.278696,23.689194,10.194511,-12.722343,6.984059,42.164555,-20.110077,-29.687454,-5.009005,-12.888735,33.408005,-14.284661,19.02188,23.172745,3.4147105,24.101881,-5.574848,17.006924,29.144863,37.421894,3.5238116,-37.477383,30.68002,36.890488,8.394309,7.8866954,-13.250846,-13.764026,-2.1695807,-16.237177,25.586992,-36.14094,-6.967631,15.343946,32.89831,-1.4245996,27.037966,-16.160223,-22.94013,-18.045008,-19.140985,-25.712135,2.5082433,30.234058,31.455248,21.896742,26.165329,-18.178612,-16.320795,2.3397102,5.792666,9.439796,-1.2811401,-3.4915187,-37.258,25.354115,-24.568008,1.1576377,16.373224,-21.948975,2.578424,2.5839977,-14.144661,26.043766,-5.944361,-35.423428,28.962187,-36.77243,30.114727,-32.452007,-2.5107455,27.085703,-23.359173,22.37598,-18.535345,29.308504,-20.22982,-1.5641336,-10.215032,-10.441376,23.092548,-21.784067,-7.161608,5.8209386,-10.646944,-33.49714,14.389493,-18.317034,-15.965968,-13.960453,20.165369,23.25398,-0.8894972,-16.77221,-24.131876,-19.092014,36.903286,-4.8022385,38.89601,18.831987,-41.378098,-5.2503624,4.9177275,41.389565,0.9558223,-0.60173017,-13.163903,6.2312946,-0.24696131,-41.006767,-10.85823,2.649094,15.676386,-6.4193425,-22.74982,24.881958,31.620876,-17.554304,-13.815492,34.015198,14.002508,-18.19453,-23.048254,-21.558966,0.72874373,-35.588505,27.399126,23.62115,-9.250537,7.570932,-19.80403,23.529047,5.690582,-29.007034,-1.2824137,-19.990263,4.5620584,8.297399,-25.169426,29.616882,-28.061394,-36.728195,6.4195843,15.502715,-11.274029,-33.87701,25.630009,-2.731843,-28.88023,8.841136,35.212822,-18.35823,4.382075,-3.5047812,-15.6723,-25.506742,-42.581486,-36.23234,-13.305089,-15.681286,-21.964256,-20.016552,37.804314,7.4910884,31.992594,-21.50021,-8.230144,-8.379651,41.70017,17.420805,9.54131,35.412186,0.61154795,23.643509,19.332592,-31.027636,1.4362277,19.421654,-35.389156,-40.835056,11.876243,18.17679,-36.321766,14.453026,-27.70993,27.04199,-15.926399,28.564188,23.431597,37.852543,-8.216252,1.0150868,26.427689,23.561369,-37.332478,-11.1481695,8.816358,-19.209158,-26.599516,-16.097813,9.666074,9.948275,-1.6688049,-21.137278,-10.391834,-3.4030652,-31.002285,16.162935,-23.717676,-6.000868,36.336906,25.95398,-41.825302,-19.430956,11.351432,19.686403,11.041175,-18.139853,11.207813,-20.749525,26.731518,29.26829,-29.326809,-2.963535,-17.749222,-2.0386448,-3.869787,8.102636,-6.002468,22.21186,0.19276893,30.75606,0.2641114,15.727177,-29.178688,-18.76945,-29.414507,18.016764,24.79654,-25.357496,30.629045,-27.125631,-13.247619,15.942589,30.231426,-6.979907,-36.086014,13.514449,-21.278873,12.676237,12.334128,-20.409218,42.64052,-33.946644,28.08897,-6.2094884,-33.3776,24.822784,30.081266,13.988646,-20.97039,18.995817,-29.351112,5.1991715,-7.4024158,-12.194467,2.1134315,0.66683435,-25.280195,-17.738655,-3.891177,-22.8713,-17.982346,5.1336036,-9.64438,15.320925,8.927701,27.337124,-36.543827,-27.524738,11.796128,-26.626646,-8.674663,-35.6417,24.956022,26.067318,-31.538204,14.746129,30.796532,-28.367422,-31.441614,17.801674,-31.854486,-25.008064,25.89058,-30.404343,11.620361,12.737297,34.58173,-26.689781,-21.980032,33.88308,-30.216658,25.672579,28.547424,-9.135872,-2.8154957,-0.8673849,-29.290403,-26.76833,12.571031,-26.732206,-17.411306,3.2228794,36.49708,0.21631876,-25.855389,-21.047724,10.226274,-21.59843,1.1039404,-28.169252,22.651228,-21.590307,2.3240964,1.8409275,6.654322,-19.700268,-14.840364,-9.887056,12.065746,22.11351,-3.041139,-11.326312,29.541914,1.42791,30.633757,26.624947,27.943346,42.804756,36.331512,29.072765,12.98152,-13.155276,36.964703,16.35363,-33.119892,-25.070131,18.548712,-7.435771,-42.4008,-10.818622,8.847829,-21.0322,-40.586136,-9.337391,-5.1690645,-26.248255,12.8004465,-36.01489,-14.788845,-40.913036,-1.0761127,-26.909243,-17.336815,30.850748,25.36404,-5.8429117,-3.3071206,-17.212004,2.4600265,0.98659915,-7.852639,-11.531997,-7.79638,16.732693,32.70463,6.163743,9.683773,27.456093,-17.444986,-8.163664,32.91051,5.63026,17.551151,-29.945099,42.170113,-26.300308,-19.681028,19.801077,11.910279,22.669611,28.667812,-5.431437,18.589426,-16.787905,17.347622,-5.0170536,21.079695,43.75273,17.543715,-3.4178581,40.04811,-36.752106,8.656907,33.329437,-11.18639,-33.28857,-37.370285,-9.687029,8.012864,-40.033314,7.46686,-16.966213,-9.9754715,6.264909,4.97343,10.737341,-6.099347,27.271936,27.52935,20.087545,-19.739403,-13.639187,-39.812202,4.2427707,-3.338001,-18.750277,-11.2307415,7.7613063,-27.369097,-16.585403,-19.902178,-17.443388,23.95038,-5.503692,-9.052848,-10.501762,-17.19258,1.6622343,8.406962,1.2971026,-20.287365,-12.561932,18.445255,20.143246,21.83156,30.893145,14.091617,-21.394209,-19.715744,7.1882668,16.394192,-4.6064296,-5.5074525,33.81519,-19.121885,13.797815,1.6441283,15.251363,-7.101875,8.831904,30.767277,-16.421824,-3.3254328,28.380274,14.721757,2.2017856,3.9681401,2.71457,-18.967554,-2.1399744,-10.49226,-8.114797,27.278528,22.80991,-2.5996153,4.7462764,9.775388,18.123442,13.283699,-17.534943,19.970385,-26.38152,21.63484,15.825614,-17.151243,27.626413,12.165745,-0.90651125,-34.65127,-5.197978,-1.0719315,-4.708961,21.086649,19.554928,-20.89094,20.382528,12.247805,8.192667,21.556623,2.16384,1.5840776,-0.85662967,5.7784142,30.327097,14.926485,0.7287088,-7.8475366,5.9097238,-33.424114,-12.058604,-40.640736,14.411986,-43.425102,12.885295,-12.47804,-23.153387,-28.823658,-24.85683,33.543903,-16.39109,-6.8038344,-21.416529,34.369457,-25.503387,2.0786073,-11.043824,6.6548905,17.187538,11.399605,-12.62601,8.685551,35.53335,-41.78622,-8.185622,4.275534,-15.447559,-7.972491,31.867043,34.435516,-9.604325,-18.56537,13.354509,19.837534,29.265085,-10.534851,-4.8786125,25.77491,30.595253,15.523604,-15.808021,1.3048393,21.772259,-22.987288,21.198568,-15.428661,19.37856,11.558429,-15.631251,-26.556534,19.803513,-36.372776,-27.924875,-42.103916,-20.199736,11.331991,-1.158552,14.949887,5.965967,22.287012,-39.783127,-24.270214,-5.2881675,-32.25407,18.224588,-5.786343,-36.105373,8.69095,-29.241085,14.510916,12.201124,21.905554,-2.9782002,-10.679399,-27.642183,10.836809,19.813234,-9.301431,-20.273407,26.318277,30.406216,-22.139364,-15.339883,-6.3700395,21.164093,27.625177,-6.4491262,-1.553346,-34.054462,11.183465,-33.153786,8.684054,-0.33833218,8.171805,-23.52667,-6.0094233,15.578351,34.964115,-1.5636744,-35.444912,10.702469,8.636157,20.554152,-5.3537893,9.0296955,6.7801304,-16.827454,-27.610157,4.4727306,-4.441471,25.360373,-2.4511127,-25.01345,4.346254,-5.4582653],\"type\":\"scatter3d\"},{\"customdata\":[[\"1329\"],[\"3116\"],[\"2122\"],[\"3291\"],[\"1117\"],[\"1509\"],[\"2165\"],[\"1173\"],[\"1101\"],[\"2951\"],[\"1107\"],[\"1925\"],[\"1104\"],[\"1361\"],[\"3363\"],[\"1467\"],[\"1172\"],[\"3280\"],[\"1929\"],[\"1204\"],[\"1330\"],[\"1267\"],[\"1238\"],[\"1079\"],[\"2241\"],[\"2261\"],[\"2294\"],[\"2257\"],[\"1083\"],[\"2344\"],[\"1341\"],[\"3051\"],[\"3082\"],[\"3434\"],[\"2419\"],[\"1465\"],[\"2786\"],[\"2237\"],[\"2582\"],[\"1335\"],[\"1214\"],[\"1269\"],[\"3090\"],[\"1331\"],[\"2216\"],[\"1205\"],[\"2213\"],[\"1250\"],[\"2212\"],[\"2115\"],[\"2098\"],[\"2109\"],[\"2056\"],[\"1256\"],[\"2754\"],[\"2046\"],[\"1230\"],[\"3397\"],[\"2040\"],[\"1305\"],[\"1986\"],[\"1416\"],[\"2877\"],[\"2863\"],[\"2966\"],[\"1277\"],[\"1146\"],[\"1153\"],[\"1149\"],[\"1191\"],[\"2742\"],[\"1291\"],[\"1456\"],[\"2138\"],[\"1997\"],[\"3320\"],[\"1302\"],[\"2839\"],[\"1255\"],[\"1420\"],[\"1124\"],[\"1125\"],[\"2005\"],[\"3232\"],[\"2095\"],[\"3426\"],[\"2086\"],[\"2084\"],[\"1243\"],[\"2083\"],[\"1222\"],[\"2060\"],[\"2944\"],[\"1235\"],[\"2077\"],[\"1459\"],[\"1491\"],[\"1370\"],[\"1953\"],[\"1175\"],[\"2176\"],[\"1488\"],[\"2063\"],[\"1409\"],[\"1132\"],[\"1447\"],[\"2143\"],[\"1076\"],[\"1570\"],[\"2623\"],[\"2631\"],[\"980\"],[\"2068\"],[\"978\"],[\"2646\"],[\"2654\"],[\"967\"],[\"966\"],[\"2071\"],[\"2039\"],[\"1598\"],[\"1600\"],[\"2038\"],[\"960\"],[\"1603\"],[\"1604\"],[\"2032\"],[\"953\"],[\"1608\"],[\"947\"],[\"1597\"],[\"1945\"],[\"2072\"],[\"2102\"],[\"2532\"],[\"1004\"],[\"2510\"],[\"2539\"],[\"2511\"],[\"1547\"],[\"2546\"],[\"2552\"],[\"2617\"],[\"2629\"],[\"1563\"],[\"2649\"],[\"2127\"],[\"2561\"],[\"1757\"],[\"1557\"],[\"2117\"],[\"993\"],[\"2573\"],[\"2574\"],[\"2575\"],[\"2579\"],[\"2556\"],[\"1617\"],[\"1619\"],[\"1620\"],[\"353\"],[\"1668\"],[\"1669\"],[\"1675\"],[\"428\"],[\"1810\"],[\"1683\"],[\"1809\"],[\"1689\"],[\"1799\"],[\"1816\"],[\"1712\"],[\"1718\"],[\"1721\"],[\"1735\"],[\"1741\"],[\"1793\"],[\"1791\"],[\"1789\"],[\"1750\"],[\"1783\"],[\"1752\"],[\"1717\"],[\"1823\"],[\"1665\"],[\"1826\"],[\"1926\"],[\"921\"],[\"917\"],[\"916\"],[\"1902\"],[\"896\"],[\"1898\"],[\"637\"],[\"2276\"],[\"1886\"],[\"1879\"],[\"136\"],[\"1868\"],[\"1867\"],[\"1864\"],[\"1849\"],[\"1845\"],[\"517\"],[\"484\"],[\"1842\"],[\"475\"],[\"1662\"],[\"376\"],[\"1006\"],[\"2521\"],[\"2563\"],[\"3830\"],[\"2224\"],[\"2372\"],[\"2247\"],[\"2386\"],[\"2351\"],[\"2250\"],[\"2268\"],[\"2279\"],[\"2338\"],[\"2292\"],[\"2302\"],[\"2319\"],[\"2282\"],[\"1048\"],[\"2196\"],[\"2194\"],[\"2327\"],[\"2408\"],[\"2336\"],[\"2169\"],[\"2149\"],[\"2509\"],[\"2512\"],[\"2359\"],[\"2555\"],[\"2153\"],[\"2174\"],[\"2052\"],[\"2299\"],[\"2300\"],[\"1947\"],[\"2180\"],[\"2306\"],[\"2307\"],[\"3101\"],[\"2418\"],[\"1520\"],[\"2187\"],[\"2329\"],[\"2334\"],[\"2348\"],[\"2642\"],[\"2189\"],[\"2223\"],[\"2597\"],[\"2592\"],[\"2567\"],[\"2183\"],[\"2125\"],[\"2332\"],[\"2053\"],[\"2451\"],[\"2461\"],[\"2467\"],[\"2469\"],[\"2463\"],[\"2477\"],[\"2471\"],[\"2484\"],[\"2485\"],[\"2489\"],[\"2495\"],[\"2491\"],[\"1017\"],[\"2504\"],[\"2506\"],[\"1530\"],[\"2398\"],[\"1761\"],[\"1948\"],[\"2430\"],[\"2433\"],[\"1959\"],[\"2028\"],[\"1920\"]],\"hovertemplate\":\"Cluster=Cluster 1\\u003cbr\\u003e0=%{x}\\u003cbr\\u003e1=%{y}\\u003cbr\\u003e2=%{z}\\u003cbr\\u003eFeature=%{customdata[0]}\\u003cextra\\u003e\\u003c\\u002fextra\\u003e\",\"legendgroup\":\"Cluster 1\",\"marker\":{\"color\":\"#EF553B\",\"opacity\":0.7,\"symbol\":\"circle\"},\"mode\":\"markers\",\"name\":\"Cluster 1\",\"scene\":\"scene\",\"showlegend\":true,\"x\":[-4.8492274,9.364785,-3.4790597,-2.3859534,-3.476855,-4.7616353,-4.4624076,-0.39356616,-3.6217992,9.70316,-4.1927404,-4.066687,4.7901654,-4.784801,-4.7616353,-3.8827496,1.267763,6.6999555,-2.3844569,6.6999555,-3.1468837,-2.6829014,-2.1024785,-3.6217992,-2.3859534,-4.5761976,-3.1468837,-1.1078227,7.569151,-2.9942284,-3.6217992,9.942158,-1.0913188,6.6999555,4.7901654,5.716372,9.70316,-3.8827496,9.942158,-4.462408,0.4301818,-4.2125793,5.716372,-3.4790597,-4.85217,9.70316,9.364785,-4.784801,-4.4830947,-4.8492274,-1.5727701,-4.874966,-0.39356837,-4.8749657,-3.490247,-3.6218002,-4.066687,-0.39356664,-2.1024785,8.87808,-1.8084817,2.9326692,8.87808,8.87808,6.6999555,-3.8827496,-3.2957704,-4.6026545,9.70316,3.953313,-1.0913185,1.267763,-4.8168054,-4.7023244,-4.8749657,1.267763,6.6999555,-4.784801,-3.8827496,-3.0800009,-4.6788936,-1.5727701,-1.1078227,8.291231,-1.465267,1.2677634,-4.8492274,-4.5560966,2.0558574,-3.2957704,-4.211374,7.569151,7.569151,6.6999555,-4.2125793,9.70316,-4.066687,2.0558572,-3.6217992,-4.8168054,-1.5727701,-4.8749657,-4.5560966,7.569151,-4.211374,-4.211374,9.70316,-4.211374,-3.8827496,-4.6788936,-1.0913188,-4.4624076,-4.1927404,8.87808,-4.874966,-2.3844569,6.6999555,-0.3935737,-3.6218002,2.0558572,-4.8492274,-1.5727701,-3.6217992,9.364785,-3.6419544,-3.0800009,-3.2957704,4.7901654,-1.5727701,-0.39356837,2.0558574,-3.4790597,-4.5761976,-4.8167434,7.569151,-2.6829014,-4.7023244,-4.483095,-4.483095,-3.163164,-3.8321054,2.0558574,0.4301818,-4.339444,2.0558574,-3.1468837,2.0558574,-1.1078227,-4.761636,-2.3844569,-4.211374,-1.465267,-2.1024785,9.364785,-4.5560966,-1.0913185,-4.7616353,-1.5727701,0.43018168,-4.4624076,9.70316,-3.1468837,-4.784801,-1.5727701,-0.39356837,9.70316,-3.6217992,1.267763,-3.8827496,-2.1024785,-4.7616353,8.291231,-1.1078227,-0.3935737,4.7901654,8.87808,-3.6419544,-4.7616353,9.364785,-4.2125793,-2.9942281,-0.39356837,-4.6026545,-4.339444,-4.339444,9.70316,-4.875727,7.569151,-4.6788936,-3.2957704,-4.6788936,-4.2125793,9.942158,-0.39356616,-1.465267,8.291231,-2.6270537,-4.85217,-2.9942281,-3.6217992,6.6999555,-2.3859534,9.942158,8.87808,6.6999555,-2.3859534,-3.1468837,-3.4790597,-4.85217,-4.211374,-4.5560966,3.953313,5.716372,-4.5761976,8.291231,-3.490247,-4.6026545,3.953313,4.7901654,-4.6788936,-4.5761976,4.7901654,-4.211374,-3.6218002,-3.163164,-1.465267,7.569151,3.953313,4.7901654,-4.066687,-1.8084817,-2.6270537,4.7901654,-4.4624076,-4.8757267,8.291231,-3.2957704,-4.8749657,-4.6026545,-2.6829014,7.569151,-1.1078227,-3.4765627,-2.6829014,0.4301818,1.267763,-4.1927404,-3.490247,-1.5727701,-1.5727701,-3.0800009,-3.8827496,-4.6026545,-2.3844569,-4.339444,1.2677634,-1.0913185,8.291232,-4.066687,-1.0913185,-4.8757267,-2.9942281,9.364785,-0.39356837,4.7901654,-3.8827496,-4.6788936,-4.874966,-4.2125793,1.267763,-4.8168054,-4.2125793,-4.784801,5.7163715,-3.6419544,-2.9942281,-2.8703725,-2.3844569,-3.8827496,8.291231,5.716372,-2.9942281,5.716372,-3.4790597,-3.2957704,-2.6829014,7.569151,-3.6217992],\"y\":[-5.326286,9.456598,-10.940985,6.6185174,5.4719996,-2.1883478,-0.027081732,7.38115,4.531621,9.971546,-8.137184,2.4785368,7.531792,-5.886827,-2.1883478,3.4720578,7.4867463,7.8297524,-13.259686,7.8297524,5.4533,6.390827,-13.695446,4.531621,6.6185174,-0.7758221,5.4533,-14.784479,8.130188,6.083168,4.531621,10.621285,7.274571,7.8297524,7.531792,7.634367,9.971546,3.472058,10.621285,-0.027081562,7.4480915,1.5732472,7.634367,-10.940985,-3.4974735,9.971546,9.456598,-5.886827,-7.669479,-5.3262854,7.1111007,-4.743145,7.38125,-4.743145,5.5831227,4.531623,2.4785368,7.3811574,-13.695446,8.967719,-14.095954,7.5012846,8.967719,8.967719,7.8297524,3.4720578,-11.420124,-7.1004467,9.971546,7.5043006,7.274571,7.4867463,-2.8505986,-6.501077,-4.743145,7.4867463,7.8297524,-5.886827,3.4720578,-11.883295,-1.4891049,7.1111007,-14.784479,8.521578,-14.436925,7.486746,-5.3262854,-8.233184,7.498463,-11.420124,-8.77079,8.130188,8.130188,7.8297524,1.5732472,9.971546,2.4785368,7.498463,4.531621,-2.8505986,7.1111007,-4.743145,-8.233184,8.130188,-8.77079,-8.77079,9.971546,-8.77079,3.4720578,-1.4891049,7.274571,-0.027081732,-8.137184,8.967719,-4.7431455,-13.259686,7.8297524,7.381333,4.531623,7.498463,-5.326286,7.1111007,4.531621,9.456598,-10.4849825,-11.883295,-11.420124,7.5317917,7.1111007,7.38125,7.498463,-10.940985,-0.7758221,-2.8506134,8.130188,6.390827,-6.501077,-7.6694784,-7.6694784,5.526383,-9.926726,7.498463,7.4480915,0.76007813,7.498463,5.4533,7.498463,-14.784479,-2.1883478,-13.259686,-8.77079,-14.436925,-13.695446,9.456598,-8.233184,7.274571,-2.1883478,7.1111007,7.448092,-0.027081732,9.971546,5.4533,-5.886827,7.1111007,7.38125,9.971546,4.531621,7.4867463,3.4720578,-13.695446,-2.1883478,8.521578,-14.784479,7.381333,7.5317917,8.967719,-10.4849825,-2.1883478,9.456598,1.5732472,6.083168,7.38125,-7.1004467,0.76007813,0.76007813,9.971546,-4.137978,8.130188,-1.4891049,-11.420124,-1.4891049,1.5732472,10.621285,7.38115,-14.436925,8.521578,-12.807918,-3.4974735,6.083168,4.531621,7.8297524,6.6185174,10.621285,8.967719,7.8297524,6.6185174,5.4533,-10.940985,-3.4974735,-8.77079,-8.233184,7.5043006,7.634367,-0.7758221,8.521578,5.5831227,-7.1004467,7.5043006,7.531792,-1.4891049,-0.7758221,7.5317917,-8.77079,4.531623,5.526383,-14.436925,8.130188,7.5043006,7.5317917,2.4785368,-14.095954,-12.807918,7.5317917,-0.027081732,-4.137978,8.521578,-11.420124,-4.743145,-7.1004467,6.390827,8.130188,-14.784479,5.472753,6.390827,7.4480915,7.4867463,-8.137184,5.5831227,7.1111007,7.1111007,-11.883295,3.4720578,-7.1004467,-13.259686,0.76007813,7.486746,7.274571,8.521578,2.4785368,7.274571,-4.137978,6.083168,9.456598,7.38125,7.5317917,3.4720578,-1.4891047,-4.7431455,1.5732472,7.4867463,-2.8505986,1.5732472,-5.886827,7.634367,-10.4849825,6.083168,-12.324923,-13.259686,3.472058,8.521578,7.634367,6.083168,7.634367,-10.940985,-11.420124,6.390827,8.130188,4.531621],\"z\":[1.2429742,5.1003017,2.9594717,4.614497,2.2761176,0.06443625,-0.21749626,7.6660213,1.2373137,4.2856083,2.5345795,0.1194276,9.114301,1.4997257,0.06443625,0.49318716,8.728204,8.294075,2.580434,8.294075,2.1860502,3.9397995,2.410926,1.2373137,4.614497,-0.18258317,2.1860502,1.6933823,7.598845,3.160977,1.2373137,3.434275,6.9990826,8.294075,9.114301,8.817651,4.2856083,0.49318704,3.434275,-0.21749625,8.251368,-0.09819105,8.817651,2.9594717,0.4957006,4.2856083,5.1003017,1.4997257,2.2854917,1.2429743,6.2976613,0.9865876,7.6660104,0.9865874,2.1973472,1.2373115,0.1194276,7.666021,2.410926,5.94788,2.213185,9.089421,5.94788,5.94788,8.294075,0.49318716,2.9549096,2.0530834,4.2856083,9.167468,6.999082,8.728204,0.2679078,1.7818944,0.9865874,8.728204,8.294075,1.4997257,0.49318716,2.8851202,-0.088711776,6.2976613,1.6933823,6.785948,1.9621135,8.728204,1.2429743,2.510938,8.981388,2.9549096,2.64788,7.598845,7.598845,8.294075,-0.09819105,4.2856083,0.1194276,8.981389,1.2373137,0.2679078,6.2976613,0.9865874,2.510938,7.598845,2.64788,2.6478803,4.2856083,2.6478803,0.49318716,-0.088711776,6.9990826,-0.21749626,2.5345795,5.94788,0.98658764,2.580434,8.294075,7.6660047,1.2373115,8.981389,1.2429742,6.2976613,1.2373137,5.1003017,2.9122016,2.8851202,2.9549096,9.114301,6.2976613,7.6660104,8.981388,2.9594717,-0.18258317,0.2679788,7.598845,3.9397995,1.7818946,2.2854922,2.2854922,2.1382995,2.8387942,8.981388,8.251368,-0.1952435,8.981388,2.1860502,8.981388,1.6933823,0.06443628,2.580434,2.64788,1.9621135,2.410926,5.1003017,2.510938,6.999082,0.06443625,6.2976613,8.251368,-0.21749626,4.2856083,2.1860502,1.4997257,6.2976613,7.6660104,4.2856083,1.2373137,8.728204,0.49318716,2.410926,0.06443625,6.785948,1.6933823,7.6660047,9.114301,5.94788,2.9122016,0.06443625,5.1003017,-0.09819099,3.160977,7.6660104,2.0530834,-0.1952435,-0.1952435,4.2856083,0.7375476,7.598845,-0.088711776,2.9549096,-0.088711776,-0.09819105,3.434275,7.6660213,1.9621135,6.785948,2.7017972,0.4957006,3.160977,1.2373137,8.294075,4.614497,3.434275,5.94788,8.294075,4.614497,2.1860502,2.9594717,0.4957006,2.64788,2.510938,9.167468,8.817651,-0.18258317,6.785948,2.1973472,2.0530834,9.167468,9.114301,-0.088711776,-0.18258317,9.114301,2.64788,1.2373115,2.1382995,1.9621135,7.598845,9.167468,9.114301,0.1194276,2.213185,2.7017972,9.114301,-0.21749626,0.7375476,6.785948,2.9549096,0.9865874,2.0530834,3.9397995,7.598845,1.6933823,2.277604,3.9397995,8.251368,8.728204,2.5345795,2.1973472,6.2976613,6.2976613,2.8851202,0.49318716,2.0530834,2.580434,-0.1952435,8.728204,6.999082,6.785948,0.1194276,6.999082,0.7375476,3.160977,5.1003017,7.6660104,9.114301,0.49318716,-0.08871178,0.98658764,-0.09819104,8.728204,0.2679078,-0.09819105,1.4997257,8.817651,2.9122016,3.160977,2.8087118,2.580434,0.49318707,6.785948,8.817651,3.160977,8.817651,2.9594717,2.9549096,3.9397995,7.598845,1.2373137],\"type\":\"scatter3d\"},{\"customdata\":[[\"1684\"],[\"3437\"],[\"107\"],[\"1912\"]],\"hovertemplate\":\"Cluster=Cluster 2\\u003cbr\\u003e0=%{x}\\u003cbr\\u003e1=%{y}\\u003cbr\\u003e2=%{z}\\u003cbr\\u003eFeature=%{customdata[0]}\\u003cextra\\u003e\\u003c\\u002fextra\\u003e\",\"legendgroup\":\"Cluster 2\",\"marker\":{\"color\":\"#00cc96\",\"opacity\":0.7,\"symbol\":\"circle\"},\"mode\":\"markers\",\"name\":\"Cluster 2\",\"scene\":\"scene\",\"showlegend\":true,\"x\":[5.6462235,5.504105,5.6768146,5.6317606],\"y\":[-2.5084178,-2.219458,-2.5721238,-2.4790084],\"z\":[-10.899016,-11.066022,-10.85895,-10.9164],\"type\":\"scatter3d\"},{\"customdata\":[[\"3076\"],[\"1344\"],[\"239\"],[\"3078\"],[\"3267\"],[\"1261\"],[\"3113\"],[\"3256\"],[\"3185\"],[\"3284\"],[\"3152\"],[\"3252\"],[\"3132\"],[\"3150\"],[\"3149\"],[\"1338\"],[\"25\"],[\"1340\"],[\"252\"],[\"3140\"],[\"3277\"],[\"1290\"],[\"1312\"],[\"1289\"],[\"3070\"],[\"1339\"],[\"3145\"],[\"3073\"],[\"3274\"],[\"3154\"],[\"3146\"],[\"3064\"],[\"3115\"],[\"3184\"],[\"3108\"],[\"67\"],[\"3119\"],[\"3214\"],[\"3117\"],[\"3938\"],[\"1282\"],[\"3172\"],[\"119\"],[\"1284\"],[\"3098\"],[\"26\"],[\"3198\"],[\"1287\"],[\"3174\"],[\"3104\"],[\"3182\"],[\"3096\"],[\"3226\"],[\"21\"],[\"122\"],[\"3106\"],[\"3084\"],[\"3247\"],[\"1298\"],[\"56\"],[\"3838\"],[\"3169\"],[\"1323\"],[\"3239\"],[\"1320\"],[\"1334\"],[\"1322\"],[\"1288\"],[\"1271\"],[\"1272\"],[\"1273\"],[\"3120\"],[\"3195\"],[\"3240\"],[\"3360\"],[\"3293\"],[\"2429\"],[\"2434\"],[\"1040\"],[\"1135\"],[\"2438\"],[\"1032\"],[\"2058\"],[\"1029\"],[\"1028\"],[\"2055\"],[\"2462\"],[\"1026\"],[\"2478\"],[\"1024\"],[\"1130\"],[\"1021\"],[\"1148\"],[\"1014\"],[\"2536\"],[\"2537\"],[\"1003\"],[\"1989\"],[\"1156\"],[\"1158\"],[\"1159\"],[\"1970\"],[\"1160\"],[\"2554\"],[\"1964\"],[\"1963\"],[\"2499\"],[\"1163\"],[\"1129\"],[\"2407\"],[\"2280\"],[\"1075\"],[\"1080\"],[\"1074\"],[\"2287\"],[\"1085\"],[\"2304\"],[\"1070\"],[\"2243\"],[\"2235\"],[\"2232\"],[\"2313\"],[\"1067\"],[\"1066\"],[\"1128\"],[\"2210\"],[\"1100\"],[\"2179\"],[\"1056\"],[\"1110\"],[\"1052\"],[\"2164\"],[\"2161\"],[\"2136\"],[\"2391\"],[\"2392\"],[\"2396\"],[\"1049\"],[\"1123\"],[\"1047\"],[\"2353\"],[\"999\"],[\"997\"],[\"995\"],[\"3351\"],[\"3350\"],[\"1221\"],[\"563\"],[\"3348\"],[\"3347\"],[\"3345\"],[\"3344\"],[\"538\"],[\"3342\"],[\"526\"],[\"3339\"],[\"3335\"],[\"1227\"],[\"566\"],[\"366\"],[\"3330\"],[\"363\"],[\"1231\"],[\"3324\"],[\"3321\"],[\"3596\"],[\"1237\"],[\"3604\"],[\"322\"],[\"1242\"],[\"277\"],[\"3302\"],[\"3299\"],[\"3297\"],[\"3332\"],[\"3353\"],[\"580\"],[\"606\"],[\"2591\"],[\"2603\"],[\"2606\"],[\"2325\"],[\"983\"],[\"982\"],[\"3433\"],[\"1181\"],[\"1182\"],[\"3419\"],[\"3417\"],[\"3411\"],[\"1192\"],[\"957\"],[\"3396\"],[\"952\"],[\"1198\"],[\"3362\"],[\"641\"],[\"651\"],[\"3545\"],[\"897\"],[\"1209\"],[\"271\"],[\"906\"],[\"3378\"],[\"927\"],[\"932\"],[\"934\"],[\"3387\"],[\"942\"],[\"1207\"],[\"1345\"],[\"1280\"],[\"1347\"],[\"2853\"],[\"1426\"],[\"1423\"],[\"2862\"],[\"2864\"],[\"2866\"],[\"2867\"],[\"1427\"],[\"2872\"],[\"1571\"],[\"2880\"],[\"1574\"],[\"1413\"],[\"2890\"],[\"1576\"],[\"2894\"],[\"2873\"],[\"1580\"],[\"3633\"],[\"3684\"],[\"3233\"],[\"3019\"],[\"1535\"],[\"2869\"],[\"1536\"],[\"2827\"],[\"2828\"],[\"2849\"],[\"2724\"],[\"1539\"],[\"3851\"],[\"2833\"],[\"3756\"],[\"1540\"],[\"3136\"],[\"3948\"],[\"1538\"],[\"3366\"],[\"1583\"],[\"1591\"],[\"2919\"],[\"1630\"],[\"1632\"],[\"2920\"],[\"1636\"],[\"805\"],[\"1637\"],[\"1628\"],[\"1639\"],[\"1644\"],[\"1652\"],[\"1653\"],[\"1659\"],[\"2925\"],[\"1661\"],[\"2927\"],[\"1643\"],[\"1590\"],[\"1623\"],[\"2916\"],[\"1596\"],[\"1605\"],[\"1609\"],[\"2901\"],[\"2904\"],[\"2905\"],[\"1611\"],[\"1402\"],[\"2906\"],[\"2909\"],[\"2910\"],[\"2911\"],[\"2912\"],[\"2913\"],[\"828\"],[\"2915\"],[\"1614\"],[\"3406\"],[\"3060\"],[\"3179\"],[\"2738\"],[\"2664\"],[\"2661\"],[\"1475\"],[\"3201\"],[\"2616\"],[\"2748\"],[\"2666\"],[\"2594\"],[\"2750\"],[\"2465\"],[\"2394\"],[\"2755\"],[\"2377\"],[\"2757\"],[\"2343\"],[\"2588\"],[\"1472\"],[\"1479\"],[\"2669\"],[\"2698\"],[\"1487\"],[\"1495\"],[\"2694\"],[\"2689\"],[\"1502\"],[\"2683\"],[\"1480\"],[\"2716\"],[\"2719\"],[\"2676\"],[\"2674\"],[\"1483\"],[\"1505\"],[\"2729\"],[\"2730\"],[\"2679\"],[\"1515\"],[\"2273\"],[\"2246\"],[\"2501\"],[\"1462\"],[\"2420\"],[\"2399\"],[\"2793\"],[\"2368\"],[\"1457\"],[\"2516\"],[\"2796\"],[\"2800\"],[\"2191\"],[\"2148\"],[\"2134\"],[\"2132\"],[\"1449\"],[\"1528\"],[\"2315\"],[\"2782\"],[\"2781\"],[\"2780\"],[\"2763\"],[\"2151\"],[\"2144\"],[\"2101\"],[\"2062\"],[\"2026\"],[\"2010\"],[\"1470\"],[\"2002\"],[\"1994\"],[\"1954\"],[\"1940\"],[\"1916\"],[\"2777\"],[\"1523\"],[\"2778\"],[\"2608\"],[\"2928\"],[\"1680\"],[\"1573\"],[\"2706\"],[\"2643\"],[\"2985\"],[\"497\"],[\"2986\"],[\"492\"],[\"1861\"],[\"1871\"],[\"1857\"],[\"2988\"],[\"1373\"],[\"2653\"],[\"3035\"],[\"2991\"],[\"2992\"],[\"460\"],[\"1877\"],[\"465\"],[\"3033\"],[\"500\"],[\"507\"],[\"2458\"],[\"2472\"],[\"2475\"],[\"2498\"],[\"2508\"],[\"2533\"],[\"1844\"],[\"506\"],[\"525\"],[\"1972\"],[\"514\"],[\"1375\"],[\"2589\"],[\"3038\"],[\"2135\"],[\"513\"],[\"524\"],[\"1380\"],[\"1358\"],[\"2994\"],[\"395\"],[\"391\"],[\"3022\"],[\"2001\"],[\"1995\"],[\"1932\"],[\"1939\"],[\"2042\"],[\"1366\"],[\"1955\"],[\"370\"],[\"3017\"],[\"373\"],[\"378\"],[\"374\"],[\"1973\"],[\"1951\"],[\"456\"],[\"400\"],[\"1899\"],[\"1359\"],[\"438\"],[\"436\"],[\"1685\"],[\"2128\"],[\"1891\"],[\"431\"],[\"412\"],[\"2116\"],[\"3027\"],[\"3002\"],[\"1893\"],[\"1894\"],[\"422\"],[\"417\"],[\"3026\"],[\"3000\"],[\"544\"],[\"515\"],[\"2445\"],[\"3054\"],[\"3980\"],[\"1729\"],[\"2254\"],[\"1737\"],[\"1742\"],[\"2264\"],[\"1724\"],[\"1753\"],[\"2267\"],[\"2974\"],[\"1782\"],[\"1786\"],[\"1795\"],[\"1796\"],[\"1388\"],[\"1765\"],[\"3049\"],[\"2203\"],[\"1716\"],[\"1688\"],[\"3056\"],[\"1691\"],[\"2171\"],[\"1703\"],[\"2936\"],[\"2937\"],[\"698\"],[\"719\"],[\"2940\"],[\"713\"],[\"1709\"],[\"2943\"],[\"705\"],[\"1715\"],[\"2946\"],[\"2939\"],[\"2956\"],[\"1772\"],[\"559\"],[\"1351\"],[\"2969\"],[\"567\"],[\"561\"],[\"1820\"],[\"1819\"],[\"2960\"],[\"553\"],[\"2364\"],[\"2973\"],[\"1811\"],[\"2417\"],[\"2436\"]],\"hovertemplate\":\"Cluster=Cluster 3\\u003cbr\\u003e0=%{x}\\u003cbr\\u003e1=%{y}\\u003cbr\\u003e2=%{z}\\u003cbr\\u003eFeature=%{customdata[0]}\\u003cextra\\u003e\\u003c\\u002fextra\\u003e\",\"legendgroup\":\"Cluster 3\",\"marker\":{\"color\":\"#ab63fa\",\"opacity\":0.7,\"symbol\":\"circle\"},\"mode\":\"markers\",\"name\":\"Cluster 3\",\"scene\":\"scene\",\"showlegend\":true,\"x\":[-0.5130811,3.4693434,-12.277292,9.945999,-9.041384,-15.486976,-15.323619,-14.478351,-3.630867,-12.546215,-1.1212337,-0.5130811,-1.7944745,1.5583298,-16.18089,-15.581653,-14.387161,-13.887575,-16.538588,-10.718136,-10.718136,0.13599688,-3.630867,-1.1212337,-13.808019,10.082605,-14.388414,-13.622926,-14.097278,3.469343,-13.266889,-15.474334,-12.925209,-12.925209,-14.12817,-5.6739955,-14.38716,-14.478351,-14.478351,-2.2490678,-15.486976,-8.937435,-13.622926,-12.795472,-16.384592,-15.321255,-0.51308084,-16.12926,-6.9374175,-2.7255428,-15.581653,-5.5298924,-3.6374269,-16.664547,-13.723482,-13.622926,-5.3406215,-16.624586,-10.600793,-4.335048,-13.266889,-13.263923,-4.850623,-13.622926,-15.474335,10.082653,2.459677,4.5667686,8.432349,-1.7944742,-15.474335,-10.600812,-9.041384,-16.848715,-6.9374175,-12.795472,-0.5130811,3.4693434,-16.27504,-15.581653,-15.712559,-3.8413076,-5.2925553,-4.134294,-16.27504,-7.8318543,8.432442,-3.630867,5.6720905,-1.1212337,-16.73807,-12.928785,-16.431927,9.945999,-14.097278,7.6350517,7.6350517,0.13599691,9.945999,-16.509918,-13.263923,-8.971012,0.8135497,5.6720905,8.432442,-0.5130811,5.6720905,10.082605,-12.795472,1.5583298,-12.277295,-3.630867,-12.629678,-14.097278,-15.712559,-16.684877,-16.406511,-4.335048,-12.277295,-12.546215,-10.600793,-1.1212337,-5.6739955,-15.321255,9.57051,9.57051,-15.474297,6.688928,-16.099585,-12.855497,-14.12817,4.566769,-3.0278018,-6.937419,-8.971012,4.566769,-14.38716,-3.0278137,-10.502422,-16.5062,-0.5130811,-4.8506227,8.432442,-16.137619,-1.7944742,-3.0278018,-10.718136,3.469343,-1.7944742,-5.5298924,-16.084246,-5.2925553,0.13599688,-15.656128,9.57051,-7.8307514,-16.099585,-1.7944745,-1.1212337,9.046362,5.6720915,8.432423,-6.9374175,0.13599691,-14.387148,-0.5130811,-12.333814,-5.2710958,-9.1892395,5.6720915,-16.217447,-16.275042,-12.333814,-14.478351,-13.808019,-13.54141,-1.7944745,3.4693434,8.432423,-15.321255,-6.154963,-3.8583639,-13.808019,-15.486976,-16.384592,1.5583298,-16.55623,-14.097278,1.5583298,-13.627407,9.046362,-16.099585,-5.5298924,-1.7944745,-2.3280873,-6.1549635,-16.137619,-7.832382,-2.4744368,-16.789318,-5.2925553,-7.831856,-4.335048,-12.333814,-6.154963,-14.478351,-3.0278013,9.046362,-16.242092,-8.937435,9.046362,-5.2362037,-6.9374175,-13.52179,-15.474335,-13.263923,-10.901077,-6.1549635,-4.335048,-3.630867,-16.55623,-5.6739955,-12.795472,-16.561562,-16.27504,-12.795472,0.8135497,-16.624586,-13.263923,-7.831856,-2.4731917,-16.431927,-16.27504,-14.097278,-12.668986,-15.474325,-12.668986,-3.0278018,-6.154963,-4.335048,-3.3343337,-12.668986,-4.1233644,-12.277295,-3.0278013,-12.925209,-14.387149,-13.622926,-12.277296,-9.056704,-13.622926,9.046362,7.6350517,-12.668986,-16.27504,-4.1735826,-6.9374175,-4.850623,-16.407087,9.945999,-3.0278137,-4.335048,-14.38716,-3.334333,-6.9374175,-3.0278018,-3.8413076,-3.630867,4.566769,10.082605,0.8135497,10.082605,0.13599688,-4.8506227,2.459677,4.5667686,-4.8506227,-8.953139,-6.9374175,-9.056704,-6.9374175,4.566769,-4.8506227,-2.7255428,-14.388414,-13.263923,-6.1549635,-4.1735826,3.4693434,-10.895637,-12.75104,-4.335048,-15.712559,-2.3280873,-2.7255428,9.945999,-8.983808,4.566769,10.082605,-6.1549635,-12.925209,6.6889286,-1.1212337,-12.795472,7.6350517,1.5583298,6.688928,-2.7255428,-4.1342955,3.4693434,2.459677,-1.7944745,9.046362,-14.38716,-14.12817,-16.27504,5.6720905,-16.27504,-12.876833,-4.335048,5.6720915,7.6350517,10.082653,-2.2377205,-12.668986,8.432442,-12.277292,-14.478351,1.5583298,5.6720905,-14.38716,3.469343,7.6350517,-5.5298924,-1.7944745,-3.3343337,-4.8506236,9.945999,-3.8201,-13.628334,0.8135497,-12.795472,-3.0278018,0.8135497,2.459677,-1.1212337,6.688928,2.459677,-12.876841,-7.83198,9.57051,-16.157782,-12.277292,-13.723482,-0.51308084,-4.335048,-10.600793,-5.2919216,8.432442,-1.7944745,-10.718136,-1.1212337,-15.474335,5.6720905,5.6720905,-3.8413076,-2.7255428,-14.387149,7.6350517,9.945999,-0.51308084,-13.4325,1.5583298,-16.275042,10.082605,-12.631098,-2.7255428,10.082605,-16.675987,9.945999,-3.0278018,-7.83197,-14.478351,-7.831857,-9.041384,2.459677,-13.4325,-9.186032,-16.364029,-15.474325,-4.335048,0.8135497,-2.2392237,-16.675987,9.945999,-4.8506227,9.046362,6.688928,9.57051,9.945999,-12.750767,-9.056679,-14.387148,-12.668986,-15.474335,-6.9374194,-3.637441,0.8135497,0.8135497,1.5583298,-15.474335,-1.1212337,-4.8506236,-16.515638,-4.8506227,-13.164369,-3.630867,-12.795472,-13.972934,7.6350517,-3.6415355,8.432423,-16.270475,4.566769,-10.501897,-12.546215,6.688928,-13.619824,-15.712559,-16.661547,-15.474325,-13.164369,-7.832382,-3.8201,-1.7944746,-10.856496,-12.394764,5.6720915,4.566769,-10.896151,-10.895636,9.976375,-16.675987,-16.173454,-9.186032,-2.4761403,-13.887575,-12.795472,-13.628334,8.432423,3.469343,-16.27504,-12.926646,-12.546215,-2.4761403,-12.277296,-3.630867,2.459677,-4.1784987,-3.8413076,-6.154963,-12.277292,-3.0278013,-2.4554067,-12.277295,-16.275042,9.046362,1.5583298,-10.718136,-1.7944745,-16.684877,-5.2939878,10.082605,-12.795472,7.6350517,-4.335048,-12.795472,-16.848715,-12.876833,-12.333814,-13.963368,-15.497055,-15.474334,-15.474335,-10.502422,-13.808019,-3.0278018,-14.388414,-16.431927,-12.277296,-14.387148,8.432414,-13.4325,-2.3684032,-16.27504,-10.600793,-13.723482,-3.3343337,-16.27504,0.8135497,4.566769,-1.1212337,-16.5062,-7.8318563,-13.963369,-12.668986,6.6889286],\"y\":[11.635734,15.164457,0.7973282,12.099375,-7.1353173,-3.270353,-3.3591633,7.9913373,3.8394296,-6.217984,10.645478,11.635734,9.370099,14.07425,1.1020716,-3.541919,-5.111881,7.895208,4.7567577,-6.8497214,-6.8497214,12.540521,3.8394296,10.645478,7.2773805,11.361795,-5.1128407,7.48133,8.130697,15.164457,5.265211,6.70332,5.5240974,5.5240974,7.526427,-2.4806354,-5.1118803,7.9913373,7.9913373,7.7886286,-3.270353,-6.9080644,7.48133,3.0903466,4.1835556,-3.3306475,11.635734,1.3673649,-5.2449617,7.827497,-3.541919,-2.6019125,2.4410696,4.4393687,7.8284254,7.48133,-2.6865573,0.9463086,-7.326954,0.796402,5.265211,5.573784,-0.9947425,7.48133,6.70332,11.361799,14.6807575,15.44452,14.249794,9.370099,6.70332,-7.326982,-7.1353173,1.1499766,-5.2449617,3.0903466,11.635734,15.164457,-1.3658752,-3.541919,-3.4264202,2.3825557,-2.6409588,2.588379,-1.3658752,-6.224138,14.250156,3.8394296,15.473424,10.645478,1.1557058,5.5709534,4.3037877,12.099375,8.130697,14.793496,14.793496,12.540521,12.099375,1.5804591,5.573784,-6.8882484,13.37503,15.473424,14.250156,11.635734,15.473424,11.361795,3.0903466,14.07425,0.7973199,3.8394296,2.97125,8.130697,-3.4264202,1.4734235,1.4726306,0.796402,0.79732,-6.217984,-7.326954,10.645479,-2.4806354,-3.3306475,12.84425,12.84425,6.703329,15.212961,4.485721,-6.3982644,7.526427,15.44452,6.3750134,-5.2449584,-6.8882484,15.44452,-5.1118803,6.3749943,-7.011789,4.7723975,11.635734,-0.99474233,14.250156,1.0655408,9.370099,6.3750134,-6.8497214,15.164457,9.370099,-2.6019125,4.468,-2.6409588,12.540521,-3.549457,12.84425,-6.223102,4.485721,9.370099,10.645479,13.588863,15.4734125,14.250334,-5.2449617,12.540521,-5.111889,11.635734,3.1181216,-2.6605825,-6.878873,15.4734125,4.6415377,-1.3658751,3.1181216,7.9913373,7.2773805,7.248006,9.370098,15.164457,14.250333,-3.3306475,-4.0218444,2.5619478,7.2773805,-3.270353,4.1835556,14.07425,1.0310434,8.130697,14.07425,7.4819355,13.588863,4.485721,-2.6019125,9.370098,7.627071,-4.021845,1.0655408,-6.2232785,7.956851,1.4382913,-2.6409588,-6.2241364,0.796402,3.1181216,-4.021845,7.9913373,6.375018,13.588863,4.2829447,-6.9080644,13.588863,-2.7163277,-5.2449617,7.2432623,6.70332,5.573784,-7.2032995,-4.021845,0.796402,3.8394299,1.0310434,-2.4806354,3.0903466,1.4560361,-1.3658752,3.0903466,13.37503,0.9463086,5.573784,-6.2241335,7.95599,4.3037877,-1.3658752,8.130697,-6.5802865,6.7033668,-6.5802865,6.3750134,-4.021845,0.796402,5.141822,-6.5802865,2.5897546,0.79732,6.375018,5.5240974,-5.11189,7.48133,0.7973153,-7.1328073,7.48133,13.588863,14.793496,-6.5802865,-1.3658752,2.5033078,-5.2449617,-0.99474263,1.4722537,12.099375,6.3749943,0.796402,-5.1118803,5.141822,-5.2449617,6.3750134,2.3825557,3.8394296,15.44452,11.361795,13.37503,11.361795,12.540521,-0.99474233,14.6807575,15.44452,-0.99474233,-6.908545,-5.2449617,-7.1328073,-5.2449617,15.44452,-0.99474233,7.827497,-5.1128407,5.573784,-4.0218444,2.5033078,15.164457,-7.2050977,-6.2471,0.796402,-3.4264202,7.627071,7.827497,12.099375,-7.140632,15.44452,11.361795,-4.021845,5.5240974,15.212962,10.645479,3.0903466,14.793496,14.07425,15.212961,7.827497,2.5883787,15.164457,14.6807575,9.370098,13.588863,-5.1118803,7.526427,-1.3658752,15.473424,-1.3658752,-6.4775476,0.796402,15.4734125,14.793496,11.361799,7.750531,-6.5802865,14.250156,0.7973282,7.9913373,14.07425,15.473424,-5.1118803,15.164457,14.793496,-2.6019125,9.370098,5.141822,-0.99474245,12.099375,2.551162,7.4825425,13.37503,3.0903466,6.3750134,13.37503,14.6807575,10.645479,15.212961,14.6807575,-6.477571,-6.2241063,12.84425,1.4142574,0.79732823,7.8284254,11.635734,0.796402,-7.326954,-2.6415422,14.250156,9.370098,-6.8497214,10.645479,6.70332,15.473424,15.473424,2.3825557,7.827497,-5.1118894,14.793496,12.099375,11.635734,5.485748,14.07425,-1.3658751,11.361795,2.9718142,7.827497,11.361795,4.430923,12.099375,6.3750134,-6.224091,7.9913373,-6.224136,-7.1353173,14.6807575,5.485748,-6.8763876,0.9310454,6.7033668,0.796402,13.37503,7.7609315,4.430923,12.099375,-0.99474233,13.588863,15.212961,12.844249,12.099375,-6.2409806,-7.1328244,-5.111888,-6.5802865,6.70332,-5.244957,2.4410977,13.37503,13.37503,14.07425,6.70332,10.645478,-0.99474245,4.6857624,-0.99474233,5.2731137,3.8394299,3.0903466,8.370366,14.793496,2.4512384,14.250334,1.1574802,15.44452,-7.0183005,-6.217984,15.212961,7.4786944,-3.4264202,4.359284,6.7033668,5.2731137,-6.2232785,2.551162,9.370098,-7.2405314,3.203409,15.4734125,15.44452,-7.195419,-7.205095,12.102708,4.430923,1.449475,-6.8763876,7.956915,7.895208,3.0903466,7.4825425,14.250334,15.164457,-1.3658752,5.566587,-6.217984,7.956915,0.7973153,3.8394296,14.6807575,2.5064337,2.3825557,-4.021845,0.7973282,6.375018,7.614585,0.79732,-1.3658751,13.588863,14.07425,-6.8497214,9.370098,1.4734235,-2.6408026,11.361795,3.0903466,14.793496,0.796402,3.0903466,1.1499766,-6.4775476,3.1181216,8.368011,-3.506822,6.70332,6.70332,-7.011789,7.2773805,6.3750134,-5.1128407,4.3037877,0.79731524,-5.111889,14.25022,5.485748,7.617811,-1.3658752,-7.326954,7.8284254,5.141822,-1.3658752,13.37503,15.44452,10.645478,4.7723975,-6.2241273,8.368011,-6.5802865,15.212962],\"z\":[-8.392771,-5.488385,10.4463825,1.6117946,-11.603768,-5.240332,-4.97426,3.2482457,-13.576204,-7.694766,-9.03863,-8.392771,-9.936081,-6.745989,-2.774559,-4.8918314,-6.2686267,3.450851,-1.2485695,-9.653764,-9.653764,-7.8196692,-13.576204,-9.03863,6.2499533,2.5099323,-6.268325,6.347916,2.7290523,-5.4883847,8.408701,0.5904377,8.517398,8.517398,3.0472689,-14.512323,-6.268627,3.2482457,3.2482457,-11.245478,-5.240332,-11.418577,6.347916,10.031774,-0.9765487,-5.0134435,-8.392771,-2.732986,-13.701296,-11.034511,-4.8918314,-14.860814,-14.191189,-0.9631531,3.0793502,6.347916,-14.849497,-2.7247553,-9.502536,-14.589583,8.408701,8.788089,-14.756968,6.347916,0.59043765,2.509933,-6.150768,-4.73035,-1.1019775,-9.936082,0.59043753,-9.502575,-11.603768,-2.6575,-13.701295,10.031774,-8.392771,-5.488385,-3.9659703,-4.8918314,-5.185317,-13.890688,-14.465995,-14.291915,-3.9659703,-12.873509,-1.1017811,-13.576204,-3.8713937,-9.03863,-2.2565553,8.547414,-1.4679079,1.6117946,2.7290523,-2.002244,-2.002244,-7.8196692,1.6117946,-2.3815908,8.788089,-11.440105,-7.2760572,-3.8713937,-1.1017811,-8.392771,-3.8713937,2.5099323,10.031774,-6.745989,10.446383,-13.576204,9.61304,2.7290523,-5.185317,-2.798178,-2.871856,-14.589583,10.446383,-7.694766,-9.502536,-9.038629,-14.512323,-5.0134435,0.7017572,0.7017573,0.5903825,-2.9555357,-1.074141,-7.915111,3.0472689,-4.7303505,-12.158596,-13.701291,-11.440105,-4.7303505,-6.268627,-12.158566,-9.414451,-1.1965178,-8.392771,-14.756969,-1.1017811,-2.4191737,-9.936081,-12.158596,-9.653764,-5.4883847,-9.936081,-14.860814,-1.3265908,-14.465995,-7.8196692,-4.9409313,0.7017573,-12.871096,-1.074141,-9.936081,-9.038629,-0.23265193,-3.8713958,-1.101642,-13.701295,-7.8196692,-6.268609,-8.392771,9.890126,-14.510415,-11.635095,-3.8713958,-1.4029187,-3.9659703,9.890126,3.2482457,6.2499533,6.204598,-9.93608,-5.488385,-1.101643,-5.0134435,-14.262354,-14.395871,6.2499533,-5.240332,-0.9765487,-6.745989,-2.2193942,2.7290523,-6.745989,6.3521566,-0.23265164,-1.074141,-14.860814,-9.93608,-10.982842,-14.262355,-2.4191737,-12.87328,-11.353823,-2.3854668,-14.465995,-12.873509,-14.589583,9.890126,-14.262354,3.2482457,-12.158605,-0.23265147,-0.94340914,-11.418577,-0.23265193,-14.7765045,-13.701295,6.1977453,0.5904376,8.788089,-9.756463,-14.262355,-14.589583,-13.576204,-2.2193942,-14.512323,10.031774,-2.2478786,-3.9659703,10.031774,-7.2760572,-2.7247553,8.788089,-12.873508,-11.354744,-1.4679079,-3.9659703,2.7290523,-7.5994635,0.59042394,-7.5994635,-12.158596,-14.262354,-14.589583,-12.878092,-7.5994635,-14.305472,10.446383,-12.158605,8.517398,-6.268609,6.347916,10.446384,-11.617817,6.347916,-0.23265193,-2.002244,-7.5994635,-3.9659703,-14.01001,-13.701295,-14.75697,-2.8724868,1.6117946,-12.158566,-14.589583,-6.268627,-12.878092,-13.701295,-12.158596,-13.890688,-13.576204,-4.7303505,2.5099323,-7.2760572,2.5099323,-7.8196692,-14.756969,-6.150768,-4.73035,-14.756969,-11.428656,-13.701295,-11.617817,-13.701295,-4.7303505,-14.756969,-11.034511,-6.268325,8.788089,-14.262354,-14.01001,-5.488385,-9.7637205,-7.8910027,-14.589583,-5.185317,-10.982842,-11.034511,1.6117946,-11.54844,-4.7303505,2.5099323,-14.262355,8.517398,-2.955536,-9.038629,10.031774,-2.002244,-6.745989,-2.9555357,-11.034511,-14.291914,-5.488385,-6.150768,-9.93608,-0.23265143,-6.268627,3.0472689,-3.9659703,-3.8713937,-3.9659703,-7.9002213,-14.589583,-3.8713958,-2.002244,2.509933,-11.201792,-7.5994635,-1.1017811,10.4463825,3.2482457,-6.745989,-3.8713937,-6.268627,-5.4883847,-2.002244,-14.860814,-9.936081,-12.878092,-14.7569685,1.6117946,-14.38439,6.3528423,-7.2760572,10.031774,-12.158596,-7.2760572,-6.150768,-9.038629,-2.9555357,-6.150768,-7.900208,-12.873564,0.7017572,-2.3776605,10.4463825,3.0793502,-8.392771,-14.589583,-9.502536,-14.467075,-1.1017811,-9.93608,-9.653764,-9.038629,0.5904377,-3.8713937,-3.8713937,-13.890688,-11.034511,-6.2686095,-2.002244,1.6117946,-8.392771,8.484408,-6.745989,-3.9659703,2.5099323,9.6112585,-11.034511,2.5099323,-0.9772631,1.6117946,-12.158596,-12.873552,3.2482457,-12.873511,-11.603768,-6.150768,8.484408,-11.631428,-2.3307252,0.59042394,-14.589583,-7.2760572,-11.214271,-0.9772631,1.6117946,-14.756969,-0.23265147,-2.9555357,0.7017573,1.6117946,-7.8842845,-11.617796,-6.2686095,-7.5994635,0.5904377,-13.701291,-14.191259,-7.2760572,-7.2760572,-6.745989,0.59043753,-9.03863,-14.7569685,-1.4168142,-14.756969,8.366629,-13.576204,10.031774,3.2628546,-2.002244,-14.211065,-1.101642,-2.8791077,-4.7303505,-9.412758,-7.694766,-2.9555357,6.3454986,-5.185317,-1.4102944,0.59042394,8.366629,-12.87328,-14.38439,-9.936081,-9.781395,10.195051,-3.8713958,-4.7303505,-9.766883,-9.763723,1.6095223,-0.9772631,-2.3919563,-11.631428,-11.355274,3.450851,10.031774,6.3528423,-1.101642,-5.4883847,-3.9659703,8.572088,-7.694766,-11.355274,10.446384,-13.576204,-6.150768,-14.01456,-13.890688,-14.262354,10.4463825,-12.158605,-10.891485,10.446383,-3.9659703,-0.23265147,-6.745989,-9.653764,-9.93608,-2.798178,-14.46687,2.5099323,10.031774,-2.002244,-14.589583,10.031774,-2.6575,-7.9002213,9.890126,3.256286,-4.8639755,0.5904377,0.5904376,-9.414451,6.2499533,-12.158596,-6.268325,-1.4679079,10.446384,-6.268609,-1.101717,8.484408,-10.948639,-3.9659703,-9.502536,3.0793502,-12.878091,-3.9659703,-7.2760572,-4.7303505,-9.03863,-1.1965178,-12.873507,3.2562847,-7.5994635,-2.955536],\"type\":\"scatter3d\"},{\"customdata\":[[\"2172\"],[\"2206\"],[\"2201\"],[\"2543\"],[\"2200\"],[\"2275\"],[\"2190\"],[\"2054\"],[\"2199\"],[\"2278\"],[\"2140\"],[\"2154\"],[\"2007\"],[\"2142\"],[\"2271\"],[\"2188\"],[\"2078\"],[\"2184\"],[\"2150\"],[\"2384\"],[\"2290\"],[\"2074\"],[\"2112\"],[\"2081\"],[\"1078\"],[\"2468\"],[\"2118\"],[\"2289\"],[\"2283\"],[\"2233\"],[\"2108\"],[\"2121\"],[\"2240\"],[\"2244\"],[\"2104\"],[\"2103\"],[\"2229\"],[\"1126\"],[\"1086\"],[\"2253\"],[\"2123\"],[\"2133\"],[\"2220\"],[\"2124\"],[\"2218\"],[\"2093\"],[\"2111\"],[\"2090\"],[\"1516\"],[\"2598\"],[\"2131\"],[\"2139\"],[\"2088\"],[\"2308\"],[\"348\"],[\"1522\"],[\"2073\"],[\"2630\"],[\"2625\"],[\"1827\"],[\"2624\"],[\"2619\"],[\"2615\"],[\"2611\"],[\"2607\"],[\"2638\"],[\"2604\"],[\"2602\"],[\"2601\"],[\"2600\"],[\"2593\"],[\"1835\"],[\"2590\"],[\"2586\"],[\"1839\"],[\"2578\"],[\"1833\"],[\"1577\"],[\"1813\"],[\"2655\"],[\"414\"],[\"1663\"],[\"483\"],[\"1707\"],[\"1714\"],[\"925\"],[\"686\"],[\"1622\"],[\"1730\"],[\"1621\"],[\"1736\"],[\"1746\"],[\"1613\"],[\"946\"],[\"1768\"],[\"1612\"],[\"1610\"],[\"1800\"],[\"1804\"],[\"1589\"],[\"1584\"],[\"1559\"],[\"2564\"],[\"1554\"],[\"1551\"],[\"2395\"],[\"2328\"],[\"2333\"],[\"2347\"],[\"2381\"],[\"2376\"],[\"2374\"],[\"2370\"],[\"2369\"],[\"2363\"],[\"1059\"],[\"2542\"],[\"2356\"],[\"2354\"],[\"2352\"],[\"2340\"],[\"2339\"],[\"2331\"],[\"2326\"],[\"2324\"],[\"2323\"],[\"2266\"],[\"2309\"],[\"2404\"],[\"2414\"],[\"2560\"],[\"2559\"],[\"2553\"],[\"2551\"],[\"2550\"],[\"2549\"],[\"2526\"],[\"2520\"],[\"2507\"],[\"2500\"],[\"2492\"],[\"2482\"],[\"2464\"],[\"2460\"],[\"2446\"],[\"1941\"],[\"2047\"],[\"2428\"],[\"2087\"],[\"2423\"],[\"1888\"],[\"2409\"],[\"2410\"],[\"0\"],[\"1979\"],[\"1390\"],[\"1399\"],[\"2043\"],[\"1211\"],[\"2037\"],[\"1431\"],[\"2020\"],[\"2045\"],[\"1377\"],[\"2033\"],[\"2030\"],[\"1184\"],[\"1185\"],[\"1983\"],[\"1984\"],[\"1985\"],[\"1376\"],[\"1352\"],[\"1367\"],[\"1471\"],[\"1966\"],[\"1993\"],[\"2059\"],[\"1918\"],[\"2069\"],[\"1946\"],[\"1199\"],[\"1943\"],[\"1938\"],[\"1391\"],[\"2064\"],[\"1971\"],[\"1917\"],[\"1962\"]],\"hovertemplate\":\"Cluster=Cluster 4\\u003cbr\\u003e0=%{x}\\u003cbr\\u003e1=%{y}\\u003cbr\\u003e2=%{z}\\u003cbr\\u003eFeature=%{customdata[0]}\\u003cextra\\u003e\\u003c\\u002fextra\\u003e\",\"legendgroup\":\"Cluster 4\",\"marker\":{\"color\":\"#FFA15A\",\"opacity\":0.7,\"symbol\":\"circle\"},\"mode\":\"markers\",\"name\":\"Cluster 4\",\"scene\":\"scene\",\"showlegend\":true,\"x\":[5.5385833,3.4304843,6.348411,4.962769,5.810322,7.228185,4.273629,2.3673596,6.3093266,6.0706363,5.2557187,1.0725905,5.2557187,3.7723432,7.130827,5.281938,3.49585,7.1343527,5.806246,6.8071065,7.28668,1.9319623,1.0725905,5.5288157,7.3050976,6.7430644,6.8063426,1.0725905,1.5167392,3.8052745,2.7807448,0.1935945,3.830109,3.9533098,7.2171373,7.2868457,3.4046364,4.3444915,3.4356606,-0.250854,3.5527492,0.63625383,5.0234566,4.6140404,3.4356606,6.7430644,7.2868457,6.608417,0.63625395,2.7807448,4.3444915,6.8954473,4.3444915,-0.68146247,4.028992,-0.68146247,5.0223346,5.810322,7.1343527,3.830109,6.8071065,2.7807457,7.228185,3.4046364,5.0234566,3.5598533,4.779138,4.3444915,6.3492174,7.279863,7.228185,7.2798505,4.5644717,6.986791,3.1733947,2.7807457,6.074496,4.937476,-0.68146247,4.273629,0.63625383,4.2056203,4.08981,7.228185,6.986336,3.9140205,4.937476,6.7430644,3.9334834,6.608435,-0.68146247,3.671887,7.2798543,3.559853,3.4135604,6.3492174,7.0255756,4.4255896,5.0234566,3.4356606,3.4505088,7.1343527,6.8071065,1.0725902,5.2557187,7.0255756,3.5598533,1.0725905,4.950866,6.5299225,7.0255756,4.273629,0.1935945,4.564717,3.9130514,3.1733947,4.779138,5.5288157,6.7430644,4.2736297,4.3444915,7.27985,6.348411,7.130827,4.564717,7.3050656,4.1784177,4.138186,4.937476,7.304859,3.830109,3.1733947,5.810322,0.19359468,1.9319623,1.5167392,6.074496,3.1733947,3.830109,7.216199,6.8954473,1.0725905,3.671887,4.6140404,1.5167392,3.837004,3.4356606,6.074496,-0.68146247,3.175343,4.566173,6.8954473,3.4046364,5.086619,6.5299225,5.5385833,6.8954473,6.0706363,5.810322,5.810322,3.7400615,0.19359463,6.5299225,6.3492174,5.810322,6.986791,0.1935947,-0.68146247,4.1381865,6.8954473,3.869588,7.279861,4.1784177,3.5598533,4.6140404,5.5288157,3.5527492,5.5385833,1.5167392,4.273629,6.074496,3.640998,5.8059688,6.608417,6.309301,7.1343527,6.5299225,6.3492174,6.986791],\"y\":[-3.4551651,0.17577246,-4.6797895,-1.1638973,-12.619882,-7.1393843,-14.334496,-15.31179,-11.798352,-12.207078,-13.349433,-15.513284,-13.349433,0.2875628,-9.5549,-3.080854,-0.32084346,-6.628172,-3.842674,-5.617141,-7.646346,-15.415734,-15.513284,-12.992119,-8.116514,-10.9414425,-5.618347,-15.513284,-15.481794,0.27052405,-15.193201,-15.3776045,-0.9405228,-1.1832403,-9.082108,-7.646337,0.026304638,-1.7469143,-0.1817633,-15.232005,-0.49946257,-15.474171,-2.7184527,-14.024961,-0.1817633,-10.9414425,-7.646337,-5.1378365,-15.474171,-15.193201,-1.7469143,-10.499472,-1.7469143,-15.034115,0.09750092,-15.034115,-2.7196355,-12.619882,-6.628172,-0.9405228,-5.617141,-15.193212,-7.1393843,0.026304638,-2.7184527,-14.832891,-2.3815122,-1.7469143,-4.6777277,-8.604172,-7.1393843,-8.604166,-2.072149,-6.123464,-15.0382395,-15.193212,-4.2298355,-13.702042,-15.034115,-14.334496,-15.474171,-0.075967506,0.040771637,-7.1393843,-6.1237226,-14.610397,-13.702042,-10.9414425,0.17900977,-5.1378284,-15.034115,-0.70672685,-8.604168,-14.832891,0.13795206,-4.6777277,-10.031352,-0.3349041,-2.7184527,-0.1817633,0.20387068,-6.6281714,-5.617141,-15.513284,-13.349433,-10.031352,-14.832891,-15.513284,-1.1444106,-11.371979,-10.031352,-14.334496,-15.3776045,-2.0717466,-14.609649,-15.0382395,-2.3815122,-12.992119,-10.9414425,-14.334496,-1.7469143,-8.604167,-4.6797895,-9.5549,-2.0717466,-8.116507,-0.046663955,-1.4464488,-13.702042,-8.116475,-0.9405228,-15.0382395,-12.619882,-15.377604,-15.415734,-15.481794,-4.2298355,-15.0382395,-0.9405228,-9.083368,-10.499472,-15.513284,-0.70672685,-14.024961,-15.481794,0.24947207,-0.1817633,-4.2298355,-15.034115,-15.039616,-0.53567684,-10.499472,0.026304638,-1.3868343,-11.371979,-3.4551651,-10.499472,-12.207078,-12.619882,-12.619882,0.2997052,-15.377604,-11.371979,-4.6777277,-12.619882,-6.123464,-15.377604,-15.034115,-1.4464488,-10.499472,0.22760431,-8.604171,-0.046663955,-14.832891,-14.024961,-12.992119,-0.49946257,-3.4551651,-15.481794,-14.334496,-4.2298355,0.30943862,-3.8427768,-5.1378365,-11.798324,-6.6281714,-11.371979,-4.6777277,-6.123464],\"z\":[-7.1451793,-9.500143,-6.8534203,-11.591949,-3.5226283,-5.92999,-2.454131,-1.0761468,-3.9107497,-3.7183444,-3.1277504,-0.07484608,-3.1277504,-10.812985,-4.8798265,-7.234993,-8.535636,-6.1450243,-7.0569544,-6.537525,-5.7091866,-0.741826,-0.07484608,-3.3187852,-5.4932504,-4.2935915,-6.5393586,-0.07484608,-0.42511785,-10.881387,-1.3863571,0.6405162,-8.037604,-7.8587327,-5.078312,-5.7087965,-9.075178,-7.6254454,-8.728297,0.9995869,-8.350649,0.2758671,-7.3207974,-2.6870933,-8.728297,-4.2935915,-5.7087965,-6.711816,0.2758672,-1.3863571,-7.6254454,-4.481761,-7.6254454,1.3500789,-11.227983,1.3500789,-7.321887,-3.5226283,-6.1450243,-8.037604,-6.537525,-1.386357,-5.92999,-9.075178,-7.3207974,-1.9568483,-7.407915,-7.6254454,-6.8485007,-5.28841,-5.92999,-5.28842,-7.500848,-6.3505445,-1.6799027,-1.386357,-6.9696264,-2.9089293,1.3500789,-2.454131,0.2758671,-11.420748,-11.302118,-5.92999,-6.3501234,-2.203923,-2.9089293,-4.2935915,-11.09784,-6.711811,1.3500789,-8.191212,-5.288416,-1.9568483,-9.366036,-6.8485007,-4.6773243,-11.582695,-7.3207974,-8.728297,-9.636174,-6.145024,-6.537525,-0.07484625,-3.1277504,-4.6773243,-1.9568483,-0.07484608,-11.595248,-4.099852,-4.6773243,-2.454131,0.6405162,-7.50027,-2.2042873,-1.6799027,-7.407915,-3.3187852,-4.2935915,-2.4541306,-7.6254454,-5.28842,-6.8534203,-4.8798265,-7.50027,-5.4932895,-11.39441,-7.7404003,-2.9089293,-5.4935975,-8.037604,-1.6799027,-3.5226283,0.64051604,-0.741826,-0.42511785,-6.9696264,-1.6799027,-8.037604,-5.0826836,-4.481761,-0.07484608,-8.191212,-2.6870933,-0.42511785,-10.942528,-8.728297,-6.9696264,1.3500789,-1.6781964,-11.620409,-4.481761,-9.075178,-11.515468,-4.099852,-7.1451793,-4.481761,-3.7183444,-3.5226283,-3.5226283,-10.736475,0.6405161,-4.099852,-6.8485007,-3.5226283,-6.3505445,0.640516,1.3500789,-7.740401,-4.481761,-10.998637,-5.28841,-11.39441,-1.9568483,-2.6870933,-3.3187852,-8.350649,-7.1451793,-0.42511785,-2.454131,-6.9696264,-10.444985,-7.0570526,-6.711816,-3.9107318,-6.145024,-4.099852,-6.8485007,-6.3505445],\"type\":\"scatter3d\"},{\"customdata\":[[\"3693\"],[\"3705\"],[\"261\"],[\"1774\"],[\"1770\"],[\"1758\"],[\"1763\"],[\"1389\"],[\"1766\"],[\"3207\"],[\"1767\"],[\"272\"],[\"265\"],[\"1283\"],[\"3702\"],[\"653\"],[\"2067\"],[\"2950\"],[\"1754\"],[\"3219\"],[\"1392\"],[\"1725\"],[\"1727\"],[\"291\"],[\"1728\"],[\"1278\"],[\"1279\"],[\"1732\"],[\"1733\"],[\"3672\"],[\"285\"],[\"1734\"],[\"3213\"],[\"1740\"],[\"3680\"],[\"280\"],[\"3212\"],[\"1744\"],[\"1778\"],[\"1751\"],[\"3687\"],[\"1281\"],[\"654\"],[\"3206\"],[\"3718\"],[\"3711\"],[\"683\"],[\"1382\"],[\"1821\"],[\"645\"],[\"604\"],[\"669\"],[\"591\"],[\"1824\"],[\"3758\"],[\"224\"],[\"223\"],[\"570\"],[\"1825\"],[\"3193\"],[\"3191\"],[\"2970\"],[\"1828\"],[\"3188\"],[\"560\"],[\"3187\"],[\"557\"],[\"213\"],[\"556\"],[\"211\"],[\"555\"],[\"1381\"],[\"1831\"],[\"1832\"],[\"3764\"],[\"1785\"],[\"1818\"],[\"236\"],[\"3204\"],[\"1787\"],[\"1790\"],[\"1794\"],[\"3203\"],[\"2953\"],[\"592\"],[\"1798\"],[\"3722\"],[\"1285\"],[\"579\"],[\"2955\"],[\"1806\"],[\"614\"],[\"3728\"],[\"3730\"],[\"3731\"],[\"573\"],[\"609\"],[\"3734\"],[\"630\"],[\"3196\"],[\"3737\"],[\"3738\"],[\"1812\"],[\"3740\"],[\"2958\"],[\"680\"],[\"1807\"],[\"687\"],[\"3220\"],[\"1723\"],[\"1655\"],[\"1656\"],[\"781\"],[\"780\"],[\"2924\"],[\"3250\"],[\"774\"],[\"3568\"],[\"1398\"],[\"773\"],[\"420\"],[\"389\"],[\"3559\"],[\"1265\"],[\"1666\"],[\"3576\"],[\"766\"],[\"1667\"],[\"764\"],[\"760\"],[\"1671\"],[\"1673\"],[\"3584\"],[\"754\"],[\"752\"],[\"1677\"],[\"770\"],[\"3558\"],[\"3557\"],[\"596\"],[\"1634\"],[\"3526\"],[\"1635\"],[\"3528\"],[\"3529\"],[\"908\"],[\"3261\"],[\"3260\"],[\"3259\"],[\"1638\"],[\"903\"],[\"902\"],[\"901\"],[\"3257\"],[\"800\"],[\"898\"],[\"3542\"],[\"1642\"],[\"2921\"],[\"3255\"],[\"1645\"],[\"1647\"],[\"1649\"],[\"787\"],[\"3253\"],[\"3553\"],[\"784\"],[\"1679\"],[\"3590\"],[\"3243\"],[\"3593\"],[\"3237\"],[\"3629\"],[\"323\"],[\"3234\"],[\"718\"],[\"1705\"],[\"3635\"],[\"1706\"],[\"3231\"],[\"1393\"],[\"3228\"],[\"3640\"],[\"315\"],[\"708\"],[\"313\"],[\"2945\"],[\"3225\"],[\"703\"],[\"3224\"],[\"1275\"],[\"697\"],[\"696\"],[\"304\"],[\"695\"],[\"694\"],[\"1720\"],[\"1722\"],[\"325\"],[\"688\"],[\"3625\"],[\"724\"],[\"2929\"],[\"2931\"],[\"747\"],[\"346\"],[\"745\"],[\"3599\"],[\"1682\"],[\"2932\"],[\"342\"],[\"1686\"],[\"1687\"],[\"3605\"],[\"739\"],[\"339\"],[\"1396\"],[\"3238\"],[\"3611\"],[\"1692\"],[\"1694\"],[\"334\"],[\"1695\"],[\"332\"],[\"3617\"],[\"728\"],[\"726\"],[\"329\"],[\"1699\"],[\"1702\"],[\"1292\"],[\"3794\"],[\"547\"],[\"1910\"],[\"1911\"],[\"3945\"],[\"1318\"],[\"3947\"],[\"1319\"],[\"3124\"],[\"3951\"],[\"3123\"],[\"3010\"],[\"1365\"],[\"3014\"],[\"82\"],[\"3016\"],[\"1976\"],[\"1991\"],[\"3018\"],[\"3021\"],[\"368\"],[\"367\"],[\"3966\"],[\"1998\"],[\"3968\"],[\"3114\"],[\"2004\"],[\"3971\"],[\"3118\"],[\"360\"],[\"387\"],[\"1909\"],[\"1897\"],[\"419\"],[\"104\"],[\"3004\"],[\"1369\"],[\"1315\"],[\"1903\"],[\"3918\"],[\"409\"],[\"98\"],[\"3921\"],[\"408\"],[\"388\"],[\"1904\"],[\"404\"],[\"3926\"],[\"1907\"],[\"402\"],[\"1316\"],[\"3930\"],[\"398\"],[\"397\"],[\"396\"],[\"3129\"],[\"394\"],[\"392\"],[\"3924\"],[\"1313\"],[\"3023\"],[\"2018\"],[\"3085\"],[\"2494\"],[\"3041\"],[\"1355\"],[\"2459\"],[\"2447\"],[\"1336\"],[\"3080\"],[\"3046\"],[\"3077\"],[\"2378\"],[\"3047\"],[\"2502\"],[\"2337\"],[\"1337\"],[\"2284\"],[\"3072\"],[\"9\"],[\"1350\"],[\"3052\"],[\"1349\"],[\"2225\"],[\"1348\"],[\"1343\"],[\"3065\"],[\"2157\"],[\"13\"],[\"2009\"],[\"3086\"],[\"3087\"],[\"2024\"],[\"355\"],[\"2027\"],[\"1324\"],[\"53\"],[\"3025\"],[\"3107\"],[\"3029\"],[\"1360\"],[\"1327\"],[\"3102\"],[\"2660\"],[\"2529\"],[\"3036\"],[\"1357\"],[\"2640\"],[\"2636\"],[\"40\"],[\"1332\"],[\"1333\"],[\"3089\"],[\"2583\"],[\"2571\"],[\"2547\"],[\"3040\"],[\"2538\"],[\"2647\"],[\"548\"],[\"423\"],[\"1895\"],[\"1848\"],[\"1850\"],[\"1374\"],[\"512\"],[\"511\"],[\"1851\"],[\"172\"],[\"3822\"],[\"3166\"],[\"3824\"],[\"3825\"],[\"3826\"],[\"520\"],[\"170\"],[\"3829\"],[\"169\"],[\"1299\"],[\"3833\"],[\"504\"],[\"503\"],[\"1300\"],[\"3160\"],[\"3158\"],[\"496\"],[\"1858\"],[\"3841\"],[\"3828\"],[\"3842\"],[\"1846\"],[\"523\"],[\"3782\"],[\"203\"],[\"546\"],[\"545\"],[\"200\"],[\"199\"],[\"1293\"],[\"542\"],[\"3790\"],[\"3177\"],[\"1837\"],[\"3793\"],[\"3810\"],[\"810\"],[\"3176\"],[\"1841\"],[\"531\"],[\"3800\"],[\"1843\"],[\"2977\"],[\"188\"],[\"3804\"],[\"527\"],[\"186\"],[\"1379\"],[\"1378\"],[\"537\"],[\"109\"],[\"1859\"],[\"1303\"],[\"1880\"],[\"452\"],[\"1881\"],[\"1882\"],[\"3884\"],[\"128\"],[\"1884\"],[\"1885\"],[\"445\"],[\"444\"],[\"2996\"],[\"439\"],[\"455\"],[\"1309\"],[\"1310\"],[\"118\"],[\"434\"],[\"432\"],[\"1371\"],[\"3900\"],[\"430\"],[\"3902\"],[\"113\"],[\"3137\"],[\"3135\"],[\"3906\"],[\"3142\"],[\"493\"],[\"2993\"],[\"1307\"],[\"1304\"],[\"1862\"],[\"488\"],[\"487\"],[\"1863\"],[\"482\"],[\"481\"],[\"479\"],[\"1866\"],[\"473\"],[\"471\"],[\"3858\"],[\"1878\"],[\"2987\"],[\"1872\"],[\"1873\"],[\"2989\"],[\"463\"],[\"142\"],[\"141\"],[\"1875\"],[\"3869\"],[\"461\"],[\"3148\"],[\"3873\"],[\"1876\"],[\"3860\"],[\"3264\"],[\"3506\"],[\"913\"],[\"2311\"],[\"1068\"],[\"3386\"],[\"3258\"],[\"1927\"],[\"2317\"],[\"2318\"],[\"3079\"],[\"1064\"],[\"2322\"],[\"2772\"],[\"2773\"],[\"1519\"],[\"1923\"],[\"1921\"],[\"3020\"],[\"2335\"],[\"1919\"],[\"2342\"],[\"2345\"],[\"2346\"],[\"1524\"],[\"1525\"],[\"2350\"],[\"1914\"],[\"2330\"],[\"3062\"],[\"2155\"],[\"2770\"],[\"3265\"],[\"1082\"],[\"1960\"],[\"1081\"],[\"1958\"],[\"2215\"],[\"1957\"],[\"2163\"],[\"2272\"],[\"2274\"],[\"1164\"],[\"2765\"],[\"1166\"],[\"1468\"],[\"2137\"],[\"1942\"],[\"1167\"],[\"1935\"],[\"2296\"],[\"2297\"],[\"1469\"],[\"1170\"],[\"1931\"],[\"2303\"],[\"2768\"],[\"1517\"],[\"3385\"],[\"1944\"],[\"2259\"],[\"2031\"],[\"1060\"],[\"2285\"],[\"1190\"],[\"2797\"],[\"2239\"],[\"2406\"],[\"2198\"],[\"1454\"],[\"1453\"],[\"3403\"],[\"2411\"],[\"2412\"],[\"1452\"],[\"2293\"],[\"2415\"],[\"1195\"],[\"3400\"],[\"3399\"],[\"1451\"],[\"1044\"],[\"2425\"],[\"2806\"],[\"3395\"],[\"3394\"],[\"1448\"],[\"2810\"],[\"1041\"],[\"2416\"],[\"2003\"],[\"1051\"],[\"1189\"],[\"2530\"],[\"3435\"],[\"2361\"],[\"2783\"],[\"2784\"],[\"2365\"],[\"2366\"],[\"2367\"],[\"2785\"],[\"1179\"],[\"2371\"],[\"1180\"],[\"2397\"],[\"2787\"],[\"1460\"],[\"2379\"],[\"1054\"],[\"2385\"],[\"3422\"],[\"2387\"],[\"1458\"],[\"2390\"],[\"1188\"],[\"3416\"],[\"2393\"],[\"3415\"],[\"1183\"],[\"2432\"],[\"2258\"],[\"2758\"],[\"1122\"],[\"2675\"],[\"1485\"],[\"1120\"],[\"2035\"],[\"1142\"],[\"2673\"],[\"2126\"],[\"2129\"],[\"1118\"],[\"2029\"],[\"2672\"],[\"2720\"],[\"2025\"],[\"1504\"],[\"2021\"],[\"2145\"],[\"1116\"],[\"2147\"],[\"1115\"],[\"1482\"],[\"2156\"],[\"1114\"],[\"2159\"],[\"1113\"],[\"2728\"],[\"2022\"],[\"1112\"],[\"2110\"],[\"2107\"],[\"2708\"],[\"2075\"],[\"2705\"],[\"2061\"],[\"2711\"],[\"1131\"],[\"1496\"],[\"1497\"],[\"2085\"],[\"2690\"],[\"2712\"],[\"2057\"],[\"2718\"],[\"2713\"],[\"2092\"],[\"2715\"],[\"1500\"],[\"1136\"],[\"2684\"],[\"2097\"],[\"1137\"],[\"2049\"],[\"1503\"],[\"2717\"],[\"2681\"],[\"2680\"],[\"2091\"],[\"2761\"],[\"2731\"],[\"2011\"],[\"1987\"],[\"2214\"],[\"2609\"],[\"1513\"],[\"2221\"],[\"2222\"],[\"2226\"],[\"1092\"],[\"2228\"],[\"2749\"],[\"1981\"],[\"2231\"],[\"1512\"],[\"2544\"],[\"2234\"],[\"2519\"],[\"2236\"],[\"2751\"],[\"1975\"],[\"2242\"],[\"1514\"],[\"2753\"],[\"2389\"],[\"2756\"],[\"1968\"],[\"2355\"],[\"1980\"],[\"2668\"],[\"2211\"],[\"2209\"],[\"2665\"],[\"1109\"],[\"1108\"],[\"2006\"],[\"2173\"],[\"2739\"],[\"1106\"],[\"1507\"],[\"2662\"],[\"2000\"],[\"1508\"],[\"1999\"],[\"1511\"],[\"1102\"],[\"2743\"],[\"2192\"],[\"3111\"],[\"3097\"],[\"1099\"],[\"2745\"],[\"2202\"],[\"3355\"],[\"1097\"],[\"1473\"],[\"1155\"],[\"2999\"],[\"2741\"],[\"3521\"],[\"1529\"],[\"2435\"],[\"2645\"],[\"1407\"],[\"2648\"],[\"1578\"],[\"2896\"],[\"2652\"],[\"1582\"],[\"1245\"],[\"975\"],[\"2657\"],[\"2658\"],[\"2659\"],[\"2644\"],[\"3303\"],[\"1587\"],[\"3442\"],[\"971\"],[\"3301\"],[\"969\"],[\"968\"],[\"1246\"],[\"3448\"],[\"3449\"],[\"1406\"],[\"1593\"],[\"1595\"],[\"2897\"],[\"963\"],[\"1408\"],[\"2887\"],[\"1229\"],[\"1567\"],[\"3327\"],[\"2610\"],[\"2871\"],[\"2612\"],[\"2613\"],[\"984\"],[\"1232\"],[\"1568\"],[\"2874\"],[\"2620\"],[\"2639\"],[\"1569\"],[\"2875\"],[\"1415\"],[\"3316\"],[\"2626\"],[\"2627\"],[\"2628\"],[\"1236\"],[\"1572\"],[\"2881\"],[\"2633\"],[\"3313\"],[\"2637\"],[\"981\"],[\"1565\"],[\"3455\"],[\"3298\"],[\"834\"],[\"936\"],[\"2914\"],[\"830\"],[\"829\"],[\"3275\"],[\"827\"],[\"930\"],[\"3272\"],[\"1257\"],[\"824\"],[\"823\"],[\"938\"],[\"1258\"],[\"1624\"],[\"922\"],[\"820\"],[\"819\"],[\"919\"],[\"1626\"],[\"1259\"],[\"3514\"],[\"815\"],[\"915\"],[\"3518\"],[\"1260\"],[\"924\"],[\"962\"],[\"3488\"],[\"1616\"],[\"1601\"],[\"3460\"],[\"959\"],[\"856\"],[\"853\"],[\"3464\"],[\"1405\"],[\"1606\"],[\"954\"],[\"3468\"],[\"3469\"],[\"849\"],[\"3486\"],[\"847\"],[\"1404\"],[\"3288\"],[\"3475\"],[\"948\"],[\"3287\"],[\"3285\"],[\"842\"],[\"944\"],[\"2907\"],[\"840\"],[\"941\"],[\"2908\"],[\"3296\"],[\"3391\"],[\"2865\"],[\"1225\"],[\"2480\"],[\"3001\"],[\"2823\"],[\"1438\"],[\"2892\"],[\"1437\"],[\"2775\"],[\"3377\"],[\"2488\"],[\"2829\"],[\"1020\"],[\"1436\"],[\"2479\"],[\"1019\"],[\"1018\"],[\"3962\"],[\"1435\"],[\"3886\"],[\"3877\"],[\"3369\"],[\"2832\"],[\"1015\"],[\"3365\"],[\"3750\"],[\"1012\"],[\"2518\"],[\"1210\"],[\"3364\"],[\"3381\"],[\"2476\"],[\"3011\"],[\"2976\"],[\"1039\"],[\"1532\"],[\"1037\"],[\"1036\"],[\"3034\"],[\"1446\"],[\"2448\"],[\"2449\"],[\"1533\"],[\"2813\"],[\"3100\"],[\"3412\"],[\"1534\"],[\"2815\"],[\"3331\"],[\"3384\"],[\"3304\"],[\"1444\"],[\"3295\"],[\"1440\"],[\"3168\"],[\"3162\"],[\"2473\"],[\"1025\"],[\"1201\"],[\"1226\"],[\"2835\"],[\"1010\"],[\"2844\"],[\"1555\"],[\"2846\"],[\"3721\"],[\"1429\"],[\"994\"],[\"3677\"],[\"3346\"],[\"3609\"],[\"2850\"],[\"2576\"],[\"992\"],[\"1553\"],[\"1428\"],[\"3501\"],[\"990\"],[\"989\"],[\"2585\"],[\"3341\"],[\"988\"],[\"2854\"],[\"3797\"],[\"1425\"],[\"3586\"],[\"3495\"],[\"3456\"],[\"3577\"],[\"1011\"],[\"2843\"],[\"1219\"],[\"1009\"],[\"2525\"],[\"2836\"],[\"3692\"],[\"3674\"],[\"3651\"],[\"1541\"],[\"1542\"],[\"3540\"],[\"3525\"],[\"1543\"],[\"1545\"],[\"1432\"],[\"2540\"],[\"3248\"],[\"1548\"],[\"1001\"],[\"2840\"],[\"1215\"],[\"1216\"],[\"1549\"],[\"1217\"],[\"2841\"],[\"1550\"],[\"2557\"],[\"3005\"],[\"3263\"],[\"2440\"]],\"hovertemplate\":\"Cluster=Cluster 5\\u003cbr\\u003e0=%{x}\\u003cbr\\u003e1=%{y}\\u003cbr\\u003e2=%{z}\\u003cbr\\u003eFeature=%{customdata[0]}\\u003cextra\\u003e\\u003c\\u002fextra\\u003e\",\"legendgroup\":\"Cluster 5\",\"marker\":{\"color\":\"#19d3f3\",\"opacity\":0.7,\"symbol\":\"circle\"},\"mode\":\"markers\",\"name\":\"Cluster 5\",\"scene\":\"scene\",\"showlegend\":true,\"x\":[35.05801,43.68906,26.069021,15.772443,15.987743,30.013117,14.561428,16.232204,15.772443,10.105015,24.02153,13.943023,31.178148,18.209274,41.0449,16.416111,20.856485,13.496339,-10.292537,19.197939,32.058407,4.5728936,20.599724,26.751488,19.64893,23.280323,10.712058,12.80837,42.79659,15.524202,15.627003,4.801701,25.755774,28.204115,6.615716,6.563092,38.798077,27.827562,23.345087,6.5034776,19.051376,9.355888,24.774311,4.4705505,31.788586,33.993465,23.415148,9.962853,31.396435,35.63072,39.277367,22.655268,16.76782,-11.671441,10.956363,11.4835825,31.303562,35.944363,30.473373,31.069414,16.158842,11.224157,-8.510477,4.5728936,17.11752,23.006123,29.006409,19.987768,12.816343,19.899279,26.204542,33.332108,8.135052,16.50675,29.49636,15.327718,14.682297,28.304089,15.987743,18.895721,23.628143,-10.373422,31.777887,24.803974,9.836072,23.610228,20.66754,-5.986519,19.564249,11.16765,18.85022,22.415995,13.5239525,16.556942,15.652951,19.374771,13.828701,16.116545,19.723475,16.099485,19.723475,16.759182,10.985357,28.367846,7.71503,29.887802,4.4705505,13.733611,-2.5615237,9.553727,-8.510477,23.51029,3.0424957,22.478998,16.314716,20.34114,27.164783,39.16028,10.630346,25.526047,21.606026,12.992043,34.202152,33.30855,29.029184,7.666381,35.625294,29.71387,16.01938,16.408752,18.560284,16.409067,12.42325,15.051702,21.981241,25.333794,31.156963,43.00527,37.46879,16.477598,15.177001,18.198912,18.582325,23.95604,38.631435,20.675766,-2.5989845,17.086857,38.16161,23.410583,22.838282,16.09043,20.148186,7.71503,25.608553,24.190908,26.758276,16.973455,15.772443,15.963542,-8.378215,6.957622,40.719578,31.412466,4.4705505,21.63843,16.316216,29.071705,32.315918,33.802567,15.480412,17.687315,25.725416,19.924965,20.95386,16.151451,30.689095,31.207987,8.021313,17.03949,0.5527168,25.252598,8.021313,-8.539877,31.95368,26.735634,-2.5989845,14.278914,7.086734,-5.4228745,-10.373422,2.9432187,36.345764,-6.058645,10.055098,-2.5989845,17.46357,-8.813423,19.564249,13.66226,30.721706,16.038303,12.737324,0.5526512,-10.285392,31.104599,-9.804467,21.286472,27.281288,16.484255,22.000471,39.438244,6.5274105,19.987768,35.29025,32.309174,-2.5989845,10.055098,-10.153413,6.7242894,20.021778,15.448426,16.823847,6.3028193,20.381847,20.647549,24.6422,16.10512,8.236889,13.943023,-5.670576,38.965446,18.923258,35.49261,19.653805,23.615923,10.179637,16.056925,30.692255,15.421599,40.922596,21.356915,16.55957,8.021313,7.086734,21.78114,32.00419,19.16333,10.286274,13.603803,6.5034776,21.001534,18.233053,15.480412,-2.8674889,16.525013,16.09043,6.1073127,15.480412,11.224157,6.563092,25.800936,9.470231,25.649765,-9.804467,25.178064,0.5527062,0.5527157,10.854884,16.158842,36.185184,25.193382,12.520261,17.552742,-5.670576,25.863804,17.827007,4.448947,7.055838,17.241898,-10.373422,18.495974,15.835174,24.815447,16.124254,30.858227,42.718662,26.713644,19.16333,10.105015,22.749186,36.74824,-6.058645,2.9210448,19.615183,28.331669,29.40473,16.556498,12.671052,-5.986519,10.525181,30.216206,-5.986519,6.217068,6.673064,7.019644,41.815777,24.324709,-8.813423,16.064419,-10.153413,23.465345,6.7242894,7.71503,8.236053,28.926048,27.383741,0.5526512,19.16333,36.254784,13.607381,28.960241,4.4705505,0.5527062,19.16333,10.630346,16.484255,35.058567,-2.5989845,4.8030887,3.0424957,26.960514,13.818049,9.028885,22.160515,26.540712,29.079212,32.698105,-8.510477,23.906765,10.630346,8.041565,23.770298,2.8364453,16.432293,13.888138,-2.5615237,4.8030887,-8.543379,12.691397,21.128742,-10.373422,29.340525,24.524668,36.678093,8.106126,33.255898,15.760211,8.106126,9.478616,17.927385,17.956871,6.3052077,28.47841,18.880352,6.0506697,16.76782,29.04726,22.567848,34.437134,19.325314,7.019644,-11.651925,34.441025,15.981872,2.953397,15.788205,30.175032,25.882528,15.841488,10.398674,20.790697,7.086734,16.451212,-10.620784,17.670479,16.50675,-10.373422,15.627003,13.285232,-11.671441,13.726028,10.055098,29.898493,14.780613,37.756157,19.565353,30.55809,11.890563,15.803216,8.425341,16.30593,21.18361,13.285232,18.185278,15.930425,11.03505,4.8540726,19.568304,15.976707,29.01438,16.432293,12.822029,20.108957,8.021313,0.5527062,4.4705505,21.906391,15.413857,18.501476,14.366987,30.336163,15.787782,19.256042,7.086734,30.56273,6.578875,29.334362,24.088057,22.725353,-5.4228745,28.198956,25.439077,26.824131,8.021313,16.314716,9.553727,38.368824,11.03505,-8.813423,-8.543343,-8.813423,35.124294,24.979588,-2.5989845,15.487965,27.685217,16.466326,20.908154,33.04093,28.560843,35.93397,15.007158,35.80874,18.724794,40.25541,28.501225,6.205869,9.532069,-11.671441,6.3028193,6.385861,13.542787,16.141562,22.189264,0.55265695,17.390015,42.209972,-8.813423,26.244345,35.49304,13.439778,10.630346,4.93079,8.67664,2.799163,16.124254,-5.986519,25.014372,32.82451,19.197939,31.153889,16.525013,25.765133,-9.804467,20.107391,-8.543343,15.772443,25.814566,24.69453,-5.670576,13.892706,2.7994583,25.48548,10.397484,-9.804467,16.153496,16.038221,12.992043,19.126162,10.20357,9.407094,13.496564,-10.373422,6.563092,16.366985,21.494999,-11.671441,20.114492,33.776756,32.92367,41.520435,33.576427,16.124254,-10.292537,34.357082,7.0474467,19.924965,16.249256,6.7242894,19.280157,29.380266,-10.373422,25.406828,19.256042,30.291927,15.442404,26.301098,0.5527168,33.851364,-6.157375,0.5527168,4.5728936,-5.986519,19.974075,29.203093,10.956363,24.994926,-5.986519,2.836204,16.143005,3.0804968,13.189649,38.00555,22.003778,-2.5989845,9.407094,14.800475,41.592583,26.410437,36.983658,14.243849,27.114876,6.673064,18.004873,34.104008,2.836204,-11.651925,12.992043,29.625896,13.285232,16.363783,24.329575,30.806807,7.0474467,13.607381,22.188375,17.69217,-6.121998,29.0678,6.673064,10.773968,13.66513,32.859528,13.943023,36.966656,5.7663836,16.056437,29.575914,-2.5989845,-10.153413,15.565982,6.673064,17.830954,8.425341,18.50726,0.55265695,19.469671,30.600924,25.455793,16.156433,13.358819,15.984017,8.275094,26.978426,15.835174,4.9297533,16.578083,22.720129,29.982992,-2.3275278,30.079634,39.891594,23.243198,25.757639,12.615565,16.277472,-11.671898,34.843796,6.563092,33.9061,9.478616,24.638056,7.0474467,34.981934,19.662004,13.285232,15.480412,28.952433,6.5034776,-2.5989845,6.494312,29.551405,26.880121,12.992043,30.435137,13.157455,37.94942,18.507269,12.944272,32.80653,17.565613,32.705627,11.03505,8.050851,28.073181,34.46758,7.055838,21.13883,34.90536,17.244232,17.494007,27.863565,36.44606,24.979345,15.434507,-2.2111583,13.607381,0.5527168,20.628305,14.24818,30.241337,16.314716,26.222029,29.752844,11.298976,3.273742,10.105015,16.432293,4.9297533,6.955217,19.31268,0.5527168,-5.643429,28.063646,22.8598,15.689497,33.531574,40.022686,27.71349,38.91814,30.411484,16.314716,36.417213,3.0803204,16.290882,13.726028,40.5019,17.911297,-10.292537,21.461504,-2.3275278,24.392166,6.0506697,25.169254,6.563092,3.273742,19.019192,38.315495,31.070719,27.216686,26.236362,22.701395,20.1469,21.085098,16.00105,4.8030887,4.4705505,9.656383,3.0803204,10.044081,-8.510477,22.30018,19.517206,-2.5989845,25.27636,-2.2111583,13.436301,21.45961,-9.9172,-11.651925,8.021313,29.28616,-2.8018177,30.803682,13.18157,27.815336,6.7242894,17.92217,9.355888,15.565982,-2.5989845,2.8013842,27.302626,-11.651925,29.046652,23.725449,0.55271673,13.726028,22.441483,15.772443,19.330645,16.099485,36.94127,15.524202,13.726028,34.022694,18.840574,19.434858,-2.3275278,22.316856,24.222126,15.803216,16.124254,18.723246,6.1654716,4.9297533,7.71503,15.136511,34.21151,7.6822085,31.154785,35.085636,16.124254,-6.122043,30.453865,13.454081,3.020703,16.835686,19.564249,23.257153,9.729819,16.069885,7.086734,6.385861,13.539825,10.055098,18.863626,36.575,15.475469,11.224157,42.043095,13.607379,7.086734,28.267836,9.470231,-5.643429,21.970467,33.68985,13.436301,3.273742,11.03505,-5.986519,-11.671441,-8.539874,33.37887,7.6822085,40.380753,16.838493,19.661955,29.57422,34.410297,25.520748,16.124254,10.055098,19.63787,39.730423,20.178555,16.877785,13.943023,31.249249,16.038221,6.7242894,18.456797,12.395781,15.984017,19.974075,10.712058,33.561665,6.3052077,33.81959,-5.643429,35.38196,12.2244625,16.407013,15.475453,29.896267,6.5034776,13.058665,22.073034,27.790754,13.257654,30.212168,28.381111,28.451714,21.028782,31.690525,-2.866923,31.13319,9.836072,0.5527168,19.974075,15.565625,28.134495,38.890957,26.779488,24.894707,34.31353,-8.510477,31.171703,34.377804,19.974075,17.266977,-11.671441,19.720263,16.043203,-11.671898,4.4705505,19.385574,-8.813423,30.781904,-5.986519,7.086734,18.93047,24.545338,16.556498,33.524384,18.602661,12.737324,15.772443,9.28677,-2.8891923,23.949522,7.629889,9.975941,34.177937,19.256042,29.312746,-11.671441,7.2026663,24.401836,21.195204,16.525013,39.72121,32.98506,20.452312,13.436301,23.779009,-10.317111,26.800362,12.929822,37.152725,18.517035,15.967914,13.867051,13.460686,-10.620784,9.312966,30.03861,-11.671441,37.676598,10.956363,26.808126,30.238577,41.538452,28.872208,16.428185,29.456503,28.441261,6.7242894,39.932316,30.724733,20.380814,13.607381,35.156258,28.634716,34.085545,6.5034776,32.20503,35.794827,15.652951,36.75629,9.478616,23.139978,6.2355933,18.116766,11.035197,-8.760041,4.448947,2.801394,21.625204,32.66797,-2.5989845,-10.153413,40.29911,37.065044,25.312336,21.733255,17.756994,20.773516,-5.986519,21.87469,26.632124,21.92584,7.055838,-5.643429,38.011444,33.05242,27.313566,19.995924,23.977835,6.3111973,26.285408,9.553727,15.627003,36.543335,23.381943,34.323135,7.019644,-11.671441,17.475441],\"y\":[25.191942,-0.9223412,4.613056,4.0452733,-5.676755,-23.304478,-3.1167912,-5.0228944,4.0452733,6.4988556,19.19019,-3.4025235,-15.973849,32.14658,10.851318,-16.717926,-20.644892,-3.3191264,-4.4401507,1.6667546,-7.12314,-5.8040824,-3.8615468,-18.047636,-30.723127,16.55965,-1.190118,-3.0789607,8.293881,-5.4862523,-5.171198,-1.7380801,-27.355593,-21.304352,0.81166774,1.8397042,4.81875,-1.3196268,8.440789,-9.332666,-21.79234,6.3379297,13.1500845,-5.387155,-4.9612107,-0.29357255,25.767162,5.8665824,4.7429147,20.222935,13.238953,4.050737,-5.200778,-1.4542371,-0.90270257,19.452099,4.5816264,-6.8975186,-8.691763,-6.662453,3.483824,-0.7596828,-6.6478076,-5.8040824,-7.0645075,26.417051,-3.9968235,1.9370472,-3.5241423,-4.4666433,-8.311415,26.82182,4.793911,-5.476313,8.061539,-18.523283,-11.815385,11.479848,-5.676755,9.933291,9.664867,-4.073346,-2.361883,23.896284,5.6956854,27.92882,26.716728,-6.675465,2.3807664,-1.1960136,7.492418,-10.746983,3.3415627,40.34674,3.979292,18.505825,22.753565,-0.14015098,1.8288727,3.7560756,1.8288727,2.7074187,-0.57964426,-25.966835,4.600805,17.348225,-5.387155,-10.57649,-4.64147,-9.98824,-6.6478076,9.704206,-3.3406842,18.232225,4.2044115,11.715422,27.086344,-1.5634048,-0.76905084,4.872477,19.68123,-3.6190143,22.610767,-3.6836617,22.231194,4.8559,-5.4652185,-27.72823,-26.607304,-31.85844,-32.275627,3.935933,-15.701597,-22.945208,-10.352932,9.628893,-9.138666,-4.536534,12.628403,-4.796666,-2.7144809,27.57183,-20.655622,-7.310985,-13.141416,6.7379317,-4.0961003,-23.375147,-16.957588,29.272377,-15.86479,-4.7654605,-13.344107,4.600805,8.031609,-0.42621565,-11.909564,30.539072,4.0452733,-9.84359,-6.5592103,-9.281642,-14.295731,8.20534,-5.387155,-21.020868,3.4913156,-13.681154,13.867056,-0.6929319,-5.7371907,-22.9371,23.305517,2.2989676,-12.423889,7.311824,-28.780775,-13.540366,5.134832,20.292131,-3.1411452,15.142573,5.134832,-6.279078,5.7343564,-4.190032,-4.0961003,-14.360547,1.2306935,-6.7091465,-4.073346,-3.8995678,-16.6432,-6.7564745,6.5357027,-4.0961003,2.3207765,-6.5899677,2.3807664,-3.2694302,-1.2385697,-5.2067657,-3.132846,-3.1405282,-4.5934434,6.326829,-4.242784,16.07251,1.2554511,3.6681564,-5.62902,15.15892,0.832556,1.9370472,-22.124489,16.548643,-4.0961003,6.5357027,-3.8774533,-8.691942,24.780071,9.591871,0.44187704,1.1872247,-24.956064,11.745628,-1.7801296,-19.328064,4.682101,-3.4025235,-6.7200136,-19.62532,-25.242348,19.66301,1.5566816,-14.503918,5.831316,-17.993216,-18.210829,-18.367422,-6.229213,14.237955,5.459559,5.134832,1.2306935,16.16358,13.16656,1.8195477,-9.579365,14.327737,-9.332666,-16.97685,-21.871902,-5.7371907,-4.02195,-4.804865,-4.7654605,-8.921503,-5.7371907,-0.7596828,1.8397042,-27.151869,6.6447873,16.419563,-4.242784,-3.084163,-3.140714,-3.141018,-1.2574662,3.483824,4.260462,-15.981927,-13.67286,-8.303449,-6.7200136,5.755483,36.31463,-5.6642995,1.680932,27.848782,-4.073346,-11.511143,-5.9238935,23.991693,-5.587772,-23.190908,3.1277862,15.208638,1.8195477,6.4988556,-28.240732,-1.368637,-6.7564745,-3.894147,2.0331826,-17.616047,-20.982624,-4.97796,-9.36618,-6.675465,6.339709,23.494535,-6.675465,-9.398823,-9.194143,1.0774232,-7.817748,-7.4553556,-6.5899677,-4.9990535,-3.8774533,35.680977,-8.691942,4.600805,4.669178,0.27787334,18.965525,-3.1405282,1.8195477,-5.050367,-3.544484,25.491077,-5.387155,-3.140714,1.8195477,-0.76905084,3.6681564,-3.6724772,-4.0961003,-5.781117,-3.3406842,20.039505,2.8320174,1.6434969,2.8489873,30.277458,4.6265492,7.4815993,-6.6478076,-10.775843,-0.76905084,4.8705716,0.7599427,-3.381144,-5.4420753,6.6001167,-4.64147,-5.781117,-6.2771025,-3.2417114,18.61785,-4.073346,17.139599,21.49815,11.183302,4.6316533,-19.249163,24.09256,4.6316533,6.19407,21.267809,5.228864,-8.785254,-23.004143,-14.721337,-8.972094,-5.200778,-12.159967,10.644815,7.7451353,-15.921926,1.0774232,-1.4608032,2.4631953,28.561554,-3.9004116,4.1889834,-14.801967,10.595095,0.75521016,6.1246924,-3.3612037,1.2306935,21.9638,-4.170383,-15.17401,-5.476313,-4.073346,-5.171198,-3.0874615,-1.4542371,-3.7978294,6.5357027,-2.2690547,-3.8569806,9.353264,12.430809,-18.696302,-1.060715,3.3539958,-15.468151,3.4839675,11.07237,-3.0874615,-4.5246253,-5.2012205,-1.0699817,-5.392555,25.062643,3.3782902,0.028156197,-5.4420753,-3.5333946,13.519023,5.134832,-3.140714,-5.387155,26.423925,18.54443,5.9418454,5.992341,-30.578419,-5.052941,2.2287242,1.2306935,-12.8948,0.8829151,24.057358,-18.138603,31.829357,-6.7091465,16.243584,-12.470639,-6.048788,5.134832,4.2044115,-9.98824,-8.333847,-1.0699817,-6.5899677,-6.2771564,-6.5899677,-13.320846,11.002321,-4.0961003,12.188734,10.246354,-12.156276,-14.086565,28.435219,21.15917,22.93307,25.19841,-6.0867357,0.3877703,-0.9574224,-10.222624,-9.39034,6.1017213,-1.4542371,1.1872247,1.4606832,32.39512,-7.053989,-2.675554,-3.1409063,-9.071338,7.4498734,-6.5899677,-9.544228,3.7062464,-3.0754173,-0.76905084,-5.4047723,-1.6896199,-3.8303385,-5.587772,-6.675465,20.215853,-9.153916,1.6667546,-14.450032,-4.804865,12.772563,-4.242784,-36.077095,-6.2771564,4.0452733,-6.68756,16.671843,-6.7200136,-16.268595,-3.6561062,21.180977,6.1439943,-4.242784,-14.780896,-5.2065363,-3.6190143,9.868436,5.819051,5.8384104,-3.3188038,-4.073346,1.8397042,7.6230745,2.9211264,-1.4542371,2.1055293,-14.089035,-4.002687,3.979748,-26.891163,-5.587772,-4.4401507,3.5945592,-14.839387,2.2989676,1.8170387,-8.691942,20.810837,3.7818594,-4.073346,-20.316208,2.2287242,19.584316,-25.77381,-13.14823,-3.1411452,-18.784096,-6.197154,-3.1411452,-5.8040824,-6.675465,1.5084019,13.96982,-0.90270257,22.110472,-6.675465,-3.38152,14.972689,-3.6747928,22.844107,14.565824,19.263195,-4.0961003,5.8384104,-8.018554,-5.082831,13.203472,-8.7648535,-22.4332,7.223349,-9.194143,-9.289997,-11.71198,-3.38152,-1.4608032,-3.6190143,0.2133574,-3.0874615,-5.322622,-6.495304,-2.6759074,-14.839387,-3.544484,-36.57541,21.470816,-6.2772837,-8.998877,-9.194143,-1.2541387,-3.2790492,9.472483,-3.4025235,10.777301,-6.2133884,-5.4957333,-8.93865,-4.0961003,-3.8774533,3.5648441,-9.194143,26.886225,-15.468151,15.623833,-3.1409063,16.925747,-8.428143,12.757943,-2.1489482,2.6905186,-5.0511417,-12.748377,-4.772929,-5.9238935,-5.404226,17.042616,-1.8753476,12.752588,-3.999161,1.0118037,-11.038437,-22.572184,-15.255601,-11.606505,-26.46378,-1.4542454,-0.88991725,1.8397042,-22.414394,6.19407,4.169192,-14.839387,0.5082702,-0.76540357,-3.0874615,-5.7371907,-2.2196198,-9.332666,-4.0961003,1.5062717,-31.197794,8.088522,-3.6190143,12.622936,-3.0690918,-8.618724,0.8255121,-2.9104548,-8.18008,32.019146,18.625664,-1.0699817,4.6413045,-17.71192,9.151318,1.680932,-16.635445,-24.957401,2.0254223,0.7302193,8.043695,-11.842575,-20.90698,10.850146,-4.472955,-3.544484,-3.1411452,18.312382,-17.716972,-11.941101,4.2044115,-18.469816,-3.7018454,-5.535817,-3.5668805,6.4988556,-5.4420753,-5.404226,-9.286023,30.520676,-3.1411452,-6.1749883,30.779354,22.675957,16.398203,19.556879,5.3800592,-24.395475,-0.27474034,25.845564,4.2044115,-9.68372,-3.6746962,-22.21021,-3.7978294,-2.075013,-29.642565,-4.4401507,16.342016,-3.999161,-27.548565,-8.972094,-2.9558084,1.8397042,-3.5668805,-18.550964,-2.1924136,14.592249,19.230167,-12.22637,8.939068,25.335352,-29.190449,11.5040865,-5.781117,-5.387155,5.830186,-3.6746962,5.8068786,-6.6478076,-8.077725,-0.79584056,-4.0961003,-16.531834,-4.472955,-3.5650663,5.06392,-3.8146138,-1.4608032,5.134832,2.6998987,-3.884232,-26.840227,-2.9419563,-19.21816,-8.691942,-8.600576,6.3379297,3.5648441,-4.0961003,-3.6687787,19.207462,-1.4608032,8.861591,-12.38095,-3.1411438,-3.7978294,-17.498735,4.0452733,-4.007059,3.7560756,2.8243232,-5.4862523,-3.7978294,-11.554785,14.896886,1.3437892,-3.999161,16.841314,-34.002075,3.3539958,-5.587772,6.0530863,-8.860426,-5.404226,4.600805,22.816435,-14.156895,4.9954576,3.893075,-25.204176,-5.587772,-6.27718,-15.279338,-3.6052413,-3.3588834,-4.290616,2.3807664,12.984599,6.731916,25.98863,1.2306935,1.4606832,-3.273437,6.5357027,21.988129,7.416974,-5.311428,-0.7596828,1.910482,-3.544364,1.2306935,11.667816,6.6447873,-6.1749883,28.82263,21.335518,-3.5650663,-3.5668805,-1.0699817,-6.675465,-1.4542371,-6.2790728,16.452433,4.9954576,8.581133,-3.6790092,7.4757347,18.717968,-7.1864552,5.827756,-5.587772,6.5357027,1.5395656,17.124266,21.04562,-5.91912,-3.4025235,-5.233801,-5.2065363,-8.691942,9.47044,14.668573,-5.0511417,1.5084019,-1.190118,14.5780525,-8.785254,15.188686,-6.1749883,5.1622515,14.982064,10.889786,20.01486,24.541594,-9.332666,-3.6462972,34.645798,9.328983,-3.660318,21.549625,-19.366867,-14.302951,11.524072,-1.0854174,-4.417789,-23.095728,5.6956854,-3.1411452,1.5084019,-18.250414,-25.357044,-11.795094,7.787407,-12.254446,-13.267347,-6.6478076,12.386139,8.696342,1.5084019,38.006218,-1.4542371,14.256144,-5.429748,-1.4542454,-5.387155,1.3500636,-6.5899677,18.085302,-6.675465,1.2306935,7.6200256,14.574699,-4.97796,-13.657841,-16.290112,-3.132846,4.0452733,-3.7265677,-4.3663435,-12.581114,4.879477,6.0175877,-18.56034,2.2287242,26.326712,-1.4542371,1.7894652,-23.507505,-19.683268,-4.804865,10.934235,11.431599,12.48066,-3.5650663,0.92083687,-4.5902796,-7.89165,-13.310571,5.864446,-24.03054,-5.352017,-18.302046,-3.5979195,-4.170383,1.1778935,7.0971107,-1.4542371,-1.1411443,-0.90270257,12.283746,2.9932256,-13.43771,-10.785803,16.754862,0.9224645,1.3692676,-8.691942,2.9119134,-18.030294,-25.724417,-3.544484,1.9214725,7.5282087,3.1522143,-9.332666,-6.6764116,13.887461,3.979292,16.657091,6.19407,-20.870523,1.2708597,-7.0020695,-0.6688969,-6.396447,-5.6642995,-3.6682491,4.3652663,-21.226671,-4.0961003,-3.8774533,-5.993725,-17.96308,-0.43897936,-5.9302516,-2.0543087,-0.29520836,-6.675465,-2.975201,-23.38517,-4.081728,1.680932,-6.1749883,19.694246,2.6459682,-3.6234024,2.0875106,-1.2983265,1.1981359,4.328206,-9.98824,-5.171198,-18.900537,8.37253,10.525673,1.0774232,-1.4542371,-23.501144],\"z\":[-6.7838926,-3.9615002,4.355229,-7.3587584,8.4066515,-4.7419295,-17.751421,2.966717,-7.3587584,-8.950277,-4.42581,0.9078851,4.6723733,1.0219592,1.8800254,-34.11472,12.89939,11.851515,10.294699,-2.593265,-7.242741,12.2454,37.128963,4.7069077,0.41379845,2.6846356,0.7524951,11.357125,-3.718851,8.36136,7.780902,6.862585,-7.6504636,0.4319897,-0.14075759,0.13841496,-0.95474905,-32.64421,-13.483395,10.746809,8.311948,-8.266972,5.624946,11.872279,26.180052,-8.955356,18.001354,-8.108033,-29.902494,-11.196128,7.879578,24.743046,3.3222592,10.604514,0.53790635,-12.985443,22.052593,-0.49786982,-18.354925,17.336386,-7.3166714,0.81656796,12.805234,12.2454,-13.88258,2.1105766,-22.005167,-2.6688635,11.351494,22.855927,-6.261256,6.286733,-4.1205564,3.6189592,18.316366,7.1441755,-13.631066,-10.706808,8.4066515,0.011938748,1.0199014,10.928814,7.438491,-2.159623,-8.789417,-8.221817,27.631157,15.863196,-2.004435,0.7917846,27.193426,15.5506,21.315931,1.3566675,-8.05771,-32.931442,-8.367671,17.297031,-1.6945009,-8.207551,-1.6945009,27.346481,0.9711589,20.87011,-3.91043,-25.772455,11.872279,-19.618565,16.838436,17.888823,12.805234,11.388789,14.425837,7.166703,-7.836318,14.6533165,6.302761,0.20135793,0.96472424,15.349778,11.846256,11.914899,11.256887,-3.4553635,-21.823624,-3.5371807,-10.995759,0.55204487,6.6650906,-4.8477545,11.714783,-7.3405004,11.587954,-7.1216846,-2.847002,-33.5102,22.52002,4.002639,19.078741,3.6429484,-13.291228,4.1567464,2.8880014,-11.065912,-0.91283625,15.505175,16.453547,-23.467777,9.690901,-2.3791409,-4.228895,3.4797323,0.19866495,-3.91043,-19.352068,-13.026349,-2.6730022,12.817717,-7.3587584,-25.223125,12.929396,10.417536,-6.434593,-20.032894,11.872279,-23.499935,-7.952535,-12.817474,-14.873648,-23.836384,7.848681,15.892735,-7.444687,-2.4514277,24.00699,39.190582,-10.7420845,18.39147,-3.727481,-28.031702,16.05168,-1.6158198,-3.727481,13.035719,28.554075,-16.778524,16.453547,-23.470438,0.29747292,15.598923,10.928814,14.326541,4.072457,15.240865,-8.19496,16.453547,12.380579,13.083298,-2.004435,1.0546907,31.392164,8.272666,11.798211,16.044922,10.671704,6.6960464,10.625026,-26.159197,-9.908578,-7.553594,-15.1747265,-6.5187535,-0.043479495,-2.6688635,8.869701,22.542809,16.453547,-8.19496,10.301563,10.514902,-11.429281,-20.63471,39.44614,0.26712015,-1.3841475,-4.03677,-23.477398,27.986738,-3.9495277,0.9078851,15.233835,-0.41517234,26.41184,-4.4216695,-2.7215767,33.210926,-8.794614,-20.582872,-8.946887,17.914564,-14.017112,9.943284,17.813171,-3.727481,0.29747292,-8.117134,17.428535,-1.9443136,5.7476473,-19.65797,10.746809,-19.835348,-18.221367,7.848681,17.051662,3.1732264,3.4797323,10.195365,7.848681,0.81656796,0.13841496,14.247795,-8.604671,23.086584,10.625026,10.718473,16.051704,16.051643,0.75288075,-7.3166714,-11.109811,0.10095499,15.670662,33.446285,15.233835,-10.459766,-3.0388033,12.300046,-0.4196383,17.859953,10.928814,-21.01251,8.225228,24.103443,7.7768345,15.891988,2.7619598,-7.126462,-1.9443136,-8.950277,-12.059681,10.885893,15.240865,14.343841,-2.8061702,-4.1121564,9.191806,3.730705,13.969262,15.863196,17.601786,-11.721265,15.863196,10.225687,9.996137,-0.46962905,-1.6958122,-20.306267,13.083298,3.0524714,10.301563,-1.1163349,10.514902,-3.91043,-3.9331918,-26.626383,1.9418892,16.044922,-1.9443136,21.807112,0.62298113,11.697898,11.872279,16.051704,-1.9443136,0.96472424,-7.553594,15.854047,16.453547,11.833742,14.425837,10.900529,10.229143,16.840523,6.561586,13.466034,0.68165374,-3.7706883,12.805234,2.559318,0.96472424,-4.1733727,-28.33763,14.151149,3.0874994,25.294588,16.838436,11.833742,13.03454,11.43962,25.36534,10.928814,-12.109021,-27.058315,-19.339354,-3.5712888,-1.9551624,13.39153,-3.5712888,-8.974499,-3.5700617,7.688507,10.048033,-10.390929,-12.117163,10.486353,3.3222592,13.370086,-8.822646,15.894312,-24.874134,-0.46962905,10.402565,5.1997848,23.439447,14.327734,-8.026802,-0.12515596,15.561078,-34.175327,-8.617812,-10.656113,0.29747292,0.93589395,10.391844,4.7058296,3.6189592,10.928814,7.780902,11.307398,10.604514,0.98506457,-8.19496,-7.49857,19.81911,-8.022151,5.727604,-15.95523,17.815037,-7.562594,8.716656,-7.954037,-19.213127,11.307398,16.293715,3.1842256,1.2026933,12.268752,-30.434933,-7.9641595,25.039734,3.0874994,11.352682,26.228825,-3.727481,16.051704,11.872279,-24.402485,21.647877,-32.738686,-17.249243,-4.5551143,8.049188,-2.5324028,0.29747292,-28.032879,-0.2944311,1.4931843,9.205705,3.8403003,15.598923,7.313478,27.923378,2.2768288,-3.727481,-7.836318,17.888823,4.330854,1.2026933,13.083298,13.034116,13.083298,13.867998,-3.8225477,16.453547,16.294325,8.758624,12.947722,19.20298,-0.56864345,20.958397,1.0369049,-13.361147,8.486034,-29.605942,-11.05701,-23.261847,10.22671,-8.077112,10.604514,0.26712015,-0.46539417,-0.9771741,26.615427,-33.936726,16.044851,22.33244,7.2666264,13.083298,-15.6785965,-5.561334,11.805828,0.96472424,12.155228,8.2375,14.380732,7.7768345,15.863196,-11.272821,-13.284128,-2.593265,25.406996,3.1732264,-22.352507,10.625026,-13.131806,13.034116,-7.3587584,-26.269903,-31.308674,15.233835,-9.6699505,14.046545,15.88304,-8.642917,10.625026,31.391844,8.272472,11.914899,19.161047,-8.364247,-8.53783,11.852287,10.928814,0.13841496,-26.216751,18.736488,10.604514,-2.1121593,-3.9370592,-18.128187,-7.92997,5.3706317,7.7768345,10.294699,-18.247427,14.277773,-2.4514277,-25.00078,10.514902,-23.120565,-6.3400245,10.928814,-18.75337,-2.5324028,-7.5090694,12.204416,6.810475,16.05168,13.737849,15.508744,16.05168,12.2454,15.863196,-2.1540072,1.5126157,0.53790635,4.9124074,15.863196,14.150815,36.435417,14.570071,-3.45457,-13.143112,20.041185,16.453547,-8.53783,18.033657,10.432749,-16.94942,-17.912146,3.5802667,25.34149,9.996137,-5.472092,7.6240745,14.150815,10.402565,11.914899,-16.48953,11.307398,3.782562,-1.414341,12.664159,14.277773,0.62298113,-2.6301408,8.813312,15.341534,8.00945,9.996137,1.0164117,1.0686024,1.094648,0.9078851,-2.6237378,4.8545566,3.4641042,30.237125,16.453547,10.301563,-7.8493223,9.996137,-0.97961557,8.716656,31.04928,16.044851,-2.751396,-1.8742384,27.57421,25.213547,14.935706,3.6571133,5.0119896,6.597827,8.225228,12.157334,17.01469,19.216816,12.509197,17.064089,-2.8392155,10.376249,-11.138441,17.350798,10.64102,1.1800508,10.604749,-14.297025,0.13841496,-12.581746,-8.974499,-23.125586,14.277773,25.821293,-15.018871,11.307398,7.848681,0.47756913,10.746809,16.453547,-0.53299046,6.8590336,32.60741,11.914899,-4.563288,12.002091,15.908919,22.233837,11.728142,12.194542,7.6613326,3.0446959,1.2026933,-3.5329027,13.40708,22.951445,-0.4196383,28.162138,-6.955306,-18.044544,33.066113,-1.8310077,21.034222,-6.18137,29.260952,16.846672,0.62298113,16.05168,-12.793199,22.520147,-6.968112,-7.836318,-12.950354,-12.680356,17.060926,14.174966,-8.950277,3.0874994,12.157334,10.41724,-10.748666,16.05168,15.572993,1.8782047,-19.763739,-24.591026,-17.26656,16.109135,5.2510123,5.899611,-16.92446,-7.836318,-5.733169,14.570139,-1.9182765,0.98506457,16.790813,-14.21358,10.294699,15.561316,17.064089,2.096385,10.486353,-8.220923,0.13841496,14.174966,23.368835,-19.841118,-20.418705,28.007116,22.081606,-24.493284,-5.1639495,-4.5314217,-15.722504,11.833742,11.872279,-8.175226,14.570139,-8.201191,12.805234,20.30774,14.392219,16.453547,-24.050781,16.846672,1.083962,11.220448,10.71226,10.402565,-3.727481,-21.148546,17.026505,11.283912,11.868715,27.160732,10.514902,15.009605,-8.266972,-7.8493223,16.453547,14.046842,-16.776617,10.402565,-15.175863,-20.953632,16.05168,0.98506457,-9.534576,-7.3587584,31.19438,-8.207551,20.728336,8.36136,0.98506457,1.7818172,21.019228,-2.118715,17.064089,-17.27912,10.246333,-7.562594,7.7768345,-21.669924,10.699897,12.157334,-3.91043,18.789383,-10.09886,-4.0606713,-12.862171,-0.702167,7.7768345,15.341677,9.542512,11.573162,14.460258,-32.333717,-2.004435,19.436993,-8.771425,-25.33991,0.29747292,-0.46539417,0.9721706,-8.19496,-16.186586,4.389679,8.242891,0.81656796,10.839759,0.62297904,0.29747292,22.015898,-8.604671,15.572993,8.539475,17.70684,1.083962,14.174966,1.2026933,15.863196,10.604514,13.035699,8.944252,-4.0606713,-13.550794,-26.23617,4.057393,-2.5775986,-23.703209,-29.348402,7.7768345,-8.19496,-2.7113657,0.10310712,-8.0980215,-8.976015,0.9078851,-28.533686,8.272472,10.514902,9.980397,-12.983533,3.6571133,-2.1540072,0.7524951,-8.612044,10.048033,-1.4748834,15.572993,-24.171934,13.19953,23.306152,-19.503965,-4.0015497,10.746809,11.31108,11.265295,3.2079387,11.368938,6.919494,20.368994,-19.06413,-29.436932,19.873302,16.986235,-19.992973,-8.789417,16.05168,-2.1540072,-14.479853,-15.631577,-12.003105,-6.559515,-28.79305,-22.199749,12.805234,27.650038,-14.11996,-2.1540072,11.044802,10.604514,1.0224913,3.5902848,10.604749,11.872279,-2.3010728,13.083298,14.022846,15.863196,0.29747292,-15.791648,-12.3454075,3.730705,-16.385124,9.960797,11.798211,-7.3587584,20.341957,17.001358,-11.957167,-3.5779972,-9.0719595,20.007915,-2.5324028,17.58885,10.604514,-0.084510475,10.362711,18.59667,3.1732264,13.33737,-25.801228,-13.977042,1.083962,12.858838,10.665757,-32.39637,6.6852837,9.99233,-12.745398,3.2146273,-5.3267236,11.576331,10.391844,12.720724,12.549765,10.604514,-4.9165926,0.53790635,-27.960033,16.169449,4.498151,2.9944232,-15.812414,3.6827915,10.430111,10.514902,-16.30951,-23.412268,4.4468265,0.62298113,15.185392,-24.844856,0.12472567,10.746809,4.112275,3.6135235,-8.05771,13.823948,-8.974499,-0.28720105,-0.25755563,-18.602886,1.1323851,12.732057,12.300046,14.04674,30.90091,3.5879853,16.453547,10.301563,-7.281639,-15.299064,5.903843,-6.0344133,-21.179634,28.001703,15.863196,-19.202866,-24.902798,-28.343395,-0.4196383,15.572993,6.6909676,10.244263,-3.584193,-1.8885689,24.21972,0.2916063,-15.258733,17.888823,7.780902,-7.1871123,6.418829,10.538672,-0.46962905,10.604514,21.019882],\"type\":\"scatter3d\"}],                        {\"template\":{\"data\":{\"histogram2dcontour\":[{\"type\":\"histogram2dcontour\",\"colorbar\":{\"outlinewidth\":0,\"ticks\":\"\"},\"colorscale\":[[0.0,\"#0d0887\"],[0.1111111111111111,\"#46039f\"],[0.2222222222222222,\"#7201a8\"],[0.3333333333333333,\"#9c179e\"],[0.4444444444444444,\"#bd3786\"],[0.5555555555555556,\"#d8576b\"],[0.6666666666666666,\"#ed7953\"],[0.7777777777777778,\"#fb9f3a\"],[0.8888888888888888,\"#fdca26\"],[1.0,\"#f0f921\"]]}],\"choropleth\":[{\"type\":\"choropleth\",\"colorbar\":{\"outlinewidth\":0,\"ticks\":\"\"}}],\"histogram2d\":[{\"type\":\"histogram2d\",\"colorbar\":{\"outlinewidth\":0,\"ticks\":\"\"},\"colorscale\":[[0.0,\"#0d0887\"],[0.1111111111111111,\"#46039f\"],[0.2222222222222222,\"#7201a8\"],[0.3333333333333333,\"#9c179e\"],[0.4444444444444444,\"#bd3786\"],[0.5555555555555556,\"#d8576b\"],[0.6666666666666666,\"#ed7953\"],[0.7777777777777778,\"#fb9f3a\"],[0.8888888888888888,\"#fdca26\"],[1.0,\"#f0f921\"]]}],\"heatmap\":[{\"type\":\"heatmap\",\"colorbar\":{\"outlinewidth\":0,\"ticks\":\"\"},\"colorscale\":[[0.0,\"#0d0887\"],[0.1111111111111111,\"#46039f\"],[0.2222222222222222,\"#7201a8\"],[0.3333333333333333,\"#9c179e\"],[0.4444444444444444,\"#bd3786\"],[0.5555555555555556,\"#d8576b\"],[0.6666666666666666,\"#ed7953\"],[0.7777777777777778,\"#fb9f3a\"],[0.8888888888888888,\"#fdca26\"],[1.0,\"#f0f921\"]]}],\"heatmapgl\":[{\"type\":\"heatmapgl\",\"colorbar\":{\"outlinewidth\":0,\"ticks\":\"\"},\"colorscale\":[[0.0,\"#0d0887\"],[0.1111111111111111,\"#46039f\"],[0.2222222222222222,\"#7201a8\"],[0.3333333333333333,\"#9c179e\"],[0.4444444444444444,\"#bd3786\"],[0.5555555555555556,\"#d8576b\"],[0.6666666666666666,\"#ed7953\"],[0.7777777777777778,\"#fb9f3a\"],[0.8888888888888888,\"#fdca26\"],[1.0,\"#f0f921\"]]}],\"contourcarpet\":[{\"type\":\"contourcarpet\",\"colorbar\":{\"outlinewidth\":0,\"ticks\":\"\"}}],\"contour\":[{\"type\":\"contour\",\"colorbar\":{\"outlinewidth\":0,\"ticks\":\"\"},\"colorscale\":[[0.0,\"#0d0887\"],[0.1111111111111111,\"#46039f\"],[0.2222222222222222,\"#7201a8\"],[0.3333333333333333,\"#9c179e\"],[0.4444444444444444,\"#bd3786\"],[0.5555555555555556,\"#d8576b\"],[0.6666666666666666,\"#ed7953\"],[0.7777777777777778,\"#fb9f3a\"],[0.8888888888888888,\"#fdca26\"],[1.0,\"#f0f921\"]]}],\"surface\":[{\"type\":\"surface\",\"colorbar\":{\"outlinewidth\":0,\"ticks\":\"\"},\"colorscale\":[[0.0,\"#0d0887\"],[0.1111111111111111,\"#46039f\"],[0.2222222222222222,\"#7201a8\"],[0.3333333333333333,\"#9c179e\"],[0.4444444444444444,\"#bd3786\"],[0.5555555555555556,\"#d8576b\"],[0.6666666666666666,\"#ed7953\"],[0.7777777777777778,\"#fb9f3a\"],[0.8888888888888888,\"#fdca26\"],[1.0,\"#f0f921\"]]}],\"mesh3d\":[{\"type\":\"mesh3d\",\"colorbar\":{\"outlinewidth\":0,\"ticks\":\"\"}}],\"scatter\":[{\"fillpattern\":{\"fillmode\":\"overlay\",\"size\":10,\"solidity\":0.2},\"type\":\"scatter\"}],\"parcoords\":[{\"type\":\"parcoords\",\"line\":{\"colorbar\":{\"outlinewidth\":0,\"ticks\":\"\"}}}],\"scatterpolargl\":[{\"type\":\"scatterpolargl\",\"marker\":{\"colorbar\":{\"outlinewidth\":0,\"ticks\":\"\"}}}],\"bar\":[{\"error_x\":{\"color\":\"#2a3f5f\"},\"error_y\":{\"color\":\"#2a3f5f\"},\"marker\":{\"line\":{\"color\":\"#E5ECF6\",\"width\":0.5},\"pattern\":{\"fillmode\":\"overlay\",\"size\":10,\"solidity\":0.2}},\"type\":\"bar\"}],\"scattergeo\":[{\"type\":\"scattergeo\",\"marker\":{\"colorbar\":{\"outlinewidth\":0,\"ticks\":\"\"}}}],\"scatterpolar\":[{\"type\":\"scatterpolar\",\"marker\":{\"colorbar\":{\"outlinewidth\":0,\"ticks\":\"\"}}}],\"histogram\":[{\"marker\":{\"pattern\":{\"fillmode\":\"overlay\",\"size\":10,\"solidity\":0.2}},\"type\":\"histogram\"}],\"scattergl\":[{\"type\":\"scattergl\",\"marker\":{\"colorbar\":{\"outlinewidth\":0,\"ticks\":\"\"}}}],\"scatter3d\":[{\"type\":\"scatter3d\",\"line\":{\"colorbar\":{\"outlinewidth\":0,\"ticks\":\"\"}},\"marker\":{\"colorbar\":{\"outlinewidth\":0,\"ticks\":\"\"}}}],\"scattermapbox\":[{\"type\":\"scattermapbox\",\"marker\":{\"colorbar\":{\"outlinewidth\":0,\"ticks\":\"\"}}}],\"scatterternary\":[{\"type\":\"scatterternary\",\"marker\":{\"colorbar\":{\"outlinewidth\":0,\"ticks\":\"\"}}}],\"scattercarpet\":[{\"type\":\"scattercarpet\",\"marker\":{\"colorbar\":{\"outlinewidth\":0,\"ticks\":\"\"}}}],\"carpet\":[{\"aaxis\":{\"endlinecolor\":\"#2a3f5f\",\"gridcolor\":\"white\",\"linecolor\":\"white\",\"minorgridcolor\":\"white\",\"startlinecolor\":\"#2a3f5f\"},\"baxis\":{\"endlinecolor\":\"#2a3f5f\",\"gridcolor\":\"white\",\"linecolor\":\"white\",\"minorgridcolor\":\"white\",\"startlinecolor\":\"#2a3f5f\"},\"type\":\"carpet\"}],\"table\":[{\"cells\":{\"fill\":{\"color\":\"#EBF0F8\"},\"line\":{\"color\":\"white\"}},\"header\":{\"fill\":{\"color\":\"#C8D4E3\"},\"line\":{\"color\":\"white\"}},\"type\":\"table\"}],\"barpolar\":[{\"marker\":{\"line\":{\"color\":\"#E5ECF6\",\"width\":0.5},\"pattern\":{\"fillmode\":\"overlay\",\"size\":10,\"solidity\":0.2}},\"type\":\"barpolar\"}],\"pie\":[{\"automargin\":true,\"type\":\"pie\"}]},\"layout\":{\"autotypenumbers\":\"strict\",\"colorway\":[\"#636efa\",\"#EF553B\",\"#00cc96\",\"#ab63fa\",\"#FFA15A\",\"#19d3f3\",\"#FF6692\",\"#B6E880\",\"#FF97FF\",\"#FECB52\"],\"font\":{\"color\":\"#2a3f5f\"},\"hovermode\":\"closest\",\"hoverlabel\":{\"align\":\"left\"},\"paper_bgcolor\":\"white\",\"plot_bgcolor\":\"#E5ECF6\",\"polar\":{\"bgcolor\":\"#E5ECF6\",\"angularaxis\":{\"gridcolor\":\"white\",\"linecolor\":\"white\",\"ticks\":\"\"},\"radialaxis\":{\"gridcolor\":\"white\",\"linecolor\":\"white\",\"ticks\":\"\"}},\"ternary\":{\"bgcolor\":\"#E5ECF6\",\"aaxis\":{\"gridcolor\":\"white\",\"linecolor\":\"white\",\"ticks\":\"\"},\"baxis\":{\"gridcolor\":\"white\",\"linecolor\":\"white\",\"ticks\":\"\"},\"caxis\":{\"gridcolor\":\"white\",\"linecolor\":\"white\",\"ticks\":\"\"}},\"coloraxis\":{\"colorbar\":{\"outlinewidth\":0,\"ticks\":\"\"}},\"colorscale\":{\"sequential\":[[0.0,\"#0d0887\"],[0.1111111111111111,\"#46039f\"],[0.2222222222222222,\"#7201a8\"],[0.3333333333333333,\"#9c179e\"],[0.4444444444444444,\"#bd3786\"],[0.5555555555555556,\"#d8576b\"],[0.6666666666666666,\"#ed7953\"],[0.7777777777777778,\"#fb9f3a\"],[0.8888888888888888,\"#fdca26\"],[1.0,\"#f0f921\"]],\"sequentialminus\":[[0.0,\"#0d0887\"],[0.1111111111111111,\"#46039f\"],[0.2222222222222222,\"#7201a8\"],[0.3333333333333333,\"#9c179e\"],[0.4444444444444444,\"#bd3786\"],[0.5555555555555556,\"#d8576b\"],[0.6666666666666666,\"#ed7953\"],[0.7777777777777778,\"#fb9f3a\"],[0.8888888888888888,\"#fdca26\"],[1.0,\"#f0f921\"]],\"diverging\":[[0,\"#8e0152\"],[0.1,\"#c51b7d\"],[0.2,\"#de77ae\"],[0.3,\"#f1b6da\"],[0.4,\"#fde0ef\"],[0.5,\"#f7f7f7\"],[0.6,\"#e6f5d0\"],[0.7,\"#b8e186\"],[0.8,\"#7fbc41\"],[0.9,\"#4d9221\"],[1,\"#276419\"]]},\"xaxis\":{\"gridcolor\":\"white\",\"linecolor\":\"white\",\"ticks\":\"\",\"title\":{\"standoff\":15},\"zerolinecolor\":\"white\",\"automargin\":true,\"zerolinewidth\":2},\"yaxis\":{\"gridcolor\":\"white\",\"linecolor\":\"white\",\"ticks\":\"\",\"title\":{\"standoff\":15},\"zerolinecolor\":\"white\",\"automargin\":true,\"zerolinewidth\":2},\"scene\":{\"xaxis\":{\"backgroundcolor\":\"#E5ECF6\",\"gridcolor\":\"white\",\"linecolor\":\"white\",\"showbackground\":true,\"ticks\":\"\",\"zerolinecolor\":\"white\",\"gridwidth\":2},\"yaxis\":{\"backgroundcolor\":\"#E5ECF6\",\"gridcolor\":\"white\",\"linecolor\":\"white\",\"showbackground\":true,\"ticks\":\"\",\"zerolinecolor\":\"white\",\"gridwidth\":2},\"zaxis\":{\"backgroundcolor\":\"#E5ECF6\",\"gridcolor\":\"white\",\"linecolor\":\"white\",\"showbackground\":true,\"ticks\":\"\",\"zerolinecolor\":\"white\",\"gridwidth\":2}},\"shapedefaults\":{\"line\":{\"color\":\"#2a3f5f\"}},\"annotationdefaults\":{\"arrowcolor\":\"#2a3f5f\",\"arrowhead\":0,\"arrowwidth\":1},\"geo\":{\"bgcolor\":\"white\",\"landcolor\":\"#E5ECF6\",\"subunitcolor\":\"white\",\"showland\":true,\"showlakes\":true,\"lakecolor\":\"white\"},\"title\":{\"x\":0.05},\"mapbox\":{\"style\":\"light\"}}},\"scene\":{\"domain\":{\"x\":[0.0,1.0],\"y\":[0.0,1.0]},\"xaxis\":{\"title\":{\"text\":\"0\"}},\"yaxis\":{\"title\":{\"text\":\"1\"}},\"zaxis\":{\"title\":{\"text\":\"2\"}}},\"legend\":{\"title\":{\"text\":\"Cluster\"},\"tracegroupgap\":0},\"title\":{\"text\":\"3d TSNE Plot for Clusters\"},\"height\":800,\"width\":900},                        {\"responsive\": true}                    ).then(function(){\n",
              "                            \n",
              "var gd = document.getElementById('4be2f910-5788-4937-b96e-5b3c0ab46b08');\n",
              "var x = new MutationObserver(function (mutations, observer) {{\n",
              "        var display = window.getComputedStyle(gd).display;\n",
              "        if (!display || display === 'none') {{\n",
              "            console.log([gd, 'removed!']);\n",
              "            Plotly.purge(gd);\n",
              "            observer.disconnect();\n",
              "        }}\n",
              "}});\n",
              "\n",
              "// Listen for the removal of the full notebook cells\n",
              "var notebookContainer = gd.closest('#notebook-container');\n",
              "if (notebookContainer) {{\n",
              "    x.observe(notebookContainer, {childList: true});\n",
              "}}\n",
              "\n",
              "// Listen for the clearing of the current output cell\n",
              "var outputEl = gd.closest('.output');\n",
              "if (outputEl) {{\n",
              "    x.observe(outputEl, {childList: true});\n",
              "}}\n",
              "\n",
              "                        })                };                            </script>        </div>\n",
              "</body>\n",
              "</html>"
            ]
          },
          "metadata": {}
        }
      ]
    },
    {
      "cell_type": "code",
      "source": [
        "dbs = create_model('dbscan')"
      ],
      "metadata": {
        "colab": {
          "base_uri": "https://localhost:8080/",
          "height": 81,
          "referenced_widgets": [
            "a50c33ba2fe84d93bec57bee4a28b957",
            "6618f9439d9c451a93d310f3974bfa33",
            "1fac338eb17a4dc2bd1771a174699202",
            "b3ff43e0d2a240ffbef6f85c4183bd89",
            "bce58435ca5a4866b4b6b1a9ef2ffff4",
            "0c574d42d00a47b08df3ca1da9f8d54c",
            "874c2db6615a4d60918e356a59132c4a",
            "7485e8d572c44c209d5603b2896a4709",
            "db35d743ae1e4db69ed7ac3946031c0d",
            "a48d0de3314c4c45aed47c903a18f681",
            "21a7bb28d10a406db3bca8c8f90a3e58"
          ]
        },
        "id": "VCIDI724TDs4",
        "outputId": "a43da7d3-ed72-408d-a977-16b68d04c623"
      },
      "execution_count": 17,
      "outputs": [
        {
          "output_type": "display_data",
          "data": {
            "text/plain": [
              "<IPython.core.display.HTML object>"
            ],
            "text/html": []
          },
          "metadata": {}
        },
        {
          "output_type": "display_data",
          "data": {
            "text/plain": [
              "<pandas.io.formats.style.Styler at 0x7e98bcb7c5b0>"
            ],
            "text/html": [
              "<style type=\"text/css\">\n",
              "</style>\n",
              "<table id=\"T_b6680\" class=\"dataframe\">\n",
              "  <thead>\n",
              "    <tr>\n",
              "      <th class=\"blank level0\" >&nbsp;</th>\n",
              "      <th id=\"T_b6680_level0_col0\" class=\"col_heading level0 col0\" >Silhouette</th>\n",
              "      <th id=\"T_b6680_level0_col1\" class=\"col_heading level0 col1\" >Calinski-Harabasz</th>\n",
              "      <th id=\"T_b6680_level0_col2\" class=\"col_heading level0 col2\" >Davies-Bouldin</th>\n",
              "      <th id=\"T_b6680_level0_col3\" class=\"col_heading level0 col3\" >Homogeneity</th>\n",
              "      <th id=\"T_b6680_level0_col4\" class=\"col_heading level0 col4\" >Rand Index</th>\n",
              "      <th id=\"T_b6680_level0_col5\" class=\"col_heading level0 col5\" >Completeness</th>\n",
              "    </tr>\n",
              "  </thead>\n",
              "  <tbody>\n",
              "    <tr>\n",
              "      <th id=\"T_b6680_level0_row0\" class=\"row_heading level0 row0\" >0</th>\n",
              "      <td id=\"T_b6680_row0_col0\" class=\"data row0 col0\" >0</td>\n",
              "      <td id=\"T_b6680_row0_col1\" class=\"data row0 col1\" >0</td>\n",
              "      <td id=\"T_b6680_row0_col2\" class=\"data row0 col2\" >0</td>\n",
              "      <td id=\"T_b6680_row0_col3\" class=\"data row0 col3\" >0</td>\n",
              "      <td id=\"T_b6680_row0_col4\" class=\"data row0 col4\" >0</td>\n",
              "      <td id=\"T_b6680_row0_col5\" class=\"data row0 col5\" >0</td>\n",
              "    </tr>\n",
              "  </tbody>\n",
              "</table>\n"
            ]
          },
          "metadata": {}
        },
        {
          "output_type": "display_data",
          "data": {
            "text/plain": [
              "Processing:   0%|          | 0/3 [00:00<?, ?it/s]"
            ],
            "application/vnd.jupyter.widget-view+json": {
              "version_major": 2,
              "version_minor": 0,
              "model_id": "a50c33ba2fe84d93bec57bee4a28b957"
            }
          },
          "metadata": {
            "application/vnd.jupyter.widget-view+json": {
              "colab": {
                "custom_widget_manager": {
                  "url": "https://ssl.gstatic.com/colaboratory-static/widgets/colab-cdn-widget-manager/2b70e893a8ba7c0f/manager.min.js"
                }
              }
            }
          }
        },
        {
          "output_type": "display_data",
          "data": {
            "text/plain": [
              "<IPython.core.display.HTML object>"
            ],
            "text/html": []
          },
          "metadata": {}
        }
      ]
    },
    {
      "cell_type": "code",
      "source": [
        "H = nx.DiGraph(nx_graph)\n",
        "list(H.edges())"
      ],
      "metadata": {
        "id": "qN9xT3yJpmji"
      },
      "execution_count": null,
      "outputs": []
    },
    {
      "cell_type": "code",
      "source": [
        "# plot graph\n",
        "plt.figure(figsize=(10,10))\n",
        "\n",
        "pos = nx.random_layout(nx.graph)\n",
        "nx.draw(nx.graph, with_labels=False,  pos = pos, node_size = 40, alpha = 0.6, width = 0.7)\n",
        "\n"
      ],
      "metadata": {
        "id": "sSp-gl1iTz4m"
      },
      "execution_count": null,
      "outputs": []
    },
    {
      "cell_type": "code",
      "source": [
        "sub_avgdeg = []\n",
        "import numpy as np\n",
        "for vertex in igraph_fb.vs:\n",
        "  # Get the neighbors of the vertex, order =2 limits the subgraph to\n",
        "  # 2 hop i.e, only immediate neighbors and their immediate\n",
        "  # neighbors for this node will be considered.\n",
        "  neighbors_within_2_hops = igraph_fb.neighborhood(vertex, order = 2)\n",
        "  subgraph = igraph_fb.subgraph(neighbors_within_2_hops)\n",
        "\n",
        "  sub_avgdeg.append(np.array(subgraph.degree()).mean())"
      ],
      "metadata": {
        "id": "3JgUI5Rpk8IG"
      },
      "execution_count": null,
      "outputs": []
    },
    {
      "cell_type": "code",
      "source": [
        "# prompt: print sub_avgdeg with all neighbors nodes and vertices\n",
        "\n",
        "for i, vertex in enumerate(igraph_fb.vs):\n",
        "  neighbors_within_2_hops = igraph_fb.neighborhood(vertex, order = 2)\n",
        "  subgraph = igraph_fb.subgraph(neighbors_within_2_hops)\n",
        "  print(\"Node:\", vertex.index, \"Average degree:\", np.array(subgraph.degree()).mean())\n"
      ],
      "metadata": {
        "id": "q-_lH1yjMG51"
      },
      "execution_count": null,
      "outputs": []
    },
    {
      "cell_type": "code",
      "source": [
        "# prompt: plot sub_avgdeg undirected graph\n",
        "\n",
        "# Plot the sub_avgdeg list as an undirected graph\n",
        "import matplotlib.pyplot as plt\n",
        "\n",
        "plt.plot(sub_avgdeg)\n",
        "plt.xlabel(\"Node\")\n",
        "plt.ylabel(\"Average degree of 2-hop neighbors\")\n",
        "plt.title(\"Subgraph Average Degree for 2-Hop Neighbors (Undirected)\")\n",
        "plt.show()\n"
      ],
      "metadata": {
        "colab": {
          "base_uri": "https://localhost:8080/",
          "height": 472
        },
        "id": "OrAroPpWZANC",
        "outputId": "83d3b9d0-83a4-4a59-ff30-011dd8bf5af2"
      },
      "execution_count": null,
      "outputs": [
        {
          "output_type": "display_data",
          "data": {
            "text/plain": [
              "<Figure size 640x480 with 1 Axes>"
            ],
            "image/png": "[encoded data removed]"
          },
          "metadata": {}
        }
      ]
    }
  ]
}