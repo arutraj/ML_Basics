{
  "nbformat": 4,
  "nbformat_minor": 0,
  "metadata": {
    "kernelspec": {
      "name": "python3",
      "display_name": "Python 3"
    },
    "language_info": {
      "codemirror_mode": {
        "name": "ipython",
        "version": 3
      },
      "file_extension": ".py",
      "mimetype": "text/x-python",
      "name": "python",
      "nbconvert_exporter": "python",
      "pygments_lexer": "ipython3",
      "version": "3.6.5"
    },
    "colab": {
      "provenance": [],
      "machine_shape": "hm",
      "gpuType": "T4",
      "include_colab_link": true
    },
    "accelerator": "GPU"
  },
  "cells": [
    {
      "cell_type": "markdown",
      "metadata": {
        "id": "view-in-github",
        "colab_type": "text"
      },
      "source": [
        "<a href=\"https://colab.research.google.com/github/arutraj/ML_Basics/blob/main/13_6_Gradient_Clipping_in_Keras.ipynb\" target=\"_parent\"><img src=\"https://colab.research.google.com/assets/colab-badge.svg\" alt=\"Open In Colab\"/></a>"
      ]
    },
    {
      "cell_type": "markdown",
      "metadata": {
        "id": "xR7hbyyfuG9N"
      },
      "source": [
        "# Gradient Clipping in Keras\n",
        "\n",
        "<ol>1. Loading the dataset</ol>\n",
        "<ol>2. Pre-processing the data</ol>\n",
        "<ol>3. Creating training and validation set</ol>\n",
        "<ol>4. Defining the model architecture</ol>\n",
        "<ol>5. Compiling the model</ol>\n",
        "<ol> <ol>* Define clipvalue while defining the optimizer</ol></ol>\n",
        "<ol>6. Training the model</ol>\n",
        "<ol>7. Evaluating model performance</ol>"
      ]
    },
    {
      "cell_type": "markdown",
      "metadata": {
        "id": "xq6rlm_puG9U"
      },
      "source": [
        "## 1. Loading the dataset"
      ]
    },
    {
      "cell_type": "code",
      "metadata": {
        "scrolled": true,
        "id": "XPYT-SDjuG9a"
      },
      "source": [
        "# import necessary libraries and functions\n",
        "import numpy as np\n",
        "import pandas as pd\n",
        "import matplotlib.pyplot as plt\n",
        "%matplotlib inline\n",
        "\n",
        "# importing layers from keras\n",
        "from keras.layers import Dense, InputLayer\n",
        "from keras.models import Sequential\n",
        "# importing adam optimizer from keras optimizer module\n",
        "from keras.optimizers import Adam\n",
        "\n",
        "# train_test_split to create training and validation set\n",
        "from sklearn.model_selection import train_test_split\n",
        "# accuracy_score to calculate the accuracy of predictions\n",
        "from sklearn.metrics import accuracy_score"
      ],
      "execution_count": 2,
      "outputs": []
    },
    {
      "cell_type": "code",
      "metadata": {
        "id": "-UaxENuHvEjb",
        "outputId": "4aebb1fe-a90b-466c-c52b-49db1f652510",
        "colab": {
          "base_uri": "https://localhost:8080/"
        }
      },
      "source": [
        "from google.colab import drive\n",
        "drive.mount('/content/drive')"
      ],
      "execution_count": 3,
      "outputs": [
        {
          "output_type": "stream",
          "name": "stdout",
          "text": [
            "Mounted at /content/drive\n"
          ]
        }
      ]
    },
    {
      "cell_type": "code",
      "metadata": {
        "id": "huxIDEqgvKZj",
        "outputId": "9e3a3e67-429e-4e4b-ec1f-9dfa27d3e2a5",
        "colab": {
          "base_uri": "https://localhost:8080/"
        },
        "collapsed": true
      },
      "source": [
        "!ls /content/drive/MyDrive/AnalyticsVidya/DeepLearning/images/*jpg |wc -l"
      ],
      "execution_count": 4,
      "outputs": [
        {
          "output_type": "stream",
          "name": "stdout",
          "text": [
            "2352\n"
          ]
        }
      ]
    },
    {
      "cell_type": "code",
      "metadata": {
        "id": "WZdipKFauG9t"
      },
      "source": [
        "# reading the csv file\n",
        "data = pd.read_csv('/content/emergency_classification.csv')"
      ],
      "execution_count": 6,
      "outputs": []
    },
    {
      "cell_type": "code",
      "metadata": {
        "id": "7pOqqh5GuG94"
      },
      "source": [
        "# create random number generator\n",
        "seed = 29\n",
        "rng = np.random.RandomState(seed)"
      ],
      "execution_count": 21,
      "outputs": []
    },
    {
      "cell_type": "code",
      "metadata": {
        "id": "AMZyTsx3uG-W"
      },
      "source": [
        "# load images and store it in numpy array\n",
        "\n",
        "# empty list to store the images\n",
        "X = []\n",
        "# iterating over each image\n",
        "for img_name in data.image_names:\n",
        "    # loading the image using its name\n",
        "    img = plt.imread('/content/drive/MyDrive/AnalyticsVidya/DeepLearning/images/' + img_name)\n",
        "    # saving each image in the list\n",
        "    X.append(img)\n",
        "\n",
        "# converting the list of images into array\n",
        "X=np.array(X)\n",
        "\n",
        "# storing the target variable in separate variable\n",
        "y = data.emergency_or_not.values"
      ],
      "execution_count": 8,
      "outputs": []
    },
    {
      "cell_type": "markdown",
      "metadata": {
        "id": "IYNJtBXLuG-x"
      },
      "source": [
        "## 2. Pre-processing the data"
      ]
    },
    {
      "cell_type": "code",
      "metadata": {
        "scrolled": true,
        "id": "JsEZNNE_uG-2",
        "outputId": "1b2232ea-e879-44fb-e5d2-dbd21faeeb54",
        "colab": {
          "base_uri": "https://localhost:8080/"
        }
      },
      "source": [
        "# converting 3 dimensional image to 1 dimensional image\n",
        "X = X.reshape(X.shape[0], 224*224*3)\n",
        "X.shape"
      ],
      "execution_count": 9,
      "outputs": [
        {
          "output_type": "execute_result",
          "data": {
            "text/plain": [
              "(2352, 150528)"
            ]
          },
          "metadata": {},
          "execution_count": 9
        }
      ]
    },
    {
      "cell_type": "code",
      "metadata": {
        "id": "wI3hNx3uuG_L",
        "outputId": "1cef357f-b572-432b-b5fb-639ac6b4893f",
        "colab": {
          "base_uri": "https://localhost:8080/"
        }
      },
      "source": [
        "# normalizing the pixel values\n",
        "X = X / X.max()\n",
        "\n",
        "# minimum and maximum pixel values of images after normalizing\n",
        "X.min(), X.max()"
      ],
      "execution_count": 10,
      "outputs": [
        {
          "output_type": "execute_result",
          "data": {
            "text/plain": [
              "(0.0, 1.0)"
            ]
          },
          "metadata": {},
          "execution_count": 10
        }
      ]
    },
    {
      "cell_type": "markdown",
      "metadata": {
        "id": "Scbo48PLuG_b"
      },
      "source": [
        "## 3. Creating training and validation set"
      ]
    },
    {
      "cell_type": "code",
      "metadata": {
        "id": "-UmSQzb1uG_d"
      },
      "source": [
        "# creating a training and validation set\n",
        "X_train, X_valid, y_train, y_valid=train_test_split(X,y,test_size=0.3, random_state=seed)"
      ],
      "execution_count": 22,
      "outputs": []
    },
    {
      "cell_type": "code",
      "metadata": {
        "id": "xTC-FgDjuG_k",
        "outputId": "8f99f962-8846-4ba8-e2e9-ba43832b477e",
        "colab": {
          "base_uri": "https://localhost:8080/"
        }
      },
      "source": [
        "# shape of training and validation set\n",
        "(X_train.shape, y_train.shape), (X_valid.shape, y_valid.shape)"
      ],
      "execution_count": 23,
      "outputs": [
        {
          "output_type": "execute_result",
          "data": {
            "text/plain": [
              "(((1646, 150528), (1646,)), ((706, 150528), (706,)))"
            ]
          },
          "metadata": {},
          "execution_count": 23
        }
      ]
    },
    {
      "cell_type": "markdown",
      "metadata": {
        "id": "vskdq-4huG_r"
      },
      "source": [
        "## 4. Defining the model architecture"
      ]
    },
    {
      "cell_type": "code",
      "metadata": {
        "id": "tLqmJg8PuHBs"
      },
      "source": [
        "# defining the model architecture with dropout layer\n",
        "model=Sequential()\n",
        "\n",
        "model.add(InputLayer(input_shape=(224*224*3,)))\n",
        "model.add(Dense(100, activation='sigmoid'))\n",
        "model.add(Dense(100, activation='sigmoid'))\n",
        "model.add(Dense(units=1, activation='sigmoid'))"
      ],
      "execution_count": 24,
      "outputs": []
    },
    {
      "cell_type": "markdown",
      "metadata": {
        "id": "FS__sDNVrjOs"
      },
      "source": [
        "## 5. Compiling the model"
      ]
    },
    {
      "cell_type": "code",
      "metadata": {
        "id": "BGovpAw_uHBp",
        "colab": {
          "base_uri": "https://localhost:8080/"
        },
        "outputId": "dd800eb1-b689-48ba-8200-176fd770baf4"
      },
      "source": [
        "# defining the adam optimizer and setting the learning rate as 10^-5 and adding clip value to clip the gradients\n",
        "adam = Adam(lr=1e-3, clipvalue=1)"
      ],
      "execution_count": 25,
      "outputs": [
        {
          "output_type": "stream",
          "name": "stderr",
          "text": [
            "WARNING:absl:`lr` is deprecated in Keras optimizer, please use `learning_rate` or use the legacy optimizer, e.g.,tf.keras.optimizers.legacy.Adam.\n"
          ]
        }
      ]
    },
    {
      "cell_type": "code",
      "metadata": {
        "id": "pcEUdq_Tri5x"
      },
      "source": [
        "# compiling the model\n",
        "\n",
        "# defining loss as binary crossentropy\n",
        "# defining optimizer as Adam\n",
        "# defining metrics as accuracy\n",
        "\n",
        "model.compile(loss='binary_crossentropy', optimizer=adam, metrics=['accuracy'])"
      ],
      "execution_count": 26,
      "outputs": []
    },
    {
      "cell_type": "markdown",
      "metadata": {
        "id": "UJ6D8X0JtD7f"
      },
      "source": [
        "## 6. Training the model"
      ]
    },
    {
      "cell_type": "code",
      "metadata": {
        "scrolled": false,
        "id": "KL7PHbMRuHBy",
        "outputId": "844dd3c5-cb0d-40b1-97e5-9a3542351aea",
        "colab": {
          "base_uri": "https://localhost:8080/"
        }
      },
      "source": [
        "# training the model for 100 epochs\n",
        "\n",
        "model_history = model.fit(X_train, y_train, epochs=100, batch_size=128,validation_data=(X_valid,y_valid))"
      ],
      "execution_count": 27,
      "outputs": [
        {
          "output_type": "stream",
          "name": "stdout",
          "text": [
            "Epoch 1/100\n",
            "13/13 [==============================] - 3s 165ms/step - loss: 0.7002 - accuracy: 0.5723 - val_loss: 0.6882 - val_accuracy: 0.5623\n",
            "Epoch 2/100\n",
            "13/13 [==============================] - 1s 51ms/step - loss: 0.6802 - accuracy: 0.5857 - val_loss: 0.6924 - val_accuracy: 0.5623\n",
            "Epoch 3/100\n",
            "13/13 [==============================] - 1s 54ms/step - loss: 0.6807 - accuracy: 0.5857 - val_loss: 0.6855 - val_accuracy: 0.5623\n",
            "Epoch 4/100\n",
            "13/13 [==============================] - 1s 54ms/step - loss: 0.6802 - accuracy: 0.5857 - val_loss: 0.6870 - val_accuracy: 0.5623\n",
            "Epoch 5/100\n",
            "13/13 [==============================] - 1s 55ms/step - loss: 0.6792 - accuracy: 0.5857 - val_loss: 0.6870 - val_accuracy: 0.5623\n",
            "Epoch 6/100\n",
            "13/13 [==============================] - 1s 55ms/step - loss: 0.6802 - accuracy: 0.5857 - val_loss: 0.6855 - val_accuracy: 0.5623\n",
            "Epoch 7/100\n",
            "13/13 [==============================] - 1s 53ms/step - loss: 0.6819 - accuracy: 0.5857 - val_loss: 0.6860 - val_accuracy: 0.5623\n",
            "Epoch 8/100\n",
            "13/13 [==============================] - 1s 54ms/step - loss: 0.6805 - accuracy: 0.5857 - val_loss: 0.6868 - val_accuracy: 0.5623\n",
            "Epoch 9/100\n",
            "13/13 [==============================] - 1s 54ms/step - loss: 0.6808 - accuracy: 0.5857 - val_loss: 0.6856 - val_accuracy: 0.5623\n",
            "Epoch 10/100\n",
            "13/13 [==============================] - 1s 53ms/step - loss: 0.6788 - accuracy: 0.5857 - val_loss: 0.6871 - val_accuracy: 0.5623\n",
            "Epoch 11/100\n",
            "13/13 [==============================] - 1s 54ms/step - loss: 0.6788 - accuracy: 0.5857 - val_loss: 0.6868 - val_accuracy: 0.5623\n",
            "Epoch 12/100\n",
            "13/13 [==============================] - 1s 54ms/step - loss: 0.6788 - accuracy: 0.5857 - val_loss: 0.6865 - val_accuracy: 0.5623\n",
            "Epoch 13/100\n",
            "13/13 [==============================] - 1s 54ms/step - loss: 0.6796 - accuracy: 0.5857 - val_loss: 0.6857 - val_accuracy: 0.5623\n",
            "Epoch 14/100\n",
            "13/13 [==============================] - 1s 54ms/step - loss: 0.6789 - accuracy: 0.5857 - val_loss: 0.6866 - val_accuracy: 0.5623\n",
            "Epoch 15/100\n",
            "13/13 [==============================] - 1s 53ms/step - loss: 0.6787 - accuracy: 0.5857 - val_loss: 0.6860 - val_accuracy: 0.5623\n",
            "Epoch 16/100\n",
            "13/13 [==============================] - 1s 54ms/step - loss: 0.6790 - accuracy: 0.5857 - val_loss: 0.6858 - val_accuracy: 0.5623\n",
            "Epoch 17/100\n",
            "13/13 [==============================] - 1s 54ms/step - loss: 0.6790 - accuracy: 0.5857 - val_loss: 0.6860 - val_accuracy: 0.5623\n",
            "Epoch 18/100\n",
            "13/13 [==============================] - 1s 54ms/step - loss: 0.6791 - accuracy: 0.5857 - val_loss: 0.6864 - val_accuracy: 0.5623\n",
            "Epoch 19/100\n",
            "13/13 [==============================] - 1s 53ms/step - loss: 0.6792 - accuracy: 0.5857 - val_loss: 0.6867 - val_accuracy: 0.5623\n",
            "Epoch 20/100\n",
            "13/13 [==============================] - 1s 53ms/step - loss: 0.6796 - accuracy: 0.5857 - val_loss: 0.6875 - val_accuracy: 0.5623\n",
            "Epoch 21/100\n",
            "13/13 [==============================] - 1s 53ms/step - loss: 0.6797 - accuracy: 0.5857 - val_loss: 0.6859 - val_accuracy: 0.5623\n",
            "Epoch 22/100\n",
            "13/13 [==============================] - 1s 53ms/step - loss: 0.6804 - accuracy: 0.5857 - val_loss: 0.6886 - val_accuracy: 0.5623\n",
            "Epoch 23/100\n",
            "13/13 [==============================] - 1s 53ms/step - loss: 0.6788 - accuracy: 0.5857 - val_loss: 0.6859 - val_accuracy: 0.5623\n",
            "Epoch 24/100\n",
            "13/13 [==============================] - 1s 54ms/step - loss: 0.6796 - accuracy: 0.5857 - val_loss: 0.6923 - val_accuracy: 0.5623\n",
            "Epoch 25/100\n",
            "13/13 [==============================] - 1s 55ms/step - loss: 0.6796 - accuracy: 0.5857 - val_loss: 0.6854 - val_accuracy: 0.5623\n",
            "Epoch 26/100\n",
            "13/13 [==============================] - 1s 54ms/step - loss: 0.6802 - accuracy: 0.5857 - val_loss: 0.6873 - val_accuracy: 0.5623\n",
            "Epoch 27/100\n",
            "13/13 [==============================] - 1s 53ms/step - loss: 0.6798 - accuracy: 0.5857 - val_loss: 0.6892 - val_accuracy: 0.5623\n",
            "Epoch 28/100\n",
            "13/13 [==============================] - 1s 53ms/step - loss: 0.6786 - accuracy: 0.5857 - val_loss: 0.6854 - val_accuracy: 0.5623\n",
            "Epoch 29/100\n",
            "13/13 [==============================] - 1s 52ms/step - loss: 0.6803 - accuracy: 0.5857 - val_loss: 0.6876 - val_accuracy: 0.5623\n",
            "Epoch 30/100\n",
            "13/13 [==============================] - 1s 53ms/step - loss: 0.6793 - accuracy: 0.5857 - val_loss: 0.6862 - val_accuracy: 0.5623\n",
            "Epoch 31/100\n",
            "13/13 [==============================] - 1s 52ms/step - loss: 0.6787 - accuracy: 0.5857 - val_loss: 0.6867 - val_accuracy: 0.5623\n",
            "Epoch 32/100\n",
            "13/13 [==============================] - 1s 54ms/step - loss: 0.6799 - accuracy: 0.5857 - val_loss: 0.6899 - val_accuracy: 0.5623\n",
            "Epoch 33/100\n",
            "13/13 [==============================] - 1s 52ms/step - loss: 0.6800 - accuracy: 0.5857 - val_loss: 0.6857 - val_accuracy: 0.5623\n",
            "Epoch 34/100\n",
            "13/13 [==============================] - 1s 53ms/step - loss: 0.6800 - accuracy: 0.5857 - val_loss: 0.6876 - val_accuracy: 0.5623\n",
            "Epoch 35/100\n",
            "13/13 [==============================] - 1s 52ms/step - loss: 0.6800 - accuracy: 0.5857 - val_loss: 0.6886 - val_accuracy: 0.5623\n",
            "Epoch 36/100\n",
            "13/13 [==============================] - 1s 54ms/step - loss: 0.6793 - accuracy: 0.5857 - val_loss: 0.6857 - val_accuracy: 0.5623\n",
            "Epoch 37/100\n",
            "13/13 [==============================] - 1s 53ms/step - loss: 0.6803 - accuracy: 0.5857 - val_loss: 0.6889 - val_accuracy: 0.5623\n",
            "Epoch 38/100\n",
            "13/13 [==============================] - 1s 53ms/step - loss: 0.6800 - accuracy: 0.5857 - val_loss: 0.6884 - val_accuracy: 0.5623\n",
            "Epoch 39/100\n",
            "13/13 [==============================] - 1s 54ms/step - loss: 0.6798 - accuracy: 0.5857 - val_loss: 0.6856 - val_accuracy: 0.5623\n",
            "Epoch 40/100\n",
            "13/13 [==============================] - 1s 53ms/step - loss: 0.6789 - accuracy: 0.5857 - val_loss: 0.6870 - val_accuracy: 0.5623\n",
            "Epoch 41/100\n",
            "13/13 [==============================] - 1s 53ms/step - loss: 0.6792 - accuracy: 0.5857 - val_loss: 0.6863 - val_accuracy: 0.5623\n",
            "Epoch 42/100\n",
            "13/13 [==============================] - 1s 55ms/step - loss: 0.6794 - accuracy: 0.5857 - val_loss: 0.6854 - val_accuracy: 0.5623\n",
            "Epoch 43/100\n",
            "13/13 [==============================] - 1s 55ms/step - loss: 0.6815 - accuracy: 0.5857 - val_loss: 0.6910 - val_accuracy: 0.5623\n",
            "Epoch 44/100\n",
            "13/13 [==============================] - 1s 55ms/step - loss: 0.6805 - accuracy: 0.5857 - val_loss: 0.6868 - val_accuracy: 0.5623\n",
            "Epoch 45/100\n",
            "13/13 [==============================] - 1s 55ms/step - loss: 0.6789 - accuracy: 0.5857 - val_loss: 0.6856 - val_accuracy: 0.5623\n",
            "Epoch 46/100\n",
            "13/13 [==============================] - 1s 53ms/step - loss: 0.6800 - accuracy: 0.5857 - val_loss: 0.6888 - val_accuracy: 0.5623\n",
            "Epoch 47/100\n",
            "13/13 [==============================] - 1s 53ms/step - loss: 0.6805 - accuracy: 0.5857 - val_loss: 0.6880 - val_accuracy: 0.5623\n",
            "Epoch 48/100\n",
            "13/13 [==============================] - 1s 54ms/step - loss: 0.6799 - accuracy: 0.5857 - val_loss: 0.6860 - val_accuracy: 0.5623\n",
            "Epoch 49/100\n",
            "13/13 [==============================] - 1s 53ms/step - loss: 0.6794 - accuracy: 0.5857 - val_loss: 0.6860 - val_accuracy: 0.5623\n",
            "Epoch 50/100\n",
            "13/13 [==============================] - 1s 53ms/step - loss: 0.6802 - accuracy: 0.5857 - val_loss: 0.6895 - val_accuracy: 0.5623\n",
            "Epoch 51/100\n",
            "13/13 [==============================] - 1s 54ms/step - loss: 0.6817 - accuracy: 0.5857 - val_loss: 0.6855 - val_accuracy: 0.5623\n",
            "Epoch 52/100\n",
            "13/13 [==============================] - 1s 54ms/step - loss: 0.6787 - accuracy: 0.5857 - val_loss: 0.6898 - val_accuracy: 0.5623\n",
            "Epoch 53/100\n",
            "13/13 [==============================] - 1s 52ms/step - loss: 0.6800 - accuracy: 0.5857 - val_loss: 0.6864 - val_accuracy: 0.5623\n",
            "Epoch 54/100\n",
            "13/13 [==============================] - 1s 53ms/step - loss: 0.6804 - accuracy: 0.5857 - val_loss: 0.6854 - val_accuracy: 0.5623\n",
            "Epoch 55/100\n",
            "13/13 [==============================] - 1s 52ms/step - loss: 0.6789 - accuracy: 0.5857 - val_loss: 0.6866 - val_accuracy: 0.5623\n",
            "Epoch 56/100\n",
            "13/13 [==============================] - 1s 53ms/step - loss: 0.6795 - accuracy: 0.5857 - val_loss: 0.6858 - val_accuracy: 0.5623\n",
            "Epoch 57/100\n",
            "13/13 [==============================] - 1s 53ms/step - loss: 0.6808 - accuracy: 0.5857 - val_loss: 0.6901 - val_accuracy: 0.5623\n",
            "Epoch 58/100\n",
            "13/13 [==============================] - 1s 54ms/step - loss: 0.6802 - accuracy: 0.5857 - val_loss: 0.6857 - val_accuracy: 0.5623\n",
            "Epoch 59/100\n",
            "13/13 [==============================] - 1s 52ms/step - loss: 0.6794 - accuracy: 0.5857 - val_loss: 0.6938 - val_accuracy: 0.5623\n",
            "Epoch 60/100\n",
            "13/13 [==============================] - 1s 55ms/step - loss: 0.6820 - accuracy: 0.5857 - val_loss: 0.6855 - val_accuracy: 0.5623\n",
            "Epoch 61/100\n",
            "13/13 [==============================] - 1s 55ms/step - loss: 0.6808 - accuracy: 0.5857 - val_loss: 0.6872 - val_accuracy: 0.5623\n",
            "Epoch 62/100\n",
            "13/13 [==============================] - 1s 54ms/step - loss: 0.6790 - accuracy: 0.5857 - val_loss: 0.6856 - val_accuracy: 0.5623\n",
            "Epoch 63/100\n",
            "13/13 [==============================] - 1s 55ms/step - loss: 0.6800 - accuracy: 0.5857 - val_loss: 0.6865 - val_accuracy: 0.5623\n",
            "Epoch 64/100\n",
            "13/13 [==============================] - 1s 55ms/step - loss: 0.6792 - accuracy: 0.5857 - val_loss: 0.6862 - val_accuracy: 0.5623\n",
            "Epoch 65/100\n",
            "13/13 [==============================] - 1s 53ms/step - loss: 0.6785 - accuracy: 0.5857 - val_loss: 0.6902 - val_accuracy: 0.5623\n",
            "Epoch 66/100\n",
            "13/13 [==============================] - 1s 55ms/step - loss: 0.6793 - accuracy: 0.5857 - val_loss: 0.6858 - val_accuracy: 0.5623\n",
            "Epoch 67/100\n",
            "13/13 [==============================] - 1s 54ms/step - loss: 0.6795 - accuracy: 0.5857 - val_loss: 0.6859 - val_accuracy: 0.5623\n",
            "Epoch 68/100\n",
            "13/13 [==============================] - 1s 55ms/step - loss: 0.6810 - accuracy: 0.5857 - val_loss: 0.6861 - val_accuracy: 0.5623\n",
            "Epoch 69/100\n",
            "13/13 [==============================] - 1s 54ms/step - loss: 0.6845 - accuracy: 0.5857 - val_loss: 0.6909 - val_accuracy: 0.5623\n",
            "Epoch 70/100\n",
            "13/13 [==============================] - 1s 55ms/step - loss: 0.6794 - accuracy: 0.5857 - val_loss: 0.6855 - val_accuracy: 0.5623\n",
            "Epoch 71/100\n",
            "13/13 [==============================] - 1s 53ms/step - loss: 0.6804 - accuracy: 0.5857 - val_loss: 0.6878 - val_accuracy: 0.5623\n",
            "Epoch 72/100\n",
            "13/13 [==============================] - 1s 52ms/step - loss: 0.6795 - accuracy: 0.5857 - val_loss: 0.6859 - val_accuracy: 0.5623\n",
            "Epoch 73/100\n",
            "13/13 [==============================] - 1s 54ms/step - loss: 0.6794 - accuracy: 0.5857 - val_loss: 0.6856 - val_accuracy: 0.5623\n",
            "Epoch 74/100\n",
            "13/13 [==============================] - 1s 54ms/step - loss: 0.6798 - accuracy: 0.5857 - val_loss: 0.6871 - val_accuracy: 0.5623\n",
            "Epoch 75/100\n",
            "13/13 [==============================] - 1s 54ms/step - loss: 0.6793 - accuracy: 0.5857 - val_loss: 0.6866 - val_accuracy: 0.5623\n",
            "Epoch 76/100\n",
            "13/13 [==============================] - 1s 52ms/step - loss: 0.6789 - accuracy: 0.5857 - val_loss: 0.6873 - val_accuracy: 0.5623\n",
            "Epoch 77/100\n",
            "13/13 [==============================] - 1s 53ms/step - loss: 0.6791 - accuracy: 0.5857 - val_loss: 0.6871 - val_accuracy: 0.5623\n",
            "Epoch 78/100\n",
            "13/13 [==============================] - 1s 53ms/step - loss: 0.6792 - accuracy: 0.5857 - val_loss: 0.6859 - val_accuracy: 0.5623\n",
            "Epoch 79/100\n",
            "13/13 [==============================] - 1s 55ms/step - loss: 0.6789 - accuracy: 0.5857 - val_loss: 0.6864 - val_accuracy: 0.5623\n",
            "Epoch 80/100\n",
            "13/13 [==============================] - 1s 54ms/step - loss: 0.6793 - accuracy: 0.5857 - val_loss: 0.6889 - val_accuracy: 0.5623\n",
            "Epoch 81/100\n",
            "13/13 [==============================] - 1s 54ms/step - loss: 0.6805 - accuracy: 0.5857 - val_loss: 0.6876 - val_accuracy: 0.5623\n",
            "Epoch 82/100\n",
            "13/13 [==============================] - 1s 56ms/step - loss: 0.6796 - accuracy: 0.5857 - val_loss: 0.6859 - val_accuracy: 0.5623\n",
            "Epoch 83/100\n",
            "13/13 [==============================] - 1s 54ms/step - loss: 0.6803 - accuracy: 0.5857 - val_loss: 0.6860 - val_accuracy: 0.5623\n",
            "Epoch 84/100\n",
            "13/13 [==============================] - 1s 54ms/step - loss: 0.6789 - accuracy: 0.5857 - val_loss: 0.6873 - val_accuracy: 0.5623\n",
            "Epoch 85/100\n",
            "13/13 [==============================] - 1s 53ms/step - loss: 0.6792 - accuracy: 0.5857 - val_loss: 0.6870 - val_accuracy: 0.5623\n",
            "Epoch 86/100\n",
            "13/13 [==============================] - 1s 53ms/step - loss: 0.6788 - accuracy: 0.5857 - val_loss: 0.6871 - val_accuracy: 0.5623\n",
            "Epoch 87/100\n",
            "13/13 [==============================] - 1s 52ms/step - loss: 0.6793 - accuracy: 0.5857 - val_loss: 0.6858 - val_accuracy: 0.5623\n",
            "Epoch 88/100\n",
            "13/13 [==============================] - 1s 53ms/step - loss: 0.6795 - accuracy: 0.5857 - val_loss: 0.6862 - val_accuracy: 0.5623\n",
            "Epoch 89/100\n",
            "13/13 [==============================] - 1s 53ms/step - loss: 0.6787 - accuracy: 0.5857 - val_loss: 0.6859 - val_accuracy: 0.5623\n",
            "Epoch 90/100\n",
            "13/13 [==============================] - 1s 52ms/step - loss: 0.6794 - accuracy: 0.5857 - val_loss: 0.6866 - val_accuracy: 0.5623\n",
            "Epoch 91/100\n",
            "13/13 [==============================] - 1s 52ms/step - loss: 0.6790 - accuracy: 0.5857 - val_loss: 0.6867 - val_accuracy: 0.5623\n",
            "Epoch 92/100\n",
            "13/13 [==============================] - 1s 53ms/step - loss: 0.6801 - accuracy: 0.5857 - val_loss: 0.6855 - val_accuracy: 0.5623\n",
            "Epoch 93/100\n",
            "13/13 [==============================] - 1s 53ms/step - loss: 0.6809 - accuracy: 0.5857 - val_loss: 0.6879 - val_accuracy: 0.5623\n",
            "Epoch 94/100\n",
            "13/13 [==============================] - 1s 53ms/step - loss: 0.6790 - accuracy: 0.5857 - val_loss: 0.6866 - val_accuracy: 0.5623\n",
            "Epoch 95/100\n",
            "13/13 [==============================] - 1s 53ms/step - loss: 0.6795 - accuracy: 0.5857 - val_loss: 0.6874 - val_accuracy: 0.5623\n",
            "Epoch 96/100\n",
            "13/13 [==============================] - 1s 56ms/step - loss: 0.6791 - accuracy: 0.5857 - val_loss: 0.6868 - val_accuracy: 0.5623\n",
            "Epoch 97/100\n",
            "13/13 [==============================] - 1s 53ms/step - loss: 0.6790 - accuracy: 0.5857 - val_loss: 0.6861 - val_accuracy: 0.5623\n",
            "Epoch 98/100\n",
            "13/13 [==============================] - 1s 54ms/step - loss: 0.6796 - accuracy: 0.5857 - val_loss: 0.6874 - val_accuracy: 0.5623\n",
            "Epoch 99/100\n",
            "13/13 [==============================] - 1s 53ms/step - loss: 0.6796 - accuracy: 0.5857 - val_loss: 0.6873 - val_accuracy: 0.5623\n",
            "Epoch 100/100\n",
            "13/13 [==============================] - 1s 53ms/step - loss: 0.6799 - accuracy: 0.5857 - val_loss: 0.6860 - val_accuracy: 0.5623\n"
          ]
        }
      ]
    },
    {
      "cell_type": "markdown",
      "metadata": {
        "id": "4nItUUcYtYiw"
      },
      "source": [
        "## 7. Evaluating model performance"
      ]
    },
    {
      "cell_type": "code",
      "source": [
        "prediction = model.predict(X_valid)\n",
        "prediction = prediction.reshape(706,)\n",
        "\n",
        "# converting probabilities to classes\n",
        "prediction_int = prediction >= 0.9\n",
        "prediction_int = prediction_int.astype(int)"
      ],
      "metadata": {
        "colab": {
          "base_uri": "https://localhost:8080/"
        },
        "id": "ULR3asVgxHzq",
        "outputId": "94d09497-31c2-4df6-ad52-efd7623068e1"
      },
      "execution_count": 33,
      "outputs": [
        {
          "output_type": "stream",
          "name": "stdout",
          "text": [
            "23/23 [==============================] - 0s 9ms/step\n"
          ]
        }
      ]
    },
    {
      "cell_type": "code",
      "metadata": {
        "id": "Wbfb8_MWuHB4",
        "outputId": "c356a599-41b7-42f6-fe74-5312694c405c",
        "colab": {
          "base_uri": "https://localhost:8080/"
        }
      },
      "source": [
        "# accuracy on validation set\n",
        "print('Accuracy on validation set:', accuracy_score(y_valid, prediction_int), '%')"
      ],
      "execution_count": 34,
      "outputs": [
        {
          "output_type": "stream",
          "name": "stdout",
          "text": [
            "Accuracy on validation set: 0.5623229461756374 %\n"
          ]
        }
      ]
    },
    {
      "cell_type": "code",
      "metadata": {
        "id": "UDXYXYMox5Ih",
        "outputId": "506603ee-a6bc-4de1-b574-ddf9ca6b41d8",
        "colab": {
          "base_uri": "https://localhost:8080/",
          "height": 472
        }
      },
      "source": [
        "# summarize history for loss\n",
        "plt.plot(model_history.history['loss'])\n",
        "plt.plot(model_history.history['val_loss'])\n",
        "plt.title('model loss')\n",
        "plt.ylabel('loss')\n",
        "plt.xlabel('epoch')\n",
        "plt.legend(['train', 'validation'], loc='upper right')\n",
        "plt.show()"
      ],
      "execution_count": 35,
      "outputs": [
        {
          "output_type": "display_data",
          "data": {
            "text/plain": [
              "<Figure size 640x480 with 1 Axes>"
            ],
            "image/png": "[encoded data removed]"
          },
          "metadata": {}
        }
      ]
    },
    {
      "cell_type": "code",
      "metadata": {
        "id": "m7GCbX6IN8QM"
      },
      "source": [],
      "execution_count": null,
      "outputs": []
    }
  ]
}