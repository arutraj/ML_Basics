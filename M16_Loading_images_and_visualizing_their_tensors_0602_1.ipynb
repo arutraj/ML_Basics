{
  "nbformat": 4,
  "nbformat_minor": 0,
  "metadata": {
    "colab": {
      "provenance": [],
      "include_colab_link": true
    },
    "kernelspec": {
      "name": "python3",
      "display_name": "Python 3"
    },
    "language_info": {
      "name": "python"
    }
  },
  "cells": [
    {
      "cell_type": "markdown",
      "metadata": {
        "id": "view-in-github",
        "colab_type": "text"
      },
      "source": [
        "<a href=\"https://colab.research.google.com/github/arutraj/ML_Basics/blob/main/M16_Loading_images_and_visualizing_their_tensors_0602_1.ipynb\" target=\"_parent\"><img src=\"https://colab.research.google.com/assets/colab-badge.svg\" alt=\"Open In Colab\"/></a>"
      ]
    },
    {
      "cell_type": "code",
      "execution_count": 1,
      "metadata": {
        "id": "uXHXdy9Fl-aX"
      },
      "outputs": [],
      "source": [
        "import torch\n",
        "import torchvision\n",
        "import torchvision.transforms as transforms"
      ]
    },
    {
      "cell_type": "code",
      "source": [
        "transform = transforms.Compose(\n",
        "    [transforms.ToTensor(),\n",
        "     transforms.Normalize((0.5, 0.5, 0.5), (0.5, 0.5, 0.5))])\n",
        "\n",
        "batch_size = 4\n",
        "\n",
        "trainset = torchvision.datasets.CIFAR10(root='./data', train=True,\n",
        "                                        download=True, transform=transform)\n",
        "trainloader = torch.utils.data.DataLoader(trainset, batch_size=batch_size,\n",
        "                                          shuffle=True, num_workers=2)\n",
        "\n",
        "testset = torchvision.datasets.CIFAR10(root='./data', train=False,\n",
        "                                       download=True, transform=transform)\n",
        "testloader = torch.utils.data.DataLoader(testset, batch_size=batch_size,\n",
        "                                         shuffle=False, num_workers=2)\n",
        "\n",
        "classes = ('plane', 'car', 'bird', 'cat',\n",
        "           'deer', 'dog', 'frog', 'horse', 'ship', 'truck')"
      ],
      "metadata": {
        "colab": {
          "base_uri": "https://localhost:8080/"
        },
        "id": "L14QRikpm_D5",
        "outputId": "b399a17e-db80-4e27-a992-cf643f88ce7b"
      },
      "execution_count": 2,
      "outputs": [
        {
          "output_type": "stream",
          "name": "stdout",
          "text": [
            "Downloading https://www.cs.toronto.edu/~kriz/cifar-10-python.tar.gz to ./data/cifar-10-python.tar.gz\n"
          ]
        },
        {
          "output_type": "stream",
          "name": "stderr",
          "text": [
            "100%|██████████| 170498071/170498071 [00:02<00:00, 76960815.18it/s]\n"
          ]
        },
        {
          "output_type": "stream",
          "name": "stdout",
          "text": [
            "Extracting ./data/cifar-10-python.tar.gz to ./data\n",
            "Files already downloaded and verified\n"
          ]
        }
      ]
    },
    {
      "cell_type": "code",
      "source": [
        "import matplotlib.pyplot as plt\n",
        "import numpy as np\n",
        "\n",
        "# functions to show an image\n",
        "\n",
        "\n",
        "def imshow(img):\n",
        "    img = img / 2 + 0.5     # unnormalize\n",
        "    npimg = img.numpy()\n",
        "    plt.imshow(np.transpose(npimg, (1, 2, 0)))\n",
        "    plt.show()"
      ],
      "metadata": {
        "id": "Dgs7Ddx2nDYZ"
      },
      "execution_count": 14,
      "outputs": []
    },
    {
      "cell_type": "code",
      "source": [
        "# get some random training images\n",
        "dataiter = iter(trainloader)\n",
        "images, labels = next(dataiter)"
      ],
      "metadata": {
        "id": "6qYHQc3MnH-B"
      },
      "execution_count": 15,
      "outputs": []
    },
    {
      "cell_type": "code",
      "source": [
        "type(images)"
      ],
      "metadata": {
        "colab": {
          "base_uri": "https://localhost:8080/"
        },
        "id": "lyxzT6-U89pR",
        "outputId": "c2e017ba-369e-49c9-da0b-4520b9f6720c"
      },
      "execution_count": 5,
      "outputs": [
        {
          "output_type": "execute_result",
          "data": {
            "text/plain": [
              "torch.Tensor"
            ]
          },
          "metadata": {},
          "execution_count": 5
        }
      ]
    },
    {
      "cell_type": "code",
      "source": [
        "images.shape"
      ],
      "metadata": {
        "colab": {
          "base_uri": "https://localhost:8080/"
        },
        "id": "yk-zSJOXnPAv",
        "outputId": "79114847-b4c3-4cc3-9f5e-1dd710ac5801"
      },
      "execution_count": 6,
      "outputs": [
        {
          "output_type": "execute_result",
          "data": {
            "text/plain": [
              "torch.Size([4, 3, 32, 32])"
            ]
          },
          "metadata": {},
          "execution_count": 6
        }
      ]
    },
    {
      "cell_type": "code",
      "source": [
        "images.size()"
      ],
      "metadata": {
        "colab": {
          "base_uri": "https://localhost:8080/"
        },
        "id": "84pxefUU9ELT",
        "outputId": "70fd5562-e9f5-4b03-d19a-81d00d0eeaa3"
      },
      "execution_count": 7,
      "outputs": [
        {
          "output_type": "execute_result",
          "data": {
            "text/plain": [
              "torch.Size([4, 3, 32, 32])"
            ]
          },
          "metadata": {},
          "execution_count": 7
        }
      ]
    },
    {
      "cell_type": "code",
      "source": [
        "images[3].shape"
      ],
      "metadata": {
        "colab": {
          "base_uri": "https://localhost:8080/"
        },
        "id": "5VaekgaSnSMk",
        "outputId": "d17538af-46d1-4463-ccce-01dc808a2f55"
      },
      "execution_count": 8,
      "outputs": [
        {
          "output_type": "execute_result",
          "data": {
            "text/plain": [
              "torch.Size([3, 32, 32])"
            ]
          },
          "metadata": {},
          "execution_count": 8
        }
      ]
    },
    {
      "cell_type": "code",
      "source": [
        "images[0][2][7][6]"
      ],
      "metadata": {
        "id": "w1hSQSRDLQHf",
        "colab": {
          "base_uri": "https://localhost:8080/"
        },
        "outputId": "9f65a5ad-76a2-47ce-bfad-b7c8971a15a5"
      },
      "execution_count": 9,
      "outputs": [
        {
          "output_type": "execute_result",
          "data": {
            "text/plain": [
              "tensor(0.2078)"
            ]
          },
          "metadata": {},
          "execution_count": 9
        }
      ]
    },
    {
      "cell_type": "code",
      "source": [
        "# Find the blue color's intensity in pixel 7,6 in 1st image\n",
        "images[0][2][7][6]"
      ],
      "metadata": {
        "id": "7nAwlro1nWaa",
        "colab": {
          "base_uri": "https://localhost:8080/"
        },
        "outputId": "cea67bb3-4a92-471c-e535-15c1724c39d3"
      },
      "execution_count": 13,
      "outputs": [
        {
          "output_type": "execute_result",
          "data": {
            "text/plain": [
              "tensor(0.2078)"
            ]
          },
          "metadata": {},
          "execution_count": 13
        }
      ]
    },
    {
      "cell_type": "code",
      "source": [
        "images[0,2,7,6]"
      ],
      "metadata": {
        "colab": {
          "base_uri": "https://localhost:8080/"
        },
        "id": "ivxYjtv0nr96",
        "outputId": "8fe71c2b-96e9-4d84-d503-106d123914c2"
      },
      "execution_count": 16,
      "outputs": [
        {
          "output_type": "execute_result",
          "data": {
            "text/plain": [
              "tensor(-0.5843)"
            ]
          },
          "metadata": {},
          "execution_count": 16
        }
      ]
    },
    {
      "cell_type": "code",
      "source": [
        "# show images\n",
        "imshow(torchvision.utils.make_grid(images))"
      ],
      "metadata": {
        "colab": {
          "base_uri": "https://localhost:8080/",
          "height": 193
        },
        "id": "N9EoKw20nsDg",
        "outputId": "ba0df013-0270-4f80-efdc-61f4047d0419"
      },
      "execution_count": 17,
      "outputs": [
        {
          "output_type": "display_data",
          "data": {
            "text/plain": [
              "<Figure size 640x480 with 1 Axes>"
            ],
            "image/png": "[encoded data removed]"
          },
          "metadata": {}
        }
      ]
    },
    {
      "cell_type": "code",
      "source": [
        "print(images[0])"
      ],
      "metadata": {
        "id": "nG5TGAINnsTM",
        "colab": {
          "base_uri": "https://localhost:8080/"
        },
        "outputId": "652189d5-f252-477c-87df-d47a19ef6dcf"
      },
      "execution_count": 18,
      "outputs": [
        {
          "output_type": "stream",
          "name": "stdout",
          "text": [
            "tensor([[[ 0.9294,  0.9137,  0.9216,  ...,  0.9059,  0.9059,  0.9137],\n",
            "         [ 0.9765,  0.9608,  0.9765,  ...,  0.9294,  0.9294,  0.9373],\n",
            "         [ 0.9451,  0.9451,  0.9686,  ...,  0.9137,  0.9137,  0.9216],\n",
            "         ...,\n",
            "         [-0.5373, -0.6078, -0.6627,  ..., -0.6863, -0.6941, -0.6863],\n",
            "         [-0.5843, -0.6157, -0.6627,  ..., -0.5373, -0.5843, -0.6235],\n",
            "         [-0.5686, -0.6078, -0.6941,  ...,  0.1608, -0.0588, -0.4667]],\n",
            "\n",
            "        [[ 0.9216,  0.9137,  0.9373,  ...,  0.9373,  0.9373,  0.9294],\n",
            "         [ 0.9686,  0.9451,  0.9451,  ...,  0.9608,  0.9608,  0.9608],\n",
            "         [ 0.9451,  0.9294,  0.9373,  ...,  0.9451,  0.9451,  0.9451],\n",
            "         ...,\n",
            "         [-0.4353, -0.5529, -0.6627,  ..., -0.5765, -0.6471, -0.6863],\n",
            "         [-0.4510, -0.5373, -0.6549,  ..., -0.5137, -0.5922, -0.6471],\n",
            "         [-0.4118, -0.5216, -0.6627,  ...,  0.0824, -0.1059, -0.4980]],\n",
            "\n",
            "        [[ 0.9451,  0.9373,  0.9373,  ...,  0.9608,  0.9608,  0.9608],\n",
            "         [ 0.9059,  0.9451,  0.9922,  ...,  0.9843,  0.9843,  0.9843],\n",
            "         [ 0.9137,  0.9137,  0.9294,  ...,  0.9686,  0.9686,  0.9686],\n",
            "         ...,\n",
            "         [-0.6157, -0.7020, -0.7725,  ..., -0.8353, -0.8039, -0.7804],\n",
            "         [-0.6314, -0.6784, -0.7569,  ..., -0.8902, -0.8353, -0.7961],\n",
            "         [-0.6157, -0.6863, -0.7882,  ..., -0.4588, -0.4588, -0.6941]]])\n"
          ]
        }
      ]
    },
    {
      "cell_type": "code",
      "source": [],
      "metadata": {
        "id": "a9uLrzf6jXZb"
      },
      "execution_count": null,
      "outputs": []
    },
    {
      "cell_type": "code",
      "source": [],
      "metadata": {
        "id": "UJc07OAUjrxV"
      },
      "execution_count": null,
      "outputs": []
    }
  ]
}