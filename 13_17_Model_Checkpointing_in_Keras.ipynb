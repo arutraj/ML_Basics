{
  "cells": [
    {
      "cell_type": "markdown",
      "metadata": {
        "id": "view-in-github",
        "colab_type": "text"
      },
      "source": [
        "<a href=\"https://colab.research.google.com/github/arutraj/ML_Basics/blob/main/13_17_Model_Checkpointing_in_Keras.ipynb\" target=\"_parent\"><img src=\"https://colab.research.google.com/assets/colab-badge.svg\" alt=\"Open In Colab\"/></a>"
      ]
    },
    {
      "cell_type": "markdown",
      "metadata": {
        "id": "xR7hbyyfuG9N"
      },
      "source": [
        "# Steps to solve Emergency vs Non-Emergency vehicle classification\n",
        "\n",
        "<ol>1. Loading the dataset</ol>\n",
        "<ol>2. Pre-processing the data</ol>\n",
        "<ol>3. Creating training and validation set</ol>\n",
        "<ol>4. Defining the model architecture</ol>\n",
        "<ol>5. Compiling the model</ol>\n",
        "<ol>6. Training the model</ol>\n",
        "<ol><ol>Setting up model checkpointing</ol></ol>\n",
        "<ol>7. Evaluating model performance</ol>"
      ]
    },
    {
      "cell_type": "markdown",
      "metadata": {
        "id": "xq6rlm_puG9U"
      },
      "source": [
        "## 1. Loading the dataset"
      ]
    },
    {
      "cell_type": "code",
      "execution_count": 3,
      "metadata": {
        "id": "XPYT-SDjuG9a",
        "scrolled": true
      },
      "outputs": [],
      "source": [
        "# import necessary libraries and functions\n",
        "import numpy as np\n",
        "import pandas as pd\n",
        "import matplotlib.pyplot as plt\n",
        "%matplotlib inline\n",
        "\n",
        "# importing layers from keras\n",
        "from keras.layers import Dense, InputLayer\n",
        "from keras.models import Sequential\n",
        "# importing adam optimizer from keras optimizer module\n",
        "from tensorflow.keras.optimizers import Adam\n",
        "\n",
        "# train_test_split to create training and validation set\n",
        "from sklearn.model_selection import train_test_split\n",
        "# accuracy_score to calculate the accuracy of predictions\n",
        "from sklearn.metrics import accuracy_score"
      ]
    },
    {
      "cell_type": "code",
      "execution_count": 1,
      "metadata": {
        "colab": {
          "base_uri": "https://localhost:8080/"
        },
        "id": "-UaxENuHvEjb",
        "outputId": "143b400f-703f-4e56-cea8-a522dfc2b68b"
      },
      "outputs": [
        {
          "output_type": "stream",
          "name": "stdout",
          "text": [
            "Mounted at /content/drive\n"
          ]
        }
      ],
      "source": [
        "from google.colab import drive\n",
        "drive.mount('/content/drive')"
      ]
    },
    {
      "cell_type": "code",
      "execution_count": 2,
      "metadata": {
        "colab": {
          "base_uri": "https://localhost:8080/"
        },
        "id": "huxIDEqgvKZj",
        "outputId": "f2ceeace-e8fa-4b29-ac41-c79d328dd588"
      },
      "outputs": [
        {
          "output_type": "stream",
          "name": "stdout",
          "text": [
            "2352\n"
          ]
        }
      ],
      "source": [
        "# unzipping the Dataset.zip file\n",
        "!ls /content/drive/MyDrive/AnalyticsVidya/DeepLearning/images/*jpg |wc -l"
      ]
    },
    {
      "cell_type": "code",
      "execution_count": 4,
      "metadata": {
        "id": "WZdipKFauG9t"
      },
      "outputs": [],
      "source": [
        "# reading the csv file\n",
        "data = pd.read_csv('/content/emergency_classification.csv')"
      ]
    },
    {
      "cell_type": "code",
      "execution_count": 5,
      "metadata": {
        "id": "7pOqqh5GuG94"
      },
      "outputs": [],
      "source": [
        "# defining the seed value\n",
        "seed = 42"
      ]
    },
    {
      "cell_type": "code",
      "execution_count": 6,
      "metadata": {
        "colab": {
          "base_uri": "https://localhost:8080/",
          "height": 206
        },
        "id": "_VeBsfEAuG-B",
        "outputId": "d4cdd2f6-b969-48f0-cf9d-71c731097d70",
        "scrolled": true
      },
      "outputs": [
        {
          "output_type": "execute_result",
          "data": {
            "text/plain": [
              "  image_names  emergency_or_not\n",
              "0       0.jpg                 1\n",
              "1       1.jpg                 1\n",
              "2       2.jpg                 1\n",
              "3       3.jpg                 1\n",
              "4       4.jpg                 1"
            ],
            "text/html": [
              "\n",
              "  <div id=\"df-8d20f8ce-4bec-4270-b3b7-4717ff42e185\" class=\"colab-df-container\">\n",
              "    <div>\n",
              "<style scoped>\n",
              "    .dataframe tbody tr th:only-of-type {\n",
              "        vertical-align: middle;\n",
              "    }\n",
              "\n",
              "    .dataframe tbody tr th {\n",
              "        vertical-align: top;\n",
              "    }\n",
              "\n",
              "    .dataframe thead th {\n",
              "        text-align: right;\n",
              "    }\n",
              "</style>\n",
              "<table border=\"1\" class=\"dataframe\">\n",
              "  <thead>\n",
              "    <tr style=\"text-align: right;\">\n",
              "      <th></th>\n",
              "      <th>image_names</th>\n",
              "      <th>emergency_or_not</th>\n",
              "    </tr>\n",
              "  </thead>\n",
              "  <tbody>\n",
              "    <tr>\n",
              "      <th>0</th>\n",
              "      <td>0.jpg</td>\n",
              "      <td>1</td>\n",
              "    </tr>\n",
              "    <tr>\n",
              "      <th>1</th>\n",
              "      <td>1.jpg</td>\n",
              "      <td>1</td>\n",
              "    </tr>\n",
              "    <tr>\n",
              "      <th>2</th>\n",
              "      <td>2.jpg</td>\n",
              "      <td>1</td>\n",
              "    </tr>\n",
              "    <tr>\n",
              "      <th>3</th>\n",
              "      <td>3.jpg</td>\n",
              "      <td>1</td>\n",
              "    </tr>\n",
              "    <tr>\n",
              "      <th>4</th>\n",
              "      <td>4.jpg</td>\n",
              "      <td>1</td>\n",
              "    </tr>\n",
              "  </tbody>\n",
              "</table>\n",
              "</div>\n",
              "    <div class=\"colab-df-buttons\">\n",
              "\n",
              "  <div class=\"colab-df-container\">\n",
              "    <button class=\"colab-df-convert\" onclick=\"convertToInteractive('df-8d20f8ce-4bec-4270-b3b7-4717ff42e185')\"\n",
              "            title=\"Convert this dataframe to an interactive table.\"\n",
              "            style=\"display:none;\">\n",
              "\n",
              "  <svg xmlns=\"http://www.w3.org/2000/svg\" height=\"24px\" viewBox=\"0 -960 960 960\">\n",
              "    <path d=\"M120-120v-720h720v720H120Zm60-500h600v-160H180v160Zm220 220h160v-160H400v160Zm0 220h160v-160H400v160ZM180-400h160v-160H180v160Zm440 0h160v-160H620v160ZM180-180h160v-160H180v160Zm440 0h160v-160H620v160Z\"/>\n",
              "  </svg>\n",
              "    </button>\n",
              "\n",
              "  <style>\n",
              "    .colab-df-container {\n",
              "      display:flex;\n",
              "      gap: 12px;\n",
              "    }\n",
              "\n",
              "    .colab-df-convert {\n",
              "      background-color: #E8F0FE;\n",
              "      border: none;\n",
              "      border-radius: 50%;\n",
              "      cursor: pointer;\n",
              "      display: none;\n",
              "      fill: #1967D2;\n",
              "      height: 32px;\n",
              "      padding: 0 0 0 0;\n",
              "      width: 32px;\n",
              "    }\n",
              "\n",
              "    .colab-df-convert:hover {\n",
              "      background-color: #E2EBFA;\n",
              "      box-shadow: 0px 1px 2px rgba(60, 64, 67, 0.3), 0px 1px 3px 1px rgba(60, 64, 67, 0.15);\n",
              "      fill: #174EA6;\n",
              "    }\n",
              "\n",
              "    .colab-df-buttons div {\n",
              "      margin-bottom: 4px;\n",
              "    }\n",
              "\n",
              "    [theme=dark] .colab-df-convert {\n",
              "      background-color: #3B4455;\n",
              "      fill: #D2E3FC;\n",
              "    }\n",
              "\n",
              "    [theme=dark] .colab-df-convert:hover {\n",
              "      background-color: #434B5C;\n",
              "      box-shadow: 0px 1px 3px 1px rgba(0, 0, 0, 0.15);\n",
              "      filter: drop-shadow(0px 1px 2px rgba(0, 0, 0, 0.3));\n",
              "      fill: #FFFFFF;\n",
              "    }\n",
              "  </style>\n",
              "\n",
              "    <script>\n",
              "      const buttonEl =\n",
              "        document.querySelector('#df-8d20f8ce-4bec-4270-b3b7-4717ff42e185 button.colab-df-convert');\n",
              "      buttonEl.style.display =\n",
              "        google.colab.kernel.accessAllowed ? 'block' : 'none';\n",
              "\n",
              "      async function convertToInteractive(key) {\n",
              "        const element = document.querySelector('#df-8d20f8ce-4bec-4270-b3b7-4717ff42e185');\n",
              "        const dataTable =\n",
              "          await google.colab.kernel.invokeFunction('convertToInteractive',\n",
              "                                                    [key], {});\n",
              "        if (!dataTable) return;\n",
              "\n",
              "        const docLinkHtml = 'Like what you see? Visit the ' +\n",
              "          '<a target=\"_blank\" href=https://colab.research.google.com/notebooks/data_table.ipynb>data table notebook</a>'\n",
              "          + ' to learn more about interactive tables.';\n",
              "        element.innerHTML = '';\n",
              "        dataTable['output_type'] = 'display_data';\n",
              "        await google.colab.output.renderOutput(dataTable, element);\n",
              "        const docLink = document.createElement('div');\n",
              "        docLink.innerHTML = docLinkHtml;\n",
              "        element.appendChild(docLink);\n",
              "      }\n",
              "    </script>\n",
              "  </div>\n",
              "\n",
              "\n",
              "<div id=\"df-ace49e01-e826-46f8-bb06-760eecfc8c9c\">\n",
              "  <button class=\"colab-df-quickchart\" onclick=\"quickchart('df-ace49e01-e826-46f8-bb06-760eecfc8c9c')\"\n",
              "            title=\"Suggest charts\"\n",
              "            style=\"display:none;\">\n",
              "\n",
              "<svg xmlns=\"http://www.w3.org/2000/svg\" height=\"24px\"viewBox=\"0 0 24 24\"\n",
              "     width=\"24px\">\n",
              "    <g>\n",
              "        <path d=\"M19 3H5c-1.1 0-2 .9-2 2v14c0 1.1.9 2 2 2h14c1.1 0 2-.9 2-2V5c0-1.1-.9-2-2-2zM9 17H7v-7h2v7zm4 0h-2V7h2v10zm4 0h-2v-4h2v4z\"/>\n",
              "    </g>\n",
              "</svg>\n",
              "  </button>\n",
              "\n",
              "<style>\n",
              "  .colab-df-quickchart {\n",
              "      --bg-color: #E8F0FE;\n",
              "      --fill-color: #1967D2;\n",
              "      --hover-bg-color: #E2EBFA;\n",
              "      --hover-fill-color: #174EA6;\n",
              "      --disabled-fill-color: #AAA;\n",
              "      --disabled-bg-color: #DDD;\n",
              "  }\n",
              "\n",
              "  [theme=dark] .colab-df-quickchart {\n",
              "      --bg-color: #3B4455;\n",
              "      --fill-color: #D2E3FC;\n",
              "      --hover-bg-color: #434B5C;\n",
              "      --hover-fill-color: #FFFFFF;\n",
              "      --disabled-bg-color: #3B4455;\n",
              "      --disabled-fill-color: #666;\n",
              "  }\n",
              "\n",
              "  .colab-df-quickchart {\n",
              "    background-color: var(--bg-color);\n",
              "    border: none;\n",
              "    border-radius: 50%;\n",
              "    cursor: pointer;\n",
              "    display: none;\n",
              "    fill: var(--fill-color);\n",
              "    height: 32px;\n",
              "    padding: 0;\n",
              "    width: 32px;\n",
              "  }\n",
              "\n",
              "  .colab-df-quickchart:hover {\n",
              "    background-color: var(--hover-bg-color);\n",
              "    box-shadow: 0 1px 2px rgba(60, 64, 67, 0.3), 0 1px 3px 1px rgba(60, 64, 67, 0.15);\n",
              "    fill: var(--button-hover-fill-color);\n",
              "  }\n",
              "\n",
              "  .colab-df-quickchart-complete:disabled,\n",
              "  .colab-df-quickchart-complete:disabled:hover {\n",
              "    background-color: var(--disabled-bg-color);\n",
              "    fill: var(--disabled-fill-color);\n",
              "    box-shadow: none;\n",
              "  }\n",
              "\n",
              "  .colab-df-spinner {\n",
              "    border: 2px solid var(--fill-color);\n",
              "    border-color: transparent;\n",
              "    border-bottom-color: var(--fill-color);\n",
              "    animation:\n",
              "      spin 1s steps(1) infinite;\n",
              "  }\n",
              "\n",
              "  @keyframes spin {\n",
              "    0% {\n",
              "      border-color: transparent;\n",
              "      border-bottom-color: var(--fill-color);\n",
              "      border-left-color: var(--fill-color);\n",
              "    }\n",
              "    20% {\n",
              "      border-color: transparent;\n",
              "      border-left-color: var(--fill-color);\n",
              "      border-top-color: var(--fill-color);\n",
              "    }\n",
              "    30% {\n",
              "      border-color: transparent;\n",
              "      border-left-color: var(--fill-color);\n",
              "      border-top-color: var(--fill-color);\n",
              "      border-right-color: var(--fill-color);\n",
              "    }\n",
              "    40% {\n",
              "      border-color: transparent;\n",
              "      border-right-color: var(--fill-color);\n",
              "      border-top-color: var(--fill-color);\n",
              "    }\n",
              "    60% {\n",
              "      border-color: transparent;\n",
              "      border-right-color: var(--fill-color);\n",
              "    }\n",
              "    80% {\n",
              "      border-color: transparent;\n",
              "      border-right-color: var(--fill-color);\n",
              "      border-bottom-color: var(--fill-color);\n",
              "    }\n",
              "    90% {\n",
              "      border-color: transparent;\n",
              "      border-bottom-color: var(--fill-color);\n",
              "    }\n",
              "  }\n",
              "</style>\n",
              "\n",
              "  <script>\n",
              "    async function quickchart(key) {\n",
              "      const quickchartButtonEl =\n",
              "        document.querySelector('#' + key + ' button');\n",
              "      quickchartButtonEl.disabled = true;  // To prevent multiple clicks.\n",
              "      quickchartButtonEl.classList.add('colab-df-spinner');\n",
              "      try {\n",
              "        const charts = await google.colab.kernel.invokeFunction(\n",
              "            'suggestCharts', [key], {});\n",
              "      } catch (error) {\n",
              "        console.error('Error during call to suggestCharts:', error);\n",
              "      }\n",
              "      quickchartButtonEl.classList.remove('colab-df-spinner');\n",
              "      quickchartButtonEl.classList.add('colab-df-quickchart-complete');\n",
              "    }\n",
              "    (() => {\n",
              "      let quickchartButtonEl =\n",
              "        document.querySelector('#df-ace49e01-e826-46f8-bb06-760eecfc8c9c button');\n",
              "      quickchartButtonEl.style.display =\n",
              "        google.colab.kernel.accessAllowed ? 'block' : 'none';\n",
              "    })();\n",
              "  </script>\n",
              "</div>\n",
              "\n",
              "    </div>\n",
              "  </div>\n"
            ],
            "application/vnd.google.colaboratory.intrinsic+json": {
              "type": "dataframe",
              "variable_name": "data",
              "summary": "{\n  \"name\": \"data\",\n  \"rows\": 2352,\n  \"fields\": [\n    {\n      \"column\": \"image_names\",\n      \"properties\": {\n        \"dtype\": \"string\",\n        \"num_unique_values\": 2352,\n        \"samples\": [\n          \"1960.jpg\",\n          \"668.jpg\",\n          \"2082.jpg\"\n        ],\n        \"semantic_type\": \"\",\n        \"description\": \"\"\n      }\n    },\n    {\n      \"column\": \"emergency_or_not\",\n      \"properties\": {\n        \"dtype\": \"number\",\n        \"std\": 0,\n        \"min\": 0,\n        \"max\": 1,\n        \"num_unique_values\": 2,\n        \"samples\": [\n          0,\n          1\n        ],\n        \"semantic_type\": \"\",\n        \"description\": \"\"\n      }\n    }\n  ]\n}"
            }
          },
          "metadata": {},
          "execution_count": 6
        }
      ],
      "source": [
        "# looking at first five rows of the data\n",
        "data.head()"
      ]
    },
    {
      "cell_type": "code",
      "execution_count": 7,
      "metadata": {
        "id": "AMZyTsx3uG-W"
      },
      "outputs": [],
      "source": [
        "# load images and store it in numpy array\n",
        "\n",
        "# empty list to store the images\n",
        "X = []\n",
        "# iterating over each image\n",
        "for img_name in data.image_names:\n",
        "    # loading the image using its name\n",
        "    img = plt.imread('/content/drive/MyDrive/AnalyticsVidya/DeepLearning/images/' + img_name)\n",
        "    # saving each image in the list\n",
        "    X.append(img)\n",
        "\n",
        "# converting the list of images into array\n",
        "X=np.array(X)\n",
        "\n",
        "# storing the target variable in separate variable\n",
        "y = data.emergency_or_not.values"
      ]
    },
    {
      "cell_type": "code",
      "execution_count": 8,
      "metadata": {
        "colab": {
          "base_uri": "https://localhost:8080/"
        },
        "id": "csN5M_hzuG-d",
        "outputId": "9a653fef-df2d-47b9-ca7f-92f9e8978439"
      },
      "outputs": [
        {
          "output_type": "execute_result",
          "data": {
            "text/plain": [
              "(2352, 224, 224, 3)"
            ]
          },
          "metadata": {},
          "execution_count": 8
        }
      ],
      "source": [
        "# shape of the images\n",
        "X.shape"
      ]
    },
    {
      "cell_type": "markdown",
      "metadata": {
        "id": "IYNJtBXLuG-x"
      },
      "source": [
        "## 2. Pre-processing the data"
      ]
    },
    {
      "cell_type": "code",
      "execution_count": 9,
      "metadata": {
        "colab": {
          "base_uri": "https://localhost:8080/"
        },
        "id": "JsEZNNE_uG-2",
        "outputId": "ae02811e-6157-4ebd-b9a0-e1b49532abf0",
        "scrolled": true
      },
      "outputs": [
        {
          "output_type": "execute_result",
          "data": {
            "text/plain": [
              "(2352, 150528)"
            ]
          },
          "metadata": {},
          "execution_count": 9
        }
      ],
      "source": [
        "# converting 3 dimensional image to 1 dimensional image\n",
        "X = X.reshape(X.shape[0], 224*224*3)\n",
        "X.shape"
      ]
    },
    {
      "cell_type": "code",
      "execution_count": 10,
      "metadata": {
        "colab": {
          "base_uri": "https://localhost:8080/"
        },
        "id": "9y8rfKEguG-_",
        "outputId": "b3f075b8-77ae-4ca2-a0dc-e7a11822aaf8"
      },
      "outputs": [
        {
          "output_type": "execute_result",
          "data": {
            "text/plain": [
              "(0, 255)"
            ]
          },
          "metadata": {},
          "execution_count": 10
        }
      ],
      "source": [
        "# minimum and maximum pixel values of images\n",
        "X.min(), X.max()"
      ]
    },
    {
      "cell_type": "code",
      "execution_count": 11,
      "metadata": {
        "id": "wI3hNx3uuG_L"
      },
      "outputs": [],
      "source": [
        "# normalizing the pixel values\n",
        "X = X / X.max()"
      ]
    },
    {
      "cell_type": "code",
      "execution_count": 12,
      "metadata": {
        "colab": {
          "base_uri": "https://localhost:8080/"
        },
        "id": "tghVTsVluG_S",
        "outputId": "f61bad4f-8298-4864-9c46-60225b1d0500"
      },
      "outputs": [
        {
          "output_type": "execute_result",
          "data": {
            "text/plain": [
              "(0.0, 1.0)"
            ]
          },
          "metadata": {},
          "execution_count": 12
        }
      ],
      "source": [
        "# minimum and maximum pixel values of images after normalizing\n",
        "X.min(), X.max()"
      ]
    },
    {
      "cell_type": "markdown",
      "metadata": {
        "id": "Scbo48PLuG_b"
      },
      "source": [
        "## 3. Creating training and validation set"
      ]
    },
    {
      "cell_type": "code",
      "execution_count": 13,
      "metadata": {
        "id": "-UmSQzb1uG_d"
      },
      "outputs": [],
      "source": [
        "# creating a training and validation set\n",
        "X_train, X_valid, y_train, y_valid=train_test_split(X,y,test_size=0.3, random_state=seed)"
      ]
    },
    {
      "cell_type": "code",
      "execution_count": 14,
      "metadata": {
        "colab": {
          "base_uri": "https://localhost:8080/"
        },
        "id": "xTC-FgDjuG_k",
        "outputId": "00e7ab34-43ba-4376-bc95-ac505fc1f287"
      },
      "outputs": [
        {
          "output_type": "execute_result",
          "data": {
            "text/plain": [
              "(((1646, 150528), (1646,)), ((706, 150528), (706,)))"
            ]
          },
          "metadata": {},
          "execution_count": 14
        }
      ],
      "source": [
        "# shape of training and validation set\n",
        "(X_train.shape, y_train.shape), (X_valid.shape, y_valid.shape)"
      ]
    },
    {
      "cell_type": "markdown",
      "metadata": {
        "id": "vskdq-4huG_r"
      },
      "source": [
        "## 4. Defining the model architecture"
      ]
    },
    {
      "cell_type": "code",
      "execution_count": 15,
      "metadata": {
        "id": "tLqmJg8PuHBs"
      },
      "outputs": [],
      "source": [
        "# defining the model architecture\n",
        "model=Sequential()\n",
        "\n",
        "model.add(InputLayer(input_shape=(224*224*3,)))\n",
        "model.add(Dense(100, activation='sigmoid'))\n",
        "model.add(Dense(100, activation='sigmoid'))\n",
        "model.add(Dense(units=1, activation='sigmoid'))"
      ]
    },
    {
      "cell_type": "markdown",
      "metadata": {
        "id": "FS__sDNVrjOs"
      },
      "source": [
        "## 5. Compiling the model"
      ]
    },
    {
      "cell_type": "code",
      "execution_count": 17,
      "metadata": {
        "id": "BGovpAw_uHBp"
      },
      "outputs": [],
      "source": [
        "# defining the adam optimizer and setting the learning rate as 10^-5\n",
        "adam = Adam(learning_rate=1e-5)"
      ]
    },
    {
      "cell_type": "code",
      "execution_count": 18,
      "metadata": {
        "id": "pcEUdq_Tri5x"
      },
      "outputs": [],
      "source": [
        "# compiling the model\n",
        "\n",
        "# defining loss as binary crossentropy\n",
        "# defining optimizer as Adam\n",
        "# defining metrics as accuracy\n",
        "\n",
        "model.compile(loss='binary_crossentropy', optimizer=adam, metrics=['accuracy'])"
      ]
    },
    {
      "cell_type": "markdown",
      "metadata": {
        "id": "UJ6D8X0JtD7f"
      },
      "source": [
        "## 6. Training the model"
      ]
    },
    {
      "cell_type": "markdown",
      "metadata": {
        "id": "KMoFoDW8LHoH"
      },
      "source": [
        "### Setting up model checkpointing"
      ]
    },
    {
      "cell_type": "code",
      "execution_count": 19,
      "metadata": {
        "id": "bM3GB17iLMC1"
      },
      "outputs": [],
      "source": [
        "# importing model checkpointing from keras callbacks\n",
        "from keras.callbacks import ModelCheckpoint"
      ]
    },
    {
      "cell_type": "code",
      "execution_count": 20,
      "metadata": {
        "id": "2S67na5-LL_4"
      },
      "outputs": [],
      "source": [
        "# defining model checkpointing\n",
        "\n",
        "# defining the path to store the weights\n",
        "filepath=\"best_weights.hdf5\"\n",
        "\n",
        "# defining the model checkpointing and metric to monitor\n",
        "checkpoint = ModelCheckpoint(filepath, monitor='val_accuracy', verbose=1, save_best_only=True, mode='max')\n",
        "\n",
        "# defining checkpointing variable\n",
        "callbacks_list = [checkpoint]"
      ]
    },
    {
      "cell_type": "code",
      "execution_count": 21,
      "metadata": {
        "colab": {
          "base_uri": "https://localhost:8080/"
        },
        "id": "KL7PHbMRuHBy",
        "outputId": "58f4e842-6c3d-4030-9e6c-04ba0431a41d",
        "scrolled": false
      },
      "outputs": [
        {
          "output_type": "stream",
          "name": "stdout",
          "text": [
            "Epoch 1/50\n",
            "12/13 [==========================>...] - ETA: 0s - loss: 0.6665 - accuracy: 0.6022\n",
            "Epoch 1: val_accuracy improved from -inf to 0.61048, saving model to best_weights.hdf5\n"
          ]
        },
        {
          "output_type": "stream",
          "name": "stderr",
          "text": [
            "/usr/local/lib/python3.10/dist-packages/keras/src/engine/training.py:3103: UserWarning: You are saving your model as an HDF5 file via `model.save()`. This file format is considered legacy. We recommend using instead the native Keras format, e.g. `model.save('my_model.keras')`.\n",
            "  saving_api.save_model(\n"
          ]
        },
        {
          "output_type": "stream",
          "name": "stdout",
          "text": [
            "\b\b\b\b\b\b\b\b\b\b\b\b\b\b\b\b\b\b\b\b\b\b\b\b\b\b\b\b\b\b\b\b\b\b\b\b\b\b\b\b\b\b\b\b\b\b\b\b\b\b\b\b\b\b\b\b\b\b\b\b\b\b\b\b\b\b\b\b\b\b\b\b\b\b\b\b\b\b\b\b\b\b\r13/13 [==============================] - 9s 428ms/step - loss: 0.6667 - accuracy: 0.6015 - val_loss: 0.6494 - val_accuracy: 0.6105\n",
            "Epoch 2/50\n",
            "13/13 [==============================] - ETA: 0s - loss: 0.6384 - accuracy: 0.6488\n",
            "Epoch 2: val_accuracy improved from 0.61048 to 0.63456, saving model to best_weights.hdf5\n",
            "13/13 [==============================] - 4s 302ms/step - loss: 0.6384 - accuracy: 0.6488 - val_loss: 0.6357 - val_accuracy: 0.6346\n",
            "Epoch 3/50\n",
            "13/13 [==============================] - ETA: 0s - loss: 0.6237 - accuracy: 0.6598\n",
            "Epoch 3: val_accuracy improved from 0.63456 to 0.64589, saving model to best_weights.hdf5\n",
            "13/13 [==============================] - 8s 634ms/step - loss: 0.6237 - accuracy: 0.6598 - val_loss: 0.6273 - val_accuracy: 0.6459\n",
            "Epoch 4/50\n",
            "13/13 [==============================] - ETA: 0s - loss: 0.6151 - accuracy: 0.6683\n",
            "Epoch 4: val_accuracy improved from 0.64589 to 0.66431, saving model to best_weights.hdf5\n",
            "13/13 [==============================] - 8s 680ms/step - loss: 0.6151 - accuracy: 0.6683 - val_loss: 0.6167 - val_accuracy: 0.6643\n",
            "Epoch 5/50\n",
            "12/13 [==========================>...] - ETA: 0s - loss: 0.6063 - accuracy: 0.6921\n",
            "Epoch 5: val_accuracy improved from 0.66431 to 0.66714, saving model to best_weights.hdf5\n",
            "13/13 [==============================] - 4s 360ms/step - loss: 0.6049 - accuracy: 0.6926 - val_loss: 0.6160 - val_accuracy: 0.6671\n",
            "Epoch 6/50\n",
            "13/13 [==============================] - ETA: 0s - loss: 0.5971 - accuracy: 0.6981\n",
            "Epoch 6: val_accuracy did not improve from 0.66714\n",
            "13/13 [==============================] - 1s 91ms/step - loss: 0.5971 - accuracy: 0.6981 - val_loss: 0.6122 - val_accuracy: 0.6657\n",
            "Epoch 7/50\n",
            "12/13 [==========================>...] - ETA: 0s - loss: 0.5907 - accuracy: 0.7096\n",
            "Epoch 7: val_accuracy did not improve from 0.66714\n",
            "13/13 [==============================] - 1s 88ms/step - loss: 0.5900 - accuracy: 0.7096 - val_loss: 0.6059 - val_accuracy: 0.6657\n",
            "Epoch 8/50\n",
            "12/13 [==========================>...] - ETA: 0s - loss: 0.5849 - accuracy: 0.7083\n",
            "Epoch 8: val_accuracy improved from 0.66714 to 0.69547, saving model to best_weights.hdf5\n",
            "13/13 [==============================] - 8s 658ms/step - loss: 0.5832 - accuracy: 0.7108 - val_loss: 0.5952 - val_accuracy: 0.6955\n",
            "Epoch 9/50\n",
            "13/13 [==============================] - ETA: 0s - loss: 0.5802 - accuracy: 0.7157\n",
            "Epoch 9: val_accuracy did not improve from 0.69547\n",
            "13/13 [==============================] - 1s 91ms/step - loss: 0.5802 - accuracy: 0.7157 - val_loss: 0.5917 - val_accuracy: 0.6926\n",
            "Epoch 10/50\n",
            "13/13 [==============================] - ETA: 0s - loss: 0.5733 - accuracy: 0.7290\n",
            "Epoch 10: val_accuracy did not improve from 0.69547\n",
            "13/13 [==============================] - 1s 117ms/step - loss: 0.5733 - accuracy: 0.7290 - val_loss: 0.5947 - val_accuracy: 0.6785\n",
            "Epoch 11/50\n",
            "13/13 [==============================] - ETA: 0s - loss: 0.5695 - accuracy: 0.7309\n",
            "Epoch 11: val_accuracy did not improve from 0.69547\n",
            "13/13 [==============================] - 1s 91ms/step - loss: 0.5695 - accuracy: 0.7309 - val_loss: 0.5954 - val_accuracy: 0.6714\n",
            "Epoch 12/50\n",
            "13/13 [==============================] - ETA: 0s - loss: 0.5638 - accuracy: 0.7491\n",
            "Epoch 12: val_accuracy improved from 0.69547 to 0.69688, saving model to best_weights.hdf5\n",
            "13/13 [==============================] - 9s 709ms/step - loss: 0.5638 - accuracy: 0.7491 - val_loss: 0.5848 - val_accuracy: 0.6969\n",
            "Epoch 13/50\n",
            "13/13 [==============================] - ETA: 0s - loss: 0.5586 - accuracy: 0.7467\n",
            "Epoch 13: val_accuracy improved from 0.69688 to 0.69830, saving model to best_weights.hdf5\n",
            "13/13 [==============================] - 8s 666ms/step - loss: 0.5586 - accuracy: 0.7467 - val_loss: 0.5844 - val_accuracy: 0.6983\n",
            "Epoch 14/50\n",
            "13/13 [==============================] - ETA: 0s - loss: 0.5561 - accuracy: 0.7442\n",
            "Epoch 14: val_accuracy improved from 0.69830 to 0.69972, saving model to best_weights.hdf5\n",
            "13/13 [==============================] - 10s 863ms/step - loss: 0.5561 - accuracy: 0.7442 - val_loss: 0.5816 - val_accuracy: 0.6997\n",
            "Epoch 15/50\n",
            "13/13 [==============================] - ETA: 0s - loss: 0.5535 - accuracy: 0.7497\n",
            "Epoch 15: val_accuracy improved from 0.69972 to 0.70822, saving model to best_weights.hdf5\n",
            "13/13 [==============================] - 10s 857ms/step - loss: 0.5535 - accuracy: 0.7497 - val_loss: 0.5769 - val_accuracy: 0.7082\n",
            "Epoch 16/50\n",
            "13/13 [==============================] - ETA: 0s - loss: 0.5479 - accuracy: 0.7521\n",
            "Epoch 16: val_accuracy did not improve from 0.70822\n",
            "13/13 [==============================] - 1s 92ms/step - loss: 0.5479 - accuracy: 0.7521 - val_loss: 0.5834 - val_accuracy: 0.6955\n",
            "Epoch 17/50\n",
            "13/13 [==============================] - ETA: 0s - loss: 0.5421 - accuracy: 0.7600\n",
            "Epoch 17: val_accuracy did not improve from 0.70822\n",
            "13/13 [==============================] - 1s 115ms/step - loss: 0.5421 - accuracy: 0.7600 - val_loss: 0.5755 - val_accuracy: 0.7054\n",
            "Epoch 18/50\n",
            "13/13 [==============================] - ETA: 0s - loss: 0.5401 - accuracy: 0.7558\n",
            "Epoch 18: val_accuracy did not improve from 0.70822\n",
            "13/13 [==============================] - 1s 111ms/step - loss: 0.5401 - accuracy: 0.7558 - val_loss: 0.5832 - val_accuracy: 0.6983\n",
            "Epoch 19/50\n",
            "13/13 [==============================] - ETA: 0s - loss: 0.5361 - accuracy: 0.7661\n",
            "Epoch 19: val_accuracy did not improve from 0.70822\n",
            "13/13 [==============================] - 2s 136ms/step - loss: 0.5361 - accuracy: 0.7661 - val_loss: 0.5988 - val_accuracy: 0.6714\n",
            "Epoch 20/50\n",
            "13/13 [==============================] - ETA: 0s - loss: 0.5419 - accuracy: 0.7503\n",
            "Epoch 20: val_accuracy did not improve from 0.70822\n",
            "13/13 [==============================] - 2s 137ms/step - loss: 0.5419 - accuracy: 0.7503 - val_loss: 0.5723 - val_accuracy: 0.7040\n",
            "Epoch 21/50\n",
            "13/13 [==============================] - ETA: 0s - loss: 0.5287 - accuracy: 0.7594\n",
            "Epoch 21: val_accuracy did not improve from 0.70822\n",
            "13/13 [==============================] - 2s 138ms/step - loss: 0.5287 - accuracy: 0.7594 - val_loss: 0.5684 - val_accuracy: 0.7082\n",
            "Epoch 22/50\n",
            "13/13 [==============================] - ETA: 0s - loss: 0.5306 - accuracy: 0.7655\n",
            "Epoch 22: val_accuracy improved from 0.70822 to 0.70963, saving model to best_weights.hdf5\n",
            "13/13 [==============================] - 9s 744ms/step - loss: 0.5306 - accuracy: 0.7655 - val_loss: 0.5709 - val_accuracy: 0.7096\n",
            "Epoch 23/50\n",
            "13/13 [==============================] - ETA: 0s - loss: 0.5223 - accuracy: 0.7752\n",
            "Epoch 23: val_accuracy did not improve from 0.70963\n",
            "13/13 [==============================] - 1s 114ms/step - loss: 0.5223 - accuracy: 0.7752 - val_loss: 0.5879 - val_accuracy: 0.6884\n",
            "Epoch 24/50\n",
            "13/13 [==============================] - ETA: 0s - loss: 0.5241 - accuracy: 0.7740\n",
            "Epoch 24: val_accuracy did not improve from 0.70963\n",
            "13/13 [==============================] - 2s 148ms/step - loss: 0.5241 - accuracy: 0.7740 - val_loss: 0.5838 - val_accuracy: 0.6926\n",
            "Epoch 25/50\n",
            "13/13 [==============================] - ETA: 0s - loss: 0.5180 - accuracy: 0.7758\n",
            "Epoch 25: val_accuracy improved from 0.70963 to 0.71105, saving model to best_weights.hdf5\n",
            "13/13 [==============================] - 7s 584ms/step - loss: 0.5180 - accuracy: 0.7758 - val_loss: 0.5707 - val_accuracy: 0.7110\n",
            "Epoch 26/50\n",
            "13/13 [==============================] - ETA: 0s - loss: 0.5168 - accuracy: 0.7764\n",
            "Epoch 26: val_accuracy did not improve from 0.71105\n",
            "13/13 [==============================] - 1s 120ms/step - loss: 0.5168 - accuracy: 0.7764 - val_loss: 0.5737 - val_accuracy: 0.7068\n",
            "Epoch 27/50\n",
            "13/13 [==============================] - ETA: 0s - loss: 0.5165 - accuracy: 0.7728\n",
            "Epoch 27: val_accuracy improved from 0.71105 to 0.71246, saving model to best_weights.hdf5\n",
            "13/13 [==============================] - 9s 761ms/step - loss: 0.5165 - accuracy: 0.7728 - val_loss: 0.5675 - val_accuracy: 0.7125\n",
            "Epoch 28/50\n",
            "13/13 [==============================] - ETA: 0s - loss: 0.5107 - accuracy: 0.7819\n",
            "Epoch 28: val_accuracy improved from 0.71246 to 0.71388, saving model to best_weights.hdf5\n",
            "13/13 [==============================] - 16s 1s/step - loss: 0.5107 - accuracy: 0.7819 - val_loss: 0.5666 - val_accuracy: 0.7139\n",
            "Epoch 29/50\n",
            "13/13 [==============================] - ETA: 0s - loss: 0.5044 - accuracy: 0.7837\n",
            "Epoch 29: val_accuracy did not improve from 0.71388\n",
            "13/13 [==============================] - 1s 86ms/step - loss: 0.5044 - accuracy: 0.7837 - val_loss: 0.5724 - val_accuracy: 0.7110\n",
            "Epoch 30/50\n",
            "13/13 [==============================] - ETA: 0s - loss: 0.5019 - accuracy: 0.7861\n",
            "Epoch 30: val_accuracy did not improve from 0.71388\n",
            "13/13 [==============================] - 1s 92ms/step - loss: 0.5019 - accuracy: 0.7861 - val_loss: 0.5756 - val_accuracy: 0.7040\n",
            "Epoch 31/50\n",
            "13/13 [==============================] - ETA: 0s - loss: 0.5002 - accuracy: 0.7910\n",
            "Epoch 31: val_accuracy did not improve from 0.71388\n",
            "13/13 [==============================] - 1s 117ms/step - loss: 0.5002 - accuracy: 0.7910 - val_loss: 0.5707 - val_accuracy: 0.7040\n",
            "Epoch 32/50\n",
            "13/13 [==============================] - ETA: 0s - loss: 0.4985 - accuracy: 0.7898\n",
            "Epoch 32: val_accuracy did not improve from 0.71388\n",
            "13/13 [==============================] - 2s 146ms/step - loss: 0.4985 - accuracy: 0.7898 - val_loss: 0.5607 - val_accuracy: 0.7125\n",
            "Epoch 33/50\n",
            "13/13 [==============================] - ETA: 0s - loss: 0.4922 - accuracy: 0.7983\n",
            "Epoch 33: val_accuracy did not improve from 0.71388\n",
            "13/13 [==============================] - 2s 125ms/step - loss: 0.4922 - accuracy: 0.7983 - val_loss: 0.5759 - val_accuracy: 0.6997\n",
            "Epoch 34/50\n",
            "13/13 [==============================] - ETA: 0s - loss: 0.4922 - accuracy: 0.7965\n",
            "Epoch 34: val_accuracy did not improve from 0.71388\n",
            "13/13 [==============================] - 1s 103ms/step - loss: 0.4922 - accuracy: 0.7965 - val_loss: 0.5711 - val_accuracy: 0.7054\n",
            "Epoch 35/50\n",
            "12/13 [==========================>...] - ETA: 0s - loss: 0.4853 - accuracy: 0.8079\n",
            "Epoch 35: val_accuracy did not improve from 0.71388\n",
            "13/13 [==============================] - 1s 115ms/step - loss: 0.4892 - accuracy: 0.8007 - val_loss: 0.5647 - val_accuracy: 0.7110\n",
            "Epoch 36/50\n",
            "13/13 [==============================] - ETA: 0s - loss: 0.4845 - accuracy: 0.8013\n",
            "Epoch 36: val_accuracy did not improve from 0.71388\n",
            "13/13 [==============================] - 1s 114ms/step - loss: 0.4845 - accuracy: 0.8013 - val_loss: 0.5979 - val_accuracy: 0.6799\n",
            "Epoch 37/50\n",
            "13/13 [==============================] - ETA: 0s - loss: 0.4922 - accuracy: 0.7886\n",
            "Epoch 37: val_accuracy did not improve from 0.71388\n",
            "13/13 [==============================] - 1s 87ms/step - loss: 0.4922 - accuracy: 0.7886 - val_loss: 0.5814 - val_accuracy: 0.6969\n",
            "Epoch 38/50\n",
            "13/13 [==============================] - ETA: 0s - loss: 0.4868 - accuracy: 0.7934\n",
            "Epoch 38: val_accuracy improved from 0.71388 to 0.71530, saving model to best_weights.hdf5\n",
            "13/13 [==============================] - 10s 842ms/step - loss: 0.4868 - accuracy: 0.7934 - val_loss: 0.5604 - val_accuracy: 0.7153\n",
            "Epoch 39/50\n",
            "12/13 [==========================>...] - ETA: 0s - loss: 0.4850 - accuracy: 0.7995\n",
            "Epoch 39: val_accuracy did not improve from 0.71530\n",
            "13/13 [==============================] - 1s 117ms/step - loss: 0.4846 - accuracy: 0.8019 - val_loss: 0.5525 - val_accuracy: 0.7082\n",
            "Epoch 40/50\n",
            "13/13 [==============================] - ETA: 0s - loss: 0.4789 - accuracy: 0.8007\n",
            "Epoch 40: val_accuracy improved from 0.71530 to 0.71813, saving model to best_weights.hdf5\n",
            "13/13 [==============================] - 7s 578ms/step - loss: 0.4789 - accuracy: 0.8007 - val_loss: 0.5515 - val_accuracy: 0.7181\n",
            "Epoch 41/50\n",
            "13/13 [==============================] - ETA: 0s - loss: 0.4751 - accuracy: 0.8123\n",
            "Epoch 41: val_accuracy did not improve from 0.71813\n",
            "13/13 [==============================] - 2s 139ms/step - loss: 0.4751 - accuracy: 0.8123 - val_loss: 0.5578 - val_accuracy: 0.7181\n",
            "Epoch 42/50\n",
            "13/13 [==============================] - ETA: 0s - loss: 0.4720 - accuracy: 0.8080\n",
            "Epoch 42: val_accuracy did not improve from 0.71813\n",
            "13/13 [==============================] - 2s 137ms/step - loss: 0.4720 - accuracy: 0.8080 - val_loss: 0.5510 - val_accuracy: 0.7082\n",
            "Epoch 43/50\n",
            "13/13 [==============================] - ETA: 0s - loss: 0.4685 - accuracy: 0.8171\n",
            "Epoch 43: val_accuracy improved from 0.71813 to 0.71955, saving model to best_weights.hdf5\n",
            "13/13 [==============================] - 12s 1s/step - loss: 0.4685 - accuracy: 0.8171 - val_loss: 0.5530 - val_accuracy: 0.7195\n",
            "Epoch 44/50\n",
            "12/13 [==========================>...] - ETA: 0s - loss: 0.4620 - accuracy: 0.8236\n",
            "Epoch 44: val_accuracy did not improve from 0.71955\n",
            "13/13 [==============================] - 1s 116ms/step - loss: 0.4636 - accuracy: 0.8232 - val_loss: 0.5514 - val_accuracy: 0.7153\n",
            "Epoch 45/50\n",
            "13/13 [==============================] - ETA: 0s - loss: 0.4622 - accuracy: 0.8183\n",
            "Epoch 45: val_accuracy did not improve from 0.71955\n",
            "13/13 [==============================] - 1s 88ms/step - loss: 0.4622 - accuracy: 0.8183 - val_loss: 0.5521 - val_accuracy: 0.7195\n",
            "Epoch 46/50\n",
            "13/13 [==============================] - ETA: 0s - loss: 0.4577 - accuracy: 0.8232\n",
            "Epoch 46: val_accuracy did not improve from 0.71955\n",
            "13/13 [==============================] - 1s 117ms/step - loss: 0.4577 - accuracy: 0.8232 - val_loss: 0.5485 - val_accuracy: 0.7125\n",
            "Epoch 47/50\n",
            "13/13 [==============================] - ETA: 0s - loss: 0.4597 - accuracy: 0.8183\n",
            "Epoch 47: val_accuracy improved from 0.71955 to 0.72238, saving model to best_weights.hdf5\n",
            "13/13 [==============================] - 9s 724ms/step - loss: 0.4597 - accuracy: 0.8183 - val_loss: 0.5520 - val_accuracy: 0.7224\n",
            "Epoch 48/50\n",
            "13/13 [==============================] - ETA: 0s - loss: 0.4521 - accuracy: 0.8208\n",
            "Epoch 48: val_accuracy did not improve from 0.72238\n",
            "13/13 [==============================] - 1s 113ms/step - loss: 0.4521 - accuracy: 0.8208 - val_loss: 0.5469 - val_accuracy: 0.7125\n",
            "Epoch 49/50\n",
            "13/13 [==============================] - ETA: 0s - loss: 0.4492 - accuracy: 0.8317\n",
            "Epoch 49: val_accuracy did not improve from 0.72238\n",
            "13/13 [==============================] - 1s 115ms/step - loss: 0.4492 - accuracy: 0.8317 - val_loss: 0.5620 - val_accuracy: 0.7082\n",
            "Epoch 50/50\n",
            "12/13 [==========================>...] - ETA: 0s - loss: 0.4494 - accuracy: 0.8301\n",
            "Epoch 50: val_accuracy did not improve from 0.72238\n",
            "13/13 [==============================] - 1s 94ms/step - loss: 0.4483 - accuracy: 0.8287 - val_loss: 0.5495 - val_accuracy: 0.7195\n"
          ]
        }
      ],
      "source": [
        "# training the model for 50 epochs\n",
        "model_history = model.fit(X_train, y_train, epochs=50, batch_size=128, validation_data=(X_valid,y_valid), callbacks=callbacks_list)"
      ]
    },
    {
      "cell_type": "markdown",
      "metadata": {
        "id": "4nItUUcYtYiw"
      },
      "source": [
        "## 8. Evaluating model performance"
      ]
    },
    {
      "cell_type": "code",
      "execution_count": 23,
      "metadata": {
        "colab": {
          "base_uri": "https://localhost:8080/"
        },
        "id": "TL9y1lUbzrwx",
        "outputId": "c9de69b7-f8c0-4c85-ac4f-4d6b4450317e"
      },
      "outputs": [
        {
          "output_type": "stream",
          "name": "stdout",
          "text": [
            "23/23 [==============================] - 0s 11ms/step\n"
          ]
        }
      ],
      "source": [
        "prediction = model.predict(X_valid)\n",
        "prediction = prediction.reshape(706,)\n",
        "\n",
        "# converting probabilities to classes\n",
        "prediction_int = prediction >= 0.5\n",
        "prediction_int = prediction_int.astype(int)"
      ]
    },
    {
      "cell_type": "code",
      "source": [],
      "metadata": {
        "id": "E8U_meIPbE3B"
      },
      "execution_count": null,
      "outputs": []
    },
    {
      "cell_type": "code",
      "execution_count": 24,
      "metadata": {
        "colab": {
          "base_uri": "https://localhost:8080/"
        },
        "id": "Wbfb8_MWuHB4",
        "outputId": "57ecd518-ab5c-44b5-f224-b66f7c617be3"
      },
      "outputs": [
        {
          "output_type": "stream",
          "name": "stdout",
          "text": [
            "Accuracy on validation set: 0.7195467422096318 %\n"
          ]
        }
      ],
      "source": [
        "# accuracy on validation set\n",
        "print('Accuracy on validation set:', accuracy_score(y_valid, prediction_int), '%')"
      ]
    },
    {
      "cell_type": "code",
      "execution_count": 27,
      "metadata": {
        "id": "qNW5PWTgO0rN"
      },
      "outputs": [],
      "source": [
        "# loading the best model\n",
        "model.load_weights(\"best_weights.hdf5\")\n",
        "#data.Mileage.isnull().sum()"
      ]
    },
    {
      "cell_type": "code",
      "source": [],
      "metadata": {
        "id": "AmKQzfVyclQT"
      },
      "execution_count": null,
      "outputs": []
    },
    {
      "cell_type": "code",
      "execution_count": 29,
      "metadata": {
        "colab": {
          "base_uri": "https://localhost:8080/"
        },
        "id": "wvYQvjk50EN8",
        "outputId": "6d0c36fe-fb01-4404-94fb-19deee4b6d26"
      },
      "outputs": [
        {
          "output_type": "stream",
          "name": "stdout",
          "text": [
            "23/23 [==============================] - 0s 16ms/step\n"
          ]
        }
      ],
      "source": [
        "prediction = model.predict(X_valid)\n",
        "prediction = prediction.reshape(706,)\n",
        "\n",
        "# converting probabilities to classes\n",
        "prediction_int = prediction >= 0.5\n",
        "prediction_int = prediction_int.astype(int)"
      ]
    },
    {
      "cell_type": "code",
      "source": [],
      "metadata": {
        "id": "6M8GtihQcwaA"
      },
      "execution_count": 29,
      "outputs": []
    },
    {
      "cell_type": "code",
      "execution_count": null,
      "metadata": {
        "colab": {
          "base_uri": "https://localhost:8080/"
        },
        "id": "Ath-0kQ6PPzR",
        "outputId": "97de7694-80a2-4321-b65c-a8e435c4ca57"
      },
      "outputs": [
        {
          "name": "stdout",
          "output_type": "stream",
          "text": [
            "Accuracy on validation set: 0.7209631728045326 %\n"
          ]
        }
      ],
      "source": [
        "# accuracy on validation set\n",
        "print('Accuracy on validation set:', accuracy_score(y_valid, prediction_int), '%')"
      ]
    },
    {
      "cell_type": "code",
      "execution_count": null,
      "metadata": {
        "id": "e56NZ45w4o12"
      },
      "outputs": [],
      "source": []
    }
  ],
  "metadata": {
    "accelerator": "GPU",
    "colab": {
      "provenance": [],
      "include_colab_link": true
    },
    "kernelspec": {
      "display_name": "Python 3",
      "language": "python",
      "name": "python3"
    },
    "language_info": {
      "codemirror_mode": {
        "name": "ipython",
        "version": 3
      },
      "file_extension": ".py",
      "mimetype": "text/x-python",
      "name": "python",
      "nbconvert_exporter": "python",
      "pygments_lexer": "ipython3",
      "version": "3.7.6"
    }
  },
  "nbformat": 4,
  "nbformat_minor": 0
}