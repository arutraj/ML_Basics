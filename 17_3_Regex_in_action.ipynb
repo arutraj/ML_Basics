{
  "nbformat": 4,
  "nbformat_minor": 0,
  "metadata": {
    "colab": {
      "provenance": [],
      "include_colab_link": true
    },
    "kernelspec": {
      "display_name": "Python 3",
      "language": "python",
      "name": "python3"
    },
    "language_info": {
      "codemirror_mode": {
        "name": "ipython",
        "version": 3
      },
      "file_extension": ".py",
      "mimetype": "text/x-python",
      "name": "python",
      "nbconvert_exporter": "python",
      "pygments_lexer": "ipython3",
      "version": "3.6.7"
    }
  },
  "cells": [
    {
      "cell_type": "markdown",
      "metadata": {
        "id": "view-in-github",
        "colab_type": "text"
      },
      "source": [
        "<a href=\"https://colab.research.google.com/github/arutraj/ML_Basics/blob/main/17_3_Regex_in_action.ipynb\" target=\"_parent\"><img src=\"https://colab.research.google.com/assets/colab-badge.svg\" alt=\"Open In Colab\"/></a>"
      ]
    },
    {
      "cell_type": "markdown",
      "metadata": {
        "id": "Zf0s_g8kcGwX"
      },
      "source": [
        "# Learn to Use Regular Expressions (RegEx)"
      ]
    },
    {
      "cell_type": "markdown",
      "metadata": {
        "id": "BzgUXp2t5t__"
      },
      "source": [
        "Python has a built-in module to work with regular expressions called **re**. Some of the commonly used methods from the **re** module are listed below:\n",
        "\n",
        "1.re.match( )\n",
        "\n",
        "2.re.search( )\n",
        "\n",
        "3.re.findall( )\n",
        "\n",
        "4.re.sub( )\n",
        "\n",
        "<br>\n",
        "\n",
        "Let us look at each method with the help of example.\n",
        "\n",
        "**1. re.match()**\n",
        "\n",
        "The re.match function returns a match object on success and none on failure."
      ]
    },
    {
      "cell_type": "code",
      "metadata": {
        "id": "LiXEkNiFsuyl",
        "outputId": "610a5652-dba8-4b7f-c3cc-d770d3a2db78",
        "colab": {
          "base_uri": "https://localhost:8080/"
        }
      },
      "source": [
        "# import re library\n",
        "import re\n",
        "\n",
        "#match a word at the beginning of a string\n",
        "\n",
        "result = re.match(' Vidhya',' Vidhya is the largest data science Analytics community of India')\n",
        "print(result)\n",
        "\n",
        "result_2 = re.match('largest','Analytics Vidhya is the largest data science community of India')\n",
        "print(result_2)"
      ],
      "execution_count": 8,
      "outputs": [
        {
          "output_type": "stream",
          "name": "stdout",
          "text": [
            "<re.Match object; span=(0, 7), match=' Vidhya'>\n",
            "None\n"
          ]
        }
      ]
    },
    {
      "cell_type": "markdown",
      "metadata": {
        "id": "8vocMyh-ecWx"
      },
      "source": [
        "Since output of the re.match is an object, we will use *group()* function of match object to get the matched expression."
      ]
    },
    {
      "cell_type": "code",
      "metadata": {
        "id": "UH1qzis2ebvp",
        "outputId": "70684739-a2a1-4035-ce32-665825bf96a8",
        "colab": {
          "base_uri": "https://localhost:8080/"
        }
      },
      "source": [
        "print(result.group())  #returns the total matches"
      ],
      "execution_count": 9,
      "outputs": [
        {
          "output_type": "stream",
          "name": "stdout",
          "text": [
            " Vidhya\n"
          ]
        }
      ]
    },
    {
      "cell_type": "markdown",
      "metadata": {
        "id": "kamRye8242ZW"
      },
      "source": [
        "<br>\n",
        "\n",
        "**2. re.search()**\n",
        "\n",
        "Matches the first occurence of a pattern in the entire string."
      ]
    },
    {
      "cell_type": "code",
      "metadata": {
        "id": "tPWpkEMT15yo",
        "outputId": "3f0c6dea-0dd5-4cda-d3a6-c064f88e2fab",
        "colab": {
          "base_uri": "https://localhost:8080/"
        }
      },
      "source": [
        "# search for the pattern \"founded\" in a given string\n",
        "result = re.search('founded','Andrew NG founded Coursera. He also founded deeplearning.ai')\n",
        "print(result.group())"
      ],
      "execution_count": 13,
      "outputs": [
        {
          "output_type": "stream",
          "name": "stdout",
          "text": [
            "founded\n"
          ]
        }
      ]
    },
    {
      "cell_type": "markdown",
      "metadata": {
        "id": "C3rEa5tA-p1v"
      },
      "source": [
        "<br>\n",
        "\n",
        "**3. re.findall()**\n",
        "\n",
        "It will return all the occurrences of the pattern from the string. I would recommend you to use *re.findall()* always, it can work like both *re.search()* and *re.match()*."
      ]
    },
    {
      "cell_type": "code",
      "metadata": {
        "id": "FnX7nhmm15wv",
        "outputId": "7048a0ba-6a60-4557-84c9-9b0fd212a23a",
        "colab": {
          "base_uri": "https://localhost:8080/"
        }
      },
      "source": [
        "result = re.findall('founde','Andrew NG founded Coursera. He also founded deeplearning.ai')\n",
        "print(result)"
      ],
      "execution_count": 16,
      "outputs": [
        {
          "output_type": "stream",
          "name": "stdout",
          "text": [
            "['founde', 'founde']\n"
          ]
        }
      ]
    },
    {
      "cell_type": "markdown",
      "metadata": {
        "id": "0kcvKxNopI9t"
      },
      "source": [
        "__4. re.sub()__\n",
        "\n",
        "This method returns a string where matched occurences are replaced with a new text string."
      ]
    },
    {
      "cell_type": "code",
      "metadata": {
        "id": "FfzqKbFKptH7",
        "outputId": "4baf26ef-34ca-4813-dfe3-43669f39da74",
        "colab": {
          "base_uri": "https://localhost:8080/"
        }
      },
      "source": [
        "result = re.sub('He', 'Andrew NG', 'Andrew NG founded Coursera. He also founded deeplearning.ai')\n",
        "print(result)"
      ],
      "execution_count": 17,
      "outputs": [
        {
          "output_type": "stream",
          "name": "stdout",
          "text": [
            "Andrew NG founded Coursera. Andrew NG also founded deeplearning.ai\n"
          ]
        }
      ]
    },
    {
      "cell_type": "code",
      "metadata": {
        "id": "B_DKsBbPqG7G",
        "outputId": "3d419579-2354-4943-d1b6-e7871b8b9c2f",
        "colab": {
          "base_uri": "https://localhost:8080/"
        }
      },
      "source": [
        "result = re.sub('also', '', 'Andrew NG founded Coursera. He also founded deeplearning.ai')\n",
        "print(result)"
      ],
      "execution_count": 18,
      "outputs": [
        {
          "output_type": "stream",
          "name": "stdout",
          "text": [
            "Andrew NG founded Coursera. He  founded deeplearning.ai\n"
          ]
        }
      ]
    },
    {
      "cell_type": "markdown",
      "metadata": {
        "id": "xQmyJ3li_FA4"
      },
      "source": [
        "### Special sequences"
      ]
    },
    {
      "cell_type": "markdown",
      "metadata": {
        "id": "9cuV3PLx_0QN"
      },
      "source": [
        "1. **\\b** returns a match where the specified pattern is at the beginning or at the end of a word."
      ]
    },
    {
      "cell_type": "code",
      "metadata": {
        "id": "WHo26_h_-QcB",
        "outputId": "dad332b0-a15a-4167-a327-2cf8e8fe92c3",
        "colab": {
          "base_uri": "https://localhost:8080/"
        }
      },
      "source": [
        "# Check if there is any word that ends with \"est\"\n",
        "x = re.findall(r\"ne\\b\", \"Analytics Vidhya is one of the largest data science communities\")\n",
        "print(x)"
      ],
      "execution_count": 22,
      "outputs": [
        {
          "output_type": "stream",
          "name": "stdout",
          "text": [
            "['ne']\n"
          ]
        }
      ]
    },
    {
      "cell_type": "code",
      "metadata": {
        "id": "yVKk8i4j7Rul",
        "outputId": "1c51b912-5300-459f-c815-222fa59049f8",
        "colab": {
          "base_uri": "https://localhost:8080/"
        }
      },
      "source": [
        "# Check if there is any word that ends with \"est\"\n",
        "x = re.findall(r\"ies\\b\", \"Analytics Vidhya is one of the largest data science communities\")\n",
        "print(x)"
      ],
      "execution_count": 23,
      "outputs": [
        {
          "output_type": "stream",
          "name": "stdout",
          "text": [
            "['ies']\n"
          ]
        }
      ]
    },
    {
      "cell_type": "markdown",
      "metadata": {
        "id": "jf8OMVMH-a3F"
      },
      "source": [
        "It returns the last three characters of the word \"largest\"."
      ]
    },
    {
      "cell_type": "markdown",
      "metadata": {
        "id": "I5dAw37yBkKb"
      },
      "source": [
        "2. **\\d** returns a match when the string contains digits (numbers from 0-9)"
      ]
    },
    {
      "cell_type": "code",
      "metadata": {
        "id": "bJfck2AgsRYO",
        "outputId": "3c300cf2-408c-45ca-eaf3-ecf557028f7e",
        "colab": {
          "base_uri": "https://localhost:8080/"
        }
      },
      "source": [
        "str = \"2 million monthly visits in Jan'19.\"\n",
        "\n",
        "# Check if the string contains any digits (numbers from 0-9):\n",
        "x = re.findall(\"\\d\", str)\n",
        "\n",
        "print(x)"
      ],
      "execution_count": 24,
      "outputs": [
        {
          "output_type": "stream",
          "name": "stdout",
          "text": [
            "['2', '1', '9']\n"
          ]
        }
      ]
    },
    {
      "cell_type": "code",
      "metadata": {
        "id": "RPfU5fMNiu6o",
        "outputId": "b4684074-d447-406f-be28-be801c2543ac",
        "colab": {
          "base_uri": "https://localhost:8080/"
        }
      },
      "source": [
        "str = \"2mi1lion monthly visits in Jan'19.\"\n",
        "\n",
        "# Check if the string contains any digits (numbers from 0-9):\n",
        "# adding '+' after '\\d' will continue to extract digits till encounters a space\n",
        "x = re.findall(\"\\d+\", str)\n",
        "\n",
        "print(x)"
      ],
      "execution_count": 28,
      "outputs": [
        {
          "output_type": "stream",
          "name": "stdout",
          "text": [
            "['2', '1', '19']\n"
          ]
        }
      ]
    },
    {
      "cell_type": "markdown",
      "metadata": {
        "id": "VmrhSJKkjAR2"
      },
      "source": [
        "We can infer that **\\d+** repeats one or more occurences of **\\d** till the non maching character is found where as **\\d** does character wise comparison."
      ]
    },
    {
      "cell_type": "markdown",
      "metadata": {
        "id": "m4IXrubzCSKD"
      },
      "source": [
        "3. **\\w** helps in extraction of alphanumeric characters only (characters from a to Z, digits from 0-9, and the underscore _ character)\n"
      ]
    },
    {
      "cell_type": "code",
      "metadata": {
        "id": "h7SH3j7Aj5Iv",
        "outputId": "dd1de4db-2ab0-4cf0-aa08-6cd6241e9707",
        "colab": {
          "base_uri": "https://localhost:8080/"
        }
      },
      "source": [
        "str = \"2 millionmonthly visits!\"\n",
        "\n",
        "x = re.findall(\"\\w+\",str)\n",
        "\n",
        "print(x)"
      ],
      "execution_count": 30,
      "outputs": [
        {
          "output_type": "stream",
          "name": "stdout",
          "text": [
            "['2', 'millionmonthly', 'visits']\n"
          ]
        }
      ]
    },
    {
      "cell_type": "markdown",
      "metadata": {
        "id": "UIaXDjPYDT1S"
      },
      "source": [
        "## Metacharacters\n",
        "\n",
        "Metacharacters are characters with a special meaning\n",
        "\n",
        "1. **(.)** matches any character (except newline character)"
      ]
    },
    {
      "cell_type": "code",
      "metadata": {
        "id": "hFZuFqBdDS3l",
        "outputId": "55dba15b-759e-416e-fc8b-e1f00655f135",
        "colab": {
          "base_uri": "https://localhost:8080/"
        }
      },
      "source": [
        "str = \"rohan and rohit recently published a research paper!\"\n",
        "\n",
        "# search for a string that starts with \"ro\", followed by 1 character\n",
        "x = re.findall(\"r.....\", str)\n",
        "\n",
        "print(x)"
      ],
      "execution_count": 35,
      "outputs": [
        {
          "output_type": "stream",
          "name": "stdout",
          "text": [
            "['rohan ', 'rohit ', 'recent', 'resear']\n"
          ]
        }
      ]
    },
    {
      "cell_type": "code",
      "metadata": {
        "id": "tTbMuMd_5vFb",
        "outputId": "f67c36be-68a0-44a3-da83-d4bd724e7a2c",
        "colab": {
          "base_uri": "https://localhost:8080/"
        }
      },
      "source": [
        "# search for a string that starts with \"ro\", followed by three characters\n",
        "x2 = re.findall(\"ro...\", str)\n",
        "\n",
        "print(x2)"
      ],
      "execution_count": 36,
      "outputs": [
        {
          "output_type": "stream",
          "name": "stdout",
          "text": [
            "['rohan', 'rohit']\n"
          ]
        }
      ]
    },
    {
      "cell_type": "markdown",
      "metadata": {
        "id": "zI7dJWYpDl3G"
      },
      "source": [
        "2. **(^)** starts with"
      ]
    },
    {
      "cell_type": "code",
      "metadata": {
        "id": "_3uPdcQPDlR0",
        "outputId": "e48e28e8-154c-4938-efba-34111cdbf27e",
        "colab": {
          "base_uri": "https://localhost:8080/"
        }
      },
      "source": [
        "str = \"Data Science\"\n",
        "\n",
        "#Check if the string starts with 'Data':\n",
        "x = re.findall(\"^ata\", str)\n",
        "\n",
        "if (x):\n",
        "  print(\"Yes, the string starts with 'Data'\")\n",
        "else:\n",
        "  print(\"No match\")\n",
        "\n",
        "#print(x)"
      ],
      "execution_count": 38,
      "outputs": [
        {
          "output_type": "stream",
          "name": "stdout",
          "text": [
            "No match\n"
          ]
        }
      ]
    },
    {
      "cell_type": "code",
      "metadata": {
        "id": "QTbvAIFfHAVY",
        "outputId": "eebe9a12-393e-4b65-d949-c83a674fe987",
        "colab": {
          "base_uri": "https://localhost:8080/"
        }
      },
      "source": [
        "# try with a different string\n",
        "str2 = \"Big Data\"\n",
        "\n",
        "#Check if the string starts with 'Data':\n",
        "x2 = re.findall(\"^Data\", str2)\n",
        "\n",
        "if (x2):\n",
        "  print(\"Yes, the string starts with 'data'\")\n",
        "else:\n",
        "  print(\"No match\")\n",
        "\n",
        "#print(x2)"
      ],
      "execution_count": 39,
      "outputs": [
        {
          "output_type": "stream",
          "name": "stdout",
          "text": [
            "No match\n"
          ]
        }
      ]
    },
    {
      "cell_type": "markdown",
      "metadata": {
        "id": "8uPoaY_ID0LW"
      },
      "source": [
        "3. **($)** ends with"
      ]
    },
    {
      "cell_type": "code",
      "metadata": {
        "id": "IK_XYDpmC9f_",
        "outputId": "f2f4c576-6c92-4601-a2f3-b6384a8a5a4b",
        "colab": {
          "base_uri": "https://localhost:8080/"
        }
      },
      "source": [
        "str = \"Data Science\"\n",
        "\n",
        "#Check if the string ends with 'Science':\n",
        "\n",
        "x = re.findall(\"cien$\", str)\n",
        "\n",
        "if (x):\n",
        "  print(\"Yes, the string ends with 'Science'\")\n",
        "\n",
        "else:\n",
        "  print(\"No match\")\n",
        "\n",
        "#print(x)"
      ],
      "execution_count": 42,
      "outputs": [
        {
          "output_type": "stream",
          "name": "stdout",
          "text": [
            "No match\n"
          ]
        }
      ]
    },
    {
      "cell_type": "code",
      "metadata": {
        "id": "qV9oLbgGg2A4",
        "outputId": "b74c4798-ad29-44bf-a1b7-fea4c2a42f2d",
        "colab": {
          "base_uri": "https://localhost:8080/"
        }
      },
      "source": [
        "str = \"Big Data\"\n",
        "\n",
        "#Check if the string ends with 'Science':\n",
        "\n",
        "x = re.findall(\"Science$\", str)\n",
        "\n",
        "if (x):\n",
        "  print(\"Yes, the string ends with 'Science'\")\n",
        "\n",
        "else:\n",
        "  print(\"No match\")\n",
        "\n",
        "#print(x)"
      ],
      "execution_count": 43,
      "outputs": [
        {
          "output_type": "stream",
          "name": "stdout",
          "text": [
            "No match\n"
          ]
        }
      ]
    },
    {
      "cell_type": "markdown",
      "metadata": {
        "id": "Fz089xrhD-HP"
      },
      "source": [
        "4. (*) matches for zero or more occurences of the pattern to the left of it."
      ]
    },
    {
      "cell_type": "code",
      "metadata": {
        "id": "5vXhYm30CRi4",
        "outputId": "c4a395da-0d26-4b80-ecbe-37d67e19df9a",
        "colab": {
          "base_uri": "https://localhost:8080/"
        }
      },
      "source": [
        "str = \"easy eatsssy eaoyt eaty\"\n",
        "\n",
        "#Check if the string contains \"ea\" followed by 0 or more \"s\" characters and ending with y\n",
        "x = re.findall(\"eas*y\", str)\n",
        "\n",
        "print(x)"
      ],
      "execution_count": 48,
      "outputs": [
        {
          "output_type": "stream",
          "name": "stdout",
          "text": [
            "['easy']\n"
          ]
        }
      ]
    },
    {
      "cell_type": "markdown",
      "metadata": {
        "id": "Bvc01ip_E_la"
      },
      "source": [
        "## Sets\n",
        "\n",
        "1. A set is a bunch of characters inside a pair of square brackets [ ] with a special meaning."
      ]
    },
    {
      "cell_type": "code",
      "metadata": {
        "id": "qvUXj2t6EgqK",
        "outputId": "aa0a8774-6127-4244-fa0b-b1373560363c",
        "colab": {
          "base_uri": "https://localhost:8080/"
        }
      },
      "source": [
        "str = \"Analytics Vidhya is one of the largest data science communities\"\n",
        "\n",
        "#Check for the characters y, d, or h, in the above string\n",
        "x = re.findall(\"[ydh]\", str)\n",
        "\n",
        "print(x)"
      ],
      "execution_count": 49,
      "outputs": [
        {
          "output_type": "stream",
          "name": "stdout",
          "text": [
            "['y', 'd', 'h', 'y', 'h', 'd']\n"
          ]
        }
      ]
    },
    {
      "cell_type": "code",
      "metadata": {
        "id": "SsizfCMeK7w0",
        "outputId": "013d607b-8ad6-4000-f0d1-c6e7914a84b5",
        "colab": {
          "base_uri": "https://localhost:8080/"
        }
      },
      "source": [
        "str = \"Analytics Vidhya is the one of the largest data science communities\"\n",
        "\n",
        "#Check for the characters between a and g, in the above string\n",
        "x = re.findall(\"[a-g]\", str)\n",
        "\n",
        "print(x)"
      ],
      "execution_count": 50,
      "outputs": [
        {
          "output_type": "stream",
          "name": "stdout",
          "text": [
            "['a', 'c', 'd', 'a', 'e', 'e', 'f', 'e', 'a', 'g', 'e', 'd', 'a', 'a', 'c', 'e', 'c', 'e', 'c', 'e']\n"
          ]
        }
      ]
    },
    {
      "cell_type": "markdown",
      "metadata": {
        "id": "F9fLACdByqG4"
      },
      "source": [
        "2. **[^]** Check whether string has other characters mentioned after ^"
      ]
    },
    {
      "cell_type": "code",
      "metadata": {
        "id": "E-RchTxCFB9Z",
        "outputId": "aa540a22-f5ee-4d50-9366-c1dd8b62b21d",
        "colab": {
          "base_uri": "https://localhost:8080/"
        }
      },
      "source": [
        "str = \"Analytics Vidhya is one of the largest data sciece communities\"\n",
        "\n",
        "#Check if every word character has characters other than y, d, or h\n",
        "\n",
        "x = re.findall(\"[^sdh]\", str)\n",
        "\n",
        "print(x)"
      ],
      "execution_count": 52,
      "outputs": [
        {
          "output_type": "stream",
          "name": "stdout",
          "text": [
            "['A', 'n', 'a', 'l', 'y', 't', 'i', 'c', ' ', 'V', 'i', 'y', 'a', ' ', 'i', ' ', 'o', 'n', 'e', ' ', 'o', 'f', ' ', 't', 'e', ' ', 'l', 'a', 'r', 'g', 'e', 't', ' ', 'a', 't', 'a', ' ', 'c', 'i', 'e', 'c', 'e', ' ', 'c', 'o', 'm', 'm', 'u', 'n', 'i', 't', 'i', 'e']\n"
          ]
        }
      ]
    },
    {
      "cell_type": "code",
      "metadata": {
        "id": "bnIyO4jBq7ev",
        "outputId": "8d8536e4-318b-495e-c95f-530877f93dc7",
        "colab": {
          "base_uri": "https://localhost:8080/"
        }
      },
      "source": [
        "str = \"@AnalyticsVidhya\"\n",
        "\n",
        "x = re.findall(\"[^@]\", str)\n",
        "\n",
        "print(x)"
      ],
      "execution_count": 53,
      "outputs": [
        {
          "output_type": "stream",
          "name": "stdout",
          "text": [
            "['A', 'n', 'a', 'l', 'y', 't', 'i', 'c', 's', 'V', 'i', 'd', 'h', 'y', 'a']\n"
          ]
        }
      ]
    },
    {
      "cell_type": "code",
      "source": [
        "string = \"Contact us on training_queries@analyticsvidhya.com\"\n",
        "\n",
        "match = re.search(\"([\\w.]+)@([\\w_]+)\", string)"
      ],
      "metadata": {
        "id": "uz4kjH_X5wIj"
      },
      "execution_count": 61,
      "outputs": []
    },
    {
      "cell_type": "markdown",
      "metadata": {
        "id": "58EH37MJ3b2t"
      },
      "source": [
        "---\n",
        "## Solve Some Queries\n",
        "\n",
        "Let us try solving some queries that we are likeli to come across while working with real world text datasets.\n",
        "\n"
      ]
    },
    {
      "cell_type": "markdown",
      "metadata": {
        "id": "fTxr0XL0uQRz"
      },
      "source": [
        "### Eliminating Unwanted Terms"
      ]
    },
    {
      "cell_type": "code",
      "metadata": {
        "id": "ERuBZsjmvYfV",
        "outputId": "f4c0d4d4-a9ee-4647-b100-5e9e71942657",
        "colab": {
          "base_uri": "https://localhost:8080/"
        }
      },
      "source": [
        "str = \"@AV a Data Science community #AV!!\"\n",
        "\n",
        "# extract words that start with a special character\n",
        "x = re.sub(\"[^a-zA-Z ]\", \"\",str)\n",
        "\n",
        "print(x)"
      ],
      "execution_count": 54,
      "outputs": [
        {
          "output_type": "stream",
          "name": "stdout",
          "text": [
            "AV a Data Science community AV\n"
          ]
        }
      ]
    },
    {
      "cell_type": "code",
      "metadata": {
        "id": "a1W_Thott5eu",
        "outputId": "ee268a7d-879d-4378-92b6-453173233388",
        "colab": {
          "base_uri": "https://localhost:8080/"
        }
      },
      "source": [
        "str = \"@AV a Data Science community #AV!!\"\n",
        "\n",
        "# extract words that start with a special character\n",
        "# \\w matches any alpha numeric character\n",
        "# + for repeats a character one or more times\n",
        "x = re.sub(\"[^a-zA-Z ]\\w+\", \"\",str)\n",
        "\n",
        "print(x)"
      ],
      "execution_count": 55,
      "outputs": [
        {
          "output_type": "stream",
          "name": "stdout",
          "text": [
            " a Data Science community !!\n"
          ]
        }
      ]
    },
    {
      "cell_type": "markdown",
      "metadata": {
        "id": "fZVxO8pZuMxZ"
      },
      "source": [
        "### Finding Email IDs"
      ]
    },
    {
      "cell_type": "code",
      "metadata": {
        "id": "lWfrRxAD177J",
        "outputId": "d1fc70ff-863d-4c61-bfb1-8680f67c874b",
        "colab": {
          "base_uri": "https://localhost:8080/"
        }
      },
      "source": [
        "str = 'Send a mail to rohan.1997@gmail.com, smith_david34@yahoo.com and priya@yahoo.com about the meeting @2PM'\n",
        "\n",
        "# \\w matches any alpha numeric character\n",
        "# + for repeats a character one or more times\n",
        "x = re.findall('[a-zA-Z0-9._-]+@\\w+\\.com', str)\n",
        "\n",
        "# Printing of List\n",
        "print(x)"
      ],
      "execution_count": 56,
      "outputs": [
        {
          "output_type": "stream",
          "name": "stdout",
          "text": [
            "['rohan.1997@gmail.com', 'smith_david34@yahoo.com', 'priya@yahoo.com']\n"
          ]
        }
      ]
    },
    {
      "cell_type": "code",
      "metadata": {
        "id": "QV-sepYG5Qbt"
      },
      "source": [],
      "execution_count": null,
      "outputs": []
    }
  ]
}