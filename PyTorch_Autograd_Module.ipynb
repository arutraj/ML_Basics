{
  "nbformat": 4,
  "nbformat_minor": 0,
  "metadata": {
    "colab": {
      "provenance": [],
      "include_colab_link": true
    },
    "kernelspec": {
      "name": "python3",
      "display_name": "Python 3"
    },
    "accelerator": "GPU"
  },
  "cells": [
    {
      "cell_type": "markdown",
      "metadata": {
        "id": "view-in-github",
        "colab_type": "text"
      },
      "source": [
        "<a href=\"https://colab.research.google.com/github/arutraj/ML_Basics/blob/main/PyTorch_Autograd_Module.ipynb\" target=\"_parent\"><img src=\"https://colab.research.google.com/assets/colab-badge.svg\" alt=\"Open In Colab\"/></a>"
      ]
    },
    {
      "cell_type": "code",
      "metadata": {
        "id": "ufxjyUsuS70w"
      },
      "source": [
        "# importing torch library\n",
        "import torch"
      ],
      "execution_count": 2,
      "outputs": []
    },
    {
      "cell_type": "code",
      "metadata": {
        "id": "Y5L5cq2KS6tb",
        "outputId": "9bd1ed52-1048-4a19-b3a7-cbec1f1e669b",
        "colab": {
          "base_uri": "https://localhost:8080/"
        }
      },
      "source": [
        "# initializing a 2d tensor\n",
        "a = torch.tensor([[1,1], [1,1]], dtype=torch.float)\n",
        "a"
      ],
      "execution_count": 3,
      "outputs": [
        {
          "output_type": "execute_result",
          "data": {
            "text/plain": [
              "tensor([[1., 1.],\n",
              "        [1., 1.]])"
            ]
          },
          "metadata": {},
          "execution_count": 3
        }
      ]
    },
    {
      "cell_type": "code",
      "metadata": {
        "id": "7sUfDwaETIMQ",
        "outputId": "4c787968-ef69-4ba5-fe7e-0d3831608d55",
        "colab": {
          "base_uri": "https://localhost:8080/"
        }
      },
      "source": [
        "# performing operations on the tensor\n",
        "b = a + 5\n",
        "print(b)"
      ],
      "execution_count": 4,
      "outputs": [
        {
          "output_type": "stream",
          "name": "stdout",
          "text": [
            "tensor([[6., 6.],\n",
            "        [6., 6.]])\n"
          ]
        }
      ]
    },
    {
      "cell_type": "code",
      "metadata": {
        "id": "AwzOn_BXTO6F",
        "outputId": "f2425020-97d0-46e3-9785-079411dad632",
        "colab": {
          "base_uri": "https://localhost:8080/"
        }
      },
      "source": [
        "# performing another operation\n",
        "c = b.mean()\n",
        "print(c)"
      ],
      "execution_count": 5,
      "outputs": [
        {
          "output_type": "stream",
          "name": "stdout",
          "text": [
            "tensor(6.)\n"
          ]
        }
      ]
    },
    {
      "cell_type": "markdown",
      "metadata": {
        "id": "_UCuralTTrd5"
      },
      "source": [
        "### Operations we have applied\n",
        "\n",
        "\n",
        "\n",
        "1. First of all, we added 5 to all the elements of this tensor\n",
        "2. Then, we took the mean of that tensor\n",
        "\n",
        "We performed the following operations on a:\n",
        "\n",
        "b = a + 5\n",
        "\n",
        "c = mean(b) = Σ(a+5) / 4"
      ]
    },
    {
      "cell_type": "markdown",
      "metadata": {
        "id": "03e0CrUDQpd6"
      },
      "source": [
        "\n",
        "\n",
        "\n",
        "\n",
        "\n",
        "### Gradient of c with respect to a\n",
        "\n",
        "dc / da = dc/db * db / da = 1/4(1+0) * (1+0) = 1/4 = 0.25\n",
        "\n",
        "Similarly, we can compute for all elements of a"
      ]
    },
    {
      "cell_type": "markdown",
      "metadata": {
        "id": "H0NymKMlUaSf"
      },
      "source": [
        "## Automatic Differentiation"
      ]
    },
    {
      "cell_type": "code",
      "metadata": {
        "id": "nvVnfksYUZz9",
        "outputId": "1b30f2bb-e6e6-40ff-e04b-0e809005c9f9",
        "colab": {
          "base_uri": "https://localhost:8080/"
        }
      },
      "source": [
        "# initializing a 2d tensor and setting requires_grad as True\n",
        "a = torch.tensor([[1,1], [1,1]], dtype= torch.float, requires_grad=True)\n",
        "a"
      ],
      "execution_count": 6,
      "outputs": [
        {
          "output_type": "execute_result",
          "data": {
            "text/plain": [
              "tensor([[1., 1.],\n",
              "        [1., 1.]], requires_grad=True)"
            ]
          },
          "metadata": {},
          "execution_count": 6
        }
      ]
    },
    {
      "cell_type": "code",
      "metadata": {
        "id": "wZQSTpMsTgjg",
        "outputId": "426c262b-5851-4acf-979d-74b4b98bf9f4",
        "colab": {
          "base_uri": "https://localhost:8080/"
        }
      },
      "source": [
        "# performing operations on the tensor\n",
        "b = a + 5\n",
        "c = b.mean()\n",
        "print(b)\n",
        "print(c)"
      ],
      "execution_count": 8,
      "outputs": [
        {
          "output_type": "stream",
          "name": "stdout",
          "text": [
            "tensor([[6., 6.],\n",
            "        [6., 6.]], grad_fn=<AddBackward0>)\n",
            "tensor(6., grad_fn=<MeanBackward0>)\n"
          ]
        }
      ]
    },
    {
      "cell_type": "code",
      "metadata": {
        "id": "3mib79cKUpLO"
      },
      "source": [
        "# back propagating\n",
        "c.backward()"
      ],
      "execution_count": 12,
      "outputs": []
    },
    {
      "cell_type": "code",
      "metadata": {
        "id": "z3MDNuFUUwwE",
        "outputId": "2cdf3899-9f91-431b-88ec-795be8acfc17",
        "colab": {
          "base_uri": "https://localhost:8080/",
          "height": 158
        }
      },
      "source": [
        "# calculated gradients\n",
        "print(a.grad)"
      ],
      "execution_count": 1,
      "outputs": [
        {
          "output_type": "error",
          "ename": "NameError",
          "evalue": "name 'a' is not defined",
          "traceback": [
            "\u001b[0;31m---------------------------------------------------------------------------\u001b[0m",
            "\u001b[0;31mNameError\u001b[0m                                 Traceback (most recent call last)",
            "\u001b[0;32m<ipython-input-1-afb86a98326d>\u001b[0m in \u001b[0;36m<cell line: 2>\u001b[0;34m()\u001b[0m\n\u001b[1;32m      1\u001b[0m \u001b[0;31m# calculated gradients\u001b[0m\u001b[0;34m\u001b[0m\u001b[0;34m\u001b[0m\u001b[0m\n\u001b[0;32m----> 2\u001b[0;31m \u001b[0mprint\u001b[0m\u001b[0;34m(\u001b[0m\u001b[0ma\u001b[0m\u001b[0;34m.\u001b[0m\u001b[0mgrad\u001b[0m\u001b[0;34m)\u001b[0m\u001b[0;34m\u001b[0m\u001b[0;34m\u001b[0m\u001b[0m\n\u001b[0m",
            "\u001b[0;31mNameError\u001b[0m: name 'a' is not defined"
          ]
        }
      ]
    },
    {
      "cell_type": "code",
      "metadata": {
        "id": "Kou6WvaQUzwz"
      },
      "source": [],
      "execution_count": null,
      "outputs": []
    }
  ]
}