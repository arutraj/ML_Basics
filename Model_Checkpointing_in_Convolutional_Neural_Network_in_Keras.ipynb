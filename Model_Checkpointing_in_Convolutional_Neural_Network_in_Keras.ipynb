{
  "cells": [
    {
      "cell_type": "markdown",
      "metadata": {
        "id": "view-in-github",
        "colab_type": "text"
      },
      "source": [
        "<a href=\"https://colab.research.google.com/github/arutraj/ML_Basics/blob/main/Model_Checkpointing_in_Convolutional_Neural_Network_in_Keras.ipynb\" target=\"_parent\"><img src=\"https://colab.research.google.com/assets/colab-badge.svg\" alt=\"Open In Colab\"/></a>"
      ]
    },
    {
      "cell_type": "markdown",
      "metadata": {
        "id": "IxgcP-B3ejGc"
      },
      "source": [
        "# Steps to build CNN to solve Emergency vs Non-Emergency vehicle classification problem\n",
        "\n",
        "1. Loading the Dataset\n",
        "2. Pre-processing the Data\n",
        "3. Creating Training and Validation set\n",
        "4. Defining the Model Architecture\n",
        "5. Compiling the Model\n",
        "6. Training the Model\n",
        "<ol>Model Checkpointing</ol>\n",
        "7. Evaluating model performance"
      ]
    },
    {
      "cell_type": "markdown",
      "metadata": {
        "id": "hNWck_ZahKLA"
      },
      "source": [
        "## 1. Loading the Dataset"
      ]
    },
    {
      "cell_type": "code",
      "execution_count": 3,
      "metadata": {
        "id": "Kf2C4oSfhKLH"
      },
      "outputs": [],
      "source": [
        "# import necessary libraries and functions\n",
        "import numpy as np\n",
        "import pandas as pd\n",
        "import matplotlib.pyplot as plt\n",
        "%matplotlib inline\n",
        "\n",
        "# importing layers from keras\n",
        "from keras.layers import Dense, InputLayer, BatchNormalization, Dropout\n",
        "from keras.models import Sequential\n",
        "# importing adam optimizer from keras optimizer module\n",
        "from keras.optimizers import Adam\n",
        "\n",
        "# train_test_split to create training and validation set\n",
        "from sklearn.model_selection import train_test_split\n",
        "# accuracy_score to calculate the accuracy of predictions\n",
        "from sklearn.metrics import accuracy_score"
      ]
    },
    {
      "cell_type": "code",
      "execution_count": 2,
      "metadata": {
        "colab": {
          "base_uri": "https://localhost:8080/"
        },
        "id": "x_VY_HZ5hm-z",
        "outputId": "4892fd5d-615f-4cb3-aa9d-9f9276606842"
      },
      "outputs": [
        {
          "output_type": "stream",
          "name": "stdout",
          "text": [
            "Mounted at /content/drive\n"
          ]
        }
      ],
      "source": [
        "from google.colab import drive\n",
        "drive.mount('/content/drive')"
      ]
    },
    {
      "cell_type": "code",
      "execution_count": 4,
      "metadata": {
        "colab": {
          "base_uri": "https://localhost:8080/"
        },
        "collapsed": true,
        "id": "1bb6wmB1hmvk",
        "jupyter": {
          "outputs_hidden": true
        },
        "outputId": "fc9edb90-633f-4eca-be87-ebec48a532c0"
      },
      "outputs": [
        {
          "output_type": "stream",
          "name": "stdout",
          "text": [
            "2352\n"
          ]
        }
      ],
      "source": [
        "# unzipping the Dataset.zip file\n",
        "#!unzip /content/drive/MyDrive/Dataset.zip\n",
        "!ls /content/drive/MyDrive/AnalyticsVidya/DeepLearning/images/*jpg |wc -l"
      ]
    },
    {
      "cell_type": "code",
      "execution_count": 5,
      "metadata": {
        "id": "ZCK0i2SAhKLa"
      },
      "outputs": [],
      "source": [
        "# create random number generator\n",
        "seed = 42"
      ]
    },
    {
      "cell_type": "code",
      "execution_count": 6,
      "metadata": {
        "id": "_MKVrwevhKLk"
      },
      "outputs": [],
      "source": [
        "# reading the csv file\n",
        "data = pd.read_csv('/content/emergency_classification.csv')"
      ]
    },
    {
      "cell_type": "code",
      "execution_count": 7,
      "metadata": {
        "id": "OUcBZmDLhKLt"
      },
      "outputs": [],
      "source": [
        "# load images and store it in numpy array\n",
        "\n",
        "# empty list to store the images\n",
        "X = []\n",
        "# iterating over each image\n",
        "for img_name in data.image_names:\n",
        "    # loading the image using its name\n",
        "    img = plt.imread('/content/drive/MyDrive/AnalyticsVidya/DeepLearning/images/' + img_name)\n",
        "    # saving each image in the list\n",
        "    X.append(img)\n",
        "\n",
        "# converting the list of images into array\n",
        "X=np.array(X)\n",
        "\n",
        "# storing the target variable in separate variable\n",
        "y = data.emergency_or_not.values"
      ]
    },
    {
      "cell_type": "code",
      "execution_count": 8,
      "metadata": {
        "colab": {
          "base_uri": "https://localhost:8080/"
        },
        "id": "teJk4rIThKL2",
        "outputId": "83554308-83d4-4f0f-a817-49beb1122d7c"
      },
      "outputs": [
        {
          "output_type": "execute_result",
          "data": {
            "text/plain": [
              "(2352, 224, 224, 3)"
            ]
          },
          "metadata": {},
          "execution_count": 8
        }
      ],
      "source": [
        "# shape of the images\n",
        "X.shape"
      ]
    },
    {
      "cell_type": "markdown",
      "metadata": {
        "id": "nKxqxL45ijJX"
      },
      "source": [
        "## 2. Pre-processing the Data"
      ]
    },
    {
      "cell_type": "code",
      "execution_count": 9,
      "metadata": {
        "id": "9HXsTHmJhKL_"
      },
      "outputs": [],
      "source": [
        "# normalizing the pixel values\n",
        "X = X / X.max()"
      ]
    },
    {
      "cell_type": "markdown",
      "metadata": {
        "id": "WDM9Hjsiisyl"
      },
      "source": [
        "## 3. Creating Training and Validation set"
      ]
    },
    {
      "cell_type": "code",
      "execution_count": 10,
      "metadata": {
        "id": "JIO9W5ihhKMF"
      },
      "outputs": [],
      "source": [
        "# creating a training and validation set\n",
        "X_train, X_valid, y_train, y_valid=train_test_split(X,y,test_size=0.3, random_state=seed)"
      ]
    },
    {
      "cell_type": "code",
      "execution_count": 11,
      "metadata": {
        "colab": {
          "base_uri": "https://localhost:8080/"
        },
        "id": "66pP0PgXiz5U",
        "outputId": "b729de63-2622-42bc-87ef-3445967e05a5"
      },
      "outputs": [
        {
          "output_type": "execute_result",
          "data": {
            "text/plain": [
              "(((1646, 224, 224, 3), (1646,)), ((706, 224, 224, 3), (706,)))"
            ]
          },
          "metadata": {},
          "execution_count": 11
        }
      ],
      "source": [
        "# shape of training and validation set\n",
        "(X_train.shape, y_train.shape), (X_valid.shape, y_valid.shape)"
      ]
    },
    {
      "cell_type": "markdown",
      "metadata": {
        "id": "f_HSxXtVhKMO"
      },
      "source": [
        "## 4. Defining the Model Architecture"
      ]
    },
    {
      "cell_type": "code",
      "execution_count": 12,
      "metadata": {
        "id": "8H-ihteG_y4_"
      },
      "outputs": [],
      "source": [
        "# importing the convolutional and flatten layer from keras\n",
        "from keras.layers import Conv2D, Flatten, MaxPool2D"
      ]
    },
    {
      "cell_type": "code",
      "execution_count": 13,
      "metadata": {
        "id": "elD4F16q_uRQ"
      },
      "outputs": [],
      "source": [
        "# defining the model architecture with maxpool layer\n",
        "\n",
        "model = Sequential()\n",
        "\n",
        "model.add(InputLayer(input_shape=(224, 224, 3)))\n",
        "\n",
        "model.add(Conv2D(50, (5, 5), activation='relu', strides=(1, 1), padding='valid'))\n",
        "model.add(MaxPool2D(pool_size=(2, 2), padding='valid'))\n",
        "model.add(Conv2D(50, (5, 5), activation='relu', strides=(1, 1), padding='valid'))\n",
        "model.add(MaxPool2D(pool_size=(4, 4), padding='valid'))\n",
        "\n",
        "model.add(Flatten())\n",
        "\n",
        "model.add(Dense(units=100, activation='relu'))\n",
        "model.add(BatchNormalization())\n",
        "model.add(Dropout(rate=0.6))\n",
        "model.add(Dense(units=100, activation='relu'))\n",
        "model.add(BatchNormalization())\n",
        "model.add(Dropout(rate=0.6))\n",
        "model.add(Dense(units=1, activation='sigmoid'))"
      ]
    },
    {
      "cell_type": "code",
      "execution_count": 14,
      "metadata": {
        "colab": {
          "base_uri": "https://localhost:8080/"
        },
        "id": "BBwKWQjE_v4j",
        "outputId": "76fe011a-1313-456b-b054-7ca854c1cf26"
      },
      "outputs": [
        {
          "output_type": "stream",
          "name": "stdout",
          "text": [
            "Model: \"sequential\"\n",
            "_________________________________________________________________\n",
            " Layer (type)                Output Shape              Param #   \n",
            "=================================================================\n",
            " conv2d (Conv2D)             (None, 220, 220, 50)      3800      \n",
            "                                                                 \n",
            " max_pooling2d (MaxPooling2  (None, 110, 110, 50)      0         \n",
            " D)                                                              \n",
            "                                                                 \n",
            " conv2d_1 (Conv2D)           (None, 106, 106, 50)      62550     \n",
            "                                                                 \n",
            " max_pooling2d_1 (MaxPoolin  (None, 26, 26, 50)        0         \n",
            " g2D)                                                            \n",
            "                                                                 \n",
            " flatten (Flatten)           (None, 33800)             0         \n",
            "                                                                 \n",
            " dense (Dense)               (None, 100)               3380100   \n",
            "                                                                 \n",
            " batch_normalization (Batch  (None, 100)               400       \n",
            " Normalization)                                                  \n",
            "                                                                 \n",
            " dropout (Dropout)           (None, 100)               0         \n",
            "                                                                 \n",
            " dense_1 (Dense)             (None, 100)               10100     \n",
            "                                                                 \n",
            " batch_normalization_1 (Bat  (None, 100)               400       \n",
            " chNormalization)                                                \n",
            "                                                                 \n",
            " dropout_1 (Dropout)         (None, 100)               0         \n",
            "                                                                 \n",
            " dense_2 (Dense)             (None, 1)                 101       \n",
            "                                                                 \n",
            "=================================================================\n",
            "Total params: 3457451 (13.19 MB)\n",
            "Trainable params: 3457051 (13.19 MB)\n",
            "Non-trainable params: 400 (1.56 KB)\n",
            "_________________________________________________________________\n"
          ]
        }
      ],
      "source": [
        "# printing summary of the model\n",
        "model.summary()"
      ]
    },
    {
      "cell_type": "markdown",
      "metadata": {
        "id": "Ih1KTM7MF1-2"
      },
      "source": [
        "## 5. Compiling the Model"
      ]
    },
    {
      "cell_type": "code",
      "execution_count": 15,
      "metadata": {
        "id": "uXF1_OIWhKMg"
      },
      "outputs": [],
      "source": [
        "# compiling the model\n",
        "model.compile(loss='binary_crossentropy', optimizer=\"adam\", metrics=['accuracy'])"
      ]
    },
    {
      "cell_type": "markdown",
      "metadata": {
        "id": "6L1-5Ik4GC1y"
      },
      "source": [
        "## 6. Training the Model"
      ]
    },
    {
      "cell_type": "code",
      "execution_count": 16,
      "metadata": {
        "id": "srXn-FYnNAAo"
      },
      "outputs": [],
      "source": [
        "# defining model checkpointing\n",
        "from keras.callbacks import ModelCheckpoint\n",
        "\n",
        "# defining the path to save the model\n",
        "path = 'best_model.hdf5'\n",
        "\n",
        "# defining model checkpointing\n",
        "checkpoint = ModelCheckpoint(path, monitor='val_accuracy', verbose = 1, save_best_only = True, mode='max')\n",
        "\n",
        "# defining callback list\n",
        "callback_list = [checkpoint]"
      ]
    },
    {
      "cell_type": "code",
      "execution_count": 17,
      "metadata": {
        "colab": {
          "base_uri": "https://localhost:8080/"
        },
        "id": "JF4dEvsrhKMo",
        "outputId": "09f492d5-1cf7-4481-e383-b0bafce51e09"
      },
      "outputs": [
        {
          "output_type": "stream",
          "name": "stdout",
          "text": [
            "Epoch 1/100\n",
            "13/13 [==============================] - ETA: 0s - loss: 0.9775 - accuracy: 0.5723\n",
            "Epoch 1: val_accuracy improved from -inf to 0.69263, saving model to best_model.hdf5\n",
            "13/13 [==============================] - 25s 959ms/step - loss: 0.9775 - accuracy: 0.5723 - val_loss: 0.6720 - val_accuracy: 0.6926\n",
            "Epoch 2/100\n"
          ]
        },
        {
          "output_type": "stream",
          "name": "stderr",
          "text": [
            "/usr/local/lib/python3.10/dist-packages/keras/src/engine/training.py:3103: UserWarning: You are saving your model as an HDF5 file via `model.save()`. This file format is considered legacy. We recommend using instead the native Keras format, e.g. `model.save('my_model.keras')`.\n",
            "  saving_api.save_model(\n"
          ]
        },
        {
          "output_type": "stream",
          "name": "stdout",
          "text": [
            "13/13 [==============================] - ETA: 0s - loss: 0.7554 - accuracy: 0.6634\n",
            "Epoch 2: val_accuracy did not improve from 0.69263\n",
            "13/13 [==============================] - 3s 232ms/step - loss: 0.7554 - accuracy: 0.6634 - val_loss: 1.3989 - val_accuracy: 0.4844\n",
            "Epoch 3/100\n",
            "13/13 [==============================] - ETA: 0s - loss: 0.7334 - accuracy: 0.6713\n",
            "Epoch 3: val_accuracy did not improve from 0.69263\n",
            "13/13 [==============================] - 3s 233ms/step - loss: 0.7334 - accuracy: 0.6713 - val_loss: 0.6601 - val_accuracy: 0.6771\n",
            "Epoch 4/100\n",
            "13/13 [==============================] - ETA: 0s - loss: 0.6481 - accuracy: 0.6926\n",
            "Epoch 4: val_accuracy improved from 0.69263 to 0.74363, saving model to best_model.hdf5\n",
            "13/13 [==============================] - 3s 241ms/step - loss: 0.6481 - accuracy: 0.6926 - val_loss: 0.5397 - val_accuracy: 0.7436\n",
            "Epoch 5/100\n",
            "13/13 [==============================] - ETA: 0s - loss: 0.5909 - accuracy: 0.7467\n",
            "Epoch 5: val_accuracy did not improve from 0.74363\n",
            "13/13 [==============================] - 3s 232ms/step - loss: 0.5909 - accuracy: 0.7467 - val_loss: 1.0224 - val_accuracy: 0.6331\n",
            "Epoch 6/100\n",
            "13/13 [==============================] - ETA: 0s - loss: 0.5426 - accuracy: 0.7467\n",
            "Epoch 6: val_accuracy did not improve from 0.74363\n",
            "13/13 [==============================] - 3s 232ms/step - loss: 0.5426 - accuracy: 0.7467 - val_loss: 0.8256 - val_accuracy: 0.6516\n",
            "Epoch 7/100\n",
            "13/13 [==============================] - ETA: 0s - loss: 0.4886 - accuracy: 0.7722\n",
            "Epoch 7: val_accuracy did not improve from 0.74363\n",
            "13/13 [==============================] - 3s 234ms/step - loss: 0.4886 - accuracy: 0.7722 - val_loss: 1.8107 - val_accuracy: 0.5637\n",
            "Epoch 8/100\n",
            "13/13 [==============================] - ETA: 0s - loss: 0.4487 - accuracy: 0.7965\n",
            "Epoch 8: val_accuracy did not improve from 0.74363\n",
            "13/13 [==============================] - 3s 233ms/step - loss: 0.4487 - accuracy: 0.7965 - val_loss: 0.6810 - val_accuracy: 0.6997\n",
            "Epoch 9/100\n",
            "13/13 [==============================] - ETA: 0s - loss: 0.3992 - accuracy: 0.8281\n",
            "Epoch 9: val_accuracy did not improve from 0.74363\n",
            "13/13 [==============================] - 3s 233ms/step - loss: 0.3992 - accuracy: 0.8281 - val_loss: 0.7289 - val_accuracy: 0.6643\n",
            "Epoch 10/100\n",
            "13/13 [==============================] - ETA: 0s - loss: 0.3965 - accuracy: 0.8262\n",
            "Epoch 10: val_accuracy improved from 0.74363 to 0.84703, saving model to best_model.hdf5\n",
            "13/13 [==============================] - 3s 243ms/step - loss: 0.3965 - accuracy: 0.8262 - val_loss: 0.3638 - val_accuracy: 0.8470\n",
            "Epoch 11/100\n",
            "13/13 [==============================] - ETA: 0s - loss: 0.3362 - accuracy: 0.8651\n",
            "Epoch 11: val_accuracy did not improve from 0.84703\n",
            "13/13 [==============================] - 3s 234ms/step - loss: 0.3362 - accuracy: 0.8651 - val_loss: 0.4733 - val_accuracy: 0.7904\n",
            "Epoch 12/100\n",
            "13/13 [==============================] - ETA: 0s - loss: 0.3002 - accuracy: 0.8736\n",
            "Epoch 12: val_accuracy did not improve from 0.84703\n",
            "13/13 [==============================] - 3s 233ms/step - loss: 0.3002 - accuracy: 0.8736 - val_loss: 0.9364 - val_accuracy: 0.6006\n",
            "Epoch 13/100\n",
            "13/13 [==============================] - ETA: 0s - loss: 0.2791 - accuracy: 0.8834\n",
            "Epoch 13: val_accuracy did not improve from 0.84703\n",
            "13/13 [==============================] - 3s 230ms/step - loss: 0.2791 - accuracy: 0.8834 - val_loss: 1.4319 - val_accuracy: 0.5807\n",
            "Epoch 14/100\n",
            "13/13 [==============================] - ETA: 0s - loss: 0.2625 - accuracy: 0.8882\n",
            "Epoch 14: val_accuracy did not improve from 0.84703\n",
            "13/13 [==============================] - 3s 233ms/step - loss: 0.2625 - accuracy: 0.8882 - val_loss: 0.6596 - val_accuracy: 0.7280\n",
            "Epoch 15/100\n",
            "13/13 [==============================] - ETA: 0s - loss: 0.2240 - accuracy: 0.9028\n",
            "Epoch 15: val_accuracy did not improve from 0.84703\n",
            "13/13 [==============================] - 3s 236ms/step - loss: 0.2240 - accuracy: 0.9028 - val_loss: 0.6572 - val_accuracy: 0.7337\n",
            "Epoch 16/100\n",
            "13/13 [==============================] - ETA: 0s - loss: 0.2230 - accuracy: 0.9113\n",
            "Epoch 16: val_accuracy did not improve from 0.84703\n",
            "13/13 [==============================] - 3s 234ms/step - loss: 0.2230 - accuracy: 0.9113 - val_loss: 2.0056 - val_accuracy: 0.5680\n",
            "Epoch 17/100\n",
            "13/13 [==============================] - ETA: 0s - loss: 0.1787 - accuracy: 0.9326\n",
            "Epoch 17: val_accuracy did not improve from 0.84703\n",
            "13/13 [==============================] - 3s 232ms/step - loss: 0.1787 - accuracy: 0.9326 - val_loss: 0.5702 - val_accuracy: 0.7663\n",
            "Epoch 18/100\n",
            "13/13 [==============================] - ETA: 0s - loss: 0.1633 - accuracy: 0.9362\n",
            "Epoch 18: val_accuracy did not improve from 0.84703\n",
            "13/13 [==============================] - 3s 233ms/step - loss: 0.1633 - accuracy: 0.9362 - val_loss: 1.0254 - val_accuracy: 0.6799\n",
            "Epoch 19/100\n",
            "13/13 [==============================] - ETA: 0s - loss: 0.1244 - accuracy: 0.9587\n",
            "Epoch 19: val_accuracy did not improve from 0.84703\n",
            "13/13 [==============================] - 3s 234ms/step - loss: 0.1244 - accuracy: 0.9587 - val_loss: 0.6562 - val_accuracy: 0.7394\n",
            "Epoch 20/100\n",
            "13/13 [==============================] - ETA: 0s - loss: 0.1271 - accuracy: 0.9557\n",
            "Epoch 20: val_accuracy did not improve from 0.84703\n",
            "13/13 [==============================] - 3s 235ms/step - loss: 0.1271 - accuracy: 0.9557 - val_loss: 0.8878 - val_accuracy: 0.7110\n",
            "Epoch 21/100\n",
            "13/13 [==============================] - ETA: 0s - loss: 0.0990 - accuracy: 0.9642\n",
            "Epoch 21: val_accuracy did not improve from 0.84703\n",
            "13/13 [==============================] - 3s 234ms/step - loss: 0.0990 - accuracy: 0.9642 - val_loss: 0.9521 - val_accuracy: 0.6912\n",
            "Epoch 22/100\n",
            "13/13 [==============================] - ETA: 0s - loss: 0.0804 - accuracy: 0.9757\n",
            "Epoch 22: val_accuracy did not improve from 0.84703\n",
            "13/13 [==============================] - 3s 236ms/step - loss: 0.0804 - accuracy: 0.9757 - val_loss: 1.6735 - val_accuracy: 0.6133\n",
            "Epoch 23/100\n",
            "13/13 [==============================] - ETA: 0s - loss: 0.0734 - accuracy: 0.9775\n",
            "Epoch 23: val_accuracy did not improve from 0.84703\n",
            "13/13 [==============================] - 3s 235ms/step - loss: 0.0734 - accuracy: 0.9775 - val_loss: 1.1844 - val_accuracy: 0.6926\n",
            "Epoch 24/100\n",
            "13/13 [==============================] - ETA: 0s - loss: 0.0769 - accuracy: 0.9745\n",
            "Epoch 24: val_accuracy did not improve from 0.84703\n",
            "13/13 [==============================] - 3s 237ms/step - loss: 0.0769 - accuracy: 0.9745 - val_loss: 1.5569 - val_accuracy: 0.6473\n",
            "Epoch 25/100\n",
            "13/13 [==============================] - ETA: 0s - loss: 0.0607 - accuracy: 0.9818\n",
            "Epoch 25: val_accuracy did not improve from 0.84703\n",
            "13/13 [==============================] - 3s 235ms/step - loss: 0.0607 - accuracy: 0.9818 - val_loss: 1.0979 - val_accuracy: 0.6813\n",
            "Epoch 26/100\n",
            "13/13 [==============================] - ETA: 0s - loss: 0.0530 - accuracy: 0.9891\n",
            "Epoch 26: val_accuracy did not improve from 0.84703\n",
            "13/13 [==============================] - 3s 236ms/step - loss: 0.0530 - accuracy: 0.9891 - val_loss: 0.4346 - val_accuracy: 0.8300\n",
            "Epoch 27/100\n",
            "13/13 [==============================] - ETA: 0s - loss: 0.0495 - accuracy: 0.9891\n",
            "Epoch 27: val_accuracy did not improve from 0.84703\n",
            "13/13 [==============================] - 3s 237ms/step - loss: 0.0495 - accuracy: 0.9891 - val_loss: 0.6432 - val_accuracy: 0.8088\n",
            "Epoch 28/100\n",
            "13/13 [==============================] - ETA: 0s - loss: 0.0537 - accuracy: 0.9891\n",
            "Epoch 28: val_accuracy did not improve from 0.84703\n",
            "13/13 [==============================] - 3s 238ms/step - loss: 0.0537 - accuracy: 0.9891 - val_loss: 0.7014 - val_accuracy: 0.7847\n",
            "Epoch 29/100\n",
            "13/13 [==============================] - ETA: 0s - loss: 0.0553 - accuracy: 0.9806\n",
            "Epoch 29: val_accuracy did not improve from 0.84703\n",
            "13/13 [==============================] - 3s 236ms/step - loss: 0.0553 - accuracy: 0.9806 - val_loss: 0.6386 - val_accuracy: 0.8003\n",
            "Epoch 30/100\n",
            "13/13 [==============================] - ETA: 0s - loss: 0.0381 - accuracy: 0.9885\n",
            "Epoch 30: val_accuracy did not improve from 0.84703\n",
            "13/13 [==============================] - 3s 236ms/step - loss: 0.0381 - accuracy: 0.9885 - val_loss: 0.4493 - val_accuracy: 0.8272\n",
            "Epoch 31/100\n",
            "13/13 [==============================] - ETA: 0s - loss: 0.0384 - accuracy: 0.9915\n",
            "Epoch 31: val_accuracy did not improve from 0.84703\n",
            "13/13 [==============================] - 3s 238ms/step - loss: 0.0384 - accuracy: 0.9915 - val_loss: 0.5967 - val_accuracy: 0.8074\n",
            "Epoch 32/100\n",
            "13/13 [==============================] - ETA: 0s - loss: 0.0355 - accuracy: 0.9933\n",
            "Epoch 32: val_accuracy did not improve from 0.84703\n",
            "13/13 [==============================] - 3s 238ms/step - loss: 0.0355 - accuracy: 0.9933 - val_loss: 0.7603 - val_accuracy: 0.7960\n",
            "Epoch 33/100\n",
            "13/13 [==============================] - ETA: 0s - loss: 0.0332 - accuracy: 0.9933\n",
            "Epoch 33: val_accuracy did not improve from 0.84703\n",
            "13/13 [==============================] - 3s 237ms/step - loss: 0.0332 - accuracy: 0.9933 - val_loss: 0.5024 - val_accuracy: 0.8371\n",
            "Epoch 34/100\n",
            "13/13 [==============================] - ETA: 0s - loss: 0.0305 - accuracy: 0.9933\n",
            "Epoch 34: val_accuracy did not improve from 0.84703\n",
            "13/13 [==============================] - 3s 239ms/step - loss: 0.0305 - accuracy: 0.9933 - val_loss: 0.5579 - val_accuracy: 0.8258\n",
            "Epoch 35/100\n",
            "13/13 [==============================] - ETA: 0s - loss: 0.0285 - accuracy: 0.9927\n",
            "Epoch 35: val_accuracy did not improve from 0.84703\n",
            "13/13 [==============================] - 3s 239ms/step - loss: 0.0285 - accuracy: 0.9927 - val_loss: 0.5891 - val_accuracy: 0.8258\n",
            "Epoch 36/100\n",
            "13/13 [==============================] - ETA: 0s - loss: 0.0305 - accuracy: 0.9945\n",
            "Epoch 36: val_accuracy did not improve from 0.84703\n",
            "13/13 [==============================] - 3s 240ms/step - loss: 0.0305 - accuracy: 0.9945 - val_loss: 0.5829 - val_accuracy: 0.8215\n",
            "Epoch 37/100\n",
            "13/13 [==============================] - ETA: 0s - loss: 0.0319 - accuracy: 0.9927\n",
            "Epoch 37: val_accuracy did not improve from 0.84703\n",
            "13/13 [==============================] - 3s 238ms/step - loss: 0.0319 - accuracy: 0.9927 - val_loss: 0.5636 - val_accuracy: 0.8286\n",
            "Epoch 38/100\n",
            "13/13 [==============================] - ETA: 0s - loss: 0.0338 - accuracy: 0.9957\n",
            "Epoch 38: val_accuracy did not improve from 0.84703\n",
            "13/13 [==============================] - 3s 238ms/step - loss: 0.0338 - accuracy: 0.9957 - val_loss: 0.6108 - val_accuracy: 0.8272\n",
            "Epoch 39/100\n",
            "13/13 [==============================] - ETA: 0s - loss: 0.0168 - accuracy: 0.9945\n",
            "Epoch 39: val_accuracy did not improve from 0.84703\n",
            "13/13 [==============================] - 3s 237ms/step - loss: 0.0168 - accuracy: 0.9945 - val_loss: 0.7818 - val_accuracy: 0.8003\n",
            "Epoch 40/100\n",
            "13/13 [==============================] - ETA: 0s - loss: 0.0227 - accuracy: 0.9964\n",
            "Epoch 40: val_accuracy did not improve from 0.84703\n",
            "13/13 [==============================] - 3s 238ms/step - loss: 0.0227 - accuracy: 0.9964 - val_loss: 0.5503 - val_accuracy: 0.8442\n",
            "Epoch 41/100\n",
            "13/13 [==============================] - ETA: 0s - loss: 0.0207 - accuracy: 0.9945\n",
            "Epoch 41: val_accuracy did not improve from 0.84703\n",
            "13/13 [==============================] - 3s 238ms/step - loss: 0.0207 - accuracy: 0.9945 - val_loss: 0.7033 - val_accuracy: 0.8258\n",
            "Epoch 42/100\n",
            "13/13 [==============================] - ETA: 0s - loss: 0.0224 - accuracy: 0.9964\n",
            "Epoch 42: val_accuracy did not improve from 0.84703\n",
            "13/13 [==============================] - 3s 237ms/step - loss: 0.0224 - accuracy: 0.9964 - val_loss: 0.6036 - val_accuracy: 0.8385\n",
            "Epoch 43/100\n",
            "13/13 [==============================] - ETA: 0s - loss: 0.0262 - accuracy: 0.9945\n",
            "Epoch 43: val_accuracy did not improve from 0.84703\n",
            "13/13 [==============================] - 3s 238ms/step - loss: 0.0262 - accuracy: 0.9945 - val_loss: 0.6905 - val_accuracy: 0.8244\n",
            "Epoch 44/100\n",
            "13/13 [==============================] - ETA: 0s - loss: 0.0344 - accuracy: 0.9957\n",
            "Epoch 44: val_accuracy improved from 0.84703 to 0.85269, saving model to best_model.hdf5\n",
            "13/13 [==============================] - 3s 247ms/step - loss: 0.0344 - accuracy: 0.9957 - val_loss: 0.5904 - val_accuracy: 0.8527\n",
            "Epoch 45/100\n",
            "13/13 [==============================] - ETA: 0s - loss: 0.0210 - accuracy: 0.9970\n",
            "Epoch 45: val_accuracy did not improve from 0.85269\n",
            "13/13 [==============================] - 3s 236ms/step - loss: 0.0210 - accuracy: 0.9970 - val_loss: 0.5996 - val_accuracy: 0.8371\n",
            "Epoch 46/100\n",
            "13/13 [==============================] - ETA: 0s - loss: 0.0249 - accuracy: 0.9964\n",
            "Epoch 46: val_accuracy did not improve from 0.85269\n",
            "13/13 [==============================] - 3s 236ms/step - loss: 0.0249 - accuracy: 0.9964 - val_loss: 0.7907 - val_accuracy: 0.8159\n",
            "Epoch 47/100\n",
            "13/13 [==============================] - ETA: 0s - loss: 0.0245 - accuracy: 0.9951\n",
            "Epoch 47: val_accuracy did not improve from 0.85269\n",
            "13/13 [==============================] - 3s 237ms/step - loss: 0.0245 - accuracy: 0.9951 - val_loss: 0.9671 - val_accuracy: 0.8031\n",
            "Epoch 48/100\n",
            "13/13 [==============================] - ETA: 0s - loss: 0.0160 - accuracy: 0.9964\n",
            "Epoch 48: val_accuracy did not improve from 0.85269\n",
            "13/13 [==============================] - 3s 237ms/step - loss: 0.0160 - accuracy: 0.9964 - val_loss: 0.7104 - val_accuracy: 0.8272\n",
            "Epoch 49/100\n",
            "13/13 [==============================] - ETA: 0s - loss: 0.0212 - accuracy: 0.9951\n",
            "Epoch 49: val_accuracy did not improve from 0.85269\n",
            "13/13 [==============================] - 3s 236ms/step - loss: 0.0212 - accuracy: 0.9951 - val_loss: 0.8594 - val_accuracy: 0.8102\n",
            "Epoch 50/100\n",
            "13/13 [==============================] - ETA: 0s - loss: 0.0190 - accuracy: 0.9951\n",
            "Epoch 50: val_accuracy did not improve from 0.85269\n",
            "13/13 [==============================] - 3s 236ms/step - loss: 0.0190 - accuracy: 0.9951 - val_loss: 0.7633 - val_accuracy: 0.8371\n",
            "Epoch 51/100\n",
            "13/13 [==============================] - ETA: 0s - loss: 0.0268 - accuracy: 0.9927\n",
            "Epoch 51: val_accuracy did not improve from 0.85269\n",
            "13/13 [==============================] - 3s 237ms/step - loss: 0.0268 - accuracy: 0.9927 - val_loss: 1.9097 - val_accuracy: 0.6955\n",
            "Epoch 52/100\n",
            "13/13 [==============================] - ETA: 0s - loss: 0.0227 - accuracy: 0.9951\n",
            "Epoch 52: val_accuracy did not improve from 0.85269\n",
            "13/13 [==============================] - 3s 238ms/step - loss: 0.0227 - accuracy: 0.9951 - val_loss: 0.6236 - val_accuracy: 0.8329\n",
            "Epoch 53/100\n",
            "13/13 [==============================] - ETA: 0s - loss: 0.0225 - accuracy: 0.9957\n",
            "Epoch 53: val_accuracy did not improve from 0.85269\n",
            "13/13 [==============================] - 3s 238ms/step - loss: 0.0225 - accuracy: 0.9957 - val_loss: 0.6999 - val_accuracy: 0.8414\n",
            "Epoch 54/100\n",
            "13/13 [==============================] - ETA: 0s - loss: 0.0211 - accuracy: 0.9964\n",
            "Epoch 54: val_accuracy did not improve from 0.85269\n",
            "13/13 [==============================] - 3s 236ms/step - loss: 0.0211 - accuracy: 0.9964 - val_loss: 0.8220 - val_accuracy: 0.8229\n",
            "Epoch 55/100\n",
            "13/13 [==============================] - ETA: 0s - loss: 0.0159 - accuracy: 0.9976\n",
            "Epoch 55: val_accuracy did not improve from 0.85269\n",
            "13/13 [==============================] - 3s 236ms/step - loss: 0.0159 - accuracy: 0.9976 - val_loss: 0.6797 - val_accuracy: 0.8371\n",
            "Epoch 56/100\n",
            "13/13 [==============================] - ETA: 0s - loss: 0.0154 - accuracy: 0.9970\n",
            "Epoch 56: val_accuracy did not improve from 0.85269\n",
            "13/13 [==============================] - 3s 238ms/step - loss: 0.0154 - accuracy: 0.9970 - val_loss: 0.7989 - val_accuracy: 0.8144\n",
            "Epoch 57/100\n",
            "13/13 [==============================] - ETA: 0s - loss: 0.0135 - accuracy: 0.9964\n",
            "Epoch 57: val_accuracy did not improve from 0.85269\n",
            "13/13 [==============================] - 3s 236ms/step - loss: 0.0135 - accuracy: 0.9964 - val_loss: 0.7721 - val_accuracy: 0.8144\n",
            "Epoch 58/100\n",
            "13/13 [==============================] - ETA: 0s - loss: 0.0111 - accuracy: 0.9964\n",
            "Epoch 58: val_accuracy did not improve from 0.85269\n",
            "13/13 [==============================] - 3s 236ms/step - loss: 0.0111 - accuracy: 0.9964 - val_loss: 0.9515 - val_accuracy: 0.8088\n",
            "Epoch 59/100\n",
            "13/13 [==============================] - ETA: 0s - loss: 0.0132 - accuracy: 0.9976\n",
            "Epoch 59: val_accuracy did not improve from 0.85269\n",
            "13/13 [==============================] - 3s 237ms/step - loss: 0.0132 - accuracy: 0.9976 - val_loss: 0.6601 - val_accuracy: 0.8371\n",
            "Epoch 60/100\n",
            "13/13 [==============================] - ETA: 0s - loss: 0.0218 - accuracy: 0.9957\n",
            "Epoch 60: val_accuracy did not improve from 0.85269\n",
            "13/13 [==============================] - 3s 239ms/step - loss: 0.0218 - accuracy: 0.9957 - val_loss: 0.6835 - val_accuracy: 0.8371\n",
            "Epoch 61/100\n",
            "13/13 [==============================] - ETA: 0s - loss: 0.0242 - accuracy: 0.9951\n",
            "Epoch 61: val_accuracy did not improve from 0.85269\n",
            "13/13 [==============================] - 3s 239ms/step - loss: 0.0242 - accuracy: 0.9951 - val_loss: 1.6155 - val_accuracy: 0.7309\n",
            "Epoch 62/100\n",
            "13/13 [==============================] - ETA: 0s - loss: 0.0186 - accuracy: 0.9957\n",
            "Epoch 62: val_accuracy did not improve from 0.85269\n",
            "13/13 [==============================] - 3s 237ms/step - loss: 0.0186 - accuracy: 0.9957 - val_loss: 0.7265 - val_accuracy: 0.8414\n",
            "Epoch 63/100\n",
            "13/13 [==============================] - ETA: 0s - loss: 0.0179 - accuracy: 0.9964\n",
            "Epoch 63: val_accuracy did not improve from 0.85269\n",
            "13/13 [==============================] - 3s 237ms/step - loss: 0.0179 - accuracy: 0.9964 - val_loss: 0.7480 - val_accuracy: 0.8343\n",
            "Epoch 64/100\n",
            "13/13 [==============================] - ETA: 0s - loss: 0.0155 - accuracy: 0.9957\n",
            "Epoch 64: val_accuracy did not improve from 0.85269\n",
            "13/13 [==============================] - 3s 238ms/step - loss: 0.0155 - accuracy: 0.9957 - val_loss: 0.9750 - val_accuracy: 0.8074\n",
            "Epoch 65/100\n",
            "13/13 [==============================] - ETA: 0s - loss: 0.0211 - accuracy: 0.9939\n",
            "Epoch 65: val_accuracy did not improve from 0.85269\n",
            "13/13 [==============================] - 3s 237ms/step - loss: 0.0211 - accuracy: 0.9939 - val_loss: 0.8069 - val_accuracy: 0.8329\n",
            "Epoch 66/100\n",
            "13/13 [==============================] - ETA: 0s - loss: 0.0134 - accuracy: 0.9964\n",
            "Epoch 66: val_accuracy did not improve from 0.85269\n",
            "13/13 [==============================] - 3s 238ms/step - loss: 0.0134 - accuracy: 0.9964 - val_loss: 0.9092 - val_accuracy: 0.8144\n",
            "Epoch 67/100\n",
            "13/13 [==============================] - ETA: 0s - loss: 0.0282 - accuracy: 0.9951\n",
            "Epoch 67: val_accuracy did not improve from 0.85269\n",
            "13/13 [==============================] - 3s 238ms/step - loss: 0.0282 - accuracy: 0.9951 - val_loss: 0.7387 - val_accuracy: 0.8385\n",
            "Epoch 68/100\n",
            "13/13 [==============================] - ETA: 0s - loss: 0.0159 - accuracy: 0.9945\n",
            "Epoch 68: val_accuracy did not improve from 0.85269\n",
            "13/13 [==============================] - 3s 237ms/step - loss: 0.0159 - accuracy: 0.9945 - val_loss: 1.7773 - val_accuracy: 0.7365\n",
            "Epoch 69/100\n",
            "13/13 [==============================] - ETA: 0s - loss: 0.0169 - accuracy: 0.9957\n",
            "Epoch 69: val_accuracy did not improve from 0.85269\n",
            "13/13 [==============================] - 3s 237ms/step - loss: 0.0169 - accuracy: 0.9957 - val_loss: 0.8527 - val_accuracy: 0.8286\n",
            "Epoch 70/100\n",
            "13/13 [==============================] - ETA: 0s - loss: 0.0234 - accuracy: 0.9964\n",
            "Epoch 70: val_accuracy did not improve from 0.85269\n",
            "13/13 [==============================] - 3s 238ms/step - loss: 0.0234 - accuracy: 0.9964 - val_loss: 1.3587 - val_accuracy: 0.7762\n",
            "Epoch 71/100\n",
            "13/13 [==============================] - ETA: 0s - loss: 0.0164 - accuracy: 0.9964\n",
            "Epoch 71: val_accuracy did not improve from 0.85269\n",
            "13/13 [==============================] - 3s 236ms/step - loss: 0.0164 - accuracy: 0.9964 - val_loss: 0.9633 - val_accuracy: 0.8074\n",
            "Epoch 72/100\n",
            "13/13 [==============================] - ETA: 0s - loss: 0.0247 - accuracy: 0.9957\n",
            "Epoch 72: val_accuracy did not improve from 0.85269\n",
            "13/13 [==============================] - 3s 236ms/step - loss: 0.0247 - accuracy: 0.9957 - val_loss: 2.6990 - val_accuracy: 0.6572\n",
            "Epoch 73/100\n",
            "13/13 [==============================] - ETA: 0s - loss: 0.0340 - accuracy: 0.9933\n",
            "Epoch 73: val_accuracy did not improve from 0.85269\n",
            "13/13 [==============================] - 3s 237ms/step - loss: 0.0340 - accuracy: 0.9933 - val_loss: 1.0269 - val_accuracy: 0.8102\n",
            "Epoch 74/100\n",
            "13/13 [==============================] - ETA: 0s - loss: 0.0282 - accuracy: 0.9909\n",
            "Epoch 74: val_accuracy did not improve from 0.85269\n",
            "13/13 [==============================] - 3s 237ms/step - loss: 0.0282 - accuracy: 0.9909 - val_loss: 0.7521 - val_accuracy: 0.8258\n",
            "Epoch 75/100\n",
            "13/13 [==============================] - ETA: 0s - loss: 0.0348 - accuracy: 0.9945\n",
            "Epoch 75: val_accuracy did not improve from 0.85269\n",
            "13/13 [==============================] - 3s 237ms/step - loss: 0.0348 - accuracy: 0.9945 - val_loss: 0.8576 - val_accuracy: 0.8116\n",
            "Epoch 76/100\n",
            "13/13 [==============================] - ETA: 0s - loss: 0.0246 - accuracy: 0.9951\n",
            "Epoch 76: val_accuracy did not improve from 0.85269\n",
            "13/13 [==============================] - 3s 238ms/step - loss: 0.0246 - accuracy: 0.9951 - val_loss: 0.7526 - val_accuracy: 0.8215\n",
            "Epoch 77/100\n",
            "13/13 [==============================] - ETA: 0s - loss: 0.0252 - accuracy: 0.9964\n",
            "Epoch 77: val_accuracy did not improve from 0.85269\n",
            "13/13 [==============================] - 3s 233ms/step - loss: 0.0252 - accuracy: 0.9964 - val_loss: 0.6656 - val_accuracy: 0.8371\n",
            "Epoch 78/100\n",
            "13/13 [==============================] - ETA: 0s - loss: 0.0108 - accuracy: 0.9976\n",
            "Epoch 78: val_accuracy did not improve from 0.85269\n",
            "13/13 [==============================] - 3s 238ms/step - loss: 0.0108 - accuracy: 0.9976 - val_loss: 0.6837 - val_accuracy: 0.8343\n",
            "Epoch 79/100\n",
            "13/13 [==============================] - ETA: 0s - loss: 0.0113 - accuracy: 0.9970\n",
            "Epoch 79: val_accuracy did not improve from 0.85269\n",
            "13/13 [==============================] - 3s 237ms/step - loss: 0.0113 - accuracy: 0.9970 - val_loss: 0.7360 - val_accuracy: 0.8215\n",
            "Epoch 80/100\n",
            "13/13 [==============================] - ETA: 0s - loss: 0.0273 - accuracy: 0.9933\n",
            "Epoch 80: val_accuracy did not improve from 0.85269\n",
            "13/13 [==============================] - 3s 239ms/step - loss: 0.0273 - accuracy: 0.9933 - val_loss: 0.8062 - val_accuracy: 0.8357\n",
            "Epoch 81/100\n",
            "13/13 [==============================] - ETA: 0s - loss: 0.0192 - accuracy: 0.9970\n",
            "Epoch 81: val_accuracy did not improve from 0.85269\n",
            "13/13 [==============================] - 3s 236ms/step - loss: 0.0192 - accuracy: 0.9970 - val_loss: 0.7603 - val_accuracy: 0.8371\n",
            "Epoch 82/100\n",
            "13/13 [==============================] - ETA: 0s - loss: 0.0168 - accuracy: 0.9957\n",
            "Epoch 82: val_accuracy improved from 0.85269 to 0.86261, saving model to best_model.hdf5\n",
            "13/13 [==============================] - 3s 247ms/step - loss: 0.0168 - accuracy: 0.9957 - val_loss: 0.7396 - val_accuracy: 0.8626\n",
            "Epoch 83/100\n",
            "13/13 [==============================] - ETA: 0s - loss: 0.0188 - accuracy: 0.9964\n",
            "Epoch 83: val_accuracy did not improve from 0.86261\n",
            "13/13 [==============================] - 3s 236ms/step - loss: 0.0188 - accuracy: 0.9964 - val_loss: 1.1985 - val_accuracy: 0.7904\n",
            "Epoch 84/100\n",
            "13/13 [==============================] - ETA: 0s - loss: 0.0170 - accuracy: 0.9957\n",
            "Epoch 84: val_accuracy did not improve from 0.86261\n",
            "13/13 [==============================] - 3s 236ms/step - loss: 0.0170 - accuracy: 0.9957 - val_loss: 0.7939 - val_accuracy: 0.8272\n",
            "Epoch 85/100\n",
            "13/13 [==============================] - ETA: 0s - loss: 0.0120 - accuracy: 0.9976\n",
            "Epoch 85: val_accuracy did not improve from 0.86261\n",
            "13/13 [==============================] - 3s 237ms/step - loss: 0.0120 - accuracy: 0.9976 - val_loss: 1.2624 - val_accuracy: 0.7734\n",
            "Epoch 86/100\n",
            "13/13 [==============================] - ETA: 0s - loss: 0.0094 - accuracy: 0.9982\n",
            "Epoch 86: val_accuracy did not improve from 0.86261\n",
            "13/13 [==============================] - 3s 238ms/step - loss: 0.0094 - accuracy: 0.9982 - val_loss: 0.9227 - val_accuracy: 0.8173\n",
            "Epoch 87/100\n",
            "13/13 [==============================] - ETA: 0s - loss: 0.0221 - accuracy: 0.9951\n",
            "Epoch 87: val_accuracy did not improve from 0.86261\n",
            "13/13 [==============================] - 3s 236ms/step - loss: 0.0221 - accuracy: 0.9951 - val_loss: 0.9471 - val_accuracy: 0.8059\n",
            "Epoch 88/100\n",
            "13/13 [==============================] - ETA: 0s - loss: 0.0104 - accuracy: 0.9964\n",
            "Epoch 88: val_accuracy did not improve from 0.86261\n",
            "13/13 [==============================] - 3s 238ms/step - loss: 0.0104 - accuracy: 0.9964 - val_loss: 1.1815 - val_accuracy: 0.7861\n",
            "Epoch 89/100\n",
            "13/13 [==============================] - ETA: 0s - loss: 0.0117 - accuracy: 0.9982\n",
            "Epoch 89: val_accuracy did not improve from 0.86261\n",
            "13/13 [==============================] - 3s 237ms/step - loss: 0.0117 - accuracy: 0.9982 - val_loss: 1.1562 - val_accuracy: 0.8003\n",
            "Epoch 90/100\n",
            "13/13 [==============================] - ETA: 0s - loss: 0.0168 - accuracy: 0.9957\n",
            "Epoch 90: val_accuracy did not improve from 0.86261\n",
            "13/13 [==============================] - 3s 238ms/step - loss: 0.0168 - accuracy: 0.9957 - val_loss: 0.8985 - val_accuracy: 0.8300\n",
            "Epoch 91/100\n",
            "13/13 [==============================] - ETA: 0s - loss: 0.0121 - accuracy: 0.9964\n",
            "Epoch 91: val_accuracy did not improve from 0.86261\n",
            "13/13 [==============================] - 3s 238ms/step - loss: 0.0121 - accuracy: 0.9964 - val_loss: 0.7388 - val_accuracy: 0.8343\n",
            "Epoch 92/100\n",
            "13/13 [==============================] - ETA: 0s - loss: 0.0209 - accuracy: 0.9945\n",
            "Epoch 92: val_accuracy did not improve from 0.86261\n",
            "13/13 [==============================] - 3s 239ms/step - loss: 0.0209 - accuracy: 0.9945 - val_loss: 1.8562 - val_accuracy: 0.7309\n",
            "Epoch 93/100\n",
            "13/13 [==============================] - ETA: 0s - loss: 0.0140 - accuracy: 0.9964\n",
            "Epoch 93: val_accuracy did not improve from 0.86261\n",
            "13/13 [==============================] - 3s 237ms/step - loss: 0.0140 - accuracy: 0.9964 - val_loss: 0.8424 - val_accuracy: 0.8399\n",
            "Epoch 94/100\n",
            "13/13 [==============================] - ETA: 0s - loss: 0.0221 - accuracy: 0.9945\n",
            "Epoch 94: val_accuracy did not improve from 0.86261\n",
            "13/13 [==============================] - 3s 237ms/step - loss: 0.0221 - accuracy: 0.9945 - val_loss: 0.8579 - val_accuracy: 0.8329\n",
            "Epoch 95/100\n",
            "13/13 [==============================] - ETA: 0s - loss: 0.0216 - accuracy: 0.9957\n",
            "Epoch 95: val_accuracy did not improve from 0.86261\n",
            "13/13 [==============================] - 3s 238ms/step - loss: 0.0216 - accuracy: 0.9957 - val_loss: 0.8559 - val_accuracy: 0.8442\n",
            "Epoch 96/100\n",
            "13/13 [==============================] - ETA: 0s - loss: 0.0205 - accuracy: 0.9964\n",
            "Epoch 96: val_accuracy did not improve from 0.86261\n",
            "13/13 [==============================] - 3s 237ms/step - loss: 0.0205 - accuracy: 0.9964 - val_loss: 1.0649 - val_accuracy: 0.8130\n",
            "Epoch 97/100\n",
            "13/13 [==============================] - ETA: 0s - loss: 0.0214 - accuracy: 0.9957\n",
            "Epoch 97: val_accuracy did not improve from 0.86261\n",
            "13/13 [==============================] - 3s 238ms/step - loss: 0.0214 - accuracy: 0.9957 - val_loss: 0.8971 - val_accuracy: 0.8399\n",
            "Epoch 98/100\n",
            "13/13 [==============================] - ETA: 0s - loss: 0.0178 - accuracy: 0.9970\n",
            "Epoch 98: val_accuracy did not improve from 0.86261\n",
            "13/13 [==============================] - 3s 238ms/step - loss: 0.0178 - accuracy: 0.9970 - val_loss: 0.8350 - val_accuracy: 0.8357\n",
            "Epoch 99/100\n",
            "13/13 [==============================] - ETA: 0s - loss: 0.0167 - accuracy: 0.9976\n",
            "Epoch 99: val_accuracy did not improve from 0.86261\n",
            "13/13 [==============================] - 3s 236ms/step - loss: 0.0167 - accuracy: 0.9976 - val_loss: 0.7864 - val_accuracy: 0.8470\n",
            "Epoch 100/100\n",
            "13/13 [==============================] - ETA: 0s - loss: 0.0155 - accuracy: 0.9957\n",
            "Epoch 100: val_accuracy did not improve from 0.86261\n",
            "13/13 [==============================] - 3s 238ms/step - loss: 0.0155 - accuracy: 0.9957 - val_loss: 0.8043 - val_accuracy: 0.8343\n"
          ]
        }
      ],
      "source": [
        "# training the model for 100 epochs\n",
        "model_history = model.fit(X_train, y_train, epochs=100, batch_size=128,validation_data=(X_valid,y_valid), callbacks=callback_list)"
      ]
    },
    {
      "cell_type": "markdown",
      "metadata": {
        "id": "wmOIR4_PHKFE"
      },
      "source": [
        "## 7. Evaluating model performance"
      ]
    },
    {
      "cell_type": "code",
      "execution_count": 18,
      "metadata": {
        "id": "LqvglMnGOTrh"
      },
      "outputs": [],
      "source": [
        "model.load_weights('best_model.hdf5')"
      ]
    },
    {
      "cell_type": "code",
      "execution_count": 19,
      "metadata": {
        "colab": {
          "base_uri": "https://localhost:8080/"
        },
        "id": "4VqAxVzGGXk9",
        "outputId": "224688ce-215e-4049-ec2b-138a1d0305cf"
      },
      "outputs": [
        {
          "output_type": "stream",
          "name": "stdout",
          "text": [
            "52/52 [==============================] - 2s 22ms/step\n",
            "Accuracy on training set: 0.9975698663426489\n"
          ]
        }
      ],
      "source": [
        "# accuracy on training set\n",
        "prediction = model.predict(X_train)\n",
        "prediction = prediction.reshape(-1,)\n",
        "\n",
        "# converting probabilities to classes\n",
        "prediction_int = prediction >= 0.5\n",
        "prediction_int = prediction_int.astype(int)\n",
        "print('Accuracy on training set:', accuracy_score(y_train, prediction_int))"
      ]
    },
    {
      "cell_type": "code",
      "execution_count": 20,
      "metadata": {
        "colab": {
          "base_uri": "https://localhost:8080/"
        },
        "id": "HG13Xm6bGXQg",
        "outputId": "c315d816-c118-48a6-df44-2406e52a2ad2"
      },
      "outputs": [
        {
          "output_type": "stream",
          "name": "stdout",
          "text": [
            "23/23 [==============================] - 1s 23ms/step\n",
            "Accuracy on validation set: 0.8626062322946175\n"
          ]
        }
      ],
      "source": [
        "# accuracy on validation set\n",
        "prediction = model.predict(X_valid)\n",
        "prediction = prediction.reshape(-1,)\n",
        "\n",
        "# converting probabilities to classes\n",
        "prediction_int = prediction >= 0.5\n",
        "prediction_int = prediction_int.astype(int)\n",
        "print('Accuracy on validation set:', accuracy_score(y_valid, prediction_int))"
      ]
    },
    {
      "cell_type": "code",
      "execution_count": null,
      "metadata": {
        "id": "nCqs6jmuOS35"
      },
      "outputs": [],
      "source": []
    }
  ],
  "metadata": {
    "accelerator": "GPU",
    "colab": {
      "provenance": [],
      "machine_shape": "hm",
      "include_colab_link": true
    },
    "kernelspec": {
      "display_name": "Python 3 (ipykernel)",
      "language": "python",
      "name": "python3"
    },
    "language_info": {
      "codemirror_mode": {
        "name": "ipython",
        "version": 3
      },
      "file_extension": ".py",
      "mimetype": "text/x-python",
      "name": "python",
      "nbconvert_exporter": "python",
      "pygments_lexer": "ipython3",
      "version": "3.11.5"
    }
  },
  "nbformat": 4,
  "nbformat_minor": 0
}