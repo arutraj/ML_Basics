{
  "nbformat": 4,
  "nbformat_minor": 0,
  "metadata": {
    "kernelspec": {
      "display_name": "Python 3",
      "language": "python",
      "name": "python3"
    },
    "language_info": {
      "codemirror_mode": {
        "name": "ipython",
        "version": 3
      },
      "file_extension": ".py",
      "mimetype": "text/x-python",
      "name": "python",
      "nbconvert_exporter": "python",
      "pygments_lexer": "ipython3",
      "version": "3.6.7"
    },
    "colab": {
      "provenance": [],
      "include_colab_link": true
    }
  },
  "cells": [
    {
      "cell_type": "markdown",
      "metadata": {
        "id": "view-in-github",
        "colab_type": "text"
      },
      "source": [
        "<a href=\"https://colab.research.google.com/github/arutraj/ML_Basics/blob/main/4_5_Regular_Expressions_in_Python_Part_2.ipynb\" target=\"_parent\"><img src=\"https://colab.research.google.com/assets/colab-badge.svg\" alt=\"Open In Colab\"/></a>"
      ]
    },
    {
      "cell_type": "markdown",
      "metadata": {
        "id": "oY2ol3TuA1tP"
      },
      "source": [
        "# Regular Expressions in Python\n",
        "### Table of contents:\n",
        "1. **match()**\n",
        "2. **search()**\n",
        "3. **findall()**\n",
        "4. **finditer()**\n",
        "5. **sub()**\n",
        "6. **split()**\n",
        "7. **Groups**"
      ]
    },
    {
      "cell_type": "code",
      "metadata": {
        "id": "w65YcZrUA1tT"
      },
      "source": [
        "import re"
      ],
      "execution_count": 2,
      "outputs": []
    },
    {
      "cell_type": "markdown",
      "metadata": {
        "id": "mTo7BrfvA1th"
      },
      "source": [
        "## 1. match()\n",
        "Checks for a match only at the beginning of the string"
      ]
    },
    {
      "cell_type": "code",
      "metadata": {
        "_cell_guid": "b1076dfc-b9ad-4769-8c92-a6c4dae69d19",
        "_uuid": "8f2839f25d086af736a60e9eeb907d3b93b6e0e5",
        "scrolled": true,
        "id": "x51ZeL5YA1tm",
        "colab": {
          "base_uri": "https://localhost:8080/"
        },
        "outputId": "702b6fe1-b4f0-4de8-80c9-fcec5039cc32"
      },
      "source": [
        "# Defining a string\n",
        "string = \"Tiger is the national animal of India. Tiger lives in Forest.\"\n",
        "\n",
        "# Defining the pattern\n",
        "pattern = \"Tiger\"\n",
        "\n",
        "# Running match() on a string\n",
        "result = re.match(pattern, string)\n",
        "\n",
        "# Printing the result\n",
        "print(result)"
      ],
      "execution_count": 3,
      "outputs": [
        {
          "output_type": "stream",
          "name": "stdout",
          "text": [
            "<re.Match object; span=(0, 5), match='Tiger'>\n"
          ]
        }
      ]
    },
    {
      "cell_type": "code",
      "metadata": {
        "id": "1hvbChN1A1tx",
        "colab": {
          "base_uri": "https://localhost:8080/"
        },
        "outputId": "90922410-8d81-4ed5-f99e-531bc51c7566"
      },
      "source": [
        "# Defining a string\n",
        "string = \"Tiger is the national animal of India. Tiger lives in Forest.\"\n",
        "\n",
        "# Defining the pattern\n",
        "pattern = \"Tiger\"\n",
        "\n",
        "# Extracting String from a match object\n",
        "result = re.match(pattern, string).group()\n",
        "\n",
        "# Printing the result\n",
        "print(result)"
      ],
      "execution_count": 4,
      "outputs": [
        {
          "output_type": "stream",
          "name": "stdout",
          "text": [
            "Tiger\n"
          ]
        }
      ]
    },
    {
      "cell_type": "code",
      "metadata": {
        "scrolled": true,
        "id": "E7jP27xLA1t6",
        "colab": {
          "base_uri": "https://localhost:8080/"
        },
        "outputId": "d91adb43-c2ed-4e06-c440-4655ddec7672"
      },
      "source": [
        "string = \"The national animal of India is Tiger. Tiger lives in Forest.\"\n",
        "pattern = \"Tiger\"\n",
        "\n",
        "# Checking for match\n",
        "result = re.match(pattern, string)\n",
        "print(result)"
      ],
      "execution_count": 5,
      "outputs": [
        {
          "output_type": "stream",
          "name": "stdout",
          "text": [
            "None\n"
          ]
        }
      ]
    },
    {
      "cell_type": "markdown",
      "metadata": {
        "id": "6Yn2DE-EA1uE"
      },
      "source": [
        "## 2. search()\n",
        "Locates a sub-string matching the RegEx pattern anywhere in the string"
      ]
    },
    {
      "cell_type": "code",
      "metadata": {
        "_cell_guid": "79c7e3d0-c299-4dcb-8224-4455121ee9b0",
        "_uuid": "d629ff2d2480ee46fbb7e2d37f6b5fab8052498a",
        "id": "XKpgamKVA1uF",
        "colab": {
          "base_uri": "https://localhost:8080/"
        },
        "outputId": "ac0c9986-7b5e-4b0a-fb85-ebca72aaad72"
      },
      "source": [
        "string = \"The national animal of India is Tiger. Tiger lives in Forest.\"\n",
        "pattern = \"Tiger\"\n",
        "\n",
        "# Searching a substring using search()\n",
        "result = re.search(pattern, string)\n",
        "print(result)"
      ],
      "execution_count": 6,
      "outputs": [
        {
          "output_type": "stream",
          "name": "stdout",
          "text": [
            "<re.Match object; span=(32, 37), match='Tiger'>\n"
          ]
        }
      ]
    },
    {
      "cell_type": "code",
      "metadata": {
        "id": "ldnqMaHVA1uN",
        "colab": {
          "base_uri": "https://localhost:8080/"
        },
        "outputId": "080856ea-7a7a-447c-9e68-1bb6ffe044a4"
      },
      "source": [
        "string = \"The national animal of India is Tiger. iger lives in Forest.\"\n",
        "pattern = \"Tiger\"\n",
        "\n",
        "# Extracting searched string\n",
        "result = re.search(pattern, string).group()\n",
        "print(result)"
      ],
      "execution_count": 9,
      "outputs": [
        {
          "output_type": "stream",
          "name": "stdout",
          "text": [
            "Tiger\n"
          ]
        }
      ]
    },
    {
      "cell_type": "markdown",
      "metadata": {
        "id": "5938aTk1A1uV"
      },
      "source": [
        "## 3. findall()\n",
        "Finds all the sub-strings matching the RegEx pattern"
      ]
    },
    {
      "cell_type": "code",
      "metadata": {
        "_uuid": "d855bf8d6fe5b798eb03bb768b6ebc5b897a8d8d",
        "scrolled": true,
        "id": "7DZgJFyuA1uX",
        "colab": {
          "base_uri": "https://localhost:8080/"
        },
        "outputId": "1aaccf34-a8c7-463f-d1b9-023f9705b03b"
      },
      "source": [
        "string = \"The national animal of India is Tiger. Tier lives in Forest.\"\n",
        "pattern = \"Tiger\"\n",
        "\n",
        "# Using findall() on a string\n",
        "result = re.findall(pattern, string)\n",
        "print(result)"
      ],
      "execution_count": 13,
      "outputs": [
        {
          "output_type": "stream",
          "name": "stdout",
          "text": [
            "['Tiger']\n"
          ]
        }
      ]
    },
    {
      "cell_type": "code",
      "metadata": {
        "_uuid": "0174d065ea3d943f1e07ce2a8bb3054de73f246e",
        "id": "OpMfeQRPA1ud",
        "colab": {
          "base_uri": "https://localhost:8080/"
        },
        "outputId": "f624ddcf-8a9f-461d-b134-476ff0878cac"
      },
      "source": [
        "# Defining the string\n",
        "text = \"India got freedom on 15 -08-1947, and it is celebrated as Independence Day.\\\n",
        "        Indian Constitution came into effect on 26-01-1950, and it is celebrated as Republic Day.\"\n",
        "\n",
        "# Defining the pattern\n",
        "date_pattern = r'\\d{2} -\\d{2}-\\d{4}'\n",
        "\n",
        "# Extracting dates using findall()\n",
        "re.findall(date_pattern, text)"
      ],
      "execution_count": 16,
      "outputs": [
        {
          "output_type": "execute_result",
          "data": {
            "text/plain": [
              "['15 -08-1947']"
            ]
          },
          "metadata": {},
          "execution_count": 16
        }
      ]
    },
    {
      "cell_type": "markdown",
      "metadata": {
        "id": "UbIaQpWmA1uk"
      },
      "source": [
        "## 4. finditer()\n",
        "Similar to findall() but returns an iterator"
      ]
    },
    {
      "cell_type": "code",
      "metadata": {
        "id": "Ml0mr66_A1um",
        "colab": {
          "base_uri": "https://localhost:8080/"
        },
        "outputId": "5ea5d025-5cb6-40b9-ad24-10ede6afa385"
      },
      "source": [
        "string = \"The national animal of India is Tger. Tiger lives in Forest.\"\n",
        "pattern = \"Tiger\"\n",
        "\n",
        "# Using finditer() on a string\n",
        "result = re.finditer(pattern, string)\n",
        "print(result)\n",
        "\n",
        "# Iterating over the iterator\n",
        "for m in result:\n",
        "    # Printing match object\n",
        "    print(m)\n",
        "    # Printing starting and ending index with matched substring\n",
        "    print('Start:',m.start(),' End:',m.end(),' Sub-string:',m.group())"
      ],
      "execution_count": 18,
      "outputs": [
        {
          "output_type": "stream",
          "name": "stdout",
          "text": [
            "<callable_iterator object at 0x7aa153c1f4f0>\n",
            "<re.Match object; span=(38, 43), match='Tiger'>\n",
            "Start: 38  End: 43  Sub-string: Tiger\n"
          ]
        }
      ]
    },
    {
      "cell_type": "markdown",
      "metadata": {
        "id": "l4ZatWPxA1us"
      },
      "source": [
        "## 5. sub()\n",
        "Searches for a substring and replaces it with another string"
      ]
    },
    {
      "cell_type": "code",
      "metadata": {
        "_uuid": "33fbc134ce0f031a1edad8ceb7cb1f59b5054c63",
        "id": "TUyGHQMOA1ut",
        "colab": {
          "base_uri": "https://localhost:8080/"
        },
        "outputId": "f8937775-4422-4a0f-99f6-f4c099e10c44"
      },
      "source": [
        "text=\"Analytics Vidhya is largest Analytics community of India.\"\n",
        "\n",
        "# Replacing a substring using sub()\n",
        "result=re.sub('India', 'theWorld',text)\n",
        "print(result)"
      ],
      "execution_count": 20,
      "outputs": [
        {
          "output_type": "stream",
          "name": "stdout",
          "text": [
            "Analytics Vidhya is largest Analytics community of theWorld.\n"
          ]
        }
      ]
    },
    {
      "cell_type": "markdown",
      "metadata": {
        "id": "_bWP1kRFA1uz"
      },
      "source": [
        "## 6. split()\n",
        "Split the text by the given RegEx Pattern"
      ]
    },
    {
      "cell_type": "code",
      "metadata": {
        "_uuid": "3c9c19a5a0c97d11d81c5eb0f27f19966f92c263",
        "id": "frzMC9RSA1u0",
        "colab": {
          "base_uri": "https://localhost:8080/"
        },
        "outputId": "1497300a-9390-4e48-bc1d-dcf735edd1b1"
      },
      "source": [
        "line = \"I have a big test tomorrow, I can't go out tonight.\"\n",
        "\n",
        "# Splitting a string into multiple substrings\n",
        "re.split(r'[;]', line)"
      ],
      "execution_count": 22,
      "outputs": [
        {
          "output_type": "execute_result",
          "data": {
            "text/plain": [
              "[\"I have a big test tomorrow, I can't go out tonight.\"]"
            ]
          },
          "metadata": {},
          "execution_count": 22
        }
      ]
    },
    {
      "cell_type": "markdown",
      "metadata": {
        "id": "hQ5kACDYA1u8"
      },
      "source": [
        "## 7. Groups"
      ]
    },
    {
      "cell_type": "code",
      "metadata": {
        "id": "x0YFvtRYA1u-",
        "colab": {
          "base_uri": "https://localhost:8080/"
        },
        "outputId": "8734370b-aaf2-4093-df78-a445b106024a"
      },
      "source": [
        "# Running a simple pattern on some text\n",
        "string=\"Ajay credited $500 to your account on 13-08- 2020.\\\n",
        "      Anmol debited $1,700 from your account on 14-08-2020.\\\n",
        "      Alex debited $100 on 16-08-2020 from your account.\"\n",
        "\n",
        "pattern=\"[\\w]+ [\\w]+ \\$[\\d,]+ [a-zA-z ]+ \\d{2}-\\d{2}-\\d{4}\"\n",
        "\n",
        "result=re.findall(pattern,string)\n",
        "\n",
        "print(result)"
      ],
      "execution_count": 24,
      "outputs": [
        {
          "output_type": "stream",
          "name": "stdout",
          "text": [
            "['Anmol debited $1,700 from your account on 14-08-2020', 'Alex debited $100 on 16-08-2020']\n"
          ]
        }
      ]
    },
    {
      "cell_type": "code",
      "metadata": {
        "id": "cQ8xvKvhA1vE",
        "colab": {
          "base_uri": "https://localhost:8080/"
        },
        "outputId": "bda12a81-15b1-4f28-d685-a29ff2604f15"
      },
      "source": [
        "string=\"Ajay credited $500 to your account on 13-08-2020.\\\n",
        "      Anmol debited $1,700 from your account on 14- 08-2020.\\\n",
        "      Alex debited $100 on 16-08-2020 from your account.\"\n",
        "\n",
        "# Creating groups in the previous pattern\n",
        "pattern=\"([\\w]+) ([\\w]+) (\\$[\\d,]+) [a-zA-z ]+ (\\d{2}-\\d{2}-\\d{4})\"\n",
        "\n",
        "result=re.findall(pattern,string)\n",
        "\n",
        "print(result)"
      ],
      "execution_count": 26,
      "outputs": [
        {
          "output_type": "stream",
          "name": "stdout",
          "text": [
            "[('Ajay', 'credited', '$500', '13-08-2020'), ('Alex', 'debited', '$100', '16-08-2020')]\n"
          ]
        }
      ]
    },
    {
      "cell_type": "code",
      "metadata": {
        "id": "UOF8foSKA1vL",
        "colab": {
          "base_uri": "https://localhost:8080/",
          "height": 125
        },
        "outputId": "184ee47d-f451-46b7-e0d1-dd10ad696f8d"
      },
      "source": [
        "import pandas as pd\n",
        "\n",
        "# Creating a dataframe\n",
        "df=pd.DataFrame(result,columns=['Name','Type','Amount','Date'])\n",
        "df"
      ],
      "execution_count": 27,
      "outputs": [
        {
          "output_type": "execute_result",
          "data": {
            "text/plain": [
              "   Name      Type Amount        Date\n",
              "0  Ajay  credited   $500  13-08-2020\n",
              "1  Alex   debited   $100  16-08-2020"
            ],
            "text/html": [
              "\n",
              "  <div id=\"df-5131bbb9-a854-4ebd-9181-1d9836f42110\" class=\"colab-df-container\">\n",
              "    <div>\n",
              "<style scoped>\n",
              "    .dataframe tbody tr th:only-of-type {\n",
              "        vertical-align: middle;\n",
              "    }\n",
              "\n",
              "    .dataframe tbody tr th {\n",
              "        vertical-align: top;\n",
              "    }\n",
              "\n",
              "    .dataframe thead th {\n",
              "        text-align: right;\n",
              "    }\n",
              "</style>\n",
              "<table border=\"1\" class=\"dataframe\">\n",
              "  <thead>\n",
              "    <tr style=\"text-align: right;\">\n",
              "      <th></th>\n",
              "      <th>Name</th>\n",
              "      <th>Type</th>\n",
              "      <th>Amount</th>\n",
              "      <th>Date</th>\n",
              "    </tr>\n",
              "  </thead>\n",
              "  <tbody>\n",
              "    <tr>\n",
              "      <th>0</th>\n",
              "      <td>Ajay</td>\n",
              "      <td>credited</td>\n",
              "      <td>$500</td>\n",
              "      <td>13-08-2020</td>\n",
              "    </tr>\n",
              "    <tr>\n",
              "      <th>1</th>\n",
              "      <td>Alex</td>\n",
              "      <td>debited</td>\n",
              "      <td>$100</td>\n",
              "      <td>16-08-2020</td>\n",
              "    </tr>\n",
              "  </tbody>\n",
              "</table>\n",
              "</div>\n",
              "    <div class=\"colab-df-buttons\">\n",
              "\n",
              "  <div class=\"colab-df-container\">\n",
              "    <button class=\"colab-df-convert\" onclick=\"convertToInteractive('df-5131bbb9-a854-4ebd-9181-1d9836f42110')\"\n",
              "            title=\"Convert this dataframe to an interactive table.\"\n",
              "            style=\"display:none;\">\n",
              "\n",
              "  <svg xmlns=\"http://www.w3.org/2000/svg\" height=\"24px\" viewBox=\"0 -960 960 960\">\n",
              "    <path d=\"M120-120v-720h720v720H120Zm60-500h600v-160H180v160Zm220 220h160v-160H400v160Zm0 220h160v-160H400v160ZM180-400h160v-160H180v160Zm440 0h160v-160H620v160ZM180-180h160v-160H180v160Zm440 0h160v-160H620v160Z\"/>\n",
              "  </svg>\n",
              "    </button>\n",
              "\n",
              "  <style>\n",
              "    .colab-df-container {\n",
              "      display:flex;\n",
              "      gap: 12px;\n",
              "    }\n",
              "\n",
              "    .colab-df-convert {\n",
              "      background-color: #E8F0FE;\n",
              "      border: none;\n",
              "      border-radius: 50%;\n",
              "      cursor: pointer;\n",
              "      display: none;\n",
              "      fill: #1967D2;\n",
              "      height: 32px;\n",
              "      padding: 0 0 0 0;\n",
              "      width: 32px;\n",
              "    }\n",
              "\n",
              "    .colab-df-convert:hover {\n",
              "      background-color: #E2EBFA;\n",
              "      box-shadow: 0px 1px 2px rgba(60, 64, 67, 0.3), 0px 1px 3px 1px rgba(60, 64, 67, 0.15);\n",
              "      fill: #174EA6;\n",
              "    }\n",
              "\n",
              "    .colab-df-buttons div {\n",
              "      margin-bottom: 4px;\n",
              "    }\n",
              "\n",
              "    [theme=dark] .colab-df-convert {\n",
              "      background-color: #3B4455;\n",
              "      fill: #D2E3FC;\n",
              "    }\n",
              "\n",
              "    [theme=dark] .colab-df-convert:hover {\n",
              "      background-color: #434B5C;\n",
              "      box-shadow: 0px 1px 3px 1px rgba(0, 0, 0, 0.15);\n",
              "      filter: drop-shadow(0px 1px 2px rgba(0, 0, 0, 0.3));\n",
              "      fill: #FFFFFF;\n",
              "    }\n",
              "  </style>\n",
              "\n",
              "    <script>\n",
              "      const buttonEl =\n",
              "        document.querySelector('#df-5131bbb9-a854-4ebd-9181-1d9836f42110 button.colab-df-convert');\n",
              "      buttonEl.style.display =\n",
              "        google.colab.kernel.accessAllowed ? 'block' : 'none';\n",
              "\n",
              "      async function convertToInteractive(key) {\n",
              "        const element = document.querySelector('#df-5131bbb9-a854-4ebd-9181-1d9836f42110');\n",
              "        const dataTable =\n",
              "          await google.colab.kernel.invokeFunction('convertToInteractive',\n",
              "                                                    [key], {});\n",
              "        if (!dataTable) return;\n",
              "\n",
              "        const docLinkHtml = 'Like what you see? Visit the ' +\n",
              "          '<a target=\"_blank\" href=https://colab.research.google.com/notebooks/data_table.ipynb>data table notebook</a>'\n",
              "          + ' to learn more about interactive tables.';\n",
              "        element.innerHTML = '';\n",
              "        dataTable['output_type'] = 'display_data';\n",
              "        await google.colab.output.renderOutput(dataTable, element);\n",
              "        const docLink = document.createElement('div');\n",
              "        docLink.innerHTML = docLinkHtml;\n",
              "        element.appendChild(docLink);\n",
              "      }\n",
              "    </script>\n",
              "  </div>\n",
              "\n",
              "\n",
              "<div id=\"df-02eb3135-2b36-4d89-a1f1-8377108a407b\">\n",
              "  <button class=\"colab-df-quickchart\" onclick=\"quickchart('df-02eb3135-2b36-4d89-a1f1-8377108a407b')\"\n",
              "            title=\"Suggest charts\"\n",
              "            style=\"display:none;\">\n",
              "\n",
              "<svg xmlns=\"http://www.w3.org/2000/svg\" height=\"24px\"viewBox=\"0 0 24 24\"\n",
              "     width=\"24px\">\n",
              "    <g>\n",
              "        <path d=\"M19 3H5c-1.1 0-2 .9-2 2v14c0 1.1.9 2 2 2h14c1.1 0 2-.9 2-2V5c0-1.1-.9-2-2-2zM9 17H7v-7h2v7zm4 0h-2V7h2v10zm4 0h-2v-4h2v4z\"/>\n",
              "    </g>\n",
              "</svg>\n",
              "  </button>\n",
              "\n",
              "<style>\n",
              "  .colab-df-quickchart {\n",
              "      --bg-color: #E8F0FE;\n",
              "      --fill-color: #1967D2;\n",
              "      --hover-bg-color: #E2EBFA;\n",
              "      --hover-fill-color: #174EA6;\n",
              "      --disabled-fill-color: #AAA;\n",
              "      --disabled-bg-color: #DDD;\n",
              "  }\n",
              "\n",
              "  [theme=dark] .colab-df-quickchart {\n",
              "      --bg-color: #3B4455;\n",
              "      --fill-color: #D2E3FC;\n",
              "      --hover-bg-color: #434B5C;\n",
              "      --hover-fill-color: #FFFFFF;\n",
              "      --disabled-bg-color: #3B4455;\n",
              "      --disabled-fill-color: #666;\n",
              "  }\n",
              "\n",
              "  .colab-df-quickchart {\n",
              "    background-color: var(--bg-color);\n",
              "    border: none;\n",
              "    border-radius: 50%;\n",
              "    cursor: pointer;\n",
              "    display: none;\n",
              "    fill: var(--fill-color);\n",
              "    height: 32px;\n",
              "    padding: 0;\n",
              "    width: 32px;\n",
              "  }\n",
              "\n",
              "  .colab-df-quickchart:hover {\n",
              "    background-color: var(--hover-bg-color);\n",
              "    box-shadow: 0 1px 2px rgba(60, 64, 67, 0.3), 0 1px 3px 1px rgba(60, 64, 67, 0.15);\n",
              "    fill: var(--button-hover-fill-color);\n",
              "  }\n",
              "\n",
              "  .colab-df-quickchart-complete:disabled,\n",
              "  .colab-df-quickchart-complete:disabled:hover {\n",
              "    background-color: var(--disabled-bg-color);\n",
              "    fill: var(--disabled-fill-color);\n",
              "    box-shadow: none;\n",
              "  }\n",
              "\n",
              "  .colab-df-spinner {\n",
              "    border: 2px solid var(--fill-color);\n",
              "    border-color: transparent;\n",
              "    border-bottom-color: var(--fill-color);\n",
              "    animation:\n",
              "      spin 1s steps(1) infinite;\n",
              "  }\n",
              "\n",
              "  @keyframes spin {\n",
              "    0% {\n",
              "      border-color: transparent;\n",
              "      border-bottom-color: var(--fill-color);\n",
              "      border-left-color: var(--fill-color);\n",
              "    }\n",
              "    20% {\n",
              "      border-color: transparent;\n",
              "      border-left-color: var(--fill-color);\n",
              "      border-top-color: var(--fill-color);\n",
              "    }\n",
              "    30% {\n",
              "      border-color: transparent;\n",
              "      border-left-color: var(--fill-color);\n",
              "      border-top-color: var(--fill-color);\n",
              "      border-right-color: var(--fill-color);\n",
              "    }\n",
              "    40% {\n",
              "      border-color: transparent;\n",
              "      border-right-color: var(--fill-color);\n",
              "      border-top-color: var(--fill-color);\n",
              "    }\n",
              "    60% {\n",
              "      border-color: transparent;\n",
              "      border-right-color: var(--fill-color);\n",
              "    }\n",
              "    80% {\n",
              "      border-color: transparent;\n",
              "      border-right-color: var(--fill-color);\n",
              "      border-bottom-color: var(--fill-color);\n",
              "    }\n",
              "    90% {\n",
              "      border-color: transparent;\n",
              "      border-bottom-color: var(--fill-color);\n",
              "    }\n",
              "  }\n",
              "</style>\n",
              "\n",
              "  <script>\n",
              "    async function quickchart(key) {\n",
              "      const quickchartButtonEl =\n",
              "        document.querySelector('#' + key + ' button');\n",
              "      quickchartButtonEl.disabled = true;  // To prevent multiple clicks.\n",
              "      quickchartButtonEl.classList.add('colab-df-spinner');\n",
              "      try {\n",
              "        const charts = await google.colab.kernel.invokeFunction(\n",
              "            'suggestCharts', [key], {});\n",
              "      } catch (error) {\n",
              "        console.error('Error during call to suggestCharts:', error);\n",
              "      }\n",
              "      quickchartButtonEl.classList.remove('colab-df-spinner');\n",
              "      quickchartButtonEl.classList.add('colab-df-quickchart-complete');\n",
              "    }\n",
              "    (() => {\n",
              "      let quickchartButtonEl =\n",
              "        document.querySelector('#df-02eb3135-2b36-4d89-a1f1-8377108a407b button');\n",
              "      quickchartButtonEl.style.display =\n",
              "        google.colab.kernel.accessAllowed ? 'block' : 'none';\n",
              "    })();\n",
              "  </script>\n",
              "</div>\n",
              "\n",
              "  <div id=\"id_00424d8b-2cfd-426f-8779-14e24d2e253e\">\n",
              "    <style>\n",
              "      .colab-df-generate {\n",
              "        background-color: #E8F0FE;\n",
              "        border: none;\n",
              "        border-radius: 50%;\n",
              "        cursor: pointer;\n",
              "        display: none;\n",
              "        fill: #1967D2;\n",
              "        height: 32px;\n",
              "        padding: 0 0 0 0;\n",
              "        width: 32px;\n",
              "      }\n",
              "\n",
              "      .colab-df-generate:hover {\n",
              "        background-color: #E2EBFA;\n",
              "        box-shadow: 0px 1px 2px rgba(60, 64, 67, 0.3), 0px 1px 3px 1px rgba(60, 64, 67, 0.15);\n",
              "        fill: #174EA6;\n",
              "      }\n",
              "\n",
              "      [theme=dark] .colab-df-generate {\n",
              "        background-color: #3B4455;\n",
              "        fill: #D2E3FC;\n",
              "      }\n",
              "\n",
              "      [theme=dark] .colab-df-generate:hover {\n",
              "        background-color: #434B5C;\n",
              "        box-shadow: 0px 1px 3px 1px rgba(0, 0, 0, 0.15);\n",
              "        filter: drop-shadow(0px 1px 2px rgba(0, 0, 0, 0.3));\n",
              "        fill: #FFFFFF;\n",
              "      }\n",
              "    </style>\n",
              "    <button class=\"colab-df-generate\" onclick=\"generateWithVariable('df')\"\n",
              "            title=\"Generate code using this dataframe.\"\n",
              "            style=\"display:none;\">\n",
              "\n",
              "  <svg xmlns=\"http://www.w3.org/2000/svg\" height=\"24px\"viewBox=\"0 0 24 24\"\n",
              "       width=\"24px\">\n",
              "    <path d=\"M7,19H8.4L18.45,9,17,7.55,7,17.6ZM5,21V16.75L18.45,3.32a2,2,0,0,1,2.83,0l1.4,1.43a1.91,1.91,0,0,1,.58,1.4,1.91,1.91,0,0,1-.58,1.4L9.25,21ZM18.45,9,17,7.55Zm-12,3A5.31,5.31,0,0,0,4.9,8.1,5.31,5.31,0,0,0,1,6.5,5.31,5.31,0,0,0,4.9,4.9,5.31,5.31,0,0,0,6.5,1,5.31,5.31,0,0,0,8.1,4.9,5.31,5.31,0,0,0,12,6.5,5.46,5.46,0,0,0,6.5,12Z\"/>\n",
              "  </svg>\n",
              "    </button>\n",
              "    <script>\n",
              "      (() => {\n",
              "      const buttonEl =\n",
              "        document.querySelector('#id_00424d8b-2cfd-426f-8779-14e24d2e253e button.colab-df-generate');\n",
              "      buttonEl.style.display =\n",
              "        google.colab.kernel.accessAllowed ? 'block' : 'none';\n",
              "\n",
              "      buttonEl.onclick = () => {\n",
              "        google.colab.notebook.generateWithVariable('df');\n",
              "      }\n",
              "      })();\n",
              "    </script>\n",
              "  </div>\n",
              "\n",
              "    </div>\n",
              "  </div>\n"
            ],
            "application/vnd.google.colaboratory.intrinsic+json": {
              "type": "dataframe",
              "variable_name": "df",
              "summary": "{\n  \"name\": \"df\",\n  \"rows\": 2,\n  \"fields\": [\n    {\n      \"column\": \"Name\",\n      \"properties\": {\n        \"dtype\": \"string\",\n        \"num_unique_values\": 2,\n        \"samples\": [\n          \"Alex\",\n          \"Ajay\"\n        ],\n        \"semantic_type\": \"\",\n        \"description\": \"\"\n      }\n    },\n    {\n      \"column\": \"Type\",\n      \"properties\": {\n        \"dtype\": \"string\",\n        \"num_unique_values\": 2,\n        \"samples\": [\n          \"debited\",\n          \"credited\"\n        ],\n        \"semantic_type\": \"\",\n        \"description\": \"\"\n      }\n    },\n    {\n      \"column\": \"Amount\",\n      \"properties\": {\n        \"dtype\": \"string\",\n        \"num_unique_values\": 2,\n        \"samples\": [\n          \"$100\",\n          \"$500\"\n        ],\n        \"semantic_type\": \"\",\n        \"description\": \"\"\n      }\n    },\n    {\n      \"column\": \"Date\",\n      \"properties\": {\n        \"dtype\": \"object\",\n        \"num_unique_values\": 2,\n        \"samples\": [\n          \"16-08-2020\",\n          \"13-08-2020\"\n        ],\n        \"semantic_type\": \"\",\n        \"description\": \"\"\n      }\n    }\n  ]\n}"
            }
          },
          "metadata": {},
          "execution_count": 27
        }
      ]
    },
    {
      "cell_type": "code",
      "metadata": {
        "scrolled": true,
        "id": "ZwsASy4EA1vS",
        "colab": {
          "base_uri": "https://localhost:8080/"
        },
        "outputId": "0a45e2bb-b3b2-41a0-89da-bd2a6d390429"
      },
      "source": [
        "# Using finditer() for getting match objects\n",
        "string=\"Ajay credited $500 to your account on 13-08-2020.\\\n",
        "      Anmol debited $1,700 from your account on 14-08-2020.\\\n",
        "      Alex debited $100 on 16-08-2020 from your account.\"\n",
        "\n",
        "pattern=\"([\\w]+) ([\\w]+) (\\$[\\d,]+) [a-zA-z ]+ (\\d{2}-\\d{2}-\\d{4})\"\n",
        "\n",
        "result=re.finditer(pattern,string)\n",
        "\n",
        "# Accessing groups separately\n",
        "for i in result:\n",
        "    print(i.group(0),'=>',i.group(1),'=>',i.group(2),'=>',i.group(3),'=>',i.group(4))"
      ],
      "execution_count": 28,
      "outputs": [
        {
          "output_type": "stream",
          "name": "stdout",
          "text": [
            "Ajay credited $500 to your account on 13-08-2020 => Ajay => credited => $500 => 13-08-2020\n",
            "Anmol debited $1,700 from your account on 14-08-2020 => Anmol => debited => $1,700 => 14-08-2020\n",
            "Alex debited $100 on 16-08-2020 => Alex => debited => $100 => 16-08-2020\n"
          ]
        }
      ]
    },
    {
      "cell_type": "markdown",
      "metadata": {
        "id": "Rh-zWJkOA1vY"
      },
      "source": [
        "**Note:** Syntax for naming groups: `(?P<Group Name>Pattern)`"
      ]
    },
    {
      "cell_type": "code",
      "metadata": {
        "id": "b393attMA1vZ"
      },
      "source": [
        "string=\"Ajay credited $500 to your account on 13-08-2020.\\\n",
        "      Anmol debited $1,700 from your account on 14-08-2020.\\\n",
        "      Alex debited $100 on 16-08-2020 from your account.\"\n",
        "\n",
        "# Naming Groups\n",
        "pattern=\"(?P<Name>[\\w]+) (?P<Type>[\\w]+) (?P<Amount>\\$[\\d,]+) [a-zA-z ]+ (?P<Date>\\d{2}-\\d{2}-\\d{4})\"\n",
        "\n",
        "result=list(re.finditer(pattern,string))"
      ],
      "execution_count": 29,
      "outputs": []
    },
    {
      "cell_type": "code",
      "metadata": {
        "id": "EBtiU-zQA1ve",
        "colab": {
          "base_uri": "https://localhost:8080/"
        },
        "outputId": "e3ddc689-a83d-48e1-912d-e0148acc978e"
      },
      "source": [
        "# Accessing data by group names\n",
        "for i in result:\n",
        "    print(i.group('Name'),'=>',i.group('Amount'),'=>',i.group('Date'),'=>',i.group('Type'))"
      ],
      "execution_count": 30,
      "outputs": [
        {
          "output_type": "stream",
          "name": "stdout",
          "text": [
            "Ajay => $500 => 13-08-2020 => credited\n",
            "Anmol => $1,700 => 14-08-2020 => debited\n",
            "Alex => $100 => 16-08-2020 => debited\n"
          ]
        }
      ]
    },
    {
      "cell_type": "code",
      "metadata": {
        "scrolled": true,
        "id": "EW4kaVQjA1vj",
        "colab": {
          "base_uri": "https://localhost:8080/"
        },
        "outputId": "180eb667-091c-4da8-b3fc-470bcdfc1722"
      },
      "source": [
        "# Printing data with group names\n",
        "for i in result:\n",
        "    print(i.groupdict())"
      ],
      "execution_count": 31,
      "outputs": [
        {
          "output_type": "stream",
          "name": "stdout",
          "text": [
            "{'Name': 'Ajay', 'Type': 'credited', 'Amount': '$500', 'Date': '13-08-2020'}\n",
            "{'Name': 'Anmol', 'Type': 'debited', 'Amount': '$1,700', 'Date': '14-08-2020'}\n",
            "{'Name': 'Alex', 'Type': 'debited', 'Amount': '$100', 'Date': '16-08-2020'}\n"
          ]
        }
      ]
    },
    {
      "cell_type": "code",
      "source": [
        "string=\"Sam started learning NLP on 02-01-2020. He created his first self project on 18-02-2019. After this, he worked hard and got an internship at ABC Pvt. Ltd. on 10-06-2019. Finally, he got his first job at XYZ Pvt. Ltd. on 22-10-2019.\"\n",
        "#pattern=\"\\w[A-Z]+ Pvt\\. Ltd\\.\"\n",
        "pattern = r'(\\b\\d{2})-(\\d{2})-(\\d{4}\\b)'\n",
        "pattern2 = r'\\b\\d{2}-\\d{2}-\\d{4}\\b'\n",
        "result=re.sub(pattern, r'\\1-\\2-2020', string)\n",
        "result2 = re.findall(pattern2, string)\n",
        "print(result)\n",
        "print(result2)"
      ],
      "metadata": {
        "colab": {
          "base_uri": "https://localhost:8080/"
        },
        "id": "5MqV7me0CMvt",
        "outputId": "fec78d91-3f83-4bd7-a059-783e14039e79"
      },
      "execution_count": 51,
      "outputs": [
        {
          "output_type": "stream",
          "name": "stdout",
          "text": [
            "Sam started learning NLP on 02-01-2020. He created his first self project on 18-02-2020. After this, he worked hard and got an internship at ABC Pvt. Ltd. on 10-06-2020. Finally, he got his first job at XYZ Pvt. Ltd. on 22-10-2020.\n",
            "['02-01-2020', '18-02-2019', '10-06-2019', '22-10-2019']\n"
          ]
        }
      ]
    },
    {
      "cell_type": "code",
      "metadata": {
        "id": "w9bZgS5G361h"
      },
      "source": [],
      "execution_count": null,
      "outputs": []
    }
  ]
}