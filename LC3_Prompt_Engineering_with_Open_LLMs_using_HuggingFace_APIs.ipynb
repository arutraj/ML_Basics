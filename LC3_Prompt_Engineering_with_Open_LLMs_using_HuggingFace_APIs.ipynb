{
  "nbformat": 4,
  "nbformat_minor": 0,
  "metadata": {
    "colab": {
      "provenance": [],
      "include_colab_link": true
    },
    "kernelspec": {
      "name": "python3",
      "display_name": "Python 3"
    },
    "language_info": {
      "name": "python"
    }
  },
  "cells": [
    {
      "cell_type": "markdown",
      "metadata": {
        "id": "view-in-github",
        "colab_type": "text"
      },
      "source": [
        "<a href=\"https://colab.research.google.com/github/arutraj/ML_Basics/blob/main/LC3_Prompt_Engineering_with_Open_LLMs_using_HuggingFace_APIs.ipynb\" target=\"_parent\"><img src=\"https://colab.research.google.com/assets/colab-badge.svg\" alt=\"Open In Colab\"/></a>"
      ]
    },
    {
      "cell_type": "markdown",
      "source": [
        "<center> <h1> Prompt Engineering with Open-Source Large Language Models (LLMs) using HuggingFace Serverless APIs</h1> </center>\n",
        "\n",
        "<p style=\"margin-bottom:1cm;\"></p>\n",
        "\n",
        "_____\n",
        "\n",
        "___[Created By: Dipanjan (DJ)](https://www.linkedin.com/in/dipanjans/)___"
      ],
      "metadata": {
        "id": "pUwrTGNs4kSN"
      }
    },
    {
      "cell_type": "markdown",
      "source": [
        "\n",
        "In this notebook we will learn how to run any open-source LLMs via HugginFace Inference APIs using this colab notebook. You can run this notebook in your local server also without worrying about having enough infrastructure to run these models!\n",
        "\n",
        "Thankfully HuggingFace has made its [__Inference API__](https://huggingface.co/docs/api-inference/quicktour) free to use with some basic rate limits etc. in place so you don't end up making unlimited requests on it's servers.\n",
        "\n",
        "The best part is you can access 150,000+ deep learning models without worrying about your infrastructure.\n",
        "\n",
        "The models we will be trying here include:\n",
        "\n",
        "- __[Mistral-7B-Instruct-v0.2](https://huggingface.co/mistralai/Mistral-7B-Instruct-v0.2)__ model which is a 7B parameters transformer LLM built by the French young company [MistralAI](https://mistral.ai/company/)  is a instruct fine-tuned version of the [Mistral-7B-Instruct-v0.1](https://huggingface.co/mistralai/Mistral-7B-Instruct-v0.1) which is based on their first [Mistral-7B-v0.1](https://huggingface.co/mistralai/Mistral-7B-v0.1) generative text model using a variety of publicly available conversation datasets.\n",
        "\n",
        "- __[gemma-2b-it ](https://huggingface.co/google/gemma-1.1-2b-it)__ is a part of Google's gemma series, a 2 billion parameter transformer model fine-tuned for instruction-following tasks, enabling it to handle a wide array of complex language processing activities.\n",
        "\n",
        "\n",
        "\n",
        "__You just need an internet connection and a HuggingFace Account and API Key to use these models.__\n"
      ],
      "metadata": {
        "id": "EGwBgKICV_DJ"
      }
    },
    {
      "cell_type": "markdown",
      "source": [
        "## Get your API Key\n",
        "\n",
        "Remember to go to your [HuggingFace Account Settings](https://huggingface.co/settings/account) and generate an API key by creating a new token from the [Access Tokens](https://huggingface.co/settings/tokens) section.\n",
        "\n",
        "![](https://i.imgur.com/Pvf0vBB.png)"
      ],
      "metadata": {
        "id": "w81pr0vzhNaJ"
      }
    },
    {
      "cell_type": "markdown",
      "source": [
        "## Load HuggingFace API Credentials\n",
        "\n",
        "Enter your key from [here](https://huggingface.co/settings/tokens)"
      ],
      "metadata": {
        "id": "DGSuxLmAiCGP"
      }
    },
    {
      "cell_type": "code",
      "source": [
        "from getpass import getpass\n",
        "\n",
        "API_KEY = getpass(\"Enter HuggingFace API Key: \")"
      ],
      "metadata": {
        "id": "A_YjkI6sVG7H",
        "colab": {
          "base_uri": "https://localhost:8080/"
        },
        "outputId": "89584c94-be1b-4d2a-b628-969f0f155ca0"
      },
      "execution_count": null,
      "outputs": [
        {
          "name": "stdout",
          "output_type": "stream",
          "text": [
            "Enter HuggingFace API Key: ··········\n"
          ]
        }
      ]
    },
    {
      "cell_type": "markdown",
      "source": [
        "### Create LLM API Access Function\n",
        "\n",
        "Here we create a basic function which can access any LLM API endpoint available on HuggingFace.\n",
        "\n",
        "For more details refer to the [detailed documentation](https://huggingface.co/docs/api-inference/detailed_parameters#text-generation-task) as needed."
      ],
      "metadata": {
        "id": "hgZzsDCZiN3k"
      }
    },
    {
      "cell_type": "code",
      "source": [
        "import requests\n",
        "\n",
        "headers = {\"Authorization\": \"Bearer \"+API_KEY}\n",
        "\n",
        "def query(payload, MODEL_API_URL):\n",
        "  response = requests.post(MODEL_API_URL, headers=headers, json=payload)\n",
        "  print('API Response:', response)\n",
        "  return response.json()"
      ],
      "metadata": {
        "id": "-TRno7hBB_qX"
      },
      "execution_count": null,
      "outputs": []
    },
    {
      "cell_type": "markdown",
      "source": [
        "## Create LLM API Access Config\n",
        "\n",
        "Here we decide which LLMs we will access by getting their inference API endpoints.\n",
        "\n",
        "We also set some general configuration settings. You can find the [detailed documentation](https://huggingface.co/docs/api-inference/detailed_parameters#text-generation-task) here.\n",
        "\n",
        "Some useful config settings include:\n",
        "\n",
        "- max_new_tokens: The amount of new tokens to be generated in the response\n",
        "- do_sample: Whether or not to use sampling. False means use greedy decoding i.e temperature=0\n",
        "- temperature: Between 0 - 1, The value used to module the next token probabilities. Higher temperature means the results may vary and be more creative\n",
        "- return_full_text: If set to False, does not return your input prompt to the model\n",
        "- wait_for_model:  If the model is not ready, wait for it instead of receiving 503. It limits the number of requests required to get your inference done\n",
        "- repetition_penalty: The more a token is used within generation the more it is penalized to not be picked in successive generation passes."
      ],
      "metadata": {
        "id": "9BPGezswkYNZ"
      }
    },
    {
      "cell_type": "code",
      "source": [
        "MISTRAL7B_API_URL = \"https://api-inference.huggingface.co/models/mistralai/Mistral-7B-Instruct-v0.2\"\n",
        "mistral_params = {\n",
        "                  \"wait_for_model\": True,\n",
        "                  \"do_sample\": False,\n",
        "                  \"return_full_text\": False,\n",
        "                  \"max_new_tokens\": 1000,\n",
        "                }\n",
        "\n",
        "GEMMA2B_IT_API_URL = \"https://api-inference.huggingface.co/models/google/gemma-1.1-2b-it\"\n",
        "gemma_params = {\n",
        "                    \"wait_for_model\": True,\n",
        "                    \"do_sample\": False,\n",
        "                    \"return_full_text\": False,\n",
        "                    \"max_new_tokens\": 1000,\n",
        "                  }"
      ],
      "metadata": {
        "id": "WtpZr9DlXHPZ"
      },
      "execution_count": null,
      "outputs": []
    },
    {
      "cell_type": "markdown",
      "source": [
        "## Prompting with Open-Source LLM APIs\n",
        "\n",
        "Now we will use HugginFace LLM APIs and try some tasks with prompting"
      ],
      "metadata": {
        "id": "repJ_4TCllJO"
      }
    },
    {
      "cell_type": "markdown",
      "source": [
        "### 1. Basic Q & A"
      ],
      "metadata": {
        "id": "yjD6KmrBluQE"
      }
    },
    {
      "cell_type": "code",
      "source": [
        "prompt = \"\"\"Can you explain what is mortgage?\"\"\"\n",
        "print(prompt)"
      ],
      "metadata": {
        "id": "JIyiS1TtYfMi",
        "colab": {
          "base_uri": "https://localhost:8080/"
        },
        "outputId": "95c8ca05-396f-43ca-f737-d44e3b279fae"
      },
      "execution_count": null,
      "outputs": [
        {
          "output_type": "stream",
          "name": "stdout",
          "text": [
            "Can you explain what is mortgage?\n"
          ]
        }
      ]
    },
    {
      "cell_type": "code",
      "source": [
        "MISTRAL7B_API_URL"
      ],
      "metadata": {
        "id": "fjo2tQmVjoKF",
        "colab": {
          "base_uri": "https://localhost:8080/",
          "height": 35
        },
        "outputId": "ea9c1188-a66f-4143-fccd-28e0d2835e12"
      },
      "execution_count": null,
      "outputs": [
        {
          "output_type": "execute_result",
          "data": {
            "text/plain": [
              "'https://api-inference.huggingface.co/models/mistralai/Mistral-7B-Instruct-v0.2'"
            ],
            "application/vnd.google.colaboratory.intrinsic+json": {
              "type": "string"
            }
          },
          "metadata": {},
          "execution_count": 5
        }
      ]
    },
    {
      "cell_type": "code",
      "source": [
        "output = query(payload={\n",
        "                \"inputs\": prompt,\n",
        "                \"parameters\": mistral_params\n",
        "                },\n",
        "                MODEL_API_URL=MISTRAL7B_API_URL)\n",
        "\n",
        "print(output[0]['generated_text'])"
      ],
      "metadata": {
        "id": "w9y8uhKXOB7B",
        "colab": {
          "base_uri": "https://localhost:8080/"
        },
        "outputId": "c83d308b-1288-4d1f-8331-ea986e2409cd"
      },
      "execution_count": null,
      "outputs": [
        {
          "output_type": "stream",
          "name": "stdout",
          "text": [
            "API Response: <Response [200]>\n",
            "\n",
            "\n",
            "A mortgage is a loan that is used to finance the purchase of real estate. The borrower pledges the real estate property as collateral for the loan, which means that the lender has the right to take possession of the property if the borrower fails to repay the loan according to the agreed terms. Mortgages are typically amortizing loans, which means that the borrower makes regular payments over a set period of time to pay off the loan in full, including the interest. The most common type of mortgage is a fixed-rate mortgage, where the interest rate remains the same for the life of the loan. Adjustable-rate mortgages (ARMs) have an interest rate that can change over time, based on market conditions. Mortgages can also have various terms, such as 15, 20, or 30 years. The length of the term affects the monthly payment amount and the total amount of interest paid over the life of the loan.\n"
          ]
        }
      ]
    },
    {
      "cell_type": "code",
      "source": [
        "output = query(payload={\n",
        "                \"inputs\": prompt,\n",
        "                \"parameters\": gemma_params\n",
        "                },\n",
        "                MODEL_API_URL=GEMMA2B_IT_API_URL)\n",
        "\n",
        "print(output[0]['generated_text'])"
      ],
      "metadata": {
        "id": "y3cJytUzYc4I",
        "colab": {
          "base_uri": "https://localhost:8080/"
        },
        "outputId": "03d87006-ef50-4374-d34c-9efba44d9863"
      },
      "execution_count": null,
      "outputs": [
        {
          "output_type": "stream",
          "name": "stdout",
          "text": [
            "API Response: <Response [200]>\n",
            "\n",
            "\n",
            "A mortgage is a loan that provides financial assistance to an individual or household to purchase, build, or improve a residential property. It is a secured loan, meaning that the lender has a lien on the property as security for the loan.\n",
            "\n",
            "**Key features of a mortgage:**\n",
            "\n",
            "- Provides financial assistance to purchase, build, or improve a residential property\n",
            "- Secured by the property\n",
            "- Typically has a fixed interest rate and monthly payments\n",
            "- May require a down payment and closing costs\n",
            "\n",
            "\n",
            "**Benefits of a mortgage:**\n",
            "\n",
            "- Access to affordable housing\n",
            "- Building equity in your home\n",
            "- Protection against rising property values\n",
            "- Potential for tax deductions\n",
            "\n",
            "\n",
            "**Risks of a mortgage:**\n",
            "\n",
            "- High interest rates\n",
            "- Limited flexibility\n",
            "- Credit risk\n",
            "- Down payment requirements\n",
            "- Property devaluation\n"
          ]
        }
      ]
    },
    {
      "cell_type": "markdown",
      "source": [
        "### 2. Sentiment Analysis"
      ],
      "metadata": {
        "id": "FJTyaa37lvz9"
      }
    },
    {
      "cell_type": "code",
      "source": [
        "reviews = [\n",
        "    \"\"\"I recently worked with this real estate company to purchase my first home,\n",
        "    and the experience was outstanding. The agent was knowledgeable, patient, and incredibly responsive.\n",
        "    They guided me through every step of the process, making what could have been a stressful\n",
        "    experience very smooth and enjoyable.\n",
        "    \"\"\",\n",
        "    \"\"\"This company's attention to detail and professionalism is second to none.\n",
        "    Our agent went above and beyond to ensure we got the best deal possible.\n",
        "    From the initial viewing to the final paperwork, everything was handled perfectly.\n",
        "    We couldn’t be happier with our new property!\n",
        "    \"\"\",\n",
        "    \"\"\"I was really let down by the lack of communication from this real estate company.\n",
        "    It often took days to get a response, and I felt like I was always the last to know about\n",
        "    updates on my property search. It made the whole buying process much more stressful than\n",
        "    it needed to be.\n",
        "    \"\"\",\n",
        "    \"\"\"My experience with this real estate company was frustrating. The agent seemed more interested\n",
        "    in closing the deal quickly rather than finding what was best for me. I felt rushed and\n",
        "    under-informed throughout the process, which has led to regrets about my purchase.\n",
        "    \"\"\"\n",
        "]"
      ],
      "metadata": {
        "id": "4ZKsd_3HaOw_"
      },
      "execution_count": null,
      "outputs": []
    },
    {
      "cell_type": "code",
      "source": [
        "from tqdm import tqdm\n",
        "\n",
        "mistral_responses = []\n",
        "gemma_responses = []\n",
        "\n",
        "for review in tqdm(reviews):\n",
        "  prompt = f\"\"\"\n",
        "  Act as a customer review analyst, given the following customer review text,\n",
        "  do the following tasks:\n",
        "  - Find the sentiment (positive, negative or neutral)\n",
        "  - Extract max 5 key topics or phrases of the good or bad in the review\n",
        "\n",
        "  Review Text:\n",
        "  {review}\n",
        "  \"\"\"\n",
        "  mistral_output = query(payload={\n",
        "                \"inputs\": prompt,\n",
        "                \"parameters\": mistral_params\n",
        "                },\n",
        "                MODEL_API_URL=MISTRAL7B_API_URL)\n",
        "  gemma_output = query(payload={\n",
        "                \"inputs\": prompt,\n",
        "                \"parameters\": gemma_params\n",
        "                },\n",
        "                MODEL_API_URL=GEMMA2B_IT_API_URL)\n",
        "  mistral_responses.append(mistral_output[0]['generated_text'])\n",
        "  gemma_responses.append(gemma_output[0]['generated_text'])\n",
        "\n"
      ],
      "metadata": {
        "id": "zA6_Ayr7aR3R",
        "colab": {
          "base_uri": "https://localhost:8080/"
        },
        "outputId": "1d7d40c7-e1df-41ff-b036-580e4440b23c"
      },
      "execution_count": null,
      "outputs": [
        {
          "output_type": "stream",
          "name": "stderr",
          "text": [
            " 25%|██▌       | 1/4 [00:00<00:00,  3.32it/s]"
          ]
        },
        {
          "output_type": "stream",
          "name": "stdout",
          "text": [
            "API Response: <Response [200]>\n",
            "API Response: <Response [200]>\n"
          ]
        },
        {
          "output_type": "stream",
          "name": "stderr",
          "text": [
            "\r 50%|█████     | 2/4 [00:00<00:00,  2.90it/s]"
          ]
        },
        {
          "output_type": "stream",
          "name": "stdout",
          "text": [
            "API Response: <Response [200]>\n",
            "API Response: <Response [200]>\n"
          ]
        },
        {
          "output_type": "stream",
          "name": "stderr",
          "text": [
            "\r 75%|███████▌  | 3/4 [00:01<00:00,  2.96it/s]"
          ]
        },
        {
          "output_type": "stream",
          "name": "stdout",
          "text": [
            "API Response: <Response [200]>\n",
            "API Response: <Response [200]>\n"
          ]
        },
        {
          "output_type": "stream",
          "name": "stderr",
          "text": [
            "100%|██████████| 4/4 [00:01<00:00,  3.13it/s]"
          ]
        },
        {
          "output_type": "stream",
          "name": "stdout",
          "text": [
            "API Response: <Response [200]>\n",
            "API Response: <Response [200]>\n"
          ]
        },
        {
          "output_type": "stream",
          "name": "stderr",
          "text": [
            "\n"
          ]
        }
      ]
    },
    {
      "cell_type": "code",
      "source": [
        "for response in mistral_responses:\n",
        "  print(response)\n",
        "  print()"
      ],
      "metadata": {
        "id": "Y_OQicd51IwN",
        "colab": {
          "base_uri": "https://localhost:8080/"
        },
        "outputId": "83842390-473d-4d88-d083-c7d1dadec416"
      },
      "execution_count": null,
      "outputs": [
        {
          "output_type": "stream",
          "name": "stdout",
          "text": [
            " Sentiment: Positive\n",
            "\n",
            "   Key Topics or Phrases:\n",
            "   1. Knowledgeable agent\n",
            "   2. Patient and responsive\n",
            "   3. Smooth and enjoyable experience\n",
            "   4. Guided through every step\n",
            "   5. Stressful experience made enjoyable.\n",
            "\n",
            " Sentiment: Positive\n",
            "\n",
            "   Key Topics or Phrases:\n",
            "   1. Attention to detail\n",
            "   2. Professionalism\n",
            "   3. Agent went above and beyond\n",
            "   4. Best deal possible\n",
            "   5. Handled perfectly\n",
            "   6. New property\n",
            "   7. Happier (implied)\n",
            "\n",
            " Sentiment: Negative\n",
            "\n",
            "   Key Topics or Phrases:\n",
            "   1. Lack of communication\n",
            "   2. Long response time\n",
            "   3. Last to know about updates\n",
            "   4. Stressful buying process\n",
            "   5. Long wait times for information.\n",
            "\n",
            " Sentiment: Negative\n",
            "\n",
            "   Key Topics or Phrases:\n",
            "   1. Frustrating experience\n",
            "   2. Agent more interested in closing deal quickly\n",
            "   3. Felt rushed\n",
            "   4. Under-informed\n",
            "   5. Regrets about purchase.\n",
            "\n"
          ]
        }
      ]
    },
    {
      "cell_type": "code",
      "source": [
        "for response in gemma_responses:\n",
        "  print(response)\n",
        "  print()"
      ],
      "metadata": {
        "id": "kDXf8HVy1Nj9",
        "colab": {
          "base_uri": "https://localhost:8080/"
        },
        "outputId": "dbe429c2-4bcd-4a67-a4ee-cfd8e6969faa"
      },
      "execution_count": null,
      "outputs": [
        {
          "output_type": "stream",
          "name": "stdout",
          "text": [
            "**Sentiment:** Positive\n",
            "\n",
            "  **Key Topics:**\n",
            "\n",
            "1. Excellent agent\n",
            "2. Smooth and enjoyable process\n",
            "3. Knowledge of the market\n",
            "4. Patient and responsive agent\n",
            "5. Overall positive experience\n",
            "\n",
            "**Sentiment:** Positive\n",
            "\n",
            "**Key Topics:**\n",
            "\n",
            "1. Attention to detail\n",
            "2. Professionalism\n",
            "3. Deal-making\n",
            "4. Satisfaction\n",
            "5. Property acquisition\n",
            "\n",
            "**Sentiment:** Neutral\n",
            "\n",
            "  **Key Topics:**\n",
            "\n",
            "1. Lack of communication\n",
            "2. Stressful buying process\n",
            "3. Response time\n",
            "4. Property search updates\n",
            "5. Customer experience\n",
            "\n",
            "**Sentiment:** Neutral\n",
            "\n",
            "  **Key Topics:**\n",
            "\n",
            "1. Frustration with the agent's lack of empathy\n",
            "2. Feeling rushed and under-informed\n",
            "3. Regret about the purchase\n",
            "4. Lack of communication and transparency\n",
            "5. Overall dissatisfaction with the agent's performance\n",
            "\n"
          ]
        }
      ]
    },
    {
      "cell_type": "markdown",
      "source": [
        "### 3. Content Generation based on topics"
      ],
      "metadata": {
        "id": "PIfbBYeml3Uu"
      }
    },
    {
      "cell_type": "code",
      "source": [
        "prompt = \"\"\"Generate a bullet list of pros and cons of investing\n",
        "            in commercial real estate during economic volatility.\n",
        "            The list should include factors such as market potential,\n",
        "            risk management, capital appreciation, and liquidity concerns\n",
        "          \"\"\";"
      ],
      "metadata": {
        "id": "jEusqyJZbiED"
      },
      "execution_count": null,
      "outputs": []
    },
    {
      "cell_type": "code",
      "source": [
        "output = query(payload={\n",
        "                \"inputs\": prompt,\n",
        "                \"parameters\": mistral_params\n",
        "                },\n",
        "                MODEL_API_URL=MISTRAL7B_API_URL)\n",
        "\n",
        "print(output[0]['generated_text'])"
      ],
      "metadata": {
        "id": "iFHGWSlibkcq",
        "colab": {
          "base_uri": "https://localhost:8080/"
        },
        "outputId": "51c3099a-3e9a-41f3-89d3-4f35966aa807"
      },
      "execution_count": null,
      "outputs": [
        {
          "output_type": "stream",
          "name": "stdout",
          "text": [
            "API Response: <Response [200]>\n",
            "\n",
            "Pros of Investing in Commercial Real Estate during Economic Volatility:\n",
            "\n",
            "1. Market Potential: Economic volatility can create opportunities for buying commercial real estate at lower prices due to distressed sales or sellers who are motivated to sell. This can lead to potential higher returns when the market recovers.\n",
            "\n",
            "2. Risk Management: Commercial real estate can provide a hedge against inflation since rents and property values often increase with inflation. Additionally, a diversified portfolio that includes commercial real estate can help mitigate overall investment risk.\n",
            "\n",
            "3. Capital Appreciation: Commercial real estate has historically provided strong capital appreciation over the long term. During economic volatility, some investors may be hesitant to buy stocks or bonds, making commercial real estate an attractive alternative.\n",
            "\n",
            "4. Steady Income: Commercial real estate can provide a steady income stream through rental income. This can help offset any potential losses in the value of the property during economic volatility.\n",
            "\n",
            "5. Tax Benefits: Commercial real estate investments offer various tax benefits, including depreciation, mortgage interest deductions, and 1031 exchanges, which can help reduce overall investment costs and increase potential returns.\n",
            "\n",
            "Cons of Investing in Commercial Real Estate during Economic Volatility:\n",
            "\n",
            "1. Market Risk: Economic volatility can lead to increased market risk for commercial real estate investments. Factors such as rising interest rates, decreased demand for commercial space, and increased competition can negatively impact property values and rental income.\n",
            "\n",
            "2. Liquidity Concerns: Commercial real estate investments can be illiquid, making it difficult to sell the property quickly if needed. During economic volatility, it may be more challenging to find buyers or secure favorable sale prices.\n",
            "\n",
            "3. Management and Maintenance: Commercial real estate requires significant time, effort, and resources to manage and maintain. During economic volatility, it may be more difficult to find reliable tenants or manage expenses effectively, which can impact the overall return on investment.\n",
            "\n",
            "4. Financing: Obtaining financing for commercial real estate investments during economic volatility can be more challenging and expensive. Lenders may be more cautious about extending credit, and interest rates may be higher, increasing the cost of borrowing.\n",
            "\n",
            "5. Economic Uncertainty: Economic volatility can create uncertainty and instability, making it difficult to predict future market trends and potential risks. This can make it more challenging to make informed investment decisions and manage risks effectively.\n"
          ]
        }
      ]
    },
    {
      "cell_type": "code",
      "source": [
        "print(prompt)"
      ],
      "metadata": {
        "id": "PLDVhmIjh68B",
        "colab": {
          "base_uri": "https://localhost:8080/"
        },
        "outputId": "010d00dc-1885-47ba-f1bf-ded5efde4050"
      },
      "execution_count": null,
      "outputs": [
        {
          "output_type": "stream",
          "name": "stdout",
          "text": [
            "Generate a bullet list of pros and cons of investing\n",
            "            in commercial real estate during economic volatility.\n",
            "            The list should include factors such as market potential,\n",
            "            risk management, capital appreciation, and liquidity concerns\n",
            "          \n"
          ]
        }
      ]
    },
    {
      "cell_type": "code",
      "source": [
        "new_prompt = \"\"\"\n",
        "Generate a bullet list of pros and cons of investing\n",
        "            in commercial real estate during economic volatility.\n",
        "            The list should include factors such as market potential,\n",
        "            risk management, capital appreciation, and liquidity concerns. Give detailed descriptions in bullet points.\n",
        "            \"\"\""
      ],
      "metadata": {
        "id": "pUC5LquAiAE1"
      },
      "execution_count": null,
      "outputs": []
    },
    {
      "cell_type": "code",
      "source": [
        "output = query(payload={\n",
        "                \"inputs\": new_prompt,\n",
        "                \"parameters\": gemma_params\n",
        "                },\n",
        "                MODEL_API_URL=GEMMA2B_IT_API_URL)\n",
        "\n",
        "print(output[0]['generated_text'])"
      ],
      "metadata": {
        "id": "6Hvi5NAkbl6D",
        "colab": {
          "base_uri": "https://localhost:8080/"
        },
        "outputId": "ae06b915-e35d-477a-ada3-dac0d104a651"
      },
      "execution_count": null,
      "outputs": [
        {
          "output_type": "stream",
          "name": "stdout",
          "text": [
            "API Response: <Response [200]>\n",
            "\n",
            "**Pros of Investing in Commercial Real Estate During Economic Volatility:**\n",
            "\n",
            "- **Market Potential:**\n",
            "    - Potential for significant capital appreciation in high-growth markets.\n",
            "    - Diversification of assets and potential hedge against inflation.\n",
            "\n",
            "\n",
            "- **Risk Management:**\n",
            "    - Stable income generation through rent payments.\n",
            "    - Protection against property devaluation and market downturns.\n",
            "\n",
            "\n",
            "- **Capital Appreciation:**\n",
            "    - Long-term appreciation of property values.\n",
            "    - Potential for high returns on investment.\n",
            "\n",
            "\n",
            "- **Liquidity:**\n",
            "    - Ability to sell or refinance property without penalty during economic volatility.\n",
            "    - Access to financing and liquidity options.\n",
            "\n",
            "\n",
            "**Cons of Investing in Commercial Real Estate During Economic Volatility:**\n",
            "\n",
            "- **Market Volatility:**\n",
            "    - Rapid and unpredictable market fluctuations can lead to significant losses.\n",
            "    - Difficulty in predicting future property values.\n",
            "\n",
            "\n",
            "- **Economic Uncertainty:**\n",
            "    - Changes in economic conditions can impact demand for office space and other commercial real estate assets.\n",
            "    - Potential for job losses and reduced economic activity.\n",
            "\n",
            "\n",
            "- **Competition:**\n",
            "    - Increased competition for tenants and lower rental rates.\n",
            "    - Difficulty in attracting and retaining tenants in a volatile market.\n",
            "\n",
            "\n",
            "- **Property Maintenance and Operating Costs:**\n",
            "    - Higher maintenance and operational expenses during economic uncertainty.\n",
            "    - Potential for reduced occupancy rates and lower revenue generation.\n"
          ]
        }
      ]
    },
    {
      "cell_type": "markdown",
      "source": [
        "### 4. Report Summarization"
      ],
      "metadata": {
        "id": "lD2_UpD_l5CA"
      }
    },
    {
      "cell_type": "code",
      "source": [
        "report = \"\"\"\n",
        "Generative AI is a type of artificial intelligence technology that can produce various types of content, including text, imagery, audio and synthetic data. The recent buzz around generative AI has been driven by the simplicity of new user interfaces for creating high-quality text, graphics and videos in a matter of seconds.\n",
        "The technology, it should be noted, is not brand-new. Generative AI was introduced in the 1960s in chatbots. But it was not until 2014, with the introduction of generative adversarial networks, or GANs -- a type of machine learning algorithm -- that generative AI could create convincingly authentic images, videos and audio of real people.\n",
        "On the one hand, this newfound capability has opened up opportunities that include better movie dubbing and rich educational content. It also unlocked concerns about deepfakes -- digitally forged images or videos -- and harmful cybersecurity attacks on businesses, including nefarious requests that realistically mimic an employee's boss.\n",
        "Two additional recent advances that will be discussed in more detail below have played a critical part in generative AI going mainstream: transformers and the breakthrough language models they enabled. Transformers are a type of machine learning that made it possible for researchers to train ever-larger models without having to label all of the data in advance. New models could thus be trained on billions of pages of text, resulting in answers with more depth. In addition, transformers unlocked a new notion called attention that enabled models to track the connections between words across pages, chapters and books rather than just in individual sentences. And not just words: Transformers could also use their ability to track connections to analyze code, proteins, chemicals and DNA.\n",
        "The rapid advances in so-called large language models (LLMs) -- i.e., models with billions or even trillions of parameters -- have opened a new era in which generative AI models can write engaging text, paint photorealistic images and even create somewhat entertaining sitcoms on the fly. Moreover, innovations in multimodal AI enable teams to generate content across multiple types of media, including text, graphics and video. This is the basis for tools like Dall-E that automatically create images from a text description or generate text captions from images.\n",
        "These breakthroughs notwithstanding, we are still in the early days of using generative AI to create readable text and photorealistic stylized graphics. Early implementations have had issues with accuracy and bias, as well as being prone to hallucinations and spitting back weird answers. Still, progress thus far indicates that the inherent capabilities of this generative AI could fundamentally change enterprise technology how businesses operate. Going forward, this technology could help write code, design new drugs, develop products, redesign business processes and transform supply chains.\n",
        "\"\"\"\n",
        "\n",
        "prompt = f\"\"\"\n",
        "Summarize the following report delimited by triple backticks on Generative AI in max 5 lines\n",
        "\n",
        "Report:\n",
        "```{report}```\n",
        "\"\"\"\n",
        "\n",
        "print(prompt)"
      ],
      "metadata": {
        "id": "r88x6sQWCheK",
        "colab": {
          "base_uri": "https://localhost:8080/"
        },
        "outputId": "965ad815-4ec5-4ceb-e53b-9d48972ae202"
      },
      "execution_count": null,
      "outputs": [
        {
          "output_type": "stream",
          "name": "stdout",
          "text": [
            "\n",
            "Summarize the following report delimited by triple backticks on Generative AI in max 5 lines\n",
            "\n",
            "Report:\n",
            "```\n",
            "Generative AI is a type of artificial intelligence technology that can produce various types of content, including text, imagery, audio and synthetic data. The recent buzz around generative AI has been driven by the simplicity of new user interfaces for creating high-quality text, graphics and videos in a matter of seconds.\n",
            "The technology, it should be noted, is not brand-new. Generative AI was introduced in the 1960s in chatbots. But it was not until 2014, with the introduction of generative adversarial networks, or GANs -- a type of machine learning algorithm -- that generative AI could create convincingly authentic images, videos and audio of real people.\n",
            "On the one hand, this newfound capability has opened up opportunities that include better movie dubbing and rich educational content. It also unlocked concerns about deepfakes -- digitally forged images or videos -- and harmful cybersecurity attacks on businesses, including nefarious requests that realistically mimic an employee's boss.\n",
            "Two additional recent advances that will be discussed in more detail below have played a critical part in generative AI going mainstream: transformers and the breakthrough language models they enabled. Transformers are a type of machine learning that made it possible for researchers to train ever-larger models without having to label all of the data in advance. New models could thus be trained on billions of pages of text, resulting in answers with more depth. In addition, transformers unlocked a new notion called attention that enabled models to track the connections between words across pages, chapters and books rather than just in individual sentences. And not just words: Transformers could also use their ability to track connections to analyze code, proteins, chemicals and DNA.\n",
            "The rapid advances in so-called large language models (LLMs) -- i.e., models with billions or even trillions of parameters -- have opened a new era in which generative AI models can write engaging text, paint photorealistic images and even create somewhat entertaining sitcoms on the fly. Moreover, innovations in multimodal AI enable teams to generate content across multiple types of media, including text, graphics and video. This is the basis for tools like Dall-E that automatically create images from a text description or generate text captions from images.\n",
            "These breakthroughs notwithstanding, we are still in the early days of using generative AI to create readable text and photorealistic stylized graphics. Early implementations have had issues with accuracy and bias, as well as being prone to hallucinations and spitting back weird answers. Still, progress thus far indicates that the inherent capabilities of this generative AI could fundamentally change enterprise technology how businesses operate. Going forward, this technology could help write code, design new drugs, develop products, redesign business processes and transform supply chains.\n",
            "```\n",
            "\n"
          ]
        }
      ]
    },
    {
      "cell_type": "code",
      "source": [
        "output = query(payload={\n",
        "                \"inputs\": prompt,\n",
        "                \"parameters\": mistral_params\n",
        "                },\n",
        "                MODEL_API_URL=MISTRAL7B_API_URL)\n",
        "\n",
        "print(output[0]['generated_text'])"
      ],
      "metadata": {
        "id": "6Pi9uzJ8dObA",
        "colab": {
          "base_uri": "https://localhost:8080/"
        },
        "outputId": "fce4a8bd-588b-4f7c-b707-3d47c1f479ce"
      },
      "execution_count": null,
      "outputs": [
        {
          "output_type": "stream",
          "name": "stdout",
          "text": [
            "API Response: <Response [200]>\n",
            "Generative AI is a technology that can create various types of content, including text, images, audio, and synthetic data. Introduced in the 1960s, it gained popularity with the introduction of generative adversarial networks (GANs) in 2014, enabling the creation of convincing images, videos, and audio. Recent advances in transformers and large language models have led to the generation of engaging text and photorealistic graphics, with potential applications in enterprise technology such as code writing, drug development, and supply chain transformation. However, challenges remain, including accuracy, bias, and hallucinations.\n"
          ]
        }
      ]
    },
    {
      "cell_type": "code",
      "source": [
        "print('\\n'.join(output[0]['generated_text'].split('.')))"
      ],
      "metadata": {
        "id": "vJZf2Qo0dTyl",
        "colab": {
          "base_uri": "https://localhost:8080/"
        },
        "outputId": "08e1f005-23c9-43d8-e028-5e6cdfaa3f8b"
      },
      "execution_count": null,
      "outputs": [
        {
          "output_type": "stream",
          "name": "stdout",
          "text": [
            "Generative AI is a technology that can create various types of content, including text, images, audio, and synthetic data\n",
            " Introduced in the 1960s, it gained popularity with the introduction of generative adversarial networks (GANs) in 2014, enabling the creation of convincing images, videos, and audio\n",
            " Recent advances in transformers and large language models have led to the generation of engaging text and photorealistic graphics, with potential applications in enterprise technology such as code writing, drug development, and supply chain transformation\n",
            " However, challenges remain, including accuracy, bias, and hallucinations\n",
            "\n"
          ]
        }
      ]
    },
    {
      "cell_type": "code",
      "source": [
        "report = \"\"\"\n",
        "Generative AI is a type of artificial intelligence technology that can produce various types of content, including text, imagery, audio and synthetic data. The recent buzz around generative AI has been driven by the simplicity of new user interfaces for creating high-quality text, graphics and videos in a matter of seconds.\n",
        "The technology, it should be noted, is not brand-new. Generative AI was introduced in the 1960s in chatbots. But it was not until 2014, with the introduction of generative adversarial networks, or GANs -- a type of machine learning algorithm -- that generative AI could create convincingly authentic images, videos and audio of real people.\n",
        "On the one hand, this newfound capability has opened up opportunities that include better movie dubbing and rich educational content. It also unlocked concerns about deepfakes -- digitally forged images or videos -- and harmful cybersecurity attacks on businesses, including nefarious requests that realistically mimic an employee's boss.\n",
        "Two additional recent advances that will be discussed in more detail below have played a critical part in generative AI going mainstream: transformers and the breakthrough language models they enabled. Transformers are a type of machine learning that made it possible for researchers to train ever-larger models without having to label all of the data in advance. New models could thus be trained on billions of pages of text, resulting in answers with more depth. In addition, transformers unlocked a new notion called attention that enabled models to track the connections between words across pages, chapters and books rather than just in individual sentences. And not just words: Transformers could also use their ability to track connections to analyze code, proteins, chemicals and DNA.\n",
        "The rapid advances in so-called large language models (LLMs) -- i.e., models with billions or even trillions of parameters -- have opened a new era in which generative AI models can write engaging text, paint photorealistic images and even create somewhat entertaining sitcoms on the fly. Moreover, innovations in multimodal AI enable teams to generate content across multiple types of media, including text, graphics and video. This is the basis for tools like Dall-E that automatically create images from a text description or generate text captions from images.\n",
        "These breakthroughs notwithstanding, we are still in the early days of using generative AI to create readable text and photorealistic stylized graphics. Early implementations have had issues with accuracy and bias, as well as being prone to hallucinations and spitting back weird answers. Still, progress thus far indicates that the inherent capabilities of this generative AI could fundamentally change enterprise technology how businesses operate. Going forward, this technology could help write code, design new drugs, develop products, redesign business processes and transform supply chains.\n",
        "\"\"\"\n",
        "\n",
        "prompt = f\"\"\"\n",
        "Summarize the following report delimited by triple backticks on Generative AI in at least 5 lines\n",
        "\n",
        "Report:\n",
        "```{report}```\n",
        "\"\"\"\n",
        "\n",
        "print(prompt)"
      ],
      "metadata": {
        "colab": {
          "base_uri": "https://localhost:8080/"
        },
        "id": "HXRnG5tg9ax7",
        "outputId": "c3d936ec-bd4e-4477-d0bd-e5d61acbb230"
      },
      "execution_count": null,
      "outputs": [
        {
          "output_type": "stream",
          "name": "stdout",
          "text": [
            "\n",
            "Summarize the following report delimited by triple backticks on Generative AI in at least 5 lines\n",
            "\n",
            "Report:\n",
            "```\n",
            "Generative AI is a type of artificial intelligence technology that can produce various types of content, including text, imagery, audio and synthetic data. The recent buzz around generative AI has been driven by the simplicity of new user interfaces for creating high-quality text, graphics and videos in a matter of seconds.\n",
            "The technology, it should be noted, is not brand-new. Generative AI was introduced in the 1960s in chatbots. But it was not until 2014, with the introduction of generative adversarial networks, or GANs -- a type of machine learning algorithm -- that generative AI could create convincingly authentic images, videos and audio of real people.\n",
            "On the one hand, this newfound capability has opened up opportunities that include better movie dubbing and rich educational content. It also unlocked concerns about deepfakes -- digitally forged images or videos -- and harmful cybersecurity attacks on businesses, including nefarious requests that realistically mimic an employee's boss.\n",
            "Two additional recent advances that will be discussed in more detail below have played a critical part in generative AI going mainstream: transformers and the breakthrough language models they enabled. Transformers are a type of machine learning that made it possible for researchers to train ever-larger models without having to label all of the data in advance. New models could thus be trained on billions of pages of text, resulting in answers with more depth. In addition, transformers unlocked a new notion called attention that enabled models to track the connections between words across pages, chapters and books rather than just in individual sentences. And not just words: Transformers could also use their ability to track connections to analyze code, proteins, chemicals and DNA.\n",
            "The rapid advances in so-called large language models (LLMs) -- i.e., models with billions or even trillions of parameters -- have opened a new era in which generative AI models can write engaging text, paint photorealistic images and even create somewhat entertaining sitcoms on the fly. Moreover, innovations in multimodal AI enable teams to generate content across multiple types of media, including text, graphics and video. This is the basis for tools like Dall-E that automatically create images from a text description or generate text captions from images.\n",
            "These breakthroughs notwithstanding, we are still in the early days of using generative AI to create readable text and photorealistic stylized graphics. Early implementations have had issues with accuracy and bias, as well as being prone to hallucinations and spitting back weird answers. Still, progress thus far indicates that the inherent capabilities of this generative AI could fundamentally change enterprise technology how businesses operate. Going forward, this technology could help write code, design new drugs, develop products, redesign business processes and transform supply chains.\n",
            "```\n",
            "\n"
          ]
        }
      ]
    },
    {
      "cell_type": "code",
      "source": [
        "output = query(payload={\n",
        "                \"inputs\": prompt,\n",
        "                \"parameters\": gemma_params\n",
        "                },\n",
        "                MODEL_API_URL=GEMMA2B_IT_API_URL)\n",
        "\n",
        "print(output[0]['generated_text'])"
      ],
      "metadata": {
        "id": "e9QqGVIQdTMD",
        "colab": {
          "base_uri": "https://localhost:8080/"
        },
        "outputId": "8774dd92-4281-4ed3-b211-740bedfd28c0"
      },
      "execution_count": null,
      "outputs": [
        {
          "output_type": "stream",
          "name": "stdout",
          "text": [
            "API Response: <Response [200]>\n",
            "**Summary:**\n",
            "\n",
            "- Generative AI is a type of AI technology that can create various types of content, including text, images, audio, and synthetic data.\n",
            "\n",
            "\n",
            "- Generative AI was introduced in the 1960s but gained renewed attention in 2014 with the introduction of generative adversarial networks (GANs).\n",
            "\n",
            "\n",
            "- Recent advancements in transformers and large language models have made generative AI models capable of writing engaging text, painting realistic images, and creating humorous content.\n",
            "\n",
            "\n",
            "- Generative AI has the potential to revolutionize enterprise technology by automating tasks such as writing code, designing drugs, and redesigning business processes.\n",
            "\n",
            "\n",
            "- Despite early challenges with accuracy and bias, generative AI holds the promise of significant advancements in the future.\n"
          ]
        }
      ]
    },
    {
      "cell_type": "markdown",
      "source": [
        "### 5. Recipe Pattern"
      ],
      "metadata": {
        "id": "KyIYo6wbl86s"
      }
    },
    {
      "cell_type": "code",
      "source": [
        "prompt = \"\"\"\n",
        "I would like to purchase a house.\n",
        "I know that I need to perform steps like selecting a location,\n",
        "looking at various houses, house features, make an offer etc.\n",
        "Provide a complete sequence of steps for me.\n",
        "Fill in any missing steps.\n",
        "\"\"\"\n",
        "\n",
        "print(prompt)"
      ],
      "metadata": {
        "id": "98aaxuQKeNOe",
        "colab": {
          "base_uri": "https://localhost:8080/"
        },
        "outputId": "bf09e183-0bbd-4b27-a0d6-7728ed111de9"
      },
      "execution_count": null,
      "outputs": [
        {
          "output_type": "stream",
          "name": "stdout",
          "text": [
            "\n",
            "I would like to purchase a house.\n",
            "I know that I need to perform steps like selecting a location,\n",
            "looking at various houses, house features, make an offer etc.\n",
            "Provide a complete sequence of steps for me.\n",
            "Fill in any missing steps.\n",
            "\n"
          ]
        }
      ]
    },
    {
      "cell_type": "code",
      "source": [
        "output = query(payload={\n",
        "                \"inputs\": prompt,\n",
        "                \"parameters\": mistral_params\n",
        "                },\n",
        "                MODEL_API_URL=MISTRAL7B_API_URL)\n",
        "\n",
        "print(output[0]['generated_text'])"
      ],
      "metadata": {
        "id": "39TbfeSGeTRm",
        "colab": {
          "base_uri": "https://localhost:8080/"
        },
        "outputId": "3f608562-2ea1-4056-aa93-6969087bdb77"
      },
      "execution_count": null,
      "outputs": [
        {
          "output_type": "stream",
          "name": "stdout",
          "text": [
            "API Response: <Response [200]>\n",
            "\n",
            "1. Determine your budget:\n",
            "   - Calculate your monthly income and expenses\n",
            "   - Determine how much you can afford to pay for a mortgage each month\n",
            "   - Research current mortgage rates and calculate how much you can borrow based on your income and debt-to-income ratio\n",
            "\n",
            "2. Choose a location:\n",
            "   - Consider factors such as commute time, proximity to amenities, schools, and safety\n",
            "   - Research the real estate market in the area to determine affordability and potential for appreciation\n",
            "\n",
            "3. Work with a real estate agent:\n",
            "   - Find an agent who specializes in the area you're interested in\n",
            "   - Share your budget, preferences, and goals with them\n",
            "   - Allow them to help you find houses that fit your criteria\n",
            "\n",
            "4. View houses:\n",
            "   - Schedule showings to view houses that meet your criteria\n",
            "   - Take notes and take photos during each showing to help remember the details of each house\n",
            "   - Consider bringing a friend or family member for a second opinion\n",
            "\n",
            "5. Make an offer:\n",
            "   - Work with your agent to determine a fair offer price based on market conditions and the house's features\n",
            "   - Submit a written offer to the seller or their agent\n",
            "   - Negotiate the terms of the sale if necessary\n",
            "\n",
            "6. Get a home inspection:\n",
            "   - Hire a professional home inspector to assess the condition of the house\n",
            "   - Attend the inspection to learn about any issues that were identified\n",
            "   - Use the information to negotiate repairs or adjust the offer price\n",
            "\n",
            "7. Obtain a mortgage:\n",
            "   - Apply for a mortgage with a lender\n",
            "   - Provide documentation of your income, assets, and debt\n",
            "   - Undergo a credit check and appraisal of the property\n",
            "   - Sign the loan documents and pay the closing costs\n",
            "\n",
            "8. Close the sale:\n",
            "   - Sign the final paperwork at the closing table\n",
            "   - Transfer the funds to the seller\n",
            "   - Receive the keys to your new home\n",
            "\n",
            "9. Move in:\n",
            "   - Hire movers or rent a truck to transport your belongings\n",
            "   - Change your address with the post office and utility companies\n",
            "   - Set up any necessary services such as internet, cable, and phone\n",
            "\n",
            "10. Celebrate:\n",
            "    - Enjoy your new home and the sense of accomplishment that comes with homeownership.\n"
          ]
        }
      ]
    },
    {
      "cell_type": "code",
      "source": [
        "output = query(payload={\n",
        "                \"inputs\": prompt,\n",
        "                \"parameters\": gemma_params\n",
        "                },\n",
        "                MODEL_API_URL=GEMMA2B_IT_API_URL)\n",
        "\n",
        "print(output[0]['generated_text'])"
      ],
      "metadata": {
        "id": "A8uSCZAseYLt",
        "colab": {
          "base_uri": "https://localhost:8080/"
        },
        "outputId": "ac528f41-ccfa-4f75-9272-dc1c8504d521"
      },
      "execution_count": null,
      "outputs": [
        {
          "output_type": "stream",
          "name": "stdout",
          "text": [
            "API Response: <Response [200]>\n",
            "**Step 1: Assess Your Financial Situation**\n",
            "\n",
            "- Determine your budget and savings.\n",
            "- Calculate your monthly mortgage payments, down payment, and closing costs.\n",
            "- Evaluate your credit score and potential for pre-approval.\n",
            "\n",
            "\n",
            "**Step 2: Research and Identify Potential Locations**\n",
            "\n",
            "- Research neighborhoods and communities that align with your lifestyle and preferences.\n",
            "- Consider factors like safety, schools, transportation, and access to amenities.\n",
            "\n",
            "\n",
            "**Step 3: Explore Housing Options**\n",
            "\n",
            "- Visit different real estate websites and explore listings.\n",
            "- Attend open houses and virtual tours to get a firsthand experience.\n",
            "- Consider different property types, such as single-family homes, condos, or townhouses.\n",
            "\n",
            "\n",
            "**Step 4: Select a Location and Neighborhood**\n",
            "\n",
            "- Narrow down your choices based on your research.\n",
            "- Consider factors like commute times, access to work, and proximity to desired amenities.\n",
            "\n",
            "\n",
            "**Step 5: Determine House Features and Amenities**\n",
            "\n",
            "- Identify essential features like bedrooms, bathrooms, kitchen, and outdoor space.\n",
            "- Consider additional amenities like swimming pools, fitness centers, and playgrounds.\n",
            "\n",
            "\n",
            "**Step 6: Research Market Trends and Competition**\n",
            "\n",
            "- Gather information about the current market value of similar properties in the area.\n",
            "- Analyze the level of competition in the neighborhood.\n",
            "\n",
            "\n",
            "**Step 7: Make an Offer**\n",
            "\n",
            "- Calculate your total purchase price, including down payment, closing costs, and potential upgrades.\n",
            "- Prepare a written offer that includes the purchase price, property details, and contingencies.\n",
            "\n",
            "\n",
            "**Step 8: Negotiate and Accept an Offer**\n",
            "\n",
            "- Discuss the terms of the offer with the seller's agent.\n",
            "- Negotiate any necessary adjustments or contingencies.\n",
            "- Review all legal documents and signatures.\n",
            "\n",
            "\n",
            "**Step 9: Secure Financing**\n",
            "\n",
            "- Research and compare mortgage lenders to secure the best interest rate and terms.\n",
            "- Provide necessary documentation, such as proof of income and assets.\n",
            "\n",
            "\n",
            "**Step 10: Conduct Due Diligence**\n",
            "\n",
            "- Verify property ownership, title, and zoning regulations.\n",
            "- Conduct a home inspection to identify any potential issues.\n",
            "- Obtain necessary permits and approvals.\n",
            "\n",
            "\n",
            "**Step 11: Finalize the Purchase**\n",
            "\n",
            "- Sign all legal documents and pay closing costs.\n",
            "- Receive the keys to your new home.\n"
          ]
        }
      ]
    },
    {
      "cell_type": "markdown",
      "source": [
        "### 6. Context-based QA"
      ],
      "metadata": {
        "id": "NA4nG9vSX_rL"
      }
    },
    {
      "cell_type": "code",
      "source": [
        "report = \"\"\"\n",
        "Three quarters (77%) of the population saw an increase in their regular outgoings over the past year,\n",
        "according to findings from our recent consumer survey. In contrast, just over half (54%) of respondents\n",
        "had an increase in their salary, which suggests that the burden of costs outweighing income remains for\n",
        "most. In total, across the 2,500 people surveyed, the increase in outgoings was 18%, three times higher\n",
        "than the 6% increase in income.\n",
        "\n",
        "Despite this, the findings of our survey suggest we have reached a plateau. Looking at savings,\n",
        "for example, the share of people who expect to make regular savings this year is just over 70%,\n",
        "broadly similar to last year. Over half of those saving plan to use some of the funds for residential\n",
        "property. A third are saving for a deposit, and a further 20% for an investment property or second home.\n",
        "\n",
        "But for some, their plans are being pushed back. 9% of respondents stated they had planned to purchase\n",
        "a new home this year but have now changed their mind. While for many the deposit may be an issue,\n",
        "the other driving factor remains the cost of the mortgage, which has been steadily rising the last\n",
        "few years. For those that currently own a property, the survey showed that in the last year,\n",
        "the average mortgage payment has increased from £668.51 to £748.94, or 12%.\"\"\"\n"
      ],
      "metadata": {
        "id": "P-BIuyQLXzyM"
      },
      "execution_count": null,
      "outputs": []
    },
    {
      "cell_type": "code",
      "source": [
        "question = \"\"\"\n",
        "How much has the average mortage payment increased in the last year?\n",
        "\"\"\"\n",
        "\n",
        "prompt = f\"\"\"\n",
        "Using the following context information below please answer the following question\n",
        "to the best of your ability\n",
        "Context:\n",
        "{report}\n",
        "Question:\n",
        "{question}\n",
        "\"\"\""
      ],
      "metadata": {
        "id": "oM3flWlJZScR"
      },
      "execution_count": null,
      "outputs": []
    },
    {
      "cell_type": "code",
      "source": [
        "output = query(payload={\n",
        "                \"inputs\": prompt,\n",
        "                \"parameters\": mistral_params\n",
        "                },\n",
        "                MODEL_API_URL=MISTRAL7B_API_URL)\n",
        "\n",
        "print(output[0]['generated_text'])"
      ],
      "metadata": {
        "id": "BLEi5T7a3fAy",
        "colab": {
          "base_uri": "https://localhost:8080/"
        },
        "outputId": "525c5a5c-6be1-4a1c-d89a-662bb8f510be"
      },
      "execution_count": null,
      "outputs": [
        {
          "output_type": "stream",
          "name": "stdout",
          "text": [
            "API Response: <Response [200]>\n",
            "Answer:\n",
            "\n",
            "The average mortgage payment has increased by 12% in the last year, from £668.51 to £748.94.\n"
          ]
        }
      ]
    },
    {
      "cell_type": "code",
      "source": [
        "output = query(payload={\n",
        "                \"inputs\": prompt,\n",
        "                \"parameters\": gemma_params\n",
        "                },\n",
        "                MODEL_API_URL=GEMMA2B_IT_API_URL)\n",
        "\n",
        "print(output[0]['generated_text'])"
      ],
      "metadata": {
        "id": "qxKRVM0j3ZJs",
        "colab": {
          "base_uri": "https://localhost:8080/"
        },
        "outputId": "382a7282-640a-4bc3-e98f-c4f42e44d72c"
      },
      "execution_count": null,
      "outputs": [
        {
          "output_type": "stream",
          "name": "stdout",
          "text": [
            "API Response: <Response [200]>\n",
            "Answer:\n",
            "\n",
            "The average mortgage payment has increased from £668.51 to £748.94, or 12%.\n"
          ]
        }
      ]
    },
    {
      "cell_type": "code",
      "source": [
        "question = \"\"\"\n",
        "What percentage of people had an increase in salary last year? Show the answer just as a number.\n",
        "\"\"\"\n",
        "\n",
        "prompt = f\"\"\"\n",
        "Using the following context information below please answer the following question\n",
        "to the best of your ability\n",
        "Context:\n",
        "{report}\n",
        "Question:\n",
        "{question}\n",
        "\"\"\""
      ],
      "metadata": {
        "id": "UWZRtYCY3bXX"
      },
      "execution_count": null,
      "outputs": []
    },
    {
      "cell_type": "code",
      "source": [
        "output = query(payload={\n",
        "                \"inputs\": prompt,\n",
        "                \"parameters\": mistral_params\n",
        "                },\n",
        "                MODEL_API_URL=MISTRAL7B_API_URL)\n",
        "\n",
        "print(output[0]['generated_text'])"
      ],
      "metadata": {
        "id": "YkvqnQad3gfg"
      },
      "execution_count": null,
      "outputs": []
    },
    {
      "cell_type": "code",
      "source": [
        "output = query(payload={\n",
        "                \"inputs\": prompt,\n",
        "                \"parameters\": gemma_params\n",
        "                },\n",
        "                MODEL_API_URL=GEMMA2B_IT_API_URL)\n",
        "\n",
        "print(output[0]['generated_text'])"
      ],
      "metadata": {
        "id": "HsyxCG3w3ie7"
      },
      "execution_count": null,
      "outputs": []
    }
  ]
}